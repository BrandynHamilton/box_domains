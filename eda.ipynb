{
 "cells": [
  {
   "cell_type": "markdown",
   "metadata": {},
   "source": [
    "***Can only retrieve up to 1000 data points from Flipside API***"
   ]
  },
  {
   "cell_type": "code",
   "execution_count": 201,
   "metadata": {},
   "outputs": [],
   "source": [
    "import pandas as pd\n",
    "import numpy as np \n",
    "import requests\n",
    "import json\n",
    "import time\n",
    "from flipside import Flipside\n",
    "import os\n",
    "import traceback\n",
    "from dotenv import load_dotenv\n",
    "import datetime as dt\n",
    "import plotly.express as px\n",
    "from sklearn.model_selection import train_test_split, GridSearchCV\n",
    "from sklearn.linear_model import Ridge\n",
    "from sklearn.metrics import mean_absolute_error, mean_squared_error, r2_score\n",
    "from sklearn.preprocessing import OneHotEncoder, StandardScaler\n",
    "from sklearn.compose import ColumnTransformer\n",
    "from sklearn.pipeline import Pipeline\n",
    "from sklearn.ensemble import RandomForestRegressor\n",
    "from sklearn.impute import SimpleImputer\n",
    "from xgboost import XGBRegressor\n",
    "from lightgbm import LGBMRegressor\n",
    "from catboost import CatBoostRegressor\n",
    "\n",
    "\n",
    "\n",
    "from sql.sql_scripts import mints, sales, eth_price"
   ]
  },
  {
   "cell_type": "code",
   "execution_count": 13,
   "metadata": {},
   "outputs": [
    {
     "data": {
      "text/plain": [
       "True"
      ]
     },
     "execution_count": 13,
     "metadata": {},
     "output_type": "execute_result"
    }
   ],
   "source": [
    "load_dotenv()"
   ]
  },
  {
   "cell_type": "code",
   "execution_count": 14,
   "metadata": {},
   "outputs": [
    {
     "name": "stdout",
     "output_type": "stream",
     "text": [
      "c0c9ef9df89042059cee12e5ca9197e9\n"
     ]
    }
   ],
   "source": [
    "opensea_api_key = os.getenv('opensea_api_key')\n",
    "print(opensea_api_key)"
   ]
  },
  {
   "cell_type": "markdown",
   "metadata": {},
   "source": [
    "***Listing Data***"
   ]
  },
  {
   "cell_type": "code",
   "execution_count": 15,
   "metadata": {},
   "outputs": [],
   "source": [
    "def fetch_listings(api_key, delay_between_requests=1):\n",
    "    base_url = \"https://api.opensea.io/api/v2/listings/collection/3dns-powered-domains/all\"\n",
    "    headers = {\n",
    "        \"accept\": \"application/json\",\n",
    "        \"x-api-key\": api_key\n",
    "    }\n",
    "    params = {\"limit\": 100} \n",
    "\n",
    "    listings = []\n",
    "    page_count = 0\n",
    "\n",
    "    while True:\n",
    "        response = requests.get(base_url, headers=headers, params=params)\n",
    "        if response.status_code == 200:\n",
    "            data = response.json()\n",
    "            fetched_listings = data.get(\"listings\", [])\n",
    "            listings.extend(fetched_listings)\n",
    "            page_count += 1\n",
    "            \n",
    "            # Extract and print the cursor\n",
    "            next_cursor = data.get(\"next\")\n",
    "            print(f\"Page {page_count}, Cursor: {next_cursor}, Listings Fetched: {len(fetched_listings)}\")\n",
    "            \n",
    "            if next_cursor:\n",
    "                params['next'] = next_cursor  # Update the 'next' parameter for the next request\n",
    "            else:\n",
    "                break  # No more pages to fetch\n",
    "                \n",
    "            # Implementing delay\n",
    "            time.sleep(delay_between_requests)\n",
    "            \n",
    "        else:\n",
    "            print(f\"Failed to fetch data: {response.status_code}\")\n",
    "            break\n",
    "\n",
    "    print(f\"Total pages fetched: {page_count}\")\n",
    "    print(f\"Total listings fetched: {len(listings)}\")\n",
    "    \n",
    "    df = pd.DataFrame(listings)\n",
    "    return df"
   ]
  },
  {
   "cell_type": "markdown",
   "metadata": {},
   "source": [
    "***Descriptions***"
   ]
  },
  {
   "cell_type": "code",
   "execution_count": 16,
   "metadata": {},
   "outputs": [],
   "source": [
    "def save_last_identifier(identifier):\n",
    "    with open(\"last_identifier.txt\", \"w\") as file:\n",
    "        file.write(identifier)\n",
    "\n",
    "def load_last_identifier():\n",
    "    try:\n",
    "        with open(\"last_identifier.txt\", \"r\") as file:\n",
    "            return file.read().strip()\n",
    "    except FileNotFoundError:\n",
    "        return None"
   ]
  },
  {
   "cell_type": "code",
   "execution_count": 17,
   "metadata": {},
   "outputs": [],
   "source": [
    "def fetch_all_descriptions(api_key, delay_between_requests=1):\n",
    "    base_url = \"https://api.opensea.io/api/v2/collection/3dns-powered-domains/nfts\"\n",
    "    headers = {\n",
    "        \"accept\": \"application/json\",\n",
    "        \"x-api-key\": api_key\n",
    "    }\n",
    "    params = {\"limit\": 100}\n",
    "\n",
    "    all_descriptions = []\n",
    "\n",
    "    page_count = 0\n",
    "    last_identifier = load_last_identifier()\n",
    "\n",
    "    while True:\n",
    "        if last_identifier:\n",
    "            params['last_identifier'] = last_identifier\n",
    "\n",
    "        response = requests.get(base_url, headers=headers, params=params)\n",
    "        if response.status_code == 200:\n",
    "            data = response.json()\n",
    "            fetched_descriptions = data.get(\"nfts\", [])\n",
    "            \n",
    "            if not fetched_descriptions:\n",
    "                break\n",
    "\n",
    "            # Process only name and identifier for each description\n",
    "            for description in fetched_descriptions:\n",
    "                processed_description = {\n",
    "                    \"name\": description.get('name'),\n",
    "                    \"identifier\": description.get('identifier')\n",
    "                }\n",
    "                all_descriptions.append(processed_description)\n",
    "            \n",
    "            # Update the last_identifier to the latest one fetched\n",
    "            last_identifier = fetched_descriptions[-1].get('identifier')\n",
    "            save_last_identifier(last_identifier)\n",
    "            \n",
    "            page_count += 1\n",
    "            next_cursor = data.get(\"next\")\n",
    "            print(f\"Page {page_count}, Cursor: {next_cursor} Descriptions Fetched: {len(fetched_descriptions)}, total fetched: {len(all_descriptions)}\")\n",
    "            \n",
    "            if next_cursor:\n",
    "                params['next'] = next_cursor\n",
    "            else:\n",
    "                break  # No more pages to fetch\n",
    "\n",
    "            time.sleep(delay_between_requests)\n",
    "        else:\n",
    "            print(f\"Failed to fetch data: {response.status_code}\")\n",
    "            break\n",
    "\n",
    "    print(f\"Total pages fetched: {page_count}, Total descriptions fetched: {len(all_descriptions)}\")\n",
    "    \n",
    "    # Save the processed descriptions to a file\n",
    "    df = pd.DataFrame(all_descriptions)\n",
    "    return df"
   ]
  },
  {
   "cell_type": "markdown",
   "metadata": {},
   "source": [
    "***Events***"
   ]
  },
  {
   "cell_type": "code",
   "execution_count": 18,
   "metadata": {},
   "outputs": [],
   "source": [
    "import json\n",
    "import os\n",
    "\n",
    "def save_last_timestamp(event_type, timestamp):\n",
    "    data = {}\n",
    "    if os.path.exists(\"last_timestamps.json\"):\n",
    "        with open(\"last_timestamps.json\", \"r\") as file:\n",
    "            data = json.load(file)\n",
    "    data[event_type] = timestamp\n",
    "    with open(\"last_timestamps.json\", \"w\") as file:\n",
    "        json.dump(data, file)\n",
    "\n",
    "def load_last_timestamp(event_type):\n",
    "    if os.path.exists(\"last_timestamps.json\"):\n",
    "        with open(\"last_timestamps.json\", \"r\") as file:\n",
    "            data = json.load(file)\n",
    "        return data.get(event_type, None)\n",
    "    return None"
   ]
  },
  {
   "cell_type": "code",
   "execution_count": 19,
   "metadata": {},
   "outputs": [],
   "source": [
    "def fetch_event_type(api_key, event_type, all_events, params, headers):\n",
    "    base_url = f\"https://api.opensea.io/api/v2/events/collection/3dns-powered-domains\"\n",
    "    params['event_type'] = event_type\n",
    "    \n",
    "    # Load the last timestamp/identifier\n",
    "    last_timestamp = load_last_timestamp(event_type)\n",
    "    if last_timestamp:\n",
    "        params['occurred_after'] = last_timestamp\n",
    "    \n",
    "    page_count = 0\n",
    "    while True:\n",
    "        response = requests.get(base_url, headers=headers, params=params)\n",
    "        if response.status_code == 200:\n",
    "            data = response.json()\n",
    "            fetched_events = data.get(\"asset_events\", [])\n",
    "            all_events.extend(fetched_events)\n",
    "            \n",
    "            if fetched_events:\n",
    "                # Update the last timestamp/identifier to the latest one fetched\n",
    "                last_event_time = fetched_events[-1].get(\"created_date\")\n",
    "                save_last_timestamp(event_type, last_event_time)\n",
    "            \n",
    "            page_count += 1\n",
    "            next_cursor = data.get(\"next\")\n",
    "            print(f\"Fetching {event_type}: Page {page_count}, Events Fetched: {len(fetched_events)}, Total Events: {len(all_events)}, next cursor: {next_cursor}\")\n",
    "            \n",
    "            if next_cursor:\n",
    "                params['next'] = next_cursor\n",
    "            else:\n",
    "                break  # No more pages to fetch\n",
    "\n",
    "            time.sleep(1)  # Delay between requests\n",
    "        else:\n",
    "            print(f\"Failed to fetch {event_type} data: HTTP {response.status_code}, Response: {response.text}\")\n",
    "            break\n",
    "\n",
    "def fetch_all_events(api_key):\n",
    "    headers = {\n",
    "        \"accept\": \"application/json\",\n",
    "        \"x-api-key\": api_key\n",
    "    }\n",
    "    params = {\n",
    "        \"limit\": 50  # Adjust the limit as needed\n",
    "    }\n",
    "\n",
    "    all_events = []\n",
    "\n",
    "    # Fetch listings\n",
    "    fetch_event_type(api_key, \"listing\", all_events, params.copy(), headers)\n",
    "\n",
    "    # Fetch sales\n",
    "    fetch_event_type(api_key, \"sale\", all_events, params.copy(), headers)\n",
    "\n",
    "    # Save the fetched events to a DataFrame\n",
    "    print(f\"Total events fetched: {len(all_events)}\")\n",
    "    df = pd.DataFrame(all_events)\n",
    "    return df "
   ]
  },
  {
   "cell_type": "markdown",
   "metadata": {},
   "source": [
    "***Flipside Data***"
   ]
  },
  {
   "cell_type": "code",
   "execution_count": 20,
   "metadata": {},
   "outputs": [],
   "source": [
    "flipside_api_key = os.getenv(\"FLIPSIDE_API_KEY\")\n",
    "flipside = Flipside(flipside_api_key, \"https://api-v2.flipsidecrypto.xyz\")"
   ]
  },
  {
   "cell_type": "code",
   "execution_count": 21,
   "metadata": {},
   "outputs": [],
   "source": [
    "def flipside_api_results(query):\n",
    "  query_result_set = flipside.query(query)\n",
    "  # what page are we starting on?\n",
    "  current_page_number = 1\n",
    "\n",
    "  # How many records do we want to return in the page?\n",
    "  page_size = 1000\n",
    "\n",
    "  # set total pages to 1 higher than the `current_page_number` until\n",
    "  # we receive the total pages from `get_query_results` given the \n",
    "  # provided `page_size` (total_pages is dynamically determined by the API \n",
    "  # based on the `page_size` you provide)\n",
    "\n",
    "  total_pages = 2\n",
    "\n",
    "\n",
    "  # we'll store all the page results in `all_rows`\n",
    "  all_rows = []\n",
    "\n",
    "  while current_page_number <= total_pages:\n",
    "    results = flipside.get_query_results(\n",
    "      query_result_set.query_id,\n",
    "      page_number=current_page_number,\n",
    "      page_size=page_size\n",
    "    )\n",
    "\n",
    "    total_pages = results.page.totalPages\n",
    "    if results.records:\n",
    "        all_rows = all_rows + results.records\n",
    "    \n",
    "    current_page_number += 1\n",
    "\n",
    "  return pd.DataFrame(all_rows)"
   ]
  },
  {
   "cell_type": "markdown",
   "metadata": {},
   "source": [
    "query_result_set = flipside.query(sales)"
   ]
  },
  {
   "cell_type": "markdown",
   "metadata": {},
   "source": [
    "# what page are we starting on?\n",
    "current_page_number = 1\n",
    "\n",
    "# How many records do we want to return in the page?\n",
    "page_size = 1000\n",
    "\n",
    "# set total pages to 1 higher than the `current_page_number` until\n",
    "# we receive the total pages from `get_query_results` given the \n",
    "# provided `page_size` (total_pages is dynamically determined by the API \n",
    "# based on the `page_size` you provide)\n",
    "total_pages = 2\n",
    "\n",
    "# we'll store all the page results in `all_rows`\n",
    "all_rows = []\n",
    "\n",
    "while current_page_number <= total_pages:\n",
    "  results = flipside.get_query_results(\n",
    "    query_result_set.query_id,\n",
    "    page_number=current_page_number,\n",
    "    page_size=page_size\n",
    "  )\n",
    "\n",
    "  total_pages = results.page.totalPages\n",
    "  if results.records:\n",
    "      all_rows = all_rows + results.records\n",
    "  \n",
    "  current_page_number += 1"
   ]
  },
  {
   "cell_type": "markdown",
   "metadata": {},
   "source": [
    "mints_df = pd.DataFrame(all_rows)"
   ]
  },
  {
   "cell_type": "markdown",
   "metadata": {},
   "source": [
    "\n",
    "\n",
    "def createQueryRun(sql):\n",
    "    url = \"https://api-v2.flipsidecrypto.xyz/json-rpc\"\n",
    "    payload = json.dumps({\n",
    "        \"jsonrpc\": \"2.0\",\n",
    "        \"method\": \"createQueryRun\",\n",
    "        \"params\": [{\n",
    "            \"resultTTLHours\": 1,\n",
    "            \"maxAgeMinutes\": 0,\n",
    "            \"sql\": sql,\n",
    "            \"tags\": {\"source\": \"streamlit-demo\", \"env\": \"test\"},\n",
    "            \"dataSource\": \"snowflake-default\",\n",
    "            \"dataProvider\": \"flipside\"\n",
    "        }],\n",
    "        \"id\": 1\n",
    "    })\n",
    "    headers = {'Content-Type': 'application/json', 'x-api-key': flipside_api_key}\n",
    "    response = requests.post(url, headers=headers, data=payload)\n",
    "    response_data = response.json()\n",
    "\n",
    "    # Check for errors in the response\n",
    "    if 'error' in response_data:\n",
    "        error_message = response_data['error'].get('message', 'No error message provided')\n",
    "        print(\"Full response data for debugging:\", response_data)\n",
    "        raise Exception(f\"Error: {error_message}\")\n",
    "\n",
    "    if 'result' not in response_data or 'queryRun' not in response_data['result'] or 'id' not in response_data['result']['queryRun']:\n",
    "        print(\"Unexpected response structure:\", response_data)\n",
    "        raise Exception(\"Unexpected response structure\")\n",
    "\n",
    "    query_run_id = response_data['result']['queryRun']['id']\n",
    "    return response_data, query_run_id\n",
    "\n",
    "#@st.cache_data(ttl='15m')\n",
    "def getQueryResults(query_run_id, attempts=10, delay=30):\n",
    "    url = \"https://api-v2.flipsidecrypto.xyz/json-rpc\"\n",
    "    payload = json.dumps({\n",
    "        \"jsonrpc\": \"2.0\",\n",
    "        \"method\": \"getQueryRunResults\",\n",
    "        \"params\": [{\"queryRunId\": query_run_id, \"format\": \"json\", \"page\": {\"number\": 1, \"size\": 10000}}],\n",
    "        \"id\": 1\n",
    "    })\n",
    "    headers = {'Content-Type': 'application/json', 'x-api-key': flipside_api_key}\n",
    "\n",
    "    for attempt in range(attempts):\n",
    "        response = requests.post(url, headers=headers, data=payload)\n",
    "        resp_json = response.json()\n",
    "        if 'result' in resp_json:\n",
    "            return resp_json  # Data is ready\n",
    "        elif 'error' in resp_json and 'message' in resp_json['error'] and 'not yet completed' in resp_json['error']['message']:\n",
    "            time.sleep(delay)  # Wait for a bit before retrying\n",
    "        else:\n",
    "            print(\"Unexpected response or error:\", resp_json)\n",
    "            break  # Break on unexpected error\n",
    "    return None  # Return None if data isn't ready after all attempts\n"
   ]
  },
  {
   "cell_type": "markdown",
   "metadata": {},
   "source": [
    "def retrieve_flipside_data(query):\n",
    "    try:\n",
    "        response_data, q_id = createQueryRun(query)\n",
    "        if q_id:\n",
    "            df_json = getQueryResults(q_id)\n",
    "            if df_json:\n",
    "                df = pd.DataFrame(df_json['result']['rows'])\n",
    "                print(f\"data fetched: {df.head()}\")\n",
    "                return df\n",
    "            else:\n",
    "                print('Failed to get results')\n",
    "        else:\n",
    "            print('Failed to create query run')\n",
    "    except Exception as e:\n",
    "        print(f\"Error in fetching data: {e}\")\n",
    "        traceback.print_exc()\n",
    "    "
   ]
  },
  {
   "cell_type": "markdown",
   "metadata": {},
   "source": [
    "***Data Retrieval/Processing***"
   ]
  },
  {
   "cell_type": "code",
   "execution_count": 22,
   "metadata": {},
   "outputs": [],
   "source": [
    "mint_df = flipside_api_results(mints)"
   ]
  },
  {
   "cell_type": "code",
   "execution_count": 23,
   "metadata": {},
   "outputs": [
    {
     "data": {
      "text/html": [
       "<div>\n",
       "<style scoped>\n",
       "    .dataframe tbody tr th:only-of-type {\n",
       "        vertical-align: middle;\n",
       "    }\n",
       "\n",
       "    .dataframe tbody tr th {\n",
       "        vertical-align: top;\n",
       "    }\n",
       "\n",
       "    .dataframe thead th {\n",
       "        text-align: right;\n",
       "    }\n",
       "</style>\n",
       "<table border=\"1\" class=\"dataframe\">\n",
       "  <thead>\n",
       "    <tr style=\"text-align: right;\">\n",
       "      <th></th>\n",
       "      <th>day</th>\n",
       "      <th>tokenid</th>\n",
       "      <th>tx_hash</th>\n",
       "      <th>__row_index</th>\n",
       "    </tr>\n",
       "  </thead>\n",
       "  <tbody>\n",
       "    <tr>\n",
       "      <th>0</th>\n",
       "      <td>2024-07-05T20:00:00.000Z</td>\n",
       "      <td>8.985197e+76</td>\n",
       "      <td>0x23a609ddf25089081798088ca8c5714be7b76d58ebf5...</td>\n",
       "      <td>0</td>\n",
       "    </tr>\n",
       "    <tr>\n",
       "      <th>1</th>\n",
       "      <td>2024-07-05T20:00:00.000Z</td>\n",
       "      <td>8.985197e+76</td>\n",
       "      <td>0x23a609ddf25089081798088ca8c5714be7b76d58ebf5...</td>\n",
       "      <td>1</td>\n",
       "    </tr>\n",
       "    <tr>\n",
       "      <th>2</th>\n",
       "      <td>2024-07-05T20:00:00.000Z</td>\n",
       "      <td>6.778101e+76</td>\n",
       "      <td>0xe8c87f0320802853e22ead69cef537c3fa80d5b9370c...</td>\n",
       "      <td>2</td>\n",
       "    </tr>\n",
       "    <tr>\n",
       "      <th>3</th>\n",
       "      <td>2024-07-05T20:00:00.000Z</td>\n",
       "      <td>6.778101e+76</td>\n",
       "      <td>0xe8c87f0320802853e22ead69cef537c3fa80d5b9370c...</td>\n",
       "      <td>3</td>\n",
       "    </tr>\n",
       "    <tr>\n",
       "      <th>4</th>\n",
       "      <td>2024-07-05T16:00:00.000Z</td>\n",
       "      <td>1.013928e+77</td>\n",
       "      <td>0x388ad6ef8ededcf3b310ddbf8c84ccaa2e835afd4b7a...</td>\n",
       "      <td>4</td>\n",
       "    </tr>\n",
       "    <tr>\n",
       "      <th>...</th>\n",
       "      <td>...</td>\n",
       "      <td>...</td>\n",
       "      <td>...</td>\n",
       "      <td>...</td>\n",
       "    </tr>\n",
       "    <tr>\n",
       "      <th>32667</th>\n",
       "      <td>2023-10-04T02:00:00.000Z</td>\n",
       "      <td>7.307980e+76</td>\n",
       "      <td>0x981dd9c93e0419a227128b7ee95c620e7dbc88fe92e8...</td>\n",
       "      <td>32667</td>\n",
       "    </tr>\n",
       "    <tr>\n",
       "      <th>32668</th>\n",
       "      <td>2023-10-04T02:00:00.000Z</td>\n",
       "      <td>9.704968e+76</td>\n",
       "      <td>0xd7ece008b97cad61f02396def394751c3fa9a4c2844a...</td>\n",
       "      <td>32668</td>\n",
       "    </tr>\n",
       "    <tr>\n",
       "      <th>32669</th>\n",
       "      <td>2023-10-04T02:00:00.000Z</td>\n",
       "      <td>9.704968e+76</td>\n",
       "      <td>0xd7ece008b97cad61f02396def394751c3fa9a4c2844a...</td>\n",
       "      <td>32669</td>\n",
       "    </tr>\n",
       "    <tr>\n",
       "      <th>32670</th>\n",
       "      <td>2023-10-04T02:00:00.000Z</td>\n",
       "      <td>7.787567e+76</td>\n",
       "      <td>0x64f70f46174e15001ff109ce325f9d0e0d7a571a22ed...</td>\n",
       "      <td>32670</td>\n",
       "    </tr>\n",
       "    <tr>\n",
       "      <th>32671</th>\n",
       "      <td>2023-10-04T02:00:00.000Z</td>\n",
       "      <td>7.787567e+76</td>\n",
       "      <td>0x64f70f46174e15001ff109ce325f9d0e0d7a571a22ed...</td>\n",
       "      <td>32671</td>\n",
       "    </tr>\n",
       "  </tbody>\n",
       "</table>\n",
       "<p>32672 rows × 4 columns</p>\n",
       "</div>"
      ],
      "text/plain": [
       "                            day       tokenid  \\\n",
       "0      2024-07-05T20:00:00.000Z  8.985197e+76   \n",
       "1      2024-07-05T20:00:00.000Z  8.985197e+76   \n",
       "2      2024-07-05T20:00:00.000Z  6.778101e+76   \n",
       "3      2024-07-05T20:00:00.000Z  6.778101e+76   \n",
       "4      2024-07-05T16:00:00.000Z  1.013928e+77   \n",
       "...                         ...           ...   \n",
       "32667  2023-10-04T02:00:00.000Z  7.307980e+76   \n",
       "32668  2023-10-04T02:00:00.000Z  9.704968e+76   \n",
       "32669  2023-10-04T02:00:00.000Z  9.704968e+76   \n",
       "32670  2023-10-04T02:00:00.000Z  7.787567e+76   \n",
       "32671  2023-10-04T02:00:00.000Z  7.787567e+76   \n",
       "\n",
       "                                                 tx_hash  __row_index  \n",
       "0      0x23a609ddf25089081798088ca8c5714be7b76d58ebf5...            0  \n",
       "1      0x23a609ddf25089081798088ca8c5714be7b76d58ebf5...            1  \n",
       "2      0xe8c87f0320802853e22ead69cef537c3fa80d5b9370c...            2  \n",
       "3      0xe8c87f0320802853e22ead69cef537c3fa80d5b9370c...            3  \n",
       "4      0x388ad6ef8ededcf3b310ddbf8c84ccaa2e835afd4b7a...            4  \n",
       "...                                                  ...          ...  \n",
       "32667  0x981dd9c93e0419a227128b7ee95c620e7dbc88fe92e8...        32667  \n",
       "32668  0xd7ece008b97cad61f02396def394751c3fa9a4c2844a...        32668  \n",
       "32669  0xd7ece008b97cad61f02396def394751c3fa9a4c2844a...        32669  \n",
       "32670  0x64f70f46174e15001ff109ce325f9d0e0d7a571a22ed...        32670  \n",
       "32671  0x64f70f46174e15001ff109ce325f9d0e0d7a571a22ed...        32671  \n",
       "\n",
       "[32672 rows x 4 columns]"
      ]
     },
     "execution_count": 23,
     "metadata": {},
     "output_type": "execute_result"
    }
   ],
   "source": [
    "mint_df"
   ]
  },
  {
   "cell_type": "code",
   "execution_count": 24,
   "metadata": {},
   "outputs": [],
   "source": [
    "sales_df = flipside_api_results(sales)"
   ]
  },
  {
   "cell_type": "code",
   "execution_count": 25,
   "metadata": {},
   "outputs": [],
   "source": [
    "eth_usd_df = flipside_api_results(eth_price)"
   ]
  },
  {
   "cell_type": "code",
   "execution_count": 26,
   "metadata": {},
   "outputs": [
    {
     "name": "stdout",
     "output_type": "stream",
     "text": [
      "Fetching listing: Page 1, Events Fetched: 50, Total Events: 50, next cursor: LWV2ZW50X3RpbWVzdGFtcD0yMDI0LTA2LTI5KzIxJTNBMzQlM0ExNC45ODMyNTcmLWV2ZW50X3R5cGU9Y3JlYXRlZCYtcGs9MjM4OTI3NTQ1NDM=\n",
      "Fetching listing: Page 2, Events Fetched: 50, Total Events: 100, next cursor: LWV2ZW50X3RpbWVzdGFtcD0yMDI0LTA2LTI0KzE4JTNBMTIlM0EwMi4xMDU5OTAmLWV2ZW50X3R5cGU9Y3JlYXRlZCYtcGs9MjM3NTA4MjcxNDk=\n",
      "Fetching listing: Page 3, Events Fetched: 50, Total Events: 150, next cursor: LWV2ZW50X3RpbWVzdGFtcD0yMDI0LTA2LTIyKzE0JTNBNDklM0EwMC4yMTY2NTAmLWV2ZW50X3R5cGU9Y3JlYXRlZCYtcGs9MjM2ODg4MzE0NjY=\n",
      "Fetching listing: Page 4, Events Fetched: 50, Total Events: 200, next cursor: LWV2ZW50X3RpbWVzdGFtcD0yMDI0LTA2LTIyKzAwJTNBMjclM0E1NC4yOTAwNjUmLWV2ZW50X3R5cGU9Y3JlYXRlZCYtcGs9MjM2NzIzNDE0NTg=\n",
      "Fetching listing: Page 5, Events Fetched: 50, Total Events: 250, next cursor: LWV2ZW50X3RpbWVzdGFtcD0yMDI0LTA2LTE4KzA3JTNBMjklM0EzNS41MjcwNjEmLWV2ZW50X3R5cGU9Y3JlYXRlZCYtcGs9MjM1NzUxMTQ5NjU=\n",
      "Fetching listing: Page 6, Events Fetched: 50, Total Events: 300, next cursor: LWV2ZW50X3RpbWVzdGFtcD0yMDI0LTA2LTEzKzEzJTNBMDIlM0EzNS42ODY4ODcmLWV2ZW50X3R5cGU9Y3JlYXRlZCYtcGs9MjM0MzI1MTA4NTU=\n",
      "Fetching listing: Page 7, Events Fetched: 50, Total Events: 350, next cursor: LWV2ZW50X3RpbWVzdGFtcD0yMDI0LTA2LTExKzAyJTNBNDQlM0EzOS42NzU2MTImLWV2ZW50X3R5cGU9Y3JlYXRlZCYtcGs9MjMzNjA4ODg1NTk=\n",
      "Fetching listing: Page 8, Events Fetched: 50, Total Events: 400, next cursor: LWV2ZW50X3RpbWVzdGFtcD0yMDI0LTA2LTA3KzA0JTNBMjElM0E0OS4yNDQyNjMmLWV2ZW50X3R5cGU9Y3JlYXRlZCYtcGs9MjMyNDA5MzUyMDk=\n",
      "Fetching listing: Page 9, Events Fetched: 50, Total Events: 450, next cursor: LWV2ZW50X3RpbWVzdGFtcD0yMDI0LTA2LTAzKzA1JTNBMjElM0EzMi41ODEzMDYmLWV2ZW50X3R5cGU9Y3JlYXRlZCYtcGs9MjMxMTkwNDk3Njg=\n",
      "Fetching listing: Page 10, Events Fetched: 50, Total Events: 500, next cursor: LWV2ZW50X3RpbWVzdGFtcD0yMDI0LTA1LTI5KzEyJTNBMjclM0EwNC43MjM5NjkmLWV2ZW50X3R5cGU9Y3JlYXRlZCYtcGs9MjI5OTc1ODc1NDc=\n",
      "Fetching listing: Page 11, Events Fetched: 50, Total Events: 550, next cursor: LWV2ZW50X3RpbWVzdGFtcD0yMDI0LTA1LTI3KzEwJTNBMDAlM0ExNC4zNjg2MzUmLWV2ZW50X3R5cGU9Y3JlYXRlZCYtcGs9MjI5NDM1MDExMzc=\n",
      "Fetching listing: Page 12, Events Fetched: 50, Total Events: 600, next cursor: LWV2ZW50X3RpbWVzdGFtcD0yMDI0LTA1LTIzKzE3JTNBMDklM0E1NC43OTE1MzYmLWV2ZW50X3R5cGU9Y3JlYXRlZCYtcGs9MjI4NDYxNTQzMjU=\n",
      "Fetching listing: Page 13, Events Fetched: 50, Total Events: 650, next cursor: LWV2ZW50X3RpbWVzdGFtcD0yMDI0LTA1LTIxKzIyJTNBNDIlM0EwMi44MDgwNjImLWV2ZW50X3R5cGU9Y3JlYXRlZCYtcGs9MjI3OTkwMzQxMTI=\n",
      "Fetching listing: Page 14, Events Fetched: 50, Total Events: 700, next cursor: LWV2ZW50X3RpbWVzdGFtcD0yMDI0LTA1LTE3KzEzJTNBMTIlM0E1MS45MjE0MzcmLWV2ZW50X3R5cGU9Y3JlYXRlZCYtcGs9MjI2NzE0NDQwMzA=\n",
      "Fetching listing: Page 15, Events Fetched: 50, Total Events: 750, next cursor: LWV2ZW50X3RpbWVzdGFtcD0yMDI0LTA1LTE0KzIxJTNBMzUlM0EwMC40ODExMjYmLWV2ZW50X3R5cGU9Y3JlYXRlZCYtcGs9MjI1OTkzMjQ2NDY=\n",
      "Fetching listing: Page 16, Events Fetched: 50, Total Events: 800, next cursor: LWV2ZW50X3RpbWVzdGFtcD0yMDI0LTA1LTEyKzEwJTNBMDElM0E0NC4xMzk2ODQmLWV2ZW50X3R5cGU9Y3JlYXRlZCYtcGs9MjI1MzAxODkzNzc=\n",
      "Fetching listing: Page 17, Events Fetched: 50, Total Events: 850, next cursor: LWV2ZW50X3RpbWVzdGFtcD0yMDI0LTA1LTExKzA0JTNBMjclM0ExNy42MTA0MjYmLWV2ZW50X3R5cGU9Y3JlYXRlZCYtcGs9MjI0OTIzMjQ5MjY=\n",
      "Fetching listing: Page 18, Events Fetched: 50, Total Events: 900, next cursor: LWV2ZW50X3RpbWVzdGFtcD0yMDI0LTA1LTA5KzEwJTNBNTElM0EzMy45NTc2NDImLWV2ZW50X3R5cGU9Y3JlYXRlZCYtcGs9MjI0MzgzNTk4NzM=\n",
      "Fetching listing: Page 19, Events Fetched: 50, Total Events: 950, next cursor: LWV2ZW50X3RpbWVzdGFtcD0yMDI0LTA1LTA3KzE1JTNBMTclM0EyNi41NTk3NTcmLWV2ZW50X3R5cGU9Y3JlYXRlZCYtcGs9MjIzODMxMjQ0NzE=\n",
      "Fetching listing: Page 20, Events Fetched: 50, Total Events: 1000, next cursor: LWV2ZW50X3RpbWVzdGFtcD0yMDI0LTA1LTA2KzE3JTNBMzElM0EwOS41MzQxODkmLWV2ZW50X3R5cGU9Y3JlYXRlZCYtcGs9MjIzNTU2OTExNzg=\n",
      "Fetching listing: Page 21, Events Fetched: 50, Total Events: 1050, next cursor: LWV2ZW50X3RpbWVzdGFtcD0yMDI0LTA1LTA1KzE1JTNBMzElM0ExOC40ODE4MjImLWV2ZW50X3R5cGU9Y3JlYXRlZCYtcGs9MjIzMjIzOTYxMzU=\n",
      "Fetching listing: Page 22, Events Fetched: 50, Total Events: 1100, next cursor: LWV2ZW50X3RpbWVzdGFtcD0yMDI0LTA1LTAzKzE1JTNBMjklM0EwNS40NjIwMjgmLWV2ZW50X3R5cGU9Y3JlYXRlZCYtcGs9MjIyNTgzNzQwNjE=\n",
      "Fetching listing: Page 23, Events Fetched: 50, Total Events: 1150, next cursor: LWV2ZW50X3RpbWVzdGFtcD0yMDI0LTA1LTAyKzEyJTNBNDQlM0ExOC42NjI4OTEmLWV2ZW50X3R5cGU9Y3JlYXRlZCYtcGs9MjIyMjU2MjE3ODM=\n",
      "Fetching listing: Page 24, Events Fetched: 50, Total Events: 1200, next cursor: LWV2ZW50X3RpbWVzdGFtcD0yMDI0LTA1LTAxKzE3JTNBMjMlM0EwOS4yMjMzMDEmLWV2ZW50X3R5cGU9Y3JlYXRlZCYtcGs9MjIyMDIxOTQ3ODg=\n",
      "Fetching listing: Page 25, Events Fetched: 50, Total Events: 1250, next cursor: LWV2ZW50X3RpbWVzdGFtcD0yMDI0LTA0LTMwKzEzJTNBMzglM0EwNi42ODMwMzUmLWV2ZW50X3R5cGU9Y3JlYXRlZCYtcGs9MjIxNjY5NDIwMjk=\n",
      "Fetching listing: Page 26, Events Fetched: 50, Total Events: 1300, next cursor: LWV2ZW50X3RpbWVzdGFtcD0yMDI0LTA0LTI5KzA4JTNBMDMlM0EwOS42Mjk2NjImLWV2ZW50X3R5cGU9Y3JlYXRlZCYtcGs9MjIxMzE3MjUwMTQ=\n",
      "Fetching listing: Page 27, Events Fetched: 50, Total Events: 1350, next cursor: LWV2ZW50X3RpbWVzdGFtcD0yMDI0LTA0LTI4KzEwJTNBMDQlM0ExNy43MjQ3MTImLWV2ZW50X3R5cGU9Y3JlYXRlZCYtcGs9MjIxMDQ3OTUxNjQ=\n",
      "Fetching listing: Page 28, Events Fetched: 50, Total Events: 1400, next cursor: LWV2ZW50X3RpbWVzdGFtcD0yMDI0LTA0LTI4KzA3JTNBMTklM0ExNC4xMDIwMDQmLWV2ZW50X3R5cGU9Y3JlYXRlZCYtcGs9MjIxMDEyMzg0NjQ=\n",
      "Fetching listing: Page 29, Events Fetched: 50, Total Events: 1450, next cursor: LWV2ZW50X3RpbWVzdGFtcD0yMDI0LTA0LTI3KzIxJTNBNDklM0EzMC4wMzgyMzgmLWV2ZW50X3R5cGU9Y3JlYXRlZCYtcGs9MjIwODg5NzM3NTk=\n",
      "Fetching listing: Page 30, Events Fetched: 50, Total Events: 1500, next cursor: LWV2ZW50X3RpbWVzdGFtcD0yMDI0LTA0LTI2KzE1JTNBMjQlM0E0My45Mjg1ODQmLWV2ZW50X3R5cGU9Y3JlYXRlZCYtcGs9MjIwNTE0NDQwNzg=\n",
      "Fetching listing: Page 31, Events Fetched: 50, Total Events: 1550, next cursor: LWV2ZW50X3RpbWVzdGFtcD0yMDI0LTA0LTI0KzA1JTNBNTIlM0E0Ny44NTIyNDgmLWV2ZW50X3R5cGU9Y3JlYXRlZCYtcGs9MjE5ODU4ODEwMTQ=\n",
      "Fetching listing: Page 32, Events Fetched: 50, Total Events: 1600, next cursor: LWV2ZW50X3RpbWVzdGFtcD0yMDI0LTA0LTE2KzA3JTNBMjQlM0EwOC4wMDMxMDAmLWV2ZW50X3R5cGU9Y3JlYXRlZCYtcGs9MjE3NTI1NTAzNjU=\n",
      "Fetching listing: Page 33, Events Fetched: 50, Total Events: 1650, next cursor: LWV2ZW50X3RpbWVzdGFtcD0yMDI0LTA0LTA3KzIwJTNBMzglM0E0MC4yOTY3ODUmLWV2ZW50X3R5cGU9Y3JlYXRlZCYtcGs9MjE1MTc1MjQyMjU=\n",
      "Fetching listing: Page 34, Events Fetched: 50, Total Events: 1700, next cursor: LWV2ZW50X3RpbWVzdGFtcD0yMDI0LTA0LTAzKzAxJTNBMzElM0E0OC4zNTQ5NDQmLWV2ZW50X3R5cGU9Y3JlYXRlZCYtcGs9MjEzODczMzQwNzk=\n",
      "Fetching listing: Page 35, Events Fetched: 50, Total Events: 1750, next cursor: LWV2ZW50X3RpbWVzdGFtcD0yMDI0LTAzLTI0KzEwJTNBMDAlM0EzOS42Nzk0NTQmLWV2ZW50X3R5cGU9Y3JlYXRlZCYtcGs9MjExNDE4NjE4MTY=\n",
      "Fetching listing: Page 36, Events Fetched: 50, Total Events: 1800, next cursor: LWV2ZW50X3RpbWVzdGFtcD0yMDI0LTAzLTE2KzExJTNBNTElM0E0OS42NDI4NTAmLWV2ZW50X3R5cGU9Y3JlYXRlZCYtcGs9MjA5NTg3NjM1MTI=\n",
      "Fetching listing: Page 37, Events Fetched: 50, Total Events: 1850, next cursor: LWV2ZW50X3RpbWVzdGFtcD0yMDI0LTAzLTEwKzIwJTNBMTYlM0E0NC4yODUzMzYmLWV2ZW50X3R5cGU9Y3JlYXRlZCYtcGs9MjA4MzU4MTUzMzk=\n",
      "Fetching listing: Page 38, Events Fetched: 50, Total Events: 1900, next cursor: LWV2ZW50X3RpbWVzdGFtcD0yMDI0LTAzLTA1KzE1JTNBMjglM0E0MS42MDM3MTgmLWV2ZW50X3R5cGU9Y3JlYXRlZCYtcGs9MjA3MjEzOTIxODM=\n",
      "Fetching listing: Page 39, Events Fetched: 50, Total Events: 1950, next cursor: LWV2ZW50X3RpbWVzdGFtcD0yMDI0LTAyLTI4KzEyJTNBMzglM0E1Mi42NDI1NzkmLWV2ZW50X3R5cGU9Y3JlYXRlZCYtcGs9MjA1NzQ5Nzg3ODY=\n",
      "Fetching listing: Page 40, Events Fetched: 50, Total Events: 2000, next cursor: LWV2ZW50X3RpbWVzdGFtcD0yMDI0LTAyLTI0KzE2JTNBMzUlM0EzOS41MTgzMDImLWV2ZW50X3R5cGU9Y3JlYXRlZCYtcGs9MjA0NzM2OTgwMzM=\n",
      "Fetching listing: Page 41, Events Fetched: 50, Total Events: 2050, next cursor: LWV2ZW50X3RpbWVzdGFtcD0yMDI0LTAyLTIyKzEwJTNBMzklM0E0MC4wMTA0OTAmLWV2ZW50X3R5cGU9Y3JlYXRlZCYtcGs9MjA0MzAzMzQ4MTU=\n",
      "Fetching listing: Page 42, Events Fetched: 50, Total Events: 2100, next cursor: LWV2ZW50X3RpbWVzdGFtcD0yMDI0LTAyLTE3KzE1JTNBMzYlM0E0NC40OTE2OTYmLWV2ZW50X3R5cGU9Y3JlYXRlZCYtcGs9MjAyOTA5NzU0ODY=\n",
      "Fetching listing: Page 43, Events Fetched: 50, Total Events: 2150, next cursor: LWV2ZW50X3RpbWVzdGFtcD0yMDI0LTAyLTE0KzA4JTNBNDAlM0E1My44Njk3NzMmLWV2ZW50X3R5cGU9Y3JlYXRlZCYtcGs9MjAxODExOTExNjg=\n",
      "Fetching listing: Page 44, Events Fetched: 50, Total Events: 2200, next cursor: LWV2ZW50X3RpbWVzdGFtcD0yMDI0LTAyLTEyKzA4JTNBMTAlM0EwMi4zNTEzNDEmLWV2ZW50X3R5cGU9Y3JlYXRlZCYtcGs9MjAxMTQ1NTIyMjk=\n",
      "Fetching listing: Page 45, Events Fetched: 50, Total Events: 2250, next cursor: LWV2ZW50X3RpbWVzdGFtcD0yMDI0LTAyLTEwKzA1JTNBMTYlM0E1NC44MjAwMzEmLWV2ZW50X3R5cGU9Y3JlYXRlZCYtcGs9MjAwNDYwMTg5ODI=\n",
      "Fetching listing: Page 46, Events Fetched: 50, Total Events: 2300, next cursor: LWV2ZW50X3RpbWVzdGFtcD0yMDI0LTAyLTA4KzA4JTNBMjMlM0E0Ni44MDEyMzYmLWV2ZW50X3R5cGU9Y3JlYXRlZCYtcGs9MTk5ODI1MDA3MDk=\n",
      "Fetching listing: Page 47, Events Fetched: 50, Total Events: 2350, next cursor: LWV2ZW50X3RpbWVzdGFtcD0yMDI0LTAyLTA3KzA0JTNBMDglM0E0Ni40OTkyNzkmLWV2ZW50X3R5cGU9Y3JlYXRlZCYtcGs9MTk5NDAwNzY4MTU=\n",
      "Fetching listing: Page 48, Events Fetched: 50, Total Events: 2400, next cursor: LWV2ZW50X3RpbWVzdGFtcD0yMDI0LTAyLTA2KzA5JTNBNTYlM0EyOC4yNjEzMTUmLWV2ZW50X3R5cGU9Y3JlYXRlZCYtcGs9MTk5MTI4NDE5OTU=\n",
      "Fetching listing: Page 49, Events Fetched: 50, Total Events: 2450, next cursor: LWV2ZW50X3RpbWVzdGFtcD0yMDI0LTAyLTA0KzEzJTNBNDQlM0E0Ny44MTI0MTkmLWV2ZW50X3R5cGU9Y3JlYXRlZCYtcGs9MTk4NDkzODUwOTY=\n",
      "Fetching listing: Page 50, Events Fetched: 50, Total Events: 2500, next cursor: LWV2ZW50X3RpbWVzdGFtcD0yMDI0LTAyLTAxKzA2JTNBMTQlM0ExMi4zNzU2NTMmLWV2ZW50X3R5cGU9Y3JlYXRlZCYtcGs9MTk3MzY3MzgwOTA=\n",
      "Fetching listing: Page 51, Events Fetched: 50, Total Events: 2550, next cursor: LWV2ZW50X3RpbWVzdGFtcD0yMDI0LTAxLTI5KzIxJTNBNTUlM0EzMS4yODI5ODQmLWV2ZW50X3R5cGU9Y3JlYXRlZCYtcGs9MTk2NTU0ODk3ODA=\n",
      "Fetching listing: Page 52, Events Fetched: 50, Total Events: 2600, next cursor: LWV2ZW50X3RpbWVzdGFtcD0yMDI0LTAxLTI3KzAyJTNBMjAlM0EzOC40NjY4MTkmLWV2ZW50X3R5cGU9Y3JlYXRlZCYtcGs9MTk1NTAyNTQyMDg=\n",
      "Fetching listing: Page 53, Events Fetched: 50, Total Events: 2650, next cursor: LWV2ZW50X3RpbWVzdGFtcD0yMDI0LTAxLTI1KzIyJTNBNTYlM0EwMS44MzczMDEmLWV2ZW50X3R5cGU9Y3JlYXRlZCYtcGs9MTk1MTA1OTIzMzQ=\n",
      "Fetching listing: Page 54, Events Fetched: 50, Total Events: 2700, next cursor: LWV2ZW50X3RpbWVzdGFtcD0yMDI0LTAxLTI1KzA3JTNBMDElM0E0MS43MjgwNzYmLWV2ZW50X3R5cGU9Y3JlYXRlZCYtcGs9MTk0ODcxNDY4MjE=\n",
      "Fetching listing: Page 55, Events Fetched: 50, Total Events: 2750, next cursor: LWV2ZW50X3RpbWVzdGFtcD0yMDI0LTAxLTI0KzE4JTNBNDAlM0EzOS41MDM4MjAmLWV2ZW50X3R5cGU9Y3JlYXRlZCYtcGs9MTk0Njg5MjcxMTc=\n",
      "Fetching listing: Page 56, Events Fetched: 50, Total Events: 2800, next cursor: LWV2ZW50X3RpbWVzdGFtcD0yMDI0LTAxLTE5KzAwJTNBMjglM0E1Ny4zNjA2OTYmLWV2ZW50X3R5cGU9Y3JlYXRlZCYtcGs9MTkyNzI2MTg4NzE=\n",
      "Fetching listing: Page 57, Events Fetched: 34, Total Events: 2834, next cursor: \n",
      "Fetching sale: Page 1, Events Fetched: 50, Total Events: 2884, next cursor: LWV2ZW50X3RpbWVzdGFtcD0yMDI0LTAzLTE4KzA4JTNBMzQlM0EwNyYtZXZlbnRfdHlwZT1zdWNjZXNzZnVsJi1waz0yMDk5NjUyNzU1OQ==\n",
      "Fetching sale: Page 2, Events Fetched: 38, Total Events: 2922, next cursor: \n",
      "Total events fetched: 2922\n"
     ]
    }
   ],
   "source": [
    "events_df = fetch_all_events(api_key= opensea_api_key)"
   ]
  },
  {
   "cell_type": "code",
   "execution_count": 27,
   "metadata": {},
   "outputs": [
    {
     "name": "stdout",
     "output_type": "stream",
     "text": [
      "Page 1, Cursor: LXBrPTE4OTc4MTE2ODE= Descriptions Fetched: 100, total fetched: 100\n",
      "Page 2, Cursor: LXBrPTE4ODczNDUxNjg= Descriptions Fetched: 100, total fetched: 200\n",
      "Page 3, Cursor: LXBrPTE4NzgxNDU2MzE= Descriptions Fetched: 100, total fetched: 300\n",
      "Page 4, Cursor: LXBrPTE4NjkzMDk1ODA= Descriptions Fetched: 100, total fetched: 400\n",
      "Page 5, Cursor: LXBrPTE4NjIzMTEwNDg= Descriptions Fetched: 100, total fetched: 500\n",
      "Page 6, Cursor: LXBrPTE4NTA5MDM1ODA= Descriptions Fetched: 100, total fetched: 600\n",
      "Page 7, Cursor: LXBrPTE4NDA5MzA5NTQ= Descriptions Fetched: 100, total fetched: 700\n",
      "Page 8, Cursor: LXBrPTE4MzcwMTczNzA= Descriptions Fetched: 100, total fetched: 800\n",
      "Page 9, Cursor: LXBrPTE4MzQzODYyMDI= Descriptions Fetched: 100, total fetched: 900\n",
      "Page 10, Cursor: LXBrPTE4MzA4MDQwNjA= Descriptions Fetched: 100, total fetched: 1000\n",
      "Page 11, Cursor: LXBrPTE4Mjc3NTEwMDU= Descriptions Fetched: 100, total fetched: 1100\n",
      "Page 12, Cursor: LXBrPTE4MjQ4NzY3ODA= Descriptions Fetched: 100, total fetched: 1200\n",
      "Page 13, Cursor: LXBrPTE4MjIwMDA5NDM= Descriptions Fetched: 100, total fetched: 1300\n",
      "Page 14, Cursor: LXBrPTE4MTk0MjYzMDY= Descriptions Fetched: 100, total fetched: 1400\n",
      "Page 15, Cursor: LXBrPTE4MTgyMzgzODA= Descriptions Fetched: 100, total fetched: 1500\n",
      "Page 16, Cursor: LXBrPTE4MTY5OTI3NDI= Descriptions Fetched: 100, total fetched: 1600\n",
      "Page 17, Cursor: LXBrPTE4MTU3MzkwMDQ= Descriptions Fetched: 100, total fetched: 1700\n",
      "Page 18, Cursor: LXBrPTE4MTUyNjE4Mzg= Descriptions Fetched: 100, total fetched: 1800\n",
      "Page 19, Cursor: LXBrPTE4MTQyMDY4OTU= Descriptions Fetched: 100, total fetched: 1900\n",
      "Page 20, Cursor: LXBrPTE4MTI0MTU5MjM= Descriptions Fetched: 100, total fetched: 2000\n",
      "Page 21, Cursor: LXBrPTE4MTA3NjQxOTI= Descriptions Fetched: 100, total fetched: 2100\n",
      "Page 22, Cursor: LXBrPTE4MTAxNDEyNjM= Descriptions Fetched: 100, total fetched: 2200\n",
      "Page 23, Cursor: LXBrPTE4MDkyNDc1MjU= Descriptions Fetched: 100, total fetched: 2300\n",
      "Page 24, Cursor: LXBrPTE4MDc5Mzc4NjI= Descriptions Fetched: 100, total fetched: 2400\n",
      "Page 25, Cursor: LXBrPTE4MDcwNTM3MzA= Descriptions Fetched: 100, total fetched: 2500\n",
      "Page 26, Cursor: LXBrPTE4MDU0NjcyNzA= Descriptions Fetched: 100, total fetched: 2600\n",
      "Page 27, Cursor: LXBrPTE4MDQ1Nzc5OTA= Descriptions Fetched: 100, total fetched: 2700\n",
      "Page 28, Cursor: LXBrPTE4MDM2NjMzOTE= Descriptions Fetched: 100, total fetched: 2800\n",
      "Page 29, Cursor: LXBrPTE4MDIzMjY2NjM= Descriptions Fetched: 100, total fetched: 2900\n",
      "Page 30, Cursor: LXBrPTE4MDE2Mjk5Njk= Descriptions Fetched: 100, total fetched: 3000\n",
      "Page 31, Cursor: LXBrPTE4MDA5NDM0MzQ= Descriptions Fetched: 100, total fetched: 3100\n",
      "Page 32, Cursor: LXBrPTE3OTk5ODIzOTI= Descriptions Fetched: 100, total fetched: 3200\n",
      "Page 33, Cursor: LXBrPTE3OTkyMzQwMzM= Descriptions Fetched: 100, total fetched: 3300\n",
      "Page 34, Cursor: LXBrPTE3OTkwMzk0Nzg= Descriptions Fetched: 100, total fetched: 3400\n",
      "Page 35, Cursor: LXBrPTE3OTg0NDQ0ODA= Descriptions Fetched: 100, total fetched: 3500\n",
      "Page 36, Cursor: LXBrPTE3OTc0OTU1NzI= Descriptions Fetched: 100, total fetched: 3600\n",
      "Page 37, Cursor: LXBrPTE3OTczNTU4ODc= Descriptions Fetched: 100, total fetched: 3700\n",
      "Page 38, Cursor: LXBrPTE3OTY5ODE3MTg= Descriptions Fetched: 100, total fetched: 3800\n",
      "Page 39, Cursor: LXBrPTE3OTYxNTc3MDM= Descriptions Fetched: 100, total fetched: 3900\n",
      "Page 40, Cursor: LXBrPTE3OTU4NjEzNDA= Descriptions Fetched: 100, total fetched: 4000\n",
      "Page 41, Cursor: LXBrPTE3OTU1NjE4MTU= Descriptions Fetched: 100, total fetched: 4100\n",
      "Page 42, Cursor: LXBrPTE3OTQwMjk5OTE= Descriptions Fetched: 100, total fetched: 4200\n",
      "Page 43, Cursor: LXBrPTE3OTE5MDY2MTg= Descriptions Fetched: 100, total fetched: 4300\n",
      "Page 44, Cursor: LXBrPTE3ODk5ODEwODg= Descriptions Fetched: 100, total fetched: 4400\n",
      "Page 45, Cursor: LXBrPTE3ODg1NzUxMzY= Descriptions Fetched: 100, total fetched: 4500\n",
      "Page 46, Cursor: LXBrPTE3ODYyMzM4NjI= Descriptions Fetched: 100, total fetched: 4600\n",
      "Page 47, Cursor: LXBrPTE3ODMwNjQyNjU= Descriptions Fetched: 100, total fetched: 4700\n",
      "Page 48, Cursor: LXBrPTE3ODE2NTAxNDU= Descriptions Fetched: 100, total fetched: 4800\n",
      "Page 49, Cursor: LXBrPTE3Nzk1MDE4NjQ= Descriptions Fetched: 100, total fetched: 4900\n",
      "Page 50, Cursor: LXBrPTE3NzgzNzI0MTM= Descriptions Fetched: 100, total fetched: 5000\n",
      "Page 51, Cursor: LXBrPTE3NzcxMDUyODA= Descriptions Fetched: 100, total fetched: 5100\n",
      "Page 52, Cursor: LXBrPTE3NzU5NTc2MzA= Descriptions Fetched: 100, total fetched: 5200\n",
      "Page 53, Cursor: LXBrPTE3NzQ1MTk3Mzk= Descriptions Fetched: 100, total fetched: 5300\n",
      "Page 54, Cursor: LXBrPTE3NzM1MjkwMTc= Descriptions Fetched: 100, total fetched: 5400\n",
      "Page 55, Cursor: LXBrPTE3NzMzMTM5NTc= Descriptions Fetched: 100, total fetched: 5500\n",
      "Page 56, Cursor: LXBrPTE3NzI5MTk1NDk= Descriptions Fetched: 100, total fetched: 5600\n",
      "Page 57, Cursor: LXBrPTE3NzA0OTYwOTU= Descriptions Fetched: 100, total fetched: 5700\n",
      "Page 58, Cursor: LXBrPTE3Njg2MTM1MDQ= Descriptions Fetched: 100, total fetched: 5800\n",
      "Page 59, Cursor: LXBrPTE3NjYxMTQ3MDg= Descriptions Fetched: 100, total fetched: 5900\n",
      "Page 60, Cursor: LXBrPTE3NjM4NjE3MTg= Descriptions Fetched: 100, total fetched: 6000\n",
      "Page 61, Cursor: LXBrPTE3NjAxMzcyNjQ= Descriptions Fetched: 100, total fetched: 6100\n",
      "Page 62, Cursor: LXBrPTE3NTUzMTY0MzA= Descriptions Fetched: 100, total fetched: 6200\n",
      "Page 63, Cursor: LXBrPTE3NTIxNTE2Nzk= Descriptions Fetched: 100, total fetched: 6300\n",
      "Page 64, Cursor: LXBrPTE3NDg5NTI5MDI= Descriptions Fetched: 100, total fetched: 6400\n",
      "Page 65, Cursor: LXBrPTE3Mzc4NzMyMjA= Descriptions Fetched: 100, total fetched: 6500\n",
      "Page 66, Cursor: LXBrPTE3MjY1MzMwNzk= Descriptions Fetched: 100, total fetched: 6600\n",
      "Page 67, Cursor: LXBrPTE3MTk3MzQ1MzI= Descriptions Fetched: 100, total fetched: 6700\n",
      "Page 68, Cursor: LXBrPTE3MTI5NTk0OTA= Descriptions Fetched: 100, total fetched: 6800\n",
      "Page 69, Cursor: LXBrPTE3MDg3Njc4NjU= Descriptions Fetched: 100, total fetched: 6900\n",
      "Page 70, Cursor: LXBrPTE3MDQ2MDM3NzU= Descriptions Fetched: 100, total fetched: 7000\n",
      "Page 71, Cursor: LXBrPTE3MDA4NTcwMjU= Descriptions Fetched: 100, total fetched: 7100\n",
      "Page 72, Cursor: LXBrPTE2OTcxMjcyNzc= Descriptions Fetched: 100, total fetched: 7200\n",
      "Page 73, Cursor: LXBrPTE2OTQyNzEzNzE= Descriptions Fetched: 100, total fetched: 7300\n",
      "Page 74, Cursor: LXBrPTE2OTE2MzM2Mzk= Descriptions Fetched: 100, total fetched: 7400\n",
      "Page 75, Cursor: LXBrPTE2ODg4NjI2Njg= Descriptions Fetched: 100, total fetched: 7500\n",
      "Page 76, Cursor: LXBrPTE2ODgwNzE2MTA= Descriptions Fetched: 100, total fetched: 7600\n",
      "Page 77, Cursor: LXBrPTE2ODcxMjcxNDM= Descriptions Fetched: 100, total fetched: 7700\n",
      "Page 78, Cursor: LXBrPTE2ODY0MzYyNDc= Descriptions Fetched: 100, total fetched: 7800\n",
      "Page 79, Cursor: LXBrPTE2ODU5Mjk4MzI= Descriptions Fetched: 100, total fetched: 7900\n",
      "Page 80, Cursor: LXBrPTE2ODQ5MjU1Mzc= Descriptions Fetched: 100, total fetched: 8000\n",
      "Page 81, Cursor: LXBrPTE2ODQyNDk4MzQ= Descriptions Fetched: 100, total fetched: 8100\n",
      "Page 82, Cursor: LXBrPTE2ODM3ODU5OTM= Descriptions Fetched: 100, total fetched: 8200\n",
      "Page 83, Cursor: LXBrPTE2ODMyMjEzMjI= Descriptions Fetched: 100, total fetched: 8300\n",
      "Page 84, Cursor: LXBrPTE2ODI4MDg1MDA= Descriptions Fetched: 100, total fetched: 8400\n",
      "Page 85, Cursor: LXBrPTE2ODI0ODAwNTE= Descriptions Fetched: 100, total fetched: 8500\n",
      "Page 86, Cursor: LXBrPTE2ODIwOTQzOTY= Descriptions Fetched: 100, total fetched: 8600\n",
      "Page 87, Cursor: LXBrPTE2ODE0Mzg5NTQ= Descriptions Fetched: 100, total fetched: 8700\n",
      "Page 88, Cursor: LXBrPTE2ODA2NDY4ODQ= Descriptions Fetched: 100, total fetched: 8800\n",
      "Page 89, Cursor: LXBrPTE2ODAwMDI3NDE= Descriptions Fetched: 100, total fetched: 8900\n",
      "Page 90, Cursor: LXBrPTE2NzkzNzgzNTM= Descriptions Fetched: 100, total fetched: 9000\n",
      "Page 91, Cursor: LXBrPTE2Nzg2NzY5MjE= Descriptions Fetched: 100, total fetched: 9100\n",
      "Page 92, Cursor: LXBrPTE2NzgyMTIyMDA= Descriptions Fetched: 100, total fetched: 9200\n",
      "Page 93, Cursor: LXBrPTE2Nzc1OTk4NjA= Descriptions Fetched: 100, total fetched: 9300\n",
      "Page 94, Cursor: LXBrPTE2NzY4ODMwMjc= Descriptions Fetched: 100, total fetched: 9400\n",
      "Page 95, Cursor: LXBrPTE2NzYwNjY3MjI= Descriptions Fetched: 100, total fetched: 9500\n",
      "Page 96, Cursor: LXBrPTE2NzU2MjEwNDg= Descriptions Fetched: 100, total fetched: 9600\n",
      "Page 97, Cursor: LXBrPTE2NzQ4MDcwMDE= Descriptions Fetched: 100, total fetched: 9700\n",
      "Page 98, Cursor: LXBrPTE2NzQxODM2MjE= Descriptions Fetched: 100, total fetched: 9800\n",
      "Page 99, Cursor: LXBrPTE2NzM3MzcyMjM= Descriptions Fetched: 100, total fetched: 9900\n",
      "Page 100, Cursor: LXBrPTE2NzMxMjc2Mjk= Descriptions Fetched: 100, total fetched: 10000\n",
      "Page 101, Cursor: LXBrPTE2NzI3NDk2ODQ= Descriptions Fetched: 100, total fetched: 10100\n",
      "Page 102, Cursor: LXBrPTE2NzEwOTYyNjM= Descriptions Fetched: 100, total fetched: 10200\n",
      "Page 103, Cursor: LXBrPTE2NzA0NjA3ODY= Descriptions Fetched: 100, total fetched: 10300\n",
      "Page 104, Cursor: LXBrPTE2NjkyODM0NjM= Descriptions Fetched: 100, total fetched: 10400\n",
      "Page 105, Cursor: LXBrPTE2Njg2ODIzOTk= Descriptions Fetched: 100, total fetched: 10500\n",
      "Page 106, Cursor: LXBrPTE2Njc5ODYzNTg= Descriptions Fetched: 100, total fetched: 10600\n",
      "Page 107, Cursor: LXBrPTE2Njc0NzMzNzQ= Descriptions Fetched: 100, total fetched: 10700\n",
      "Page 108, Cursor: LXBrPTE2NjcwNTMzMzA= Descriptions Fetched: 100, total fetched: 10800\n",
      "Page 109, Cursor: LXBrPTE2NjYzMjk0MzM= Descriptions Fetched: 100, total fetched: 10900\n",
      "Page 110, Cursor: LXBrPTE2NjU2NDg1MTU= Descriptions Fetched: 100, total fetched: 11000\n",
      "Page 111, Cursor: LXBrPTE2NjQ5MjM3NTA= Descriptions Fetched: 100, total fetched: 11100\n",
      "Page 112, Cursor: LXBrPTE2NjMyNzg1MzY= Descriptions Fetched: 100, total fetched: 11200\n",
      "Page 113, Cursor: LXBrPTE2NjI2ODUxODI= Descriptions Fetched: 100, total fetched: 11300\n",
      "Page 114, Cursor: LXBrPTE2NjIxMTU5MDg= Descriptions Fetched: 100, total fetched: 11400\n",
      "Page 115, Cursor: LXBrPTE2NjE4MDU4MTc= Descriptions Fetched: 100, total fetched: 11500\n",
      "Page 116, Cursor: LXBrPTE2NjE0NjMyNDA= Descriptions Fetched: 100, total fetched: 11600\n",
      "Page 117, Cursor: LXBrPTE2NjEwNTI5NzI= Descriptions Fetched: 100, total fetched: 11700\n",
      "Page 118, Cursor: LXBrPTE2NjA2NzcxNzc= Descriptions Fetched: 100, total fetched: 11800\n",
      "Page 119, Cursor: LXBrPTE2NjAwNTEyNTY= Descriptions Fetched: 100, total fetched: 11900\n",
      "Page 120, Cursor: LXBrPTE2NTk2MDAxOTA= Descriptions Fetched: 100, total fetched: 12000\n",
      "Page 121, Cursor: LXBrPTE2NTkyODk4NjI= Descriptions Fetched: 100, total fetched: 12100\n",
      "Page 122, Cursor: LXBrPTE2NTkxMTc2Mzg= Descriptions Fetched: 100, total fetched: 12200\n",
      "Page 123, Cursor: LXBrPTE2NTg3MDk0NDU= Descriptions Fetched: 100, total fetched: 12300\n",
      "Page 124, Cursor: LXBrPTE2NTgyMDkyODI= Descriptions Fetched: 100, total fetched: 12400\n",
      "Page 125, Cursor: LXBrPTE2NTc5MDQ3MDQ= Descriptions Fetched: 100, total fetched: 12500\n",
      "Page 126, Cursor: LXBrPTE2NTc3NTE3NDg= Descriptions Fetched: 100, total fetched: 12600\n",
      "Page 127, Cursor: LXBrPTE2NTc0Mzc5MTM= Descriptions Fetched: 100, total fetched: 12700\n",
      "Page 128, Cursor: LXBrPTE2NTcxNzc2MDg= Descriptions Fetched: 100, total fetched: 12800\n",
      "Page 129, Cursor: LXBrPTE2NTcwMTcwNzA= Descriptions Fetched: 100, total fetched: 12900\n",
      "Page 130, Cursor: LXBrPTE2NTY4MTU5MzA= Descriptions Fetched: 100, total fetched: 13000\n",
      "Page 131, Cursor: LXBrPTE2NTY2NTYwODI= Descriptions Fetched: 100, total fetched: 13100\n",
      "Page 132, Cursor: LXBrPTE2NTY0OTc3NDk= Descriptions Fetched: 100, total fetched: 13200\n",
      "Page 133, Cursor: LXBrPTE2NTYxODEwMTE= Descriptions Fetched: 100, total fetched: 13300\n",
      "Page 134, Cursor: LXBrPTE2NTUyODIwMzA= Descriptions Fetched: 100, total fetched: 13400\n",
      "Page 135, Cursor: LXBrPTE2NTQ3OTIwNzQ= Descriptions Fetched: 100, total fetched: 13500\n",
      "Page 136, Cursor: LXBrPTE2NTM5MDEwNDQ= Descriptions Fetched: 100, total fetched: 13600\n",
      "Page 137, Cursor: LXBrPTE2NTMwNjUxMTg= Descriptions Fetched: 100, total fetched: 13700\n",
      "Page 138, Cursor: LXBrPTE2NTIzMzI0Mjc= Descriptions Fetched: 100, total fetched: 13800\n",
      "Page 139, Cursor: LXBrPTE2NTEzMDU0NDM= Descriptions Fetched: 100, total fetched: 13900\n",
      "Page 140, Cursor: LXBrPTE2NDg5MTcwNTk= Descriptions Fetched: 100, total fetched: 14000\n",
      "Page 141, Cursor: LXBrPTE2NDYyMDgzOTI= Descriptions Fetched: 100, total fetched: 14100\n",
      "Page 142, Cursor: LXBrPTE2NDUzMzE4MDg= Descriptions Fetched: 100, total fetched: 14200\n",
      "Page 143, Cursor: LXBrPTE2NDQ2NzAxMjU= Descriptions Fetched: 100, total fetched: 14300\n",
      "Page 144, Cursor: LXBrPTE2NDQzMDYzMDg= Descriptions Fetched: 100, total fetched: 14400\n",
      "Page 145, Cursor: LXBrPTE2NDM4ODk3NzE= Descriptions Fetched: 100, total fetched: 14500\n",
      "Page 146, Cursor: LXBrPTE2NDM1NDcyMTA= Descriptions Fetched: 100, total fetched: 14600\n",
      "Page 147, Cursor: LXBrPTE2NDM0Mzk0NDQ= Descriptions Fetched: 100, total fetched: 14700\n",
      "Page 148, Cursor: LXBrPTE2NDM0MTkzMDE= Descriptions Fetched: 100, total fetched: 14800\n",
      "Page 149, Cursor: LXBrPTE2NDMzNjk0ODY= Descriptions Fetched: 100, total fetched: 14900\n",
      "Page 150, Cursor: LXBrPTE2NDMyNjAyMjA= Descriptions Fetched: 100, total fetched: 15000\n",
      "Page 151, Cursor: LXBrPTE2NDMxMTA0OTg= Descriptions Fetched: 100, total fetched: 15100\n",
      "Page 152, Cursor: LXBrPTE2NDI3MTAxMTY= Descriptions Fetched: 100, total fetched: 15200\n",
      "Page 153, Cursor: LXBrPTE2NDI0OTQxMjQ= Descriptions Fetched: 100, total fetched: 15300\n",
      "Page 154, Cursor: LXBrPTE2NDIzMzY5OTk= Descriptions Fetched: 100, total fetched: 15400\n",
      "Page 155, Cursor: LXBrPTE2NDE4NzYzMjA= Descriptions Fetched: 100, total fetched: 15500\n",
      "Page 156, Cursor: LXBrPTE2NDAwOTc2MjU= Descriptions Fetched: 100, total fetched: 15600\n",
      "Page 157, Cursor: LXBrPTE2Mzc3NjgyOTA= Descriptions Fetched: 100, total fetched: 15700\n",
      "Page 158, Cursor: LXBrPTE2MTYyMDgyMjk= Descriptions Fetched: 100, total fetched: 15800\n",
      "Page 159, Cursor: LXBrPTE2MDI5NjI5ODg= Descriptions Fetched: 100, total fetched: 15900\n",
      "Page 160, Cursor: LXBrPTE2MDI5NjI3OTA= Descriptions Fetched: 100, total fetched: 16000\n",
      "Page 161, Cursor: LXBrPTE2MDI5NjI1OTQ= Descriptions Fetched: 100, total fetched: 16100\n",
      "Page 162, Cursor: LXBrPTE1ODYyODYzNzg= Descriptions Fetched: 100, total fetched: 16200\n",
      "Page 163, Cursor: LXBrPTE1MzAyODU0MTI= Descriptions Fetched: 100, total fetched: 16300\n",
      "Page 164, Cursor: None Descriptions Fetched: 35, total fetched: 16335\n",
      "Total pages fetched: 164, Total descriptions fetched: 16335\n"
     ]
    }
   ],
   "source": [
    "descriptions_df = fetch_all_descriptions(api_key= opensea_api_key)"
   ]
  },
  {
   "cell_type": "code",
   "execution_count": 28,
   "metadata": {},
   "outputs": [
    {
     "name": "stdout",
     "output_type": "stream",
     "text": [
      "Page 1, Cursor: cGs9MTc0ODI3MTAyMDYmY3JlYXRlZF9kYXRlPTIwMjQtMDMtMDYrMDMlM0E1MiUzQTMyLjU4ODA4Nw==, Listings Fetched: 100\n",
      "Page 2, Cursor: cGs9MTg2NDAxMDQxODMmY3JlYXRlZF9kYXRlPTIwMjQtMDQtMjgrMDklM0E1MiUzQTAxLjAwNzE2MQ==, Listings Fetched: 100\n",
      "Page 3, Cursor: cGs9MTg3OTI1MTI0NjEmY3JlYXRlZF9kYXRlPTIwMjQtMDUtMDQrMTUlM0E1NyUzQTA4LjEzMjQ4Nw==, Listings Fetched: 100\n",
      "Page 4, Cursor: cGs9MTkzMDU3ODA5MzAmY3JlYXRlZF9kYXRlPTIwMjQtMDUtMjUrMjMlM0E0MCUzQTU2LjI4MzYzNA==, Listings Fetched: 100\n",
      "Page 5, Cursor: cGs9MTk3MjA5NDcxMDgmY3JlYXRlZF9kYXRlPTIwMjQtMDYtMTMrMDYlM0E1OSUzQTE4LjE4NjQ0MQ==, Listings Fetched: 100\n",
      "Page 6, Cursor: cGs9MTk5MzMwODgxNTImY3JlYXRlZF9kYXRlPTIwMjQtMDYtMjIrMTUlM0EwNSUzQTA4LjIzMDk0OA==, Listings Fetched: 100\n",
      "Page 7, Cursor: cGs9MjAyMTc2ODEyNzUmY3JlYXRlZF9kYXRlPTIwMjQtMDctMDQrMTUlM0E0MiUzQTMwLjM1NzA1Nw==, Listings Fetched: 100\n",
      "Page 8, Cursor: None, Listings Fetched: 4\n",
      "Total pages fetched: 8\n",
      "Total listings fetched: 704\n"
     ]
    }
   ],
   "source": [
    "listings_df = fetch_listings(api_key= opensea_api_key, delay_between_requests=1)"
   ]
  },
  {
   "cell_type": "code",
   "execution_count": 29,
   "metadata": {},
   "outputs": [],
   "source": [
    "def unpack_protocol_data(row):\n",
    "    protocol_data = row['protocol_data']\n",
    "    parameters = protocol_data.get('parameters', {})\n",
    "    consideration = parameters.get('consideration', [{}])\n",
    "    offer = parameters.get('offer', [{}])\n",
    "    price = row['price']['current']\n",
    "    \n",
    "    chain = row['chain']\n",
    "    order_hash = row['order_hash']\n",
    "    currency = price.get('currency')\n",
    "    price_string = price.get('value')\n",
    "    price_in_eth = float(price_string) / (10 ** price.get('decimals', 18))\n",
    "    primary_recipient = consideration[0].get('recipient') if consideration else None\n",
    "    identifier_or_criteria = offer[0].get('identifierOrCriteria') if offer else None\n",
    "    start_time = parameters.get('startTime')\n",
    "    end_time = parameters.get('endTime')\n",
    "    \n",
    "    return pd.Series([\n",
    "        chain, order_hash, currency, price_string, price_in_eth, \n",
    "        primary_recipient, identifier_or_criteria, start_time, end_time\n",
    "    ])"
   ]
  },
  {
   "cell_type": "code",
   "execution_count": 30,
   "metadata": {},
   "outputs": [],
   "source": [
    "unpacked_columns = listings_df.apply(unpack_protocol_data, axis=1)\n",
    "unpacked_columns.columns = [\n",
    "    'chain', 'order_hash', 'currency', 'price_string', 'price_in_eth', \n",
    "    'primary_recipient', 'identifier_or_criteria', 'start_time', 'end_time'\n",
    "]\n",
    "listings_df = pd.concat([listings_df, unpacked_columns], axis=1)\n",
    "listings_df = listings_df.drop(columns=['protocol_data'])\n"
   ]
  },
  {
   "cell_type": "code",
   "execution_count": 31,
   "metadata": {},
   "outputs": [],
   "source": [
    "listings_df['identifier_or_criteria'] = listings_df['identifier_or_criteria'].astype(float)\n",
    "listings_df.rename(columns={'identifier_or_criteria':'tokenid'}, inplace=True)"
   ]
  },
  {
   "cell_type": "code",
   "execution_count": 32,
   "metadata": {},
   "outputs": [],
   "source": [
    "descriptions_df.rename(columns={'identifier':'tokenid'}, inplace=True)"
   ]
  },
  {
   "cell_type": "code",
   "execution_count": 33,
   "metadata": {},
   "outputs": [],
   "source": [
    "descriptions_df['tokenid'] = descriptions_df['tokenid'].astype(float)"
   ]
  },
  {
   "cell_type": "code",
   "execution_count": 34,
   "metadata": {},
   "outputs": [],
   "source": [
    "mint_df['tokenid'] = mint_df['tokenid'].astype(float)"
   ]
  },
  {
   "cell_type": "code",
   "execution_count": 35,
   "metadata": {},
   "outputs": [],
   "source": [
    "mints_with_names = pd.merge(mint_df, descriptions_df, how='left', on='tokenid')"
   ]
  },
  {
   "cell_type": "code",
   "execution_count": 36,
   "metadata": {},
   "outputs": [
    {
     "data": {
      "text/html": [
       "<div>\n",
       "<style scoped>\n",
       "    .dataframe tbody tr th:only-of-type {\n",
       "        vertical-align: middle;\n",
       "    }\n",
       "\n",
       "    .dataframe tbody tr th {\n",
       "        vertical-align: top;\n",
       "    }\n",
       "\n",
       "    .dataframe thead th {\n",
       "        text-align: right;\n",
       "    }\n",
       "</style>\n",
       "<table border=\"1\" class=\"dataframe\">\n",
       "  <thead>\n",
       "    <tr style=\"text-align: right;\">\n",
       "      <th></th>\n",
       "      <th>day</th>\n",
       "      <th>tokenid</th>\n",
       "      <th>tx_hash</th>\n",
       "      <th>__row_index</th>\n",
       "      <th>name</th>\n",
       "    </tr>\n",
       "  </thead>\n",
       "  <tbody>\n",
       "    <tr>\n",
       "      <th>0</th>\n",
       "      <td>2024-07-05T20:00:00.000Z</td>\n",
       "      <td>8.985197e+76</td>\n",
       "      <td>0x23a609ddf25089081798088ca8c5714be7b76d58ebf5...</td>\n",
       "      <td>0</td>\n",
       "      <td>cryptocreator.tech</td>\n",
       "    </tr>\n",
       "    <tr>\n",
       "      <th>1</th>\n",
       "      <td>2024-07-05T20:00:00.000Z</td>\n",
       "      <td>8.985197e+76</td>\n",
       "      <td>0x23a609ddf25089081798088ca8c5714be7b76d58ebf5...</td>\n",
       "      <td>1</td>\n",
       "      <td>cryptocreator.tech</td>\n",
       "    </tr>\n",
       "    <tr>\n",
       "      <th>2</th>\n",
       "      <td>2024-07-05T20:00:00.000Z</td>\n",
       "      <td>6.778101e+76</td>\n",
       "      <td>0xe8c87f0320802853e22ead69cef537c3fa80d5b9370c...</td>\n",
       "      <td>2</td>\n",
       "      <td>kawaii.box</td>\n",
       "    </tr>\n",
       "    <tr>\n",
       "      <th>3</th>\n",
       "      <td>2024-07-05T20:00:00.000Z</td>\n",
       "      <td>6.778101e+76</td>\n",
       "      <td>0xe8c87f0320802853e22ead69cef537c3fa80d5b9370c...</td>\n",
       "      <td>3</td>\n",
       "      <td>kawaii.box</td>\n",
       "    </tr>\n",
       "    <tr>\n",
       "      <th>4</th>\n",
       "      <td>2024-07-05T16:00:00.000Z</td>\n",
       "      <td>1.013928e+77</td>\n",
       "      <td>0x388ad6ef8ededcf3b310ddbf8c84ccaa2e835afd4b7a...</td>\n",
       "      <td>4</td>\n",
       "      <td>seismic.box</td>\n",
       "    </tr>\n",
       "    <tr>\n",
       "      <th>...</th>\n",
       "      <td>...</td>\n",
       "      <td>...</td>\n",
       "      <td>...</td>\n",
       "      <td>...</td>\n",
       "      <td>...</td>\n",
       "    </tr>\n",
       "    <tr>\n",
       "      <th>32667</th>\n",
       "      <td>2023-10-04T02:00:00.000Z</td>\n",
       "      <td>7.307980e+76</td>\n",
       "      <td>0x981dd9c93e0419a227128b7ee95c620e7dbc88fe92e8...</td>\n",
       "      <td>32667</td>\n",
       "      <td>org</td>\n",
       "    </tr>\n",
       "    <tr>\n",
       "      <th>32668</th>\n",
       "      <td>2023-10-04T02:00:00.000Z</td>\n",
       "      <td>9.704968e+76</td>\n",
       "      <td>0xd7ece008b97cad61f02396def394751c3fa9a4c2844a...</td>\n",
       "      <td>32668</td>\n",
       "      <td>net</td>\n",
       "    </tr>\n",
       "    <tr>\n",
       "      <th>32669</th>\n",
       "      <td>2023-10-04T02:00:00.000Z</td>\n",
       "      <td>9.704968e+76</td>\n",
       "      <td>0xd7ece008b97cad61f02396def394751c3fa9a4c2844a...</td>\n",
       "      <td>32669</td>\n",
       "      <td>net</td>\n",
       "    </tr>\n",
       "    <tr>\n",
       "      <th>32670</th>\n",
       "      <td>2023-10-04T02:00:00.000Z</td>\n",
       "      <td>7.787567e+76</td>\n",
       "      <td>0x64f70f46174e15001ff109ce325f9d0e0d7a571a22ed...</td>\n",
       "      <td>32670</td>\n",
       "      <td>com</td>\n",
       "    </tr>\n",
       "    <tr>\n",
       "      <th>32671</th>\n",
       "      <td>2023-10-04T02:00:00.000Z</td>\n",
       "      <td>7.787567e+76</td>\n",
       "      <td>0x64f70f46174e15001ff109ce325f9d0e0d7a571a22ed...</td>\n",
       "      <td>32671</td>\n",
       "      <td>com</td>\n",
       "    </tr>\n",
       "  </tbody>\n",
       "</table>\n",
       "<p>32672 rows × 5 columns</p>\n",
       "</div>"
      ],
      "text/plain": [
       "                            day       tokenid  \\\n",
       "0      2024-07-05T20:00:00.000Z  8.985197e+76   \n",
       "1      2024-07-05T20:00:00.000Z  8.985197e+76   \n",
       "2      2024-07-05T20:00:00.000Z  6.778101e+76   \n",
       "3      2024-07-05T20:00:00.000Z  6.778101e+76   \n",
       "4      2024-07-05T16:00:00.000Z  1.013928e+77   \n",
       "...                         ...           ...   \n",
       "32667  2023-10-04T02:00:00.000Z  7.307980e+76   \n",
       "32668  2023-10-04T02:00:00.000Z  9.704968e+76   \n",
       "32669  2023-10-04T02:00:00.000Z  9.704968e+76   \n",
       "32670  2023-10-04T02:00:00.000Z  7.787567e+76   \n",
       "32671  2023-10-04T02:00:00.000Z  7.787567e+76   \n",
       "\n",
       "                                                 tx_hash  __row_index  \\\n",
       "0      0x23a609ddf25089081798088ca8c5714be7b76d58ebf5...            0   \n",
       "1      0x23a609ddf25089081798088ca8c5714be7b76d58ebf5...            1   \n",
       "2      0xe8c87f0320802853e22ead69cef537c3fa80d5b9370c...            2   \n",
       "3      0xe8c87f0320802853e22ead69cef537c3fa80d5b9370c...            3   \n",
       "4      0x388ad6ef8ededcf3b310ddbf8c84ccaa2e835afd4b7a...            4   \n",
       "...                                                  ...          ...   \n",
       "32667  0x981dd9c93e0419a227128b7ee95c620e7dbc88fe92e8...        32667   \n",
       "32668  0xd7ece008b97cad61f02396def394751c3fa9a4c2844a...        32668   \n",
       "32669  0xd7ece008b97cad61f02396def394751c3fa9a4c2844a...        32669   \n",
       "32670  0x64f70f46174e15001ff109ce325f9d0e0d7a571a22ed...        32670   \n",
       "32671  0x64f70f46174e15001ff109ce325f9d0e0d7a571a22ed...        32671   \n",
       "\n",
       "                     name  \n",
       "0      cryptocreator.tech  \n",
       "1      cryptocreator.tech  \n",
       "2              kawaii.box  \n",
       "3              kawaii.box  \n",
       "4             seismic.box  \n",
       "...                   ...  \n",
       "32667                 org  \n",
       "32668                 net  \n",
       "32669                 net  \n",
       "32670                 com  \n",
       "32671                 com  \n",
       "\n",
       "[32672 rows x 5 columns]"
      ]
     },
     "execution_count": 36,
     "metadata": {},
     "output_type": "execute_result"
    }
   ],
   "source": [
    "mints_with_names"
   ]
  },
  {
   "cell_type": "code",
   "execution_count": 37,
   "metadata": {},
   "outputs": [
    {
     "name": "stdout",
     "output_type": "stream",
     "text": [
      "['0xb47db1490ab537cbbd227388a32567952c2bf27d5e55864a9415110f2af63ca7', '0xb47db1490ab537cbbd227388a32567952c2bf27d5e55864a9415110f2af63ca7', '0x62f6283e6459d7e2a19c818e515927d159daa57d08ff5b55c79141b7f28b94a3', '0x62f6283e6459d7e2a19c818e515927d159daa57d08ff5b55c79141b7f28b94a3', '0x1f172942f03578e445dfe20e5104a799c87a88a108d4cf095d96c8e841dc8a99', '0x1f172942f03578e445dfe20e5104a799c87a88a108d4cf095d96c8e841dc8a99']\n"
     ]
    }
   ],
   "source": [
    "mints_with_names_null = mints_with_names[mints_with_names.isnull().any(axis=1)]\n",
    "print(list(mints_with_names_null['tx_hash']))"
   ]
  },
  {
   "cell_type": "code",
   "execution_count": 38,
   "metadata": {},
   "outputs": [],
   "source": [
    "mints_with_names.drop_duplicates('tokenid', inplace=True)"
   ]
  },
  {
   "cell_type": "code",
   "execution_count": 39,
   "metadata": {},
   "outputs": [],
   "source": [
    "mints_with_names.drop(columns=['__row_index','tx_hash','tokenid'], inplace=True)"
   ]
  },
  {
   "cell_type": "code",
   "execution_count": 40,
   "metadata": {},
   "outputs": [],
   "source": [
    "mints_with_names.set_index('day', inplace=True)"
   ]
  },
  {
   "cell_type": "code",
   "execution_count": 41,
   "metadata": {},
   "outputs": [],
   "source": [
    "mints_with_names.index = pd.to_datetime(mints_with_names.index)\n",
    "mints_with_names.dropna(inplace=True)"
   ]
  },
  {
   "cell_type": "code",
   "execution_count": 42,
   "metadata": {},
   "outputs": [],
   "source": [
    "box_domains_mints = mints_with_names[mints_with_names['name'].str.endswith('.box')]\n"
   ]
  },
  {
   "cell_type": "code",
   "execution_count": 43,
   "metadata": {},
   "outputs": [
    {
     "data": {
      "text/html": [
       "<div>\n",
       "<style scoped>\n",
       "    .dataframe tbody tr th:only-of-type {\n",
       "        vertical-align: middle;\n",
       "    }\n",
       "\n",
       "    .dataframe tbody tr th {\n",
       "        vertical-align: top;\n",
       "    }\n",
       "\n",
       "    .dataframe thead th {\n",
       "        text-align: right;\n",
       "    }\n",
       "</style>\n",
       "<table border=\"1\" class=\"dataframe\">\n",
       "  <thead>\n",
       "    <tr style=\"text-align: right;\">\n",
       "      <th></th>\n",
       "      <th>name</th>\n",
       "    </tr>\n",
       "    <tr>\n",
       "      <th>day</th>\n",
       "      <th></th>\n",
       "    </tr>\n",
       "  </thead>\n",
       "  <tbody>\n",
       "    <tr>\n",
       "      <th>2024-07-05 20:00:00+00:00</th>\n",
       "      <td>kawaii.box</td>\n",
       "    </tr>\n",
       "    <tr>\n",
       "      <th>2024-07-05 16:00:00+00:00</th>\n",
       "      <td>seismic.box</td>\n",
       "    </tr>\n",
       "    <tr>\n",
       "      <th>2024-07-05 16:00:00+00:00</th>\n",
       "      <td>location.box</td>\n",
       "    </tr>\n",
       "    <tr>\n",
       "      <th>2024-07-05 15:00:00+00:00</th>\n",
       "      <td>sprinter.box</td>\n",
       "    </tr>\n",
       "    <tr>\n",
       "      <th>2024-07-05 15:00:00+00:00</th>\n",
       "      <td>certificate.box</td>\n",
       "    </tr>\n",
       "    <tr>\n",
       "      <th>...</th>\n",
       "      <td>...</td>\n",
       "    </tr>\n",
       "    <tr>\n",
       "      <th>2023-10-31 17:00:00+00:00</th>\n",
       "      <td>duncan.box</td>\n",
       "    </tr>\n",
       "    <tr>\n",
       "      <th>2023-10-26 14:00:00+00:00</th>\n",
       "      <td>intercap-dev.box</td>\n",
       "    </tr>\n",
       "    <tr>\n",
       "      <th>2023-10-24 19:00:00+00:00</th>\n",
       "      <td>s.box</td>\n",
       "    </tr>\n",
       "    <tr>\n",
       "      <th>2023-10-24 18:00:00+00:00</th>\n",
       "      <td>josh.box</td>\n",
       "    </tr>\n",
       "    <tr>\n",
       "      <th>2023-10-04 03:00:00+00:00</th>\n",
       "      <td>3dns.box</td>\n",
       "    </tr>\n",
       "  </tbody>\n",
       "</table>\n",
       "<p>3599 rows × 1 columns</p>\n",
       "</div>"
      ],
      "text/plain": [
       "                                       name\n",
       "day                                        \n",
       "2024-07-05 20:00:00+00:00        kawaii.box\n",
       "2024-07-05 16:00:00+00:00       seismic.box\n",
       "2024-07-05 16:00:00+00:00      location.box\n",
       "2024-07-05 15:00:00+00:00      sprinter.box\n",
       "2024-07-05 15:00:00+00:00   certificate.box\n",
       "...                                     ...\n",
       "2023-10-31 17:00:00+00:00        duncan.box\n",
       "2023-10-26 14:00:00+00:00  intercap-dev.box\n",
       "2023-10-24 19:00:00+00:00             s.box\n",
       "2023-10-24 18:00:00+00:00          josh.box\n",
       "2023-10-04 03:00:00+00:00          3dns.box\n",
       "\n",
       "[3599 rows x 1 columns]"
      ]
     },
     "execution_count": 43,
     "metadata": {},
     "output_type": "execute_result"
    }
   ],
   "source": [
    "box_domains_mints"
   ]
  },
  {
   "cell_type": "code",
   "execution_count": 44,
   "metadata": {},
   "outputs": [],
   "source": [
    "daily_box_mints = box_domains_mints.resample('D').count()"
   ]
  },
  {
   "cell_type": "code",
   "execution_count": 106,
   "metadata": {},
   "outputs": [
    {
     "data": {
      "application/vnd.plotly.v1+json": {
       "config": {
        "plotlyServerURL": "https://plot.ly"
       },
       "data": [
        {
         "alignmentgroup": "True",
         "hovertemplate": "day=%{x}<br>mints=%{y}<extra></extra>",
         "legendgroup": "",
         "marker": {
          "color": "#636efa",
          "pattern": {
           "shape": ""
          }
         },
         "name": "",
         "offsetgroup": "",
         "orientation": "v",
         "showlegend": false,
         "textposition": "auto",
         "type": "bar",
         "x": [
          "2023-10-04T00:00:00+00:00",
          "2023-10-05T00:00:00+00:00",
          "2023-10-06T00:00:00+00:00",
          "2023-10-07T00:00:00+00:00",
          "2023-10-08T00:00:00+00:00",
          "2023-10-09T00:00:00+00:00",
          "2023-10-10T00:00:00+00:00",
          "2023-10-11T00:00:00+00:00",
          "2023-10-12T00:00:00+00:00",
          "2023-10-13T00:00:00+00:00",
          "2023-10-14T00:00:00+00:00",
          "2023-10-15T00:00:00+00:00",
          "2023-10-16T00:00:00+00:00",
          "2023-10-17T00:00:00+00:00",
          "2023-10-18T00:00:00+00:00",
          "2023-10-19T00:00:00+00:00",
          "2023-10-20T00:00:00+00:00",
          "2023-10-21T00:00:00+00:00",
          "2023-10-22T00:00:00+00:00",
          "2023-10-23T00:00:00+00:00",
          "2023-10-24T00:00:00+00:00",
          "2023-10-25T00:00:00+00:00",
          "2023-10-26T00:00:00+00:00",
          "2023-10-27T00:00:00+00:00",
          "2023-10-28T00:00:00+00:00",
          "2023-10-29T00:00:00+00:00",
          "2023-10-30T00:00:00+00:00",
          "2023-10-31T00:00:00+00:00",
          "2023-11-01T00:00:00+00:00",
          "2023-11-02T00:00:00+00:00",
          "2023-11-03T00:00:00+00:00",
          "2023-11-04T00:00:00+00:00",
          "2023-11-05T00:00:00+00:00",
          "2023-11-06T00:00:00+00:00",
          "2023-11-07T00:00:00+00:00",
          "2023-11-08T00:00:00+00:00",
          "2023-11-09T00:00:00+00:00",
          "2023-11-10T00:00:00+00:00",
          "2023-11-11T00:00:00+00:00",
          "2023-11-12T00:00:00+00:00",
          "2023-11-13T00:00:00+00:00",
          "2023-11-14T00:00:00+00:00",
          "2023-11-15T00:00:00+00:00",
          "2023-11-16T00:00:00+00:00",
          "2023-11-17T00:00:00+00:00",
          "2023-11-18T00:00:00+00:00",
          "2023-11-19T00:00:00+00:00",
          "2023-11-20T00:00:00+00:00",
          "2023-11-21T00:00:00+00:00",
          "2023-11-22T00:00:00+00:00",
          "2023-11-23T00:00:00+00:00",
          "2023-11-24T00:00:00+00:00",
          "2023-11-25T00:00:00+00:00",
          "2023-11-26T00:00:00+00:00",
          "2023-11-27T00:00:00+00:00",
          "2023-11-28T00:00:00+00:00",
          "2023-11-29T00:00:00+00:00",
          "2023-11-30T00:00:00+00:00",
          "2023-12-01T00:00:00+00:00",
          "2023-12-02T00:00:00+00:00",
          "2023-12-03T00:00:00+00:00",
          "2023-12-04T00:00:00+00:00",
          "2023-12-05T00:00:00+00:00",
          "2023-12-06T00:00:00+00:00",
          "2023-12-07T00:00:00+00:00",
          "2023-12-08T00:00:00+00:00",
          "2023-12-09T00:00:00+00:00",
          "2023-12-10T00:00:00+00:00",
          "2023-12-11T00:00:00+00:00",
          "2023-12-12T00:00:00+00:00",
          "2023-12-13T00:00:00+00:00",
          "2023-12-14T00:00:00+00:00",
          "2023-12-15T00:00:00+00:00",
          "2023-12-16T00:00:00+00:00",
          "2023-12-17T00:00:00+00:00",
          "2023-12-18T00:00:00+00:00",
          "2023-12-19T00:00:00+00:00",
          "2023-12-20T00:00:00+00:00",
          "2023-12-21T00:00:00+00:00",
          "2023-12-22T00:00:00+00:00",
          "2023-12-23T00:00:00+00:00",
          "2023-12-24T00:00:00+00:00",
          "2023-12-25T00:00:00+00:00",
          "2023-12-26T00:00:00+00:00",
          "2023-12-27T00:00:00+00:00",
          "2023-12-28T00:00:00+00:00",
          "2023-12-29T00:00:00+00:00",
          "2023-12-30T00:00:00+00:00",
          "2023-12-31T00:00:00+00:00",
          "2024-01-01T00:00:00+00:00",
          "2024-01-02T00:00:00+00:00",
          "2024-01-03T00:00:00+00:00",
          "2024-01-04T00:00:00+00:00",
          "2024-01-05T00:00:00+00:00",
          "2024-01-06T00:00:00+00:00",
          "2024-01-07T00:00:00+00:00",
          "2024-01-08T00:00:00+00:00",
          "2024-01-09T00:00:00+00:00",
          "2024-01-10T00:00:00+00:00",
          "2024-01-11T00:00:00+00:00",
          "2024-01-12T00:00:00+00:00",
          "2024-01-13T00:00:00+00:00",
          "2024-01-14T00:00:00+00:00",
          "2024-01-15T00:00:00+00:00",
          "2024-01-16T00:00:00+00:00",
          "2024-01-17T00:00:00+00:00",
          "2024-01-18T00:00:00+00:00",
          "2024-01-19T00:00:00+00:00",
          "2024-01-20T00:00:00+00:00",
          "2024-01-21T00:00:00+00:00",
          "2024-01-22T00:00:00+00:00",
          "2024-01-23T00:00:00+00:00",
          "2024-01-24T00:00:00+00:00",
          "2024-01-25T00:00:00+00:00",
          "2024-01-26T00:00:00+00:00",
          "2024-01-27T00:00:00+00:00",
          "2024-01-28T00:00:00+00:00",
          "2024-01-29T00:00:00+00:00",
          "2024-01-30T00:00:00+00:00",
          "2024-01-31T00:00:00+00:00",
          "2024-02-01T00:00:00+00:00",
          "2024-02-02T00:00:00+00:00",
          "2024-02-03T00:00:00+00:00",
          "2024-02-04T00:00:00+00:00",
          "2024-02-05T00:00:00+00:00",
          "2024-02-06T00:00:00+00:00",
          "2024-02-07T00:00:00+00:00",
          "2024-02-08T00:00:00+00:00",
          "2024-02-09T00:00:00+00:00",
          "2024-02-10T00:00:00+00:00",
          "2024-02-11T00:00:00+00:00",
          "2024-02-12T00:00:00+00:00",
          "2024-02-13T00:00:00+00:00",
          "2024-02-14T00:00:00+00:00",
          "2024-02-15T00:00:00+00:00",
          "2024-02-16T00:00:00+00:00",
          "2024-02-17T00:00:00+00:00",
          "2024-02-18T00:00:00+00:00",
          "2024-02-19T00:00:00+00:00",
          "2024-02-20T00:00:00+00:00",
          "2024-02-21T00:00:00+00:00",
          "2024-02-22T00:00:00+00:00",
          "2024-02-23T00:00:00+00:00",
          "2024-02-24T00:00:00+00:00",
          "2024-02-25T00:00:00+00:00",
          "2024-02-26T00:00:00+00:00",
          "2024-02-27T00:00:00+00:00",
          "2024-02-28T00:00:00+00:00",
          "2024-02-29T00:00:00+00:00",
          "2024-03-01T00:00:00+00:00",
          "2024-03-02T00:00:00+00:00",
          "2024-03-03T00:00:00+00:00",
          "2024-03-04T00:00:00+00:00",
          "2024-03-05T00:00:00+00:00",
          "2024-03-06T00:00:00+00:00",
          "2024-03-07T00:00:00+00:00",
          "2024-03-08T00:00:00+00:00",
          "2024-03-09T00:00:00+00:00",
          "2024-03-10T00:00:00+00:00",
          "2024-03-11T00:00:00+00:00",
          "2024-03-12T00:00:00+00:00",
          "2024-03-13T00:00:00+00:00",
          "2024-03-14T00:00:00+00:00",
          "2024-03-15T00:00:00+00:00",
          "2024-03-16T00:00:00+00:00",
          "2024-03-17T00:00:00+00:00",
          "2024-03-18T00:00:00+00:00",
          "2024-03-19T00:00:00+00:00",
          "2024-03-20T00:00:00+00:00",
          "2024-03-21T00:00:00+00:00",
          "2024-03-22T00:00:00+00:00",
          "2024-03-23T00:00:00+00:00",
          "2024-03-24T00:00:00+00:00",
          "2024-03-25T00:00:00+00:00",
          "2024-03-26T00:00:00+00:00",
          "2024-03-27T00:00:00+00:00",
          "2024-03-28T00:00:00+00:00",
          "2024-03-29T00:00:00+00:00",
          "2024-03-30T00:00:00+00:00",
          "2024-03-31T00:00:00+00:00",
          "2024-04-01T00:00:00+00:00",
          "2024-04-02T00:00:00+00:00",
          "2024-04-03T00:00:00+00:00",
          "2024-04-04T00:00:00+00:00",
          "2024-04-05T00:00:00+00:00",
          "2024-04-06T00:00:00+00:00",
          "2024-04-07T00:00:00+00:00",
          "2024-04-08T00:00:00+00:00",
          "2024-04-09T00:00:00+00:00",
          "2024-04-10T00:00:00+00:00",
          "2024-04-11T00:00:00+00:00",
          "2024-04-12T00:00:00+00:00",
          "2024-04-13T00:00:00+00:00",
          "2024-04-14T00:00:00+00:00",
          "2024-04-15T00:00:00+00:00",
          "2024-04-16T00:00:00+00:00",
          "2024-04-17T00:00:00+00:00",
          "2024-04-18T00:00:00+00:00",
          "2024-04-19T00:00:00+00:00",
          "2024-04-20T00:00:00+00:00",
          "2024-04-21T00:00:00+00:00",
          "2024-04-22T00:00:00+00:00",
          "2024-04-23T00:00:00+00:00",
          "2024-04-24T00:00:00+00:00",
          "2024-04-25T00:00:00+00:00",
          "2024-04-26T00:00:00+00:00",
          "2024-04-27T00:00:00+00:00",
          "2024-04-28T00:00:00+00:00",
          "2024-04-29T00:00:00+00:00",
          "2024-04-30T00:00:00+00:00",
          "2024-05-01T00:00:00+00:00",
          "2024-05-02T00:00:00+00:00",
          "2024-05-03T00:00:00+00:00",
          "2024-05-04T00:00:00+00:00",
          "2024-05-05T00:00:00+00:00",
          "2024-05-06T00:00:00+00:00",
          "2024-05-07T00:00:00+00:00",
          "2024-05-08T00:00:00+00:00",
          "2024-05-09T00:00:00+00:00",
          "2024-05-10T00:00:00+00:00",
          "2024-05-11T00:00:00+00:00",
          "2024-05-12T00:00:00+00:00",
          "2024-05-13T00:00:00+00:00",
          "2024-05-14T00:00:00+00:00",
          "2024-05-15T00:00:00+00:00",
          "2024-05-16T00:00:00+00:00",
          "2024-05-17T00:00:00+00:00",
          "2024-05-18T00:00:00+00:00",
          "2024-05-19T00:00:00+00:00",
          "2024-05-20T00:00:00+00:00",
          "2024-05-21T00:00:00+00:00",
          "2024-05-22T00:00:00+00:00",
          "2024-05-23T00:00:00+00:00",
          "2024-05-24T00:00:00+00:00",
          "2024-05-25T00:00:00+00:00",
          "2024-05-26T00:00:00+00:00",
          "2024-05-27T00:00:00+00:00",
          "2024-05-28T00:00:00+00:00",
          "2024-05-29T00:00:00+00:00",
          "2024-05-30T00:00:00+00:00",
          "2024-05-31T00:00:00+00:00",
          "2024-06-01T00:00:00+00:00",
          "2024-06-02T00:00:00+00:00",
          "2024-06-03T00:00:00+00:00",
          "2024-06-04T00:00:00+00:00",
          "2024-06-05T00:00:00+00:00",
          "2024-06-06T00:00:00+00:00",
          "2024-06-07T00:00:00+00:00",
          "2024-06-08T00:00:00+00:00",
          "2024-06-09T00:00:00+00:00",
          "2024-06-10T00:00:00+00:00",
          "2024-06-11T00:00:00+00:00",
          "2024-06-12T00:00:00+00:00",
          "2024-06-13T00:00:00+00:00",
          "2024-06-14T00:00:00+00:00",
          "2024-06-15T00:00:00+00:00",
          "2024-06-16T00:00:00+00:00",
          "2024-06-17T00:00:00+00:00",
          "2024-06-18T00:00:00+00:00",
          "2024-06-19T00:00:00+00:00",
          "2024-06-20T00:00:00+00:00",
          "2024-06-21T00:00:00+00:00",
          "2024-06-22T00:00:00+00:00",
          "2024-06-23T00:00:00+00:00",
          "2024-06-24T00:00:00+00:00",
          "2024-06-25T00:00:00+00:00",
          "2024-06-26T00:00:00+00:00",
          "2024-06-27T00:00:00+00:00",
          "2024-06-28T00:00:00+00:00",
          "2024-06-29T00:00:00+00:00",
          "2024-06-30T00:00:00+00:00",
          "2024-07-01T00:00:00+00:00",
          "2024-07-02T00:00:00+00:00",
          "2024-07-03T00:00:00+00:00",
          "2024-07-04T00:00:00+00:00",
          "2024-07-05T00:00:00+00:00"
         ],
         "xaxis": "x",
         "y": [
          1,
          0,
          0,
          0,
          0,
          0,
          0,
          0,
          0,
          0,
          0,
          0,
          0,
          0,
          0,
          0,
          0,
          0,
          0,
          0,
          2,
          0,
          1,
          0,
          0,
          0,
          0,
          1,
          1,
          0,
          0,
          0,
          0,
          1,
          0,
          0,
          0,
          0,
          0,
          0,
          0,
          0,
          0,
          0,
          0,
          0,
          0,
          0,
          0,
          0,
          0,
          0,
          0,
          0,
          0,
          0,
          0,
          0,
          0,
          0,
          0,
          0,
          0,
          0,
          0,
          0,
          0,
          0,
          0,
          0,
          0,
          1,
          2,
          0,
          0,
          1,
          3,
          15,
          0,
          0,
          1,
          0,
          0,
          0,
          0,
          0,
          0,
          0,
          0,
          0,
          0,
          0,
          0,
          0,
          0,
          0,
          2,
          2,
          1,
          1,
          0,
          0,
          0,
          0,
          2,
          1,
          3,
          1,
          1,
          22,
          38,
          90,
          455,
          683,
          198,
          142,
          41,
          15,
          13,
          34,
          32,
          29,
          22,
          24,
          8,
          7,
          7,
          8,
          7,
          2,
          3,
          1,
          2,
          2,
          4,
          3,
          1,
          2,
          5,
          0,
          2,
          5,
          10,
          2,
          45,
          27,
          45,
          21,
          23,
          9,
          5,
          2,
          1,
          5,
          4,
          39,
          6,
          0,
          17,
          3,
          4,
          2,
          1,
          16,
          5,
          1,
          3,
          12,
          1,
          1,
          8,
          0,
          1,
          0,
          3,
          5,
          2,
          4,
          1,
          1,
          3,
          2,
          3,
          7,
          4,
          3,
          1,
          4,
          2,
          1,
          6,
          2,
          2,
          1,
          2,
          2,
          2,
          5,
          5,
          1,
          1,
          2,
          100,
          185,
          57,
          39,
          81,
          45,
          43,
          25,
          21,
          22,
          4,
          34,
          10,
          24,
          20,
          34,
          22,
          62,
          10,
          9,
          6,
          7,
          5,
          11,
          6,
          0,
          6,
          5,
          8,
          7,
          4,
          14,
          9,
          6,
          2,
          7,
          24,
          10,
          5,
          14,
          9,
          15,
          19,
          9,
          7,
          6,
          1,
          3,
          3,
          28,
          12,
          17,
          13,
          4,
          4,
          4,
          5,
          3,
          6,
          7,
          2,
          4,
          2,
          5,
          7,
          2,
          1,
          1,
          8,
          6,
          20,
          7,
          4,
          5
         ],
         "yaxis": "y"
        }
       ],
       "layout": {
        "barmode": "relative",
        "legend": {
         "tracegroupgap": 0
        },
        "template": {
         "data": {
          "bar": [
           {
            "error_x": {
             "color": "#2a3f5f"
            },
            "error_y": {
             "color": "#2a3f5f"
            },
            "marker": {
             "line": {
              "color": "#E5ECF6",
              "width": 0.5
             },
             "pattern": {
              "fillmode": "overlay",
              "size": 10,
              "solidity": 0.2
             }
            },
            "type": "bar"
           }
          ],
          "barpolar": [
           {
            "marker": {
             "line": {
              "color": "#E5ECF6",
              "width": 0.5
             },
             "pattern": {
              "fillmode": "overlay",
              "size": 10,
              "solidity": 0.2
             }
            },
            "type": "barpolar"
           }
          ],
          "carpet": [
           {
            "aaxis": {
             "endlinecolor": "#2a3f5f",
             "gridcolor": "white",
             "linecolor": "white",
             "minorgridcolor": "white",
             "startlinecolor": "#2a3f5f"
            },
            "baxis": {
             "endlinecolor": "#2a3f5f",
             "gridcolor": "white",
             "linecolor": "white",
             "minorgridcolor": "white",
             "startlinecolor": "#2a3f5f"
            },
            "type": "carpet"
           }
          ],
          "choropleth": [
           {
            "colorbar": {
             "outlinewidth": 0,
             "ticks": ""
            },
            "type": "choropleth"
           }
          ],
          "contour": [
           {
            "colorbar": {
             "outlinewidth": 0,
             "ticks": ""
            },
            "colorscale": [
             [
              0,
              "#0d0887"
             ],
             [
              0.1111111111111111,
              "#46039f"
             ],
             [
              0.2222222222222222,
              "#7201a8"
             ],
             [
              0.3333333333333333,
              "#9c179e"
             ],
             [
              0.4444444444444444,
              "#bd3786"
             ],
             [
              0.5555555555555556,
              "#d8576b"
             ],
             [
              0.6666666666666666,
              "#ed7953"
             ],
             [
              0.7777777777777778,
              "#fb9f3a"
             ],
             [
              0.8888888888888888,
              "#fdca26"
             ],
             [
              1,
              "#f0f921"
             ]
            ],
            "type": "contour"
           }
          ],
          "contourcarpet": [
           {
            "colorbar": {
             "outlinewidth": 0,
             "ticks": ""
            },
            "type": "contourcarpet"
           }
          ],
          "heatmap": [
           {
            "colorbar": {
             "outlinewidth": 0,
             "ticks": ""
            },
            "colorscale": [
             [
              0,
              "#0d0887"
             ],
             [
              0.1111111111111111,
              "#46039f"
             ],
             [
              0.2222222222222222,
              "#7201a8"
             ],
             [
              0.3333333333333333,
              "#9c179e"
             ],
             [
              0.4444444444444444,
              "#bd3786"
             ],
             [
              0.5555555555555556,
              "#d8576b"
             ],
             [
              0.6666666666666666,
              "#ed7953"
             ],
             [
              0.7777777777777778,
              "#fb9f3a"
             ],
             [
              0.8888888888888888,
              "#fdca26"
             ],
             [
              1,
              "#f0f921"
             ]
            ],
            "type": "heatmap"
           }
          ],
          "heatmapgl": [
           {
            "colorbar": {
             "outlinewidth": 0,
             "ticks": ""
            },
            "colorscale": [
             [
              0,
              "#0d0887"
             ],
             [
              0.1111111111111111,
              "#46039f"
             ],
             [
              0.2222222222222222,
              "#7201a8"
             ],
             [
              0.3333333333333333,
              "#9c179e"
             ],
             [
              0.4444444444444444,
              "#bd3786"
             ],
             [
              0.5555555555555556,
              "#d8576b"
             ],
             [
              0.6666666666666666,
              "#ed7953"
             ],
             [
              0.7777777777777778,
              "#fb9f3a"
             ],
             [
              0.8888888888888888,
              "#fdca26"
             ],
             [
              1,
              "#f0f921"
             ]
            ],
            "type": "heatmapgl"
           }
          ],
          "histogram": [
           {
            "marker": {
             "pattern": {
              "fillmode": "overlay",
              "size": 10,
              "solidity": 0.2
             }
            },
            "type": "histogram"
           }
          ],
          "histogram2d": [
           {
            "colorbar": {
             "outlinewidth": 0,
             "ticks": ""
            },
            "colorscale": [
             [
              0,
              "#0d0887"
             ],
             [
              0.1111111111111111,
              "#46039f"
             ],
             [
              0.2222222222222222,
              "#7201a8"
             ],
             [
              0.3333333333333333,
              "#9c179e"
             ],
             [
              0.4444444444444444,
              "#bd3786"
             ],
             [
              0.5555555555555556,
              "#d8576b"
             ],
             [
              0.6666666666666666,
              "#ed7953"
             ],
             [
              0.7777777777777778,
              "#fb9f3a"
             ],
             [
              0.8888888888888888,
              "#fdca26"
             ],
             [
              1,
              "#f0f921"
             ]
            ],
            "type": "histogram2d"
           }
          ],
          "histogram2dcontour": [
           {
            "colorbar": {
             "outlinewidth": 0,
             "ticks": ""
            },
            "colorscale": [
             [
              0,
              "#0d0887"
             ],
             [
              0.1111111111111111,
              "#46039f"
             ],
             [
              0.2222222222222222,
              "#7201a8"
             ],
             [
              0.3333333333333333,
              "#9c179e"
             ],
             [
              0.4444444444444444,
              "#bd3786"
             ],
             [
              0.5555555555555556,
              "#d8576b"
             ],
             [
              0.6666666666666666,
              "#ed7953"
             ],
             [
              0.7777777777777778,
              "#fb9f3a"
             ],
             [
              0.8888888888888888,
              "#fdca26"
             ],
             [
              1,
              "#f0f921"
             ]
            ],
            "type": "histogram2dcontour"
           }
          ],
          "mesh3d": [
           {
            "colorbar": {
             "outlinewidth": 0,
             "ticks": ""
            },
            "type": "mesh3d"
           }
          ],
          "parcoords": [
           {
            "line": {
             "colorbar": {
              "outlinewidth": 0,
              "ticks": ""
             }
            },
            "type": "parcoords"
           }
          ],
          "pie": [
           {
            "automargin": true,
            "type": "pie"
           }
          ],
          "scatter": [
           {
            "fillpattern": {
             "fillmode": "overlay",
             "size": 10,
             "solidity": 0.2
            },
            "type": "scatter"
           }
          ],
          "scatter3d": [
           {
            "line": {
             "colorbar": {
              "outlinewidth": 0,
              "ticks": ""
             }
            },
            "marker": {
             "colorbar": {
              "outlinewidth": 0,
              "ticks": ""
             }
            },
            "type": "scatter3d"
           }
          ],
          "scattercarpet": [
           {
            "marker": {
             "colorbar": {
              "outlinewidth": 0,
              "ticks": ""
             }
            },
            "type": "scattercarpet"
           }
          ],
          "scattergeo": [
           {
            "marker": {
             "colorbar": {
              "outlinewidth": 0,
              "ticks": ""
             }
            },
            "type": "scattergeo"
           }
          ],
          "scattergl": [
           {
            "marker": {
             "colorbar": {
              "outlinewidth": 0,
              "ticks": ""
             }
            },
            "type": "scattergl"
           }
          ],
          "scattermapbox": [
           {
            "marker": {
             "colorbar": {
              "outlinewidth": 0,
              "ticks": ""
             }
            },
            "type": "scattermapbox"
           }
          ],
          "scatterpolar": [
           {
            "marker": {
             "colorbar": {
              "outlinewidth": 0,
              "ticks": ""
             }
            },
            "type": "scatterpolar"
           }
          ],
          "scatterpolargl": [
           {
            "marker": {
             "colorbar": {
              "outlinewidth": 0,
              "ticks": ""
             }
            },
            "type": "scatterpolargl"
           }
          ],
          "scatterternary": [
           {
            "marker": {
             "colorbar": {
              "outlinewidth": 0,
              "ticks": ""
             }
            },
            "type": "scatterternary"
           }
          ],
          "surface": [
           {
            "colorbar": {
             "outlinewidth": 0,
             "ticks": ""
            },
            "colorscale": [
             [
              0,
              "#0d0887"
             ],
             [
              0.1111111111111111,
              "#46039f"
             ],
             [
              0.2222222222222222,
              "#7201a8"
             ],
             [
              0.3333333333333333,
              "#9c179e"
             ],
             [
              0.4444444444444444,
              "#bd3786"
             ],
             [
              0.5555555555555556,
              "#d8576b"
             ],
             [
              0.6666666666666666,
              "#ed7953"
             ],
             [
              0.7777777777777778,
              "#fb9f3a"
             ],
             [
              0.8888888888888888,
              "#fdca26"
             ],
             [
              1,
              "#f0f921"
             ]
            ],
            "type": "surface"
           }
          ],
          "table": [
           {
            "cells": {
             "fill": {
              "color": "#EBF0F8"
             },
             "line": {
              "color": "white"
             }
            },
            "header": {
             "fill": {
              "color": "#C8D4E3"
             },
             "line": {
              "color": "white"
             }
            },
            "type": "table"
           }
          ]
         },
         "layout": {
          "annotationdefaults": {
           "arrowcolor": "#2a3f5f",
           "arrowhead": 0,
           "arrowwidth": 1
          },
          "autotypenumbers": "strict",
          "coloraxis": {
           "colorbar": {
            "outlinewidth": 0,
            "ticks": ""
           }
          },
          "colorscale": {
           "diverging": [
            [
             0,
             "#8e0152"
            ],
            [
             0.1,
             "#c51b7d"
            ],
            [
             0.2,
             "#de77ae"
            ],
            [
             0.3,
             "#f1b6da"
            ],
            [
             0.4,
             "#fde0ef"
            ],
            [
             0.5,
             "#f7f7f7"
            ],
            [
             0.6,
             "#e6f5d0"
            ],
            [
             0.7,
             "#b8e186"
            ],
            [
             0.8,
             "#7fbc41"
            ],
            [
             0.9,
             "#4d9221"
            ],
            [
             1,
             "#276419"
            ]
           ],
           "sequential": [
            [
             0,
             "#0d0887"
            ],
            [
             0.1111111111111111,
             "#46039f"
            ],
            [
             0.2222222222222222,
             "#7201a8"
            ],
            [
             0.3333333333333333,
             "#9c179e"
            ],
            [
             0.4444444444444444,
             "#bd3786"
            ],
            [
             0.5555555555555556,
             "#d8576b"
            ],
            [
             0.6666666666666666,
             "#ed7953"
            ],
            [
             0.7777777777777778,
             "#fb9f3a"
            ],
            [
             0.8888888888888888,
             "#fdca26"
            ],
            [
             1,
             "#f0f921"
            ]
           ],
           "sequentialminus": [
            [
             0,
             "#0d0887"
            ],
            [
             0.1111111111111111,
             "#46039f"
            ],
            [
             0.2222222222222222,
             "#7201a8"
            ],
            [
             0.3333333333333333,
             "#9c179e"
            ],
            [
             0.4444444444444444,
             "#bd3786"
            ],
            [
             0.5555555555555556,
             "#d8576b"
            ],
            [
             0.6666666666666666,
             "#ed7953"
            ],
            [
             0.7777777777777778,
             "#fb9f3a"
            ],
            [
             0.8888888888888888,
             "#fdca26"
            ],
            [
             1,
             "#f0f921"
            ]
           ]
          },
          "colorway": [
           "#636efa",
           "#EF553B",
           "#00cc96",
           "#ab63fa",
           "#FFA15A",
           "#19d3f3",
           "#FF6692",
           "#B6E880",
           "#FF97FF",
           "#FECB52"
          ],
          "font": {
           "color": "#2a3f5f"
          },
          "geo": {
           "bgcolor": "white",
           "lakecolor": "white",
           "landcolor": "#E5ECF6",
           "showlakes": true,
           "showland": true,
           "subunitcolor": "white"
          },
          "hoverlabel": {
           "align": "left"
          },
          "hovermode": "closest",
          "mapbox": {
           "style": "light"
          },
          "paper_bgcolor": "white",
          "plot_bgcolor": "#E5ECF6",
          "polar": {
           "angularaxis": {
            "gridcolor": "white",
            "linecolor": "white",
            "ticks": ""
           },
           "bgcolor": "#E5ECF6",
           "radialaxis": {
            "gridcolor": "white",
            "linecolor": "white",
            "ticks": ""
           }
          },
          "scene": {
           "xaxis": {
            "backgroundcolor": "#E5ECF6",
            "gridcolor": "white",
            "gridwidth": 2,
            "linecolor": "white",
            "showbackground": true,
            "ticks": "",
            "zerolinecolor": "white"
           },
           "yaxis": {
            "backgroundcolor": "#E5ECF6",
            "gridcolor": "white",
            "gridwidth": 2,
            "linecolor": "white",
            "showbackground": true,
            "ticks": "",
            "zerolinecolor": "white"
           },
           "zaxis": {
            "backgroundcolor": "#E5ECF6",
            "gridcolor": "white",
            "gridwidth": 2,
            "linecolor": "white",
            "showbackground": true,
            "ticks": "",
            "zerolinecolor": "white"
           }
          },
          "shapedefaults": {
           "line": {
            "color": "#2a3f5f"
           }
          },
          "ternary": {
           "aaxis": {
            "gridcolor": "white",
            "linecolor": "white",
            "ticks": ""
           },
           "baxis": {
            "gridcolor": "white",
            "linecolor": "white",
            "ticks": ""
           },
           "bgcolor": "#E5ECF6",
           "caxis": {
            "gridcolor": "white",
            "linecolor": "white",
            "ticks": ""
           }
          },
          "title": {
           "x": 0.05
          },
          "xaxis": {
           "automargin": true,
           "gridcolor": "white",
           "linecolor": "white",
           "ticks": "",
           "title": {
            "standoff": 15
           },
           "zerolinecolor": "white",
           "zerolinewidth": 2
          },
          "yaxis": {
           "automargin": true,
           "gridcolor": "white",
           "linecolor": "white",
           "ticks": "",
           "title": {
            "standoff": 15
           },
           "zerolinecolor": "white",
           "zerolinewidth": 2
          }
         }
        },
        "title": {
         "text": "Daily Mints"
        },
        "xaxis": {
         "anchor": "y",
         "domain": [
          0,
          1
         ],
         "title": {
          "text": "day"
         }
        },
        "yaxis": {
         "anchor": "x",
         "domain": [
          0,
          1
         ],
         "title": {
          "text": "mints"
         }
        }
       }
      }
     },
     "metadata": {},
     "output_type": "display_data"
    }
   ],
   "source": [
    "daily_box_mints.rename(columns={'name':'mints'}, inplace=True)\n",
    "daily_box_mints_fig = px.bar(daily_box_mints, x=daily_box_mints.index, y='mints', title='Daily Mints')\n",
    "daily_box_mints_fig.show()"
   ]
  },
  {
   "cell_type": "code",
   "execution_count": 46,
   "metadata": {},
   "outputs": [
    {
     "data": {
      "text/plain": [
       "3599"
      ]
     },
     "execution_count": 46,
     "metadata": {},
     "output_type": "execute_result"
    }
   ],
   "source": [
    "total_box_mints = box_domains_mints.count().iloc[0]\n",
    "total_box_mints"
   ]
  },
  {
   "cell_type": "code",
   "execution_count": 47,
   "metadata": {},
   "outputs": [],
   "source": [
    "sales_with_names = pd.merge(sales_df, descriptions_df, how='left', on='tokenid')"
   ]
  },
  {
   "cell_type": "code",
   "execution_count": 48,
   "metadata": {},
   "outputs": [],
   "source": [
    "sales_with_names.drop_duplicates('tokenid', inplace=True)\n",
    "sales_with_names.drop(columns=['__row_index','tx_hash','tokenid'], inplace=True)\n",
    "sales_with_names.set_index('day', inplace=True)\n",
    "sales_with_names.index = pd.to_datetime(sales_with_names.index)"
   ]
  },
  {
   "cell_type": "code",
   "execution_count": 56,
   "metadata": {},
   "outputs": [],
   "source": [
    "box_domains_sales = sales_with_names[sales_with_names['name'].str.endswith('.box')]"
   ]
  },
  {
   "cell_type": "code",
   "execution_count": 52,
   "metadata": {},
   "outputs": [],
   "source": [
    "eth_usd_df.set_index('day', inplace=True)\n",
    "eth_usd_df.index = pd.to_datetime(eth_usd_df.index)\n",
    "eth_usd_df.drop(columns=['__row_index'], inplace=True)"
   ]
  },
  {
   "cell_type": "code",
   "execution_count": 55,
   "metadata": {},
   "outputs": [],
   "source": [
    "eth_usd_df.rename(columns={'price':'eth_usd'}, inplace=True)"
   ]
  },
  {
   "cell_type": "code",
   "execution_count": 57,
   "metadata": {},
   "outputs": [],
   "source": [
    "box_domains_sales = box_domains_sales.merge(eth_usd_df, left_index=True, right_index=True, how='left')"
   ]
  },
  {
   "cell_type": "code",
   "execution_count": 59,
   "metadata": {},
   "outputs": [],
   "source": [
    "box_domains_sales['price_usd'] = box_domains_sales['price'] * box_domains_sales['eth_usd']\n",
    "box_domains_sales.rename(columns={'price':'price_eth'}, inplace=True)"
   ]
  },
  {
   "cell_type": "code",
   "execution_count": 61,
   "metadata": {},
   "outputs": [
    {
     "data": {
      "text/html": [
       "<div>\n",
       "<style scoped>\n",
       "    .dataframe tbody tr th:only-of-type {\n",
       "        vertical-align: middle;\n",
       "    }\n",
       "\n",
       "    .dataframe tbody tr th {\n",
       "        vertical-align: top;\n",
       "    }\n",
       "\n",
       "    .dataframe thead th {\n",
       "        text-align: right;\n",
       "    }\n",
       "</style>\n",
       "<table border=\"1\" class=\"dataframe\">\n",
       "  <thead>\n",
       "    <tr style=\"text-align: right;\">\n",
       "      <th></th>\n",
       "      <th>price_eth</th>\n",
       "      <th>name</th>\n",
       "      <th>price_usd</th>\n",
       "    </tr>\n",
       "    <tr>\n",
       "      <th>day</th>\n",
       "      <th></th>\n",
       "      <th></th>\n",
       "      <th></th>\n",
       "    </tr>\n",
       "  </thead>\n",
       "  <tbody>\n",
       "    <tr>\n",
       "      <th>2024-04-17 18:00:00+00:00</th>\n",
       "      <td>0.0100</td>\n",
       "      <td>mewtwo.box</td>\n",
       "      <td>29.610981</td>\n",
       "    </tr>\n",
       "    <tr>\n",
       "      <th>2024-04-24 04:00:00+00:00</th>\n",
       "      <td>0.0290</td>\n",
       "      <td>0000.box</td>\n",
       "      <td>93.923366</td>\n",
       "    </tr>\n",
       "    <tr>\n",
       "      <th>2024-04-25 21:00:00+00:00</th>\n",
       "      <td>0.1000</td>\n",
       "      <td>express.box</td>\n",
       "      <td>317.327581</td>\n",
       "    </tr>\n",
       "    <tr>\n",
       "      <th>2024-04-27 16:00:00+00:00</th>\n",
       "      <td>10.0000</td>\n",
       "      <td>vm.box</td>\n",
       "      <td>31481.468013</td>\n",
       "    </tr>\n",
       "    <tr>\n",
       "      <th>2024-04-27 00:00:00+00:00</th>\n",
       "      <td>0.3675</td>\n",
       "      <td>jane.box</td>\n",
       "      <td>1151.714038</td>\n",
       "    </tr>\n",
       "    <tr>\n",
       "      <th>2024-04-28 07:00:00+00:00</th>\n",
       "      <td>0.0950</td>\n",
       "      <td>good.box</td>\n",
       "      <td>314.608157</td>\n",
       "    </tr>\n",
       "    <tr>\n",
       "      <th>2024-04-28 01:00:00+00:00</th>\n",
       "      <td>0.0690</td>\n",
       "      <td>man.box</td>\n",
       "      <td>224.604619</td>\n",
       "    </tr>\n",
       "    <tr>\n",
       "      <th>2024-05-07 22:00:00+00:00</th>\n",
       "      <td>0.0550</td>\n",
       "      <td>onyx.box</td>\n",
       "      <td>167.833449</td>\n",
       "    </tr>\n",
       "    <tr>\n",
       "      <th>2024-02-03 22:00:00+00:00</th>\n",
       "      <td>0.0144</td>\n",
       "      <td>696.box</td>\n",
       "      <td>33.088886</td>\n",
       "    </tr>\n",
       "    <tr>\n",
       "      <th>2024-02-05 04:00:00+00:00</th>\n",
       "      <td>0.0200</td>\n",
       "      <td>song.box</td>\n",
       "      <td>45.601150</td>\n",
       "    </tr>\n",
       "    <tr>\n",
       "      <th>2024-02-10 19:00:00+00:00</th>\n",
       "      <td>0.0390</td>\n",
       "      <td>to.box</td>\n",
       "      <td>96.974190</td>\n",
       "    </tr>\n",
       "    <tr>\n",
       "      <th>2024-02-20 12:00:00+00:00</th>\n",
       "      <td>0.0700</td>\n",
       "      <td>uae.box</td>\n",
       "      <td>203.189586</td>\n",
       "    </tr>\n",
       "    <tr>\n",
       "      <th>2024-02-22 04:00:00+00:00</th>\n",
       "      <td>0.0400</td>\n",
       "      <td>08.box</td>\n",
       "      <td>116.739602</td>\n",
       "    </tr>\n",
       "    <tr>\n",
       "      <th>2024-02-24 04:00:00+00:00</th>\n",
       "      <td>0.0700</td>\n",
       "      <td>404.box</td>\n",
       "      <td>203.681142</td>\n",
       "    </tr>\n",
       "    <tr>\n",
       "      <th>2024-02-25 07:00:00+00:00</th>\n",
       "      <td>0.1000</td>\n",
       "      <td>38.box</td>\n",
       "      <td>301.731691</td>\n",
       "    </tr>\n",
       "    <tr>\n",
       "      <th>2024-02-25 02:00:00+00:00</th>\n",
       "      <td>0.0400</td>\n",
       "      <td>010.box</td>\n",
       "      <td>119.084361</td>\n",
       "    </tr>\n",
       "    <tr>\n",
       "      <th>2024-02-25 03:00:00+00:00</th>\n",
       "      <td>0.0450</td>\n",
       "      <td>ap.box</td>\n",
       "      <td>134.586008</td>\n",
       "    </tr>\n",
       "    <tr>\n",
       "      <th>2024-02-25 03:00:00+00:00</th>\n",
       "      <td>0.0700</td>\n",
       "      <td>40.box</td>\n",
       "      <td>209.356013</td>\n",
       "    </tr>\n",
       "    <tr>\n",
       "      <th>2024-02-25 03:00:00+00:00</th>\n",
       "      <td>0.0900</td>\n",
       "      <td>70.box</td>\n",
       "      <td>269.172017</td>\n",
       "    </tr>\n",
       "    <tr>\n",
       "      <th>2024-02-25 03:00:00+00:00</th>\n",
       "      <td>0.0350</td>\n",
       "      <td>015.box</td>\n",
       "      <td>104.678007</td>\n",
       "    </tr>\n",
       "    <tr>\n",
       "      <th>2024-02-25 03:00:00+00:00</th>\n",
       "      <td>0.0900</td>\n",
       "      <td>75.box</td>\n",
       "      <td>269.172017</td>\n",
       "    </tr>\n",
       "  </tbody>\n",
       "</table>\n",
       "</div>"
      ],
      "text/plain": [
       "                           price_eth         name     price_usd\n",
       "day                                                            \n",
       "2024-04-17 18:00:00+00:00     0.0100   mewtwo.box     29.610981\n",
       "2024-04-24 04:00:00+00:00     0.0290     0000.box     93.923366\n",
       "2024-04-25 21:00:00+00:00     0.1000  express.box    317.327581\n",
       "2024-04-27 16:00:00+00:00    10.0000       vm.box  31481.468013\n",
       "2024-04-27 00:00:00+00:00     0.3675     jane.box   1151.714038\n",
       "2024-04-28 07:00:00+00:00     0.0950     good.box    314.608157\n",
       "2024-04-28 01:00:00+00:00     0.0690      man.box    224.604619\n",
       "2024-05-07 22:00:00+00:00     0.0550     onyx.box    167.833449\n",
       "2024-02-03 22:00:00+00:00     0.0144      696.box     33.088886\n",
       "2024-02-05 04:00:00+00:00     0.0200     song.box     45.601150\n",
       "2024-02-10 19:00:00+00:00     0.0390       to.box     96.974190\n",
       "2024-02-20 12:00:00+00:00     0.0700      uae.box    203.189586\n",
       "2024-02-22 04:00:00+00:00     0.0400       08.box    116.739602\n",
       "2024-02-24 04:00:00+00:00     0.0700      404.box    203.681142\n",
       "2024-02-25 07:00:00+00:00     0.1000       38.box    301.731691\n",
       "2024-02-25 02:00:00+00:00     0.0400      010.box    119.084361\n",
       "2024-02-25 03:00:00+00:00     0.0450       ap.box    134.586008\n",
       "2024-02-25 03:00:00+00:00     0.0700       40.box    209.356013\n",
       "2024-02-25 03:00:00+00:00     0.0900       70.box    269.172017\n",
       "2024-02-25 03:00:00+00:00     0.0350      015.box    104.678007\n",
       "2024-02-25 03:00:00+00:00     0.0900       75.box    269.172017"
      ]
     },
     "execution_count": 61,
     "metadata": {},
     "output_type": "execute_result"
    }
   ],
   "source": [
    "box_domains_sales.drop(columns=['eth_usd'], inplace=True)\n"
   ]
  },
  {
   "cell_type": "code",
   "execution_count": 113,
   "metadata": {},
   "outputs": [
    {
     "name": "stderr",
     "output_type": "stream",
     "text": [
      "C:\\Users\\brandyns pc\\AppData\\Local\\Temp\\ipykernel_12140\\3245620862.py:2: SettingWithCopyWarning:\n",
      "\n",
      "\n",
      "A value is trying to be set on a copy of a slice from a DataFrame\n",
      "\n",
      "See the caveats in the documentation: https://pandas.pydata.org/pandas-docs/stable/user_guide/indexing.html#returning-a-view-versus-a-copy\n",
      "\n"
     ]
    }
   ],
   "source": [
    "box_domains_sales.sort_index(inplace=True)\n",
    "box_domains_mints.sort_index(inplace=True)"
   ]
  },
  {
   "cell_type": "code",
   "execution_count": 81,
   "metadata": {},
   "outputs": [],
   "source": [
    "box_domains_sales = box_domains_sales[['name', 'price_usd','price_eth']]\n"
   ]
  },
  {
   "cell_type": "code",
   "execution_count": 158,
   "metadata": {},
   "outputs": [
    {
     "data": {
      "text/html": [
       "<div>\n",
       "<style scoped>\n",
       "    .dataframe tbody tr th:only-of-type {\n",
       "        vertical-align: middle;\n",
       "    }\n",
       "\n",
       "    .dataframe tbody tr th {\n",
       "        vertical-align: top;\n",
       "    }\n",
       "\n",
       "    .dataframe thead th {\n",
       "        text-align: right;\n",
       "    }\n",
       "</style>\n",
       "<table border=\"1\" class=\"dataframe\">\n",
       "  <thead>\n",
       "    <tr style=\"text-align: right;\">\n",
       "      <th></th>\n",
       "      <th>name</th>\n",
       "      <th>price_usd</th>\n",
       "      <th>price_eth</th>\n",
       "    </tr>\n",
       "    <tr>\n",
       "      <th>day</th>\n",
       "      <th></th>\n",
       "      <th></th>\n",
       "      <th></th>\n",
       "    </tr>\n",
       "  </thead>\n",
       "  <tbody>\n",
       "    <tr>\n",
       "      <th>2024-02-03 22:00:00+00:00</th>\n",
       "      <td>696.box</td>\n",
       "      <td>33.088886</td>\n",
       "      <td>0.0144</td>\n",
       "    </tr>\n",
       "    <tr>\n",
       "      <th>2024-02-05 04:00:00+00:00</th>\n",
       "      <td>song.box</td>\n",
       "      <td>45.601150</td>\n",
       "      <td>0.0200</td>\n",
       "    </tr>\n",
       "    <tr>\n",
       "      <th>2024-02-10 19:00:00+00:00</th>\n",
       "      <td>to.box</td>\n",
       "      <td>96.974190</td>\n",
       "      <td>0.0390</td>\n",
       "    </tr>\n",
       "    <tr>\n",
       "      <th>2024-02-20 12:00:00+00:00</th>\n",
       "      <td>uae.box</td>\n",
       "      <td>203.189586</td>\n",
       "      <td>0.0700</td>\n",
       "    </tr>\n",
       "    <tr>\n",
       "      <th>2024-02-22 04:00:00+00:00</th>\n",
       "      <td>08.box</td>\n",
       "      <td>116.739602</td>\n",
       "      <td>0.0400</td>\n",
       "    </tr>\n",
       "    <tr>\n",
       "      <th>2024-02-24 04:00:00+00:00</th>\n",
       "      <td>404.box</td>\n",
       "      <td>203.681142</td>\n",
       "      <td>0.0700</td>\n",
       "    </tr>\n",
       "    <tr>\n",
       "      <th>2024-02-25 02:00:00+00:00</th>\n",
       "      <td>010.box</td>\n",
       "      <td>119.084361</td>\n",
       "      <td>0.0400</td>\n",
       "    </tr>\n",
       "    <tr>\n",
       "      <th>2024-02-25 03:00:00+00:00</th>\n",
       "      <td>70.box</td>\n",
       "      <td>269.172017</td>\n",
       "      <td>0.0900</td>\n",
       "    </tr>\n",
       "    <tr>\n",
       "      <th>2024-02-25 03:00:00+00:00</th>\n",
       "      <td>40.box</td>\n",
       "      <td>209.356013</td>\n",
       "      <td>0.0700</td>\n",
       "    </tr>\n",
       "    <tr>\n",
       "      <th>2024-02-25 03:00:00+00:00</th>\n",
       "      <td>ap.box</td>\n",
       "      <td>134.586008</td>\n",
       "      <td>0.0450</td>\n",
       "    </tr>\n",
       "    <tr>\n",
       "      <th>2024-02-25 03:00:00+00:00</th>\n",
       "      <td>75.box</td>\n",
       "      <td>269.172017</td>\n",
       "      <td>0.0900</td>\n",
       "    </tr>\n",
       "    <tr>\n",
       "      <th>2024-02-25 03:00:00+00:00</th>\n",
       "      <td>015.box</td>\n",
       "      <td>104.678007</td>\n",
       "      <td>0.0350</td>\n",
       "    </tr>\n",
       "    <tr>\n",
       "      <th>2024-02-25 07:00:00+00:00</th>\n",
       "      <td>38.box</td>\n",
       "      <td>301.731691</td>\n",
       "      <td>0.1000</td>\n",
       "    </tr>\n",
       "    <tr>\n",
       "      <th>2024-04-17 18:00:00+00:00</th>\n",
       "      <td>mewtwo.box</td>\n",
       "      <td>29.610981</td>\n",
       "      <td>0.0100</td>\n",
       "    </tr>\n",
       "    <tr>\n",
       "      <th>2024-04-24 04:00:00+00:00</th>\n",
       "      <td>0000.box</td>\n",
       "      <td>93.923366</td>\n",
       "      <td>0.0290</td>\n",
       "    </tr>\n",
       "    <tr>\n",
       "      <th>2024-04-25 21:00:00+00:00</th>\n",
       "      <td>express.box</td>\n",
       "      <td>317.327581</td>\n",
       "      <td>0.1000</td>\n",
       "    </tr>\n",
       "    <tr>\n",
       "      <th>2024-04-27 00:00:00+00:00</th>\n",
       "      <td>jane.box</td>\n",
       "      <td>1151.714038</td>\n",
       "      <td>0.3675</td>\n",
       "    </tr>\n",
       "    <tr>\n",
       "      <th>2024-04-27 16:00:00+00:00</th>\n",
       "      <td>vm.box</td>\n",
       "      <td>31481.468013</td>\n",
       "      <td>10.0000</td>\n",
       "    </tr>\n",
       "    <tr>\n",
       "      <th>2024-04-28 01:00:00+00:00</th>\n",
       "      <td>man.box</td>\n",
       "      <td>224.604619</td>\n",
       "      <td>0.0690</td>\n",
       "    </tr>\n",
       "    <tr>\n",
       "      <th>2024-04-28 07:00:00+00:00</th>\n",
       "      <td>good.box</td>\n",
       "      <td>314.608157</td>\n",
       "      <td>0.0950</td>\n",
       "    </tr>\n",
       "    <tr>\n",
       "      <th>2024-05-07 22:00:00+00:00</th>\n",
       "      <td>onyx.box</td>\n",
       "      <td>167.833449</td>\n",
       "      <td>0.0550</td>\n",
       "    </tr>\n",
       "  </tbody>\n",
       "</table>\n",
       "</div>"
      ],
      "text/plain": [
       "                                  name     price_usd  price_eth\n",
       "day                                                            \n",
       "2024-02-03 22:00:00+00:00      696.box     33.088886     0.0144\n",
       "2024-02-05 04:00:00+00:00     song.box     45.601150     0.0200\n",
       "2024-02-10 19:00:00+00:00       to.box     96.974190     0.0390\n",
       "2024-02-20 12:00:00+00:00      uae.box    203.189586     0.0700\n",
       "2024-02-22 04:00:00+00:00       08.box    116.739602     0.0400\n",
       "2024-02-24 04:00:00+00:00      404.box    203.681142     0.0700\n",
       "2024-02-25 02:00:00+00:00      010.box    119.084361     0.0400\n",
       "2024-02-25 03:00:00+00:00       70.box    269.172017     0.0900\n",
       "2024-02-25 03:00:00+00:00       40.box    209.356013     0.0700\n",
       "2024-02-25 03:00:00+00:00       ap.box    134.586008     0.0450\n",
       "2024-02-25 03:00:00+00:00       75.box    269.172017     0.0900\n",
       "2024-02-25 03:00:00+00:00      015.box    104.678007     0.0350\n",
       "2024-02-25 07:00:00+00:00       38.box    301.731691     0.1000\n",
       "2024-04-17 18:00:00+00:00   mewtwo.box     29.610981     0.0100\n",
       "2024-04-24 04:00:00+00:00     0000.box     93.923366     0.0290\n",
       "2024-04-25 21:00:00+00:00  express.box    317.327581     0.1000\n",
       "2024-04-27 00:00:00+00:00     jane.box   1151.714038     0.3675\n",
       "2024-04-27 16:00:00+00:00       vm.box  31481.468013    10.0000\n",
       "2024-04-28 01:00:00+00:00      man.box    224.604619     0.0690\n",
       "2024-04-28 07:00:00+00:00     good.box    314.608157     0.0950\n",
       "2024-05-07 22:00:00+00:00     onyx.box    167.833449     0.0550"
      ]
     },
     "execution_count": 158,
     "metadata": {},
     "output_type": "execute_result"
    }
   ],
   "source": [
    "box_domains_sales"
   ]
  },
  {
   "cell_type": "code",
   "execution_count": 82,
   "metadata": {},
   "outputs": [
    {
     "name": "stdout",
     "output_type": "stream",
     "text": [
      "Maximum sale: \n",
      " name               vm.box\n",
      "price_usd    31481.468013\n",
      "price_eth            10.0\n",
      "Name: 2024-04-27 16:00:00+00:00, dtype: object\n"
     ]
    }
   ],
   "source": [
    "max_eth_sale = box_domains_sales['price_eth'].max()\n",
    "max_usd_sale = box_domains_sales['price_usd'].max()\n",
    "\n",
    "# Retrieve the corresponding timestamps\n",
    "max_eth_sale_row = box_domains_sales.loc[box_domains_sales['price_eth'].idxmax()]\n",
    "max_usd_sale_row = box_domains_sales.loc[box_domains_sales['price_usd'].idxmax()]\n",
    "\n",
    "# Display the results\n",
    "print(f\"Maximum sale: \\n {max_eth_sale_row}\")\n"
   ]
  },
  {
   "cell_type": "code",
   "execution_count": 93,
   "metadata": {},
   "outputs": [
    {
     "name": "stdout",
     "output_type": "stream",
     "text": [
      "total .box domain sales as of 2024-07-05 19:24:07.355727 : 21\n"
     ]
    }
   ],
   "source": [
    "total_box_sales = box_domains_sales['name'].count()\n",
    "print(f'total .box domain sales as of {dt.datetime.today()} : {total_box_sales}')"
   ]
  },
  {
   "cell_type": "code",
   "execution_count": 96,
   "metadata": {},
   "outputs": [
    {
     "data": {
      "text/plain": [
       "day\n",
       "2024-02-03 00:00:00+00:00    1\n",
       "2024-02-04 00:00:00+00:00    0\n",
       "2024-02-05 00:00:00+00:00    1\n",
       "2024-02-06 00:00:00+00:00    0\n",
       "2024-02-07 00:00:00+00:00    0\n",
       "                            ..\n",
       "2024-05-03 00:00:00+00:00    0\n",
       "2024-05-04 00:00:00+00:00    0\n",
       "2024-05-05 00:00:00+00:00    0\n",
       "2024-05-06 00:00:00+00:00    0\n",
       "2024-05-07 00:00:00+00:00    1\n",
       "Freq: D, Name: name, Length: 95, dtype: int64"
      ]
     },
     "execution_count": 96,
     "metadata": {},
     "output_type": "execute_result"
    }
   ],
   "source": [
    "daily_box_sales = box_domains_sales['name'].resample('D').count()\n",
    "daily_box_sales"
   ]
  },
  {
   "cell_type": "code",
   "execution_count": 107,
   "metadata": {},
   "outputs": [
    {
     "data": {
      "application/vnd.plotly.v1+json": {
       "config": {
        "plotlyServerURL": "https://plot.ly"
       },
       "data": [
        {
         "alignmentgroup": "True",
         "hovertemplate": "day=%{x}<br>sales=%{y}<extra></extra>",
         "legendgroup": "",
         "marker": {
          "color": "#636efa",
          "pattern": {
           "shape": ""
          }
         },
         "name": "",
         "offsetgroup": "",
         "orientation": "v",
         "showlegend": false,
         "textposition": "auto",
         "type": "bar",
         "x": [
          "2024-02-03T00:00:00+00:00",
          "2024-02-04T00:00:00+00:00",
          "2024-02-05T00:00:00+00:00",
          "2024-02-06T00:00:00+00:00",
          "2024-02-07T00:00:00+00:00",
          "2024-02-08T00:00:00+00:00",
          "2024-02-09T00:00:00+00:00",
          "2024-02-10T00:00:00+00:00",
          "2024-02-11T00:00:00+00:00",
          "2024-02-12T00:00:00+00:00",
          "2024-02-13T00:00:00+00:00",
          "2024-02-14T00:00:00+00:00",
          "2024-02-15T00:00:00+00:00",
          "2024-02-16T00:00:00+00:00",
          "2024-02-17T00:00:00+00:00",
          "2024-02-18T00:00:00+00:00",
          "2024-02-19T00:00:00+00:00",
          "2024-02-20T00:00:00+00:00",
          "2024-02-21T00:00:00+00:00",
          "2024-02-22T00:00:00+00:00",
          "2024-02-23T00:00:00+00:00",
          "2024-02-24T00:00:00+00:00",
          "2024-02-25T00:00:00+00:00",
          "2024-02-26T00:00:00+00:00",
          "2024-02-27T00:00:00+00:00",
          "2024-02-28T00:00:00+00:00",
          "2024-02-29T00:00:00+00:00",
          "2024-03-01T00:00:00+00:00",
          "2024-03-02T00:00:00+00:00",
          "2024-03-03T00:00:00+00:00",
          "2024-03-04T00:00:00+00:00",
          "2024-03-05T00:00:00+00:00",
          "2024-03-06T00:00:00+00:00",
          "2024-03-07T00:00:00+00:00",
          "2024-03-08T00:00:00+00:00",
          "2024-03-09T00:00:00+00:00",
          "2024-03-10T00:00:00+00:00",
          "2024-03-11T00:00:00+00:00",
          "2024-03-12T00:00:00+00:00",
          "2024-03-13T00:00:00+00:00",
          "2024-03-14T00:00:00+00:00",
          "2024-03-15T00:00:00+00:00",
          "2024-03-16T00:00:00+00:00",
          "2024-03-17T00:00:00+00:00",
          "2024-03-18T00:00:00+00:00",
          "2024-03-19T00:00:00+00:00",
          "2024-03-20T00:00:00+00:00",
          "2024-03-21T00:00:00+00:00",
          "2024-03-22T00:00:00+00:00",
          "2024-03-23T00:00:00+00:00",
          "2024-03-24T00:00:00+00:00",
          "2024-03-25T00:00:00+00:00",
          "2024-03-26T00:00:00+00:00",
          "2024-03-27T00:00:00+00:00",
          "2024-03-28T00:00:00+00:00",
          "2024-03-29T00:00:00+00:00",
          "2024-03-30T00:00:00+00:00",
          "2024-03-31T00:00:00+00:00",
          "2024-04-01T00:00:00+00:00",
          "2024-04-02T00:00:00+00:00",
          "2024-04-03T00:00:00+00:00",
          "2024-04-04T00:00:00+00:00",
          "2024-04-05T00:00:00+00:00",
          "2024-04-06T00:00:00+00:00",
          "2024-04-07T00:00:00+00:00",
          "2024-04-08T00:00:00+00:00",
          "2024-04-09T00:00:00+00:00",
          "2024-04-10T00:00:00+00:00",
          "2024-04-11T00:00:00+00:00",
          "2024-04-12T00:00:00+00:00",
          "2024-04-13T00:00:00+00:00",
          "2024-04-14T00:00:00+00:00",
          "2024-04-15T00:00:00+00:00",
          "2024-04-16T00:00:00+00:00",
          "2024-04-17T00:00:00+00:00",
          "2024-04-18T00:00:00+00:00",
          "2024-04-19T00:00:00+00:00",
          "2024-04-20T00:00:00+00:00",
          "2024-04-21T00:00:00+00:00",
          "2024-04-22T00:00:00+00:00",
          "2024-04-23T00:00:00+00:00",
          "2024-04-24T00:00:00+00:00",
          "2024-04-25T00:00:00+00:00",
          "2024-04-26T00:00:00+00:00",
          "2024-04-27T00:00:00+00:00",
          "2024-04-28T00:00:00+00:00",
          "2024-04-29T00:00:00+00:00",
          "2024-04-30T00:00:00+00:00",
          "2024-05-01T00:00:00+00:00",
          "2024-05-02T00:00:00+00:00",
          "2024-05-03T00:00:00+00:00",
          "2024-05-04T00:00:00+00:00",
          "2024-05-05T00:00:00+00:00",
          "2024-05-06T00:00:00+00:00",
          "2024-05-07T00:00:00+00:00"
         ],
         "xaxis": "x",
         "y": [
          1,
          0,
          1,
          0,
          0,
          0,
          0,
          1,
          0,
          0,
          0,
          0,
          0,
          0,
          0,
          0,
          0,
          1,
          0,
          1,
          0,
          1,
          7,
          0,
          0,
          0,
          0,
          0,
          0,
          0,
          0,
          0,
          0,
          0,
          0,
          0,
          0,
          0,
          0,
          0,
          0,
          0,
          0,
          0,
          0,
          0,
          0,
          0,
          0,
          0,
          0,
          0,
          0,
          0,
          0,
          0,
          0,
          0,
          0,
          0,
          0,
          0,
          0,
          0,
          0,
          0,
          0,
          0,
          0,
          0,
          0,
          0,
          0,
          0,
          1,
          0,
          0,
          0,
          0,
          0,
          0,
          1,
          1,
          0,
          2,
          2,
          0,
          0,
          0,
          0,
          0,
          0,
          0,
          0,
          1
         ],
         "yaxis": "y"
        }
       ],
       "layout": {
        "barmode": "relative",
        "legend": {
         "tracegroupgap": 0
        },
        "template": {
         "data": {
          "bar": [
           {
            "error_x": {
             "color": "#2a3f5f"
            },
            "error_y": {
             "color": "#2a3f5f"
            },
            "marker": {
             "line": {
              "color": "#E5ECF6",
              "width": 0.5
             },
             "pattern": {
              "fillmode": "overlay",
              "size": 10,
              "solidity": 0.2
             }
            },
            "type": "bar"
           }
          ],
          "barpolar": [
           {
            "marker": {
             "line": {
              "color": "#E5ECF6",
              "width": 0.5
             },
             "pattern": {
              "fillmode": "overlay",
              "size": 10,
              "solidity": 0.2
             }
            },
            "type": "barpolar"
           }
          ],
          "carpet": [
           {
            "aaxis": {
             "endlinecolor": "#2a3f5f",
             "gridcolor": "white",
             "linecolor": "white",
             "minorgridcolor": "white",
             "startlinecolor": "#2a3f5f"
            },
            "baxis": {
             "endlinecolor": "#2a3f5f",
             "gridcolor": "white",
             "linecolor": "white",
             "minorgridcolor": "white",
             "startlinecolor": "#2a3f5f"
            },
            "type": "carpet"
           }
          ],
          "choropleth": [
           {
            "colorbar": {
             "outlinewidth": 0,
             "ticks": ""
            },
            "type": "choropleth"
           }
          ],
          "contour": [
           {
            "colorbar": {
             "outlinewidth": 0,
             "ticks": ""
            },
            "colorscale": [
             [
              0,
              "#0d0887"
             ],
             [
              0.1111111111111111,
              "#46039f"
             ],
             [
              0.2222222222222222,
              "#7201a8"
             ],
             [
              0.3333333333333333,
              "#9c179e"
             ],
             [
              0.4444444444444444,
              "#bd3786"
             ],
             [
              0.5555555555555556,
              "#d8576b"
             ],
             [
              0.6666666666666666,
              "#ed7953"
             ],
             [
              0.7777777777777778,
              "#fb9f3a"
             ],
             [
              0.8888888888888888,
              "#fdca26"
             ],
             [
              1,
              "#f0f921"
             ]
            ],
            "type": "contour"
           }
          ],
          "contourcarpet": [
           {
            "colorbar": {
             "outlinewidth": 0,
             "ticks": ""
            },
            "type": "contourcarpet"
           }
          ],
          "heatmap": [
           {
            "colorbar": {
             "outlinewidth": 0,
             "ticks": ""
            },
            "colorscale": [
             [
              0,
              "#0d0887"
             ],
             [
              0.1111111111111111,
              "#46039f"
             ],
             [
              0.2222222222222222,
              "#7201a8"
             ],
             [
              0.3333333333333333,
              "#9c179e"
             ],
             [
              0.4444444444444444,
              "#bd3786"
             ],
             [
              0.5555555555555556,
              "#d8576b"
             ],
             [
              0.6666666666666666,
              "#ed7953"
             ],
             [
              0.7777777777777778,
              "#fb9f3a"
             ],
             [
              0.8888888888888888,
              "#fdca26"
             ],
             [
              1,
              "#f0f921"
             ]
            ],
            "type": "heatmap"
           }
          ],
          "heatmapgl": [
           {
            "colorbar": {
             "outlinewidth": 0,
             "ticks": ""
            },
            "colorscale": [
             [
              0,
              "#0d0887"
             ],
             [
              0.1111111111111111,
              "#46039f"
             ],
             [
              0.2222222222222222,
              "#7201a8"
             ],
             [
              0.3333333333333333,
              "#9c179e"
             ],
             [
              0.4444444444444444,
              "#bd3786"
             ],
             [
              0.5555555555555556,
              "#d8576b"
             ],
             [
              0.6666666666666666,
              "#ed7953"
             ],
             [
              0.7777777777777778,
              "#fb9f3a"
             ],
             [
              0.8888888888888888,
              "#fdca26"
             ],
             [
              1,
              "#f0f921"
             ]
            ],
            "type": "heatmapgl"
           }
          ],
          "histogram": [
           {
            "marker": {
             "pattern": {
              "fillmode": "overlay",
              "size": 10,
              "solidity": 0.2
             }
            },
            "type": "histogram"
           }
          ],
          "histogram2d": [
           {
            "colorbar": {
             "outlinewidth": 0,
             "ticks": ""
            },
            "colorscale": [
             [
              0,
              "#0d0887"
             ],
             [
              0.1111111111111111,
              "#46039f"
             ],
             [
              0.2222222222222222,
              "#7201a8"
             ],
             [
              0.3333333333333333,
              "#9c179e"
             ],
             [
              0.4444444444444444,
              "#bd3786"
             ],
             [
              0.5555555555555556,
              "#d8576b"
             ],
             [
              0.6666666666666666,
              "#ed7953"
             ],
             [
              0.7777777777777778,
              "#fb9f3a"
             ],
             [
              0.8888888888888888,
              "#fdca26"
             ],
             [
              1,
              "#f0f921"
             ]
            ],
            "type": "histogram2d"
           }
          ],
          "histogram2dcontour": [
           {
            "colorbar": {
             "outlinewidth": 0,
             "ticks": ""
            },
            "colorscale": [
             [
              0,
              "#0d0887"
             ],
             [
              0.1111111111111111,
              "#46039f"
             ],
             [
              0.2222222222222222,
              "#7201a8"
             ],
             [
              0.3333333333333333,
              "#9c179e"
             ],
             [
              0.4444444444444444,
              "#bd3786"
             ],
             [
              0.5555555555555556,
              "#d8576b"
             ],
             [
              0.6666666666666666,
              "#ed7953"
             ],
             [
              0.7777777777777778,
              "#fb9f3a"
             ],
             [
              0.8888888888888888,
              "#fdca26"
             ],
             [
              1,
              "#f0f921"
             ]
            ],
            "type": "histogram2dcontour"
           }
          ],
          "mesh3d": [
           {
            "colorbar": {
             "outlinewidth": 0,
             "ticks": ""
            },
            "type": "mesh3d"
           }
          ],
          "parcoords": [
           {
            "line": {
             "colorbar": {
              "outlinewidth": 0,
              "ticks": ""
             }
            },
            "type": "parcoords"
           }
          ],
          "pie": [
           {
            "automargin": true,
            "type": "pie"
           }
          ],
          "scatter": [
           {
            "fillpattern": {
             "fillmode": "overlay",
             "size": 10,
             "solidity": 0.2
            },
            "type": "scatter"
           }
          ],
          "scatter3d": [
           {
            "line": {
             "colorbar": {
              "outlinewidth": 0,
              "ticks": ""
             }
            },
            "marker": {
             "colorbar": {
              "outlinewidth": 0,
              "ticks": ""
             }
            },
            "type": "scatter3d"
           }
          ],
          "scattercarpet": [
           {
            "marker": {
             "colorbar": {
              "outlinewidth": 0,
              "ticks": ""
             }
            },
            "type": "scattercarpet"
           }
          ],
          "scattergeo": [
           {
            "marker": {
             "colorbar": {
              "outlinewidth": 0,
              "ticks": ""
             }
            },
            "type": "scattergeo"
           }
          ],
          "scattergl": [
           {
            "marker": {
             "colorbar": {
              "outlinewidth": 0,
              "ticks": ""
             }
            },
            "type": "scattergl"
           }
          ],
          "scattermapbox": [
           {
            "marker": {
             "colorbar": {
              "outlinewidth": 0,
              "ticks": ""
             }
            },
            "type": "scattermapbox"
           }
          ],
          "scatterpolar": [
           {
            "marker": {
             "colorbar": {
              "outlinewidth": 0,
              "ticks": ""
             }
            },
            "type": "scatterpolar"
           }
          ],
          "scatterpolargl": [
           {
            "marker": {
             "colorbar": {
              "outlinewidth": 0,
              "ticks": ""
             }
            },
            "type": "scatterpolargl"
           }
          ],
          "scatterternary": [
           {
            "marker": {
             "colorbar": {
              "outlinewidth": 0,
              "ticks": ""
             }
            },
            "type": "scatterternary"
           }
          ],
          "surface": [
           {
            "colorbar": {
             "outlinewidth": 0,
             "ticks": ""
            },
            "colorscale": [
             [
              0,
              "#0d0887"
             ],
             [
              0.1111111111111111,
              "#46039f"
             ],
             [
              0.2222222222222222,
              "#7201a8"
             ],
             [
              0.3333333333333333,
              "#9c179e"
             ],
             [
              0.4444444444444444,
              "#bd3786"
             ],
             [
              0.5555555555555556,
              "#d8576b"
             ],
             [
              0.6666666666666666,
              "#ed7953"
             ],
             [
              0.7777777777777778,
              "#fb9f3a"
             ],
             [
              0.8888888888888888,
              "#fdca26"
             ],
             [
              1,
              "#f0f921"
             ]
            ],
            "type": "surface"
           }
          ],
          "table": [
           {
            "cells": {
             "fill": {
              "color": "#EBF0F8"
             },
             "line": {
              "color": "white"
             }
            },
            "header": {
             "fill": {
              "color": "#C8D4E3"
             },
             "line": {
              "color": "white"
             }
            },
            "type": "table"
           }
          ]
         },
         "layout": {
          "annotationdefaults": {
           "arrowcolor": "#2a3f5f",
           "arrowhead": 0,
           "arrowwidth": 1
          },
          "autotypenumbers": "strict",
          "coloraxis": {
           "colorbar": {
            "outlinewidth": 0,
            "ticks": ""
           }
          },
          "colorscale": {
           "diverging": [
            [
             0,
             "#8e0152"
            ],
            [
             0.1,
             "#c51b7d"
            ],
            [
             0.2,
             "#de77ae"
            ],
            [
             0.3,
             "#f1b6da"
            ],
            [
             0.4,
             "#fde0ef"
            ],
            [
             0.5,
             "#f7f7f7"
            ],
            [
             0.6,
             "#e6f5d0"
            ],
            [
             0.7,
             "#b8e186"
            ],
            [
             0.8,
             "#7fbc41"
            ],
            [
             0.9,
             "#4d9221"
            ],
            [
             1,
             "#276419"
            ]
           ],
           "sequential": [
            [
             0,
             "#0d0887"
            ],
            [
             0.1111111111111111,
             "#46039f"
            ],
            [
             0.2222222222222222,
             "#7201a8"
            ],
            [
             0.3333333333333333,
             "#9c179e"
            ],
            [
             0.4444444444444444,
             "#bd3786"
            ],
            [
             0.5555555555555556,
             "#d8576b"
            ],
            [
             0.6666666666666666,
             "#ed7953"
            ],
            [
             0.7777777777777778,
             "#fb9f3a"
            ],
            [
             0.8888888888888888,
             "#fdca26"
            ],
            [
             1,
             "#f0f921"
            ]
           ],
           "sequentialminus": [
            [
             0,
             "#0d0887"
            ],
            [
             0.1111111111111111,
             "#46039f"
            ],
            [
             0.2222222222222222,
             "#7201a8"
            ],
            [
             0.3333333333333333,
             "#9c179e"
            ],
            [
             0.4444444444444444,
             "#bd3786"
            ],
            [
             0.5555555555555556,
             "#d8576b"
            ],
            [
             0.6666666666666666,
             "#ed7953"
            ],
            [
             0.7777777777777778,
             "#fb9f3a"
            ],
            [
             0.8888888888888888,
             "#fdca26"
            ],
            [
             1,
             "#f0f921"
            ]
           ]
          },
          "colorway": [
           "#636efa",
           "#EF553B",
           "#00cc96",
           "#ab63fa",
           "#FFA15A",
           "#19d3f3",
           "#FF6692",
           "#B6E880",
           "#FF97FF",
           "#FECB52"
          ],
          "font": {
           "color": "#2a3f5f"
          },
          "geo": {
           "bgcolor": "white",
           "lakecolor": "white",
           "landcolor": "#E5ECF6",
           "showlakes": true,
           "showland": true,
           "subunitcolor": "white"
          },
          "hoverlabel": {
           "align": "left"
          },
          "hovermode": "closest",
          "mapbox": {
           "style": "light"
          },
          "paper_bgcolor": "white",
          "plot_bgcolor": "#E5ECF6",
          "polar": {
           "angularaxis": {
            "gridcolor": "white",
            "linecolor": "white",
            "ticks": ""
           },
           "bgcolor": "#E5ECF6",
           "radialaxis": {
            "gridcolor": "white",
            "linecolor": "white",
            "ticks": ""
           }
          },
          "scene": {
           "xaxis": {
            "backgroundcolor": "#E5ECF6",
            "gridcolor": "white",
            "gridwidth": 2,
            "linecolor": "white",
            "showbackground": true,
            "ticks": "",
            "zerolinecolor": "white"
           },
           "yaxis": {
            "backgroundcolor": "#E5ECF6",
            "gridcolor": "white",
            "gridwidth": 2,
            "linecolor": "white",
            "showbackground": true,
            "ticks": "",
            "zerolinecolor": "white"
           },
           "zaxis": {
            "backgroundcolor": "#E5ECF6",
            "gridcolor": "white",
            "gridwidth": 2,
            "linecolor": "white",
            "showbackground": true,
            "ticks": "",
            "zerolinecolor": "white"
           }
          },
          "shapedefaults": {
           "line": {
            "color": "#2a3f5f"
           }
          },
          "ternary": {
           "aaxis": {
            "gridcolor": "white",
            "linecolor": "white",
            "ticks": ""
           },
           "baxis": {
            "gridcolor": "white",
            "linecolor": "white",
            "ticks": ""
           },
           "bgcolor": "#E5ECF6",
           "caxis": {
            "gridcolor": "white",
            "linecolor": "white",
            "ticks": ""
           }
          },
          "title": {
           "x": 0.05
          },
          "xaxis": {
           "automargin": true,
           "gridcolor": "white",
           "linecolor": "white",
           "ticks": "",
           "title": {
            "standoff": 15
           },
           "zerolinecolor": "white",
           "zerolinewidth": 2
          },
          "yaxis": {
           "automargin": true,
           "gridcolor": "white",
           "linecolor": "white",
           "ticks": "",
           "title": {
            "standoff": 15
           },
           "zerolinecolor": "white",
           "zerolinewidth": 2
          }
         }
        },
        "title": {
         "text": "Daily Sales"
        },
        "xaxis": {
         "anchor": "y",
         "domain": [
          0,
          1
         ],
         "title": {
          "text": "day"
         }
        },
        "yaxis": {
         "anchor": "x",
         "domain": [
          0,
          1
         ],
         "title": {
          "text": "sales"
         }
        }
       }
      }
     },
     "metadata": {},
     "output_type": "display_data"
    }
   ],
   "source": [
    "daily_box_sales_fig = px.bar(daily_box_sales.to_frame('sales'), x=daily_box_sales.index, y='sales', title='Daily Sales')\n",
    "daily_box_sales_fig.show()"
   ]
  },
  {
   "cell_type": "code",
   "execution_count": 111,
   "metadata": {},
   "outputs": [
    {
     "data": {
      "text/html": [
       "<div>\n",
       "<style scoped>\n",
       "    .dataframe tbody tr th:only-of-type {\n",
       "        vertical-align: middle;\n",
       "    }\n",
       "\n",
       "    .dataframe tbody tr th {\n",
       "        vertical-align: top;\n",
       "    }\n",
       "\n",
       "    .dataframe thead th {\n",
       "        text-align: right;\n",
       "    }\n",
       "</style>\n",
       "<table border=\"1\" class=\"dataframe\">\n",
       "  <thead>\n",
       "    <tr style=\"text-align: right;\">\n",
       "      <th></th>\n",
       "      <th>name</th>\n",
       "      <th>price_usd</th>\n",
       "      <th>price_eth</th>\n",
       "    </tr>\n",
       "    <tr>\n",
       "      <th>day</th>\n",
       "      <th></th>\n",
       "      <th></th>\n",
       "      <th></th>\n",
       "    </tr>\n",
       "  </thead>\n",
       "  <tbody>\n",
       "    <tr>\n",
       "      <th>2024-02-25 03:00:00+00:00</th>\n",
       "      <td>015.box</td>\n",
       "      <td>104.678007</td>\n",
       "      <td>0.0350</td>\n",
       "    </tr>\n",
       "    <tr>\n",
       "      <th>2024-02-25 07:00:00+00:00</th>\n",
       "      <td>38.box</td>\n",
       "      <td>301.731691</td>\n",
       "      <td>0.1000</td>\n",
       "    </tr>\n",
       "    <tr>\n",
       "      <th>2024-04-17 18:00:00+00:00</th>\n",
       "      <td>mewtwo.box</td>\n",
       "      <td>29.610981</td>\n",
       "      <td>0.0100</td>\n",
       "    </tr>\n",
       "    <tr>\n",
       "      <th>2024-04-24 04:00:00+00:00</th>\n",
       "      <td>0000.box</td>\n",
       "      <td>93.923366</td>\n",
       "      <td>0.0290</td>\n",
       "    </tr>\n",
       "    <tr>\n",
       "      <th>2024-04-25 21:00:00+00:00</th>\n",
       "      <td>express.box</td>\n",
       "      <td>317.327581</td>\n",
       "      <td>0.1000</td>\n",
       "    </tr>\n",
       "    <tr>\n",
       "      <th>2024-04-27 00:00:00+00:00</th>\n",
       "      <td>jane.box</td>\n",
       "      <td>1151.714038</td>\n",
       "      <td>0.3675</td>\n",
       "    </tr>\n",
       "    <tr>\n",
       "      <th>2024-04-27 16:00:00+00:00</th>\n",
       "      <td>vm.box</td>\n",
       "      <td>31481.468013</td>\n",
       "      <td>10.0000</td>\n",
       "    </tr>\n",
       "    <tr>\n",
       "      <th>2024-04-28 01:00:00+00:00</th>\n",
       "      <td>man.box</td>\n",
       "      <td>224.604619</td>\n",
       "      <td>0.0690</td>\n",
       "    </tr>\n",
       "    <tr>\n",
       "      <th>2024-04-28 07:00:00+00:00</th>\n",
       "      <td>good.box</td>\n",
       "      <td>314.608157</td>\n",
       "      <td>0.0950</td>\n",
       "    </tr>\n",
       "    <tr>\n",
       "      <th>2024-05-07 22:00:00+00:00</th>\n",
       "      <td>onyx.box</td>\n",
       "      <td>167.833449</td>\n",
       "      <td>0.0550</td>\n",
       "    </tr>\n",
       "  </tbody>\n",
       "</table>\n",
       "</div>"
      ],
      "text/plain": [
       "                                  name     price_usd  price_eth\n",
       "day                                                            \n",
       "2024-02-25 03:00:00+00:00      015.box    104.678007     0.0350\n",
       "2024-02-25 07:00:00+00:00       38.box    301.731691     0.1000\n",
       "2024-04-17 18:00:00+00:00   mewtwo.box     29.610981     0.0100\n",
       "2024-04-24 04:00:00+00:00     0000.box     93.923366     0.0290\n",
       "2024-04-25 21:00:00+00:00  express.box    317.327581     0.1000\n",
       "2024-04-27 00:00:00+00:00     jane.box   1151.714038     0.3675\n",
       "2024-04-27 16:00:00+00:00       vm.box  31481.468013    10.0000\n",
       "2024-04-28 01:00:00+00:00      man.box    224.604619     0.0690\n",
       "2024-04-28 07:00:00+00:00     good.box    314.608157     0.0950\n",
       "2024-05-07 22:00:00+00:00     onyx.box    167.833449     0.0550"
      ]
     },
     "execution_count": 111,
     "metadata": {},
     "output_type": "execute_result"
    }
   ],
   "source": [
    "latest_box_domains_sales = box_domains_sales.iloc[-10:] \n",
    "latest_box_domains_sales"
   ]
  },
  {
   "cell_type": "code",
   "execution_count": 114,
   "metadata": {},
   "outputs": [
    {
     "data": {
      "text/html": [
       "<div>\n",
       "<style scoped>\n",
       "    .dataframe tbody tr th:only-of-type {\n",
       "        vertical-align: middle;\n",
       "    }\n",
       "\n",
       "    .dataframe tbody tr th {\n",
       "        vertical-align: top;\n",
       "    }\n",
       "\n",
       "    .dataframe thead th {\n",
       "        text-align: right;\n",
       "    }\n",
       "</style>\n",
       "<table border=\"1\" class=\"dataframe\">\n",
       "  <thead>\n",
       "    <tr style=\"text-align: right;\">\n",
       "      <th></th>\n",
       "      <th>name</th>\n",
       "    </tr>\n",
       "    <tr>\n",
       "      <th>day</th>\n",
       "      <th></th>\n",
       "    </tr>\n",
       "  </thead>\n",
       "  <tbody>\n",
       "    <tr>\n",
       "      <th>2024-07-03 21:00:00+00:00</th>\n",
       "      <td>dogematic.box</td>\n",
       "    </tr>\n",
       "    <tr>\n",
       "      <th>2024-07-04 00:00:00+00:00</th>\n",
       "      <td>engineer.box</td>\n",
       "    </tr>\n",
       "    <tr>\n",
       "      <th>2024-07-04 01:00:00+00:00</th>\n",
       "      <td>loudpunx.box</td>\n",
       "    </tr>\n",
       "    <tr>\n",
       "      <th>2024-07-04 08:00:00+00:00</th>\n",
       "      <td>trader.box</td>\n",
       "    </tr>\n",
       "    <tr>\n",
       "      <th>2024-07-04 18:00:00+00:00</th>\n",
       "      <td>fork.box</td>\n",
       "    </tr>\n",
       "    <tr>\n",
       "      <th>2024-07-05 15:00:00+00:00</th>\n",
       "      <td>certificate.box</td>\n",
       "    </tr>\n",
       "    <tr>\n",
       "      <th>2024-07-05 15:00:00+00:00</th>\n",
       "      <td>sprinter.box</td>\n",
       "    </tr>\n",
       "    <tr>\n",
       "      <th>2024-07-05 16:00:00+00:00</th>\n",
       "      <td>location.box</td>\n",
       "    </tr>\n",
       "    <tr>\n",
       "      <th>2024-07-05 16:00:00+00:00</th>\n",
       "      <td>seismic.box</td>\n",
       "    </tr>\n",
       "    <tr>\n",
       "      <th>2024-07-05 20:00:00+00:00</th>\n",
       "      <td>kawaii.box</td>\n",
       "    </tr>\n",
       "  </tbody>\n",
       "</table>\n",
       "</div>"
      ],
      "text/plain": [
       "                                      name\n",
       "day                                       \n",
       "2024-07-03 21:00:00+00:00    dogematic.box\n",
       "2024-07-04 00:00:00+00:00     engineer.box\n",
       "2024-07-04 01:00:00+00:00     loudpunx.box\n",
       "2024-07-04 08:00:00+00:00       trader.box\n",
       "2024-07-04 18:00:00+00:00         fork.box\n",
       "2024-07-05 15:00:00+00:00  certificate.box\n",
       "2024-07-05 15:00:00+00:00     sprinter.box\n",
       "2024-07-05 16:00:00+00:00     location.box\n",
       "2024-07-05 16:00:00+00:00      seismic.box\n",
       "2024-07-05 20:00:00+00:00       kawaii.box"
      ]
     },
     "execution_count": 114,
     "metadata": {},
     "output_type": "execute_result"
    }
   ],
   "source": [
    "latets_box_domains_mints = box_domains_mints.iloc[-10:]\n",
    "latets_box_domains_mints"
   ]
  },
  {
   "cell_type": "code",
   "execution_count": 117,
   "metadata": {},
   "outputs": [
    {
     "data": {
      "text/plain": [
       "day\n",
       "2024-02-03 00:00:00+00:00     1\n",
       "2024-02-04 00:00:00+00:00     1\n",
       "2024-02-05 00:00:00+00:00     2\n",
       "2024-02-06 00:00:00+00:00     2\n",
       "2024-02-07 00:00:00+00:00     2\n",
       "                             ..\n",
       "2024-05-03 00:00:00+00:00    20\n",
       "2024-05-04 00:00:00+00:00    20\n",
       "2024-05-05 00:00:00+00:00    20\n",
       "2024-05-06 00:00:00+00:00    20\n",
       "2024-05-07 00:00:00+00:00    21\n",
       "Freq: D, Name: name, Length: 95, dtype: int64"
      ]
     },
     "execution_count": 117,
     "metadata": {},
     "output_type": "execute_result"
    }
   ],
   "source": [
    "cumulative_box_sales = daily_box_sales.cumsum()\n",
    "cumulative_box_sales"
   ]
  },
  {
   "cell_type": "code",
   "execution_count": 118,
   "metadata": {},
   "outputs": [
    {
     "name": "stderr",
     "output_type": "stream",
     "text": [
      "C:\\Users\\brandyns pc\\AppData\\Local\\Temp\\ipykernel_12140\\3189873595.py:1: FutureWarning:\n",
      "\n",
      "'M' is deprecated and will be removed in a future version, please use 'ME' instead.\n",
      "\n",
      "C:\\Users\\brandyns pc\\AppData\\Local\\Temp\\ipykernel_12140\\3189873595.py:2: FutureWarning:\n",
      "\n",
      "'M' is deprecated and will be removed in a future version, please use 'ME' instead.\n",
      "\n",
      "C:\\Users\\brandyns pc\\AppData\\Local\\Temp\\ipykernel_12140\\3189873595.py:3: FutureWarning:\n",
      "\n",
      "'M' is deprecated and will be removed in a future version, please use 'ME' instead.\n",
      "\n"
     ]
    }
   ],
   "source": [
    "monthly_max_sold = box_domains_sales['price_usd'].resample('M').max()\n",
    "monthly_min_sold = box_domains_sales['price_usd'].resample('M').min()\n",
    "monthly_avg_sold = box_domains_sales['price_usd'].resample('M').mean()"
   ]
  },
  {
   "cell_type": "code",
   "execution_count": 137,
   "metadata": {},
   "outputs": [],
   "source": [
    "monthly_max_sold.fillna(0, inplace=True)\n",
    "monthly_min_sold.fillna(0, inplace=True)\n",
    "monthly_avg_sold.fillna(0, inplace=True)"
   ]
  },
  {
   "cell_type": "code",
   "execution_count": 134,
   "metadata": {},
   "outputs": [],
   "source": [
    "monthly_box_sales_metrics = pd.merge(monthly_max_sold.to_frame('max_price'), monthly_min_sold.to_frame('min_price'), left_index=True, right_index=True, how='inner')"
   ]
  },
  {
   "cell_type": "code",
   "execution_count": 136,
   "metadata": {},
   "outputs": [
    {
     "data": {
      "text/html": [
       "<div>\n",
       "<style scoped>\n",
       "    .dataframe tbody tr th:only-of-type {\n",
       "        vertical-align: middle;\n",
       "    }\n",
       "\n",
       "    .dataframe tbody tr th {\n",
       "        vertical-align: top;\n",
       "    }\n",
       "\n",
       "    .dataframe thead th {\n",
       "        text-align: right;\n",
       "    }\n",
       "</style>\n",
       "<table border=\"1\" class=\"dataframe\">\n",
       "  <thead>\n",
       "    <tr style=\"text-align: right;\">\n",
       "      <th></th>\n",
       "      <th>max_price</th>\n",
       "      <th>min_price</th>\n",
       "      <th>avg_price</th>\n",
       "    </tr>\n",
       "    <tr>\n",
       "      <th>day</th>\n",
       "      <th></th>\n",
       "      <th></th>\n",
       "      <th></th>\n",
       "    </tr>\n",
       "  </thead>\n",
       "  <tbody>\n",
       "    <tr>\n",
       "      <th>2024-02-29 00:00:00+00:00</th>\n",
       "      <td>301.731691</td>\n",
       "      <td>33.088886</td>\n",
       "      <td>162.081129</td>\n",
       "    </tr>\n",
       "    <tr>\n",
       "      <th>2024-03-31 00:00:00+00:00</th>\n",
       "      <td>0.000000</td>\n",
       "      <td>0.000000</td>\n",
       "      <td>0.000000</td>\n",
       "    </tr>\n",
       "    <tr>\n",
       "      <th>2024-04-30 00:00:00+00:00</th>\n",
       "      <td>31481.468013</td>\n",
       "      <td>29.610981</td>\n",
       "      <td>4801.893822</td>\n",
       "    </tr>\n",
       "    <tr>\n",
       "      <th>2024-05-31 00:00:00+00:00</th>\n",
       "      <td>167.833449</td>\n",
       "      <td>167.833449</td>\n",
       "      <td>167.833449</td>\n",
       "    </tr>\n",
       "  </tbody>\n",
       "</table>\n",
       "</div>"
      ],
      "text/plain": [
       "                              max_price   min_price    avg_price\n",
       "day                                                             \n",
       "2024-02-29 00:00:00+00:00    301.731691   33.088886   162.081129\n",
       "2024-03-31 00:00:00+00:00      0.000000    0.000000     0.000000\n",
       "2024-04-30 00:00:00+00:00  31481.468013   29.610981  4801.893822\n",
       "2024-05-31 00:00:00+00:00    167.833449  167.833449   167.833449"
      ]
     },
     "execution_count": 136,
     "metadata": {},
     "output_type": "execute_result"
    }
   ],
   "source": [
    "monthly_box_sales_metrics.merge(monthly_avg_sold.to_frame('avg_price'), left_index=True, right_index=True, how='inner')"
   ]
  },
  {
   "cell_type": "code",
   "execution_count": 139,
   "metadata": {},
   "outputs": [],
   "source": [
    "daily_sales_metrics = pd.merge(cumulative_box_sales.to_frame('cumulative_sales'), daily_box_sales.to_frame('daily_sales'), \n",
    "                               left_index=True, right_index=True, how='left')"
   ]
  },
  {
   "cell_type": "code",
   "execution_count": 140,
   "metadata": {},
   "outputs": [
    {
     "data": {
      "text/html": [
       "<div>\n",
       "<style scoped>\n",
       "    .dataframe tbody tr th:only-of-type {\n",
       "        vertical-align: middle;\n",
       "    }\n",
       "\n",
       "    .dataframe tbody tr th {\n",
       "        vertical-align: top;\n",
       "    }\n",
       "\n",
       "    .dataframe thead th {\n",
       "        text-align: right;\n",
       "    }\n",
       "</style>\n",
       "<table border=\"1\" class=\"dataframe\">\n",
       "  <thead>\n",
       "    <tr style=\"text-align: right;\">\n",
       "      <th></th>\n",
       "      <th>cumulative_sales</th>\n",
       "      <th>daily_sales</th>\n",
       "    </tr>\n",
       "    <tr>\n",
       "      <th>day</th>\n",
       "      <th></th>\n",
       "      <th></th>\n",
       "    </tr>\n",
       "  </thead>\n",
       "  <tbody>\n",
       "    <tr>\n",
       "      <th>2024-02-03 00:00:00+00:00</th>\n",
       "      <td>1</td>\n",
       "      <td>1</td>\n",
       "    </tr>\n",
       "    <tr>\n",
       "      <th>2024-02-04 00:00:00+00:00</th>\n",
       "      <td>1</td>\n",
       "      <td>0</td>\n",
       "    </tr>\n",
       "    <tr>\n",
       "      <th>2024-02-05 00:00:00+00:00</th>\n",
       "      <td>2</td>\n",
       "      <td>1</td>\n",
       "    </tr>\n",
       "    <tr>\n",
       "      <th>2024-02-06 00:00:00+00:00</th>\n",
       "      <td>2</td>\n",
       "      <td>0</td>\n",
       "    </tr>\n",
       "    <tr>\n",
       "      <th>2024-02-07 00:00:00+00:00</th>\n",
       "      <td>2</td>\n",
       "      <td>0</td>\n",
       "    </tr>\n",
       "    <tr>\n",
       "      <th>...</th>\n",
       "      <td>...</td>\n",
       "      <td>...</td>\n",
       "    </tr>\n",
       "    <tr>\n",
       "      <th>2024-05-03 00:00:00+00:00</th>\n",
       "      <td>20</td>\n",
       "      <td>0</td>\n",
       "    </tr>\n",
       "    <tr>\n",
       "      <th>2024-05-04 00:00:00+00:00</th>\n",
       "      <td>20</td>\n",
       "      <td>0</td>\n",
       "    </tr>\n",
       "    <tr>\n",
       "      <th>2024-05-05 00:00:00+00:00</th>\n",
       "      <td>20</td>\n",
       "      <td>0</td>\n",
       "    </tr>\n",
       "    <tr>\n",
       "      <th>2024-05-06 00:00:00+00:00</th>\n",
       "      <td>20</td>\n",
       "      <td>0</td>\n",
       "    </tr>\n",
       "    <tr>\n",
       "      <th>2024-05-07 00:00:00+00:00</th>\n",
       "      <td>21</td>\n",
       "      <td>1</td>\n",
       "    </tr>\n",
       "  </tbody>\n",
       "</table>\n",
       "<p>95 rows × 2 columns</p>\n",
       "</div>"
      ],
      "text/plain": [
       "                           cumulative_sales  daily_sales\n",
       "day                                                     \n",
       "2024-02-03 00:00:00+00:00                 1            1\n",
       "2024-02-04 00:00:00+00:00                 1            0\n",
       "2024-02-05 00:00:00+00:00                 2            1\n",
       "2024-02-06 00:00:00+00:00                 2            0\n",
       "2024-02-07 00:00:00+00:00                 2            0\n",
       "...                                     ...          ...\n",
       "2024-05-03 00:00:00+00:00                20            0\n",
       "2024-05-04 00:00:00+00:00                20            0\n",
       "2024-05-05 00:00:00+00:00                20            0\n",
       "2024-05-06 00:00:00+00:00                20            0\n",
       "2024-05-07 00:00:00+00:00                21            1\n",
       "\n",
       "[95 rows x 2 columns]"
      ]
     },
     "execution_count": 140,
     "metadata": {},
     "output_type": "execute_result"
    }
   ],
   "source": [
    "daily_sales_metrics"
   ]
  },
  {
   "cell_type": "markdown",
   "metadata": {},
   "source": [
    "***Box Domains Valuation Model***"
   ]
  },
  {
   "cell_type": "markdown",
   "metadata": {},
   "source": [
    "**Data Processing**"
   ]
  },
  {
   "cell_type": "code",
   "execution_count": 154,
   "metadata": {},
   "outputs": [],
   "source": [
    "domain_path = 'E:/Projects/box_app/data/domain-name-sales.tsv'  \n",
    "domain_data = pd.read_csv(domain_path, delimiter='\\t')\n"
   ]
  },
  {
   "cell_type": "code",
   "execution_count": 156,
   "metadata": {},
   "outputs": [],
   "source": [
    "domain_data.set_index('date', inplace=True)\n",
    "domain_data = domain_data.drop(columns=['venue'])\n",
    "domain_data.sort_index(inplace=True)"
   ]
  },
  {
   "cell_type": "code",
   "execution_count": 161,
   "metadata": {},
   "outputs": [
    {
     "data": {
      "text/html": [
       "<div>\n",
       "<style scoped>\n",
       "    .dataframe tbody tr th:only-of-type {\n",
       "        vertical-align: middle;\n",
       "    }\n",
       "\n",
       "    .dataframe tbody tr th {\n",
       "        vertical-align: top;\n",
       "    }\n",
       "\n",
       "    .dataframe thead th {\n",
       "        text-align: right;\n",
       "    }\n",
       "</style>\n",
       "<table border=\"1\" class=\"dataframe\">\n",
       "  <thead>\n",
       "    <tr style=\"text-align: right;\">\n",
       "      <th></th>\n",
       "      <th>domain</th>\n",
       "      <th>price</th>\n",
       "    </tr>\n",
       "    <tr>\n",
       "      <th>date</th>\n",
       "      <th></th>\n",
       "      <th></th>\n",
       "    </tr>\n",
       "  </thead>\n",
       "  <tbody>\n",
       "    <tr>\n",
       "      <th>1999-04-01</th>\n",
       "      <td>altavista.com</td>\n",
       "      <td>3250000</td>\n",
       "    </tr>\n",
       "    <tr>\n",
       "      <th>1999-04-01</th>\n",
       "      <td>bingo.com</td>\n",
       "      <td>1100000</td>\n",
       "    </tr>\n",
       "    <tr>\n",
       "      <th>1999-11-01</th>\n",
       "      <td>fly.com</td>\n",
       "      <td>1500000</td>\n",
       "    </tr>\n",
       "    <tr>\n",
       "      <th>1999-12-01</th>\n",
       "      <td>autos.com</td>\n",
       "      <td>2200000</td>\n",
       "    </tr>\n",
       "    <tr>\n",
       "      <th>1999-12-01</th>\n",
       "      <td>england.com</td>\n",
       "      <td>2000000</td>\n",
       "    </tr>\n",
       "    <tr>\n",
       "      <th>...</th>\n",
       "      <td>...</td>\n",
       "      <td>...</td>\n",
       "    </tr>\n",
       "    <tr>\n",
       "      <th>2021-01-01</th>\n",
       "      <td>yes.movie</td>\n",
       "      <td>253</td>\n",
       "    </tr>\n",
       "    <tr>\n",
       "      <th>2021-01-01</th>\n",
       "      <td>yopal.com</td>\n",
       "      <td>405</td>\n",
       "    </tr>\n",
       "    <tr>\n",
       "      <th>2021-01-01</th>\n",
       "      <td>yougraph.com</td>\n",
       "      <td>1161</td>\n",
       "    </tr>\n",
       "    <tr>\n",
       "      <th>2021-01-01</th>\n",
       "      <td>zenvie.com</td>\n",
       "      <td>349</td>\n",
       "    </tr>\n",
       "    <tr>\n",
       "      <th>2021-01-01</th>\n",
       "      <td>ziggieslivemusic.com</td>\n",
       "      <td>105</td>\n",
       "    </tr>\n",
       "  </tbody>\n",
       "</table>\n",
       "<p>348236 rows × 2 columns</p>\n",
       "</div>"
      ],
      "text/plain": [
       "                          domain    price\n",
       "date                                     \n",
       "1999-04-01         altavista.com  3250000\n",
       "1999-04-01             bingo.com  1100000\n",
       "1999-11-01               fly.com  1500000\n",
       "1999-12-01             autos.com  2200000\n",
       "1999-12-01           england.com  2000000\n",
       "...                          ...      ...\n",
       "2021-01-01             yes.movie      253\n",
       "2021-01-01             yopal.com      405\n",
       "2021-01-01          yougraph.com     1161\n",
       "2021-01-01            zenvie.com      349\n",
       "2021-01-01  ziggieslivemusic.com      105\n",
       "\n",
       "[348236 rows x 2 columns]"
      ]
     },
     "execution_count": 161,
     "metadata": {},
     "output_type": "execute_result"
    }
   ],
   "source": [
    "domain_data.index = pd.to_datetime(domain_data.index)\n",
    "domain_data"
   ]
  },
  {
   "cell_type": "code",
   "execution_count": 180,
   "metadata": {},
   "outputs": [],
   "source": [
    "domain_data['domain_length'] = domain_data['domain'].apply(len)\n",
    "domain_data['num_vowels'] = domain_data['domain'].apply(lambda x: sum([1 for char in x if char in 'aeiou']))\n",
    "domain_data['num_consonants'] = domain_data['domain'].apply(lambda x: sum([1 for char in x if char.isalpha() and char not in 'aeiou']))\n",
    "domain_data['tld'] = domain_data['domain'].apply(lambda x: x.split('.')[-1])  # Extract TLD\n"
   ]
  },
  {
   "cell_type": "code",
   "execution_count": 181,
   "metadata": {},
   "outputs": [
    {
     "data": {
      "text/html": [
       "<div>\n",
       "<style scoped>\n",
       "    .dataframe tbody tr th:only-of-type {\n",
       "        vertical-align: middle;\n",
       "    }\n",
       "\n",
       "    .dataframe tbody tr th {\n",
       "        vertical-align: top;\n",
       "    }\n",
       "\n",
       "    .dataframe thead th {\n",
       "        text-align: right;\n",
       "    }\n",
       "</style>\n",
       "<table border=\"1\" class=\"dataframe\">\n",
       "  <thead>\n",
       "    <tr style=\"text-align: right;\">\n",
       "      <th></th>\n",
       "      <th>domain</th>\n",
       "      <th>price</th>\n",
       "      <th>domain_length</th>\n",
       "      <th>num_vowels</th>\n",
       "      <th>num_consonants</th>\n",
       "      <th>tld</th>\n",
       "    </tr>\n",
       "    <tr>\n",
       "      <th>date</th>\n",
       "      <th></th>\n",
       "      <th></th>\n",
       "      <th></th>\n",
       "      <th></th>\n",
       "      <th></th>\n",
       "      <th></th>\n",
       "    </tr>\n",
       "  </thead>\n",
       "  <tbody>\n",
       "    <tr>\n",
       "      <th>1999-04-01</th>\n",
       "      <td>altavista.com</td>\n",
       "      <td>3250000</td>\n",
       "      <td>13</td>\n",
       "      <td>5</td>\n",
       "      <td>7</td>\n",
       "      <td>com</td>\n",
       "    </tr>\n",
       "    <tr>\n",
       "      <th>1999-04-01</th>\n",
       "      <td>bingo.com</td>\n",
       "      <td>1100000</td>\n",
       "      <td>9</td>\n",
       "      <td>3</td>\n",
       "      <td>5</td>\n",
       "      <td>com</td>\n",
       "    </tr>\n",
       "    <tr>\n",
       "      <th>1999-11-01</th>\n",
       "      <td>fly.com</td>\n",
       "      <td>1500000</td>\n",
       "      <td>7</td>\n",
       "      <td>1</td>\n",
       "      <td>5</td>\n",
       "      <td>com</td>\n",
       "    </tr>\n",
       "    <tr>\n",
       "      <th>1999-12-01</th>\n",
       "      <td>autos.com</td>\n",
       "      <td>2200000</td>\n",
       "      <td>9</td>\n",
       "      <td>4</td>\n",
       "      <td>4</td>\n",
       "      <td>com</td>\n",
       "    </tr>\n",
       "    <tr>\n",
       "      <th>1999-12-01</th>\n",
       "      <td>england.com</td>\n",
       "      <td>2000000</td>\n",
       "      <td>11</td>\n",
       "      <td>3</td>\n",
       "      <td>7</td>\n",
       "      <td>com</td>\n",
       "    </tr>\n",
       "    <tr>\n",
       "      <th>...</th>\n",
       "      <td>...</td>\n",
       "      <td>...</td>\n",
       "      <td>...</td>\n",
       "      <td>...</td>\n",
       "      <td>...</td>\n",
       "      <td>...</td>\n",
       "    </tr>\n",
       "    <tr>\n",
       "      <th>2021-01-01</th>\n",
       "      <td>yes.movie</td>\n",
       "      <td>253</td>\n",
       "      <td>9</td>\n",
       "      <td>4</td>\n",
       "      <td>4</td>\n",
       "      <td>movie</td>\n",
       "    </tr>\n",
       "    <tr>\n",
       "      <th>2021-01-01</th>\n",
       "      <td>yopal.com</td>\n",
       "      <td>405</td>\n",
       "      <td>9</td>\n",
       "      <td>3</td>\n",
       "      <td>5</td>\n",
       "      <td>com</td>\n",
       "    </tr>\n",
       "    <tr>\n",
       "      <th>2021-01-01</th>\n",
       "      <td>yougraph.com</td>\n",
       "      <td>1161</td>\n",
       "      <td>12</td>\n",
       "      <td>4</td>\n",
       "      <td>7</td>\n",
       "      <td>com</td>\n",
       "    </tr>\n",
       "    <tr>\n",
       "      <th>2021-01-01</th>\n",
       "      <td>zenvie.com</td>\n",
       "      <td>349</td>\n",
       "      <td>10</td>\n",
       "      <td>4</td>\n",
       "      <td>5</td>\n",
       "      <td>com</td>\n",
       "    </tr>\n",
       "    <tr>\n",
       "      <th>2021-01-01</th>\n",
       "      <td>ziggieslivemusic.com</td>\n",
       "      <td>105</td>\n",
       "      <td>20</td>\n",
       "      <td>8</td>\n",
       "      <td>11</td>\n",
       "      <td>com</td>\n",
       "    </tr>\n",
       "  </tbody>\n",
       "</table>\n",
       "<p>348236 rows × 6 columns</p>\n",
       "</div>"
      ],
      "text/plain": [
       "                          domain    price  domain_length  num_vowels  \\\n",
       "date                                                                   \n",
       "1999-04-01         altavista.com  3250000             13           5   \n",
       "1999-04-01             bingo.com  1100000              9           3   \n",
       "1999-11-01               fly.com  1500000              7           1   \n",
       "1999-12-01             autos.com  2200000              9           4   \n",
       "1999-12-01           england.com  2000000             11           3   \n",
       "...                          ...      ...            ...         ...   \n",
       "2021-01-01             yes.movie      253              9           4   \n",
       "2021-01-01             yopal.com      405              9           3   \n",
       "2021-01-01          yougraph.com     1161             12           4   \n",
       "2021-01-01            zenvie.com      349             10           4   \n",
       "2021-01-01  ziggieslivemusic.com      105             20           8   \n",
       "\n",
       "            num_consonants    tld  \n",
       "date                               \n",
       "1999-04-01               7    com  \n",
       "1999-04-01               5    com  \n",
       "1999-11-01               5    com  \n",
       "1999-12-01               4    com  \n",
       "1999-12-01               7    com  \n",
       "...                    ...    ...  \n",
       "2021-01-01               4  movie  \n",
       "2021-01-01               5    com  \n",
       "2021-01-01               7    com  \n",
       "2021-01-01               5    com  \n",
       "2021-01-01              11    com  \n",
       "\n",
       "[348236 rows x 6 columns]"
      ]
     },
     "execution_count": 181,
     "metadata": {},
     "output_type": "execute_result"
    }
   ],
   "source": [
    "domain_data"
   ]
  },
  {
   "cell_type": "code",
   "execution_count": 160,
   "metadata": {},
   "outputs": [
    {
     "data": {
      "text/plain": [
       "Index(['name', 'price_usd', 'price_eth'], dtype='object')"
      ]
     },
     "execution_count": 160,
     "metadata": {},
     "output_type": "execute_result"
    }
   ],
   "source": [
    "box_domains_sales.columns"
   ]
  },
  {
   "cell_type": "code",
   "execution_count": 162,
   "metadata": {},
   "outputs": [],
   "source": [
    "filtered_box = box_domains_sales.drop(columns=['price_eth'])\n",
    "filtered_box.rename(columns={'name':'domain', 'price_usd':'price'}, inplace=True)\n"
   ]
  },
  {
   "cell_type": "code",
   "execution_count": 182,
   "metadata": {},
   "outputs": [],
   "source": [
    "filtered_box['domain_length'] = filtered_box['domain'].apply(len)\n",
    "filtered_box['num_vowels'] = filtered_box['domain'].apply(lambda x: sum([1 for char in x if char in 'aeiou']))\n",
    "filtered_box['num_consonants'] = filtered_box['domain'].apply(lambda x: sum([1 for char in x if char.isalpha() and char not in 'aeiou']))\n",
    "filtered_box['tld'] = filtered_box['domain'].apply(lambda x: x.split('.')[-1])  # Extract TLD\n"
   ]
  },
  {
   "cell_type": "code",
   "execution_count": 165,
   "metadata": {},
   "outputs": [
    {
     "ename": "AttributeError",
     "evalue": "'Index' object has no attribute 'strftime'",
     "output_type": "error",
     "traceback": [
      "\u001b[1;31m---------------------------------------------------------------------------\u001b[0m",
      "\u001b[1;31mAttributeError\u001b[0m                            Traceback (most recent call last)",
      "Cell \u001b[1;32mIn[165], line 1\u001b[0m\n\u001b[1;32m----> 1\u001b[0m filtered_box\u001b[38;5;241m.\u001b[39mindex \u001b[38;5;241m=\u001b[39m \u001b[43mfiltered_box\u001b[49m\u001b[38;5;241;43m.\u001b[39;49m\u001b[43mindex\u001b[49m\u001b[38;5;241;43m.\u001b[39;49m\u001b[43mstrftime\u001b[49m(\u001b[38;5;124m'\u001b[39m\u001b[38;5;124m%\u001b[39m\u001b[38;5;124mY-\u001b[39m\u001b[38;5;124m%\u001b[39m\u001b[38;5;124mm-\u001b[39m\u001b[38;5;132;01m%d\u001b[39;00m\u001b[38;5;124m'\u001b[39m)\n\u001b[0;32m      2\u001b[0m filtered_box\n",
      "\u001b[1;31mAttributeError\u001b[0m: 'Index' object has no attribute 'strftime'"
     ]
    }
   ],
   "source": [
    "filtered_box.index = filtered_box.index.strftime('%Y-%m-%d')"
   ]
  },
  {
   "cell_type": "code",
   "execution_count": 189,
   "metadata": {},
   "outputs": [
    {
     "data": {
      "text/html": [
       "<div>\n",
       "<style scoped>\n",
       "    .dataframe tbody tr th:only-of-type {\n",
       "        vertical-align: middle;\n",
       "    }\n",
       "\n",
       "    .dataframe tbody tr th {\n",
       "        vertical-align: top;\n",
       "    }\n",
       "\n",
       "    .dataframe thead th {\n",
       "        text-align: right;\n",
       "    }\n",
       "</style>\n",
       "<table border=\"1\" class=\"dataframe\">\n",
       "  <thead>\n",
       "    <tr style=\"text-align: right;\">\n",
       "      <th></th>\n",
       "      <th>domain</th>\n",
       "      <th>price</th>\n",
       "      <th>domain_length</th>\n",
       "      <th>num_vowels</th>\n",
       "      <th>num_consonants</th>\n",
       "      <th>tld</th>\n",
       "    </tr>\n",
       "    <tr>\n",
       "      <th>day</th>\n",
       "      <th></th>\n",
       "      <th></th>\n",
       "      <th></th>\n",
       "      <th></th>\n",
       "      <th></th>\n",
       "      <th></th>\n",
       "    </tr>\n",
       "  </thead>\n",
       "  <tbody>\n",
       "    <tr>\n",
       "      <th>2024-02-03</th>\n",
       "      <td>696.box</td>\n",
       "      <td>33.088886</td>\n",
       "      <td>7</td>\n",
       "      <td>1</td>\n",
       "      <td>2</td>\n",
       "      <td>box</td>\n",
       "    </tr>\n",
       "    <tr>\n",
       "      <th>2024-02-05</th>\n",
       "      <td>song.box</td>\n",
       "      <td>45.601150</td>\n",
       "      <td>8</td>\n",
       "      <td>2</td>\n",
       "      <td>5</td>\n",
       "      <td>box</td>\n",
       "    </tr>\n",
       "    <tr>\n",
       "      <th>2024-02-10</th>\n",
       "      <td>to.box</td>\n",
       "      <td>96.974190</td>\n",
       "      <td>6</td>\n",
       "      <td>2</td>\n",
       "      <td>3</td>\n",
       "      <td>box</td>\n",
       "    </tr>\n",
       "    <tr>\n",
       "      <th>2024-02-20</th>\n",
       "      <td>uae.box</td>\n",
       "      <td>203.189586</td>\n",
       "      <td>7</td>\n",
       "      <td>4</td>\n",
       "      <td>2</td>\n",
       "      <td>box</td>\n",
       "    </tr>\n",
       "    <tr>\n",
       "      <th>2024-02-22</th>\n",
       "      <td>08.box</td>\n",
       "      <td>116.739602</td>\n",
       "      <td>6</td>\n",
       "      <td>1</td>\n",
       "      <td>2</td>\n",
       "      <td>box</td>\n",
       "    </tr>\n",
       "    <tr>\n",
       "      <th>2024-02-24</th>\n",
       "      <td>404.box</td>\n",
       "      <td>203.681142</td>\n",
       "      <td>7</td>\n",
       "      <td>1</td>\n",
       "      <td>2</td>\n",
       "      <td>box</td>\n",
       "    </tr>\n",
       "    <tr>\n",
       "      <th>2024-02-25</th>\n",
       "      <td>010.box</td>\n",
       "      <td>119.084361</td>\n",
       "      <td>7</td>\n",
       "      <td>1</td>\n",
       "      <td>2</td>\n",
       "      <td>box</td>\n",
       "    </tr>\n",
       "    <tr>\n",
       "      <th>2024-02-25</th>\n",
       "      <td>70.box</td>\n",
       "      <td>269.172017</td>\n",
       "      <td>6</td>\n",
       "      <td>1</td>\n",
       "      <td>2</td>\n",
       "      <td>box</td>\n",
       "    </tr>\n",
       "    <tr>\n",
       "      <th>2024-02-25</th>\n",
       "      <td>40.box</td>\n",
       "      <td>209.356013</td>\n",
       "      <td>6</td>\n",
       "      <td>1</td>\n",
       "      <td>2</td>\n",
       "      <td>box</td>\n",
       "    </tr>\n",
       "    <tr>\n",
       "      <th>2024-02-25</th>\n",
       "      <td>ap.box</td>\n",
       "      <td>134.586008</td>\n",
       "      <td>6</td>\n",
       "      <td>2</td>\n",
       "      <td>3</td>\n",
       "      <td>box</td>\n",
       "    </tr>\n",
       "    <tr>\n",
       "      <th>2024-02-25</th>\n",
       "      <td>75.box</td>\n",
       "      <td>269.172017</td>\n",
       "      <td>6</td>\n",
       "      <td>1</td>\n",
       "      <td>2</td>\n",
       "      <td>box</td>\n",
       "    </tr>\n",
       "    <tr>\n",
       "      <th>2024-02-25</th>\n",
       "      <td>015.box</td>\n",
       "      <td>104.678007</td>\n",
       "      <td>7</td>\n",
       "      <td>1</td>\n",
       "      <td>2</td>\n",
       "      <td>box</td>\n",
       "    </tr>\n",
       "    <tr>\n",
       "      <th>2024-02-25</th>\n",
       "      <td>38.box</td>\n",
       "      <td>301.731691</td>\n",
       "      <td>6</td>\n",
       "      <td>1</td>\n",
       "      <td>2</td>\n",
       "      <td>box</td>\n",
       "    </tr>\n",
       "    <tr>\n",
       "      <th>2024-04-17</th>\n",
       "      <td>mewtwo.box</td>\n",
       "      <td>29.610981</td>\n",
       "      <td>10</td>\n",
       "      <td>3</td>\n",
       "      <td>6</td>\n",
       "      <td>box</td>\n",
       "    </tr>\n",
       "    <tr>\n",
       "      <th>2024-04-24</th>\n",
       "      <td>0000.box</td>\n",
       "      <td>93.923366</td>\n",
       "      <td>8</td>\n",
       "      <td>1</td>\n",
       "      <td>2</td>\n",
       "      <td>box</td>\n",
       "    </tr>\n",
       "    <tr>\n",
       "      <th>2024-04-25</th>\n",
       "      <td>express.box</td>\n",
       "      <td>317.327581</td>\n",
       "      <td>11</td>\n",
       "      <td>3</td>\n",
       "      <td>7</td>\n",
       "      <td>box</td>\n",
       "    </tr>\n",
       "    <tr>\n",
       "      <th>2024-04-27</th>\n",
       "      <td>jane.box</td>\n",
       "      <td>1151.714038</td>\n",
       "      <td>8</td>\n",
       "      <td>3</td>\n",
       "      <td>4</td>\n",
       "      <td>box</td>\n",
       "    </tr>\n",
       "    <tr>\n",
       "      <th>2024-04-27</th>\n",
       "      <td>vm.box</td>\n",
       "      <td>31481.468013</td>\n",
       "      <td>6</td>\n",
       "      <td>1</td>\n",
       "      <td>4</td>\n",
       "      <td>box</td>\n",
       "    </tr>\n",
       "    <tr>\n",
       "      <th>2024-04-28</th>\n",
       "      <td>man.box</td>\n",
       "      <td>224.604619</td>\n",
       "      <td>7</td>\n",
       "      <td>2</td>\n",
       "      <td>4</td>\n",
       "      <td>box</td>\n",
       "    </tr>\n",
       "    <tr>\n",
       "      <th>2024-04-28</th>\n",
       "      <td>good.box</td>\n",
       "      <td>314.608157</td>\n",
       "      <td>8</td>\n",
       "      <td>3</td>\n",
       "      <td>4</td>\n",
       "      <td>box</td>\n",
       "    </tr>\n",
       "    <tr>\n",
       "      <th>2024-05-07</th>\n",
       "      <td>onyx.box</td>\n",
       "      <td>167.833449</td>\n",
       "      <td>8</td>\n",
       "      <td>2</td>\n",
       "      <td>5</td>\n",
       "      <td>box</td>\n",
       "    </tr>\n",
       "  </tbody>\n",
       "</table>\n",
       "</div>"
      ],
      "text/plain": [
       "                 domain         price  domain_length  num_vowels  \\\n",
       "day                                                                \n",
       "2024-02-03      696.box     33.088886              7           1   \n",
       "2024-02-05     song.box     45.601150              8           2   \n",
       "2024-02-10       to.box     96.974190              6           2   \n",
       "2024-02-20      uae.box    203.189586              7           4   \n",
       "2024-02-22       08.box    116.739602              6           1   \n",
       "2024-02-24      404.box    203.681142              7           1   \n",
       "2024-02-25      010.box    119.084361              7           1   \n",
       "2024-02-25       70.box    269.172017              6           1   \n",
       "2024-02-25       40.box    209.356013              6           1   \n",
       "2024-02-25       ap.box    134.586008              6           2   \n",
       "2024-02-25       75.box    269.172017              6           1   \n",
       "2024-02-25      015.box    104.678007              7           1   \n",
       "2024-02-25       38.box    301.731691              6           1   \n",
       "2024-04-17   mewtwo.box     29.610981             10           3   \n",
       "2024-04-24     0000.box     93.923366              8           1   \n",
       "2024-04-25  express.box    317.327581             11           3   \n",
       "2024-04-27     jane.box   1151.714038              8           3   \n",
       "2024-04-27       vm.box  31481.468013              6           1   \n",
       "2024-04-28      man.box    224.604619              7           2   \n",
       "2024-04-28     good.box    314.608157              8           3   \n",
       "2024-05-07     onyx.box    167.833449              8           2   \n",
       "\n",
       "            num_consonants  tld  \n",
       "day                              \n",
       "2024-02-03               2  box  \n",
       "2024-02-05               5  box  \n",
       "2024-02-10               3  box  \n",
       "2024-02-20               2  box  \n",
       "2024-02-22               2  box  \n",
       "2024-02-24               2  box  \n",
       "2024-02-25               2  box  \n",
       "2024-02-25               2  box  \n",
       "2024-02-25               2  box  \n",
       "2024-02-25               3  box  \n",
       "2024-02-25               2  box  \n",
       "2024-02-25               2  box  \n",
       "2024-02-25               2  box  \n",
       "2024-04-17               6  box  \n",
       "2024-04-24               2  box  \n",
       "2024-04-25               7  box  \n",
       "2024-04-27               4  box  \n",
       "2024-04-27               4  box  \n",
       "2024-04-28               4  box  \n",
       "2024-04-28               4  box  \n",
       "2024-05-07               5  box  "
      ]
     },
     "execution_count": 189,
     "metadata": {},
     "output_type": "execute_result"
    }
   ],
   "source": [
    "filtered_box"
   ]
  },
  {
   "cell_type": "code",
   "execution_count": 186,
   "metadata": {},
   "outputs": [],
   "source": [
    "features = ['domain_length', 'num_vowels', 'num_consonants', 'tld']\n",
    "X = domain_data[features]\n",
    "y = domain_data['price']"
   ]
  },
  {
   "cell_type": "code",
   "execution_count": 196,
   "metadata": {},
   "outputs": [],
   "source": [
    "# Preprocess categorical data (TLD) and handle missing values\n",
    "preprocessor = ColumnTransformer(\n",
    "    transformers=[\n",
    "        ('num', Pipeline(steps=[\n",
    "            ('imputer', SimpleImputer(strategy='median')),\n",
    "            ('scaler', StandardScaler())\n",
    "        ]), ['domain_length', 'num_vowels', 'num_consonants']),\n",
    "        ('cat', Pipeline(steps=[\n",
    "            ('imputer', SimpleImputer(strategy='most_frequent')),\n",
    "            ('onehot', OneHotEncoder(handle_unknown='ignore'))\n",
    "        ]), ['tld'])\n",
    "    ]\n",
    ")\n",
    "\n",
    "# Create a pipeline with Ridge regression\n",
    "pipeline = Pipeline(steps=[\n",
    "    ('preprocessor', preprocessor),\n",
    "    ('regressor', Ridge())\n",
    "])\n",
    "\n",
    "# Define the parameter grid for hyperparameter tuning\n",
    "param_grid = {\n",
    "    'regressor__alpha': [0.1, 1.0, 10.0, 100.0, 1000.0]\n",
    "}"
   ]
  },
  {
   "cell_type": "code",
   "execution_count": 197,
   "metadata": {},
   "outputs": [],
   "source": [
    "X_train, X_test, y_train, y_test = train_test_split(X, y, test_size=0.2, random_state=42)\n"
   ]
  },
  {
   "cell_type": "markdown",
   "metadata": {},
   "source": [
    "**Ridge Regression**"
   ]
  },
  {
   "cell_type": "code",
   "execution_count": 198,
   "metadata": {},
   "outputs": [
    {
     "name": "stdout",
     "output_type": "stream",
     "text": [
      "Best Alpha: 1000.0\n",
      "MAE: 2705.0255351946857\n",
      "MSE: 2852191402.3463864\n",
      "R²: 0.0003925999206353392\n"
     ]
    }
   ],
   "source": [
    "grid_search = GridSearchCV(pipeline, param_grid, cv=5, scoring='r2')\n",
    "grid_search.fit(X_train, y_train)\n",
    "\n",
    "# Best model from grid search\n",
    "best_model = grid_search.best_estimator_\n",
    "\n",
    "# Predict and evaluate\n",
    "y_pred = best_model.predict(X_test)\n",
    "mae = mean_absolute_error(y_test, y_pred)\n",
    "mse = mean_squared_error(y_test, y_pred)\n",
    "r2 = r2_score(y_test, y_pred)\n",
    "\n",
    "print(f'Best Alpha: {grid_search.best_params_[\"regressor__alpha\"]}')\n",
    "print(f'MAE: {mae}')\n",
    "print(f'MSE: {mse}')\n",
    "print(f'R²: {r2}')"
   ]
  },
  {
   "cell_type": "markdown",
   "metadata": {},
   "source": [
    "**Random Forest Regressor**"
   ]
  },
  {
   "cell_type": "markdown",
   "metadata": {},
   "source": [
    "pipeline = Pipeline(steps=[\n",
    "    ('preprocessor', preprocessor),\n",
    "    ('regressor', RandomForestRegressor(n_estimators=200, max_depth=20, min_samples_split=5, random_state=42))\n",
    "])\n",
    "\n",
    "# Fit the model\n",
    "pipeline.fit(X_train, y_train)\n",
    "\n",
    "# Predict and evaluate\n",
    "y_pred = pipeline.predict(X_test)\n",
    "mae = mean_absolute_error(y_test, y_pred)\n",
    "mse = mean_squared_error(y_test, y_pred)\n",
    "r2 = r2_score(y_test, y_pred)\n",
    "\n",
    "print(f'MAE: {mae}')\n",
    "print(f'MSE: {mse}')\n",
    "print(f'R²: {r2}')"
   ]
  },
  {
   "cell_type": "markdown",
   "metadata": {},
   "source": [
    "**XGBoost**"
   ]
  },
  {
   "cell_type": "markdown",
   "metadata": {},
   "source": [
    "pipeline = Pipeline(steps=[\n",
    "    ('preprocessor', preprocessor),\n",
    "    ('regressor', XGBRegressor(n_estimators=200, max_depth=5, learning_rate=0.1, random_state=42))\n",
    "])\n",
    "\n",
    "# Fit the model\n",
    "pipeline.fit(X_train, y_train)\n",
    "\n",
    "# Predict and evaluate\n",
    "y_pred = pipeline.predict(X_test)\n",
    "mae = mean_absolute_error(y_test, y_pred)\n",
    "mse = mean_squared_error(y_test, y_pred)\n",
    "r2 = r2_score(y_test, y_pred)\n",
    "\n",
    "print(f'MAE: {mae}')\n",
    "print(f'MSE: {mse}')\n",
    "print(f'R²: {r2}')"
   ]
  },
  {
   "cell_type": "markdown",
   "metadata": {},
   "source": [
    "**LightGBM**"
   ]
  },
  {
   "cell_type": "markdown",
   "metadata": {},
   "source": [
    "pipeline = Pipeline(steps=[\n",
    "    ('preprocessor', preprocessor),\n",
    "    ('regressor', LGBMRegressor(n_estimators=200, max_depth=5, learning_rate=0.1, random_state=42))\n",
    "])\n",
    "\n",
    "# Fit the model\n",
    "pipeline.fit(X_train, y_train)\n",
    "\n",
    "# Predict and evaluate\n",
    "y_pred = pipeline.predict(X_test)\n",
    "mae = mean_absolute_error(y_test, y_pred)\n",
    "mse = mean_squared_error(y_test, y_pred)\n",
    "r2 = r2_score(y_test, y_pred)\n",
    "\n",
    "print(f'MAE: {mae}')\n",
    "print(f'MSE: {mse}')\n",
    "print(f'R²: {r2}')"
   ]
  },
  {
   "cell_type": "markdown",
   "metadata": {},
   "source": [
    "**Cat Boost**"
   ]
  },
  {
   "cell_type": "markdown",
   "metadata": {},
   "source": [
    "pipeline = Pipeline(steps=[\n",
    "    ('preprocessor', preprocessor),\n",
    "    ('regressor', CatBoostRegressor(iterations=200, depth=5, learning_rate=0.1, random_state=42, verbose=0))\n",
    "])\n",
    "\n",
    "# Fit the model\n",
    "pipeline.fit(X_train, y_train)\n",
    "\n",
    "# Predict and evaluate\n",
    "y_pred = pipeline.predict(X_test)\n",
    "mae = mean_absolute_error(y_test, y_pred)\n",
    "mse = mean_squared_error(y_test, y_pred)\n",
    "r2 = r2_score(y_test, y_pred)\n",
    "\n",
    "print(f'MAE: {mae}')\n",
    "print(f'MSE: {mse}')\n",
    "print(f'R²: {r2}')"
   ]
  },
  {
   "cell_type": "markdown",
   "metadata": {},
   "source": [
    "**Best Model**"
   ]
  },
  {
   "cell_type": "code",
   "execution_count": 205,
   "metadata": {},
   "outputs": [],
   "source": [
    "pipeline = Pipeline(steps=[\n",
    "    ('preprocessor', preprocessor),\n",
    "    ('regressor', Ridge(alpha=1000.0))  # Set the best alpha value from grid search\n",
    "])"
   ]
  },
  {
   "cell_type": "code",
   "execution_count": 206,
   "metadata": {},
   "outputs": [
    {
     "name": "stdout",
     "output_type": "stream",
     "text": [
      "MAE: 2705.0255351946857\n",
      "MSE: 2852191402.3463864\n",
      "R²: 0.0003925999206353392\n"
     ]
    }
   ],
   "source": [
    "X_train, X_test, y_train, y_test = train_test_split(X, y, test_size=0.2, random_state=42)\n",
    "pipeline.fit(X_train, y_train)\n",
    "y_pred = pipeline.predict(X_test)\n",
    "mae = mean_absolute_error(y_test, y_pred)\n",
    "mse = mean_squared_error(y_test, y_pred)\n",
    "r2 = r2_score(y_test, y_pred)\n",
    "\n",
    "print(f'MAE: {mae}')\n",
    "print(f'MSE: {mse}')\n",
    "print(f'R²: {r2}')"
   ]
  },
  {
   "cell_type": "code",
   "execution_count": 209,
   "metadata": {},
   "outputs": [
    {
     "data": {
      "text/html": [
       "<div>\n",
       "<style scoped>\n",
       "    .dataframe tbody tr th:only-of-type {\n",
       "        vertical-align: middle;\n",
       "    }\n",
       "\n",
       "    .dataframe tbody tr th {\n",
       "        vertical-align: top;\n",
       "    }\n",
       "\n",
       "    .dataframe thead th {\n",
       "        text-align: right;\n",
       "    }\n",
       "</style>\n",
       "<table border=\"1\" class=\"dataframe\">\n",
       "  <thead>\n",
       "    <tr style=\"text-align: right;\">\n",
       "      <th></th>\n",
       "      <th>domain</th>\n",
       "      <th>price</th>\n",
       "      <th>domain_length</th>\n",
       "      <th>num_vowels</th>\n",
       "      <th>num_consonants</th>\n",
       "      <th>tld</th>\n",
       "      <th>predicted_price</th>\n",
       "    </tr>\n",
       "    <tr>\n",
       "      <th>day</th>\n",
       "      <th></th>\n",
       "      <th></th>\n",
       "      <th></th>\n",
       "      <th></th>\n",
       "      <th></th>\n",
       "      <th></th>\n",
       "      <th></th>\n",
       "    </tr>\n",
       "  </thead>\n",
       "  <tbody>\n",
       "    <tr>\n",
       "      <th>2024-02-03</th>\n",
       "      <td>696.box</td>\n",
       "      <td>33.088886</td>\n",
       "      <td>7</td>\n",
       "      <td>1</td>\n",
       "      <td>2</td>\n",
       "      <td>box</td>\n",
       "      <td>1168.932145</td>\n",
       "    </tr>\n",
       "    <tr>\n",
       "      <th>2024-02-05</th>\n",
       "      <td>song.box</td>\n",
       "      <td>45.601150</td>\n",
       "      <td>8</td>\n",
       "      <td>2</td>\n",
       "      <td>5</td>\n",
       "      <td>box</td>\n",
       "      <td>2173.632242</td>\n",
       "    </tr>\n",
       "    <tr>\n",
       "      <th>2024-02-10</th>\n",
       "      <td>to.box</td>\n",
       "      <td>96.974190</td>\n",
       "      <td>6</td>\n",
       "      <td>2</td>\n",
       "      <td>3</td>\n",
       "      <td>box</td>\n",
       "      <td>3066.390943</td>\n",
       "    </tr>\n",
       "    <tr>\n",
       "      <th>2024-02-20</th>\n",
       "      <td>uae.box</td>\n",
       "      <td>203.189586</td>\n",
       "      <td>7</td>\n",
       "      <td>4</td>\n",
       "      <td>2</td>\n",
       "      <td>box</td>\n",
       "      <td>3180.120862</td>\n",
       "    </tr>\n",
       "    <tr>\n",
       "      <th>2024-02-22</th>\n",
       "      <td>08.box</td>\n",
       "      <td>116.739602</td>\n",
       "      <td>6</td>\n",
       "      <td>1</td>\n",
       "      <td>2</td>\n",
       "      <td>box</td>\n",
       "      <td>2005.653100</td>\n",
       "    </tr>\n",
       "    <tr>\n",
       "      <th>2024-02-24</th>\n",
       "      <td>404.box</td>\n",
       "      <td>203.681142</td>\n",
       "      <td>7</td>\n",
       "      <td>1</td>\n",
       "      <td>2</td>\n",
       "      <td>box</td>\n",
       "      <td>1168.932145</td>\n",
       "    </tr>\n",
       "    <tr>\n",
       "      <th>2024-02-25</th>\n",
       "      <td>010.box</td>\n",
       "      <td>119.084361</td>\n",
       "      <td>7</td>\n",
       "      <td>1</td>\n",
       "      <td>2</td>\n",
       "      <td>box</td>\n",
       "      <td>1168.932145</td>\n",
       "    </tr>\n",
       "    <tr>\n",
       "      <th>2024-02-25</th>\n",
       "      <td>70.box</td>\n",
       "      <td>269.172017</td>\n",
       "      <td>6</td>\n",
       "      <td>1</td>\n",
       "      <td>2</td>\n",
       "      <td>box</td>\n",
       "      <td>2005.653100</td>\n",
       "    </tr>\n",
       "    <tr>\n",
       "      <th>2024-02-25</th>\n",
       "      <td>40.box</td>\n",
       "      <td>209.356013</td>\n",
       "      <td>6</td>\n",
       "      <td>1</td>\n",
       "      <td>2</td>\n",
       "      <td>box</td>\n",
       "      <td>2005.653100</td>\n",
       "    </tr>\n",
       "    <tr>\n",
       "      <th>2024-02-25</th>\n",
       "      <td>ap.box</td>\n",
       "      <td>134.586008</td>\n",
       "      <td>6</td>\n",
       "      <td>2</td>\n",
       "      <td>3</td>\n",
       "      <td>box</td>\n",
       "      <td>3066.390943</td>\n",
       "    </tr>\n",
       "    <tr>\n",
       "      <th>2024-02-25</th>\n",
       "      <td>75.box</td>\n",
       "      <td>269.172017</td>\n",
       "      <td>6</td>\n",
       "      <td>1</td>\n",
       "      <td>2</td>\n",
       "      <td>box</td>\n",
       "      <td>2005.653100</td>\n",
       "    </tr>\n",
       "    <tr>\n",
       "      <th>2024-02-25</th>\n",
       "      <td>015.box</td>\n",
       "      <td>104.678007</td>\n",
       "      <td>7</td>\n",
       "      <td>1</td>\n",
       "      <td>2</td>\n",
       "      <td>box</td>\n",
       "      <td>1168.932145</td>\n",
       "    </tr>\n",
       "    <tr>\n",
       "      <th>2024-02-25</th>\n",
       "      <td>38.box</td>\n",
       "      <td>301.731691</td>\n",
       "      <td>6</td>\n",
       "      <td>1</td>\n",
       "      <td>2</td>\n",
       "      <td>box</td>\n",
       "      <td>2005.653100</td>\n",
       "    </tr>\n",
       "    <tr>\n",
       "      <th>2024-04-17</th>\n",
       "      <td>mewtwo.box</td>\n",
       "      <td>29.610981</td>\n",
       "      <td>10</td>\n",
       "      <td>3</td>\n",
       "      <td>6</td>\n",
       "      <td>box</td>\n",
       "      <td>1560.928176</td>\n",
       "    </tr>\n",
       "    <tr>\n",
       "      <th>2024-04-24</th>\n",
       "      <td>0000.box</td>\n",
       "      <td>93.923366</td>\n",
       "      <td>8</td>\n",
       "      <td>1</td>\n",
       "      <td>2</td>\n",
       "      <td>box</td>\n",
       "      <td>332.211191</td>\n",
       "    </tr>\n",
       "    <tr>\n",
       "      <th>2024-04-25</th>\n",
       "      <td>express.box</td>\n",
       "      <td>317.327581</td>\n",
       "      <td>11</td>\n",
       "      <td>3</td>\n",
       "      <td>7</td>\n",
       "      <td>box</td>\n",
       "      <td>1114.548825</td>\n",
       "    </tr>\n",
       "    <tr>\n",
       "      <th>2024-04-27</th>\n",
       "      <td>jane.box</td>\n",
       "      <td>1151.714038</td>\n",
       "      <td>8</td>\n",
       "      <td>3</td>\n",
       "      <td>4</td>\n",
       "      <td>box</td>\n",
       "      <td>2453.686877</td>\n",
       "    </tr>\n",
       "    <tr>\n",
       "      <th>2024-04-27</th>\n",
       "      <td>vm.box</td>\n",
       "      <td>31481.468013</td>\n",
       "      <td>6</td>\n",
       "      <td>1</td>\n",
       "      <td>4</td>\n",
       "      <td>box</td>\n",
       "      <td>2786.336308</td>\n",
       "    </tr>\n",
       "    <tr>\n",
       "      <th>2024-04-28</th>\n",
       "      <td>man.box</td>\n",
       "      <td>224.604619</td>\n",
       "      <td>7</td>\n",
       "      <td>2</td>\n",
       "      <td>4</td>\n",
       "      <td>box</td>\n",
       "      <td>2620.011592</td>\n",
       "    </tr>\n",
       "    <tr>\n",
       "      <th>2024-04-28</th>\n",
       "      <td>good.box</td>\n",
       "      <td>314.608157</td>\n",
       "      <td>8</td>\n",
       "      <td>3</td>\n",
       "      <td>4</td>\n",
       "      <td>box</td>\n",
       "      <td>2453.686877</td>\n",
       "    </tr>\n",
       "    <tr>\n",
       "      <th>2024-05-07</th>\n",
       "      <td>onyx.box</td>\n",
       "      <td>167.833449</td>\n",
       "      <td>8</td>\n",
       "      <td>2</td>\n",
       "      <td>5</td>\n",
       "      <td>box</td>\n",
       "      <td>2173.632242</td>\n",
       "    </tr>\n",
       "  </tbody>\n",
       "</table>\n",
       "</div>"
      ],
      "text/plain": [
       "                 domain         price  domain_length  num_vowels  \\\n",
       "day                                                                \n",
       "2024-02-03      696.box     33.088886              7           1   \n",
       "2024-02-05     song.box     45.601150              8           2   \n",
       "2024-02-10       to.box     96.974190              6           2   \n",
       "2024-02-20      uae.box    203.189586              7           4   \n",
       "2024-02-22       08.box    116.739602              6           1   \n",
       "2024-02-24      404.box    203.681142              7           1   \n",
       "2024-02-25      010.box    119.084361              7           1   \n",
       "2024-02-25       70.box    269.172017              6           1   \n",
       "2024-02-25       40.box    209.356013              6           1   \n",
       "2024-02-25       ap.box    134.586008              6           2   \n",
       "2024-02-25       75.box    269.172017              6           1   \n",
       "2024-02-25      015.box    104.678007              7           1   \n",
       "2024-02-25       38.box    301.731691              6           1   \n",
       "2024-04-17   mewtwo.box     29.610981             10           3   \n",
       "2024-04-24     0000.box     93.923366              8           1   \n",
       "2024-04-25  express.box    317.327581             11           3   \n",
       "2024-04-27     jane.box   1151.714038              8           3   \n",
       "2024-04-27       vm.box  31481.468013              6           1   \n",
       "2024-04-28      man.box    224.604619              7           2   \n",
       "2024-04-28     good.box    314.608157              8           3   \n",
       "2024-05-07     onyx.box    167.833449              8           2   \n",
       "\n",
       "            num_consonants  tld  predicted_price  \n",
       "day                                               \n",
       "2024-02-03               2  box      1168.932145  \n",
       "2024-02-05               5  box      2173.632242  \n",
       "2024-02-10               3  box      3066.390943  \n",
       "2024-02-20               2  box      3180.120862  \n",
       "2024-02-22               2  box      2005.653100  \n",
       "2024-02-24               2  box      1168.932145  \n",
       "2024-02-25               2  box      1168.932145  \n",
       "2024-02-25               2  box      2005.653100  \n",
       "2024-02-25               2  box      2005.653100  \n",
       "2024-02-25               3  box      3066.390943  \n",
       "2024-02-25               2  box      2005.653100  \n",
       "2024-02-25               2  box      1168.932145  \n",
       "2024-02-25               2  box      2005.653100  \n",
       "2024-04-17               6  box      1560.928176  \n",
       "2024-04-24               2  box       332.211191  \n",
       "2024-04-25               7  box      1114.548825  \n",
       "2024-04-27               4  box      2453.686877  \n",
       "2024-04-27               4  box      2786.336308  \n",
       "2024-04-28               4  box      2620.011592  \n",
       "2024-04-28               4  box      2453.686877  \n",
       "2024-05-07               5  box      2173.632242  "
      ]
     },
     "execution_count": 209,
     "metadata": {},
     "output_type": "execute_result"
    }
   ],
   "source": [
    "filtered_box"
   ]
  },
  {
   "cell_type": "code",
   "execution_count": 208,
   "metadata": {},
   "outputs": [
    {
     "name": "stdout",
     "output_type": "stream",
     "text": [
      "                 domain  predicted_price\n",
      "day                                     \n",
      "2024-02-03      696.box      1168.932145\n",
      "2024-02-05     song.box      2173.632242\n",
      "2024-02-10       to.box      3066.390943\n",
      "2024-02-20      uae.box      3180.120862\n",
      "2024-02-22       08.box      2005.653100\n",
      "2024-02-24      404.box      1168.932145\n",
      "2024-02-25      010.box      1168.932145\n",
      "2024-02-25       70.box      2005.653100\n",
      "2024-02-25       40.box      2005.653100\n",
      "2024-02-25       ap.box      3066.390943\n",
      "2024-02-25       75.box      2005.653100\n",
      "2024-02-25      015.box      1168.932145\n",
      "2024-02-25       38.box      2005.653100\n",
      "2024-04-17   mewtwo.box      1560.928176\n",
      "2024-04-24     0000.box       332.211191\n",
      "2024-04-25  express.box      1114.548825\n",
      "2024-04-27     jane.box      2453.686877\n",
      "2024-04-27       vm.box      2786.336308\n",
      "2024-04-28      man.box      2620.011592\n",
      "2024-04-28     good.box      2453.686877\n",
      "2024-05-07     onyx.box      2173.632242\n"
     ]
    }
   ],
   "source": [
    "box_X = filtered_box[features]\n",
    "\n",
    "# Predict prices for .box domains using the best model\n",
    "filtered_box['predicted_price'] = pipeline.predict(box_X)\n",
    "\n",
    "print(filtered_box[['domain', 'predicted_price']])"
   ]
  },
  {
   "cell_type": "code",
   "execution_count": 210,
   "metadata": {},
   "outputs": [
    {
     "name": "stdout",
     "output_type": "stream",
     "text": [
      "r2 0.0411345241547072\n"
     ]
    }
   ],
   "source": [
    "r2 = r2_score(filtered_box['price'], filtered_box['predicted_price'])\n",
    "print(f'r2 {r2}')"
   ]
  },
  {
   "cell_type": "markdown",
   "metadata": {},
   "source": [
    "**.Box Domain Valuator**"
   ]
  },
  {
   "cell_type": "code",
   "execution_count": 211,
   "metadata": {},
   "outputs": [
    {
     "data": {
      "text/html": [
       "<div>\n",
       "<style scoped>\n",
       "    .dataframe tbody tr th:only-of-type {\n",
       "        vertical-align: middle;\n",
       "    }\n",
       "\n",
       "    .dataframe tbody tr th {\n",
       "        vertical-align: top;\n",
       "    }\n",
       "\n",
       "    .dataframe thead th {\n",
       "        text-align: right;\n",
       "    }\n",
       "</style>\n",
       "<table border=\"1\" class=\"dataframe\">\n",
       "  <thead>\n",
       "    <tr style=\"text-align: right;\">\n",
       "      <th></th>\n",
       "      <th>domain</th>\n",
       "      <th>price</th>\n",
       "      <th>domain_length</th>\n",
       "      <th>num_vowels</th>\n",
       "      <th>num_consonants</th>\n",
       "      <th>tld</th>\n",
       "    </tr>\n",
       "    <tr>\n",
       "      <th>day</th>\n",
       "      <th></th>\n",
       "      <th></th>\n",
       "      <th></th>\n",
       "      <th></th>\n",
       "      <th></th>\n",
       "      <th></th>\n",
       "    </tr>\n",
       "  </thead>\n",
       "  <tbody>\n",
       "    <tr>\n",
       "      <th>2024-02-03</th>\n",
       "      <td>696.box</td>\n",
       "      <td>33.088886</td>\n",
       "      <td>7</td>\n",
       "      <td>1</td>\n",
       "      <td>2</td>\n",
       "      <td>box</td>\n",
       "    </tr>\n",
       "    <tr>\n",
       "      <th>2024-02-05</th>\n",
       "      <td>song.box</td>\n",
       "      <td>45.601150</td>\n",
       "      <td>8</td>\n",
       "      <td>2</td>\n",
       "      <td>5</td>\n",
       "      <td>box</td>\n",
       "    </tr>\n",
       "    <tr>\n",
       "      <th>2024-02-10</th>\n",
       "      <td>to.box</td>\n",
       "      <td>96.974190</td>\n",
       "      <td>6</td>\n",
       "      <td>2</td>\n",
       "      <td>3</td>\n",
       "      <td>box</td>\n",
       "    </tr>\n",
       "    <tr>\n",
       "      <th>2024-02-20</th>\n",
       "      <td>uae.box</td>\n",
       "      <td>203.189586</td>\n",
       "      <td>7</td>\n",
       "      <td>4</td>\n",
       "      <td>2</td>\n",
       "      <td>box</td>\n",
       "    </tr>\n",
       "    <tr>\n",
       "      <th>2024-02-22</th>\n",
       "      <td>08.box</td>\n",
       "      <td>116.739602</td>\n",
       "      <td>6</td>\n",
       "      <td>1</td>\n",
       "      <td>2</td>\n",
       "      <td>box</td>\n",
       "    </tr>\n",
       "    <tr>\n",
       "      <th>2024-02-24</th>\n",
       "      <td>404.box</td>\n",
       "      <td>203.681142</td>\n",
       "      <td>7</td>\n",
       "      <td>1</td>\n",
       "      <td>2</td>\n",
       "      <td>box</td>\n",
       "    </tr>\n",
       "    <tr>\n",
       "      <th>2024-02-25</th>\n",
       "      <td>010.box</td>\n",
       "      <td>119.084361</td>\n",
       "      <td>7</td>\n",
       "      <td>1</td>\n",
       "      <td>2</td>\n",
       "      <td>box</td>\n",
       "    </tr>\n",
       "    <tr>\n",
       "      <th>2024-02-25</th>\n",
       "      <td>70.box</td>\n",
       "      <td>269.172017</td>\n",
       "      <td>6</td>\n",
       "      <td>1</td>\n",
       "      <td>2</td>\n",
       "      <td>box</td>\n",
       "    </tr>\n",
       "    <tr>\n",
       "      <th>2024-02-25</th>\n",
       "      <td>40.box</td>\n",
       "      <td>209.356013</td>\n",
       "      <td>6</td>\n",
       "      <td>1</td>\n",
       "      <td>2</td>\n",
       "      <td>box</td>\n",
       "    </tr>\n",
       "    <tr>\n",
       "      <th>2024-02-25</th>\n",
       "      <td>ap.box</td>\n",
       "      <td>134.586008</td>\n",
       "      <td>6</td>\n",
       "      <td>2</td>\n",
       "      <td>3</td>\n",
       "      <td>box</td>\n",
       "    </tr>\n",
       "    <tr>\n",
       "      <th>2024-02-25</th>\n",
       "      <td>75.box</td>\n",
       "      <td>269.172017</td>\n",
       "      <td>6</td>\n",
       "      <td>1</td>\n",
       "      <td>2</td>\n",
       "      <td>box</td>\n",
       "    </tr>\n",
       "    <tr>\n",
       "      <th>2024-02-25</th>\n",
       "      <td>015.box</td>\n",
       "      <td>104.678007</td>\n",
       "      <td>7</td>\n",
       "      <td>1</td>\n",
       "      <td>2</td>\n",
       "      <td>box</td>\n",
       "    </tr>\n",
       "    <tr>\n",
       "      <th>2024-02-25</th>\n",
       "      <td>38.box</td>\n",
       "      <td>301.731691</td>\n",
       "      <td>6</td>\n",
       "      <td>1</td>\n",
       "      <td>2</td>\n",
       "      <td>box</td>\n",
       "    </tr>\n",
       "    <tr>\n",
       "      <th>2024-04-17</th>\n",
       "      <td>mewtwo.box</td>\n",
       "      <td>29.610981</td>\n",
       "      <td>10</td>\n",
       "      <td>3</td>\n",
       "      <td>6</td>\n",
       "      <td>box</td>\n",
       "    </tr>\n",
       "    <tr>\n",
       "      <th>2024-04-24</th>\n",
       "      <td>0000.box</td>\n",
       "      <td>93.923366</td>\n",
       "      <td>8</td>\n",
       "      <td>1</td>\n",
       "      <td>2</td>\n",
       "      <td>box</td>\n",
       "    </tr>\n",
       "    <tr>\n",
       "      <th>2024-04-25</th>\n",
       "      <td>express.box</td>\n",
       "      <td>317.327581</td>\n",
       "      <td>11</td>\n",
       "      <td>3</td>\n",
       "      <td>7</td>\n",
       "      <td>box</td>\n",
       "    </tr>\n",
       "    <tr>\n",
       "      <th>2024-04-27</th>\n",
       "      <td>jane.box</td>\n",
       "      <td>1151.714038</td>\n",
       "      <td>8</td>\n",
       "      <td>3</td>\n",
       "      <td>4</td>\n",
       "      <td>box</td>\n",
       "    </tr>\n",
       "    <tr>\n",
       "      <th>2024-04-27</th>\n",
       "      <td>vm.box</td>\n",
       "      <td>31481.468013</td>\n",
       "      <td>6</td>\n",
       "      <td>1</td>\n",
       "      <td>4</td>\n",
       "      <td>box</td>\n",
       "    </tr>\n",
       "    <tr>\n",
       "      <th>2024-04-28</th>\n",
       "      <td>man.box</td>\n",
       "      <td>224.604619</td>\n",
       "      <td>7</td>\n",
       "      <td>2</td>\n",
       "      <td>4</td>\n",
       "      <td>box</td>\n",
       "    </tr>\n",
       "    <tr>\n",
       "      <th>2024-04-28</th>\n",
       "      <td>good.box</td>\n",
       "      <td>314.608157</td>\n",
       "      <td>8</td>\n",
       "      <td>3</td>\n",
       "      <td>4</td>\n",
       "      <td>box</td>\n",
       "    </tr>\n",
       "    <tr>\n",
       "      <th>2024-05-07</th>\n",
       "      <td>onyx.box</td>\n",
       "      <td>167.833449</td>\n",
       "      <td>8</td>\n",
       "      <td>2</td>\n",
       "      <td>5</td>\n",
       "      <td>box</td>\n",
       "    </tr>\n",
       "  </tbody>\n",
       "</table>\n",
       "</div>"
      ],
      "text/plain": [
       "                 domain         price  domain_length  num_vowels  \\\n",
       "day                                                                \n",
       "2024-02-03      696.box     33.088886              7           1   \n",
       "2024-02-05     song.box     45.601150              8           2   \n",
       "2024-02-10       to.box     96.974190              6           2   \n",
       "2024-02-20      uae.box    203.189586              7           4   \n",
       "2024-02-22       08.box    116.739602              6           1   \n",
       "2024-02-24      404.box    203.681142              7           1   \n",
       "2024-02-25      010.box    119.084361              7           1   \n",
       "2024-02-25       70.box    269.172017              6           1   \n",
       "2024-02-25       40.box    209.356013              6           1   \n",
       "2024-02-25       ap.box    134.586008              6           2   \n",
       "2024-02-25       75.box    269.172017              6           1   \n",
       "2024-02-25      015.box    104.678007              7           1   \n",
       "2024-02-25       38.box    301.731691              6           1   \n",
       "2024-04-17   mewtwo.box     29.610981             10           3   \n",
       "2024-04-24     0000.box     93.923366              8           1   \n",
       "2024-04-25  express.box    317.327581             11           3   \n",
       "2024-04-27     jane.box   1151.714038              8           3   \n",
       "2024-04-27       vm.box  31481.468013              6           1   \n",
       "2024-04-28      man.box    224.604619              7           2   \n",
       "2024-04-28     good.box    314.608157              8           3   \n",
       "2024-05-07     onyx.box    167.833449              8           2   \n",
       "\n",
       "            num_consonants  tld  \n",
       "day                              \n",
       "2024-02-03               2  box  \n",
       "2024-02-05               5  box  \n",
       "2024-02-10               3  box  \n",
       "2024-02-20               2  box  \n",
       "2024-02-22               2  box  \n",
       "2024-02-24               2  box  \n",
       "2024-02-25               2  box  \n",
       "2024-02-25               2  box  \n",
       "2024-02-25               2  box  \n",
       "2024-02-25               3  box  \n",
       "2024-02-25               2  box  \n",
       "2024-02-25               2  box  \n",
       "2024-02-25               2  box  \n",
       "2024-04-17               6  box  \n",
       "2024-04-24               2  box  \n",
       "2024-04-25               7  box  \n",
       "2024-04-27               4  box  \n",
       "2024-04-27               4  box  \n",
       "2024-04-28               4  box  \n",
       "2024-04-28               4  box  \n",
       "2024-05-07               5  box  "
      ]
     },
     "execution_count": 211,
     "metadata": {},
     "output_type": "execute_result"
    }
   ],
   "source": [
    "filtered_box_2 = filtered_box.drop(columns=['predicted_price'])\n",
    "filtered_box_2"
   ]
  },
  {
   "cell_type": "code",
   "execution_count": 212,
   "metadata": {},
   "outputs": [],
   "source": [
    "combined_data = pd.concat([domain_data, filtered_box_2], ignore_index=True)"
   ]
  },
  {
   "cell_type": "code",
   "execution_count": 213,
   "metadata": {},
   "outputs": [
    {
     "data": {
      "text/html": [
       "<div>\n",
       "<style scoped>\n",
       "    .dataframe tbody tr th:only-of-type {\n",
       "        vertical-align: middle;\n",
       "    }\n",
       "\n",
       "    .dataframe tbody tr th {\n",
       "        vertical-align: top;\n",
       "    }\n",
       "\n",
       "    .dataframe thead th {\n",
       "        text-align: right;\n",
       "    }\n",
       "</style>\n",
       "<table border=\"1\" class=\"dataframe\">\n",
       "  <thead>\n",
       "    <tr style=\"text-align: right;\">\n",
       "      <th></th>\n",
       "      <th>domain</th>\n",
       "      <th>price</th>\n",
       "      <th>domain_length</th>\n",
       "      <th>num_vowels</th>\n",
       "      <th>num_consonants</th>\n",
       "      <th>tld</th>\n",
       "    </tr>\n",
       "  </thead>\n",
       "  <tbody>\n",
       "    <tr>\n",
       "      <th>0</th>\n",
       "      <td>altavista.com</td>\n",
       "      <td>3.250000e+06</td>\n",
       "      <td>13</td>\n",
       "      <td>5</td>\n",
       "      <td>7</td>\n",
       "      <td>com</td>\n",
       "    </tr>\n",
       "    <tr>\n",
       "      <th>1</th>\n",
       "      <td>bingo.com</td>\n",
       "      <td>1.100000e+06</td>\n",
       "      <td>9</td>\n",
       "      <td>3</td>\n",
       "      <td>5</td>\n",
       "      <td>com</td>\n",
       "    </tr>\n",
       "    <tr>\n",
       "      <th>2</th>\n",
       "      <td>fly.com</td>\n",
       "      <td>1.500000e+06</td>\n",
       "      <td>7</td>\n",
       "      <td>1</td>\n",
       "      <td>5</td>\n",
       "      <td>com</td>\n",
       "    </tr>\n",
       "    <tr>\n",
       "      <th>3</th>\n",
       "      <td>autos.com</td>\n",
       "      <td>2.200000e+06</td>\n",
       "      <td>9</td>\n",
       "      <td>4</td>\n",
       "      <td>4</td>\n",
       "      <td>com</td>\n",
       "    </tr>\n",
       "    <tr>\n",
       "      <th>4</th>\n",
       "      <td>england.com</td>\n",
       "      <td>2.000000e+06</td>\n",
       "      <td>11</td>\n",
       "      <td>3</td>\n",
       "      <td>7</td>\n",
       "      <td>com</td>\n",
       "    </tr>\n",
       "    <tr>\n",
       "      <th>...</th>\n",
       "      <td>...</td>\n",
       "      <td>...</td>\n",
       "      <td>...</td>\n",
       "      <td>...</td>\n",
       "      <td>...</td>\n",
       "      <td>...</td>\n",
       "    </tr>\n",
       "    <tr>\n",
       "      <th>348252</th>\n",
       "      <td>jane.box</td>\n",
       "      <td>1.151714e+03</td>\n",
       "      <td>8</td>\n",
       "      <td>3</td>\n",
       "      <td>4</td>\n",
       "      <td>box</td>\n",
       "    </tr>\n",
       "    <tr>\n",
       "      <th>348253</th>\n",
       "      <td>vm.box</td>\n",
       "      <td>3.148147e+04</td>\n",
       "      <td>6</td>\n",
       "      <td>1</td>\n",
       "      <td>4</td>\n",
       "      <td>box</td>\n",
       "    </tr>\n",
       "    <tr>\n",
       "      <th>348254</th>\n",
       "      <td>man.box</td>\n",
       "      <td>2.246046e+02</td>\n",
       "      <td>7</td>\n",
       "      <td>2</td>\n",
       "      <td>4</td>\n",
       "      <td>box</td>\n",
       "    </tr>\n",
       "    <tr>\n",
       "      <th>348255</th>\n",
       "      <td>good.box</td>\n",
       "      <td>3.146082e+02</td>\n",
       "      <td>8</td>\n",
       "      <td>3</td>\n",
       "      <td>4</td>\n",
       "      <td>box</td>\n",
       "    </tr>\n",
       "    <tr>\n",
       "      <th>348256</th>\n",
       "      <td>onyx.box</td>\n",
       "      <td>1.678334e+02</td>\n",
       "      <td>8</td>\n",
       "      <td>2</td>\n",
       "      <td>5</td>\n",
       "      <td>box</td>\n",
       "    </tr>\n",
       "  </tbody>\n",
       "</table>\n",
       "<p>348257 rows × 6 columns</p>\n",
       "</div>"
      ],
      "text/plain": [
       "               domain         price  domain_length  num_vowels  \\\n",
       "0       altavista.com  3.250000e+06             13           5   \n",
       "1           bingo.com  1.100000e+06              9           3   \n",
       "2             fly.com  1.500000e+06              7           1   \n",
       "3           autos.com  2.200000e+06              9           4   \n",
       "4         england.com  2.000000e+06             11           3   \n",
       "...               ...           ...            ...         ...   \n",
       "348252       jane.box  1.151714e+03              8           3   \n",
       "348253         vm.box  3.148147e+04              6           1   \n",
       "348254        man.box  2.246046e+02              7           2   \n",
       "348255       good.box  3.146082e+02              8           3   \n",
       "348256       onyx.box  1.678334e+02              8           2   \n",
       "\n",
       "        num_consonants  tld  \n",
       "0                    7  com  \n",
       "1                    5  com  \n",
       "2                    5  com  \n",
       "3                    4  com  \n",
       "4                    7  com  \n",
       "...                ...  ...  \n",
       "348252               4  box  \n",
       "348253               4  box  \n",
       "348254               4  box  \n",
       "348255               4  box  \n",
       "348256               5  box  \n",
       "\n",
       "[348257 rows x 6 columns]"
      ]
     },
     "execution_count": 213,
     "metadata": {},
     "output_type": "execute_result"
    }
   ],
   "source": [
    "combined_data"
   ]
  },
  {
   "cell_type": "code",
   "execution_count": 214,
   "metadata": {},
   "outputs": [
    {
     "name": "stdout",
     "output_type": "stream",
     "text": [
      "MAE: 2708.9834718161696\n",
      "MSE: 2845754262.6555114\n",
      "R²: 0.0004163141819931715\n"
     ]
    }
   ],
   "source": [
    "X = combined_data[features]\n",
    "y = combined_data['price']\n",
    "\n",
    "X_train, X_test, y_train, y_test = train_test_split(X, y, test_size=0.2, random_state=42)\n",
    "\n",
    "pipeline.fit(X_train, y_train)\n",
    "\n",
    "y_pred = pipeline.predict(X_test)\n",
    "mae = mean_absolute_error(y_test, y_pred)\n",
    "mse = mean_squared_error(y_test, y_pred)\n",
    "r2 = r2_score(y_test, y_pred)\n",
    "\n",
    "print(f'MAE: {mae}')\n",
    "print(f'MSE: {mse}')\n",
    "print(f'R²: {r2}')\n"
   ]
  },
  {
   "cell_type": "code",
   "execution_count": 224,
   "metadata": {},
   "outputs": [],
   "source": [
    "def model_prep(data):\n",
    "    data['domain_length'] = data['domain'].apply(len)\n",
    "    data['num_vowels'] = data['domain'].apply(lambda x: sum([1 for char in x if char in 'aeiou']))\n",
    "    data['num_consonants'] = data['domain'].apply(lambda x: sum([1 for char in x if char.isalpha() and char not in 'aeiou']))\n",
    "    data['tld'] = data['domain'].apply(lambda x: x.split('.')[-1]) \n",
    "    return data\n"
   ]
  },
  {
   "cell_type": "code",
   "execution_count": 225,
   "metadata": {},
   "outputs": [],
   "source": [
    "def value_domain(domain):\n",
    "    domain_x = domain[features]\n",
    "    value = pipeline.predict(domain_x)\n",
    "    print(f'predicted value: {value}')\n",
    "    return value "
   ]
  },
  {
   "cell_type": "code",
   "execution_count": 229,
   "metadata": {},
   "outputs": [
    {
     "name": "stdout",
     "output_type": "stream",
     "text": [
      "predicted value: [2560.05298642]\n"
     ]
    }
   ],
   "source": [
    "test_domain = 'eth.box'\n",
    "test_domain_df = pd.DataFrame({'domain': [test_domain]})\n",
    "test_domain_processed = model_prep(test_domain_df)\n",
    "test_domain_value = value_domain(test_domain_processed)"
   ]
  },
  {
   "cell_type": "code",
   "execution_count": null,
   "metadata": {},
   "outputs": [],
   "source": []
  }
 ],
 "metadata": {
  "kernelspec": {
   "display_name": "steth_optimizer",
   "language": "python",
   "name": "steth_optimizer"
  },
  "language_info": {
   "codemirror_mode": {
    "name": "ipython",
    "version": 3
   },
   "file_extension": ".py",
   "mimetype": "text/x-python",
   "name": "python",
   "nbconvert_exporter": "python",
   "pygments_lexer": "ipython3",
   "version": "3.11.9"
  }
 },
 "nbformat": 4,
 "nbformat_minor": 2
}
