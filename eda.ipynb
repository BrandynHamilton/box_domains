{
 "cells": [
  {
   "cell_type": "markdown",
   "metadata": {},
   "source": [
    "***Can only retrieve up to 1000 data points from Flipside API***"
   ]
  },
  {
   "cell_type": "code",
   "execution_count": 1,
   "metadata": {},
   "outputs": [],
   "source": [
    "import pandas as pd\n",
    "import numpy as np \n",
    "import requests\n",
    "import json\n",
    "import time\n",
    "from flipside import Flipside\n",
    "import os\n",
    "import traceback\n",
    "from dotenv import load_dotenv\n",
    "import datetime as dt\n",
    "import plotly.express as px\n",
    "from sklearn.model_selection import train_test_split, GridSearchCV\n",
    "from sklearn.linear_model import Ridge\n",
    "from sklearn.metrics import mean_absolute_error, mean_squared_error, r2_score\n",
    "from sklearn.preprocessing import OneHotEncoder, StandardScaler\n",
    "from sklearn.compose import ColumnTransformer\n",
    "from sklearn.pipeline import Pipeline\n",
    "from sklearn.ensemble import RandomForestRegressor\n",
    "from sklearn.impute import SimpleImputer\n",
    "#from prophet import Prophet\n",
    "from dash import Dash, html, dcc, Input, Output, State, callback\n",
    "from plotly.subplots import make_subplots\n",
    "import plotly.graph_objects as go\n",
    "from dash import dash_table\n",
    "\n",
    "\n",
    "\n",
    "from sql.sql_scripts import mints_query, sales_query, eth_price_query"
   ]
  },
  {
   "cell_type": "code",
   "execution_count": 2,
   "metadata": {},
   "outputs": [
    {
     "data": {
      "text/plain": [
       "True"
      ]
     },
     "execution_count": 2,
     "metadata": {},
     "output_type": "execute_result"
    }
   ],
   "source": [
    "load_dotenv()"
   ]
  },
  {
   "cell_type": "code",
   "execution_count": 3,
   "metadata": {},
   "outputs": [],
   "source": [
    "pd.options.display.float_format = '{:,.2f}'.format\n"
   ]
  },
  {
   "cell_type": "code",
   "execution_count": 4,
   "metadata": {},
   "outputs": [],
   "source": [
    "opensea_api_key = os.getenv('opensea_api_key')"
   ]
  },
  {
   "cell_type": "markdown",
   "metadata": {},
   "source": [
    "***Listing Data***"
   ]
  },
  {
   "cell_type": "code",
   "execution_count": 5,
   "metadata": {},
   "outputs": [],
   "source": [
    "def fetch_listings(api_key, delay_between_requests=1):\n",
    "    base_url = \"https://api.opensea.io/api/v2/listings/collection/3dns-powered-domains/all\"\n",
    "    headers = {\n",
    "        \"accept\": \"application/json\",\n",
    "        \"x-api-key\": api_key\n",
    "    }\n",
    "    params = {\"limit\": 100} \n",
    "\n",
    "    listings = []\n",
    "    page_count = 0\n",
    "\n",
    "    while True:\n",
    "        response = requests.get(base_url, headers=headers, params=params)\n",
    "        if response.status_code == 200:\n",
    "            data = response.json()\n",
    "            fetched_listings = data.get(\"listings\", [])\n",
    "            listings.extend(fetched_listings)\n",
    "            page_count += 1\n",
    "            \n",
    "            # Extract and print the cursor\n",
    "            next_cursor = data.get(\"next\")\n",
    "            print(f\"Page {page_count}, Cursor: {next_cursor}, Listings Fetched: {len(fetched_listings)}\")\n",
    "            \n",
    "            if next_cursor:\n",
    "                params['next'] = next_cursor  # Update the 'next' parameter for the next request\n",
    "            else:\n",
    "                break  # No more pages to fetch\n",
    "                \n",
    "            # Implementing delay\n",
    "            time.sleep(delay_between_requests)\n",
    "            \n",
    "        else:\n",
    "            print(f\"Failed to fetch data: {response.status_code}\")\n",
    "            break\n",
    "\n",
    "    print(f\"Total pages fetched: {page_count}\")\n",
    "    print(f\"Total listings fetched: {len(listings)}\")\n",
    "    \n",
    "    df = pd.DataFrame(listings)\n",
    "    return df"
   ]
  },
  {
   "cell_type": "markdown",
   "metadata": {},
   "source": [
    "***Descriptions***"
   ]
  },
  {
   "cell_type": "code",
   "execution_count": 6,
   "metadata": {},
   "outputs": [],
   "source": [
    "def save_last_identifier(identifier):\n",
    "    with open(\"last_identifier.txt\", \"w\") as file:\n",
    "        file.write(identifier)\n",
    "\n",
    "def load_last_identifier():\n",
    "    try:\n",
    "        with open(\"last_identifier.txt\", \"r\") as file:\n",
    "            return file.read().strip()\n",
    "    except FileNotFoundError:\n",
    "        return None"
   ]
  },
  {
   "cell_type": "code",
   "execution_count": 7,
   "metadata": {},
   "outputs": [],
   "source": [
    "def fetch_all_descriptions(api_key, delay_between_requests=1):\n",
    "    base_url = \"https://api.opensea.io/api/v2/collection/3dns-powered-domains/nfts\"\n",
    "    headers = {\n",
    "        \"accept\": \"application/json\",\n",
    "        \"x-api-key\": api_key\n",
    "    }\n",
    "    params = {\"limit\": 200}\n",
    "\n",
    "    all_descriptions = []\n",
    "\n",
    "    page_count = 0\n",
    "    last_identifier = load_last_identifier()\n",
    "\n",
    "    while True:\n",
    "        if last_identifier:\n",
    "            params['last_identifier'] = last_identifier\n",
    "\n",
    "        response = requests.get(base_url, headers=headers, params=params)\n",
    "        if response.status_code == 200:\n",
    "            data = response.json()\n",
    "            fetched_descriptions = data.get(\"nfts\", [])\n",
    "            \n",
    "            if not fetched_descriptions:\n",
    "                break\n",
    "\n",
    "            # Process only name and identifier for each description\n",
    "            for description in fetched_descriptions:\n",
    "                processed_description = {\n",
    "                    \"name\": description.get('name'),\n",
    "                    \"identifier\": description.get('identifier')\n",
    "                }\n",
    "                all_descriptions.append(processed_description)\n",
    "            \n",
    "            # Update the last_identifier to the latest one fetched\n",
    "            last_identifier = fetched_descriptions[-1].get('identifier')\n",
    "            save_last_identifier(last_identifier)\n",
    "            \n",
    "            page_count += 1\n",
    "            next_cursor = data.get(\"next\")\n",
    "            print(f\"Page {page_count}, Cursor: {next_cursor} Descriptions Fetched: {len(fetched_descriptions)}, total fetched: {len(all_descriptions)}\")\n",
    "            \n",
    "            if next_cursor:\n",
    "                params['next'] = next_cursor\n",
    "            else:\n",
    "                break  # No more pages to fetch\n",
    "\n",
    "            time.sleep(delay_between_requests)\n",
    "        else:\n",
    "            print(f\"Failed to fetch data: {response.status_code}\")\n",
    "            break\n",
    "\n",
    "    print(f\"Total pages fetched: {page_count}, Total descriptions fetched: {len(all_descriptions)}\")\n",
    "    \n",
    "    # Save the processed descriptions to a file\n",
    "    df = pd.DataFrame(all_descriptions)\n",
    "    return df"
   ]
  },
  {
   "cell_type": "markdown",
   "metadata": {},
   "source": [
    "***Events***"
   ]
  },
  {
   "cell_type": "code",
   "execution_count": 8,
   "metadata": {},
   "outputs": [],
   "source": [
    "import json\n",
    "import os\n",
    "\n",
    "def save_last_timestamp(event_type, timestamp):\n",
    "    data = {}\n",
    "    if os.path.exists(\"last_timestamps.json\"):\n",
    "        with open(\"last_timestamps.json\", \"r\") as file:\n",
    "            data = json.load(file)\n",
    "    data[event_type] = timestamp\n",
    "    with open(\"last_timestamps.json\", \"w\") as file:\n",
    "        json.dump(data, file)\n",
    "\n",
    "def load_last_timestamp(event_type):\n",
    "    if os.path.exists(\"last_timestamps.json\"):\n",
    "        with open(\"last_timestamps.json\", \"r\") as file:\n",
    "            data = json.load(file)\n",
    "        return data.get(event_type, None)\n",
    "    return None"
   ]
  },
  {
   "cell_type": "code",
   "execution_count": 9,
   "metadata": {},
   "outputs": [],
   "source": [
    "def fetch_event_type(api_key, event_type, all_events, params, headers):\n",
    "    base_url = f\"https://api.opensea.io/api/v2/events/collection/3dns-powered-domains\"\n",
    "    params['event_type'] = event_type\n",
    "    \n",
    "    # Load the last timestamp/identifier\n",
    "    last_timestamp = load_last_timestamp(event_type)\n",
    "    if last_timestamp:\n",
    "        params['occurred_after'] = last_timestamp\n",
    "    \n",
    "    page_count = 0\n",
    "    while True:\n",
    "        response = requests.get(base_url, headers=headers, params=params)\n",
    "        if response.status_code == 200:\n",
    "            data = response.json()\n",
    "            fetched_events = data.get(\"asset_events\", [])\n",
    "            all_events.extend(fetched_events)\n",
    "            \n",
    "            if fetched_events:\n",
    "                # Update the last timestamp/identifier to the latest one fetched\n",
    "                last_event_time = fetched_events[-1].get(\"created_date\")\n",
    "                save_last_timestamp(event_type, last_event_time)\n",
    "            \n",
    "            page_count += 1\n",
    "            next_cursor = data.get(\"next\")\n",
    "            print(f\"Fetching {event_type}: Page {page_count}, Events Fetched: {len(fetched_events)}, Total Events: {len(all_events)}, next cursor: {next_cursor}\")\n",
    "            \n",
    "            if next_cursor:\n",
    "                params['next'] = next_cursor\n",
    "            else:\n",
    "                break  # No more pages to fetch\n",
    "\n",
    "            time.sleep(1)  # Delay between requests\n",
    "        else:\n",
    "            print(f\"Failed to fetch {event_type} data: HTTP {response.status_code}, Response: {response.text}\")\n",
    "            break\n",
    "\n",
    "def fetch_all_events(api_key):\n",
    "    headers = {\n",
    "        \"accept\": \"application/json\",\n",
    "        \"x-api-key\": api_key\n",
    "    }\n",
    "    params = {\n",
    "        \"limit\": 50  # Adjust the limit as needed\n",
    "    }\n",
    "\n",
    "    all_events = []\n",
    "\n",
    "    # Fetch listings\n",
    "    fetch_event_type(api_key, \"listing\", all_events, params.copy(), headers)\n",
    "\n",
    "    # Fetch sales\n",
    "    fetch_event_type(api_key, \"sale\", all_events, params.copy(), headers)\n",
    "\n",
    "    # Save the fetched events to a DataFrame\n",
    "    print(f\"Total events fetched: {len(all_events)}\")\n",
    "    df = pd.DataFrame(all_events)\n",
    "    return df "
   ]
  },
  {
   "cell_type": "markdown",
   "metadata": {},
   "source": [
    "***Flipside Data***"
   ]
  },
  {
   "cell_type": "code",
   "execution_count": 10,
   "metadata": {},
   "outputs": [],
   "source": [
    "flipside_api_key = os.getenv(\"FLIPSIDE_API_KEY\")\n",
    "flipside = Flipside(flipside_api_key, \"https://api-v2.flipsidecrypto.xyz\")"
   ]
  },
  {
   "cell_type": "code",
   "execution_count": 11,
   "metadata": {},
   "outputs": [],
   "source": [
    "def flipside_api_results(query):\n",
    "  query_result_set = flipside.query(query)\n",
    "  # what page are we starting on?\n",
    "  current_page_number = 1\n",
    "\n",
    "  # How many records do we want to return in the page?\n",
    "  page_size = 1000\n",
    "\n",
    "  # set total pages to 1 higher than the `current_page_number` until\n",
    "  # we receive the total pages from `get_query_results` given the \n",
    "  # provided `page_size` (total_pages is dynamically determined by the API \n",
    "  # based on the `page_size` you provide)\n",
    "\n",
    "  total_pages = 2\n",
    "\n",
    "\n",
    "  # we'll store all the page results in `all_rows`\n",
    "  all_rows = []\n",
    "\n",
    "  while current_page_number <= total_pages:\n",
    "    results = flipside.get_query_results(\n",
    "      query_result_set.query_id,\n",
    "      page_number=current_page_number,\n",
    "      page_size=page_size\n",
    "    )\n",
    "\n",
    "    total_pages = results.page.totalPages\n",
    "    if results.records:\n",
    "        all_rows = all_rows + results.records\n",
    "    \n",
    "    current_page_number += 1\n",
    "\n",
    "  return pd.DataFrame(all_rows)"
   ]
  },
  {
   "cell_type": "markdown",
   "metadata": {},
   "source": [
    "***Data Retrieval/Processing***"
   ]
  },
  {
   "cell_type": "code",
   "execution_count": 12,
   "metadata": {},
   "outputs": [],
   "source": [
    "mint_df = flipside_api_results(mints_query)\n",
    "mint_df.to_csv('data/mint_data.csv')"
   ]
  },
  {
   "cell_type": "markdown",
   "metadata": {},
   "source": [
    "mint_df = pd.read_csv('data/mint_data.csv')\n",
    "mint_df"
   ]
  },
  {
   "cell_type": "code",
   "execution_count": 13,
   "metadata": {},
   "outputs": [],
   "source": [
    "sales_df = flipside_api_results(sales_query)\n",
    "sales_df.to_csv('data/sales_data.csv')\n"
   ]
  },
  {
   "cell_type": "markdown",
   "metadata": {},
   "source": [
    "sales_df = pd.read_csv('data/sales_data.csv')\n",
    "sales_df"
   ]
  },
  {
   "cell_type": "code",
   "execution_count": 14,
   "metadata": {},
   "outputs": [],
   "source": [
    "eth_usd_df = flipside_api_results(eth_price_query)\n",
    "eth_usd_df.to_csv('data/eth_usd.csv')\n"
   ]
  },
  {
   "cell_type": "markdown",
   "metadata": {},
   "source": [
    "eth_usd_df = pd.read_csv('data/eth_usd.csv')\n",
    "eth_usd_df"
   ]
  },
  {
   "cell_type": "code",
   "execution_count": 15,
   "metadata": {},
   "outputs": [
    {
     "name": "stdout",
     "output_type": "stream",
     "text": [
      "Fetching listing: Page 1, Events Fetched: 50, Total Events: 50, next cursor: LWV2ZW50X3RpbWVzdGFtcD0yMDI0LTA3LTIzKzA0JTNBMzglM0EyMy40NjE3NjcmLWV2ZW50X3R5cGU9Y3JlYXRlZCYtcGs9MjQ1OTkxNDY1Mjg=\n",
      "Fetching listing: Page 2, Events Fetched: 50, Total Events: 100, next cursor: LWV2ZW50X3RpbWVzdGFtcD0yMDI0LTA3LTIwKzEwJTNBMDglM0EyOC45NTMyOTcmLWV2ZW50X3R5cGU9Y3JlYXRlZCYtcGs9MjQ1MDg0NDY0MzQ=\n",
      "Fetching listing: Page 3, Events Fetched: 50, Total Events: 150, next cursor: LWV2ZW50X3RpbWVzdGFtcD0yMDI0LTA3LTE4KzExJTNBNDIlM0EwNS4wNzA3OTMmLWV2ZW50X3R5cGU9Y3JlYXRlZCYtcGs9MjQ0NTAxNzQwNzg=\n",
      "Fetching listing: Page 4, Events Fetched: 50, Total Events: 200, next cursor: LWV2ZW50X3RpbWVzdGFtcD0yMDI0LTA3LTE2KzIzJTNBNDAlM0ExOS41OTA1MzYmLWV2ZW50X3R5cGU9Y3JlYXRlZCYtcGs9MjQ0MDYzODQyOTI=\n",
      "Fetching listing: Page 5, Events Fetched: 50, Total Events: 250, next cursor: LWV2ZW50X3RpbWVzdGFtcD0yMDI0LTA3LTE0KzIxJTNBMzYlM0EwNC4xNTEwMzUmLWV2ZW50X3R5cGU9Y3JlYXRlZCYtcGs9MjQzNDMyMzEyOTk=\n",
      "Fetching listing: Page 6, Events Fetched: 50, Total Events: 300, next cursor: LWV2ZW50X3RpbWVzdGFtcD0yMDI0LTA3LTEwKzIxJTNBNDglM0E0MS43NDA4NDEmLWV2ZW50X3R5cGU9Y3JlYXRlZCYtcGs9MjQyMjczODQxNjc=\n",
      "Fetching listing: Page 7, Events Fetched: 50, Total Events: 350, next cursor: LWV2ZW50X3RpbWVzdGFtcD0yMDI0LTA3LTA3KzA5JTNBMjglM0ExNy42MzM2NzkmLWV2ZW50X3R5cGU9Y3JlYXRlZCYtcGs9MjQxMjExMTIzODA=\n",
      "Fetching listing: Page 8, Events Fetched: 50, Total Events: 400, next cursor: LWV2ZW50X3RpbWVzdGFtcD0yMDI0LTA3LTAxKzE1JTNBMTElM0EzOC42MzA4MDkmLWV2ZW50X3R5cGU9Y3JlYXRlZCYtcGs9MjM5NDU0NzQ0NDA=\n",
      "Fetching listing: Page 9, Events Fetched: 50, Total Events: 450, next cursor: LWV2ZW50X3RpbWVzdGFtcD0yMDI0LTA2LTI3KzAyJTNBMDklM0EyMC4wOTg4NTImLWV2ZW50X3R5cGU9Y3JlYXRlZCYtcGs9MjM4MTcxOTM5MzQ=\n",
      "Fetching listing: Page 10, Events Fetched: 50, Total Events: 500, next cursor: LWV2ZW50X3RpbWVzdGFtcD0yMDI0LTA2LTIyKzE1JTNBMTYlM0EyNi42Mzk1NTQmLWV2ZW50X3R5cGU9Y3JlYXRlZCYtcGs9MjM2ODkzNTA3MzU=\n",
      "Fetching listing: Page 11, Events Fetched: 50, Total Events: 550, next cursor: LWV2ZW50X3RpbWVzdGFtcD0yMDI0LTA2LTIyKzE0JTNBMDglM0EwNi44ODgxMTkmLWV2ZW50X3R5cGU9Y3JlYXRlZCYtcGs9MjM2ODgwMTU5NjQ=\n",
      "Fetching listing: Page 12, Events Fetched: 50, Total Events: 600, next cursor: LWV2ZW50X3RpbWVzdGFtcD0yMDI0LTA2LTE5KzIwJTNBNTUlM0ExOS45NjcyNDkmLWV2ZW50X3R5cGU9Y3JlYXRlZCYtcGs9MjM2MTUyNzgxMjQ=\n",
      "Fetching listing: Page 13, Events Fetched: 50, Total Events: 650, next cursor: LWV2ZW50X3RpbWVzdGFtcD0yMDI0LTA2LTE1KzIzJTNBNTIlM0EzMy4xMzIxNjImLWV2ZW50X3R5cGU9Y3JlYXRlZCYtcGs9MjM1MDU4MDAxNDI=\n",
      "Fetching listing: Page 14, Events Fetched: 50, Total Events: 700, next cursor: LWV2ZW50X3RpbWVzdGFtcD0yMDI0LTA2LTExKzE1JTNBNDAlM0EzMC42MTg4MDUmLWV2ZW50X3R5cGU9Y3JlYXRlZCYtcGs9MjMzNzc5MDkyMDg=\n",
      "Fetching listing: Page 15, Events Fetched: 50, Total Events: 750, next cursor: LWV2ZW50X3RpbWVzdGFtcD0yMDI0LTA2LTA4KzEzJTNBNDklM0E1MC43MzA4NjkmLWV2ZW50X3R5cGU9Y3JlYXRlZCYtcGs9MjMyODM2MTczNzU=\n",
      "Fetching listing: Page 16, Events Fetched: 50, Total Events: 800, next cursor: LWV2ZW50X3RpbWVzdGFtcD0yMDI0LTA2LTA1KzAyJTNBMjQlM0E0NS4yMzQ4MjkmLWV2ZW50X3R5cGU9Y3JlYXRlZCYtcGs9MjMxNzIwMDg4OTI=\n",
      "Fetching listing: Page 17, Events Fetched: 50, Total Events: 850, next cursor: LWV2ZW50X3RpbWVzdGFtcD0yMDI0LTA1LTMwKzA0JTNBMDIlM0EyNy42NzI1MDEmLWV2ZW50X3R5cGU9Y3JlYXRlZCYtcGs9MjMwMTQ0ODczMjg=\n",
      "Fetching listing: Page 18, Events Fetched: 50, Total Events: 900, next cursor: LWV2ZW50X3RpbWVzdGFtcD0yMDI0LTA1LTI4KzE3JTNBMzElM0E1MC45MjE0NzAmLWV2ZW50X3R5cGU9Y3JlYXRlZCYtcGs9MjI5NzcwOTc5MTE=\n",
      "Fetching listing: Page 19, Events Fetched: 50, Total Events: 950, next cursor: LWV2ZW50X3RpbWVzdGFtcD0yMDI0LTA1LTI1KzA2JTNBMzAlM0EzNS4zMTQ2MDMmLWV2ZW50X3R5cGU9Y3JlYXRlZCYtcGs9MjI4ODcyMDQ2OTE=\n",
      "Fetching listing: Page 20, Events Fetched: 50, Total Events: 1000, next cursor: LWV2ZW50X3RpbWVzdGFtcD0yMDI0LTA1LTIyKzAwJTNBMTQlM0E1Mi4xNzI5OTAmLWV2ZW50X3R5cGU9Y3JlYXRlZCYtcGs9MjI4MDA2NDMxMTE=\n",
      "Fetching listing: Page 21, Events Fetched: 50, Total Events: 1050, next cursor: LWV2ZW50X3RpbWVzdGFtcD0yMDI0LTA1LTE4KzIzJTNBMDclM0EyNy4wNjExMTImLWV2ZW50X3R5cGU9Y3JlYXRlZCYtcGs9MjI3MTE1NDg1ODU=\n",
      "Fetching listing: Page 22, Events Fetched: 50, Total Events: 1100, next cursor: LWV2ZW50X3RpbWVzdGFtcD0yMDI0LTA1LTE2KzAwJTNBNDYlM0E0MC44Njk5ODMmLWV2ZW50X3R5cGU9Y3JlYXRlZCYtcGs9MjI2MjkwMTA5Njg=\n",
      "Fetching listing: Page 23, Events Fetched: 50, Total Events: 1150, next cursor: LWV2ZW50X3RpbWVzdGFtcD0yMDI0LTA1LTEzKzE5JTNBNTIlM0EwOS42NTM2ODUmLWV2ZW50X3R5cGU9Y3JlYXRlZCYtcGs9MjI1Njk1MDcxMjc=\n",
      "Fetching listing: Page 24, Events Fetched: 50, Total Events: 1200, next cursor: LWV2ZW50X3RpbWVzdGFtcD0yMDI0LTA1LTExKzE4JTNBNTclM0E1MS41NTE0OTEmLWV2ZW50X3R5cGU9Y3JlYXRlZCYtcGs9MjI1MTEzODAwOTY=\n",
      "Fetching listing: Page 25, Events Fetched: 50, Total Events: 1250, next cursor: LWV2ZW50X3RpbWVzdGFtcD0yMDI0LTA1LTEwKzA0JTNBNDYlM0E0OC40NzU2MTMmLWV2ZW50X3R5cGU9Y3JlYXRlZCYtcGs9MjI0NjEwNjAzNTA=\n",
      "Fetching listing: Page 26, Events Fetched: 50, Total Events: 1300, next cursor: LWV2ZW50X3RpbWVzdGFtcD0yMDI0LTA1LTA4KzE1JTNBMTYlM0EzNi4wOTk5MjAmLWV2ZW50X3R5cGU9Y3JlYXRlZCYtcGs9MjI0MTM4NTg0MTA=\n",
      "Fetching listing: Page 27, Events Fetched: 50, Total Events: 1350, next cursor: LWV2ZW50X3RpbWVzdGFtcD0yMDI0LTA1LTA2KzE5JTNBMjclM0EzOC4zMjIyMDQmLWV2ZW50X3R5cGU9Y3JlYXRlZCYtcGs9MjIzNTgxMDg1MDk=\n",
      "Fetching listing: Page 28, Events Fetched: 50, Total Events: 1400, next cursor: LWV2ZW50X3RpbWVzdGFtcD0yMDI0LTA1LTA2KzAzJTNBMDAlM0ExMC43ODg5NzAmLWV2ZW50X3R5cGU9Y3JlYXRlZCYtcGs9MjIzMzcyMTIzMDQ=\n",
      "Fetching listing: Page 29, Events Fetched: 50, Total Events: 1450, next cursor: LWV2ZW50X3RpbWVzdGFtcD0yMDI0LTA1LTA0KzE1JTNBNTclM0EwNC43NzA0NTkmLWV2ZW50X3R5cGU9Y3JlYXRlZCYtcGs9MjIyOTAxNjEwMjQ=\n",
      "Fetching listing: Page 30, Events Fetched: 50, Total Events: 1500, next cursor: LWV2ZW50X3RpbWVzdGFtcD0yMDI0LTA1LTAzKzAzJTNBMjUlM0E0OS41OTk3NTAmLWV2ZW50X3R5cGU9Y3JlYXRlZCYtcGs9MjIyNDI5NzA0Mzk=\n",
      "Fetching listing: Page 31, Events Fetched: 50, Total Events: 1550, next cursor: LWV2ZW50X3RpbWVzdGFtcD0yMDI0LTA1LTAxKzIzJTNBMDElM0E0Ny45MzA2NTMmLWV2ZW50X3R5cGU9Y3JlYXRlZCYtcGs9MjIyMDg5NTYwMDk=\n",
      "Fetching listing: Page 32, Events Fetched: 50, Total Events: 1600, next cursor: LWV2ZW50X3RpbWVzdGFtcD0yMDI0LTA0LTMwKzE5JTNBNTUlM0EyNy4xODQ2NzImLWV2ZW50X3R5cGU9Y3JlYXRlZCYtcGs9MjIxNzUxOTc5OTc=\n",
      "Fetching listing: Page 33, Events Fetched: 50, Total Events: 1650, next cursor: LWV2ZW50X3RpbWVzdGFtcD0yMDI0LTA0LTI5KzE4JTNBNDUlM0E1Ny4xNDI5MjAmLWV2ZW50X3R5cGU9Y3JlYXRlZCYtcGs9MjIxNDM0MjAzMzk=\n",
      "Fetching listing: Page 34, Events Fetched: 50, Total Events: 1700, next cursor: LWV2ZW50X3RpbWVzdGFtcD0yMDI0LTA0LTI4KzE1JTNBNDglM0ExNS42MzQ4OTgmLWV2ZW50X3R5cGU9Y3JlYXRlZCYtcGs9MjIxMTIzOTk1MDU=\n",
      "Fetching listing: Page 35, Events Fetched: 50, Total Events: 1750, next cursor: LWV2ZW50X3RpbWVzdGFtcD0yMDI0LTA0LTI4KzA5JTNBMDklM0E0Ny4wNjg3NzEmLWV2ZW50X3R5cGU9Y3JlYXRlZCYtcGs9MjIxMDM2MjE3MTg=\n",
      "Fetching listing: Page 36, Events Fetched: 50, Total Events: 1800, next cursor: LWV2ZW50X3RpbWVzdGFtcD0yMDI0LTA0LTI3KzIzJTNBNTUlM0EwOS41NzU5ODQmLWV2ZW50X3R5cGU9Y3JlYXRlZCYtcGs9MjIwOTE2NDczMTQ=\n",
      "Fetching listing: Page 37, Events Fetched: 50, Total Events: 1850, next cursor: LWV2ZW50X3RpbWVzdGFtcD0yMDI0LTA0LTI2KzIxJTNBNTklM0E1OC4yNTA1MTgmLWV2ZW50X3R5cGU9Y3JlYXRlZCYtcGs9MjIwNTkxOTc4MjA=\n",
      "Fetching listing: Page 38, Events Fetched: 50, Total Events: 1900, next cursor: LWV2ZW50X3RpbWVzdGFtcD0yMDI0LTA0LTI1KzEzJTNBNDElM0EzOS41MjA3NzgmLWV2ZW50X3R5cGU9Y3JlYXRlZCYtcGs9MjIwMjE5OTYwMDU=\n",
      "Fetching listing: Page 39, Events Fetched: 50, Total Events: 1950, next cursor: LWV2ZW50X3RpbWVzdGFtcD0yMDI0LTA0LTE5KzEzJTNBNDglM0EyOC4zODQ0NTkmLWV2ZW50X3R5cGU9Y3JlYXRlZCYtcGs9MjE4NDYxNjI3Nzg=\n",
      "Fetching listing: Page 40, Events Fetched: 50, Total Events: 2000, next cursor: LWV2ZW50X3RpbWVzdGFtcD0yMDI0LTA0LTEyKzAyJTNBMzYlM0EzOS4xNzg2ODgmLWV2ZW50X3R5cGU9Y3JlYXRlZCYtcGs9MjE2NDI0OTI1MTY=\n",
      "Fetching listing: Page 41, Events Fetched: 50, Total Events: 2050, next cursor: LWV2ZW50X3RpbWVzdGFtcD0yMDI0LTA0LTAzKzIyJTNBMjElM0EzMy4wMzY0NTQmLWV2ZW50X3R5cGU9Y3JlYXRlZCYtcGs9MjE0MDk2MzE4NDk=\n",
      "Fetching listing: Page 42, Events Fetched: 50, Total Events: 2100, next cursor: LWV2ZW50X3RpbWVzdGFtcD0yMDI0LTAzLTI3KzE4JTNBMzglM0E1Ni40MzQwNzMmLWV2ZW50X3R5cGU9Y3JlYXRlZCYtcGs9MjEyMzExODAwMDI=\n",
      "Fetching listing: Page 43, Events Fetched: 50, Total Events: 2150, next cursor: LWV2ZW50X3RpbWVzdGFtcD0yMDI0LTAzLTIwKzA1JTNBMDclM0E1OC44NDk5MDkmLWV2ZW50X3R5cGU9Y3JlYXRlZCYtcGs9MjEwMzc5MjUzMDk=\n",
      "Fetching listing: Page 44, Events Fetched: 50, Total Events: 2200, next cursor: LWV2ZW50X3RpbWVzdGFtcD0yMDI0LTAzLTEzKzA1JTNBMzclM0ExMi42NzMxODAmLWV2ZW50X3R5cGU9Y3JlYXRlZCYtcGs9MjA4ODk3NTk4ODY=\n",
      "Fetching listing: Page 45, Events Fetched: 50, Total Events: 2250, next cursor: LWV2ZW50X3RpbWVzdGFtcD0yMDI0LTAzLTA2KzA0JTNBNTYlM0ExMS42NzA1MDImLWV2ZW50X3R5cGU9Y3JlYXRlZCYtcGs9MjA3MzM0ODQ1NDg=\n",
      "Fetching listing: Page 46, Events Fetched: 50, Total Events: 2300, next cursor: LWV2ZW50X3RpbWVzdGFtcD0yMDI0LTAzLTAxKzAzJTNBMDElM0E0MS42NjUwNjEmLWV2ZW50X3R5cGU9Y3JlYXRlZCYtcGs9MjA2MTQxOTc0NTE=\n",
      "Fetching listing: Page 47, Events Fetched: 50, Total Events: 2350, next cursor: LWV2ZW50X3RpbWVzdGFtcD0yMDI0LTAyLTI1KzIzJTNBMjklM0E0NC4wMjYwNTkmLWV2ZW50X3R5cGU9Y3JlYXRlZCYtcGs9MjA1MDU4ODIwMDE=\n",
      "Fetching listing: Page 48, Events Fetched: 50, Total Events: 2400, next cursor: LWV2ZW50X3RpbWVzdGFtcD0yMDI0LTAyLTIzKzAzJTNBNTglM0ExNi41MDQ5MzMmLWV2ZW50X3R5cGU9Y3JlYXRlZCYtcGs9MjA0NDM2MjI0Mjk=\n",
      "Fetching listing: Page 49, Events Fetched: 50, Total Events: 2450, next cursor: LWV2ZW50X3RpbWVzdGFtcD0yMDI0LTAyLTE5KzEwJTNBNDElM0EzMy44MjM1NjQmLWV2ZW50X3R5cGU9Y3JlYXRlZCYtcGs9MjAzNDk1MTg2MzU=\n",
      "Fetching listing: Page 50, Events Fetched: 50, Total Events: 2500, next cursor: LWV2ZW50X3RpbWVzdGFtcD0yMDI0LTAyLTE1KzE4JTNBMTUlM0EyNS4yMzE0MTgmLWV2ZW50X3R5cGU9Y3JlYXRlZCYtcGs9MjAyMjc4MjcxOTE=\n",
      "Fetching listing: Page 51, Events Fetched: 50, Total Events: 2550, next cursor: LWV2ZW50X3RpbWVzdGFtcD0yMDI0LTAyLTEzKzAxJTNBNDclM0EzNS41NjI0NzAmLWV2ZW50X3R5cGU9Y3JlYXRlZCYtcGs9MjAxMzk1NzE1Mzg=\n",
      "Fetching listing: Page 52, Events Fetched: 50, Total Events: 2600, next cursor: LWV2ZW50X3RpbWVzdGFtcD0yMDI0LTAyLTEwKzE4JTNBNTYlM0E1MS44MzcxODcmLWV2ZW50X3R5cGU9Y3JlYXRlZCYtcGs9MjAwNjQ0MzMzMzc=\n",
      "Fetching listing: Page 53, Events Fetched: 50, Total Events: 2650, next cursor: LWV2ZW50X3RpbWVzdGFtcD0yMDI0LTAyLTA5KzAwJTNBMzMlM0EwOS41MjU5ODgmLWV2ZW50X3R5cGU9Y3JlYXRlZCYtcGs9MjAwMDYwNzA0MDM=\n",
      "Fetching listing: Page 54, Events Fetched: 50, Total Events: 2700, next cursor: LWV2ZW50X3RpbWVzdGFtcD0yMDI0LTAyLTA3KzE0JTNBMDIlM0ExMS45OTAwNzUmLWV2ZW50X3R5cGU9Y3JlYXRlZCYtcGs9MTk5NTQ3NDM3NTU=\n",
      "Fetching listing: Page 55, Events Fetched: 50, Total Events: 2750, next cursor: LWV2ZW50X3RpbWVzdGFtcD0yMDI0LTAyLTA2KzE1JTNBMzElM0EwOC4wMzc2NDEmLWV2ZW50X3R5cGU9Y3JlYXRlZCYtcGs9MTk5MjEyNzA3NTA=\n",
      "Fetching listing: Page 56, Events Fetched: 50, Total Events: 2800, next cursor: LWV2ZW50X3RpbWVzdGFtcD0yMDI0LTAyLTA1KzE3JTNBNDklM0E0OC44MTEwMDQmLWV2ZW50X3R5cGU9Y3JlYXRlZCYtcGs9MTk4ODg4MjY3NTY=\n",
      "Fetching listing: Page 57, Events Fetched: 50, Total Events: 2850, next cursor: LWV2ZW50X3RpbWVzdGFtcD0yMDI0LTAyLTAyKzEzJTNBMTUlM0EzOS40NzkwMjUmLWV2ZW50X3R5cGU9Y3JlYXRlZCYtcGs9MTk3Nzk2NTM3MTc=\n",
      "Fetching listing: Page 58, Events Fetched: 50, Total Events: 2900, next cursor: LWV2ZW50X3RpbWVzdGFtcD0yMDI0LTAxLTMxKzE1JTNBNTIlM0E1NC4wMzMyNDUmLWV2ZW50X3R5cGU9Y3JlYXRlZCYtcGs9MTk3MTcwNDg1NjQ=\n",
      "Fetching listing: Page 59, Events Fetched: 50, Total Events: 2950, next cursor: LWV2ZW50X3RpbWVzdGFtcD0yMDI0LTAxLTI4KzAzJTNBNDclM0EzNS4zNTAxNDUmLWV2ZW50X3R5cGU9Y3JlYXRlZCYtcGs9MTk1ODkyOTMwODI=\n",
      "Fetching listing: Page 60, Events Fetched: 50, Total Events: 3000, next cursor: LWV2ZW50X3RpbWVzdGFtcD0yMDI0LTAxLTI2KzAzJTNBNDYlM0EwNy45Mjk5MjcmLWV2ZW50X3R5cGU9Y3JlYXRlZCYtcGs9MTk1MTc1NTAzMjA=\n",
      "Fetching listing: Page 61, Events Fetched: 50, Total Events: 3050, next cursor: LWV2ZW50X3RpbWVzdGFtcD0yMDI0LTAxLTI1KzEwJTNBMzklM0ExMS4wNTU3MjgmLWV2ZW50X3R5cGU9Y3JlYXRlZCYtcGs9MTk0OTIzNTIwMjE=\n",
      "Fetching listing: Page 62, Events Fetched: 50, Total Events: 3100, next cursor: LWV2ZW50X3RpbWVzdGFtcD0yMDI0LTAxLTI0KzIxJTNBMzAlM0EzMy44MzA5NzAmLWV2ZW50X3R5cGU9Y3JlYXRlZCYtcGs9MTk0NzMwMTg4NjQ=\n",
      "Fetching listing: Page 63, Events Fetched: 50, Total Events: 3150, next cursor: LWV2ZW50X3RpbWVzdGFtcD0yMDI0LTAxLTI0KzAwJTNBNTclM0E0NS40ODMxMDUmLWV2ZW50X3R5cGU9Y3JlYXRlZCYtcGs9MTk0NDMzNjQ0MTQ=\n",
      "Fetching listing: Page 64, Events Fetched: 50, Total Events: 3200, next cursor: LWV2ZW50X3RpbWVzdGFtcD0yMDIzLTEyLTI2KzE4JTNBMzElM0EwNi4xODUyMDQmLWV2ZW50X3R5cGU9Y3JlYXRlZCYtcGs9MTg0NjQ2MTk0NzY=\n",
      "Fetching listing: Page 65, Events Fetched: 4, Total Events: 3204, next cursor: \n",
      "Fetching sale: Page 1, Events Fetched: 50, Total Events: 3254, next cursor: LWV2ZW50X3RpbWVzdGFtcD0yMDI0LTA0LTI4KzA3JTNBNDYlM0ExMyYtZXZlbnRfdHlwZT1zdWNjZXNzZnVsJi1waz0yMjEwMTgyMjcwOQ==\n",
      "Fetching sale: Page 2, Events Fetched: 50, Total Events: 3304, next cursor: LWV2ZW50X3RpbWVzdGFtcD0yMDI0LTAyLTA2KzEyJTNBMDYlM0ExMSYtZXZlbnRfdHlwZT1zdWNjZXNzZnVsJi1waz0xOTkxNjI1NDgxOQ==\n",
      "Fetching sale: Page 3, Events Fetched: 11, Total Events: 3315, next cursor: \n",
      "Total events fetched: 3315\n"
     ]
    }
   ],
   "source": [
    "events_df = fetch_all_events(api_key= opensea_api_key)\n",
    "# events_df.to_json('data/events_data.json', orient='records', date_format='iso')\n",
    "\n"
   ]
  },
  {
   "cell_type": "code",
   "execution_count": 16,
   "metadata": {},
   "outputs": [],
   "source": [
    "# events_df = pd.read_json('data/events_data.json', orient='records')\n",
    "events_df = events_df.dropna()"
   ]
  },
  {
   "cell_type": "code",
   "execution_count": 17,
   "metadata": {},
   "outputs": [
    {
     "name": "stdout",
     "output_type": "stream",
     "text": [
      "Page 1, Cursor: LXBrPTE5MjkzMzc4MTg= Descriptions Fetched: 200, total fetched: 200\n",
      "Page 2, Cursor: LXBrPTE5Mjg2MTI4NDg= Descriptions Fetched: 200, total fetched: 400\n",
      "Page 3, Cursor: LXBrPTE5Mjg0OTI3OTg= Descriptions Fetched: 200, total fetched: 600\n",
      "Page 4, Cursor: LXBrPTE5MjgzMzY2NDE= Descriptions Fetched: 200, total fetched: 800\n",
      "Page 5, Cursor: LXBrPTE5MjgyMzc1ODU= Descriptions Fetched: 200, total fetched: 1000\n",
      "Page 6, Cursor: LXBrPTE5MjgxMTA4OTc= Descriptions Fetched: 200, total fetched: 1200\n",
      "Page 7, Cursor: LXBrPTE5MjgwMDY4Njc= Descriptions Fetched: 200, total fetched: 1400\n",
      "Page 8, Cursor: LXBrPTE5Mjc5MzA2NTM= Descriptions Fetched: 200, total fetched: 1600\n",
      "Page 9, Cursor: LXBrPTE5Mjc4MTE3MTA= Descriptions Fetched: 200, total fetched: 1800\n",
      "Page 10, Cursor: LXBrPTE5Mjc1MzgwNTE= Descriptions Fetched: 200, total fetched: 2000\n",
      "Page 11, Cursor: LXBrPTE5MjcyODA2OTY= Descriptions Fetched: 200, total fetched: 2200\n",
      "Page 12, Cursor: LXBrPTE5MjY5OTU0ODA= Descriptions Fetched: 200, total fetched: 2400\n",
      "Page 13, Cursor: LXBrPTE5MjA3OTE4NzE= Descriptions Fetched: 200, total fetched: 2600\n",
      "Page 14, Cursor: LXBrPTE5MTc2MDEzNDY= Descriptions Fetched: 200, total fetched: 2800\n",
      "Page 15, Cursor: LXBrPTE5MTU0NTY4NjE= Descriptions Fetched: 200, total fetched: 3000\n",
      "Page 16, Cursor: LXBrPTE5MTQzNzE2NDA= Descriptions Fetched: 200, total fetched: 3200\n",
      "Page 17, Cursor: LXBrPTE5MTM3MjE1ODE= Descriptions Fetched: 200, total fetched: 3400\n",
      "Page 18, Cursor: LXBrPTE5MTMyODM1ODM= Descriptions Fetched: 200, total fetched: 3600\n",
      "Page 19, Cursor: LXBrPTE5MTMxMTE0MzQ= Descriptions Fetched: 200, total fetched: 3800\n",
      "Page 20, Cursor: LXBrPTE5MDYzOTY1NDU= Descriptions Fetched: 200, total fetched: 4000\n",
      "Page 21, Cursor: LXBrPTE4OTIwOTY2NDE= Descriptions Fetched: 200, total fetched: 4200\n",
      "Page 22, Cursor: LXBrPTE4NzE3ODg5Njc= Descriptions Fetched: 200, total fetched: 4400\n",
      "Page 23, Cursor: LXBrPTE4NTI5NzQzMzA= Descriptions Fetched: 200, total fetched: 4600\n",
      "Page 24, Cursor: LXBrPTE4Mzc0MjM3MDc= Descriptions Fetched: 200, total fetched: 4800\n",
      "Page 25, Cursor: LXBrPTE4MzIwNjk2ODI= Descriptions Fetched: 200, total fetched: 5000\n",
      "Page 26, Cursor: LXBrPTE4MjYxNzkyODk= Descriptions Fetched: 200, total fetched: 5200\n",
      "Page 27, Cursor: LXBrPTE4MTk4NDQ4MjI= Descriptions Fetched: 200, total fetched: 5400\n",
      "Page 28, Cursor: LXBrPTE4MTcyMjQ1MTI= Descriptions Fetched: 200, total fetched: 5600\n",
      "Page 29, Cursor: LXBrPTE4MTUzNjQ2NjA= Descriptions Fetched: 200, total fetched: 5800\n",
      "Page 30, Cursor: LXBrPTE4MTMyODAyNjI= Descriptions Fetched: 200, total fetched: 6000\n",
      "Page 31, Cursor: LXBrPTE4MTAyNTE2NTg= Descriptions Fetched: 200, total fetched: 6200\n",
      "Page 32, Cursor: LXBrPTE4MDg3NTgzODE= Descriptions Fetched: 200, total fetched: 6400\n",
      "Page 33, Cursor: LXBrPTE4MDU4NDI1NDY= Descriptions Fetched: 200, total fetched: 6600\n",
      "Page 34, Cursor: LXBrPTE4MDQzODk3NzU= Descriptions Fetched: 200, total fetched: 6800\n",
      "Page 35, Cursor: LXBrPTE4MDE5NjIyNzY= Descriptions Fetched: 200, total fetched: 7000\n",
      "Page 36, Cursor: LXBrPTE4MDAzODQxMjU= Descriptions Fetched: 200, total fetched: 7200\n",
      "Page 37, Cursor: LXBrPTE3OTkxMzYxODE= Descriptions Fetched: 200, total fetched: 7400\n",
      "Page 38, Cursor: LXBrPTE3OTc2NjIwODc= Descriptions Fetched: 200, total fetched: 7600\n",
      "Page 39, Cursor: LXBrPTE3OTcxMjYzNTM= Descriptions Fetched: 200, total fetched: 7800\n",
      "Page 40, Cursor: LXBrPTE3OTU5MTA0NTU= Descriptions Fetched: 200, total fetched: 8000\n",
      "Page 41, Cursor: LXBrPTE3OTQ5MzIyNzQ= Descriptions Fetched: 200, total fetched: 8200\n",
      "Page 42, Cursor: LXBrPTE3OTA2OTQwNjQ= Descriptions Fetched: 200, total fetched: 8400\n",
      "Page 43, Cursor: LXBrPTE3ODcwODkxODk= Descriptions Fetched: 200, total fetched: 8600\n",
      "Page 44, Cursor: LXBrPTE3ODIwOTUwNTA= Descriptions Fetched: 200, total fetched: 8800\n",
      "Page 45, Cursor: LXBrPTE3Nzg3NTEzMDE= Descriptions Fetched: 200, total fetched: 9000\n",
      "Page 46, Cursor: LXBrPTE3NzYzNTg4MDI= Descriptions Fetched: 200, total fetched: 9200\n",
      "Page 47, Cursor: LXBrPTE3NzM2NTM4NTI= Descriptions Fetched: 200, total fetched: 9400\n",
      "Page 48, Cursor: LXBrPTE3NzI5OTcyNDI= Descriptions Fetched: 200, total fetched: 9600\n",
      "Page 49, Cursor: LXBrPTE3NjkyMDYzMzE= Descriptions Fetched: 200, total fetched: 9800\n",
      "Page 50, Cursor: LXBrPTE3NjQzMzExODg= Descriptions Fetched: 200, total fetched: 10000\n",
      "Page 51, Cursor: LXBrPTE3NTU3Njc4MzE= Descriptions Fetched: 200, total fetched: 10200\n",
      "Page 52, Cursor: LXBrPTE3NTA0MTUzMzM= Descriptions Fetched: 200, total fetched: 10400\n",
      "Page 53, Cursor: LXBrPTE3MzEyMjIzMDg= Descriptions Fetched: 200, total fetched: 10600\n",
      "Page 54, Cursor: LXBrPTE3MTU4MDQ0MzU= Descriptions Fetched: 200, total fetched: 10800\n",
      "Page 55, Cursor: LXBrPTE3MDYxMTc4MzU= Descriptions Fetched: 200, total fetched: 11000\n",
      "Page 56, Cursor: LXBrPTE2OTc3OTMwNTI= Descriptions Fetched: 200, total fetched: 11200\n",
      "Page 57, Cursor: LXBrPTE2OTI3NTc0OTU= Descriptions Fetched: 200, total fetched: 11400\n",
      "Page 58, Cursor: LXBrPTE2ODgzMzcwNTQ= Descriptions Fetched: 200, total fetched: 11600\n",
      "Page 59, Cursor: LXBrPTE2ODY2ODk1NTY= Descriptions Fetched: 200, total fetched: 11800\n",
      "Page 60, Cursor: LXBrPTE2ODUzMTc4NDY= Descriptions Fetched: 200, total fetched: 12000\n",
      "Page 61, Cursor: LXBrPTE2ODM5MDUyODY= Descriptions Fetched: 200, total fetched: 12200\n",
      "Page 62, Cursor: LXBrPTE2ODI4ODcwNTU= Descriptions Fetched: 200, total fetched: 12400\n",
      "Page 63, Cursor: LXBrPTE2ODIyNTc1NDk= Descriptions Fetched: 200, total fetched: 12600\n",
      "Page 64, Cursor: LXBrPTE2ODEwNTc5ODY= Descriptions Fetched: 200, total fetched: 12800\n",
      "Page 65, Cursor: LXBrPTE2Nzk1MTQ5MDg= Descriptions Fetched: 200, total fetched: 13000\n",
      "Page 66, Cursor: LXBrPTE2NzgzNTYyMjQ= Descriptions Fetched: 200, total fetched: 13200\n",
      "Page 67, Cursor: LXBrPTE2NzcxNzE2ODg= Descriptions Fetched: 200, total fetched: 13400\n",
      "Page 68, Cursor: LXBrPTE2NzU4MDQwNjI= Descriptions Fetched: 200, total fetched: 13600\n",
      "Page 69, Cursor: LXBrPTE2NzQ0NTk5ODk= Descriptions Fetched: 200, total fetched: 13800\n",
      "Page 70, Cursor: LXBrPTE2NzMyODYxMDk= Descriptions Fetched: 200, total fetched: 14000\n",
      "Page 71, Cursor: LXBrPTE2NzE2Njg1Nzk= Descriptions Fetched: 200, total fetched: 14200\n",
      "Page 72, Cursor: LXBrPTE2Njk2MTYwMDg= Descriptions Fetched: 200, total fetched: 14400\n",
      "Page 73, Cursor: LXBrPTE2NjgyNDgxMTI= Descriptions Fetched: 200, total fetched: 14600\n",
      "Page 74, Cursor: LXBrPTE2NjcyNDA0MTA= Descriptions Fetched: 200, total fetched: 14800\n",
      "Page 75, Cursor: LXBrPTE2NjU4ODYwODI= Descriptions Fetched: 200, total fetched: 15000\n",
      "Page 76, Cursor: LXBrPTE2NjQzMjY5MjI= Descriptions Fetched: 200, total fetched: 15200\n",
      "Page 77, Cursor: LXBrPTE2NjIyNTM3NDI= Descriptions Fetched: 200, total fetched: 15400\n",
      "Page 78, Cursor: LXBrPTE2NjE1Njc4NDU= Descriptions Fetched: 200, total fetched: 15600\n",
      "Page 79, Cursor: LXBrPTE2NjA3NjE1NDk= Descriptions Fetched: 200, total fetched: 15800\n",
      "Page 80, Cursor: LXBrPTE2NTk3NzkxMDY= Descriptions Fetched: 200, total fetched: 16000\n",
      "Page 81, Cursor: LXBrPTE2NTkxNzY4ODQ= Descriptions Fetched: 200, total fetched: 16200\n",
      "Page 82, Cursor: LXBrPTE2NTgzNzk1MTM= Descriptions Fetched: 200, total fetched: 16400\n",
      "Page 83, Cursor: LXBrPTE2NTc4MDU4MTM= Descriptions Fetched: 200, total fetched: 16600\n",
      "Page 84, Cursor: LXBrPTE2NTcyODU1NjE= Descriptions Fetched: 200, total fetched: 16800\n",
      "Page 85, Cursor: LXBrPTE2NTY4NjUwNjU= Descriptions Fetched: 200, total fetched: 17000\n",
      "Page 86, Cursor: LXBrPTE2NTY1NzYzODc= Descriptions Fetched: 200, total fetched: 17200\n",
      "Page 87, Cursor: LXBrPTE2NTU1OTgzMzM= Descriptions Fetched: 200, total fetched: 17400\n",
      "Page 88, Cursor: LXBrPTE2NTQzOTU2NjI= Descriptions Fetched: 200, total fetched: 17600\n",
      "Page 89, Cursor: LXBrPTE2NTI2NzU2NDk= Descriptions Fetched: 200, total fetched: 17800\n",
      "Page 90, Cursor: LXBrPTE2NDk5NzkzMzI= Descriptions Fetched: 200, total fetched: 18000\n",
      "Page 91, Cursor: LXBrPTE2NDU0NDU1OTU= Descriptions Fetched: 200, total fetched: 18200\n",
      "Page 92, Cursor: LXBrPTE2NDQ0NDEyMzk= Descriptions Fetched: 200, total fetched: 18400\n",
      "Page 93, Cursor: LXBrPTE2NDM2NjIyODY= Descriptions Fetched: 200, total fetched: 18600\n",
      "Page 94, Cursor: LXBrPTE2NDM0MjgzOTk= Descriptions Fetched: 200, total fetched: 18800\n",
      "Page 95, Cursor: LXBrPTE2NDMzMTI5NzM= Descriptions Fetched: 200, total fetched: 19000\n",
      "Page 96, Cursor: LXBrPTE2NDI3NjM0OTk= Descriptions Fetched: 200, total fetched: 19200\n",
      "Page 97, Cursor: LXBrPTE2NDI0NTAxMzA= Descriptions Fetched: 200, total fetched: 19400\n",
      "Page 98, Cursor: LXBrPTE2NDA5MTkxODQ= Descriptions Fetched: 200, total fetched: 19600\n",
      "Page 99, Cursor: LXBrPTE2MjYyMzU5NTM= Descriptions Fetched: 200, total fetched: 19800\n",
      "Page 100, Cursor: LXBrPTE2MDI5NjI4ODA= Descriptions Fetched: 200, total fetched: 20000\n",
      "Page 101, Cursor: LXBrPTE1ODYyODY1NDk= Descriptions Fetched: 200, total fetched: 20200\n",
      "Page 102, Cursor: None Descriptions Fetched: 167, total fetched: 20367\n",
      "Total pages fetched: 102, Total descriptions fetched: 20367\n"
     ]
    }
   ],
   "source": [
    "descriptions_df = fetch_all_descriptions(api_key= opensea_api_key)\n",
    "# descriptions_df.to_json('data/descriptions_data.json', orient='records', date_format='iso')"
   ]
  },
  {
   "cell_type": "code",
   "execution_count": 18,
   "metadata": {},
   "outputs": [
    {
     "data": {
      "text/html": [
       "<div>\n",
       "<style scoped>\n",
       "    .dataframe tbody tr th:only-of-type {\n",
       "        vertical-align: middle;\n",
       "    }\n",
       "\n",
       "    .dataframe tbody tr th {\n",
       "        vertical-align: top;\n",
       "    }\n",
       "\n",
       "    .dataframe thead th {\n",
       "        text-align: right;\n",
       "    }\n",
       "</style>\n",
       "<table border=\"1\" class=\"dataframe\">\n",
       "  <thead>\n",
       "    <tr style=\"text-align: right;\">\n",
       "      <th></th>\n",
       "      <th>name</th>\n",
       "      <th>identifier</th>\n",
       "    </tr>\n",
       "  </thead>\n",
       "  <tbody>\n",
       "    <tr>\n",
       "      <th>0</th>\n",
       "      <td>None</td>\n",
       "      <td>9211142025862524733607873468598352561452098120...</td>\n",
       "    </tr>\n",
       "    <tr>\n",
       "      <th>1</th>\n",
       "      <td>smokencrypto.super.box</td>\n",
       "      <td>9033614767912623021833073872437768696072706213...</td>\n",
       "    </tr>\n",
       "    <tr>\n",
       "      <th>2</th>\n",
       "      <td>None</td>\n",
       "      <td>5385582826618667796823388897535458884445324748...</td>\n",
       "    </tr>\n",
       "    <tr>\n",
       "      <th>3</th>\n",
       "      <td>plann.chain.box</td>\n",
       "      <td>1028189277645948052048424286119121919915652537...</td>\n",
       "    </tr>\n",
       "    <tr>\n",
       "      <th>4</th>\n",
       "      <td>joseleandro.super.box</td>\n",
       "      <td>4116172558416462100310591956302021403123871776...</td>\n",
       "    </tr>\n",
       "    <tr>\n",
       "      <th>...</th>\n",
       "      <td>...</td>\n",
       "      <td>...</td>\n",
       "    </tr>\n",
       "    <tr>\n",
       "      <th>20362</th>\n",
       "      <td>None</td>\n",
       "      <td>7961974991147691313806212943424194929272025186...</td>\n",
       "    </tr>\n",
       "    <tr>\n",
       "      <th>20363</th>\n",
       "      <td>None</td>\n",
       "      <td>8083426622328183371660078832824394443549950662...</td>\n",
       "    </tr>\n",
       "    <tr>\n",
       "      <th>20364</th>\n",
       "      <td>None</td>\n",
       "      <td>7307979787047915423697048548590087477880077770...</td>\n",
       "    </tr>\n",
       "    <tr>\n",
       "      <th>20365</th>\n",
       "      <td>None</td>\n",
       "      <td>9704967898254709917779043693758825940947200267...</td>\n",
       "    </tr>\n",
       "    <tr>\n",
       "      <th>20366</th>\n",
       "      <td>None</td>\n",
       "      <td>7787567487531208416708807281080381535785762920...</td>\n",
       "    </tr>\n",
       "  </tbody>\n",
       "</table>\n",
       "<p>20367 rows × 2 columns</p>\n",
       "</div>"
      ],
      "text/plain": [
       "                         name  \\\n",
       "0                        None   \n",
       "1      smokencrypto.super.box   \n",
       "2                        None   \n",
       "3             plann.chain.box   \n",
       "4       joseleandro.super.box   \n",
       "...                       ...   \n",
       "20362                    None   \n",
       "20363                    None   \n",
       "20364                    None   \n",
       "20365                    None   \n",
       "20366                    None   \n",
       "\n",
       "                                              identifier  \n",
       "0      9211142025862524733607873468598352561452098120...  \n",
       "1      9033614767912623021833073872437768696072706213...  \n",
       "2      5385582826618667796823388897535458884445324748...  \n",
       "3      1028189277645948052048424286119121919915652537...  \n",
       "4      4116172558416462100310591956302021403123871776...  \n",
       "...                                                  ...  \n",
       "20362  7961974991147691313806212943424194929272025186...  \n",
       "20363  8083426622328183371660078832824394443549950662...  \n",
       "20364  7307979787047915423697048548590087477880077770...  \n",
       "20365  9704967898254709917779043693758825940947200267...  \n",
       "20366  7787567487531208416708807281080381535785762920...  \n",
       "\n",
       "[20367 rows x 2 columns]"
      ]
     },
     "execution_count": 18,
     "metadata": {},
     "output_type": "execute_result"
    }
   ],
   "source": [
    "descriptions_df"
   ]
  },
  {
   "cell_type": "code",
   "execution_count": 19,
   "metadata": {},
   "outputs": [
    {
     "data": {
      "text/plain": [
       "20336             rxare.com\n",
       "20337          carrabre.com\n",
       "20338          petbitch.com\n",
       "20339     storagecorner.org\n",
       "20340       nftsarereal.com\n",
       "20341              aox.link\n",
       "20342           kenzlee.com\n",
       "20343          anaclare.org\n",
       "20344          debanked.net\n",
       "20345         shoemaker.wtf\n",
       "20346      wassiehunter.com\n",
       "20347     tokentroopers.xyz\n",
       "20348            mudbox.xyz\n",
       "20349     beallclothing.com\n",
       "20350          brandley.xyz\n",
       "20351        tameimpala.xyz\n",
       "20352          efferium.org\n",
       "20353           wizkika.com\n",
       "20354    onchaindomains.org\n",
       "20355              3dns.box\n",
       "Name: name, dtype: object"
      ]
     },
     "execution_count": 19,
     "metadata": {},
     "output_type": "execute_result"
    }
   ],
   "source": [
    "# descriptions_df = pd.read_json('data/descriptions_data.json', orient='records')\n",
    "descriptions_df = descriptions_df.dropna()\n",
    "\n",
    "descriptions_df['name'].tail(20)"
   ]
  },
  {
   "cell_type": "code",
   "execution_count": 20,
   "metadata": {},
   "outputs": [
    {
     "name": "stdout",
     "output_type": "stream",
     "text": [
      "Page 1, Cursor: cGs9MTc2NjExOTU5NjUmY3JlYXRlZF9kYXRlPTIwMjQtMDMtMTUrMDklM0E1MSUzQTMwLjM4NTk0Nw==, Listings Fetched: 100\n",
      "Page 2, Cursor: cGs9MTg2NDk2MjU2ODgmY3JlYXRlZF9kYXRlPTIwMjQtMDQtMjgrMTglM0E0OSUzQTUzLjA1MTQ2MQ==, Listings Fetched: 100\n",
      "Page 3, Cursor: cGs9MTg4MzE1Mjg0OTAmY3JlYXRlZF9kYXRlPTIwMjQtMDUtMDYrMDMlM0EwMiUzQTM0LjY3ODYyMw==, Listings Fetched: 100\n",
      "Page 4, Cursor: cGs9MTk0MDc4ODI3MzAmY3JlYXRlZF9kYXRlPTIwMjQtMDUtMzArMTYlM0ExMSUzQTQ5LjYxMzgyNg==, Listings Fetched: 100\n",
      "Page 5, Cursor: cGs9MjAwNjYwMTIyOTUmY3JlYXRlZF9kYXRlPTIwMjQtMDYtMjgrMDklM0ExNCUzQTQ3LjQ0Nzg0NA==, Listings Fetched: 100\n",
      "Page 6, Cursor: cGs9MjA1MzI2MDU2NzQmY3JlYXRlZF9kYXRlPTIwMjQtMDctMTcrMTUlM0E0OSUzQTEyLjU2MjIyOQ==, Listings Fetched: 100\n",
      "Page 7, Cursor: cGs9MjA2ODE2OTUwNTcmY3JlYXRlZF9kYXRlPTIwMjQtMDctMjMrMTglM0E0OCUzQTIzLjcyNjQyOQ==, Listings Fetched: 100\n",
      "Page 8, Cursor: None, Listings Fetched: 12\n",
      "Total pages fetched: 8\n",
      "Total listings fetched: 712\n"
     ]
    }
   ],
   "source": [
    "listings_df = fetch_listings(api_key= opensea_api_key, delay_between_requests=1)\n",
    "# listings_df.to_json('data/listings_data.json', orient='records', date_format='iso')"
   ]
  },
  {
   "cell_type": "code",
   "execution_count": 21,
   "metadata": {},
   "outputs": [],
   "source": [
    "# listings_df = pd.read_json('data/listings_data.json', orient='records')\n",
    "listings_df = listings_df.dropna()"
   ]
  },
  {
   "cell_type": "code",
   "execution_count": 22,
   "metadata": {},
   "outputs": [],
   "source": [
    "def unpack_protocol_data(row):\n",
    "    protocol_data = row['protocol_data']\n",
    "    parameters = protocol_data.get('parameters', {})\n",
    "    consideration = parameters.get('consideration', [{}])\n",
    "    offer = parameters.get('offer', [{}])\n",
    "    price = row['price']['current']\n",
    "    \n",
    "    chain = row['chain']\n",
    "    order_hash = row['order_hash']\n",
    "    currency = price.get('currency')\n",
    "    price_string = price.get('value')\n",
    "    price_in_eth = float(price_string) / (10 ** price.get('decimals', 18))\n",
    "    primary_recipient = consideration[0].get('recipient') if consideration else None\n",
    "    identifier_or_criteria = offer[0].get('identifierOrCriteria') if offer else None\n",
    "    start_time = parameters.get('startTime')\n",
    "    end_time = parameters.get('endTime')\n",
    "    \n",
    "    return pd.Series([\n",
    "        chain, order_hash, currency, price_string, price_in_eth, \n",
    "        primary_recipient, identifier_or_criteria, start_time, end_time\n",
    "    ])"
   ]
  },
  {
   "cell_type": "code",
   "execution_count": 23,
   "metadata": {},
   "outputs": [],
   "source": [
    "unpacked_columns = listings_df.apply(unpack_protocol_data, axis=1)\n",
    "unpacked_columns.columns = [\n",
    "    'chain', 'order_hash', 'currency', 'price_string', 'price_in_eth', \n",
    "    'primary_recipient', 'identifier_or_criteria', 'start_time', 'end_time'\n",
    "]\n",
    "listings_df = pd.concat([listings_df, unpacked_columns], axis=1)\n",
    "listings_df = listings_df.drop(columns=['protocol_data'])\n"
   ]
  },
  {
   "cell_type": "code",
   "execution_count": 24,
   "metadata": {},
   "outputs": [],
   "source": [
    "listings_df['identifier_or_criteria'] = listings_df['identifier_or_criteria'].astype(float)\n",
    "listings_df.rename(columns={'identifier_or_criteria':'tokenid'}, inplace=True)"
   ]
  },
  {
   "cell_type": "code",
   "execution_count": 25,
   "metadata": {},
   "outputs": [],
   "source": [
    "listings_df.drop(columns=['price_string','currency','primary_recipient','chain','price','protocol_address','type'], inplace=True)"
   ]
  },
  {
   "cell_type": "code",
   "execution_count": 26,
   "metadata": {},
   "outputs": [
    {
     "name": "stderr",
     "output_type": "stream",
     "text": [
      "C:\\Users\\brandyns pc\\AppData\\Local\\Temp\\ipykernel_12168\\2864543238.py:1: SettingWithCopyWarning: \n",
      "A value is trying to be set on a copy of a slice from a DataFrame\n",
      "\n",
      "See the caveats in the documentation: https://pandas.pydata.org/pandas-docs/stable/user_guide/indexing.html#returning-a-view-versus-a-copy\n",
      "  descriptions_df.rename(columns={'identifier':'tokenid'}, inplace=True)\n"
     ]
    }
   ],
   "source": [
    "descriptions_df.rename(columns={'identifier':'tokenid'}, inplace=True)"
   ]
  },
  {
   "cell_type": "code",
   "execution_count": 27,
   "metadata": {},
   "outputs": [
    {
     "name": "stderr",
     "output_type": "stream",
     "text": [
      "C:\\Users\\brandyns pc\\AppData\\Local\\Temp\\ipykernel_12168\\458444553.py:1: SettingWithCopyWarning: \n",
      "A value is trying to be set on a copy of a slice from a DataFrame.\n",
      "Try using .loc[row_indexer,col_indexer] = value instead\n",
      "\n",
      "See the caveats in the documentation: https://pandas.pydata.org/pandas-docs/stable/user_guide/indexing.html#returning-a-view-versus-a-copy\n",
      "  descriptions_df['tokenid'] = descriptions_df['tokenid'].astype(float)\n"
     ]
    }
   ],
   "source": [
    "descriptions_df['tokenid'] = descriptions_df['tokenid'].astype(float)"
   ]
  },
  {
   "cell_type": "code",
   "execution_count": 28,
   "metadata": {},
   "outputs": [
    {
     "data": {
      "text/html": [
       "<div>\n",
       "<style scoped>\n",
       "    .dataframe tbody tr th:only-of-type {\n",
       "        vertical-align: middle;\n",
       "    }\n",
       "\n",
       "    .dataframe tbody tr th {\n",
       "        vertical-align: top;\n",
       "    }\n",
       "\n",
       "    .dataframe thead th {\n",
       "        text-align: right;\n",
       "    }\n",
       "</style>\n",
       "<table border=\"1\" class=\"dataframe\">\n",
       "  <thead>\n",
       "    <tr style=\"text-align: right;\">\n",
       "      <th></th>\n",
       "      <th>order_hash</th>\n",
       "      <th>order_hash</th>\n",
       "      <th>price_in_eth</th>\n",
       "      <th>tokenid</th>\n",
       "      <th>start_time</th>\n",
       "      <th>end_time</th>\n",
       "      <th>name</th>\n",
       "    </tr>\n",
       "  </thead>\n",
       "  <tbody>\n",
       "    <tr>\n",
       "      <th>0</th>\n",
       "      <td>0x09079c53f0de1b0f74eebb122d7dde6f2b15597c2493...</td>\n",
       "      <td>0x09079c53f0de1b0f74eebb122d7dde6f2b15597c2493...</td>\n",
       "      <td>4.52</td>\n",
       "      <td>35,680,721,375,902,822,274,595,445,380,444,558,...</td>\n",
       "      <td>1706123455</td>\n",
       "      <td>1721844648</td>\n",
       "      <td>postoffice.box</td>\n",
       "    </tr>\n",
       "    <tr>\n",
       "      <th>1</th>\n",
       "      <td>0x62f70b03d872b0ad28daf741f24172dd3e0a07ae830d...</td>\n",
       "      <td>0x62f70b03d872b0ad28daf741f24172dd3e0a07ae830d...</td>\n",
       "      <td>1.50</td>\n",
       "      <td>14,048,860,107,254,168,745,279,621,511,972,539,...</td>\n",
       "      <td>1706123508</td>\n",
       "      <td>1721844704</td>\n",
       "      <td>outofthe.box</td>\n",
       "    </tr>\n",
       "    <tr>\n",
       "      <th>2</th>\n",
       "      <td>0x49e904f3f1968a867549eb12af481ed707206deaaab5...</td>\n",
       "      <td>0x49e904f3f1968a867549eb12af481ed707206deaaab5...</td>\n",
       "      <td>15.00</td>\n",
       "      <td>83,025,402,216,097,860,850,439,774,554,040,107,...</td>\n",
       "      <td>1706123545</td>\n",
       "      <td>1721844742</td>\n",
       "      <td>gym.box</td>\n",
       "    </tr>\n",
       "    <tr>\n",
       "      <th>3</th>\n",
       "      <td>0xcb2de7a4cd7972fb0799f115f5520d07eda3e9020256...</td>\n",
       "      <td>0xcb2de7a4cd7972fb0799f115f5520d07eda3e9020256...</td>\n",
       "      <td>32.00</td>\n",
       "      <td>102,970,000,717,591,218,890,627,833,037,729,437...</td>\n",
       "      <td>1706149250</td>\n",
       "      <td>1721870447</td>\n",
       "      <td>322.box</td>\n",
       "    </tr>\n",
       "    <tr>\n",
       "      <th>4</th>\n",
       "      <td>0x8ec799a93294ec3d13926e54aa712112d8f14f504d47...</td>\n",
       "      <td>0x8ec799a93294ec3d13926e54aa712112d8f14f504d47...</td>\n",
       "      <td>6.90</td>\n",
       "      <td>39,332,446,229,392,020,518,394,952,709,307,862,...</td>\n",
       "      <td>1706152363</td>\n",
       "      <td>1721877156</td>\n",
       "      <td>shipping.box</td>\n",
       "    </tr>\n",
       "    <tr>\n",
       "      <th>...</th>\n",
       "      <td>...</td>\n",
       "      <td>...</td>\n",
       "      <td>...</td>\n",
       "      <td>...</td>\n",
       "      <td>...</td>\n",
       "      <td>...</td>\n",
       "      <td>...</td>\n",
       "    </tr>\n",
       "    <tr>\n",
       "      <th>707</th>\n",
       "      <td>0x77c289d71fc4ca3a739caaf07d22161349174d108e14...</td>\n",
       "      <td>0x77c289d71fc4ca3a739caaf07d22161349174d108e14...</td>\n",
       "      <td>0.00</td>\n",
       "      <td>78,110,798,488,081,476,976,195,367,853,255,312,...</td>\n",
       "      <td>1721811654</td>\n",
       "      <td>1724490054</td>\n",
       "      <td>NaN</td>\n",
       "    </tr>\n",
       "    <tr>\n",
       "      <th>708</th>\n",
       "      <td>0x1f3971ac656b6363f76dd3f80ede355486281e02325b...</td>\n",
       "      <td>0x1f3971ac656b6363f76dd3f80ede355486281e02325b...</td>\n",
       "      <td>0.00</td>\n",
       "      <td>66,876,185,652,698,491,249,381,494,597,719,774,...</td>\n",
       "      <td>1721815978</td>\n",
       "      <td>1737713576</td>\n",
       "      <td>cryptoinvest077777.one</td>\n",
       "    </tr>\n",
       "    <tr>\n",
       "      <th>709</th>\n",
       "      <td>0x977c754ef77db1cf59939aee7d2556836217fa813807...</td>\n",
       "      <td>0x977c754ef77db1cf59939aee7d2556836217fa813807...</td>\n",
       "      <td>0.00</td>\n",
       "      <td>66,876,185,652,698,491,249,381,494,597,719,774,...</td>\n",
       "      <td>1721816105</td>\n",
       "      <td>1722075304</td>\n",
       "      <td>cryptoinvest077777.one</td>\n",
       "    </tr>\n",
       "    <tr>\n",
       "      <th>710</th>\n",
       "      <td>0xdb0870786057a01a1968eefeb77f6cc377d233f7c710...</td>\n",
       "      <td>0xdb0870786057a01a1968eefeb77f6cc377d233f7c710...</td>\n",
       "      <td>0.00</td>\n",
       "      <td>112,342,513,825,967,323,888,196,021,188,568,663...</td>\n",
       "      <td>1721818751</td>\n",
       "      <td>1737719947</td>\n",
       "      <td>NaN</td>\n",
       "    </tr>\n",
       "    <tr>\n",
       "      <th>711</th>\n",
       "      <td>0x6d8c3257c529682fcc023938f8cf96df71d13d2635a2...</td>\n",
       "      <td>0x6d8c3257c529682fcc023938f8cf96df71d13d2635a2...</td>\n",
       "      <td>1.50</td>\n",
       "      <td>1,876,173,186,042,273,156,334,023,765,119,453,6...</td>\n",
       "      <td>1721824756</td>\n",
       "      <td>1724503156</td>\n",
       "      <td>price.box</td>\n",
       "    </tr>\n",
       "  </tbody>\n",
       "</table>\n",
       "<p>712 rows × 7 columns</p>\n",
       "</div>"
      ],
      "text/plain": [
       "                                            order_hash  \\\n",
       "0    0x09079c53f0de1b0f74eebb122d7dde6f2b15597c2493...   \n",
       "1    0x62f70b03d872b0ad28daf741f24172dd3e0a07ae830d...   \n",
       "2    0x49e904f3f1968a867549eb12af481ed707206deaaab5...   \n",
       "3    0xcb2de7a4cd7972fb0799f115f5520d07eda3e9020256...   \n",
       "4    0x8ec799a93294ec3d13926e54aa712112d8f14f504d47...   \n",
       "..                                                 ...   \n",
       "707  0x77c289d71fc4ca3a739caaf07d22161349174d108e14...   \n",
       "708  0x1f3971ac656b6363f76dd3f80ede355486281e02325b...   \n",
       "709  0x977c754ef77db1cf59939aee7d2556836217fa813807...   \n",
       "710  0xdb0870786057a01a1968eefeb77f6cc377d233f7c710...   \n",
       "711  0x6d8c3257c529682fcc023938f8cf96df71d13d2635a2...   \n",
       "\n",
       "                                            order_hash  price_in_eth  \\\n",
       "0    0x09079c53f0de1b0f74eebb122d7dde6f2b15597c2493...          4.52   \n",
       "1    0x62f70b03d872b0ad28daf741f24172dd3e0a07ae830d...          1.50   \n",
       "2    0x49e904f3f1968a867549eb12af481ed707206deaaab5...         15.00   \n",
       "3    0xcb2de7a4cd7972fb0799f115f5520d07eda3e9020256...         32.00   \n",
       "4    0x8ec799a93294ec3d13926e54aa712112d8f14f504d47...          6.90   \n",
       "..                                                 ...           ...   \n",
       "707  0x77c289d71fc4ca3a739caaf07d22161349174d108e14...          0.00   \n",
       "708  0x1f3971ac656b6363f76dd3f80ede355486281e02325b...          0.00   \n",
       "709  0x977c754ef77db1cf59939aee7d2556836217fa813807...          0.00   \n",
       "710  0xdb0870786057a01a1968eefeb77f6cc377d233f7c710...          0.00   \n",
       "711  0x6d8c3257c529682fcc023938f8cf96df71d13d2635a2...          1.50   \n",
       "\n",
       "                                               tokenid  start_time  \\\n",
       "0   35,680,721,375,902,822,274,595,445,380,444,558,...  1706123455   \n",
       "1   14,048,860,107,254,168,745,279,621,511,972,539,...  1706123508   \n",
       "2   83,025,402,216,097,860,850,439,774,554,040,107,...  1706123545   \n",
       "3   102,970,000,717,591,218,890,627,833,037,729,437...  1706149250   \n",
       "4   39,332,446,229,392,020,518,394,952,709,307,862,...  1706152363   \n",
       "..                                                 ...         ...   \n",
       "707 78,110,798,488,081,476,976,195,367,853,255,312,...  1721811654   \n",
       "708 66,876,185,652,698,491,249,381,494,597,719,774,...  1721815978   \n",
       "709 66,876,185,652,698,491,249,381,494,597,719,774,...  1721816105   \n",
       "710 112,342,513,825,967,323,888,196,021,188,568,663...  1721818751   \n",
       "711 1,876,173,186,042,273,156,334,023,765,119,453,6...  1721824756   \n",
       "\n",
       "       end_time                    name  \n",
       "0    1721844648          postoffice.box  \n",
       "1    1721844704            outofthe.box  \n",
       "2    1721844742                 gym.box  \n",
       "3    1721870447                 322.box  \n",
       "4    1721877156            shipping.box  \n",
       "..          ...                     ...  \n",
       "707  1724490054                     NaN  \n",
       "708  1737713576  cryptoinvest077777.one  \n",
       "709  1722075304  cryptoinvest077777.one  \n",
       "710  1737719947                     NaN  \n",
       "711  1724503156               price.box  \n",
       "\n",
       "[712 rows x 7 columns]"
      ]
     },
     "execution_count": 28,
     "metadata": {},
     "output_type": "execute_result"
    }
   ],
   "source": [
    "listings_with_names = listings_df.merge(descriptions_df, how='left', on='tokenid')\n",
    "listings_with_names"
   ]
  },
  {
   "cell_type": "code",
   "execution_count": 29,
   "metadata": {},
   "outputs": [],
   "source": [
    "listings_with_names = listings_with_names.dropna()"
   ]
  },
  {
   "cell_type": "code",
   "execution_count": 30,
   "metadata": {},
   "outputs": [
    {
     "data": {
      "text/html": [
       "<div>\n",
       "<style scoped>\n",
       "    .dataframe tbody tr th:only-of-type {\n",
       "        vertical-align: middle;\n",
       "    }\n",
       "\n",
       "    .dataframe tbody tr th {\n",
       "        vertical-align: top;\n",
       "    }\n",
       "\n",
       "    .dataframe thead th {\n",
       "        text-align: right;\n",
       "    }\n",
       "</style>\n",
       "<table border=\"1\" class=\"dataframe\">\n",
       "  <thead>\n",
       "    <tr style=\"text-align: right;\">\n",
       "      <th></th>\n",
       "      <th>order_hash</th>\n",
       "      <th>order_hash</th>\n",
       "      <th>price_in_eth</th>\n",
       "      <th>tokenid</th>\n",
       "      <th>start_time</th>\n",
       "      <th>end_time</th>\n",
       "      <th>name</th>\n",
       "    </tr>\n",
       "  </thead>\n",
       "  <tbody>\n",
       "    <tr>\n",
       "      <th>0</th>\n",
       "      <td>0x09079c53f0de1b0f74eebb122d7dde6f2b15597c2493...</td>\n",
       "      <td>0x09079c53f0de1b0f74eebb122d7dde6f2b15597c2493...</td>\n",
       "      <td>4.52</td>\n",
       "      <td>35,680,721,375,902,822,274,595,445,380,444,558,...</td>\n",
       "      <td>1706123455</td>\n",
       "      <td>1721844648</td>\n",
       "      <td>postoffice.box</td>\n",
       "    </tr>\n",
       "    <tr>\n",
       "      <th>1</th>\n",
       "      <td>0x62f70b03d872b0ad28daf741f24172dd3e0a07ae830d...</td>\n",
       "      <td>0x62f70b03d872b0ad28daf741f24172dd3e0a07ae830d...</td>\n",
       "      <td>1.50</td>\n",
       "      <td>14,048,860,107,254,168,745,279,621,511,972,539,...</td>\n",
       "      <td>1706123508</td>\n",
       "      <td>1721844704</td>\n",
       "      <td>outofthe.box</td>\n",
       "    </tr>\n",
       "    <tr>\n",
       "      <th>2</th>\n",
       "      <td>0x49e904f3f1968a867549eb12af481ed707206deaaab5...</td>\n",
       "      <td>0x49e904f3f1968a867549eb12af481ed707206deaaab5...</td>\n",
       "      <td>15.00</td>\n",
       "      <td>83,025,402,216,097,860,850,439,774,554,040,107,...</td>\n",
       "      <td>1706123545</td>\n",
       "      <td>1721844742</td>\n",
       "      <td>gym.box</td>\n",
       "    </tr>\n",
       "    <tr>\n",
       "      <th>3</th>\n",
       "      <td>0xcb2de7a4cd7972fb0799f115f5520d07eda3e9020256...</td>\n",
       "      <td>0xcb2de7a4cd7972fb0799f115f5520d07eda3e9020256...</td>\n",
       "      <td>32.00</td>\n",
       "      <td>102,970,000,717,591,218,890,627,833,037,729,437...</td>\n",
       "      <td>1706149250</td>\n",
       "      <td>1721870447</td>\n",
       "      <td>322.box</td>\n",
       "    </tr>\n",
       "    <tr>\n",
       "      <th>4</th>\n",
       "      <td>0x8ec799a93294ec3d13926e54aa712112d8f14f504d47...</td>\n",
       "      <td>0x8ec799a93294ec3d13926e54aa712112d8f14f504d47...</td>\n",
       "      <td>6.90</td>\n",
       "      <td>39,332,446,229,392,020,518,394,952,709,307,862,...</td>\n",
       "      <td>1706152363</td>\n",
       "      <td>1721877156</td>\n",
       "      <td>shipping.box</td>\n",
       "    </tr>\n",
       "    <tr>\n",
       "      <th>...</th>\n",
       "      <td>...</td>\n",
       "      <td>...</td>\n",
       "      <td>...</td>\n",
       "      <td>...</td>\n",
       "      <td>...</td>\n",
       "      <td>...</td>\n",
       "      <td>...</td>\n",
       "    </tr>\n",
       "    <tr>\n",
       "      <th>701</th>\n",
       "      <td>0xd4a95febea19ffca00b19a825556a944d8b7ef273fb5...</td>\n",
       "      <td>0xd4a95febea19ffca00b19a825556a944d8b7ef273fb5...</td>\n",
       "      <td>0.20</td>\n",
       "      <td>64,998,884,907,039,656,828,515,822,194,260,991,...</td>\n",
       "      <td>1721773132</td>\n",
       "      <td>1729549183</td>\n",
       "      <td>dora.box</td>\n",
       "    </tr>\n",
       "    <tr>\n",
       "      <th>703</th>\n",
       "      <td>0x6480c7bdac3b8af9281fb7c3a94895a6bb3eb32d324f...</td>\n",
       "      <td>0x6480c7bdac3b8af9281fb7c3a94895a6bb3eb32d324f...</td>\n",
       "      <td>0.00</td>\n",
       "      <td>95,855,460,963,708,006,128,783,812,765,384,990,...</td>\n",
       "      <td>1721775623</td>\n",
       "      <td>1724454023</td>\n",
       "      <td>62c9ec.chain.box</td>\n",
       "    </tr>\n",
       "    <tr>\n",
       "      <th>704</th>\n",
       "      <td>0x344a7fe34f85533f1a3f8f5396c0fdf5b5a1b1f1fb29...</td>\n",
       "      <td>0x344a7fe34f85533f1a3f8f5396c0fdf5b5a1b1f1fb29...</td>\n",
       "      <td>0.01</td>\n",
       "      <td>17,669,259,169,443,122,675,923,143,486,797,441,...</td>\n",
       "      <td>1721782533</td>\n",
       "      <td>1724460933</td>\n",
       "      <td>bluestate.chain.box</td>\n",
       "    </tr>\n",
       "    <tr>\n",
       "      <th>705</th>\n",
       "      <td>0xd718f31d8d15600f3bf14ee035e68f20260abdd83ea1...</td>\n",
       "      <td>0xd718f31d8d15600f3bf14ee035e68f20260abdd83ea1...</td>\n",
       "      <td>0.00</td>\n",
       "      <td>27,612,003,471,027,154,959,255,269,329,785,765,...</td>\n",
       "      <td>1721803484</td>\n",
       "      <td>1724481884</td>\n",
       "      <td>cryptobet.chain.box</td>\n",
       "    </tr>\n",
       "    <tr>\n",
       "      <th>711</th>\n",
       "      <td>0x6d8c3257c529682fcc023938f8cf96df71d13d2635a2...</td>\n",
       "      <td>0x6d8c3257c529682fcc023938f8cf96df71d13d2635a2...</td>\n",
       "      <td>1.50</td>\n",
       "      <td>1,876,173,186,042,273,156,334,023,765,119,453,6...</td>\n",
       "      <td>1721824756</td>\n",
       "      <td>1724503156</td>\n",
       "      <td>price.box</td>\n",
       "    </tr>\n",
       "  </tbody>\n",
       "</table>\n",
       "<p>495 rows × 7 columns</p>\n",
       "</div>"
      ],
      "text/plain": [
       "                                            order_hash  \\\n",
       "0    0x09079c53f0de1b0f74eebb122d7dde6f2b15597c2493...   \n",
       "1    0x62f70b03d872b0ad28daf741f24172dd3e0a07ae830d...   \n",
       "2    0x49e904f3f1968a867549eb12af481ed707206deaaab5...   \n",
       "3    0xcb2de7a4cd7972fb0799f115f5520d07eda3e9020256...   \n",
       "4    0x8ec799a93294ec3d13926e54aa712112d8f14f504d47...   \n",
       "..                                                 ...   \n",
       "701  0xd4a95febea19ffca00b19a825556a944d8b7ef273fb5...   \n",
       "703  0x6480c7bdac3b8af9281fb7c3a94895a6bb3eb32d324f...   \n",
       "704  0x344a7fe34f85533f1a3f8f5396c0fdf5b5a1b1f1fb29...   \n",
       "705  0xd718f31d8d15600f3bf14ee035e68f20260abdd83ea1...   \n",
       "711  0x6d8c3257c529682fcc023938f8cf96df71d13d2635a2...   \n",
       "\n",
       "                                            order_hash  price_in_eth  \\\n",
       "0    0x09079c53f0de1b0f74eebb122d7dde6f2b15597c2493...          4.52   \n",
       "1    0x62f70b03d872b0ad28daf741f24172dd3e0a07ae830d...          1.50   \n",
       "2    0x49e904f3f1968a867549eb12af481ed707206deaaab5...         15.00   \n",
       "3    0xcb2de7a4cd7972fb0799f115f5520d07eda3e9020256...         32.00   \n",
       "4    0x8ec799a93294ec3d13926e54aa712112d8f14f504d47...          6.90   \n",
       "..                                                 ...           ...   \n",
       "701  0xd4a95febea19ffca00b19a825556a944d8b7ef273fb5...          0.20   \n",
       "703  0x6480c7bdac3b8af9281fb7c3a94895a6bb3eb32d324f...          0.00   \n",
       "704  0x344a7fe34f85533f1a3f8f5396c0fdf5b5a1b1f1fb29...          0.01   \n",
       "705  0xd718f31d8d15600f3bf14ee035e68f20260abdd83ea1...          0.00   \n",
       "711  0x6d8c3257c529682fcc023938f8cf96df71d13d2635a2...          1.50   \n",
       "\n",
       "                                               tokenid  start_time  \\\n",
       "0   35,680,721,375,902,822,274,595,445,380,444,558,...  1706123455   \n",
       "1   14,048,860,107,254,168,745,279,621,511,972,539,...  1706123508   \n",
       "2   83,025,402,216,097,860,850,439,774,554,040,107,...  1706123545   \n",
       "3   102,970,000,717,591,218,890,627,833,037,729,437...  1706149250   \n",
       "4   39,332,446,229,392,020,518,394,952,709,307,862,...  1706152363   \n",
       "..                                                 ...         ...   \n",
       "701 64,998,884,907,039,656,828,515,822,194,260,991,...  1721773132   \n",
       "703 95,855,460,963,708,006,128,783,812,765,384,990,...  1721775623   \n",
       "704 17,669,259,169,443,122,675,923,143,486,797,441,...  1721782533   \n",
       "705 27,612,003,471,027,154,959,255,269,329,785,765,...  1721803484   \n",
       "711 1,876,173,186,042,273,156,334,023,765,119,453,6...  1721824756   \n",
       "\n",
       "       end_time                 name  \n",
       "0    1721844648       postoffice.box  \n",
       "1    1721844704         outofthe.box  \n",
       "2    1721844742              gym.box  \n",
       "3    1721870447              322.box  \n",
       "4    1721877156         shipping.box  \n",
       "..          ...                  ...  \n",
       "701  1729549183             dora.box  \n",
       "703  1724454023     62c9ec.chain.box  \n",
       "704  1724460933  bluestate.chain.box  \n",
       "705  1724481884  cryptobet.chain.box  \n",
       "711  1724503156            price.box  \n",
       "\n",
       "[495 rows x 7 columns]"
      ]
     },
     "execution_count": 30,
     "metadata": {},
     "output_type": "execute_result"
    }
   ],
   "source": [
    "box_listings = listings_with_names[listings_with_names['name'].str.endswith('.box')]\n",
    "box_listings"
   ]
  },
  {
   "cell_type": "code",
   "execution_count": 31,
   "metadata": {},
   "outputs": [
    {
     "data": {
      "text/html": [
       "<div>\n",
       "<style scoped>\n",
       "    .dataframe tbody tr th:only-of-type {\n",
       "        vertical-align: middle;\n",
       "    }\n",
       "\n",
       "    .dataframe tbody tr th {\n",
       "        vertical-align: top;\n",
       "    }\n",
       "\n",
       "    .dataframe thead th {\n",
       "        text-align: right;\n",
       "    }\n",
       "</style>\n",
       "<table border=\"1\" class=\"dataframe\">\n",
       "  <thead>\n",
       "    <tr style=\"text-align: right;\">\n",
       "      <th></th>\n",
       "      <th>event_type</th>\n",
       "      <th>order_hash</th>\n",
       "      <th>order_type</th>\n",
       "      <th>chain</th>\n",
       "      <th>protocol_address</th>\n",
       "      <th>start_date</th>\n",
       "      <th>expiration_date</th>\n",
       "      <th>asset</th>\n",
       "      <th>quantity</th>\n",
       "      <th>maker</th>\n",
       "      <th>taker</th>\n",
       "      <th>payment</th>\n",
       "      <th>criteria</th>\n",
       "      <th>event_timestamp</th>\n",
       "      <th>is_private_listing</th>\n",
       "      <th>closing_date</th>\n",
       "      <th>nft</th>\n",
       "      <th>seller</th>\n",
       "      <th>buyer</th>\n",
       "      <th>transaction</th>\n",
       "    </tr>\n",
       "  </thead>\n",
       "  <tbody>\n",
       "  </tbody>\n",
       "</table>\n",
       "</div>"
      ],
      "text/plain": [
       "Empty DataFrame\n",
       "Columns: [event_type, order_hash, order_type, chain, protocol_address, start_date, expiration_date, asset, quantity, maker, taker, payment, criteria, event_timestamp, is_private_listing, closing_date, nft, seller, buyer, transaction]\n",
       "Index: []"
      ]
     },
     "execution_count": 31,
     "metadata": {},
     "output_type": "execute_result"
    }
   ],
   "source": [
    "events_df_copy = events_df.copy()\n",
    "events_df_copy"
   ]
  },
  {
   "cell_type": "code",
   "execution_count": 32,
   "metadata": {},
   "outputs": [
    {
     "data": {
      "text/html": [
       "<div>\n",
       "<style scoped>\n",
       "    .dataframe tbody tr th:only-of-type {\n",
       "        vertical-align: middle;\n",
       "    }\n",
       "\n",
       "    .dataframe tbody tr th {\n",
       "        vertical-align: top;\n",
       "    }\n",
       "\n",
       "    .dataframe thead th {\n",
       "        text-align: right;\n",
       "    }\n",
       "</style>\n",
       "<table border=\"1\" class=\"dataframe\">\n",
       "  <thead>\n",
       "    <tr style=\"text-align: right;\">\n",
       "      <th></th>\n",
       "      <th>event_type</th>\n",
       "      <th>order_hash</th>\n",
       "      <th>order_type</th>\n",
       "      <th>chain</th>\n",
       "      <th>protocol_address</th>\n",
       "      <th>start_date</th>\n",
       "      <th>expiration_date</th>\n",
       "      <th>asset</th>\n",
       "      <th>quantity</th>\n",
       "      <th>maker</th>\n",
       "      <th>taker</th>\n",
       "      <th>payment</th>\n",
       "      <th>criteria</th>\n",
       "      <th>event_timestamp</th>\n",
       "      <th>is_private_listing</th>\n",
       "      <th>closing_date</th>\n",
       "      <th>nft</th>\n",
       "      <th>seller</th>\n",
       "      <th>buyer</th>\n",
       "      <th>transaction</th>\n",
       "    </tr>\n",
       "  </thead>\n",
       "  <tbody>\n",
       "  </tbody>\n",
       "</table>\n",
       "</div>"
      ],
      "text/plain": [
       "Empty DataFrame\n",
       "Columns: [event_type, order_hash, order_type, chain, protocol_address, start_date, expiration_date, asset, quantity, maker, taker, payment, criteria, event_timestamp, is_private_listing, closing_date, nft, seller, buyer, transaction]\n",
       "Index: []"
      ]
     },
     "execution_count": 32,
     "metadata": {},
     "output_type": "execute_result"
    }
   ],
   "source": [
    "bids = events_df_copy[events_df_copy['event_type'] == 'order']\n",
    "sales = events_df_copy[events_df_copy['event_type'] == 'sale']\n",
    "\n",
    "bids"
   ]
  },
  {
   "cell_type": "code",
   "execution_count": 33,
   "metadata": {},
   "outputs": [],
   "source": [
    "bids['identifier'] = bids['asset'].apply(lambda x: x.get('identifier') if isinstance(x, dict) else None)\n",
    "sales['identifier'] = sales['nft'].apply(lambda x: x.get('identifier') if isinstance(x, dict) else None)"
   ]
  },
  {
   "cell_type": "code",
   "execution_count": 34,
   "metadata": {},
   "outputs": [],
   "source": [
    "bids['identifier'] = bids['identifier'].astype(float)\n",
    "bids.rename(columns={'identifier':'tokenid'}, inplace=True) \n"
   ]
  },
  {
   "cell_type": "code",
   "execution_count": 35,
   "metadata": {},
   "outputs": [],
   "source": [
    "bids = bids.merge(descriptions_df, how='left', on='tokenid')"
   ]
  },
  {
   "cell_type": "code",
   "execution_count": 36,
   "metadata": {},
   "outputs": [
    {
     "data": {
      "text/plain": [
       "Index(['event_type', 'order_hash', 'order_type', 'chain', 'protocol_address',\n",
       "       'start_date', 'expiration_date', 'asset', 'quantity', 'maker', 'taker',\n",
       "       'payment', 'criteria', 'event_timestamp', 'is_private_listing',\n",
       "       'closing_date', 'nft', 'seller', 'buyer', 'transaction', 'tokenid',\n",
       "       'name'],\n",
       "      dtype='object')"
      ]
     },
     "execution_count": 36,
     "metadata": {},
     "output_type": "execute_result"
    }
   ],
   "source": [
    "bids.columns"
   ]
  },
  {
   "cell_type": "code",
   "execution_count": 37,
   "metadata": {},
   "outputs": [],
   "source": [
    "bids.drop(columns=['protocol_address','chain','maker','criteria','is_private_listing','closing_date','nft','seller','buyer'], inplace=True)"
   ]
  },
  {
   "cell_type": "code",
   "execution_count": 38,
   "metadata": {},
   "outputs": [],
   "source": [
    "sales['identifier'] = sales['identifier'].astype(float)\n",
    "sales.rename(columns={'identifier':'tokenid'}, inplace=True)\n"
   ]
  },
  {
   "cell_type": "code",
   "execution_count": 39,
   "metadata": {},
   "outputs": [],
   "source": [
    "sales = sales.merge(descriptions_df, how='left', on='tokenid')\n",
    "sales.drop(columns=['order_type', 'chain','start_date','expiration_date','asset','maker','is_private_listing','protocol_address','criteria'], inplace=True)"
   ]
  },
  {
   "cell_type": "code",
   "execution_count": 40,
   "metadata": {},
   "outputs": [],
   "source": [
    "sales = sales.dropna()\n",
    "bids = bids.dropna()"
   ]
  },
  {
   "cell_type": "code",
   "execution_count": 41,
   "metadata": {},
   "outputs": [],
   "source": [
    "box_sales_os = sales[sales['name'].str.endswith('.box')]\n",
    "box_bids_os = bids[bids['name'].str.endswith('.box')] "
   ]
  },
  {
   "cell_type": "code",
   "execution_count": 42,
   "metadata": {},
   "outputs": [],
   "source": [
    "box_bids_os.columns = [f'bid_{col}' if col != 'name' else col for col in box_bids_os.columns]"
   ]
  },
  {
   "cell_type": "code",
   "execution_count": 43,
   "metadata": {},
   "outputs": [],
   "source": [
    "box_sales_os.columns = [f'sale_{col}' if col != 'name' else col for col in box_sales_os.columns]"
   ]
  },
  {
   "cell_type": "code",
   "execution_count": 44,
   "metadata": {},
   "outputs": [],
   "source": [
    "box_listings_and_sales = pd.merge(box_bids_os, box_sales_os, how='inner', on='name')\n",
    "box_listings_and_sales['bid_event_timestamp'] = pd.to_datetime(box_listings_and_sales['bid_event_timestamp'], unit='s')\n",
    "box_listings_and_sales['sale_event_timestamp'] = pd.to_datetime(box_listings_and_sales['sale_event_timestamp'], unit='s')\n"
   ]
  },
  {
   "cell_type": "code",
   "execution_count": 45,
   "metadata": {},
   "outputs": [],
   "source": [
    "filtered_box_listings_and_sales = box_listings_and_sales[box_listings_and_sales['sale_event_timestamp'] > box_listings_and_sales['bid_event_timestamp']]\n",
    "filtered_box_listings_and_sales['time_diff'] = filtered_box_listings_and_sales['sale_event_timestamp'] - filtered_box_listings_and_sales['bid_event_timestamp']\n"
   ]
  },
  {
   "cell_type": "code",
   "execution_count": 46,
   "metadata": {},
   "outputs": [
    {
     "name": "stdout",
     "output_type": "stream",
     "text": [
      "NaT\n"
     ]
    }
   ],
   "source": [
    "avg_time_to_sell = filtered_box_listings_and_sales['time_diff'].mean()\n",
    "print(avg_time_to_sell)"
   ]
  },
  {
   "cell_type": "code",
   "execution_count": 47,
   "metadata": {},
   "outputs": [],
   "source": [
    "closest_listings = filtered_box_listings_and_sales.loc[filtered_box_listings_and_sales.groupby(['name', 'sale_event_timestamp'])['time_diff'].idxmin()]\n"
   ]
  },
  {
   "cell_type": "code",
   "execution_count": 48,
   "metadata": {},
   "outputs": [],
   "source": [
    "closest_listings['sale_quantity'] = closest_listings['sale_payment'].apply(lambda x: int(x['quantity']) / 10**18)\n",
    "closest_listings['listing_quantity'] = closest_listings['bid_payment'].apply(lambda x: int(x['quantity']) / 10**18)\n"
   ]
  },
  {
   "cell_type": "code",
   "execution_count": 49,
   "metadata": {},
   "outputs": [
    {
     "data": {
      "text/html": [
       "<div>\n",
       "<style scoped>\n",
       "    .dataframe tbody tr th:only-of-type {\n",
       "        vertical-align: middle;\n",
       "    }\n",
       "\n",
       "    .dataframe tbody tr th {\n",
       "        vertical-align: top;\n",
       "    }\n",
       "\n",
       "    .dataframe thead th {\n",
       "        text-align: right;\n",
       "    }\n",
       "</style>\n",
       "<table border=\"1\" class=\"dataframe\">\n",
       "  <thead>\n",
       "    <tr style=\"text-align: right;\">\n",
       "      <th></th>\n",
       "      <th>bid_event_timestamp</th>\n",
       "      <th>listing_quantity</th>\n",
       "    </tr>\n",
       "  </thead>\n",
       "  <tbody>\n",
       "  </tbody>\n",
       "</table>\n",
       "</div>"
      ],
      "text/plain": [
       "Empty DataFrame\n",
       "Columns: [bid_event_timestamp, listing_quantity]\n",
       "Index: []"
      ]
     },
     "execution_count": 49,
     "metadata": {},
     "output_type": "execute_result"
    }
   ],
   "source": [
    "closest_listings[['bid_event_timestamp','listing_quantity']].head()"
   ]
  },
  {
   "cell_type": "code",
   "execution_count": 50,
   "metadata": {},
   "outputs": [],
   "source": [
    "closest_listings['bid_event_timestamp'] = closest_listings['bid_event_timestamp'].dt.strftime('%Y-%m-%d %H:00:00')\n"
   ]
  },
  {
   "cell_type": "code",
   "execution_count": 51,
   "metadata": {},
   "outputs": [],
   "source": [
    "closest_listings['sale_event_timestamp'] = closest_listings['sale_event_timestamp'].dt.strftime('%Y-%m-%d %H:00:00')"
   ]
  },
  {
   "cell_type": "code",
   "execution_count": 52,
   "metadata": {},
   "outputs": [],
   "source": [
    "mint_df['tokenid'] = mint_df['tokenid'].astype(float)"
   ]
  },
  {
   "cell_type": "code",
   "execution_count": 53,
   "metadata": {},
   "outputs": [],
   "source": [
    "mints_with_names = pd.merge(mint_df, descriptions_df, how='left', on='tokenid')"
   ]
  },
  {
   "cell_type": "code",
   "execution_count": 54,
   "metadata": {},
   "outputs": [
    {
     "name": "stdout",
     "output_type": "stream",
     "text": [
      "['0x1266eabefa662405ab7e49a7bd287166c14b2196fbb78f56f874958870360b14', '0x1266eabefa662405ab7e49a7bd287166c14b2196fbb78f56f874958870360b14', '0x1449fea5e9f2622ee0b40a7a0d0a29564d9776c1c538235a4391b48bd6132dc9', '0x1449fea5e9f2622ee0b40a7a0d0a29564d9776c1c538235a4391b48bd6132dc9', '0xa762019f8d0605b2984d00cb761ebc53473aa0fb4ac74be96d475114e271fe4b', '0xa762019f8d0605b2984d00cb761ebc53473aa0fb4ac74be96d475114e271fe4b', '0x35f2cc917705624386da17d1a0dbbd7b4910a32fa7a88c09b385c0eebd66fade', '0x35f2cc917705624386da17d1a0dbbd7b4910a32fa7a88c09b385c0eebd66fade', '0xd4d022a6122e324c9628ccbf03a0012bc2e12c89e10547b35efb40fca2b0770a', '0xd4d022a6122e324c9628ccbf03a0012bc2e12c89e10547b35efb40fca2b0770a', '0xeddc38a40bf8fac75a96f7f308113ff4c408d26603e37dcc7976b9f858a0ef65', '0xeddc38a40bf8fac75a96f7f308113ff4c408d26603e37dcc7976b9f858a0ef65', '0xb28954ccb3340024b920ba826983186fc918269a5b3172b9241a5f1f5a872d43', '0xb28954ccb3340024b920ba826983186fc918269a5b3172b9241a5f1f5a872d43', '0xbfce31324ba9767e422f2ef8ae9d75ba07eba1bcd7e94413c842081f83bd8df7', '0xbfce31324ba9767e422f2ef8ae9d75ba07eba1bcd7e94413c842081f83bd8df7', '0xc70ed1fafb289bf68e9bd22b304de344c14d7c9ce238eb9e254a1cc7e3f3842f', '0xc70ed1fafb289bf68e9bd22b304de344c14d7c9ce238eb9e254a1cc7e3f3842f', '0xd2c1b0c6a467e39361c3fd56cfff5f940d740e5ae28bc9352e46e2b5f20736fd', '0xd2c1b0c6a467e39361c3fd56cfff5f940d740e5ae28bc9352e46e2b5f20736fd', '0x69b2f33412cdbca1c5a08d3b708f4f00df5d956805d3c61d4a4f63fdcafd1ec0', '0x69b2f33412cdbca1c5a08d3b708f4f00df5d956805d3c61d4a4f63fdcafd1ec0', '0xf9a20d06fc217a477d0143f5ecdd7b691d34398bf4d6745c55c4bcc1e0ec3859', '0xf9a20d06fc217a477d0143f5ecdd7b691d34398bf4d6745c55c4bcc1e0ec3859', '0xb8f143dbb13cd198e4bcc82e0fb751a8ea274217de6c1a7ea04cc0bc662a9bc3', '0xb8f143dbb13cd198e4bcc82e0fb751a8ea274217de6c1a7ea04cc0bc662a9bc3', '0x8a345437bbe1d3706e4753527d875044cb45418b8f07974f8a8166ce57ee332e', '0x8a345437bbe1d3706e4753527d875044cb45418b8f07974f8a8166ce57ee332e', '0x97142bf21673f87c59f2b539b8c5993bfdb183227a7d7441f7bc6242d6013142', '0x97142bf21673f87c59f2b539b8c5993bfdb183227a7d7441f7bc6242d6013142', '0x61cd68796246b90fcebd8055b6f41a6d85428ec70da7176004768bd7b06e51f6', '0x61cd68796246b90fcebd8055b6f41a6d85428ec70da7176004768bd7b06e51f6', '0x046eb192c346626464595f02a41fa8fa8e1bec6f24a479540e25a83941509716', '0x046eb192c346626464595f02a41fa8fa8e1bec6f24a479540e25a83941509716', '0xea7251b0b7789a6bce480cebaea5f479ef986156d13445aa7d1bb79a1588f899', '0xea7251b0b7789a6bce480cebaea5f479ef986156d13445aa7d1bb79a1588f899', '0xda559a29c0427b0b5ce15a2456542523c47318bcf565ab4bc6872e85d1023674', '0xda559a29c0427b0b5ce15a2456542523c47318bcf565ab4bc6872e85d1023674', '0xf1a8705422684a1cabd0522595b24f3f5e9eeba952ab27f005458be6e4c38199', '0xf1a8705422684a1cabd0522595b24f3f5e9eeba952ab27f005458be6e4c38199', '0xaa8faf53b73febd1876b2a717547dc44b0981f210bb4f144380d484bfc7ca1a1', '0xaa8faf53b73febd1876b2a717547dc44b0981f210bb4f144380d484bfc7ca1a1', '0x13f9f32b3a0332d79226bc60ab639baeab9ef1cdfd9dc12b07d1bca80b3d3e1a', '0x13f9f32b3a0332d79226bc60ab639baeab9ef1cdfd9dc12b07d1bca80b3d3e1a', '0xc58fcbf4029ad365dff5cad1ff5509b1db9fa773b17dd86dd4775e5f22b9dad2', '0xddb263cb748c7834922d2c82459c7880f6fd5760f7c44cc9597fe725bb465fb3', '0xddb263cb748c7834922d2c82459c7880f6fd5760f7c44cc9597fe725bb465fb3', '0xc58fcbf4029ad365dff5cad1ff5509b1db9fa773b17dd86dd4775e5f22b9dad2', '0x5fab3cc8556bf0bdb9915b58718d38994bafb65538ca328c591f5fba4c366afc', '0x5fab3cc8556bf0bdb9915b58718d38994bafb65538ca328c591f5fba4c366afc', '0x5951c38f355f706253d111178471fc8965d39cda5c9bff5a808c4f0fa43871b7', '0x5951c38f355f706253d111178471fc8965d39cda5c9bff5a808c4f0fa43871b7', '0xfdd496b68bae5c4c6500f5a5bd26c8da23314436c7caaf6725d5f4b6881bfd76', '0xfdd496b68bae5c4c6500f5a5bd26c8da23314436c7caaf6725d5f4b6881bfd76', '0x2641b5c83f7aa3c82b9ced61cba6b87e0e9363f52b01ab7c9d747b2874712231', '0x2641b5c83f7aa3c82b9ced61cba6b87e0e9363f52b01ab7c9d747b2874712231', '0x0282929e5d653d230dea5a9a91f42d9f90581d36973ea352a6e35342866cc493', '0x0282929e5d653d230dea5a9a91f42d9f90581d36973ea352a6e35342866cc493', '0xc059f6a9eef00d3f6ab1752469db47c635f05a4dc9763549aece5697e2cf28d8', '0xc059f6a9eef00d3f6ab1752469db47c635f05a4dc9763549aece5697e2cf28d8', '0x071190ac7c882b5288b3c882f61da33b79e81584ad9c9fbbee729a2e9a72c29e', '0x071190ac7c882b5288b3c882f61da33b79e81584ad9c9fbbee729a2e9a72c29e', '0x6ed10d36ad0196924a3520dc67cb4ae8a988cc97dc009b0c18f7e712a553a792', '0x6ed10d36ad0196924a3520dc67cb4ae8a988cc97dc009b0c18f7e712a553a792', '0x76895fb71f0e99026688f33ab324035bd39393a6e3936ef453a2eaf3c44f72ae', '0x76895fb71f0e99026688f33ab324035bd39393a6e3936ef453a2eaf3c44f72ae', '0x248ca8efb2780cf24e37b49cab2d928a80997d135977c75d7a2be3bdd2aabadb', '0x248ca8efb2780cf24e37b49cab2d928a80997d135977c75d7a2be3bdd2aabadb', '0xd99c52515226ad06e021713e0ee1532e9c4a3cfc2fb63397e6b39b07074edec1', '0xd99c52515226ad06e021713e0ee1532e9c4a3cfc2fb63397e6b39b07074edec1', '0xac3bfc7b4c3812bf68721a2937108fd75ac13feb73f2d9816df34bdac87ceb6b', '0xac3bfc7b4c3812bf68721a2937108fd75ac13feb73f2d9816df34bdac87ceb6b', '0xa37e35bde18b9a317d74dd8bb99bf564acda184421edee3a22d06725d7dcba22', '0xa37e35bde18b9a317d74dd8bb99bf564acda184421edee3a22d06725d7dcba22', '0x8141e64690234c387d99221256d361ca3f0fe184090809685af6f8acf1056b28', '0x8141e64690234c387d99221256d361ca3f0fe184090809685af6f8acf1056b28', '0xcd940a1ef8f04924e437b8f00c1d4ebea3aa4a8888c0c11d6aa40ae87fd716d0', '0xcd940a1ef8f04924e437b8f00c1d4ebea3aa4a8888c0c11d6aa40ae87fd716d0', '0x0df9f1a4e74df96770cb44463ac44aa0b45a01b94b412eeec5f971a97a3eea83', '0x0df9f1a4e74df96770cb44463ac44aa0b45a01b94b412eeec5f971a97a3eea83', '0xba0054722a48f1f7694a926f70c0f6685f30f56e2f5e4389e1fe77821f4b2ccc', '0xba0054722a48f1f7694a926f70c0f6685f30f56e2f5e4389e1fe77821f4b2ccc', '0xaa705d47de70eea6964ad84962225bb91100c884da6ffbfedbcf434636a3df18', '0xaa705d47de70eea6964ad84962225bb91100c884da6ffbfedbcf434636a3df18', '0x9d7590ba9cee43f373447ab4b064deabe29c44fa6decc785dcd9484df566dba2', '0x9d7590ba9cee43f373447ab4b064deabe29c44fa6decc785dcd9484df566dba2', '0xbd12615a2eac23bb88654b23b4d0c0ea891af20e8fbfc99889c4f727c2f9659e', '0xbd12615a2eac23bb88654b23b4d0c0ea891af20e8fbfc99889c4f727c2f9659e', '0x06ca5bef0f633974db5882ec439bcea1c6316858033d2b5fba6a7e8d9a215262', '0x06ca5bef0f633974db5882ec439bcea1c6316858033d2b5fba6a7e8d9a215262', '0x2f107ddb5d86901dc2fe50f7c56365a0afef0dae2f0191899d92677f214782ef', '0x2f107ddb5d86901dc2fe50f7c56365a0afef0dae2f0191899d92677f214782ef', '0xe94641f94a91533506a96dab2bb3226a8542e5931cf65cdb1cf0cdfdf85a158c', '0xe94641f94a91533506a96dab2bb3226a8542e5931cf65cdb1cf0cdfdf85a158c', '0x0b91739e2057506b4ec6d9ae700cd2731faa04f6ca4a36b457e2573638d80503', '0x0b91739e2057506b4ec6d9ae700cd2731faa04f6ca4a36b457e2573638d80503', '0x8ab4e31de445e05a48e1d9d4d4403bfa0c1d8b612ce87ac599bec557a3821373', '0x8ab4e31de445e05a48e1d9d4d4403bfa0c1d8b612ce87ac599bec557a3821373', '0x019d5236c6422c3a30c91f19acd26095bcc35c3199f21cca06c9db2ba6140344', '0x019d5236c6422c3a30c91f19acd26095bcc35c3199f21cca06c9db2ba6140344', '0x852ea9172c9d6f87c124b58f3b4853f7bd663a95689b1c8b41de287ae399dd63', '0x852ea9172c9d6f87c124b58f3b4853f7bd663a95689b1c8b41de287ae399dd63', '0x5f94122659641b679f35b95ac4dd760f37af500fc3cfefefafbda651d431e972', '0x5f94122659641b679f35b95ac4dd760f37af500fc3cfefefafbda651d431e972', '0xa997041423503a0badaed8ef031615d249f2358a967fe8aebb5dac08670b72fd', '0xa997041423503a0badaed8ef031615d249f2358a967fe8aebb5dac08670b72fd', '0xe349b7d5ae222e871574d7a5da843936963a331371f506d7d7ad6a4f610491a3', '0xe349b7d5ae222e871574d7a5da843936963a331371f506d7d7ad6a4f610491a3', '0x0e36fe02a4b24353143a492e61b2674c2e6c4c018c5906ea62cdad12928684fa', '0x0e36fe02a4b24353143a492e61b2674c2e6c4c018c5906ea62cdad12928684fa', '0x9fa45c3def969602f97e37ca5fd3f25ef1508d9f8785f0303590c1d645e94c95', '0x9fa45c3def969602f97e37ca5fd3f25ef1508d9f8785f0303590c1d645e94c95', '0xeb9515c4412959144d6d3fdf992e0d6e88a6127bc5f05ed7d46f06e8733c355a', '0xeb9515c4412959144d6d3fdf992e0d6e88a6127bc5f05ed7d46f06e8733c355a', '0xd49a704401a256d84ad590b682346154044a7d98bf779ea36e030b385bef851a', '0xd49a704401a256d84ad590b682346154044a7d98bf779ea36e030b385bef851a', '0x1b42731326f2815007adfd8d3c4b848928a62bdaa3af70436bdb127f7f96f6b4', '0x1b42731326f2815007adfd8d3c4b848928a62bdaa3af70436bdb127f7f96f6b4', '0x53ec459cb1ce2ef959c9652a174483c4cfae50b8718b5d6f62dec71c62c95b70', '0x53ec459cb1ce2ef959c9652a174483c4cfae50b8718b5d6f62dec71c62c95b70', '0x119a8f14e31019c985acce1be2a2089efa78d77fe1df222b52c863ed37a89bfd', '0x119a8f14e31019c985acce1be2a2089efa78d77fe1df222b52c863ed37a89bfd', '0x0d66e62af5d08675eec74a187a0564f2fc5f340a5040d324b66705a8b78e5c79', '0x0d66e62af5d08675eec74a187a0564f2fc5f340a5040d324b66705a8b78e5c79', '0x43ad4fcb61bca563112452633055a02d267c74b64a2024964a4c8010dbd8bc6d', '0x43ad4fcb61bca563112452633055a02d267c74b64a2024964a4c8010dbd8bc6d', '0x592ff2ec1b6125b455f76aad073b6aacc4c561a4c5e4f448ba52cbc79efe9449', '0x592ff2ec1b6125b455f76aad073b6aacc4c561a4c5e4f448ba52cbc79efe9449', '0x18b524a1bc696b3e48b4150ea547b8e7a6502f609b7234a99183ebae9d14c89a', '0x18b524a1bc696b3e48b4150ea547b8e7a6502f609b7234a99183ebae9d14c89a', '0x7c6aaf0c0307497dabe8b2318bc47e5a008b69f29ede156946d8e90390eab707', '0x7c6aaf0c0307497dabe8b2318bc47e5a008b69f29ede156946d8e90390eab707', '0xc1c3a98873a0578e230eda093ad90f11d1949a4a17e83e0362c1065fd44705cc', '0xc1c3a98873a0578e230eda093ad90f11d1949a4a17e83e0362c1065fd44705cc', '0xe7f2a51bdb33c60f15dd66272d263c0e6ced8aec0549db77eff5451751fb3c88', '0xe7f2a51bdb33c60f15dd66272d263c0e6ced8aec0549db77eff5451751fb3c88', '0x021346d97b5a8e24ed82460c3c07f861e29354e611cbafdceb5aec6011230228', '0x021346d97b5a8e24ed82460c3c07f861e29354e611cbafdceb5aec6011230228', '0x9a761d5f8284e19e39a5a1924ee06fbbf3fdcb58124f6501043bbee7433746f5', '0x9a761d5f8284e19e39a5a1924ee06fbbf3fdcb58124f6501043bbee7433746f5', '0xa63e5ca4badff162367c5915114e459c1ef957b254bbff97e2752830bdee725f', '0xa63e5ca4badff162367c5915114e459c1ef957b254bbff97e2752830bdee725f', '0x9c212c8c02c64494c9741b2b471f95a0f222d4e9dce5f3b3e6f433ee7ac8d3ac', '0x9c212c8c02c64494c9741b2b471f95a0f222d4e9dce5f3b3e6f433ee7ac8d3ac', '0x9a44f1214a812b6a456ebf03780dc124aeafa647d096902d9647024e789a756b', '0x9a44f1214a812b6a456ebf03780dc124aeafa647d096902d9647024e789a756b', '0xe48b58de0284845e624d1ea2ddd13395762a0f3d1a05e684ae04dac54f1b1b78', '0xe48b58de0284845e624d1ea2ddd13395762a0f3d1a05e684ae04dac54f1b1b78', '0xb2913f933a13af893d95ee4fb850824a1189e4154cf56e62e009383a6c7274d9', '0xb2913f933a13af893d95ee4fb850824a1189e4154cf56e62e009383a6c7274d9', '0x12865b1db444d6ddd695cb2bbf8f18aa4fb43c1ecd6fdbd166b398435ee72426', '0x12865b1db444d6ddd695cb2bbf8f18aa4fb43c1ecd6fdbd166b398435ee72426', '0x8914249c11a2293232409720d75750ec64a36270453347a782a74516cb030be0', '0x8914249c11a2293232409720d75750ec64a36270453347a782a74516cb030be0', '0x784aa5e8d44c3483b63f4661ea05952bd1bf4f7d710d3a6fff26781c51ee4fa3', '0x784aa5e8d44c3483b63f4661ea05952bd1bf4f7d710d3a6fff26781c51ee4fa3', '0xad306761ae37271c954e2261f1372d10547eb3ab2c8e4c93590e08a368b2e813', '0xad306761ae37271c954e2261f1372d10547eb3ab2c8e4c93590e08a368b2e813', '0xbb17eafb890447088ee0751a53e0f0cc9e2f42d9b7c137043b9e4db6aef7ec8b', '0xbb17eafb890447088ee0751a53e0f0cc9e2f42d9b7c137043b9e4db6aef7ec8b', '0x9c3e4207a109cfe8370f20650b881c8bd35ae35c606e009afd65bef51af29598', '0x9c3e4207a109cfe8370f20650b881c8bd35ae35c606e009afd65bef51af29598', '0xdb29f57279c58df16073577488b8a6db8523de14e9aabfbe6bb60eea2b4c16f6', '0xdb29f57279c58df16073577488b8a6db8523de14e9aabfbe6bb60eea2b4c16f6', '0xe208727a2735049e1bb97b75db5354a822c01816bfdb8971b6452fb66324c7bb', '0xe208727a2735049e1bb97b75db5354a822c01816bfdb8971b6452fb66324c7bb', '0xca701dd7da3653d1a36cf61e47c56f49e2b6c89f582680485618b290c9532739', '0xca701dd7da3653d1a36cf61e47c56f49e2b6c89f582680485618b290c9532739', '0x6e6b76737629518a0a09be62b9d442adf25ccacfbc63ce8c5e016c31112c2f68', '0x6e6b76737629518a0a09be62b9d442adf25ccacfbc63ce8c5e016c31112c2f68', '0xafddd0ed8282f1683da0ce2cf857e19ce15730611c7a3333e67b61ac7016a886', '0xafddd0ed8282f1683da0ce2cf857e19ce15730611c7a3333e67b61ac7016a886', '0xbb82356c2a7b930c0764c6075803216a47349db723308dbe750610cc48464e05', '0xbb82356c2a7b930c0764c6075803216a47349db723308dbe750610cc48464e05', '0x218cb28ee4bd035cc7cddeb4276c6726829e6df0835fe1fe14aff8273d81cd97', '0x218cb28ee4bd035cc7cddeb4276c6726829e6df0835fe1fe14aff8273d81cd97', '0x218cb28ee4bd035cc7cddeb4276c6726829e6df0835fe1fe14aff8273d81cd97', '0x218cb28ee4bd035cc7cddeb4276c6726829e6df0835fe1fe14aff8273d81cd97', '0x45420a024ee1b90cd4b20cdc05b67d4eef795d110ce70da0e864e5d072682a95', '0x45420a024ee1b90cd4b20cdc05b67d4eef795d110ce70da0e864e5d072682a95', '0x4bb6e7c699e7e8a16835c748d45f73221a7b660faf4063ad4297ef64e6c8f848', '0x4bb6e7c699e7e8a16835c748d45f73221a7b660faf4063ad4297ef64e6c8f848', '0xbe707437adac59992e19e35ea37c6b338459d92130643d7fccc8d90fd7186251', '0xbe707437adac59992e19e35ea37c6b338459d92130643d7fccc8d90fd7186251', '0xe01a4050fc38e9632b96bfd1221f69ae53864448b16df3bed9c8e13cbad89d84', '0xe01a4050fc38e9632b96bfd1221f69ae53864448b16df3bed9c8e13cbad89d84', '0x0cbe88cabf758f7ccd55d020832665a263bafb75a78b221f55af03894cd64adb', '0x0cbe88cabf758f7ccd55d020832665a263bafb75a78b221f55af03894cd64adb', '0xc98b915e0782966a6c770549b6d426f0c67412ee59f83957f2cf141f8859eb25', '0xc98b915e0782966a6c770549b6d426f0c67412ee59f83957f2cf141f8859eb25', '0xab067e798c20c8058ffa2ec9b0fcf37ad6205aafda39d85ebb275a0b133e3c34', '0xab067e798c20c8058ffa2ec9b0fcf37ad6205aafda39d85ebb275a0b133e3c34', '0x5622cdbe8d86da7576e67e968b8ddc44c3582c4857e5c8fdb25f875deafe9ca1', '0x5622cdbe8d86da7576e67e968b8ddc44c3582c4857e5c8fdb25f875deafe9ca1', '0xaff1d934a9c1aad5fe18fa0a2ffd75152e491a89d59e25f736a2cddb05be058c', '0xaff1d934a9c1aad5fe18fa0a2ffd75152e491a89d59e25f736a2cddb05be058c', '0x61a7a41036f2b8eac6f7b2d817f33e1e451bbe8a05387e9e8c97d5c092ce9d8e', '0x61a7a41036f2b8eac6f7b2d817f33e1e451bbe8a05387e9e8c97d5c092ce9d8e', '0xf6b91e6d8192e94a05e1a477ae77751122e0cfb3ea21e690de6c349a5b923079', '0xf6b91e6d8192e94a05e1a477ae77751122e0cfb3ea21e690de6c349a5b923079', '0xb8760d3fcb3cd7ffd3448c79246a8171b8fc92a0a63c47b7c3d1de80406a5e79', '0xb8760d3fcb3cd7ffd3448c79246a8171b8fc92a0a63c47b7c3d1de80406a5e79', '0x4b591c6826557f072039ff81f24895d7d80f6c3e47337a4c3cc075e10a722d59', '0x4b591c6826557f072039ff81f24895d7d80f6c3e47337a4c3cc075e10a722d59', '0x94bde9f462f464eb4b5e7eda763dfa2063f6125dabf13e891b5c5557b92c964e', '0x94bde9f462f464eb4b5e7eda763dfa2063f6125dabf13e891b5c5557b92c964e', '0xb95cc5ea97d093c1537b0e0c13a43863dee09702cccc98c556c43bb17771fca8', '0xb95cc5ea97d093c1537b0e0c13a43863dee09702cccc98c556c43bb17771fca8', '0xb738365c6d72e44ce96d5238abd7ce454f625b6bb0421e09ac200886860d08ae', '0xb738365c6d72e44ce96d5238abd7ce454f625b6bb0421e09ac200886860d08ae', '0x79e38df1cebc46cf8cc3ed4a3970178c82b6ef150171711418cfd021c4846b0e', '0x79e38df1cebc46cf8cc3ed4a3970178c82b6ef150171711418cfd021c4846b0e', '0xe944b5bd8087a5dc7afcc8d2d68404ede860206a9fc56fb69c62e4d81b82e4dc', '0xe944b5bd8087a5dc7afcc8d2d68404ede860206a9fc56fb69c62e4d81b82e4dc', '0xe944b5bd8087a5dc7afcc8d2d68404ede860206a9fc56fb69c62e4d81b82e4dc', '0xe944b5bd8087a5dc7afcc8d2d68404ede860206a9fc56fb69c62e4d81b82e4dc', '0x09a45e175078ca504c14b903260003b62fddbcad400d7853c451410819f459c7', '0x09a45e175078ca504c14b903260003b62fddbcad400d7853c451410819f459c7', '0x09a45e175078ca504c14b903260003b62fddbcad400d7853c451410819f459c7', '0x09a45e175078ca504c14b903260003b62fddbcad400d7853c451410819f459c7', '0x2ffdc3bcd696911974cb26f15190002281af9bcd2d028f3b745a9026bf32135e', '0x2ffdc3bcd696911974cb26f15190002281af9bcd2d028f3b745a9026bf32135e', '0xdc25edaee4a798cb810bd99530344208f18ece1a7758c62663327fe9f4ab7b27', '0xdc25edaee4a798cb810bd99530344208f18ece1a7758c62663327fe9f4ab7b27', '0xa100564fb1eaf2b13327fe9b7754e217d6a2e7ea3014874dc2e37ea51783889e', '0xa100564fb1eaf2b13327fe9b7754e217d6a2e7ea3014874dc2e37ea51783889e', '0x6533a95e427fc82eb76498c2cf7c6980dcc9b04adf74c750af18ddbfe80ec19d', '0x6533a95e427fc82eb76498c2cf7c6980dcc9b04adf74c750af18ddbfe80ec19d', '0x593f36f9531f4a2eacf522f308c39b1268953bcb164ade5c1770bcd9bd11b042', '0x593f36f9531f4a2eacf522f308c39b1268953bcb164ade5c1770bcd9bd11b042', '0xd037675b6340f19be6a873b9136e07146a15682ac710be1bd1b2f777c59837fc', '0xd037675b6340f19be6a873b9136e07146a15682ac710be1bd1b2f777c59837fc', '0xf77062b6ade79f0a95d97d73df94ac79273053f820623168b51e10c4cc148d13', '0xf77062b6ade79f0a95d97d73df94ac79273053f820623168b51e10c4cc148d13', '0x509bd373642645b3314a9df7ca2b373c462bc89fa5bcb6b4215e0991030ebf01', '0x509bd373642645b3314a9df7ca2b373c462bc89fa5bcb6b4215e0991030ebf01', '0xda484d59f15c544024730717b1db6bb12276ced87e5e009b74cca0eab55032d4', '0xda484d59f15c544024730717b1db6bb12276ced87e5e009b74cca0eab55032d4', '0xb5330a2e5fbf403a36581fb89ff7eb226853342c52b6a79a9d3578cbb6c46bed', '0xb5330a2e5fbf403a36581fb89ff7eb226853342c52b6a79a9d3578cbb6c46bed', '0x58af0bade75dd81128796fb546023542066cf72e5c72030279719cf78ffed6fb', '0x58af0bade75dd81128796fb546023542066cf72e5c72030279719cf78ffed6fb', '0xe068df7daf9144b60282e05013e054cfba2c9fb25ec258b51436144fd55794c3', '0xe068df7daf9144b60282e05013e054cfba2c9fb25ec258b51436144fd55794c3', '0x5f69f309b9f600aabd184ac3c4caa5e72e55dce2c283f9fdfabd88c22fd0dd83', '0x5f69f309b9f600aabd184ac3c4caa5e72e55dce2c283f9fdfabd88c22fd0dd83', '0x997f374ed33facd60566301f8b109af51d2ba832b3d97cfa25c534f2a81f7424', '0x997f374ed33facd60566301f8b109af51d2ba832b3d97cfa25c534f2a81f7424', '0x4e385767fa4c1de6a9507a03dccebd7ee1b2f544e5399f818a06e8276465f6df', '0x4e385767fa4c1de6a9507a03dccebd7ee1b2f544e5399f818a06e8276465f6df', '0xa24b16e059c40047e30f055bb12dd818ca11fc89ed2d7d9d96726ffdf5539a32', '0xa24b16e059c40047e30f055bb12dd818ca11fc89ed2d7d9d96726ffdf5539a32', '0x018e185d26368757ff637a4ebf92bb989d54d2a5f85b393a43098eb5f06a30e8', '0x018e185d26368757ff637a4ebf92bb989d54d2a5f85b393a43098eb5f06a30e8', '0x22147b9c19508430507a07fcb672bd5726426a69c8aead4d9e41cde6e586e7e1', '0x22147b9c19508430507a07fcb672bd5726426a69c8aead4d9e41cde6e586e7e1', '0x78da6f6db456531ca37dc4ab078de1ef8805bc4fe364e5da92423075a9bf7bff', '0x78da6f6db456531ca37dc4ab078de1ef8805bc4fe364e5da92423075a9bf7bff', '0x845702ebe98ded4e82f919231916cdfa7c9b86d6698ac08096915eb8864d5b15', '0x845702ebe98ded4e82f919231916cdfa7c9b86d6698ac08096915eb8864d5b15', '0xe98cc066e6e8accc0d057f9a3a74c215773c030fa8eb0b304518686618923174', '0xe98cc066e6e8accc0d057f9a3a74c215773c030fa8eb0b304518686618923174', '0x85bcf7f4696439443156e6fe83c094e554b7009100b49ff067ddbc7f0c38d936', '0x85bcf7f4696439443156e6fe83c094e554b7009100b49ff067ddbc7f0c38d936', '0xec8adda30b46169434200fad9dec65bf03e50e9fcb24cfc0e2a4c261761f37b0', '0xec8adda30b46169434200fad9dec65bf03e50e9fcb24cfc0e2a4c261761f37b0', '0x779c1da05fef869f2eb27289ff1697482c7d5281dec45d39a48a875cbd759618', '0x779c1da05fef869f2eb27289ff1697482c7d5281dec45d39a48a875cbd759618', '0x1c3f84e7a776e525da2b902c0992854b46f35fc9f34ec8a3536169d6f07cdc27', '0x1c3f84e7a776e525da2b902c0992854b46f35fc9f34ec8a3536169d6f07cdc27', '0xc9b9a1b3090a7d8159b9dff425895f26b048e348a3267c4dae56d7231f6c5223', '0xc9b9a1b3090a7d8159b9dff425895f26b048e348a3267c4dae56d7231f6c5223', '0x80751b487f94939d1cd674ec8c6e846ba41336dedc004244371ad948a7458a76', '0x80751b487f94939d1cd674ec8c6e846ba41336dedc004244371ad948a7458a76', '0xd847727ab876817540a9e9c1f5cc602056469f16f8778160032a2cdfaf2d4b3a', '0xd847727ab876817540a9e9c1f5cc602056469f16f8778160032a2cdfaf2d4b3a', '0xec0a775d21255016a6eb0ef47e3fb9df4edcd446bc27dba5d554fb4cbdc7cf72', '0xec0a775d21255016a6eb0ef47e3fb9df4edcd446bc27dba5d554fb4cbdc7cf72', '0xbb4b9ee451b129cb5cc24dfb8b370a755a6ee5d261e95cf159cdc9f0dad8fd28', '0xbb4b9ee451b129cb5cc24dfb8b370a755a6ee5d261e95cf159cdc9f0dad8fd28', '0xdadbd35b132f9a47f020cf58096c068e6d915ed8de4e1fe75915169d5ab0d5cb', '0xdadbd35b132f9a47f020cf58096c068e6d915ed8de4e1fe75915169d5ab0d5cb', '0xe04f6bc072c0a7e804256444019f1972c7e5202f98c919792551a7cb48d00d87', '0xe04f6bc072c0a7e804256444019f1972c7e5202f98c919792551a7cb48d00d87', '0x850a72123f5518b50713fa25e523f6fdc46fc7e48f363883e845531a017df833', '0x850a72123f5518b50713fa25e523f6fdc46fc7e48f363883e845531a017df833', '0xa786b4cd463b59647640bc3ccec97a889c137b6d8f29665f7396317fd6dc99bd', '0xa786b4cd463b59647640bc3ccec97a889c137b6d8f29665f7396317fd6dc99bd', '0xe5678d0db1c33f5c4b159970b5dc075875e255529186fae29c33787ec63f222c', '0xe5678d0db1c33f5c4b159970b5dc075875e255529186fae29c33787ec63f222c', '0xb9b83ef650f436a13c09e7421a3f283bd430d9949e995d06cdfea047a8796125', '0xb9b83ef650f436a13c09e7421a3f283bd430d9949e995d06cdfea047a8796125', '0x9c1c36005e5cc74fdbdece1b3c55571b7b6c2760cc34c90f0343bc55a2166ddd', '0x9c1c36005e5cc74fdbdece1b3c55571b7b6c2760cc34c90f0343bc55a2166ddd', '0x1d26f5415e6231276cb31ca705e9bad7779f9bb232eb0e5a15c7987284dd3ce4', '0x1d26f5415e6231276cb31ca705e9bad7779f9bb232eb0e5a15c7987284dd3ce4', '0xe5cf71b83999bc66f401e6b837e79db2f9a6beaab3b5a922ef7f4cac9270c7d4', '0xe5cf71b83999bc66f401e6b837e79db2f9a6beaab3b5a922ef7f4cac9270c7d4', '0x48cac56a025636f46dc913b2d94768d030572086d16722ab16ab9ff2c5535c9b', '0x48cac56a025636f46dc913b2d94768d030572086d16722ab16ab9ff2c5535c9b', '0x355eed90712c4a189e8e4737aae2e9bce64d3787184bf288c192f3e60ac55445', '0x355eed90712c4a189e8e4737aae2e9bce64d3787184bf288c192f3e60ac55445', '0x3ce41998b7748bcc6991b5aa5493c0b9702e4b92996210915f6e0f1081ae7c21', '0x3ce41998b7748bcc6991b5aa5493c0b9702e4b92996210915f6e0f1081ae7c21', '0x1f7f74c1ee97109363f51aafbab76243eba7d07826ff0f0a8d4f510efab4a020', '0x1f7f74c1ee97109363f51aafbab76243eba7d07826ff0f0a8d4f510efab4a020', '0x525f7c006fa629455bd089dba28eb542b7025a98b102724f41d3ca2555f2b611', '0x525f7c006fa629455bd089dba28eb542b7025a98b102724f41d3ca2555f2b611', '0x7d066e4177eb02ca8a7f45782039182eb994f706ee2fd495382be7e5489353a8', '0x7d066e4177eb02ca8a7f45782039182eb994f706ee2fd495382be7e5489353a8', '0xe7b478370e6391e1bfc143ff3fafd8ccf4b76c1c4f2110dbe62987b3479205a7', '0xe7b478370e6391e1bfc143ff3fafd8ccf4b76c1c4f2110dbe62987b3479205a7', '0x221ac08e2521f8db72156e4ae89627fa17adf644f78f18ac318a5f95ae46d069', '0x221ac08e2521f8db72156e4ae89627fa17adf644f78f18ac318a5f95ae46d069', '0xd79c9802a4c4ae2a64e6ee9147fff4e0c38729bb9ba197a44f072ef8e8d7a032', '0xd79c9802a4c4ae2a64e6ee9147fff4e0c38729bb9ba197a44f072ef8e8d7a032', '0xdf178654c43406f3938d317e435b54e9f01bf114bd0c8d6ce399100ca4af3283', '0xdf178654c43406f3938d317e435b54e9f01bf114bd0c8d6ce399100ca4af3283', '0x799ccac3cda80dce769c99e1c39c9344c53c0766084e6dd5f530faa14ad19c57', '0x799ccac3cda80dce769c99e1c39c9344c53c0766084e6dd5f530faa14ad19c57', '0x8e93d96e208e33e30095fd0baa38829cd38de5f96d8326e2499a1b89fceea84d', '0x8e93d96e208e33e30095fd0baa38829cd38de5f96d8326e2499a1b89fceea84d', '0x9f10c22117b3f14cb2bbf56e959a7ba872a303a108e438ae6e41a3679884174e', '0x9f10c22117b3f14cb2bbf56e959a7ba872a303a108e438ae6e41a3679884174e', '0x54959baa0b2f769231edaf4b3ecd235b7224247fff14c17d65d9de3ef1b6ddee', '0x54959baa0b2f769231edaf4b3ecd235b7224247fff14c17d65d9de3ef1b6ddee', '0x1e223a6aeb050256b37ef04399cd415f9dbe2d30417f3aa2d152e34faa37f770', '0x1e223a6aeb050256b37ef04399cd415f9dbe2d30417f3aa2d152e34faa37f770', '0xdcb9214fd7b2455cd5a5f4db34abce6f6d6c84f846814c5107d5f7e35a583299', '0xdcb9214fd7b2455cd5a5f4db34abce6f6d6c84f846814c5107d5f7e35a583299', '0xe1b0db9d0a1fc05a59afe1e2da05c2fa6d0df4eacd5237648353639e917fa964', '0xe1b0db9d0a1fc05a59afe1e2da05c2fa6d0df4eacd5237648353639e917fa964', '0x9fd6595c07986f9f31d03507fd64268526f9c8444e493cffd4de7d9e0c50ddd4', '0x9fd6595c07986f9f31d03507fd64268526f9c8444e493cffd4de7d9e0c50ddd4', '0x7bc1f8b749fd91bb671c01bb4bced186a5640aaf0c7a3e26d85b81bd8dfcf4b2', '0x7bc1f8b749fd91bb671c01bb4bced186a5640aaf0c7a3e26d85b81bd8dfcf4b2', '0xd8d94d35674ff4804857ed1711ca51c8439f9d6a4d170b6054447c26f4bc8dff', '0xd8d94d35674ff4804857ed1711ca51c8439f9d6a4d170b6054447c26f4bc8dff', '0xd13049aafcc630b97adc35d5b07162590019bacf75bd5c8f490fa71bc4f2dbef', '0xd13049aafcc630b97adc35d5b07162590019bacf75bd5c8f490fa71bc4f2dbef', '0x6fc20bd102b5dfcf77128e0568cb7d57a95843400fdd0b677040025483653b95', '0x6fc20bd102b5dfcf77128e0568cb7d57a95843400fdd0b677040025483653b95', '0x0f22ea8ea47ef237f5b8f4857267f2661b71e6ef8d684d291e306fe0d633700f', '0x0f22ea8ea47ef237f5b8f4857267f2661b71e6ef8d684d291e306fe0d633700f', '0xc8f17b58cadccb996bc8587d3797b8fd972d4922c89c85dd0320d38c3a02087d', '0xc8f17b58cadccb996bc8587d3797b8fd972d4922c89c85dd0320d38c3a02087d', '0x5dbcc6185f885f30b6aeb90572239c6f85c057837ad66f2c3429e4fe98c881a9', '0x5dbcc6185f885f30b6aeb90572239c6f85c057837ad66f2c3429e4fe98c881a9', '0x38594dc070f2de584cd3ecb3b77c03571aa72ec880f5a88309c400cfec5cb4c8', '0x38594dc070f2de584cd3ecb3b77c03571aa72ec880f5a88309c400cfec5cb4c8', '0x21cf236f38717c90f05ab0a68ab6991b26e3632a93e43d105b54631c909d3a8a', '0x21cf236f38717c90f05ab0a68ab6991b26e3632a93e43d105b54631c909d3a8a', '0xbb28ad01a37a426f230b5fdd47166ec8141248518af84a909b9adb1113379fe2', '0xbb28ad01a37a426f230b5fdd47166ec8141248518af84a909b9adb1113379fe2', '0xb74c3ec9d6a310bedd8afdfe644d7ac52a9862faba284fae045286183d98ce6e', '0xb74c3ec9d6a310bedd8afdfe644d7ac52a9862faba284fae045286183d98ce6e', '0x2c9f09aec7b5574855272bd67a591d19c73c86a05ca8a2885f21e0b0f0ddde59', '0x2c9f09aec7b5574855272bd67a591d19c73c86a05ca8a2885f21e0b0f0ddde59', '0xb9590c1ff542fd0a80b36aa47376299370cd67bbb126f3adc389db332b7d1189', '0xb9590c1ff542fd0a80b36aa47376299370cd67bbb126f3adc389db332b7d1189', '0xc54a7280f5f051030cef4438766b5237da63b87abf4047682b94ff7eb3fdcac9', '0xc54a7280f5f051030cef4438766b5237da63b87abf4047682b94ff7eb3fdcac9', '0x27b4037bb0d9e29782ec01cd6161aa41e74b40c8b6b5d364eeb5ed3737372a6c', '0x27b4037bb0d9e29782ec01cd6161aa41e74b40c8b6b5d364eeb5ed3737372a6c', '0x8b31449b55d97c36e6cb93ca79415bca3cba84b8ffa6112909c522071a2c0dad', '0x8b31449b55d97c36e6cb93ca79415bca3cba84b8ffa6112909c522071a2c0dad', '0x83a2e9ea2ff8db5683a23ed3e63c05da029367f0c4e0dcb761677246d224187b', '0x83a2e9ea2ff8db5683a23ed3e63c05da029367f0c4e0dcb761677246d224187b', '0x66968ca6a7b9df3350d89b5bdb318a1e0504560df3ae9b176a8cc8d5ca9ae688', '0x66968ca6a7b9df3350d89b5bdb318a1e0504560df3ae9b176a8cc8d5ca9ae688', '0x6a822ac7e9cfffb4090e44d3c684206033d839cba8b7791dc0514c3fae6cb1e3', '0x6a822ac7e9cfffb4090e44d3c684206033d839cba8b7791dc0514c3fae6cb1e3', '0x0d5d3c2b6bb34370618a73bfcbc09056e888863a0df7d982f289d1beaed6a91a', '0x0d5d3c2b6bb34370618a73bfcbc09056e888863a0df7d982f289d1beaed6a91a', '0xccece7f5cde8f97d87a35900ddd219016b8b3835ac5a7c1a728319712b6d4b3e', '0xccece7f5cde8f97d87a35900ddd219016b8b3835ac5a7c1a728319712b6d4b3e', '0x8c9fb3c257b6bac8b7a5904bbdf8430da515b56166b57d7522e3e74dbea9ff42', '0x8c9fb3c257b6bac8b7a5904bbdf8430da515b56166b57d7522e3e74dbea9ff42', '0xfdf14c0ad8f1824ad683c3fb32534c66e59148d6297eac0f3ab1193cbe6e11f4', '0xfdf14c0ad8f1824ad683c3fb32534c66e59148d6297eac0f3ab1193cbe6e11f4', '0xdb95ec01f90456c438b46f5f5db407be3aef4c0a2612d159f8c3ef0aad340990', '0xdb95ec01f90456c438b46f5f5db407be3aef4c0a2612d159f8c3ef0aad340990', '0x6d4f2135fb8ec1b70512245c636782baa62f1149bc9c2e2389a015bf46aaa0b4', '0x6d4f2135fb8ec1b70512245c636782baa62f1149bc9c2e2389a015bf46aaa0b4', '0x10a2cbee54d396dab9a149415d6747f8775fbff3da8a1caf5e725579a160824b', '0x10a2cbee54d396dab9a149415d6747f8775fbff3da8a1caf5e725579a160824b', '0xab523c341b3cf01148e985884944ff0ded925dc3d720c644a959bf5213946cf3', '0xab523c341b3cf01148e985884944ff0ded925dc3d720c644a959bf5213946cf3', '0xffcc7cc9551e1a5ecd78ef302a3959c31a7bf0dcbfcffd219dda0471211f55cb', '0xffcc7cc9551e1a5ecd78ef302a3959c31a7bf0dcbfcffd219dda0471211f55cb', '0x3579fc64d27b2760e46425ce37d29c00764b188c5b7579c5485cb1e02fbb90b0', '0x3579fc64d27b2760e46425ce37d29c00764b188c5b7579c5485cb1e02fbb90b0', '0xfed0279c9bfd9ff71bccdc42a67e32b5f98efa973da2dcd56338ddd367760a06', '0xfed0279c9bfd9ff71bccdc42a67e32b5f98efa973da2dcd56338ddd367760a06', '0x67349d6bbafe78ea8b24656c4c267aa062e409ffcf488f3bcdcc9e515c2c193d', '0x67349d6bbafe78ea8b24656c4c267aa062e409ffcf488f3bcdcc9e515c2c193d', '0x593d870cc326a2b2b2a39e7d82b08ea285040a8fc394967752b446040dd65926', '0x593d870cc326a2b2b2a39e7d82b08ea285040a8fc394967752b446040dd65926', '0x62cc5375cd0e9bd478ef713306083ea854c7f26ec9e94b61236fdcd75deb1523', '0x62cc5375cd0e9bd478ef713306083ea854c7f26ec9e94b61236fdcd75deb1523', '0x552ce6b77b5746bde4b7cb7707f986405596d01326d900470b50a1888484f44b', '0x552ce6b77b5746bde4b7cb7707f986405596d01326d900470b50a1888484f44b', '0x75ceb9e077db735a16b11210e73063472406ff05dba476fcddc977691ac231d9', '0x75ceb9e077db735a16b11210e73063472406ff05dba476fcddc977691ac231d9', '0x574045a7ad582d771bcab70e70ea69783ef6a2b1716f83452fb5dceb8547a475', '0x574045a7ad582d771bcab70e70ea69783ef6a2b1716f83452fb5dceb8547a475', '0x75a78aaebb63f99f5530bdadaa1db29037687b55f474408ed8e4e015d84fc633', '0x75a78aaebb63f99f5530bdadaa1db29037687b55f474408ed8e4e015d84fc633', '0xdfe6f2fb2d78be17ae29128914d6c35b22e0590be99c6c2bf726c19563aedada', '0xdfe6f2fb2d78be17ae29128914d6c35b22e0590be99c6c2bf726c19563aedada', '0x2c9eefed4c1a7afd556376bac87eea1a8c6f4cd5f89a88bf7b2032bcc318fba6', '0x2c9eefed4c1a7afd556376bac87eea1a8c6f4cd5f89a88bf7b2032bcc318fba6', '0xc5a36f761f96b2b8b9337da08a5c7bedfbc86ff915036bd625cfc0c6a0de651e', '0xc5a36f761f96b2b8b9337da08a5c7bedfbc86ff915036bd625cfc0c6a0de651e', '0x5236f6388becba23b022957defb3a607300672dc7b202f6c3611fbb0a731c8c1', '0x5236f6388becba23b022957defb3a607300672dc7b202f6c3611fbb0a731c8c1', '0x155fcdb62f9fb36edb500a11137d77c30f4010782ea4e938714af73a23248e6d', '0x155fcdb62f9fb36edb500a11137d77c30f4010782ea4e938714af73a23248e6d', '0xc7fd0f7021da8f0ff1ba777fb695dfb9139b53a901408e955e7eda966d52d571', '0xeb619b124fedf85bdc1eca90c3e9f3b981993f118dce90c2690101543e567538', '0xc7fd0f7021da8f0ff1ba777fb695dfb9139b53a901408e955e7eda966d52d571', '0xeb619b124fedf85bdc1eca90c3e9f3b981993f118dce90c2690101543e567538', '0x0be566a2f37a30d6ae70a80519daddb3fa5d7d2f5b85fe3f5c549644a31da198', '0x0be566a2f37a30d6ae70a80519daddb3fa5d7d2f5b85fe3f5c549644a31da198', '0xec23491c381c365010fa7f9b48a78b9260b87cee32d4a1671c64da692f59052e', '0xec23491c381c365010fa7f9b48a78b9260b87cee32d4a1671c64da692f59052e', '0x9f181b7db58c3f2c92472623d25c424ec02cbf87b087c3c5953a700bf3704dbd', '0x9f181b7db58c3f2c92472623d25c424ec02cbf87b087c3c5953a700bf3704dbd', '0x0b107aaaa7e1d4da1bea057032bdd33dfc35faf9e8582057f19adece9cf37f26', '0x0b107aaaa7e1d4da1bea057032bdd33dfc35faf9e8582057f19adece9cf37f26', '0xfa93d8c3de8ab6bf511dec0ddff48d520771c575e4ab726f0a6e02604e900296', '0xfa93d8c3de8ab6bf511dec0ddff48d520771c575e4ab726f0a6e02604e900296', '0x821523d6d4c3a25eae43c2a360c1eff64cd40464c2d7d09b6cce0cdb2833f978', '0x821523d6d4c3a25eae43c2a360c1eff64cd40464c2d7d09b6cce0cdb2833f978', '0x431bc42b98d2a918ed7306069a3e6028fc7560668080a66d7c4388e509b13482', '0x431bc42b98d2a918ed7306069a3e6028fc7560668080a66d7c4388e509b13482', '0x498ab58288f9fc90d3e5a53bdf205238b9fa81760ea0b53618803cc1ba5c990c', '0x498ab58288f9fc90d3e5a53bdf205238b9fa81760ea0b53618803cc1ba5c990c', '0x4f67e7eaca4912006147226cdf69b2bccfb56dac14edfeb81a23052c1b9deed5', '0x4f67e7eaca4912006147226cdf69b2bccfb56dac14edfeb81a23052c1b9deed5', '0x8b78de9651ad958ef908ebba7187d802cdcdf7f756bc32087eaeec0ebcd03423', '0x8b78de9651ad958ef908ebba7187d802cdcdf7f756bc32087eaeec0ebcd03423', '0xdd3d384a1264951e6f8e49e7301b53ccff106d81499306705f1500af8c9ea317', '0xdd3d384a1264951e6f8e49e7301b53ccff106d81499306705f1500af8c9ea317', '0x42382790e5bcf291402bbba9ba53217c1d13c40a038b9d551d2d7c0b3c5d6019', '0x42382790e5bcf291402bbba9ba53217c1d13c40a038b9d551d2d7c0b3c5d6019', '0xecda6a8cbc0a0d00d86d2a7865a92fa2362106f29ad65b37d1153574e0c4e26c', '0xecda6a8cbc0a0d00d86d2a7865a92fa2362106f29ad65b37d1153574e0c4e26c', '0x9ff2680614043e077f6fcf4492165cd2c3ca8ac9a12deacaf9fe3e8a6bab236e', '0x9ff2680614043e077f6fcf4492165cd2c3ca8ac9a12deacaf9fe3e8a6bab236e', '0x60033c5f214295a66fd6bcd7c92980094e3a12b2b4100e497f97d0c04b52ade9', '0x60033c5f214295a66fd6bcd7c92980094e3a12b2b4100e497f97d0c04b52ade9', '0x2525a32afb938cc3a59aab998bd6aa5f5e248165baf90a5b966b3adf62326771', '0x2525a32afb938cc3a59aab998bd6aa5f5e248165baf90a5b966b3adf62326771', '0xeaac17118137311808557052081f0bfe307c5a750ec3a808096a4f50e72a5348', '0xeaac17118137311808557052081f0bfe307c5a750ec3a808096a4f50e72a5348', '0xaeb14acd150463459139a2a963f7fd0c5de9e2c5b630fb872e546a9e4caf14ee', '0xaeb14acd150463459139a2a963f7fd0c5de9e2c5b630fb872e546a9e4caf14ee', '0x25198abafb33d3304c82b1de8a8f0988fec4e4213c5e44c3407aec48d6eafd52', '0x64b3a5ad1eece04e90e0f110f09c63f792cd6c29f9e69cb4362b061587b15649', '0x64b3a5ad1eece04e90e0f110f09c63f792cd6c29f9e69cb4362b061587b15649', '0x25198abafb33d3304c82b1de8a8f0988fec4e4213c5e44c3407aec48d6eafd52', '0x4ec972a870a7655fe96141e411558c4d644573228d12e48c74f42f0e4d742a8e', '0x4ec972a870a7655fe96141e411558c4d644573228d12e48c74f42f0e4d742a8e', '0x66a8d659ae8c075b94e035f6b9ec563185346428a091a9065a52896bff1b5004', '0x66a8d659ae8c075b94e035f6b9ec563185346428a091a9065a52896bff1b5004', '0xc51b81f3f368e72addc2119168482f5e313017caea2286425f81a21af0ae5bb1', '0xc51b81f3f368e72addc2119168482f5e313017caea2286425f81a21af0ae5bb1', '0xcbb1b9604b3cfa8aaea78d755baa1a039c6700b539f958a58948a4526c2ec157', '0xcbb1b9604b3cfa8aaea78d755baa1a039c6700b539f958a58948a4526c2ec157', '0x2a54758dab7eef479bb2f56cc5b695983e7fa0cdd6d8ab4dd7fd28a5921c00b9', '0x2a54758dab7eef479bb2f56cc5b695983e7fa0cdd6d8ab4dd7fd28a5921c00b9', '0x9844c55510e7654b2557874ff0f1b8b7bf5531a2d4365a509fdf711f938d4ddf', '0x9844c55510e7654b2557874ff0f1b8b7bf5531a2d4365a509fdf711f938d4ddf', '0x4c94c8380698fc9a73238e7c1af9b051b7ae8c31a80f2fcb4a7f127bb996cd3f', '0x4c94c8380698fc9a73238e7c1af9b051b7ae8c31a80f2fcb4a7f127bb996cd3f', '0x2d5ac14df1c62315e938bca3e270f7cb92ca722d81b55c36f568641a13bbdd3b', '0x2d5ac14df1c62315e938bca3e270f7cb92ca722d81b55c36f568641a13bbdd3b', '0x6ac7a41b332377def5cc6c5576e1a61d4275940a0ae3f4497537c4b70917a8ad', '0x6ac7a41b332377def5cc6c5576e1a61d4275940a0ae3f4497537c4b70917a8ad', '0x36eb6fe3ee26ec33fb91ae4f8a097a9678eb8820c2b8b93df8f821db085935b4', '0x36eb6fe3ee26ec33fb91ae4f8a097a9678eb8820c2b8b93df8f821db085935b4', '0x8d6927a88247a91dfad388a6c7e5dd51a24bce15e2d2d28e06135bc18475d7e3', '0x8d6927a88247a91dfad388a6c7e5dd51a24bce15e2d2d28e06135bc18475d7e3', '0x2882beccee32fade36618214d5b3b2f9d6dc7e8ff9965d98ad5bfcd1e951f17b', '0x2882beccee32fade36618214d5b3b2f9d6dc7e8ff9965d98ad5bfcd1e951f17b', '0x7058abe102169379937a244b95d072bd0c5d10994089a5d4557506ba9b7fc6fb', '0x7058abe102169379937a244b95d072bd0c5d10994089a5d4557506ba9b7fc6fb', '0x2eb25d7d4a99aa0cab96f56e9f9d2dff1f37ec296a68bad8ffae74e3492a3ace', '0x2eb25d7d4a99aa0cab96f56e9f9d2dff1f37ec296a68bad8ffae74e3492a3ace', '0x112f1119cd6fc391c3cabb08f25fa97f0af9cccc1272fe6b7ee36047e2489ecb', '0x112f1119cd6fc391c3cabb08f25fa97f0af9cccc1272fe6b7ee36047e2489ecb', '0xb361411925f126cd0cfd5f6e7eb3e3df8731ba4f2f792b7660937195e5fd3913', '0xb361411925f126cd0cfd5f6e7eb3e3df8731ba4f2f792b7660937195e5fd3913', '0xd351ba48474f425512f00ae3ade45618766f55c70ea0fb1d4879ae8c70f1287c', '0xd351ba48474f425512f00ae3ade45618766f55c70ea0fb1d4879ae8c70f1287c', '0xb38de585748b47b67e53a2c33754a4dd69761025c8f9f5cd5e4eeba24c9e8e1e', '0xb38de585748b47b67e53a2c33754a4dd69761025c8f9f5cd5e4eeba24c9e8e1e', '0x78a8ed6d3e5a5d4e02b0d29e9da749dcc0162b922365d81227698e115ce2230f', '0x78a8ed6d3e5a5d4e02b0d29e9da749dcc0162b922365d81227698e115ce2230f', '0x9f665099c342d46979b884283fca92422db9cf8003ef1cc6b5959f69d845a370', '0x9f665099c342d46979b884283fca92422db9cf8003ef1cc6b5959f69d845a370', '0x8da415dac7472472aafbe39311b8fdf131ba526dc6eab1549a7ede7ba3e8514f', '0x8da415dac7472472aafbe39311b8fdf131ba526dc6eab1549a7ede7ba3e8514f', '0x46a4686246c40303841fb3b39bf5ad1633c2be82ad94d47c21cd08766b21dd69', '0x46a4686246c40303841fb3b39bf5ad1633c2be82ad94d47c21cd08766b21dd69', '0xf064a6a899fdbb3f1f15be14156a46009908884f25f25b217ff20a27531c6aad', '0xf064a6a899fdbb3f1f15be14156a46009908884f25f25b217ff20a27531c6aad', '0x140fd1f66c5f21b4f8dab8ebebe1269add82b335d617e118d01b745f372721d4', '0x140fd1f66c5f21b4f8dab8ebebe1269add82b335d617e118d01b745f372721d4', '0x4ce01e2fe19f97f35835b460a7db81b8c435d203d2849e7163b2abc2bbbf9b39', '0x4ce01e2fe19f97f35835b460a7db81b8c435d203d2849e7163b2abc2bbbf9b39', '0x386f2f752f6e8bbf9bc166ab446f50fd1f6a61ca53e1dee8f290836bf0391fd6', '0x386f2f752f6e8bbf9bc166ab446f50fd1f6a61ca53e1dee8f290836bf0391fd6', '0xf3ad0be0cd0ee802cf49fe44c407423ca4a727d2a235c8a1168a5fb335e1c864', '0xc364794a98b3e1d7e12aeb6e5e87bf3a7c350e26ee4165d86763be77a273b1ce', '0xc364794a98b3e1d7e12aeb6e5e87bf3a7c350e26ee4165d86763be77a273b1ce', '0xf3ad0be0cd0ee802cf49fe44c407423ca4a727d2a235c8a1168a5fb335e1c864', '0x6ca9048da4ba9e3476153f92e1f306895a16acc5177985315411329e0779f2b2', '0x6ca9048da4ba9e3476153f92e1f306895a16acc5177985315411329e0779f2b2', '0xb601df44889e24ce500842b725d6e57af6c9db89be12de82793a87a641bc728e', '0xb601df44889e24ce500842b725d6e57af6c9db89be12de82793a87a641bc728e', '0xcb30fdf71af0f7926ec5eb1adfd5ef5ad7e23d074910577b23936703cc8db3f4', '0xcb30fdf71af0f7926ec5eb1adfd5ef5ad7e23d074910577b23936703cc8db3f4', '0x35d9cf9762d06e2ddce7bf18b35b50bd547eee9b0d4f6f81a33aa1ff0de3ac5a', '0x35d9cf9762d06e2ddce7bf18b35b50bd547eee9b0d4f6f81a33aa1ff0de3ac5a', '0xb481e4a13aaff587944b9a7f08f42e2eb5666ee0607e362d9c04466ba9a55ce1', '0xb481e4a13aaff587944b9a7f08f42e2eb5666ee0607e362d9c04466ba9a55ce1', '0x97bdf9d22b6059fe3a82ba70fcc1bd481b9e57ec7aca2f1ed8c56e09d76e99d0', '0x97bdf9d22b6059fe3a82ba70fcc1bd481b9e57ec7aca2f1ed8c56e09d76e99d0', '0x332c78143428dfbf4b2456667a6ae92f0b98e5127496bda54455d29bacc73bda', '0x332c78143428dfbf4b2456667a6ae92f0b98e5127496bda54455d29bacc73bda', '0x6014334663cbefa469ee9cf31c74af2445e111c27b7fa51e66f51f4deebf3187', '0x6014334663cbefa469ee9cf31c74af2445e111c27b7fa51e66f51f4deebf3187', '0x697cc7f60d03c4452bd99039262b33cbb4abe129826547513fb4a8b0aaaf3db9', '0x697cc7f60d03c4452bd99039262b33cbb4abe129826547513fb4a8b0aaaf3db9', '0xeb7f27a542b7a34e2115bbaec9a72ad09a5454b6ebf66797e113ae39bc2ad430', '0xeb7f27a542b7a34e2115bbaec9a72ad09a5454b6ebf66797e113ae39bc2ad430', '0xd7aa625ad1fbff73c966cd9505a5a7d9998098d9cd98b2883759d48c6f8d8b8c', '0xd7aa625ad1fbff73c966cd9505a5a7d9998098d9cd98b2883759d48c6f8d8b8c', '0xb464ad15f3caec95b84a226ff58494195c0bd23f828b84b44a7494eaba4cc7dd', '0xb464ad15f3caec95b84a226ff58494195c0bd23f828b84b44a7494eaba4cc7dd', '0x9a639587c95fb1173684b954be30ce48934d11b25636e4dfa0b47002d78107f0', '0x9a639587c95fb1173684b954be30ce48934d11b25636e4dfa0b47002d78107f0', '0x6811cbea6977cbc459eff14baedeb28411a7ce0f0610e62c64b35fc63590d4b0', '0x6811cbea6977cbc459eff14baedeb28411a7ce0f0610e62c64b35fc63590d4b0', '0x0fd12974547c2cd5a712e3485ef658401fcb431bd2103767d32c9dfa85f89829', '0x0fd12974547c2cd5a712e3485ef658401fcb431bd2103767d32c9dfa85f89829', '0xa2e637de47eeecb5a3f2bd7c38f4cb70af5a644c009e412ca79caeb682195ca2', '0xa2e637de47eeecb5a3f2bd7c38f4cb70af5a644c009e412ca79caeb682195ca2', '0x062003e164b43c7251136bf48a241be2ac47497045426da4854d2ea0f91a2108', '0x062003e164b43c7251136bf48a241be2ac47497045426da4854d2ea0f91a2108', '0x701726ab714de7473c4ec21984f38d5d72e98bae13a3dcdb54ce7e9601d8d945', '0x701726ab714de7473c4ec21984f38d5d72e98bae13a3dcdb54ce7e9601d8d945', '0xb94f29a31859b36d4a078c173ca7c805ead08c97b57ba00658f8d31777e668d6', '0xb94f29a31859b36d4a078c173ca7c805ead08c97b57ba00658f8d31777e668d6', '0x94833a9fde2da597ea6170cc3c26404aa7f059c86fe4043bee3ae3c67ac1a29e', '0x94833a9fde2da597ea6170cc3c26404aa7f059c86fe4043bee3ae3c67ac1a29e', '0x33b3e877381f84bb22fc8c0c1ce3386015b4cef5c7d7095303e79b282150ff36', '0x33b3e877381f84bb22fc8c0c1ce3386015b4cef5c7d7095303e79b282150ff36', '0xb2c8529bccd0232495465c504074fe32fcdef1c3c896dcbdad806903f6d1d94f', '0xb2c8529bccd0232495465c504074fe32fcdef1c3c896dcbdad806903f6d1d94f', '0xe6a44dc242ae9b7615ab077cbbdf212857e13dbaafef8914e56e53cf87952ef0', '0xe6a44dc242ae9b7615ab077cbbdf212857e13dbaafef8914e56e53cf87952ef0', '0xf7cbec1fc9587632cb8711c98df38595318fa67541783b3fc3724604995a48f6', '0xf7cbec1fc9587632cb8711c98df38595318fa67541783b3fc3724604995a48f6', '0x53ce7505b10bb614ebc8f609d212a8020d3a221ea1c7ab8f4aa7ba6bf2f5b4d0', '0x53ce7505b10bb614ebc8f609d212a8020d3a221ea1c7ab8f4aa7ba6bf2f5b4d0', '0x8f346c2d4a9667b78bb38c4d56ba2665e35ee99657235ad7da05b7295fcf2fdc', '0x665c14d61272b5dda8f817fffa075fd5d53383ea8b28eacb911f8d967fcc6949', '0x665c14d61272b5dda8f817fffa075fd5d53383ea8b28eacb911f8d967fcc6949', '0x8f346c2d4a9667b78bb38c4d56ba2665e35ee99657235ad7da05b7295fcf2fdc', '0x5be6c7a5622edf73eeec37c42a411f97335cfa827656edc94fe70c091da4fd61', '0x5be6c7a5622edf73eeec37c42a411f97335cfa827656edc94fe70c091da4fd61', '0x6bcdbc0d96bd561aff33502cdeda0952478a4f0197749016a10df8405ef9f855', '0x6bcdbc0d96bd561aff33502cdeda0952478a4f0197749016a10df8405ef9f855', '0x19283db2da0465cbe725daf50fda0de5e8ecaae870ab1ccc2f040b43362e273f', '0x19283db2da0465cbe725daf50fda0de5e8ecaae870ab1ccc2f040b43362e273f', '0x29807d97679bf03c1de57a32b0e4b72ca48bd186a88aef3c5d9f81535af42dda', '0x29807d97679bf03c1de57a32b0e4b72ca48bd186a88aef3c5d9f81535af42dda', '0x20bbf37ba9b30886b19ff716091facca395c128be4b247dcf013a58c2c0daa59', '0x20bbf37ba9b30886b19ff716091facca395c128be4b247dcf013a58c2c0daa59', '0xf29587f7c97f1a3dffa3898c4c992a52a1a3be63b7c2e4a3e9e6f18f870717c3', '0xf29587f7c97f1a3dffa3898c4c992a52a1a3be63b7c2e4a3e9e6f18f870717c3', '0xcdf38b48c2e95050766d3ec052a7dc0e1effebd917909bd9a41a1aa7c62e4a1e', '0xcdf38b48c2e95050766d3ec052a7dc0e1effebd917909bd9a41a1aa7c62e4a1e', '0xe534d37827790e53ae7e5d893ca439b857e0cc72639af81293c3b890c8b85e22', '0xe534d37827790e53ae7e5d893ca439b857e0cc72639af81293c3b890c8b85e22', '0xf3fe1d2f5198770aa0cca945337afddf648ac4ead75d4d3699e7ae7dfb863c28', '0xf3fe1d2f5198770aa0cca945337afddf648ac4ead75d4d3699e7ae7dfb863c28', '0x025b4575bb84416486e6b1e5544fdecc1777afce8bd9c059017c92a2010d8d6d', '0xe20feaa8cffc9e9d16a77013b985f981b2393f6132d3ad6e0cd27e29e1a90b5b', '0x025b4575bb84416486e6b1e5544fdecc1777afce8bd9c059017c92a2010d8d6d', '0xe20feaa8cffc9e9d16a77013b985f981b2393f6132d3ad6e0cd27e29e1a90b5b', '0xfc0e3a0da8bde1a27114956ab58a5701d3ecbe37145e72de1be41018e12b333f', '0xfc0e3a0da8bde1a27114956ab58a5701d3ecbe37145e72de1be41018e12b333f', '0x5474f50ab41df1016e82eaa4b5c055dfc4869e8ce34afe9a948a866b121495d4', '0x5474f50ab41df1016e82eaa4b5c055dfc4869e8ce34afe9a948a866b121495d4', '0xa58f96a0e1c303590209b2c39bf282d7c35133275691a8084352b2af2da883b5', '0xa58f96a0e1c303590209b2c39bf282d7c35133275691a8084352b2af2da883b5', '0x098e6501e963f202091ca95b68f16d995e33a1fa8da6d1ce0747cbd9e7cfae4b', '0x098e6501e963f202091ca95b68f16d995e33a1fa8da6d1ce0747cbd9e7cfae4b', '0x60272d7394b8b90b7c231084cad6ab50fda7e1e45cbdac69ef4d30f689b2e910', '0x60272d7394b8b90b7c231084cad6ab50fda7e1e45cbdac69ef4d30f689b2e910', '0x8768b73d9d446ad62e116542f39f456d2cec3d2b7175fd747ead1e93b018d345', '0x8768b73d9d446ad62e116542f39f456d2cec3d2b7175fd747ead1e93b018d345', '0xb2697b298b7a987ad0ae0ef02360362d98c73258c5c96d9495824e59d52ef815', '0xb2697b298b7a987ad0ae0ef02360362d98c73258c5c96d9495824e59d52ef815', '0x270bb4bdfb1cb7266c45b573248a6d1a2e3310df389efd316aadcdd20f73d52e', '0x2d622f820b409e17e1efc179bcc0a94531291c86b54edb044acc3ec773ea0b0c', '0x2d622f820b409e17e1efc179bcc0a94531291c86b54edb044acc3ec773ea0b0c', '0x270bb4bdfb1cb7266c45b573248a6d1a2e3310df389efd316aadcdd20f73d52e', '0xf365e3cb16ec10689153ead3a2cb256a4be810e133feb4cdefa93433694d83c4', '0xf365e3cb16ec10689153ead3a2cb256a4be810e133feb4cdefa93433694d83c4', '0xe568b21dd889a2e446a50a7aef033880b6e2ccfc556dae8f81ca534d04e08193', '0xe568b21dd889a2e446a50a7aef033880b6e2ccfc556dae8f81ca534d04e08193', '0x1e60fa982baaaa6cf604279d53a7d866f10cee4e1ce9e25514335c83bc1c6376', '0x1e60fa982baaaa6cf604279d53a7d866f10cee4e1ce9e25514335c83bc1c6376', '0x9f84047cd4043fd188d43a1d0fa8dd22eb8645fe8f4e19a402803e42e45b9251', '0x9f84047cd4043fd188d43a1d0fa8dd22eb8645fe8f4e19a402803e42e45b9251', '0x3a1b268fda75774f1f48ae752fbc5eac50adb1b8ce2268036fe359b100ae86db', '0x3a1b268fda75774f1f48ae752fbc5eac50adb1b8ce2268036fe359b100ae86db', '0x954f8d8d8dc1ca18f731f765bb7bbe33d58d2239d0b623322b08d97dfee34127', '0x954f8d8d8dc1ca18f731f765bb7bbe33d58d2239d0b623322b08d97dfee34127', '0x904c1efad3b3ccdc818306dc200979c11f66806ff902032704e9bccd23c90274', '0x904c1efad3b3ccdc818306dc200979c11f66806ff902032704e9bccd23c90274', '0x8d55e0eb3c9d071ea60bf5af836257f8dfe48b77673c9fbf684e492cf90f315f', '0x8d55e0eb3c9d071ea60bf5af836257f8dfe48b77673c9fbf684e492cf90f315f', '0xd2dfb4018cc5a071c96e1fa4128e074b1bcfedfbf8fe562a739c69a69d441946', '0xd2dfb4018cc5a071c96e1fa4128e074b1bcfedfbf8fe562a739c69a69d441946', '0x8adcb82460deb4333710eaf42e1f4037c7c30cb53d72366f3d419939b6369803', '0x8adcb82460deb4333710eaf42e1f4037c7c30cb53d72366f3d419939b6369803', '0x8637eac4d1b68819c1aae53d60c934c9e00ec93c27840932c84eaee31951969d', '0x8637eac4d1b68819c1aae53d60c934c9e00ec93c27840932c84eaee31951969d', '0xc8a1e431df432197837a7d38bc49ad7633f2a18ad696e926e3f8921de5423c6e', '0xc8a1e431df432197837a7d38bc49ad7633f2a18ad696e926e3f8921de5423c6e', '0xae3374c8738391fb8341718e71ead43bca6e6dc4ddbc135dd46daac32d2623c5', '0xae3374c8738391fb8341718e71ead43bca6e6dc4ddbc135dd46daac32d2623c5', '0xd679362f507e0cbd57e3edc40a0a625de91b2024988f1007efe34a5cee84b8c5', '0xd679362f507e0cbd57e3edc40a0a625de91b2024988f1007efe34a5cee84b8c5', '0x1bc986040d81130f623ac88456addbce3728b2667872018462d514d4caedc3b6', '0x1bc986040d81130f623ac88456addbce3728b2667872018462d514d4caedc3b6', '0xb38aa580085b9bcf576e4a31b0b119c182226af3903c5fc84da806de3ab4efa9', '0xb38aa580085b9bcf576e4a31b0b119c182226af3903c5fc84da806de3ab4efa9', '0x79d22222494102d8bf8d2bdb93fc5ffccce878d45095947427ff5c2a868496c5', '0x79d22222494102d8bf8d2bdb93fc5ffccce878d45095947427ff5c2a868496c5', '0xf8bb5b7d6194c3b7a36c368c648187ca2151ce83055f9707939650e8a7296ea0', '0xf8bb5b7d6194c3b7a36c368c648187ca2151ce83055f9707939650e8a7296ea0', '0x70e435917d5cb101597a3b4d6ca5b18c5d1469d1c8e4bcb762572c2f295816ed', '0x70e435917d5cb101597a3b4d6ca5b18c5d1469d1c8e4bcb762572c2f295816ed', '0x1f39e68398a10a31c45b6a70e4991586cd22a46c1e799cff400674b85645c48f', '0x1f39e68398a10a31c45b6a70e4991586cd22a46c1e799cff400674b85645c48f', '0x56d5edabebdbf7de92ab08bb5c4dbc5d72744aa561d7cb5ef48b886c30b91c98', '0x56d5edabebdbf7de92ab08bb5c4dbc5d72744aa561d7cb5ef48b886c30b91c98', '0x06324805a170526695e7e7bf25e0b5dd0343729cce5e189dce02f7bbd1a04f3c', '0x06324805a170526695e7e7bf25e0b5dd0343729cce5e189dce02f7bbd1a04f3c', '0x095a8746c14f801e2f6f03a0f61ba3ed8f9588985f795a9944ebfa2293e3ff38', '0x095a8746c14f801e2f6f03a0f61ba3ed8f9588985f795a9944ebfa2293e3ff38', '0xda08a40250792f944c737d76b1a3409f8ac36cc9e6a075235c1b7eb0297dfb50', '0xda08a40250792f944c737d76b1a3409f8ac36cc9e6a075235c1b7eb0297dfb50', '0x11b94fbe3e36cb31ef254a84410a0a60d24934ba94422d12c037b430b09bb6b0', '0x11b94fbe3e36cb31ef254a84410a0a60d24934ba94422d12c037b430b09bb6b0', '0x9eb15280a57e811b5fa95943445899fdd74bf1ba7fc05e797961d57d02071661', '0x9eb15280a57e811b5fa95943445899fdd74bf1ba7fc05e797961d57d02071661', '0xb1d00d06861df872dec9788427122fac268961c43b223f684d69be2e3cc7ff5e', '0xb1d00d06861df872dec9788427122fac268961c43b223f684d69be2e3cc7ff5e', '0x704a4a3a427606b88e790acf8e1e434120b701ab99c1c4368e12abf627a81191', '0x704a4a3a427606b88e790acf8e1e434120b701ab99c1c4368e12abf627a81191', '0x8dbcf9cebc09c551a8116af1515aa95ceffdb254d829b7efa59cbcc9bce3e740', '0x8dbcf9cebc09c551a8116af1515aa95ceffdb254d829b7efa59cbcc9bce3e740', '0x7f58ef53255ddfe7f88a39a6146789b9fed66fd97a4a8948bcfa1779f18eee94', '0x7f58ef53255ddfe7f88a39a6146789b9fed66fd97a4a8948bcfa1779f18eee94', '0x2b417cd43eec418af80cbf01c51e6a888af1ba9c18dc300e0a7b80824a988d49', '0x2b417cd43eec418af80cbf01c51e6a888af1ba9c18dc300e0a7b80824a988d49', '0x69af49c98e2f46327d1147605d067e22b18d2a2031bfe427d9c6333909d057a9', '0x69af49c98e2f46327d1147605d067e22b18d2a2031bfe427d9c6333909d057a9', '0x1873c2885ff414a7fd1149e324da1286c8924340f0e575ba5a9493eb5607d90d', '0x1873c2885ff414a7fd1149e324da1286c8924340f0e575ba5a9493eb5607d90d', '0x0feb06fe1a3d6379efed2bdc3e0b54f203dc7ef8911a19461f9f3808a9c60b39', '0x0feb06fe1a3d6379efed2bdc3e0b54f203dc7ef8911a19461f9f3808a9c60b39', '0xfcd033b0ffe5281278eff44da245e564a2ddfde55f02ebb2d7abbe4787cd0654', '0xfcd033b0ffe5281278eff44da245e564a2ddfde55f02ebb2d7abbe4787cd0654', '0x9934105f7116d22421bebfeb780db20556bd37ebc09e99959cd7d51dd6cccfa4', '0x9934105f7116d22421bebfeb780db20556bd37ebc09e99959cd7d51dd6cccfa4', '0xbe4530ee32f84a5d01ea6b17e08f0e063fa7d8348acd01769cd7a4516f9ff060', '0xbe4530ee32f84a5d01ea6b17e08f0e063fa7d8348acd01769cd7a4516f9ff060', '0x50f52f7dd3c89facc16dce0601fd5eec66c2a9d19644d9ebb9cd3f56e662d05f', '0x50f52f7dd3c89facc16dce0601fd5eec66c2a9d19644d9ebb9cd3f56e662d05f', '0xe12c3ccdb11cde56fe48c682f81691e777926facaa45b317838e526e4d0909bf', '0xe12c3ccdb11cde56fe48c682f81691e777926facaa45b317838e526e4d0909bf', '0x7d1986f183c59c0e0b78db2975a58f98072b2ad5e81db041061086f15c440519', '0x7d1986f183c59c0e0b78db2975a58f98072b2ad5e81db041061086f15c440519', '0xa7ef3a04960fe565d9165cbc8bd6d99547922928951c511150d9194cfd9fae75', '0xa7ef3a04960fe565d9165cbc8bd6d99547922928951c511150d9194cfd9fae75', '0x70f0a4fe1f7478e4979f130e6b7573d3761f0fac2b0749b6cbffa4f56e2ef744', '0x70f0a4fe1f7478e4979f130e6b7573d3761f0fac2b0749b6cbffa4f56e2ef744', '0xb1c9e96bdd3b32229cccb3b3c4bca4e5aa2622ca9de8059758a71ebf47ef4df1', '0xb1c9e96bdd3b32229cccb3b3c4bca4e5aa2622ca9de8059758a71ebf47ef4df1', '0xa6744239f2cc54c1bf548d4ec39a61184379cd47ab3bdce836a3c5f272d69f5e', '0xa6744239f2cc54c1bf548d4ec39a61184379cd47ab3bdce836a3c5f272d69f5e', '0x3c68d6a1ac16def131ae6cc42c7526851b649c9c7b3628672486e1ce1c4ebfff', '0x3c68d6a1ac16def131ae6cc42c7526851b649c9c7b3628672486e1ce1c4ebfff', '0xa6431e245b2cf652c26df50364819ae103fa6b33701e299711b1dfa5e22b2b04', '0xa6431e245b2cf652c26df50364819ae103fa6b33701e299711b1dfa5e22b2b04', '0x4d879ebc2c63adb3a31f6c4c6a55fed085592ee6449047be8acd750e1999afa3', '0x4d879ebc2c63adb3a31f6c4c6a55fed085592ee6449047be8acd750e1999afa3', '0xad219105eec265ebf3d994a98e6561c89e9391b891441da53f8f90abcdccb677', '0xad219105eec265ebf3d994a98e6561c89e9391b891441da53f8f90abcdccb677', '0xbdb2be14c0c84293e5b5443af274c607462ce3a7c24072fbf14a2a2d3543a800', '0xbdb2be14c0c84293e5b5443af274c607462ce3a7c24072fbf14a2a2d3543a800', '0x32ca731029fd4ee1f8e275e5d809ca75dd79a53c624067def675e9c1ac303beb', '0x32ca731029fd4ee1f8e275e5d809ca75dd79a53c624067def675e9c1ac303beb', '0x12d5586e1898a67015dacd15cebe53316acb3f5b9a89fe493fff55f2e0e2c9eb', '0x12d5586e1898a67015dacd15cebe53316acb3f5b9a89fe493fff55f2e0e2c9eb', '0x3ae0c98864e6353273117a6007063831ef55e819e356c66055a7daa60f254e81', '0x3ae0c98864e6353273117a6007063831ef55e819e356c66055a7daa60f254e81', '0xb0bdae6280086dc79ffd700b82f4b5f718ded8c652eddafea9f88c2debc58aac', '0xb0bdae6280086dc79ffd700b82f4b5f718ded8c652eddafea9f88c2debc58aac', '0xc68c7f8d6a8305230bb12bd19ebe24a609cf02ddc019f905423e5439c57d4999', '0xc68c7f8d6a8305230bb12bd19ebe24a609cf02ddc019f905423e5439c57d4999', '0x293c597025c90e4b9f9fa52157617cfce77498d3bcc8303a93961b4bd038e041', '0x293c597025c90e4b9f9fa52157617cfce77498d3bcc8303a93961b4bd038e041', '0x705127c3cc2f75534be3a3164370f48ca93eaee1847dd647c736fcddda469106', '0x705127c3cc2f75534be3a3164370f48ca93eaee1847dd647c736fcddda469106', '0x645861904ed6214801fecd195a9bea9ac987877a5a5a84762097ed6735bd82b6', '0x645861904ed6214801fecd195a9bea9ac987877a5a5a84762097ed6735bd82b6', '0x658973d7b63eadb3a8b0279780854241d44c3f215ef18075b2102fecec439bab', '0x658973d7b63eadb3a8b0279780854241d44c3f215ef18075b2102fecec439bab', '0x4f827d07e406613723dbac2f705c7b926b7fb79ff0db91f9fbbbd169fbb0963c', '0x4f827d07e406613723dbac2f705c7b926b7fb79ff0db91f9fbbbd169fbb0963c', '0x21451ae3eb020aef8be9c79a4d985c0803387199bc15854538e8aeef3389f276', '0x21451ae3eb020aef8be9c79a4d985c0803387199bc15854538e8aeef3389f276', '0xcfce6f71786ccb24b27353db3e41c5d505968ccb2ece3a698a9a98e865b10eda', '0xcfce6f71786ccb24b27353db3e41c5d505968ccb2ece3a698a9a98e865b10eda', '0x95c36bca239ab4f567f3adb0328cb1b85138973e677a5f40d0c98911877c8a12', '0x95c36bca239ab4f567f3adb0328cb1b85138973e677a5f40d0c98911877c8a12', '0xafac1bd72bb9ea7fdbafede25e28b212fb02e2fe002479d0db4bd1370ac17745', '0xafac1bd72bb9ea7fdbafede25e28b212fb02e2fe002479d0db4bd1370ac17745', '0x4a509d5ac0142cc30ad0b58ec91a9c36282eb27badd540fb27eb84cd5b31c486', '0x4a509d5ac0142cc30ad0b58ec91a9c36282eb27badd540fb27eb84cd5b31c486', '0x494b60af383f650208cf8d4c1b5ed768ffaa6ff938fc74d066a34bc214343b37', '0x494b60af383f650208cf8d4c1b5ed768ffaa6ff938fc74d066a34bc214343b37', '0x7eb0ae72a33450789ec23b9d416830fbc83dbcd17c03b12d281794bcd3178f2b', '0x7eb0ae72a33450789ec23b9d416830fbc83dbcd17c03b12d281794bcd3178f2b', '0x569ab9abb1014e749e8046b8efe10418d3e477ea5050068660e00f0ba76bafb2', '0x569ab9abb1014e749e8046b8efe10418d3e477ea5050068660e00f0ba76bafb2', '0x456d062f84f6e0a00bd7607edabe5cefd5fc279d9117b16db548cc10c82a0961', '0x456d062f84f6e0a00bd7607edabe5cefd5fc279d9117b16db548cc10c82a0961', '0xcf8f468c1f8bc88eb3112ad951eaba471d61941c313db391f727c2e8c0c77b0c', '0xcf8f468c1f8bc88eb3112ad951eaba471d61941c313db391f727c2e8c0c77b0c', '0xc297410d101a49de5296adc6be1fbfba9341fbe7167288634c0a19c18eca3601', '0xc297410d101a49de5296adc6be1fbfba9341fbe7167288634c0a19c18eca3601', '0xef6c8558154454fd2bb459c6e7e6e5a186d0c11e83f0ea58f4e2643b26b8a053', '0xef6c8558154454fd2bb459c6e7e6e5a186d0c11e83f0ea58f4e2643b26b8a053', '0xdf6f87ea1cdaf8c8998ec1a7df6264ce9378967e59fc3ddadabf338028f7a38f', '0xdf6f87ea1cdaf8c8998ec1a7df6264ce9378967e59fc3ddadabf338028f7a38f', '0xdf6f87ea1cdaf8c8998ec1a7df6264ce9378967e59fc3ddadabf338028f7a38f', '0xdf6f87ea1cdaf8c8998ec1a7df6264ce9378967e59fc3ddadabf338028f7a38f', '0x75a164d46bf8b29447d77d9ed39eedb3478581ffe8aed1c5f477cbe857d63455', '0x75a164d46bf8b29447d77d9ed39eedb3478581ffe8aed1c5f477cbe857d63455', '0x77c7ed2ee322b6bfb495562867a1acf261d2fa8a676c045c619d5b1dc807be66', '0x77c7ed2ee322b6bfb495562867a1acf261d2fa8a676c045c619d5b1dc807be66', '0x12ce8734f4b535e0d02bc3bbe8658e289438bcf8d686a47399a6de24abdd570d', '0x12ce8734f4b535e0d02bc3bbe8658e289438bcf8d686a47399a6de24abdd570d', '0xb7ef7d6b6e5d9db5e42b7f7ab6a9a4e78cb03d1017032e736f3292cd489a0554', '0xb7ef7d6b6e5d9db5e42b7f7ab6a9a4e78cb03d1017032e736f3292cd489a0554', '0xaa993528dc8abef6cf75167344b917672bb72920bdb349f75a27eac7687462f8', '0xaa993528dc8abef6cf75167344b917672bb72920bdb349f75a27eac7687462f8', '0x50ad11e83593dfbbc16558f9b48bddbeb27afaf3163a7241909277c7d1ccb3d8', '0x50ad11e83593dfbbc16558f9b48bddbeb27afaf3163a7241909277c7d1ccb3d8', '0x3e2b22ed8e02c4dc6bb17a034c59e556d1ce1bf7e14afd4409cc05bb6e7321ad', '0x3e2b22ed8e02c4dc6bb17a034c59e556d1ce1bf7e14afd4409cc05bb6e7321ad', '0xa90d5b63e139053b2cfef7f290a8cc222d00a6e8c3b2d39548eac39cf6565f11', '0xa90d5b63e139053b2cfef7f290a8cc222d00a6e8c3b2d39548eac39cf6565f11', '0x246cd3efab4b107ea92ac84994ce70c9002ac275aface3ee95f5cd7cd841e0cf', '0x246cd3efab4b107ea92ac84994ce70c9002ac275aface3ee95f5cd7cd841e0cf', '0x6a9595f6fa19d07bf138ce2e2b36ba30df9302aac9907355e2fec89b712f3a49', '0x6a9595f6fa19d07bf138ce2e2b36ba30df9302aac9907355e2fec89b712f3a49', '0x011e820d7510dd3c6df276280043e0bf46fea532417bea9fb12d512c55ec70a9', '0x011e820d7510dd3c6df276280043e0bf46fea532417bea9fb12d512c55ec70a9', '0xc2f3130ca088212574b8598d67ac56c7fae4b17587558874904a3e6a209ea932', '0xc2f3130ca088212574b8598d67ac56c7fae4b17587558874904a3e6a209ea932', '0x08d638715d665429ec6bac1a29f7b73b8487c40f218f3c48c21feb4662acf5d7', '0x08d638715d665429ec6bac1a29f7b73b8487c40f218f3c48c21feb4662acf5d7', '0xd5c62f6f638cf6c11024336537dd397132c695dedd93f4cd4d68f6ebfd0a6d9c', '0xd5c62f6f638cf6c11024336537dd397132c695dedd93f4cd4d68f6ebfd0a6d9c', '0x19ab800e1b8acddc39b54298fd521007422390d967a6166b1509899e3055b345', '0x19ab800e1b8acddc39b54298fd521007422390d967a6166b1509899e3055b345', '0x33d610b998008c485ebf5dc23d8e207d6f2c5712f19d21b9ae60c21550f5aa0a', '0x33d610b998008c485ebf5dc23d8e207d6f2c5712f19d21b9ae60c21550f5aa0a', '0x9394a514f995dd16c5fddd3ce99f8facb9961fecaa518902c155de0cee388129', '0x9394a514f995dd16c5fddd3ce99f8facb9961fecaa518902c155de0cee388129', '0xd755d4930c0a9db0ea664540b0314400ec65086572280c67c36f0e95cf163e5c', '0xd755d4930c0a9db0ea664540b0314400ec65086572280c67c36f0e95cf163e5c', '0xc73c21d501217616a658f48bc523d4b0ad2f0a65e396b94464323c7dd029e629', '0xc73c21d501217616a658f48bc523d4b0ad2f0a65e396b94464323c7dd029e629', '0xd7534f1f0f33133becc2a49bbd11e0406a5665d67cd2f8b04267f27f6103dda5', '0xd7534f1f0f33133becc2a49bbd11e0406a5665d67cd2f8b04267f27f6103dda5', '0xf3d11f3707c3fca337b33b974f93011ce532cc6d289b1aca2ff592de50498c06', '0xf3d11f3707c3fca337b33b974f93011ce532cc6d289b1aca2ff592de50498c06', '0x104d567b71f6d0dee724a89cd989fe658badba3d45c68b8eb54b746c8b373318', '0x104d567b71f6d0dee724a89cd989fe658badba3d45c68b8eb54b746c8b373318', '0xb94bc520c80f4de2fd0ece472e88198bfd803a4324558605ea4d564d3cd0b145', '0xb94bc520c80f4de2fd0ece472e88198bfd803a4324558605ea4d564d3cd0b145', '0x864a28bf681cb8e404cbcdd9cdc0999efa539ab29e4640a88d209dbdf35b7b4a', '0x864a28bf681cb8e404cbcdd9cdc0999efa539ab29e4640a88d209dbdf35b7b4a', '0x4f25add7ddb2684d98b1d604c6440ac85a4aab67a4d7a2917d290d0ccc8d0c2a', '0x4f25add7ddb2684d98b1d604c6440ac85a4aab67a4d7a2917d290d0ccc8d0c2a', '0x4f25add7ddb2684d98b1d604c6440ac85a4aab67a4d7a2917d290d0ccc8d0c2a', '0x4f25add7ddb2684d98b1d604c6440ac85a4aab67a4d7a2917d290d0ccc8d0c2a', '0x2638e5e3da28eafb225ab6baba12137fb45eb590f823a40307b563fb6a4a0f68', '0x2638e5e3da28eafb225ab6baba12137fb45eb590f823a40307b563fb6a4a0f68', '0xf7bf5b17095d24e90190dce64bbbffde356b6488ebc102f2cfa41595b74f5bd5', '0xf7bf5b17095d24e90190dce64bbbffde356b6488ebc102f2cfa41595b74f5bd5', '0xde9f4b27b5e09adbb47b1e4b1cfc89458101ea6889bbb9dc06924e62517d4cd7', '0xde9f4b27b5e09adbb47b1e4b1cfc89458101ea6889bbb9dc06924e62517d4cd7', '0xe7066c6fc87cb0600e7d32db42f3c18fced6907a670305170d3efccc2ec67d0e', '0xe7066c6fc87cb0600e7d32db42f3c18fced6907a670305170d3efccc2ec67d0e', '0xe3b2fe62ec1cfdc3b1dd7ae30b40e44c45395c01c44a195f48a206e1b62022d8', '0xe3b2fe62ec1cfdc3b1dd7ae30b40e44c45395c01c44a195f48a206e1b62022d8', '0x06724ba854069667f78101692dc13b9453746254ab7b320bb6184d8e6ec48131', '0x06724ba854069667f78101692dc13b9453746254ab7b320bb6184d8e6ec48131', '0xbcc3e0cd4bb92ff95e3f37ac0cf63601aba35c1fe1c75149d70862561f162477', '0xbcc3e0cd4bb92ff95e3f37ac0cf63601aba35c1fe1c75149d70862561f162477', '0x2ad3b7d91706b6299bdb0f16a22ef4171c023175f437243a0c13a32dbe5e51c6', '0x2ad3b7d91706b6299bdb0f16a22ef4171c023175f437243a0c13a32dbe5e51c6', '0xf2bc2b30bf7caf4ce5ba72e8d991ef34cfba5f1024a718c783c02400846b2248', '0xf2bc2b30bf7caf4ce5ba72e8d991ef34cfba5f1024a718c783c02400846b2248', '0x5d9a4fcac01a74bfed045de91a3f573207f98bbcad9f08620b7ecd7208bac26b', '0x5d9a4fcac01a74bfed045de91a3f573207f98bbcad9f08620b7ecd7208bac26b', '0x7dc6a4fdf34ef89a472e048968b6686ddfd5f0a9b339d47c248c32e8cf3bdc2d', '0x7dc6a4fdf34ef89a472e048968b6686ddfd5f0a9b339d47c248c32e8cf3bdc2d', '0x35b6c3597e07bddcca86cc363c44832eb98d246c159acd63f1feb7b244b13e13', '0x35b6c3597e07bddcca86cc363c44832eb98d246c159acd63f1feb7b244b13e13', '0xc7038486e1801b273742ca9c6fa8d946d7635332932b32e3dbd9854a615c46c2', '0xc7038486e1801b273742ca9c6fa8d946d7635332932b32e3dbd9854a615c46c2', '0x7be8ad352c5c243a1d7867656122e3ebc4ec49ea9eff5411e7cc9fa24dd500f1', '0x7be8ad352c5c243a1d7867656122e3ebc4ec49ea9eff5411e7cc9fa24dd500f1', '0x1ccc9a84ea910ccb5c9ceb808da66a0c59d59c1b4cd13d5ae39f835d2e2ef454', '0x1ccc9a84ea910ccb5c9ceb808da66a0c59d59c1b4cd13d5ae39f835d2e2ef454', '0x60c0f85ae8ffc8d656bec99a897fa1e2e27a60b1aadc2daec33ea9143c70901b', '0x60c0f85ae8ffc8d656bec99a897fa1e2e27a60b1aadc2daec33ea9143c70901b', '0x6bd9a29d51e2e94a82c951f7e53db67d226d422510fea7f1b365fbfd9919c26f', '0x6bd9a29d51e2e94a82c951f7e53db67d226d422510fea7f1b365fbfd9919c26f', '0x6b4248d8fcb183a5d5134f16067bf0289a55ef1e6260f45b380ba94d95921e2c', '0x6b4248d8fcb183a5d5134f16067bf0289a55ef1e6260f45b380ba94d95921e2c', '0x14adee39ff52dd1763e42790376430e9bb005f9e761057c96eb5d2100a0244c5', '0x14adee39ff52dd1763e42790376430e9bb005f9e761057c96eb5d2100a0244c5', '0x2cf1d6186c4dc9b2725b77e543f6e827134bdf7e242ff683e41d430309d29f27', '0x2cf1d6186c4dc9b2725b77e543f6e827134bdf7e242ff683e41d430309d29f27', '0xa5083b7d89f5afd208c79bc1f6c2f537541c637b4869b234bf331c903e48cf80', '0xa5083b7d89f5afd208c79bc1f6c2f537541c637b4869b234bf331c903e48cf80', '0x4d04064a35a6abccb57b8ab54634dd81acb3f5bd7c89bfb0cf46151b1c8545d9', '0x4d04064a35a6abccb57b8ab54634dd81acb3f5bd7c89bfb0cf46151b1c8545d9', '0x378763478b8d1f3c6b66448cb9066ba8b0ba9795d0591e870d97bd65e074e649', '0x378763478b8d1f3c6b66448cb9066ba8b0ba9795d0591e870d97bd65e074e649', '0x87fc610311f64f788d3fe2c9860f224db60ffd52782f5bf16005effacbc02a84', '0x87fc610311f64f788d3fe2c9860f224db60ffd52782f5bf16005effacbc02a84', '0x6e241a7d7576813149aa8eabe3803e0cdf0cddb5dc086c501d22d4bedde0f4d9', '0x6e241a7d7576813149aa8eabe3803e0cdf0cddb5dc086c501d22d4bedde0f4d9', '0x15b398cafbd161aff3bde0ab263901e79640f4d6823ac2baae4957dea5112fa7', '0x15b398cafbd161aff3bde0ab263901e79640f4d6823ac2baae4957dea5112fa7', '0xd9dc979d143974783c20893c0f34c388cb8ba4b3b4ccf018ed496a3525d843f4', '0xd9dc979d143974783c20893c0f34c388cb8ba4b3b4ccf018ed496a3525d843f4', '0xdd812c7d307eea9ead8a2647ef0508d7b9fe797e9d261aff0672472687a07dcb', '0xdd812c7d307eea9ead8a2647ef0508d7b9fe797e9d261aff0672472687a07dcb', '0x11198113fbb8bcdbf0278b3a51439617142c6399299b620de96b2c1010fb966d', '0x11198113fbb8bcdbf0278b3a51439617142c6399299b620de96b2c1010fb966d', '0x4dd9576f0fa9c1c4ba726f3cddcc5c7f72cb689367ea43bbde9d65886625a030', '0x4dd9576f0fa9c1c4ba726f3cddcc5c7f72cb689367ea43bbde9d65886625a030', '0x97f4e4e02d287b72692a15d07cab78470f4ee23851e3da3e98450f93efb4873b', '0x97f4e4e02d287b72692a15d07cab78470f4ee23851e3da3e98450f93efb4873b', '0x6a67fa3ff91f03a3c84d4fb25422a17a9430ab66c83d2ede11e7047333244ab8', '0x6a67fa3ff91f03a3c84d4fb25422a17a9430ab66c83d2ede11e7047333244ab8', '0x61c94e537034ad35466d322c192159d131b8b59ccbee1b3549822905b854d4d8', '0x61c94e537034ad35466d322c192159d131b8b59ccbee1b3549822905b854d4d8', '0x83ae40fd744cc39fce6fbff6fdae720f3332ad77eb45889547e174da7efa0a1e', '0x83ae40fd744cc39fce6fbff6fdae720f3332ad77eb45889547e174da7efa0a1e', '0xa78d870bccdbf6862f6684fdd988db2fa1989e38c70b190451d2a8c3ddb196f2', '0xa78d870bccdbf6862f6684fdd988db2fa1989e38c70b190451d2a8c3ddb196f2', '0x66ace9ef23f78ad4e58c2a2046f2b197f4f641d50b01bfe25920273b3f22b802', '0x66ace9ef23f78ad4e58c2a2046f2b197f4f641d50b01bfe25920273b3f22b802', '0x86a3d8cd2473d358d5b251a8596684769509497f56b2a79d10aaed8fcf64a10e', '0x86a3d8cd2473d358d5b251a8596684769509497f56b2a79d10aaed8fcf64a10e', '0x60562113a0b00bb63a4bf154c82780ebafb88633831a14e690aca7b2e769eb44', '0x60562113a0b00bb63a4bf154c82780ebafb88633831a14e690aca7b2e769eb44', '0x104da7f6448b5dff1312f7e247d529fb8cea2169e5b8a90a4baa5051daa3a194', '0x104da7f6448b5dff1312f7e247d529fb8cea2169e5b8a90a4baa5051daa3a194', '0xf1c2f569624174c424225c1400cba57dd9e01fdd5dc97f3e271aa0bb85608359', '0xf1c2f569624174c424225c1400cba57dd9e01fdd5dc97f3e271aa0bb85608359', '0xf5da51d624f08e47f05f10529c5644eccc04ba77d5e493a7a689115fbb238d5e', '0xf5da51d624f08e47f05f10529c5644eccc04ba77d5e493a7a689115fbb238d5e', '0xaa16266bf3c7115f4821dcf7cbcfe32ef2370d134a084063aaac2e9be7828413', '0xaa16266bf3c7115f4821dcf7cbcfe32ef2370d134a084063aaac2e9be7828413', '0x48a5f810a28a5a531116668443f220b1a85a9bcdbecae9b15161621190d0ad6b', '0x48a5f810a28a5a531116668443f220b1a85a9bcdbecae9b15161621190d0ad6b', '0x58c4ff0cbe1402f7f847e70cc063616f6268f46bb8fe0e970734b299be815d63', '0x58c4ff0cbe1402f7f847e70cc063616f6268f46bb8fe0e970734b299be815d63', '0xac549bdd371b96cc711d790a705002d28f731dd6bcd3ec28d3d366ec2c06911a', '0xac549bdd371b96cc711d790a705002d28f731dd6bcd3ec28d3d366ec2c06911a', '0x1ad0b0e5339b97a6ef4e1642239d8d354e7782aa36fa460d01f183d4037d7c29', '0x1ad0b0e5339b97a6ef4e1642239d8d354e7782aa36fa460d01f183d4037d7c29', '0x46af219476bd7c1a2f3d8b97a8e62d92d3ece30a054d854152ee062411e76832', '0x46af219476bd7c1a2f3d8b97a8e62d92d3ece30a054d854152ee062411e76832', '0x37fee4d1006c1785b2af104d09f8e8e2b5cd54a18ea6a6dd9225dd3be51efe6a', '0x37fee4d1006c1785b2af104d09f8e8e2b5cd54a18ea6a6dd9225dd3be51efe6a', '0xe6eeafe95bf5ab4ef228d54a318e96b8b4ecee5451a4cb846f6eae5556a2ec84', '0xe6eeafe95bf5ab4ef228d54a318e96b8b4ecee5451a4cb846f6eae5556a2ec84', '0x6cea0f39f233cb7216d7090eb3253bf5bf34957030a32916114e6462359828fc', '0x6cea0f39f233cb7216d7090eb3253bf5bf34957030a32916114e6462359828fc', '0x08156f5e953d6f380f1c1702a9a4e24ff9436a813dc6e83fe098c4df6e1b3d56', '0x08156f5e953d6f380f1c1702a9a4e24ff9436a813dc6e83fe098c4df6e1b3d56', '0xf8410e2027886e660587d2c3b0405620513b9a2439fbbee834a86a52a755f594', '0xf8410e2027886e660587d2c3b0405620513b9a2439fbbee834a86a52a755f594', '0x7efc4a936a69645130c779c466064ecede25d4c4ef59031a873a712aaa622513', '0x7efc4a936a69645130c779c466064ecede25d4c4ef59031a873a712aaa622513', '0xbf3b3591cc4b2724a50bd0e339e3c9d6a242fb0a9df40189e36008a3917d91bb', '0xbf3b3591cc4b2724a50bd0e339e3c9d6a242fb0a9df40189e36008a3917d91bb', '0xb07862b4460bfc387e6220c9c35b22b6bc10107bf3570c3639758692e46519e3', '0xb07862b4460bfc387e6220c9c35b22b6bc10107bf3570c3639758692e46519e3', '0x88e3f801a6998b916912d44afdf0363ad9bb4ee2fdea7e0c47da26bc2d3b8f96', '0x88e3f801a6998b916912d44afdf0363ad9bb4ee2fdea7e0c47da26bc2d3b8f96', '0x6412a9c981e76a4b6ffa5021673ba90a9e85330e85eea980c1a8f2e1201aaf82', '0x6412a9c981e76a4b6ffa5021673ba90a9e85330e85eea980c1a8f2e1201aaf82', '0xf7c07c526ea1041f8832bbfeada3af204f509dbd7473894449399f8012eebe72', '0xf7c07c526ea1041f8832bbfeada3af204f509dbd7473894449399f8012eebe72', '0x38a82e43c0b898d134bbfdae0ca660513d90c02ca0fdeaf6e7bca04e6af96cf4', '0x38a82e43c0b898d134bbfdae0ca660513d90c02ca0fdeaf6e7bca04e6af96cf4', '0x8e54fa37b4d3b87b8591e6bedb13db9b1890f71422bc0a0dced28e51cc06979a', '0x8e54fa37b4d3b87b8591e6bedb13db9b1890f71422bc0a0dced28e51cc06979a', '0x9528b0e8f3b273a6312fb972b260355cb1e8833573244fd7bd3520668d6846d6', '0x9528b0e8f3b273a6312fb972b260355cb1e8833573244fd7bd3520668d6846d6', '0xa0d789ea1e62ae51e16cac6a67a1ac47660908a0ef453f8820bb8ac61a79113b', '0xa0d789ea1e62ae51e16cac6a67a1ac47660908a0ef453f8820bb8ac61a79113b', '0x21b999bfb6934795051cd27cf04d8dc34b074178135de13b150de6217828988e', '0x21b999bfb6934795051cd27cf04d8dc34b074178135de13b150de6217828988e', '0xc834ecf48b568447254f3ce01c1496989dbd45c2bf85fc523ee8ad762b04f7b8', '0xc834ecf48b568447254f3ce01c1496989dbd45c2bf85fc523ee8ad762b04f7b8', '0x4f53bfcd9b1ca80076a49b24332df458ffc892b9c9b51a4e6ba46b882b2147c1', '0x4f53bfcd9b1ca80076a49b24332df458ffc892b9c9b51a4e6ba46b882b2147c1', '0xa64d23ff188017b38e2d718630ab216a1769a72236df7142b2c843f442b0581b', '0xa64d23ff188017b38e2d718630ab216a1769a72236df7142b2c843f442b0581b', '0x09f8386493f0cef2004378b59044201cb75b350d7403cae564f823527c4b6235', '0x09f8386493f0cef2004378b59044201cb75b350d7403cae564f823527c4b6235', '0x4cf7f30adafe72689f72adc9d81d1583397649ff3fe2a6588baf192549377b53', '0x4cf7f30adafe72689f72adc9d81d1583397649ff3fe2a6588baf192549377b53', '0xf28871bbdcdc6a3d0a5f2f539bbee33a2ecde240a8b9ac6c3c00fa1ecad2172f', '0xf28871bbdcdc6a3d0a5f2f539bbee33a2ecde240a8b9ac6c3c00fa1ecad2172f', '0xe591f573a741ba2e06074825aafe9373c19e0e73fd9c26eb4dfc7d7558e2aa71', '0xe591f573a741ba2e06074825aafe9373c19e0e73fd9c26eb4dfc7d7558e2aa71', '0x250e0f51b0f7533182dc25a1207535a9d330762e0713ce4b151bffb08df41834', '0x250e0f51b0f7533182dc25a1207535a9d330762e0713ce4b151bffb08df41834', '0x1915b5d6e6be0f8b50c8fc22d405a1b3fe0e38fc30519dbdcb95bc6b799ae604', '0x1915b5d6e6be0f8b50c8fc22d405a1b3fe0e38fc30519dbdcb95bc6b799ae604', '0xbb5b2371ff8d45cb48d9b428d39565046aeddb04741674c95c0ad9b866ad6542', '0xbb5b2371ff8d45cb48d9b428d39565046aeddb04741674c95c0ad9b866ad6542', '0xd1be9ff9129cfce73ddd01d7bcebea733cdbf79983fbf93158514060478c3412', '0xd1be9ff9129cfce73ddd01d7bcebea733cdbf79983fbf93158514060478c3412', '0x68ce82b550e5658ecd68a1014019421e29aa56fb335016c4d5fa30d6aa860087', '0x68ce82b550e5658ecd68a1014019421e29aa56fb335016c4d5fa30d6aa860087', '0xd2d8b4453e620997db69a1576b0c7c1aa8370f03f5be9a797e349d350c1aab66', '0xd2d8b4453e620997db69a1576b0c7c1aa8370f03f5be9a797e349d350c1aab66', '0x4cb02956c57530c78b75606d119a269357b3d5057a251edfd04287f19cdb97ae', '0x4cb02956c57530c78b75606d119a269357b3d5057a251edfd04287f19cdb97ae', '0x0de2b6ab157ffc74c3c06dbcc6f99a69de17bd599977fc661a7d6a45950bc16f', '0x0de2b6ab157ffc74c3c06dbcc6f99a69de17bd599977fc661a7d6a45950bc16f', '0x1007d9d90c9c82bca0f5536924ae7fc053bb2df4e1502e2fd35cb203415dd115', '0x1007d9d90c9c82bca0f5536924ae7fc053bb2df4e1502e2fd35cb203415dd115', '0xe05865ec445dd1cfac4a88887dae22856a5584a3461891b579a13106cff0155f', '0xe05865ec445dd1cfac4a88887dae22856a5584a3461891b579a13106cff0155f', '0x962c134b8c376e7e30b0692f8390982a41b74a51ae028195e4578be5e0c8b4df', '0x962c134b8c376e7e30b0692f8390982a41b74a51ae028195e4578be5e0c8b4df', '0x8a369bd7b68aecbef2cf70a3fdd26549f9beb745a5e9c5dc4047f57371d83d28', '0x8a369bd7b68aecbef2cf70a3fdd26549f9beb745a5e9c5dc4047f57371d83d28', '0x02ac052f62d08d3588e9409c6f24622ec42a1bc4573d6faea15467c4c26bf73b', '0x02ac052f62d08d3588e9409c6f24622ec42a1bc4573d6faea15467c4c26bf73b', '0xb8176b997252ead903c6b3ab48559971ba3f208e61a94d896da56f903103848b', '0xb8176b997252ead903c6b3ab48559971ba3f208e61a94d896da56f903103848b', '0xba12559b64a0bbf9241e8b9b8a949a56cc85a5b306c30f0526906c4c90f0d56f', '0xba12559b64a0bbf9241e8b9b8a949a56cc85a5b306c30f0526906c4c90f0d56f', '0x1a5a902fa77ae7d3556d804b366ed2ee98db19eff6ba621de998b7a38b8bb820', '0x1a5a902fa77ae7d3556d804b366ed2ee98db19eff6ba621de998b7a38b8bb820', '0xbad741aa5d7fd0ee2d1f90ba3e5e155353d573b264cac34cdc0fa136c22ca468', '0xbad741aa5d7fd0ee2d1f90ba3e5e155353d573b264cac34cdc0fa136c22ca468', '0x549fc1be6302f29ca19a9da08f1d367013054575996532743c2411f92b8180d3', '0x549fc1be6302f29ca19a9da08f1d367013054575996532743c2411f92b8180d3', '0x549fc1be6302f29ca19a9da08f1d367013054575996532743c2411f92b8180d3', '0x549fc1be6302f29ca19a9da08f1d367013054575996532743c2411f92b8180d3', '0x4cd3bc1aa812b0345bad3c4251df610de4e9ec53c7c8ce13d253b73357b04cab', '0x4cd3bc1aa812b0345bad3c4251df610de4e9ec53c7c8ce13d253b73357b04cab', '0xc20800d1c98c791e0713830a78a51a292e92a640af1bb12e154515248a4c4b78', '0xc20800d1c98c791e0713830a78a51a292e92a640af1bb12e154515248a4c4b78', '0x763919b38fd036563029e4a41ec533bc73c911dc5db54ac13e74fd0a9a52feb3', '0x763919b38fd036563029e4a41ec533bc73c911dc5db54ac13e74fd0a9a52feb3', '0xcf196fbe9820ae327d69b1a40be81cf14422989e48351e336e4ce79abf403bc2', '0xcf196fbe9820ae327d69b1a40be81cf14422989e48351e336e4ce79abf403bc2', '0xcfe65955956742edb9254d26cd2afdf82155a47cd8f9d4ce646e16b50043f7a2', '0xcfe65955956742edb9254d26cd2afdf82155a47cd8f9d4ce646e16b50043f7a2', '0x73fa913d8819f5bb38688527e0ecddaae9e54d22d3f3f9c60153a5d79a93fd29', '0x73fa913d8819f5bb38688527e0ecddaae9e54d22d3f3f9c60153a5d79a93fd29', '0xef9bd47a373f5a99c161102d4580a7366a1cdf3c8281e558f3dc9fd528d21a18', '0xef9bd47a373f5a99c161102d4580a7366a1cdf3c8281e558f3dc9fd528d21a18', '0x36ca01a3f4117a475ba817b8fc2141b4876d483020c2b9484f9099a35b214796', '0x36ca01a3f4117a475ba817b8fc2141b4876d483020c2b9484f9099a35b214796', '0x88c312037915854657a4ec9dd8f8b868dac14313ed8673c7bbfd6d318d42d34f', '0x88c312037915854657a4ec9dd8f8b868dac14313ed8673c7bbfd6d318d42d34f', '0x21701a8d11c1d681bd9b9547f2e436dd9460202c648e4b12f8252338425cdc9c', '0xb7d7a54e5ea4669b333f6358ec33d19955edca1fb658b080c3d6476d0988c069', '0x21701a8d11c1d681bd9b9547f2e436dd9460202c648e4b12f8252338425cdc9c', '0xb7d7a54e5ea4669b333f6358ec33d19955edca1fb658b080c3d6476d0988c069', '0x4aad4d9ac8cc89791e08f94e43e70e06744495f54ff0a35c91b36b08f13e112b', '0x4aad4d9ac8cc89791e08f94e43e70e06744495f54ff0a35c91b36b08f13e112b', '0x7be86d207b01a46e7f299e2eef52784c136fba130ce01ba3a2af3198faca05a8', '0x7be86d207b01a46e7f299e2eef52784c136fba130ce01ba3a2af3198faca05a8', '0xdb3cffb973668805ae253e9ba7332a3c4d9940472c024738fd01353b8b0a9542', '0xdb3cffb973668805ae253e9ba7332a3c4d9940472c024738fd01353b8b0a9542', '0x4d7103a362caff7f3a305359e75c7bdeded742943aac7157dad4854c672e384f', '0x4d7103a362caff7f3a305359e75c7bdeded742943aac7157dad4854c672e384f', '0x44f63ac4669774b8403dc6e67511762847120aa4d0d99e339bf9f18fe2dd2edb', '0x44f63ac4669774b8403dc6e67511762847120aa4d0d99e339bf9f18fe2dd2edb', '0x759da2da9a5ac3f29c6bf7be8069141c67b052854640a06d391fbe905febac28', '0x759da2da9a5ac3f29c6bf7be8069141c67b052854640a06d391fbe905febac28', '0x758d9cffd0ec78c0f9ed198989c4c74ee1d8bd58f8dccb0ca1147ccf706635cd', '0x758d9cffd0ec78c0f9ed198989c4c74ee1d8bd58f8dccb0ca1147ccf706635cd', '0x12c755638fece1941c2c97129c9d8f08cb3e0c4762deb3ca6c827b85fd5357fe', '0x12c755638fece1941c2c97129c9d8f08cb3e0c4762deb3ca6c827b85fd5357fe', '0x9a4fe8f1242c3457aabc9a296d22fcd8e71e4ec0246d25b9188b643968dcb8a0', '0x9a4fe8f1242c3457aabc9a296d22fcd8e71e4ec0246d25b9188b643968dcb8a0', '0x7f88f490af3dd957cbd38c4e246271cc2c1afc91e677ebba68112df3c1d77756', '0xf274316ed430835ec6f7d462032b5e4eda3d4dc8835c3b276308d6b72e181913', '0xf274316ed430835ec6f7d462032b5e4eda3d4dc8835c3b276308d6b72e181913', '0x7f88f490af3dd957cbd38c4e246271cc2c1afc91e677ebba68112df3c1d77756', '0x642414d5fa3d697d36914cff6e65165684b4cb3e3d7983fc468718ef7d04d9fa', '0x642414d5fa3d697d36914cff6e65165684b4cb3e3d7983fc468718ef7d04d9fa', '0x892a0afe755fdec00468ae05fc9f75d34a75b93e54dda088233b015ca19dddd8', '0x892a0afe755fdec00468ae05fc9f75d34a75b93e54dda088233b015ca19dddd8', '0xb50234b88f69d734d1d8fcdbce16080edf47630865a754588921220c01423f01', '0xb50234b88f69d734d1d8fcdbce16080edf47630865a754588921220c01423f01', '0xa5c24b2d8913b7d1416e4148bcba5bef7c179f79e59c2db9d769824d987cde20', '0xa5c24b2d8913b7d1416e4148bcba5bef7c179f79e59c2db9d769824d987cde20', '0xf336f44ef296b2dc6dd5ad2be81a0e9621ba307c333752c717c395d16475f580', '0xf336f44ef296b2dc6dd5ad2be81a0e9621ba307c333752c717c395d16475f580', '0x725f6cc204b1a715769fa7d267bda11544e8fe8946e2d6e307d1157e46151337', '0x725f6cc204b1a715769fa7d267bda11544e8fe8946e2d6e307d1157e46151337', '0x725f6cc204b1a715769fa7d267bda11544e8fe8946e2d6e307d1157e46151337', '0x725f6cc204b1a715769fa7d267bda11544e8fe8946e2d6e307d1157e46151337', '0x1e41c3edb4407f153aeb675027ace19330d738f282361f207671bb2e85f4aa9b', '0x1e41c3edb4407f153aeb675027ace19330d738f282361f207671bb2e85f4aa9b', '0xdea6d69d9cc1f036cdb6858c48f7fdb5fe03bdf67b15c15d6d1ce0c4bb73c5a8', '0xdea6d69d9cc1f036cdb6858c48f7fdb5fe03bdf67b15c15d6d1ce0c4bb73c5a8', '0x2e50eb400081aa37823fde355c8bbf4dae347045ea90572a6faf3b4c969802a7', '0x2e50eb400081aa37823fde355c8bbf4dae347045ea90572a6faf3b4c969802a7', '0xe48085755163a82bde8a3790010d783f6feb5c9baa0bb88ac99e99a7c031d1e7', '0xe48085755163a82bde8a3790010d783f6feb5c9baa0bb88ac99e99a7c031d1e7', '0x566a361138b7a6b73cfb56ba1f13c9177decb7623d7c3d9f3a2ab84ec46b4c73', '0x566a361138b7a6b73cfb56ba1f13c9177decb7623d7c3d9f3a2ab84ec46b4c73', '0x7ea2a7d85f4c69d2a0d3face76315757ad941de4ec9fa3f82da30e16fabac21b', '0x7ea2a7d85f4c69d2a0d3face76315757ad941de4ec9fa3f82da30e16fabac21b', '0xe9910054234fca57b1ce92ff3a20ab112964d20d67da3f85a80d182a6a5835d8', '0xe9910054234fca57b1ce92ff3a20ab112964d20d67da3f85a80d182a6a5835d8', '0x90e79e23d2a1668aa53158eb00ab7b187e33b9e0be339c18d6fad2974f78fe4d', '0x90e79e23d2a1668aa53158eb00ab7b187e33b9e0be339c18d6fad2974f78fe4d', '0x37e2ec5f0a620de9eadd66d05e8fb73e9c0abef269ebea7f6cd35df8819a7902', '0x37e2ec5f0a620de9eadd66d05e8fb73e9c0abef269ebea7f6cd35df8819a7902', '0xe0c97adf20ef9ef0181363516158ccb4648f25c8919643962ed80b36df8668cf', '0xe0c97adf20ef9ef0181363516158ccb4648f25c8919643962ed80b36df8668cf', '0x23c30c5ed3797dec7d37b3592569cf96a399cfb42a8920d5c26f05f74295f17b', '0x23c30c5ed3797dec7d37b3592569cf96a399cfb42a8920d5c26f05f74295f17b', '0x5f1315aafe68dde4c56abbfb8a97f8a91c45501647df1a53966b7f443299f16e', '0x5f1315aafe68dde4c56abbfb8a97f8a91c45501647df1a53966b7f443299f16e', '0x2e7722885de6ab2bc426d8bad1b3a2819bf6bc3bcace185dca45b1b4d9f15614', '0x2e7722885de6ab2bc426d8bad1b3a2819bf6bc3bcace185dca45b1b4d9f15614', '0xf5a29aec7cbaff63dcb144f0e5b0a1582dbc0d880de087111cedf25912f18889', '0xf5a29aec7cbaff63dcb144f0e5b0a1582dbc0d880de087111cedf25912f18889', '0x7b8141a91b9fab1f324e5d7eb53ff15f2e9b95284833ccff104377f191f8d348', '0x7b8141a91b9fab1f324e5d7eb53ff15f2e9b95284833ccff104377f191f8d348', '0x953045d1900a32a2e33b496deb9404763955788f20b894dc9607a8518c0a3af6', '0x953045d1900a32a2e33b496deb9404763955788f20b894dc9607a8518c0a3af6', '0x7d6dd4dd9370ba616167eab32404c9472275c84e813aa2557784116ec6e1e17a', '0x7d6dd4dd9370ba616167eab32404c9472275c84e813aa2557784116ec6e1e17a', '0x776b10145214722c65a96ace736fd54d5003745ad31cc7a89c9fff1d01a852f9', '0x776b10145214722c65a96ace736fd54d5003745ad31cc7a89c9fff1d01a852f9', '0xe735a47ae2556998e02d5d20f07176514032c1268cac1493193ed7f0833676d0', '0xe735a47ae2556998e02d5d20f07176514032c1268cac1493193ed7f0833676d0', '0xe7e6198c45477c812e9496b2f2bdd6e4fe15d7e4e778d6d4374c42001282ff7e', '0xe7e6198c45477c812e9496b2f2bdd6e4fe15d7e4e778d6d4374c42001282ff7e', '0x946f6783c10a9d8f8683177e605180e9a590fd1e9b894c7f4efe42b2a18d6d5c', '0x946f6783c10a9d8f8683177e605180e9a590fd1e9b894c7f4efe42b2a18d6d5c', '0x33345ebb371a3a594b62e9d88fcfa74e6ad7b16341eb6eb7b26fdd66149511ee', '0x33345ebb371a3a594b62e9d88fcfa74e6ad7b16341eb6eb7b26fdd66149511ee', '0x24811773675bd8dd0ddd5bf189fc3b3f4792e9167fb698c89d646fda61f48de8', '0x24811773675bd8dd0ddd5bf189fc3b3f4792e9167fb698c89d646fda61f48de8', '0x6e9b50b151338be482caab265e2673ee0618ac64ed16fdd0e64f4fa901312382', '0x6e9b50b151338be482caab265e2673ee0618ac64ed16fdd0e64f4fa901312382', '0x1a391502600fa7548b0a5ac32acf10d5ae1e2f42a581888cc5dda874eb920793', '0x1a391502600fa7548b0a5ac32acf10d5ae1e2f42a581888cc5dda874eb920793', '0x28ff985199e8b8901bc2ef302f5144178b8806a218ce38d77a34dd5fd6f96f07', '0x28ff985199e8b8901bc2ef302f5144178b8806a218ce38d77a34dd5fd6f96f07', '0x05abc5ef4e094eac813ee47ea5420bae6151fa530a1e739f47d580c81e188df0', '0x05abc5ef4e094eac813ee47ea5420bae6151fa530a1e739f47d580c81e188df0', '0x2de787d7d9417f5b95043ea9360b99396418c20b28f604d61e1293c02df81507', '0x97f8eb6a1dae61fc4a26ce1ea4641e2389151e1f873013017ea1b51c81601eca', '0x2de787d7d9417f5b95043ea9360b99396418c20b28f604d61e1293c02df81507', '0x97f8eb6a1dae61fc4a26ce1ea4641e2389151e1f873013017ea1b51c81601eca', '0x96c07f8c32bfff7f3d6b265c9f1599d69a49ddc5a5ae688ef3605a905c0a9834', '0x96c07f8c32bfff7f3d6b265c9f1599d69a49ddc5a5ae688ef3605a905c0a9834', '0x3abbdadee52389cb99c62216492d35b031f69197cbadc25388bdf9e71a08408a', '0x3abbdadee52389cb99c62216492d35b031f69197cbadc25388bdf9e71a08408a', '0x29213793ab8529d651d0f5228900812c436b6fd25b9a853ffdc2807771ce7c3d', '0x29213793ab8529d651d0f5228900812c436b6fd25b9a853ffdc2807771ce7c3d', '0x96e081d2c6814b89c582ae10adc3e5d67ce8145b1f28a535d3dc41f9c5b99e2f', '0x96e081d2c6814b89c582ae10adc3e5d67ce8145b1f28a535d3dc41f9c5b99e2f', '0xfefcddf312c8a579165df32571a34dbb286b3b37efc46e66d2f05c9203218703', '0xfefcddf312c8a579165df32571a34dbb286b3b37efc46e66d2f05c9203218703', '0xd579fd71a6f72f94667dfd6fc35a72d65dcdaca6a72fa8186c27191dff3a5862', '0xd579fd71a6f72f94667dfd6fc35a72d65dcdaca6a72fa8186c27191dff3a5862', '0x53c3acc592ec997ccb17fa19d332b048e0fd29a3aeeae6d470fa890eacb6a4b9', '0x53c3acc592ec997ccb17fa19d332b048e0fd29a3aeeae6d470fa890eacb6a4b9', '0x5e8e89a0371548362d200c620bf04dfe3e1d0ba3c06dd6e5dd1233f5d19aa0f1', '0x5e8e89a0371548362d200c620bf04dfe3e1d0ba3c06dd6e5dd1233f5d19aa0f1', '0x7c0bcce58c59d33a71c9524dbfddb910a4fb80e31afa7bf7f39b3c7c22c760b7', '0x7c0bcce58c59d33a71c9524dbfddb910a4fb80e31afa7bf7f39b3c7c22c760b7', '0x2eaa3dd08d195e6e6bd9dc4b80e32938737bd6162f284047c6ca0fc2fa7f4ed7', '0x2eaa3dd08d195e6e6bd9dc4b80e32938737bd6162f284047c6ca0fc2fa7f4ed7', '0xe0e106045fdd1b2d392dd76c0f96922c6103ec7aacd0cf1305941227a02b3d4b', '0xe0e106045fdd1b2d392dd76c0f96922c6103ec7aacd0cf1305941227a02b3d4b', '0x3b055ca230ddf39fc8bbdcab09f7bda2e74cc4c027b2f6114bfa43ecd239ca30', '0x3b055ca230ddf39fc8bbdcab09f7bda2e74cc4c027b2f6114bfa43ecd239ca30', '0xe981a58eb2d75c2b3d339c39bc219e07d6e3fc2bd5306b62a49ebe0479b09990', '0xe981a58eb2d75c2b3d339c39bc219e07d6e3fc2bd5306b62a49ebe0479b09990', '0x6106a58388b53709cac5e740d760632d7defe5624d4d6ed7c1226d7be5a39b59', '0x6106a58388b53709cac5e740d760632d7defe5624d4d6ed7c1226d7be5a39b59', '0x02eca109e39ed4a48e983a569bf4167eec7fb7c889f9829065b97efced074bfb', '0x02eca109e39ed4a48e983a569bf4167eec7fb7c889f9829065b97efced074bfb', '0x8e454e1044c82bddf503f531dcf5b4eca5d795c19f2c6862a7635cb5b192e1c8', '0x8e454e1044c82bddf503f531dcf5b4eca5d795c19f2c6862a7635cb5b192e1c8', '0xd96237f6ab109399c385df4c370451a044ae1e6b934846ca38d0d9f095151a6f', '0xd96237f6ab109399c385df4c370451a044ae1e6b934846ca38d0d9f095151a6f', '0x9512859ed9cb8dfdf1f78ba76b7f0d25030928950c40cc9ab340d0fa376e9681', '0x9512859ed9cb8dfdf1f78ba76b7f0d25030928950c40cc9ab340d0fa376e9681', '0x42411993fe06f115d71d07406bd6f3ac42198e042b2425c3c5c55b0d9e3b6b49', '0x42411993fe06f115d71d07406bd6f3ac42198e042b2425c3c5c55b0d9e3b6b49', '0x95cb09dcf48aed2027ba7667eb3465dd7d97a9f01168ed06ab12ac655c3217ea', '0x95cb09dcf48aed2027ba7667eb3465dd7d97a9f01168ed06ab12ac655c3217ea', '0x7e412005bcd474754ddb13218425bb15fe949d8c97a15876681ee7a8ca11f01c', '0x7e412005bcd474754ddb13218425bb15fe949d8c97a15876681ee7a8ca11f01c', '0xafbe218da29eaa37c7e25ee349c7f76e4807fa8ddffc5a5f5325490ddd63ecd8', '0xafbe218da29eaa37c7e25ee349c7f76e4807fa8ddffc5a5f5325490ddd63ecd8', '0xe09b0c2953c7a995abcd762e89679a16d581ff415983c8743d2e0c0a95ee063b', '0xe09b0c2953c7a995abcd762e89679a16d581ff415983c8743d2e0c0a95ee063b', '0x050cdbeb0e3d3f40e6f58884e5a9dea1f275077e82a6dd655509eda81218c35b', '0x050cdbeb0e3d3f40e6f58884e5a9dea1f275077e82a6dd655509eda81218c35b', '0x23f9cf1ec28b43295937bbc2bbc7cbb39f797ef0c39d446b0a36c40c305667d0', '0x23f9cf1ec28b43295937bbc2bbc7cbb39f797ef0c39d446b0a36c40c305667d0', '0x480583bb2276a2a5e97b8fc7d7134bc231c952219b7fbc6f7b2e06f3c536b258', '0x480583bb2276a2a5e97b8fc7d7134bc231c952219b7fbc6f7b2e06f3c536b258', '0x73ebc7dbcb2a667ea75f68e5da5744002edbfc8ca4ae28d2dfe97a7b15988269', '0x73ebc7dbcb2a667ea75f68e5da5744002edbfc8ca4ae28d2dfe97a7b15988269', '0x3081e60c3f12c67a5ab3db14db8d221073f89090e4985b2690ddc9c2a86f71f4', '0x3081e60c3f12c67a5ab3db14db8d221073f89090e4985b2690ddc9c2a86f71f4', '0x3f78a55db9c3674dbcaabc8d764c50fe5d580a12366aa626c71454769413fa30', '0x3f78a55db9c3674dbcaabc8d764c50fe5d580a12366aa626c71454769413fa30', '0x3a405844138a5dbfa0bd1b6a0d39b4c27712f542e713ccb3265679474ec3d9c6', '0x3a405844138a5dbfa0bd1b6a0d39b4c27712f542e713ccb3265679474ec3d9c6', '0x8d0c45c6d0cd3d463987aa0482af9831a4a6ee9311bacff45e7d75f5e0f9f8b0', '0x8d0c45c6d0cd3d463987aa0482af9831a4a6ee9311bacff45e7d75f5e0f9f8b0', '0xab1c6386c2f6f8fc3a65aea08b38806fa17b896945c481b72398de0aeee07e1d', '0xab1c6386c2f6f8fc3a65aea08b38806fa17b896945c481b72398de0aeee07e1d', '0x41557f86ef6ef514f2e1205ee6ff26dad7f1a4aae1491362244617e1707d5c20', '0x41557f86ef6ef514f2e1205ee6ff26dad7f1a4aae1491362244617e1707d5c20', '0xd9cf5440b779d468296c8e1de1918009c1b6ab7b4274e3b535cbecedac7cc596', '0xd9cf5440b779d468296c8e1de1918009c1b6ab7b4274e3b535cbecedac7cc596', '0xb5d0df4c5d65d62cb0da2d5096952d5c9bf4b9fcc51b17ce5ecac642d38bfe1e', '0xb5d0df4c5d65d62cb0da2d5096952d5c9bf4b9fcc51b17ce5ecac642d38bfe1e', '0xd6d707c3f41e1b2e81317683fe552c3e9cdb44ce713d2b3b0458ea48c4ff21cd', '0xd6d707c3f41e1b2e81317683fe552c3e9cdb44ce713d2b3b0458ea48c4ff21cd', '0x2bfc5c0ac15959f6ee5d6f4afeeeb67f16f6105c46d4b31a77711ea213c51cb2', '0x2bfc5c0ac15959f6ee5d6f4afeeeb67f16f6105c46d4b31a77711ea213c51cb2', '0x672335aac0e6507840ef94abb25ed5c0fa1df46a8b1ba4d29fb6b50f61740c01', '0x672335aac0e6507840ef94abb25ed5c0fa1df46a8b1ba4d29fb6b50f61740c01', '0xca83a485fc3326ec255d5b8645406fedaedd26d288189d4b9d2c646ea998639d', '0xca83a485fc3326ec255d5b8645406fedaedd26d288189d4b9d2c646ea998639d', '0x2457c454a39f0c56c6a63ba9ba8ad3d351cfa29e4ecf58cfb1869e0f282f5de1', '0x2457c454a39f0c56c6a63ba9ba8ad3d351cfa29e4ecf58cfb1869e0f282f5de1', '0xbb21cdd3fd0b1f7b3f5da3469da094334408a20551f108bbc8e641c2ffbc1ea8', '0xbb21cdd3fd0b1f7b3f5da3469da094334408a20551f108bbc8e641c2ffbc1ea8', '0x9649ae2c53aae4a47ddc4ed9c0f0658f8a4ce6f734984164cf90c7981fd7cb16', '0x9649ae2c53aae4a47ddc4ed9c0f0658f8a4ce6f734984164cf90c7981fd7cb16', '0xa8cff29fd3998e00f11aac596f417d40d6275f4d364d2744651bd24b54941271', '0xa8cff29fd3998e00f11aac596f417d40d6275f4d364d2744651bd24b54941271', '0x13b633b573cfb3622df654c7aec5291fb556dfa64162fee1dc66426393ec5e28', '0x13b633b573cfb3622df654c7aec5291fb556dfa64162fee1dc66426393ec5e28', '0x67ec288d0e748986df862201c528501dd22c17580002adf533bc20a75b3601bc', '0x67ec288d0e748986df862201c528501dd22c17580002adf533bc20a75b3601bc', '0x34abab5c6503038a73e4206f2d3bd52f577e65a6f68066e6d1f0be2acd8b53ab', '0x34abab5c6503038a73e4206f2d3bd52f577e65a6f68066e6d1f0be2acd8b53ab', '0xe5a205b513de9b11b8179d5f73f30d03d610b207f313603e2a69e86f2b792030', '0xe5a205b513de9b11b8179d5f73f30d03d610b207f313603e2a69e86f2b792030', '0x262a119fe4fc5c1edaf656bc9a26de1356eb4f9de94795dd04a4d24d76daa7f2', '0x262a119fe4fc5c1edaf656bc9a26de1356eb4f9de94795dd04a4d24d76daa7f2', '0x583d0956939e2be4ee5e147cce7a7e6c6c2e4f985917cd89e672ee8de722b933', '0x583d0956939e2be4ee5e147cce7a7e6c6c2e4f985917cd89e672ee8de722b933', '0xe5f94b5e5599a5177f158a8d1d6538dd766b59f6b242e57f0d4babaaa4fdbcd4', '0xe5f94b5e5599a5177f158a8d1d6538dd766b59f6b242e57f0d4babaaa4fdbcd4', '0xed4e71b0b9a8711e801cb857f2bd9b00fa43428eb21fbedf4509e61796131a28', '0xed4e71b0b9a8711e801cb857f2bd9b00fa43428eb21fbedf4509e61796131a28', '0x14c3a9758c35510c0ca28b147cf6801870aed69db9ee748a562580abdea657fd', '0x14c3a9758c35510c0ca28b147cf6801870aed69db9ee748a562580abdea657fd', '0xd6f6b95717bdf08e69779d1755758b09f3974dde374e4e33db4507716613983c', '0xd6f6b95717bdf08e69779d1755758b09f3974dde374e4e33db4507716613983c', '0x71af5042a9e8a10ad15b94ff50a7407641cc00f501ca77296c22597656a566c1', '0x71af5042a9e8a10ad15b94ff50a7407641cc00f501ca77296c22597656a566c1', '0x0ddd3ab9ac9e41aba1db544a05ff5b30c09c0998d409136a28cdf9b299e21bf0', '0x0ddd3ab9ac9e41aba1db544a05ff5b30c09c0998d409136a28cdf9b299e21bf0', '0xde5415490ffcb6247c1531cdb74e0aa9a12442c9e84f51b41af03394c4a6d69a', '0xde5415490ffcb6247c1531cdb74e0aa9a12442c9e84f51b41af03394c4a6d69a', '0xa8760446c76311f5b8e7cd0e1456d7b56d3fe1503da0416c7e2872b1fcab5865', '0xa8760446c76311f5b8e7cd0e1456d7b56d3fe1503da0416c7e2872b1fcab5865', '0xb30ee786add3d34a96b000e8c71f3b88cc5ade0e5c0582667cc4260c88ab95b3', '0xb30ee786add3d34a96b000e8c71f3b88cc5ade0e5c0582667cc4260c88ab95b3', '0x536938cb8ff873e4f3018dd57f424c107e9f604bd28dff1a44b68a0ef31754b6', '0x536938cb8ff873e4f3018dd57f424c107e9f604bd28dff1a44b68a0ef31754b6', '0xb499aba65b8f5634937cee3f87b556775519a1090e2b26a6c320d646cb4be85f', '0xb499aba65b8f5634937cee3f87b556775519a1090e2b26a6c320d646cb4be85f', '0x8b57dbaf390a461631f34a82afbffec7089cf3cf038a210158c71bf2b04f2a46', '0x8b57dbaf390a461631f34a82afbffec7089cf3cf038a210158c71bf2b04f2a46', '0xf0cacd7c55b93e6d831eff4d4af1f61acc9091d0894f3f08f171be36aca7152d', '0xf0cacd7c55b93e6d831eff4d4af1f61acc9091d0894f3f08f171be36aca7152d', '0x42826ef7fa9b76092f2a0f428f44778af1b8c41c51b8ba59acc3daaa90d6ea43', '0x42826ef7fa9b76092f2a0f428f44778af1b8c41c51b8ba59acc3daaa90d6ea43', '0xec057aabbd7b0f8078e280bca5847896677c577848e26be6369a32faa42606fc', '0xec057aabbd7b0f8078e280bca5847896677c577848e26be6369a32faa42606fc', '0x6d0255afc9850e3f1cca63b60c1a9ca243d7d948c27ea6873b6f5e9eb412fc09', '0x6d0255afc9850e3f1cca63b60c1a9ca243d7d948c27ea6873b6f5e9eb412fc09', '0xb0a8970fcb47383f0419ff42ee4e5f81f6d487101d20ce1219d069ec8a8c0145', '0xb0a8970fcb47383f0419ff42ee4e5f81f6d487101d20ce1219d069ec8a8c0145', '0xd1e989bd35f4f82d6550b6c6760b162df72a3b783208f9876d13f06c1a8f993e', '0xd1e989bd35f4f82d6550b6c6760b162df72a3b783208f9876d13f06c1a8f993e', '0xd98a0945868f65beb191b384ac0c2548ba040f5eed7905cfbd39beed0d038f5e', '0xd98a0945868f65beb191b384ac0c2548ba040f5eed7905cfbd39beed0d038f5e', '0x7ef7d0d72c845b15057360a6e965f4d36a0ee9c513dc92145812c5077b45b9c5', '0x7ef7d0d72c845b15057360a6e965f4d36a0ee9c513dc92145812c5077b45b9c5', '0x55c2714608f1ea9ab127abf4cb4180d67d581e4367f88c3ff18f65a7a925edb3', '0x55c2714608f1ea9ab127abf4cb4180d67d581e4367f88c3ff18f65a7a925edb3', '0x9b133a2324fde4fab5db75c09747bc1db43a2389f39f2e1078a188a006a0c115', '0x9b133a2324fde4fab5db75c09747bc1db43a2389f39f2e1078a188a006a0c115', '0xc7cbdecf6ee2f5d11997ea3ef994c40acff9a9a47e4e3f8bea3b0b1796edc18a', '0xc7cbdecf6ee2f5d11997ea3ef994c40acff9a9a47e4e3f8bea3b0b1796edc18a', '0xf9ddd7aeed365e47085ac75e6f371bbf37525da6ca7df92e126879b1117a5f8b', '0xf9ddd7aeed365e47085ac75e6f371bbf37525da6ca7df92e126879b1117a5f8b', '0x93f86922a42ac7199c6c1a5b00a6c630e28d809c24561888e856be496e6ca1f3', '0x93f86922a42ac7199c6c1a5b00a6c630e28d809c24561888e856be496e6ca1f3', '0x0981f1b75bfa58d9feb022c54044ce597003d53213574ec4b6c16c51c2bd79bc', '0x0981f1b75bfa58d9feb022c54044ce597003d53213574ec4b6c16c51c2bd79bc', '0x2977c8d9346fb25b071caf337757380fc1e160a6a016d0f6d31403169cc918b8', '0x2977c8d9346fb25b071caf337757380fc1e160a6a016d0f6d31403169cc918b8', '0x5a444d39c763e74a9aa9403e698be046dc4c9bb45b9a2a01d2e05bcf89d828d5', '0x5a444d39c763e74a9aa9403e698be046dc4c9bb45b9a2a01d2e05bcf89d828d5', '0x54d175bb740fd90d94afcb8426ad54fbf864b94a71f96b6a64d0a5f26d1c243c', '0x54d175bb740fd90d94afcb8426ad54fbf864b94a71f96b6a64d0a5f26d1c243c', '0x208b45d49f9dd90c55d98635fcc18362c94b666a87f7fa6f62ac75a6e7a09020', '0x208b45d49f9dd90c55d98635fcc18362c94b666a87f7fa6f62ac75a6e7a09020', '0x0a6dd996c2b40f379fd2fd4dc67215105ea8b35a932ed36dae07bc3a8dd630ca', '0x0a6dd996c2b40f379fd2fd4dc67215105ea8b35a932ed36dae07bc3a8dd630ca', '0xbd10af05a5a8e66eab559ee672646ab9f49c0599f5692c8e5ac1b6a6e5159db6', '0xbd10af05a5a8e66eab559ee672646ab9f49c0599f5692c8e5ac1b6a6e5159db6', '0x86e028052582877ae022b545a4703da2a0e8aa867055b4e02340fcd252a11962', '0x86e028052582877ae022b545a4703da2a0e8aa867055b4e02340fcd252a11962', '0x3939ec7760d0aa07b5a1b654b4c2e0fa93b3abfb8b33df1661d15da5fb8926f9', '0x3939ec7760d0aa07b5a1b654b4c2e0fa93b3abfb8b33df1661d15da5fb8926f9', '0x3e6f5620aefbd62aa3195d284e2a3ed252db18ff0f9da358b7cf5ca0473de833', '0x3e6f5620aefbd62aa3195d284e2a3ed252db18ff0f9da358b7cf5ca0473de833', '0xd2bfb8f3a976e9bcd4c86418cb91461a24a3481d2c523d119f5dd37d51e290e2', '0xd2bfb8f3a976e9bcd4c86418cb91461a24a3481d2c523d119f5dd37d51e290e2', '0xbe1cf30d325a20dc62154b99b57852df98319e45fe346cac2c6f048a59b4c014', '0xbe1cf30d325a20dc62154b99b57852df98319e45fe346cac2c6f048a59b4c014', '0xbc34aed76f49b290a621e952793ff78591ba1d024e2f6b19314a9bceabfa8656', '0xbc34aed76f49b290a621e952793ff78591ba1d024e2f6b19314a9bceabfa8656', '0x162f700b79f23d2e01e90e04037c7098d160aa9ebaaa2b41d1bea247d2f72252', '0x162f700b79f23d2e01e90e04037c7098d160aa9ebaaa2b41d1bea247d2f72252', '0x3219c8e0ef204c9b08cad6d09fa2e84c5a0eab5bf532e53186d88e0ee4ca5850', '0x3219c8e0ef204c9b08cad6d09fa2e84c5a0eab5bf532e53186d88e0ee4ca5850', '0x29d82d506a876f0383f90eb2e3f43fc20ccfe03a9caf8fad2c60ad5165a45d78', '0x29d82d506a876f0383f90eb2e3f43fc20ccfe03a9caf8fad2c60ad5165a45d78', '0x6652d75c4844e775771209dfb93c2c435c935b80382c8680ab803f4acb4b844a', '0x6652d75c4844e775771209dfb93c2c435c935b80382c8680ab803f4acb4b844a', '0x4c2de293271cea2db3ca2d09fcdfc0160e0f18a18ca957bc7d4287949b071bdd', '0x4c2de293271cea2db3ca2d09fcdfc0160e0f18a18ca957bc7d4287949b071bdd', '0x81d8d2c5fed78edad7d84edd429a5dad5c32e1308dc932ab5495b19f27b275a0', '0x81d8d2c5fed78edad7d84edd429a5dad5c32e1308dc932ab5495b19f27b275a0', '0x69bc1f37148adc0b62b7109e40c58481684e9379a9670549cd11683f039cd17f', '0x69bc1f37148adc0b62b7109e40c58481684e9379a9670549cd11683f039cd17f', '0x33b9675623764b4671ac1f0fef933dccf46818d06cc6c29e0d49f73125064d90', '0x33b9675623764b4671ac1f0fef933dccf46818d06cc6c29e0d49f73125064d90', '0xd2bd0f1d37859993abca7f9c5c2bb241a48f5c1c16a7ef6474910124c73a6d7a', '0xd2bd0f1d37859993abca7f9c5c2bb241a48f5c1c16a7ef6474910124c73a6d7a', '0xc236532f00a65894684ccf75c7018ffb39a5693f11a7947e67e2c475bd06c242', '0xc236532f00a65894684ccf75c7018ffb39a5693f11a7947e67e2c475bd06c242', '0x9334f89f849cd041b49bce19bc404531c623eb0e6a98165e9a01c24a0f81b150', '0x9334f89f849cd041b49bce19bc404531c623eb0e6a98165e9a01c24a0f81b150', '0x4d5cef4209f2530c3be3c842356373d1e4c50582316e6a03d391b2b1a6281ce5', '0x4d5cef4209f2530c3be3c842356373d1e4c50582316e6a03d391b2b1a6281ce5', '0x4919c677639520f3a13e7cc9012db5362c2b7821538cf28ed73e83c0e9a05a95', '0x4919c677639520f3a13e7cc9012db5362c2b7821538cf28ed73e83c0e9a05a95', '0xa67113eeacc203d99ecf432c3ecefcf3d4643e72713a7e3497cce0db61733087', '0xa67113eeacc203d99ecf432c3ecefcf3d4643e72713a7e3497cce0db61733087', '0x0a863122323e1986e565588f9278b2afc2ac457f97adb306ab6fcb4f6c8c692a', '0x0a863122323e1986e565588f9278b2afc2ac457f97adb306ab6fcb4f6c8c692a', '0x8006ec146d326da5dda94a3056ca1bbf063a64b2bda053483e1b48a8a02d254b', '0x8006ec146d326da5dda94a3056ca1bbf063a64b2bda053483e1b48a8a02d254b', '0x3b0e655abf2893bf85f0ec75dbc38841472ec25a8a5e67cceb53a452c84a1fc7', '0x3b0e655abf2893bf85f0ec75dbc38841472ec25a8a5e67cceb53a452c84a1fc7', '0xe1866c886e0fb1d53385395c651bcf92f52ef2f6a7e2c47db6e8903e8f8375f8', '0xe1866c886e0fb1d53385395c651bcf92f52ef2f6a7e2c47db6e8903e8f8375f8', '0xa8fa638c1d5c243f2c5f6fc401eca8df60f30ea53189ef1ba28ece8370623198', '0xa8fa638c1d5c243f2c5f6fc401eca8df60f30ea53189ef1ba28ece8370623198', '0x65d69391859c0d1a92ac04d692d3b98f26f5044bde5a3b8fc168195581fc301d', '0x65d69391859c0d1a92ac04d692d3b98f26f5044bde5a3b8fc168195581fc301d', '0x21b0d5ef4b5a3b8c1d4146d28676a682fe8d56e53420c4ebc9d9071f3378fa0f', '0x21b0d5ef4b5a3b8c1d4146d28676a682fe8d56e53420c4ebc9d9071f3378fa0f', '0x03b33a7dce9f8e62cae1ed1063d74f05fb434010114dc482014a6ad3d36363fb', '0x03b33a7dce9f8e62cae1ed1063d74f05fb434010114dc482014a6ad3d36363fb', '0x5c5e533320189d28a95822ecf771c2d9e351ec482984e9a0aff86b7216b76e0f', '0x5c5e533320189d28a95822ecf771c2d9e351ec482984e9a0aff86b7216b76e0f', '0xe2d577a20fffa11bd212a6cfa1da6341aa522a45c3de816b91ed22a33f9b62f9', '0xe2d577a20fffa11bd212a6cfa1da6341aa522a45c3de816b91ed22a33f9b62f9', '0x76641f12c9ed71830fec2df6f1527c0d9fc8ba05c4fa71b9d49827dbcdebc7a1', '0x76641f12c9ed71830fec2df6f1527c0d9fc8ba05c4fa71b9d49827dbcdebc7a1', '0xf1f7855c5108abec889ca596bbb58562662dfb6a1bf6e714585ea68afade3941', '0xf1f7855c5108abec889ca596bbb58562662dfb6a1bf6e714585ea68afade3941', '0x03340f787ab34e5f57cdbdc8c5197b188556b3b55fa4b6006fba89588e3b6e13', '0x03340f787ab34e5f57cdbdc8c5197b188556b3b55fa4b6006fba89588e3b6e13', '0x6d27b1ff0adef21b68d1b9f373b6c9b1ae4823ce21f0e4605f72fcfb39320736', '0x6d27b1ff0adef21b68d1b9f373b6c9b1ae4823ce21f0e4605f72fcfb39320736', '0x2113eb6c752653b10704623604e3d91924f41b65567c0a68a8b0f16d8175332a', '0x2113eb6c752653b10704623604e3d91924f41b65567c0a68a8b0f16d8175332a', '0x05b4491444fbc29b046381b25eaede778a02e81fc64953fec5d2df26f23ff671', '0x05b4491444fbc29b046381b25eaede778a02e81fc64953fec5d2df26f23ff671', '0xc86464ae25d065f3c20d2358553bf0a808e212450b7f5d12380407256813c54a', '0xc86464ae25d065f3c20d2358553bf0a808e212450b7f5d12380407256813c54a', '0x4a1ff10c9611274ac4e2d78c66ee2b27e42c184ae16270a26df0864c2c34e46c', '0x4a1ff10c9611274ac4e2d78c66ee2b27e42c184ae16270a26df0864c2c34e46c', '0xf226e60914acbcc8638b78697e41409a819ca242157767fd5d2c2bd6bf5379d3', '0xf226e60914acbcc8638b78697e41409a819ca242157767fd5d2c2bd6bf5379d3', '0xa01caad8ecdad2be5c7952e6a14e29ba14b190d0fc79b8d7fd7f7b9f649fcd3d', '0xa01caad8ecdad2be5c7952e6a14e29ba14b190d0fc79b8d7fd7f7b9f649fcd3d', '0xc7f7182338564aa08143563aabca8a4825d2cc24f893236c525e5cd15b019c67', '0xc7f7182338564aa08143563aabca8a4825d2cc24f893236c525e5cd15b019c67', '0x20c39f4e43bed9dc9ea7eca7b8ea58d540db4795651d5afa99f07e0f7529ed4c', '0x20c39f4e43bed9dc9ea7eca7b8ea58d540db4795651d5afa99f07e0f7529ed4c', '0xc1bb3a28d3cf8483cf317c21b4afbb148800f6aa37bb6881244de8e9b5f46824', '0xc1bb3a28d3cf8483cf317c21b4afbb148800f6aa37bb6881244de8e9b5f46824', '0x27519e558a3d5b0267b77d8c46d4038ef5e29f0feb1604718df6955c9a9d3107', '0x27519e558a3d5b0267b77d8c46d4038ef5e29f0feb1604718df6955c9a9d3107', '0x6b7eb8ae5ad0f280b116b3e70a723255f0b8d8bb05df15b3101c79a1e3b9b4fb', '0x6b7eb8ae5ad0f280b116b3e70a723255f0b8d8bb05df15b3101c79a1e3b9b4fb', '0x55dd5cc99e472a235d7ca3b76aa149a2bd6b8a2017138f89267cded8d2c1f687', '0x55dd5cc99e472a235d7ca3b76aa149a2bd6b8a2017138f89267cded8d2c1f687', '0xa002a0b4c52c4ff5e0c08c7ac711d03cc9239ac2d99a8512c9ad07f3a8b81e3e', '0xa002a0b4c52c4ff5e0c08c7ac711d03cc9239ac2d99a8512c9ad07f3a8b81e3e', '0xadd41c876f2bfac326040961d8fa58b8e09158f69064c6944c1e3c3c4f00bd30', '0xadd41c876f2bfac326040961d8fa58b8e09158f69064c6944c1e3c3c4f00bd30', '0x91fc98737aa9c9c57f1cb058e4c1c4ecef6918b850a237a38e660a14db8074eb', '0x91fc98737aa9c9c57f1cb058e4c1c4ecef6918b850a237a38e660a14db8074eb', '0xd381c1c607c1fd21a9cfb144ec7132581e27dcf13b7e05db1217f5734ca42eb2', '0xd381c1c607c1fd21a9cfb144ec7132581e27dcf13b7e05db1217f5734ca42eb2', '0x3ca0b7d450220b39bc7a7689b74bdacd16abf11cbf6175e4d1520ac8d1218931', '0x3ca0b7d450220b39bc7a7689b74bdacd16abf11cbf6175e4d1520ac8d1218931', '0x757471f45ea45e7512da08884d04e59a6397f64376d21ef143496058631d9887', '0x757471f45ea45e7512da08884d04e59a6397f64376d21ef143496058631d9887', '0xfa51abb286d9c461ba13a2b7b0d1dd595eee45d5a95ef77f0b33385f7ff479b9', '0xfa51abb286d9c461ba13a2b7b0d1dd595eee45d5a95ef77f0b33385f7ff479b9', '0x920e7ecdd8be293e8d477033cd5edc10584ae023d257eb4030a9ff0d44cf320f', '0x920e7ecdd8be293e8d477033cd5edc10584ae023d257eb4030a9ff0d44cf320f', '0xbc9963311b053023827132385a0345b594f04e9a8b372d97832a80cb47a4694d', '0xbc9963311b053023827132385a0345b594f04e9a8b372d97832a80cb47a4694d', '0x20027c8a234d323486e84f814d53b0a726de398ffd3f3b2acc010dab1a5bf7a1', '0x20027c8a234d323486e84f814d53b0a726de398ffd3f3b2acc010dab1a5bf7a1', '0xc847a2adacb97f0d2acbc87559e282763d45f8adfb131bf7f857b117f5c298a7', '0xc847a2adacb97f0d2acbc87559e282763d45f8adfb131bf7f857b117f5c298a7', '0xf7e992d5ff16570e138ef74307d31f17048fde0e79e509ea4bcf6636d9481317', '0xf7e992d5ff16570e138ef74307d31f17048fde0e79e509ea4bcf6636d9481317', '0x2536de78a9fe76cb087ccfe11a590c3ab7940cf778387299466252ecd5f12e78', '0x2536de78a9fe76cb087ccfe11a590c3ab7940cf778387299466252ecd5f12e78', '0xaf9fd23af7ac2467389687806fb384e26203ec1b47b937c4b8f061fd19ac97ae', '0xaf9fd23af7ac2467389687806fb384e26203ec1b47b937c4b8f061fd19ac97ae', '0x461be6a37360a8c18f292c6a7d0985911dc2064e05d3e713ac07d4ba9cb647e2', '0x461be6a37360a8c18f292c6a7d0985911dc2064e05d3e713ac07d4ba9cb647e2', '0xb3cb70d4e9c04888464b1cb0bd54ea3fc7cb5a36154f2cfcf0abc380e89e83b1', '0xb3cb70d4e9c04888464b1cb0bd54ea3fc7cb5a36154f2cfcf0abc380e89e83b1', '0x3c5857e8d669b11b1c91a61cc726acb4c4661ef9fd396ec07775f1941974d794', '0x3c5857e8d669b11b1c91a61cc726acb4c4661ef9fd396ec07775f1941974d794', '0xde18982decd2f1eca3b67a897d98faa35c8dc0adcc276fd36e2e59e698477c3e', '0xde18982decd2f1eca3b67a897d98faa35c8dc0adcc276fd36e2e59e698477c3e', '0x267db42f1ba5a0cb90eee4c29b88aebae0f09a74066221dd5a7836068ce19b22', '0x267db42f1ba5a0cb90eee4c29b88aebae0f09a74066221dd5a7836068ce19b22', '0xfec7fbac87cc28a64d54bdf9f6f74174de582a743e55aca318e1c4c1f9a7de74', '0xfec7fbac87cc28a64d54bdf9f6f74174de582a743e55aca318e1c4c1f9a7de74', '0xa787ad9cca34dae858c8456d8e1fcb10921ada1969b2d0f252162749f126003a', '0xa787ad9cca34dae858c8456d8e1fcb10921ada1969b2d0f252162749f126003a', '0xada91b4b1a0405ce23b5db224d2f66e8adc2f9a592cdb7ab703b1efe32259219', '0xada91b4b1a0405ce23b5db224d2f66e8adc2f9a592cdb7ab703b1efe32259219', '0x240054428454ab191b2db9ce27e0c720a1d67cff361eb9c97ae1ab849b30beb6', '0x240054428454ab191b2db9ce27e0c720a1d67cff361eb9c97ae1ab849b30beb6', '0x328a7905e138d46c90931cdf9445c8557107202a54a1f1da81a316b6b301d8ec', '0x328a7905e138d46c90931cdf9445c8557107202a54a1f1da81a316b6b301d8ec', '0x46a1edcc55a065d8ef5a13e42363616c51fa045c4112c765b1fedd3c3594ded0', '0x46a1edcc55a065d8ef5a13e42363616c51fa045c4112c765b1fedd3c3594ded0', '0x46a1edcc55a065d8ef5a13e42363616c51fa045c4112c765b1fedd3c3594ded0', '0x46a1edcc55a065d8ef5a13e42363616c51fa045c4112c765b1fedd3c3594ded0', '0x7866ce9a53c38f72e79d56d198655eb18985f70d5169281e18172bc1b50dc35d', '0x7866ce9a53c38f72e79d56d198655eb18985f70d5169281e18172bc1b50dc35d', '0x83a2769123ba089fc1c83d83326aff951752c32ee4d2f9c0f0a1649216fd2fa5', '0x83a2769123ba089fc1c83d83326aff951752c32ee4d2f9c0f0a1649216fd2fa5', '0xe27d328f51f50677f2693c40ae03f09f8c0443c912c5ab8a0552d9124444d9ba', '0xe27d328f51f50677f2693c40ae03f09f8c0443c912c5ab8a0552d9124444d9ba', '0x9c1e981bb3e7eec115f6ade9210e0d98b8478bbabec0061b219f56f0cafd5fb4', '0x9c1e981bb3e7eec115f6ade9210e0d98b8478bbabec0061b219f56f0cafd5fb4', '0x598aa86fa5b47aa37ed8df91793d904754d58c52323fe2bf619c431c79dded31', '0x598aa86fa5b47aa37ed8df91793d904754d58c52323fe2bf619c431c79dded31', '0x96ec436f6b76b3c27c85fc47d28c9319fabaa61be1b13264f613dc652eaf1da3', '0x96ec436f6b76b3c27c85fc47d28c9319fabaa61be1b13264f613dc652eaf1da3', '0x8b953361b53c6a0ff3b3a4ea649673b61be4d625e2d3ec5b4af8315d740876e9', '0x8b953361b53c6a0ff3b3a4ea649673b61be4d625e2d3ec5b4af8315d740876e9', '0xa8784c2e43844679c4ff3120281c91512fb94e562917421044372c02b60ecb45', '0xa8784c2e43844679c4ff3120281c91512fb94e562917421044372c02b60ecb45', '0x66673efce6e7dfed7abfd0fd9422cc1d351c701fd8a8f3c444fd9fdad9f833be', '0x66673efce6e7dfed7abfd0fd9422cc1d351c701fd8a8f3c444fd9fdad9f833be', '0x3e3aefe44d0876f9c93113e80f5462f27a74dbaf24fd6046407703ca3ce764d2', '0x3e3aefe44d0876f9c93113e80f5462f27a74dbaf24fd6046407703ca3ce764d2', '0xbc01bafa1d3b7e3656ebe518bbcff72d850c9ac127a620d5f85715340faa0dde', '0xbc01bafa1d3b7e3656ebe518bbcff72d850c9ac127a620d5f85715340faa0dde', '0x933aef2a00793a8205a6727466d3c814279ce4f08d669eb944bf7c12e961df5d', '0x933aef2a00793a8205a6727466d3c814279ce4f08d669eb944bf7c12e961df5d', '0x47a888077fed7044856d12502d45eaf14d35bd180a8d7b865c9aa68232804b44', '0x47a888077fed7044856d12502d45eaf14d35bd180a8d7b865c9aa68232804b44', '0x9a87783d3b42735abc198c13a2ffcb0926448f07a8ce19ed94472794c1c04109', '0x9a87783d3b42735abc198c13a2ffcb0926448f07a8ce19ed94472794c1c04109', '0x91fc61505714ce97659cec7e4156d2711fccacc7144de647c1273726855d9ce4', '0x91fc61505714ce97659cec7e4156d2711fccacc7144de647c1273726855d9ce4', '0x89a32ad4ff994f7bc7ff690d06b490f5a40db3740ab335e39cb2b571905427bd', '0x89a32ad4ff994f7bc7ff690d06b490f5a40db3740ab335e39cb2b571905427bd', '0xeb2a213ef776f587123f1e1f03a4297d5f970bc997e178c009b75bc76e87b930', '0xeb2a213ef776f587123f1e1f03a4297d5f970bc997e178c009b75bc76e87b930', '0xc5995bd9d38c2df9ba20ad647c04ed375960214be4ecef5c6a8423e8debb6bc7', '0xc5995bd9d38c2df9ba20ad647c04ed375960214be4ecef5c6a8423e8debb6bc7', '0xb03f73f534be05231109f034d0d1f6b34e192f4cca7a881e6cb5495672b5b7d0', '0xb03f73f534be05231109f034d0d1f6b34e192f4cca7a881e6cb5495672b5b7d0', '0x643394f4be6ae34f311501061b24b96f21b7941badaeaf58383550af5c17ddcc', '0x643394f4be6ae34f311501061b24b96f21b7941badaeaf58383550af5c17ddcc', '0xb32633e856a9cd7838df2c0a5bcc482c6e1053d71930bf862580cd21ecb56404', '0xb32633e856a9cd7838df2c0a5bcc482c6e1053d71930bf862580cd21ecb56404', '0x48186577b55b2f8392b35f152eb169a7d2838c47709a8835c89879469454c253', '0x48186577b55b2f8392b35f152eb169a7d2838c47709a8835c89879469454c253', '0xcaf67e87f1f03f19ec6bc8c3442647105d2b50cb602dd638bfb147bca1e1c23a', '0xcaf67e87f1f03f19ec6bc8c3442647105d2b50cb602dd638bfb147bca1e1c23a', '0xc1d5be61ffbf449440cc7ad5e17c8bdec92c7d0bf83484e01a6cdd766e8c46d3', '0xc1d5be61ffbf449440cc7ad5e17c8bdec92c7d0bf83484e01a6cdd766e8c46d3', '0x2d058e8aca8180fd7a48ce2482d2ea9cd71302cedc4689b97bb38e7240ad8dd8', '0x2d058e8aca8180fd7a48ce2482d2ea9cd71302cedc4689b97bb38e7240ad8dd8', '0x4439dfdbe9549c2e65f81de0fe5feb1b18ff58cc48ce0b31a9922ff112aff981', '0x4439dfdbe9549c2e65f81de0fe5feb1b18ff58cc48ce0b31a9922ff112aff981', '0xde9d8fe8bd620d1d936397183cec7dbba60630df55869f0b1b85545db30e8e45', '0xde9d8fe8bd620d1d936397183cec7dbba60630df55869f0b1b85545db30e8e45', '0x4898c3855d86f164abedc53b3fbd1a03d85c3235c2ddb0d909d9376cb77ec59c', '0x4898c3855d86f164abedc53b3fbd1a03d85c3235c2ddb0d909d9376cb77ec59c', '0xc9b3638caf8b6e255feec6bc25d925ad886224df83b2eddf7c75916ced515760', '0xc9b3638caf8b6e255feec6bc25d925ad886224df83b2eddf7c75916ced515760', '0xebf4236596e34844b45b1706c66d6c2c08195034a312108822836d905b4b5293', '0xebf4236596e34844b45b1706c66d6c2c08195034a312108822836d905b4b5293', '0x70538fa9e0bffddf5594cac71b2eb6e19364e105c15a3a30fc67501fc3122d69', '0x70538fa9e0bffddf5594cac71b2eb6e19364e105c15a3a30fc67501fc3122d69', '0xbc61c4c016167b6f50817b1d3d87d62d559a3c62fbdaa18d4494b9a0bb7702fe', '0xbc61c4c016167b6f50817b1d3d87d62d559a3c62fbdaa18d4494b9a0bb7702fe', '0xf5945581d7fc03bbb77c102ed448091c38d285784e92d1242f6dada9e03fb5b7', '0xf5945581d7fc03bbb77c102ed448091c38d285784e92d1242f6dada9e03fb5b7', '0x67da55f11d3c79a2ac6032ab35164f329e16b46441d29bb53c025e01a6e25eaa', '0x67da55f11d3c79a2ac6032ab35164f329e16b46441d29bb53c025e01a6e25eaa', '0x443995f72cc39e038a7d236c68fd8730164af0d76452b93f183300209adf1acf', '0x443995f72cc39e038a7d236c68fd8730164af0d76452b93f183300209adf1acf', '0x1b43a21a40a3dbd2378ad7c4b9ac2f2737ba7a86403eed871c34c8328cdabfc7', '0x1b43a21a40a3dbd2378ad7c4b9ac2f2737ba7a86403eed871c34c8328cdabfc7', '0xe242945cef075d4ab0da56e454d1f376f1f0ce0ee725ce5ebc7a9d4836b83697', '0xe242945cef075d4ab0da56e454d1f376f1f0ce0ee725ce5ebc7a9d4836b83697', '0x75afadd59e4f5a2f75beb3b7c82185488d2cf61c553894ac5d59499961023f47', '0x75afadd59e4f5a2f75beb3b7c82185488d2cf61c553894ac5d59499961023f47', '0x3483212ec33e2ff51d88ac91817746b08f9c5c92cb1abfeec5b6377f428aad5f', '0x3483212ec33e2ff51d88ac91817746b08f9c5c92cb1abfeec5b6377f428aad5f', '0xa8fe2d7bfae8225c84cf8c41ffa6fb76fe371626cb601547716f1b6db1728484', '0xa8fe2d7bfae8225c84cf8c41ffa6fb76fe371626cb601547716f1b6db1728484', '0x6599a6b169b65eaf921384e4bbc28bfb2c883aed5f87646e1428d714e8b15937', '0x6599a6b169b65eaf921384e4bbc28bfb2c883aed5f87646e1428d714e8b15937', '0x067b025bec7c59f5a6129c40aca569b96a87d61149caad4a67e651a54eb806f7', '0x067b025bec7c59f5a6129c40aca569b96a87d61149caad4a67e651a54eb806f7', '0x1ea1ec72bc49ebedaf9b09484639fb64b61f11928e50bee5d4ba7002ff369771', '0x1ea1ec72bc49ebedaf9b09484639fb64b61f11928e50bee5d4ba7002ff369771', '0x95707e7a2db84c10a47c7cc18f4c8dd52c90f923ca9de4f3d36e97ba18a09787', '0x95707e7a2db84c10a47c7cc18f4c8dd52c90f923ca9de4f3d36e97ba18a09787', '0xc7e0296fd1e5518a4e5779abd094f3bd2b168e13b266db9f9085e6066e1ae3ac', '0xc7e0296fd1e5518a4e5779abd094f3bd2b168e13b266db9f9085e6066e1ae3ac', '0x7b1586de2bf7370fca9d0e2c15e581521bba4d2c6f5fbb73548de679b81f1b49', '0x7b1586de2bf7370fca9d0e2c15e581521bba4d2c6f5fbb73548de679b81f1b49', '0x9b55fc9193b90401eb8f73a4457490a67e04ac6e8f93080b2a3ab68390de9018', '0x9b55fc9193b90401eb8f73a4457490a67e04ac6e8f93080b2a3ab68390de9018', '0x177ccde1b76dd9be500367d3bd308b1729c71615f0c00c852bc848db9e11dd77', '0x177ccde1b76dd9be500367d3bd308b1729c71615f0c00c852bc848db9e11dd77', '0x16460b5e748497a423cc520b26ee0a765229aeb6daa0943c3a6b19105a16f171', '0x16460b5e748497a423cc520b26ee0a765229aeb6daa0943c3a6b19105a16f171', '0xe332c2a9bce35d06c43ba58a69880c0607af363ea9a664b11ba8d69a41918e0d', '0xe332c2a9bce35d06c43ba58a69880c0607af363ea9a664b11ba8d69a41918e0d', '0x7bbbaae2c42f1ae3827710022c2aaafbf225347c819fc5e4c5edd28341604756', '0x7bbbaae2c42f1ae3827710022c2aaafbf225347c819fc5e4c5edd28341604756', '0x1a2695b58ec2ae11a96f4ee8d9f50f0db9bfcd1a97443d419bb417a463b6421e', '0x1a2695b58ec2ae11a96f4ee8d9f50f0db9bfcd1a97443d419bb417a463b6421e', '0xe30fa566f3aca118722c8110db58e18fd37f1bd9fe4be250f89e60adadfa9dfe', '0xe30fa566f3aca118722c8110db58e18fd37f1bd9fe4be250f89e60adadfa9dfe', '0xcb5b489bc1bf1d3d6bb3a59cc7e80a114fc3f14ea0e240f37505e5abd17c79e6', '0xcb5b489bc1bf1d3d6bb3a59cc7e80a114fc3f14ea0e240f37505e5abd17c79e6', '0x885729d3c1b498590361e1e3ac90e10e1d0c3101147458aacfa06128aa3fb53f', '0x885729d3c1b498590361e1e3ac90e10e1d0c3101147458aacfa06128aa3fb53f', '0xaced06aa3d769033847f4e2cd476cb12b2ecb707cb41f93c08222b84a994fad8', '0xaced06aa3d769033847f4e2cd476cb12b2ecb707cb41f93c08222b84a994fad8', '0x53c1267ac96b2727beecd9470af4adea89931ca5d405463aa8814ca14b15dbaf', '0x53c1267ac96b2727beecd9470af4adea89931ca5d405463aa8814ca14b15dbaf', '0xeb2407339d0fc02cee6da166e923337c916dd5c353dd02c4a8378599917cdce2', '0xeb2407339d0fc02cee6da166e923337c916dd5c353dd02c4a8378599917cdce2', '0xf7273d976238022033fd910c758bdad82e1199dd41369eee4de2de09d9737171', '0xf7273d976238022033fd910c758bdad82e1199dd41369eee4de2de09d9737171', '0xdca716e3eaa4026b555c2007d2a2a21b95d8e67ceef544511a06ea32b9be7d13', '0xdca716e3eaa4026b555c2007d2a2a21b95d8e67ceef544511a06ea32b9be7d13', '0xd953b3221e1cb3dbe7df456aaa698d06eb22a9341bfffe2f68d35598525f8c33', '0x34cc84280746202ec554520031b1d9f28732b4ba12eb0a351c042cb0c04f81d9', '0x34cc84280746202ec554520031b1d9f28732b4ba12eb0a351c042cb0c04f81d9', '0xd953b3221e1cb3dbe7df456aaa698d06eb22a9341bfffe2f68d35598525f8c33', '0xdaa10fad39ee6974dc292582642cffd2919c9ad191f152be33f4ac49b5eeaaec', '0xdaa10fad39ee6974dc292582642cffd2919c9ad191f152be33f4ac49b5eeaaec', '0xbd669c707d498236ce80e7306bd41b4c050e0c739d11a5e47d3fe448b77d71c7', '0xbd669c707d498236ce80e7306bd41b4c050e0c739d11a5e47d3fe448b77d71c7', '0x59761a69563e2abc9c7935f4564a0c756d7f8c7fcc89dd7806594bde5c8a7444', '0x59761a69563e2abc9c7935f4564a0c756d7f8c7fcc89dd7806594bde5c8a7444', '0x85921383f1a2b33a13f536667cb5c7a79017fa8a7b03c0d07ab28ddfcc4e6f17', '0x85921383f1a2b33a13f536667cb5c7a79017fa8a7b03c0d07ab28ddfcc4e6f17', '0x9ab43fe9861a79e0543fb031c979537bc2f06c675fbaf0db519aad90354a7363', '0x9ab43fe9861a79e0543fb031c979537bc2f06c675fbaf0db519aad90354a7363', '0x7be8e0edd15594e3762e23c0a8d8441ab8683f288760068a37be601a38da620c', '0x7be8e0edd15594e3762e23c0a8d8441ab8683f288760068a37be601a38da620c', '0x2d2a560828a4a18aa4767c52bfd48190497b89eca2a0897b6d45070cc48d4cbd', '0x2d2a560828a4a18aa4767c52bfd48190497b89eca2a0897b6d45070cc48d4cbd', '0x5bbbdc8438dfc9c54d08969b589666eadc81b21598049c8c68b60babccda9f9b', '0x5bbbdc8438dfc9c54d08969b589666eadc81b21598049c8c68b60babccda9f9b', '0x4bbde6719f589e294599687e8bfd2aa2f45103fdea512738fc1cebd0bdbd56f8', '0x4bbde6719f589e294599687e8bfd2aa2f45103fdea512738fc1cebd0bdbd56f8', '0xaf19b8f112e1331b35274b108b216f732c7202d2f1f6e1165bc52179326d4c23', '0xaf19b8f112e1331b35274b108b216f732c7202d2f1f6e1165bc52179326d4c23', '0x162b0464ef8f02d92e1e4607ed4544c4ce06a1c8956d05afe7947983224d0abb', '0x162b0464ef8f02d92e1e4607ed4544c4ce06a1c8956d05afe7947983224d0abb', '0x9e4e2fb550e3908748c58760a3cafdbf2613e8098df5b79c515840e010a452db', '0x9e4e2fb550e3908748c58760a3cafdbf2613e8098df5b79c515840e010a452db', '0x4d4c10aaa430e3120f78138c610a058fc7c8f64727a55a30a188e1cb276d0944', '0x4d4c10aaa430e3120f78138c610a058fc7c8f64727a55a30a188e1cb276d0944', '0x593bc290c4c8149e49bbefcfe4a54c7aef05f71a9b8f02a77615d600277780a1', '0x593bc290c4c8149e49bbefcfe4a54c7aef05f71a9b8f02a77615d600277780a1', '0x95c1c3fbd422dc15b17d8f1c8d240a4c496df17ea0329aa8f047fb8c4cf55682', '0x0f1ee173c9e8ee757b0672aaec6c873e0f1acbc516737323f8f140f91b5cba80', '0x0f1ee173c9e8ee757b0672aaec6c873e0f1acbc516737323f8f140f91b5cba80', '0x95c1c3fbd422dc15b17d8f1c8d240a4c496df17ea0329aa8f047fb8c4cf55682', '0xe82ab5ece7efe705760295a40cf8cec4ce66adf6840d8f312933fb7edf039da9', '0xe82ab5ece7efe705760295a40cf8cec4ce66adf6840d8f312933fb7edf039da9', '0xa2084205a6860734fc9bc1f73f17041ea7320bec774c4ce715d92e0bf852c412', '0xa2084205a6860734fc9bc1f73f17041ea7320bec774c4ce715d92e0bf852c412', '0x812c3fc1befa128d33d3241c170de51b34989ec31b7a7c767260c7fa7d1a873c', '0x812c3fc1befa128d33d3241c170de51b34989ec31b7a7c767260c7fa7d1a873c', '0xd26e8e3d7b78ea49992c521599c9a09cb9af485663245f2938451e49fd45d657', '0xd26e8e3d7b78ea49992c521599c9a09cb9af485663245f2938451e49fd45d657', '0xd1de8a65a3d216a4de34832822af12dd6f335f782d27faddb143aaa731b70535', '0xd1de8a65a3d216a4de34832822af12dd6f335f782d27faddb143aaa731b70535', '0xeef64ca2384e40b9e22297af62917ba6316ffb06f9ddb09d08bca8afda1aae39', '0xeef64ca2384e40b9e22297af62917ba6316ffb06f9ddb09d08bca8afda1aae39', '0x45437ba6799a368187ab018795ec8d37178cdab3d3370ff591abf57af005b773', '0x45437ba6799a368187ab018795ec8d37178cdab3d3370ff591abf57af005b773', '0x139a528bec0e6f11b3f60de32da4cdaac6e966b28ff8cf82e5a4968e2b20fbc3', '0x139a528bec0e6f11b3f60de32da4cdaac6e966b28ff8cf82e5a4968e2b20fbc3', '0x08dd8755cf3c90480ed58224eb618da42a786e3bdda302293dc3167ea8ac0ebd', '0xa90897ff46297261c46337a4daed44c0fb9eba3df24d30ba20a140024051eac0', '0xa90897ff46297261c46337a4daed44c0fb9eba3df24d30ba20a140024051eac0', '0x08dd8755cf3c90480ed58224eb618da42a786e3bdda302293dc3167ea8ac0ebd', '0x8fd1f36d2f1fb08de6bfe60334e7e9b139c6ae58a22320f6c0c388f4e2712ceb', '0x8fd1f36d2f1fb08de6bfe60334e7e9b139c6ae58a22320f6c0c388f4e2712ceb', '0xecd5c8961a22e3863b6fb48bab36e496b8af2cb984998ff2512d68d6ad95025d', '0xecd5c8961a22e3863b6fb48bab36e496b8af2cb984998ff2512d68d6ad95025d', '0xb5696ea885ca8990c541cffd9e2abe1349b7f569370e5ac0f30e16d95646975b', '0xb5696ea885ca8990c541cffd9e2abe1349b7f569370e5ac0f30e16d95646975b', '0xcf5ae314bb1cbf2cabae90491ad43940d50cb991a3cd4a802b2f0fad1399555a', '0xcf5ae314bb1cbf2cabae90491ad43940d50cb991a3cd4a802b2f0fad1399555a', '0x5e5323d0ebcf850990ea284ba4f4be6adc0905171ae0cf651cc804a5ffc33490', '0x5e5323d0ebcf850990ea284ba4f4be6adc0905171ae0cf651cc804a5ffc33490', '0xf11d00351085f68e2cf2aa2fb332378c70ee9b6540ba0e6dc41afede83bea83e', '0xf11d00351085f68e2cf2aa2fb332378c70ee9b6540ba0e6dc41afede83bea83e', '0x5bf5f70d1bc5f104da18a152c073fadc8627e7f90c18fe743638e87356dd2078', '0x5bf5f70d1bc5f104da18a152c073fadc8627e7f90c18fe743638e87356dd2078', '0xf102197ca329847b9e8ed40e6bc5dfc63357e7cee80bc170cb0cbf3ada311984', '0xf102197ca329847b9e8ed40e6bc5dfc63357e7cee80bc170cb0cbf3ada311984', '0x17bd777e45cacfdfd6d15dba531fda8caabb7f85af935cb0ed6bb878f77e4dda', '0x17bd777e45cacfdfd6d15dba531fda8caabb7f85af935cb0ed6bb878f77e4dda', '0x70010c58aa953699ce939b41882f18d6dcaad363e2091560b7f3c5d44db8021c', '0x70010c58aa953699ce939b41882f18d6dcaad363e2091560b7f3c5d44db8021c', '0xfff7caeef53d823881683f46ac88b337068b6fa17b36885bb5531783a17dcd73', '0xfff7caeef53d823881683f46ac88b337068b6fa17b36885bb5531783a17dcd73', '0x839641b7dda20104bc8ce402054d9935224e3bf0a658e1f1fa70781a2e583c78', '0x2e2d1cb3839365fc3cd1bcc1fbedf2511edeab849fb31d56f391ed06e3b4792d', '0x2e2d1cb3839365fc3cd1bcc1fbedf2511edeab849fb31d56f391ed06e3b4792d', '0x839641b7dda20104bc8ce402054d9935224e3bf0a658e1f1fa70781a2e583c78', '0x695713872486b875940bb5d90e89572135b3d85e2dcd6f99f6cc73da25c3137d', '0x695713872486b875940bb5d90e89572135b3d85e2dcd6f99f6cc73da25c3137d', '0x40a6677ce061f1999f39c7e04ef9c3f7bdc97f28480ea08ceed8888431c4fe3a', '0x40a6677ce061f1999f39c7e04ef9c3f7bdc97f28480ea08ceed8888431c4fe3a', '0xea9b6275c48b043614092b8414b5bed62a9ff1c2709f8ee48ce8fb20835b1e48', '0xea9b6275c48b043614092b8414b5bed62a9ff1c2709f8ee48ce8fb20835b1e48', '0x910bf1cb4f9e4027acc0290f8046f8a1724e42a53fca06bc328def21bec0a0eb', '0x910bf1cb4f9e4027acc0290f8046f8a1724e42a53fca06bc328def21bec0a0eb', '0xaa83fc539f4552b1e698ceeee296d3924171bc98836c114d579e1b7b80506829', '0xaa83fc539f4552b1e698ceeee296d3924171bc98836c114d579e1b7b80506829', '0x7c14b774b554609f14bc10c4463a353ed62a0513a266b5eae81428626e082d8c', '0x7c14b774b554609f14bc10c4463a353ed62a0513a266b5eae81428626e082d8c', '0xf7785c8826786af23a38939591856029812325e94eed88a94598fe764e60e2b6', '0xf7785c8826786af23a38939591856029812325e94eed88a94598fe764e60e2b6', '0x86a2b88b1dac1e5bc44d5587677d06932c7240940c952c4425b7d8bbf464a111', '0x86a2b88b1dac1e5bc44d5587677d06932c7240940c952c4425b7d8bbf464a111', '0x1fd15a08f065eb4736621d59b9036c554a9897ef30ea8b659f0a1d299ae0fb5c', '0x440601450d21c3b1b32f5461a3c2bf2493b5616f047d299b3fb14c4184ca5acd', '0x440601450d21c3b1b32f5461a3c2bf2493b5616f047d299b3fb14c4184ca5acd', '0x1fd15a08f065eb4736621d59b9036c554a9897ef30ea8b659f0a1d299ae0fb5c', '0x9f11b2c709157f63968abf1c165b971bcc35294030e176922bdd8c6a0784e8b1', '0x9f11b2c709157f63968abf1c165b971bcc35294030e176922bdd8c6a0784e8b1', '0x109ffb64a8887db730183269415f90a1c8aab2376414666cac95d42aa38db5fc', '0x109ffb64a8887db730183269415f90a1c8aab2376414666cac95d42aa38db5fc', '0x8c742c6006bb2b31c6a2395f1924c1236b0861a26033a0b7f74f1dc752ddc827', '0x8c742c6006bb2b31c6a2395f1924c1236b0861a26033a0b7f74f1dc752ddc827', '0xb6063e27f8027b22431dc9c3e3c6cf9d1af9338c97a0320e1215ab828771403d', '0xb6063e27f8027b22431dc9c3e3c6cf9d1af9338c97a0320e1215ab828771403d', '0xa8c983958dee9c694b39b248c709ced17a36f41ad3ccd1149ec8aa9ac541e4b1', '0xa8c983958dee9c694b39b248c709ced17a36f41ad3ccd1149ec8aa9ac541e4b1', '0x0d8e49f583767207b7a99056c72c3e26182011c99547523c960f02e3030ed58c', '0x0d8e49f583767207b7a99056c72c3e26182011c99547523c960f02e3030ed58c', '0xa8a1b91bf2945d8423283845b8b0fddda9569b1a6b50fc15a0b1c6d7cd6becad', '0xa8a1b91bf2945d8423283845b8b0fddda9569b1a6b50fc15a0b1c6d7cd6becad', '0x258609420cb80a1e6c218881593a0448ecd12a9d778ec6aae622b8d385414a7e', '0x258609420cb80a1e6c218881593a0448ecd12a9d778ec6aae622b8d385414a7e', '0x28943b2c14b5c1209b8a9f73ca304378409c2dcf3920d0b824a0d1fd94c7cefc', '0x28943b2c14b5c1209b8a9f73ca304378409c2dcf3920d0b824a0d1fd94c7cefc', '0x51f0946c4310c11f2be9b82dcd80e48f55d388cdf1cc3fb6ea748f4e4c5be111', '0x51f0946c4310c11f2be9b82dcd80e48f55d388cdf1cc3fb6ea748f4e4c5be111', '0x739f0a252e1bfc63654a014e0af0438a795037dd4c659aea56cb1ee7d026cc4c', '0x739f0a252e1bfc63654a014e0af0438a795037dd4c659aea56cb1ee7d026cc4c', '0x99f6438beb4f31fddfe2a590ec587d63161455e5f1479318c6e8202d0a7e4365', '0x99f6438beb4f31fddfe2a590ec587d63161455e5f1479318c6e8202d0a7e4365', '0xec856f3b7b18da2a3fae3dcd7a02b76958950c1ec46021c96bc23c64699adc42', '0xec856f3b7b18da2a3fae3dcd7a02b76958950c1ec46021c96bc23c64699adc42', '0xaaf16fcf75c21b255e708f4e189cc27d7557ca4e6cfcce3fb144f5abf4f472c6', '0xaaf16fcf75c21b255e708f4e189cc27d7557ca4e6cfcce3fb144f5abf4f472c6', '0x0f6818ec558c5fd813de8d72b4340e0084088fa710d0ee4afaf237e520a52e15', '0x0f6818ec558c5fd813de8d72b4340e0084088fa710d0ee4afaf237e520a52e15', '0xe86631df107bc97629f96bc64c1406a1536a5ca47b3828aa99937c10405c41c1', '0xe86631df107bc97629f96bc64c1406a1536a5ca47b3828aa99937c10405c41c1', '0x0fc78d59a70bf5ec43e2cdbf1fcbf5288f763ea6dfe61edf5d2ddbcc323a05d2', '0x0fc78d59a70bf5ec43e2cdbf1fcbf5288f763ea6dfe61edf5d2ddbcc323a05d2', '0xfd1cdc2424bdb0413d2dbdef770c0c5493505095e7d002852e03c1501d27563b', '0xfd1cdc2424bdb0413d2dbdef770c0c5493505095e7d002852e03c1501d27563b', '0xf64f3651d3dcb1914b2bc1a2e6297463d90f67da920f079ef6034a8821df46bb', '0xf64f3651d3dcb1914b2bc1a2e6297463d90f67da920f079ef6034a8821df46bb', '0x55652b81abdc56fa70dc1c64abb9d2408d1bfbc53ffdad95fe931bed2fc56038', '0x55652b81abdc56fa70dc1c64abb9d2408d1bfbc53ffdad95fe931bed2fc56038', '0x42cbae8a7959c74f7130aeffb8a7aac001b6055482bdec350356bb4ece55ecf6', '0x42cbae8a7959c74f7130aeffb8a7aac001b6055482bdec350356bb4ece55ecf6', '0x13a2f25b02bf39b40a618af80dbb18163704a150f6b6fe09ab495cb7d3fbdf88', '0x13a2f25b02bf39b40a618af80dbb18163704a150f6b6fe09ab495cb7d3fbdf88', '0xad82ee443354d9f8044e032e9c82fb906250a11a9638f37584f131277aec7c88', '0xad82ee443354d9f8044e032e9c82fb906250a11a9638f37584f131277aec7c88', '0x311ca69bc5b6416cc6596ed34cbbd2c13ee94e1f7b18844f107c11a569328c49', '0x311ca69bc5b6416cc6596ed34cbbd2c13ee94e1f7b18844f107c11a569328c49', '0xe27907d9c2f8da7a5399e22120f7a3a65a7b8791142c27e46adc0c4247ba09f1', '0xe27907d9c2f8da7a5399e22120f7a3a65a7b8791142c27e46adc0c4247ba09f1', '0x4f2a4ff47073585c8a5c580d46bed51f6c5a2e8a4aeabb61954f8f43bb9b60d2', '0x4f2a4ff47073585c8a5c580d46bed51f6c5a2e8a4aeabb61954f8f43bb9b60d2', '0xb3e082be3d44dda5cf6406b291f73d8f2afc2c4bd7b0ae08fd3774cdf5868e77', '0xb3e082be3d44dda5cf6406b291f73d8f2afc2c4bd7b0ae08fd3774cdf5868e77', '0xe336365d5ade9d415a759887725e93609e43036829ac217c1cbceb6e38c9837f', '0xe336365d5ade9d415a759887725e93609e43036829ac217c1cbceb6e38c9837f', '0x2aa765abd4d8c1fc58a8386b27e93cadb164cc1af3d1d7c9f492118e186c939f', '0x2aa765abd4d8c1fc58a8386b27e93cadb164cc1af3d1d7c9f492118e186c939f', '0x5920d948eed8385e344fe30f5f4f8b08bc51fb9dd6e394bde442e9ccee66d64b', '0x5920d948eed8385e344fe30f5f4f8b08bc51fb9dd6e394bde442e9ccee66d64b', '0xbb31452c1bcdfd60ec38e2ba4b233affbac5b6e4398e952822ba5ffbd8273615', '0xbb31452c1bcdfd60ec38e2ba4b233affbac5b6e4398e952822ba5ffbd8273615', '0x0396900ed85fc73e42de17ec688f273af46c512c91e4114405419b82a764a1b8', '0x0396900ed85fc73e42de17ec688f273af46c512c91e4114405419b82a764a1b8', '0x7950955b14c35cc2d9d50dd0f266cea32a018f239e7050f9a21318525b1da45a', '0x7950955b14c35cc2d9d50dd0f266cea32a018f239e7050f9a21318525b1da45a', '0x8c6ff306113cea364e6bb513cbdaec12eb315f2bd8ea0d7cce49bb83412421e6', '0x8c6ff306113cea364e6bb513cbdaec12eb315f2bd8ea0d7cce49bb83412421e6', '0xf0c4a75fdb0ec3b0fb46c049e57845b99a467d2d83b5c5da7a916f85faff8d02', '0xf0c4a75fdb0ec3b0fb46c049e57845b99a467d2d83b5c5da7a916f85faff8d02', '0x631c785549f1f42228580672cf39b89733fa374f80401503639b4e0855c1b25e', '0x631c785549f1f42228580672cf39b89733fa374f80401503639b4e0855c1b25e', '0xe3657851f3a90d114107946539ea620eb4b0b2e13a0e489619443ebb5b660714', '0xe3657851f3a90d114107946539ea620eb4b0b2e13a0e489619443ebb5b660714', '0xf80fa13eaf9e713622e9f149614c7c95c580e4db1547f6a731bdd565efbd86d7', '0xf80fa13eaf9e713622e9f149614c7c95c580e4db1547f6a731bdd565efbd86d7', '0x73b85488e0879dac398924ca4cb3434043a638f52bbe6e1c0078e2d012ac6878', '0x73b85488e0879dac398924ca4cb3434043a638f52bbe6e1c0078e2d012ac6878', '0xd003fc5ff62123d8e62890ca47a481ea0e8a0b81e3e58156e32a8bf2c7f942f2', '0xd003fc5ff62123d8e62890ca47a481ea0e8a0b81e3e58156e32a8bf2c7f942f2', '0x6ea16a7d02fe518f24558418db64aa2fc6107123b020c993f35aa414bc83c8d1', '0x6ea16a7d02fe518f24558418db64aa2fc6107123b020c993f35aa414bc83c8d1', '0xc3e3907561b7a09d4f80741d409789de422072bfe6c53322aca9514436814a45', '0xc3e3907561b7a09d4f80741d409789de422072bfe6c53322aca9514436814a45', '0x42468127cd227729e696ac1dfa04e733ea4845b39f9d692f7001102ff8a9c163', '0x42468127cd227729e696ac1dfa04e733ea4845b39f9d692f7001102ff8a9c163', '0x8f5ded16759ab17879048f9b94417a0b5dc315ab568bcb2d58ff1eecaf5ce324', '0x8f5ded16759ab17879048f9b94417a0b5dc315ab568bcb2d58ff1eecaf5ce324', '0x23d467a6cdc5f68c960c156cce6d28e1a5ebab2d33a55021b0e84c6f8bac7c9c', '0x23d467a6cdc5f68c960c156cce6d28e1a5ebab2d33a55021b0e84c6f8bac7c9c', '0x9877b5b086f89fd0c62493ff9b76c9cba3f9c462dc40397ff265a372f19abebf', '0x9877b5b086f89fd0c62493ff9b76c9cba3f9c462dc40397ff265a372f19abebf', '0xf4028cf2cfb8647c4e402fa50d454045a369a33dd64fff50859033dc6b90a360', '0xf4028cf2cfb8647c4e402fa50d454045a369a33dd64fff50859033dc6b90a360', '0x214a22610576c2356d2680cfe62504d23bb0b0c11411d2f682629540e9f05455', '0x214a22610576c2356d2680cfe62504d23bb0b0c11411d2f682629540e9f05455', '0xf5e6705652e061e2fa373ce9bc4eb9d3531addac11c1aeaafcec7767831e8c30', '0xf5e6705652e061e2fa373ce9bc4eb9d3531addac11c1aeaafcec7767831e8c30', '0x1c77e021fadc3e9b3144bbed855cad1ebb8f8b289da8463c1d3d56eef1323d5a', '0x1c77e021fadc3e9b3144bbed855cad1ebb8f8b289da8463c1d3d56eef1323d5a', '0x173626b87000dbb129ef9945eb21e81261d076706a804e821a4bdde1e0e194d9', '0x173626b87000dbb129ef9945eb21e81261d076706a804e821a4bdde1e0e194d9', '0x21324e84c5629935f99d985a82d5fa3bbc70f40626d9a525103aaf55d272e245', '0x21324e84c5629935f99d985a82d5fa3bbc70f40626d9a525103aaf55d272e245', '0x2157dd0e214fcf2c7a5705a919b73c06d74b04844065059c670c24c0151b6c68', '0x2157dd0e214fcf2c7a5705a919b73c06d74b04844065059c670c24c0151b6c68', '0x33e6c491063e7dba587e5757736a664a9928de006607c1ff15a060511d9aae72', '0x33e6c491063e7dba587e5757736a664a9928de006607c1ff15a060511d9aae72', '0xddb04a7e25b06f82677d283162d6e95a0618789abb5016b216db5263cea030e0', '0xddb04a7e25b06f82677d283162d6e95a0618789abb5016b216db5263cea030e0', '0x14b14039981fa5db1a2e065c64f7fe0b739b6e1467022e82f19249f7382304ef', '0x14b14039981fa5db1a2e065c64f7fe0b739b6e1467022e82f19249f7382304ef', '0x2f0f63b4a6a60a937dc7c166bf608804d62dd3efd2775c0cbb5b133d562d0cc2', '0x2f0f63b4a6a60a937dc7c166bf608804d62dd3efd2775c0cbb5b133d562d0cc2', '0xcef8fb2a8dfdef73d895663427ad16b3614f7d1e42f43cc1137750f00ade3aac', '0xcef8fb2a8dfdef73d895663427ad16b3614f7d1e42f43cc1137750f00ade3aac', '0xaeda73bbcf2b4e94cf0b3829c54e850a68373d75a3469d8965730cd8670837b4', '0xaeda73bbcf2b4e94cf0b3829c54e850a68373d75a3469d8965730cd8670837b4', '0x33a81f51cf841f11bf12ed104c6522879a4d635d29b8171430097546899ce043', '0x33a81f51cf841f11bf12ed104c6522879a4d635d29b8171430097546899ce043', '0x3bd79862126705035528fb24dc20cbe7066a0a817423bf647f49104461c9675f', '0x3bd79862126705035528fb24dc20cbe7066a0a817423bf647f49104461c9675f', '0xed2ac14effa882cd02a37e42add9e6897831383f45d4ef6a764cecad6a79e8b9', '0xed2ac14effa882cd02a37e42add9e6897831383f45d4ef6a764cecad6a79e8b9', '0xfac855c8b08b24844d3c486ad14135c4b6305f88f439a4f0f81846a54261f2e6', '0xfac855c8b08b24844d3c486ad14135c4b6305f88f439a4f0f81846a54261f2e6', '0x5271a2074b9071da608658c0a709b0b8a7ae54c215ea3b318e6b7718aedfefbb', '0x5271a2074b9071da608658c0a709b0b8a7ae54c215ea3b318e6b7718aedfefbb', '0x5d5417c2e7fd5bae82549ac13157c0fae5477ff1185bf78c3d85ee8abbd70593', '0x5d5417c2e7fd5bae82549ac13157c0fae5477ff1185bf78c3d85ee8abbd70593', '0xa53603239c5f51616a6bca6e960932871f720e70676e7c0edf34cd271a7d6245', '0xa53603239c5f51616a6bca6e960932871f720e70676e7c0edf34cd271a7d6245', '0xe205b870ae90e40d9d49a9947001580f7799500ddfbfc52afe827bbb17134648', '0xe205b870ae90e40d9d49a9947001580f7799500ddfbfc52afe827bbb17134648', '0x9aea91a1ccb228e50e6b21270f922341c4987b8e88138755861afdcd0cadbc3f', '0x9aea91a1ccb228e50e6b21270f922341c4987b8e88138755861afdcd0cadbc3f', '0xcdd9c9ee87c3bf15db21d07638158e90f9ff1a0d457b311f76e833aac17c37b8', '0xcdd9c9ee87c3bf15db21d07638158e90f9ff1a0d457b311f76e833aac17c37b8', '0x3f832615530292fc5ca783f081779df7ae19fc411348446e1159e1ceaf53f5da', '0xcdafd461891b696271769c7a59ef88772ef55ab4b81f5d1adc14c7c91aa41f55', '0x3f832615530292fc5ca783f081779df7ae19fc411348446e1159e1ceaf53f5da', '0xcdafd461891b696271769c7a59ef88772ef55ab4b81f5d1adc14c7c91aa41f55', '0xcdafd461891b696271769c7a59ef88772ef55ab4b81f5d1adc14c7c91aa41f55', '0xcdafd461891b696271769c7a59ef88772ef55ab4b81f5d1adc14c7c91aa41f55', '0x4801268e492613597fc329714c616aa7b8e88d2abe072f1aadac85e1c81a2c34', '0x4801268e492613597fc329714c616aa7b8e88d2abe072f1aadac85e1c81a2c34', '0x208b13da731408efa8d011c1485c7c88a056ab4f8db1b8e841d6ac473cc2aaea', '0x208b13da731408efa8d011c1485c7c88a056ab4f8db1b8e841d6ac473cc2aaea', '0xf35094b1a4cae13a5d5a2e141a5abc62132532fd9c6d7fea94f0e5594ee84932', '0xf35094b1a4cae13a5d5a2e141a5abc62132532fd9c6d7fea94f0e5594ee84932', '0x746eeb966e72d64ce3b6b0b98baf59ed09fe4ce4550815eaea077a8aad726c86', '0x746eeb966e72d64ce3b6b0b98baf59ed09fe4ce4550815eaea077a8aad726c86', '0xf457a9b71fd1b8ea74c4be59a21018af6254bd1e1f4c24c38c8cb43a4be18368', '0xf457a9b71fd1b8ea74c4be59a21018af6254bd1e1f4c24c38c8cb43a4be18368', '0xe9611dd646551b48a6c54ee1dcf365f3a7c67a88f5441967944914656cac66d1', '0xe9611dd646551b48a6c54ee1dcf365f3a7c67a88f5441967944914656cac66d1', '0x02ec6f86b302adb47578ad7ed378ae01a982df2a0be5ec6211a08b53c58c0158', '0x02ec6f86b302adb47578ad7ed378ae01a982df2a0be5ec6211a08b53c58c0158', '0x04272a2ff0e9637ab6c0ccf5acfe24e74bf060f740bda82eab32b374091acf69', '0x04272a2ff0e9637ab6c0ccf5acfe24e74bf060f740bda82eab32b374091acf69', '0x37d65f757c69504ff08e4c47fe45c2f794845264fb5fcd17915cd0daf016febf', '0x37d65f757c69504ff08e4c47fe45c2f794845264fb5fcd17915cd0daf016febf', '0x290e7aaa76c54397696828e0a9993603a1788372ca0ef11f822a87062436a18e', '0x290e7aaa76c54397696828e0a9993603a1788372ca0ef11f822a87062436a18e', '0x67ddce7a33a4fe598df157108aa68709b241af53fcc75b6a37999441afc4900e', '0x67ddce7a33a4fe598df157108aa68709b241af53fcc75b6a37999441afc4900e', '0x3bd7a50795b46f1256fd804b63d1a1fe20f1d1cd1f69fe1b106ada0b150631a5', '0x3bd7a50795b46f1256fd804b63d1a1fe20f1d1cd1f69fe1b106ada0b150631a5', '0xd864f1c2a579de8decf8d684da0c648397d06b23b86115f82f747a22452034d7', '0xd864f1c2a579de8decf8d684da0c648397d06b23b86115f82f747a22452034d7', '0x914185aa2756ea72bf81389b4a11bd747f900370a22f9e0f53bff3f0894829ae', '0x914185aa2756ea72bf81389b4a11bd747f900370a22f9e0f53bff3f0894829ae', '0xa312df4157f5dc9753d1d3e7317d92de7978f32bbddea5aef377a782c547f806', '0xa312df4157f5dc9753d1d3e7317d92de7978f32bbddea5aef377a782c547f806', '0x81147396dc35358cb0eb99490fe097a824b489f2e6f41b69107dbb4a2dce6df9', '0x81147396dc35358cb0eb99490fe097a824b489f2e6f41b69107dbb4a2dce6df9', '0x2ca40212ba4fe8217dc5e3542769af76e4bd18de9d9269eafd52a5ac5c3dc7da', '0x2ca40212ba4fe8217dc5e3542769af76e4bd18de9d9269eafd52a5ac5c3dc7da', '0x02c518be5f65cc8cbc769b716bb63882b311c0101bc8effaf2bab58cba4a24c5', '0x02c518be5f65cc8cbc769b716bb63882b311c0101bc8effaf2bab58cba4a24c5', '0x03227b6c761ecd423597ba34f7904bac7ca7899a448d90fc0e76b910b183ea63', '0x03227b6c761ecd423597ba34f7904bac7ca7899a448d90fc0e76b910b183ea63', '0x882a3c681572b029276f74ab34fbfd3781c1c61a61f7fefd72c7c0b92f3cebce', '0x882a3c681572b029276f74ab34fbfd3781c1c61a61f7fefd72c7c0b92f3cebce', '0xe5633d0f4cf83273f90218d8248f29411c698822981db8c1ea41cb8791c1710e', '0xe5633d0f4cf83273f90218d8248f29411c698822981db8c1ea41cb8791c1710e', '0x692b43a43c2ff1fdc6cfbc53061aa1b3cbb69bc0225dffc9d181148db8da5f03', '0x692b43a43c2ff1fdc6cfbc53061aa1b3cbb69bc0225dffc9d181148db8da5f03', '0x81bdba1208d326acfee7bd8d9f20fd261c6d0c8fe684c8716e151fcfe733d4e7', '0x81bdba1208d326acfee7bd8d9f20fd261c6d0c8fe684c8716e151fcfe733d4e7', '0xf99937191b13992ea596d04b78ef3bd467529897a269e1ddd57780364b487d19', '0xf99937191b13992ea596d04b78ef3bd467529897a269e1ddd57780364b487d19', '0x7b2a1111e36a51488be3b2ead4ee983b6ee216c955ddc49eb2e2138f644995ff', '0x7b2a1111e36a51488be3b2ead4ee983b6ee216c955ddc49eb2e2138f644995ff', '0x0bdd0e6eaf6d769dc0ec9bfb6c656706a58452d1747f7c9ed09c07278d8ba7b3', '0x0bdd0e6eaf6d769dc0ec9bfb6c656706a58452d1747f7c9ed09c07278d8ba7b3', '0x8e36ad22d7581fb539141319dbec781806762c48ca4e98e441b02d1269fb8971', '0x8e36ad22d7581fb539141319dbec781806762c48ca4e98e441b02d1269fb8971', '0x38a4aa7acd1fe2f85faef544a98a42f4011c1d305b6be7bb05e54b4f33c090a6', '0x38a4aa7acd1fe2f85faef544a98a42f4011c1d305b6be7bb05e54b4f33c090a6', '0xb03e36fdeeb0867e544a97c5a9747c0ff2adaff645e1337365a12fba1ce116b7', '0xb03e36fdeeb0867e544a97c5a9747c0ff2adaff645e1337365a12fba1ce116b7', '0xaec532bf3dac66202379385057fe68d87f96038a867991c43e52909ebcdccde4', '0xaec532bf3dac66202379385057fe68d87f96038a867991c43e52909ebcdccde4', '0x3503e3b62f2d48e3fab02edb2d6c33500cc493c9f09fda6467911bbf1c23ed1c', '0x3503e3b62f2d48e3fab02edb2d6c33500cc493c9f09fda6467911bbf1c23ed1c', '0x4679bcd48e49a6a4632fb75d9e9555dbba56acfa07f2f642fe7f76e3baeb871c', '0x4679bcd48e49a6a4632fb75d9e9555dbba56acfa07f2f642fe7f76e3baeb871c', '0xb7f90a12c53c8136a7fe885c7bf5c427514d368ce6ebf867c3dfb969ede83e4b', '0xb7f90a12c53c8136a7fe885c7bf5c427514d368ce6ebf867c3dfb969ede83e4b', '0xb5825518eafe51d9c4d2598b3d22f2a71994ab54e8b72a96a87b01f2af56d849', '0xb5825518eafe51d9c4d2598b3d22f2a71994ab54e8b72a96a87b01f2af56d849', '0x4a2d932e4d6363860cdbf2336eeccf15839373e384264a4a5295762e0aa18e41', '0x4a2d932e4d6363860cdbf2336eeccf15839373e384264a4a5295762e0aa18e41', '0x888d01a86e78e3c2ff645125f098afdb875b2aa00fcb7b6eb08a0796c9ae9c64', '0x888d01a86e78e3c2ff645125f098afdb875b2aa00fcb7b6eb08a0796c9ae9c64', '0xcac008fe44c734f65c31dc555578e51316e119dcec07e9ea4b1e27564a3a8296', '0xcac008fe44c734f65c31dc555578e51316e119dcec07e9ea4b1e27564a3a8296', '0x88d51713b6fb5108cc40aeeb9994ecd49b58bc3a59a7c0b8bd52db41fc847a00', '0x88d51713b6fb5108cc40aeeb9994ecd49b58bc3a59a7c0b8bd52db41fc847a00', '0x2ed47a89853753ca40503da91825040d852b03a0cd567afc2255849553011c34', '0x2ed47a89853753ca40503da91825040d852b03a0cd567afc2255849553011c34', '0x379ba53e94a55397ad8a8bbdc91b12c7e75214ed750199c56093025c5195a530', '0x379ba53e94a55397ad8a8bbdc91b12c7e75214ed750199c56093025c5195a530', '0x310fb4e2f2f32536997c02e3292ee22ffb7795c2ff4d579130fafb5d2a33b42d', '0x310fb4e2f2f32536997c02e3292ee22ffb7795c2ff4d579130fafb5d2a33b42d', '0x61bfdfa28173678717f536055cb62ec148bef52aeb79175a5a119aef8d4080a3', '0x61bfdfa28173678717f536055cb62ec148bef52aeb79175a5a119aef8d4080a3', '0x38fa6b68fc22a672ac80bd9808254a7dbfe318452fa331e943bc093850d33754', '0x38fa6b68fc22a672ac80bd9808254a7dbfe318452fa331e943bc093850d33754', '0x827e663c11aa9d86d51705e699adef3fa9262fb9d127a1ba7a1aee131e4e923c', '0x827e663c11aa9d86d51705e699adef3fa9262fb9d127a1ba7a1aee131e4e923c', '0x490680308def05ab0f24ba875a2514f68ab0423116bb0000e83e9a61b6711218', '0x490680308def05ab0f24ba875a2514f68ab0423116bb0000e83e9a61b6711218', '0x3e791b89b3fa80363b99d8c609b6c8a246e9f7872fe29b5fe09870f0644653b9', '0x3e791b89b3fa80363b99d8c609b6c8a246e9f7872fe29b5fe09870f0644653b9', '0xf72071402b4a36394ab29bb52b9496154425cf317f388b7407294fdd649de2f2', '0xf72071402b4a36394ab29bb52b9496154425cf317f388b7407294fdd649de2f2', '0x7776b83324786b5aede172871632ed358c2b78498047cf5b9e13456dba0150f9', '0x7776b83324786b5aede172871632ed358c2b78498047cf5b9e13456dba0150f9', '0xc1491d09ea3ffa6e0f7f88d2dd2d4d7218df19ecdd0c42571dcdc2c66116ab1d', '0xc1491d09ea3ffa6e0f7f88d2dd2d4d7218df19ecdd0c42571dcdc2c66116ab1d', '0xb5611767245370b93626442886488068084ff48bbdcb71ba7bfcc93653e42ba6', '0xb5611767245370b93626442886488068084ff48bbdcb71ba7bfcc93653e42ba6', '0xb5611767245370b93626442886488068084ff48bbdcb71ba7bfcc93653e42ba6', '0xb5611767245370b93626442886488068084ff48bbdcb71ba7bfcc93653e42ba6', '0x3a0897e7132b27ed0bbd00ae66ad7ce15466f1a6d0cebccd422e8c9ed4af15bb', '0x3a0897e7132b27ed0bbd00ae66ad7ce15466f1a6d0cebccd422e8c9ed4af15bb', '0x9abef3ef7f608261180ed0a46176c8743b8a36ef92416899733278568607a44a', '0x9abef3ef7f608261180ed0a46176c8743b8a36ef92416899733278568607a44a', '0x4f867ae45552781def92a6d2467a86f8582066ec30052d9782bf4291d1019795', '0x4f867ae45552781def92a6d2467a86f8582066ec30052d9782bf4291d1019795', '0xe6e4f61f0509c9cffe495bcf0de040eeaf7a2a2e569798752273bdda40c357d6', '0xe6e4f61f0509c9cffe495bcf0de040eeaf7a2a2e569798752273bdda40c357d6', '0x42662079d61969dd3c128968199df287b5ab73304bf282c5aab68a312ce687d7', '0x42662079d61969dd3c128968199df287b5ab73304bf282c5aab68a312ce687d7', '0x03505280b4d68c41bac2cdb203f30c6203d10a5583530151b127946172e54d7d', '0x03505280b4d68c41bac2cdb203f30c6203d10a5583530151b127946172e54d7d', '0x471abc27febb708a05b5a072ded46510ae6f835c8d3e1ba1aab27119437b25bd', '0x471abc27febb708a05b5a072ded46510ae6f835c8d3e1ba1aab27119437b25bd', '0xe878c378641ad2e568d7ad342ea005b788238428f154c59c0d0be3c0dfe92506', '0xe878c378641ad2e568d7ad342ea005b788238428f154c59c0d0be3c0dfe92506', '0x4db59ab3fa9dc4f4ddead0af5f1f80e493dc4b8dc2c536a21153cd636cd02fcf', '0x4db59ab3fa9dc4f4ddead0af5f1f80e493dc4b8dc2c536a21153cd636cd02fcf', '0x928468a7876f338ce3f82edf963297f10d61f4ba46e55c392d1c99484575f77d', '0x928468a7876f338ce3f82edf963297f10d61f4ba46e55c392d1c99484575f77d', '0xa907a214dbba0283ed7ee0cefd7cbce28cc1697104b2f78d5ea4005bb460b65d', '0xa907a214dbba0283ed7ee0cefd7cbce28cc1697104b2f78d5ea4005bb460b65d', '0x56e4ac9fe4f51e352058718a2ab27a7c6daf0791bd78ab965e460902849c2a5a', '0x56e4ac9fe4f51e352058718a2ab27a7c6daf0791bd78ab965e460902849c2a5a', '0x89c440423c974ee72df004797763536b605098571cb1e487cb82453112975486', '0x89c440423c974ee72df004797763536b605098571cb1e487cb82453112975486', '0x35fa6da4d3eef08c98c6a60426f5b18bdecc23b746d7ed030aee5c8a2dc974fe', '0x35fa6da4d3eef08c98c6a60426f5b18bdecc23b746d7ed030aee5c8a2dc974fe', '0x35fa6da4d3eef08c98c6a60426f5b18bdecc23b746d7ed030aee5c8a2dc974fe', '0x35fa6da4d3eef08c98c6a60426f5b18bdecc23b746d7ed030aee5c8a2dc974fe', '0x3a488aa29d20fe4079c31c6b863d661ce957ef25da27be169aeab270c4b5e59f', '0x3a488aa29d20fe4079c31c6b863d661ce957ef25da27be169aeab270c4b5e59f', '0x1c7901abcb83336969c7bfe04dd010d9aa6457ba76fd19a7b44858e7c0d9de9c', '0x1c7901abcb83336969c7bfe04dd010d9aa6457ba76fd19a7b44858e7c0d9de9c', '0xf05ba4a77b0db71d8ba1881cdaf55deac1293f8d54e8161dea728f41c17ccf62', '0xf05ba4a77b0db71d8ba1881cdaf55deac1293f8d54e8161dea728f41c17ccf62', '0xd087a86c4452c10534d6b2efce5f13c685b57a573293e15ec743b10c371f6517', '0xd087a86c4452c10534d6b2efce5f13c685b57a573293e15ec743b10c371f6517', '0x0cc9878b3245061403b81c2a64cd1561966857290e8d57cca798df0b8c4185be', '0x0cc9878b3245061403b81c2a64cd1561966857290e8d57cca798df0b8c4185be', '0x7c2b4ecee74af3f944ad5c83543292ca8149fc28c42efde5b6b595315c89d70a', '0x7c2b4ecee74af3f944ad5c83543292ca8149fc28c42efde5b6b595315c89d70a', '0x06c3ce3738c68f5b12bad5e3b96a38558264ed56de068d9ce315ba89ebcd9a41', '0x06c3ce3738c68f5b12bad5e3b96a38558264ed56de068d9ce315ba89ebcd9a41', '0xaa705193c6d41f550ebf9c0ece9c5b64e22a2f0707dad52362d44ffcc3219504', '0xaa705193c6d41f550ebf9c0ece9c5b64e22a2f0707dad52362d44ffcc3219504', '0x0ec62389bb16c0431d97d271372cbf475929caf4e63b3c08b1e4b38ed7a7e98a', '0x0ec62389bb16c0431d97d271372cbf475929caf4e63b3c08b1e4b38ed7a7e98a', '0xd685a6dba9c4a132a9a76493a9a50943c82b769dd3c8e3b85d04ed726c28666b', '0xd685a6dba9c4a132a9a76493a9a50943c82b769dd3c8e3b85d04ed726c28666b', '0xe1c3701259b3ed8a82302bed7d75257c89e63658aec43eeb25a839d5a3551c4f', '0xe1c3701259b3ed8a82302bed7d75257c89e63658aec43eeb25a839d5a3551c4f', '0xb0bd2c5fa83f00beadaf35941e884a446a1ebe8d0163fa010a96a9ca86b577d0', '0xb0bd2c5fa83f00beadaf35941e884a446a1ebe8d0163fa010a96a9ca86b577d0', '0xd4b1293638233f423c3da4e55768d8d9b22fcbe63bdaa8872e7be20afe421884', '0xd4b1293638233f423c3da4e55768d8d9b22fcbe63bdaa8872e7be20afe421884', '0xd4b1293638233f423c3da4e55768d8d9b22fcbe63bdaa8872e7be20afe421884', '0xd4b1293638233f423c3da4e55768d8d9b22fcbe63bdaa8872e7be20afe421884', '0x4691aeba2f1f7aca1e9f6a3c3258cf61e22e5faa3600de835336903795fbf8e9', '0x4691aeba2f1f7aca1e9f6a3c3258cf61e22e5faa3600de835336903795fbf8e9', '0xc82dd5b9339c4856133cfd2bcdaadfa51cf4277306bd828c4803d7f7d8ffeda3', '0xc82dd5b9339c4856133cfd2bcdaadfa51cf4277306bd828c4803d7f7d8ffeda3', '0x5cea653b1a984c71193d166a9c2a4a0ce90908a04d8c1ab631fce80df83ceec2', '0x5cea653b1a984c71193d166a9c2a4a0ce90908a04d8c1ab631fce80df83ceec2', '0xe6dff8b3fdf677bf9e5af108c44d2df204b9e384b7d696464f828e6b443b53f8', '0xe6dff8b3fdf677bf9e5af108c44d2df204b9e384b7d696464f828e6b443b53f8', '0x58e975700c1c78ae7446cc1dc2eabb843c95b3e97051fdb3f3cf2d7439e42bd4', '0x58e975700c1c78ae7446cc1dc2eabb843c95b3e97051fdb3f3cf2d7439e42bd4', '0xf56579f74012ccb0fdba4fc109547fa517367b9e637b2891e74cf970392ab568', '0xf56579f74012ccb0fdba4fc109547fa517367b9e637b2891e74cf970392ab568', '0x6355ebf420e0f301d860cf794b73d72fc5a19c37f8884d0e9e72429a98ea18c2', '0x6355ebf420e0f301d860cf794b73d72fc5a19c37f8884d0e9e72429a98ea18c2', '0x8205c0307c2a5224764cc774ee4a3aff717225b10e14f8fef47ede887f3dc4e0', '0x8205c0307c2a5224764cc774ee4a3aff717225b10e14f8fef47ede887f3dc4e0', '0x08bd9055fdc3712a4e1d992545f25cfc486fe5aabce1ba61a37ac11de6f81aec', '0x08bd9055fdc3712a4e1d992545f25cfc486fe5aabce1ba61a37ac11de6f81aec', '0x47eeb22acc71f79b6366d364a13366f7fdb1dce4c86b6048261c375826741847', '0x47eeb22acc71f79b6366d364a13366f7fdb1dce4c86b6048261c375826741847', '0xa2e6ee96e4a0cfc546b51908d0f3f693191078549f215e4461eac1b1ce7e5bca', '0xa2e6ee96e4a0cfc546b51908d0f3f693191078549f215e4461eac1b1ce7e5bca', '0x3e8d9f71ebb2a0b183f6d7847d03c0e13edf4b836bde5317416fd061c730aa82', '0x3e8d9f71ebb2a0b183f6d7847d03c0e13edf4b836bde5317416fd061c730aa82', '0x84db2a799b2760d78228b481bcfa6970c6252e1f2a75095dee42be7770b3632a', '0x84db2a799b2760d78228b481bcfa6970c6252e1f2a75095dee42be7770b3632a', '0x964607ffaa5b8e3db853a1a87608181ed6cd4ccd46b0fea554b83d1f6f2d3e16', '0x964607ffaa5b8e3db853a1a87608181ed6cd4ccd46b0fea554b83d1f6f2d3e16', '0x7999f53fdacf2ca5b2db1dc6f0be70eddb7993d73b41db922a6a766959935f4f', '0x7999f53fdacf2ca5b2db1dc6f0be70eddb7993d73b41db922a6a766959935f4f', '0x068381f1bd46aed4057c6cdc421a87692a1fa60252715caee193721296122e0f', '0x068381f1bd46aed4057c6cdc421a87692a1fa60252715caee193721296122e0f', '0x9872159863fdc73a12f5d6aed8d8d74d92d0d51cbc1c6dfafde9fe1dc872efe5', '0x9872159863fdc73a12f5d6aed8d8d74d92d0d51cbc1c6dfafde9fe1dc872efe5', '0x6a707b68895ea08eabcb007a7c7e32d27a173d6a28dae08b34f9b2e72556e4fd', '0x6a707b68895ea08eabcb007a7c7e32d27a173d6a28dae08b34f9b2e72556e4fd', '0xf3864bc12d3789babd5754634bf5f9beb0c2aacd9d04a735570e74d3d39db23c', '0xf3864bc12d3789babd5754634bf5f9beb0c2aacd9d04a735570e74d3d39db23c', '0xa47c9b9627ef8af4dc9bde772f8e007fe1ae4d78b57f8cbbc21f1c38377a0e3e', '0xa47c9b9627ef8af4dc9bde772f8e007fe1ae4d78b57f8cbbc21f1c38377a0e3e', '0xe106a6633ec132893b34e576f9ddd7441666a9a2730d12d445980c7f918b41e4', '0xe106a6633ec132893b34e576f9ddd7441666a9a2730d12d445980c7f918b41e4', '0xcc4583e063ba18ecf8d815574d15a13f71ed2620c24ba0595ef5e35da85a6a4e', '0xcc4583e063ba18ecf8d815574d15a13f71ed2620c24ba0595ef5e35da85a6a4e', '0x849dac681d5b901f26e60a1b62cd0b0fed68a4dc0d226c99bae2c4ab1c959cb7', '0x849dac681d5b901f26e60a1b62cd0b0fed68a4dc0d226c99bae2c4ab1c959cb7', '0xb8bb4feb050d1832df2663960bc534345c51876cf51cb0b1ee5e79a1a4f4b80d', '0xb8bb4feb050d1832df2663960bc534345c51876cf51cb0b1ee5e79a1a4f4b80d', '0xbca98d0948d9b5f513b451285d11555b4a083266fcefbd715b9a17cb333f9e8f', '0xbca98d0948d9b5f513b451285d11555b4a083266fcefbd715b9a17cb333f9e8f', '0x9e0b3643100cc4850985b53e6feee85b3fb5452564709cdce3f651af0b445124', '0x9e0b3643100cc4850985b53e6feee85b3fb5452564709cdce3f651af0b445124', '0x130d77740d79e5c0248dbc9fdb059d99e652bb69240f052d3b7a00b829d9d4d1', '0x130d77740d79e5c0248dbc9fdb059d99e652bb69240f052d3b7a00b829d9d4d1', '0x4ca692d1b368edf2b7edf2d8cdbc37aacfd322e24c16399c0bb43f88c0e25828', '0x4ca692d1b368edf2b7edf2d8cdbc37aacfd322e24c16399c0bb43f88c0e25828', '0xc7e40af6e8dfba57dee1e28d047a5ebee74d8d5830c51183c10f2b3d2a14ef9b', '0xc7e40af6e8dfba57dee1e28d047a5ebee74d8d5830c51183c10f2b3d2a14ef9b', '0x4efb6b86053fb72fe4ceef8e4dd62e4adb83ec34a70272c843019b5deaa426a9', '0x4efb6b86053fb72fe4ceef8e4dd62e4adb83ec34a70272c843019b5deaa426a9', '0x4efb6b86053fb72fe4ceef8e4dd62e4adb83ec34a70272c843019b5deaa426a9', '0x4efb6b86053fb72fe4ceef8e4dd62e4adb83ec34a70272c843019b5deaa426a9', '0xb9a7cc03fa80e6b84400de5a264f99da059a3c71ebfe9208d1f187962549db39', '0xb9a7cc03fa80e6b84400de5a264f99da059a3c71ebfe9208d1f187962549db39', '0x5f2e144656fc75d99522d9ecdcb978cabe92a0f3bc57bc03259d23594ff03174', '0x5f2e144656fc75d99522d9ecdcb978cabe92a0f3bc57bc03259d23594ff03174', '0x1d7139db72f41a5b70bdbb890161bfd4edf98fe452febcbe80386f05cb08cf9f', '0x1d7139db72f41a5b70bdbb890161bfd4edf98fe452febcbe80386f05cb08cf9f', '0x69a16af4f0e835636690aacc8e08910671c16b87e46c66725b1806af238c41fd', '0x69a16af4f0e835636690aacc8e08910671c16b87e46c66725b1806af238c41fd', '0x3c5ba8ccc671875d1538a3d21f6bd3f2f9771a3b3f3501c00d23ee1f1f2316b2', '0x3c5ba8ccc671875d1538a3d21f6bd3f2f9771a3b3f3501c00d23ee1f1f2316b2', '0x1042c5745e4ebd659c602344ba673881cbb75b9d692cb84a0777da94de25cf93', '0x1042c5745e4ebd659c602344ba673881cbb75b9d692cb84a0777da94de25cf93', '0xcd12f8c98f10771a6ccf0bd78183cc2486e36aa246acbce138a2580a56260be5', '0xcd12f8c98f10771a6ccf0bd78183cc2486e36aa246acbce138a2580a56260be5', '0x78e84d88de532237e5427a56b853ead10645203cec2442c4f74a6719d2b0a5a6', '0x78e84d88de532237e5427a56b853ead10645203cec2442c4f74a6719d2b0a5a6', '0x0ff4f2104e5cd7ea6bd517593601b2ef1d32c300c25f7ca7c2dc3961cd0e6e65', '0x0ff4f2104e5cd7ea6bd517593601b2ef1d32c300c25f7ca7c2dc3961cd0e6e65', '0xa6956a1897d910a312319f4ee750cac0f4437c51e5a391c2fa3b081ceb2cd975', '0xa6956a1897d910a312319f4ee750cac0f4437c51e5a391c2fa3b081ceb2cd975', '0xa6956a1897d910a312319f4ee750cac0f4437c51e5a391c2fa3b081ceb2cd975', '0xa6956a1897d910a312319f4ee750cac0f4437c51e5a391c2fa3b081ceb2cd975', '0xb7456811556113425890748ea642ed001be2ff5f4666123ab832f67c6ad0ff38', '0xb7456811556113425890748ea642ed001be2ff5f4666123ab832f67c6ad0ff38', '0x459713d3f127114a1af3083e8723ad9e6dc45b70511520874e49e602f495cabc', '0x459713d3f127114a1af3083e8723ad9e6dc45b70511520874e49e602f495cabc', '0xde96642106f365cb5dd6dd30377937964901eb6d2196878e7cdb22a38c075c37', '0xde96642106f365cb5dd6dd30377937964901eb6d2196878e7cdb22a38c075c37', '0xc1e8cf59828b214dbb7e4330d343f81e88a7111ac6043ccbd86063d2ed840bb9', '0xc1e8cf59828b214dbb7e4330d343f81e88a7111ac6043ccbd86063d2ed840bb9', '0x910af096e7c17ef0dafe03f6e7528120d819d1211904e596f57161e652d8b7be', '0x910af096e7c17ef0dafe03f6e7528120d819d1211904e596f57161e652d8b7be', '0x910af096e7c17ef0dafe03f6e7528120d819d1211904e596f57161e652d8b7be', '0x910af096e7c17ef0dafe03f6e7528120d819d1211904e596f57161e652d8b7be', '0x72fb00fbfc90887f120bfd1d7441e1103b970dab3803659be6c939e22a469711', '0x72fb00fbfc90887f120bfd1d7441e1103b970dab3803659be6c939e22a469711', '0x418ac1ea928c81e7d2c90e7f144ce4712d9acaad5002f050ffeb012598bfce08', '0x418ac1ea928c81e7d2c90e7f144ce4712d9acaad5002f050ffeb012598bfce08', '0xaf940435cfb50e99f282fd259fd5719a69c44c9fad29e80672e8eb8994398704', '0xaf940435cfb50e99f282fd259fd5719a69c44c9fad29e80672e8eb8994398704', '0x25d13335f15ca85ce5ff6dca3a2c5bb85b43b579f62d0108a8e854f5c005eac8', '0x25d13335f15ca85ce5ff6dca3a2c5bb85b43b579f62d0108a8e854f5c005eac8', '0x3b45bdd7097fa787e25c22b73219ede68fc4e7995acd057640e9b2efc3a3ba6f', '0x3b45bdd7097fa787e25c22b73219ede68fc4e7995acd057640e9b2efc3a3ba6f', '0x6f3c8d326c168a9176701fe78a9fb064b0bb0bb17b972edca12d9dc83535409c', '0x6f3c8d326c168a9176701fe78a9fb064b0bb0bb17b972edca12d9dc83535409c', '0x6f3c8d326c168a9176701fe78a9fb064b0bb0bb17b972edca12d9dc83535409c', '0x6f3c8d326c168a9176701fe78a9fb064b0bb0bb17b972edca12d9dc83535409c', '0x71171ac7b7ca44f2e89a2f2f7b003c609b5e5d4f9935797c7dde66fdf6d6ebb3', '0x71171ac7b7ca44f2e89a2f2f7b003c609b5e5d4f9935797c7dde66fdf6d6ebb3', '0x1034c338d50e0df9078fead4240e487eb3dff34fa3aa5fff456396b6f9546747', '0x1034c338d50e0df9078fead4240e487eb3dff34fa3aa5fff456396b6f9546747', '0xc5f3ebefef70901ca282daac2e94223389fd54dcd4c9235be15ab2d5077d4b21', '0xc5f3ebefef70901ca282daac2e94223389fd54dcd4c9235be15ab2d5077d4b21', '0x1e8ae6f68b1a90ef25d6e2145953fc0d231cfda558abaf98be77beca33790d9c', '0x1e8ae6f68b1a90ef25d6e2145953fc0d231cfda558abaf98be77beca33790d9c', '0x2a66f65f5d50de33bf07775ba25aec0db3d4d539616758895a3962c7035bf00b', '0x2a66f65f5d50de33bf07775ba25aec0db3d4d539616758895a3962c7035bf00b', '0x778377fa6c01ecbdddccdf4d3f430d05b4b422b5d158bf8e3f095772d9506457', '0x778377fa6c01ecbdddccdf4d3f430d05b4b422b5d158bf8e3f095772d9506457', '0x395ace7ff45c9dc7f73024bffd7cc9d4e93e93d565baecc1ee2aa9b2026dcd8a', '0x395ace7ff45c9dc7f73024bffd7cc9d4e93e93d565baecc1ee2aa9b2026dcd8a', '0x23f52b253a5070956b763f61ae49bc4783bf419c1293513f60faae4a4cbf59c1', '0x23f52b253a5070956b763f61ae49bc4783bf419c1293513f60faae4a4cbf59c1', '0x23f52b253a5070956b763f61ae49bc4783bf419c1293513f60faae4a4cbf59c1', '0x23f52b253a5070956b763f61ae49bc4783bf419c1293513f60faae4a4cbf59c1', '0xa8d1a1f6469c939f0da8fb023bd1c284e828b7bf9ed589242fcdd06366afe2e9', '0xa8d1a1f6469c939f0da8fb023bd1c284e828b7bf9ed589242fcdd06366afe2e9', '0x0001dbd65c53d8dd3b657e4cea9e5e03ab10742a5efa318b9e415939e72f3947', '0x0001dbd65c53d8dd3b657e4cea9e5e03ab10742a5efa318b9e415939e72f3947', '0xca7192c1d75b3f4faa4ed86ff581df51cd386f43bc398e5bc71c74aa1b4eff25', '0xca7192c1d75b3f4faa4ed86ff581df51cd386f43bc398e5bc71c74aa1b4eff25', '0xcea557d757c84a868a2b2771ba587d62a21e53a2a61d9dcb78a82b95b2129f73', '0xcea557d757c84a868a2b2771ba587d62a21e53a2a61d9dcb78a82b95b2129f73', '0x877e65cfedffd9bbcca7b1dde694a56539ed8b49c09ded4495af6da1b2fcb1cc', '0x877e65cfedffd9bbcca7b1dde694a56539ed8b49c09ded4495af6da1b2fcb1cc', '0x72cdbcf64c5757e21704dd79b6acfe3039367c1fe6dfa2a92bb7d9e5474caa0d', '0x72cdbcf64c5757e21704dd79b6acfe3039367c1fe6dfa2a92bb7d9e5474caa0d', '0xae34a3900e5734a654869be04bc3bcb41d8a9ec154ca8fc5c600fa086a8278b1', '0xae34a3900e5734a654869be04bc3bcb41d8a9ec154ca8fc5c600fa086a8278b1', '0x4e09bdd0607b70990935bf64b74089d5f568dd3a435243d0dc91d40dc59abe90', '0x4e09bdd0607b70990935bf64b74089d5f568dd3a435243d0dc91d40dc59abe90', '0xa77bb41bc72abd6f4feacc83dc93669fae1c621b4537fe2835c105647fd5ba01', '0xa77bb41bc72abd6f4feacc83dc93669fae1c621b4537fe2835c105647fd5ba01', '0xf36031c59a155a66c10b0ab1beecb181087cf44f931ca5ad6a5ca48fe187e069', '0xf36031c59a155a66c10b0ab1beecb181087cf44f931ca5ad6a5ca48fe187e069', '0x847132628415044dd3cd9b7bdc673e76002d5b8823e6f405271efc512cf4f251', '0x847132628415044dd3cd9b7bdc673e76002d5b8823e6f405271efc512cf4f251', '0x847132628415044dd3cd9b7bdc673e76002d5b8823e6f405271efc512cf4f251', '0x847132628415044dd3cd9b7bdc673e76002d5b8823e6f405271efc512cf4f251', '0x2329e65132974963881346793db8089e44ba2b9490cf5363f303b0df36c5be36', '0x2329e65132974963881346793db8089e44ba2b9490cf5363f303b0df36c5be36', '0x85b43586a0c8c8da0f7f6078cda653e65d918bc4115ce5756ce9e13d4c2b3e78', '0x85b43586a0c8c8da0f7f6078cda653e65d918bc4115ce5756ce9e13d4c2b3e78', '0x5e5e943bb9b44e1aba2f4f630fbf229828de927cd5caad36cd8c9f5f68ab7a21', '0x5e5e943bb9b44e1aba2f4f630fbf229828de927cd5caad36cd8c9f5f68ab7a21', '0x75f0dafec080e17981ef248a1f16f05666018b52e88aa06ecc626848c0aa5794', '0x75f0dafec080e17981ef248a1f16f05666018b52e88aa06ecc626848c0aa5794', '0x67c93f96f2c4bcc3ff65fd38c643bd9ae074b24f6b2aa81c9619f6002cd7bc9c', '0x67c93f96f2c4bcc3ff65fd38c643bd9ae074b24f6b2aa81c9619f6002cd7bc9c', '0xc8e9b6034b8565eba5c9cae44f5e5f843d10e8d90b0ecac36c854a7b097e0287', '0xc8e9b6034b8565eba5c9cae44f5e5f843d10e8d90b0ecac36c854a7b097e0287', '0x18e66973191d2a46f5166fb619b6a9210acee5cd42b91f1ac1940dee8c25249b', '0x18e66973191d2a46f5166fb619b6a9210acee5cd42b91f1ac1940dee8c25249b', '0x2f62ef0f514539f84a8846a5a72e131c31e532a35846fd3691e7cc9824d891d8', '0x2f62ef0f514539f84a8846a5a72e131c31e532a35846fd3691e7cc9824d891d8', '0x97f3a0978e6663f376eca02bb40687154b4d1fd7722980c883d6e52e6cf8baf9', '0x97f3a0978e6663f376eca02bb40687154b4d1fd7722980c883d6e52e6cf8baf9', '0xc84f11f049081951bc1982f8a16f6a11659bb920d6dbb2c278b0f6481a2e1281', '0xc84f11f049081951bc1982f8a16f6a11659bb920d6dbb2c278b0f6481a2e1281', '0x58ac68767b006fbd0d798720ecdd4e943c84b456f59551d50d7d522729bc4249', '0x58ac68767b006fbd0d798720ecdd4e943c84b456f59551d50d7d522729bc4249', '0xd00f1fd59b65eb1b84d45a4aa877afe30cbba0712b0a8af64dcb80605de96402', '0xd00f1fd59b65eb1b84d45a4aa877afe30cbba0712b0a8af64dcb80605de96402', '0x69b200c48ba4e15c4593fe638c9458afe2143b473958fa678a5e80b224f274b3', '0x69b200c48ba4e15c4593fe638c9458afe2143b473958fa678a5e80b224f274b3', '0x4c5bbf98438e91566ca61c3b9c7cdb7744b712ded4434ec778b03394d7e2c663', '0x4c5bbf98438e91566ca61c3b9c7cdb7744b712ded4434ec778b03394d7e2c663', '0x0e6440d5d3f913b9ad6b48e8df8b5e6617c6c73e45bfb1adbee158332a4c20ce', '0x0e6440d5d3f913b9ad6b48e8df8b5e6617c6c73e45bfb1adbee158332a4c20ce', '0xe5829a236bf3a67da8d0b0d480d978ac2a3bc8da84d716624d10312e2387e301', '0xe5829a236bf3a67da8d0b0d480d978ac2a3bc8da84d716624d10312e2387e301', '0xd7bfaccfc72c0c11dd03f4f962e8098fee14d463c4e6cbd057b1171363e1a8d2', '0xd7bfaccfc72c0c11dd03f4f962e8098fee14d463c4e6cbd057b1171363e1a8d2', '0xce111db8ab7bb82966ee6bd96f2fc26d4ff4fcafafa8fc42c895ecf100db8c64', '0xce111db8ab7bb82966ee6bd96f2fc26d4ff4fcafafa8fc42c895ecf100db8c64', '0x8629873c08f913e9f51ecac42c1c086a5e123aff48f7146dc13211ee229ae5d4', '0x8629873c08f913e9f51ecac42c1c086a5e123aff48f7146dc13211ee229ae5d4', '0x2c7e36e4132f74722aed8a98241bf2f593d8df4be7dd196cb76557a9e45c653a', '0x2c7e36e4132f74722aed8a98241bf2f593d8df4be7dd196cb76557a9e45c653a', '0x2239b92235100f80b492b934f1430d30030d915c7f3974ed442f26f321ee3cb6', '0x2239b92235100f80b492b934f1430d30030d915c7f3974ed442f26f321ee3cb6', '0x4e6dd7a68cafdee979ab48a272d55505f99ed38aa44f0b1dabe47a09690aa35d', '0x4e6dd7a68cafdee979ab48a272d55505f99ed38aa44f0b1dabe47a09690aa35d', '0x24e5602af12ecb973cf6481746409b2869651566ee0ee5e38724356e24b123e8', '0x24e5602af12ecb973cf6481746409b2869651566ee0ee5e38724356e24b123e8', '0xf187d0296fc82d3c947caa1c1ae28354e43d5a1af9212eef7d351b80b8007b2b', '0xf187d0296fc82d3c947caa1c1ae28354e43d5a1af9212eef7d351b80b8007b2b', '0xf4484d7a807295e1d66edc3afe33c53d3390ccf1cc1b75e0989ff6b369d8beb7', '0xf4484d7a807295e1d66edc3afe33c53d3390ccf1cc1b75e0989ff6b369d8beb7', '0x9d17b88f1cf4eee437d432931e9785a555261bb9b879979e45ba7c9ff2f6c5e6', '0x9d17b88f1cf4eee437d432931e9785a555261bb9b879979e45ba7c9ff2f6c5e6', '0x1a3f6d642f380b46acb3cad9ce44ce8372141f9f5163a71d7d927b7f00ecc894', '0x241eef43040dc3d4cf45d7c1f73f790491319f5c08223adf6bbc32c132706f20', '0x241eef43040dc3d4cf45d7c1f73f790491319f5c08223adf6bbc32c132706f20', '0x1a3f6d642f380b46acb3cad9ce44ce8372141f9f5163a71d7d927b7f00ecc894', '0x6f31006ca91073c53bd9965a5e37661739d723c8b54e725a2cd292c6c1deafd6', '0x6f31006ca91073c53bd9965a5e37661739d723c8b54e725a2cd292c6c1deafd6', '0xc16450a858d6bbad1424622fd3f8ce05d500640998e5345277631cb036704c1a', '0xc16450a858d6bbad1424622fd3f8ce05d500640998e5345277631cb036704c1a', '0xffaa9379079ce00913e020b42954540a05b1c9c923638387d6300ac1207932e3', '0xffaa9379079ce00913e020b42954540a05b1c9c923638387d6300ac1207932e3', '0x2eb499edd63cc1a95877d48d0c4ca0868be18a3b3df55354e6e244021ebc4b04', '0x2eb499edd63cc1a95877d48d0c4ca0868be18a3b3df55354e6e244021ebc4b04', '0x2eb499edd63cc1a95877d48d0c4ca0868be18a3b3df55354e6e244021ebc4b04', '0x2eb499edd63cc1a95877d48d0c4ca0868be18a3b3df55354e6e244021ebc4b04', '0x260042fcaec212ffed823e639d4cf4486a804c1aef86f814786826ee8389c050', '0x260042fcaec212ffed823e639d4cf4486a804c1aef86f814786826ee8389c050', '0x1dd9e354d9eb5a03b808b16061dca38c42215792ef40d0363dbbeb56fecfc4fc', '0x1dd9e354d9eb5a03b808b16061dca38c42215792ef40d0363dbbeb56fecfc4fc', '0xf9a3ea66090bd81e490fa383cd02a36f18c773a516abf1228102b35ea7635dde', '0xf9a3ea66090bd81e490fa383cd02a36f18c773a516abf1228102b35ea7635dde', '0xb378a6d75f8deeaf758f6491a5cf101fdac76d450b9a6c24475eb868ff0a4e9f', '0xb378a6d75f8deeaf758f6491a5cf101fdac76d450b9a6c24475eb868ff0a4e9f', '0xfa91502ad074aa11f0ff5857412980c6729e1f1a3f26089654b1635bf8084b5c', '0xfa91502ad074aa11f0ff5857412980c6729e1f1a3f26089654b1635bf8084b5c', '0x82161590f56273aa5a95180816e5cec8d154518e10933dc5b428c7dc87485d9a', '0x82161590f56273aa5a95180816e5cec8d154518e10933dc5b428c7dc87485d9a', '0x2f068433d171ab1e97c7deae4058f1e94fba9e924ef581b94e88f697647f6b3a', '0x2f068433d171ab1e97c7deae4058f1e94fba9e924ef581b94e88f697647f6b3a', '0xc72da6a89fc1ab66e07d5768ac7da37cef4dc9315d32df9964aceff94e87b0e2', '0xc72da6a89fc1ab66e07d5768ac7da37cef4dc9315d32df9964aceff94e87b0e2', '0x8a97da646af756f2b9fefc36f6b36bf76d12fa3b4562ceb8a90f87be3942ecea', '0x8a97da646af756f2b9fefc36f6b36bf76d12fa3b4562ceb8a90f87be3942ecea', '0xdeb37ada10843561602f853c0953db9692aa455c218ac58e0313545c0915250c', '0xdeb37ada10843561602f853c0953db9692aa455c218ac58e0313545c0915250c', '0x2b8d18b82af666b1487f2e43c0a9d55b134d592f24cb2dc3f155ed5fa3d4ac3c', '0x2b8d18b82af666b1487f2e43c0a9d55b134d592f24cb2dc3f155ed5fa3d4ac3c', '0xdd327acda0d37eb3cbff7a019f5f161486b5a7c766e7be921ceab40a3c7c2638', '0xdd327acda0d37eb3cbff7a019f5f161486b5a7c766e7be921ceab40a3c7c2638', '0xca83abca6b3c60608dacc27fe6507fb42cab5600ebd2b28f52e8d9aa0fb01bf3', '0xca83abca6b3c60608dacc27fe6507fb42cab5600ebd2b28f52e8d9aa0fb01bf3', '0x05d898c1f5a51ebbde145ad0c28ff997eb8b7fc094899d10895ce5f8397a385b', '0x05d898c1f5a51ebbde145ad0c28ff997eb8b7fc094899d10895ce5f8397a385b', '0x1e49b4aa8f6a77a104ac0013edd25480c33d90336549905a4a06247ec043f430', '0x1e49b4aa8f6a77a104ac0013edd25480c33d90336549905a4a06247ec043f430', '0x3cd63443653ce8834d44af20223d6a1e6d2cf64b01fe807c4421550ef53336e7', '0x3cd63443653ce8834d44af20223d6a1e6d2cf64b01fe807c4421550ef53336e7', '0xfd391b7f29473a2343e769162dee34882522ba0fdd162329b114c0aa75f306d4', '0xfd391b7f29473a2343e769162dee34882522ba0fdd162329b114c0aa75f306d4', '0xaad798395154ce243c067949cd2100318075a4cf2440fe172f9cd0772bbeefae', '0xaad798395154ce243c067949cd2100318075a4cf2440fe172f9cd0772bbeefae', '0x01a9630602ea9d4e974b0aa14e8618067ddc55950376e415b2f65b36778603a3', '0x01a9630602ea9d4e974b0aa14e8618067ddc55950376e415b2f65b36778603a3', '0xe30ebe71b8ff2b7573488383e816de48a8e7b05fbb03e089b18689ca34a29a31', '0xe30ebe71b8ff2b7573488383e816de48a8e7b05fbb03e089b18689ca34a29a31', '0xbe4417e97c31d532404577107b20049bbb7fa6023112339f4463a157f39e2883', '0xbe4417e97c31d532404577107b20049bbb7fa6023112339f4463a157f39e2883', '0x93ef9b8b091d9510e004b8ef636e66299b3de9a04446716000bb8da3e87d9b02', '0x93ef9b8b091d9510e004b8ef636e66299b3de9a04446716000bb8da3e87d9b02', '0x7a52bbc519f52206a1fa1e3f229209012bb4d52f2fb45541c38d2009733498bb', '0x7a52bbc519f52206a1fa1e3f229209012bb4d52f2fb45541c38d2009733498bb', '0x6ad796862f9d065bcc23321e947c695f7a4925ae744726575c65d85ca93c5d03', '0x6ad796862f9d065bcc23321e947c695f7a4925ae744726575c65d85ca93c5d03', '0x4819726fee97167e84de7f4598cfa646c250f22cac79210ca89d08ec94c917b5', '0x4819726fee97167e84de7f4598cfa646c250f22cac79210ca89d08ec94c917b5', '0xb01ba0e3d1a18b2a2134d64af3469a56aaf281c95a4a20b80c512db44dca774a', '0xb01ba0e3d1a18b2a2134d64af3469a56aaf281c95a4a20b80c512db44dca774a', '0x95f8b97fb8e85f3a60bfdef3689dc7120049fafa64b81638ec37e31ab8fbdb4f', '0x95f8b97fb8e85f3a60bfdef3689dc7120049fafa64b81638ec37e31ab8fbdb4f', '0xa9ee7b9b8c4b2e36a20cadd2db64287282af8644afd2d0cb98ae58ad34ebfa91', '0xa9ee7b9b8c4b2e36a20cadd2db64287282af8644afd2d0cb98ae58ad34ebfa91', '0x97e25ea18ef708cc67c8ef509ff67ed1674e9a9572c0c06d17c4d79f1aa1457b', '0x97e25ea18ef708cc67c8ef509ff67ed1674e9a9572c0c06d17c4d79f1aa1457b', '0x2ceb1eeb6d4e15f65ccecdb1f0d25a48ca2bf21c1bc29bb8e15dad293473bce1', '0x2ceb1eeb6d4e15f65ccecdb1f0d25a48ca2bf21c1bc29bb8e15dad293473bce1', '0xc56d0da29e6a25f2c76569ace56ceab72721db76738c30caaaf94c68283092be', '0xc56d0da29e6a25f2c76569ace56ceab72721db76738c30caaaf94c68283092be', '0xdb94311c7ebcdcb784707783a3649f720b563bd5388a4f2cfa47cc8e44f60b86', '0xdb94311c7ebcdcb784707783a3649f720b563bd5388a4f2cfa47cc8e44f60b86', '0x092527a40e8de50bdb18401f5810d1fa292db7c52a651a5e4894fb55cb82e415', '0x092527a40e8de50bdb18401f5810d1fa292db7c52a651a5e4894fb55cb82e415', '0xfef08dc0c46c5a8266b11ee664f945b5b0eba77906364dcb1565b1a4bd46808c', '0xfef08dc0c46c5a8266b11ee664f945b5b0eba77906364dcb1565b1a4bd46808c', '0x0e9a9ed618c0cca4af3b2c02eb9bc9491357473b342e72a77fe06804e323db96', '0x0e9a9ed618c0cca4af3b2c02eb9bc9491357473b342e72a77fe06804e323db96', '0xc9f19628d00724976b4f5fd4ac891194df4bce282ed5ab0b55cd1829300533bc', '0xc9f19628d00724976b4f5fd4ac891194df4bce282ed5ab0b55cd1829300533bc', '0x6240b078f6c7e67206b464ba412706f109e76101c6a21dfc3b51cccf56255e01', '0x6240b078f6c7e67206b464ba412706f109e76101c6a21dfc3b51cccf56255e01', '0xa097019cf0911e1f1e66b6f42ded19f71a8f0970d0b06a8897ccaa68f112bccc', '0xa097019cf0911e1f1e66b6f42ded19f71a8f0970d0b06a8897ccaa68f112bccc', '0x29fc8e88ff81a421383bb1f7328069774246ab443453497704364ff054a2a3fd', '0x29fc8e88ff81a421383bb1f7328069774246ab443453497704364ff054a2a3fd', '0xee1cedd71a6da952c0b43adeb7761aa5306645816fd6c7d9c649aa9c9673fc44', '0xee1cedd71a6da952c0b43adeb7761aa5306645816fd6c7d9c649aa9c9673fc44', '0xf492f6d5f4d7924a43259c73d134043c20392a7bb5489773b5161494aacc02d1', '0xf492f6d5f4d7924a43259c73d134043c20392a7bb5489773b5161494aacc02d1', '0xc173358ddfe6b04cfe74959a5d9769fcd46dba4c0bead54af0057ec13a2fa4a7', '0xc173358ddfe6b04cfe74959a5d9769fcd46dba4c0bead54af0057ec13a2fa4a7', '0x7d14234b765329b2618e0a5a923de1a3dcc15293ae05d03dd12e58d2b9901a8f', '0x7d14234b765329b2618e0a5a923de1a3dcc15293ae05d03dd12e58d2b9901a8f', '0xe23e581f48e1e222226c5a5c3cb4477e3a81536bb777aedc4e8c33a03c5fb054', '0xe23e581f48e1e222226c5a5c3cb4477e3a81536bb777aedc4e8c33a03c5fb054', '0xe23e581f48e1e222226c5a5c3cb4477e3a81536bb777aedc4e8c33a03c5fb054', '0xe23e581f48e1e222226c5a5c3cb4477e3a81536bb777aedc4e8c33a03c5fb054', '0xb60efd35ffc463912fb6178db5c6b665ebf039e37e259e7a6ea62647de595a62', '0xb60efd35ffc463912fb6178db5c6b665ebf039e37e259e7a6ea62647de595a62', '0x3a32392588f74d9e3096b9f21d14ec0d4c1c188bc1957a54a7d6767a78f88440', '0x3a32392588f74d9e3096b9f21d14ec0d4c1c188bc1957a54a7d6767a78f88440', '0x3a32392588f74d9e3096b9f21d14ec0d4c1c188bc1957a54a7d6767a78f88440', '0x3a32392588f74d9e3096b9f21d14ec0d4c1c188bc1957a54a7d6767a78f88440', '0x576d277040cc32145bb2b1e5d27c3c2d91b6660f7b71de07c167a800ff4fa7b1', '0x576d277040cc32145bb2b1e5d27c3c2d91b6660f7b71de07c167a800ff4fa7b1', '0x47f21b16765db9793f089bd34406937b949d6d2590137873baee0809a7de6f4f', '0x47f21b16765db9793f089bd34406937b949d6d2590137873baee0809a7de6f4f', '0x7119888c5207e57db3b80eb6c3445fc5f55742fdf739c46c16047e0222a3ae80', '0x7119888c5207e57db3b80eb6c3445fc5f55742fdf739c46c16047e0222a3ae80', '0x84cbb733047d29a1480e26f9d69be21c22fc2a4a6e6c3c115cf26734e3934a6f', '0x84cbb733047d29a1480e26f9d69be21c22fc2a4a6e6c3c115cf26734e3934a6f', '0x057d3dad4f7cbba8d16ec6b5e81b30af130a62b191fd728bf8ac7da8f4258f17', '0x057d3dad4f7cbba8d16ec6b5e81b30af130a62b191fd728bf8ac7da8f4258f17', '0x288522225bbd58f5bd76aa91eebd1661fb7b4dea6d30686df360b94326037255', '0x288522225bbd58f5bd76aa91eebd1661fb7b4dea6d30686df360b94326037255', '0x24130aecbc1c791a2c98f2fcc0e1c03dee5999cb2e881126405b31350cfb1eaa', '0x24130aecbc1c791a2c98f2fcc0e1c03dee5999cb2e881126405b31350cfb1eaa', '0x24130aecbc1c791a2c98f2fcc0e1c03dee5999cb2e881126405b31350cfb1eaa', '0x24130aecbc1c791a2c98f2fcc0e1c03dee5999cb2e881126405b31350cfb1eaa', '0xf08e478ec4a8fd00f5c35478f42b5c7346d93fa06b7923a3f99c99a5c9541940', '0xf08e478ec4a8fd00f5c35478f42b5c7346d93fa06b7923a3f99c99a5c9541940', '0x870c3e086baeb04e6f350c34a9388d4c5104f3f84630cd135e6b5872b6cac11d', '0x870c3e086baeb04e6f350c34a9388d4c5104f3f84630cd135e6b5872b6cac11d', '0x2c52546118f18c9daff38dfe9ab108cdcd10b5931bff825c7a588a0141df13fd', '0x2c52546118f18c9daff38dfe9ab108cdcd10b5931bff825c7a588a0141df13fd', '0xc671a8f252e75d1d33218b60ea93b48be2866eb6b31f1adc436d9d866eb2967d', '0xc671a8f252e75d1d33218b60ea93b48be2866eb6b31f1adc436d9d866eb2967d', '0xc3e0f72cd6e583fad634614b304ba2ede040ed5e1d4397ae4c16742a0d2de6bf', '0xc3e0f72cd6e583fad634614b304ba2ede040ed5e1d4397ae4c16742a0d2de6bf', '0xaa42224aa6703a2e3b3ca0bba22f832f0cf35255eb9f3d50cd7379a27be592d5', '0xaa42224aa6703a2e3b3ca0bba22f832f0cf35255eb9f3d50cd7379a27be592d5', '0xd90737b4dc31b88b1030f69d2d5d6467faef41c7da4295e965de2bbd7a94994d', '0xd90737b4dc31b88b1030f69d2d5d6467faef41c7da4295e965de2bbd7a94994d', '0x21ef89874235bf4b74c785960022c10b5ecb208dc655cf2e01e6aed53593b2f3', '0x21ef89874235bf4b74c785960022c10b5ecb208dc655cf2e01e6aed53593b2f3', '0x11312bd1b23bc581429536b8869bec5acce33097cd64d39515185b7df15eb8fc', '0x11312bd1b23bc581429536b8869bec5acce33097cd64d39515185b7df15eb8fc', '0x31380ad1a5af9a1fa9a5b1ced4ab424383d35986ea89819e344b5afbd08a4002', '0x31380ad1a5af9a1fa9a5b1ced4ab424383d35986ea89819e344b5afbd08a4002', '0xa02982325ca215e087985941d0adf083746ec17931cc416c5a8fb84ef35be712', '0xa02982325ca215e087985941d0adf083746ec17931cc416c5a8fb84ef35be712', '0x29505aa331fe48a3ef16eaf92dc09231a15622e8eea45e161e04da0b29e1880d', '0x29505aa331fe48a3ef16eaf92dc09231a15622e8eea45e161e04da0b29e1880d', '0xa36b9bd1eda0e5599f7dfa9739ba92678666f0519c9500f871627f3205e7b480', '0xa36b9bd1eda0e5599f7dfa9739ba92678666f0519c9500f871627f3205e7b480', '0xcb1d23fd99ce3897b87e51a3c8a96ae10877a2283b88b1397a974577e456f8bb', '0xcb1d23fd99ce3897b87e51a3c8a96ae10877a2283b88b1397a974577e456f8bb', '0xd9e4be4ac5845a590f26320295ecdc0c312899d5434c4be06d6641f484623dec', '0xd9e4be4ac5845a590f26320295ecdc0c312899d5434c4be06d6641f484623dec', '0xf69bb2b220dd277cb657bdbb5f46a443fbd72cc984f6704ca7623116cacf2846', '0xf69bb2b220dd277cb657bdbb5f46a443fbd72cc984f6704ca7623116cacf2846', '0x3356b759087e170810a9c4449d2b4be02654fb3274b3cb7661a3b7e0e7fc5f08', '0x3356b759087e170810a9c4449d2b4be02654fb3274b3cb7661a3b7e0e7fc5f08', '0xd238749da51e578fbeae077d6eb7187c2afb8da110255a1720ce65c60cb9d799', '0xd238749da51e578fbeae077d6eb7187c2afb8da110255a1720ce65c60cb9d799', '0xd12fbbfc996305498ba2f537139aa7bef331b2694dc87f84d752c6e281b8fb06', '0xd12fbbfc996305498ba2f537139aa7bef331b2694dc87f84d752c6e281b8fb06', '0xd9ba6c0451d8f51e30e20889c49b92756769b5f11b3af7597cfa2f8db4b624e9', '0xd9ba6c0451d8f51e30e20889c49b92756769b5f11b3af7597cfa2f8db4b624e9', '0xd0154405239927798fc4e7e3a257bd6850e3de910509a379b041968e963ab116', '0xd0154405239927798fc4e7e3a257bd6850e3de910509a379b041968e963ab116', '0x547be51e4b16243bcdcdd41b3c13272a78af923c16e245b44d4189a1bd6e8ab2', '0x547be51e4b16243bcdcdd41b3c13272a78af923c16e245b44d4189a1bd6e8ab2', '0x5d972beea0cae7f7742f0c45066ba8c6cd3ab9258e0b02ecc6cad57d9723d933', '0x5d972beea0cae7f7742f0c45066ba8c6cd3ab9258e0b02ecc6cad57d9723d933', '0xee172d4a516d189912daa35bf68420057af19e6ff4109d9ca4a488faf7f110ad', '0xee172d4a516d189912daa35bf68420057af19e6ff4109d9ca4a488faf7f110ad', '0x3be1502a7e4604738d93ccbbfbdfda3a8fd41b0b507b06fc794a9c6f89cf838b', '0x3be1502a7e4604738d93ccbbfbdfda3a8fd41b0b507b06fc794a9c6f89cf838b', '0x7d9bb47833f27057b5b12d2f52f47a5438df89586e0668e8664564f082b7b1ee', '0x7d9bb47833f27057b5b12d2f52f47a5438df89586e0668e8664564f082b7b1ee', '0x726ad8d8f9693fac518c5bef0e0c17e9cb193f55659045beae32b51eba48eeda', '0x726ad8d8f9693fac518c5bef0e0c17e9cb193f55659045beae32b51eba48eeda', '0x459976b84b7cc26038ffcdbabc2c27351ef12fa4918fe1425f827477565fe5cc', '0x459976b84b7cc26038ffcdbabc2c27351ef12fa4918fe1425f827477565fe5cc', '0xf27694467b0ee94af26d539a57a95d29051af7c3f63ce1fb2c348afeaf296065', '0xf27694467b0ee94af26d539a57a95d29051af7c3f63ce1fb2c348afeaf296065', '0xfb91eb68aca96e7406f6434f420c08c9a10ea99147310e74024530bd16ebab1d', '0xfb91eb68aca96e7406f6434f420c08c9a10ea99147310e74024530bd16ebab1d', '0xfb91eb68aca96e7406f6434f420c08c9a10ea99147310e74024530bd16ebab1d', '0xfb91eb68aca96e7406f6434f420c08c9a10ea99147310e74024530bd16ebab1d', '0x1cdf1e74692ebf768e5dbf5265dbb5b40340ac74b8a22272674aac908c56660b', '0x1cdf1e74692ebf768e5dbf5265dbb5b40340ac74b8a22272674aac908c56660b', '0x34e0c08833c4782f7b7df8b40a5ce0ce5ebf24cddf93a5ec3446d0bf1a9559ca', '0x34e0c08833c4782f7b7df8b40a5ce0ce5ebf24cddf93a5ec3446d0bf1a9559ca', '0xef51fea502b767d4240975edd1134341ecd9def363b10096684fcd52928ede81', '0xef51fea502b767d4240975edd1134341ecd9def363b10096684fcd52928ede81', '0x92e522c5e5087251231d060cd7fbd67d41324e9bcbfaece2038306fee1657f7a', '0x92e522c5e5087251231d060cd7fbd67d41324e9bcbfaece2038306fee1657f7a', '0x7cf55c7ba7546b51914127e91bad6d9b9352bd04117517a6e1c69cc142a61b83', '0x7cf55c7ba7546b51914127e91bad6d9b9352bd04117517a6e1c69cc142a61b83', '0xd3e06503c1d38e28621a4abd8b3c7de73fdaa4e69093feee8b37f8e0acfd9108', '0xd3e06503c1d38e28621a4abd8b3c7de73fdaa4e69093feee8b37f8e0acfd9108', '0xb78b136ad2262b1a6a1aa280ae874c4447800023eddf6a0381d73a5c90e46d70', '0xb78b136ad2262b1a6a1aa280ae874c4447800023eddf6a0381d73a5c90e46d70', '0x1711cae2088ec01d319772604cf642fbc5df0614c6d2782c9dc721716b0b5e3e', '0x1711cae2088ec01d319772604cf642fbc5df0614c6d2782c9dc721716b0b5e3e', '0x825d7eab58fa9b714a3fc943989cac6af25a6820d653ea5d40db1a3708ffa1b6', '0x825d7eab58fa9b714a3fc943989cac6af25a6820d653ea5d40db1a3708ffa1b6', '0xd307a8b143219eacfd3f8a0a8ade73e619100ef0ee50ab28b58ac67d4c559607', '0xd307a8b143219eacfd3f8a0a8ade73e619100ef0ee50ab28b58ac67d4c559607', '0x58a3324d7e8122ac63deffa35da06069c1d014a48492f3fdf9e0d92bec05ccf5', '0x58a3324d7e8122ac63deffa35da06069c1d014a48492f3fdf9e0d92bec05ccf5', '0x58a3324d7e8122ac63deffa35da06069c1d014a48492f3fdf9e0d92bec05ccf5', '0x58a3324d7e8122ac63deffa35da06069c1d014a48492f3fdf9e0d92bec05ccf5', '0x550b092dd82ea43d4f1a3d9da10b237255776b042d4f3ef3eaac606e78bcde44', '0x550b092dd82ea43d4f1a3d9da10b237255776b042d4f3ef3eaac606e78bcde44', '0x550b092dd82ea43d4f1a3d9da10b237255776b042d4f3ef3eaac606e78bcde44', '0x550b092dd82ea43d4f1a3d9da10b237255776b042d4f3ef3eaac606e78bcde44', '0x36c3c87b6d158d7b43b1f184efbc8960ab91ed04093d126da3326d48faf0e7c8', '0x36c3c87b6d158d7b43b1f184efbc8960ab91ed04093d126da3326d48faf0e7c8', '0xcca1b9fe93338c5659e762d899ae213c3cdd68b0603167704db74a9d1f783b42', '0xcca1b9fe93338c5659e762d899ae213c3cdd68b0603167704db74a9d1f783b42', '0x7be544d45d395373c5dc571cf68b10ef86160bbf02a99c3d7fde003189536fa1', '0x7be544d45d395373c5dc571cf68b10ef86160bbf02a99c3d7fde003189536fa1', '0x7860eb4eafb1f67ef9e69d798b57a3c3afa9db05fe056c35f0c9ef3a57e187a1', '0x7860eb4eafb1f67ef9e69d798b57a3c3afa9db05fe056c35f0c9ef3a57e187a1', '0x5bfde293379267cad0cf57527cf66806aa2e4378358a0dc901b88f2b2753b758', '0x5bfde293379267cad0cf57527cf66806aa2e4378358a0dc901b88f2b2753b758', '0xa314454d021549d457d89aa6e4838df897b1c11fd264c5c350d98e0fec8a64e4', '0xa314454d021549d457d89aa6e4838df897b1c11fd264c5c350d98e0fec8a64e4', '0xe5d25c212acfeb9db8110c6079401922ed600b5c811607880e56840fe29d26e6', '0xe5d25c212acfeb9db8110c6079401922ed600b5c811607880e56840fe29d26e6', '0xd922eea3930f719f377ba91221159541aa5960ba1e200b7c1f4f3382439c20db', '0xd922eea3930f719f377ba91221159541aa5960ba1e200b7c1f4f3382439c20db', '0x73a7a61df6acacbd56b0c379a8f79a5ac5f5ad86d2246348105b1b756ce38b08', '0x73a7a61df6acacbd56b0c379a8f79a5ac5f5ad86d2246348105b1b756ce38b08', '0x52397498e56f036047f622f3d539f4f31dc3215586454dc3a4ea3baccd3902f6', '0x52397498e56f036047f622f3d539f4f31dc3215586454dc3a4ea3baccd3902f6', '0x4bde3127e08091a2abbf95b05d2b29f143ada85d3063198848a5d206e9281ecb', '0x4bde3127e08091a2abbf95b05d2b29f143ada85d3063198848a5d206e9281ecb', '0x27133c6d7e56ef70c27013801c0d7b9379497791d17fc729bfb0226bcff4ea88', '0x27133c6d7e56ef70c27013801c0d7b9379497791d17fc729bfb0226bcff4ea88', '0xf2a7afa8a88cc337c7cce6e6962e1c633d6030d2ef3c17eb895938b906c8e3ba', '0xf2a7afa8a88cc337c7cce6e6962e1c633d6030d2ef3c17eb895938b906c8e3ba', '0xfe7dcea98f1760c334692e82588838c867f641a9ed770eb45f2062ae16d26210', '0xfe7dcea98f1760c334692e82588838c867f641a9ed770eb45f2062ae16d26210', '0x082a98110a4df75807831bde2eebe0f012b48180451fc79a4a1a026b1dbe7e28', '0x082a98110a4df75807831bde2eebe0f012b48180451fc79a4a1a026b1dbe7e28', '0x0a8c28e7fd3123dc01e5c0d3182ce7d5ac5c12225de5af7416bc84f6b579591b', '0x0a8c28e7fd3123dc01e5c0d3182ce7d5ac5c12225de5af7416bc84f6b579591b', '0x613ea2e5b7da9e62a977ba5cd7962b60ed2fc2dff2b26d2a5d56fbfe769ec3bb', '0x613ea2e5b7da9e62a977ba5cd7962b60ed2fc2dff2b26d2a5d56fbfe769ec3bb', '0xc70b04db51c35428ce7a3b75d459aca05a8f5272245f8e18c7782a99221086e9', '0xc70b04db51c35428ce7a3b75d459aca05a8f5272245f8e18c7782a99221086e9', '0xd8385a372f8bbc0caf913e661dc3fb984a65fc8aecf473743a0d6968dce9f882', '0xd8385a372f8bbc0caf913e661dc3fb984a65fc8aecf473743a0d6968dce9f882', '0xe2ede94caf1aae01c3b8e545e16bb9a975af8037aee09bea7813be1a7bc9f263', '0xe2ede94caf1aae01c3b8e545e16bb9a975af8037aee09bea7813be1a7bc9f263', '0xf13f83cb764dcb6efa7e0658c40e58a7ee0589219e345ded535b865c5f9c1b29', '0xf13f83cb764dcb6efa7e0658c40e58a7ee0589219e345ded535b865c5f9c1b29', '0xdc96e560f37d302d78934f18cf23725f130c72d250eaf05eccc2024b934b399d', '0xdc96e560f37d302d78934f18cf23725f130c72d250eaf05eccc2024b934b399d', '0xe0b554c5320b56e4790d63289931944c45ae6a01cceaecb0c69a844b9d63b9fc', '0xe0b554c5320b56e4790d63289931944c45ae6a01cceaecb0c69a844b9d63b9fc', '0x24f9ad7fda273ed8f4774a055ad92e40021b46aa4b43d5f3c2c5572152a06684', '0x24f9ad7fda273ed8f4774a055ad92e40021b46aa4b43d5f3c2c5572152a06684', '0x03a73bc88fb55c2ab3b9220f6ea2252318783fae496cdd8483b8a75188d06a3c', '0x03a73bc88fb55c2ab3b9220f6ea2252318783fae496cdd8483b8a75188d06a3c', '0x2e607840b1e57dad2131b5ada4deb188504d26c82def311612940661b3b7fd00', '0x2e607840b1e57dad2131b5ada4deb188504d26c82def311612940661b3b7fd00', '0xcdb50acb26adf96917b1c720e72498b5e4a4a7660e657a7c2ed49f1e9c476ad9', '0xcdb50acb26adf96917b1c720e72498b5e4a4a7660e657a7c2ed49f1e9c476ad9', '0xada423a98e667eba705db0800c00d1928a5efa8067ebdacf03b212e8ac279da7', '0xada423a98e667eba705db0800c00d1928a5efa8067ebdacf03b212e8ac279da7', '0x0f39d0f65feef27d4cdb2dbd10b9f12e85d92d3214a3ef3d2b86e75689a6759a', '0x0f39d0f65feef27d4cdb2dbd10b9f12e85d92d3214a3ef3d2b86e75689a6759a', '0x8dac8a5e013e20e26c7e43452df7a62e5e526728ab98dc01a49fd152732beb4a', '0x8dac8a5e013e20e26c7e43452df7a62e5e526728ab98dc01a49fd152732beb4a', '0x79debb8bf46f3914c1827800666ad4b1086d1d12b22b358e5de4343adc1c84d7', '0x79debb8bf46f3914c1827800666ad4b1086d1d12b22b358e5de4343adc1c84d7', '0x00d7c2d4e64c61885c4b700c75237b49d3f63d1df74373d057838ac86ecc12ca', '0x00d7c2d4e64c61885c4b700c75237b49d3f63d1df74373d057838ac86ecc12ca', '0xb4a76fd31dfd69170113826c894b285014fdf0e7849504952442ad2c159b83bb', '0xb4a76fd31dfd69170113826c894b285014fdf0e7849504952442ad2c159b83bb', '0x4e955d8feac382805f98ad94feeeea2689e545db4b77354c1e49fce3b1ce9dde', '0x4e955d8feac382805f98ad94feeeea2689e545db4b77354c1e49fce3b1ce9dde', '0x8a2de7eaae6903c9ec61c1cf9bd6b61fca2cd8e2eae389ec37edb82e8e8a0d01', '0xf1fe3b7cfe7a1df7d718917487bfdd68bb3287d972777399ac452b3936f57ba9', '0xf1fe3b7cfe7a1df7d718917487bfdd68bb3287d972777399ac452b3936f57ba9', '0x8a2de7eaae6903c9ec61c1cf9bd6b61fca2cd8e2eae389ec37edb82e8e8a0d01', '0x0c622d11ec414e31b37eee325b703b87e427b8549c2db2a2179df61d0fdce66f', '0x0c622d11ec414e31b37eee325b703b87e427b8549c2db2a2179df61d0fdce66f', '0x81a1c1a63ffcbc837fc3c024f698174466da5c4f09eeb49e70cbcb797adad7dc', '0x81a1c1a63ffcbc837fc3c024f698174466da5c4f09eeb49e70cbcb797adad7dc', '0xc842e7f4e8e223d06f318360e83aefba4935d6c66e2ae4533f397c8292c157a5', '0xc842e7f4e8e223d06f318360e83aefba4935d6c66e2ae4533f397c8292c157a5', '0x1f58696580221ed2bf6ba271358591f27936e24ab4ac28606f8a2f30ec38c11d', '0x1f58696580221ed2bf6ba271358591f27936e24ab4ac28606f8a2f30ec38c11d', '0x8253b2845cf8519c16a07830201c9a1d313721cfc41e827fa6ae4c4cfa54ca69', '0x8253b2845cf8519c16a07830201c9a1d313721cfc41e827fa6ae4c4cfa54ca69', '0x827dc739ef87ef6454cbba0085e42472cd15922d8986fdf21f1559008fc9485d', '0x2b79356f8623d3c66dbfe97ba33f8aef0828f3ec9b918c5997ea142bf9b2ee44', '0x827dc739ef87ef6454cbba0085e42472cd15922d8986fdf21f1559008fc9485d', '0x2b79356f8623d3c66dbfe97ba33f8aef0828f3ec9b918c5997ea142bf9b2ee44', '0x0f43bb4d1ae2642a4c4d32190d01c9491362358e2f1fa81674a13d86167a08d8', '0x0f43bb4d1ae2642a4c4d32190d01c9491362358e2f1fa81674a13d86167a08d8', '0xc5718167248173850772b0ead587d6b9a375edaa91552f17f48d83710db36b48', '0xc5718167248173850772b0ead587d6b9a375edaa91552f17f48d83710db36b48', '0xffc52743ff6dd14b5fab70182e8c66a44bb837af8d29e17870a58ccd71f34c1f', '0xffc52743ff6dd14b5fab70182e8c66a44bb837af8d29e17870a58ccd71f34c1f', '0x114ee4f6e1174529f4d35d40b37fe7cade35fed746161686eda99cbf73c829d7', '0x114ee4f6e1174529f4d35d40b37fe7cade35fed746161686eda99cbf73c829d7', '0x60e519365ea66cdd98a5dc81ddebe29e31795b9e0ed8136a9a88b66dc2731a0d', '0x60e519365ea66cdd98a5dc81ddebe29e31795b9e0ed8136a9a88b66dc2731a0d', '0xf2a3ccfa7ca2fc10401ef9af758477c87b3391f54e0a23adf534ccea8a71ef38', '0xf2a3ccfa7ca2fc10401ef9af758477c87b3391f54e0a23adf534ccea8a71ef38', '0x4e3ceedc253dd37a338273f43119912a9aa7f6d2977c91493e65c968e1c1d37e', '0x4e3ceedc253dd37a338273f43119912a9aa7f6d2977c91493e65c968e1c1d37e', '0x98d3fe4cd22bf3e31837d18b8aeffaa63a2b5cb2b2a4e1c346b92e99898f70b0', '0x98d3fe4cd22bf3e31837d18b8aeffaa63a2b5cb2b2a4e1c346b92e99898f70b0', '0xab9a08c90af707f448b578ef9346ba6d2f9f49c6f6a1a09e375429cc357af0c9', '0xab9a08c90af707f448b578ef9346ba6d2f9f49c6f6a1a09e375429cc357af0c9', '0x3565d0ef8c2583f6ccffe4ed1e9213268b4f9b57a54c1aa4adf50a8be1efdab5', '0x3565d0ef8c2583f6ccffe4ed1e9213268b4f9b57a54c1aa4adf50a8be1efdab5', '0xafb69a73ec2da5f2f70593078bd52e9139f83cc5abfd1fed15039dd7cbb2d0b4', '0xafb69a73ec2da5f2f70593078bd52e9139f83cc5abfd1fed15039dd7cbb2d0b4', '0x153ce6cd39963e42c312ff237932152155baa3c1f436ad13ee122789ae50b0ea', '0x153ce6cd39963e42c312ff237932152155baa3c1f436ad13ee122789ae50b0ea', '0xd3de9b2acdf11245047a590bfdea013a575cc89a2daa54b4e6d46a9f5200e0f9', '0xd3de9b2acdf11245047a590bfdea013a575cc89a2daa54b4e6d46a9f5200e0f9', '0x21af83d94614f133e9a59ad6e293a1880edfe2a243c7fced2149ebb1282371bc', '0x21af83d94614f133e9a59ad6e293a1880edfe2a243c7fced2149ebb1282371bc', '0x63a3b91b467e7387a3e13c54507b878db9a964dec9077bd6f157b04891779bf2', '0x63a3b91b467e7387a3e13c54507b878db9a964dec9077bd6f157b04891779bf2', '0x5792edd327b54dada2584002f313d4a8afa2b2c677da3aa74eb9a88d8fc3e889', '0x5792edd327b54dada2584002f313d4a8afa2b2c677da3aa74eb9a88d8fc3e889', '0x1b9848950ce6f579acd7a84f44f1cb9549a5d06fcc52be2215003703dc5b2f8c', '0x1b9848950ce6f579acd7a84f44f1cb9549a5d06fcc52be2215003703dc5b2f8c', '0x484efdd4794b2df075a1f46f7c22bb987ca480fa7864c9da49155b89612a2db5', '0x484efdd4794b2df075a1f46f7c22bb987ca480fa7864c9da49155b89612a2db5', '0xafe9057799099077b16c1aff249a19e5569b47781da5d1ca1e9e968a99664e2b', '0xafe9057799099077b16c1aff249a19e5569b47781da5d1ca1e9e968a99664e2b', '0x7eabeaf7c57f1d94b6b4495cf576a6b198d6dae211f249026c6c3d662ec6c173', '0x7eabeaf7c57f1d94b6b4495cf576a6b198d6dae211f249026c6c3d662ec6c173', '0xada779d1b5553879922bb25e7e538bb4df5e87f25714826ff574e680179bf7bb', '0xada779d1b5553879922bb25e7e538bb4df5e87f25714826ff574e680179bf7bb', '0xcb778fbef1571f7e9a250ce34664a6548db6f19603ab572fa71a20c6958c91ed', '0xcb778fbef1571f7e9a250ce34664a6548db6f19603ab572fa71a20c6958c91ed', '0xa2e8071ef3b72c366843ff80fa5361c1263553a064d579df237bd63c88aa4404', '0xa2e8071ef3b72c366843ff80fa5361c1263553a064d579df237bd63c88aa4404', '0xd8f1e54cf249d7b60aa8bba14bf2e3c64b5e93fcd8ad7e3837657932f2c15312', '0xd8f1e54cf249d7b60aa8bba14bf2e3c64b5e93fcd8ad7e3837657932f2c15312', '0x8b394d7c39afef236c561f6ad53cd2089f956478d2512d05d134ff57c4e3ff3b', '0x8b394d7c39afef236c561f6ad53cd2089f956478d2512d05d134ff57c4e3ff3b', '0xb977c355fe34a0678ce0f2c4260270e86138564d9f21348995b09389fe0598e2', '0xb977c355fe34a0678ce0f2c4260270e86138564d9f21348995b09389fe0598e2', '0xd3a4c275acdca13203bb7f42e948e1b04235d2940b2981644ba10d1cc936f1e2', '0xd3a4c275acdca13203bb7f42e948e1b04235d2940b2981644ba10d1cc936f1e2', '0x1e612fa85fd411eef6435d17f08eeb4a5373e7ce261137ef5bb63b28bc1d14c0', '0x1e612fa85fd411eef6435d17f08eeb4a5373e7ce261137ef5bb63b28bc1d14c0', '0x0d7fa320d7ee8c1a8c8de451a03dad06a3bb887f2a2f071c3b3312c5d2b20b60', '0x0d7fa320d7ee8c1a8c8de451a03dad06a3bb887f2a2f071c3b3312c5d2b20b60', '0x2c261210dc0f72948051edf87caa9f0717a9edb4b15d345a76f2768eeb102cb6', '0x2c261210dc0f72948051edf87caa9f0717a9edb4b15d345a76f2768eeb102cb6', '0xb437410f528ff3992a631368330f72c4e91fc21883bed5611d7c0c3491971e19', '0xb437410f528ff3992a631368330f72c4e91fc21883bed5611d7c0c3491971e19', '0x938321202679f8ff02d44783449d717d2cd7c8d00baf3f86fb88becc0a57abbf', '0x938321202679f8ff02d44783449d717d2cd7c8d00baf3f86fb88becc0a57abbf', '0xf4e434b4080af65b3bbfb7adb3d03a80400fbc041e5ea092a35ae519e173a214', '0xf4e434b4080af65b3bbfb7adb3d03a80400fbc041e5ea092a35ae519e173a214', '0xbe0e43bf9db751adf1879a2269d608f0ebbceec72a3b84439a90a143ee806fc9', '0xbe0e43bf9db751adf1879a2269d608f0ebbceec72a3b84439a90a143ee806fc9', '0x83ea0cf95c38bbe495dabd7723a30e2a56932ddd429bea4decde67e645cc3770', '0x83ea0cf95c38bbe495dabd7723a30e2a56932ddd429bea4decde67e645cc3770', '0xb241b6f72bf998e3be87800b5812be7348dd593a81074260a736cc717dda9a24', '0xb241b6f72bf998e3be87800b5812be7348dd593a81074260a736cc717dda9a24', '0x60130ecb766fbdd39f945e6222bafdac6255a679e5cd1a10ed5807d77066c00f', '0x60130ecb766fbdd39f945e6222bafdac6255a679e5cd1a10ed5807d77066c00f', '0xdc6615667c2323e5a900b8de657ccd2778007ef31e8be1d45e5bebfac3abbeee', '0xdc6615667c2323e5a900b8de657ccd2778007ef31e8be1d45e5bebfac3abbeee', '0xe8d5376c5e85f76d96b7d9055c101fed81bb58e25e050c7757a973a0a688a0d8', '0xe8d5376c5e85f76d96b7d9055c101fed81bb58e25e050c7757a973a0a688a0d8', '0xdf275f2ab9898b98bcfbc02eb1e27aba7fd4bd0c73ffb3591169a29cc8f0ad74', '0xdf275f2ab9898b98bcfbc02eb1e27aba7fd4bd0c73ffb3591169a29cc8f0ad74', '0xfad87cf47d53e39499c1f6732fc095ffc9e0eb95d4200a938c7ac2796a030a3d', '0xfad87cf47d53e39499c1f6732fc095ffc9e0eb95d4200a938c7ac2796a030a3d', '0x261487a95e5bc655662880c88b5f140df8e8b0d418c34a7cfcad68c70e3a0385', '0x261487a95e5bc655662880c88b5f140df8e8b0d418c34a7cfcad68c70e3a0385', '0xe5badc78bdc4ef2cb0c31e90b5b3d444b0eef5ea180e769666d907008d6a6e90', '0xe5badc78bdc4ef2cb0c31e90b5b3d444b0eef5ea180e769666d907008d6a6e90', '0xdfd19ac5441ac3b7ce2776603e961a31f604571dbc703b39dd5f904dd8424c2f', '0xdfd19ac5441ac3b7ce2776603e961a31f604571dbc703b39dd5f904dd8424c2f', '0x2fc5daf59d4d037774e3f71a9c912b0df35ed5d49e326599384c5569949ee298', '0x2fc5daf59d4d037774e3f71a9c912b0df35ed5d49e326599384c5569949ee298', '0xcd3f77f12544709330be7873fc013d62b4a5ad48cdabaeda07b7ff7e2323340b', '0xcd3f77f12544709330be7873fc013d62b4a5ad48cdabaeda07b7ff7e2323340b', '0x0bda4c9a5ac2870b5d4f4faaa9d3e98db372cb75cde6ab40675706db7c5c8f1f', '0x0bda4c9a5ac2870b5d4f4faaa9d3e98db372cb75cde6ab40675706db7c5c8f1f', '0xa6e08cf15708d5e7c5a3f1fa8b4ae8645592bd1f1c39fe80d6a9eba120b77ce0', '0xa6e08cf15708d5e7c5a3f1fa8b4ae8645592bd1f1c39fe80d6a9eba120b77ce0', '0x24deed702fc40403d8867fc41ecf986392e8e44e4f4f98ee81574d610cd7197f', '0x24deed702fc40403d8867fc41ecf986392e8e44e4f4f98ee81574d610cd7197f', '0x4c0c9d156674946f1f31180945f1d0bc4d694cda9b179011da8d18103d564aa0', '0x4c0c9d156674946f1f31180945f1d0bc4d694cda9b179011da8d18103d564aa0', '0x8024948b37368e80d8053d803ad0b53a84cc0c418d24496a6e0a374471c6b2e3', '0x8024948b37368e80d8053d803ad0b53a84cc0c418d24496a6e0a374471c6b2e3', '0x185d1176a730a88dd4aeed1a503f8697d0a0eae5b1dfc01a8368e4480b36f525', '0x185d1176a730a88dd4aeed1a503f8697d0a0eae5b1dfc01a8368e4480b36f525', '0x9ea7b95cd8791e3773717d19c9ade6b57e1a31e6d7ca20bf4fdeb74cdcd5a1e0', '0x9ea7b95cd8791e3773717d19c9ade6b57e1a31e6d7ca20bf4fdeb74cdcd5a1e0', '0xb63884eae839fa193bf85e43537dcf549c007fe9757177a61dcbf08b27e7554c', '0xb63884eae839fa193bf85e43537dcf549c007fe9757177a61dcbf08b27e7554c', '0x2b0c5cc6af47a7f4ae3848f5b66e9717fa5c12a78de4661ab2d01ec1d958d0d1', '0x2b0c5cc6af47a7f4ae3848f5b66e9717fa5c12a78de4661ab2d01ec1d958d0d1', '0x1ed39237880389ef3279459b674847f09e7fbf1c90a3feb2c1c4812064488a5a', '0x1ed39237880389ef3279459b674847f09e7fbf1c90a3feb2c1c4812064488a5a', '0xe2001dc7c0e30fe3b86d61870d2a336565042230174f898a992c876cd2d96137', '0xe2001dc7c0e30fe3b86d61870d2a336565042230174f898a992c876cd2d96137', '0x6c3eb1faf10cac5bc2d0957655562b62f7406ee91900d985455df7a79c529a1c', '0x6c3eb1faf10cac5bc2d0957655562b62f7406ee91900d985455df7a79c529a1c', '0xb78fc060931eaee46be1de8b48cd630c232c92a58c66d74d0d857cd4236d3c28', '0xb78fc060931eaee46be1de8b48cd630c232c92a58c66d74d0d857cd4236d3c28', '0x6d1b820db3f42a124647668536480de99d6e58f36da54f63d03f74871fcc8426', '0x6d1b820db3f42a124647668536480de99d6e58f36da54f63d03f74871fcc8426', '0xb977cec5fd48896142d6574121c2923ed225866526d2725ca380e3b2fa33fc7d', '0xb977cec5fd48896142d6574121c2923ed225866526d2725ca380e3b2fa33fc7d', '0xdafa5e365ee3d6aa665b86860e291b4f27ae3fe4a1762652a4ba57d7b1ee302f', '0xdafa5e365ee3d6aa665b86860e291b4f27ae3fe4a1762652a4ba57d7b1ee302f', '0xbac165b9fb6001fd8cbc0f2115e18744e9428b88dde6395c067171a5433ed1c7', '0xbac165b9fb6001fd8cbc0f2115e18744e9428b88dde6395c067171a5433ed1c7', '0xa74745085e0b92ebcc99820237fd78dcabf2a01ee63a471e8b1e90f6d2bce90d', '0xa74745085e0b92ebcc99820237fd78dcabf2a01ee63a471e8b1e90f6d2bce90d', '0xafb0f90387765ece85fc119cc23288980dee6e4a84281d420ea169cb845fd63a', '0xafb0f90387765ece85fc119cc23288980dee6e4a84281d420ea169cb845fd63a', '0x0a3d927043ef0ca0bd1eb6b261f77c5c5c90c1813d43c8ffb4da86e434cefd81', '0x0a3d927043ef0ca0bd1eb6b261f77c5c5c90c1813d43c8ffb4da86e434cefd81', '0x41b1a4203c5b5c271da74064be07ca8e90390f2816f8a4015e4291d98a3ecc48', '0x41b1a4203c5b5c271da74064be07ca8e90390f2816f8a4015e4291d98a3ecc48', '0xc00e80ca4f703648f9cee01a1eced694a99198cf21ea69afd88b4662c0740191', '0xc00e80ca4f703648f9cee01a1eced694a99198cf21ea69afd88b4662c0740191', '0x9edc1dc3d1684c5a6ad14d54d1b19e295d9e310de8c2c1b4144097741a970a64', '0x9edc1dc3d1684c5a6ad14d54d1b19e295d9e310de8c2c1b4144097741a970a64', '0xfdabcacf0041be4d3fd4b21d601335cb098980fd41f96afe2fd863c8c6a527d2', '0xfdabcacf0041be4d3fd4b21d601335cb098980fd41f96afe2fd863c8c6a527d2', '0x5ef066fbd2488588a9b58ab5d27557cbaf7db6131105d4ba216e5d4cb96940a9', '0x5ef066fbd2488588a9b58ab5d27557cbaf7db6131105d4ba216e5d4cb96940a9', '0xf9123aa9ad8ea91d04d183215de5a10c80976ca7dae9f543d36c785731748121', '0xf9123aa9ad8ea91d04d183215de5a10c80976ca7dae9f543d36c785731748121', '0x303e3cd1fd8e5cbd150a57120a8f4451944eb2518781c5b0041358e7ed6f02d0', '0x303e3cd1fd8e5cbd150a57120a8f4451944eb2518781c5b0041358e7ed6f02d0', '0xdd6113de3bf2c2c5b230335f0717ef874734ea48b36af31ff314ca813f954f61', '0xdd6113de3bf2c2c5b230335f0717ef874734ea48b36af31ff314ca813f954f61', '0xf595f458fbe9c79010aa64f695ad089518434377293d896ce71e88e7b946028a', '0xf595f458fbe9c79010aa64f695ad089518434377293d896ce71e88e7b946028a', '0x0ae3fc7e9c7221f30030d655d202bb95e83eacca59a615be192c3af25c97ea48', '0x0ae3fc7e9c7221f30030d655d202bb95e83eacca59a615be192c3af25c97ea48', '0x6c8653f672d0ec69816d73f5b7a2be4d0586fc7c3357e5bda049e1c5b7609451', '0x6c8653f672d0ec69816d73f5b7a2be4d0586fc7c3357e5bda049e1c5b7609451', '0x4184c24a2cb84b6c6d7547a07788056683b59b26be441da926d611b5797b1963', '0x4184c24a2cb84b6c6d7547a07788056683b59b26be441da926d611b5797b1963', '0x0173b5c5026ac8141d8b3d8ec61131e7814acf8639e747a9607e9decd749ecdc', '0x0173b5c5026ac8141d8b3d8ec61131e7814acf8639e747a9607e9decd749ecdc', '0x2f8c69fa839d565c89043a75592d771421498e0531d9147d1b3505a47a31bc36', '0x222eefa9d7339f5486a4b2078eb1844de6e94626c6d8777d7902f311279180a6', '0x222eefa9d7339f5486a4b2078eb1844de6e94626c6d8777d7902f311279180a6', '0x2f8c69fa839d565c89043a75592d771421498e0531d9147d1b3505a47a31bc36', '0x046ba3ded56ac013031567b55a91b1a5416a337136c9fbb356235ab3c41b5a75', '0x046ba3ded56ac013031567b55a91b1a5416a337136c9fbb356235ab3c41b5a75', '0xfbec3162ae45da679a9a6b3bcba7752de091b8a514e7be90a9938f52dae77997', '0xfbec3162ae45da679a9a6b3bcba7752de091b8a514e7be90a9938f52dae77997', '0x690a131b9d35e9ea0c2a62525bf153506c672287a9c44ea0351c36c118e15bd5', '0x690a131b9d35e9ea0c2a62525bf153506c672287a9c44ea0351c36c118e15bd5', '0x7398b3d8fc168de2ea88510b37f77eb38617020a44ce41f5eddb90ede21da203', '0x7398b3d8fc168de2ea88510b37f77eb38617020a44ce41f5eddb90ede21da203', '0xadbfd84422f904ea8ec7de12b2d07148a57c0b4fe15a15301c93cd1bdaabacb2', '0xadbfd84422f904ea8ec7de12b2d07148a57c0b4fe15a15301c93cd1bdaabacb2', '0x61e0e0ba226129320a90e78e1a1e4e3af584e63ec3f136bc21bea47af38196ff', '0x61e0e0ba226129320a90e78e1a1e4e3af584e63ec3f136bc21bea47af38196ff', '0x23b636410fff2192293c00e4f78fe7eb12ef5b8cfec630dfac37ff34327d5abe', '0x23b636410fff2192293c00e4f78fe7eb12ef5b8cfec630dfac37ff34327d5abe', '0xa52a7e9486264d13872a699dc561529a816c4727fbe1df73b5c78f8c203ec6d2', '0x6b74550326cc2de0d7eb5c9bdcb5d0c066cba412520902c352bbe80b1e1ec55a', '0xa52a7e9486264d13872a699dc561529a816c4727fbe1df73b5c78f8c203ec6d2', '0x6b74550326cc2de0d7eb5c9bdcb5d0c066cba412520902c352bbe80b1e1ec55a', '0x6b8481d40aff28440bc55e52a11b93e281b286989082bd7efdf36f25e78a7ed5', '0x6b8481d40aff28440bc55e52a11b93e281b286989082bd7efdf36f25e78a7ed5', '0xfe215288e053e4e83b922e20265314a386d8b52485065752d89e34189260f7f2', '0xfe215288e053e4e83b922e20265314a386d8b52485065752d89e34189260f7f2', '0x1e903d7b45914ef7fdc0d6d08b2e6a97d820c41ac63bddc9ebd10f794ffbc87c', '0x1e903d7b45914ef7fdc0d6d08b2e6a97d820c41ac63bddc9ebd10f794ffbc87c', '0xf2c228d18eadc46a91c7f75a1080f74428104e41fb76ae31f6839bbcdfdd2263', '0xf2c228d18eadc46a91c7f75a1080f74428104e41fb76ae31f6839bbcdfdd2263', '0x397174895f98acf12749f23d5167fc1d922bcdc04369362ce5f29bd13ec9bbc9', '0x397174895f98acf12749f23d5167fc1d922bcdc04369362ce5f29bd13ec9bbc9', '0x4bedcfd9f193d8eacdbe4ccda681cb0fff8a60b1b07dd257a5a8b07b86cdbd54', '0x4bedcfd9f193d8eacdbe4ccda681cb0fff8a60b1b07dd257a5a8b07b86cdbd54', '0xe6fb06ed7cb9c1f1105a38f4a6963eb58bdd1e1663d4a2f9512bf6b636a4b60a', '0xe6fb06ed7cb9c1f1105a38f4a6963eb58bdd1e1663d4a2f9512bf6b636a4b60a', '0xe6fb06ed7cb9c1f1105a38f4a6963eb58bdd1e1663d4a2f9512bf6b636a4b60a', '0xe6fb06ed7cb9c1f1105a38f4a6963eb58bdd1e1663d4a2f9512bf6b636a4b60a', '0x47c0cb1f93bbefc56c8c470e94531add6e5bd5a070682f61b3377ad5734952d7', '0x47c0cb1f93bbefc56c8c470e94531add6e5bd5a070682f61b3377ad5734952d7', '0x0bce7b7b46ce725a6f5f6cbf845ef1ff0dcf8851f1eb620ed6c52aa70b8a0800', '0x0bce7b7b46ce725a6f5f6cbf845ef1ff0dcf8851f1eb620ed6c52aa70b8a0800', '0xaebce5c194abb8540ec2c8d34616dc5eb000ca5f29a2ab8ac515296580059490', '0xaebce5c194abb8540ec2c8d34616dc5eb000ca5f29a2ab8ac515296580059490', '0xd503fe9188f4168d39583e1b9f6536b267e305dbaf3e0e01654df09b3d2a77d3', '0xd503fe9188f4168d39583e1b9f6536b267e305dbaf3e0e01654df09b3d2a77d3', '0xd3a4af6f221c8131eeacab5a1cf2a20d59b40983070054f0bba6c006cc037457', '0xd3a4af6f221c8131eeacab5a1cf2a20d59b40983070054f0bba6c006cc037457', '0x0aae2dd82f4bdbf042fddd2b533cfe6dc437a14ca1e3287f053981e67b1cd15a', '0x0aae2dd82f4bdbf042fddd2b533cfe6dc437a14ca1e3287f053981e67b1cd15a', '0xa6a7f35f8af8a552fed0fedb4406ce224985076bc5f1e711e92775840ea07f5b', '0xa6a7f35f8af8a552fed0fedb4406ce224985076bc5f1e711e92775840ea07f5b', '0xcf79f57f7b086cc6c3f4bec17c1c85b69c1ea5bf8479c370c49f9fd17480af19', '0xcf79f57f7b086cc6c3f4bec17c1c85b69c1ea5bf8479c370c49f9fd17480af19', '0x41a188292444c6cd8b3067ca65593d25fa21854fb162f11d4fbef4c1115c66d1', '0x41a188292444c6cd8b3067ca65593d25fa21854fb162f11d4fbef4c1115c66d1', '0x73fd532818aab675cd216b714171859e21824e2775c0b7065339cdb5a2d8fcae', '0x73fd532818aab675cd216b714171859e21824e2775c0b7065339cdb5a2d8fcae', '0x0abaa35c01154bf033a20a6f225d1b0e58fffa951cda881707ab46169bb6edc5', '0x0abaa35c01154bf033a20a6f225d1b0e58fffa951cda881707ab46169bb6edc5', '0x241bb7199e36e5daae6ca6fcba612bd88c6ad5a2679a997e1f4b65386ddbef56', '0x241bb7199e36e5daae6ca6fcba612bd88c6ad5a2679a997e1f4b65386ddbef56', '0xb95edf24432da41277a993e47739440a563e0aacda87d28dcd182bd4536ca718', '0xb95edf24432da41277a993e47739440a563e0aacda87d28dcd182bd4536ca718', '0xceec15ae51386a3d6b494a518dd13f9b5bc69e34dff60047400940850d4a013d', '0xceec15ae51386a3d6b494a518dd13f9b5bc69e34dff60047400940850d4a013d', '0x0bad3c57d052223d55a152fcc04343499f93bb61699fb60c4928b0db3e2fc180', '0x0bad3c57d052223d55a152fcc04343499f93bb61699fb60c4928b0db3e2fc180', '0x4cc20bc4a9721806b88e4c9ed2b0cd6134f9552db5832f435fd7c80e70f978dd', '0x4cc20bc4a9721806b88e4c9ed2b0cd6134f9552db5832f435fd7c80e70f978dd', '0xe494f0a6226e1a01edb62384ee23877d8638b717fdd09ca82ea7664f1f0335d1', '0xe494f0a6226e1a01edb62384ee23877d8638b717fdd09ca82ea7664f1f0335d1', '0x9f22a8494c00a0bf43765c1057b20a684b061699f7ba617c16ae43827e0d2fd4', '0x9f22a8494c00a0bf43765c1057b20a684b061699f7ba617c16ae43827e0d2fd4', '0xd5352952963c62df0794367c1d750345df86231142b672712701e692b9096f3a', '0xd5352952963c62df0794367c1d750345df86231142b672712701e692b9096f3a', '0x7f0a50b7b8273c5819bb0e55f09b739888b2bd037f9ee29a65b35bd630f4593a', '0x7f0a50b7b8273c5819bb0e55f09b739888b2bd037f9ee29a65b35bd630f4593a', '0x4c89b9122e01f63bf4a1cbe80cddd1e7004bd7166dce776ad363b5d1c8e172c8', '0x4c89b9122e01f63bf4a1cbe80cddd1e7004bd7166dce776ad363b5d1c8e172c8', '0x9a6f1bc2f7fd91afd168dabc72f56206d7a0e3331136abe671b444b5257b88dd', '0x9a6f1bc2f7fd91afd168dabc72f56206d7a0e3331136abe671b444b5257b88dd', '0xbfba33c9ef0a659ca75ef83f826e7b78890dc27706c484d6a21ea4abf9bf1813', '0xbfba33c9ef0a659ca75ef83f826e7b78890dc27706c484d6a21ea4abf9bf1813', '0xfa7487683ec5f2a55e43c3e63ec162b2c7aae5c26f9d99d876b02bbbcf39bd71', '0xfa7487683ec5f2a55e43c3e63ec162b2c7aae5c26f9d99d876b02bbbcf39bd71', '0xb9323012c820c8c03cc9c81e83bfea719d6f90426b7418a5d25f62eb5f000090', '0xb9323012c820c8c03cc9c81e83bfea719d6f90426b7418a5d25f62eb5f000090', '0x983b73d02d74da2177353d167903bba2f66660bff1b8d4f0aa4e5c2e6c0c97aa', '0x983b73d02d74da2177353d167903bba2f66660bff1b8d4f0aa4e5c2e6c0c97aa', '0x0b070891088727b18830c50895655fa7cf99433f705b95ce93f958f4e8327d59', '0x0b070891088727b18830c50895655fa7cf99433f705b95ce93f958f4e8327d59', '0x782320ce384eb2c65e4319279700b5e86255655e16cfb7465b98b195a938ea7b', '0x782320ce384eb2c65e4319279700b5e86255655e16cfb7465b98b195a938ea7b', '0x97dc4a264f0b18c7ed1e661bdf5a809d02f97b130f0617614bd0375456501360', '0x97dc4a264f0b18c7ed1e661bdf5a809d02f97b130f0617614bd0375456501360', '0x26248a2ba6ee1002edda2df7e5eccb1cc0d01305098868e2d51fab730228e4e9', '0x26248a2ba6ee1002edda2df7e5eccb1cc0d01305098868e2d51fab730228e4e9', '0xaa3fae21e72f0acea1603e0675912ac8dcf3353c1dfbd3af2a6ff48826c42946', '0xaa3fae21e72f0acea1603e0675912ac8dcf3353c1dfbd3af2a6ff48826c42946', '0xb37950e9be6b2eea6251f614a8a7fd2b7084858a966516ad51c003b091ffd2aa', '0xb37950e9be6b2eea6251f614a8a7fd2b7084858a966516ad51c003b091ffd2aa', '0x04ffce6ad6726f9bf8615a0e20cb81481a2a0f90e7d7ca0e4b9c93b07aeaaa91', '0x04ffce6ad6726f9bf8615a0e20cb81481a2a0f90e7d7ca0e4b9c93b07aeaaa91', '0xd25494ef110ca7e8be9955a7ecb6c77dd10b11d2baef32e78c31cdc44f40f4dd', '0xd25494ef110ca7e8be9955a7ecb6c77dd10b11d2baef32e78c31cdc44f40f4dd', '0x44f0f3ae4c8968eaa864aef254713e70dcec68c22159b28bccc0ee8893376d7a', '0x44f0f3ae4c8968eaa864aef254713e70dcec68c22159b28bccc0ee8893376d7a', '0x80a67ab051709f6b49f674f0ca600f580e29d47289e4a234c1d010860fa5ea2c', '0x80a67ab051709f6b49f674f0ca600f580e29d47289e4a234c1d010860fa5ea2c', '0x0e2a3d2c76b3a559f73c1d981d0276ed0a503df261af7233e61d173c2913dcad', '0x0e2a3d2c76b3a559f73c1d981d0276ed0a503df261af7233e61d173c2913dcad', '0x2524111362a8cfc68cfdd2a84bfe97e46914a866d1cb0ee00b4629b7d3e422aa', '0x2524111362a8cfc68cfdd2a84bfe97e46914a866d1cb0ee00b4629b7d3e422aa', '0x4704f188c5b9537f56a6c2333ff50d964e1303ac7dd551b0542e7f1d1636b12f', '0x4704f188c5b9537f56a6c2333ff50d964e1303ac7dd551b0542e7f1d1636b12f', '0xfbf1b62b3daaeb05c01c27e934acc8d01069ebb6b33aa555a5f77e07039c093f', '0xfbf1b62b3daaeb05c01c27e934acc8d01069ebb6b33aa555a5f77e07039c093f', '0xa52aec3a2293ee6839db0daef6ec70c4bce2f812b4b0eb404e4d864861a30159', '0xa52aec3a2293ee6839db0daef6ec70c4bce2f812b4b0eb404e4d864861a30159', '0xc5df5605212c788dd0841e5c97ef4906d9956bb6aec291e833b99764104e7c83', '0xc5df5605212c788dd0841e5c97ef4906d9956bb6aec291e833b99764104e7c83', '0x7e6fa6ef1ce9de9127c8a6094366ca68a620cdc242cccdc171accce30e340fae', '0x7e6fa6ef1ce9de9127c8a6094366ca68a620cdc242cccdc171accce30e340fae', '0xc1e5423b1fc06eb98bfa35ada651cf1c18b6ac4e8e671f977981cb7b3a4ab452', '0xc1e5423b1fc06eb98bfa35ada651cf1c18b6ac4e8e671f977981cb7b3a4ab452', '0xed3db093f45980a0bb93dfc25abe130dcf8c750aefb98d255a454df58e677fdd', '0xed3db093f45980a0bb93dfc25abe130dcf8c750aefb98d255a454df58e677fdd', '0x76250b4d3fac621bf31e525a0a89f81e75e6924cff57df3ba58dd42d1a273056', '0x76250b4d3fac621bf31e525a0a89f81e75e6924cff57df3ba58dd42d1a273056', '0x6a732eecf2f11271c9061dacba2d82cb353f2b819784ea593efaaa955fe96b90', '0x6a732eecf2f11271c9061dacba2d82cb353f2b819784ea593efaaa955fe96b90', '0xa05d698f3cadb01c95076feaecd0ffde4fbc9548eab13da0d600a7f5f469fdf7', '0xa05d698f3cadb01c95076feaecd0ffde4fbc9548eab13da0d600a7f5f469fdf7', '0xe06453859f3bcdbffdd8aa35e3a43b16ea78f7a3700702e757b96e75a3dd8462', '0xe06453859f3bcdbffdd8aa35e3a43b16ea78f7a3700702e757b96e75a3dd8462', '0x3bc84ae9b8ae137c739de84a6dead7c2d80651c0990190c3b73cb860ef25fef9', '0x3bc84ae9b8ae137c739de84a6dead7c2d80651c0990190c3b73cb860ef25fef9', '0xb60b49e2d8224d288222ecb5adfb81d4aed6167a5e5e33126c54bc7c65ba42b7', '0xb60b49e2d8224d288222ecb5adfb81d4aed6167a5e5e33126c54bc7c65ba42b7', '0x99be300f6e4a0be26b6b5e6aaa3c80d7bfbf322a473f306b9574a1102ce34f14', '0x99be300f6e4a0be26b6b5e6aaa3c80d7bfbf322a473f306b9574a1102ce34f14', '0xff84a058dd19183a00f3a2a6fc41399bbf1069ab3092d293c11d73cd68dd6904', '0xff84a058dd19183a00f3a2a6fc41399bbf1069ab3092d293c11d73cd68dd6904', '0x52ab6babf11a2f72a48be14db2fee5ad489f75f599765b5a5668043b43fd60b5', '0x52ab6babf11a2f72a48be14db2fee5ad489f75f599765b5a5668043b43fd60b5', '0xf5c2e11aacfe07ce8ee998f71e2d8fd61b1074a54ab9dc9db6a0f47eb270b63b', '0xf5c2e11aacfe07ce8ee998f71e2d8fd61b1074a54ab9dc9db6a0f47eb270b63b', '0x1a9a847217b9154f2292ed999d8d6b43e2e3b276fc6fbfdacaa16c2d322fc156', '0x1a9a847217b9154f2292ed999d8d6b43e2e3b276fc6fbfdacaa16c2d322fc156', '0xaa49af37ad3092296ef6015e6d9ee78a68e9baa1122d06f2342f2eba51612cc8', '0xaa49af37ad3092296ef6015e6d9ee78a68e9baa1122d06f2342f2eba51612cc8', '0xff5819c3577f9830cc50b7aa4fc6479a8a96c149a02f16a5d1dd452ffbfa9f2a', '0xff5819c3577f9830cc50b7aa4fc6479a8a96c149a02f16a5d1dd452ffbfa9f2a', '0x2f26487c78ca159e65a9e4c509138a2670d13103a19a9f7b613274c4aeef2f62', '0x2f26487c78ca159e65a9e4c509138a2670d13103a19a9f7b613274c4aeef2f62', '0x3e2d7212fcd3f35cf4a6ad96a97d084be8d1d4919c892e060412bc1f8ff55b3d', '0x3e2d7212fcd3f35cf4a6ad96a97d084be8d1d4919c892e060412bc1f8ff55b3d', '0x1aabc66e72107adec06c914a37b5f8d2e5e57426f3e1db8c01cc0867fa207b0c', '0x1aabc66e72107adec06c914a37b5f8d2e5e57426f3e1db8c01cc0867fa207b0c', '0x1aabc66e72107adec06c914a37b5f8d2e5e57426f3e1db8c01cc0867fa207b0c', '0x1aabc66e72107adec06c914a37b5f8d2e5e57426f3e1db8c01cc0867fa207b0c', '0x84f3e6466595a2292203a0c32b21e61ba5d09d9436b7856463eec29cc26f5b30', '0x84f3e6466595a2292203a0c32b21e61ba5d09d9436b7856463eec29cc26f5b30', '0x84f3e6466595a2292203a0c32b21e61ba5d09d9436b7856463eec29cc26f5b30', '0x84f3e6466595a2292203a0c32b21e61ba5d09d9436b7856463eec29cc26f5b30', '0x8e6d6aadfc742ffe3570348a4fa0db1db4479f089fcc367676cbca6094136a0c', '0x8e6d6aadfc742ffe3570348a4fa0db1db4479f089fcc367676cbca6094136a0c', '0xbd40820e656ef4ee16c1f16f94af480e5c01192c5b8940c38f40aa508a7d471b', '0xbd40820e656ef4ee16c1f16f94af480e5c01192c5b8940c38f40aa508a7d471b', '0xa949543eb007ebdf19b74b5fba1580487dad71d1b39e3da07241875a293163ff', '0xa949543eb007ebdf19b74b5fba1580487dad71d1b39e3da07241875a293163ff', '0xb629d8e4de01a9e00ea05e5b263c823f0079665d303dfced427a6d55370aecfb', '0xb629d8e4de01a9e00ea05e5b263c823f0079665d303dfced427a6d55370aecfb', '0xb8e5ee472f12841c44c51fc0dbadf7d9c06e986be62da2831ba8a19db9393e95', '0xb8e5ee472f12841c44c51fc0dbadf7d9c06e986be62da2831ba8a19db9393e95', '0x0252272c2e6f15226f00d90150f46a2f53503c56d74e369e3671ad3c6b1e931b', '0x0252272c2e6f15226f00d90150f46a2f53503c56d74e369e3671ad3c6b1e931b', '0x2fdedc78940a0f916b911b073f8538f2025721982bebdae64c823bc647462393', '0x2fdedc78940a0f916b911b073f8538f2025721982bebdae64c823bc647462393', '0xdc530fe39cfe5f4eb756227da9fa3804a825a1660030f466f419d9bfbc0a5a24', '0xdc530fe39cfe5f4eb756227da9fa3804a825a1660030f466f419d9bfbc0a5a24', '0x7f39fa043283def0b3b0836253af378bddd3f97bcecdb9c973ac3d5b2700b4e2', '0x7f39fa043283def0b3b0836253af378bddd3f97bcecdb9c973ac3d5b2700b4e2', '0x7f39fa043283def0b3b0836253af378bddd3f97bcecdb9c973ac3d5b2700b4e2', '0x7f39fa043283def0b3b0836253af378bddd3f97bcecdb9c973ac3d5b2700b4e2', '0x1b64e2ef0ed7f28e282079c177de1daf846972d20d1a98ce225e571e7817a4aa', '0x1b64e2ef0ed7f28e282079c177de1daf846972d20d1a98ce225e571e7817a4aa', '0xe250131926daadaa7e6826b6de115f79ebc3e95a4907602356e8e522d71c40b4', '0xe250131926daadaa7e6826b6de115f79ebc3e95a4907602356e8e522d71c40b4', '0xb7dc7f802c0e316102459f4154deaf39c5e57f60d4a19be408366b4a257052dd', '0xb7dc7f802c0e316102459f4154deaf39c5e57f60d4a19be408366b4a257052dd', '0xbe67b12d7dc48e64f16b7bfe34c2b0f2ad2de3982dcb0a4ffb0ae24eb6522670', '0xbe67b12d7dc48e64f16b7bfe34c2b0f2ad2de3982dcb0a4ffb0ae24eb6522670', '0x8a028d24d06369d6fe0c81fc9c3b616e22d45b9713db7690335ef60d7aa35be7', '0x8a028d24d06369d6fe0c81fc9c3b616e22d45b9713db7690335ef60d7aa35be7', '0x43739b65d247db37a2f2ace47609c95ab9d1f2f879e58063c220972838930beb', '0x43739b65d247db37a2f2ace47609c95ab9d1f2f879e58063c220972838930beb', '0x89f7922da064df236d9d6118b089466a57258c89ad821f51249eeed47bb895a2', '0x89f7922da064df236d9d6118b089466a57258c89ad821f51249eeed47bb895a2', '0x5bff2f61b0c20f36977bd0bfbb31f4cabe0c22163a55af31314a883e9f7e27e7', '0x5bff2f61b0c20f36977bd0bfbb31f4cabe0c22163a55af31314a883e9f7e27e7', '0x02f79f55534cd7584213a945e6920430057f487e7de252f71b487d14d2978644', '0x02f79f55534cd7584213a945e6920430057f487e7de252f71b487d14d2978644', '0x3f66e99d0a77318211e686a636c3a0d16d7f9e2506fb7f08215ca4dae161d5eb', '0x3f66e99d0a77318211e686a636c3a0d16d7f9e2506fb7f08215ca4dae161d5eb', '0x62f6283e6459d7e2a19c818e515927d159daa57d08ff5b55c79141b7f28b94a3', '0x62f6283e6459d7e2a19c818e515927d159daa57d08ff5b55c79141b7f28b94a3', '0x1f172942f03578e445dfe20e5104a799c87a88a108d4cf095d96c8e841dc8a99', '0x1f172942f03578e445dfe20e5104a799c87a88a108d4cf095d96c8e841dc8a99', '0x4caae0d23219a6b12ba463fa0890e606ca84a1231db9525b5d0ec313c3138f2e', '0x859efbc5bce220f209a2b5e05b25e92e10c2a5b24a8d62e0aca97ae3ce9ba36c', '0x075564e69229b76a844412148099eb3be9c4b24d9db16bb071e1bb59808f5d69', '0xe291f70af739e02cdc50eabb9c487315de1ac83193ed2497776720f7bab5ec62', '0x162ea0497d1e799cacbc5c4ed9966a4737e6996cc70fe0db735daa5919a580d0', '0x663f3c8b89d8467b8b93f3a255e3aa8a15171e5fd46b4f1ca704cf6d9cf24d81', '0x4caae0d23219a6b12ba463fa0890e606ca84a1231db9525b5d0ec313c3138f2e', '0x310e03dcee4392486d02f0220f1e47c6e9dfbb8085d2f145939e3f78e7d0aec2', '0x859efbc5bce220f209a2b5e05b25e92e10c2a5b24a8d62e0aca97ae3ce9ba36c', '0x2f71a76b80e5da7627bcf092fd296cfdcdb7d774eb2c73c5fa31a9272b4fa39b', '0x663f3c8b89d8467b8b93f3a255e3aa8a15171e5fd46b4f1ca704cf6d9cf24d81', '0xec9527a6ccf30f5c805ea2be8507b3e1c65a1026c0a30178ca048d0ef82b11bc', '0x075564e69229b76a844412148099eb3be9c4b24d9db16bb071e1bb59808f5d69', '0xec9527a6ccf30f5c805ea2be8507b3e1c65a1026c0a30178ca048d0ef82b11bc', '0x2f71a76b80e5da7627bcf092fd296cfdcdb7d774eb2c73c5fa31a9272b4fa39b', '0x310e03dcee4392486d02f0220f1e47c6e9dfbb8085d2f145939e3f78e7d0aec2', '0x162ea0497d1e799cacbc5c4ed9966a4737e6996cc70fe0db735daa5919a580d0', '0xe291f70af739e02cdc50eabb9c487315de1ac83193ed2497776720f7bab5ec62', '0xe88801d091e3948f5c84cf7f9b6c5da46f792a60a21b654f28bbdb463ae6495b', '0x65bd07437d1eca653c811009db764905bdabf3aff60e0c01bef7f51625941a10', '0xe88801d091e3948f5c84cf7f9b6c5da46f792a60a21b654f28bbdb463ae6495b', '0x1cf35c1d239c0c92b3c8aa609553e6af507faed3fd23fe976c23a01b431b1a52', '0x1cf35c1d239c0c92b3c8aa609553e6af507faed3fd23fe976c23a01b431b1a52', '0x65bd07437d1eca653c811009db764905bdabf3aff60e0c01bef7f51625941a10', '0x140ef706f761ecede55e5a47ee15579a646f489dfbfa5351781f4700e043cacc', '0x140ef706f761ecede55e5a47ee15579a646f489dfbfa5351781f4700e043cacc', '0x8c92894da5c2cd76e1b32cd3202ccdaa952bd4984177fb27afa03fdbd4c0e424', '0x64801ecac7aeec7b7b5876e4423d990ca714cc091d7a4c1f589407e2edd84619', '0x64801ecac7aeec7b7b5876e4423d990ca714cc091d7a4c1f589407e2edd84619', '0x8c92894da5c2cd76e1b32cd3202ccdaa952bd4984177fb27afa03fdbd4c0e424', '0xb3f9395462fd631696edab4d4312b6c514d0ea658c9ea873e3e8a2cd548682b2', '0xb3f9395462fd631696edab4d4312b6c514d0ea658c9ea873e3e8a2cd548682b2', '0x9055a256e0c55fdb4d72ef406b217041b860436d7fa424417347f28b6fc6486c', '0x39150f8e369238cd74fb9090b5f1dca2ec0d7d7d130325824437b4a57b752165', '0x7af90d42e9c6281003dd0c0bf0b3debafd2ab37a0aff4524838be194048b876c', '0x352bf844071395a350551b90a179c94a9fd10217516c64554f5db33255ec8e37', '0xbe6e205c3586ff12dfe2ba5c83a06c5a301e91c87ab00157d33e3314ba81d52f', '0xdfbf2e5d77491e1625fec0f0cdf16129aad84511dfa8fc835e69bbd9ec5d3384', '0x432425d141f6dd67d20da0ae7457e562d453bfb3d79a5bc6b9f4bc6a5100630b', '0x2244753f539fcb1b283b35f00e9a81196275c462e3c0732f54a8ed33e8e9129a', '0x9055a256e0c55fdb4d72ef406b217041b860436d7fa424417347f28b6fc6486c', '0x9147756cdaf8e76f3c866622c760a7d1b369a83e2362000a263aeca3a87304fa', '0x2f15d8c56e60d83bae45a0b51221307def84dad6f63702d6ab4edf17e41d58af', '0x352bf844071395a350551b90a179c94a9fd10217516c64554f5db33255ec8e37', '0x95562da0c79df546f0c8cbf25274199a5b1ba851ab4f37b6eeee9377e3ee8ae7', '0x95562da0c79df546f0c8cbf25274199a5b1ba851ab4f37b6eeee9377e3ee8ae7', '0x39150f8e369238cd74fb9090b5f1dca2ec0d7d7d130325824437b4a57b752165', '0x2f15d8c56e60d83bae45a0b51221307def84dad6f63702d6ab4edf17e41d58af', '0xd1cc415d6c6fd80bd2c1233e424366ad66e4798c06106dcbfcae70e043454c8a', '0x11befcbfcc6fd2804ad8e8b925d4644603a4776226454b9f2300293f313dff56', '0xce3b5128a45a33f3d5d523e1c7897d557bc41c5344aac700a7cc822591743c63', '0x2244753f539fcb1b283b35f00e9a81196275c462e3c0732f54a8ed33e8e9129a', '0x7af90d42e9c6281003dd0c0bf0b3debafd2ab37a0aff4524838be194048b876c', '0xd1cc415d6c6fd80bd2c1233e424366ad66e4798c06106dcbfcae70e043454c8a', '0xbe6e205c3586ff12dfe2ba5c83a06c5a301e91c87ab00157d33e3314ba81d52f', '0x8f81ff5c00b3f38163be5f54f0d7bd0341bd39a204da49364eceb0b8fb2c6a05', '0xdfbf2e5d77491e1625fec0f0cdf16129aad84511dfa8fc835e69bbd9ec5d3384', '0x9147756cdaf8e76f3c866622c760a7d1b369a83e2362000a263aeca3a87304fa', '0xce3b5128a45a33f3d5d523e1c7897d557bc41c5344aac700a7cc822591743c63', '0x432425d141f6dd67d20da0ae7457e562d453bfb3d79a5bc6b9f4bc6a5100630b', '0x8f81ff5c00b3f38163be5f54f0d7bd0341bd39a204da49364eceb0b8fb2c6a05', '0x11befcbfcc6fd2804ad8e8b925d4644603a4776226454b9f2300293f313dff56', '0x644713cbdafd8b8f7d3cfb44ff17d9f3baf9a8e78429a8959d96e0a24d63e059', '0x644713cbdafd8b8f7d3cfb44ff17d9f3baf9a8e78429a8959d96e0a24d63e059', '0xffcc7afb10cba2189aaeb10533fd7e332d33568ef6c6a4e6949c7eb908ef9226', '0xffcc7afb10cba2189aaeb10533fd7e332d33568ef6c6a4e6949c7eb908ef9226', '0xd04b3450f660de2554f415148d3c178060005925e038c55df2ee38e28951ec94', '0xd04b3450f660de2554f415148d3c178060005925e038c55df2ee38e28951ec94', '0xffc1acc5d5d80dba644d6039acc13ef008a9c44f9f27c32f9509338936c2ecb1', '0x8a44e66fcc7168abeecf02e846a4b5fd604a94e066d8d52d03ccf917b9d73bfd', '0x9beb10522cc72c35e5652db53cad3d6d2eb26a773764e33f60f93e723e97dfed', '0x8f759a319a26231b49d8e46c1ee4f9e304f2ccc1a19d5d2cc94e892d3a28f08f', '0x6a6f1dd39c3cad7c200f9ea45f27226a76ff2185e62ba6d96e5bd982303f5f53', '0xd44bc4363794b02b736911407f1b380a6a2be1d9fb23b4eaa224e9abb6d5e166', '0xaf1f55a293c9fa5321a1bb656d228b58036fe08a48b81245729cbf2021864042', '0x2f2e6da9e83bb7690d5d982a88020a0820a66093e1867e84d33a1f9844b371b1', '0x48b0d2524813daa1bfe670fc01bbecb6a9d4b7926e198c34a2eeb061e7477bfb', '0x2f2e6da9e83bb7690d5d982a88020a0820a66093e1867e84d33a1f9844b371b1', '0x8a44e66fcc7168abeecf02e846a4b5fd604a94e066d8d52d03ccf917b9d73bfd', '0xffc1acc5d5d80dba644d6039acc13ef008a9c44f9f27c32f9509338936c2ecb1', '0x48b0d2524813daa1bfe670fc01bbecb6a9d4b7926e198c34a2eeb061e7477bfb', '0x253a560a2c9a9eb44a075d6f6c1dd22c9671cc80393c403b8de922d5b95ea214', '0x253a560a2c9a9eb44a075d6f6c1dd22c9671cc80393c403b8de922d5b95ea214', '0xaf1f55a293c9fa5321a1bb656d228b58036fe08a48b81245729cbf2021864042', '0x8f759a319a26231b49d8e46c1ee4f9e304f2ccc1a19d5d2cc94e892d3a28f08f', '0xd44bc4363794b02b736911407f1b380a6a2be1d9fb23b4eaa224e9abb6d5e166', '0x58a93831c6c8d8a9318fb632a448477f235981720e80531c95dcbc8a4b457bac', '0x6a6f1dd39c3cad7c200f9ea45f27226a76ff2185e62ba6d96e5bd982303f5f53', '0x9beb10522cc72c35e5652db53cad3d6d2eb26a773764e33f60f93e723e97dfed', '0x58a93831c6c8d8a9318fb632a448477f235981720e80531c95dcbc8a4b457bac', '0x91a72950edcf08e41f65c601540ad531cf574035639d59ef677905ad14b30f5c', '0xfa513179793693c9345e4d50088e6c492e43acd4db8631652c36a64f6981d29f', '0xf1d166801a1f53446a5d20ffe0f1db5b80433b5e07555b5ab8c1a6d366429120', '0xdd2b623ec41cf86fef29616e2a9bece01157c385ca2558e199f2f7e93b124967', '0xf9666e7fd32cd5a7335eae1d13c247f871654747e5706c62d7c5ee66919b3993', '0x50038b96c8bb81f5281f3cdaafb551839f95d3ad18651ffd2b92a866ae690f46', '0x50038b96c8bb81f5281f3cdaafb551839f95d3ad18651ffd2b92a866ae690f46', '0xdb2615bb22ccc7d512ac5546a820ad01008232c7038e883fdf2fa6ad0a3c6c10', '0x91bcd4fa5926f4db734d2fcba2a5145b0e6b5cd1dd99bf41777eb28a28005a8c', '0x5d92e727f20238e7d69c9cde89b1d1090fa1634a20d30e5c2d6e707d59bf74d0', '0xdb2615bb22ccc7d512ac5546a820ad01008232c7038e883fdf2fa6ad0a3c6c10', '0x91bcd4fa5926f4db734d2fcba2a5145b0e6b5cd1dd99bf41777eb28a28005a8c', '0xc6356fa098bb67b70f48090440340d44b03ddc6233a163912526ce107ebfd016', '0x91a72950edcf08e41f65c601540ad531cf574035639d59ef677905ad14b30f5c', '0xfa513179793693c9345e4d50088e6c492e43acd4db8631652c36a64f6981d29f', '0x3be47ca5580e2bf3513feaf07c16b3a0c1ab2016ce123e0b463e32521bf8bec1', '0x5d92e727f20238e7d69c9cde89b1d1090fa1634a20d30e5c2d6e707d59bf74d0', '0x3be47ca5580e2bf3513feaf07c16b3a0c1ab2016ce123e0b463e32521bf8bec1', '0x6d73df15f7e5363dd17755b3d2777a0bd3d720f6db907208689c89641db242d8', '0xc6356fa098bb67b70f48090440340d44b03ddc6233a163912526ce107ebfd016', '0x6d73df15f7e5363dd17755b3d2777a0bd3d720f6db907208689c89641db242d8', '0xf1d166801a1f53446a5d20ffe0f1db5b80433b5e07555b5ab8c1a6d366429120', '0xf9666e7fd32cd5a7335eae1d13c247f871654747e5706c62d7c5ee66919b3993', '0xdd2b623ec41cf86fef29616e2a9bece01157c385ca2558e199f2f7e93b124967', '0xf67f0ad4f3be88f813ec3e53780c821b707cd6c8cb5f8f44f5a082f01c6904ec', '0xd2261ae042ba4b99fa55e775551c929d41059f54f2353639a2b255aa8662f67f', '0xf131d15c77e83fed609978b417d22dc75f73cafa863d14b92fab841383d482fa', '0xdf657d1bb7a8ffac0a7b87f152d7a6dadfcbbf4e3e05102fcc7c7378db2d2ad5', '0xeed0ebc30c45493a0ca786a760208715039ad8114198180e4d5969622edd2202', '0x1c8d6e6ed5681f488302dc8b87ed8676acc89fe46b867c84346f959ca7efa73a', '0x34f2da309c33d242003970050db87ae5357ca5ea80c42a22ad17a201f7791c3c', '0xf131d15c77e83fed609978b417d22dc75f73cafa863d14b92fab841383d482fa', '0x2a5a30c11877eb8b333890b6a4613ffc58702853f7142c1fcca21c11d48edd7e', '0xce3f20c89d7fd53a088b9e6e85fd315fe09b8b3fe3ec4a113a43d672d5b55b74', '0x1c8d6e6ed5681f488302dc8b87ed8676acc89fe46b867c84346f959ca7efa73a', '0xce3f20c89d7fd53a088b9e6e85fd315fe09b8b3fe3ec4a113a43d672d5b55b74', '0xdf657d1bb7a8ffac0a7b87f152d7a6dadfcbbf4e3e05102fcc7c7378db2d2ad5', '0x255000aec367b58127b3498b0a213724649ef9e53340e2b2d832b13014a8837b', '0x2a5a30c11877eb8b333890b6a4613ffc58702853f7142c1fcca21c11d48edd7e', '0x34f2da309c33d242003970050db87ae5357ca5ea80c42a22ad17a201f7791c3c', '0xd540d225d4aa85938839474297d80daf77109f19b8745e5fa6f082f5bf9b48f6', '0xeed0ebc30c45493a0ca786a760208715039ad8114198180e4d5969622edd2202', '0xd2261ae042ba4b99fa55e775551c929d41059f54f2353639a2b255aa8662f67f', '0x255000aec367b58127b3498b0a213724649ef9e53340e2b2d832b13014a8837b', '0xd540d225d4aa85938839474297d80daf77109f19b8745e5fa6f082f5bf9b48f6', '0xf67f0ad4f3be88f813ec3e53780c821b707cd6c8cb5f8f44f5a082f01c6904ec', '0xa73efd5b3fa806cee7261a6e81e496d44996f10d403e1da182e00454d93d3d8b', '0xa185aada14e5c214dd65d77d70d483bad49c4c82600362dedcdacdd7ada644c1', '0xed6043eba9bc98cc28933e23eb00a84d2ae0942d251e206e94ca5b7392af0778', '0xa185aada14e5c214dd65d77d70d483bad49c4c82600362dedcdacdd7ada644c1', '0x310b22bcaa837173f492660ce2282b62960c9078d1d1804f90bc157418283992', '0x2c501f1bb30904eb998293af549f86a134cef6458e30ee2c667896074ff3d585', '0xaa5a446aa1de6866fc7a6b0450b0449dc0bc291bac9ee3de58acd79ee64e61e6', '0x2c501f1bb30904eb998293af549f86a134cef6458e30ee2c667896074ff3d585', '0x965652979ddc30d0fb7d93a8491d20ac4aa0db9145d2ec082212b9baa701e54b', '0xa73efd5b3fa806cee7261a6e81e496d44996f10d403e1da182e00454d93d3d8b', '0xf376db1f36cf7c1544a942516877062e8d51099912920b7aea8a6b59e39e8c6b', '0x965652979ddc30d0fb7d93a8491d20ac4aa0db9145d2ec082212b9baa701e54b', '0xf376db1f36cf7c1544a942516877062e8d51099912920b7aea8a6b59e39e8c6b', '0x310b22bcaa837173f492660ce2282b62960c9078d1d1804f90bc157418283992', '0xaa5a446aa1de6866fc7a6b0450b0449dc0bc291bac9ee3de58acd79ee64e61e6', '0xed6043eba9bc98cc28933e23eb00a84d2ae0942d251e206e94ca5b7392af0778', '0x48af1353293273c5c43028c90498c07b4097476ca5dd6536b7c96a4c9e141082', '0x48af1353293273c5c43028c90498c07b4097476ca5dd6536b7c96a4c9e141082', '0x0e903b276f6418be829d1f83d53611ae69b6ab4e6140536debbc9c280c8871f2', '0x5ede0f45028335c24e0c5cf129d3be026995fe08817d14c950948d4bf4e93e59', '0x84bdb233259fc59e2c824d071ea15d8a4ffd53a78a7e09f04c6fc52081367a93', '0x84bdb233259fc59e2c824d071ea15d8a4ffd53a78a7e09f04c6fc52081367a93', '0xe3ebc7736f58cae242b491cdb978265fb0be7db00673044dfe60bdce2d6e20f2', '0x1a7fc48343aca940f83a80ef68a7e9fa9d24e46830c9d98babf0014520e8ef3f', '0x0e903b276f6418be829d1f83d53611ae69b6ab4e6140536debbc9c280c8871f2', '0xa1cd2942036705c72923540740921f259103b7fb68c4e1d14e4561a99d36c55c', '0xd1f8a2602c64918550ca464978863b182f8c33fb19f3b577065225f27ee554fe', '0x9cb56d833b4a3cd51fb175cd33fc7ee44d91fab91ca68397877e629002e0e303', '0xe5b3518c0b82e06220ebcfe0f7b6ccd792b245b2da432012eac85252717a6b56', '0x5ede0f45028335c24e0c5cf129d3be026995fe08817d14c950948d4bf4e93e59', '0xe3ebc7736f58cae242b491cdb978265fb0be7db00673044dfe60bdce2d6e20f2', '0xe5b3518c0b82e06220ebcfe0f7b6ccd792b245b2da432012eac85252717a6b56', '0xa1cd2942036705c72923540740921f259103b7fb68c4e1d14e4561a99d36c55c', '0xd1f8a2602c64918550ca464978863b182f8c33fb19f3b577065225f27ee554fe', '0x1a7fc48343aca940f83a80ef68a7e9fa9d24e46830c9d98babf0014520e8ef3f', '0x9cb56d833b4a3cd51fb175cd33fc7ee44d91fab91ca68397877e629002e0e303', '0xd90429a56ddfdafec8094e2c2278fc212baaadb5217e56d0de41f5622798386c', '0xaf8caac06c7a31dd3ca877a02b63213b487f755332856ccfecaa02fb0fa1d18c', '0xe541651851b9a667b1506cc9905446988685a7978736b31a2234deef94147d09', '0x98c558e83ff6aafd1eaaf0c00ff7f59dc48b5d778a93b48cfd87118b4c9d67f6', '0x4ca9c2714249e7ea9225b7739dfa4da4f9b5af38508847179c4dfa6a9ac7f028', '0x98c558e83ff6aafd1eaaf0c00ff7f59dc48b5d778a93b48cfd87118b4c9d67f6', '0xa16387e3522c6b5d609801ee8668c68a96ef8d9752995e3b45c60fa3d61575a4', '0x1651e9e8bb7e881461b299702683cddb7a7661e588d279214590b8e9ed25e457', '0xa16387e3522c6b5d609801ee8668c68a96ef8d9752995e3b45c60fa3d61575a4', '0x7e210e1fba8d56024efd4f62fcdf4729f576ea371abd502240c5dbf323daf951', '0xd90429a56ddfdafec8094e2c2278fc212baaadb5217e56d0de41f5622798386c', '0x1651e9e8bb7e881461b299702683cddb7a7661e588d279214590b8e9ed25e457', '0x67099001b1f965ba54417969bb1db00e24c8d1c692679336acab114de70778d3', '0xe541651851b9a667b1506cc9905446988685a7978736b31a2234deef94147d09', '0x7926b5a9bf3092863f016fce83878b2271cc044c23a034ee9660f593922aa4a9', '0x7926b5a9bf3092863f016fce83878b2271cc044c23a034ee9660f593922aa4a9', '0xe4b3df31abfb4a92f9e37e0b18927f0971940a919514cc4b380c1de0b0ba4890', '0x4ca9c2714249e7ea9225b7739dfa4da4f9b5af38508847179c4dfa6a9ac7f028', '0xaf8caac06c7a31dd3ca877a02b63213b487f755332856ccfecaa02fb0fa1d18c', '0x67099001b1f965ba54417969bb1db00e24c8d1c692679336acab114de70778d3', '0x7e210e1fba8d56024efd4f62fcdf4729f576ea371abd502240c5dbf323daf951', '0xe4b3df31abfb4a92f9e37e0b18927f0971940a919514cc4b380c1de0b0ba4890', '0xbe36645ae20eedf7f22da06cdc9931d05107db6b763e06432eda4ead818f501d', '0x69248994e9ad775cac2dd6213f3845e5f2ae736d681a6028eeab38d4350ec9f3', '0x997315efadffccf46ce6e935e9c20d15ad3fca2b582bc0e11cd4816f4336bf46', '0x364a3c08f28997725c796c5f4a6be4bd46c663a6ca12248b55ce981c10666b9d', '0x1e8ff488e1861f24434475510cfea8b62a66ef8dde4395fb8ef3295cd4a69ae7', '0xe70eb3cd9d4a9ad582d75bf8350e16590ff315b0452f35675e1cbee88866e7c4', '0x69248994e9ad775cac2dd6213f3845e5f2ae736d681a6028eeab38d4350ec9f3', '0xb5512f0a130505ef60aabecc749037098c236b87a476a5582a0a8bc2ff4f39ad', '0xe70eb3cd9d4a9ad582d75bf8350e16590ff315b0452f35675e1cbee88866e7c4', '0xbe36645ae20eedf7f22da06cdc9931d05107db6b763e06432eda4ead818f501d', '0x1e8ff488e1861f24434475510cfea8b62a66ef8dde4395fb8ef3295cd4a69ae7', '0xb5512f0a130505ef60aabecc749037098c236b87a476a5582a0a8bc2ff4f39ad', '0x600733542d5003c0fa3151d518324d6119a94b25461cd2604666564c80575341', '0xc800ab2d1832ebc9a4dacdcc6e42ce24caf213565e7297bb4faab0a70ecf7496', '0x997315efadffccf46ce6e935e9c20d15ad3fca2b582bc0e11cd4816f4336bf46', '0x600733542d5003c0fa3151d518324d6119a94b25461cd2604666564c80575341', '0x96458116abe7e0b79170c38ac833a8c8e11b801dbc626e005124b7841fad8cef', '0xc800ab2d1832ebc9a4dacdcc6e42ce24caf213565e7297bb4faab0a70ecf7496', '0xb6d8baef084f14009749271b163db61d3a8313e8e0c0e5f29a4083045c5a8692', '0x364a3c08f28997725c796c5f4a6be4bd46c663a6ca12248b55ce981c10666b9d', '0x7bcd45377e4e13ed96052548e9a17aa6318915ea1faa45db3169aea591674ee8', '0x96458116abe7e0b79170c38ac833a8c8e11b801dbc626e005124b7841fad8cef', '0x7bcd45377e4e13ed96052548e9a17aa6318915ea1faa45db3169aea591674ee8', '0xb6d8baef084f14009749271b163db61d3a8313e8e0c0e5f29a4083045c5a8692', '0x496d65c8768fdc27dc9113e1bc56b3a3aad0e3165f18c3f0d367e266b4648d81', '0x039c6519139374e9f8456f739662839fc05df65013e6907f33fbe74746eb7168', '0xc8f2219cb3a8925bb74af6012208e66264141cf69b9dfd6d2f06df2561271a38', '0xc5da70d153c2db5a48e29415e335721790dad105e36149762dcc3bdbf8560291', '0x039c6519139374e9f8456f739662839fc05df65013e6907f33fbe74746eb7168', '0xa2cdd2bd0812c6b6f34108712665caa6bd98281676ffb253e6a02d44f3d75f8a', '0x2a770538b09ebe841813b5d968d6ab6f4e0953230f4d7be6d31d8716d0326819', '0x2a770538b09ebe841813b5d968d6ab6f4e0953230f4d7be6d31d8716d0326819', '0xc51d80ddd4a76f7bb4ce3e7c49d8bb81b1faad46d4b37dc26eff98ff8ebe209e', '0x6fd3136f583a554fe66fc619b02c33f0b95c59905793371e0144bc97e0888ecb', '0xc8f2219cb3a8925bb74af6012208e66264141cf69b9dfd6d2f06df2561271a38', '0x496d65c8768fdc27dc9113e1bc56b3a3aad0e3165f18c3f0d367e266b4648d81', '0xa329ba0dd3ac6b54ca44db389798e38834125259def8aa0ca8602af75da5b101', '0x5c26af16796607fa3a7aff0f061911fffd12cbf090fee43a3422fa261541ddec', '0xc51d80ddd4a76f7bb4ce3e7c49d8bb81b1faad46d4b37dc26eff98ff8ebe209e', '0x5c26af16796607fa3a7aff0f061911fffd12cbf090fee43a3422fa261541ddec', '0xa20b114345aeef3c5e8f57de425461c6deb4fa4f4aee2db35e466766a27c23a7', '0xa2cdd2bd0812c6b6f34108712665caa6bd98281676ffb253e6a02d44f3d75f8a', '0xa20b114345aeef3c5e8f57de425461c6deb4fa4f4aee2db35e466766a27c23a7', '0xa329ba0dd3ac6b54ca44db389798e38834125259def8aa0ca8602af75da5b101', '0x6fd3136f583a554fe66fc619b02c33f0b95c59905793371e0144bc97e0888ecb', '0xc5da70d153c2db5a48e29415e335721790dad105e36149762dcc3bdbf8560291', '0xa37e5581f34a232036d34f3618eeda84fc8fcf7800aa750841e1ea9ceea63e49', '0xe1b1836e487cb0c2b9f0d6e580eab7014b0082d740bf7d6a89bad0f39eaeac7c', '0x5dba5886c379e5c744f056a2a56333238376a3ee0cec9a9d287725b2e8a027c3', '0xea92033fecccd9d4232c0e766321e00ed43fc5df3112d14aa529d725ba476212', '0x2abc6fdde47b01a4b30a3d2787d4586b2b9477c39a3376946f5ac5fc00b66c07', '0x31cd9d6f7e92abbf6bbff58e9c46b4fa616f9c3821e2f3b71c3452d2349ceee2', '0x50a2fd9ac33711a8e5db0639694dfdfc65c265a5e9738e4606525d1ca81fd213', '0x50a2fd9ac33711a8e5db0639694dfdfc65c265a5e9738e4606525d1ca81fd213', '0xa37e5581f34a232036d34f3618eeda84fc8fcf7800aa750841e1ea9ceea63e49', '0x5dba5886c379e5c744f056a2a56333238376a3ee0cec9a9d287725b2e8a027c3', '0x5c8817bc18047f008657c2fc39c56d06ad9679bb10882cdb8fcb60a64199e822', '0x02fd71be016ccc9ee0325d823882a30b08147270717bd229c6735debb46e8bbb', '0x02fd71be016ccc9ee0325d823882a30b08147270717bd229c6735debb46e8bbb', '0x5c8817bc18047f008657c2fc39c56d06ad9679bb10882cdb8fcb60a64199e822', '0x2abc6fdde47b01a4b30a3d2787d4586b2b9477c39a3376946f5ac5fc00b66c07', '0x31cd9d6f7e92abbf6bbff58e9c46b4fa616f9c3821e2f3b71c3452d2349ceee2', '0xe1b1836e487cb0c2b9f0d6e580eab7014b0082d740bf7d6a89bad0f39eaeac7c', '0x3b757d6668ca8e69a46757f1517efda569693142455837bd2663ab3d1817ced5', '0xea92033fecccd9d4232c0e766321e00ed43fc5df3112d14aa529d725ba476212', '0x3b757d6668ca8e69a46757f1517efda569693142455837bd2663ab3d1817ced5', '0x5450e3731a56416222c0e90b4c765c9aa66ab220f1798f944aa838ee8e58dac1', '0xad0c34fb6146acc346ea0fdb2791bdea3c81e4b374ca456c8a70f5414adb4dd0', '0x14443a066e5e98c04ccbf8edca8018347148ebaea8b907078fb578bbf0d04cd9', '0x11b8f3e2bd33a02c5b9c1c3ed68b558f61a989c693d21568de667824cc126be9', '0xb6e54913b2340c4d1497c5399ae3d23ec0e1e7572f2c2372209006d85dff9043', '0x14443a066e5e98c04ccbf8edca8018347148ebaea8b907078fb578bbf0d04cd9', '0x0a3fb2143ab9e23975dcd504e3038465698dc9b2e1ca83671c5d6678d922f403', '0x76bb369c8ae5eacd560f273b8157a21b28ed26760ba654023f60dfb1ef5338be', '0xce98567df58d281e42b39ba56ac3e35d08c6bdb6a0b8988371ae13e355a0842c', '0x1a2d626d4cafbf90c6f4420063e21e9eaf817a6a19713b7ddfda0de3999adab5', '0x1a2d626d4cafbf90c6f4420063e21e9eaf817a6a19713b7ddfda0de3999adab5', '0x500a49e106aee4456d12aaf95c97d03e4ca60671e22f0d36597f8d4c77d1d5ea', '0x11b8f3e2bd33a02c5b9c1c3ed68b558f61a989c693d21568de667824cc126be9', '0xce98567df58d281e42b39ba56ac3e35d08c6bdb6a0b8988371ae13e355a0842c', '0x6a088b81e813cb0b8c3fe56e72a798d60c0782cd9d6e05403fcc113edf74d1fd', '0x6a088b81e813cb0b8c3fe56e72a798d60c0782cd9d6e05403fcc113edf74d1fd', '0x8d0d0a5ee1864d27041330fa428ec3dac9240c198fb7cc4e3d47bdee0f4c2be9', '0x0a3fb2143ab9e23975dcd504e3038465698dc9b2e1ca83671c5d6678d922f403', '0x8d0d0a5ee1864d27041330fa428ec3dac9240c198fb7cc4e3d47bdee0f4c2be9', '0xad0c34fb6146acc346ea0fdb2791bdea3c81e4b374ca456c8a70f5414adb4dd0', '0x76bb369c8ae5eacd560f273b8157a21b28ed26760ba654023f60dfb1ef5338be', '0x500a49e106aee4456d12aaf95c97d03e4ca60671e22f0d36597f8d4c77d1d5ea', '0xb6e54913b2340c4d1497c5399ae3d23ec0e1e7572f2c2372209006d85dff9043', '0x5450e3731a56416222c0e90b4c765c9aa66ab220f1798f944aa838ee8e58dac1', '0xf71a8b56f9952be8538480c639721548ac27ae7fa304ef8d4d93c6239c0692ed', '0xa824c9159b6cc66a3bb5a827e08764c701770debcdaee1e4ad0fb4c14b3c80d5', '0x852ad48e7e9ba89b789823557c13a89bb861d2fcdd19a190331af3f3c0873c17', '0xee8de1de90091a1110b3a9be6d856f34b63ecc5338bd15fab50ccbaeef962fdd', '0x9d33a7f4b60111529be43fe405c760f39e796ecf6fa65776f20cf75407d16101', '0x405e98566bfd59c239312d7680b51bde673c05d1c8d4b265ba9ce308d069ba6a', '0x2ec35e685d49743db85354879f5e937a6c99608836f752bf734ea9314cb6b3c2', '0x988e60e6a966ee8ec3e332c08de238968523d4cafb3082771685382f3b993c06', '0xc2b0e03557d7d8992ee80bb679b121d270f5119a4e495b3a148505a200da1f1f', '0xee8de1de90091a1110b3a9be6d856f34b63ecc5338bd15fab50ccbaeef962fdd', '0xdd2782f4dc9c3bc98744c27fccebe393db2f9269aba5eed9703fb3220145e4d6', '0x849d8a467d2587b3baa8f87ffa20d1eb3a4088450af2990c6fef7d5c052eb60a', '0xff054c3a0a2ad02baf4d1bfa4f3ad6594fe4765e134662e76c9861cd85325975', '0x8588b8295c9b2f0d2e6bdb0dcc083f85a3f79c8f91d4ba46277a75a88f574963', '0xf82c86aeb1f02d95483ce477589fce9718af1b211128c95c37677fc0bf357143', '0x2ce150cbc34e62b9c803e5a7220bd3165d6453dded1c6040b96f2d658b43f782', '0x4dd85230be61f201b3de5206b77fae59802352229a9409cec4f3c25cb0a9fd97', '0x0ddf25fd7b5747a7d7860b13bc93e850875ebd6a8d4fa1245fb592d1e9104a13', '0xdd2782f4dc9c3bc98744c27fccebe393db2f9269aba5eed9703fb3220145e4d6', '0xc2b0e03557d7d8992ee80bb679b121d270f5119a4e495b3a148505a200da1f1f', '0x988e60e6a966ee8ec3e332c08de238968523d4cafb3082771685382f3b993c06', '0xff054c3a0a2ad02baf4d1bfa4f3ad6594fe4765e134662e76c9861cd85325975', '0x849d8a467d2587b3baa8f87ffa20d1eb3a4088450af2990c6fef7d5c052eb60a', '0x8588b8295c9b2f0d2e6bdb0dcc083f85a3f79c8f91d4ba46277a75a88f574963', '0x2ec35e685d49743db85354879f5e937a6c99608836f752bf734ea9314cb6b3c2', '0x2ce150cbc34e62b9c803e5a7220bd3165d6453dded1c6040b96f2d658b43f782', '0x0ddf25fd7b5747a7d7860b13bc93e850875ebd6a8d4fa1245fb592d1e9104a13', '0xa1f31fb00c9c6c23d0ce5b2ca7a74c26ac4b0f0d343a327bae6e2d538cde3de6', '0x9d33a7f4b60111529be43fe405c760f39e796ecf6fa65776f20cf75407d16101', '0xb6e6c10f4c9ff0e720cf584d5e4250fc81ceb57e49f5ae7522d9f1b968ef35cc', '0xa1f31fb00c9c6c23d0ce5b2ca7a74c26ac4b0f0d343a327bae6e2d538cde3de6', '0xb6e6c10f4c9ff0e720cf584d5e4250fc81ceb57e49f5ae7522d9f1b968ef35cc', '0x405e98566bfd59c239312d7680b51bde673c05d1c8d4b265ba9ce308d069ba6a', '0xf1e936435ff3477c2b6de49d096e6a82f0ea09d2dad622c38e70ab02bf167d1b', '0x4dd85230be61f201b3de5206b77fae59802352229a9409cec4f3c25cb0a9fd97', '0xf1e936435ff3477c2b6de49d096e6a82f0ea09d2dad622c38e70ab02bf167d1b', '0x03b2d535883467e01348ddb89c60512891f4ecbbb92ffd918a498e3a6247967d', '0x03b2d535883467e01348ddb89c60512891f4ecbbb92ffd918a498e3a6247967d', '0xf71a8b56f9952be8538480c639721548ac27ae7fa304ef8d4d93c6239c0692ed', '0xa824c9159b6cc66a3bb5a827e08764c701770debcdaee1e4ad0fb4c14b3c80d5', '0xf82c86aeb1f02d95483ce477589fce9718af1b211128c95c37677fc0bf357143', '0x852ad48e7e9ba89b789823557c13a89bb861d2fcdd19a190331af3f3c0873c17', '0xa01f52898acb4a02c27a93e6e9f62a9cdadef67343b34e9736a16c36f960ed6c', '0xa01f52898acb4a02c27a93e6e9f62a9cdadef67343b34e9736a16c36f960ed6c', '0x8027116837e503f4afacc8f2fcb72e4cab275fd32a2193b0a2a389e52bef4a6a', '0x8027116837e503f4afacc8f2fcb72e4cab275fd32a2193b0a2a389e52bef4a6a', '0x2b5368b184277e5d59fa79d162ef9ad765e4891d0bbc7aa9bf2a30bd6dab6367', '0x458b40c53fda53329c0154a0ddcb1c0d3499df3bbf8c50407728908000d040bc', '0x0514493101d7e770c22d3a2ce35834b22ca56cda5101a228476d63c7725139e6', '0x05f34d2d5a41f29b0f6bb92920286d04517da911fa8247578d30c0763b06250b', '0xa931b308c4a361732f43d422c910a78346cc6a68b4f79362fba2bc41390272e1', '0xa931b308c4a361732f43d422c910a78346cc6a68b4f79362fba2bc41390272e1', '0x89f3cda397d759b7e1542181fe43f5b91a3a646ae09dcf457c83c732b8d02a54', '0x0514493101d7e770c22d3a2ce35834b22ca56cda5101a228476d63c7725139e6', '0x0a8e8f3513c930a5344f552727f5538cf87b6ee3eaeba35dc6eac83a8bc81549', '0xb0584ccd7bb6dbd33c411b74fac0d849f345ea60b1155b84f801837a43441c77', '0x89f3cda397d759b7e1542181fe43f5b91a3a646ae09dcf457c83c732b8d02a54', '0x458b40c53fda53329c0154a0ddcb1c0d3499df3bbf8c50407728908000d040bc', '0x0b805351cc2b5d624ca854b624cc0dc43d0af769ba2acc392386ddbb6a402c24', '0xb0584ccd7bb6dbd33c411b74fac0d849f345ea60b1155b84f801837a43441c77', '0x0b805351cc2b5d624ca854b624cc0dc43d0af769ba2acc392386ddbb6a402c24', '0x0a8e8f3513c930a5344f552727f5538cf87b6ee3eaeba35dc6eac83a8bc81549', '0x2b5368b184277e5d59fa79d162ef9ad765e4891d0bbc7aa9bf2a30bd6dab6367', '0xe1a3b0c23827d3b3a2a033e6f203b931c1e2c820606360800f917131ee4ccfd7', '0x05f34d2d5a41f29b0f6bb92920286d04517da911fa8247578d30c0763b06250b', '0xe1a3b0c23827d3b3a2a033e6f203b931c1e2c820606360800f917131ee4ccfd7', '0xc90b8e28d2e1b025480253bf84da069d6458f1f5afb10cddfbb91a0f4ecb99b7', '0xd840b6af861dc80ce8d9cdc61a93c24d42279dcda5cc8b2f9448f5862dc152ca', '0x4db1c6a5f4fa33130bab809e4398db6a522c1f6d6042d9d46fb68257f0e14be9', '0x4db1c6a5f4fa33130bab809e4398db6a522c1f6d6042d9d46fb68257f0e14be9', '0xfa3993a6aba72f739299d2a1fade4eefcfc7ce69718faa2b47a557d6bd6652c9', '0xe86f78d7c32cc68c1d108c52eecd4e6d64fa08f7ea7077476b49797b9fd08b21', '0x2ceb3698367f07a6ec2ce322730741534a33a8f23fccdacd6aeee464bab6681e', '0xfe731787a0c824dd273baabe17d0e37aeb5acf60058909533bae30adcbc88d35', '0x3b865a1463a32ccb8cd0325c356f71527ad4bfd96f176f0606a920246eb13c25', '0xfa3993a6aba72f739299d2a1fade4eefcfc7ce69718faa2b47a557d6bd6652c9', '0xc90b8e28d2e1b025480253bf84da069d6458f1f5afb10cddfbb91a0f4ecb99b7', '0x558909e9cc82a59f1640c7aacccc50754123dcbddf5c99b378a8d0134c203289', '0xa5e5d5239837c4e0234368a9fa9b98ba5fb1a2e0a2ed6b58e715a32fd088e360', '0xb6d77033b68071f684612833a1821cf8bae389850f44deb78b3a1324ef425b1e', '0x558909e9cc82a59f1640c7aacccc50754123dcbddf5c99b378a8d0134c203289', '0xc99e59b1728a90bb947d17cb8e863409904cf6f97e0387aa5f2d63dd5ca98944', '0xc99e59b1728a90bb947d17cb8e863409904cf6f97e0387aa5f2d63dd5ca98944', '0xa5e5d5239837c4e0234368a9fa9b98ba5fb1a2e0a2ed6b58e715a32fd088e360', '0xd840b6af861dc80ce8d9cdc61a93c24d42279dcda5cc8b2f9448f5862dc152ca', '0xfe731787a0c824dd273baabe17d0e37aeb5acf60058909533bae30adcbc88d35', '0x2ceb3698367f07a6ec2ce322730741534a33a8f23fccdacd6aeee464bab6681e', '0x3b865a1463a32ccb8cd0325c356f71527ad4bfd96f176f0606a920246eb13c25', '0xe86f78d7c32cc68c1d108c52eecd4e6d64fa08f7ea7077476b49797b9fd08b21', '0xb6d77033b68071f684612833a1821cf8bae389850f44deb78b3a1324ef425b1e', '0xf4b4d8ad17d0795ebf8596848aedc9703c2c196be019314c11cc29c3fe0b4c64', '0x82d77d2b3a58208b0d1d98283a0180e29f3aa101d0c5a60724b1baf72e906a1f', '0xfabafd6011653804555bc4032f1df225f904c0daf8bda64524cca85d3588f23c', '0x7fac024e85f05e7264a11ce8ad7db1f4610762731aa5362aae61a46c47e9eb8b', '0xf4b4d8ad17d0795ebf8596848aedc9703c2c196be019314c11cc29c3fe0b4c64', '0xfabafd6011653804555bc4032f1df225f904c0daf8bda64524cca85d3588f23c', '0x339931b7ab169fb8e07244a632b72704893a041f3810fe9b41bb21046eb063b4', '0x950969322a855f28a7f7381db9561195965d921510709e133042b8db17bd8dc8', '0xad97494c3f95a7f42accfe3f91b284922c1c21c02da67fa17bfb56030f42c94f', '0xfe909ca3e3cf1e2a7aae448dd0a26acf9583600246a2bdcff1285488d3371d4a', '0xfe909ca3e3cf1e2a7aae448dd0a26acf9583600246a2bdcff1285488d3371d4a', '0x30051eba1c09de61158e14bec72ff755fa2edeab6ba17f75b07d2895128ef13c', '0x2517e788521164bb4ff70734f219044e5990279c280a16dd8bbac83595c2e3f0', '0x2517e788521164bb4ff70734f219044e5990279c280a16dd8bbac83595c2e3f0', '0x7fac024e85f05e7264a11ce8ad7db1f4610762731aa5362aae61a46c47e9eb8b', '0x82d77d2b3a58208b0d1d98283a0180e29f3aa101d0c5a60724b1baf72e906a1f', '0xad97494c3f95a7f42accfe3f91b284922c1c21c02da67fa17bfb56030f42c94f', '0xdddd9a27b24ded51ed8a0d43d3ba7c3db96f39a6abd9affc76d77ae9c950c13d', '0x339931b7ab169fb8e07244a632b72704893a041f3810fe9b41bb21046eb063b4', '0xdddd9a27b24ded51ed8a0d43d3ba7c3db96f39a6abd9affc76d77ae9c950c13d', '0x950969322a855f28a7f7381db9561195965d921510709e133042b8db17bd8dc8', '0x30051eba1c09de61158e14bec72ff755fa2edeab6ba17f75b07d2895128ef13c', '0xd20efef2d9c0a16b162e170749d9219ec1c1578cf4f4d62b2739d4d94aab996d', '0x585fe27252542765d31c1bfa14ed9ce998473d9d30a535457506a71d1ece5108', '0x905c7c1d3d0062ab482b38a2555533fbec081941f873aab70e29e9357f9df1e5', '0x1fea4f2d2f9db70f07a6a68bfe661b80e6e3a932f732e832429f321405b1b7a4', '0x6556c17b2939a786c427c7d0760753dd572539330ca293c73702fa9027aefe7b', '0x585fe27252542765d31c1bfa14ed9ce998473d9d30a535457506a71d1ece5108', '0xd20efef2d9c0a16b162e170749d9219ec1c1578cf4f4d62b2739d4d94aab996d', '0x1a128184442368b33683987b970d67ba9c37367910293ca7536e4f343d1103c7', '0x6556c17b2939a786c427c7d0760753dd572539330ca293c73702fa9027aefe7b', '0xb79ab9e2c8dae4a3fdf0e9174653f0248439c4f4476aac182e6c9e6e0a5157eb', '0x6aa2349cd8822285df17e1cb870c6463baacdb4f1aa3c8cd1c53a45cf42f97f9', '0x920c246e1e99f9c629552143950a7c5095b5118aba7c8e2d7ba4c4deb4d02793', '0x7935703a8c3980a876cd0e14e3819b9cd70d09f35c79dd4bf149810989b65c65', '0x1a128184442368b33683987b970d67ba9c37367910293ca7536e4f343d1103c7', '0x905c7c1d3d0062ab482b38a2555533fbec081941f873aab70e29e9357f9df1e5', '0x38807129a4b898d754051fbb7195dbf8698a1fff9d7ecb638858481a03c92fa1', '0x1fea4f2d2f9db70f07a6a68bfe661b80e6e3a932f732e832429f321405b1b7a4', '0x920c246e1e99f9c629552143950a7c5095b5118aba7c8e2d7ba4c4deb4d02793', '0x7935703a8c3980a876cd0e14e3819b9cd70d09f35c79dd4bf149810989b65c65', '0xb79ab9e2c8dae4a3fdf0e9174653f0248439c4f4476aac182e6c9e6e0a5157eb', '0x6aa2349cd8822285df17e1cb870c6463baacdb4f1aa3c8cd1c53a45cf42f97f9', '0x38807129a4b898d754051fbb7195dbf8698a1fff9d7ecb638858481a03c92fa1', '0xf3ef20e58587164d5544570e80e5ea126caf13ba4c1e3478c2f7357aadac8f9d', '0xe528164887d56608ad8f4e9dde497f8550c474c1a0588410ad0b7445b0eecb05', '0x444f3dbcac7be30296f635137f7f2c2d4e4b28d69b48713a37490e32eaf0fe4e', '0x97404bda4d8f7466ebbed0c0cd60279c755d40cd1cde190f40cab316f39aa8d1', '0x6d17441a76f004a94a965d5a1a65706e0ea334de317fc5b2a24c7f5a02154372', '0x444f3dbcac7be30296f635137f7f2c2d4e4b28d69b48713a37490e32eaf0fe4e', '0x92dfbb53e171f8392d6c0665b2cbffb354dbe47e1cf8cbaa0e2cb01fae0ae5b8', '0xd7ba4090dd5611d8b3f080d1be71f658ab3a764a0c5d5dd239868f800f705abc', '0xf3ef20e58587164d5544570e80e5ea126caf13ba4c1e3478c2f7357aadac8f9d', '0x6d17441a76f004a94a965d5a1a65706e0ea334de317fc5b2a24c7f5a02154372', '0xfe248fcfbfd16262c96f0d78dca45b78228d9cba3e43decc1108dcb154d58b0f', '0xebf1c170caf45a4262ff10da9529dfb733eb9602a105ea43bd8584378bbea8c6', '0xba763c6243fc92ebd6a819521a68df96eb3f0c58405b7eac8a482001cbe296f1', '0xd7ba4090dd5611d8b3f080d1be71f658ab3a764a0c5d5dd239868f800f705abc', '0xd12b1da81d01e1a88461b9a8ebe2e1eae9efffdab4b486c6df02b29a73845abb', '0xfe248fcfbfd16262c96f0d78dca45b78228d9cba3e43decc1108dcb154d58b0f', '0xcd7a70eda68f34ffbbe91fd9db68d7741b4303e9acee73264f33a594d3a9d15f', '0x92dfbb53e171f8392d6c0665b2cbffb354dbe47e1cf8cbaa0e2cb01fae0ae5b8', '0x97404bda4d8f7466ebbed0c0cd60279c755d40cd1cde190f40cab316f39aa8d1', '0xebf1c170caf45a4262ff10da9529dfb733eb9602a105ea43bd8584378bbea8c6', '0xd12b1da81d01e1a88461b9a8ebe2e1eae9efffdab4b486c6df02b29a73845abb', '0xba763c6243fc92ebd6a819521a68df96eb3f0c58405b7eac8a482001cbe296f1', '0xcd7a70eda68f34ffbbe91fd9db68d7741b4303e9acee73264f33a594d3a9d15f', '0xe528164887d56608ad8f4e9dde497f8550c474c1a0588410ad0b7445b0eecb05', '0x38ab2540fae4fbf0d5d06afc0a652596880b58fc17ea9874192217c9bd7d8555', '0x2d214362b094d33259764041b4814621b3f11ef7af1f3b35e4f1005b51d54463', '0x2836224e7f7e7a03731117b942ebf9a67a70cf064d0e9da221b367a7f10e02f8', '0xfca9e60bb52192cec223c5de61a0ace8fcbe776927613eded731a26cf3c6594b', '0xcc2ca14e79aec8a9531fb1ce9235da99a987ae3f285bf7ce1725de2a082f7521', '0xe2a3d7692e4fa89754db7becaf1cfb7be1119ed1d5308d4e81f7ad965d8d770d', '0x73cb1a65c86d4b2faa9154264ddecf4f4d4482f1782c188c3a3770d763708a75', '0xcc2ca14e79aec8a9531fb1ce9235da99a987ae3f285bf7ce1725de2a082f7521', '0x03728e760c54daef30f16696c00a6bf505db31e19007bb3935ed23c4aad4d514', '0x03728e760c54daef30f16696c00a6bf505db31e19007bb3935ed23c4aad4d514', '0xfca9e60bb52192cec223c5de61a0ace8fcbe776927613eded731a26cf3c6594b', '0x803a90068e779f6d8e791892f5e8341858ae383dd2aade8026715fce0713f551', '0x803a90068e779f6d8e791892f5e8341858ae383dd2aade8026715fce0713f551', '0x2d214362b094d33259764041b4814621b3f11ef7af1f3b35e4f1005b51d54463', '0xfa7a9dd359197bdcbb68dd57af91e423fde4a0c756a0a7430b8a625df97a7b74', '0x2836224e7f7e7a03731117b942ebf9a67a70cf064d0e9da221b367a7f10e02f8', '0xe2a3d7692e4fa89754db7becaf1cfb7be1119ed1d5308d4e81f7ad965d8d770d', '0x38ab2540fae4fbf0d5d06afc0a652596880b58fc17ea9874192217c9bd7d8555', '0xd6356f4d74333b25a08fbc03c38c9615acd4721f550b30d6fe188dc469a6bcf3', '0x73cb1a65c86d4b2faa9154264ddecf4f4d4482f1782c188c3a3770d763708a75', '0xd6356f4d74333b25a08fbc03c38c9615acd4721f550b30d6fe188dc469a6bcf3', '0xfa7a9dd359197bdcbb68dd57af91e423fde4a0c756a0a7430b8a625df97a7b74', '0x6e9e7412658a505e51f738a8e2becea1fa3f7688750f7cfd72fd45d1dec0de63', '0x917c732cc0c3d4aa23b05ef5d6dc3f1b94b90590d988cc3bc5c7106e72e97ff6', '0x917c732cc0c3d4aa23b05ef5d6dc3f1b94b90590d988cc3bc5c7106e72e97ff6', '0x0ba02410cfa51bd4b89b597de94f0b386aa73f3b2f843e2f7f30c8238fa29d33', '0x516a227ba1cc042b9ae90ec705244e4055f09283479b9afce464bbbe6d0c0c3f', '0x0ba02410cfa51bd4b89b597de94f0b386aa73f3b2f843e2f7f30c8238fa29d33', '0xc38fdd00a98f73df6f94ae0f64aff1e3f9c74f16f561a27e07d8742efe752b60', '0x961bd47b2b344752168d67d79e0db57116694c3943a77d4937e956f95fff8730', '0xc65c2619bf53ce5bf45b2ed2085f1f14ad8a9f89c285709aaaa2fde132543176', '0x990fc82f2b9a1fae9aa81abe26737afb269b664f3c7f3e2745830909e29b0433', '0x05b7e1b2abadadf7f95b358f3c30d8f6c8727388be048e4dee035ca1b8aaa429', '0xc38fdd00a98f73df6f94ae0f64aff1e3f9c74f16f561a27e07d8742efe752b60', '0xb70a860d918f11cda23d0bf20a00e5c97e3d8f8c64afb44b927feba1b256a8d7', '0x516a227ba1cc042b9ae90ec705244e4055f09283479b9afce464bbbe6d0c0c3f', '0x990fc82f2b9a1fae9aa81abe26737afb269b664f3c7f3e2745830909e29b0433', '0x961bd47b2b344752168d67d79e0db57116694c3943a77d4937e956f95fff8730', '0x26dbe01ce6cf3d0c363cb5249a25d845d95c51e5f9384b3c612d68f33939bd91', '0x05b7e1b2abadadf7f95b358f3c30d8f6c8727388be048e4dee035ca1b8aaa429', '0x26dbe01ce6cf3d0c363cb5249a25d845d95c51e5f9384b3c612d68f33939bd91', '0xc65c2619bf53ce5bf45b2ed2085f1f14ad8a9f89c285709aaaa2fde132543176', '0x6e9e7412658a505e51f738a8e2becea1fa3f7688750f7cfd72fd45d1dec0de63', '0xb70a860d918f11cda23d0bf20a00e5c97e3d8f8c64afb44b927feba1b256a8d7', '0x8dcf07804d75e08d9676ac45aa4270eba29d023abe7e68b3bdd57d66791cddf1', '0xad201111570b4b28295422c1dd262802e0454a2ac4e425fd7ad6f65853331a9c', '0xd9e65f8e024912a3fe5efc761dfb2f3b34766ff2b46746bcdbca55fb08ff8e5d', '0x7cc46c4efae582a5ee3ec8e55ea375112c6e896c36014f42e46f2f178f90b59e', '0xd9e65f8e024912a3fe5efc761dfb2f3b34766ff2b46746bcdbca55fb08ff8e5d', '0x61ab99d743206ce44751475ba03059b986a25286cda98a7362b602b38d9c8d64', '0x73bf4a2d8cc1144863d98b22ff321a8a3fb64e056b57a7beeb0ca293edec8295', '0x87c93293275c174c3746a3c04be17845ea7fdc0101920a3138de82197b412cca', '0x0f6663a4e9fdc5273c6e6218a73e5e6daca0a8a54575fabd38b62e87f3abb4ea', '0x0f6663a4e9fdc5273c6e6218a73e5e6daca0a8a54575fabd38b62e87f3abb4ea', '0x7cc46c4efae582a5ee3ec8e55ea375112c6e896c36014f42e46f2f178f90b59e', '0x9d4eaa17bf9700810b279d7936f12bb7036d9d94fd273cd98c3cec89d4850531', '0xad201111570b4b28295422c1dd262802e0454a2ac4e425fd7ad6f65853331a9c', '0xeb377e6a1c623e687e26d359301f5dacdfa71474749055f84645815b2e7009ea', '0xf51f9e8ee8937bfcd5e07cd5ba0377126fb58b99cc0b6237f73c1e5302209d43', '0x61ab99d743206ce44751475ba03059b986a25286cda98a7362b602b38d9c8d64', '0xeb377e6a1c623e687e26d359301f5dacdfa71474749055f84645815b2e7009ea', '0xf51f9e8ee8937bfcd5e07cd5ba0377126fb58b99cc0b6237f73c1e5302209d43', '0x9d4eaa17bf9700810b279d7936f12bb7036d9d94fd273cd98c3cec89d4850531', '0x73bf4a2d8cc1144863d98b22ff321a8a3fb64e056b57a7beeb0ca293edec8295', '0x87c93293275c174c3746a3c04be17845ea7fdc0101920a3138de82197b412cca', '0x8dcf07804d75e08d9676ac45aa4270eba29d023abe7e68b3bdd57d66791cddf1', '0xa1a747e835321208bd1ebb003e2d6e3cddf4e02153304bbdd529f824f8b5a534', '0xa1a747e835321208bd1ebb003e2d6e3cddf4e02153304bbdd529f824f8b5a534', '0x8b14fbb9368833c872fc80dc77fcae0a95a6796b04dba60516be757b74b8509a', '0x5ec10be2617be8ae08ec52a76911118f4f1865d570c951223f5044cd0ecb69bc', '0x8b14fbb9368833c872fc80dc77fcae0a95a6796b04dba60516be757b74b8509a', '0x12d67b04f5027b95a57f50928cea4a2ceac0cf213ebb987758c34448f1ff5515', '0x893d1aba2e8052dc273721b3bf8bce8372947539edc0ebf85703c9688569f537', '0x5ec10be2617be8ae08ec52a76911118f4f1865d570c951223f5044cd0ecb69bc', '0xee1e5f2a3bf3af975a9323a415b247b8ab5681c6fb5e85eb005be53c25e4055a', '0xf8eb8b4a92fe2160c926ecdf1a518d249fdb8fb9cf1e449769f65086f40da9ad', '0xe32de39478b4af2d01b1b3848dd8886628b8e97209c2169e7759d0af0843772c', '0x6fa60916271305491b4d30ad765f36c71c01280217ec29add9b96f0560e5470a', '0x12d67b04f5027b95a57f50928cea4a2ceac0cf213ebb987758c34448f1ff5515', '0xcf3ef0a37a339e9fca4fcb12bbde04876c1f0f15a105bd10eb0602d23cbeee0b', '0x8c012485a4053335f570fd1ff5f5702e3b37ba013960c681022c101ba78c851f', '0x893d1aba2e8052dc273721b3bf8bce8372947539edc0ebf85703c9688569f537', '0xf8eb8b4a92fe2160c926ecdf1a518d249fdb8fb9cf1e449769f65086f40da9ad', '0x6fa60916271305491b4d30ad765f36c71c01280217ec29add9b96f0560e5470a', '0x8c012485a4053335f570fd1ff5f5702e3b37ba013960c681022c101ba78c851f', '0xee1e5f2a3bf3af975a9323a415b247b8ab5681c6fb5e85eb005be53c25e4055a', '0xe32de39478b4af2d01b1b3848dd8886628b8e97209c2169e7759d0af0843772c', '0x3346d951033a50dfea73339f1d06a51d2d16c7e5e95155ac7e3495e33c358287', '0x3346d951033a50dfea73339f1d06a51d2d16c7e5e95155ac7e3495e33c358287', '0xcf3ef0a37a339e9fca4fcb12bbde04876c1f0f15a105bd10eb0602d23cbeee0b', '0x547c2d5147b262985ce665564e9f15030849cbcce4078fdd868dfc375b47a53c', '0x547c2d5147b262985ce665564e9f15030849cbcce4078fdd868dfc375b47a53c', '0xda4d098a4daa11bd990b970aaee1ef73aff97d157b1da7d8cddfa026d25a1fba', '0x9ed82674ef8b1721a9bd0ad76d72e7d7056245fd7c20884edd6e8baeec9d63b6', '0xff8f3bf292a641b3a4a6a118f8ebf2186021df540d37a48ae441b4a9d2a37714', '0x065c4e82e82a768c50f98479021d0f5366cfe84cdae13b7d1ee93dc6cbc2ee73', '0x9ed82674ef8b1721a9bd0ad76d72e7d7056245fd7c20884edd6e8baeec9d63b6', '0x11637a2989d207b02580fd7fd16c068115c701bf4e8ebce58c0dfd0a9b1b5a66', '0x600de376298b82ea29d7b054363cdbb2c13eac96a5d072050570b28cd420d777', '0xda4d098a4daa11bd990b970aaee1ef73aff97d157b1da7d8cddfa026d25a1fba', '0x39efc81ef2c3945ea5ca3576caf9303052a41220a42f6f433c608e5a182f335b', '0x39efc81ef2c3945ea5ca3576caf9303052a41220a42f6f433c608e5a182f335b', '0x43b6d2dd9bd2c16d387753e03eb99e4ef5df0aaf6a8540915de816e689d679b1', '0xfe21b5d16a2372f3028a5ba50243b056a829c78cfe37c7bf3844b744d7cc04db', '0x600de376298b82ea29d7b054363cdbb2c13eac96a5d072050570b28cd420d777', '0xff8f3bf292a641b3a4a6a118f8ebf2186021df540d37a48ae441b4a9d2a37714', '0x11637a2989d207b02580fd7fd16c068115c701bf4e8ebce58c0dfd0a9b1b5a66', '0x065c4e82e82a768c50f98479021d0f5366cfe84cdae13b7d1ee93dc6cbc2ee73', '0x43b6d2dd9bd2c16d387753e03eb99e4ef5df0aaf6a8540915de816e689d679b1', '0xfe21b5d16a2372f3028a5ba50243b056a829c78cfe37c7bf3844b744d7cc04db', '0x694bccf9ae8d469fa46e5bddb542fcc1d0030c79e3992e2eba1f73ba3af005ef', '0x4af0854df9006dda745f0298a75061b176580a98ea9c39326bbd97a0846a6f39', '0x61b4278f6b1318848ab477f447331105533f0287bdf78db344201515f38a2f48', '0x26bdf8fe65198447a6565b484202ce225cb30c5720ff3bd6e36de3a0b8ec03b4', '0x5f1c022e79b4c66918346d5b9d0045ed36fc420ec4c05e999980348189f9ebfb', '0x41536137dd4c7d6b7574956d5812fd5457da768c402ad2952199931718a9108c', '0x26bdf8fe65198447a6565b484202ce225cb30c5720ff3bd6e36de3a0b8ec03b4', '0x3cfcf257355c607275d8ba7d1b13768ebece834df054c8a6fe171c5ea2d832a4', '0x3cfcf257355c607275d8ba7d1b13768ebece834df054c8a6fe171c5ea2d832a4', '0x1501284da4287f9cd3a61fd18295efc136c04b39553faa4a73cf2485c2762f87', '0x5f1c022e79b4c66918346d5b9d0045ed36fc420ec4c05e999980348189f9ebfb', '0x41536137dd4c7d6b7574956d5812fd5457da768c402ad2952199931718a9108c', '0x915a527bba64047451ea2bce360e4c83a4497456155c9bb896d7280f0f85b573', '0x843acc040743aed4929f256e1dd764d46fc3aa20ec95fa148b622f108d1591ee', '0x1501284da4287f9cd3a61fd18295efc136c04b39553faa4a73cf2485c2762f87', '0x4af0854df9006dda745f0298a75061b176580a98ea9c39326bbd97a0846a6f39', '0x584f1766cf57297b554b9d009a93b75431c3f5209921f3a59268129b3e4d81a2', '0x915a527bba64047451ea2bce360e4c83a4497456155c9bb896d7280f0f85b573', '0x584f1766cf57297b554b9d009a93b75431c3f5209921f3a59268129b3e4d81a2', '0x694bccf9ae8d469fa46e5bddb542fcc1d0030c79e3992e2eba1f73ba3af005ef', '0x61b4278f6b1318848ab477f447331105533f0287bdf78db344201515f38a2f48', '0x843acc040743aed4929f256e1dd764d46fc3aa20ec95fa148b622f108d1591ee', '0x4c49a6695693b459bc9ec82b5dd9cab62984d591d1370ac24bd84047231c1aec', '0xedfbbf56cf4b03a1f1f05289e95c4d0a4e1fd3caf1e22e2a07829dd8becc8e02', '0x906790ac79063eb99ab2970cfc1e3d8e885646099a72f0eca1d3fd35f6512343', '0x906790ac79063eb99ab2970cfc1e3d8e885646099a72f0eca1d3fd35f6512343', '0x0ee68a04f1bcc7a2a62d3492d18865a8419d5717adc97c7364d0aa8adc411a5e', '0x4c49a6695693b459bc9ec82b5dd9cab62984d591d1370ac24bd84047231c1aec', '0xedfbbf56cf4b03a1f1f05289e95c4d0a4e1fd3caf1e22e2a07829dd8becc8e02', '0x806768306ae274a5a6d8b95aeca5bf02140134c4f059ef7ce7d275b96101a17d', '0xc23a94423374d78c6ca3ad73b35262a91ce1f697a2b7047f24cb292ca2dd20ad', '0xc23a94423374d78c6ca3ad73b35262a91ce1f697a2b7047f24cb292ca2dd20ad', '0x806768306ae274a5a6d8b95aeca5bf02140134c4f059ef7ce7d275b96101a17d', '0x56ed3ddde4e5729c1dffb1b656e046e8214e84a5bd26ca2a0ae735c8c620c427', '0xf7d4c0170677ad97b03a117efed73855bcbf76b87dc630e1a62fef54290b531c', '0x56ed3ddde4e5729c1dffb1b656e046e8214e84a5bd26ca2a0ae735c8c620c427', '0xdc0cb44929c38ab24872f730132fe98d06bfc3783c734a410c781193a419632f', '0x51a5d6b7206f637027f5d75aa52d815e044b5b165cf3117fe30149b362b5800b', '0x51a5d6b7206f637027f5d75aa52d815e044b5b165cf3117fe30149b362b5800b', '0xdc0cb44929c38ab24872f730132fe98d06bfc3783c734a410c781193a419632f', '0xf7d4c0170677ad97b03a117efed73855bcbf76b87dc630e1a62fef54290b531c', '0x0ee68a04f1bcc7a2a62d3492d18865a8419d5717adc97c7364d0aa8adc411a5e', '0x9004bcc50bf026c9ecf36a1722443588c4291305b3a40836b76f7351407997e1', '0x9004bcc50bf026c9ecf36a1722443588c4291305b3a40836b76f7351407997e1', '0x6e8428300b8018d57d7024ca44496e1306e17112339f6e4521261d3c6f3589f8', '0x637381d208665124ef373332fa8b4869ed8ce45a2bfcaca2809a23cfce036955', '0x29de339b8a5faae05ee2d99c96267ccad2225e5bda2c6f597129bb925dbb8e8e', '0x637381d208665124ef373332fa8b4869ed8ce45a2bfcaca2809a23cfce036955', '0x6e8428300b8018d57d7024ca44496e1306e17112339f6e4521261d3c6f3589f8', '0xe94f213b88573c504f6a9f70b8d339cec5f72c5a86ae616ea1a7e29adf5cb511', '0xe94f213b88573c504f6a9f70b8d339cec5f72c5a86ae616ea1a7e29adf5cb511', '0x29de339b8a5faae05ee2d99c96267ccad2225e5bda2c6f597129bb925dbb8e8e', '0x455aee7730df834a7e85f78fc0a56bdf338d4236612244eea4bc247eafde1a65', '0x723b9e82e8d73a179167e3ce1379fb370b941764d75b980aaeff995f4498afac', '0x371ee6f9426706df35439fb3cdf6167d7613602c5938fc6c9ee22aab0980675c', '0x9fbf3ee7ddfde202b3cad173c22347a12ecbe268cfbb9dfed72245f8aecd7961', '0x3c44be2a9ea00cc00839ffdbc2464bd7e436e73eccbe481dd857fe3cb7fdfcdc', '0x371ee6f9426706df35439fb3cdf6167d7613602c5938fc6c9ee22aab0980675c', '0x5f4b76e0d385b5737464bf32215dfab3c856e9ba064f3f903b77314f86709501', '0x5f4b76e0d385b5737464bf32215dfab3c856e9ba064f3f903b77314f86709501', '0x03ec4245fdc77aabc646e6afeebd3b9f83987f0f2b18b808896860eb2806a21d', '0x3c44be2a9ea00cc00839ffdbc2464bd7e436e73eccbe481dd857fe3cb7fdfcdc', '0x455aee7730df834a7e85f78fc0a56bdf338d4236612244eea4bc247eafde1a65', '0x9fbf3ee7ddfde202b3cad173c22347a12ecbe268cfbb9dfed72245f8aecd7961', '0xb0b163110efa589c0167ed520fb35397ed565df784caabc00f5f7e35e1a43ea8', '0x03ec4245fdc77aabc646e6afeebd3b9f83987f0f2b18b808896860eb2806a21d', '0x723b9e82e8d73a179167e3ce1379fb370b941764d75b980aaeff995f4498afac', '0x4d32a764f4d511f72d221a6bea07ac58222e2ceb580b696fcf9f769ed9551ded', '0x505ab72ef9496fb7fc3737d15e0eb0f578ffc41c366ee47166a5c6739c238fb3', '0xbab7d27cef7043aa9b65341f6dcc61aca6e68c84b7f1c4ca0cad6ee2701f2916', '0xbab7d27cef7043aa9b65341f6dcc61aca6e68c84b7f1c4ca0cad6ee2701f2916', '0x505ab72ef9496fb7fc3737d15e0eb0f578ffc41c366ee47166a5c6739c238fb3', '0xb0b163110efa589c0167ed520fb35397ed565df784caabc00f5f7e35e1a43ea8', '0x4d32a764f4d511f72d221a6bea07ac58222e2ceb580b696fcf9f769ed9551ded', '0x90c09754e7245c682a0d887fa05553491326656680ab44a203ce2810c7413f09', '0x8b17d906b8666aaa0f6ac00318b5a2009874eb59366598da18acf4c811dc99dd', '0x8b17d906b8666aaa0f6ac00318b5a2009874eb59366598da18acf4c811dc99dd', '0xe5d3593c6963852c6fe1d90d89a43da9e07e764390636967c59d112f35283a06', '0x90c09754e7245c682a0d887fa05553491326656680ab44a203ce2810c7413f09', '0x8960302a341e8bbb98dc06de93e4543690bc0a484c983f4f47ae4c22ff5797bb', '0x27199bd19fc13b3447d2c411f8c09fff8568b95ab4c05b9cebbd7af53613b1f2', '0x4920606bdc2914e0316078a48584cd3c37b15b0eedb6681e8bbc0ece12ef62ea', '0xc4cfa998712fda2f0e43662495c67a10574b49d563d7d04705d51c00e05dd020', '0xe5d3593c6963852c6fe1d90d89a43da9e07e764390636967c59d112f35283a06', '0x2bd02aa99aa3b0b306c8cbcb1bdfe2303296453ae3983e99fb49ac7d1c612c96', '0x4920606bdc2914e0316078a48584cd3c37b15b0eedb6681e8bbc0ece12ef62ea', '0x9af0eb9a0c07472e91dd87fd666f1dd339b3f60c8611dde087c977dd1eee242f', '0xe0549b7a2320dd14687da38bab496ad8f87a182b01e372aa5a24a18365e289b0', '0x2bd02aa99aa3b0b306c8cbcb1bdfe2303296453ae3983e99fb49ac7d1c612c96', '0xeb31a12aedf438936eb10c127f128643f44ae48f2f9afb2ce5c3b4303c455be1', '0xe0549b7a2320dd14687da38bab496ad8f87a182b01e372aa5a24a18365e289b0', '0x8960302a341e8bbb98dc06de93e4543690bc0a484c983f4f47ae4c22ff5797bb', '0x9af0eb9a0c07472e91dd87fd666f1dd339b3f60c8611dde087c977dd1eee242f', '0x364a28b0611a487835c7dbd421b44bff07d8b37c93bc523abd6589931bd93f28', '0x364a28b0611a487835c7dbd421b44bff07d8b37c93bc523abd6589931bd93f28', '0x27199bd19fc13b3447d2c411f8c09fff8568b95ab4c05b9cebbd7af53613b1f2', '0xeb31a12aedf438936eb10c127f128643f44ae48f2f9afb2ce5c3b4303c455be1', '0xc4cfa998712fda2f0e43662495c67a10574b49d563d7d04705d51c00e05dd020', '0x2c625ab5faae4765d4f2ee030a59ada6cea3c922392f54309f6590bca9d0367a', '0xadd78f61f6d45f9d0bbaa649e7725fd102b9d660bd477a33f2ad27074b1cab52', '0x734ba25c007030b5ed6cc431df831d4fb9a32aeb8563aa5e1734fbf08b91bec8', '0x16391fc88b66365680d1d0c0e734395bc5cb5da014c96fe2258ae4b7863059e5', '0xc380f05f47f648112528dc692e500f1ba00e7af59ee1a657245a608391ebdb09', '0xadd78f61f6d45f9d0bbaa649e7725fd102b9d660bd477a33f2ad27074b1cab52', '0x72a256edc1c832f9516214edf082c74453062dba4f239fa458715d8e024bb8d7', '0xfb29229cdeb597fe44f0df9a983bf8e2fe4241c973892d4e571f05b563a62806', '0x894c726dd589e5e9130a4fed7a506da12f82d88c37506299ba38dc4f7ba95402', '0x734ba25c007030b5ed6cc431df831d4fb9a32aeb8563aa5e1734fbf08b91bec8', '0xfb29229cdeb597fe44f0df9a983bf8e2fe4241c973892d4e571f05b563a62806', '0x01696fd0eb626788821cd52b9b8d77b43a9fc2c34e5387af7efcc9da0225d681', '0x8795e4222a5702ea2bf0ff0da3c611fc9205ddad310931858a155d6c49e744ab', '0x99929ee3faface01ad693e65b9d7100e93c9aa4ac3368066b315d3f0f49c08f2', '0x894c726dd589e5e9130a4fed7a506da12f82d88c37506299ba38dc4f7ba95402', '0x65aaf5f14569173a65324be30b58575f7c930facfde538c8d8d1635bdae7aa25', '0x72a256edc1c832f9516214edf082c74453062dba4f239fa458715d8e024bb8d7', '0x8795e4222a5702ea2bf0ff0da3c611fc9205ddad310931858a155d6c49e744ab', '0x65aaf5f14569173a65324be30b58575f7c930facfde538c8d8d1635bdae7aa25', '0x01696fd0eb626788821cd52b9b8d77b43a9fc2c34e5387af7efcc9da0225d681', '0x2c625ab5faae4765d4f2ee030a59ada6cea3c922392f54309f6590bca9d0367a', '0x16391fc88b66365680d1d0c0e734395bc5cb5da014c96fe2258ae4b7863059e5', '0x99929ee3faface01ad693e65b9d7100e93c9aa4ac3368066b315d3f0f49c08f2', '0xc380f05f47f648112528dc692e500f1ba00e7af59ee1a657245a608391ebdb09', '0x18b840f76626a13d1506653a7a0265e2ad641cebd8b5f6f79edef7830bd8f0d1', '0xc225a4fca95a2f849269a12d39f1384f1cf1b7db23dbff67e6dc1876fcd763ff', '0x18b840f76626a13d1506653a7a0265e2ad641cebd8b5f6f79edef7830bd8f0d1', '0x2f002490585e27aaed1a832f968d0fe09028e6caf9d139492fe17190c02e4991', '0xc225a4fca95a2f849269a12d39f1384f1cf1b7db23dbff67e6dc1876fcd763ff', '0xe876110b1bd28f0d00ea5c61c663d5d101d5e5eb494f0d2e61e4aac88cffb947', '0xcd1d80290c42eb4901503d4b305b8c73e3943d7123276fc62b645ca80a9c336f', '0xcd051ac0aa15e131e7223e694654087b41bed174030be4149aeac0ccccf48ac3', '0x7280d8126e11caa100c04d15de72311007f824193016ab215bf612856b3a7bf2', '0x7280d8126e11caa100c04d15de72311007f824193016ab215bf612856b3a7bf2', '0x2877b4ed33587b1d11bd908cf6a010c2139224dcfdff1b0f82e066b4dcab0e76', '0x8880d9903d26142825a6fd624cf7d5db9dfec19b7179a3e0ec356c8bd969a34b', '0xe876110b1bd28f0d00ea5c61c663d5d101d5e5eb494f0d2e61e4aac88cffb947', '0x820e9da56f9dfa28f79335de6b28bf6841713cee55637cac251ebe759f60ef6d', '0x8880d9903d26142825a6fd624cf7d5db9dfec19b7179a3e0ec356c8bd969a34b', '0xad819ef1d38009ca8d690f2ffb8c5cbe46a5a62f9c5efcef404b4236784bae91', '0xad819ef1d38009ca8d690f2ffb8c5cbe46a5a62f9c5efcef404b4236784bae91', '0xcb963b3e474efd312007a84b28dc51f77479c096ce8b4e7041c60294f4bc262b', '0xcd1d80290c42eb4901503d4b305b8c73e3943d7123276fc62b645ca80a9c336f', '0xcd051ac0aa15e131e7223e694654087b41bed174030be4149aeac0ccccf48ac3', '0x820e9da56f9dfa28f79335de6b28bf6841713cee55637cac251ebe759f60ef6d', '0xcb963b3e474efd312007a84b28dc51f77479c096ce8b4e7041c60294f4bc262b', '0x2877b4ed33587b1d11bd908cf6a010c2139224dcfdff1b0f82e066b4dcab0e76', '0x2f002490585e27aaed1a832f968d0fe09028e6caf9d139492fe17190c02e4991', '0x09dbbf52997996afb6ae83c7f19d158d1a20b322a4eef11849795bca00975d58', '0x0ca54a220139e956f58c11e3b8c2cfb3f9d9756d7c70aaff002b2c8ea32d82c4', '0xafff3f7f03219739729a7cc14a93eb03c6ef2dfefa7e07ba2e754e2c2f1878c8', '0xff516ed0017aaa3d323ad76371a6de49747ed46a41fac7f3faa7e0aa1a973042', '0x2bfdb08342a6b85d0acae0970d0ab66d1220a8011a609203ba2a43da1708b3b8', '0x8aca5ddb01b402cdc55e1f0c7bcb489af57bf8e39d414d1668429e3a7a1b41be', '0x8aca5ddb01b402cdc55e1f0c7bcb489af57bf8e39d414d1668429e3a7a1b41be', '0xd31815ab33ecdd7e1b9b57a7ab12aa9cc881f3f422aba7212de55acc645c37f1', '0x0ca54a220139e956f58c11e3b8c2cfb3f9d9756d7c70aaff002b2c8ea32d82c4', '0x09dbbf52997996afb6ae83c7f19d158d1a20b322a4eef11849795bca00975d58', '0x910b86473b4678f6726816d3150ef6f99ff7646a71a5f2cc33dde4a313265050', '0x82881ae0b673bd39aec72383c2a07079361914ce5f7383cb7ae2b153ae3e81fc', '0x4ce7deca3b8ee29fd75181491246c9ffb87b9d1d998085b7103fb83eb62560cb', '0x3ba1488c9c1c2305e95b4378c0a0f2b670ff401d27ec35a4219fd7339e34985c', '0x910b86473b4678f6726816d3150ef6f99ff7646a71a5f2cc33dde4a313265050', '0x2bfdb08342a6b85d0acae0970d0ab66d1220a8011a609203ba2a43da1708b3b8', '0xafff3f7f03219739729a7cc14a93eb03c6ef2dfefa7e07ba2e754e2c2f1878c8', '0xafeddf015a9549e1227105319515c1db0236ab933dbaef523030d93cfc45c984', '0x82881ae0b673bd39aec72383c2a07079361914ce5f7383cb7ae2b153ae3e81fc', '0x3ba1488c9c1c2305e95b4378c0a0f2b670ff401d27ec35a4219fd7339e34985c', '0xff516ed0017aaa3d323ad76371a6de49747ed46a41fac7f3faa7e0aa1a973042', '0x4ce7deca3b8ee29fd75181491246c9ffb87b9d1d998085b7103fb83eb62560cb', '0xafeddf015a9549e1227105319515c1db0236ab933dbaef523030d93cfc45c984', '0xd31815ab33ecdd7e1b9b57a7ab12aa9cc881f3f422aba7212de55acc645c37f1', '0xeab31766d1a4029aee8c4186a2adb28d60b83f50f6be3e59d7e640953f386c58', '0x4f3b55b0153c00286c0a8dbc3a1981797cad34cba815433d94479191b2b5ee7f', '0xce1423e5c20d008627e29530b1155ddc44419cb39f6fa98e26db136de00859fa', '0xf55449b6519aede0005f0d11c65a5540d5596056102e88ec8e219849b0b49a16', '0x41f8223bc25a5e81c88cb252eea62acc7c5bce4080796fe2f79d46839a83fe4b', '0x4f3b55b0153c00286c0a8dbc3a1981797cad34cba815433d94479191b2b5ee7f', '0xce1423e5c20d008627e29530b1155ddc44419cb39f6fa98e26db136de00859fa', '0x41f8223bc25a5e81c88cb252eea62acc7c5bce4080796fe2f79d46839a83fe4b', '0xe3f4bcc25a378e946a07ffd37eed361a3b278c593e5dae980cbe586dafe5f4dc', '0x2d7bee64a1565fa09eec85a689615a346fac63bd631710037ee70ff7208420ae', '0xeab31766d1a4029aee8c4186a2adb28d60b83f50f6be3e59d7e640953f386c58', '0x42df2e0d19a955a3efde04cb56805a3d62397ad2762705d07c678358048513a3', '0x2d7bee64a1565fa09eec85a689615a346fac63bd631710037ee70ff7208420ae', '0xe3f4bcc25a378e946a07ffd37eed361a3b278c593e5dae980cbe586dafe5f4dc', '0x95420149728be90d611a4c0786db314544a4f8d0c9082be992e3c351fdf7e3b5', '0x95420149728be90d611a4c0786db314544a4f8d0c9082be992e3c351fdf7e3b5', '0x4f7f206f1d3d03ab2d7bc038b35d4418f0b05c1b7b91fcb198a63d365eb2a2ea', '0x42df2e0d19a955a3efde04cb56805a3d62397ad2762705d07c678358048513a3', '0xf55449b6519aede0005f0d11c65a5540d5596056102e88ec8e219849b0b49a16', '0x4f7f206f1d3d03ab2d7bc038b35d4418f0b05c1b7b91fcb198a63d365eb2a2ea', '0xc9ba775d9f1d8dd4bfbe58059e2bbaaee00938d1904eeb95f31035c6e4940b75', '0xc9ba775d9f1d8dd4bfbe58059e2bbaaee00938d1904eeb95f31035c6e4940b75', '0x5a3aac05037362b3ce668877bdc9c472cd00a01300d0da20425ef065ce73122e', '0x6dc8e68b70875624c40b4c8f266be257b25da5df87986dabcabb76261bbce339', '0x5a3aac05037362b3ce668877bdc9c472cd00a01300d0da20425ef065ce73122e', '0xbca6bfbf7a7a6a4238cecf455374f5c34abbc62b53ba93df3ef198efab727804', '0x51d0814d1c6aee466b87625d580a34444608788186bbbe4dfaea066cdd01c428', '0x6dc8e68b70875624c40b4c8f266be257b25da5df87986dabcabb76261bbce339', '0x51d0814d1c6aee466b87625d580a34444608788186bbbe4dfaea066cdd01c428', '0xbca6bfbf7a7a6a4238cecf455374f5c34abbc62b53ba93df3ef198efab727804', '0x0b9e185316c6d26d4025ab634d631422169a83ff246d12d1d8c7dc503a59a044', '0x0d484d6bf9c196b3f2ebe470ef49c987f56f3c06e117e0af3219fa1572d26670', '0xcb1a3a54813d68fab70439d1c3f97e272d6699296e7733dfbfc6f46ef20bde3b', '0x8ebfc67e40c352062b660de771b93f8c4ade00b7bf36813885a1087164b268f3', '0xd9ade5c7fcd49f471381e0fe58d170a3b035d9bd9713a2bfe33a5b58957e8434', '0x9c317b30b4d4b6a597bf4aed1e37a3858c0037119d9f550bb970ee532e59a959', '0xc93d9b177c7fe935c0b98c2269311ef26a5c5102dd68b26ff929ca2d8980120d', '0xcb1a3a54813d68fab70439d1c3f97e272d6699296e7733dfbfc6f46ef20bde3b', '0xce443f3d328baa36822749c9ee3e4319eff43775919e05081913ca5ccc72ddce', '0x77606bccb2f21c7d6289427ddc28e0b148682150f43cfea718129706f10a9eb8', '0x77606bccb2f21c7d6289427ddc28e0b148682150f43cfea718129706f10a9eb8', '0xce443f3d328baa36822749c9ee3e4319eff43775919e05081913ca5ccc72ddce', '0x0d484d6bf9c196b3f2ebe470ef49c987f56f3c06e117e0af3219fa1572d26670', '0x4794bd86d5eab769fb0db2775908546fb1bd93bb0b81f53eb190cbc2512ebbdc', '0xd9ade5c7fcd49f471381e0fe58d170a3b035d9bd9713a2bfe33a5b58957e8434', '0x8ebfc67e40c352062b660de771b93f8c4ade00b7bf36813885a1087164b268f3', '0x4b1e21472a2761c238f54a41ee8f4a73440e87686bc465ac0b829bd59af1ecc4', '0x0b9e185316c6d26d4025ab634d631422169a83ff246d12d1d8c7dc503a59a044', '0xc93d9b177c7fe935c0b98c2269311ef26a5c5102dd68b26ff929ca2d8980120d', '0x9c317b30b4d4b6a597bf4aed1e37a3858c0037119d9f550bb970ee532e59a959', '0x4794bd86d5eab769fb0db2775908546fb1bd93bb0b81f53eb190cbc2512ebbdc', '0x4b1e21472a2761c238f54a41ee8f4a73440e87686bc465ac0b829bd59af1ecc4', '0xd96b69be4bd7c0697f7981dbd08492f579660e0d8fa9f5563f1127f829fa70cf', '0xd96b69be4bd7c0697f7981dbd08492f579660e0d8fa9f5563f1127f829fa70cf', '0x4ffd7eb3c40899e7c9610371c5151af152d62ae70ec5996ba438381a2ee812fe', '0x6f339a6272c82dc2a6ab07afcf793abfaef507f356e397f3642f73c6cc709bf8', '0x55e3d645fa3059caf829bbefb51234ff4511de86125663aabe1da459110accc8', '0x5d719c9c49779226ff6cb53c430fdb9e6765ec0b1edc737dca4337c0c7d24721', '0x59577f8e69c22dc6461d3d9358298e8516a23fd5843a59795a51ec7caab6e71a', '0x4ffd7eb3c40899e7c9610371c5151af152d62ae70ec5996ba438381a2ee812fe', '0x1c23992e358997321abf644a16d3e8b88a6140b0b41d7d2f3fdecf0c18909a2d', '0x3663b650440f3abd4f23de768dd144b390c686b11ec56096ede6a502b6f7a32c', '0x3663b650440f3abd4f23de768dd144b390c686b11ec56096ede6a502b6f7a32c', '0x6a8ea34c3e6bf4fd483784c568fd5e2a963a1c28c8b6feaf604133df18c6689c', '0xbf12c9904171fb51f1e12f4e472cb0d94664c8fd1cbf2ae3bd9c236161e5c661', '0x2b8bece62e6fb93b734549264b24032843d7b625ac765c23855b4ee541f6c66d', '0xbf12c9904171fb51f1e12f4e472cb0d94664c8fd1cbf2ae3bd9c236161e5c661', '0x1c23992e358997321abf644a16d3e8b88a6140b0b41d7d2f3fdecf0c18909a2d', '0x55e3d645fa3059caf829bbefb51234ff4511de86125663aabe1da459110accc8', '0x59577f8e69c22dc6461d3d9358298e8516a23fd5843a59795a51ec7caab6e71a', '0x6f339a6272c82dc2a6ab07afcf793abfaef507f356e397f3642f73c6cc709bf8', '0x5d719c9c49779226ff6cb53c430fdb9e6765ec0b1edc737dca4337c0c7d24721', '0x2b8bece62e6fb93b734549264b24032843d7b625ac765c23855b4ee541f6c66d', '0x6a8ea34c3e6bf4fd483784c568fd5e2a963a1c28c8b6feaf604133df18c6689c', '0xe9f4a79e960bb9d65465b8c8934e78a80af1218901085dc9454460c481cc8629', '0xc5c365f7f0cee5d5f7e2f386231cacbb2254c132db1cb88b5d72c2acbd58214b', '0x071dadd9ded8d41ae9f697f494ab7b1c1fe3af84897e944a21f69fb73f223460', '0x94a1cf1b512d39dcfc4af7557d4a6ca26dad9e2ac7faff5bce918544d7b6e4d7', '0x92ed02b44aa379f16c96552e41bc84281f218d0c9ae9fa3a35b69caba37dcc6c', '0xe9f4a79e960bb9d65465b8c8934e78a80af1218901085dc9454460c481cc8629', '0x92ed02b44aa379f16c96552e41bc84281f218d0c9ae9fa3a35b69caba37dcc6c', '0x08fa015bdda32d75917367651b5836018e78121a4e091dee9966bbd26e594a93', '0x405a2432cc0828782b3a0de00d45ed11daeccebf3f58bef443a3b0da0f06f87e', '0x5594ea82aa8362dd216aef2d7f1c47d64e33ddbde19edab03eee6dbfa02b3a46', '0x94a1cf1b512d39dcfc4af7557d4a6ca26dad9e2ac7faff5bce918544d7b6e4d7', '0x5594ea82aa8362dd216aef2d7f1c47d64e33ddbde19edab03eee6dbfa02b3a46', '0x405a2432cc0828782b3a0de00d45ed11daeccebf3f58bef443a3b0da0f06f87e', '0xc5c365f7f0cee5d5f7e2f386231cacbb2254c132db1cb88b5d72c2acbd58214b', '0x08fa015bdda32d75917367651b5836018e78121a4e091dee9966bbd26e594a93', '0x3ed3f29f8f7b9f6a38f1512fe791aec8347d59134ce747ee3ae83d3898665f8b', '0x3ed3f29f8f7b9f6a38f1512fe791aec8347d59134ce747ee3ae83d3898665f8b', '0x071dadd9ded8d41ae9f697f494ab7b1c1fe3af84897e944a21f69fb73f223460', '0x02d337155c3c9c731f50b0e8d4e85b9d9344fac6db6c13a0fea9003a4f5d60d7', '0x2d8d9494e8fb0c96415822e9982bcc2280ca5dde0555125589a322343e303bc9', '0x650ef1c313f9b43e3f7c288d9940521d1ae7c972b816cf8057d0385c607a56a9', '0x2d8d9494e8fb0c96415822e9982bcc2280ca5dde0555125589a322343e303bc9', '0x02d337155c3c9c731f50b0e8d4e85b9d9344fac6db6c13a0fea9003a4f5d60d7', '0x650ef1c313f9b43e3f7c288d9940521d1ae7c972b816cf8057d0385c607a56a9', '0xb9a3131dc0a1e990cbe5d8358dbd03d4f05467184cadac25d4fc83eda97e2852', '0xdc788fa5dcbfbe1bf029dea81aed68eb654a94e24b16b82423b63d3c193a9cf5', '0xcd8b558eb341b5930445d6c5bee53f6f9fa11ad44b20f07214225a0da904653e', '0xbfcd3a8bad486fd9ac7369bdbb9f3584c6b9b639e86c7436e4828d572d2d4573', '0x15f60a790f9052a39949c689fbdb9acdccab00306cc96f34afa511a877e6c615', '0x6bc03f8ba172cc4fcec32c32100ad9886362e2c1a83dc235a1541b7206c8279c', '0xbfcd3a8bad486fd9ac7369bdbb9f3584c6b9b639e86c7436e4828d572d2d4573', '0xb4152020d5f74536c172684dc68d9e3e581744a5454b03bca74686b3be154f76', '0xb9a3131dc0a1e990cbe5d8358dbd03d4f05467184cadac25d4fc83eda97e2852', '0xcd8b558eb341b5930445d6c5bee53f6f9fa11ad44b20f07214225a0da904653e', '0x6bc03f8ba172cc4fcec32c32100ad9886362e2c1a83dc235a1541b7206c8279c', '0xdc788fa5dcbfbe1bf029dea81aed68eb654a94e24b16b82423b63d3c193a9cf5', '0x15f60a790f9052a39949c689fbdb9acdccab00306cc96f34afa511a877e6c615', '0xb4152020d5f74536c172684dc68d9e3e581744a5454b03bca74686b3be154f76', '0xbf5b4f18cf976793b4b1a020b3c7abb572746b5d26980feb8542eee9ce5763f6', '0xbf5b4f18cf976793b4b1a020b3c7abb572746b5d26980feb8542eee9ce5763f6', '0x33e2b78ffa5cd3cefcc646308314a7d8ab72852a58505fcdd73d8d699e5fdffd', '0x33e2b78ffa5cd3cefcc646308314a7d8ab72852a58505fcdd73d8d699e5fdffd', '0x9154d106f398f76228e16ede8848d7b2d340bcd53aa906771c1b06d0e7c695d6', '0x9154d106f398f76228e16ede8848d7b2d340bcd53aa906771c1b06d0e7c695d6', '0xb0a904ba0b2d0eac70297f6777925bf17f1cb18c3440af6da275b6cec062f0fa', '0xb0a904ba0b2d0eac70297f6777925bf17f1cb18c3440af6da275b6cec062f0fa', '0x4716320b2497b28ca25df1aca3cb2f8242e6fcf34186dfec54eedf80691cc3d0', '0x4716320b2497b28ca25df1aca3cb2f8242e6fcf34186dfec54eedf80691cc3d0', '0xe7fdea05c3a72e51e7f4336ef6709789346501ad077ab2c3454682dc95c675e6', '0xe7fdea05c3a72e51e7f4336ef6709789346501ad077ab2c3454682dc95c675e6', '0x82e7eaa4e3a478ac7094c7b4fa9d6cbf24b55364cf35b564741d5ce9874b0a56', '0x82e7eaa4e3a478ac7094c7b4fa9d6cbf24b55364cf35b564741d5ce9874b0a56', '0xf19505b8b19ca4432669af66e131a9d40f80fecc47667f923eb8ad8433b0008a', '0xf19505b8b19ca4432669af66e131a9d40f80fecc47667f923eb8ad8433b0008a', '0xb6b90952426343fda85ad499df88532bf4c0b1c7458a4461d69ee392290cd623', '0xb6b90952426343fda85ad499df88532bf4c0b1c7458a4461d69ee392290cd623', '0x981dd9c93e0419a227128b7ee95c620e7dbc88fe92e8663569015515a455cd5a', '0x981dd9c93e0419a227128b7ee95c620e7dbc88fe92e8663569015515a455cd5a', '0xd7ece008b97cad61f02396def394751c3fa9a4c2844a1524c8e46a26bcf203f8', '0xd7ece008b97cad61f02396def394751c3fa9a4c2844a1524c8e46a26bcf203f8', '0x64f70f46174e15001ff109ce325f9d0e0d7a571a22ed5a00f938f6e20f25e164', '0x64f70f46174e15001ff109ce325f9d0e0d7a571a22ed5a00f938f6e20f25e164']\n"
     ]
    }
   ],
   "source": [
    "mints_with_names_null = mints_with_names[mints_with_names.isnull().any(axis=1)]\n",
    "print(list(mints_with_names_null['tx_hash']))"
   ]
  },
  {
   "cell_type": "code",
   "execution_count": 55,
   "metadata": {},
   "outputs": [],
   "source": [
    "mints_with_names.drop_duplicates('tokenid', inplace=True)"
   ]
  },
  {
   "cell_type": "code",
   "execution_count": 56,
   "metadata": {},
   "outputs": [],
   "source": [
    "mints_with_names.drop(columns=['__row_index','tx_hash','tokenid'], inplace=True)"
   ]
  },
  {
   "cell_type": "code",
   "execution_count": 57,
   "metadata": {},
   "outputs": [],
   "source": [
    "mints_with_names.set_index('day', inplace=True)"
   ]
  },
  {
   "cell_type": "code",
   "execution_count": 58,
   "metadata": {},
   "outputs": [],
   "source": [
    "mints_with_names.index = pd.to_datetime(mints_with_names.index)\n",
    "mints_with_names.dropna(inplace=True)"
   ]
  },
  {
   "cell_type": "code",
   "execution_count": 59,
   "metadata": {},
   "outputs": [],
   "source": [
    "box_domains_mints = mints_with_names[mints_with_names['name'].str.endswith('.box')]\n"
   ]
  },
  {
   "cell_type": "code",
   "execution_count": 60,
   "metadata": {},
   "outputs": [],
   "source": [
    "daily_box_mints = box_domains_mints.resample('D').count()"
   ]
  },
  {
   "cell_type": "code",
   "execution_count": 61,
   "metadata": {},
   "outputs": [],
   "source": [
    "daily_box_mints.rename(columns={'name':'mints'}, inplace=True)\n",
    "daily_box_mints_fig = px.bar(daily_box_mints, x=daily_box_mints.index, y='mints', title='Daily Mints')\n",
    "# daily_box_mints_fig.show()"
   ]
  },
  {
   "cell_type": "code",
   "execution_count": 62,
   "metadata": {},
   "outputs": [
    {
     "data": {
      "text/plain": [
       "np.int64(5852)"
      ]
     },
     "execution_count": 62,
     "metadata": {},
     "output_type": "execute_result"
    }
   ],
   "source": [
    "total_box_mints = box_domains_mints.count().iloc[0]\n",
    "total_box_mints"
   ]
  },
  {
   "cell_type": "code",
   "execution_count": 63,
   "metadata": {},
   "outputs": [],
   "source": [
    "sales_with_names = pd.merge(sales_df, descriptions_df, how='left', on='tokenid')"
   ]
  },
  {
   "cell_type": "code",
   "execution_count": 64,
   "metadata": {},
   "outputs": [],
   "source": [
    "sales_with_names.drop_duplicates('tokenid', inplace=True)\n",
    "sales_with_names.drop(columns=['__row_index','tx_hash','tokenid'], inplace=True)\n",
    "sales_with_names.set_index('day', inplace=True)\n",
    "sales_with_names.index = pd.to_datetime(sales_with_names.index)"
   ]
  },
  {
   "cell_type": "code",
   "execution_count": 65,
   "metadata": {},
   "outputs": [
    {
     "data": {
      "text/html": [
       "<div>\n",
       "<style scoped>\n",
       "    .dataframe tbody tr th:only-of-type {\n",
       "        vertical-align: middle;\n",
       "    }\n",
       "\n",
       "    .dataframe tbody tr th {\n",
       "        vertical-align: top;\n",
       "    }\n",
       "\n",
       "    .dataframe thead th {\n",
       "        text-align: right;\n",
       "    }\n",
       "</style>\n",
       "<table border=\"1\" class=\"dataframe\">\n",
       "  <thead>\n",
       "    <tr style=\"text-align: right;\">\n",
       "      <th></th>\n",
       "      <th>price</th>\n",
       "      <th>name</th>\n",
       "    </tr>\n",
       "    <tr>\n",
       "      <th>day</th>\n",
       "      <th></th>\n",
       "      <th></th>\n",
       "    </tr>\n",
       "  </thead>\n",
       "  <tbody>\n",
       "    <tr>\n",
       "      <th>2024-07-14 10:00:00+00:00</th>\n",
       "      <td>0.00</td>\n",
       "      <td>pyokonin.quest</td>\n",
       "    </tr>\n",
       "    <tr>\n",
       "      <th>2024-07-14 12:00:00+00:00</th>\n",
       "      <td>0.00</td>\n",
       "      <td>brroken.xyz</td>\n",
       "    </tr>\n",
       "    <tr>\n",
       "      <th>2024-07-19 00:00:00+00:00</th>\n",
       "      <td>0.00</td>\n",
       "      <td>alps.blog</td>\n",
       "    </tr>\n",
       "    <tr>\n",
       "      <th>2024-07-19 00:00:00+00:00</th>\n",
       "      <td>0.00</td>\n",
       "      <td>vandalproductions.com</td>\n",
       "    </tr>\n",
       "    <tr>\n",
       "      <th>2024-03-27 14:00:00+00:00</th>\n",
       "      <td>0.00</td>\n",
       "      <td>justgivemethestuffplease.bio</td>\n",
       "    </tr>\n",
       "    <tr>\n",
       "      <th>2024-04-03 01:00:00+00:00</th>\n",
       "      <td>0.00</td>\n",
       "      <td>champathedevourergroup.xyz</td>\n",
       "    </tr>\n",
       "    <tr>\n",
       "      <th>2024-04-17 18:00:00+00:00</th>\n",
       "      <td>0.01</td>\n",
       "      <td>mewtwo.box</td>\n",
       "    </tr>\n",
       "    <tr>\n",
       "      <th>2024-04-24 01:00:00+00:00</th>\n",
       "      <td>0.00</td>\n",
       "      <td>cryptoapp.one</td>\n",
       "    </tr>\n",
       "    <tr>\n",
       "      <th>2024-04-24 04:00:00+00:00</th>\n",
       "      <td>0.03</td>\n",
       "      <td>0000.box</td>\n",
       "    </tr>\n",
       "    <tr>\n",
       "      <th>2024-04-24 01:00:00+00:00</th>\n",
       "      <td>0.00</td>\n",
       "      <td>stazidoghairartists.pro</td>\n",
       "    </tr>\n",
       "    <tr>\n",
       "      <th>2024-04-25 21:00:00+00:00</th>\n",
       "      <td>0.10</td>\n",
       "      <td>express.box</td>\n",
       "    </tr>\n",
       "    <tr>\n",
       "      <th>2024-04-27 16:00:00+00:00</th>\n",
       "      <td>10.00</td>\n",
       "      <td>vm.box</td>\n",
       "    </tr>\n",
       "    <tr>\n",
       "      <th>2024-04-27 00:00:00+00:00</th>\n",
       "      <td>0.37</td>\n",
       "      <td>jane.box</td>\n",
       "    </tr>\n",
       "    <tr>\n",
       "      <th>2024-04-28 07:00:00+00:00</th>\n",
       "      <td>0.10</td>\n",
       "      <td>good.box</td>\n",
       "    </tr>\n",
       "    <tr>\n",
       "      <th>2024-04-28 01:00:00+00:00</th>\n",
       "      <td>0.07</td>\n",
       "      <td>man.box</td>\n",
       "    </tr>\n",
       "    <tr>\n",
       "      <th>2024-05-07 22:00:00+00:00</th>\n",
       "      <td>0.06</td>\n",
       "      <td>onyx.box</td>\n",
       "    </tr>\n",
       "    <tr>\n",
       "      <th>2024-05-16 11:00:00+00:00</th>\n",
       "      <td>0.00</td>\n",
       "      <td>hgghjonline.xyz</td>\n",
       "    </tr>\n",
       "    <tr>\n",
       "      <th>2024-06-01 12:00:00+00:00</th>\n",
       "      <td>0.00</td>\n",
       "      <td>infringe.one</td>\n",
       "    </tr>\n",
       "    <tr>\n",
       "      <th>2024-07-02 01:00:00+00:00</th>\n",
       "      <td>0.00</td>\n",
       "      <td>kickinthenutsfactory.com</td>\n",
       "    </tr>\n",
       "    <tr>\n",
       "      <th>2024-07-05 05:00:00+00:00</th>\n",
       "      <td>0.00</td>\n",
       "      <td>eyeofthepanda.xyz</td>\n",
       "    </tr>\n",
       "    <tr>\n",
       "      <th>2024-07-06 14:00:00+00:00</th>\n",
       "      <td>0.00</td>\n",
       "      <td>terryfashion.xyz</td>\n",
       "    </tr>\n",
       "    <tr>\n",
       "      <th>2024-07-09 00:00:00+00:00</th>\n",
       "      <td>0.00</td>\n",
       "      <td>bitcoindata.xyz</td>\n",
       "    </tr>\n",
       "    <tr>\n",
       "      <th>2024-07-09 19:00:00+00:00</th>\n",
       "      <td>0.00</td>\n",
       "      <td>hezouckapickakrasnaonline.xyz</td>\n",
       "    </tr>\n",
       "    <tr>\n",
       "      <th>2024-06-13 19:00:00+00:00</th>\n",
       "      <td>0.00</td>\n",
       "      <td>geusa.xyz</td>\n",
       "    </tr>\n",
       "    <tr>\n",
       "      <th>2024-06-13 19:00:00+00:00</th>\n",
       "      <td>0.00</td>\n",
       "      <td>remzelicious.xyz</td>\n",
       "    </tr>\n",
       "    <tr>\n",
       "      <th>2024-06-28 16:00:00+00:00</th>\n",
       "      <td>0.00</td>\n",
       "      <td>mrjameslillard.pro</td>\n",
       "    </tr>\n",
       "    <tr>\n",
       "      <th>2024-06-28 01:00:00+00:00</th>\n",
       "      <td>0.00</td>\n",
       "      <td>purpledott.xyz</td>\n",
       "    </tr>\n",
       "    <tr>\n",
       "      <th>2024-06-28 17:00:00+00:00</th>\n",
       "      <td>0.00</td>\n",
       "      <td>iloveonchaindomains.bio</td>\n",
       "    </tr>\n",
       "    <tr>\n",
       "      <th>2024-06-07 03:00:00+00:00</th>\n",
       "      <td>0.00</td>\n",
       "      <td>zfk.buzz</td>\n",
       "    </tr>\n",
       "    <tr>\n",
       "      <th>2023-12-26 21:00:00+00:00</th>\n",
       "      <td>0.02</td>\n",
       "      <td>topdomains.finance</td>\n",
       "    </tr>\n",
       "    <tr>\n",
       "      <th>2024-01-01 03:00:00+00:00</th>\n",
       "      <td>0.15</td>\n",
       "      <td>2024.finance</td>\n",
       "    </tr>\n",
       "    <tr>\n",
       "      <th>2024-01-25 17:00:00+00:00</th>\n",
       "      <td>0.01</td>\n",
       "      <td>08000.xyz</td>\n",
       "    </tr>\n",
       "    <tr>\n",
       "      <th>2024-02-03 22:00:00+00:00</th>\n",
       "      <td>0.01</td>\n",
       "      <td>696.box</td>\n",
       "    </tr>\n",
       "    <tr>\n",
       "      <th>2024-02-05 17:00:00+00:00</th>\n",
       "      <td>0.01</td>\n",
       "      <td>jotaquest.buzz</td>\n",
       "    </tr>\n",
       "    <tr>\n",
       "      <th>2024-02-05 04:00:00+00:00</th>\n",
       "      <td>0.02</td>\n",
       "      <td>song.box</td>\n",
       "    </tr>\n",
       "    <tr>\n",
       "      <th>2024-02-06 05:00:00+00:00</th>\n",
       "      <td>0.01</td>\n",
       "      <td>07777.xyz</td>\n",
       "    </tr>\n",
       "    <tr>\n",
       "      <th>2024-02-10 19:00:00+00:00</th>\n",
       "      <td>0.04</td>\n",
       "      <td>to.box</td>\n",
       "    </tr>\n",
       "    <tr>\n",
       "      <th>2024-02-18 10:00:00+00:00</th>\n",
       "      <td>0.00</td>\n",
       "      <td>testnet.one</td>\n",
       "    </tr>\n",
       "    <tr>\n",
       "      <th>2024-02-20 12:00:00+00:00</th>\n",
       "      <td>0.07</td>\n",
       "      <td>uae.box</td>\n",
       "    </tr>\n",
       "    <tr>\n",
       "      <th>2024-02-22 04:00:00+00:00</th>\n",
       "      <td>0.04</td>\n",
       "      <td>08.box</td>\n",
       "    </tr>\n",
       "    <tr>\n",
       "      <th>2024-02-24 04:00:00+00:00</th>\n",
       "      <td>0.07</td>\n",
       "      <td>404.box</td>\n",
       "    </tr>\n",
       "    <tr>\n",
       "      <th>2024-02-25 07:00:00+00:00</th>\n",
       "      <td>0.10</td>\n",
       "      <td>38.box</td>\n",
       "    </tr>\n",
       "    <tr>\n",
       "      <th>2024-02-25 02:00:00+00:00</th>\n",
       "      <td>0.04</td>\n",
       "      <td>010.box</td>\n",
       "    </tr>\n",
       "    <tr>\n",
       "      <th>2024-02-25 03:00:00+00:00</th>\n",
       "      <td>0.04</td>\n",
       "      <td>ap.box</td>\n",
       "    </tr>\n",
       "    <tr>\n",
       "      <th>2024-02-25 03:00:00+00:00</th>\n",
       "      <td>0.07</td>\n",
       "      <td>40.box</td>\n",
       "    </tr>\n",
       "    <tr>\n",
       "      <th>2024-02-25 03:00:00+00:00</th>\n",
       "      <td>0.09</td>\n",
       "      <td>70.box</td>\n",
       "    </tr>\n",
       "    <tr>\n",
       "      <th>2024-02-25 03:00:00+00:00</th>\n",
       "      <td>0.04</td>\n",
       "      <td>015.box</td>\n",
       "    </tr>\n",
       "    <tr>\n",
       "      <th>2024-02-25 03:00:00+00:00</th>\n",
       "      <td>0.09</td>\n",
       "      <td>75.box</td>\n",
       "    </tr>\n",
       "    <tr>\n",
       "      <th>2024-03-03 06:00:00+00:00</th>\n",
       "      <td>0.00</td>\n",
       "      <td>farcaster.bio</td>\n",
       "    </tr>\n",
       "    <tr>\n",
       "      <th>2024-03-06 21:00:00+00:00</th>\n",
       "      <td>0.00</td>\n",
       "      <td>consulta.quest</td>\n",
       "    </tr>\n",
       "    <tr>\n",
       "      <th>2024-03-08 09:00:00+00:00</th>\n",
       "      <td>0.00</td>\n",
       "      <td>atechnologies.one</td>\n",
       "    </tr>\n",
       "    <tr>\n",
       "      <th>2024-03-16 19:00:00+00:00</th>\n",
       "      <td>0.01</td>\n",
       "      <td>soait.org</td>\n",
       "    </tr>\n",
       "    <tr>\n",
       "      <th>2024-03-18 08:00:00+00:00</th>\n",
       "      <td>0.00</td>\n",
       "      <td>whatwhois.com</td>\n",
       "    </tr>\n",
       "    <tr>\n",
       "      <th>2024-03-18 11:00:00+00:00</th>\n",
       "      <td>0.00</td>\n",
       "      <td>matic.wtf</td>\n",
       "    </tr>\n",
       "    <tr>\n",
       "      <th>2024-03-21 14:00:00+00:00</th>\n",
       "      <td>0.00</td>\n",
       "      <td>ballerz.wtf</td>\n",
       "    </tr>\n",
       "    <tr>\n",
       "      <th>2024-07-01 13:00:00+00:00</th>\n",
       "      <td>0.00</td>\n",
       "      <td>fjdjufffv.xyz</td>\n",
       "    </tr>\n",
       "    <tr>\n",
       "      <th>2024-07-22 20:00:00+00:00</th>\n",
       "      <td>0.00</td>\n",
       "      <td>understandmoney.one</td>\n",
       "    </tr>\n",
       "    <tr>\n",
       "      <th>2024-06-19 01:00:00+00:00</th>\n",
       "      <td>0.00</td>\n",
       "      <td>enormopten.xyz</td>\n",
       "    </tr>\n",
       "    <tr>\n",
       "      <th>2024-07-23 23:00:00+00:00</th>\n",
       "      <td>0.00</td>\n",
       "      <td>lauc.chain.box</td>\n",
       "    </tr>\n",
       "    <tr>\n",
       "      <th>2024-07-24 06:00:00+00:00</th>\n",
       "      <td>0.00</td>\n",
       "      <td>cryptobet.chain.box</td>\n",
       "    </tr>\n",
       "  </tbody>\n",
       "</table>\n",
       "</div>"
      ],
      "text/plain": [
       "                           price                           name\n",
       "day                                                            \n",
       "2024-07-14 10:00:00+00:00   0.00                 pyokonin.quest\n",
       "2024-07-14 12:00:00+00:00   0.00                    brroken.xyz\n",
       "2024-07-19 00:00:00+00:00   0.00                      alps.blog\n",
       "2024-07-19 00:00:00+00:00   0.00          vandalproductions.com\n",
       "2024-03-27 14:00:00+00:00   0.00   justgivemethestuffplease.bio\n",
       "2024-04-03 01:00:00+00:00   0.00     champathedevourergroup.xyz\n",
       "2024-04-17 18:00:00+00:00   0.01                     mewtwo.box\n",
       "2024-04-24 01:00:00+00:00   0.00                  cryptoapp.one\n",
       "2024-04-24 04:00:00+00:00   0.03                       0000.box\n",
       "2024-04-24 01:00:00+00:00   0.00        stazidoghairartists.pro\n",
       "2024-04-25 21:00:00+00:00   0.10                    express.box\n",
       "2024-04-27 16:00:00+00:00  10.00                         vm.box\n",
       "2024-04-27 00:00:00+00:00   0.37                       jane.box\n",
       "2024-04-28 07:00:00+00:00   0.10                       good.box\n",
       "2024-04-28 01:00:00+00:00   0.07                        man.box\n",
       "2024-05-07 22:00:00+00:00   0.06                       onyx.box\n",
       "2024-05-16 11:00:00+00:00   0.00                hgghjonline.xyz\n",
       "2024-06-01 12:00:00+00:00   0.00                   infringe.one\n",
       "2024-07-02 01:00:00+00:00   0.00       kickinthenutsfactory.com\n",
       "2024-07-05 05:00:00+00:00   0.00              eyeofthepanda.xyz\n",
       "2024-07-06 14:00:00+00:00   0.00               terryfashion.xyz\n",
       "2024-07-09 00:00:00+00:00   0.00                bitcoindata.xyz\n",
       "2024-07-09 19:00:00+00:00   0.00  hezouckapickakrasnaonline.xyz\n",
       "2024-06-13 19:00:00+00:00   0.00                      geusa.xyz\n",
       "2024-06-13 19:00:00+00:00   0.00               remzelicious.xyz\n",
       "2024-06-28 16:00:00+00:00   0.00             mrjameslillard.pro\n",
       "2024-06-28 01:00:00+00:00   0.00                 purpledott.xyz\n",
       "2024-06-28 17:00:00+00:00   0.00        iloveonchaindomains.bio\n",
       "2024-06-07 03:00:00+00:00   0.00                       zfk.buzz\n",
       "2023-12-26 21:00:00+00:00   0.02             topdomains.finance\n",
       "2024-01-01 03:00:00+00:00   0.15                   2024.finance\n",
       "2024-01-25 17:00:00+00:00   0.01                      08000.xyz\n",
       "2024-02-03 22:00:00+00:00   0.01                        696.box\n",
       "2024-02-05 17:00:00+00:00   0.01                 jotaquest.buzz\n",
       "2024-02-05 04:00:00+00:00   0.02                       song.box\n",
       "2024-02-06 05:00:00+00:00   0.01                      07777.xyz\n",
       "2024-02-10 19:00:00+00:00   0.04                         to.box\n",
       "2024-02-18 10:00:00+00:00   0.00                    testnet.one\n",
       "2024-02-20 12:00:00+00:00   0.07                        uae.box\n",
       "2024-02-22 04:00:00+00:00   0.04                         08.box\n",
       "2024-02-24 04:00:00+00:00   0.07                        404.box\n",
       "2024-02-25 07:00:00+00:00   0.10                         38.box\n",
       "2024-02-25 02:00:00+00:00   0.04                        010.box\n",
       "2024-02-25 03:00:00+00:00   0.04                         ap.box\n",
       "2024-02-25 03:00:00+00:00   0.07                         40.box\n",
       "2024-02-25 03:00:00+00:00   0.09                         70.box\n",
       "2024-02-25 03:00:00+00:00   0.04                        015.box\n",
       "2024-02-25 03:00:00+00:00   0.09                         75.box\n",
       "2024-03-03 06:00:00+00:00   0.00                  farcaster.bio\n",
       "2024-03-06 21:00:00+00:00   0.00                 consulta.quest\n",
       "2024-03-08 09:00:00+00:00   0.00              atechnologies.one\n",
       "2024-03-16 19:00:00+00:00   0.01                      soait.org\n",
       "2024-03-18 08:00:00+00:00   0.00                  whatwhois.com\n",
       "2024-03-18 11:00:00+00:00   0.00                      matic.wtf\n",
       "2024-03-21 14:00:00+00:00   0.00                    ballerz.wtf\n",
       "2024-07-01 13:00:00+00:00   0.00                  fjdjufffv.xyz\n",
       "2024-07-22 20:00:00+00:00   0.00            understandmoney.one\n",
       "2024-06-19 01:00:00+00:00   0.00                 enormopten.xyz\n",
       "2024-07-23 23:00:00+00:00   0.00                 lauc.chain.box\n",
       "2024-07-24 06:00:00+00:00   0.00            cryptobet.chain.box"
      ]
     },
     "execution_count": 65,
     "metadata": {},
     "output_type": "execute_result"
    }
   ],
   "source": [
    "sales_with_names"
   ]
  },
  {
   "cell_type": "markdown",
   "metadata": {},
   "source": [
    "sales_with_names.dropna(inplace=True)"
   ]
  },
  {
   "cell_type": "code",
   "execution_count": 66,
   "metadata": {},
   "outputs": [
    {
     "data": {
      "text/html": [
       "<div>\n",
       "<style scoped>\n",
       "    .dataframe tbody tr th:only-of-type {\n",
       "        vertical-align: middle;\n",
       "    }\n",
       "\n",
       "    .dataframe tbody tr th {\n",
       "        vertical-align: top;\n",
       "    }\n",
       "\n",
       "    .dataframe thead th {\n",
       "        text-align: right;\n",
       "    }\n",
       "</style>\n",
       "<table border=\"1\" class=\"dataframe\">\n",
       "  <thead>\n",
       "    <tr style=\"text-align: right;\">\n",
       "      <th></th>\n",
       "      <th>price</th>\n",
       "      <th>name</th>\n",
       "    </tr>\n",
       "    <tr>\n",
       "      <th>day</th>\n",
       "      <th></th>\n",
       "      <th></th>\n",
       "    </tr>\n",
       "  </thead>\n",
       "  <tbody>\n",
       "    <tr>\n",
       "      <th>2024-04-17 18:00:00+00:00</th>\n",
       "      <td>0.01</td>\n",
       "      <td>mewtwo.box</td>\n",
       "    </tr>\n",
       "    <tr>\n",
       "      <th>2024-04-24 04:00:00+00:00</th>\n",
       "      <td>0.03</td>\n",
       "      <td>0000.box</td>\n",
       "    </tr>\n",
       "    <tr>\n",
       "      <th>2024-04-25 21:00:00+00:00</th>\n",
       "      <td>0.10</td>\n",
       "      <td>express.box</td>\n",
       "    </tr>\n",
       "    <tr>\n",
       "      <th>2024-04-27 16:00:00+00:00</th>\n",
       "      <td>10.00</td>\n",
       "      <td>vm.box</td>\n",
       "    </tr>\n",
       "    <tr>\n",
       "      <th>2024-04-27 00:00:00+00:00</th>\n",
       "      <td>0.37</td>\n",
       "      <td>jane.box</td>\n",
       "    </tr>\n",
       "    <tr>\n",
       "      <th>2024-04-28 07:00:00+00:00</th>\n",
       "      <td>0.10</td>\n",
       "      <td>good.box</td>\n",
       "    </tr>\n",
       "    <tr>\n",
       "      <th>2024-04-28 01:00:00+00:00</th>\n",
       "      <td>0.07</td>\n",
       "      <td>man.box</td>\n",
       "    </tr>\n",
       "    <tr>\n",
       "      <th>2024-05-07 22:00:00+00:00</th>\n",
       "      <td>0.06</td>\n",
       "      <td>onyx.box</td>\n",
       "    </tr>\n",
       "    <tr>\n",
       "      <th>2024-02-03 22:00:00+00:00</th>\n",
       "      <td>0.01</td>\n",
       "      <td>696.box</td>\n",
       "    </tr>\n",
       "    <tr>\n",
       "      <th>2024-02-05 04:00:00+00:00</th>\n",
       "      <td>0.02</td>\n",
       "      <td>song.box</td>\n",
       "    </tr>\n",
       "    <tr>\n",
       "      <th>2024-02-10 19:00:00+00:00</th>\n",
       "      <td>0.04</td>\n",
       "      <td>to.box</td>\n",
       "    </tr>\n",
       "    <tr>\n",
       "      <th>2024-02-20 12:00:00+00:00</th>\n",
       "      <td>0.07</td>\n",
       "      <td>uae.box</td>\n",
       "    </tr>\n",
       "    <tr>\n",
       "      <th>2024-02-22 04:00:00+00:00</th>\n",
       "      <td>0.04</td>\n",
       "      <td>08.box</td>\n",
       "    </tr>\n",
       "    <tr>\n",
       "      <th>2024-02-24 04:00:00+00:00</th>\n",
       "      <td>0.07</td>\n",
       "      <td>404.box</td>\n",
       "    </tr>\n",
       "    <tr>\n",
       "      <th>2024-02-25 07:00:00+00:00</th>\n",
       "      <td>0.10</td>\n",
       "      <td>38.box</td>\n",
       "    </tr>\n",
       "    <tr>\n",
       "      <th>2024-02-25 02:00:00+00:00</th>\n",
       "      <td>0.04</td>\n",
       "      <td>010.box</td>\n",
       "    </tr>\n",
       "    <tr>\n",
       "      <th>2024-02-25 03:00:00+00:00</th>\n",
       "      <td>0.04</td>\n",
       "      <td>ap.box</td>\n",
       "    </tr>\n",
       "    <tr>\n",
       "      <th>2024-02-25 03:00:00+00:00</th>\n",
       "      <td>0.07</td>\n",
       "      <td>40.box</td>\n",
       "    </tr>\n",
       "    <tr>\n",
       "      <th>2024-02-25 03:00:00+00:00</th>\n",
       "      <td>0.09</td>\n",
       "      <td>70.box</td>\n",
       "    </tr>\n",
       "    <tr>\n",
       "      <th>2024-02-25 03:00:00+00:00</th>\n",
       "      <td>0.04</td>\n",
       "      <td>015.box</td>\n",
       "    </tr>\n",
       "    <tr>\n",
       "      <th>2024-02-25 03:00:00+00:00</th>\n",
       "      <td>0.09</td>\n",
       "      <td>75.box</td>\n",
       "    </tr>\n",
       "    <tr>\n",
       "      <th>2024-07-23 23:00:00+00:00</th>\n",
       "      <td>0.00</td>\n",
       "      <td>lauc.chain.box</td>\n",
       "    </tr>\n",
       "    <tr>\n",
       "      <th>2024-07-24 06:00:00+00:00</th>\n",
       "      <td>0.00</td>\n",
       "      <td>cryptobet.chain.box</td>\n",
       "    </tr>\n",
       "  </tbody>\n",
       "</table>\n",
       "</div>"
      ],
      "text/plain": [
       "                           price                 name\n",
       "day                                                  \n",
       "2024-04-17 18:00:00+00:00   0.01           mewtwo.box\n",
       "2024-04-24 04:00:00+00:00   0.03             0000.box\n",
       "2024-04-25 21:00:00+00:00   0.10          express.box\n",
       "2024-04-27 16:00:00+00:00  10.00               vm.box\n",
       "2024-04-27 00:00:00+00:00   0.37             jane.box\n",
       "2024-04-28 07:00:00+00:00   0.10             good.box\n",
       "2024-04-28 01:00:00+00:00   0.07              man.box\n",
       "2024-05-07 22:00:00+00:00   0.06             onyx.box\n",
       "2024-02-03 22:00:00+00:00   0.01              696.box\n",
       "2024-02-05 04:00:00+00:00   0.02             song.box\n",
       "2024-02-10 19:00:00+00:00   0.04               to.box\n",
       "2024-02-20 12:00:00+00:00   0.07              uae.box\n",
       "2024-02-22 04:00:00+00:00   0.04               08.box\n",
       "2024-02-24 04:00:00+00:00   0.07              404.box\n",
       "2024-02-25 07:00:00+00:00   0.10               38.box\n",
       "2024-02-25 02:00:00+00:00   0.04              010.box\n",
       "2024-02-25 03:00:00+00:00   0.04               ap.box\n",
       "2024-02-25 03:00:00+00:00   0.07               40.box\n",
       "2024-02-25 03:00:00+00:00   0.09               70.box\n",
       "2024-02-25 03:00:00+00:00   0.04              015.box\n",
       "2024-02-25 03:00:00+00:00   0.09               75.box\n",
       "2024-07-23 23:00:00+00:00   0.00       lauc.chain.box\n",
       "2024-07-24 06:00:00+00:00   0.00  cryptobet.chain.box"
      ]
     },
     "execution_count": 66,
     "metadata": {},
     "output_type": "execute_result"
    }
   ],
   "source": [
    "box_domains_sales = sales_with_names[sales_with_names['name'].str.endswith('.box')]\n",
    "box_domains_sales"
   ]
  },
  {
   "cell_type": "code",
   "execution_count": 67,
   "metadata": {},
   "outputs": [],
   "source": [
    "eth_usd_df.set_index('day', inplace=True)\n",
    "eth_usd_df.index = pd.to_datetime(eth_usd_df.index)\n",
    "eth_usd_df.drop(columns=['__row_index'], inplace=True)"
   ]
  },
  {
   "cell_type": "code",
   "execution_count": 68,
   "metadata": {},
   "outputs": [],
   "source": [
    "eth_usd_df.rename(columns={'price':'eth_usd'}, inplace=True)"
   ]
  },
  {
   "cell_type": "code",
   "execution_count": 69,
   "metadata": {},
   "outputs": [
    {
     "name": "stderr",
     "output_type": "stream",
     "text": [
      "C:\\Users\\brandyns pc\\AppData\\Local\\Temp\\ipykernel_12168\\1480011625.py:1: FutureWarning:\n",
      "\n",
      "The behavior of 'to_datetime' with 'unit' when parsing strings is deprecated. In a future version, strings will be parsed as datetime strings, matching the behavior without a 'unit'. To retain the old behavior, explicitly cast ints or floats to numeric type before calling to_datetime.\n",
      "\n",
      "C:\\Users\\brandyns pc\\AppData\\Local\\Temp\\ipykernel_12168\\1480011625.py:1: SettingWithCopyWarning:\n",
      "\n",
      "\n",
      "A value is trying to be set on a copy of a slice from a DataFrame.\n",
      "Try using .loc[row_indexer,col_indexer] = value instead\n",
      "\n",
      "See the caveats in the documentation: https://pandas.pydata.org/pandas-docs/stable/user_guide/indexing.html#returning-a-view-versus-a-copy\n",
      "\n",
      "C:\\Users\\brandyns pc\\AppData\\Local\\Temp\\ipykernel_12168\\1480011625.py:2: FutureWarning:\n",
      "\n",
      "The behavior of 'to_datetime' with 'unit' when parsing strings is deprecated. In a future version, strings will be parsed as datetime strings, matching the behavior without a 'unit'. To retain the old behavior, explicitly cast ints or floats to numeric type before calling to_datetime.\n",
      "\n",
      "C:\\Users\\brandyns pc\\AppData\\Local\\Temp\\ipykernel_12168\\1480011625.py:2: SettingWithCopyWarning:\n",
      "\n",
      "\n",
      "A value is trying to be set on a copy of a slice from a DataFrame.\n",
      "Try using .loc[row_indexer,col_indexer] = value instead\n",
      "\n",
      "See the caveats in the documentation: https://pandas.pydata.org/pandas-docs/stable/user_guide/indexing.html#returning-a-view-versus-a-copy\n",
      "\n"
     ]
    }
   ],
   "source": [
    "box_listings['start_time'] = pd.to_datetime(box_listings['start_time'], unit='s').dt.strftime('%Y-%m-%d %H:00:00')\n",
    "box_listings['end_time'] = pd.to_datetime(box_listings['end_time'], unit='s').dt.strftime('%Y-%m-%d %H:00:00')"
   ]
  },
  {
   "cell_type": "code",
   "execution_count": 70,
   "metadata": {},
   "outputs": [],
   "source": [
    "eth_usd_df_copy = eth_usd_df.reset_index().copy()\n",
    "eth_usd_df_copy.rename(columns={'day':'start_time'}, inplace=True)"
   ]
  },
  {
   "cell_type": "code",
   "execution_count": 71,
   "metadata": {},
   "outputs": [],
   "source": [
    "eth_usd_df_copy['start_time'] = pd.to_datetime(eth_usd_df_copy['start_time']).dt.tz_localize(None)"
   ]
  },
  {
   "cell_type": "code",
   "execution_count": 72,
   "metadata": {},
   "outputs": [
    {
     "name": "stderr",
     "output_type": "stream",
     "text": [
      "C:\\Users\\brandyns pc\\AppData\\Local\\Temp\\ipykernel_12168\\1939952577.py:1: SettingWithCopyWarning:\n",
      "\n",
      "\n",
      "A value is trying to be set on a copy of a slice from a DataFrame.\n",
      "Try using .loc[row_indexer,col_indexer] = value instead\n",
      "\n",
      "See the caveats in the documentation: https://pandas.pydata.org/pandas-docs/stable/user_guide/indexing.html#returning-a-view-versus-a-copy\n",
      "\n"
     ]
    }
   ],
   "source": [
    "box_listings['start_time'] = pd.to_datetime(box_listings['start_time']) "
   ]
  },
  {
   "cell_type": "code",
   "execution_count": 73,
   "metadata": {},
   "outputs": [],
   "source": [
    "eth_usd_df_copy_2 = eth_usd_df_copy.copy()\n",
    "eth_usd_df_copy_2.rename(columns={'start_time':'bid_event_timestamp', 'eth_usd':'eth_usd_bid'}, inplace=True)"
   ]
  },
  {
   "cell_type": "code",
   "execution_count": 74,
   "metadata": {},
   "outputs": [],
   "source": [
    "eth_usd_df_copy_3 = eth_usd_df_copy.copy()\n",
    "eth_usd_df_copy_3.rename(columns={'start_time':'sale_event_timestamp', 'eth_usd':'eth_usd_sale'}, inplace=True)"
   ]
  },
  {
   "cell_type": "code",
   "execution_count": 75,
   "metadata": {},
   "outputs": [],
   "source": [
    "closest_listings['bid_event_timestamp'] = pd.to_datetime(closest_listings['bid_event_timestamp'])\n",
    "closest_listings['sale_event_timestamp'] = pd.to_datetime(closest_listings['sale_event_timestamp'])"
   ]
  },
  {
   "cell_type": "code",
   "execution_count": 76,
   "metadata": {},
   "outputs": [],
   "source": [
    "closest_listings = closest_listings.merge(eth_usd_df_copy_2, how='left', on='bid_event_timestamp')"
   ]
  },
  {
   "cell_type": "code",
   "execution_count": 77,
   "metadata": {},
   "outputs": [],
   "source": [
    "closest_listings = closest_listings.merge(eth_usd_df_copy_3, how='left', on='sale_event_timestamp')"
   ]
  },
  {
   "cell_type": "code",
   "execution_count": 78,
   "metadata": {},
   "outputs": [],
   "source": [
    "closest_listings['sale_usd'] = closest_listings['sale_quantity'] * closest_listings['eth_usd_sale']\n",
    "closest_listings['list_usd'] = closest_listings['listing_quantity'] * closest_listings['eth_usd_bid']"
   ]
  },
  {
   "cell_type": "code",
   "execution_count": 79,
   "metadata": {},
   "outputs": [],
   "source": [
    "closest_listings['percent_change'] = (closest_listings['sale_usd'] - closest_listings['list_usd']) / closest_listings['list_usd'] * 100"
   ]
  },
  {
   "cell_type": "code",
   "execution_count": 80,
   "metadata": {},
   "outputs": [
    {
     "name": "stdout",
     "output_type": "stream",
     "text": [
      "nan\n"
     ]
    }
   ],
   "source": [
    "listing_price_to_sale_avg_pct_change = closest_listings['percent_change'].mean()\n",
    "print(listing_price_to_sale_avg_pct_change)"
   ]
  },
  {
   "cell_type": "code",
   "execution_count": 81,
   "metadata": {},
   "outputs": [],
   "source": [
    "\n",
    "box_listings = box_listings.merge(eth_usd_df_copy, how='left', on='start_time') "
   ]
  },
  {
   "cell_type": "code",
   "execution_count": 82,
   "metadata": {},
   "outputs": [],
   "source": [
    "box_listings.drop(columns=['order_hash'], inplace=True)"
   ]
  },
  {
   "cell_type": "code",
   "execution_count": 83,
   "metadata": {},
   "outputs": [],
   "source": [
    "box_listings['price_in_usd_start_time'] = box_listings['price_in_eth'] * box_listings['eth_usd']"
   ]
  },
  {
   "cell_type": "code",
   "execution_count": 84,
   "metadata": {},
   "outputs": [],
   "source": [
    "box_listings.set_index('start_time', inplace=True)\n",
    "box_listings_max_daily = box_listings['price_in_usd_start_time'].resample('D').max()"
   ]
  },
  {
   "cell_type": "code",
   "execution_count": 85,
   "metadata": {},
   "outputs": [
    {
     "data": {
      "text/plain": [
       "np.int64(495)"
      ]
     },
     "execution_count": 85,
     "metadata": {},
     "output_type": "execute_result"
    }
   ],
   "source": [
    "box_listings_num_daily = box_listings['name'].resample('D').count()\n",
    "total_box_listings = box_listings_num_daily.sum()\n",
    "total_box_listings"
   ]
  },
  {
   "cell_type": "code",
   "execution_count": 86,
   "metadata": {},
   "outputs": [],
   "source": [
    "box_listings_min_daily = box_listings['price_in_usd_start_time'].resample('D').min()\n",
    "box_listings_avg_daily = box_listings['price_in_usd_start_time'].resample('D').mean()"
   ]
  },
  {
   "cell_type": "code",
   "execution_count": 87,
   "metadata": {},
   "outputs": [],
   "source": [
    "box_listings_max_daily.fillna(0, inplace=True)\n",
    "box_listings_min_daily.fillna(0, inplace=True)\n",
    "box_listings_avg_daily.fillna(0, inplace=True)"
   ]
  },
  {
   "cell_type": "code",
   "execution_count": 88,
   "metadata": {},
   "outputs": [],
   "source": [
    "box_listing_data = pd.merge(box_listings_num_daily.to_frame('listings'), box_listings_max_daily.to_frame('max_price'), left_index=True,\n",
    "                            right_index=True, how='inner')"
   ]
  },
  {
   "cell_type": "code",
   "execution_count": 89,
   "metadata": {},
   "outputs": [],
   "source": [
    "box_listing_data = box_listing_data.merge(box_listings_min_daily.to_frame('min_price'), left_index=True,\n",
    "                                          right_index=True, how='inner')\n",
    "\n",
    "box_listing_data = box_listing_data.merge(box_listings_avg_daily.to_frame('avg_price'), left_index=True,\n",
    "                                          right_index=True, how='inner')"
   ]
  },
  {
   "cell_type": "code",
   "execution_count": 90,
   "metadata": {},
   "outputs": [
    {
     "name": "stderr",
     "output_type": "stream",
     "text": [
      "C:\\Users\\brandyns pc\\AppData\\Local\\Temp\\ipykernel_12168\\1847853540.py:1: FutureWarning:\n",
      "\n",
      "'M' is deprecated and will be removed in a future version, please use 'ME' instead.\n",
      "\n"
     ]
    },
    {
     "data": {
      "text/plain": [
       "start_time\n",
       "2024-01-31     25\n",
       "2024-02-29     17\n",
       "2024-03-31     11\n",
       "2024-04-30     88\n",
       "2024-05-31    141\n",
       "2024-06-30     76\n",
       "2024-07-31    137\n",
       "Freq: ME, Name: name, dtype: int64"
      ]
     },
     "execution_count": 90,
     "metadata": {},
     "output_type": "execute_result"
    }
   ],
   "source": [
    "monthly_listings = box_listings['name'].resample('M').count()\n",
    "monthly_listings"
   ]
  },
  {
   "cell_type": "code",
   "execution_count": 91,
   "metadata": {},
   "outputs": [],
   "source": [
    "def monthly_listings_growth_rate(listings):\n",
    "    previous_month = listings.shift(1)\n",
    "    growth_rate = ((listings - previous_month) / previous_month) * 100\n",
    "    return growth_rate"
   ]
  },
  {
   "cell_type": "code",
   "execution_count": 92,
   "metadata": {},
   "outputs": [],
   "source": [
    "listings_growth_rate = monthly_listings_growth_rate(monthly_listings)\n"
   ]
  },
  {
   "cell_type": "code",
   "execution_count": 93,
   "metadata": {},
   "outputs": [
    {
     "data": {
      "text/plain": [
       "start_time\n",
       "2024-02-29   -32.00\n",
       "2024-03-31   -35.29\n",
       "2024-04-30   700.00\n",
       "2024-05-31    60.23\n",
       "2024-06-30   -46.10\n",
       "2024-07-31    80.26\n",
       "Freq: ME, Name: name, dtype: float64"
      ]
     },
     "execution_count": 93,
     "metadata": {},
     "output_type": "execute_result"
    }
   ],
   "source": [
    "listings_growth_rate.dropna(inplace=True)\n",
    "listings_growth_rate"
   ]
  },
  {
   "cell_type": "code",
   "execution_count": 94,
   "metadata": {},
   "outputs": [],
   "source": [
    "box_domains_sales = box_domains_sales.merge(eth_usd_df, left_index=True, right_index=True, how='left')"
   ]
  },
  {
   "cell_type": "code",
   "execution_count": 95,
   "metadata": {},
   "outputs": [],
   "source": [
    "box_domains_sales['price_usd'] = box_domains_sales['price'] * box_domains_sales['eth_usd']\n",
    "box_domains_sales.rename(columns={'price':'price_eth'}, inplace=True)"
   ]
  },
  {
   "cell_type": "code",
   "execution_count": 96,
   "metadata": {},
   "outputs": [],
   "source": [
    "box_domains_sales.drop(columns=['eth_usd'], inplace=True)\n"
   ]
  },
  {
   "cell_type": "code",
   "execution_count": 97,
   "metadata": {},
   "outputs": [
    {
     "name": "stderr",
     "output_type": "stream",
     "text": [
      "C:\\Users\\brandyns pc\\AppData\\Local\\Temp\\ipykernel_12168\\3245620862.py:2: SettingWithCopyWarning:\n",
      "\n",
      "\n",
      "A value is trying to be set on a copy of a slice from a DataFrame\n",
      "\n",
      "See the caveats in the documentation: https://pandas.pydata.org/pandas-docs/stable/user_guide/indexing.html#returning-a-view-versus-a-copy\n",
      "\n"
     ]
    }
   ],
   "source": [
    "box_domains_sales.sort_index(inplace=True)\n",
    "box_domains_mints.sort_index(inplace=True)"
   ]
  },
  {
   "cell_type": "code",
   "execution_count": 98,
   "metadata": {},
   "outputs": [],
   "source": [
    "box_domains_sales = box_domains_sales[['name', 'price_usd','price_eth']]\n"
   ]
  },
  {
   "cell_type": "code",
   "execution_count": 99,
   "metadata": {},
   "outputs": [
    {
     "name": "stdout",
     "output_type": "stream",
     "text": [
      "Maximum sale: \n",
      " name           vm.box\n",
      "price_usd   31,481.47\n",
      "price_eth       10.00\n",
      "Name: 2024-04-27 16:00:00+00:00, dtype: object\n"
     ]
    }
   ],
   "source": [
    "max_eth_sale = box_domains_sales['price_eth'].max()\n",
    "max_usd_sale = box_domains_sales['price_usd'].max()\n",
    "\n",
    "# Retrieve the corresponding timestamps\n",
    "max_eth_sale_row = box_domains_sales.loc[box_domains_sales['price_eth'].idxmax()]\n",
    "max_usd_sale_row = box_domains_sales.loc[box_domains_sales['price_usd'].idxmax()]\n",
    "\n",
    "# Display the results\n",
    "print(f\"Maximum sale: \\n {max_eth_sale_row}\")\n"
   ]
  },
  {
   "cell_type": "code",
   "execution_count": 100,
   "metadata": {},
   "outputs": [
    {
     "name": "stdout",
     "output_type": "stream",
     "text": [
      "total .box domain sales as of 2024-07-24 11:17:50.263958 : 23\n"
     ]
    }
   ],
   "source": [
    "total_box_sales = box_domains_sales['name'].count()\n",
    "print(f'total .box domain sales as of {dt.datetime.today()} : {total_box_sales}')"
   ]
  },
  {
   "cell_type": "code",
   "execution_count": 101,
   "metadata": {},
   "outputs": [
    {
     "data": {
      "text/plain": [
       "day\n",
       "2024-02-03 00:00:00+00:00    1\n",
       "2024-02-04 00:00:00+00:00    0\n",
       "2024-02-05 00:00:00+00:00    1\n",
       "2024-02-06 00:00:00+00:00    0\n",
       "2024-02-07 00:00:00+00:00    0\n",
       "                            ..\n",
       "2024-07-20 00:00:00+00:00    0\n",
       "2024-07-21 00:00:00+00:00    0\n",
       "2024-07-22 00:00:00+00:00    0\n",
       "2024-07-23 00:00:00+00:00    1\n",
       "2024-07-24 00:00:00+00:00    1\n",
       "Freq: D, Name: name, Length: 173, dtype: int64"
      ]
     },
     "execution_count": 101,
     "metadata": {},
     "output_type": "execute_result"
    }
   ],
   "source": [
    "daily_box_sales = box_domains_sales['name'].resample('D').count()\n",
    "daily_box_sales"
   ]
  },
  {
   "cell_type": "code",
   "execution_count": 102,
   "metadata": {},
   "outputs": [
    {
     "data": {
      "text/plain": [
       "day\n",
       "2024-02-03 00:00:00+00:00       33.09\n",
       "2024-02-04 00:00:00+00:00       33.09\n",
       "2024-02-05 00:00:00+00:00       78.69\n",
       "2024-02-06 00:00:00+00:00       78.69\n",
       "2024-02-07 00:00:00+00:00       78.69\n",
       "                               ...   \n",
       "2024-07-20 00:00:00+00:00   35,888.14\n",
       "2024-07-21 00:00:00+00:00   35,888.14\n",
       "2024-07-22 00:00:00+00:00   35,888.14\n",
       "2024-07-23 00:00:00+00:00   35,893.14\n",
       "2024-07-24 00:00:00+00:00   35,896.24\n",
       "Freq: D, Name: price_usd, Length: 173, dtype: float64"
      ]
     },
     "execution_count": 102,
     "metadata": {},
     "output_type": "execute_result"
    }
   ],
   "source": [
    "daily_box_vol = box_domains_sales['price_usd'].resample('D').sum()\n",
    "cumulative_box_vol = daily_box_vol.cumsum()\n",
    "cumulative_box_vol"
   ]
  },
  {
   "cell_type": "code",
   "execution_count": 103,
   "metadata": {},
   "outputs": [],
   "source": [
    "daily_box_sales_fig = px.bar(daily_box_sales.to_frame('sales'), x=daily_box_sales.index, y='sales', title='Daily Sales')\n",
    "# daily_box_sales_fig.show()"
   ]
  },
  {
   "cell_type": "code",
   "execution_count": 104,
   "metadata": {},
   "outputs": [
    {
     "data": {
      "text/html": [
       "<div>\n",
       "<style scoped>\n",
       "    .dataframe tbody tr th:only-of-type {\n",
       "        vertical-align: middle;\n",
       "    }\n",
       "\n",
       "    .dataframe tbody tr th {\n",
       "        vertical-align: top;\n",
       "    }\n",
       "\n",
       "    .dataframe thead th {\n",
       "        text-align: right;\n",
       "    }\n",
       "</style>\n",
       "<table border=\"1\" class=\"dataframe\">\n",
       "  <thead>\n",
       "    <tr style=\"text-align: right;\">\n",
       "      <th></th>\n",
       "      <th>name</th>\n",
       "      <th>price_usd</th>\n",
       "      <th>price_eth</th>\n",
       "    </tr>\n",
       "    <tr>\n",
       "      <th>day</th>\n",
       "      <th></th>\n",
       "      <th></th>\n",
       "      <th></th>\n",
       "    </tr>\n",
       "  </thead>\n",
       "  <tbody>\n",
       "    <tr>\n",
       "      <th>2024-04-17 18:00:00+00:00</th>\n",
       "      <td>mewtwo.box</td>\n",
       "      <td>29.61</td>\n",
       "      <td>0.01</td>\n",
       "    </tr>\n",
       "    <tr>\n",
       "      <th>2024-04-24 04:00:00+00:00</th>\n",
       "      <td>0000.box</td>\n",
       "      <td>93.92</td>\n",
       "      <td>0.03</td>\n",
       "    </tr>\n",
       "    <tr>\n",
       "      <th>2024-04-25 21:00:00+00:00</th>\n",
       "      <td>express.box</td>\n",
       "      <td>317.33</td>\n",
       "      <td>0.10</td>\n",
       "    </tr>\n",
       "    <tr>\n",
       "      <th>2024-04-27 00:00:00+00:00</th>\n",
       "      <td>jane.box</td>\n",
       "      <td>1,151.71</td>\n",
       "      <td>0.37</td>\n",
       "    </tr>\n",
       "    <tr>\n",
       "      <th>2024-04-27 16:00:00+00:00</th>\n",
       "      <td>vm.box</td>\n",
       "      <td>31,481.47</td>\n",
       "      <td>10.00</td>\n",
       "    </tr>\n",
       "    <tr>\n",
       "      <th>2024-04-28 01:00:00+00:00</th>\n",
       "      <td>man.box</td>\n",
       "      <td>224.60</td>\n",
       "      <td>0.07</td>\n",
       "    </tr>\n",
       "    <tr>\n",
       "      <th>2024-04-28 07:00:00+00:00</th>\n",
       "      <td>good.box</td>\n",
       "      <td>314.61</td>\n",
       "      <td>0.10</td>\n",
       "    </tr>\n",
       "    <tr>\n",
       "      <th>2024-05-07 22:00:00+00:00</th>\n",
       "      <td>onyx.box</td>\n",
       "      <td>167.83</td>\n",
       "      <td>0.06</td>\n",
       "    </tr>\n",
       "    <tr>\n",
       "      <th>2024-07-23 23:00:00+00:00</th>\n",
       "      <td>lauc.chain.box</td>\n",
       "      <td>5.00</td>\n",
       "      <td>0.00</td>\n",
       "    </tr>\n",
       "    <tr>\n",
       "      <th>2024-07-24 06:00:00+00:00</th>\n",
       "      <td>cryptobet.chain.box</td>\n",
       "      <td>3.09</td>\n",
       "      <td>0.00</td>\n",
       "    </tr>\n",
       "  </tbody>\n",
       "</table>\n",
       "</div>"
      ],
      "text/plain": [
       "                                          name  price_usd  price_eth\n",
       "day                                                                 \n",
       "2024-04-17 18:00:00+00:00           mewtwo.box      29.61       0.01\n",
       "2024-04-24 04:00:00+00:00             0000.box      93.92       0.03\n",
       "2024-04-25 21:00:00+00:00          express.box     317.33       0.10\n",
       "2024-04-27 00:00:00+00:00             jane.box   1,151.71       0.37\n",
       "2024-04-27 16:00:00+00:00               vm.box  31,481.47      10.00\n",
       "2024-04-28 01:00:00+00:00              man.box     224.60       0.07\n",
       "2024-04-28 07:00:00+00:00             good.box     314.61       0.10\n",
       "2024-05-07 22:00:00+00:00             onyx.box     167.83       0.06\n",
       "2024-07-23 23:00:00+00:00       lauc.chain.box       5.00       0.00\n",
       "2024-07-24 06:00:00+00:00  cryptobet.chain.box       3.09       0.00"
      ]
     },
     "execution_count": 104,
     "metadata": {},
     "output_type": "execute_result"
    }
   ],
   "source": [
    "latest_box_domains_sales = box_domains_sales.iloc[-10:] \n",
    "latest_box_domains_sales"
   ]
  },
  {
   "cell_type": "code",
   "execution_count": 105,
   "metadata": {},
   "outputs": [],
   "source": [
    "latest_box_domains_mints = box_domains_mints.iloc[-10:]\n",
    "# latest_box_domains_mints"
   ]
  },
  {
   "cell_type": "code",
   "execution_count": 106,
   "metadata": {},
   "outputs": [],
   "source": [
    "cumulative_box_mints = daily_box_mints.cumsum()\n",
    "cumulative_box_mints.rename(columns={'mints':'cumulative mints'}, inplace=True)"
   ]
  },
  {
   "cell_type": "code",
   "execution_count": 107,
   "metadata": {},
   "outputs": [],
   "source": [
    "daily_mint_metrics = daily_box_mints.merge(cumulative_box_mints, left_index=True, right_index=True, how='inner')\n",
    "# daily_mint_metrics"
   ]
  },
  {
   "cell_type": "code",
   "execution_count": 108,
   "metadata": {},
   "outputs": [
    {
     "data": {
      "application/vnd.plotly.v1+json": {
       "config": {
        "plotlyServerURL": "https://plot.ly"
       },
       "data": [
        {
         "name": "Mints",
         "type": "bar",
         "x": [
          "2023-10-04T00:00:00+00:00",
          "2023-10-05T00:00:00+00:00",
          "2023-10-06T00:00:00+00:00",
          "2023-10-07T00:00:00+00:00",
          "2023-10-08T00:00:00+00:00",
          "2023-10-09T00:00:00+00:00",
          "2023-10-10T00:00:00+00:00",
          "2023-10-11T00:00:00+00:00",
          "2023-10-12T00:00:00+00:00",
          "2023-10-13T00:00:00+00:00",
          "2023-10-14T00:00:00+00:00",
          "2023-10-15T00:00:00+00:00",
          "2023-10-16T00:00:00+00:00",
          "2023-10-17T00:00:00+00:00",
          "2023-10-18T00:00:00+00:00",
          "2023-10-19T00:00:00+00:00",
          "2023-10-20T00:00:00+00:00",
          "2023-10-21T00:00:00+00:00",
          "2023-10-22T00:00:00+00:00",
          "2023-10-23T00:00:00+00:00",
          "2023-10-24T00:00:00+00:00",
          "2023-10-25T00:00:00+00:00",
          "2023-10-26T00:00:00+00:00",
          "2023-10-27T00:00:00+00:00",
          "2023-10-28T00:00:00+00:00",
          "2023-10-29T00:00:00+00:00",
          "2023-10-30T00:00:00+00:00",
          "2023-10-31T00:00:00+00:00",
          "2023-11-01T00:00:00+00:00",
          "2023-11-02T00:00:00+00:00",
          "2023-11-03T00:00:00+00:00",
          "2023-11-04T00:00:00+00:00",
          "2023-11-05T00:00:00+00:00",
          "2023-11-06T00:00:00+00:00",
          "2023-11-07T00:00:00+00:00",
          "2023-11-08T00:00:00+00:00",
          "2023-11-09T00:00:00+00:00",
          "2023-11-10T00:00:00+00:00",
          "2023-11-11T00:00:00+00:00",
          "2023-11-12T00:00:00+00:00",
          "2023-11-13T00:00:00+00:00",
          "2023-11-14T00:00:00+00:00",
          "2023-11-15T00:00:00+00:00",
          "2023-11-16T00:00:00+00:00",
          "2023-11-17T00:00:00+00:00",
          "2023-11-18T00:00:00+00:00",
          "2023-11-19T00:00:00+00:00",
          "2023-11-20T00:00:00+00:00",
          "2023-11-21T00:00:00+00:00",
          "2023-11-22T00:00:00+00:00",
          "2023-11-23T00:00:00+00:00",
          "2023-11-24T00:00:00+00:00",
          "2023-11-25T00:00:00+00:00",
          "2023-11-26T00:00:00+00:00",
          "2023-11-27T00:00:00+00:00",
          "2023-11-28T00:00:00+00:00",
          "2023-11-29T00:00:00+00:00",
          "2023-11-30T00:00:00+00:00",
          "2023-12-01T00:00:00+00:00",
          "2023-12-02T00:00:00+00:00",
          "2023-12-03T00:00:00+00:00",
          "2023-12-04T00:00:00+00:00",
          "2023-12-05T00:00:00+00:00",
          "2023-12-06T00:00:00+00:00",
          "2023-12-07T00:00:00+00:00",
          "2023-12-08T00:00:00+00:00",
          "2023-12-09T00:00:00+00:00",
          "2023-12-10T00:00:00+00:00",
          "2023-12-11T00:00:00+00:00",
          "2023-12-12T00:00:00+00:00",
          "2023-12-13T00:00:00+00:00",
          "2023-12-14T00:00:00+00:00",
          "2023-12-15T00:00:00+00:00",
          "2023-12-16T00:00:00+00:00",
          "2023-12-17T00:00:00+00:00",
          "2023-12-18T00:00:00+00:00",
          "2023-12-19T00:00:00+00:00",
          "2023-12-20T00:00:00+00:00",
          "2023-12-21T00:00:00+00:00",
          "2023-12-22T00:00:00+00:00",
          "2023-12-23T00:00:00+00:00",
          "2023-12-24T00:00:00+00:00",
          "2023-12-25T00:00:00+00:00",
          "2023-12-26T00:00:00+00:00",
          "2023-12-27T00:00:00+00:00",
          "2023-12-28T00:00:00+00:00",
          "2023-12-29T00:00:00+00:00",
          "2023-12-30T00:00:00+00:00",
          "2023-12-31T00:00:00+00:00",
          "2024-01-01T00:00:00+00:00",
          "2024-01-02T00:00:00+00:00",
          "2024-01-03T00:00:00+00:00",
          "2024-01-04T00:00:00+00:00",
          "2024-01-05T00:00:00+00:00",
          "2024-01-06T00:00:00+00:00",
          "2024-01-07T00:00:00+00:00",
          "2024-01-08T00:00:00+00:00",
          "2024-01-09T00:00:00+00:00",
          "2024-01-10T00:00:00+00:00",
          "2024-01-11T00:00:00+00:00",
          "2024-01-12T00:00:00+00:00",
          "2024-01-13T00:00:00+00:00",
          "2024-01-14T00:00:00+00:00",
          "2024-01-15T00:00:00+00:00",
          "2024-01-16T00:00:00+00:00",
          "2024-01-17T00:00:00+00:00",
          "2024-01-18T00:00:00+00:00",
          "2024-01-19T00:00:00+00:00",
          "2024-01-20T00:00:00+00:00",
          "2024-01-21T00:00:00+00:00",
          "2024-01-22T00:00:00+00:00",
          "2024-01-23T00:00:00+00:00",
          "2024-01-24T00:00:00+00:00",
          "2024-01-25T00:00:00+00:00",
          "2024-01-26T00:00:00+00:00",
          "2024-01-27T00:00:00+00:00",
          "2024-01-28T00:00:00+00:00",
          "2024-01-29T00:00:00+00:00",
          "2024-01-30T00:00:00+00:00",
          "2024-01-31T00:00:00+00:00",
          "2024-02-01T00:00:00+00:00",
          "2024-02-02T00:00:00+00:00",
          "2024-02-03T00:00:00+00:00",
          "2024-02-04T00:00:00+00:00",
          "2024-02-05T00:00:00+00:00",
          "2024-02-06T00:00:00+00:00",
          "2024-02-07T00:00:00+00:00",
          "2024-02-08T00:00:00+00:00",
          "2024-02-09T00:00:00+00:00",
          "2024-02-10T00:00:00+00:00",
          "2024-02-11T00:00:00+00:00",
          "2024-02-12T00:00:00+00:00",
          "2024-02-13T00:00:00+00:00",
          "2024-02-14T00:00:00+00:00",
          "2024-02-15T00:00:00+00:00",
          "2024-02-16T00:00:00+00:00",
          "2024-02-17T00:00:00+00:00",
          "2024-02-18T00:00:00+00:00",
          "2024-02-19T00:00:00+00:00",
          "2024-02-20T00:00:00+00:00",
          "2024-02-21T00:00:00+00:00",
          "2024-02-22T00:00:00+00:00",
          "2024-02-23T00:00:00+00:00",
          "2024-02-24T00:00:00+00:00",
          "2024-02-25T00:00:00+00:00",
          "2024-02-26T00:00:00+00:00",
          "2024-02-27T00:00:00+00:00",
          "2024-02-28T00:00:00+00:00",
          "2024-02-29T00:00:00+00:00",
          "2024-03-01T00:00:00+00:00",
          "2024-03-02T00:00:00+00:00",
          "2024-03-03T00:00:00+00:00",
          "2024-03-04T00:00:00+00:00",
          "2024-03-05T00:00:00+00:00",
          "2024-03-06T00:00:00+00:00",
          "2024-03-07T00:00:00+00:00",
          "2024-03-08T00:00:00+00:00",
          "2024-03-09T00:00:00+00:00",
          "2024-03-10T00:00:00+00:00",
          "2024-03-11T00:00:00+00:00",
          "2024-03-12T00:00:00+00:00",
          "2024-03-13T00:00:00+00:00",
          "2024-03-14T00:00:00+00:00",
          "2024-03-15T00:00:00+00:00",
          "2024-03-16T00:00:00+00:00",
          "2024-03-17T00:00:00+00:00",
          "2024-03-18T00:00:00+00:00",
          "2024-03-19T00:00:00+00:00",
          "2024-03-20T00:00:00+00:00",
          "2024-03-21T00:00:00+00:00",
          "2024-03-22T00:00:00+00:00",
          "2024-03-23T00:00:00+00:00",
          "2024-03-24T00:00:00+00:00",
          "2024-03-25T00:00:00+00:00",
          "2024-03-26T00:00:00+00:00",
          "2024-03-27T00:00:00+00:00",
          "2024-03-28T00:00:00+00:00",
          "2024-03-29T00:00:00+00:00",
          "2024-03-30T00:00:00+00:00",
          "2024-03-31T00:00:00+00:00",
          "2024-04-01T00:00:00+00:00",
          "2024-04-02T00:00:00+00:00",
          "2024-04-03T00:00:00+00:00",
          "2024-04-04T00:00:00+00:00",
          "2024-04-05T00:00:00+00:00",
          "2024-04-06T00:00:00+00:00",
          "2024-04-07T00:00:00+00:00",
          "2024-04-08T00:00:00+00:00",
          "2024-04-09T00:00:00+00:00",
          "2024-04-10T00:00:00+00:00",
          "2024-04-11T00:00:00+00:00",
          "2024-04-12T00:00:00+00:00",
          "2024-04-13T00:00:00+00:00",
          "2024-04-14T00:00:00+00:00",
          "2024-04-15T00:00:00+00:00",
          "2024-04-16T00:00:00+00:00",
          "2024-04-17T00:00:00+00:00",
          "2024-04-18T00:00:00+00:00",
          "2024-04-19T00:00:00+00:00",
          "2024-04-20T00:00:00+00:00",
          "2024-04-21T00:00:00+00:00",
          "2024-04-22T00:00:00+00:00",
          "2024-04-23T00:00:00+00:00",
          "2024-04-24T00:00:00+00:00",
          "2024-04-25T00:00:00+00:00",
          "2024-04-26T00:00:00+00:00",
          "2024-04-27T00:00:00+00:00",
          "2024-04-28T00:00:00+00:00",
          "2024-04-29T00:00:00+00:00",
          "2024-04-30T00:00:00+00:00",
          "2024-05-01T00:00:00+00:00",
          "2024-05-02T00:00:00+00:00",
          "2024-05-03T00:00:00+00:00",
          "2024-05-04T00:00:00+00:00",
          "2024-05-05T00:00:00+00:00",
          "2024-05-06T00:00:00+00:00",
          "2024-05-07T00:00:00+00:00",
          "2024-05-08T00:00:00+00:00",
          "2024-05-09T00:00:00+00:00",
          "2024-05-10T00:00:00+00:00",
          "2024-05-11T00:00:00+00:00",
          "2024-05-12T00:00:00+00:00",
          "2024-05-13T00:00:00+00:00",
          "2024-05-14T00:00:00+00:00",
          "2024-05-15T00:00:00+00:00",
          "2024-05-16T00:00:00+00:00",
          "2024-05-17T00:00:00+00:00",
          "2024-05-18T00:00:00+00:00",
          "2024-05-19T00:00:00+00:00",
          "2024-05-20T00:00:00+00:00",
          "2024-05-21T00:00:00+00:00",
          "2024-05-22T00:00:00+00:00",
          "2024-05-23T00:00:00+00:00",
          "2024-05-24T00:00:00+00:00",
          "2024-05-25T00:00:00+00:00",
          "2024-05-26T00:00:00+00:00",
          "2024-05-27T00:00:00+00:00",
          "2024-05-28T00:00:00+00:00",
          "2024-05-29T00:00:00+00:00",
          "2024-05-30T00:00:00+00:00",
          "2024-05-31T00:00:00+00:00",
          "2024-06-01T00:00:00+00:00",
          "2024-06-02T00:00:00+00:00",
          "2024-06-03T00:00:00+00:00",
          "2024-06-04T00:00:00+00:00",
          "2024-06-05T00:00:00+00:00",
          "2024-06-06T00:00:00+00:00",
          "2024-06-07T00:00:00+00:00",
          "2024-06-08T00:00:00+00:00",
          "2024-06-09T00:00:00+00:00",
          "2024-06-10T00:00:00+00:00",
          "2024-06-11T00:00:00+00:00",
          "2024-06-12T00:00:00+00:00",
          "2024-06-13T00:00:00+00:00",
          "2024-06-14T00:00:00+00:00",
          "2024-06-15T00:00:00+00:00",
          "2024-06-16T00:00:00+00:00",
          "2024-06-17T00:00:00+00:00",
          "2024-06-18T00:00:00+00:00",
          "2024-06-19T00:00:00+00:00",
          "2024-06-20T00:00:00+00:00",
          "2024-06-21T00:00:00+00:00",
          "2024-06-22T00:00:00+00:00",
          "2024-06-23T00:00:00+00:00",
          "2024-06-24T00:00:00+00:00",
          "2024-06-25T00:00:00+00:00",
          "2024-06-26T00:00:00+00:00",
          "2024-06-27T00:00:00+00:00",
          "2024-06-28T00:00:00+00:00",
          "2024-06-29T00:00:00+00:00",
          "2024-06-30T00:00:00+00:00",
          "2024-07-01T00:00:00+00:00",
          "2024-07-02T00:00:00+00:00",
          "2024-07-03T00:00:00+00:00",
          "2024-07-04T00:00:00+00:00",
          "2024-07-05T00:00:00+00:00",
          "2024-07-06T00:00:00+00:00",
          "2024-07-07T00:00:00+00:00",
          "2024-07-08T00:00:00+00:00",
          "2024-07-09T00:00:00+00:00",
          "2024-07-10T00:00:00+00:00",
          "2024-07-11T00:00:00+00:00",
          "2024-07-12T00:00:00+00:00",
          "2024-07-13T00:00:00+00:00",
          "2024-07-14T00:00:00+00:00",
          "2024-07-15T00:00:00+00:00",
          "2024-07-16T00:00:00+00:00",
          "2024-07-17T00:00:00+00:00",
          "2024-07-18T00:00:00+00:00",
          "2024-07-19T00:00:00+00:00",
          "2024-07-20T00:00:00+00:00",
          "2024-07-21T00:00:00+00:00",
          "2024-07-22T00:00:00+00:00",
          "2024-07-23T00:00:00+00:00",
          "2024-07-24T00:00:00+00:00"
         ],
         "xaxis": "x",
         "y": [
          1,
          0,
          0,
          0,
          0,
          0,
          0,
          0,
          0,
          0,
          0,
          0,
          0,
          0,
          0,
          0,
          0,
          0,
          0,
          0,
          2,
          0,
          1,
          0,
          0,
          0,
          0,
          1,
          1,
          0,
          0,
          0,
          0,
          1,
          0,
          0,
          0,
          0,
          0,
          0,
          0,
          0,
          0,
          0,
          0,
          0,
          0,
          0,
          0,
          0,
          0,
          0,
          0,
          0,
          0,
          0,
          0,
          0,
          0,
          0,
          0,
          0,
          0,
          0,
          0,
          0,
          0,
          0,
          0,
          0,
          0,
          1,
          2,
          0,
          0,
          1,
          3,
          15,
          0,
          0,
          1,
          0,
          0,
          0,
          0,
          0,
          0,
          0,
          0,
          0,
          0,
          0,
          0,
          0,
          0,
          0,
          2,
          2,
          1,
          1,
          0,
          0,
          0,
          0,
          2,
          1,
          3,
          1,
          1,
          22,
          38,
          90,
          455,
          683,
          198,
          142,
          41,
          15,
          13,
          34,
          32,
          29,
          22,
          24,
          8,
          7,
          7,
          8,
          7,
          2,
          3,
          1,
          2,
          2,
          4,
          3,
          1,
          2,
          5,
          0,
          2,
          5,
          10,
          2,
          45,
          27,
          45,
          21,
          23,
          9,
          5,
          2,
          1,
          5,
          4,
          39,
          6,
          0,
          17,
          3,
          4,
          2,
          1,
          16,
          5,
          1,
          3,
          12,
          1,
          1,
          8,
          0,
          1,
          0,
          3,
          5,
          2,
          4,
          1,
          1,
          3,
          2,
          3,
          7,
          4,
          3,
          1,
          4,
          2,
          1,
          6,
          2,
          2,
          1,
          2,
          2,
          2,
          5,
          5,
          1,
          1,
          2,
          100,
          185,
          57,
          39,
          81,
          45,
          43,
          25,
          21,
          22,
          4,
          34,
          10,
          24,
          20,
          34,
          22,
          62,
          10,
          9,
          6,
          7,
          5,
          11,
          6,
          0,
          6,
          5,
          8,
          7,
          4,
          14,
          9,
          6,
          2,
          7,
          24,
          10,
          5,
          14,
          9,
          15,
          19,
          9,
          7,
          6,
          1,
          3,
          3,
          28,
          12,
          17,
          13,
          4,
          4,
          4,
          5,
          3,
          6,
          7,
          2,
          4,
          2,
          5,
          7,
          2,
          1,
          1,
          8,
          6,
          20,
          8,
          4,
          5,
          3,
          6,
          1,
          4,
          5,
          0,
          269,
          554,
          134,
          67,
          144,
          24,
          61,
          33,
          38,
          9,
          12,
          690,
          198
         ],
         "yaxis": "y"
        },
        {
         "mode": "lines",
         "name": "Cumulative Mints",
         "type": "scatter",
         "x": [
          "2023-10-04T00:00:00+00:00",
          "2023-10-05T00:00:00+00:00",
          "2023-10-06T00:00:00+00:00",
          "2023-10-07T00:00:00+00:00",
          "2023-10-08T00:00:00+00:00",
          "2023-10-09T00:00:00+00:00",
          "2023-10-10T00:00:00+00:00",
          "2023-10-11T00:00:00+00:00",
          "2023-10-12T00:00:00+00:00",
          "2023-10-13T00:00:00+00:00",
          "2023-10-14T00:00:00+00:00",
          "2023-10-15T00:00:00+00:00",
          "2023-10-16T00:00:00+00:00",
          "2023-10-17T00:00:00+00:00",
          "2023-10-18T00:00:00+00:00",
          "2023-10-19T00:00:00+00:00",
          "2023-10-20T00:00:00+00:00",
          "2023-10-21T00:00:00+00:00",
          "2023-10-22T00:00:00+00:00",
          "2023-10-23T00:00:00+00:00",
          "2023-10-24T00:00:00+00:00",
          "2023-10-25T00:00:00+00:00",
          "2023-10-26T00:00:00+00:00",
          "2023-10-27T00:00:00+00:00",
          "2023-10-28T00:00:00+00:00",
          "2023-10-29T00:00:00+00:00",
          "2023-10-30T00:00:00+00:00",
          "2023-10-31T00:00:00+00:00",
          "2023-11-01T00:00:00+00:00",
          "2023-11-02T00:00:00+00:00",
          "2023-11-03T00:00:00+00:00",
          "2023-11-04T00:00:00+00:00",
          "2023-11-05T00:00:00+00:00",
          "2023-11-06T00:00:00+00:00",
          "2023-11-07T00:00:00+00:00",
          "2023-11-08T00:00:00+00:00",
          "2023-11-09T00:00:00+00:00",
          "2023-11-10T00:00:00+00:00",
          "2023-11-11T00:00:00+00:00",
          "2023-11-12T00:00:00+00:00",
          "2023-11-13T00:00:00+00:00",
          "2023-11-14T00:00:00+00:00",
          "2023-11-15T00:00:00+00:00",
          "2023-11-16T00:00:00+00:00",
          "2023-11-17T00:00:00+00:00",
          "2023-11-18T00:00:00+00:00",
          "2023-11-19T00:00:00+00:00",
          "2023-11-20T00:00:00+00:00",
          "2023-11-21T00:00:00+00:00",
          "2023-11-22T00:00:00+00:00",
          "2023-11-23T00:00:00+00:00",
          "2023-11-24T00:00:00+00:00",
          "2023-11-25T00:00:00+00:00",
          "2023-11-26T00:00:00+00:00",
          "2023-11-27T00:00:00+00:00",
          "2023-11-28T00:00:00+00:00",
          "2023-11-29T00:00:00+00:00",
          "2023-11-30T00:00:00+00:00",
          "2023-12-01T00:00:00+00:00",
          "2023-12-02T00:00:00+00:00",
          "2023-12-03T00:00:00+00:00",
          "2023-12-04T00:00:00+00:00",
          "2023-12-05T00:00:00+00:00",
          "2023-12-06T00:00:00+00:00",
          "2023-12-07T00:00:00+00:00",
          "2023-12-08T00:00:00+00:00",
          "2023-12-09T00:00:00+00:00",
          "2023-12-10T00:00:00+00:00",
          "2023-12-11T00:00:00+00:00",
          "2023-12-12T00:00:00+00:00",
          "2023-12-13T00:00:00+00:00",
          "2023-12-14T00:00:00+00:00",
          "2023-12-15T00:00:00+00:00",
          "2023-12-16T00:00:00+00:00",
          "2023-12-17T00:00:00+00:00",
          "2023-12-18T00:00:00+00:00",
          "2023-12-19T00:00:00+00:00",
          "2023-12-20T00:00:00+00:00",
          "2023-12-21T00:00:00+00:00",
          "2023-12-22T00:00:00+00:00",
          "2023-12-23T00:00:00+00:00",
          "2023-12-24T00:00:00+00:00",
          "2023-12-25T00:00:00+00:00",
          "2023-12-26T00:00:00+00:00",
          "2023-12-27T00:00:00+00:00",
          "2023-12-28T00:00:00+00:00",
          "2023-12-29T00:00:00+00:00",
          "2023-12-30T00:00:00+00:00",
          "2023-12-31T00:00:00+00:00",
          "2024-01-01T00:00:00+00:00",
          "2024-01-02T00:00:00+00:00",
          "2024-01-03T00:00:00+00:00",
          "2024-01-04T00:00:00+00:00",
          "2024-01-05T00:00:00+00:00",
          "2024-01-06T00:00:00+00:00",
          "2024-01-07T00:00:00+00:00",
          "2024-01-08T00:00:00+00:00",
          "2024-01-09T00:00:00+00:00",
          "2024-01-10T00:00:00+00:00",
          "2024-01-11T00:00:00+00:00",
          "2024-01-12T00:00:00+00:00",
          "2024-01-13T00:00:00+00:00",
          "2024-01-14T00:00:00+00:00",
          "2024-01-15T00:00:00+00:00",
          "2024-01-16T00:00:00+00:00",
          "2024-01-17T00:00:00+00:00",
          "2024-01-18T00:00:00+00:00",
          "2024-01-19T00:00:00+00:00",
          "2024-01-20T00:00:00+00:00",
          "2024-01-21T00:00:00+00:00",
          "2024-01-22T00:00:00+00:00",
          "2024-01-23T00:00:00+00:00",
          "2024-01-24T00:00:00+00:00",
          "2024-01-25T00:00:00+00:00",
          "2024-01-26T00:00:00+00:00",
          "2024-01-27T00:00:00+00:00",
          "2024-01-28T00:00:00+00:00",
          "2024-01-29T00:00:00+00:00",
          "2024-01-30T00:00:00+00:00",
          "2024-01-31T00:00:00+00:00",
          "2024-02-01T00:00:00+00:00",
          "2024-02-02T00:00:00+00:00",
          "2024-02-03T00:00:00+00:00",
          "2024-02-04T00:00:00+00:00",
          "2024-02-05T00:00:00+00:00",
          "2024-02-06T00:00:00+00:00",
          "2024-02-07T00:00:00+00:00",
          "2024-02-08T00:00:00+00:00",
          "2024-02-09T00:00:00+00:00",
          "2024-02-10T00:00:00+00:00",
          "2024-02-11T00:00:00+00:00",
          "2024-02-12T00:00:00+00:00",
          "2024-02-13T00:00:00+00:00",
          "2024-02-14T00:00:00+00:00",
          "2024-02-15T00:00:00+00:00",
          "2024-02-16T00:00:00+00:00",
          "2024-02-17T00:00:00+00:00",
          "2024-02-18T00:00:00+00:00",
          "2024-02-19T00:00:00+00:00",
          "2024-02-20T00:00:00+00:00",
          "2024-02-21T00:00:00+00:00",
          "2024-02-22T00:00:00+00:00",
          "2024-02-23T00:00:00+00:00",
          "2024-02-24T00:00:00+00:00",
          "2024-02-25T00:00:00+00:00",
          "2024-02-26T00:00:00+00:00",
          "2024-02-27T00:00:00+00:00",
          "2024-02-28T00:00:00+00:00",
          "2024-02-29T00:00:00+00:00",
          "2024-03-01T00:00:00+00:00",
          "2024-03-02T00:00:00+00:00",
          "2024-03-03T00:00:00+00:00",
          "2024-03-04T00:00:00+00:00",
          "2024-03-05T00:00:00+00:00",
          "2024-03-06T00:00:00+00:00",
          "2024-03-07T00:00:00+00:00",
          "2024-03-08T00:00:00+00:00",
          "2024-03-09T00:00:00+00:00",
          "2024-03-10T00:00:00+00:00",
          "2024-03-11T00:00:00+00:00",
          "2024-03-12T00:00:00+00:00",
          "2024-03-13T00:00:00+00:00",
          "2024-03-14T00:00:00+00:00",
          "2024-03-15T00:00:00+00:00",
          "2024-03-16T00:00:00+00:00",
          "2024-03-17T00:00:00+00:00",
          "2024-03-18T00:00:00+00:00",
          "2024-03-19T00:00:00+00:00",
          "2024-03-20T00:00:00+00:00",
          "2024-03-21T00:00:00+00:00",
          "2024-03-22T00:00:00+00:00",
          "2024-03-23T00:00:00+00:00",
          "2024-03-24T00:00:00+00:00",
          "2024-03-25T00:00:00+00:00",
          "2024-03-26T00:00:00+00:00",
          "2024-03-27T00:00:00+00:00",
          "2024-03-28T00:00:00+00:00",
          "2024-03-29T00:00:00+00:00",
          "2024-03-30T00:00:00+00:00",
          "2024-03-31T00:00:00+00:00",
          "2024-04-01T00:00:00+00:00",
          "2024-04-02T00:00:00+00:00",
          "2024-04-03T00:00:00+00:00",
          "2024-04-04T00:00:00+00:00",
          "2024-04-05T00:00:00+00:00",
          "2024-04-06T00:00:00+00:00",
          "2024-04-07T00:00:00+00:00",
          "2024-04-08T00:00:00+00:00",
          "2024-04-09T00:00:00+00:00",
          "2024-04-10T00:00:00+00:00",
          "2024-04-11T00:00:00+00:00",
          "2024-04-12T00:00:00+00:00",
          "2024-04-13T00:00:00+00:00",
          "2024-04-14T00:00:00+00:00",
          "2024-04-15T00:00:00+00:00",
          "2024-04-16T00:00:00+00:00",
          "2024-04-17T00:00:00+00:00",
          "2024-04-18T00:00:00+00:00",
          "2024-04-19T00:00:00+00:00",
          "2024-04-20T00:00:00+00:00",
          "2024-04-21T00:00:00+00:00",
          "2024-04-22T00:00:00+00:00",
          "2024-04-23T00:00:00+00:00",
          "2024-04-24T00:00:00+00:00",
          "2024-04-25T00:00:00+00:00",
          "2024-04-26T00:00:00+00:00",
          "2024-04-27T00:00:00+00:00",
          "2024-04-28T00:00:00+00:00",
          "2024-04-29T00:00:00+00:00",
          "2024-04-30T00:00:00+00:00",
          "2024-05-01T00:00:00+00:00",
          "2024-05-02T00:00:00+00:00",
          "2024-05-03T00:00:00+00:00",
          "2024-05-04T00:00:00+00:00",
          "2024-05-05T00:00:00+00:00",
          "2024-05-06T00:00:00+00:00",
          "2024-05-07T00:00:00+00:00",
          "2024-05-08T00:00:00+00:00",
          "2024-05-09T00:00:00+00:00",
          "2024-05-10T00:00:00+00:00",
          "2024-05-11T00:00:00+00:00",
          "2024-05-12T00:00:00+00:00",
          "2024-05-13T00:00:00+00:00",
          "2024-05-14T00:00:00+00:00",
          "2024-05-15T00:00:00+00:00",
          "2024-05-16T00:00:00+00:00",
          "2024-05-17T00:00:00+00:00",
          "2024-05-18T00:00:00+00:00",
          "2024-05-19T00:00:00+00:00",
          "2024-05-20T00:00:00+00:00",
          "2024-05-21T00:00:00+00:00",
          "2024-05-22T00:00:00+00:00",
          "2024-05-23T00:00:00+00:00",
          "2024-05-24T00:00:00+00:00",
          "2024-05-25T00:00:00+00:00",
          "2024-05-26T00:00:00+00:00",
          "2024-05-27T00:00:00+00:00",
          "2024-05-28T00:00:00+00:00",
          "2024-05-29T00:00:00+00:00",
          "2024-05-30T00:00:00+00:00",
          "2024-05-31T00:00:00+00:00",
          "2024-06-01T00:00:00+00:00",
          "2024-06-02T00:00:00+00:00",
          "2024-06-03T00:00:00+00:00",
          "2024-06-04T00:00:00+00:00",
          "2024-06-05T00:00:00+00:00",
          "2024-06-06T00:00:00+00:00",
          "2024-06-07T00:00:00+00:00",
          "2024-06-08T00:00:00+00:00",
          "2024-06-09T00:00:00+00:00",
          "2024-06-10T00:00:00+00:00",
          "2024-06-11T00:00:00+00:00",
          "2024-06-12T00:00:00+00:00",
          "2024-06-13T00:00:00+00:00",
          "2024-06-14T00:00:00+00:00",
          "2024-06-15T00:00:00+00:00",
          "2024-06-16T00:00:00+00:00",
          "2024-06-17T00:00:00+00:00",
          "2024-06-18T00:00:00+00:00",
          "2024-06-19T00:00:00+00:00",
          "2024-06-20T00:00:00+00:00",
          "2024-06-21T00:00:00+00:00",
          "2024-06-22T00:00:00+00:00",
          "2024-06-23T00:00:00+00:00",
          "2024-06-24T00:00:00+00:00",
          "2024-06-25T00:00:00+00:00",
          "2024-06-26T00:00:00+00:00",
          "2024-06-27T00:00:00+00:00",
          "2024-06-28T00:00:00+00:00",
          "2024-06-29T00:00:00+00:00",
          "2024-06-30T00:00:00+00:00",
          "2024-07-01T00:00:00+00:00",
          "2024-07-02T00:00:00+00:00",
          "2024-07-03T00:00:00+00:00",
          "2024-07-04T00:00:00+00:00",
          "2024-07-05T00:00:00+00:00",
          "2024-07-06T00:00:00+00:00",
          "2024-07-07T00:00:00+00:00",
          "2024-07-08T00:00:00+00:00",
          "2024-07-09T00:00:00+00:00",
          "2024-07-10T00:00:00+00:00",
          "2024-07-11T00:00:00+00:00",
          "2024-07-12T00:00:00+00:00",
          "2024-07-13T00:00:00+00:00",
          "2024-07-14T00:00:00+00:00",
          "2024-07-15T00:00:00+00:00",
          "2024-07-16T00:00:00+00:00",
          "2024-07-17T00:00:00+00:00",
          "2024-07-18T00:00:00+00:00",
          "2024-07-19T00:00:00+00:00",
          "2024-07-20T00:00:00+00:00",
          "2024-07-21T00:00:00+00:00",
          "2024-07-22T00:00:00+00:00",
          "2024-07-23T00:00:00+00:00",
          "2024-07-24T00:00:00+00:00"
         ],
         "xaxis": "x",
         "y": [
          1,
          1,
          1,
          1,
          1,
          1,
          1,
          1,
          1,
          1,
          1,
          1,
          1,
          1,
          1,
          1,
          1,
          1,
          1,
          1,
          3,
          3,
          4,
          4,
          4,
          4,
          4,
          5,
          6,
          6,
          6,
          6,
          6,
          7,
          7,
          7,
          7,
          7,
          7,
          7,
          7,
          7,
          7,
          7,
          7,
          7,
          7,
          7,
          7,
          7,
          7,
          7,
          7,
          7,
          7,
          7,
          7,
          7,
          7,
          7,
          7,
          7,
          7,
          7,
          7,
          7,
          7,
          7,
          7,
          7,
          7,
          8,
          10,
          10,
          10,
          11,
          14,
          29,
          29,
          29,
          30,
          30,
          30,
          30,
          30,
          30,
          30,
          30,
          30,
          30,
          30,
          30,
          30,
          30,
          30,
          30,
          32,
          34,
          35,
          36,
          36,
          36,
          36,
          36,
          38,
          39,
          42,
          43,
          44,
          66,
          104,
          194,
          649,
          1332,
          1530,
          1672,
          1713,
          1728,
          1741,
          1775,
          1807,
          1836,
          1858,
          1882,
          1890,
          1897,
          1904,
          1912,
          1919,
          1921,
          1924,
          1925,
          1927,
          1929,
          1933,
          1936,
          1937,
          1939,
          1944,
          1944,
          1946,
          1951,
          1961,
          1963,
          2008,
          2035,
          2080,
          2101,
          2124,
          2133,
          2138,
          2140,
          2141,
          2146,
          2150,
          2189,
          2195,
          2195,
          2212,
          2215,
          2219,
          2221,
          2222,
          2238,
          2243,
          2244,
          2247,
          2259,
          2260,
          2261,
          2269,
          2269,
          2270,
          2270,
          2273,
          2278,
          2280,
          2284,
          2285,
          2286,
          2289,
          2291,
          2294,
          2301,
          2305,
          2308,
          2309,
          2313,
          2315,
          2316,
          2322,
          2324,
          2326,
          2327,
          2329,
          2331,
          2333,
          2338,
          2343,
          2344,
          2345,
          2347,
          2447,
          2632,
          2689,
          2728,
          2809,
          2854,
          2897,
          2922,
          2943,
          2965,
          2969,
          3003,
          3013,
          3037,
          3057,
          3091,
          3113,
          3175,
          3185,
          3194,
          3200,
          3207,
          3212,
          3223,
          3229,
          3229,
          3235,
          3240,
          3248,
          3255,
          3259,
          3273,
          3282,
          3288,
          3290,
          3297,
          3321,
          3331,
          3336,
          3350,
          3359,
          3374,
          3393,
          3402,
          3409,
          3415,
          3416,
          3419,
          3422,
          3450,
          3462,
          3479,
          3492,
          3496,
          3500,
          3504,
          3509,
          3512,
          3518,
          3525,
          3527,
          3531,
          3533,
          3538,
          3545,
          3547,
          3548,
          3549,
          3557,
          3563,
          3583,
          3591,
          3595,
          3600,
          3603,
          3609,
          3610,
          3614,
          3619,
          3619,
          3888,
          4442,
          4576,
          4643,
          4787,
          4811,
          4872,
          4905,
          4943,
          4952,
          4964,
          5654,
          5852
         ],
         "yaxis": "y2"
        }
       ],
       "layout": {
        "template": {
         "data": {
          "bar": [
           {
            "error_x": {
             "color": "#2a3f5f"
            },
            "error_y": {
             "color": "#2a3f5f"
            },
            "marker": {
             "line": {
              "color": "#E5ECF6",
              "width": 0.5
             },
             "pattern": {
              "fillmode": "overlay",
              "size": 10,
              "solidity": 0.2
             }
            },
            "type": "bar"
           }
          ],
          "barpolar": [
           {
            "marker": {
             "line": {
              "color": "#E5ECF6",
              "width": 0.5
             },
             "pattern": {
              "fillmode": "overlay",
              "size": 10,
              "solidity": 0.2
             }
            },
            "type": "barpolar"
           }
          ],
          "carpet": [
           {
            "aaxis": {
             "endlinecolor": "#2a3f5f",
             "gridcolor": "white",
             "linecolor": "white",
             "minorgridcolor": "white",
             "startlinecolor": "#2a3f5f"
            },
            "baxis": {
             "endlinecolor": "#2a3f5f",
             "gridcolor": "white",
             "linecolor": "white",
             "minorgridcolor": "white",
             "startlinecolor": "#2a3f5f"
            },
            "type": "carpet"
           }
          ],
          "choropleth": [
           {
            "colorbar": {
             "outlinewidth": 0,
             "ticks": ""
            },
            "type": "choropleth"
           }
          ],
          "contour": [
           {
            "colorbar": {
             "outlinewidth": 0,
             "ticks": ""
            },
            "colorscale": [
             [
              0,
              "#0d0887"
             ],
             [
              0.1111111111111111,
              "#46039f"
             ],
             [
              0.2222222222222222,
              "#7201a8"
             ],
             [
              0.3333333333333333,
              "#9c179e"
             ],
             [
              0.4444444444444444,
              "#bd3786"
             ],
             [
              0.5555555555555556,
              "#d8576b"
             ],
             [
              0.6666666666666666,
              "#ed7953"
             ],
             [
              0.7777777777777778,
              "#fb9f3a"
             ],
             [
              0.8888888888888888,
              "#fdca26"
             ],
             [
              1,
              "#f0f921"
             ]
            ],
            "type": "contour"
           }
          ],
          "contourcarpet": [
           {
            "colorbar": {
             "outlinewidth": 0,
             "ticks": ""
            },
            "type": "contourcarpet"
           }
          ],
          "heatmap": [
           {
            "colorbar": {
             "outlinewidth": 0,
             "ticks": ""
            },
            "colorscale": [
             [
              0,
              "#0d0887"
             ],
             [
              0.1111111111111111,
              "#46039f"
             ],
             [
              0.2222222222222222,
              "#7201a8"
             ],
             [
              0.3333333333333333,
              "#9c179e"
             ],
             [
              0.4444444444444444,
              "#bd3786"
             ],
             [
              0.5555555555555556,
              "#d8576b"
             ],
             [
              0.6666666666666666,
              "#ed7953"
             ],
             [
              0.7777777777777778,
              "#fb9f3a"
             ],
             [
              0.8888888888888888,
              "#fdca26"
             ],
             [
              1,
              "#f0f921"
             ]
            ],
            "type": "heatmap"
           }
          ],
          "heatmapgl": [
           {
            "colorbar": {
             "outlinewidth": 0,
             "ticks": ""
            },
            "colorscale": [
             [
              0,
              "#0d0887"
             ],
             [
              0.1111111111111111,
              "#46039f"
             ],
             [
              0.2222222222222222,
              "#7201a8"
             ],
             [
              0.3333333333333333,
              "#9c179e"
             ],
             [
              0.4444444444444444,
              "#bd3786"
             ],
             [
              0.5555555555555556,
              "#d8576b"
             ],
             [
              0.6666666666666666,
              "#ed7953"
             ],
             [
              0.7777777777777778,
              "#fb9f3a"
             ],
             [
              0.8888888888888888,
              "#fdca26"
             ],
             [
              1,
              "#f0f921"
             ]
            ],
            "type": "heatmapgl"
           }
          ],
          "histogram": [
           {
            "marker": {
             "pattern": {
              "fillmode": "overlay",
              "size": 10,
              "solidity": 0.2
             }
            },
            "type": "histogram"
           }
          ],
          "histogram2d": [
           {
            "colorbar": {
             "outlinewidth": 0,
             "ticks": ""
            },
            "colorscale": [
             [
              0,
              "#0d0887"
             ],
             [
              0.1111111111111111,
              "#46039f"
             ],
             [
              0.2222222222222222,
              "#7201a8"
             ],
             [
              0.3333333333333333,
              "#9c179e"
             ],
             [
              0.4444444444444444,
              "#bd3786"
             ],
             [
              0.5555555555555556,
              "#d8576b"
             ],
             [
              0.6666666666666666,
              "#ed7953"
             ],
             [
              0.7777777777777778,
              "#fb9f3a"
             ],
             [
              0.8888888888888888,
              "#fdca26"
             ],
             [
              1,
              "#f0f921"
             ]
            ],
            "type": "histogram2d"
           }
          ],
          "histogram2dcontour": [
           {
            "colorbar": {
             "outlinewidth": 0,
             "ticks": ""
            },
            "colorscale": [
             [
              0,
              "#0d0887"
             ],
             [
              0.1111111111111111,
              "#46039f"
             ],
             [
              0.2222222222222222,
              "#7201a8"
             ],
             [
              0.3333333333333333,
              "#9c179e"
             ],
             [
              0.4444444444444444,
              "#bd3786"
             ],
             [
              0.5555555555555556,
              "#d8576b"
             ],
             [
              0.6666666666666666,
              "#ed7953"
             ],
             [
              0.7777777777777778,
              "#fb9f3a"
             ],
             [
              0.8888888888888888,
              "#fdca26"
             ],
             [
              1,
              "#f0f921"
             ]
            ],
            "type": "histogram2dcontour"
           }
          ],
          "mesh3d": [
           {
            "colorbar": {
             "outlinewidth": 0,
             "ticks": ""
            },
            "type": "mesh3d"
           }
          ],
          "parcoords": [
           {
            "line": {
             "colorbar": {
              "outlinewidth": 0,
              "ticks": ""
             }
            },
            "type": "parcoords"
           }
          ],
          "pie": [
           {
            "automargin": true,
            "type": "pie"
           }
          ],
          "scatter": [
           {
            "fillpattern": {
             "fillmode": "overlay",
             "size": 10,
             "solidity": 0.2
            },
            "type": "scatter"
           }
          ],
          "scatter3d": [
           {
            "line": {
             "colorbar": {
              "outlinewidth": 0,
              "ticks": ""
             }
            },
            "marker": {
             "colorbar": {
              "outlinewidth": 0,
              "ticks": ""
             }
            },
            "type": "scatter3d"
           }
          ],
          "scattercarpet": [
           {
            "marker": {
             "colorbar": {
              "outlinewidth": 0,
              "ticks": ""
             }
            },
            "type": "scattercarpet"
           }
          ],
          "scattergeo": [
           {
            "marker": {
             "colorbar": {
              "outlinewidth": 0,
              "ticks": ""
             }
            },
            "type": "scattergeo"
           }
          ],
          "scattergl": [
           {
            "marker": {
             "colorbar": {
              "outlinewidth": 0,
              "ticks": ""
             }
            },
            "type": "scattergl"
           }
          ],
          "scattermapbox": [
           {
            "marker": {
             "colorbar": {
              "outlinewidth": 0,
              "ticks": ""
             }
            },
            "type": "scattermapbox"
           }
          ],
          "scatterpolar": [
           {
            "marker": {
             "colorbar": {
              "outlinewidth": 0,
              "ticks": ""
             }
            },
            "type": "scatterpolar"
           }
          ],
          "scatterpolargl": [
           {
            "marker": {
             "colorbar": {
              "outlinewidth": 0,
              "ticks": ""
             }
            },
            "type": "scatterpolargl"
           }
          ],
          "scatterternary": [
           {
            "marker": {
             "colorbar": {
              "outlinewidth": 0,
              "ticks": ""
             }
            },
            "type": "scatterternary"
           }
          ],
          "surface": [
           {
            "colorbar": {
             "outlinewidth": 0,
             "ticks": ""
            },
            "colorscale": [
             [
              0,
              "#0d0887"
             ],
             [
              0.1111111111111111,
              "#46039f"
             ],
             [
              0.2222222222222222,
              "#7201a8"
             ],
             [
              0.3333333333333333,
              "#9c179e"
             ],
             [
              0.4444444444444444,
              "#bd3786"
             ],
             [
              0.5555555555555556,
              "#d8576b"
             ],
             [
              0.6666666666666666,
              "#ed7953"
             ],
             [
              0.7777777777777778,
              "#fb9f3a"
             ],
             [
              0.8888888888888888,
              "#fdca26"
             ],
             [
              1,
              "#f0f921"
             ]
            ],
            "type": "surface"
           }
          ],
          "table": [
           {
            "cells": {
             "fill": {
              "color": "#EBF0F8"
             },
             "line": {
              "color": "white"
             }
            },
            "header": {
             "fill": {
              "color": "#C8D4E3"
             },
             "line": {
              "color": "white"
             }
            },
            "type": "table"
           }
          ]
         },
         "layout": {
          "annotationdefaults": {
           "arrowcolor": "#2a3f5f",
           "arrowhead": 0,
           "arrowwidth": 1
          },
          "autotypenumbers": "strict",
          "coloraxis": {
           "colorbar": {
            "outlinewidth": 0,
            "ticks": ""
           }
          },
          "colorscale": {
           "diverging": [
            [
             0,
             "#8e0152"
            ],
            [
             0.1,
             "#c51b7d"
            ],
            [
             0.2,
             "#de77ae"
            ],
            [
             0.3,
             "#f1b6da"
            ],
            [
             0.4,
             "#fde0ef"
            ],
            [
             0.5,
             "#f7f7f7"
            ],
            [
             0.6,
             "#e6f5d0"
            ],
            [
             0.7,
             "#b8e186"
            ],
            [
             0.8,
             "#7fbc41"
            ],
            [
             0.9,
             "#4d9221"
            ],
            [
             1,
             "#276419"
            ]
           ],
           "sequential": [
            [
             0,
             "#0d0887"
            ],
            [
             0.1111111111111111,
             "#46039f"
            ],
            [
             0.2222222222222222,
             "#7201a8"
            ],
            [
             0.3333333333333333,
             "#9c179e"
            ],
            [
             0.4444444444444444,
             "#bd3786"
            ],
            [
             0.5555555555555556,
             "#d8576b"
            ],
            [
             0.6666666666666666,
             "#ed7953"
            ],
            [
             0.7777777777777778,
             "#fb9f3a"
            ],
            [
             0.8888888888888888,
             "#fdca26"
            ],
            [
             1,
             "#f0f921"
            ]
           ],
           "sequentialminus": [
            [
             0,
             "#0d0887"
            ],
            [
             0.1111111111111111,
             "#46039f"
            ],
            [
             0.2222222222222222,
             "#7201a8"
            ],
            [
             0.3333333333333333,
             "#9c179e"
            ],
            [
             0.4444444444444444,
             "#bd3786"
            ],
            [
             0.5555555555555556,
             "#d8576b"
            ],
            [
             0.6666666666666666,
             "#ed7953"
            ],
            [
             0.7777777777777778,
             "#fb9f3a"
            ],
            [
             0.8888888888888888,
             "#fdca26"
            ],
            [
             1,
             "#f0f921"
            ]
           ]
          },
          "colorway": [
           "#636efa",
           "#EF553B",
           "#00cc96",
           "#ab63fa",
           "#FFA15A",
           "#19d3f3",
           "#FF6692",
           "#B6E880",
           "#FF97FF",
           "#FECB52"
          ],
          "font": {
           "color": "#2a3f5f"
          },
          "geo": {
           "bgcolor": "white",
           "lakecolor": "white",
           "landcolor": "#E5ECF6",
           "showlakes": true,
           "showland": true,
           "subunitcolor": "white"
          },
          "hoverlabel": {
           "align": "left"
          },
          "hovermode": "closest",
          "mapbox": {
           "style": "light"
          },
          "paper_bgcolor": "white",
          "plot_bgcolor": "#E5ECF6",
          "polar": {
           "angularaxis": {
            "gridcolor": "white",
            "linecolor": "white",
            "ticks": ""
           },
           "bgcolor": "#E5ECF6",
           "radialaxis": {
            "gridcolor": "white",
            "linecolor": "white",
            "ticks": ""
           }
          },
          "scene": {
           "xaxis": {
            "backgroundcolor": "#E5ECF6",
            "gridcolor": "white",
            "gridwidth": 2,
            "linecolor": "white",
            "showbackground": true,
            "ticks": "",
            "zerolinecolor": "white"
           },
           "yaxis": {
            "backgroundcolor": "#E5ECF6",
            "gridcolor": "white",
            "gridwidth": 2,
            "linecolor": "white",
            "showbackground": true,
            "ticks": "",
            "zerolinecolor": "white"
           },
           "zaxis": {
            "backgroundcolor": "#E5ECF6",
            "gridcolor": "white",
            "gridwidth": 2,
            "linecolor": "white",
            "showbackground": true,
            "ticks": "",
            "zerolinecolor": "white"
           }
          },
          "shapedefaults": {
           "line": {
            "color": "#2a3f5f"
           }
          },
          "ternary": {
           "aaxis": {
            "gridcolor": "white",
            "linecolor": "white",
            "ticks": ""
           },
           "baxis": {
            "gridcolor": "white",
            "linecolor": "white",
            "ticks": ""
           },
           "bgcolor": "#E5ECF6",
           "caxis": {
            "gridcolor": "white",
            "linecolor": "white",
            "ticks": ""
           }
          },
          "title": {
           "x": 0.05
          },
          "xaxis": {
           "automargin": true,
           "gridcolor": "white",
           "linecolor": "white",
           "ticks": "",
           "title": {
            "standoff": 15
           },
           "zerolinecolor": "white",
           "zerolinewidth": 2
          },
          "yaxis": {
           "automargin": true,
           "gridcolor": "white",
           "linecolor": "white",
           "ticks": "",
           "title": {
            "standoff": 15
           },
           "zerolinecolor": "white",
           "zerolinewidth": 2
          }
         }
        },
        "xaxis": {
         "anchor": "y",
         "domain": [
          0,
          0.94
         ],
         "title": {
          "text": "Date"
         }
        },
        "yaxis": {
         "anchor": "x",
         "domain": [
          0,
          1
         ]
        },
        "yaxis2": {
         "anchor": "x",
         "overlaying": "y",
         "side": "right"
        }
       }
      }
     },
     "metadata": {},
     "output_type": "display_data"
    }
   ],
   "source": [
    "daily_mint_metrics_fig = make_subplots(specs=[[{\"secondary_y\": True}]])\n",
    "\n",
    "daily_mint_metrics_fig.add_trace(\n",
    "    go.Bar(\n",
    "        x=daily_mint_metrics.index,\n",
    "        y=daily_mint_metrics['mints'],\n",
    "        name='Mints'\n",
    "    ),\n",
    "    secondary_y=False\n",
    ")\n",
    "\n",
    "daily_mint_metrics_fig.add_trace(\n",
    "    go.Scatter(\n",
    "        x=daily_mint_metrics.index,\n",
    "        y=daily_mint_metrics['cumulative mints'],\n",
    "        name='Cumulative Mints',\n",
    "        mode='lines'\n",
    "    ),\n",
    "    secondary_y=True\n",
    ")\n",
    "\n",
    "daily_mint_metrics_fig.update_xaxes(title_text=\"Date\")\n",
    "\n",
    "# daily_mint_metrics_fig.show()\n"
   ]
  },
  {
   "cell_type": "code",
   "execution_count": 109,
   "metadata": {},
   "outputs": [
    {
     "data": {
      "text/plain": [
       "start_time\n",
       "2024-02-29   -32.00\n",
       "2024-03-31   -35.29\n",
       "2024-04-30   700.00\n",
       "2024-05-31    60.23\n",
       "2024-06-30   -46.10\n",
       "2024-07-31    80.26\n",
       "Freq: ME, Name: name, dtype: float64"
      ]
     },
     "execution_count": 109,
     "metadata": {},
     "output_type": "execute_result"
    }
   ],
   "source": [
    "listings_growth_rate"
   ]
  },
  {
   "cell_type": "code",
   "execution_count": 110,
   "metadata": {},
   "outputs": [],
   "source": [
    "listings_growth_rate_fig = px.bar(listings_growth_rate.to_frame('Monthly Listings Growth Rate'), x=listings_growth_rate.index,\n",
    "                                   y='Monthly Listings Growth Rate', title='Monthly Listings Growth Rate')\n",
    "\n",
    "# listings_growth_rate_fig.show()"
   ]
  },
  {
   "cell_type": "code",
   "execution_count": 111,
   "metadata": {},
   "outputs": [],
   "source": [
    "cumulative_box_sales = daily_box_sales.cumsum()\n"
   ]
  },
  {
   "cell_type": "code",
   "execution_count": 112,
   "metadata": {},
   "outputs": [
    {
     "name": "stderr",
     "output_type": "stream",
     "text": [
      "C:\\Users\\brandyns pc\\AppData\\Local\\Temp\\ipykernel_12168\\3455025639.py:1: FutureWarning:\n",
      "\n",
      "'M' is deprecated and will be removed in a future version, please use 'ME' instead.\n",
      "\n",
      "C:\\Users\\brandyns pc\\AppData\\Local\\Temp\\ipykernel_12168\\3455025639.py:2: FutureWarning:\n",
      "\n",
      "'M' is deprecated and will be removed in a future version, please use 'ME' instead.\n",
      "\n",
      "C:\\Users\\brandyns pc\\AppData\\Local\\Temp\\ipykernel_12168\\3455025639.py:3: FutureWarning:\n",
      "\n",
      "'M' is deprecated and will be removed in a future version, please use 'ME' instead.\n",
      "\n",
      "C:\\Users\\brandyns pc\\AppData\\Local\\Temp\\ipykernel_12168\\3455025639.py:4: FutureWarning:\n",
      "\n",
      "'M' is deprecated and will be removed in a future version, please use 'ME' instead.\n",
      "\n",
      "C:\\Users\\brandyns pc\\AppData\\Local\\Temp\\ipykernel_12168\\3455025639.py:5: FutureWarning:\n",
      "\n",
      "'M' is deprecated and will be removed in a future version, please use 'ME' instead.\n",
      "\n"
     ]
    }
   ],
   "source": [
    "monthly_max_sold = box_domains_sales['price_usd'].resample('M').max()\n",
    "monthly_min_sold = box_domains_sales['price_usd'].resample('M').min()\n",
    "monthly_avg_sold = box_domains_sales['price_usd'].resample('M').mean()\n",
    "monthly_volume_usd = box_domains_sales['price_usd'].resample('M').sum()\n",
    "monthly_num_sold = box_domains_sales['name'].resample('M').count()"
   ]
  },
  {
   "cell_type": "code",
   "execution_count": 113,
   "metadata": {},
   "outputs": [],
   "source": [
    "monthly_max_sold.fillna(0, inplace=True)\n",
    "monthly_min_sold.fillna(0, inplace=True)\n",
    "monthly_avg_sold.fillna(0, inplace=True)\n",
    "monthly_volume_usd.fillna(0, inplace=True)\n",
    "monthly_num_sold.fillna(0, inplace=True)"
   ]
  },
  {
   "cell_type": "code",
   "execution_count": 114,
   "metadata": {},
   "outputs": [],
   "source": [
    "monthly_box_sales_metrics = pd.merge(monthly_max_sold.to_frame('max_price'), monthly_min_sold.to_frame('min_price'), left_index=True, right_index=True, how='inner')"
   ]
  },
  {
   "cell_type": "code",
   "execution_count": 115,
   "metadata": {},
   "outputs": [],
   "source": [
    "monthly_box_sales_metrics = monthly_box_sales_metrics.merge(monthly_avg_sold.to_frame('avg_price'), left_index=True, right_index=True, how='inner')"
   ]
  },
  {
   "cell_type": "code",
   "execution_count": 116,
   "metadata": {},
   "outputs": [],
   "source": [
    "monthly_box_sales_metrics = monthly_box_sales_metrics.merge(monthly_volume_usd.to_frame('volume_usd'), left_index=True, right_index=True, how='inner')"
   ]
  },
  {
   "cell_type": "code",
   "execution_count": 117,
   "metadata": {},
   "outputs": [
    {
     "data": {
      "text/plain": [
       "day\n",
       "2024-02-29 00:00:00+00:00    13\n",
       "2024-03-31 00:00:00+00:00     0\n",
       "2024-04-30 00:00:00+00:00     7\n",
       "2024-05-31 00:00:00+00:00     1\n",
       "2024-06-30 00:00:00+00:00     0\n",
       "2024-07-31 00:00:00+00:00     2\n",
       "Freq: ME, Name: name, dtype: int64"
      ]
     },
     "execution_count": 117,
     "metadata": {},
     "output_type": "execute_result"
    }
   ],
   "source": [
    "monthly_num_sold"
   ]
  },
  {
   "cell_type": "code",
   "execution_count": 118,
   "metadata": {},
   "outputs": [],
   "source": [
    "monthly_box_sales_metrics = monthly_box_sales_metrics.merge(monthly_num_sold.to_frame('domains sold'), left_index=True, right_index=True, how='inner')"
   ]
  },
  {
   "cell_type": "code",
   "execution_count": 119,
   "metadata": {},
   "outputs": [
    {
     "data": {
      "text/html": [
       "<div>\n",
       "<style scoped>\n",
       "    .dataframe tbody tr th:only-of-type {\n",
       "        vertical-align: middle;\n",
       "    }\n",
       "\n",
       "    .dataframe tbody tr th {\n",
       "        vertical-align: top;\n",
       "    }\n",
       "\n",
       "    .dataframe thead th {\n",
       "        text-align: right;\n",
       "    }\n",
       "</style>\n",
       "<table border=\"1\" class=\"dataframe\">\n",
       "  <thead>\n",
       "    <tr style=\"text-align: right;\">\n",
       "      <th></th>\n",
       "      <th>max_price</th>\n",
       "      <th>min_price</th>\n",
       "      <th>avg_price</th>\n",
       "      <th>volume_usd</th>\n",
       "      <th>domains sold</th>\n",
       "    </tr>\n",
       "    <tr>\n",
       "      <th>day</th>\n",
       "      <th></th>\n",
       "      <th></th>\n",
       "      <th></th>\n",
       "      <th></th>\n",
       "      <th></th>\n",
       "    </tr>\n",
       "  </thead>\n",
       "  <tbody>\n",
       "    <tr>\n",
       "      <th>2024-02-29 00:00:00+00:00</th>\n",
       "      <td>301.73</td>\n",
       "      <td>33.09</td>\n",
       "      <td>162.08</td>\n",
       "      <td>2,107.05</td>\n",
       "      <td>13</td>\n",
       "    </tr>\n",
       "    <tr>\n",
       "      <th>2024-03-31 00:00:00+00:00</th>\n",
       "      <td>0.00</td>\n",
       "      <td>0.00</td>\n",
       "      <td>0.00</td>\n",
       "      <td>0.00</td>\n",
       "      <td>0</td>\n",
       "    </tr>\n",
       "    <tr>\n",
       "      <th>2024-04-30 00:00:00+00:00</th>\n",
       "      <td>31,481.47</td>\n",
       "      <td>29.61</td>\n",
       "      <td>4,801.89</td>\n",
       "      <td>33,613.26</td>\n",
       "      <td>7</td>\n",
       "    </tr>\n",
       "    <tr>\n",
       "      <th>2024-05-31 00:00:00+00:00</th>\n",
       "      <td>167.83</td>\n",
       "      <td>167.83</td>\n",
       "      <td>167.83</td>\n",
       "      <td>167.83</td>\n",
       "      <td>1</td>\n",
       "    </tr>\n",
       "    <tr>\n",
       "      <th>2024-06-30 00:00:00+00:00</th>\n",
       "      <td>0.00</td>\n",
       "      <td>0.00</td>\n",
       "      <td>0.00</td>\n",
       "      <td>0.00</td>\n",
       "      <td>0</td>\n",
       "    </tr>\n",
       "    <tr>\n",
       "      <th>2024-07-31 00:00:00+00:00</th>\n",
       "      <td>5.00</td>\n",
       "      <td>3.09</td>\n",
       "      <td>4.05</td>\n",
       "      <td>8.09</td>\n",
       "      <td>2</td>\n",
       "    </tr>\n",
       "  </tbody>\n",
       "</table>\n",
       "</div>"
      ],
      "text/plain": [
       "                           max_price  min_price  avg_price  volume_usd  \\\n",
       "day                                                                      \n",
       "2024-02-29 00:00:00+00:00     301.73      33.09     162.08    2,107.05   \n",
       "2024-03-31 00:00:00+00:00       0.00       0.00       0.00        0.00   \n",
       "2024-04-30 00:00:00+00:00  31,481.47      29.61   4,801.89   33,613.26   \n",
       "2024-05-31 00:00:00+00:00     167.83     167.83     167.83      167.83   \n",
       "2024-06-30 00:00:00+00:00       0.00       0.00       0.00        0.00   \n",
       "2024-07-31 00:00:00+00:00       5.00       3.09       4.05        8.09   \n",
       "\n",
       "                           domains sold  \n",
       "day                                      \n",
       "2024-02-29 00:00:00+00:00            13  \n",
       "2024-03-31 00:00:00+00:00             0  \n",
       "2024-04-30 00:00:00+00:00             7  \n",
       "2024-05-31 00:00:00+00:00             1  \n",
       "2024-06-30 00:00:00+00:00             0  \n",
       "2024-07-31 00:00:00+00:00             2  "
      ]
     },
     "execution_count": 119,
     "metadata": {},
     "output_type": "execute_result"
    }
   ],
   "source": [
    "monthly_box_sales_metrics"
   ]
  },
  {
   "cell_type": "code",
   "execution_count": 120,
   "metadata": {},
   "outputs": [],
   "source": [
    "daily_sales_metrics = pd.merge(cumulative_box_sales.to_frame('cumulative_sales'), daily_box_sales.to_frame('daily_sales'), \n",
    "                               left_index=True, right_index=True, how='left')"
   ]
  },
  {
   "cell_type": "code",
   "execution_count": 121,
   "metadata": {},
   "outputs": [],
   "source": [
    "daily_sales_metrics = daily_sales_metrics.merge(daily_box_vol.to_frame('vol_usd'), left_index=True, right_index=True, how='inner')\n",
    "daily_sales_metrics = daily_sales_metrics.merge(cumulative_box_vol.to_frame('cumulative_vol'), left_index=True, right_index=True, how='inner')"
   ]
  },
  {
   "cell_type": "code",
   "execution_count": 122,
   "metadata": {},
   "outputs": [
    {
     "data": {
      "text/html": [
       "<div>\n",
       "<style scoped>\n",
       "    .dataframe tbody tr th:only-of-type {\n",
       "        vertical-align: middle;\n",
       "    }\n",
       "\n",
       "    .dataframe tbody tr th {\n",
       "        vertical-align: top;\n",
       "    }\n",
       "\n",
       "    .dataframe thead th {\n",
       "        text-align: right;\n",
       "    }\n",
       "</style>\n",
       "<table border=\"1\" class=\"dataframe\">\n",
       "  <thead>\n",
       "    <tr style=\"text-align: right;\">\n",
       "      <th></th>\n",
       "      <th>cumulative_sales</th>\n",
       "      <th>daily_sales</th>\n",
       "      <th>vol_usd</th>\n",
       "      <th>cumulative_vol</th>\n",
       "    </tr>\n",
       "    <tr>\n",
       "      <th>day</th>\n",
       "      <th></th>\n",
       "      <th></th>\n",
       "      <th></th>\n",
       "      <th></th>\n",
       "    </tr>\n",
       "  </thead>\n",
       "  <tbody>\n",
       "    <tr>\n",
       "      <th>2024-02-03 00:00:00+00:00</th>\n",
       "      <td>1</td>\n",
       "      <td>1</td>\n",
       "      <td>33.09</td>\n",
       "      <td>33.09</td>\n",
       "    </tr>\n",
       "    <tr>\n",
       "      <th>2024-02-04 00:00:00+00:00</th>\n",
       "      <td>1</td>\n",
       "      <td>0</td>\n",
       "      <td>0.00</td>\n",
       "      <td>33.09</td>\n",
       "    </tr>\n",
       "    <tr>\n",
       "      <th>2024-02-05 00:00:00+00:00</th>\n",
       "      <td>2</td>\n",
       "      <td>1</td>\n",
       "      <td>45.60</td>\n",
       "      <td>78.69</td>\n",
       "    </tr>\n",
       "    <tr>\n",
       "      <th>2024-02-06 00:00:00+00:00</th>\n",
       "      <td>2</td>\n",
       "      <td>0</td>\n",
       "      <td>0.00</td>\n",
       "      <td>78.69</td>\n",
       "    </tr>\n",
       "    <tr>\n",
       "      <th>2024-02-07 00:00:00+00:00</th>\n",
       "      <td>2</td>\n",
       "      <td>0</td>\n",
       "      <td>0.00</td>\n",
       "      <td>78.69</td>\n",
       "    </tr>\n",
       "    <tr>\n",
       "      <th>...</th>\n",
       "      <td>...</td>\n",
       "      <td>...</td>\n",
       "      <td>...</td>\n",
       "      <td>...</td>\n",
       "    </tr>\n",
       "    <tr>\n",
       "      <th>2024-07-20 00:00:00+00:00</th>\n",
       "      <td>21</td>\n",
       "      <td>0</td>\n",
       "      <td>0.00</td>\n",
       "      <td>35,888.14</td>\n",
       "    </tr>\n",
       "    <tr>\n",
       "      <th>2024-07-21 00:00:00+00:00</th>\n",
       "      <td>21</td>\n",
       "      <td>0</td>\n",
       "      <td>0.00</td>\n",
       "      <td>35,888.14</td>\n",
       "    </tr>\n",
       "    <tr>\n",
       "      <th>2024-07-22 00:00:00+00:00</th>\n",
       "      <td>21</td>\n",
       "      <td>0</td>\n",
       "      <td>0.00</td>\n",
       "      <td>35,888.14</td>\n",
       "    </tr>\n",
       "    <tr>\n",
       "      <th>2024-07-23 00:00:00+00:00</th>\n",
       "      <td>22</td>\n",
       "      <td>1</td>\n",
       "      <td>5.00</td>\n",
       "      <td>35,893.14</td>\n",
       "    </tr>\n",
       "    <tr>\n",
       "      <th>2024-07-24 00:00:00+00:00</th>\n",
       "      <td>23</td>\n",
       "      <td>1</td>\n",
       "      <td>3.09</td>\n",
       "      <td>35,896.24</td>\n",
       "    </tr>\n",
       "  </tbody>\n",
       "</table>\n",
       "<p>173 rows × 4 columns</p>\n",
       "</div>"
      ],
      "text/plain": [
       "                           cumulative_sales  daily_sales  vol_usd  \\\n",
       "day                                                                 \n",
       "2024-02-03 00:00:00+00:00                 1            1    33.09   \n",
       "2024-02-04 00:00:00+00:00                 1            0     0.00   \n",
       "2024-02-05 00:00:00+00:00                 2            1    45.60   \n",
       "2024-02-06 00:00:00+00:00                 2            0     0.00   \n",
       "2024-02-07 00:00:00+00:00                 2            0     0.00   \n",
       "...                                     ...          ...      ...   \n",
       "2024-07-20 00:00:00+00:00                21            0     0.00   \n",
       "2024-07-21 00:00:00+00:00                21            0     0.00   \n",
       "2024-07-22 00:00:00+00:00                21            0     0.00   \n",
       "2024-07-23 00:00:00+00:00                22            1     5.00   \n",
       "2024-07-24 00:00:00+00:00                23            1     3.09   \n",
       "\n",
       "                           cumulative_vol  \n",
       "day                                        \n",
       "2024-02-03 00:00:00+00:00           33.09  \n",
       "2024-02-04 00:00:00+00:00           33.09  \n",
       "2024-02-05 00:00:00+00:00           78.69  \n",
       "2024-02-06 00:00:00+00:00           78.69  \n",
       "2024-02-07 00:00:00+00:00           78.69  \n",
       "...                                   ...  \n",
       "2024-07-20 00:00:00+00:00       35,888.14  \n",
       "2024-07-21 00:00:00+00:00       35,888.14  \n",
       "2024-07-22 00:00:00+00:00       35,888.14  \n",
       "2024-07-23 00:00:00+00:00       35,893.14  \n",
       "2024-07-24 00:00:00+00:00       35,896.24  \n",
       "\n",
       "[173 rows x 4 columns]"
      ]
     },
     "execution_count": 122,
     "metadata": {},
     "output_type": "execute_result"
    }
   ],
   "source": [
    "daily_sales_metrics"
   ]
  },
  {
   "cell_type": "code",
   "execution_count": 123,
   "metadata": {},
   "outputs": [
    {
     "data": {
      "application/vnd.plotly.v1+json": {
       "config": {
        "plotlyServerURL": "https://plot.ly"
       },
       "data": [
        {
         "name": "Sales Volume",
         "type": "bar",
         "x": [
          "2024-02-03T00:00:00+00:00",
          "2024-02-04T00:00:00+00:00",
          "2024-02-05T00:00:00+00:00",
          "2024-02-06T00:00:00+00:00",
          "2024-02-07T00:00:00+00:00",
          "2024-02-08T00:00:00+00:00",
          "2024-02-09T00:00:00+00:00",
          "2024-02-10T00:00:00+00:00",
          "2024-02-11T00:00:00+00:00",
          "2024-02-12T00:00:00+00:00",
          "2024-02-13T00:00:00+00:00",
          "2024-02-14T00:00:00+00:00",
          "2024-02-15T00:00:00+00:00",
          "2024-02-16T00:00:00+00:00",
          "2024-02-17T00:00:00+00:00",
          "2024-02-18T00:00:00+00:00",
          "2024-02-19T00:00:00+00:00",
          "2024-02-20T00:00:00+00:00",
          "2024-02-21T00:00:00+00:00",
          "2024-02-22T00:00:00+00:00",
          "2024-02-23T00:00:00+00:00",
          "2024-02-24T00:00:00+00:00",
          "2024-02-25T00:00:00+00:00",
          "2024-02-26T00:00:00+00:00",
          "2024-02-27T00:00:00+00:00",
          "2024-02-28T00:00:00+00:00",
          "2024-02-29T00:00:00+00:00",
          "2024-03-01T00:00:00+00:00",
          "2024-03-02T00:00:00+00:00",
          "2024-03-03T00:00:00+00:00",
          "2024-03-04T00:00:00+00:00",
          "2024-03-05T00:00:00+00:00",
          "2024-03-06T00:00:00+00:00",
          "2024-03-07T00:00:00+00:00",
          "2024-03-08T00:00:00+00:00",
          "2024-03-09T00:00:00+00:00",
          "2024-03-10T00:00:00+00:00",
          "2024-03-11T00:00:00+00:00",
          "2024-03-12T00:00:00+00:00",
          "2024-03-13T00:00:00+00:00",
          "2024-03-14T00:00:00+00:00",
          "2024-03-15T00:00:00+00:00",
          "2024-03-16T00:00:00+00:00",
          "2024-03-17T00:00:00+00:00",
          "2024-03-18T00:00:00+00:00",
          "2024-03-19T00:00:00+00:00",
          "2024-03-20T00:00:00+00:00",
          "2024-03-21T00:00:00+00:00",
          "2024-03-22T00:00:00+00:00",
          "2024-03-23T00:00:00+00:00",
          "2024-03-24T00:00:00+00:00",
          "2024-03-25T00:00:00+00:00",
          "2024-03-26T00:00:00+00:00",
          "2024-03-27T00:00:00+00:00",
          "2024-03-28T00:00:00+00:00",
          "2024-03-29T00:00:00+00:00",
          "2024-03-30T00:00:00+00:00",
          "2024-03-31T00:00:00+00:00",
          "2024-04-01T00:00:00+00:00",
          "2024-04-02T00:00:00+00:00",
          "2024-04-03T00:00:00+00:00",
          "2024-04-04T00:00:00+00:00",
          "2024-04-05T00:00:00+00:00",
          "2024-04-06T00:00:00+00:00",
          "2024-04-07T00:00:00+00:00",
          "2024-04-08T00:00:00+00:00",
          "2024-04-09T00:00:00+00:00",
          "2024-04-10T00:00:00+00:00",
          "2024-04-11T00:00:00+00:00",
          "2024-04-12T00:00:00+00:00",
          "2024-04-13T00:00:00+00:00",
          "2024-04-14T00:00:00+00:00",
          "2024-04-15T00:00:00+00:00",
          "2024-04-16T00:00:00+00:00",
          "2024-04-17T00:00:00+00:00",
          "2024-04-18T00:00:00+00:00",
          "2024-04-19T00:00:00+00:00",
          "2024-04-20T00:00:00+00:00",
          "2024-04-21T00:00:00+00:00",
          "2024-04-22T00:00:00+00:00",
          "2024-04-23T00:00:00+00:00",
          "2024-04-24T00:00:00+00:00",
          "2024-04-25T00:00:00+00:00",
          "2024-04-26T00:00:00+00:00",
          "2024-04-27T00:00:00+00:00",
          "2024-04-28T00:00:00+00:00",
          "2024-04-29T00:00:00+00:00",
          "2024-04-30T00:00:00+00:00",
          "2024-05-01T00:00:00+00:00",
          "2024-05-02T00:00:00+00:00",
          "2024-05-03T00:00:00+00:00",
          "2024-05-04T00:00:00+00:00",
          "2024-05-05T00:00:00+00:00",
          "2024-05-06T00:00:00+00:00",
          "2024-05-07T00:00:00+00:00",
          "2024-05-08T00:00:00+00:00",
          "2024-05-09T00:00:00+00:00",
          "2024-05-10T00:00:00+00:00",
          "2024-05-11T00:00:00+00:00",
          "2024-05-12T00:00:00+00:00",
          "2024-05-13T00:00:00+00:00",
          "2024-05-14T00:00:00+00:00",
          "2024-05-15T00:00:00+00:00",
          "2024-05-16T00:00:00+00:00",
          "2024-05-17T00:00:00+00:00",
          "2024-05-18T00:00:00+00:00",
          "2024-05-19T00:00:00+00:00",
          "2024-05-20T00:00:00+00:00",
          "2024-05-21T00:00:00+00:00",
          "2024-05-22T00:00:00+00:00",
          "2024-05-23T00:00:00+00:00",
          "2024-05-24T00:00:00+00:00",
          "2024-05-25T00:00:00+00:00",
          "2024-05-26T00:00:00+00:00",
          "2024-05-27T00:00:00+00:00",
          "2024-05-28T00:00:00+00:00",
          "2024-05-29T00:00:00+00:00",
          "2024-05-30T00:00:00+00:00",
          "2024-05-31T00:00:00+00:00",
          "2024-06-01T00:00:00+00:00",
          "2024-06-02T00:00:00+00:00",
          "2024-06-03T00:00:00+00:00",
          "2024-06-04T00:00:00+00:00",
          "2024-06-05T00:00:00+00:00",
          "2024-06-06T00:00:00+00:00",
          "2024-06-07T00:00:00+00:00",
          "2024-06-08T00:00:00+00:00",
          "2024-06-09T00:00:00+00:00",
          "2024-06-10T00:00:00+00:00",
          "2024-06-11T00:00:00+00:00",
          "2024-06-12T00:00:00+00:00",
          "2024-06-13T00:00:00+00:00",
          "2024-06-14T00:00:00+00:00",
          "2024-06-15T00:00:00+00:00",
          "2024-06-16T00:00:00+00:00",
          "2024-06-17T00:00:00+00:00",
          "2024-06-18T00:00:00+00:00",
          "2024-06-19T00:00:00+00:00",
          "2024-06-20T00:00:00+00:00",
          "2024-06-21T00:00:00+00:00",
          "2024-06-22T00:00:00+00:00",
          "2024-06-23T00:00:00+00:00",
          "2024-06-24T00:00:00+00:00",
          "2024-06-25T00:00:00+00:00",
          "2024-06-26T00:00:00+00:00",
          "2024-06-27T00:00:00+00:00",
          "2024-06-28T00:00:00+00:00",
          "2024-06-29T00:00:00+00:00",
          "2024-06-30T00:00:00+00:00",
          "2024-07-01T00:00:00+00:00",
          "2024-07-02T00:00:00+00:00",
          "2024-07-03T00:00:00+00:00",
          "2024-07-04T00:00:00+00:00",
          "2024-07-05T00:00:00+00:00",
          "2024-07-06T00:00:00+00:00",
          "2024-07-07T00:00:00+00:00",
          "2024-07-08T00:00:00+00:00",
          "2024-07-09T00:00:00+00:00",
          "2024-07-10T00:00:00+00:00",
          "2024-07-11T00:00:00+00:00",
          "2024-07-12T00:00:00+00:00",
          "2024-07-13T00:00:00+00:00",
          "2024-07-14T00:00:00+00:00",
          "2024-07-15T00:00:00+00:00",
          "2024-07-16T00:00:00+00:00",
          "2024-07-17T00:00:00+00:00",
          "2024-07-18T00:00:00+00:00",
          "2024-07-19T00:00:00+00:00",
          "2024-07-20T00:00:00+00:00",
          "2024-07-21T00:00:00+00:00",
          "2024-07-22T00:00:00+00:00",
          "2024-07-23T00:00:00+00:00",
          "2024-07-24T00:00:00+00:00"
         ],
         "xaxis": "x",
         "y": [
          33.0888864340656,
          0,
          45.60114997014001,
          0,
          0,
          0,
          0,
          96.97419001362302,
          0,
          0,
          0,
          0,
          0,
          0,
          0,
          0,
          0,
          203.18958598911001,
          0,
          116.73960233328,
          0,
          203.68114234888,
          1407.78011403854,
          0,
          0,
          0,
          0,
          0,
          0,
          0,
          0,
          0,
          0,
          0,
          0,
          0,
          0,
          0,
          0,
          0,
          0,
          0,
          0,
          0,
          0,
          0,
          0,
          0,
          0,
          0,
          0,
          0,
          0,
          0,
          0,
          0,
          0,
          0,
          0,
          0,
          0,
          0,
          0,
          0,
          0,
          0,
          0,
          0,
          0,
          0,
          0,
          0,
          0,
          0,
          29.61098097526,
          0,
          0,
          0,
          0,
          0,
          0,
          93.92336590291701,
          317.32758139960004,
          0,
          32633.182050176263,
          539.212776791123,
          0,
          0,
          0,
          0,
          0,
          0,
          0,
          0,
          167.83344872107,
          0,
          0,
          0,
          0,
          0,
          0,
          0,
          0,
          0,
          0,
          0,
          0,
          0,
          0,
          0,
          0,
          0,
          0,
          0,
          0,
          0,
          0,
          0,
          0,
          0,
          0,
          0,
          0,
          0,
          0,
          0,
          0,
          0,
          0,
          0,
          0,
          0,
          0,
          0,
          0,
          0,
          0,
          0,
          0,
          0,
          0,
          0,
          0,
          0,
          0,
          0,
          0,
          0,
          0,
          0,
          0,
          0,
          0,
          0,
          0,
          0,
          0,
          0,
          0,
          0,
          0,
          0,
          0,
          0,
          0,
          0,
          0,
          0,
          0,
          0,
          0,
          4.9971168,
          3.094749
         ],
         "yaxis": "y"
        },
        {
         "mode": "lines",
         "name": "Cumulative Sales Volume",
         "type": "scatter",
         "x": [
          "2024-02-03T00:00:00+00:00",
          "2024-02-04T00:00:00+00:00",
          "2024-02-05T00:00:00+00:00",
          "2024-02-06T00:00:00+00:00",
          "2024-02-07T00:00:00+00:00",
          "2024-02-08T00:00:00+00:00",
          "2024-02-09T00:00:00+00:00",
          "2024-02-10T00:00:00+00:00",
          "2024-02-11T00:00:00+00:00",
          "2024-02-12T00:00:00+00:00",
          "2024-02-13T00:00:00+00:00",
          "2024-02-14T00:00:00+00:00",
          "2024-02-15T00:00:00+00:00",
          "2024-02-16T00:00:00+00:00",
          "2024-02-17T00:00:00+00:00",
          "2024-02-18T00:00:00+00:00",
          "2024-02-19T00:00:00+00:00",
          "2024-02-20T00:00:00+00:00",
          "2024-02-21T00:00:00+00:00",
          "2024-02-22T00:00:00+00:00",
          "2024-02-23T00:00:00+00:00",
          "2024-02-24T00:00:00+00:00",
          "2024-02-25T00:00:00+00:00",
          "2024-02-26T00:00:00+00:00",
          "2024-02-27T00:00:00+00:00",
          "2024-02-28T00:00:00+00:00",
          "2024-02-29T00:00:00+00:00",
          "2024-03-01T00:00:00+00:00",
          "2024-03-02T00:00:00+00:00",
          "2024-03-03T00:00:00+00:00",
          "2024-03-04T00:00:00+00:00",
          "2024-03-05T00:00:00+00:00",
          "2024-03-06T00:00:00+00:00",
          "2024-03-07T00:00:00+00:00",
          "2024-03-08T00:00:00+00:00",
          "2024-03-09T00:00:00+00:00",
          "2024-03-10T00:00:00+00:00",
          "2024-03-11T00:00:00+00:00",
          "2024-03-12T00:00:00+00:00",
          "2024-03-13T00:00:00+00:00",
          "2024-03-14T00:00:00+00:00",
          "2024-03-15T00:00:00+00:00",
          "2024-03-16T00:00:00+00:00",
          "2024-03-17T00:00:00+00:00",
          "2024-03-18T00:00:00+00:00",
          "2024-03-19T00:00:00+00:00",
          "2024-03-20T00:00:00+00:00",
          "2024-03-21T00:00:00+00:00",
          "2024-03-22T00:00:00+00:00",
          "2024-03-23T00:00:00+00:00",
          "2024-03-24T00:00:00+00:00",
          "2024-03-25T00:00:00+00:00",
          "2024-03-26T00:00:00+00:00",
          "2024-03-27T00:00:00+00:00",
          "2024-03-28T00:00:00+00:00",
          "2024-03-29T00:00:00+00:00",
          "2024-03-30T00:00:00+00:00",
          "2024-03-31T00:00:00+00:00",
          "2024-04-01T00:00:00+00:00",
          "2024-04-02T00:00:00+00:00",
          "2024-04-03T00:00:00+00:00",
          "2024-04-04T00:00:00+00:00",
          "2024-04-05T00:00:00+00:00",
          "2024-04-06T00:00:00+00:00",
          "2024-04-07T00:00:00+00:00",
          "2024-04-08T00:00:00+00:00",
          "2024-04-09T00:00:00+00:00",
          "2024-04-10T00:00:00+00:00",
          "2024-04-11T00:00:00+00:00",
          "2024-04-12T00:00:00+00:00",
          "2024-04-13T00:00:00+00:00",
          "2024-04-14T00:00:00+00:00",
          "2024-04-15T00:00:00+00:00",
          "2024-04-16T00:00:00+00:00",
          "2024-04-17T00:00:00+00:00",
          "2024-04-18T00:00:00+00:00",
          "2024-04-19T00:00:00+00:00",
          "2024-04-20T00:00:00+00:00",
          "2024-04-21T00:00:00+00:00",
          "2024-04-22T00:00:00+00:00",
          "2024-04-23T00:00:00+00:00",
          "2024-04-24T00:00:00+00:00",
          "2024-04-25T00:00:00+00:00",
          "2024-04-26T00:00:00+00:00",
          "2024-04-27T00:00:00+00:00",
          "2024-04-28T00:00:00+00:00",
          "2024-04-29T00:00:00+00:00",
          "2024-04-30T00:00:00+00:00",
          "2024-05-01T00:00:00+00:00",
          "2024-05-02T00:00:00+00:00",
          "2024-05-03T00:00:00+00:00",
          "2024-05-04T00:00:00+00:00",
          "2024-05-05T00:00:00+00:00",
          "2024-05-06T00:00:00+00:00",
          "2024-05-07T00:00:00+00:00",
          "2024-05-08T00:00:00+00:00",
          "2024-05-09T00:00:00+00:00",
          "2024-05-10T00:00:00+00:00",
          "2024-05-11T00:00:00+00:00",
          "2024-05-12T00:00:00+00:00",
          "2024-05-13T00:00:00+00:00",
          "2024-05-14T00:00:00+00:00",
          "2024-05-15T00:00:00+00:00",
          "2024-05-16T00:00:00+00:00",
          "2024-05-17T00:00:00+00:00",
          "2024-05-18T00:00:00+00:00",
          "2024-05-19T00:00:00+00:00",
          "2024-05-20T00:00:00+00:00",
          "2024-05-21T00:00:00+00:00",
          "2024-05-22T00:00:00+00:00",
          "2024-05-23T00:00:00+00:00",
          "2024-05-24T00:00:00+00:00",
          "2024-05-25T00:00:00+00:00",
          "2024-05-26T00:00:00+00:00",
          "2024-05-27T00:00:00+00:00",
          "2024-05-28T00:00:00+00:00",
          "2024-05-29T00:00:00+00:00",
          "2024-05-30T00:00:00+00:00",
          "2024-05-31T00:00:00+00:00",
          "2024-06-01T00:00:00+00:00",
          "2024-06-02T00:00:00+00:00",
          "2024-06-03T00:00:00+00:00",
          "2024-06-04T00:00:00+00:00",
          "2024-06-05T00:00:00+00:00",
          "2024-06-06T00:00:00+00:00",
          "2024-06-07T00:00:00+00:00",
          "2024-06-08T00:00:00+00:00",
          "2024-06-09T00:00:00+00:00",
          "2024-06-10T00:00:00+00:00",
          "2024-06-11T00:00:00+00:00",
          "2024-06-12T00:00:00+00:00",
          "2024-06-13T00:00:00+00:00",
          "2024-06-14T00:00:00+00:00",
          "2024-06-15T00:00:00+00:00",
          "2024-06-16T00:00:00+00:00",
          "2024-06-17T00:00:00+00:00",
          "2024-06-18T00:00:00+00:00",
          "2024-06-19T00:00:00+00:00",
          "2024-06-20T00:00:00+00:00",
          "2024-06-21T00:00:00+00:00",
          "2024-06-22T00:00:00+00:00",
          "2024-06-23T00:00:00+00:00",
          "2024-06-24T00:00:00+00:00",
          "2024-06-25T00:00:00+00:00",
          "2024-06-26T00:00:00+00:00",
          "2024-06-27T00:00:00+00:00",
          "2024-06-28T00:00:00+00:00",
          "2024-06-29T00:00:00+00:00",
          "2024-06-30T00:00:00+00:00",
          "2024-07-01T00:00:00+00:00",
          "2024-07-02T00:00:00+00:00",
          "2024-07-03T00:00:00+00:00",
          "2024-07-04T00:00:00+00:00",
          "2024-07-05T00:00:00+00:00",
          "2024-07-06T00:00:00+00:00",
          "2024-07-07T00:00:00+00:00",
          "2024-07-08T00:00:00+00:00",
          "2024-07-09T00:00:00+00:00",
          "2024-07-10T00:00:00+00:00",
          "2024-07-11T00:00:00+00:00",
          "2024-07-12T00:00:00+00:00",
          "2024-07-13T00:00:00+00:00",
          "2024-07-14T00:00:00+00:00",
          "2024-07-15T00:00:00+00:00",
          "2024-07-16T00:00:00+00:00",
          "2024-07-17T00:00:00+00:00",
          "2024-07-18T00:00:00+00:00",
          "2024-07-19T00:00:00+00:00",
          "2024-07-20T00:00:00+00:00",
          "2024-07-21T00:00:00+00:00",
          "2024-07-22T00:00:00+00:00",
          "2024-07-23T00:00:00+00:00",
          "2024-07-24T00:00:00+00:00"
         ],
         "xaxis": "x",
         "y": [
          33.0888864340656,
          33.0888864340656,
          78.69003640420561,
          78.69003640420561,
          78.69003640420561,
          78.69003640420561,
          78.69003640420561,
          175.66422641782862,
          175.66422641782862,
          175.66422641782862,
          175.66422641782862,
          175.66422641782862,
          175.66422641782862,
          175.66422641782862,
          175.66422641782862,
          175.66422641782862,
          175.66422641782862,
          378.85381240693863,
          378.85381240693863,
          495.59341474021863,
          495.59341474021863,
          699.2745570890986,
          2107.0546711276384,
          2107.0546711276384,
          2107.0546711276384,
          2107.0546711276384,
          2107.0546711276384,
          2107.0546711276384,
          2107.0546711276384,
          2107.0546711276384,
          2107.0546711276384,
          2107.0546711276384,
          2107.0546711276384,
          2107.0546711276384,
          2107.0546711276384,
          2107.0546711276384,
          2107.0546711276384,
          2107.0546711276384,
          2107.0546711276384,
          2107.0546711276384,
          2107.0546711276384,
          2107.0546711276384,
          2107.0546711276384,
          2107.0546711276384,
          2107.0546711276384,
          2107.0546711276384,
          2107.0546711276384,
          2107.0546711276384,
          2107.0546711276384,
          2107.0546711276384,
          2107.0546711276384,
          2107.0546711276384,
          2107.0546711276384,
          2107.0546711276384,
          2107.0546711276384,
          2107.0546711276384,
          2107.0546711276384,
          2107.0546711276384,
          2107.0546711276384,
          2107.0546711276384,
          2107.0546711276384,
          2107.0546711276384,
          2107.0546711276384,
          2107.0546711276384,
          2107.0546711276384,
          2107.0546711276384,
          2107.0546711276384,
          2107.0546711276384,
          2107.0546711276384,
          2107.0546711276384,
          2107.0546711276384,
          2107.0546711276384,
          2107.0546711276384,
          2107.0546711276384,
          2136.6656521028985,
          2136.6656521028985,
          2136.6656521028985,
          2136.6656521028985,
          2136.6656521028985,
          2136.6656521028985,
          2136.6656521028985,
          2230.5890180058154,
          2547.9165994054156,
          2547.9165994054156,
          35181.098649581676,
          35720.3114263728,
          35720.3114263728,
          35720.3114263728,
          35720.3114263728,
          35720.3114263728,
          35720.3114263728,
          35720.3114263728,
          35720.3114263728,
          35720.3114263728,
          35888.144875093865,
          35888.144875093865,
          35888.144875093865,
          35888.144875093865,
          35888.144875093865,
          35888.144875093865,
          35888.144875093865,
          35888.144875093865,
          35888.144875093865,
          35888.144875093865,
          35888.144875093865,
          35888.144875093865,
          35888.144875093865,
          35888.144875093865,
          35888.144875093865,
          35888.144875093865,
          35888.144875093865,
          35888.144875093865,
          35888.144875093865,
          35888.144875093865,
          35888.144875093865,
          35888.144875093865,
          35888.144875093865,
          35888.144875093865,
          35888.144875093865,
          35888.144875093865,
          35888.144875093865,
          35888.144875093865,
          35888.144875093865,
          35888.144875093865,
          35888.144875093865,
          35888.144875093865,
          35888.144875093865,
          35888.144875093865,
          35888.144875093865,
          35888.144875093865,
          35888.144875093865,
          35888.144875093865,
          35888.144875093865,
          35888.144875093865,
          35888.144875093865,
          35888.144875093865,
          35888.144875093865,
          35888.144875093865,
          35888.144875093865,
          35888.144875093865,
          35888.144875093865,
          35888.144875093865,
          35888.144875093865,
          35888.144875093865,
          35888.144875093865,
          35888.144875093865,
          35888.144875093865,
          35888.144875093865,
          35888.144875093865,
          35888.144875093865,
          35888.144875093865,
          35888.144875093865,
          35888.144875093865,
          35888.144875093865,
          35888.144875093865,
          35888.144875093865,
          35888.144875093865,
          35888.144875093865,
          35888.144875093865,
          35888.144875093865,
          35888.144875093865,
          35888.144875093865,
          35888.144875093865,
          35888.144875093865,
          35888.144875093865,
          35888.144875093865,
          35888.144875093865,
          35888.144875093865,
          35888.144875093865,
          35888.144875093865,
          35888.144875093865,
          35893.14199189386,
          35896.236740893866
         ],
         "yaxis": "y2"
        }
       ],
       "layout": {
        "template": {
         "data": {
          "bar": [
           {
            "error_x": {
             "color": "#2a3f5f"
            },
            "error_y": {
             "color": "#2a3f5f"
            },
            "marker": {
             "line": {
              "color": "#E5ECF6",
              "width": 0.5
             },
             "pattern": {
              "fillmode": "overlay",
              "size": 10,
              "solidity": 0.2
             }
            },
            "type": "bar"
           }
          ],
          "barpolar": [
           {
            "marker": {
             "line": {
              "color": "#E5ECF6",
              "width": 0.5
             },
             "pattern": {
              "fillmode": "overlay",
              "size": 10,
              "solidity": 0.2
             }
            },
            "type": "barpolar"
           }
          ],
          "carpet": [
           {
            "aaxis": {
             "endlinecolor": "#2a3f5f",
             "gridcolor": "white",
             "linecolor": "white",
             "minorgridcolor": "white",
             "startlinecolor": "#2a3f5f"
            },
            "baxis": {
             "endlinecolor": "#2a3f5f",
             "gridcolor": "white",
             "linecolor": "white",
             "minorgridcolor": "white",
             "startlinecolor": "#2a3f5f"
            },
            "type": "carpet"
           }
          ],
          "choropleth": [
           {
            "colorbar": {
             "outlinewidth": 0,
             "ticks": ""
            },
            "type": "choropleth"
           }
          ],
          "contour": [
           {
            "colorbar": {
             "outlinewidth": 0,
             "ticks": ""
            },
            "colorscale": [
             [
              0,
              "#0d0887"
             ],
             [
              0.1111111111111111,
              "#46039f"
             ],
             [
              0.2222222222222222,
              "#7201a8"
             ],
             [
              0.3333333333333333,
              "#9c179e"
             ],
             [
              0.4444444444444444,
              "#bd3786"
             ],
             [
              0.5555555555555556,
              "#d8576b"
             ],
             [
              0.6666666666666666,
              "#ed7953"
             ],
             [
              0.7777777777777778,
              "#fb9f3a"
             ],
             [
              0.8888888888888888,
              "#fdca26"
             ],
             [
              1,
              "#f0f921"
             ]
            ],
            "type": "contour"
           }
          ],
          "contourcarpet": [
           {
            "colorbar": {
             "outlinewidth": 0,
             "ticks": ""
            },
            "type": "contourcarpet"
           }
          ],
          "heatmap": [
           {
            "colorbar": {
             "outlinewidth": 0,
             "ticks": ""
            },
            "colorscale": [
             [
              0,
              "#0d0887"
             ],
             [
              0.1111111111111111,
              "#46039f"
             ],
             [
              0.2222222222222222,
              "#7201a8"
             ],
             [
              0.3333333333333333,
              "#9c179e"
             ],
             [
              0.4444444444444444,
              "#bd3786"
             ],
             [
              0.5555555555555556,
              "#d8576b"
             ],
             [
              0.6666666666666666,
              "#ed7953"
             ],
             [
              0.7777777777777778,
              "#fb9f3a"
             ],
             [
              0.8888888888888888,
              "#fdca26"
             ],
             [
              1,
              "#f0f921"
             ]
            ],
            "type": "heatmap"
           }
          ],
          "heatmapgl": [
           {
            "colorbar": {
             "outlinewidth": 0,
             "ticks": ""
            },
            "colorscale": [
             [
              0,
              "#0d0887"
             ],
             [
              0.1111111111111111,
              "#46039f"
             ],
             [
              0.2222222222222222,
              "#7201a8"
             ],
             [
              0.3333333333333333,
              "#9c179e"
             ],
             [
              0.4444444444444444,
              "#bd3786"
             ],
             [
              0.5555555555555556,
              "#d8576b"
             ],
             [
              0.6666666666666666,
              "#ed7953"
             ],
             [
              0.7777777777777778,
              "#fb9f3a"
             ],
             [
              0.8888888888888888,
              "#fdca26"
             ],
             [
              1,
              "#f0f921"
             ]
            ],
            "type": "heatmapgl"
           }
          ],
          "histogram": [
           {
            "marker": {
             "pattern": {
              "fillmode": "overlay",
              "size": 10,
              "solidity": 0.2
             }
            },
            "type": "histogram"
           }
          ],
          "histogram2d": [
           {
            "colorbar": {
             "outlinewidth": 0,
             "ticks": ""
            },
            "colorscale": [
             [
              0,
              "#0d0887"
             ],
             [
              0.1111111111111111,
              "#46039f"
             ],
             [
              0.2222222222222222,
              "#7201a8"
             ],
             [
              0.3333333333333333,
              "#9c179e"
             ],
             [
              0.4444444444444444,
              "#bd3786"
             ],
             [
              0.5555555555555556,
              "#d8576b"
             ],
             [
              0.6666666666666666,
              "#ed7953"
             ],
             [
              0.7777777777777778,
              "#fb9f3a"
             ],
             [
              0.8888888888888888,
              "#fdca26"
             ],
             [
              1,
              "#f0f921"
             ]
            ],
            "type": "histogram2d"
           }
          ],
          "histogram2dcontour": [
           {
            "colorbar": {
             "outlinewidth": 0,
             "ticks": ""
            },
            "colorscale": [
             [
              0,
              "#0d0887"
             ],
             [
              0.1111111111111111,
              "#46039f"
             ],
             [
              0.2222222222222222,
              "#7201a8"
             ],
             [
              0.3333333333333333,
              "#9c179e"
             ],
             [
              0.4444444444444444,
              "#bd3786"
             ],
             [
              0.5555555555555556,
              "#d8576b"
             ],
             [
              0.6666666666666666,
              "#ed7953"
             ],
             [
              0.7777777777777778,
              "#fb9f3a"
             ],
             [
              0.8888888888888888,
              "#fdca26"
             ],
             [
              1,
              "#f0f921"
             ]
            ],
            "type": "histogram2dcontour"
           }
          ],
          "mesh3d": [
           {
            "colorbar": {
             "outlinewidth": 0,
             "ticks": ""
            },
            "type": "mesh3d"
           }
          ],
          "parcoords": [
           {
            "line": {
             "colorbar": {
              "outlinewidth": 0,
              "ticks": ""
             }
            },
            "type": "parcoords"
           }
          ],
          "pie": [
           {
            "automargin": true,
            "type": "pie"
           }
          ],
          "scatter": [
           {
            "fillpattern": {
             "fillmode": "overlay",
             "size": 10,
             "solidity": 0.2
            },
            "type": "scatter"
           }
          ],
          "scatter3d": [
           {
            "line": {
             "colorbar": {
              "outlinewidth": 0,
              "ticks": ""
             }
            },
            "marker": {
             "colorbar": {
              "outlinewidth": 0,
              "ticks": ""
             }
            },
            "type": "scatter3d"
           }
          ],
          "scattercarpet": [
           {
            "marker": {
             "colorbar": {
              "outlinewidth": 0,
              "ticks": ""
             }
            },
            "type": "scattercarpet"
           }
          ],
          "scattergeo": [
           {
            "marker": {
             "colorbar": {
              "outlinewidth": 0,
              "ticks": ""
             }
            },
            "type": "scattergeo"
           }
          ],
          "scattergl": [
           {
            "marker": {
             "colorbar": {
              "outlinewidth": 0,
              "ticks": ""
             }
            },
            "type": "scattergl"
           }
          ],
          "scattermapbox": [
           {
            "marker": {
             "colorbar": {
              "outlinewidth": 0,
              "ticks": ""
             }
            },
            "type": "scattermapbox"
           }
          ],
          "scatterpolar": [
           {
            "marker": {
             "colorbar": {
              "outlinewidth": 0,
              "ticks": ""
             }
            },
            "type": "scatterpolar"
           }
          ],
          "scatterpolargl": [
           {
            "marker": {
             "colorbar": {
              "outlinewidth": 0,
              "ticks": ""
             }
            },
            "type": "scatterpolargl"
           }
          ],
          "scatterternary": [
           {
            "marker": {
             "colorbar": {
              "outlinewidth": 0,
              "ticks": ""
             }
            },
            "type": "scatterternary"
           }
          ],
          "surface": [
           {
            "colorbar": {
             "outlinewidth": 0,
             "ticks": ""
            },
            "colorscale": [
             [
              0,
              "#0d0887"
             ],
             [
              0.1111111111111111,
              "#46039f"
             ],
             [
              0.2222222222222222,
              "#7201a8"
             ],
             [
              0.3333333333333333,
              "#9c179e"
             ],
             [
              0.4444444444444444,
              "#bd3786"
             ],
             [
              0.5555555555555556,
              "#d8576b"
             ],
             [
              0.6666666666666666,
              "#ed7953"
             ],
             [
              0.7777777777777778,
              "#fb9f3a"
             ],
             [
              0.8888888888888888,
              "#fdca26"
             ],
             [
              1,
              "#f0f921"
             ]
            ],
            "type": "surface"
           }
          ],
          "table": [
           {
            "cells": {
             "fill": {
              "color": "#EBF0F8"
             },
             "line": {
              "color": "white"
             }
            },
            "header": {
             "fill": {
              "color": "#C8D4E3"
             },
             "line": {
              "color": "white"
             }
            },
            "type": "table"
           }
          ]
         },
         "layout": {
          "annotationdefaults": {
           "arrowcolor": "#2a3f5f",
           "arrowhead": 0,
           "arrowwidth": 1
          },
          "autotypenumbers": "strict",
          "coloraxis": {
           "colorbar": {
            "outlinewidth": 0,
            "ticks": ""
           }
          },
          "colorscale": {
           "diverging": [
            [
             0,
             "#8e0152"
            ],
            [
             0.1,
             "#c51b7d"
            ],
            [
             0.2,
             "#de77ae"
            ],
            [
             0.3,
             "#f1b6da"
            ],
            [
             0.4,
             "#fde0ef"
            ],
            [
             0.5,
             "#f7f7f7"
            ],
            [
             0.6,
             "#e6f5d0"
            ],
            [
             0.7,
             "#b8e186"
            ],
            [
             0.8,
             "#7fbc41"
            ],
            [
             0.9,
             "#4d9221"
            ],
            [
             1,
             "#276419"
            ]
           ],
           "sequential": [
            [
             0,
             "#0d0887"
            ],
            [
             0.1111111111111111,
             "#46039f"
            ],
            [
             0.2222222222222222,
             "#7201a8"
            ],
            [
             0.3333333333333333,
             "#9c179e"
            ],
            [
             0.4444444444444444,
             "#bd3786"
            ],
            [
             0.5555555555555556,
             "#d8576b"
            ],
            [
             0.6666666666666666,
             "#ed7953"
            ],
            [
             0.7777777777777778,
             "#fb9f3a"
            ],
            [
             0.8888888888888888,
             "#fdca26"
            ],
            [
             1,
             "#f0f921"
            ]
           ],
           "sequentialminus": [
            [
             0,
             "#0d0887"
            ],
            [
             0.1111111111111111,
             "#46039f"
            ],
            [
             0.2222222222222222,
             "#7201a8"
            ],
            [
             0.3333333333333333,
             "#9c179e"
            ],
            [
             0.4444444444444444,
             "#bd3786"
            ],
            [
             0.5555555555555556,
             "#d8576b"
            ],
            [
             0.6666666666666666,
             "#ed7953"
            ],
            [
             0.7777777777777778,
             "#fb9f3a"
            ],
            [
             0.8888888888888888,
             "#fdca26"
            ],
            [
             1,
             "#f0f921"
            ]
           ]
          },
          "colorway": [
           "#636efa",
           "#EF553B",
           "#00cc96",
           "#ab63fa",
           "#FFA15A",
           "#19d3f3",
           "#FF6692",
           "#B6E880",
           "#FF97FF",
           "#FECB52"
          ],
          "font": {
           "color": "#2a3f5f"
          },
          "geo": {
           "bgcolor": "white",
           "lakecolor": "white",
           "landcolor": "#E5ECF6",
           "showlakes": true,
           "showland": true,
           "subunitcolor": "white"
          },
          "hoverlabel": {
           "align": "left"
          },
          "hovermode": "closest",
          "mapbox": {
           "style": "light"
          },
          "paper_bgcolor": "white",
          "plot_bgcolor": "#E5ECF6",
          "polar": {
           "angularaxis": {
            "gridcolor": "white",
            "linecolor": "white",
            "ticks": ""
           },
           "bgcolor": "#E5ECF6",
           "radialaxis": {
            "gridcolor": "white",
            "linecolor": "white",
            "ticks": ""
           }
          },
          "scene": {
           "xaxis": {
            "backgroundcolor": "#E5ECF6",
            "gridcolor": "white",
            "gridwidth": 2,
            "linecolor": "white",
            "showbackground": true,
            "ticks": "",
            "zerolinecolor": "white"
           },
           "yaxis": {
            "backgroundcolor": "#E5ECF6",
            "gridcolor": "white",
            "gridwidth": 2,
            "linecolor": "white",
            "showbackground": true,
            "ticks": "",
            "zerolinecolor": "white"
           },
           "zaxis": {
            "backgroundcolor": "#E5ECF6",
            "gridcolor": "white",
            "gridwidth": 2,
            "linecolor": "white",
            "showbackground": true,
            "ticks": "",
            "zerolinecolor": "white"
           }
          },
          "shapedefaults": {
           "line": {
            "color": "#2a3f5f"
           }
          },
          "ternary": {
           "aaxis": {
            "gridcolor": "white",
            "linecolor": "white",
            "ticks": ""
           },
           "baxis": {
            "gridcolor": "white",
            "linecolor": "white",
            "ticks": ""
           },
           "bgcolor": "#E5ECF6",
           "caxis": {
            "gridcolor": "white",
            "linecolor": "white",
            "ticks": ""
           }
          },
          "title": {
           "x": 0.05
          },
          "xaxis": {
           "automargin": true,
           "gridcolor": "white",
           "linecolor": "white",
           "ticks": "",
           "title": {
            "standoff": 15
           },
           "zerolinecolor": "white",
           "zerolinewidth": 2
          },
          "yaxis": {
           "automargin": true,
           "gridcolor": "white",
           "linecolor": "white",
           "ticks": "",
           "title": {
            "standoff": 15
           },
           "zerolinecolor": "white",
           "zerolinewidth": 2
          }
         }
        },
        "xaxis": {
         "anchor": "y",
         "domain": [
          0,
          0.94
         ],
         "title": {
          "text": "Date"
         }
        },
        "yaxis": {
         "anchor": "x",
         "domain": [
          0,
          1
         ]
        },
        "yaxis2": {
         "anchor": "x",
         "overlaying": "y",
         "side": "right"
        }
       }
      }
     },
     "metadata": {},
     "output_type": "display_data"
    }
   ],
   "source": [
    "daily_vol_fig = make_subplots(specs=[[{\"secondary_y\": True}]])\n",
    "\n",
    "daily_vol_fig.add_trace(\n",
    "    go.Bar(\n",
    "        x=daily_sales_metrics.index,\n",
    "        y=daily_sales_metrics['vol_usd'],\n",
    "        name='Sales Volume'\n",
    "    ),\n",
    "    secondary_y=False\n",
    ")\n",
    "\n",
    "daily_vol_fig.add_trace(\n",
    "    go.Scatter(\n",
    "        x=daily_sales_metrics.index,\n",
    "        y=daily_sales_metrics['cumulative_vol'],\n",
    "        name='Cumulative Sales Volume',\n",
    "        mode='lines'\n",
    "    ),\n",
    "    secondary_y=True\n",
    ")\n",
    "\n",
    "daily_vol_fig.update_xaxes(title_text=\"Date\")\n",
    "\n",
    "# daily_vol_fig.show()\n"
   ]
  },
  {
   "cell_type": "code",
   "execution_count": 124,
   "metadata": {},
   "outputs": [
    {
     "data": {
      "application/vnd.plotly.v1+json": {
       "config": {
        "plotlyServerURL": "https://plot.ly"
       },
       "data": [
        {
         "name": "Sales",
         "type": "bar",
         "x": [
          "2024-02-03T00:00:00+00:00",
          "2024-02-04T00:00:00+00:00",
          "2024-02-05T00:00:00+00:00",
          "2024-02-06T00:00:00+00:00",
          "2024-02-07T00:00:00+00:00",
          "2024-02-08T00:00:00+00:00",
          "2024-02-09T00:00:00+00:00",
          "2024-02-10T00:00:00+00:00",
          "2024-02-11T00:00:00+00:00",
          "2024-02-12T00:00:00+00:00",
          "2024-02-13T00:00:00+00:00",
          "2024-02-14T00:00:00+00:00",
          "2024-02-15T00:00:00+00:00",
          "2024-02-16T00:00:00+00:00",
          "2024-02-17T00:00:00+00:00",
          "2024-02-18T00:00:00+00:00",
          "2024-02-19T00:00:00+00:00",
          "2024-02-20T00:00:00+00:00",
          "2024-02-21T00:00:00+00:00",
          "2024-02-22T00:00:00+00:00",
          "2024-02-23T00:00:00+00:00",
          "2024-02-24T00:00:00+00:00",
          "2024-02-25T00:00:00+00:00",
          "2024-02-26T00:00:00+00:00",
          "2024-02-27T00:00:00+00:00",
          "2024-02-28T00:00:00+00:00",
          "2024-02-29T00:00:00+00:00",
          "2024-03-01T00:00:00+00:00",
          "2024-03-02T00:00:00+00:00",
          "2024-03-03T00:00:00+00:00",
          "2024-03-04T00:00:00+00:00",
          "2024-03-05T00:00:00+00:00",
          "2024-03-06T00:00:00+00:00",
          "2024-03-07T00:00:00+00:00",
          "2024-03-08T00:00:00+00:00",
          "2024-03-09T00:00:00+00:00",
          "2024-03-10T00:00:00+00:00",
          "2024-03-11T00:00:00+00:00",
          "2024-03-12T00:00:00+00:00",
          "2024-03-13T00:00:00+00:00",
          "2024-03-14T00:00:00+00:00",
          "2024-03-15T00:00:00+00:00",
          "2024-03-16T00:00:00+00:00",
          "2024-03-17T00:00:00+00:00",
          "2024-03-18T00:00:00+00:00",
          "2024-03-19T00:00:00+00:00",
          "2024-03-20T00:00:00+00:00",
          "2024-03-21T00:00:00+00:00",
          "2024-03-22T00:00:00+00:00",
          "2024-03-23T00:00:00+00:00",
          "2024-03-24T00:00:00+00:00",
          "2024-03-25T00:00:00+00:00",
          "2024-03-26T00:00:00+00:00",
          "2024-03-27T00:00:00+00:00",
          "2024-03-28T00:00:00+00:00",
          "2024-03-29T00:00:00+00:00",
          "2024-03-30T00:00:00+00:00",
          "2024-03-31T00:00:00+00:00",
          "2024-04-01T00:00:00+00:00",
          "2024-04-02T00:00:00+00:00",
          "2024-04-03T00:00:00+00:00",
          "2024-04-04T00:00:00+00:00",
          "2024-04-05T00:00:00+00:00",
          "2024-04-06T00:00:00+00:00",
          "2024-04-07T00:00:00+00:00",
          "2024-04-08T00:00:00+00:00",
          "2024-04-09T00:00:00+00:00",
          "2024-04-10T00:00:00+00:00",
          "2024-04-11T00:00:00+00:00",
          "2024-04-12T00:00:00+00:00",
          "2024-04-13T00:00:00+00:00",
          "2024-04-14T00:00:00+00:00",
          "2024-04-15T00:00:00+00:00",
          "2024-04-16T00:00:00+00:00",
          "2024-04-17T00:00:00+00:00",
          "2024-04-18T00:00:00+00:00",
          "2024-04-19T00:00:00+00:00",
          "2024-04-20T00:00:00+00:00",
          "2024-04-21T00:00:00+00:00",
          "2024-04-22T00:00:00+00:00",
          "2024-04-23T00:00:00+00:00",
          "2024-04-24T00:00:00+00:00",
          "2024-04-25T00:00:00+00:00",
          "2024-04-26T00:00:00+00:00",
          "2024-04-27T00:00:00+00:00",
          "2024-04-28T00:00:00+00:00",
          "2024-04-29T00:00:00+00:00",
          "2024-04-30T00:00:00+00:00",
          "2024-05-01T00:00:00+00:00",
          "2024-05-02T00:00:00+00:00",
          "2024-05-03T00:00:00+00:00",
          "2024-05-04T00:00:00+00:00",
          "2024-05-05T00:00:00+00:00",
          "2024-05-06T00:00:00+00:00",
          "2024-05-07T00:00:00+00:00",
          "2024-05-08T00:00:00+00:00",
          "2024-05-09T00:00:00+00:00",
          "2024-05-10T00:00:00+00:00",
          "2024-05-11T00:00:00+00:00",
          "2024-05-12T00:00:00+00:00",
          "2024-05-13T00:00:00+00:00",
          "2024-05-14T00:00:00+00:00",
          "2024-05-15T00:00:00+00:00",
          "2024-05-16T00:00:00+00:00",
          "2024-05-17T00:00:00+00:00",
          "2024-05-18T00:00:00+00:00",
          "2024-05-19T00:00:00+00:00",
          "2024-05-20T00:00:00+00:00",
          "2024-05-21T00:00:00+00:00",
          "2024-05-22T00:00:00+00:00",
          "2024-05-23T00:00:00+00:00",
          "2024-05-24T00:00:00+00:00",
          "2024-05-25T00:00:00+00:00",
          "2024-05-26T00:00:00+00:00",
          "2024-05-27T00:00:00+00:00",
          "2024-05-28T00:00:00+00:00",
          "2024-05-29T00:00:00+00:00",
          "2024-05-30T00:00:00+00:00",
          "2024-05-31T00:00:00+00:00",
          "2024-06-01T00:00:00+00:00",
          "2024-06-02T00:00:00+00:00",
          "2024-06-03T00:00:00+00:00",
          "2024-06-04T00:00:00+00:00",
          "2024-06-05T00:00:00+00:00",
          "2024-06-06T00:00:00+00:00",
          "2024-06-07T00:00:00+00:00",
          "2024-06-08T00:00:00+00:00",
          "2024-06-09T00:00:00+00:00",
          "2024-06-10T00:00:00+00:00",
          "2024-06-11T00:00:00+00:00",
          "2024-06-12T00:00:00+00:00",
          "2024-06-13T00:00:00+00:00",
          "2024-06-14T00:00:00+00:00",
          "2024-06-15T00:00:00+00:00",
          "2024-06-16T00:00:00+00:00",
          "2024-06-17T00:00:00+00:00",
          "2024-06-18T00:00:00+00:00",
          "2024-06-19T00:00:00+00:00",
          "2024-06-20T00:00:00+00:00",
          "2024-06-21T00:00:00+00:00",
          "2024-06-22T00:00:00+00:00",
          "2024-06-23T00:00:00+00:00",
          "2024-06-24T00:00:00+00:00",
          "2024-06-25T00:00:00+00:00",
          "2024-06-26T00:00:00+00:00",
          "2024-06-27T00:00:00+00:00",
          "2024-06-28T00:00:00+00:00",
          "2024-06-29T00:00:00+00:00",
          "2024-06-30T00:00:00+00:00",
          "2024-07-01T00:00:00+00:00",
          "2024-07-02T00:00:00+00:00",
          "2024-07-03T00:00:00+00:00",
          "2024-07-04T00:00:00+00:00",
          "2024-07-05T00:00:00+00:00",
          "2024-07-06T00:00:00+00:00",
          "2024-07-07T00:00:00+00:00",
          "2024-07-08T00:00:00+00:00",
          "2024-07-09T00:00:00+00:00",
          "2024-07-10T00:00:00+00:00",
          "2024-07-11T00:00:00+00:00",
          "2024-07-12T00:00:00+00:00",
          "2024-07-13T00:00:00+00:00",
          "2024-07-14T00:00:00+00:00",
          "2024-07-15T00:00:00+00:00",
          "2024-07-16T00:00:00+00:00",
          "2024-07-17T00:00:00+00:00",
          "2024-07-18T00:00:00+00:00",
          "2024-07-19T00:00:00+00:00",
          "2024-07-20T00:00:00+00:00",
          "2024-07-21T00:00:00+00:00",
          "2024-07-22T00:00:00+00:00",
          "2024-07-23T00:00:00+00:00",
          "2024-07-24T00:00:00+00:00"
         ],
         "xaxis": "x",
         "y": [
          1,
          0,
          1,
          0,
          0,
          0,
          0,
          1,
          0,
          0,
          0,
          0,
          0,
          0,
          0,
          0,
          0,
          1,
          0,
          1,
          0,
          1,
          7,
          0,
          0,
          0,
          0,
          0,
          0,
          0,
          0,
          0,
          0,
          0,
          0,
          0,
          0,
          0,
          0,
          0,
          0,
          0,
          0,
          0,
          0,
          0,
          0,
          0,
          0,
          0,
          0,
          0,
          0,
          0,
          0,
          0,
          0,
          0,
          0,
          0,
          0,
          0,
          0,
          0,
          0,
          0,
          0,
          0,
          0,
          0,
          0,
          0,
          0,
          0,
          1,
          0,
          0,
          0,
          0,
          0,
          0,
          1,
          1,
          0,
          2,
          2,
          0,
          0,
          0,
          0,
          0,
          0,
          0,
          0,
          1,
          0,
          0,
          0,
          0,
          0,
          0,
          0,
          0,
          0,
          0,
          0,
          0,
          0,
          0,
          0,
          0,
          0,
          0,
          0,
          0,
          0,
          0,
          0,
          0,
          0,
          0,
          0,
          0,
          0,
          0,
          0,
          0,
          0,
          0,
          0,
          0,
          0,
          0,
          0,
          0,
          0,
          0,
          0,
          0,
          0,
          0,
          0,
          0,
          0,
          0,
          0,
          0,
          0,
          0,
          0,
          0,
          0,
          0,
          0,
          0,
          0,
          0,
          0,
          0,
          0,
          0,
          0,
          0,
          0,
          0,
          0,
          0,
          0,
          0,
          0,
          0,
          1,
          1
         ],
         "yaxis": "y"
        },
        {
         "mode": "lines",
         "name": "Cumulative Sales",
         "type": "scatter",
         "x": [
          "2024-02-03T00:00:00+00:00",
          "2024-02-04T00:00:00+00:00",
          "2024-02-05T00:00:00+00:00",
          "2024-02-06T00:00:00+00:00",
          "2024-02-07T00:00:00+00:00",
          "2024-02-08T00:00:00+00:00",
          "2024-02-09T00:00:00+00:00",
          "2024-02-10T00:00:00+00:00",
          "2024-02-11T00:00:00+00:00",
          "2024-02-12T00:00:00+00:00",
          "2024-02-13T00:00:00+00:00",
          "2024-02-14T00:00:00+00:00",
          "2024-02-15T00:00:00+00:00",
          "2024-02-16T00:00:00+00:00",
          "2024-02-17T00:00:00+00:00",
          "2024-02-18T00:00:00+00:00",
          "2024-02-19T00:00:00+00:00",
          "2024-02-20T00:00:00+00:00",
          "2024-02-21T00:00:00+00:00",
          "2024-02-22T00:00:00+00:00",
          "2024-02-23T00:00:00+00:00",
          "2024-02-24T00:00:00+00:00",
          "2024-02-25T00:00:00+00:00",
          "2024-02-26T00:00:00+00:00",
          "2024-02-27T00:00:00+00:00",
          "2024-02-28T00:00:00+00:00",
          "2024-02-29T00:00:00+00:00",
          "2024-03-01T00:00:00+00:00",
          "2024-03-02T00:00:00+00:00",
          "2024-03-03T00:00:00+00:00",
          "2024-03-04T00:00:00+00:00",
          "2024-03-05T00:00:00+00:00",
          "2024-03-06T00:00:00+00:00",
          "2024-03-07T00:00:00+00:00",
          "2024-03-08T00:00:00+00:00",
          "2024-03-09T00:00:00+00:00",
          "2024-03-10T00:00:00+00:00",
          "2024-03-11T00:00:00+00:00",
          "2024-03-12T00:00:00+00:00",
          "2024-03-13T00:00:00+00:00",
          "2024-03-14T00:00:00+00:00",
          "2024-03-15T00:00:00+00:00",
          "2024-03-16T00:00:00+00:00",
          "2024-03-17T00:00:00+00:00",
          "2024-03-18T00:00:00+00:00",
          "2024-03-19T00:00:00+00:00",
          "2024-03-20T00:00:00+00:00",
          "2024-03-21T00:00:00+00:00",
          "2024-03-22T00:00:00+00:00",
          "2024-03-23T00:00:00+00:00",
          "2024-03-24T00:00:00+00:00",
          "2024-03-25T00:00:00+00:00",
          "2024-03-26T00:00:00+00:00",
          "2024-03-27T00:00:00+00:00",
          "2024-03-28T00:00:00+00:00",
          "2024-03-29T00:00:00+00:00",
          "2024-03-30T00:00:00+00:00",
          "2024-03-31T00:00:00+00:00",
          "2024-04-01T00:00:00+00:00",
          "2024-04-02T00:00:00+00:00",
          "2024-04-03T00:00:00+00:00",
          "2024-04-04T00:00:00+00:00",
          "2024-04-05T00:00:00+00:00",
          "2024-04-06T00:00:00+00:00",
          "2024-04-07T00:00:00+00:00",
          "2024-04-08T00:00:00+00:00",
          "2024-04-09T00:00:00+00:00",
          "2024-04-10T00:00:00+00:00",
          "2024-04-11T00:00:00+00:00",
          "2024-04-12T00:00:00+00:00",
          "2024-04-13T00:00:00+00:00",
          "2024-04-14T00:00:00+00:00",
          "2024-04-15T00:00:00+00:00",
          "2024-04-16T00:00:00+00:00",
          "2024-04-17T00:00:00+00:00",
          "2024-04-18T00:00:00+00:00",
          "2024-04-19T00:00:00+00:00",
          "2024-04-20T00:00:00+00:00",
          "2024-04-21T00:00:00+00:00",
          "2024-04-22T00:00:00+00:00",
          "2024-04-23T00:00:00+00:00",
          "2024-04-24T00:00:00+00:00",
          "2024-04-25T00:00:00+00:00",
          "2024-04-26T00:00:00+00:00",
          "2024-04-27T00:00:00+00:00",
          "2024-04-28T00:00:00+00:00",
          "2024-04-29T00:00:00+00:00",
          "2024-04-30T00:00:00+00:00",
          "2024-05-01T00:00:00+00:00",
          "2024-05-02T00:00:00+00:00",
          "2024-05-03T00:00:00+00:00",
          "2024-05-04T00:00:00+00:00",
          "2024-05-05T00:00:00+00:00",
          "2024-05-06T00:00:00+00:00",
          "2024-05-07T00:00:00+00:00",
          "2024-05-08T00:00:00+00:00",
          "2024-05-09T00:00:00+00:00",
          "2024-05-10T00:00:00+00:00",
          "2024-05-11T00:00:00+00:00",
          "2024-05-12T00:00:00+00:00",
          "2024-05-13T00:00:00+00:00",
          "2024-05-14T00:00:00+00:00",
          "2024-05-15T00:00:00+00:00",
          "2024-05-16T00:00:00+00:00",
          "2024-05-17T00:00:00+00:00",
          "2024-05-18T00:00:00+00:00",
          "2024-05-19T00:00:00+00:00",
          "2024-05-20T00:00:00+00:00",
          "2024-05-21T00:00:00+00:00",
          "2024-05-22T00:00:00+00:00",
          "2024-05-23T00:00:00+00:00",
          "2024-05-24T00:00:00+00:00",
          "2024-05-25T00:00:00+00:00",
          "2024-05-26T00:00:00+00:00",
          "2024-05-27T00:00:00+00:00",
          "2024-05-28T00:00:00+00:00",
          "2024-05-29T00:00:00+00:00",
          "2024-05-30T00:00:00+00:00",
          "2024-05-31T00:00:00+00:00",
          "2024-06-01T00:00:00+00:00",
          "2024-06-02T00:00:00+00:00",
          "2024-06-03T00:00:00+00:00",
          "2024-06-04T00:00:00+00:00",
          "2024-06-05T00:00:00+00:00",
          "2024-06-06T00:00:00+00:00",
          "2024-06-07T00:00:00+00:00",
          "2024-06-08T00:00:00+00:00",
          "2024-06-09T00:00:00+00:00",
          "2024-06-10T00:00:00+00:00",
          "2024-06-11T00:00:00+00:00",
          "2024-06-12T00:00:00+00:00",
          "2024-06-13T00:00:00+00:00",
          "2024-06-14T00:00:00+00:00",
          "2024-06-15T00:00:00+00:00",
          "2024-06-16T00:00:00+00:00",
          "2024-06-17T00:00:00+00:00",
          "2024-06-18T00:00:00+00:00",
          "2024-06-19T00:00:00+00:00",
          "2024-06-20T00:00:00+00:00",
          "2024-06-21T00:00:00+00:00",
          "2024-06-22T00:00:00+00:00",
          "2024-06-23T00:00:00+00:00",
          "2024-06-24T00:00:00+00:00",
          "2024-06-25T00:00:00+00:00",
          "2024-06-26T00:00:00+00:00",
          "2024-06-27T00:00:00+00:00",
          "2024-06-28T00:00:00+00:00",
          "2024-06-29T00:00:00+00:00",
          "2024-06-30T00:00:00+00:00",
          "2024-07-01T00:00:00+00:00",
          "2024-07-02T00:00:00+00:00",
          "2024-07-03T00:00:00+00:00",
          "2024-07-04T00:00:00+00:00",
          "2024-07-05T00:00:00+00:00",
          "2024-07-06T00:00:00+00:00",
          "2024-07-07T00:00:00+00:00",
          "2024-07-08T00:00:00+00:00",
          "2024-07-09T00:00:00+00:00",
          "2024-07-10T00:00:00+00:00",
          "2024-07-11T00:00:00+00:00",
          "2024-07-12T00:00:00+00:00",
          "2024-07-13T00:00:00+00:00",
          "2024-07-14T00:00:00+00:00",
          "2024-07-15T00:00:00+00:00",
          "2024-07-16T00:00:00+00:00",
          "2024-07-17T00:00:00+00:00",
          "2024-07-18T00:00:00+00:00",
          "2024-07-19T00:00:00+00:00",
          "2024-07-20T00:00:00+00:00",
          "2024-07-21T00:00:00+00:00",
          "2024-07-22T00:00:00+00:00",
          "2024-07-23T00:00:00+00:00",
          "2024-07-24T00:00:00+00:00"
         ],
         "xaxis": "x",
         "y": [
          1,
          1,
          2,
          2,
          2,
          2,
          2,
          3,
          3,
          3,
          3,
          3,
          3,
          3,
          3,
          3,
          3,
          4,
          4,
          5,
          5,
          6,
          13,
          13,
          13,
          13,
          13,
          13,
          13,
          13,
          13,
          13,
          13,
          13,
          13,
          13,
          13,
          13,
          13,
          13,
          13,
          13,
          13,
          13,
          13,
          13,
          13,
          13,
          13,
          13,
          13,
          13,
          13,
          13,
          13,
          13,
          13,
          13,
          13,
          13,
          13,
          13,
          13,
          13,
          13,
          13,
          13,
          13,
          13,
          13,
          13,
          13,
          13,
          13,
          14,
          14,
          14,
          14,
          14,
          14,
          14,
          15,
          16,
          16,
          18,
          20,
          20,
          20,
          20,
          20,
          20,
          20,
          20,
          20,
          21,
          21,
          21,
          21,
          21,
          21,
          21,
          21,
          21,
          21,
          21,
          21,
          21,
          21,
          21,
          21,
          21,
          21,
          21,
          21,
          21,
          21,
          21,
          21,
          21,
          21,
          21,
          21,
          21,
          21,
          21,
          21,
          21,
          21,
          21,
          21,
          21,
          21,
          21,
          21,
          21,
          21,
          21,
          21,
          21,
          21,
          21,
          21,
          21,
          21,
          21,
          21,
          21,
          21,
          21,
          21,
          21,
          21,
          21,
          21,
          21,
          21,
          21,
          21,
          21,
          21,
          21,
          21,
          21,
          21,
          21,
          21,
          21,
          21,
          21,
          21,
          21,
          22,
          23
         ],
         "yaxis": "y2"
        }
       ],
       "layout": {
        "template": {
         "data": {
          "bar": [
           {
            "error_x": {
             "color": "#2a3f5f"
            },
            "error_y": {
             "color": "#2a3f5f"
            },
            "marker": {
             "line": {
              "color": "#E5ECF6",
              "width": 0.5
             },
             "pattern": {
              "fillmode": "overlay",
              "size": 10,
              "solidity": 0.2
             }
            },
            "type": "bar"
           }
          ],
          "barpolar": [
           {
            "marker": {
             "line": {
              "color": "#E5ECF6",
              "width": 0.5
             },
             "pattern": {
              "fillmode": "overlay",
              "size": 10,
              "solidity": 0.2
             }
            },
            "type": "barpolar"
           }
          ],
          "carpet": [
           {
            "aaxis": {
             "endlinecolor": "#2a3f5f",
             "gridcolor": "white",
             "linecolor": "white",
             "minorgridcolor": "white",
             "startlinecolor": "#2a3f5f"
            },
            "baxis": {
             "endlinecolor": "#2a3f5f",
             "gridcolor": "white",
             "linecolor": "white",
             "minorgridcolor": "white",
             "startlinecolor": "#2a3f5f"
            },
            "type": "carpet"
           }
          ],
          "choropleth": [
           {
            "colorbar": {
             "outlinewidth": 0,
             "ticks": ""
            },
            "type": "choropleth"
           }
          ],
          "contour": [
           {
            "colorbar": {
             "outlinewidth": 0,
             "ticks": ""
            },
            "colorscale": [
             [
              0,
              "#0d0887"
             ],
             [
              0.1111111111111111,
              "#46039f"
             ],
             [
              0.2222222222222222,
              "#7201a8"
             ],
             [
              0.3333333333333333,
              "#9c179e"
             ],
             [
              0.4444444444444444,
              "#bd3786"
             ],
             [
              0.5555555555555556,
              "#d8576b"
             ],
             [
              0.6666666666666666,
              "#ed7953"
             ],
             [
              0.7777777777777778,
              "#fb9f3a"
             ],
             [
              0.8888888888888888,
              "#fdca26"
             ],
             [
              1,
              "#f0f921"
             ]
            ],
            "type": "contour"
           }
          ],
          "contourcarpet": [
           {
            "colorbar": {
             "outlinewidth": 0,
             "ticks": ""
            },
            "type": "contourcarpet"
           }
          ],
          "heatmap": [
           {
            "colorbar": {
             "outlinewidth": 0,
             "ticks": ""
            },
            "colorscale": [
             [
              0,
              "#0d0887"
             ],
             [
              0.1111111111111111,
              "#46039f"
             ],
             [
              0.2222222222222222,
              "#7201a8"
             ],
             [
              0.3333333333333333,
              "#9c179e"
             ],
             [
              0.4444444444444444,
              "#bd3786"
             ],
             [
              0.5555555555555556,
              "#d8576b"
             ],
             [
              0.6666666666666666,
              "#ed7953"
             ],
             [
              0.7777777777777778,
              "#fb9f3a"
             ],
             [
              0.8888888888888888,
              "#fdca26"
             ],
             [
              1,
              "#f0f921"
             ]
            ],
            "type": "heatmap"
           }
          ],
          "heatmapgl": [
           {
            "colorbar": {
             "outlinewidth": 0,
             "ticks": ""
            },
            "colorscale": [
             [
              0,
              "#0d0887"
             ],
             [
              0.1111111111111111,
              "#46039f"
             ],
             [
              0.2222222222222222,
              "#7201a8"
             ],
             [
              0.3333333333333333,
              "#9c179e"
             ],
             [
              0.4444444444444444,
              "#bd3786"
             ],
             [
              0.5555555555555556,
              "#d8576b"
             ],
             [
              0.6666666666666666,
              "#ed7953"
             ],
             [
              0.7777777777777778,
              "#fb9f3a"
             ],
             [
              0.8888888888888888,
              "#fdca26"
             ],
             [
              1,
              "#f0f921"
             ]
            ],
            "type": "heatmapgl"
           }
          ],
          "histogram": [
           {
            "marker": {
             "pattern": {
              "fillmode": "overlay",
              "size": 10,
              "solidity": 0.2
             }
            },
            "type": "histogram"
           }
          ],
          "histogram2d": [
           {
            "colorbar": {
             "outlinewidth": 0,
             "ticks": ""
            },
            "colorscale": [
             [
              0,
              "#0d0887"
             ],
             [
              0.1111111111111111,
              "#46039f"
             ],
             [
              0.2222222222222222,
              "#7201a8"
             ],
             [
              0.3333333333333333,
              "#9c179e"
             ],
             [
              0.4444444444444444,
              "#bd3786"
             ],
             [
              0.5555555555555556,
              "#d8576b"
             ],
             [
              0.6666666666666666,
              "#ed7953"
             ],
             [
              0.7777777777777778,
              "#fb9f3a"
             ],
             [
              0.8888888888888888,
              "#fdca26"
             ],
             [
              1,
              "#f0f921"
             ]
            ],
            "type": "histogram2d"
           }
          ],
          "histogram2dcontour": [
           {
            "colorbar": {
             "outlinewidth": 0,
             "ticks": ""
            },
            "colorscale": [
             [
              0,
              "#0d0887"
             ],
             [
              0.1111111111111111,
              "#46039f"
             ],
             [
              0.2222222222222222,
              "#7201a8"
             ],
             [
              0.3333333333333333,
              "#9c179e"
             ],
             [
              0.4444444444444444,
              "#bd3786"
             ],
             [
              0.5555555555555556,
              "#d8576b"
             ],
             [
              0.6666666666666666,
              "#ed7953"
             ],
             [
              0.7777777777777778,
              "#fb9f3a"
             ],
             [
              0.8888888888888888,
              "#fdca26"
             ],
             [
              1,
              "#f0f921"
             ]
            ],
            "type": "histogram2dcontour"
           }
          ],
          "mesh3d": [
           {
            "colorbar": {
             "outlinewidth": 0,
             "ticks": ""
            },
            "type": "mesh3d"
           }
          ],
          "parcoords": [
           {
            "line": {
             "colorbar": {
              "outlinewidth": 0,
              "ticks": ""
             }
            },
            "type": "parcoords"
           }
          ],
          "pie": [
           {
            "automargin": true,
            "type": "pie"
           }
          ],
          "scatter": [
           {
            "fillpattern": {
             "fillmode": "overlay",
             "size": 10,
             "solidity": 0.2
            },
            "type": "scatter"
           }
          ],
          "scatter3d": [
           {
            "line": {
             "colorbar": {
              "outlinewidth": 0,
              "ticks": ""
             }
            },
            "marker": {
             "colorbar": {
              "outlinewidth": 0,
              "ticks": ""
             }
            },
            "type": "scatter3d"
           }
          ],
          "scattercarpet": [
           {
            "marker": {
             "colorbar": {
              "outlinewidth": 0,
              "ticks": ""
             }
            },
            "type": "scattercarpet"
           }
          ],
          "scattergeo": [
           {
            "marker": {
             "colorbar": {
              "outlinewidth": 0,
              "ticks": ""
             }
            },
            "type": "scattergeo"
           }
          ],
          "scattergl": [
           {
            "marker": {
             "colorbar": {
              "outlinewidth": 0,
              "ticks": ""
             }
            },
            "type": "scattergl"
           }
          ],
          "scattermapbox": [
           {
            "marker": {
             "colorbar": {
              "outlinewidth": 0,
              "ticks": ""
             }
            },
            "type": "scattermapbox"
           }
          ],
          "scatterpolar": [
           {
            "marker": {
             "colorbar": {
              "outlinewidth": 0,
              "ticks": ""
             }
            },
            "type": "scatterpolar"
           }
          ],
          "scatterpolargl": [
           {
            "marker": {
             "colorbar": {
              "outlinewidth": 0,
              "ticks": ""
             }
            },
            "type": "scatterpolargl"
           }
          ],
          "scatterternary": [
           {
            "marker": {
             "colorbar": {
              "outlinewidth": 0,
              "ticks": ""
             }
            },
            "type": "scatterternary"
           }
          ],
          "surface": [
           {
            "colorbar": {
             "outlinewidth": 0,
             "ticks": ""
            },
            "colorscale": [
             [
              0,
              "#0d0887"
             ],
             [
              0.1111111111111111,
              "#46039f"
             ],
             [
              0.2222222222222222,
              "#7201a8"
             ],
             [
              0.3333333333333333,
              "#9c179e"
             ],
             [
              0.4444444444444444,
              "#bd3786"
             ],
             [
              0.5555555555555556,
              "#d8576b"
             ],
             [
              0.6666666666666666,
              "#ed7953"
             ],
             [
              0.7777777777777778,
              "#fb9f3a"
             ],
             [
              0.8888888888888888,
              "#fdca26"
             ],
             [
              1,
              "#f0f921"
             ]
            ],
            "type": "surface"
           }
          ],
          "table": [
           {
            "cells": {
             "fill": {
              "color": "#EBF0F8"
             },
             "line": {
              "color": "white"
             }
            },
            "header": {
             "fill": {
              "color": "#C8D4E3"
             },
             "line": {
              "color": "white"
             }
            },
            "type": "table"
           }
          ]
         },
         "layout": {
          "annotationdefaults": {
           "arrowcolor": "#2a3f5f",
           "arrowhead": 0,
           "arrowwidth": 1
          },
          "autotypenumbers": "strict",
          "coloraxis": {
           "colorbar": {
            "outlinewidth": 0,
            "ticks": ""
           }
          },
          "colorscale": {
           "diverging": [
            [
             0,
             "#8e0152"
            ],
            [
             0.1,
             "#c51b7d"
            ],
            [
             0.2,
             "#de77ae"
            ],
            [
             0.3,
             "#f1b6da"
            ],
            [
             0.4,
             "#fde0ef"
            ],
            [
             0.5,
             "#f7f7f7"
            ],
            [
             0.6,
             "#e6f5d0"
            ],
            [
             0.7,
             "#b8e186"
            ],
            [
             0.8,
             "#7fbc41"
            ],
            [
             0.9,
             "#4d9221"
            ],
            [
             1,
             "#276419"
            ]
           ],
           "sequential": [
            [
             0,
             "#0d0887"
            ],
            [
             0.1111111111111111,
             "#46039f"
            ],
            [
             0.2222222222222222,
             "#7201a8"
            ],
            [
             0.3333333333333333,
             "#9c179e"
            ],
            [
             0.4444444444444444,
             "#bd3786"
            ],
            [
             0.5555555555555556,
             "#d8576b"
            ],
            [
             0.6666666666666666,
             "#ed7953"
            ],
            [
             0.7777777777777778,
             "#fb9f3a"
            ],
            [
             0.8888888888888888,
             "#fdca26"
            ],
            [
             1,
             "#f0f921"
            ]
           ],
           "sequentialminus": [
            [
             0,
             "#0d0887"
            ],
            [
             0.1111111111111111,
             "#46039f"
            ],
            [
             0.2222222222222222,
             "#7201a8"
            ],
            [
             0.3333333333333333,
             "#9c179e"
            ],
            [
             0.4444444444444444,
             "#bd3786"
            ],
            [
             0.5555555555555556,
             "#d8576b"
            ],
            [
             0.6666666666666666,
             "#ed7953"
            ],
            [
             0.7777777777777778,
             "#fb9f3a"
            ],
            [
             0.8888888888888888,
             "#fdca26"
            ],
            [
             1,
             "#f0f921"
            ]
           ]
          },
          "colorway": [
           "#636efa",
           "#EF553B",
           "#00cc96",
           "#ab63fa",
           "#FFA15A",
           "#19d3f3",
           "#FF6692",
           "#B6E880",
           "#FF97FF",
           "#FECB52"
          ],
          "font": {
           "color": "#2a3f5f"
          },
          "geo": {
           "bgcolor": "white",
           "lakecolor": "white",
           "landcolor": "#E5ECF6",
           "showlakes": true,
           "showland": true,
           "subunitcolor": "white"
          },
          "hoverlabel": {
           "align": "left"
          },
          "hovermode": "closest",
          "mapbox": {
           "style": "light"
          },
          "paper_bgcolor": "white",
          "plot_bgcolor": "#E5ECF6",
          "polar": {
           "angularaxis": {
            "gridcolor": "white",
            "linecolor": "white",
            "ticks": ""
           },
           "bgcolor": "#E5ECF6",
           "radialaxis": {
            "gridcolor": "white",
            "linecolor": "white",
            "ticks": ""
           }
          },
          "scene": {
           "xaxis": {
            "backgroundcolor": "#E5ECF6",
            "gridcolor": "white",
            "gridwidth": 2,
            "linecolor": "white",
            "showbackground": true,
            "ticks": "",
            "zerolinecolor": "white"
           },
           "yaxis": {
            "backgroundcolor": "#E5ECF6",
            "gridcolor": "white",
            "gridwidth": 2,
            "linecolor": "white",
            "showbackground": true,
            "ticks": "",
            "zerolinecolor": "white"
           },
           "zaxis": {
            "backgroundcolor": "#E5ECF6",
            "gridcolor": "white",
            "gridwidth": 2,
            "linecolor": "white",
            "showbackground": true,
            "ticks": "",
            "zerolinecolor": "white"
           }
          },
          "shapedefaults": {
           "line": {
            "color": "#2a3f5f"
           }
          },
          "ternary": {
           "aaxis": {
            "gridcolor": "white",
            "linecolor": "white",
            "ticks": ""
           },
           "baxis": {
            "gridcolor": "white",
            "linecolor": "white",
            "ticks": ""
           },
           "bgcolor": "#E5ECF6",
           "caxis": {
            "gridcolor": "white",
            "linecolor": "white",
            "ticks": ""
           }
          },
          "title": {
           "x": 0.05
          },
          "xaxis": {
           "automargin": true,
           "gridcolor": "white",
           "linecolor": "white",
           "ticks": "",
           "title": {
            "standoff": 15
           },
           "zerolinecolor": "white",
           "zerolinewidth": 2
          },
          "yaxis": {
           "automargin": true,
           "gridcolor": "white",
           "linecolor": "white",
           "ticks": "",
           "title": {
            "standoff": 15
           },
           "zerolinecolor": "white",
           "zerolinewidth": 2
          }
         }
        },
        "xaxis": {
         "anchor": "y",
         "domain": [
          0,
          0.94
         ],
         "title": {
          "text": "Date"
         }
        },
        "yaxis": {
         "anchor": "x",
         "domain": [
          0,
          1
         ]
        },
        "yaxis2": {
         "anchor": "x",
         "overlaying": "y",
         "side": "right"
        }
       }
      }
     },
     "metadata": {},
     "output_type": "display_data"
    }
   ],
   "source": [
    "daily_sales_fig = make_subplots(specs=[[{\"secondary_y\": True}]])\n",
    "\n",
    "daily_sales_fig.add_trace(\n",
    "    go.Bar(\n",
    "        x=daily_sales_metrics.index,\n",
    "        y=daily_sales_metrics['daily_sales'],\n",
    "        name='Sales'\n",
    "    ),\n",
    "    secondary_y=False\n",
    ")\n",
    "\n",
    "daily_sales_fig.add_trace(\n",
    "    go.Scatter(\n",
    "        x=daily_sales_metrics.index,\n",
    "        y=daily_sales_metrics['cumulative_sales'],\n",
    "        name='Cumulative Sales',\n",
    "        mode='lines'\n",
    "    ),\n",
    "    secondary_y=True\n",
    ")\n",
    "\n",
    "daily_sales_fig.update_xaxes(title_text=\"Date\")\n",
    "\n",
    "# daily_sales_fig.show()\n"
   ]
  },
  {
   "cell_type": "code",
   "execution_count": 125,
   "metadata": {},
   "outputs": [],
   "source": [
    "monthly_listings = monthly_listings.to_frame('listings')\n"
   ]
  },
  {
   "cell_type": "code",
   "execution_count": 126,
   "metadata": {},
   "outputs": [
    {
     "name": "stderr",
     "output_type": "stream",
     "text": [
      "C:\\Users\\brandyns pc\\AppData\\Local\\Temp\\ipykernel_12168\\2388482189.py:1: FutureWarning:\n",
      "\n",
      "'M' is deprecated and will be removed in a future version, please use 'ME' instead.\n",
      "\n"
     ]
    }
   ],
   "source": [
    "monthly_sales = box_domains_sales['name'].resample('M').count()\n",
    "monthly_sales = monthly_sales.reset_index()\n",
    "monthly_sales['day'] = pd.to_datetime(monthly_sales['day']).dt.strftime('%Y-%m-%d')\n",
    "monthly_sales.set_index('day', inplace=True)"
   ]
  },
  {
   "cell_type": "code",
   "execution_count": 127,
   "metadata": {},
   "outputs": [
    {
     "data": {
      "text/html": [
       "<div>\n",
       "<style scoped>\n",
       "    .dataframe tbody tr th:only-of-type {\n",
       "        vertical-align: middle;\n",
       "    }\n",
       "\n",
       "    .dataframe tbody tr th {\n",
       "        vertical-align: top;\n",
       "    }\n",
       "\n",
       "    .dataframe thead th {\n",
       "        text-align: right;\n",
       "    }\n",
       "</style>\n",
       "<table border=\"1\" class=\"dataframe\">\n",
       "  <thead>\n",
       "    <tr style=\"text-align: right;\">\n",
       "      <th></th>\n",
       "      <th>name</th>\n",
       "    </tr>\n",
       "    <tr>\n",
       "      <th>day</th>\n",
       "      <th></th>\n",
       "    </tr>\n",
       "  </thead>\n",
       "  <tbody>\n",
       "    <tr>\n",
       "      <th>2024-02-29</th>\n",
       "      <td>13</td>\n",
       "    </tr>\n",
       "    <tr>\n",
       "      <th>2024-03-31</th>\n",
       "      <td>0</td>\n",
       "    </tr>\n",
       "    <tr>\n",
       "      <th>2024-04-30</th>\n",
       "      <td>7</td>\n",
       "    </tr>\n",
       "    <tr>\n",
       "      <th>2024-05-31</th>\n",
       "      <td>1</td>\n",
       "    </tr>\n",
       "    <tr>\n",
       "      <th>2024-06-30</th>\n",
       "      <td>0</td>\n",
       "    </tr>\n",
       "    <tr>\n",
       "      <th>2024-07-31</th>\n",
       "      <td>2</td>\n",
       "    </tr>\n",
       "  </tbody>\n",
       "</table>\n",
       "</div>"
      ],
      "text/plain": [
       "            name\n",
       "day             \n",
       "2024-02-29    13\n",
       "2024-03-31     0\n",
       "2024-04-30     7\n",
       "2024-05-31     1\n",
       "2024-06-30     0\n",
       "2024-07-31     2"
      ]
     },
     "execution_count": 127,
     "metadata": {},
     "output_type": "execute_result"
    }
   ],
   "source": [
    "monthly_sales"
   ]
  },
  {
   "cell_type": "code",
   "execution_count": 128,
   "metadata": {},
   "outputs": [
    {
     "data": {
      "text/plain": [
       "DatetimeIndex(['2024-01-31', '2024-02-29', '2024-03-31', '2024-04-30',\n",
       "               '2024-05-31', '2024-06-30', '2024-07-31'],\n",
       "              dtype='datetime64[ns]', name='start_time', freq='ME')"
      ]
     },
     "execution_count": 128,
     "metadata": {},
     "output_type": "execute_result"
    }
   ],
   "source": [
    "monthly_listings.index"
   ]
  },
  {
   "cell_type": "code",
   "execution_count": 129,
   "metadata": {},
   "outputs": [],
   "source": [
    "monthly_sales.index = pd.to_datetime(monthly_sales.index)"
   ]
  },
  {
   "cell_type": "code",
   "execution_count": 130,
   "metadata": {},
   "outputs": [
    {
     "data": {
      "text/html": [
       "<div>\n",
       "<style scoped>\n",
       "    .dataframe tbody tr th:only-of-type {\n",
       "        vertical-align: middle;\n",
       "    }\n",
       "\n",
       "    .dataframe tbody tr th {\n",
       "        vertical-align: top;\n",
       "    }\n",
       "\n",
       "    .dataframe thead th {\n",
       "        text-align: right;\n",
       "    }\n",
       "</style>\n",
       "<table border=\"1\" class=\"dataframe\">\n",
       "  <thead>\n",
       "    <tr style=\"text-align: right;\">\n",
       "      <th></th>\n",
       "      <th>name</th>\n",
       "    </tr>\n",
       "    <tr>\n",
       "      <th>start_time</th>\n",
       "      <th></th>\n",
       "    </tr>\n",
       "  </thead>\n",
       "  <tbody>\n",
       "    <tr>\n",
       "      <th>2024-01-31</th>\n",
       "      <td>0.00</td>\n",
       "    </tr>\n",
       "    <tr>\n",
       "      <th>2024-02-29</th>\n",
       "      <td>13.00</td>\n",
       "    </tr>\n",
       "    <tr>\n",
       "      <th>2024-03-31</th>\n",
       "      <td>0.00</td>\n",
       "    </tr>\n",
       "    <tr>\n",
       "      <th>2024-04-30</th>\n",
       "      <td>7.00</td>\n",
       "    </tr>\n",
       "    <tr>\n",
       "      <th>2024-05-31</th>\n",
       "      <td>1.00</td>\n",
       "    </tr>\n",
       "    <tr>\n",
       "      <th>2024-06-30</th>\n",
       "      <td>0.00</td>\n",
       "    </tr>\n",
       "    <tr>\n",
       "      <th>2024-07-31</th>\n",
       "      <td>2.00</td>\n",
       "    </tr>\n",
       "  </tbody>\n",
       "</table>\n",
       "</div>"
      ],
      "text/plain": [
       "            name\n",
       "start_time      \n",
       "2024-01-31  0.00\n",
       "2024-02-29 13.00\n",
       "2024-03-31  0.00\n",
       "2024-04-30  7.00\n",
       "2024-05-31  1.00\n",
       "2024-06-30  0.00\n",
       "2024-07-31  2.00"
      ]
     },
     "execution_count": 130,
     "metadata": {},
     "output_type": "execute_result"
    }
   ],
   "source": [
    "monthly_sales_reindexed = monthly_sales.reindex(monthly_listings.index).fillna(0)\n",
    "monthly_sales_reindexed\n"
   ]
  },
  {
   "cell_type": "code",
   "execution_count": 131,
   "metadata": {},
   "outputs": [],
   "source": [
    "monthly_listings['sales'] = monthly_sales_reindexed['name']"
   ]
  },
  {
   "cell_type": "code",
   "execution_count": 132,
   "metadata": {},
   "outputs": [
    {
     "data": {
      "text/html": [
       "<div>\n",
       "<style scoped>\n",
       "    .dataframe tbody tr th:only-of-type {\n",
       "        vertical-align: middle;\n",
       "    }\n",
       "\n",
       "    .dataframe tbody tr th {\n",
       "        vertical-align: top;\n",
       "    }\n",
       "\n",
       "    .dataframe thead th {\n",
       "        text-align: right;\n",
       "    }\n",
       "</style>\n",
       "<table border=\"1\" class=\"dataframe\">\n",
       "  <thead>\n",
       "    <tr style=\"text-align: right;\">\n",
       "      <th></th>\n",
       "      <th>listings</th>\n",
       "      <th>sales</th>\n",
       "    </tr>\n",
       "    <tr>\n",
       "      <th>start_time</th>\n",
       "      <th></th>\n",
       "      <th></th>\n",
       "    </tr>\n",
       "  </thead>\n",
       "  <tbody>\n",
       "    <tr>\n",
       "      <th>2024-01-31</th>\n",
       "      <td>25</td>\n",
       "      <td>0.00</td>\n",
       "    </tr>\n",
       "    <tr>\n",
       "      <th>2024-02-29</th>\n",
       "      <td>17</td>\n",
       "      <td>13.00</td>\n",
       "    </tr>\n",
       "    <tr>\n",
       "      <th>2024-03-31</th>\n",
       "      <td>11</td>\n",
       "      <td>0.00</td>\n",
       "    </tr>\n",
       "    <tr>\n",
       "      <th>2024-04-30</th>\n",
       "      <td>88</td>\n",
       "      <td>7.00</td>\n",
       "    </tr>\n",
       "    <tr>\n",
       "      <th>2024-05-31</th>\n",
       "      <td>141</td>\n",
       "      <td>1.00</td>\n",
       "    </tr>\n",
       "    <tr>\n",
       "      <th>2024-06-30</th>\n",
       "      <td>76</td>\n",
       "      <td>0.00</td>\n",
       "    </tr>\n",
       "    <tr>\n",
       "      <th>2024-07-31</th>\n",
       "      <td>137</td>\n",
       "      <td>2.00</td>\n",
       "    </tr>\n",
       "  </tbody>\n",
       "</table>\n",
       "</div>"
      ],
      "text/plain": [
       "            listings  sales\n",
       "start_time                 \n",
       "2024-01-31        25   0.00\n",
       "2024-02-29        17  13.00\n",
       "2024-03-31        11   0.00\n",
       "2024-04-30        88   7.00\n",
       "2024-05-31       141   1.00\n",
       "2024-06-30        76   0.00\n",
       "2024-07-31       137   2.00"
      ]
     },
     "execution_count": 132,
     "metadata": {},
     "output_type": "execute_result"
    }
   ],
   "source": [
    "monthly_listings"
   ]
  },
  {
   "cell_type": "code",
   "execution_count": 133,
   "metadata": {},
   "outputs": [
    {
     "name": "stderr",
     "output_type": "stream",
     "text": [
      "C:\\Users\\brandyns pc\\AppData\\Local\\Temp\\ipykernel_12168\\3641184892.py:2: FutureWarning:\n",
      "\n",
      "A value is trying to be set on a copy of a DataFrame or Series through chained assignment using an inplace method.\n",
      "The behavior will change in pandas 3.0. This inplace method will never work because the intermediate object on which we are setting values always behaves as a copy.\n",
      "\n",
      "For example, when doing 'df[col].method(value, inplace=True)', try using 'df.method({col: value}, inplace=True)' or df[col] = df[col].method(value) instead, to perform the operation inplace on the original object.\n",
      "\n",
      "\n",
      "\n"
     ]
    },
    {
     "data": {
      "text/html": [
       "<div>\n",
       "<style scoped>\n",
       "    .dataframe tbody tr th:only-of-type {\n",
       "        vertical-align: middle;\n",
       "    }\n",
       "\n",
       "    .dataframe tbody tr th {\n",
       "        vertical-align: top;\n",
       "    }\n",
       "\n",
       "    .dataframe thead th {\n",
       "        text-align: right;\n",
       "    }\n",
       "</style>\n",
       "<table border=\"1\" class=\"dataframe\">\n",
       "  <thead>\n",
       "    <tr style=\"text-align: right;\">\n",
       "      <th></th>\n",
       "      <th>listings</th>\n",
       "      <th>sales</th>\n",
       "      <th>listings_to_sales_ratio</th>\n",
       "    </tr>\n",
       "    <tr>\n",
       "      <th>start_time</th>\n",
       "      <th></th>\n",
       "      <th></th>\n",
       "      <th></th>\n",
       "    </tr>\n",
       "  </thead>\n",
       "  <tbody>\n",
       "    <tr>\n",
       "      <th>2024-01-31</th>\n",
       "      <td>25</td>\n",
       "      <td>0.00</td>\n",
       "      <td>0.00</td>\n",
       "    </tr>\n",
       "    <tr>\n",
       "      <th>2024-02-29</th>\n",
       "      <td>17</td>\n",
       "      <td>13.00</td>\n",
       "      <td>1.31</td>\n",
       "    </tr>\n",
       "    <tr>\n",
       "      <th>2024-03-31</th>\n",
       "      <td>11</td>\n",
       "      <td>0.00</td>\n",
       "      <td>0.00</td>\n",
       "    </tr>\n",
       "    <tr>\n",
       "      <th>2024-04-30</th>\n",
       "      <td>88</td>\n",
       "      <td>7.00</td>\n",
       "      <td>12.57</td>\n",
       "    </tr>\n",
       "    <tr>\n",
       "      <th>2024-05-31</th>\n",
       "      <td>141</td>\n",
       "      <td>1.00</td>\n",
       "      <td>141.00</td>\n",
       "    </tr>\n",
       "    <tr>\n",
       "      <th>2024-06-30</th>\n",
       "      <td>76</td>\n",
       "      <td>0.00</td>\n",
       "      <td>0.00</td>\n",
       "    </tr>\n",
       "    <tr>\n",
       "      <th>2024-07-31</th>\n",
       "      <td>137</td>\n",
       "      <td>2.00</td>\n",
       "      <td>68.50</td>\n",
       "    </tr>\n",
       "  </tbody>\n",
       "</table>\n",
       "</div>"
      ],
      "text/plain": [
       "            listings  sales  listings_to_sales_ratio\n",
       "start_time                                          \n",
       "2024-01-31        25   0.00                     0.00\n",
       "2024-02-29        17  13.00                     1.31\n",
       "2024-03-31        11   0.00                     0.00\n",
       "2024-04-30        88   7.00                    12.57\n",
       "2024-05-31       141   1.00                   141.00\n",
       "2024-06-30        76   0.00                     0.00\n",
       "2024-07-31       137   2.00                    68.50"
      ]
     },
     "execution_count": 133,
     "metadata": {},
     "output_type": "execute_result"
    }
   ],
   "source": [
    "monthly_listings['listings_to_sales_ratio'] = monthly_listings['listings'] / monthly_listings['sales']\n",
    "monthly_listings['listings_to_sales_ratio'].replace([float('inf'), -float('inf')], 0, inplace=True)\n",
    "\n",
    "monthly_listings"
   ]
  },
  {
   "cell_type": "code",
   "execution_count": 134,
   "metadata": {},
   "outputs": [
    {
     "data": {
      "application/vnd.plotly.v1+json": {
       "config": {
        "plotlyServerURL": "https://plot.ly"
       },
       "data": [
        {
         "name": "Sales",
         "type": "bar",
         "x": [
          "2024-01-31T00:00:00",
          "2024-02-29T00:00:00",
          "2024-03-31T00:00:00",
          "2024-04-30T00:00:00",
          "2024-05-31T00:00:00",
          "2024-06-30T00:00:00",
          "2024-07-31T00:00:00"
         ],
         "xaxis": "x",
         "y": [
          0,
          13,
          0,
          7,
          1,
          0,
          2
         ],
         "yaxis": "y"
        },
        {
         "name": "Listings",
         "type": "bar",
         "x": [
          "2024-01-31T00:00:00",
          "2024-02-29T00:00:00",
          "2024-03-31T00:00:00",
          "2024-04-30T00:00:00",
          "2024-05-31T00:00:00",
          "2024-06-30T00:00:00",
          "2024-07-31T00:00:00"
         ],
         "xaxis": "x",
         "y": [
          25,
          17,
          11,
          88,
          141,
          76,
          137
         ],
         "yaxis": "y"
        },
        {
         "mode": "lines",
         "name": "Listings to Sales Ratio",
         "type": "scatter",
         "x": [
          "2024-01-31T00:00:00",
          "2024-02-29T00:00:00",
          "2024-03-31T00:00:00",
          "2024-04-30T00:00:00",
          "2024-05-31T00:00:00",
          "2024-06-30T00:00:00",
          "2024-07-31T00:00:00"
         ],
         "xaxis": "x",
         "y": [
          0,
          1.3076923076923077,
          0,
          12.571428571428571,
          141,
          0,
          68.5
         ],
         "yaxis": "y2"
        }
       ],
       "layout": {
        "template": {
         "data": {
          "bar": [
           {
            "error_x": {
             "color": "#2a3f5f"
            },
            "error_y": {
             "color": "#2a3f5f"
            },
            "marker": {
             "line": {
              "color": "#E5ECF6",
              "width": 0.5
             },
             "pattern": {
              "fillmode": "overlay",
              "size": 10,
              "solidity": 0.2
             }
            },
            "type": "bar"
           }
          ],
          "barpolar": [
           {
            "marker": {
             "line": {
              "color": "#E5ECF6",
              "width": 0.5
             },
             "pattern": {
              "fillmode": "overlay",
              "size": 10,
              "solidity": 0.2
             }
            },
            "type": "barpolar"
           }
          ],
          "carpet": [
           {
            "aaxis": {
             "endlinecolor": "#2a3f5f",
             "gridcolor": "white",
             "linecolor": "white",
             "minorgridcolor": "white",
             "startlinecolor": "#2a3f5f"
            },
            "baxis": {
             "endlinecolor": "#2a3f5f",
             "gridcolor": "white",
             "linecolor": "white",
             "minorgridcolor": "white",
             "startlinecolor": "#2a3f5f"
            },
            "type": "carpet"
           }
          ],
          "choropleth": [
           {
            "colorbar": {
             "outlinewidth": 0,
             "ticks": ""
            },
            "type": "choropleth"
           }
          ],
          "contour": [
           {
            "colorbar": {
             "outlinewidth": 0,
             "ticks": ""
            },
            "colorscale": [
             [
              0,
              "#0d0887"
             ],
             [
              0.1111111111111111,
              "#46039f"
             ],
             [
              0.2222222222222222,
              "#7201a8"
             ],
             [
              0.3333333333333333,
              "#9c179e"
             ],
             [
              0.4444444444444444,
              "#bd3786"
             ],
             [
              0.5555555555555556,
              "#d8576b"
             ],
             [
              0.6666666666666666,
              "#ed7953"
             ],
             [
              0.7777777777777778,
              "#fb9f3a"
             ],
             [
              0.8888888888888888,
              "#fdca26"
             ],
             [
              1,
              "#f0f921"
             ]
            ],
            "type": "contour"
           }
          ],
          "contourcarpet": [
           {
            "colorbar": {
             "outlinewidth": 0,
             "ticks": ""
            },
            "type": "contourcarpet"
           }
          ],
          "heatmap": [
           {
            "colorbar": {
             "outlinewidth": 0,
             "ticks": ""
            },
            "colorscale": [
             [
              0,
              "#0d0887"
             ],
             [
              0.1111111111111111,
              "#46039f"
             ],
             [
              0.2222222222222222,
              "#7201a8"
             ],
             [
              0.3333333333333333,
              "#9c179e"
             ],
             [
              0.4444444444444444,
              "#bd3786"
             ],
             [
              0.5555555555555556,
              "#d8576b"
             ],
             [
              0.6666666666666666,
              "#ed7953"
             ],
             [
              0.7777777777777778,
              "#fb9f3a"
             ],
             [
              0.8888888888888888,
              "#fdca26"
             ],
             [
              1,
              "#f0f921"
             ]
            ],
            "type": "heatmap"
           }
          ],
          "heatmapgl": [
           {
            "colorbar": {
             "outlinewidth": 0,
             "ticks": ""
            },
            "colorscale": [
             [
              0,
              "#0d0887"
             ],
             [
              0.1111111111111111,
              "#46039f"
             ],
             [
              0.2222222222222222,
              "#7201a8"
             ],
             [
              0.3333333333333333,
              "#9c179e"
             ],
             [
              0.4444444444444444,
              "#bd3786"
             ],
             [
              0.5555555555555556,
              "#d8576b"
             ],
             [
              0.6666666666666666,
              "#ed7953"
             ],
             [
              0.7777777777777778,
              "#fb9f3a"
             ],
             [
              0.8888888888888888,
              "#fdca26"
             ],
             [
              1,
              "#f0f921"
             ]
            ],
            "type": "heatmapgl"
           }
          ],
          "histogram": [
           {
            "marker": {
             "pattern": {
              "fillmode": "overlay",
              "size": 10,
              "solidity": 0.2
             }
            },
            "type": "histogram"
           }
          ],
          "histogram2d": [
           {
            "colorbar": {
             "outlinewidth": 0,
             "ticks": ""
            },
            "colorscale": [
             [
              0,
              "#0d0887"
             ],
             [
              0.1111111111111111,
              "#46039f"
             ],
             [
              0.2222222222222222,
              "#7201a8"
             ],
             [
              0.3333333333333333,
              "#9c179e"
             ],
             [
              0.4444444444444444,
              "#bd3786"
             ],
             [
              0.5555555555555556,
              "#d8576b"
             ],
             [
              0.6666666666666666,
              "#ed7953"
             ],
             [
              0.7777777777777778,
              "#fb9f3a"
             ],
             [
              0.8888888888888888,
              "#fdca26"
             ],
             [
              1,
              "#f0f921"
             ]
            ],
            "type": "histogram2d"
           }
          ],
          "histogram2dcontour": [
           {
            "colorbar": {
             "outlinewidth": 0,
             "ticks": ""
            },
            "colorscale": [
             [
              0,
              "#0d0887"
             ],
             [
              0.1111111111111111,
              "#46039f"
             ],
             [
              0.2222222222222222,
              "#7201a8"
             ],
             [
              0.3333333333333333,
              "#9c179e"
             ],
             [
              0.4444444444444444,
              "#bd3786"
             ],
             [
              0.5555555555555556,
              "#d8576b"
             ],
             [
              0.6666666666666666,
              "#ed7953"
             ],
             [
              0.7777777777777778,
              "#fb9f3a"
             ],
             [
              0.8888888888888888,
              "#fdca26"
             ],
             [
              1,
              "#f0f921"
             ]
            ],
            "type": "histogram2dcontour"
           }
          ],
          "mesh3d": [
           {
            "colorbar": {
             "outlinewidth": 0,
             "ticks": ""
            },
            "type": "mesh3d"
           }
          ],
          "parcoords": [
           {
            "line": {
             "colorbar": {
              "outlinewidth": 0,
              "ticks": ""
             }
            },
            "type": "parcoords"
           }
          ],
          "pie": [
           {
            "automargin": true,
            "type": "pie"
           }
          ],
          "scatter": [
           {
            "fillpattern": {
             "fillmode": "overlay",
             "size": 10,
             "solidity": 0.2
            },
            "type": "scatter"
           }
          ],
          "scatter3d": [
           {
            "line": {
             "colorbar": {
              "outlinewidth": 0,
              "ticks": ""
             }
            },
            "marker": {
             "colorbar": {
              "outlinewidth": 0,
              "ticks": ""
             }
            },
            "type": "scatter3d"
           }
          ],
          "scattercarpet": [
           {
            "marker": {
             "colorbar": {
              "outlinewidth": 0,
              "ticks": ""
             }
            },
            "type": "scattercarpet"
           }
          ],
          "scattergeo": [
           {
            "marker": {
             "colorbar": {
              "outlinewidth": 0,
              "ticks": ""
             }
            },
            "type": "scattergeo"
           }
          ],
          "scattergl": [
           {
            "marker": {
             "colorbar": {
              "outlinewidth": 0,
              "ticks": ""
             }
            },
            "type": "scattergl"
           }
          ],
          "scattermapbox": [
           {
            "marker": {
             "colorbar": {
              "outlinewidth": 0,
              "ticks": ""
             }
            },
            "type": "scattermapbox"
           }
          ],
          "scatterpolar": [
           {
            "marker": {
             "colorbar": {
              "outlinewidth": 0,
              "ticks": ""
             }
            },
            "type": "scatterpolar"
           }
          ],
          "scatterpolargl": [
           {
            "marker": {
             "colorbar": {
              "outlinewidth": 0,
              "ticks": ""
             }
            },
            "type": "scatterpolargl"
           }
          ],
          "scatterternary": [
           {
            "marker": {
             "colorbar": {
              "outlinewidth": 0,
              "ticks": ""
             }
            },
            "type": "scatterternary"
           }
          ],
          "surface": [
           {
            "colorbar": {
             "outlinewidth": 0,
             "ticks": ""
            },
            "colorscale": [
             [
              0,
              "#0d0887"
             ],
             [
              0.1111111111111111,
              "#46039f"
             ],
             [
              0.2222222222222222,
              "#7201a8"
             ],
             [
              0.3333333333333333,
              "#9c179e"
             ],
             [
              0.4444444444444444,
              "#bd3786"
             ],
             [
              0.5555555555555556,
              "#d8576b"
             ],
             [
              0.6666666666666666,
              "#ed7953"
             ],
             [
              0.7777777777777778,
              "#fb9f3a"
             ],
             [
              0.8888888888888888,
              "#fdca26"
             ],
             [
              1,
              "#f0f921"
             ]
            ],
            "type": "surface"
           }
          ],
          "table": [
           {
            "cells": {
             "fill": {
              "color": "#EBF0F8"
             },
             "line": {
              "color": "white"
             }
            },
            "header": {
             "fill": {
              "color": "#C8D4E3"
             },
             "line": {
              "color": "white"
             }
            },
            "type": "table"
           }
          ]
         },
         "layout": {
          "annotationdefaults": {
           "arrowcolor": "#2a3f5f",
           "arrowhead": 0,
           "arrowwidth": 1
          },
          "autotypenumbers": "strict",
          "coloraxis": {
           "colorbar": {
            "outlinewidth": 0,
            "ticks": ""
           }
          },
          "colorscale": {
           "diverging": [
            [
             0,
             "#8e0152"
            ],
            [
             0.1,
             "#c51b7d"
            ],
            [
             0.2,
             "#de77ae"
            ],
            [
             0.3,
             "#f1b6da"
            ],
            [
             0.4,
             "#fde0ef"
            ],
            [
             0.5,
             "#f7f7f7"
            ],
            [
             0.6,
             "#e6f5d0"
            ],
            [
             0.7,
             "#b8e186"
            ],
            [
             0.8,
             "#7fbc41"
            ],
            [
             0.9,
             "#4d9221"
            ],
            [
             1,
             "#276419"
            ]
           ],
           "sequential": [
            [
             0,
             "#0d0887"
            ],
            [
             0.1111111111111111,
             "#46039f"
            ],
            [
             0.2222222222222222,
             "#7201a8"
            ],
            [
             0.3333333333333333,
             "#9c179e"
            ],
            [
             0.4444444444444444,
             "#bd3786"
            ],
            [
             0.5555555555555556,
             "#d8576b"
            ],
            [
             0.6666666666666666,
             "#ed7953"
            ],
            [
             0.7777777777777778,
             "#fb9f3a"
            ],
            [
             0.8888888888888888,
             "#fdca26"
            ],
            [
             1,
             "#f0f921"
            ]
           ],
           "sequentialminus": [
            [
             0,
             "#0d0887"
            ],
            [
             0.1111111111111111,
             "#46039f"
            ],
            [
             0.2222222222222222,
             "#7201a8"
            ],
            [
             0.3333333333333333,
             "#9c179e"
            ],
            [
             0.4444444444444444,
             "#bd3786"
            ],
            [
             0.5555555555555556,
             "#d8576b"
            ],
            [
             0.6666666666666666,
             "#ed7953"
            ],
            [
             0.7777777777777778,
             "#fb9f3a"
            ],
            [
             0.8888888888888888,
             "#fdca26"
            ],
            [
             1,
             "#f0f921"
            ]
           ]
          },
          "colorway": [
           "#636efa",
           "#EF553B",
           "#00cc96",
           "#ab63fa",
           "#FFA15A",
           "#19d3f3",
           "#FF6692",
           "#B6E880",
           "#FF97FF",
           "#FECB52"
          ],
          "font": {
           "color": "#2a3f5f"
          },
          "geo": {
           "bgcolor": "white",
           "lakecolor": "white",
           "landcolor": "#E5ECF6",
           "showlakes": true,
           "showland": true,
           "subunitcolor": "white"
          },
          "hoverlabel": {
           "align": "left"
          },
          "hovermode": "closest",
          "mapbox": {
           "style": "light"
          },
          "paper_bgcolor": "white",
          "plot_bgcolor": "#E5ECF6",
          "polar": {
           "angularaxis": {
            "gridcolor": "white",
            "linecolor": "white",
            "ticks": ""
           },
           "bgcolor": "#E5ECF6",
           "radialaxis": {
            "gridcolor": "white",
            "linecolor": "white",
            "ticks": ""
           }
          },
          "scene": {
           "xaxis": {
            "backgroundcolor": "#E5ECF6",
            "gridcolor": "white",
            "gridwidth": 2,
            "linecolor": "white",
            "showbackground": true,
            "ticks": "",
            "zerolinecolor": "white"
           },
           "yaxis": {
            "backgroundcolor": "#E5ECF6",
            "gridcolor": "white",
            "gridwidth": 2,
            "linecolor": "white",
            "showbackground": true,
            "ticks": "",
            "zerolinecolor": "white"
           },
           "zaxis": {
            "backgroundcolor": "#E5ECF6",
            "gridcolor": "white",
            "gridwidth": 2,
            "linecolor": "white",
            "showbackground": true,
            "ticks": "",
            "zerolinecolor": "white"
           }
          },
          "shapedefaults": {
           "line": {
            "color": "#2a3f5f"
           }
          },
          "ternary": {
           "aaxis": {
            "gridcolor": "white",
            "linecolor": "white",
            "ticks": ""
           },
           "baxis": {
            "gridcolor": "white",
            "linecolor": "white",
            "ticks": ""
           },
           "bgcolor": "#E5ECF6",
           "caxis": {
            "gridcolor": "white",
            "linecolor": "white",
            "ticks": ""
           }
          },
          "title": {
           "x": 0.05
          },
          "xaxis": {
           "automargin": true,
           "gridcolor": "white",
           "linecolor": "white",
           "ticks": "",
           "title": {
            "standoff": 15
           },
           "zerolinecolor": "white",
           "zerolinewidth": 2
          },
          "yaxis": {
           "automargin": true,
           "gridcolor": "white",
           "linecolor": "white",
           "ticks": "",
           "title": {
            "standoff": 15
           },
           "zerolinecolor": "white",
           "zerolinewidth": 2
          }
         }
        },
        "xaxis": {
         "anchor": "y",
         "domain": [
          0,
          0.94
         ]
        },
        "yaxis": {
         "anchor": "x",
         "domain": [
          0,
          1
         ]
        },
        "yaxis2": {
         "anchor": "x",
         "overlaying": "y",
         "side": "right"
        }
       }
      }
     },
     "metadata": {},
     "output_type": "display_data"
    }
   ],
   "source": [
    "listing_to_sales_fig = make_subplots(specs=[[{\"secondary_y\": True}]])\n",
    "\n",
    "# Add bar chart for sales\n",
    "listing_to_sales_fig.add_trace(\n",
    "    go.Bar(\n",
    "        x=monthly_listings.index,\n",
    "        y=monthly_listings['sales'],\n",
    "        name='Sales'\n",
    "    ),\n",
    "    secondary_y=False\n",
    ")\n",
    "\n",
    "listing_to_sales_fig.add_trace(\n",
    "    go.Bar(\n",
    "        x=monthly_listings.index,\n",
    "        y=monthly_listings['listings'],\n",
    "        name='Listings'\n",
    "    ),\n",
    "    secondary_y=False\n",
    ")\n",
    "\n",
    "# Add line chart for cumulative sales\n",
    "listing_to_sales_fig.add_trace(\n",
    "    go.Scatter(\n",
    "        x=monthly_listings.index,\n",
    "        y=monthly_listings['listings_to_sales_ratio'],\n",
    "        name='Listings to Sales Ratio',\n",
    "        mode='lines'\n",
    "    ),\n",
    "    secondary_y=True\n",
    ")\n",
    "\n",
    "# listing_to_sales_fig.show()\n"
   ]
  },
  {
   "cell_type": "code",
   "execution_count": 135,
   "metadata": {},
   "outputs": [
    {
     "name": "stdout",
     "output_type": "stream",
     "text": [
      "          day  name\n",
      "0  2023-10-31     5\n",
      "1  2023-11-30     2\n",
      "2  2023-12-31    23\n",
      "3  2024-01-31  1745\n",
      "4  2024-02-29   349\n",
      "5  2024-03-31   162\n",
      "6  2024-04-30   636\n",
      "7  2024-05-31   414\n",
      "8  2024-06-30   221\n",
      "9  2024-07-31  2295\n"
     ]
    },
    {
     "name": "stderr",
     "output_type": "stream",
     "text": [
      "C:\\Users\\brandyns pc\\AppData\\Local\\Temp\\ipykernel_12168\\2186263740.py:1: FutureWarning:\n",
      "\n",
      "'M' is deprecated and will be removed in a future version, please use 'ME' instead.\n",
      "\n"
     ]
    }
   ],
   "source": [
    "monthly_mints = box_domains_mints.resample('M').count()\n",
    "monthly_mints.reset_index(inplace=True)\n",
    "monthly_mints['day'] = pd.to_datetime(monthly_mints['day']).dt.strftime('%Y-%m-%d') \n",
    "print(monthly_mints)"
   ]
  },
  {
   "cell_type": "code",
   "execution_count": 136,
   "metadata": {},
   "outputs": [],
   "source": [
    "monthly_mints.set_index('day', inplace=True)\n"
   ]
  },
  {
   "cell_type": "code",
   "execution_count": 137,
   "metadata": {},
   "outputs": [
    {
     "data": {
      "text/plain": [
       "DatetimeIndex(['2023-10-31', '2023-11-30', '2023-12-31', '2024-01-31',\n",
       "               '2024-02-29', '2024-03-31', '2024-04-30', '2024-05-31',\n",
       "               '2024-06-30', '2024-07-31'],\n",
       "              dtype='datetime64[ns]', name='day', freq=None)"
      ]
     },
     "execution_count": 137,
     "metadata": {},
     "output_type": "execute_result"
    }
   ],
   "source": [
    "monthly_mints.index = pd.to_datetime(monthly_mints.index) \n",
    "monthly_mints.index"
   ]
  },
  {
   "cell_type": "code",
   "execution_count": 138,
   "metadata": {},
   "outputs": [
    {
     "data": {
      "text/plain": [
       "DatetimeIndex(['2024-01-31', '2024-02-29', '2024-03-31', '2024-04-30',\n",
       "               '2024-05-31', '2024-06-30', '2024-07-31'],\n",
       "              dtype='datetime64[ns]', name='start_time', freq='ME')"
      ]
     },
     "execution_count": 138,
     "metadata": {},
     "output_type": "execute_result"
    }
   ],
   "source": [
    "monthly_sales_reindexed.index"
   ]
  },
  {
   "cell_type": "code",
   "execution_count": 139,
   "metadata": {},
   "outputs": [
    {
     "name": "stderr",
     "output_type": "stream",
     "text": [
      "C:\\Users\\brandyns pc\\AppData\\Local\\Temp\\ipykernel_12168\\760772224.py:4: FutureWarning:\n",
      "\n",
      "A value is trying to be set on a copy of a DataFrame or Series through chained assignment using an inplace method.\n",
      "The behavior will change in pandas 3.0. This inplace method will never work because the intermediate object on which we are setting values always behaves as a copy.\n",
      "\n",
      "For example, when doing 'df[col].method(value, inplace=True)', try using 'df.method({col: value}, inplace=True)' or df[col] = df[col].method(value) instead, to perform the operation inplace on the original object.\n",
      "\n",
      "\n",
      "\n"
     ]
    }
   ],
   "source": [
    "monthly_mints['sales'] = monthly_sales_reindexed['name'] \n",
    "monthly_mints.fillna(0, inplace=True)\n",
    "monthly_mints['mint_to_sales_ratio'] = monthly_mints['name'] / monthly_mints['sales'] \n",
    "monthly_mints['mint_to_sales_ratio'].replace([float('inf'), -float('inf')], 0, inplace=True)\n",
    "monthly_mints.rename(columns={'name':'mints'}, inplace=True)\n"
   ]
  },
  {
   "cell_type": "code",
   "execution_count": 140,
   "metadata": {},
   "outputs": [
    {
     "data": {
      "text/html": [
       "<div>\n",
       "<style scoped>\n",
       "    .dataframe tbody tr th:only-of-type {\n",
       "        vertical-align: middle;\n",
       "    }\n",
       "\n",
       "    .dataframe tbody tr th {\n",
       "        vertical-align: top;\n",
       "    }\n",
       "\n",
       "    .dataframe thead th {\n",
       "        text-align: right;\n",
       "    }\n",
       "</style>\n",
       "<table border=\"1\" class=\"dataframe\">\n",
       "  <thead>\n",
       "    <tr style=\"text-align: right;\">\n",
       "      <th></th>\n",
       "      <th>mints</th>\n",
       "      <th>sales</th>\n",
       "      <th>mint_to_sales_ratio</th>\n",
       "    </tr>\n",
       "    <tr>\n",
       "      <th>day</th>\n",
       "      <th></th>\n",
       "      <th></th>\n",
       "      <th></th>\n",
       "    </tr>\n",
       "  </thead>\n",
       "  <tbody>\n",
       "    <tr>\n",
       "      <th>2023-10-31</th>\n",
       "      <td>5</td>\n",
       "      <td>0.00</td>\n",
       "      <td>0.00</td>\n",
       "    </tr>\n",
       "    <tr>\n",
       "      <th>2023-11-30</th>\n",
       "      <td>2</td>\n",
       "      <td>0.00</td>\n",
       "      <td>0.00</td>\n",
       "    </tr>\n",
       "    <tr>\n",
       "      <th>2023-12-31</th>\n",
       "      <td>23</td>\n",
       "      <td>0.00</td>\n",
       "      <td>0.00</td>\n",
       "    </tr>\n",
       "    <tr>\n",
       "      <th>2024-01-31</th>\n",
       "      <td>1745</td>\n",
       "      <td>0.00</td>\n",
       "      <td>0.00</td>\n",
       "    </tr>\n",
       "    <tr>\n",
       "      <th>2024-02-29</th>\n",
       "      <td>349</td>\n",
       "      <td>13.00</td>\n",
       "      <td>26.85</td>\n",
       "    </tr>\n",
       "    <tr>\n",
       "      <th>2024-03-31</th>\n",
       "      <td>162</td>\n",
       "      <td>0.00</td>\n",
       "      <td>0.00</td>\n",
       "    </tr>\n",
       "    <tr>\n",
       "      <th>2024-04-30</th>\n",
       "      <td>636</td>\n",
       "      <td>7.00</td>\n",
       "      <td>90.86</td>\n",
       "    </tr>\n",
       "    <tr>\n",
       "      <th>2024-05-31</th>\n",
       "      <td>414</td>\n",
       "      <td>1.00</td>\n",
       "      <td>414.00</td>\n",
       "    </tr>\n",
       "    <tr>\n",
       "      <th>2024-06-30</th>\n",
       "      <td>221</td>\n",
       "      <td>0.00</td>\n",
       "      <td>0.00</td>\n",
       "    </tr>\n",
       "    <tr>\n",
       "      <th>2024-07-31</th>\n",
       "      <td>2295</td>\n",
       "      <td>2.00</td>\n",
       "      <td>1,147.50</td>\n",
       "    </tr>\n",
       "  </tbody>\n",
       "</table>\n",
       "</div>"
      ],
      "text/plain": [
       "            mints  sales  mint_to_sales_ratio\n",
       "day                                          \n",
       "2023-10-31      5   0.00                 0.00\n",
       "2023-11-30      2   0.00                 0.00\n",
       "2023-12-31     23   0.00                 0.00\n",
       "2024-01-31   1745   0.00                 0.00\n",
       "2024-02-29    349  13.00                26.85\n",
       "2024-03-31    162   0.00                 0.00\n",
       "2024-04-30    636   7.00                90.86\n",
       "2024-05-31    414   1.00               414.00\n",
       "2024-06-30    221   0.00                 0.00\n",
       "2024-07-31   2295   2.00             1,147.50"
      ]
     },
     "execution_count": 140,
     "metadata": {},
     "output_type": "execute_result"
    }
   ],
   "source": [
    "monthly_mints"
   ]
  },
  {
   "cell_type": "code",
   "execution_count": 141,
   "metadata": {},
   "outputs": [
    {
     "data": {
      "application/vnd.plotly.v1+json": {
       "config": {
        "plotlyServerURL": "https://plot.ly"
       },
       "data": [
        {
         "name": "Sales",
         "type": "bar",
         "x": [
          "2023-10-31T00:00:00",
          "2023-11-30T00:00:00",
          "2023-12-31T00:00:00",
          "2024-01-31T00:00:00",
          "2024-02-29T00:00:00",
          "2024-03-31T00:00:00",
          "2024-04-30T00:00:00",
          "2024-05-31T00:00:00",
          "2024-06-30T00:00:00",
          "2024-07-31T00:00:00"
         ],
         "xaxis": "x",
         "y": [
          0,
          0,
          0,
          0,
          13,
          0,
          7,
          1,
          0,
          2
         ],
         "yaxis": "y"
        },
        {
         "name": "Mints",
         "type": "bar",
         "x": [
          "2023-10-31T00:00:00",
          "2023-11-30T00:00:00",
          "2023-12-31T00:00:00",
          "2024-01-31T00:00:00",
          "2024-02-29T00:00:00",
          "2024-03-31T00:00:00",
          "2024-04-30T00:00:00",
          "2024-05-31T00:00:00",
          "2024-06-30T00:00:00",
          "2024-07-31T00:00:00"
         ],
         "xaxis": "x",
         "y": [
          5,
          2,
          23,
          1745,
          349,
          162,
          636,
          414,
          221,
          2295
         ],
         "yaxis": "y"
        },
        {
         "mode": "lines",
         "name": "Mints to Sales Ratio",
         "type": "scatter",
         "x": [
          "2023-10-31T00:00:00",
          "2023-11-30T00:00:00",
          "2023-12-31T00:00:00",
          "2024-01-31T00:00:00",
          "2024-02-29T00:00:00",
          "2024-03-31T00:00:00",
          "2024-04-30T00:00:00",
          "2024-05-31T00:00:00",
          "2024-06-30T00:00:00",
          "2024-07-31T00:00:00"
         ],
         "xaxis": "x",
         "y": [
          0,
          0,
          0,
          0,
          26.846153846153847,
          0,
          90.85714285714286,
          414,
          0,
          1147.5
         ],
         "yaxis": "y2"
        }
       ],
       "layout": {
        "template": {
         "data": {
          "bar": [
           {
            "error_x": {
             "color": "#2a3f5f"
            },
            "error_y": {
             "color": "#2a3f5f"
            },
            "marker": {
             "line": {
              "color": "#E5ECF6",
              "width": 0.5
             },
             "pattern": {
              "fillmode": "overlay",
              "size": 10,
              "solidity": 0.2
             }
            },
            "type": "bar"
           }
          ],
          "barpolar": [
           {
            "marker": {
             "line": {
              "color": "#E5ECF6",
              "width": 0.5
             },
             "pattern": {
              "fillmode": "overlay",
              "size": 10,
              "solidity": 0.2
             }
            },
            "type": "barpolar"
           }
          ],
          "carpet": [
           {
            "aaxis": {
             "endlinecolor": "#2a3f5f",
             "gridcolor": "white",
             "linecolor": "white",
             "minorgridcolor": "white",
             "startlinecolor": "#2a3f5f"
            },
            "baxis": {
             "endlinecolor": "#2a3f5f",
             "gridcolor": "white",
             "linecolor": "white",
             "minorgridcolor": "white",
             "startlinecolor": "#2a3f5f"
            },
            "type": "carpet"
           }
          ],
          "choropleth": [
           {
            "colorbar": {
             "outlinewidth": 0,
             "ticks": ""
            },
            "type": "choropleth"
           }
          ],
          "contour": [
           {
            "colorbar": {
             "outlinewidth": 0,
             "ticks": ""
            },
            "colorscale": [
             [
              0,
              "#0d0887"
             ],
             [
              0.1111111111111111,
              "#46039f"
             ],
             [
              0.2222222222222222,
              "#7201a8"
             ],
             [
              0.3333333333333333,
              "#9c179e"
             ],
             [
              0.4444444444444444,
              "#bd3786"
             ],
             [
              0.5555555555555556,
              "#d8576b"
             ],
             [
              0.6666666666666666,
              "#ed7953"
             ],
             [
              0.7777777777777778,
              "#fb9f3a"
             ],
             [
              0.8888888888888888,
              "#fdca26"
             ],
             [
              1,
              "#f0f921"
             ]
            ],
            "type": "contour"
           }
          ],
          "contourcarpet": [
           {
            "colorbar": {
             "outlinewidth": 0,
             "ticks": ""
            },
            "type": "contourcarpet"
           }
          ],
          "heatmap": [
           {
            "colorbar": {
             "outlinewidth": 0,
             "ticks": ""
            },
            "colorscale": [
             [
              0,
              "#0d0887"
             ],
             [
              0.1111111111111111,
              "#46039f"
             ],
             [
              0.2222222222222222,
              "#7201a8"
             ],
             [
              0.3333333333333333,
              "#9c179e"
             ],
             [
              0.4444444444444444,
              "#bd3786"
             ],
             [
              0.5555555555555556,
              "#d8576b"
             ],
             [
              0.6666666666666666,
              "#ed7953"
             ],
             [
              0.7777777777777778,
              "#fb9f3a"
             ],
             [
              0.8888888888888888,
              "#fdca26"
             ],
             [
              1,
              "#f0f921"
             ]
            ],
            "type": "heatmap"
           }
          ],
          "heatmapgl": [
           {
            "colorbar": {
             "outlinewidth": 0,
             "ticks": ""
            },
            "colorscale": [
             [
              0,
              "#0d0887"
             ],
             [
              0.1111111111111111,
              "#46039f"
             ],
             [
              0.2222222222222222,
              "#7201a8"
             ],
             [
              0.3333333333333333,
              "#9c179e"
             ],
             [
              0.4444444444444444,
              "#bd3786"
             ],
             [
              0.5555555555555556,
              "#d8576b"
             ],
             [
              0.6666666666666666,
              "#ed7953"
             ],
             [
              0.7777777777777778,
              "#fb9f3a"
             ],
             [
              0.8888888888888888,
              "#fdca26"
             ],
             [
              1,
              "#f0f921"
             ]
            ],
            "type": "heatmapgl"
           }
          ],
          "histogram": [
           {
            "marker": {
             "pattern": {
              "fillmode": "overlay",
              "size": 10,
              "solidity": 0.2
             }
            },
            "type": "histogram"
           }
          ],
          "histogram2d": [
           {
            "colorbar": {
             "outlinewidth": 0,
             "ticks": ""
            },
            "colorscale": [
             [
              0,
              "#0d0887"
             ],
             [
              0.1111111111111111,
              "#46039f"
             ],
             [
              0.2222222222222222,
              "#7201a8"
             ],
             [
              0.3333333333333333,
              "#9c179e"
             ],
             [
              0.4444444444444444,
              "#bd3786"
             ],
             [
              0.5555555555555556,
              "#d8576b"
             ],
             [
              0.6666666666666666,
              "#ed7953"
             ],
             [
              0.7777777777777778,
              "#fb9f3a"
             ],
             [
              0.8888888888888888,
              "#fdca26"
             ],
             [
              1,
              "#f0f921"
             ]
            ],
            "type": "histogram2d"
           }
          ],
          "histogram2dcontour": [
           {
            "colorbar": {
             "outlinewidth": 0,
             "ticks": ""
            },
            "colorscale": [
             [
              0,
              "#0d0887"
             ],
             [
              0.1111111111111111,
              "#46039f"
             ],
             [
              0.2222222222222222,
              "#7201a8"
             ],
             [
              0.3333333333333333,
              "#9c179e"
             ],
             [
              0.4444444444444444,
              "#bd3786"
             ],
             [
              0.5555555555555556,
              "#d8576b"
             ],
             [
              0.6666666666666666,
              "#ed7953"
             ],
             [
              0.7777777777777778,
              "#fb9f3a"
             ],
             [
              0.8888888888888888,
              "#fdca26"
             ],
             [
              1,
              "#f0f921"
             ]
            ],
            "type": "histogram2dcontour"
           }
          ],
          "mesh3d": [
           {
            "colorbar": {
             "outlinewidth": 0,
             "ticks": ""
            },
            "type": "mesh3d"
           }
          ],
          "parcoords": [
           {
            "line": {
             "colorbar": {
              "outlinewidth": 0,
              "ticks": ""
             }
            },
            "type": "parcoords"
           }
          ],
          "pie": [
           {
            "automargin": true,
            "type": "pie"
           }
          ],
          "scatter": [
           {
            "fillpattern": {
             "fillmode": "overlay",
             "size": 10,
             "solidity": 0.2
            },
            "type": "scatter"
           }
          ],
          "scatter3d": [
           {
            "line": {
             "colorbar": {
              "outlinewidth": 0,
              "ticks": ""
             }
            },
            "marker": {
             "colorbar": {
              "outlinewidth": 0,
              "ticks": ""
             }
            },
            "type": "scatter3d"
           }
          ],
          "scattercarpet": [
           {
            "marker": {
             "colorbar": {
              "outlinewidth": 0,
              "ticks": ""
             }
            },
            "type": "scattercarpet"
           }
          ],
          "scattergeo": [
           {
            "marker": {
             "colorbar": {
              "outlinewidth": 0,
              "ticks": ""
             }
            },
            "type": "scattergeo"
           }
          ],
          "scattergl": [
           {
            "marker": {
             "colorbar": {
              "outlinewidth": 0,
              "ticks": ""
             }
            },
            "type": "scattergl"
           }
          ],
          "scattermapbox": [
           {
            "marker": {
             "colorbar": {
              "outlinewidth": 0,
              "ticks": ""
             }
            },
            "type": "scattermapbox"
           }
          ],
          "scatterpolar": [
           {
            "marker": {
             "colorbar": {
              "outlinewidth": 0,
              "ticks": ""
             }
            },
            "type": "scatterpolar"
           }
          ],
          "scatterpolargl": [
           {
            "marker": {
             "colorbar": {
              "outlinewidth": 0,
              "ticks": ""
             }
            },
            "type": "scatterpolargl"
           }
          ],
          "scatterternary": [
           {
            "marker": {
             "colorbar": {
              "outlinewidth": 0,
              "ticks": ""
             }
            },
            "type": "scatterternary"
           }
          ],
          "surface": [
           {
            "colorbar": {
             "outlinewidth": 0,
             "ticks": ""
            },
            "colorscale": [
             [
              0,
              "#0d0887"
             ],
             [
              0.1111111111111111,
              "#46039f"
             ],
             [
              0.2222222222222222,
              "#7201a8"
             ],
             [
              0.3333333333333333,
              "#9c179e"
             ],
             [
              0.4444444444444444,
              "#bd3786"
             ],
             [
              0.5555555555555556,
              "#d8576b"
             ],
             [
              0.6666666666666666,
              "#ed7953"
             ],
             [
              0.7777777777777778,
              "#fb9f3a"
             ],
             [
              0.8888888888888888,
              "#fdca26"
             ],
             [
              1,
              "#f0f921"
             ]
            ],
            "type": "surface"
           }
          ],
          "table": [
           {
            "cells": {
             "fill": {
              "color": "#EBF0F8"
             },
             "line": {
              "color": "white"
             }
            },
            "header": {
             "fill": {
              "color": "#C8D4E3"
             },
             "line": {
              "color": "white"
             }
            },
            "type": "table"
           }
          ]
         },
         "layout": {
          "annotationdefaults": {
           "arrowcolor": "#2a3f5f",
           "arrowhead": 0,
           "arrowwidth": 1
          },
          "autotypenumbers": "strict",
          "coloraxis": {
           "colorbar": {
            "outlinewidth": 0,
            "ticks": ""
           }
          },
          "colorscale": {
           "diverging": [
            [
             0,
             "#8e0152"
            ],
            [
             0.1,
             "#c51b7d"
            ],
            [
             0.2,
             "#de77ae"
            ],
            [
             0.3,
             "#f1b6da"
            ],
            [
             0.4,
             "#fde0ef"
            ],
            [
             0.5,
             "#f7f7f7"
            ],
            [
             0.6,
             "#e6f5d0"
            ],
            [
             0.7,
             "#b8e186"
            ],
            [
             0.8,
             "#7fbc41"
            ],
            [
             0.9,
             "#4d9221"
            ],
            [
             1,
             "#276419"
            ]
           ],
           "sequential": [
            [
             0,
             "#0d0887"
            ],
            [
             0.1111111111111111,
             "#46039f"
            ],
            [
             0.2222222222222222,
             "#7201a8"
            ],
            [
             0.3333333333333333,
             "#9c179e"
            ],
            [
             0.4444444444444444,
             "#bd3786"
            ],
            [
             0.5555555555555556,
             "#d8576b"
            ],
            [
             0.6666666666666666,
             "#ed7953"
            ],
            [
             0.7777777777777778,
             "#fb9f3a"
            ],
            [
             0.8888888888888888,
             "#fdca26"
            ],
            [
             1,
             "#f0f921"
            ]
           ],
           "sequentialminus": [
            [
             0,
             "#0d0887"
            ],
            [
             0.1111111111111111,
             "#46039f"
            ],
            [
             0.2222222222222222,
             "#7201a8"
            ],
            [
             0.3333333333333333,
             "#9c179e"
            ],
            [
             0.4444444444444444,
             "#bd3786"
            ],
            [
             0.5555555555555556,
             "#d8576b"
            ],
            [
             0.6666666666666666,
             "#ed7953"
            ],
            [
             0.7777777777777778,
             "#fb9f3a"
            ],
            [
             0.8888888888888888,
             "#fdca26"
            ],
            [
             1,
             "#f0f921"
            ]
           ]
          },
          "colorway": [
           "#636efa",
           "#EF553B",
           "#00cc96",
           "#ab63fa",
           "#FFA15A",
           "#19d3f3",
           "#FF6692",
           "#B6E880",
           "#FF97FF",
           "#FECB52"
          ],
          "font": {
           "color": "#2a3f5f"
          },
          "geo": {
           "bgcolor": "white",
           "lakecolor": "white",
           "landcolor": "#E5ECF6",
           "showlakes": true,
           "showland": true,
           "subunitcolor": "white"
          },
          "hoverlabel": {
           "align": "left"
          },
          "hovermode": "closest",
          "mapbox": {
           "style": "light"
          },
          "paper_bgcolor": "white",
          "plot_bgcolor": "#E5ECF6",
          "polar": {
           "angularaxis": {
            "gridcolor": "white",
            "linecolor": "white",
            "ticks": ""
           },
           "bgcolor": "#E5ECF6",
           "radialaxis": {
            "gridcolor": "white",
            "linecolor": "white",
            "ticks": ""
           }
          },
          "scene": {
           "xaxis": {
            "backgroundcolor": "#E5ECF6",
            "gridcolor": "white",
            "gridwidth": 2,
            "linecolor": "white",
            "showbackground": true,
            "ticks": "",
            "zerolinecolor": "white"
           },
           "yaxis": {
            "backgroundcolor": "#E5ECF6",
            "gridcolor": "white",
            "gridwidth": 2,
            "linecolor": "white",
            "showbackground": true,
            "ticks": "",
            "zerolinecolor": "white"
           },
           "zaxis": {
            "backgroundcolor": "#E5ECF6",
            "gridcolor": "white",
            "gridwidth": 2,
            "linecolor": "white",
            "showbackground": true,
            "ticks": "",
            "zerolinecolor": "white"
           }
          },
          "shapedefaults": {
           "line": {
            "color": "#2a3f5f"
           }
          },
          "ternary": {
           "aaxis": {
            "gridcolor": "white",
            "linecolor": "white",
            "ticks": ""
           },
           "baxis": {
            "gridcolor": "white",
            "linecolor": "white",
            "ticks": ""
           },
           "bgcolor": "#E5ECF6",
           "caxis": {
            "gridcolor": "white",
            "linecolor": "white",
            "ticks": ""
           }
          },
          "title": {
           "x": 0.05
          },
          "xaxis": {
           "automargin": true,
           "gridcolor": "white",
           "linecolor": "white",
           "ticks": "",
           "title": {
            "standoff": 15
           },
           "zerolinecolor": "white",
           "zerolinewidth": 2
          },
          "yaxis": {
           "automargin": true,
           "gridcolor": "white",
           "linecolor": "white",
           "ticks": "",
           "title": {
            "standoff": 15
           },
           "zerolinecolor": "white",
           "zerolinewidth": 2
          }
         }
        },
        "xaxis": {
         "anchor": "y",
         "domain": [
          0,
          0.94
         ]
        },
        "yaxis": {
         "anchor": "x",
         "domain": [
          0,
          1
         ]
        },
        "yaxis2": {
         "anchor": "x",
         "overlaying": "y",
         "side": "right"
        }
       }
      }
     },
     "metadata": {},
     "output_type": "display_data"
    }
   ],
   "source": [
    "mint_to_sales_fig = make_subplots(specs=[[{\"secondary_y\": True}]])\n",
    "\n",
    "# Add bar chart for sales\n",
    "mint_to_sales_fig.add_trace(\n",
    "    go.Bar(\n",
    "        x=monthly_mints.index,\n",
    "        y=monthly_mints['sales'],\n",
    "        name='Sales'\n",
    "    ),\n",
    "    secondary_y=False\n",
    ")\n",
    "\n",
    "mint_to_sales_fig.add_trace(\n",
    "    go.Bar(\n",
    "        x=monthly_mints.index,\n",
    "        y=monthly_mints['mints'],\n",
    "        name='Mints'\n",
    "    ),\n",
    "    secondary_y=False\n",
    ")\n",
    "\n",
    "# Add line chart for cumulative sales\n",
    "mint_to_sales_fig.add_trace(\n",
    "    go.Scatter(\n",
    "        x=monthly_mints.index,\n",
    "        y=monthly_mints['mint_to_sales_ratio'],\n",
    "        name='Mints to Sales Ratio',\n",
    "        mode='lines'\n",
    "    ),\n",
    "    secondary_y=True\n",
    ")\n",
    "\n",
    "# mint_to_sales_fig.show()\n"
   ]
  },
  {
   "cell_type": "code",
   "execution_count": 142,
   "metadata": {},
   "outputs": [
    {
     "name": "stdout",
     "output_type": "stream",
     "text": [
      "21.52173913043478\n"
     ]
    }
   ],
   "source": [
    "cumulative_listings_to_sales = total_box_listings / total_box_sales\n",
    "print(cumulative_listings_to_sales)"
   ]
  },
  {
   "cell_type": "code",
   "execution_count": 143,
   "metadata": {},
   "outputs": [
    {
     "name": "stdout",
     "output_type": "stream",
     "text": [
      "254.43478260869566\n"
     ]
    }
   ],
   "source": [
    "cumulative_mint_to_sales = total_box_mints / total_box_sales\n",
    "print(cumulative_mint_to_sales)"
   ]
  },
  {
   "cell_type": "code",
   "execution_count": 144,
   "metadata": {},
   "outputs": [
    {
     "name": "stdout",
     "output_type": "stream",
     "text": [
      "e:\\Projects\\box_app\n"
     ]
    }
   ],
   "source": [
    "import os\n",
    "print(os.getcwd())\n"
   ]
  },
  {
   "cell_type": "markdown",
   "metadata": {},
   "source": [
    "***Box Domains Valuation Model***"
   ]
  },
  {
   "cell_type": "markdown",
   "metadata": {},
   "source": [
    "**Data Processing**"
   ]
  },
  {
   "cell_type": "markdown",
   "metadata": {},
   "source": [
    "domain_path = 'E:/Projects/box_app/data/domain-name-sales.tsv'  \n",
    "domain_data = pd.read_csv(domain_path, delimiter='\\t')"
   ]
  },
  {
   "cell_type": "code",
   "execution_count": 145,
   "metadata": {},
   "outputs": [],
   "source": [
    "domain_path = 'data/domain-name-sales.tsv'  \n",
    "domain_data = pd.read_csv(domain_path, delimiter='\\t')\n"
   ]
  },
  {
   "cell_type": "code",
   "execution_count": 146,
   "metadata": {},
   "outputs": [],
   "source": [
    "domain_data.set_index('date', inplace=True)\n",
    "domain_data = domain_data.drop(columns=['venue'])\n",
    "domain_data.sort_index(inplace=True)"
   ]
  },
  {
   "cell_type": "code",
   "execution_count": 147,
   "metadata": {},
   "outputs": [
    {
     "data": {
      "text/html": [
       "<div>\n",
       "<style scoped>\n",
       "    .dataframe tbody tr th:only-of-type {\n",
       "        vertical-align: middle;\n",
       "    }\n",
       "\n",
       "    .dataframe tbody tr th {\n",
       "        vertical-align: top;\n",
       "    }\n",
       "\n",
       "    .dataframe thead th {\n",
       "        text-align: right;\n",
       "    }\n",
       "</style>\n",
       "<table border=\"1\" class=\"dataframe\">\n",
       "  <thead>\n",
       "    <tr style=\"text-align: right;\">\n",
       "      <th></th>\n",
       "      <th>domain</th>\n",
       "      <th>price</th>\n",
       "    </tr>\n",
       "    <tr>\n",
       "      <th>date</th>\n",
       "      <th></th>\n",
       "      <th></th>\n",
       "    </tr>\n",
       "  </thead>\n",
       "  <tbody>\n",
       "    <tr>\n",
       "      <th>1999-04-01</th>\n",
       "      <td>altavista.com</td>\n",
       "      <td>3250000</td>\n",
       "    </tr>\n",
       "    <tr>\n",
       "      <th>1999-04-01</th>\n",
       "      <td>bingo.com</td>\n",
       "      <td>1100000</td>\n",
       "    </tr>\n",
       "    <tr>\n",
       "      <th>1999-11-01</th>\n",
       "      <td>fly.com</td>\n",
       "      <td>1500000</td>\n",
       "    </tr>\n",
       "    <tr>\n",
       "      <th>1999-12-01</th>\n",
       "      <td>autos.com</td>\n",
       "      <td>2200000</td>\n",
       "    </tr>\n",
       "    <tr>\n",
       "      <th>1999-12-01</th>\n",
       "      <td>england.com</td>\n",
       "      <td>2000000</td>\n",
       "    </tr>\n",
       "    <tr>\n",
       "      <th>...</th>\n",
       "      <td>...</td>\n",
       "      <td>...</td>\n",
       "    </tr>\n",
       "    <tr>\n",
       "      <th>2021-01-01</th>\n",
       "      <td>yes.movie</td>\n",
       "      <td>253</td>\n",
       "    </tr>\n",
       "    <tr>\n",
       "      <th>2021-01-01</th>\n",
       "      <td>yopal.com</td>\n",
       "      <td>405</td>\n",
       "    </tr>\n",
       "    <tr>\n",
       "      <th>2021-01-01</th>\n",
       "      <td>yougraph.com</td>\n",
       "      <td>1161</td>\n",
       "    </tr>\n",
       "    <tr>\n",
       "      <th>2021-01-01</th>\n",
       "      <td>zenvie.com</td>\n",
       "      <td>349</td>\n",
       "    </tr>\n",
       "    <tr>\n",
       "      <th>2021-01-01</th>\n",
       "      <td>ziggieslivemusic.com</td>\n",
       "      <td>105</td>\n",
       "    </tr>\n",
       "  </tbody>\n",
       "</table>\n",
       "<p>348236 rows × 2 columns</p>\n",
       "</div>"
      ],
      "text/plain": [
       "                          domain    price\n",
       "date                                     \n",
       "1999-04-01         altavista.com  3250000\n",
       "1999-04-01             bingo.com  1100000\n",
       "1999-11-01               fly.com  1500000\n",
       "1999-12-01             autos.com  2200000\n",
       "1999-12-01           england.com  2000000\n",
       "...                          ...      ...\n",
       "2021-01-01             yes.movie      253\n",
       "2021-01-01             yopal.com      405\n",
       "2021-01-01          yougraph.com     1161\n",
       "2021-01-01            zenvie.com      349\n",
       "2021-01-01  ziggieslivemusic.com      105\n",
       "\n",
       "[348236 rows x 2 columns]"
      ]
     },
     "execution_count": 147,
     "metadata": {},
     "output_type": "execute_result"
    }
   ],
   "source": [
    "domain_data.index = pd.to_datetime(domain_data.index)\n",
    "domain_data"
   ]
  },
  {
   "cell_type": "code",
   "execution_count": 148,
   "metadata": {},
   "outputs": [],
   "source": [
    "domain_data['domain_length'] = domain_data['domain'].apply(len)\n",
    "domain_data['num_vowels'] = domain_data['domain'].apply(lambda x: sum([1 for char in x if char in 'aeiou']))\n",
    "domain_data['num_consonants'] = domain_data['domain'].apply(lambda x: sum([1 for char in x if char.isalpha() and char not in 'aeiou']))\n",
    "domain_data['tld'] = domain_data['domain'].apply(lambda x: x.split('.')[-1])  # Extract TLD\n"
   ]
  },
  {
   "cell_type": "code",
   "execution_count": 149,
   "metadata": {},
   "outputs": [
    {
     "data": {
      "text/html": [
       "<div>\n",
       "<style scoped>\n",
       "    .dataframe tbody tr th:only-of-type {\n",
       "        vertical-align: middle;\n",
       "    }\n",
       "\n",
       "    .dataframe tbody tr th {\n",
       "        vertical-align: top;\n",
       "    }\n",
       "\n",
       "    .dataframe thead th {\n",
       "        text-align: right;\n",
       "    }\n",
       "</style>\n",
       "<table border=\"1\" class=\"dataframe\">\n",
       "  <thead>\n",
       "    <tr style=\"text-align: right;\">\n",
       "      <th></th>\n",
       "      <th>domain</th>\n",
       "      <th>price</th>\n",
       "      <th>domain_length</th>\n",
       "      <th>num_vowels</th>\n",
       "      <th>num_consonants</th>\n",
       "      <th>tld</th>\n",
       "    </tr>\n",
       "    <tr>\n",
       "      <th>date</th>\n",
       "      <th></th>\n",
       "      <th></th>\n",
       "      <th></th>\n",
       "      <th></th>\n",
       "      <th></th>\n",
       "      <th></th>\n",
       "    </tr>\n",
       "  </thead>\n",
       "  <tbody>\n",
       "    <tr>\n",
       "      <th>1999-04-01</th>\n",
       "      <td>altavista.com</td>\n",
       "      <td>3250000</td>\n",
       "      <td>13</td>\n",
       "      <td>5</td>\n",
       "      <td>7</td>\n",
       "      <td>com</td>\n",
       "    </tr>\n",
       "    <tr>\n",
       "      <th>1999-04-01</th>\n",
       "      <td>bingo.com</td>\n",
       "      <td>1100000</td>\n",
       "      <td>9</td>\n",
       "      <td>3</td>\n",
       "      <td>5</td>\n",
       "      <td>com</td>\n",
       "    </tr>\n",
       "    <tr>\n",
       "      <th>1999-11-01</th>\n",
       "      <td>fly.com</td>\n",
       "      <td>1500000</td>\n",
       "      <td>7</td>\n",
       "      <td>1</td>\n",
       "      <td>5</td>\n",
       "      <td>com</td>\n",
       "    </tr>\n",
       "    <tr>\n",
       "      <th>1999-12-01</th>\n",
       "      <td>autos.com</td>\n",
       "      <td>2200000</td>\n",
       "      <td>9</td>\n",
       "      <td>4</td>\n",
       "      <td>4</td>\n",
       "      <td>com</td>\n",
       "    </tr>\n",
       "    <tr>\n",
       "      <th>1999-12-01</th>\n",
       "      <td>england.com</td>\n",
       "      <td>2000000</td>\n",
       "      <td>11</td>\n",
       "      <td>3</td>\n",
       "      <td>7</td>\n",
       "      <td>com</td>\n",
       "    </tr>\n",
       "    <tr>\n",
       "      <th>...</th>\n",
       "      <td>...</td>\n",
       "      <td>...</td>\n",
       "      <td>...</td>\n",
       "      <td>...</td>\n",
       "      <td>...</td>\n",
       "      <td>...</td>\n",
       "    </tr>\n",
       "    <tr>\n",
       "      <th>2021-01-01</th>\n",
       "      <td>yes.movie</td>\n",
       "      <td>253</td>\n",
       "      <td>9</td>\n",
       "      <td>4</td>\n",
       "      <td>4</td>\n",
       "      <td>movie</td>\n",
       "    </tr>\n",
       "    <tr>\n",
       "      <th>2021-01-01</th>\n",
       "      <td>yopal.com</td>\n",
       "      <td>405</td>\n",
       "      <td>9</td>\n",
       "      <td>3</td>\n",
       "      <td>5</td>\n",
       "      <td>com</td>\n",
       "    </tr>\n",
       "    <tr>\n",
       "      <th>2021-01-01</th>\n",
       "      <td>yougraph.com</td>\n",
       "      <td>1161</td>\n",
       "      <td>12</td>\n",
       "      <td>4</td>\n",
       "      <td>7</td>\n",
       "      <td>com</td>\n",
       "    </tr>\n",
       "    <tr>\n",
       "      <th>2021-01-01</th>\n",
       "      <td>zenvie.com</td>\n",
       "      <td>349</td>\n",
       "      <td>10</td>\n",
       "      <td>4</td>\n",
       "      <td>5</td>\n",
       "      <td>com</td>\n",
       "    </tr>\n",
       "    <tr>\n",
       "      <th>2021-01-01</th>\n",
       "      <td>ziggieslivemusic.com</td>\n",
       "      <td>105</td>\n",
       "      <td>20</td>\n",
       "      <td>8</td>\n",
       "      <td>11</td>\n",
       "      <td>com</td>\n",
       "    </tr>\n",
       "  </tbody>\n",
       "</table>\n",
       "<p>348236 rows × 6 columns</p>\n",
       "</div>"
      ],
      "text/plain": [
       "                          domain    price  domain_length  num_vowels  \\\n",
       "date                                                                   \n",
       "1999-04-01         altavista.com  3250000             13           5   \n",
       "1999-04-01             bingo.com  1100000              9           3   \n",
       "1999-11-01               fly.com  1500000              7           1   \n",
       "1999-12-01             autos.com  2200000              9           4   \n",
       "1999-12-01           england.com  2000000             11           3   \n",
       "...                          ...      ...            ...         ...   \n",
       "2021-01-01             yes.movie      253              9           4   \n",
       "2021-01-01             yopal.com      405              9           3   \n",
       "2021-01-01          yougraph.com     1161             12           4   \n",
       "2021-01-01            zenvie.com      349             10           4   \n",
       "2021-01-01  ziggieslivemusic.com      105             20           8   \n",
       "\n",
       "            num_consonants    tld  \n",
       "date                               \n",
       "1999-04-01               7    com  \n",
       "1999-04-01               5    com  \n",
       "1999-11-01               5    com  \n",
       "1999-12-01               4    com  \n",
       "1999-12-01               7    com  \n",
       "...                    ...    ...  \n",
       "2021-01-01               4  movie  \n",
       "2021-01-01               5    com  \n",
       "2021-01-01               7    com  \n",
       "2021-01-01               5    com  \n",
       "2021-01-01              11    com  \n",
       "\n",
       "[348236 rows x 6 columns]"
      ]
     },
     "execution_count": 149,
     "metadata": {},
     "output_type": "execute_result"
    }
   ],
   "source": [
    "domain_data"
   ]
  },
  {
   "cell_type": "code",
   "execution_count": 150,
   "metadata": {},
   "outputs": [
    {
     "data": {
      "text/plain": [
       "Index(['name', 'price_usd', 'price_eth'], dtype='object')"
      ]
     },
     "execution_count": 150,
     "metadata": {},
     "output_type": "execute_result"
    }
   ],
   "source": [
    "box_domains_sales.columns"
   ]
  },
  {
   "cell_type": "code",
   "execution_count": 151,
   "metadata": {},
   "outputs": [],
   "source": [
    "filtered_box = box_domains_sales.drop(columns=['price_eth'])\n",
    "filtered_box.rename(columns={'name':'domain', 'price_usd':'price'}, inplace=True)\n"
   ]
  },
  {
   "cell_type": "code",
   "execution_count": 152,
   "metadata": {},
   "outputs": [],
   "source": [
    "filtered_box['domain_length'] = filtered_box['domain'].apply(len)\n",
    "filtered_box['num_vowels'] = filtered_box['domain'].apply(lambda x: sum([1 for char in x if char in 'aeiou']))\n",
    "filtered_box['num_consonants'] = filtered_box['domain'].apply(lambda x: sum([1 for char in x if char.isalpha() and char not in 'aeiou']))\n",
    "filtered_box['tld'] = filtered_box['domain'].apply(lambda x: x.split('.')[-1])  # Extract TLD\n"
   ]
  },
  {
   "cell_type": "code",
   "execution_count": 153,
   "metadata": {},
   "outputs": [],
   "source": [
    "filtered_box.index = filtered_box.index.strftime('%Y-%m-%d')"
   ]
  },
  {
   "cell_type": "code",
   "execution_count": 154,
   "metadata": {},
   "outputs": [
    {
     "data": {
      "text/html": [
       "<div>\n",
       "<style scoped>\n",
       "    .dataframe tbody tr th:only-of-type {\n",
       "        vertical-align: middle;\n",
       "    }\n",
       "\n",
       "    .dataframe tbody tr th {\n",
       "        vertical-align: top;\n",
       "    }\n",
       "\n",
       "    .dataframe thead th {\n",
       "        text-align: right;\n",
       "    }\n",
       "</style>\n",
       "<table border=\"1\" class=\"dataframe\">\n",
       "  <thead>\n",
       "    <tr style=\"text-align: right;\">\n",
       "      <th></th>\n",
       "      <th>domain</th>\n",
       "      <th>price</th>\n",
       "      <th>domain_length</th>\n",
       "      <th>num_vowels</th>\n",
       "      <th>num_consonants</th>\n",
       "      <th>tld</th>\n",
       "    </tr>\n",
       "    <tr>\n",
       "      <th>day</th>\n",
       "      <th></th>\n",
       "      <th></th>\n",
       "      <th></th>\n",
       "      <th></th>\n",
       "      <th></th>\n",
       "      <th></th>\n",
       "    </tr>\n",
       "  </thead>\n",
       "  <tbody>\n",
       "    <tr>\n",
       "      <th>2024-02-03</th>\n",
       "      <td>696.box</td>\n",
       "      <td>33.09</td>\n",
       "      <td>7</td>\n",
       "      <td>1</td>\n",
       "      <td>2</td>\n",
       "      <td>box</td>\n",
       "    </tr>\n",
       "    <tr>\n",
       "      <th>2024-02-05</th>\n",
       "      <td>song.box</td>\n",
       "      <td>45.60</td>\n",
       "      <td>8</td>\n",
       "      <td>2</td>\n",
       "      <td>5</td>\n",
       "      <td>box</td>\n",
       "    </tr>\n",
       "    <tr>\n",
       "      <th>2024-02-10</th>\n",
       "      <td>to.box</td>\n",
       "      <td>96.97</td>\n",
       "      <td>6</td>\n",
       "      <td>2</td>\n",
       "      <td>3</td>\n",
       "      <td>box</td>\n",
       "    </tr>\n",
       "    <tr>\n",
       "      <th>2024-02-20</th>\n",
       "      <td>uae.box</td>\n",
       "      <td>203.19</td>\n",
       "      <td>7</td>\n",
       "      <td>4</td>\n",
       "      <td>2</td>\n",
       "      <td>box</td>\n",
       "    </tr>\n",
       "    <tr>\n",
       "      <th>2024-02-22</th>\n",
       "      <td>08.box</td>\n",
       "      <td>116.74</td>\n",
       "      <td>6</td>\n",
       "      <td>1</td>\n",
       "      <td>2</td>\n",
       "      <td>box</td>\n",
       "    </tr>\n",
       "    <tr>\n",
       "      <th>2024-02-24</th>\n",
       "      <td>404.box</td>\n",
       "      <td>203.68</td>\n",
       "      <td>7</td>\n",
       "      <td>1</td>\n",
       "      <td>2</td>\n",
       "      <td>box</td>\n",
       "    </tr>\n",
       "    <tr>\n",
       "      <th>2024-02-25</th>\n",
       "      <td>010.box</td>\n",
       "      <td>119.08</td>\n",
       "      <td>7</td>\n",
       "      <td>1</td>\n",
       "      <td>2</td>\n",
       "      <td>box</td>\n",
       "    </tr>\n",
       "    <tr>\n",
       "      <th>2024-02-25</th>\n",
       "      <td>75.box</td>\n",
       "      <td>269.17</td>\n",
       "      <td>6</td>\n",
       "      <td>1</td>\n",
       "      <td>2</td>\n",
       "      <td>box</td>\n",
       "    </tr>\n",
       "    <tr>\n",
       "      <th>2024-02-25</th>\n",
       "      <td>015.box</td>\n",
       "      <td>104.68</td>\n",
       "      <td>7</td>\n",
       "      <td>1</td>\n",
       "      <td>2</td>\n",
       "      <td>box</td>\n",
       "    </tr>\n",
       "    <tr>\n",
       "      <th>2024-02-25</th>\n",
       "      <td>70.box</td>\n",
       "      <td>269.17</td>\n",
       "      <td>6</td>\n",
       "      <td>1</td>\n",
       "      <td>2</td>\n",
       "      <td>box</td>\n",
       "    </tr>\n",
       "    <tr>\n",
       "      <th>2024-02-25</th>\n",
       "      <td>40.box</td>\n",
       "      <td>209.36</td>\n",
       "      <td>6</td>\n",
       "      <td>1</td>\n",
       "      <td>2</td>\n",
       "      <td>box</td>\n",
       "    </tr>\n",
       "    <tr>\n",
       "      <th>2024-02-25</th>\n",
       "      <td>ap.box</td>\n",
       "      <td>134.59</td>\n",
       "      <td>6</td>\n",
       "      <td>2</td>\n",
       "      <td>3</td>\n",
       "      <td>box</td>\n",
       "    </tr>\n",
       "    <tr>\n",
       "      <th>2024-02-25</th>\n",
       "      <td>38.box</td>\n",
       "      <td>301.73</td>\n",
       "      <td>6</td>\n",
       "      <td>1</td>\n",
       "      <td>2</td>\n",
       "      <td>box</td>\n",
       "    </tr>\n",
       "    <tr>\n",
       "      <th>2024-04-17</th>\n",
       "      <td>mewtwo.box</td>\n",
       "      <td>29.61</td>\n",
       "      <td>10</td>\n",
       "      <td>3</td>\n",
       "      <td>6</td>\n",
       "      <td>box</td>\n",
       "    </tr>\n",
       "    <tr>\n",
       "      <th>2024-04-24</th>\n",
       "      <td>0000.box</td>\n",
       "      <td>93.92</td>\n",
       "      <td>8</td>\n",
       "      <td>1</td>\n",
       "      <td>2</td>\n",
       "      <td>box</td>\n",
       "    </tr>\n",
       "    <tr>\n",
       "      <th>2024-04-25</th>\n",
       "      <td>express.box</td>\n",
       "      <td>317.33</td>\n",
       "      <td>11</td>\n",
       "      <td>3</td>\n",
       "      <td>7</td>\n",
       "      <td>box</td>\n",
       "    </tr>\n",
       "    <tr>\n",
       "      <th>2024-04-27</th>\n",
       "      <td>jane.box</td>\n",
       "      <td>1,151.71</td>\n",
       "      <td>8</td>\n",
       "      <td>3</td>\n",
       "      <td>4</td>\n",
       "      <td>box</td>\n",
       "    </tr>\n",
       "    <tr>\n",
       "      <th>2024-04-27</th>\n",
       "      <td>vm.box</td>\n",
       "      <td>31,481.47</td>\n",
       "      <td>6</td>\n",
       "      <td>1</td>\n",
       "      <td>4</td>\n",
       "      <td>box</td>\n",
       "    </tr>\n",
       "    <tr>\n",
       "      <th>2024-04-28</th>\n",
       "      <td>man.box</td>\n",
       "      <td>224.60</td>\n",
       "      <td>7</td>\n",
       "      <td>2</td>\n",
       "      <td>4</td>\n",
       "      <td>box</td>\n",
       "    </tr>\n",
       "    <tr>\n",
       "      <th>2024-04-28</th>\n",
       "      <td>good.box</td>\n",
       "      <td>314.61</td>\n",
       "      <td>8</td>\n",
       "      <td>3</td>\n",
       "      <td>4</td>\n",
       "      <td>box</td>\n",
       "    </tr>\n",
       "    <tr>\n",
       "      <th>2024-05-07</th>\n",
       "      <td>onyx.box</td>\n",
       "      <td>167.83</td>\n",
       "      <td>8</td>\n",
       "      <td>2</td>\n",
       "      <td>5</td>\n",
       "      <td>box</td>\n",
       "    </tr>\n",
       "    <tr>\n",
       "      <th>2024-07-23</th>\n",
       "      <td>lauc.chain.box</td>\n",
       "      <td>5.00</td>\n",
       "      <td>14</td>\n",
       "      <td>5</td>\n",
       "      <td>7</td>\n",
       "      <td>box</td>\n",
       "    </tr>\n",
       "    <tr>\n",
       "      <th>2024-07-24</th>\n",
       "      <td>cryptobet.chain.box</td>\n",
       "      <td>3.09</td>\n",
       "      <td>19</td>\n",
       "      <td>5</td>\n",
       "      <td>12</td>\n",
       "      <td>box</td>\n",
       "    </tr>\n",
       "  </tbody>\n",
       "</table>\n",
       "</div>"
      ],
      "text/plain": [
       "                         domain     price  domain_length  num_vowels  \\\n",
       "day                                                                    \n",
       "2024-02-03              696.box     33.09              7           1   \n",
       "2024-02-05             song.box     45.60              8           2   \n",
       "2024-02-10               to.box     96.97              6           2   \n",
       "2024-02-20              uae.box    203.19              7           4   \n",
       "2024-02-22               08.box    116.74              6           1   \n",
       "2024-02-24              404.box    203.68              7           1   \n",
       "2024-02-25              010.box    119.08              7           1   \n",
       "2024-02-25               75.box    269.17              6           1   \n",
       "2024-02-25              015.box    104.68              7           1   \n",
       "2024-02-25               70.box    269.17              6           1   \n",
       "2024-02-25               40.box    209.36              6           1   \n",
       "2024-02-25               ap.box    134.59              6           2   \n",
       "2024-02-25               38.box    301.73              6           1   \n",
       "2024-04-17           mewtwo.box     29.61             10           3   \n",
       "2024-04-24             0000.box     93.92              8           1   \n",
       "2024-04-25          express.box    317.33             11           3   \n",
       "2024-04-27             jane.box  1,151.71              8           3   \n",
       "2024-04-27               vm.box 31,481.47              6           1   \n",
       "2024-04-28              man.box    224.60              7           2   \n",
       "2024-04-28             good.box    314.61              8           3   \n",
       "2024-05-07             onyx.box    167.83              8           2   \n",
       "2024-07-23       lauc.chain.box      5.00             14           5   \n",
       "2024-07-24  cryptobet.chain.box      3.09             19           5   \n",
       "\n",
       "            num_consonants  tld  \n",
       "day                              \n",
       "2024-02-03               2  box  \n",
       "2024-02-05               5  box  \n",
       "2024-02-10               3  box  \n",
       "2024-02-20               2  box  \n",
       "2024-02-22               2  box  \n",
       "2024-02-24               2  box  \n",
       "2024-02-25               2  box  \n",
       "2024-02-25               2  box  \n",
       "2024-02-25               2  box  \n",
       "2024-02-25               2  box  \n",
       "2024-02-25               2  box  \n",
       "2024-02-25               3  box  \n",
       "2024-02-25               2  box  \n",
       "2024-04-17               6  box  \n",
       "2024-04-24               2  box  \n",
       "2024-04-25               7  box  \n",
       "2024-04-27               4  box  \n",
       "2024-04-27               4  box  \n",
       "2024-04-28               4  box  \n",
       "2024-04-28               4  box  \n",
       "2024-05-07               5  box  \n",
       "2024-07-23               7  box  \n",
       "2024-07-24              12  box  "
      ]
     },
     "execution_count": 154,
     "metadata": {},
     "output_type": "execute_result"
    }
   ],
   "source": [
    "filtered_box"
   ]
  },
  {
   "cell_type": "code",
   "execution_count": 155,
   "metadata": {},
   "outputs": [],
   "source": [
    "features = ['domain_length', 'num_vowels', 'num_consonants', 'tld']\n",
    "X = domain_data[features]\n",
    "y = domain_data['price']"
   ]
  },
  {
   "cell_type": "code",
   "execution_count": 156,
   "metadata": {},
   "outputs": [],
   "source": [
    "# Preprocess categorical data (TLD) and handle missing values\n",
    "preprocessor = ColumnTransformer(\n",
    "    transformers=[\n",
    "        ('num', Pipeline(steps=[\n",
    "            ('imputer', SimpleImputer(strategy='median')),\n",
    "            ('scaler', StandardScaler())\n",
    "        ]), ['domain_length', 'num_vowels', 'num_consonants']),\n",
    "        ('cat', Pipeline(steps=[\n",
    "            ('imputer', SimpleImputer(strategy='most_frequent')),\n",
    "            ('onehot', OneHotEncoder(handle_unknown='ignore'))\n",
    "        ]), ['tld'])\n",
    "    ]\n",
    ")\n",
    "\n",
    "# Create a pipeline with Ridge regression\n",
    "pipeline = Pipeline(steps=[\n",
    "    ('preprocessor', preprocessor),\n",
    "    ('regressor', Ridge())\n",
    "])\n",
    "\n",
    "# Define the parameter grid for hyperparameter tuning\n",
    "param_grid = {\n",
    "    'regressor__alpha': [0.1, 1.0, 10.0, 100.0, 1000.0]\n",
    "}"
   ]
  },
  {
   "cell_type": "code",
   "execution_count": 157,
   "metadata": {},
   "outputs": [],
   "source": [
    "X_train, X_test, y_train, y_test = train_test_split(X, y, test_size=0.2, random_state=42)\n"
   ]
  },
  {
   "cell_type": "markdown",
   "metadata": {},
   "source": [
    "**Ridge Regression**"
   ]
  },
  {
   "cell_type": "code",
   "execution_count": 158,
   "metadata": {},
   "outputs": [
    {
     "name": "stdout",
     "output_type": "stream",
     "text": [
      "Best Alpha: 1000.0\n",
      "MAE: 2705.0255351946857\n",
      "MSE: 2852191402.3463864\n",
      "R²: 0.0003925999206353392\n"
     ]
    }
   ],
   "source": [
    "grid_search = GridSearchCV(pipeline, param_grid, cv=5, scoring='r2')\n",
    "grid_search.fit(X_train, y_train)\n",
    "\n",
    "# Best model from grid search\n",
    "best_model = grid_search.best_estimator_\n",
    "\n",
    "# Predict and evaluate\n",
    "y_pred = best_model.predict(X_test)\n",
    "mae = mean_absolute_error(y_test, y_pred)\n",
    "mse = mean_squared_error(y_test, y_pred)\n",
    "r2 = r2_score(y_test, y_pred)\n",
    "\n",
    "print(f'Best Alpha: {grid_search.best_params_[\"regressor__alpha\"]}')\n",
    "print(f'MAE: {mae}')\n",
    "print(f'MSE: {mse}')\n",
    "print(f'R²: {r2}')"
   ]
  },
  {
   "cell_type": "markdown",
   "metadata": {},
   "source": [
    "**Random Forest Regressor**"
   ]
  },
  {
   "cell_type": "markdown",
   "metadata": {},
   "source": [
    "pipeline = Pipeline(steps=[\n",
    "    ('preprocessor', preprocessor),\n",
    "    ('regressor', RandomForestRegressor(n_estimators=200, max_depth=20, min_samples_split=5, random_state=42))\n",
    "])\n",
    "\n",
    "# Fit the model\n",
    "pipeline.fit(X_train, y_train)\n",
    "\n",
    "# Predict and evaluate\n",
    "y_pred = pipeline.predict(X_test)\n",
    "mae = mean_absolute_error(y_test, y_pred)\n",
    "mse = mean_squared_error(y_test, y_pred)\n",
    "r2 = r2_score(y_test, y_pred)\n",
    "\n",
    "print(f'MAE: {mae}')\n",
    "print(f'MSE: {mse}')\n",
    "print(f'R²: {r2}')"
   ]
  },
  {
   "cell_type": "markdown",
   "metadata": {},
   "source": [
    "**XGBoost**"
   ]
  },
  {
   "cell_type": "markdown",
   "metadata": {},
   "source": [
    "pipeline = Pipeline(steps=[\n",
    "    ('preprocessor', preprocessor),\n",
    "    ('regressor', XGBRegressor(n_estimators=200, max_depth=5, learning_rate=0.1, random_state=42))\n",
    "])\n",
    "\n",
    "# Fit the model\n",
    "pipeline.fit(X_train, y_train)\n",
    "\n",
    "# Predict and evaluate\n",
    "y_pred = pipeline.predict(X_test)\n",
    "mae = mean_absolute_error(y_test, y_pred)\n",
    "mse = mean_squared_error(y_test, y_pred)\n",
    "r2 = r2_score(y_test, y_pred)\n",
    "\n",
    "print(f'MAE: {mae}')\n",
    "print(f'MSE: {mse}')\n",
    "print(f'R²: {r2}')"
   ]
  },
  {
   "cell_type": "markdown",
   "metadata": {},
   "source": [
    "**LightGBM**"
   ]
  },
  {
   "cell_type": "markdown",
   "metadata": {},
   "source": [
    "pipeline = Pipeline(steps=[\n",
    "    ('preprocessor', preprocessor),\n",
    "    ('regressor', LGBMRegressor(n_estimators=200, max_depth=5, learning_rate=0.1, random_state=42))\n",
    "])\n",
    "\n",
    "# Fit the model\n",
    "pipeline.fit(X_train, y_train)\n",
    "\n",
    "# Predict and evaluate\n",
    "y_pred = pipeline.predict(X_test)\n",
    "mae = mean_absolute_error(y_test, y_pred)\n",
    "mse = mean_squared_error(y_test, y_pred)\n",
    "r2 = r2_score(y_test, y_pred)\n",
    "\n",
    "print(f'MAE: {mae}')\n",
    "print(f'MSE: {mse}')\n",
    "print(f'R²: {r2}')"
   ]
  },
  {
   "cell_type": "markdown",
   "metadata": {},
   "source": [
    "**Cat Boost**"
   ]
  },
  {
   "cell_type": "markdown",
   "metadata": {},
   "source": [
    "pipeline = Pipeline(steps=[\n",
    "    ('preprocessor', preprocessor),\n",
    "    ('regressor', CatBoostRegressor(iterations=200, depth=5, learning_rate=0.1, random_state=42, verbose=0))\n",
    "])\n",
    "\n",
    "# Fit the model\n",
    "pipeline.fit(X_train, y_train)\n",
    "\n",
    "# Predict and evaluate\n",
    "y_pred = pipeline.predict(X_test)\n",
    "mae = mean_absolute_error(y_test, y_pred)\n",
    "mse = mean_squared_error(y_test, y_pred)\n",
    "r2 = r2_score(y_test, y_pred)\n",
    "\n",
    "print(f'MAE: {mae}')\n",
    "print(f'MSE: {mse}')\n",
    "print(f'R²: {r2}')"
   ]
  },
  {
   "cell_type": "markdown",
   "metadata": {},
   "source": [
    "**Prophet**"
   ]
  },
  {
   "cell_type": "markdown",
   "metadata": {},
   "source": [
    "from sklearn.base import BaseEstimator, TransformerMixin\n",
    "\n",
    "class ProphetRegressor(BaseEstimator, TransformerMixin):\n",
    "    def __init__(self):\n",
    "        self.model = Prophet()\n",
    "        self.fitted_model = None\n",
    "\n",
    "    def fit(self, X, y=None):\n",
    "        df = pd.DataFrame({'ds': X.squeeze(), 'y': y})\n",
    "        self.fitted_model = self.model.fit(df)\n",
    "        return self\n",
    "\n",
    "    def predict(self, X):\n",
    "        future = pd.DataFrame({'ds': X.squeeze()})\n",
    "        forecast = self.fitted_model.predict(future)\n",
    "        return forecast['yhat'].values"
   ]
  },
  {
   "cell_type": "markdown",
   "metadata": {},
   "source": [
    "pipeline = Pipeline(steps=[\n",
    "    ('preprocessor', preprocessor),\n",
    "    ('regressor', ProphetRegressor())\n",
    "])"
   ]
  },
  {
   "cell_type": "markdown",
   "metadata": {},
   "source": [
    "X_train, X_test, y_train, y_test = train_test_split(X, y, test_size=0.2, random_state=42)\n",
    "\n"
   ]
  },
  {
   "cell_type": "markdown",
   "metadata": {},
   "source": [
    "**Best Model**"
   ]
  },
  {
   "cell_type": "code",
   "execution_count": 159,
   "metadata": {},
   "outputs": [],
   "source": [
    "pipeline = Pipeline(steps=[\n",
    "    ('preprocessor', preprocessor),\n",
    "    ('regressor', Ridge(alpha=1000.0))  # Set the best alpha value from grid search\n",
    "])"
   ]
  },
  {
   "cell_type": "code",
   "execution_count": 160,
   "metadata": {},
   "outputs": [
    {
     "name": "stdout",
     "output_type": "stream",
     "text": [
      "MAE: 2705.0255351946857\n",
      "MSE: 2852191402.3463864\n",
      "R²: 0.0003925999206353392\n"
     ]
    }
   ],
   "source": [
    "X_train, X_test, y_train, y_test = train_test_split(X, y, test_size=0.2, random_state=42)\n",
    "pipeline.fit(X_train, y_train)\n",
    "y_pred = pipeline.predict(X_test)\n",
    "mae = mean_absolute_error(y_test, y_pred)\n",
    "mse = mean_squared_error(y_test, y_pred)\n",
    "r2 = r2_score(y_test, y_pred)\n",
    "\n",
    "print(f'MAE: {mae}')\n",
    "print(f'MSE: {mse}')\n",
    "print(f'R²: {r2}')"
   ]
  },
  {
   "cell_type": "code",
   "execution_count": 161,
   "metadata": {},
   "outputs": [
    {
     "data": {
      "text/html": [
       "<div>\n",
       "<style scoped>\n",
       "    .dataframe tbody tr th:only-of-type {\n",
       "        vertical-align: middle;\n",
       "    }\n",
       "\n",
       "    .dataframe tbody tr th {\n",
       "        vertical-align: top;\n",
       "    }\n",
       "\n",
       "    .dataframe thead th {\n",
       "        text-align: right;\n",
       "    }\n",
       "</style>\n",
       "<table border=\"1\" class=\"dataframe\">\n",
       "  <thead>\n",
       "    <tr style=\"text-align: right;\">\n",
       "      <th></th>\n",
       "      <th>domain</th>\n",
       "      <th>price</th>\n",
       "      <th>domain_length</th>\n",
       "      <th>num_vowels</th>\n",
       "      <th>num_consonants</th>\n",
       "      <th>tld</th>\n",
       "    </tr>\n",
       "    <tr>\n",
       "      <th>day</th>\n",
       "      <th></th>\n",
       "      <th></th>\n",
       "      <th></th>\n",
       "      <th></th>\n",
       "      <th></th>\n",
       "      <th></th>\n",
       "    </tr>\n",
       "  </thead>\n",
       "  <tbody>\n",
       "    <tr>\n",
       "      <th>2024-02-03</th>\n",
       "      <td>696.box</td>\n",
       "      <td>33.09</td>\n",
       "      <td>7</td>\n",
       "      <td>1</td>\n",
       "      <td>2</td>\n",
       "      <td>box</td>\n",
       "    </tr>\n",
       "    <tr>\n",
       "      <th>2024-02-05</th>\n",
       "      <td>song.box</td>\n",
       "      <td>45.60</td>\n",
       "      <td>8</td>\n",
       "      <td>2</td>\n",
       "      <td>5</td>\n",
       "      <td>box</td>\n",
       "    </tr>\n",
       "    <tr>\n",
       "      <th>2024-02-10</th>\n",
       "      <td>to.box</td>\n",
       "      <td>96.97</td>\n",
       "      <td>6</td>\n",
       "      <td>2</td>\n",
       "      <td>3</td>\n",
       "      <td>box</td>\n",
       "    </tr>\n",
       "    <tr>\n",
       "      <th>2024-02-20</th>\n",
       "      <td>uae.box</td>\n",
       "      <td>203.19</td>\n",
       "      <td>7</td>\n",
       "      <td>4</td>\n",
       "      <td>2</td>\n",
       "      <td>box</td>\n",
       "    </tr>\n",
       "    <tr>\n",
       "      <th>2024-02-22</th>\n",
       "      <td>08.box</td>\n",
       "      <td>116.74</td>\n",
       "      <td>6</td>\n",
       "      <td>1</td>\n",
       "      <td>2</td>\n",
       "      <td>box</td>\n",
       "    </tr>\n",
       "    <tr>\n",
       "      <th>2024-02-24</th>\n",
       "      <td>404.box</td>\n",
       "      <td>203.68</td>\n",
       "      <td>7</td>\n",
       "      <td>1</td>\n",
       "      <td>2</td>\n",
       "      <td>box</td>\n",
       "    </tr>\n",
       "    <tr>\n",
       "      <th>2024-02-25</th>\n",
       "      <td>010.box</td>\n",
       "      <td>119.08</td>\n",
       "      <td>7</td>\n",
       "      <td>1</td>\n",
       "      <td>2</td>\n",
       "      <td>box</td>\n",
       "    </tr>\n",
       "    <tr>\n",
       "      <th>2024-02-25</th>\n",
       "      <td>75.box</td>\n",
       "      <td>269.17</td>\n",
       "      <td>6</td>\n",
       "      <td>1</td>\n",
       "      <td>2</td>\n",
       "      <td>box</td>\n",
       "    </tr>\n",
       "    <tr>\n",
       "      <th>2024-02-25</th>\n",
       "      <td>015.box</td>\n",
       "      <td>104.68</td>\n",
       "      <td>7</td>\n",
       "      <td>1</td>\n",
       "      <td>2</td>\n",
       "      <td>box</td>\n",
       "    </tr>\n",
       "    <tr>\n",
       "      <th>2024-02-25</th>\n",
       "      <td>70.box</td>\n",
       "      <td>269.17</td>\n",
       "      <td>6</td>\n",
       "      <td>1</td>\n",
       "      <td>2</td>\n",
       "      <td>box</td>\n",
       "    </tr>\n",
       "    <tr>\n",
       "      <th>2024-02-25</th>\n",
       "      <td>40.box</td>\n",
       "      <td>209.36</td>\n",
       "      <td>6</td>\n",
       "      <td>1</td>\n",
       "      <td>2</td>\n",
       "      <td>box</td>\n",
       "    </tr>\n",
       "    <tr>\n",
       "      <th>2024-02-25</th>\n",
       "      <td>ap.box</td>\n",
       "      <td>134.59</td>\n",
       "      <td>6</td>\n",
       "      <td>2</td>\n",
       "      <td>3</td>\n",
       "      <td>box</td>\n",
       "    </tr>\n",
       "    <tr>\n",
       "      <th>2024-02-25</th>\n",
       "      <td>38.box</td>\n",
       "      <td>301.73</td>\n",
       "      <td>6</td>\n",
       "      <td>1</td>\n",
       "      <td>2</td>\n",
       "      <td>box</td>\n",
       "    </tr>\n",
       "    <tr>\n",
       "      <th>2024-04-17</th>\n",
       "      <td>mewtwo.box</td>\n",
       "      <td>29.61</td>\n",
       "      <td>10</td>\n",
       "      <td>3</td>\n",
       "      <td>6</td>\n",
       "      <td>box</td>\n",
       "    </tr>\n",
       "    <tr>\n",
       "      <th>2024-04-24</th>\n",
       "      <td>0000.box</td>\n",
       "      <td>93.92</td>\n",
       "      <td>8</td>\n",
       "      <td>1</td>\n",
       "      <td>2</td>\n",
       "      <td>box</td>\n",
       "    </tr>\n",
       "    <tr>\n",
       "      <th>2024-04-25</th>\n",
       "      <td>express.box</td>\n",
       "      <td>317.33</td>\n",
       "      <td>11</td>\n",
       "      <td>3</td>\n",
       "      <td>7</td>\n",
       "      <td>box</td>\n",
       "    </tr>\n",
       "    <tr>\n",
       "      <th>2024-04-27</th>\n",
       "      <td>jane.box</td>\n",
       "      <td>1,151.71</td>\n",
       "      <td>8</td>\n",
       "      <td>3</td>\n",
       "      <td>4</td>\n",
       "      <td>box</td>\n",
       "    </tr>\n",
       "    <tr>\n",
       "      <th>2024-04-27</th>\n",
       "      <td>vm.box</td>\n",
       "      <td>31,481.47</td>\n",
       "      <td>6</td>\n",
       "      <td>1</td>\n",
       "      <td>4</td>\n",
       "      <td>box</td>\n",
       "    </tr>\n",
       "    <tr>\n",
       "      <th>2024-04-28</th>\n",
       "      <td>man.box</td>\n",
       "      <td>224.60</td>\n",
       "      <td>7</td>\n",
       "      <td>2</td>\n",
       "      <td>4</td>\n",
       "      <td>box</td>\n",
       "    </tr>\n",
       "    <tr>\n",
       "      <th>2024-04-28</th>\n",
       "      <td>good.box</td>\n",
       "      <td>314.61</td>\n",
       "      <td>8</td>\n",
       "      <td>3</td>\n",
       "      <td>4</td>\n",
       "      <td>box</td>\n",
       "    </tr>\n",
       "    <tr>\n",
       "      <th>2024-05-07</th>\n",
       "      <td>onyx.box</td>\n",
       "      <td>167.83</td>\n",
       "      <td>8</td>\n",
       "      <td>2</td>\n",
       "      <td>5</td>\n",
       "      <td>box</td>\n",
       "    </tr>\n",
       "    <tr>\n",
       "      <th>2024-07-23</th>\n",
       "      <td>lauc.chain.box</td>\n",
       "      <td>5.00</td>\n",
       "      <td>14</td>\n",
       "      <td>5</td>\n",
       "      <td>7</td>\n",
       "      <td>box</td>\n",
       "    </tr>\n",
       "    <tr>\n",
       "      <th>2024-07-24</th>\n",
       "      <td>cryptobet.chain.box</td>\n",
       "      <td>3.09</td>\n",
       "      <td>19</td>\n",
       "      <td>5</td>\n",
       "      <td>12</td>\n",
       "      <td>box</td>\n",
       "    </tr>\n",
       "  </tbody>\n",
       "</table>\n",
       "</div>"
      ],
      "text/plain": [
       "                         domain     price  domain_length  num_vowels  \\\n",
       "day                                                                    \n",
       "2024-02-03              696.box     33.09              7           1   \n",
       "2024-02-05             song.box     45.60              8           2   \n",
       "2024-02-10               to.box     96.97              6           2   \n",
       "2024-02-20              uae.box    203.19              7           4   \n",
       "2024-02-22               08.box    116.74              6           1   \n",
       "2024-02-24              404.box    203.68              7           1   \n",
       "2024-02-25              010.box    119.08              7           1   \n",
       "2024-02-25               75.box    269.17              6           1   \n",
       "2024-02-25              015.box    104.68              7           1   \n",
       "2024-02-25               70.box    269.17              6           1   \n",
       "2024-02-25               40.box    209.36              6           1   \n",
       "2024-02-25               ap.box    134.59              6           2   \n",
       "2024-02-25               38.box    301.73              6           1   \n",
       "2024-04-17           mewtwo.box     29.61             10           3   \n",
       "2024-04-24             0000.box     93.92              8           1   \n",
       "2024-04-25          express.box    317.33             11           3   \n",
       "2024-04-27             jane.box  1,151.71              8           3   \n",
       "2024-04-27               vm.box 31,481.47              6           1   \n",
       "2024-04-28              man.box    224.60              7           2   \n",
       "2024-04-28             good.box    314.61              8           3   \n",
       "2024-05-07             onyx.box    167.83              8           2   \n",
       "2024-07-23       lauc.chain.box      5.00             14           5   \n",
       "2024-07-24  cryptobet.chain.box      3.09             19           5   \n",
       "\n",
       "            num_consonants  tld  \n",
       "day                              \n",
       "2024-02-03               2  box  \n",
       "2024-02-05               5  box  \n",
       "2024-02-10               3  box  \n",
       "2024-02-20               2  box  \n",
       "2024-02-22               2  box  \n",
       "2024-02-24               2  box  \n",
       "2024-02-25               2  box  \n",
       "2024-02-25               2  box  \n",
       "2024-02-25               2  box  \n",
       "2024-02-25               2  box  \n",
       "2024-02-25               2  box  \n",
       "2024-02-25               3  box  \n",
       "2024-02-25               2  box  \n",
       "2024-04-17               6  box  \n",
       "2024-04-24               2  box  \n",
       "2024-04-25               7  box  \n",
       "2024-04-27               4  box  \n",
       "2024-04-27               4  box  \n",
       "2024-04-28               4  box  \n",
       "2024-04-28               4  box  \n",
       "2024-05-07               5  box  \n",
       "2024-07-23               7  box  \n",
       "2024-07-24              12  box  "
      ]
     },
     "execution_count": 161,
     "metadata": {},
     "output_type": "execute_result"
    }
   ],
   "source": [
    "filtered_box"
   ]
  },
  {
   "cell_type": "code",
   "execution_count": 162,
   "metadata": {},
   "outputs": [
    {
     "name": "stdout",
     "output_type": "stream",
     "text": [
      "                         domain  predicted_price\n",
      "day                                             \n",
      "2024-02-03              696.box         1,168.93\n",
      "2024-02-05             song.box         2,173.63\n",
      "2024-02-10               to.box         3,066.39\n",
      "2024-02-20              uae.box         3,180.12\n",
      "2024-02-22               08.box         2,005.65\n",
      "2024-02-24              404.box         1,168.93\n",
      "2024-02-25              010.box         1,168.93\n",
      "2024-02-25               75.box         2,005.65\n",
      "2024-02-25              015.box         1,168.93\n",
      "2024-02-25               70.box         2,005.65\n",
      "2024-02-25               40.box         2,005.65\n",
      "2024-02-25               ap.box         3,066.39\n",
      "2024-02-25               38.box         2,005.65\n",
      "2024-04-17           mewtwo.box         1,560.93\n",
      "2024-04-24             0000.box           332.21\n",
      "2024-04-25          express.box         1,114.55\n",
      "2024-04-27             jane.box         2,453.69\n",
      "2024-04-27               vm.box         2,786.34\n",
      "2024-04-28              man.box         2,620.01\n",
      "2024-04-28             good.box         2,453.69\n",
      "2024-05-07             onyx.box         2,173.63\n",
      "2024-07-23       lauc.chain.box           -54.82\n",
      "2024-07-24  cryptobet.chain.box        -2,286.72\n"
     ]
    }
   ],
   "source": [
    "box_X = filtered_box[features]\n",
    "\n",
    "# Predict prices for .box domains using the best model\n",
    "filtered_box['predicted_price'] = pipeline.predict(box_X)\n",
    "\n",
    "print(filtered_box[['domain', 'predicted_price']])"
   ]
  },
  {
   "cell_type": "code",
   "execution_count": 163,
   "metadata": {},
   "outputs": [
    {
     "name": "stdout",
     "output_type": "stream",
     "text": [
      "r2 0.04096675318481302\n"
     ]
    }
   ],
   "source": [
    "r2 = r2_score(filtered_box['price'], filtered_box['predicted_price'])\n",
    "print(f'r2 {r2}')"
   ]
  },
  {
   "cell_type": "markdown",
   "metadata": {},
   "source": [
    "**.Box Domain Valuator**"
   ]
  },
  {
   "cell_type": "code",
   "execution_count": 164,
   "metadata": {},
   "outputs": [
    {
     "data": {
      "text/html": [
       "<div>\n",
       "<style scoped>\n",
       "    .dataframe tbody tr th:only-of-type {\n",
       "        vertical-align: middle;\n",
       "    }\n",
       "\n",
       "    .dataframe tbody tr th {\n",
       "        vertical-align: top;\n",
       "    }\n",
       "\n",
       "    .dataframe thead th {\n",
       "        text-align: right;\n",
       "    }\n",
       "</style>\n",
       "<table border=\"1\" class=\"dataframe\">\n",
       "  <thead>\n",
       "    <tr style=\"text-align: right;\">\n",
       "      <th></th>\n",
       "      <th>domain</th>\n",
       "      <th>price</th>\n",
       "      <th>domain_length</th>\n",
       "      <th>num_vowels</th>\n",
       "      <th>num_consonants</th>\n",
       "      <th>tld</th>\n",
       "    </tr>\n",
       "    <tr>\n",
       "      <th>day</th>\n",
       "      <th></th>\n",
       "      <th></th>\n",
       "      <th></th>\n",
       "      <th></th>\n",
       "      <th></th>\n",
       "      <th></th>\n",
       "    </tr>\n",
       "  </thead>\n",
       "  <tbody>\n",
       "    <tr>\n",
       "      <th>2024-02-03</th>\n",
       "      <td>696.box</td>\n",
       "      <td>33.09</td>\n",
       "      <td>7</td>\n",
       "      <td>1</td>\n",
       "      <td>2</td>\n",
       "      <td>box</td>\n",
       "    </tr>\n",
       "    <tr>\n",
       "      <th>2024-02-05</th>\n",
       "      <td>song.box</td>\n",
       "      <td>45.60</td>\n",
       "      <td>8</td>\n",
       "      <td>2</td>\n",
       "      <td>5</td>\n",
       "      <td>box</td>\n",
       "    </tr>\n",
       "    <tr>\n",
       "      <th>2024-02-10</th>\n",
       "      <td>to.box</td>\n",
       "      <td>96.97</td>\n",
       "      <td>6</td>\n",
       "      <td>2</td>\n",
       "      <td>3</td>\n",
       "      <td>box</td>\n",
       "    </tr>\n",
       "    <tr>\n",
       "      <th>2024-02-20</th>\n",
       "      <td>uae.box</td>\n",
       "      <td>203.19</td>\n",
       "      <td>7</td>\n",
       "      <td>4</td>\n",
       "      <td>2</td>\n",
       "      <td>box</td>\n",
       "    </tr>\n",
       "    <tr>\n",
       "      <th>2024-02-22</th>\n",
       "      <td>08.box</td>\n",
       "      <td>116.74</td>\n",
       "      <td>6</td>\n",
       "      <td>1</td>\n",
       "      <td>2</td>\n",
       "      <td>box</td>\n",
       "    </tr>\n",
       "    <tr>\n",
       "      <th>2024-02-24</th>\n",
       "      <td>404.box</td>\n",
       "      <td>203.68</td>\n",
       "      <td>7</td>\n",
       "      <td>1</td>\n",
       "      <td>2</td>\n",
       "      <td>box</td>\n",
       "    </tr>\n",
       "    <tr>\n",
       "      <th>2024-02-25</th>\n",
       "      <td>010.box</td>\n",
       "      <td>119.08</td>\n",
       "      <td>7</td>\n",
       "      <td>1</td>\n",
       "      <td>2</td>\n",
       "      <td>box</td>\n",
       "    </tr>\n",
       "    <tr>\n",
       "      <th>2024-02-25</th>\n",
       "      <td>75.box</td>\n",
       "      <td>269.17</td>\n",
       "      <td>6</td>\n",
       "      <td>1</td>\n",
       "      <td>2</td>\n",
       "      <td>box</td>\n",
       "    </tr>\n",
       "    <tr>\n",
       "      <th>2024-02-25</th>\n",
       "      <td>015.box</td>\n",
       "      <td>104.68</td>\n",
       "      <td>7</td>\n",
       "      <td>1</td>\n",
       "      <td>2</td>\n",
       "      <td>box</td>\n",
       "    </tr>\n",
       "    <tr>\n",
       "      <th>2024-02-25</th>\n",
       "      <td>70.box</td>\n",
       "      <td>269.17</td>\n",
       "      <td>6</td>\n",
       "      <td>1</td>\n",
       "      <td>2</td>\n",
       "      <td>box</td>\n",
       "    </tr>\n",
       "    <tr>\n",
       "      <th>2024-02-25</th>\n",
       "      <td>40.box</td>\n",
       "      <td>209.36</td>\n",
       "      <td>6</td>\n",
       "      <td>1</td>\n",
       "      <td>2</td>\n",
       "      <td>box</td>\n",
       "    </tr>\n",
       "    <tr>\n",
       "      <th>2024-02-25</th>\n",
       "      <td>ap.box</td>\n",
       "      <td>134.59</td>\n",
       "      <td>6</td>\n",
       "      <td>2</td>\n",
       "      <td>3</td>\n",
       "      <td>box</td>\n",
       "    </tr>\n",
       "    <tr>\n",
       "      <th>2024-02-25</th>\n",
       "      <td>38.box</td>\n",
       "      <td>301.73</td>\n",
       "      <td>6</td>\n",
       "      <td>1</td>\n",
       "      <td>2</td>\n",
       "      <td>box</td>\n",
       "    </tr>\n",
       "    <tr>\n",
       "      <th>2024-04-17</th>\n",
       "      <td>mewtwo.box</td>\n",
       "      <td>29.61</td>\n",
       "      <td>10</td>\n",
       "      <td>3</td>\n",
       "      <td>6</td>\n",
       "      <td>box</td>\n",
       "    </tr>\n",
       "    <tr>\n",
       "      <th>2024-04-24</th>\n",
       "      <td>0000.box</td>\n",
       "      <td>93.92</td>\n",
       "      <td>8</td>\n",
       "      <td>1</td>\n",
       "      <td>2</td>\n",
       "      <td>box</td>\n",
       "    </tr>\n",
       "    <tr>\n",
       "      <th>2024-04-25</th>\n",
       "      <td>express.box</td>\n",
       "      <td>317.33</td>\n",
       "      <td>11</td>\n",
       "      <td>3</td>\n",
       "      <td>7</td>\n",
       "      <td>box</td>\n",
       "    </tr>\n",
       "    <tr>\n",
       "      <th>2024-04-27</th>\n",
       "      <td>jane.box</td>\n",
       "      <td>1,151.71</td>\n",
       "      <td>8</td>\n",
       "      <td>3</td>\n",
       "      <td>4</td>\n",
       "      <td>box</td>\n",
       "    </tr>\n",
       "    <tr>\n",
       "      <th>2024-04-27</th>\n",
       "      <td>vm.box</td>\n",
       "      <td>31,481.47</td>\n",
       "      <td>6</td>\n",
       "      <td>1</td>\n",
       "      <td>4</td>\n",
       "      <td>box</td>\n",
       "    </tr>\n",
       "    <tr>\n",
       "      <th>2024-04-28</th>\n",
       "      <td>man.box</td>\n",
       "      <td>224.60</td>\n",
       "      <td>7</td>\n",
       "      <td>2</td>\n",
       "      <td>4</td>\n",
       "      <td>box</td>\n",
       "    </tr>\n",
       "    <tr>\n",
       "      <th>2024-04-28</th>\n",
       "      <td>good.box</td>\n",
       "      <td>314.61</td>\n",
       "      <td>8</td>\n",
       "      <td>3</td>\n",
       "      <td>4</td>\n",
       "      <td>box</td>\n",
       "    </tr>\n",
       "    <tr>\n",
       "      <th>2024-05-07</th>\n",
       "      <td>onyx.box</td>\n",
       "      <td>167.83</td>\n",
       "      <td>8</td>\n",
       "      <td>2</td>\n",
       "      <td>5</td>\n",
       "      <td>box</td>\n",
       "    </tr>\n",
       "    <tr>\n",
       "      <th>2024-07-23</th>\n",
       "      <td>lauc.chain.box</td>\n",
       "      <td>5.00</td>\n",
       "      <td>14</td>\n",
       "      <td>5</td>\n",
       "      <td>7</td>\n",
       "      <td>box</td>\n",
       "    </tr>\n",
       "    <tr>\n",
       "      <th>2024-07-24</th>\n",
       "      <td>cryptobet.chain.box</td>\n",
       "      <td>3.09</td>\n",
       "      <td>19</td>\n",
       "      <td>5</td>\n",
       "      <td>12</td>\n",
       "      <td>box</td>\n",
       "    </tr>\n",
       "  </tbody>\n",
       "</table>\n",
       "</div>"
      ],
      "text/plain": [
       "                         domain     price  domain_length  num_vowels  \\\n",
       "day                                                                    \n",
       "2024-02-03              696.box     33.09              7           1   \n",
       "2024-02-05             song.box     45.60              8           2   \n",
       "2024-02-10               to.box     96.97              6           2   \n",
       "2024-02-20              uae.box    203.19              7           4   \n",
       "2024-02-22               08.box    116.74              6           1   \n",
       "2024-02-24              404.box    203.68              7           1   \n",
       "2024-02-25              010.box    119.08              7           1   \n",
       "2024-02-25               75.box    269.17              6           1   \n",
       "2024-02-25              015.box    104.68              7           1   \n",
       "2024-02-25               70.box    269.17              6           1   \n",
       "2024-02-25               40.box    209.36              6           1   \n",
       "2024-02-25               ap.box    134.59              6           2   \n",
       "2024-02-25               38.box    301.73              6           1   \n",
       "2024-04-17           mewtwo.box     29.61             10           3   \n",
       "2024-04-24             0000.box     93.92              8           1   \n",
       "2024-04-25          express.box    317.33             11           3   \n",
       "2024-04-27             jane.box  1,151.71              8           3   \n",
       "2024-04-27               vm.box 31,481.47              6           1   \n",
       "2024-04-28              man.box    224.60              7           2   \n",
       "2024-04-28             good.box    314.61              8           3   \n",
       "2024-05-07             onyx.box    167.83              8           2   \n",
       "2024-07-23       lauc.chain.box      5.00             14           5   \n",
       "2024-07-24  cryptobet.chain.box      3.09             19           5   \n",
       "\n",
       "            num_consonants  tld  \n",
       "day                              \n",
       "2024-02-03               2  box  \n",
       "2024-02-05               5  box  \n",
       "2024-02-10               3  box  \n",
       "2024-02-20               2  box  \n",
       "2024-02-22               2  box  \n",
       "2024-02-24               2  box  \n",
       "2024-02-25               2  box  \n",
       "2024-02-25               2  box  \n",
       "2024-02-25               2  box  \n",
       "2024-02-25               2  box  \n",
       "2024-02-25               2  box  \n",
       "2024-02-25               3  box  \n",
       "2024-02-25               2  box  \n",
       "2024-04-17               6  box  \n",
       "2024-04-24               2  box  \n",
       "2024-04-25               7  box  \n",
       "2024-04-27               4  box  \n",
       "2024-04-27               4  box  \n",
       "2024-04-28               4  box  \n",
       "2024-04-28               4  box  \n",
       "2024-05-07               5  box  \n",
       "2024-07-23               7  box  \n",
       "2024-07-24              12  box  "
      ]
     },
     "execution_count": 164,
     "metadata": {},
     "output_type": "execute_result"
    }
   ],
   "source": [
    "filtered_box_2 = filtered_box.drop(columns=['predicted_price'])\n",
    "filtered_box_2"
   ]
  },
  {
   "cell_type": "code",
   "execution_count": 165,
   "metadata": {},
   "outputs": [],
   "source": [
    "combined_data = pd.concat([domain_data, filtered_box_2], ignore_index=True)"
   ]
  },
  {
   "cell_type": "code",
   "execution_count": 166,
   "metadata": {},
   "outputs": [
    {
     "data": {
      "text/html": [
       "<div>\n",
       "<style scoped>\n",
       "    .dataframe tbody tr th:only-of-type {\n",
       "        vertical-align: middle;\n",
       "    }\n",
       "\n",
       "    .dataframe tbody tr th {\n",
       "        vertical-align: top;\n",
       "    }\n",
       "\n",
       "    .dataframe thead th {\n",
       "        text-align: right;\n",
       "    }\n",
       "</style>\n",
       "<table border=\"1\" class=\"dataframe\">\n",
       "  <thead>\n",
       "    <tr style=\"text-align: right;\">\n",
       "      <th></th>\n",
       "      <th>domain</th>\n",
       "      <th>price</th>\n",
       "      <th>domain_length</th>\n",
       "      <th>num_vowels</th>\n",
       "      <th>num_consonants</th>\n",
       "      <th>tld</th>\n",
       "    </tr>\n",
       "  </thead>\n",
       "  <tbody>\n",
       "    <tr>\n",
       "      <th>0</th>\n",
       "      <td>altavista.com</td>\n",
       "      <td>3,250,000.00</td>\n",
       "      <td>13</td>\n",
       "      <td>5</td>\n",
       "      <td>7</td>\n",
       "      <td>com</td>\n",
       "    </tr>\n",
       "    <tr>\n",
       "      <th>1</th>\n",
       "      <td>bingo.com</td>\n",
       "      <td>1,100,000.00</td>\n",
       "      <td>9</td>\n",
       "      <td>3</td>\n",
       "      <td>5</td>\n",
       "      <td>com</td>\n",
       "    </tr>\n",
       "    <tr>\n",
       "      <th>2</th>\n",
       "      <td>fly.com</td>\n",
       "      <td>1,500,000.00</td>\n",
       "      <td>7</td>\n",
       "      <td>1</td>\n",
       "      <td>5</td>\n",
       "      <td>com</td>\n",
       "    </tr>\n",
       "    <tr>\n",
       "      <th>3</th>\n",
       "      <td>autos.com</td>\n",
       "      <td>2,200,000.00</td>\n",
       "      <td>9</td>\n",
       "      <td>4</td>\n",
       "      <td>4</td>\n",
       "      <td>com</td>\n",
       "    </tr>\n",
       "    <tr>\n",
       "      <th>4</th>\n",
       "      <td>england.com</td>\n",
       "      <td>2,000,000.00</td>\n",
       "      <td>11</td>\n",
       "      <td>3</td>\n",
       "      <td>7</td>\n",
       "      <td>com</td>\n",
       "    </tr>\n",
       "    <tr>\n",
       "      <th>...</th>\n",
       "      <td>...</td>\n",
       "      <td>...</td>\n",
       "      <td>...</td>\n",
       "      <td>...</td>\n",
       "      <td>...</td>\n",
       "      <td>...</td>\n",
       "    </tr>\n",
       "    <tr>\n",
       "      <th>348254</th>\n",
       "      <td>man.box</td>\n",
       "      <td>224.60</td>\n",
       "      <td>7</td>\n",
       "      <td>2</td>\n",
       "      <td>4</td>\n",
       "      <td>box</td>\n",
       "    </tr>\n",
       "    <tr>\n",
       "      <th>348255</th>\n",
       "      <td>good.box</td>\n",
       "      <td>314.61</td>\n",
       "      <td>8</td>\n",
       "      <td>3</td>\n",
       "      <td>4</td>\n",
       "      <td>box</td>\n",
       "    </tr>\n",
       "    <tr>\n",
       "      <th>348256</th>\n",
       "      <td>onyx.box</td>\n",
       "      <td>167.83</td>\n",
       "      <td>8</td>\n",
       "      <td>2</td>\n",
       "      <td>5</td>\n",
       "      <td>box</td>\n",
       "    </tr>\n",
       "    <tr>\n",
       "      <th>348257</th>\n",
       "      <td>lauc.chain.box</td>\n",
       "      <td>5.00</td>\n",
       "      <td>14</td>\n",
       "      <td>5</td>\n",
       "      <td>7</td>\n",
       "      <td>box</td>\n",
       "    </tr>\n",
       "    <tr>\n",
       "      <th>348258</th>\n",
       "      <td>cryptobet.chain.box</td>\n",
       "      <td>3.09</td>\n",
       "      <td>19</td>\n",
       "      <td>5</td>\n",
       "      <td>12</td>\n",
       "      <td>box</td>\n",
       "    </tr>\n",
       "  </tbody>\n",
       "</table>\n",
       "<p>348259 rows × 6 columns</p>\n",
       "</div>"
      ],
      "text/plain": [
       "                     domain        price  domain_length  num_vowels  \\\n",
       "0             altavista.com 3,250,000.00             13           5   \n",
       "1                 bingo.com 1,100,000.00              9           3   \n",
       "2                   fly.com 1,500,000.00              7           1   \n",
       "3                 autos.com 2,200,000.00              9           4   \n",
       "4               england.com 2,000,000.00             11           3   \n",
       "...                     ...          ...            ...         ...   \n",
       "348254              man.box       224.60              7           2   \n",
       "348255             good.box       314.61              8           3   \n",
       "348256             onyx.box       167.83              8           2   \n",
       "348257       lauc.chain.box         5.00             14           5   \n",
       "348258  cryptobet.chain.box         3.09             19           5   \n",
       "\n",
       "        num_consonants  tld  \n",
       "0                    7  com  \n",
       "1                    5  com  \n",
       "2                    5  com  \n",
       "3                    4  com  \n",
       "4                    7  com  \n",
       "...                ...  ...  \n",
       "348254               4  box  \n",
       "348255               4  box  \n",
       "348256               5  box  \n",
       "348257               7  box  \n",
       "348258              12  box  \n",
       "\n",
       "[348259 rows x 6 columns]"
      ]
     },
     "execution_count": 166,
     "metadata": {},
     "output_type": "execute_result"
    }
   ],
   "source": [
    "combined_data"
   ]
  },
  {
   "cell_type": "code",
   "execution_count": 167,
   "metadata": {},
   "outputs": [
    {
     "name": "stdout",
     "output_type": "stream",
     "text": [
      "MAE: 2698.1441177126194\n",
      "MSE: 2828203112.9048977\n",
      "R²: 0.0003751663242097525\n"
     ]
    }
   ],
   "source": [
    "X = combined_data[features]\n",
    "y = combined_data['price']\n",
    "\n",
    "X_train, X_test, y_train, y_test = train_test_split(X, y, test_size=0.2, random_state=42)\n",
    "\n",
    "pipeline.fit(X_train, y_train)\n",
    "\n",
    "y_pred = pipeline.predict(X_test)\n",
    "mae = mean_absolute_error(y_test, y_pred)\n",
    "mse = mean_squared_error(y_test, y_pred)\n",
    "r2 = r2_score(y_test, y_pred)\n",
    "\n",
    "print(f'MAE: {mae}')\n",
    "print(f'MSE: {mse}')\n",
    "print(f'R²: {r2}')\n"
   ]
  },
  {
   "cell_type": "code",
   "execution_count": 168,
   "metadata": {},
   "outputs": [],
   "source": [
    "def model_prep(data):\n",
    "    data['domain_length'] = data['domain'].apply(len)\n",
    "    data['num_vowels'] = data['domain'].apply(lambda x: sum([1 for char in x if char in 'aeiou']))\n",
    "    data['num_consonants'] = data['domain'].apply(lambda x: sum([1 for char in x if char.isalpha() and char not in 'aeiou']))\n",
    "    data['tld'] = data['domain'].apply(lambda x: x.split('.')[-1]) \n",
    "    return data"
   ]
  },
  {
   "cell_type": "code",
   "execution_count": 169,
   "metadata": {},
   "outputs": [],
   "source": [
    "def value_domain(domain):\n",
    "    domain_x = domain[features]\n",
    "    value = pipeline.predict(domain_x)\n",
    "    print(f'predicted value: {value[0]}')\n",
    "    return value[0] "
   ]
  },
  {
   "cell_type": "code",
   "execution_count": 170,
   "metadata": {},
   "outputs": [
    {
     "name": "stdout",
     "output_type": "stream",
     "text": [
      "predicted value: 2609.573985515859\n"
     ]
    }
   ],
   "source": [
    "test_domain = 'eth.box' ## for model, just have the person input before .box, have it automatically add .box\n",
    "test_domain_df = pd.DataFrame({'domain': [test_domain]})\n",
    "test_domain_processed = model_prep(test_domain_df)\n",
    "test_domain_value = value_domain(test_domain_processed)"
   ]
  },
  {
   "cell_type": "code",
   "execution_count": 171,
   "metadata": {},
   "outputs": [
    {
     "data": {
      "text/plain": [
       "np.float64(2609.573985515859)"
      ]
     },
     "execution_count": 171,
     "metadata": {},
     "output_type": "execute_result"
    }
   ],
   "source": [
    "test_domain_value"
   ]
  },
  {
   "cell_type": "markdown",
   "metadata": {},
   "source": [
    "***Dash App***"
   ]
  },
  {
   "cell_type": "markdown",
   "metadata": {},
   "source": [
    "Domain valuator would be callback"
   ]
  },
  {
   "cell_type": "code",
   "execution_count": 172,
   "metadata": {},
   "outputs": [],
   "source": [
    "latest_box_domains_sales.reset_index(inplace=True)"
   ]
  },
  {
   "cell_type": "code",
   "execution_count": 173,
   "metadata": {},
   "outputs": [
    {
     "name": "stderr",
     "output_type": "stream",
     "text": [
      "C:\\Users\\brandyns pc\\AppData\\Local\\Temp\\ipykernel_12168\\3336277017.py:1: SettingWithCopyWarning:\n",
      "\n",
      "\n",
      "A value is trying to be set on a copy of a slice from a DataFrame\n",
      "\n",
      "See the caveats in the documentation: https://pandas.pydata.org/pandas-docs/stable/user_guide/indexing.html#returning-a-view-versus-a-copy\n",
      "\n"
     ]
    }
   ],
   "source": [
    "latest_box_domains_sales.sort_values(by='day', ascending=False, inplace=True)"
   ]
  },
  {
   "cell_type": "code",
   "execution_count": 174,
   "metadata": {},
   "outputs": [],
   "source": [
    "latest_box_domains_mints.reset_index(inplace=True)"
   ]
  },
  {
   "cell_type": "code",
   "execution_count": 175,
   "metadata": {},
   "outputs": [
    {
     "name": "stderr",
     "output_type": "stream",
     "text": [
      "C:\\Users\\brandyns pc\\AppData\\Local\\Temp\\ipykernel_12168\\4287417152.py:1: SettingWithCopyWarning:\n",
      "\n",
      "\n",
      "A value is trying to be set on a copy of a slice from a DataFrame\n",
      "\n",
      "See the caveats in the documentation: https://pandas.pydata.org/pandas-docs/stable/user_guide/indexing.html#returning-a-view-versus-a-copy\n",
      "\n"
     ]
    }
   ],
   "source": [
    "latest_box_domains_mints.sort_values(by='day', ascending=False, inplace=True)"
   ]
  },
  {
   "cell_type": "code",
   "execution_count": 176,
   "metadata": {},
   "outputs": [],
   "source": [
    "avg_box_sale = box_domains_sales['price_usd'].mean()"
   ]
  },
  {
   "cell_type": "code",
   "execution_count": 177,
   "metadata": {},
   "outputs": [
    {
     "data": {
      "text/html": [
       "<div>\n",
       "<style scoped>\n",
       "    .dataframe tbody tr th:only-of-type {\n",
       "        vertical-align: middle;\n",
       "    }\n",
       "\n",
       "    .dataframe tbody tr th {\n",
       "        vertical-align: top;\n",
       "    }\n",
       "\n",
       "    .dataframe thead th {\n",
       "        text-align: right;\n",
       "    }\n",
       "</style>\n",
       "<table border=\"1\" class=\"dataframe\">\n",
       "  <thead>\n",
       "    <tr style=\"text-align: right;\">\n",
       "      <th></th>\n",
       "      <th>name</th>\n",
       "      <th>price_usd</th>\n",
       "      <th>price_eth</th>\n",
       "    </tr>\n",
       "    <tr>\n",
       "      <th>day</th>\n",
       "      <th></th>\n",
       "      <th></th>\n",
       "      <th></th>\n",
       "    </tr>\n",
       "  </thead>\n",
       "  <tbody>\n",
       "    <tr>\n",
       "      <th>2024-04-27 16:00:00+00:00</th>\n",
       "      <td>vm.box</td>\n",
       "      <td>31,481.47</td>\n",
       "      <td>10.00</td>\n",
       "    </tr>\n",
       "    <tr>\n",
       "      <th>2024-04-27 00:00:00+00:00</th>\n",
       "      <td>jane.box</td>\n",
       "      <td>1,151.71</td>\n",
       "      <td>0.37</td>\n",
       "    </tr>\n",
       "    <tr>\n",
       "      <th>2024-04-25 21:00:00+00:00</th>\n",
       "      <td>express.box</td>\n",
       "      <td>317.33</td>\n",
       "      <td>0.10</td>\n",
       "    </tr>\n",
       "    <tr>\n",
       "      <th>2024-04-28 07:00:00+00:00</th>\n",
       "      <td>good.box</td>\n",
       "      <td>314.61</td>\n",
       "      <td>0.10</td>\n",
       "    </tr>\n",
       "    <tr>\n",
       "      <th>2024-02-25 07:00:00+00:00</th>\n",
       "      <td>38.box</td>\n",
       "      <td>301.73</td>\n",
       "      <td>0.10</td>\n",
       "    </tr>\n",
       "    <tr>\n",
       "      <th>2024-02-25 03:00:00+00:00</th>\n",
       "      <td>75.box</td>\n",
       "      <td>269.17</td>\n",
       "      <td>0.09</td>\n",
       "    </tr>\n",
       "    <tr>\n",
       "      <th>2024-02-25 03:00:00+00:00</th>\n",
       "      <td>70.box</td>\n",
       "      <td>269.17</td>\n",
       "      <td>0.09</td>\n",
       "    </tr>\n",
       "    <tr>\n",
       "      <th>2024-04-28 01:00:00+00:00</th>\n",
       "      <td>man.box</td>\n",
       "      <td>224.60</td>\n",
       "      <td>0.07</td>\n",
       "    </tr>\n",
       "    <tr>\n",
       "      <th>2024-02-25 03:00:00+00:00</th>\n",
       "      <td>40.box</td>\n",
       "      <td>209.36</td>\n",
       "      <td>0.07</td>\n",
       "    </tr>\n",
       "    <tr>\n",
       "      <th>2024-02-24 04:00:00+00:00</th>\n",
       "      <td>404.box</td>\n",
       "      <td>203.68</td>\n",
       "      <td>0.07</td>\n",
       "    </tr>\n",
       "  </tbody>\n",
       "</table>\n",
       "</div>"
      ],
      "text/plain": [
       "                                  name  price_usd  price_eth\n",
       "day                                                         \n",
       "2024-04-27 16:00:00+00:00       vm.box  31,481.47      10.00\n",
       "2024-04-27 00:00:00+00:00     jane.box   1,151.71       0.37\n",
       "2024-04-25 21:00:00+00:00  express.box     317.33       0.10\n",
       "2024-04-28 07:00:00+00:00     good.box     314.61       0.10\n",
       "2024-02-25 07:00:00+00:00       38.box     301.73       0.10\n",
       "2024-02-25 03:00:00+00:00       75.box     269.17       0.09\n",
       "2024-02-25 03:00:00+00:00       70.box     269.17       0.09\n",
       "2024-04-28 01:00:00+00:00      man.box     224.60       0.07\n",
       "2024-02-25 03:00:00+00:00       40.box     209.36       0.07\n",
       "2024-02-24 04:00:00+00:00      404.box     203.68       0.07"
      ]
     },
     "execution_count": 177,
     "metadata": {},
     "output_type": "execute_result"
    }
   ],
   "source": [
    "highest_selling_domains = box_domains_sales[['name','price_usd','price_eth']].sort_values(by='price_usd', ascending=False)\n",
    "highest_selling_domains = highest_selling_domains.head(10)\n",
    "highest_selling_domains"
   ]
  },
  {
   "cell_type": "code",
   "execution_count": 178,
   "metadata": {},
   "outputs": [],
   "source": [
    "monthly_box_sales_metrics['cumulative_volume'] = monthly_box_sales_metrics['volume_usd'].cumsum()\n",
    "monthly_box_sales_metrics.reset_index(inplace=True) \n",
    "monthly_box_sales_metrics.sort_values(by='day', ascending=False, inplace=True)"
   ]
  },
  {
   "cell_type": "code",
   "execution_count": 179,
   "metadata": {},
   "outputs": [],
   "source": [
    "monthly_box_sales_metrics['cumulative domains sold'] = monthly_box_sales_metrics['domains sold'].cumsum()"
   ]
  },
  {
   "cell_type": "code",
   "execution_count": 180,
   "metadata": {},
   "outputs": [
    {
     "name": "stderr",
     "output_type": "stream",
     "text": [
      "C:\\Users\\brandyns pc\\AppData\\Local\\Temp\\ipykernel_12168\\2820302304.py:3: SettingWithCopyWarning:\n",
      "\n",
      "\n",
      "A value is trying to be set on a copy of a slice from a DataFrame\n",
      "\n",
      "See the caveats in the documentation: https://pandas.pydata.org/pandas-docs/stable/user_guide/indexing.html#returning-a-view-versus-a-copy\n",
      "\n"
     ]
    },
    {
     "data": {
      "text/html": [
       "<div>\n",
       "<style scoped>\n",
       "    .dataframe tbody tr th:only-of-type {\n",
       "        vertical-align: middle;\n",
       "    }\n",
       "\n",
       "    .dataframe tbody tr th {\n",
       "        vertical-align: top;\n",
       "    }\n",
       "\n",
       "    .dataframe thead th {\n",
       "        text-align: right;\n",
       "    }\n",
       "</style>\n",
       "<table border=\"1\" class=\"dataframe\">\n",
       "  <thead>\n",
       "    <tr style=\"text-align: right;\">\n",
       "      <th></th>\n",
       "      <th>name</th>\n",
       "      <th>bid_event_timestamp</th>\n",
       "      <th>sale_event_timestamp</th>\n",
       "      <th>list_usd</th>\n",
       "      <th>sale_usd</th>\n",
       "      <th>percent_change</th>\n",
       "    </tr>\n",
       "  </thead>\n",
       "  <tbody>\n",
       "  </tbody>\n",
       "</table>\n",
       "</div>"
      ],
      "text/plain": [
       "Empty DataFrame\n",
       "Columns: [name, bid_event_timestamp, sale_event_timestamp, list_usd, sale_usd, percent_change]\n",
       "Index: []"
      ]
     },
     "execution_count": 180,
     "metadata": {},
     "output_type": "execute_result"
    }
   ],
   "source": [
    "historical_listing_to_sales = closest_listings[['name','bid_event_timestamp','sale_event_timestamp',\n",
    "                                                'list_usd','sale_usd','percent_change']]\n",
    "historical_listing_to_sales.sort_values(by='bid_event_timestamp', ascending=False, inplace=True)\n",
    "historical_listing_to_sales"
   ]
  },
  {
   "cell_type": "code",
   "execution_count": 181,
   "metadata": {},
   "outputs": [
    {
     "data": {
      "text/plain": [
       "Index(['listings', 'max_price', 'min_price', 'avg_price'], dtype='object')"
      ]
     },
     "execution_count": 181,
     "metadata": {},
     "output_type": "execute_result"
    }
   ],
   "source": [
    "box_listing_data.columns"
   ]
  },
  {
   "cell_type": "code",
   "execution_count": 182,
   "metadata": {},
   "outputs": [
    {
     "data": {
      "text/html": [
       "<div>\n",
       "<style scoped>\n",
       "    .dataframe tbody tr th:only-of-type {\n",
       "        vertical-align: middle;\n",
       "    }\n",
       "\n",
       "    .dataframe tbody tr th {\n",
       "        vertical-align: top;\n",
       "    }\n",
       "\n",
       "    .dataframe thead th {\n",
       "        text-align: right;\n",
       "    }\n",
       "</style>\n",
       "<table border=\"1\" class=\"dataframe\">\n",
       "  <thead>\n",
       "    <tr style=\"text-align: right;\">\n",
       "      <th></th>\n",
       "      <th>listings</th>\n",
       "      <th>max_price</th>\n",
       "      <th>min_price</th>\n",
       "      <th>avg_price</th>\n",
       "    </tr>\n",
       "    <tr>\n",
       "      <th>start_time</th>\n",
       "      <th></th>\n",
       "      <th></th>\n",
       "      <th></th>\n",
       "      <th></th>\n",
       "    </tr>\n",
       "  </thead>\n",
       "  <tbody>\n",
       "    <tr>\n",
       "      <th>2024-07-05</th>\n",
       "      <td>1</td>\n",
       "      <td>8,581.74</td>\n",
       "      <td>8,581.74</td>\n",
       "      <td>8,581.74</td>\n",
       "    </tr>\n",
       "    <tr>\n",
       "      <th>2024-07-06</th>\n",
       "      <td>7</td>\n",
       "      <td>30,690.04</td>\n",
       "      <td>23,780.08</td>\n",
       "      <td>25,754.35</td>\n",
       "    </tr>\n",
       "    <tr>\n",
       "      <th>2024-07-07</th>\n",
       "      <td>1</td>\n",
       "      <td>39,241.41</td>\n",
       "      <td>39,241.41</td>\n",
       "      <td>39,241.41</td>\n",
       "    </tr>\n",
       "    <tr>\n",
       "      <th>2024-07-08</th>\n",
       "      <td>3</td>\n",
       "      <td>8,984.76</td>\n",
       "      <td>305.61</td>\n",
       "      <td>6,091.71</td>\n",
       "    </tr>\n",
       "    <tr>\n",
       "      <th>2024-07-09</th>\n",
       "      <td>7</td>\n",
       "      <td>101,282.94</td>\n",
       "      <td>2,127.33</td>\n",
       "      <td>26,487.11</td>\n",
       "    </tr>\n",
       "    <tr>\n",
       "      <th>2024-07-10</th>\n",
       "      <td>2</td>\n",
       "      <td>155,186.00</td>\n",
       "      <td>155,186.00</td>\n",
       "      <td>155,186.00</td>\n",
       "    </tr>\n",
       "    <tr>\n",
       "      <th>2024-07-11</th>\n",
       "      <td>1</td>\n",
       "      <td>28,950.90</td>\n",
       "      <td>28,950.90</td>\n",
       "      <td>28,950.90</td>\n",
       "    </tr>\n",
       "    <tr>\n",
       "      <th>2024-07-12</th>\n",
       "      <td>3</td>\n",
       "      <td>31,185.30</td>\n",
       "      <td>3,110.88</td>\n",
       "      <td>14,030.84</td>\n",
       "    </tr>\n",
       "    <tr>\n",
       "      <th>2024-07-13</th>\n",
       "      <td>1</td>\n",
       "      <td>9,477.42</td>\n",
       "      <td>9,477.42</td>\n",
       "      <td>9,477.42</td>\n",
       "    </tr>\n",
       "    <tr>\n",
       "      <th>2024-07-14</th>\n",
       "      <td>1</td>\n",
       "      <td>102,267.20</td>\n",
       "      <td>102,267.20</td>\n",
       "      <td>102,267.20</td>\n",
       "    </tr>\n",
       "    <tr>\n",
       "      <th>2024-07-15</th>\n",
       "      <td>15</td>\n",
       "      <td>32,797.70</td>\n",
       "      <td>98.39</td>\n",
       "      <td>8,149.42</td>\n",
       "    </tr>\n",
       "    <tr>\n",
       "      <th>2024-07-16</th>\n",
       "      <td>5</td>\n",
       "      <td>33,941.46</td>\n",
       "      <td>1,714.21</td>\n",
       "      <td>10,052.16</td>\n",
       "    </tr>\n",
       "    <tr>\n",
       "      <th>2024-07-17</th>\n",
       "      <td>10</td>\n",
       "      <td>86,178.75</td>\n",
       "      <td>174.97</td>\n",
       "      <td>15,722.37</td>\n",
       "    </tr>\n",
       "    <tr>\n",
       "      <th>2024-07-18</th>\n",
       "      <td>10</td>\n",
       "      <td>113,387.01</td>\n",
       "      <td>3,360.88</td>\n",
       "      <td>74,539.48</td>\n",
       "    </tr>\n",
       "    <tr>\n",
       "      <th>2024-07-19</th>\n",
       "      <td>4</td>\n",
       "      <td>3,364.57</td>\n",
       "      <td>1,699.28</td>\n",
       "      <td>2,200.57</td>\n",
       "    </tr>\n",
       "    <tr>\n",
       "      <th>2024-07-20</th>\n",
       "      <td>12</td>\n",
       "      <td>3,484.75</td>\n",
       "      <td>104.63</td>\n",
       "      <td>700.49</td>\n",
       "    </tr>\n",
       "    <tr>\n",
       "      <th>2024-07-21</th>\n",
       "      <td>9</td>\n",
       "      <td>21,003.96</td>\n",
       "      <td>1,347.71</td>\n",
       "      <td>16,097.20</td>\n",
       "    </tr>\n",
       "    <tr>\n",
       "      <th>2024-07-22</th>\n",
       "      <td>11</td>\n",
       "      <td>3,101.70</td>\n",
       "      <td>70.35</td>\n",
       "      <td>1,119.74</td>\n",
       "    </tr>\n",
       "    <tr>\n",
       "      <th>2024-07-23</th>\n",
       "      <td>18</td>\n",
       "      <td>104,329.80</td>\n",
       "      <td>3.04</td>\n",
       "      <td>14,866.12</td>\n",
       "    </tr>\n",
       "    <tr>\n",
       "      <th>2024-07-24</th>\n",
       "      <td>3</td>\n",
       "      <td>5,199.94</td>\n",
       "      <td>3.09</td>\n",
       "      <td>1,751.01</td>\n",
       "    </tr>\n",
       "  </tbody>\n",
       "</table>\n",
       "</div>"
      ],
      "text/plain": [
       "            listings  max_price  min_price  avg_price\n",
       "start_time                                           \n",
       "2024-07-05         1   8,581.74   8,581.74   8,581.74\n",
       "2024-07-06         7  30,690.04  23,780.08  25,754.35\n",
       "2024-07-07         1  39,241.41  39,241.41  39,241.41\n",
       "2024-07-08         3   8,984.76     305.61   6,091.71\n",
       "2024-07-09         7 101,282.94   2,127.33  26,487.11\n",
       "2024-07-10         2 155,186.00 155,186.00 155,186.00\n",
       "2024-07-11         1  28,950.90  28,950.90  28,950.90\n",
       "2024-07-12         3  31,185.30   3,110.88  14,030.84\n",
       "2024-07-13         1   9,477.42   9,477.42   9,477.42\n",
       "2024-07-14         1 102,267.20 102,267.20 102,267.20\n",
       "2024-07-15        15  32,797.70      98.39   8,149.42\n",
       "2024-07-16         5  33,941.46   1,714.21  10,052.16\n",
       "2024-07-17        10  86,178.75     174.97  15,722.37\n",
       "2024-07-18        10 113,387.01   3,360.88  74,539.48\n",
       "2024-07-19         4   3,364.57   1,699.28   2,200.57\n",
       "2024-07-20        12   3,484.75     104.63     700.49\n",
       "2024-07-21         9  21,003.96   1,347.71  16,097.20\n",
       "2024-07-22        11   3,101.70      70.35   1,119.74\n",
       "2024-07-23        18 104,329.80       3.04  14,866.12\n",
       "2024-07-24         3   5,199.94       3.09   1,751.01"
      ]
     },
     "execution_count": 182,
     "metadata": {},
     "output_type": "execute_result"
    }
   ],
   "source": [
    "box_listing_data.tail(20)"
   ]
  },
  {
   "cell_type": "code",
   "execution_count": 183,
   "metadata": {},
   "outputs": [
    {
     "data": {
      "text/html": [
       "<div>\n",
       "<style scoped>\n",
       "    .dataframe tbody tr th:only-of-type {\n",
       "        vertical-align: middle;\n",
       "    }\n",
       "\n",
       "    .dataframe tbody tr th {\n",
       "        vertical-align: top;\n",
       "    }\n",
       "\n",
       "    .dataframe thead th {\n",
       "        text-align: right;\n",
       "    }\n",
       "</style>\n",
       "<table border=\"1\" class=\"dataframe\">\n",
       "  <thead>\n",
       "    <tr style=\"text-align: right;\">\n",
       "      <th></th>\n",
       "      <th>name</th>\n",
       "      <th>price_usd</th>\n",
       "      <th>price_eth</th>\n",
       "    </tr>\n",
       "    <tr>\n",
       "      <th>day</th>\n",
       "      <th></th>\n",
       "      <th></th>\n",
       "      <th></th>\n",
       "    </tr>\n",
       "  </thead>\n",
       "  <tbody>\n",
       "    <tr>\n",
       "      <th>2024-04-27 16:00:00+00:00</th>\n",
       "      <td>vm.box</td>\n",
       "      <td>31,481.47</td>\n",
       "      <td>10.00</td>\n",
       "    </tr>\n",
       "    <tr>\n",
       "      <th>2024-04-27 00:00:00+00:00</th>\n",
       "      <td>jane.box</td>\n",
       "      <td>1,151.71</td>\n",
       "      <td>0.37</td>\n",
       "    </tr>\n",
       "    <tr>\n",
       "      <th>2024-04-25 21:00:00+00:00</th>\n",
       "      <td>express.box</td>\n",
       "      <td>317.33</td>\n",
       "      <td>0.10</td>\n",
       "    </tr>\n",
       "    <tr>\n",
       "      <th>2024-04-28 07:00:00+00:00</th>\n",
       "      <td>good.box</td>\n",
       "      <td>314.61</td>\n",
       "      <td>0.10</td>\n",
       "    </tr>\n",
       "    <tr>\n",
       "      <th>2024-02-25 07:00:00+00:00</th>\n",
       "      <td>38.box</td>\n",
       "      <td>301.73</td>\n",
       "      <td>0.10</td>\n",
       "    </tr>\n",
       "    <tr>\n",
       "      <th>2024-02-25 03:00:00+00:00</th>\n",
       "      <td>75.box</td>\n",
       "      <td>269.17</td>\n",
       "      <td>0.09</td>\n",
       "    </tr>\n",
       "    <tr>\n",
       "      <th>2024-02-25 03:00:00+00:00</th>\n",
       "      <td>70.box</td>\n",
       "      <td>269.17</td>\n",
       "      <td>0.09</td>\n",
       "    </tr>\n",
       "    <tr>\n",
       "      <th>2024-04-28 01:00:00+00:00</th>\n",
       "      <td>man.box</td>\n",
       "      <td>224.60</td>\n",
       "      <td>0.07</td>\n",
       "    </tr>\n",
       "    <tr>\n",
       "      <th>2024-02-25 03:00:00+00:00</th>\n",
       "      <td>40.box</td>\n",
       "      <td>209.36</td>\n",
       "      <td>0.07</td>\n",
       "    </tr>\n",
       "    <tr>\n",
       "      <th>2024-02-24 04:00:00+00:00</th>\n",
       "      <td>404.box</td>\n",
       "      <td>203.68</td>\n",
       "      <td>0.07</td>\n",
       "    </tr>\n",
       "  </tbody>\n",
       "</table>\n",
       "</div>"
      ],
      "text/plain": [
       "                                  name  price_usd  price_eth\n",
       "day                                                         \n",
       "2024-04-27 16:00:00+00:00       vm.box  31,481.47      10.00\n",
       "2024-04-27 00:00:00+00:00     jane.box   1,151.71       0.37\n",
       "2024-04-25 21:00:00+00:00  express.box     317.33       0.10\n",
       "2024-04-28 07:00:00+00:00     good.box     314.61       0.10\n",
       "2024-02-25 07:00:00+00:00       38.box     301.73       0.10\n",
       "2024-02-25 03:00:00+00:00       75.box     269.17       0.09\n",
       "2024-02-25 03:00:00+00:00       70.box     269.17       0.09\n",
       "2024-04-28 01:00:00+00:00      man.box     224.60       0.07\n",
       "2024-02-25 03:00:00+00:00       40.box     209.36       0.07\n",
       "2024-02-24 04:00:00+00:00      404.box     203.68       0.07"
      ]
     },
     "execution_count": 183,
     "metadata": {},
     "output_type": "execute_result"
    }
   ],
   "source": [
    "highest_selling_domains"
   ]
  },
  {
   "cell_type": "code",
   "execution_count": 184,
   "metadata": {},
   "outputs": [],
   "source": [
    "highest_selling_domains_fig = px.bar(highest_selling_domains, x=highest_selling_domains['name'], y=highest_selling_domains['price_usd'],\n",
    "                                     title='10 Highest Selling Domains')\n",
    "# highest_selling_domains_fig.show()"
   ]
  },
  {
   "cell_type": "code",
   "execution_count": 185,
   "metadata": {},
   "outputs": [
    {
     "data": {
      "application/vnd.plotly.v1+json": {
       "config": {
        "plotlyServerURL": "https://plot.ly"
       },
       "data": [
        {
         "name": "Avg Price",
         "type": "bar",
         "x": [
          "2024-01-24T00:00:00",
          "2024-01-25T00:00:00",
          "2024-01-26T00:00:00",
          "2024-01-27T00:00:00",
          "2024-01-28T00:00:00",
          "2024-01-29T00:00:00",
          "2024-01-30T00:00:00",
          "2024-01-31T00:00:00",
          "2024-02-01T00:00:00",
          "2024-02-02T00:00:00",
          "2024-02-03T00:00:00",
          "2024-02-04T00:00:00",
          "2024-02-05T00:00:00",
          "2024-02-06T00:00:00",
          "2024-02-07T00:00:00",
          "2024-02-08T00:00:00",
          "2024-02-09T00:00:00",
          "2024-02-10T00:00:00",
          "2024-02-11T00:00:00",
          "2024-02-12T00:00:00",
          "2024-02-13T00:00:00",
          "2024-02-14T00:00:00",
          "2024-02-15T00:00:00",
          "2024-02-16T00:00:00",
          "2024-02-17T00:00:00",
          "2024-02-18T00:00:00",
          "2024-02-19T00:00:00",
          "2024-02-20T00:00:00",
          "2024-02-21T00:00:00",
          "2024-02-22T00:00:00",
          "2024-02-23T00:00:00",
          "2024-02-24T00:00:00",
          "2024-02-25T00:00:00",
          "2024-02-26T00:00:00",
          "2024-02-27T00:00:00",
          "2024-02-28T00:00:00",
          "2024-02-29T00:00:00",
          "2024-03-01T00:00:00",
          "2024-03-02T00:00:00",
          "2024-03-03T00:00:00",
          "2024-03-04T00:00:00",
          "2024-03-05T00:00:00",
          "2024-03-06T00:00:00",
          "2024-03-07T00:00:00",
          "2024-03-08T00:00:00",
          "2024-03-09T00:00:00",
          "2024-03-10T00:00:00",
          "2024-03-11T00:00:00",
          "2024-03-12T00:00:00",
          "2024-03-13T00:00:00",
          "2024-03-14T00:00:00",
          "2024-03-15T00:00:00",
          "2024-03-16T00:00:00",
          "2024-03-17T00:00:00",
          "2024-03-18T00:00:00",
          "2024-03-19T00:00:00",
          "2024-03-20T00:00:00",
          "2024-03-21T00:00:00",
          "2024-03-22T00:00:00",
          "2024-03-23T00:00:00",
          "2024-03-24T00:00:00",
          "2024-03-25T00:00:00",
          "2024-03-26T00:00:00",
          "2024-03-27T00:00:00",
          "2024-03-28T00:00:00",
          "2024-03-29T00:00:00",
          "2024-03-30T00:00:00",
          "2024-03-31T00:00:00",
          "2024-04-01T00:00:00",
          "2024-04-02T00:00:00",
          "2024-04-03T00:00:00",
          "2024-04-04T00:00:00",
          "2024-04-05T00:00:00",
          "2024-04-06T00:00:00",
          "2024-04-07T00:00:00",
          "2024-04-08T00:00:00",
          "2024-04-09T00:00:00",
          "2024-04-10T00:00:00",
          "2024-04-11T00:00:00",
          "2024-04-12T00:00:00",
          "2024-04-13T00:00:00",
          "2024-04-14T00:00:00",
          "2024-04-15T00:00:00",
          "2024-04-16T00:00:00",
          "2024-04-17T00:00:00",
          "2024-04-18T00:00:00",
          "2024-04-19T00:00:00",
          "2024-04-20T00:00:00",
          "2024-04-21T00:00:00",
          "2024-04-22T00:00:00",
          "2024-04-23T00:00:00",
          "2024-04-24T00:00:00",
          "2024-04-25T00:00:00",
          "2024-04-26T00:00:00",
          "2024-04-27T00:00:00",
          "2024-04-28T00:00:00",
          "2024-04-29T00:00:00",
          "2024-04-30T00:00:00",
          "2024-05-01T00:00:00",
          "2024-05-02T00:00:00",
          "2024-05-03T00:00:00",
          "2024-05-04T00:00:00",
          "2024-05-05T00:00:00",
          "2024-05-06T00:00:00",
          "2024-05-07T00:00:00",
          "2024-05-08T00:00:00",
          "2024-05-09T00:00:00",
          "2024-05-10T00:00:00",
          "2024-05-11T00:00:00",
          "2024-05-12T00:00:00",
          "2024-05-13T00:00:00",
          "2024-05-14T00:00:00",
          "2024-05-15T00:00:00",
          "2024-05-16T00:00:00",
          "2024-05-17T00:00:00",
          "2024-05-18T00:00:00",
          "2024-05-19T00:00:00",
          "2024-05-20T00:00:00",
          "2024-05-21T00:00:00",
          "2024-05-22T00:00:00",
          "2024-05-23T00:00:00",
          "2024-05-24T00:00:00",
          "2024-05-25T00:00:00",
          "2024-05-26T00:00:00",
          "2024-05-27T00:00:00",
          "2024-05-28T00:00:00",
          "2024-05-29T00:00:00",
          "2024-05-30T00:00:00",
          "2024-05-31T00:00:00",
          "2024-06-01T00:00:00",
          "2024-06-02T00:00:00",
          "2024-06-03T00:00:00",
          "2024-06-04T00:00:00",
          "2024-06-05T00:00:00",
          "2024-06-06T00:00:00",
          "2024-06-07T00:00:00",
          "2024-06-08T00:00:00",
          "2024-06-09T00:00:00",
          "2024-06-10T00:00:00",
          "2024-06-11T00:00:00",
          "2024-06-12T00:00:00",
          "2024-06-13T00:00:00",
          "2024-06-14T00:00:00",
          "2024-06-15T00:00:00",
          "2024-06-16T00:00:00",
          "2024-06-17T00:00:00",
          "2024-06-18T00:00:00",
          "2024-06-19T00:00:00",
          "2024-06-20T00:00:00",
          "2024-06-21T00:00:00",
          "2024-06-22T00:00:00",
          "2024-06-23T00:00:00",
          "2024-06-24T00:00:00",
          "2024-06-25T00:00:00",
          "2024-06-26T00:00:00",
          "2024-06-27T00:00:00",
          "2024-06-28T00:00:00",
          "2024-06-29T00:00:00",
          "2024-06-30T00:00:00",
          "2024-07-01T00:00:00",
          "2024-07-02T00:00:00",
          "2024-07-03T00:00:00",
          "2024-07-04T00:00:00",
          "2024-07-05T00:00:00",
          "2024-07-06T00:00:00",
          "2024-07-07T00:00:00",
          "2024-07-08T00:00:00",
          "2024-07-09T00:00:00",
          "2024-07-10T00:00:00",
          "2024-07-11T00:00:00",
          "2024-07-12T00:00:00",
          "2024-07-13T00:00:00",
          "2024-07-14T00:00:00",
          "2024-07-15T00:00:00",
          "2024-07-16T00:00:00",
          "2024-07-17T00:00:00",
          "2024-07-18T00:00:00",
          "2024-07-19T00:00:00",
          "2024-07-20T00:00:00",
          "2024-07-21T00:00:00",
          "2024-07-22T00:00:00",
          "2024-07-23T00:00:00",
          "2024-07-24T00:00:00"
         ],
         "xaxis": "x",
         "y": [
          15644.502050371171,
          882610.9007359877,
          162767.73536034432,
          946259.9485388196,
          114328.1420421,
          0,
          0,
          0,
          0,
          230.47635511509998,
          0,
          0,
          0,
          29985.2532175518,
          1180.0049337085,
          0,
          0,
          0,
          0,
          0,
          0,
          8289.924936996,
          0,
          0,
          0,
          0,
          0,
          0,
          0,
          29451.17276825,
          296015.201409411,
          0,
          158741.88054851603,
          933.6231770375999,
          0,
          84481.40961280001,
          0,
          0,
          0,
          3133.207507539345,
          0,
          0,
          237288.67888013265,
          0,
          0,
          35757.6281347194,
          0,
          0,
          0,
          404211.5482487,
          0,
          0,
          733.9907488092,
          0,
          0,
          0,
          0,
          0,
          69672.507999825,
          0,
          26578.445800432,
          3450.405180283,
          0,
          0,
          0,
          0,
          0,
          0,
          0,
          0,
          0,
          6648.55987803,
          0,
          0,
          0,
          25442.987855194002,
          0,
          347828.165132085,
          0,
          0,
          0,
          0,
          0,
          0,
          0,
          0,
          115954.25721801701,
          0,
          0,
          0,
          24765.338788996,
          1087425.2576275668,
          9146776.505856493,
          2623.2092438888803,
          56681.15074243528,
          111570.38901226783,
          409031.9469567151,
          275917.24629768473,
          20983.3083233196,
          66514.60718882037,
          26373.108338761253,
          20984.47716551811,
          39249.6436151475,
          64564.61703305139,
          34542.7950182575,
          50328.5539551821,
          20284.23166183614,
          35715.651645013204,
          0,
          143996.68023636402,
          0,
          0,
          15030.6784,
          1225283.6366666667,
          53971.037,
          0,
          85662.92,
          9279.09,
          59364.97666666666,
          0,
          9177.25263,
          2754.4875,
          15019,
          0,
          67135.02826666668,
          52657.111475,
          1003576.0447714286,
          13146.1725,
          0,
          158530.26,
          67816.62,
          64586.52651428572,
          37537.8738,
          27292.76394,
          0,
          7219.011673076923,
          4047.1090000000004,
          18388.800000000003,
          0,
          145750,
          139698.4,
          1724.3,
          0,
          177447.5125,
          0,
          21092.34,
          0,
          0,
          5399.6849999999995,
          0,
          999.7342857142856,
          0,
          67968.99016666667,
          0,
          0,
          424348.93523,
          1886.26406,
          0,
          0,
          0,
          68411.1783,
          0,
          4183.429934375,
          8581.74,
          25754.35357142857,
          39241.41,
          6091.708666666666,
          26487.112285714284,
          155186,
          28950.9,
          14030.835000000001,
          9477.42,
          102267.2,
          8149.416478533332,
          10052.15676,
          15722.367037499998,
          74539.481965,
          2200.5676,
          700.4932958333334,
          16097.196567111112,
          1119.7418545454545,
          14866.119029026666,
          1751.006231
         ],
         "yaxis": "y"
        },
        {
         "mode": "lines",
         "name": "Listings",
         "type": "scatter",
         "x": [
          "2024-01-24T00:00:00",
          "2024-01-25T00:00:00",
          "2024-01-26T00:00:00",
          "2024-01-27T00:00:00",
          "2024-01-28T00:00:00",
          "2024-01-29T00:00:00",
          "2024-01-30T00:00:00",
          "2024-01-31T00:00:00",
          "2024-02-01T00:00:00",
          "2024-02-02T00:00:00",
          "2024-02-03T00:00:00",
          "2024-02-04T00:00:00",
          "2024-02-05T00:00:00",
          "2024-02-06T00:00:00",
          "2024-02-07T00:00:00",
          "2024-02-08T00:00:00",
          "2024-02-09T00:00:00",
          "2024-02-10T00:00:00",
          "2024-02-11T00:00:00",
          "2024-02-12T00:00:00",
          "2024-02-13T00:00:00",
          "2024-02-14T00:00:00",
          "2024-02-15T00:00:00",
          "2024-02-16T00:00:00",
          "2024-02-17T00:00:00",
          "2024-02-18T00:00:00",
          "2024-02-19T00:00:00",
          "2024-02-20T00:00:00",
          "2024-02-21T00:00:00",
          "2024-02-22T00:00:00",
          "2024-02-23T00:00:00",
          "2024-02-24T00:00:00",
          "2024-02-25T00:00:00",
          "2024-02-26T00:00:00",
          "2024-02-27T00:00:00",
          "2024-02-28T00:00:00",
          "2024-02-29T00:00:00",
          "2024-03-01T00:00:00",
          "2024-03-02T00:00:00",
          "2024-03-03T00:00:00",
          "2024-03-04T00:00:00",
          "2024-03-05T00:00:00",
          "2024-03-06T00:00:00",
          "2024-03-07T00:00:00",
          "2024-03-08T00:00:00",
          "2024-03-09T00:00:00",
          "2024-03-10T00:00:00",
          "2024-03-11T00:00:00",
          "2024-03-12T00:00:00",
          "2024-03-13T00:00:00",
          "2024-03-14T00:00:00",
          "2024-03-15T00:00:00",
          "2024-03-16T00:00:00",
          "2024-03-17T00:00:00",
          "2024-03-18T00:00:00",
          "2024-03-19T00:00:00",
          "2024-03-20T00:00:00",
          "2024-03-21T00:00:00",
          "2024-03-22T00:00:00",
          "2024-03-23T00:00:00",
          "2024-03-24T00:00:00",
          "2024-03-25T00:00:00",
          "2024-03-26T00:00:00",
          "2024-03-27T00:00:00",
          "2024-03-28T00:00:00",
          "2024-03-29T00:00:00",
          "2024-03-30T00:00:00",
          "2024-03-31T00:00:00",
          "2024-04-01T00:00:00",
          "2024-04-02T00:00:00",
          "2024-04-03T00:00:00",
          "2024-04-04T00:00:00",
          "2024-04-05T00:00:00",
          "2024-04-06T00:00:00",
          "2024-04-07T00:00:00",
          "2024-04-08T00:00:00",
          "2024-04-09T00:00:00",
          "2024-04-10T00:00:00",
          "2024-04-11T00:00:00",
          "2024-04-12T00:00:00",
          "2024-04-13T00:00:00",
          "2024-04-14T00:00:00",
          "2024-04-15T00:00:00",
          "2024-04-16T00:00:00",
          "2024-04-17T00:00:00",
          "2024-04-18T00:00:00",
          "2024-04-19T00:00:00",
          "2024-04-20T00:00:00",
          "2024-04-21T00:00:00",
          "2024-04-22T00:00:00",
          "2024-04-23T00:00:00",
          "2024-04-24T00:00:00",
          "2024-04-25T00:00:00",
          "2024-04-26T00:00:00",
          "2024-04-27T00:00:00",
          "2024-04-28T00:00:00",
          "2024-04-29T00:00:00",
          "2024-04-30T00:00:00",
          "2024-05-01T00:00:00",
          "2024-05-02T00:00:00",
          "2024-05-03T00:00:00",
          "2024-05-04T00:00:00",
          "2024-05-05T00:00:00",
          "2024-05-06T00:00:00",
          "2024-05-07T00:00:00",
          "2024-05-08T00:00:00",
          "2024-05-09T00:00:00",
          "2024-05-10T00:00:00",
          "2024-05-11T00:00:00",
          "2024-05-12T00:00:00",
          "2024-05-13T00:00:00",
          "2024-05-14T00:00:00",
          "2024-05-15T00:00:00",
          "2024-05-16T00:00:00",
          "2024-05-17T00:00:00",
          "2024-05-18T00:00:00",
          "2024-05-19T00:00:00",
          "2024-05-20T00:00:00",
          "2024-05-21T00:00:00",
          "2024-05-22T00:00:00",
          "2024-05-23T00:00:00",
          "2024-05-24T00:00:00",
          "2024-05-25T00:00:00",
          "2024-05-26T00:00:00",
          "2024-05-27T00:00:00",
          "2024-05-28T00:00:00",
          "2024-05-29T00:00:00",
          "2024-05-30T00:00:00",
          "2024-05-31T00:00:00",
          "2024-06-01T00:00:00",
          "2024-06-02T00:00:00",
          "2024-06-03T00:00:00",
          "2024-06-04T00:00:00",
          "2024-06-05T00:00:00",
          "2024-06-06T00:00:00",
          "2024-06-07T00:00:00",
          "2024-06-08T00:00:00",
          "2024-06-09T00:00:00",
          "2024-06-10T00:00:00",
          "2024-06-11T00:00:00",
          "2024-06-12T00:00:00",
          "2024-06-13T00:00:00",
          "2024-06-14T00:00:00",
          "2024-06-15T00:00:00",
          "2024-06-16T00:00:00",
          "2024-06-17T00:00:00",
          "2024-06-18T00:00:00",
          "2024-06-19T00:00:00",
          "2024-06-20T00:00:00",
          "2024-06-21T00:00:00",
          "2024-06-22T00:00:00",
          "2024-06-23T00:00:00",
          "2024-06-24T00:00:00",
          "2024-06-25T00:00:00",
          "2024-06-26T00:00:00",
          "2024-06-27T00:00:00",
          "2024-06-28T00:00:00",
          "2024-06-29T00:00:00",
          "2024-06-30T00:00:00",
          "2024-07-01T00:00:00",
          "2024-07-02T00:00:00",
          "2024-07-03T00:00:00",
          "2024-07-04T00:00:00",
          "2024-07-05T00:00:00",
          "2024-07-06T00:00:00",
          "2024-07-07T00:00:00",
          "2024-07-08T00:00:00",
          "2024-07-09T00:00:00",
          "2024-07-10T00:00:00",
          "2024-07-11T00:00:00",
          "2024-07-12T00:00:00",
          "2024-07-13T00:00:00",
          "2024-07-14T00:00:00",
          "2024-07-15T00:00:00",
          "2024-07-16T00:00:00",
          "2024-07-17T00:00:00",
          "2024-07-18T00:00:00",
          "2024-07-19T00:00:00",
          "2024-07-20T00:00:00",
          "2024-07-21T00:00:00",
          "2024-07-22T00:00:00",
          "2024-07-23T00:00:00",
          "2024-07-24T00:00:00"
         ],
         "xaxis": "x",
         "y": [
          3,
          11,
          6,
          4,
          1,
          0,
          0,
          0,
          0,
          1,
          0,
          0,
          0,
          5,
          2,
          0,
          0,
          0,
          0,
          0,
          0,
          1,
          0,
          0,
          0,
          0,
          0,
          0,
          0,
          1,
          1,
          0,
          2,
          1,
          0,
          3,
          0,
          0,
          0,
          1,
          0,
          0,
          3,
          0,
          0,
          1,
          0,
          0,
          0,
          1,
          0,
          0,
          1,
          0,
          0,
          0,
          0,
          0,
          2,
          0,
          1,
          1,
          0,
          0,
          0,
          0,
          0,
          0,
          0,
          0,
          0,
          6,
          0,
          0,
          0,
          1,
          0,
          1,
          0,
          0,
          0,
          0,
          0,
          0,
          0,
          0,
          2,
          0,
          0,
          0,
          3,
          4,
          10,
          5,
          8,
          26,
          4,
          18,
          15,
          10,
          4,
          27,
          2,
          25,
          4,
          5,
          5,
          3,
          0,
          4,
          0,
          0,
          1,
          3,
          2,
          0,
          1,
          1,
          3,
          0,
          2,
          2,
          2,
          0,
          3,
          4,
          7,
          6,
          0,
          1,
          1,
          7,
          1,
          8,
          0,
          13,
          1,
          2,
          0,
          1,
          1,
          1,
          0,
          2,
          0,
          3,
          0,
          0,
          1,
          0,
          21,
          0,
          6,
          0,
          0,
          4,
          2,
          0,
          0,
          0,
          5,
          0,
          8,
          1,
          7,
          1,
          3,
          7,
          2,
          1,
          3,
          1,
          1,
          15,
          5,
          10,
          10,
          4,
          12,
          9,
          11,
          18,
          3
         ],
         "yaxis": "y2"
        }
       ],
       "layout": {
        "template": {
         "data": {
          "bar": [
           {
            "error_x": {
             "color": "#2a3f5f"
            },
            "error_y": {
             "color": "#2a3f5f"
            },
            "marker": {
             "line": {
              "color": "#E5ECF6",
              "width": 0.5
             },
             "pattern": {
              "fillmode": "overlay",
              "size": 10,
              "solidity": 0.2
             }
            },
            "type": "bar"
           }
          ],
          "barpolar": [
           {
            "marker": {
             "line": {
              "color": "#E5ECF6",
              "width": 0.5
             },
             "pattern": {
              "fillmode": "overlay",
              "size": 10,
              "solidity": 0.2
             }
            },
            "type": "barpolar"
           }
          ],
          "carpet": [
           {
            "aaxis": {
             "endlinecolor": "#2a3f5f",
             "gridcolor": "white",
             "linecolor": "white",
             "minorgridcolor": "white",
             "startlinecolor": "#2a3f5f"
            },
            "baxis": {
             "endlinecolor": "#2a3f5f",
             "gridcolor": "white",
             "linecolor": "white",
             "minorgridcolor": "white",
             "startlinecolor": "#2a3f5f"
            },
            "type": "carpet"
           }
          ],
          "choropleth": [
           {
            "colorbar": {
             "outlinewidth": 0,
             "ticks": ""
            },
            "type": "choropleth"
           }
          ],
          "contour": [
           {
            "colorbar": {
             "outlinewidth": 0,
             "ticks": ""
            },
            "colorscale": [
             [
              0,
              "#0d0887"
             ],
             [
              0.1111111111111111,
              "#46039f"
             ],
             [
              0.2222222222222222,
              "#7201a8"
             ],
             [
              0.3333333333333333,
              "#9c179e"
             ],
             [
              0.4444444444444444,
              "#bd3786"
             ],
             [
              0.5555555555555556,
              "#d8576b"
             ],
             [
              0.6666666666666666,
              "#ed7953"
             ],
             [
              0.7777777777777778,
              "#fb9f3a"
             ],
             [
              0.8888888888888888,
              "#fdca26"
             ],
             [
              1,
              "#f0f921"
             ]
            ],
            "type": "contour"
           }
          ],
          "contourcarpet": [
           {
            "colorbar": {
             "outlinewidth": 0,
             "ticks": ""
            },
            "type": "contourcarpet"
           }
          ],
          "heatmap": [
           {
            "colorbar": {
             "outlinewidth": 0,
             "ticks": ""
            },
            "colorscale": [
             [
              0,
              "#0d0887"
             ],
             [
              0.1111111111111111,
              "#46039f"
             ],
             [
              0.2222222222222222,
              "#7201a8"
             ],
             [
              0.3333333333333333,
              "#9c179e"
             ],
             [
              0.4444444444444444,
              "#bd3786"
             ],
             [
              0.5555555555555556,
              "#d8576b"
             ],
             [
              0.6666666666666666,
              "#ed7953"
             ],
             [
              0.7777777777777778,
              "#fb9f3a"
             ],
             [
              0.8888888888888888,
              "#fdca26"
             ],
             [
              1,
              "#f0f921"
             ]
            ],
            "type": "heatmap"
           }
          ],
          "heatmapgl": [
           {
            "colorbar": {
             "outlinewidth": 0,
             "ticks": ""
            },
            "colorscale": [
             [
              0,
              "#0d0887"
             ],
             [
              0.1111111111111111,
              "#46039f"
             ],
             [
              0.2222222222222222,
              "#7201a8"
             ],
             [
              0.3333333333333333,
              "#9c179e"
             ],
             [
              0.4444444444444444,
              "#bd3786"
             ],
             [
              0.5555555555555556,
              "#d8576b"
             ],
             [
              0.6666666666666666,
              "#ed7953"
             ],
             [
              0.7777777777777778,
              "#fb9f3a"
             ],
             [
              0.8888888888888888,
              "#fdca26"
             ],
             [
              1,
              "#f0f921"
             ]
            ],
            "type": "heatmapgl"
           }
          ],
          "histogram": [
           {
            "marker": {
             "pattern": {
              "fillmode": "overlay",
              "size": 10,
              "solidity": 0.2
             }
            },
            "type": "histogram"
           }
          ],
          "histogram2d": [
           {
            "colorbar": {
             "outlinewidth": 0,
             "ticks": ""
            },
            "colorscale": [
             [
              0,
              "#0d0887"
             ],
             [
              0.1111111111111111,
              "#46039f"
             ],
             [
              0.2222222222222222,
              "#7201a8"
             ],
             [
              0.3333333333333333,
              "#9c179e"
             ],
             [
              0.4444444444444444,
              "#bd3786"
             ],
             [
              0.5555555555555556,
              "#d8576b"
             ],
             [
              0.6666666666666666,
              "#ed7953"
             ],
             [
              0.7777777777777778,
              "#fb9f3a"
             ],
             [
              0.8888888888888888,
              "#fdca26"
             ],
             [
              1,
              "#f0f921"
             ]
            ],
            "type": "histogram2d"
           }
          ],
          "histogram2dcontour": [
           {
            "colorbar": {
             "outlinewidth": 0,
             "ticks": ""
            },
            "colorscale": [
             [
              0,
              "#0d0887"
             ],
             [
              0.1111111111111111,
              "#46039f"
             ],
             [
              0.2222222222222222,
              "#7201a8"
             ],
             [
              0.3333333333333333,
              "#9c179e"
             ],
             [
              0.4444444444444444,
              "#bd3786"
             ],
             [
              0.5555555555555556,
              "#d8576b"
             ],
             [
              0.6666666666666666,
              "#ed7953"
             ],
             [
              0.7777777777777778,
              "#fb9f3a"
             ],
             [
              0.8888888888888888,
              "#fdca26"
             ],
             [
              1,
              "#f0f921"
             ]
            ],
            "type": "histogram2dcontour"
           }
          ],
          "mesh3d": [
           {
            "colorbar": {
             "outlinewidth": 0,
             "ticks": ""
            },
            "type": "mesh3d"
           }
          ],
          "parcoords": [
           {
            "line": {
             "colorbar": {
              "outlinewidth": 0,
              "ticks": ""
             }
            },
            "type": "parcoords"
           }
          ],
          "pie": [
           {
            "automargin": true,
            "type": "pie"
           }
          ],
          "scatter": [
           {
            "fillpattern": {
             "fillmode": "overlay",
             "size": 10,
             "solidity": 0.2
            },
            "type": "scatter"
           }
          ],
          "scatter3d": [
           {
            "line": {
             "colorbar": {
              "outlinewidth": 0,
              "ticks": ""
             }
            },
            "marker": {
             "colorbar": {
              "outlinewidth": 0,
              "ticks": ""
             }
            },
            "type": "scatter3d"
           }
          ],
          "scattercarpet": [
           {
            "marker": {
             "colorbar": {
              "outlinewidth": 0,
              "ticks": ""
             }
            },
            "type": "scattercarpet"
           }
          ],
          "scattergeo": [
           {
            "marker": {
             "colorbar": {
              "outlinewidth": 0,
              "ticks": ""
             }
            },
            "type": "scattergeo"
           }
          ],
          "scattergl": [
           {
            "marker": {
             "colorbar": {
              "outlinewidth": 0,
              "ticks": ""
             }
            },
            "type": "scattergl"
           }
          ],
          "scattermapbox": [
           {
            "marker": {
             "colorbar": {
              "outlinewidth": 0,
              "ticks": ""
             }
            },
            "type": "scattermapbox"
           }
          ],
          "scatterpolar": [
           {
            "marker": {
             "colorbar": {
              "outlinewidth": 0,
              "ticks": ""
             }
            },
            "type": "scatterpolar"
           }
          ],
          "scatterpolargl": [
           {
            "marker": {
             "colorbar": {
              "outlinewidth": 0,
              "ticks": ""
             }
            },
            "type": "scatterpolargl"
           }
          ],
          "scatterternary": [
           {
            "marker": {
             "colorbar": {
              "outlinewidth": 0,
              "ticks": ""
             }
            },
            "type": "scatterternary"
           }
          ],
          "surface": [
           {
            "colorbar": {
             "outlinewidth": 0,
             "ticks": ""
            },
            "colorscale": [
             [
              0,
              "#0d0887"
             ],
             [
              0.1111111111111111,
              "#46039f"
             ],
             [
              0.2222222222222222,
              "#7201a8"
             ],
             [
              0.3333333333333333,
              "#9c179e"
             ],
             [
              0.4444444444444444,
              "#bd3786"
             ],
             [
              0.5555555555555556,
              "#d8576b"
             ],
             [
              0.6666666666666666,
              "#ed7953"
             ],
             [
              0.7777777777777778,
              "#fb9f3a"
             ],
             [
              0.8888888888888888,
              "#fdca26"
             ],
             [
              1,
              "#f0f921"
             ]
            ],
            "type": "surface"
           }
          ],
          "table": [
           {
            "cells": {
             "fill": {
              "color": "#EBF0F8"
             },
             "line": {
              "color": "white"
             }
            },
            "header": {
             "fill": {
              "color": "#C8D4E3"
             },
             "line": {
              "color": "white"
             }
            },
            "type": "table"
           }
          ]
         },
         "layout": {
          "annotationdefaults": {
           "arrowcolor": "#2a3f5f",
           "arrowhead": 0,
           "arrowwidth": 1
          },
          "autotypenumbers": "strict",
          "coloraxis": {
           "colorbar": {
            "outlinewidth": 0,
            "ticks": ""
           }
          },
          "colorscale": {
           "diverging": [
            [
             0,
             "#8e0152"
            ],
            [
             0.1,
             "#c51b7d"
            ],
            [
             0.2,
             "#de77ae"
            ],
            [
             0.3,
             "#f1b6da"
            ],
            [
             0.4,
             "#fde0ef"
            ],
            [
             0.5,
             "#f7f7f7"
            ],
            [
             0.6,
             "#e6f5d0"
            ],
            [
             0.7,
             "#b8e186"
            ],
            [
             0.8,
             "#7fbc41"
            ],
            [
             0.9,
             "#4d9221"
            ],
            [
             1,
             "#276419"
            ]
           ],
           "sequential": [
            [
             0,
             "#0d0887"
            ],
            [
             0.1111111111111111,
             "#46039f"
            ],
            [
             0.2222222222222222,
             "#7201a8"
            ],
            [
             0.3333333333333333,
             "#9c179e"
            ],
            [
             0.4444444444444444,
             "#bd3786"
            ],
            [
             0.5555555555555556,
             "#d8576b"
            ],
            [
             0.6666666666666666,
             "#ed7953"
            ],
            [
             0.7777777777777778,
             "#fb9f3a"
            ],
            [
             0.8888888888888888,
             "#fdca26"
            ],
            [
             1,
             "#f0f921"
            ]
           ],
           "sequentialminus": [
            [
             0,
             "#0d0887"
            ],
            [
             0.1111111111111111,
             "#46039f"
            ],
            [
             0.2222222222222222,
             "#7201a8"
            ],
            [
             0.3333333333333333,
             "#9c179e"
            ],
            [
             0.4444444444444444,
             "#bd3786"
            ],
            [
             0.5555555555555556,
             "#d8576b"
            ],
            [
             0.6666666666666666,
             "#ed7953"
            ],
            [
             0.7777777777777778,
             "#fb9f3a"
            ],
            [
             0.8888888888888888,
             "#fdca26"
            ],
            [
             1,
             "#f0f921"
            ]
           ]
          },
          "colorway": [
           "#636efa",
           "#EF553B",
           "#00cc96",
           "#ab63fa",
           "#FFA15A",
           "#19d3f3",
           "#FF6692",
           "#B6E880",
           "#FF97FF",
           "#FECB52"
          ],
          "font": {
           "color": "#2a3f5f"
          },
          "geo": {
           "bgcolor": "white",
           "lakecolor": "white",
           "landcolor": "#E5ECF6",
           "showlakes": true,
           "showland": true,
           "subunitcolor": "white"
          },
          "hoverlabel": {
           "align": "left"
          },
          "hovermode": "closest",
          "mapbox": {
           "style": "light"
          },
          "paper_bgcolor": "white",
          "plot_bgcolor": "#E5ECF6",
          "polar": {
           "angularaxis": {
            "gridcolor": "white",
            "linecolor": "white",
            "ticks": ""
           },
           "bgcolor": "#E5ECF6",
           "radialaxis": {
            "gridcolor": "white",
            "linecolor": "white",
            "ticks": ""
           }
          },
          "scene": {
           "xaxis": {
            "backgroundcolor": "#E5ECF6",
            "gridcolor": "white",
            "gridwidth": 2,
            "linecolor": "white",
            "showbackground": true,
            "ticks": "",
            "zerolinecolor": "white"
           },
           "yaxis": {
            "backgroundcolor": "#E5ECF6",
            "gridcolor": "white",
            "gridwidth": 2,
            "linecolor": "white",
            "showbackground": true,
            "ticks": "",
            "zerolinecolor": "white"
           },
           "zaxis": {
            "backgroundcolor": "#E5ECF6",
            "gridcolor": "white",
            "gridwidth": 2,
            "linecolor": "white",
            "showbackground": true,
            "ticks": "",
            "zerolinecolor": "white"
           }
          },
          "shapedefaults": {
           "line": {
            "color": "#2a3f5f"
           }
          },
          "ternary": {
           "aaxis": {
            "gridcolor": "white",
            "linecolor": "white",
            "ticks": ""
           },
           "baxis": {
            "gridcolor": "white",
            "linecolor": "white",
            "ticks": ""
           },
           "bgcolor": "#E5ECF6",
           "caxis": {
            "gridcolor": "white",
            "linecolor": "white",
            "ticks": ""
           }
          },
          "title": {
           "x": 0.05
          },
          "xaxis": {
           "automargin": true,
           "gridcolor": "white",
           "linecolor": "white",
           "ticks": "",
           "title": {
            "standoff": 15
           },
           "zerolinecolor": "white",
           "zerolinewidth": 2
          },
          "yaxis": {
           "automargin": true,
           "gridcolor": "white",
           "linecolor": "white",
           "ticks": "",
           "title": {
            "standoff": 15
           },
           "zerolinecolor": "white",
           "zerolinewidth": 2
          }
         }
        },
        "xaxis": {
         "anchor": "y",
         "domain": [
          0,
          0.94
         ]
        },
        "yaxis": {
         "anchor": "x",
         "domain": [
          0,
          1
         ]
        },
        "yaxis2": {
         "anchor": "x",
         "overlaying": "y",
         "side": "right"
        }
       }
      }
     },
     "metadata": {},
     "output_type": "display_data"
    }
   ],
   "source": [
    "\n",
    "\n",
    "box_listing_data_fig = make_subplots(specs=[[{\"secondary_y\": True}]])\n",
    "\n",
    "# Add bar chart for sales\n",
    "# box_listing_data_fig.add_trace(\n",
    "#     go.Bar(\n",
    "#         x=box_listing_data.index,\n",
    "#         y=box_listing_data['max_price'],\n",
    "#         name='Max Price'\n",
    "#     ),\n",
    "#     secondary_y=False\n",
    "# )\n",
    "\n",
    "# box_listing_data_fig.add_trace(\n",
    "#     go.Bar(\n",
    "#         x=box_listing_data.index,\n",
    "#         y=box_listing_data['min_price'],\n",
    "#         name='Min Price'\n",
    "#     ),\n",
    "#     secondary_y=False\n",
    "# )\n",
    "\n",
    "# Add line chart for cumulative sales\n",
    "box_listing_data_fig.add_trace(\n",
    "    go.Bar(\n",
    "        x=box_listing_data.index,\n",
    "        y=box_listing_data['avg_price'],\n",
    "        name='Avg Price',\n",
    "    ),\n",
    "    secondary_y=False\n",
    ")\n",
    "\n",
    "box_listing_data_fig.add_trace(\n",
    "    go.Scatter(\n",
    "        x=box_listing_data.index,\n",
    "        y=box_listing_data['listings'],\n",
    "        name='Listings',\n",
    "        mode='lines'\n",
    "    ),\n",
    "    secondary_y=True\n",
    ")\n",
    "\n",
    "# box_listing_data_fig.show()\n"
   ]
  },
  {
   "cell_type": "code",
   "execution_count": 186,
   "metadata": {},
   "outputs": [],
   "source": [
    "box_listings.drop(columns=['tokenid','eth_usd'], inplace=True)\n"
   ]
  },
  {
   "cell_type": "code",
   "execution_count": 187,
   "metadata": {},
   "outputs": [],
   "source": [
    "latest_box_listings = box_listings.sort_index(ascending=False)\n",
    "latest_box_listings = latest_box_listings.head(10)\n",
    "latest_box_listings.reset_index(inplace=True)"
   ]
  },
  {
   "cell_type": "code",
   "execution_count": 188,
   "metadata": {
    "collapsed": true,
    "jupyter": {
     "outputs_hidden": true
    },
    "tags": []
   },
   "outputs": [
    {
     "data": {
      "application/vnd.plotly.v1+json": {
       "config": {
        "plotlyServerURL": "https://plot.ly"
       },
       "data": [
        {
         "alignmentgroup": "True",
         "hovertemplate": "name=%{x}<br>price_usd=%{y}<extra></extra>",
         "legendgroup": "",
         "marker": {
          "color": "#636efa",
          "pattern": {
           "shape": ""
          }
         },
         "name": "",
         "offsetgroup": "",
         "orientation": "v",
         "showlegend": false,
         "textposition": "auto",
         "type": "bar",
         "x": [
          "vm.box",
          "jane.box",
          "express.box",
          "good.box",
          "38.box",
          "75.box",
          "70.box",
          "man.box",
          "40.box",
          "404.box"
         ],
         "xaxis": "x",
         "y": [
          31481.468012639998,
          1151.7140375362649,
          317.32758139960004,
          314.608157469935,
          301.7316911204,
          269.1720167967,
          269.1720167967,
          224.604619321188,
          209.35601306410004,
          203.68114234888
         ],
         "yaxis": "y"
        }
       ],
       "layout": {
        "barmode": "relative",
        "legend": {
         "tracegroupgap": 0
        },
        "paper_bgcolor": "#fafafa",
        "plot_bgcolor": "#fafafa",
        "template": {
         "data": {
          "bar": [
           {
            "error_x": {
             "color": "#2a3f5f"
            },
            "error_y": {
             "color": "#2a3f5f"
            },
            "marker": {
             "line": {
              "color": "#E5ECF6",
              "width": 0.5
             },
             "pattern": {
              "fillmode": "overlay",
              "size": 10,
              "solidity": 0.2
             }
            },
            "type": "bar"
           }
          ],
          "barpolar": [
           {
            "marker": {
             "line": {
              "color": "#E5ECF6",
              "width": 0.5
             },
             "pattern": {
              "fillmode": "overlay",
              "size": 10,
              "solidity": 0.2
             }
            },
            "type": "barpolar"
           }
          ],
          "carpet": [
           {
            "aaxis": {
             "endlinecolor": "#2a3f5f",
             "gridcolor": "white",
             "linecolor": "white",
             "minorgridcolor": "white",
             "startlinecolor": "#2a3f5f"
            },
            "baxis": {
             "endlinecolor": "#2a3f5f",
             "gridcolor": "white",
             "linecolor": "white",
             "minorgridcolor": "white",
             "startlinecolor": "#2a3f5f"
            },
            "type": "carpet"
           }
          ],
          "choropleth": [
           {
            "colorbar": {
             "outlinewidth": 0,
             "ticks": ""
            },
            "type": "choropleth"
           }
          ],
          "contour": [
           {
            "colorbar": {
             "outlinewidth": 0,
             "ticks": ""
            },
            "colorscale": [
             [
              0,
              "#0d0887"
             ],
             [
              0.1111111111111111,
              "#46039f"
             ],
             [
              0.2222222222222222,
              "#7201a8"
             ],
             [
              0.3333333333333333,
              "#9c179e"
             ],
             [
              0.4444444444444444,
              "#bd3786"
             ],
             [
              0.5555555555555556,
              "#d8576b"
             ],
             [
              0.6666666666666666,
              "#ed7953"
             ],
             [
              0.7777777777777778,
              "#fb9f3a"
             ],
             [
              0.8888888888888888,
              "#fdca26"
             ],
             [
              1,
              "#f0f921"
             ]
            ],
            "type": "contour"
           }
          ],
          "contourcarpet": [
           {
            "colorbar": {
             "outlinewidth": 0,
             "ticks": ""
            },
            "type": "contourcarpet"
           }
          ],
          "heatmap": [
           {
            "colorbar": {
             "outlinewidth": 0,
             "ticks": ""
            },
            "colorscale": [
             [
              0,
              "#0d0887"
             ],
             [
              0.1111111111111111,
              "#46039f"
             ],
             [
              0.2222222222222222,
              "#7201a8"
             ],
             [
              0.3333333333333333,
              "#9c179e"
             ],
             [
              0.4444444444444444,
              "#bd3786"
             ],
             [
              0.5555555555555556,
              "#d8576b"
             ],
             [
              0.6666666666666666,
              "#ed7953"
             ],
             [
              0.7777777777777778,
              "#fb9f3a"
             ],
             [
              0.8888888888888888,
              "#fdca26"
             ],
             [
              1,
              "#f0f921"
             ]
            ],
            "type": "heatmap"
           }
          ],
          "heatmapgl": [
           {
            "colorbar": {
             "outlinewidth": 0,
             "ticks": ""
            },
            "colorscale": [
             [
              0,
              "#0d0887"
             ],
             [
              0.1111111111111111,
              "#46039f"
             ],
             [
              0.2222222222222222,
              "#7201a8"
             ],
             [
              0.3333333333333333,
              "#9c179e"
             ],
             [
              0.4444444444444444,
              "#bd3786"
             ],
             [
              0.5555555555555556,
              "#d8576b"
             ],
             [
              0.6666666666666666,
              "#ed7953"
             ],
             [
              0.7777777777777778,
              "#fb9f3a"
             ],
             [
              0.8888888888888888,
              "#fdca26"
             ],
             [
              1,
              "#f0f921"
             ]
            ],
            "type": "heatmapgl"
           }
          ],
          "histogram": [
           {
            "marker": {
             "pattern": {
              "fillmode": "overlay",
              "size": 10,
              "solidity": 0.2
             }
            },
            "type": "histogram"
           }
          ],
          "histogram2d": [
           {
            "colorbar": {
             "outlinewidth": 0,
             "ticks": ""
            },
            "colorscale": [
             [
              0,
              "#0d0887"
             ],
             [
              0.1111111111111111,
              "#46039f"
             ],
             [
              0.2222222222222222,
              "#7201a8"
             ],
             [
              0.3333333333333333,
              "#9c179e"
             ],
             [
              0.4444444444444444,
              "#bd3786"
             ],
             [
              0.5555555555555556,
              "#d8576b"
             ],
             [
              0.6666666666666666,
              "#ed7953"
             ],
             [
              0.7777777777777778,
              "#fb9f3a"
             ],
             [
              0.8888888888888888,
              "#fdca26"
             ],
             [
              1,
              "#f0f921"
             ]
            ],
            "type": "histogram2d"
           }
          ],
          "histogram2dcontour": [
           {
            "colorbar": {
             "outlinewidth": 0,
             "ticks": ""
            },
            "colorscale": [
             [
              0,
              "#0d0887"
             ],
             [
              0.1111111111111111,
              "#46039f"
             ],
             [
              0.2222222222222222,
              "#7201a8"
             ],
             [
              0.3333333333333333,
              "#9c179e"
             ],
             [
              0.4444444444444444,
              "#bd3786"
             ],
             [
              0.5555555555555556,
              "#d8576b"
             ],
             [
              0.6666666666666666,
              "#ed7953"
             ],
             [
              0.7777777777777778,
              "#fb9f3a"
             ],
             [
              0.8888888888888888,
              "#fdca26"
             ],
             [
              1,
              "#f0f921"
             ]
            ],
            "type": "histogram2dcontour"
           }
          ],
          "mesh3d": [
           {
            "colorbar": {
             "outlinewidth": 0,
             "ticks": ""
            },
            "type": "mesh3d"
           }
          ],
          "parcoords": [
           {
            "line": {
             "colorbar": {
              "outlinewidth": 0,
              "ticks": ""
             }
            },
            "type": "parcoords"
           }
          ],
          "pie": [
           {
            "automargin": true,
            "type": "pie"
           }
          ],
          "scatter": [
           {
            "fillpattern": {
             "fillmode": "overlay",
             "size": 10,
             "solidity": 0.2
            },
            "type": "scatter"
           }
          ],
          "scatter3d": [
           {
            "line": {
             "colorbar": {
              "outlinewidth": 0,
              "ticks": ""
             }
            },
            "marker": {
             "colorbar": {
              "outlinewidth": 0,
              "ticks": ""
             }
            },
            "type": "scatter3d"
           }
          ],
          "scattercarpet": [
           {
            "marker": {
             "colorbar": {
              "outlinewidth": 0,
              "ticks": ""
             }
            },
            "type": "scattercarpet"
           }
          ],
          "scattergeo": [
           {
            "marker": {
             "colorbar": {
              "outlinewidth": 0,
              "ticks": ""
             }
            },
            "type": "scattergeo"
           }
          ],
          "scattergl": [
           {
            "marker": {
             "colorbar": {
              "outlinewidth": 0,
              "ticks": ""
             }
            },
            "type": "scattergl"
           }
          ],
          "scattermapbox": [
           {
            "marker": {
             "colorbar": {
              "outlinewidth": 0,
              "ticks": ""
             }
            },
            "type": "scattermapbox"
           }
          ],
          "scatterpolar": [
           {
            "marker": {
             "colorbar": {
              "outlinewidth": 0,
              "ticks": ""
             }
            },
            "type": "scatterpolar"
           }
          ],
          "scatterpolargl": [
           {
            "marker": {
             "colorbar": {
              "outlinewidth": 0,
              "ticks": ""
             }
            },
            "type": "scatterpolargl"
           }
          ],
          "scatterternary": [
           {
            "marker": {
             "colorbar": {
              "outlinewidth": 0,
              "ticks": ""
             }
            },
            "type": "scatterternary"
           }
          ],
          "surface": [
           {
            "colorbar": {
             "outlinewidth": 0,
             "ticks": ""
            },
            "colorscale": [
             [
              0,
              "#0d0887"
             ],
             [
              0.1111111111111111,
              "#46039f"
             ],
             [
              0.2222222222222222,
              "#7201a8"
             ],
             [
              0.3333333333333333,
              "#9c179e"
             ],
             [
              0.4444444444444444,
              "#bd3786"
             ],
             [
              0.5555555555555556,
              "#d8576b"
             ],
             [
              0.6666666666666666,
              "#ed7953"
             ],
             [
              0.7777777777777778,
              "#fb9f3a"
             ],
             [
              0.8888888888888888,
              "#fdca26"
             ],
             [
              1,
              "#f0f921"
             ]
            ],
            "type": "surface"
           }
          ],
          "table": [
           {
            "cells": {
             "fill": {
              "color": "#EBF0F8"
             },
             "line": {
              "color": "white"
             }
            },
            "header": {
             "fill": {
              "color": "#C8D4E3"
             },
             "line": {
              "color": "white"
             }
            },
            "type": "table"
           }
          ]
         },
         "layout": {
          "annotationdefaults": {
           "arrowcolor": "#2a3f5f",
           "arrowhead": 0,
           "arrowwidth": 1
          },
          "autotypenumbers": "strict",
          "coloraxis": {
           "colorbar": {
            "outlinewidth": 0,
            "ticks": ""
           }
          },
          "colorscale": {
           "diverging": [
            [
             0,
             "#8e0152"
            ],
            [
             0.1,
             "#c51b7d"
            ],
            [
             0.2,
             "#de77ae"
            ],
            [
             0.3,
             "#f1b6da"
            ],
            [
             0.4,
             "#fde0ef"
            ],
            [
             0.5,
             "#f7f7f7"
            ],
            [
             0.6,
             "#e6f5d0"
            ],
            [
             0.7,
             "#b8e186"
            ],
            [
             0.8,
             "#7fbc41"
            ],
            [
             0.9,
             "#4d9221"
            ],
            [
             1,
             "#276419"
            ]
           ],
           "sequential": [
            [
             0,
             "#0d0887"
            ],
            [
             0.1111111111111111,
             "#46039f"
            ],
            [
             0.2222222222222222,
             "#7201a8"
            ],
            [
             0.3333333333333333,
             "#9c179e"
            ],
            [
             0.4444444444444444,
             "#bd3786"
            ],
            [
             0.5555555555555556,
             "#d8576b"
            ],
            [
             0.6666666666666666,
             "#ed7953"
            ],
            [
             0.7777777777777778,
             "#fb9f3a"
            ],
            [
             0.8888888888888888,
             "#fdca26"
            ],
            [
             1,
             "#f0f921"
            ]
           ],
           "sequentialminus": [
            [
             0,
             "#0d0887"
            ],
            [
             0.1111111111111111,
             "#46039f"
            ],
            [
             0.2222222222222222,
             "#7201a8"
            ],
            [
             0.3333333333333333,
             "#9c179e"
            ],
            [
             0.4444444444444444,
             "#bd3786"
            ],
            [
             0.5555555555555556,
             "#d8576b"
            ],
            [
             0.6666666666666666,
             "#ed7953"
            ],
            [
             0.7777777777777778,
             "#fb9f3a"
            ],
            [
             0.8888888888888888,
             "#fdca26"
            ],
            [
             1,
             "#f0f921"
            ]
           ]
          },
          "colorway": [
           "#636efa",
           "#EF553B",
           "#00cc96",
           "#ab63fa",
           "#FFA15A",
           "#19d3f3",
           "#FF6692",
           "#B6E880",
           "#FF97FF",
           "#FECB52"
          ],
          "font": {
           "color": "#2a3f5f"
          },
          "geo": {
           "bgcolor": "white",
           "lakecolor": "white",
           "landcolor": "#E5ECF6",
           "showlakes": true,
           "showland": true,
           "subunitcolor": "white"
          },
          "hoverlabel": {
           "align": "left"
          },
          "hovermode": "closest",
          "mapbox": {
           "style": "light"
          },
          "paper_bgcolor": "white",
          "plot_bgcolor": "#E5ECF6",
          "polar": {
           "angularaxis": {
            "gridcolor": "white",
            "linecolor": "white",
            "ticks": ""
           },
           "bgcolor": "#E5ECF6",
           "radialaxis": {
            "gridcolor": "white",
            "linecolor": "white",
            "ticks": ""
           }
          },
          "scene": {
           "xaxis": {
            "backgroundcolor": "#E5ECF6",
            "gridcolor": "white",
            "gridwidth": 2,
            "linecolor": "white",
            "showbackground": true,
            "ticks": "",
            "zerolinecolor": "white"
           },
           "yaxis": {
            "backgroundcolor": "#E5ECF6",
            "gridcolor": "white",
            "gridwidth": 2,
            "linecolor": "white",
            "showbackground": true,
            "ticks": "",
            "zerolinecolor": "white"
           },
           "zaxis": {
            "backgroundcolor": "#E5ECF6",
            "gridcolor": "white",
            "gridwidth": 2,
            "linecolor": "white",
            "showbackground": true,
            "ticks": "",
            "zerolinecolor": "white"
           }
          },
          "shapedefaults": {
           "line": {
            "color": "#2a3f5f"
           }
          },
          "ternary": {
           "aaxis": {
            "gridcolor": "white",
            "linecolor": "white",
            "ticks": ""
           },
           "baxis": {
            "gridcolor": "white",
            "linecolor": "white",
            "ticks": ""
           },
           "bgcolor": "#E5ECF6",
           "caxis": {
            "gridcolor": "white",
            "linecolor": "white",
            "ticks": ""
           }
          },
          "title": {
           "x": 0.05
          },
          "xaxis": {
           "automargin": true,
           "gridcolor": "white",
           "linecolor": "white",
           "ticks": "",
           "title": {
            "standoff": 15
           },
           "zerolinecolor": "white",
           "zerolinewidth": 2
          },
          "yaxis": {
           "automargin": true,
           "gridcolor": "white",
           "linecolor": "white",
           "ticks": "",
           "title": {
            "standoff": 15
           },
           "zerolinecolor": "white",
           "zerolinewidth": 2
          }
         }
        },
        "title": {
         "text": "10 Highest Selling Domains"
        },
        "xaxis": {
         "anchor": "y",
         "domain": [
          0,
          1
         ],
         "title": {
          "text": "name"
         }
        },
        "yaxis": {
         "anchor": "x",
         "domain": [
          0,
          1
         ],
         "title": {
          "text": "price_usd"
         }
        }
       }
      }
     },
     "metadata": {},
     "output_type": "display_data"
    }
   ],
   "source": [
    "mint_to_sales_fig.update_layout(\n",
    "    plot_bgcolor='#fafafa',\n",
    "    paper_bgcolor='#fafafa',\n",
    "    title=\"Mints to Sales Metrics\"\n",
    ")\n",
    "\n",
    "listing_to_sales_fig.update_layout(\n",
    "    plot_bgcolor='#fafafa',\n",
    "    paper_bgcolor='#fafafa',\n",
    "    title=\"Listings to Sales Metrics\"\n",
    ")\n",
    "\n",
    "daily_box_mints_fig.update_layout(\n",
    "    plot_bgcolor='#fafafa',\n",
    "    paper_bgcolor='#fafafa',\n",
    "    title=\"Daily Mints\"\n",
    ")\n",
    "\n",
    "daily_box_sales_fig.update_layout(\n",
    "    plot_bgcolor='#fafafa',\n",
    "    paper_bgcolor='#fafafa',\n",
    "    title=\"Daily Sales\"\n",
    ")\n",
    "\n",
    "daily_vol_fig.update_layout(\n",
    "    plot_bgcolor='#fafafa',\n",
    "    paper_bgcolor='#fafafa',\n",
    "    title=\"Daily Volume\"\n",
    ")\n",
    "\n",
    "daily_sales_fig.update_layout(\n",
    "    plot_bgcolor='#fafafa',\n",
    "    paper_bgcolor='#fafafa',\n",
    "    title=\"Daily Sales Metrics\"\n",
    ")\n",
    "\n",
    "daily_mint_metrics_fig.update_layout(\n",
    "    plot_bgcolor='#fafafa',\n",
    "    paper_bgcolor='#fafafa',\n",
    "    title=\"Daily Mints Metrics\"\n",
    ")\n",
    "\n",
    "listings_growth_rate_fig.update_layout(\n",
    "    plot_bgcolor='#fafafa',\n",
    "    paper_bgcolor='#fafafa',\n",
    "    title=\"Listings Growth Rate\"\n",
    ")\n",
    "\n",
    "highest_selling_domains_fig.update_layout(\n",
    "    plot_bgcolor='#fafafa',\n",
    "    paper_bgcolor='#fafafa',\n",
    ")\n",
    "\n"
   ]
  },
  {
   "cell_type": "markdown",
   "metadata": {},
   "source": [
    "Average Time to Sell a .box Domain: 19 days 11:19:25.506097561\n",
    "\n",
    "Average Listing Price to Sale Price Change -14.673687659116787\n",
    "\n",
    "Cumulative Listings to Sales Ratio: 25:1\n",
    "\n",
    "Cumulative Mints to Sales Ratio: 171:1\n",
    "\n",
    "Monthly Listings Growth Rate: -70.2247191011236"
   ]
  },
  {
   "cell_type": "code",
   "execution_count": 189,
   "metadata": {},
   "outputs": [
    {
     "data": {
      "text/plain": [
       "NaT"
      ]
     },
     "execution_count": 189,
     "metadata": {},
     "output_type": "execute_result"
    }
   ],
   "source": [
    "avg_time_to_sell"
   ]
  },
  {
   "cell_type": "code",
   "execution_count": 207,
   "metadata": {},
   "outputs": [],
   "source": [
    "listing_price_to_sale_avg_pct_change = 0 if pd.isna(listing_price_to_sale_avg_pct_change) else listing_price_to_sale_avg_pct_change\n",
    "# avg_time_to_sell = pd.to_Date0 if pd.isna(avg_time_to_sell) else avg_time_to_sell"
   ]
  },
  {
   "cell_type": "code",
   "execution_count": 208,
   "metadata": {},
   "outputs": [
    {
     "ename": "AttributeError",
     "evalue": "'int' object has no attribute 'days'",
     "output_type": "error",
     "traceback": [
      "\u001b[1;31m---------------------------------------------------------------------------\u001b[0m",
      "\u001b[1;31mAttributeError\u001b[0m                            Traceback (most recent call last)",
      "Cell \u001b[1;32mIn[208], line 3\u001b[0m\n\u001b[0;32m      1\u001b[0m key_metrics \u001b[38;5;241m=\u001b[39m [\n\u001b[0;32m      2\u001b[0m     {\u001b[38;5;124m\"\u001b[39m\u001b[38;5;124mlabel\u001b[39m\u001b[38;5;124m\"\u001b[39m: \u001b[38;5;124m\"\u001b[39m\u001b[38;5;124mAverage Listing Price to Sale Price Change\u001b[39m\u001b[38;5;124m\"\u001b[39m, \u001b[38;5;124m\"\u001b[39m\u001b[38;5;124mvalue\u001b[39m\u001b[38;5;124m\"\u001b[39m: \u001b[38;5;124mf\u001b[39m\u001b[38;5;124m\"\u001b[39m\u001b[38;5;132;01m{\u001b[39;00m\u001b[38;5;28mround\u001b[39m(\u001b[38;5;28mint\u001b[39m(listing_price_to_sale_avg_pct_change),\u001b[38;5;241m0\u001b[39m)\u001b[38;5;132;01m}\u001b[39;00m\u001b[38;5;124m\"\u001b[39m, \u001b[38;5;124m\"\u001b[39m\u001b[38;5;124munit\u001b[39m\u001b[38;5;124m\"\u001b[39m: \u001b[38;5;124m\"\u001b[39m\u001b[38;5;124m%\u001b[39m\u001b[38;5;124m\"\u001b[39m},\n\u001b[1;32m----> 3\u001b[0m     {\u001b[38;5;124m\"\u001b[39m\u001b[38;5;124mlabel\u001b[39m\u001b[38;5;124m\"\u001b[39m: \u001b[38;5;124m\"\u001b[39m\u001b[38;5;124mAverage Days on Market\u001b[39m\u001b[38;5;124m\"\u001b[39m, \u001b[38;5;124m\"\u001b[39m\u001b[38;5;124mvalue\u001b[39m\u001b[38;5;124m\"\u001b[39m: \u001b[38;5;28mstr\u001b[39m(\u001b[43mavg_time_to_sell\u001b[49m\u001b[38;5;241;43m.\u001b[39;49m\u001b[43mdays\u001b[49m), \u001b[38;5;124m\"\u001b[39m\u001b[38;5;124munit\u001b[39m\u001b[38;5;124m\"\u001b[39m: \u001b[38;5;124m\"\u001b[39m\u001b[38;5;124m days\u001b[39m\u001b[38;5;124m\"\u001b[39m},\n\u001b[0;32m      4\u001b[0m     {\u001b[38;5;124m\"\u001b[39m\u001b[38;5;124mlabel\u001b[39m\u001b[38;5;124m\"\u001b[39m: \u001b[38;5;124m\"\u001b[39m\u001b[38;5;124mCumulative Listings to Sales Ratio\u001b[39m\u001b[38;5;124m\"\u001b[39m, \u001b[38;5;124m\"\u001b[39m\u001b[38;5;124mvalue\u001b[39m\u001b[38;5;124m\"\u001b[39m: \u001b[38;5;124mf\u001b[39m\u001b[38;5;124m\"\u001b[39m\u001b[38;5;132;01m{\u001b[39;00m\u001b[38;5;28mround\u001b[39m(\u001b[38;5;28mint\u001b[39m(cumulative_listings_to_sales),\u001b[38;5;250m \u001b[39m\u001b[38;5;241m0\u001b[39m)\u001b[38;5;132;01m}\u001b[39;00m\u001b[38;5;124m\"\u001b[39m, \u001b[38;5;124m\"\u001b[39m\u001b[38;5;124munit\u001b[39m\u001b[38;5;124m\"\u001b[39m: \u001b[38;5;124m\"\u001b[39m\u001b[38;5;124m:1\u001b[39m\u001b[38;5;124m\"\u001b[39m},\n\u001b[0;32m      5\u001b[0m     {\u001b[38;5;124m\"\u001b[39m\u001b[38;5;124mlabel\u001b[39m\u001b[38;5;124m\"\u001b[39m: \u001b[38;5;124m\"\u001b[39m\u001b[38;5;124mCumulative Mints to Sales Ratio\u001b[39m\u001b[38;5;124m\"\u001b[39m, \u001b[38;5;124m\"\u001b[39m\u001b[38;5;124mvalue\u001b[39m\u001b[38;5;124m\"\u001b[39m: \u001b[38;5;124mf\u001b[39m\u001b[38;5;124m\"\u001b[39m\u001b[38;5;132;01m{\u001b[39;00m\u001b[38;5;28mround\u001b[39m(\u001b[38;5;28mint\u001b[39m(cumulative_mint_to_sales),\u001b[38;5;241m0\u001b[39m)\u001b[38;5;132;01m}\u001b[39;00m\u001b[38;5;124m\"\u001b[39m, \u001b[38;5;124m\"\u001b[39m\u001b[38;5;124munit\u001b[39m\u001b[38;5;124m\"\u001b[39m: \u001b[38;5;124m\"\u001b[39m\u001b[38;5;124m:1\u001b[39m\u001b[38;5;124m\"\u001b[39m},\n\u001b[0;32m      6\u001b[0m     {\u001b[38;5;124m\"\u001b[39m\u001b[38;5;124mlabel\u001b[39m\u001b[38;5;124m\"\u001b[39m: \u001b[38;5;124m\"\u001b[39m\u001b[38;5;124mMonthly Listings Growth Rate\u001b[39m\u001b[38;5;124m\"\u001b[39m, \u001b[38;5;124m\"\u001b[39m\u001b[38;5;124mvalue\u001b[39m\u001b[38;5;124m\"\u001b[39m: \u001b[38;5;124mf\u001b[39m\u001b[38;5;124m\"\u001b[39m\u001b[38;5;132;01m{\u001b[39;00mlistings_growth_rate\u001b[38;5;241m.\u001b[39miloc[\u001b[38;5;241m-\u001b[39m\u001b[38;5;241m1\u001b[39m]\u001b[38;5;132;01m:\u001b[39;00m\u001b[38;5;124m.2f\u001b[39m\u001b[38;5;132;01m}\u001b[39;00m\u001b[38;5;124m\"\u001b[39m, \u001b[38;5;124m\"\u001b[39m\u001b[38;5;124munit\u001b[39m\u001b[38;5;124m\"\u001b[39m: \u001b[38;5;124m\"\u001b[39m\u001b[38;5;124m%\u001b[39m\u001b[38;5;124m\"\u001b[39m}\n\u001b[0;32m      7\u001b[0m ]\n",
      "\u001b[1;31mAttributeError\u001b[0m: 'int' object has no attribute 'days'"
     ]
    }
   ],
   "source": [
    "key_metrics = [\n",
    "    {\"label\": \"Average Listing Price to Sale Price Change\", \"value\": f\"{round(int(listing_price_to_sale_avg_pct_change),0)}\", \"unit\": \"%\"},\n",
    "    {\"label\": \"Average Days on Market\", \"value\": str(avg_time_to_sell.days), \"unit\": \" days\"},\n",
    "    {\"label\": \"Cumulative Listings to Sales Ratio\", \"value\": f\"{round(int(cumulative_listings_to_sales), 0)}\", \"unit\": \":1\"},\n",
    "    {\"label\": \"Cumulative Mints to Sales Ratio\", \"value\": f\"{round(int(cumulative_mint_to_sales),0)}\", \"unit\": \":1\"},\n",
    "    {\"label\": \"Monthly Listings Growth Rate\", \"value\": f\"{listings_growth_rate.iloc[-1]:.2f}\", \"unit\": \"%\"}\n",
    "]\n"
   ]
  },
  {
   "cell_type": "code",
   "execution_count": 198,
   "metadata": {},
   "outputs": [
    {
     "data": {
      "text/plain": [
       "name           vm.box\n",
       "price_usd   31,481.47\n",
       "price_eth       10.00\n",
       "Name: 2024-04-27 16:00:00+00:00, dtype: object"
      ]
     },
     "execution_count": 198,
     "metadata": {},
     "output_type": "execute_result"
    }
   ],
   "source": [
    "max_eth_sale_row"
   ]
  },
  {
   "cell_type": "code",
   "execution_count": 199,
   "metadata": {},
   "outputs": [],
   "source": [
    "max_eth_sale_details = {\n",
    "    \"name\": max_eth_sale_row[\"name\"],\n",
    "    \"price_usd\": max_eth_sale_row[\"price_usd\"],\n",
    "    \"price_eth\": max_eth_sale_row[\"price_eth\"],\n",
    "    \"date\": max_eth_sale_row.name  # This is the index (timestamp)\n",
    "}\n",
    "\n",
    "highest_sold_domain_str = f\"\"\"\n",
    "Name: {max_eth_sale_details['name']}\n",
    "Price (USD): ${max_eth_sale_details['price_usd']:.2f}\n",
    "Price (ETH): {max_eth_sale_details['price_eth']}\n",
    "Date: {max_eth_sale_details['date'].strftime('%Y-%m-%d')}\n",
    "\"\"\""
   ]
  },
  {
   "cell_type": "code",
   "execution_count": 200,
   "metadata": {},
   "outputs": [
    {
     "data": {
      "text/plain": [
       "'\\nName: vm.box\\nPrice (USD): $31481.47\\nPrice (ETH): 10.0\\nDate: 2024-04-27\\n'"
      ]
     },
     "execution_count": 200,
     "metadata": {},
     "output_type": "execute_result"
    }
   ],
   "source": [
    "highest_sold_domain_str"
   ]
  },
  {
   "cell_type": "code",
   "execution_count": 201,
   "metadata": {},
   "outputs": [],
   "source": [
    "sales_metrics = [\n",
    "    {\"label\": \"Total Sales Volume \", \"value\":f\"${cumulative_box_vol.iloc[-1]:,.2f}\", \"unit\": \"\"},\n",
    "    {\"label\": \"Highest Sold Domain\", \"value\": highest_sold_domain_str, \"unit\": \"\"},\n",
    "    {\"label\": \"Average Sales Price \", \"value\":f\"${avg_box_sale:,.2f}\", \"unit\": \"\"}\n",
    "    \n",
    "]"
   ]
  },
  {
   "cell_type": "code",
   "execution_count": 202,
   "metadata": {},
   "outputs": [],
   "source": [
    "listings_metrics = [\n",
    "\n",
    "    {\"label\":\"Total .box Listings on Opensea \", \"value\": str(total_box_listings), \"unit\": \"\"}\n",
    "]"
   ]
  },
  {
   "cell_type": "code",
   "execution_count": 203,
   "metadata": {},
   "outputs": [],
   "source": [
    "mints_metrics = [\n",
    "    {\"label\":\"Total .box Mints \", \"value\":str(total_box_mints), \"unit\": \"\"}\n",
    "]"
   ]
  },
  {
   "cell_type": "code",
   "execution_count": 204,
   "metadata": {},
   "outputs": [],
   "source": [
    "def generate_table(dataframe, max_rows=11):\n",
    "    return html.Table([\n",
    "        html.Thead(\n",
    "            html.Tr([html.Th(col) for col in dataframe.columns])\n",
    "        ),\n",
    "        html.Tbody([\n",
    "            html.Tr([\n",
    "                html.Td(dataframe.iloc[i][col]) for col in dataframe.columns\n",
    "            ]) for i in range(min(len(dataframe), max_rows))\n",
    "        ])\n",
    "    ])"
   ]
  },
  {
   "cell_type": "code",
   "execution_count": 205,
   "metadata": {},
   "outputs": [
    {
     "data": {
      "text/html": [
       "<div>\n",
       "<style scoped>\n",
       "    .dataframe tbody tr th:only-of-type {\n",
       "        vertical-align: middle;\n",
       "    }\n",
       "\n",
       "    .dataframe tbody tr th {\n",
       "        vertical-align: top;\n",
       "    }\n",
       "\n",
       "    .dataframe thead th {\n",
       "        text-align: right;\n",
       "    }\n",
       "</style>\n",
       "<table border=\"1\" class=\"dataframe\">\n",
       "  <thead>\n",
       "    <tr style=\"text-align: right;\">\n",
       "      <th></th>\n",
       "      <th>start_time</th>\n",
       "      <th>price_in_eth</th>\n",
       "      <th>end_time</th>\n",
       "      <th>name</th>\n",
       "      <th>price_in_usd_start_time</th>\n",
       "    </tr>\n",
       "  </thead>\n",
       "  <tbody>\n",
       "    <tr>\n",
       "      <th>0</th>\n",
       "      <td>2024-07-24 12:00:00</td>\n",
       "      <td>1.50</td>\n",
       "      <td>2024-08-24 12:00:00</td>\n",
       "      <td>price.box</td>\n",
       "      <td>5,199.94</td>\n",
       "    </tr>\n",
       "    <tr>\n",
       "      <th>1</th>\n",
       "      <td>2024-07-24 06:00:00</td>\n",
       "      <td>0.00</td>\n",
       "      <td>2024-08-24 06:00:00</td>\n",
       "      <td>cryptobet.chain.box</td>\n",
       "      <td>3.09</td>\n",
       "    </tr>\n",
       "    <tr>\n",
       "      <th>2</th>\n",
       "      <td>2024-07-24 00:00:00</td>\n",
       "      <td>0.01</td>\n",
       "      <td>2024-08-24 00:00:00</td>\n",
       "      <td>bluestate.chain.box</td>\n",
       "      <td>49.98</td>\n",
       "    </tr>\n",
       "    <tr>\n",
       "      <th>3</th>\n",
       "      <td>2024-07-23 23:00:00</td>\n",
       "      <td>0.00</td>\n",
       "      <td>2024-08-23 23:00:00</td>\n",
       "      <td>62c9ec.chain.box</td>\n",
       "      <td>5.00</td>\n",
       "    </tr>\n",
       "    <tr>\n",
       "      <th>4</th>\n",
       "      <td>2024-07-23 22:00:00</td>\n",
       "      <td>0.20</td>\n",
       "      <td>2024-10-21 22:00:00</td>\n",
       "      <td>dora.box</td>\n",
       "      <td>714.38</td>\n",
       "    </tr>\n",
       "    <tr>\n",
       "      <th>5</th>\n",
       "      <td>2024-07-23 22:00:00</td>\n",
       "      <td>0.12</td>\n",
       "      <td>2024-10-21 22:00:00</td>\n",
       "      <td>pleasure.box</td>\n",
       "      <td>428.63</td>\n",
       "    </tr>\n",
       "    <tr>\n",
       "      <th>6</th>\n",
       "      <td>2024-07-23 18:00:00</td>\n",
       "      <td>0.00</td>\n",
       "      <td>2024-08-23 18:00:00</td>\n",
       "      <td>sechestruecvestrr.chain.box</td>\n",
       "      <td>3.04</td>\n",
       "    </tr>\n",
       "    <tr>\n",
       "      <th>7</th>\n",
       "      <td>2024-07-23 15:00:00</td>\n",
       "      <td>0.05</td>\n",
       "      <td>2024-10-23 15:00:00</td>\n",
       "      <td>franchise.super.box</td>\n",
       "      <td>177.99</td>\n",
       "    </tr>\n",
       "    <tr>\n",
       "      <th>8</th>\n",
       "      <td>2024-07-23 15:00:00</td>\n",
       "      <td>0.05</td>\n",
       "      <td>2024-10-23 15:00:00</td>\n",
       "      <td>powers.super.box</td>\n",
       "      <td>177.99</td>\n",
       "    </tr>\n",
       "    <tr>\n",
       "      <th>9</th>\n",
       "      <td>2024-07-23 15:00:00</td>\n",
       "      <td>0.05</td>\n",
       "      <td>2024-10-23 15:00:00</td>\n",
       "      <td>swiss.chain.box</td>\n",
       "      <td>177.99</td>\n",
       "    </tr>\n",
       "  </tbody>\n",
       "</table>\n",
       "</div>"
      ],
      "text/plain": [
       "           start_time  price_in_eth             end_time  \\\n",
       "0 2024-07-24 12:00:00          1.50  2024-08-24 12:00:00   \n",
       "1 2024-07-24 06:00:00          0.00  2024-08-24 06:00:00   \n",
       "2 2024-07-24 00:00:00          0.01  2024-08-24 00:00:00   \n",
       "3 2024-07-23 23:00:00          0.00  2024-08-23 23:00:00   \n",
       "4 2024-07-23 22:00:00          0.20  2024-10-21 22:00:00   \n",
       "5 2024-07-23 22:00:00          0.12  2024-10-21 22:00:00   \n",
       "6 2024-07-23 18:00:00          0.00  2024-08-23 18:00:00   \n",
       "7 2024-07-23 15:00:00          0.05  2024-10-23 15:00:00   \n",
       "8 2024-07-23 15:00:00          0.05  2024-10-23 15:00:00   \n",
       "9 2024-07-23 15:00:00          0.05  2024-10-23 15:00:00   \n",
       "\n",
       "                          name  price_in_usd_start_time  \n",
       "0                    price.box                 5,199.94  \n",
       "1          cryptobet.chain.box                     3.09  \n",
       "2          bluestate.chain.box                    49.98  \n",
       "3             62c9ec.chain.box                     5.00  \n",
       "4                     dora.box                   714.38  \n",
       "5                 pleasure.box                   428.63  \n",
       "6  sechestruecvestrr.chain.box                     3.04  \n",
       "7          franchise.super.box                   177.99  \n",
       "8             powers.super.box                   177.99  \n",
       "9              swiss.chain.box                   177.99  "
      ]
     },
     "execution_count": 205,
     "metadata": {},
     "output_type": "execute_result"
    }
   ],
   "source": [
    "latest_box_listings"
   ]
  },
  {
   "cell_type": "markdown",
   "metadata": {},
   "source": [
    "external_stylesheets = [\n",
    "    'https://cdnjs.cloudflare.com/ajax/libs/normalize/8.0.1/normalize.min.css', \n",
    "    '/assets/styles.css'\n",
    "]\n",
    "\n",
    "app = Dash(__name__, external_stylesheets=external_stylesheets)\n",
    "\n",
    "tts_markdown = f\"\"\"\n",
    "Average Time to Sell a .box Domain: {avg_time_to_sell}\n",
    "\"\"\"\n",
    "\n",
    "listing_to_sale_mk = f\"\"\"Average Listing Price to Sale Price Change {listing_price_to_sale_avg_pct_change} \"\"\"\n",
    "\n",
    "cumulative_lts_mk = f\"\"\"Cumulative Listings to Sales Ratio: {round(int(cumulative_listings_to_sales), 0)}:1\"\"\"\n",
    "cumulative_mts_mk = f\"\"\"Cumulative Mints to Sales Ratio: {round(int(cumulative_mint_to_sales),0)}:1\"\"\"\n",
    "cum_sale_latest_mk = f\"\"\"Total Sales Volume: {cumulative_box_vol.iloc[-1]} \"\"\"\n",
    "max_sale_mk = f\"\"\"Highest Sold Domain: {max_eth_sale_row} \"\"\"\n",
    "total_mints_mk = f\"\"\"Total .box Mints: {total_box_mints} \"\"\"\n",
    "total_listings_mk = f\"\"\"Total .box Listings on Opensea {total_box_listings} \"\"\"\n",
    "latest_listings_growth_mk = f\"\"\"Monthly Listings Growth Rate: {listings_growth_rate.iloc[-1]} \"\"\"\n",
    "avg_sold_mk = f\"\"\"Average Sales Price: {avg_box_sale} \"\"\"\n",
    "\n",
    "\n",
    "\n",
    "\n",
    "\n",
    "# Define the layout of the app\n",
    "app.layout = html.Div(style={'backgroundColor': 'var(--color-background)'}, children=[\n",
    "    html.H1(children='.box Domains Dashboard', style={'textAlign': 'center', 'color': 'var(--wcm-color-fg-1)'}),\n",
    "    html.Br(),\n",
    "    html.H2('.box Domain Valuator', style={'color': 'var(--wcm-color-fg-2)'}),\n",
    "    html.Div([\n",
    "        \"Input Domain Name: \",\n",
    "        dcc.Input(id='valuator-input', value='example.box', type='text'),\n",
    "        html.Button('Submit', id='submit-button', n_clicks=0)\n",
    "    ], style={'color': 'var(--wcm-color-fg-1)'}),\n",
    "    html.Br(),\n",
    "    html.Div(id='valuator-output', style={'color': 'var(--wcm-color-fg-1)'}),\n",
    "    html.Br(),\n",
    "    html.H2('Key Metrics'),\n",
    "    html.Div(className='metrics-container', style={\n",
    "        'display': 'grid',\n",
    "        'gridTemplateColumns': 'repeat(3, 1fr)',  # Adjust based on the number of metrics\n",
    "        'gap': '20px',\n",
    "        'padding': '20px',\n",
    "        'backgroundColor': 'var(--wcm-color-bg-1)',\n",
    "        'borderRadius': 'var(--wcm-container-border-radius)',\n",
    "        'boxShadow': '0 4px 8px var(--wcm-color-overlay)'\n",
    "    }, children=[\n",
    "        html.Div(className='metric', style={\n",
    "            'padding': '15px',\n",
    "            'backgroundColor': 'var(--wcm-color-bg-2)',\n",
    "            'borderRadius': 'var(--wcm-button-border-radius)',\n",
    "            'textAlign': 'center',\n",
    "            'color': 'var(--wcm-color-fg-1)'\n",
    "        }, children=[\n",
    "            html.Span(metric[\"label\"], style={'color': 'var(--wcm-color-fg-2)'}),\n",
    "            html.Span(f\"{metric['value']}{metric['unit']}\", style={'color': 'var(--wcm-accent-color)'})\n",
    "        ]) for metric in key_metrics\n",
    "    ]),\n",
    "    dcc.Graph(id='mint to sales', figure=mint_to_sales_fig),\n",
    "    dcc.Graph(id='listings to sales', figure=listing_to_sales_fig),\n",
    "    \n",
    "    html.H2('Sales'),\n",
    "    html.Div(className='metrics-container', style={\n",
    "        'display': 'grid',\n",
    "        'gridTemplateColumns': 'repeat(3, 1fr)',  # Adjust based on the number of metrics\n",
    "        'gap': '20px',\n",
    "        'padding': '20px',\n",
    "        'backgroundColor': 'var(--wcm-color-bg-1)',\n",
    "        'borderRadius': 'var(--wcm-container-border-radius)',\n",
    "        'boxShadow': '0 4px 8px var(--wcm-color-overlay)'\n",
    "    }, children=[\n",
    "        html.Div(className='metric', style={\n",
    "            'padding': '15px',\n",
    "            'backgroundColor': 'var(--wcm-color-bg-2)',\n",
    "            'borderRadius': 'var(--wcm-button-border-radius)',\n",
    "            'textAlign': 'center',\n",
    "            'color': 'var(--wcm-color-fg-1)'\n",
    "        }, children=[\n",
    "            html.Span(metric[\"label\"], style={'color': 'var(--wcm-color-fg-2)'}),\n",
    "            html.Span(f\"{metric['value']}{metric['unit']}\", style={'color': 'var(--wcm-accent-color)'})\n",
    "        ]) for metric in sales_metrics\n",
    "    ]),\n",
    "    dcc.Graph(id='daily_sales_count', figure=daily_sales_fig),\n",
    "    dcc.Graph(id='daily_sales_vol', figure=daily_vol_fig),\n",
    "    dcc.Graph(id='highest selling', figure=highest_selling_domains_fig),\n",
    "    html.Br(),\n",
    "    html.H3('Monthly Sales Metrics'),\n",
    "    # generate_table(monthly_box_sales_metrics),\n",
    "    dash_table.DataTable(\n",
    "        id='monthly_sales_metrics',\n",
    "        columns=[{\"name\": i, \"id\": i} for i in monthly_box_sales_metrics.columns],\n",
    "        data=monthly_box_sales_metrics.to_dict('records'),\n",
    "        style_table={'overflowX': 'auto'},\n",
    "        style_cell={\n",
    "            'height': 'auto',\n",
    "            'minWidth': '150px', 'width': '150px', 'maxWidth': '150px',\n",
    "            'whiteSpace': 'normal',\n",
    "            'font-family': 'var(--font-primary, \"Inter\")',\n",
    "            'backgroundColor': 'var(--color-background)',\n",
    "            'color': 'var(--wcm-color-fg-2)'\n",
    "        }\n",
    "    ),\n",
    "\n",
    "    html.H3('10 Latest Sales'),\n",
    "    dash_table.DataTable(\n",
    "        id='latest_sales',\n",
    "        columns=[{\"name\": i, \"id\": i} for i in latest_box_domains_sales.columns],\n",
    "        data=latest_box_domains_sales.to_dict('records'),\n",
    "        style_table={'overflowX': 'auto'},\n",
    "        style_cell={\n",
    "            'height': 'auto',\n",
    "            'minWidth': '150px', 'width': '150px', 'maxWidth': '150px',\n",
    "            'whiteSpace': 'normal',\n",
    "            'font-family': 'var(--font-primary, \"Inter\")',\n",
    "            'backgroundColor': 'var(--color-background)',\n",
    "            'color': 'var(--wcm-color-fg-2)'\n",
    "        }\n",
    "    ),\n",
    "    html.Br(),\n",
    "    html.H3('10 Highest Selling Domains'),\n",
    "    dash_table.DataTable(\n",
    "        id='highest_sales',\n",
    "        columns=[{\"name\": i, \"id\": i} for i in highest_selling_domains.columns],\n",
    "        data=highest_selling_domains.to_dict('records'),\n",
    "        style_table={'overflowX': 'auto'},\n",
    "        style_cell={\n",
    "            'height': 'auto',\n",
    "            'minWidth': '150px', 'width': '150px', 'maxWidth': '150px',\n",
    "            'whiteSpace': 'normal',\n",
    "            'font-family': 'var(--font-primary, \"Inter\")',\n",
    "            'backgroundColor': 'var(--color-background)',\n",
    "            'color': 'var(--wcm-color-fg-2)'\n",
    "        }\n",
    "    ),\n",
    "    \n",
    "    html.Br(),\n",
    "    html.H2('Listings'),\n",
    "    html.Div(className='metrics-container', style={\n",
    "        'display': 'grid',\n",
    "        'gridTemplateColumns': 'repeat(1, 1fr)',  # Adjust based on the number of metrics\n",
    "        'gap': '20px',\n",
    "        'padding': '20px',\n",
    "        'backgroundColor': 'var(--wcm-color-bg-1)',\n",
    "        'borderRadius': 'var(--wcm-container-border-radius)',\n",
    "        'boxShadow': '0 4px 8px var(--wcm-color-overlay)'\n",
    "    }, children=[\n",
    "        html.Div(className='metric', style={\n",
    "            'padding': '15px',\n",
    "            'backgroundColor': 'var(--wcm-color-bg-2)',\n",
    "            'borderRadius': 'var(--wcm-button-border-radius)',\n",
    "            'textAlign': 'center',\n",
    "            'color': 'var(--wcm-color-fg-1)'\n",
    "        }, children=[\n",
    "            html.Span(metric[\"label\"], style={'color': 'var(--wcm-color-fg-2)'}),\n",
    "            html.Span(f\"{metric['value']}{metric['unit']}\", style={'color': 'var(--wcm-accent-color)'})\n",
    "        ]) for metric in listings_metrics\n",
    "    ]),\n",
    "    dcc.Graph(id='monthly listings growth', figure=listings_growth_rate_fig),\n",
    "    html.H3('Historical Listings to Sales'),\n",
    "    dash_table.DataTable(\n",
    "        id='listings_to_sales',\n",
    "        columns=[{\"name\": i, \"id\": i} for i in historical_listing_to_sales.columns],\n",
    "        data=historical_listing_to_sales.to_dict('records'),\n",
    "        style_table={'overflowX': 'auto'},\n",
    "        style_cell={\n",
    "            'height': 'auto',\n",
    "            'minWidth': '150px', 'width': '150px', 'maxWidth': '150px',\n",
    "            'whiteSpace': 'normal',\n",
    "            'font-family': 'var(--font-primary, \"Inter\")',\n",
    "            'backgroundColor': 'var(--color-background)',\n",
    "            'color': 'var(--wcm-color-fg-2)'\n",
    "        }\n",
    "    ),\n",
    "    html.H3('10 Latest Listings'),\n",
    "    dash_table.DataTable(\n",
    "        id='latest_listings',\n",
    "        columns=[{\"name\": i, \"id\": i} for i in latest_box_listings.columns],\n",
    "        data=latest_box_listings.to_dict('records'),\n",
    "        style_table={'overflowX': 'auto'},\n",
    "        style_cell={\n",
    "            'height': 'auto',\n",
    "            'minWidth': '150px', 'width': '150px', 'maxWidth': '150px',\n",
    "            'whiteSpace': 'normal',\n",
    "            'font-family': 'var(--font-primary, \"Inter\")',\n",
    "            'backgroundColor': 'var(--color-background)',\n",
    "            'color': 'var(--wcm-color-fg-2)'\n",
    "        }\n",
    "    ),\n",
    "\n",
    "\n",
    "\n",
    "    html.H2('Mints'),\n",
    "    html.Div(className='metrics-container', style={\n",
    "        'display': 'grid',\n",
    "        'gridTemplateColumns': 'repeat(1, 1fr)',  # Adjust based on the number of metrics\n",
    "        'gap': '20px',\n",
    "        'padding': '20px',\n",
    "        'backgroundColor': 'var(--wcm-color-bg-1)',\n",
    "        'borderRadius': 'var(--wcm-container-border-radius)',\n",
    "        'boxShadow': '0 4px 8px var(--wcm-color-overlay)'\n",
    "    }, children=[\n",
    "        html.Div(className='metric', style={\n",
    "            'padding': '15px',\n",
    "            'backgroundColor': 'var(--wcm-color-bg-2)',\n",
    "            'borderRadius': 'var(--wcm-button-border-radius)',\n",
    "            'textAlign': 'center',\n",
    "            'color': 'var(--wcm-color-fg-1)'\n",
    "        }, children=[\n",
    "            html.Span(metric[\"label\"], style={'color': 'var(--wcm-color-fg-2)'}),\n",
    "            html.Span(f\"{metric['value']}{metric['unit']}\", style={'color': 'var(--wcm-accent-color)'})\n",
    "        ]) for metric in mints_metrics\n",
    "    ]),\n",
    "    dcc.Graph(id='daily_mints', figure=daily_mint_metrics_fig),\n",
    "    html.Br(),\n",
    "    html.H3('10 Latest Mints'),\n",
    "    dash_table.DataTable(\n",
    "        id='latest_mints',\n",
    "        columns=[{\"name\": i, \"id\": i} for i in latest_box_domains_mints.columns],\n",
    "        data=latest_box_domains_mints.to_dict('records'),\n",
    "        style_table={'overflowX': 'auto'},\n",
    "        style_cell={\n",
    "            'height': 'auto',\n",
    "            'minWidth': '150px', 'width': '150px', 'maxWidth': '150px',\n",
    "            'whiteSpace': 'normal',\n",
    "            'font-family': 'var(--font-primary, \"Inter\")',\n",
    "            'backgroundColor': 'var(--color-background)',\n",
    "            'color': 'var(--wcm-color-fg-2)'\n",
    "        }\n",
    "    ),\n",
    "    \n",
    "    \n",
    "])\n",
    "\n",
    "# Define the callback\n",
    "@callback(\n",
    "    Output(component_id='valuator-output', component_property='children'),\n",
    "    Input(component_id='submit-button', component_property='n_clicks'),\n",
    "    State(component_id='valuator-input', component_property='value')\n",
    ")\n",
    "def update_output_div(n_clicks, domain):\n",
    "    if n_clicks == 0:\n",
    "        return \"Please enter a domain name and click Submit.\"\n",
    "    \n",
    "    if not domain:\n",
    "        return \"Please enter a domain name.\"\n",
    "    \n",
    "    domain_df = pd.DataFrame({'domain': [domain]})\n",
    "    domain_processed = model_prep(domain_df)\n",
    "    domain_value = value_domain(domain_processed)\n",
    "    return f'Estimated Value: ${round(domain_value,2):,.2f}'\n",
    "\n",
    "# Run the app\n",
    "if __name__ == '__main__':\n",
    "    app.run_server(debug=True)"
   ]
  },
  {
   "cell_type": "code",
   "execution_count": 206,
   "metadata": {},
   "outputs": [
    {
     "data": {
      "text/html": [
       "\n",
       "        <iframe\n",
       "            width=\"100%\"\n",
       "            height=\"650\"\n",
       "            src=\"http://127.0.0.1:8050/\"\n",
       "            frameborder=\"0\"\n",
       "            allowfullscreen\n",
       "            \n",
       "        ></iframe>\n",
       "        "
      ],
      "text/plain": [
       "<IPython.lib.display.IFrame at 0x24ca94495d0>"
      ]
     },
     "metadata": {},
     "output_type": "display_data"
    }
   ],
   "source": [
    "external_stylesheets = [\n",
    "    'https://cdnjs.cloudflare.com/ajax/libs/normalize/8.0.1/normalize.min.css', \n",
    "    '/assets/styles.css'\n",
    "]\n",
    "\n",
    "app = Dash(__name__, external_stylesheets=external_stylesheets)\n",
    "\n",
    "app.layout = html.Div(style={'backgroundColor': 'var(--color-background)'}, children=[\n",
    "    html.H1(\n",
    "        children='.box Domains Dashboard',\n",
    "        style={\n",
    "            'textAlign': 'center',\n",
    "            'color': 'var(--wcm-color-fg-1)',\n",
    "            'fontSize': '36px',\n",
    "            'fontWeight': 'bold',\n",
    "            'marginBottom': '20px'\n",
    "        }\n",
    "    ),\n",
    "    html.Br(),\n",
    "    html.H2('.box Domain Valuator', style={\n",
    "        'color': 'var(--wcm-color-fg-2)', \n",
    "        'textAlign': 'center', \n",
    "        'marginBottom': '20px'\n",
    "    }),\n",
    "    html.Div([\n",
    "        html.Label(\"Input Domain Name:\", style={\n",
    "            'color': 'var(--wcm-color-fg-1)', \n",
    "            'marginRight': '10px',\n",
    "            'fontWeight': 'bold'\n",
    "        }),\n",
    "        dcc.Input(\n",
    "            id='valuator-input',\n",
    "            value='example',\n",
    "            type='text',\n",
    "            style={\n",
    "                'padding': '10px',\n",
    "                'borderRadius': 'var(--wcm-input-border-radius)',\n",
    "                'border': '1px solid var(--color-border)',\n",
    "                'marginRight': '10px'\n",
    "            },\n",
    "            pattern='[^.]*'  # Regex pattern to disallow '.' character\n",
    "        ),\n",
    "        html.Button('Submit', id='submit-button', n_clicks=0, style={\n",
    "            'padding': '10px 20px', \n",
    "            'borderRadius': 'var(--wcm-button-border-radius)', \n",
    "            'backgroundColor': 'var(--wcm-accent-color)', \n",
    "            'color': 'var(--wcm-accent-fill-color)',\n",
    "            'border': 'none',\n",
    "            'cursor': 'pointer'\n",
    "        })\n",
    "    ], style={\n",
    "        'display': 'flex', \n",
    "        'alignItems': 'center', \n",
    "        'justifyContent': 'center', \n",
    "        'marginBottom': '20px'\n",
    "    }),\n",
    "    html.Br(),\n",
    "    html.Div(id='valuator-output', style={\n",
    "        'color': 'var(--wcm-color-fg-1)', \n",
    "        'textAlign': 'center', \n",
    "        'marginTop': '20px'\n",
    "    }),\n",
    "    html.Br(),\n",
    "    html.H2('Key Metrics', style={'color': 'var(--wcm-color-fg-1)'}),\n",
    "    html.Div(className='metrics-container', children=[\n",
    "        html.Div(className='metric', children=[\n",
    "            html.Span(metric[\"label\"], className='label'),\n",
    "            html.Span(f\"{metric['value']}{metric['unit']}\", className='value')\n",
    "        ]) for metric in key_metrics\n",
    "    ]),\n",
    "    html.Br(),\n",
    "    dcc.Graph(id='mint to sales', figure=mint_to_sales_fig),\n",
    "    dcc.Graph(id='listings to sales', figure=listing_to_sales_fig),\n",
    "    \n",
    "    html.H2('Sales', style={'color': 'var(--wcm-color-fg-1)'}),\n",
    "    html.Div(className='metrics-container', children=[\n",
    "        html.Div(className='metric', children=[\n",
    "            html.Span(metric[\"label\"], className='label'),\n",
    "            html.Span(f\"{metric['value']}{metric['unit']}\", className='value')\n",
    "        ]) for metric in sales_metrics\n",
    "    ]),\n",
    "    html.Br(),\n",
    "    dcc.Graph(id='daily_sales_count', figure=daily_sales_fig),\n",
    "    dcc.Graph(id='daily_sales_vol', figure=daily_vol_fig),\n",
    "    dcc.Graph(id='highest selling', figure=highest_selling_domains_fig),\n",
    "    html.Br(),\n",
    "    html.H3('Monthly Sales Metrics', style={'color': 'var(--wcm-color-fg-1)'}),\n",
    "    html.Div(style={'display': 'flex', 'justify-content': 'center', 'padding': '10px'}, children=[\n",
    "        html.Div(style={'width': '80%', 'max-width': '1000px'}, children=[\n",
    "            dash_table.DataTable(\n",
    "                id='monthly_sales_metrics',\n",
    "                columns=[{\"name\": i, \"id\": i} for i in monthly_box_sales_metrics.columns],\n",
    "                data=monthly_box_sales_metrics.to_dict('records'),\n",
    "                style_table={'overflowX': 'auto'},\n",
    "                style_as_list_view=True,\n",
    "                style_header={\n",
    "                    'backgroundColor': 'var(--wcm-color-bg-2)',\n",
    "                    'fontWeight': 'bold',\n",
    "                    'color': 'var(--wcm-color-fg-1)'\n",
    "                },\n",
    "                style_cell={\n",
    "                    'height': 'auto',\n",
    "                    'minWidth': '150px', 'width': '150px', 'maxWidth': '150px',\n",
    "                    'whiteSpace': 'normal',\n",
    "                    'font-family': 'var(--font-primary, \"Inter\")',\n",
    "                    'backgroundColor': 'var(--color-background)',\n",
    "                    'color': 'var(--wcm-color-fg-2)',\n",
    "                    'padding': '10px',\n",
    "                    'border': '1px solid var(--color-border)'\n",
    "                },\n",
    "                style_data={\n",
    "                    'border': '1px solid var(--color-border)',\n",
    "                    'padding': '10px',\n",
    "                }\n",
    "            )\n",
    "        ])\n",
    "    ]),\n",
    "    html.Br(),\n",
    "    html.H3('10 Latest Sales', style={'color': 'var(--wcm-color-fg-1)'}),\n",
    "    html.Div(style={'display': 'flex', 'justify-content': 'center', 'padding': '10px'}, children=[\n",
    "        html.Div(style={'width': '80%', 'max-width': '1000px'}, children=[\n",
    "            dash_table.DataTable(\n",
    "                id='latest_sales',\n",
    "                columns=[{\"name\": i, \"id\": i} for i in latest_box_domains_sales.columns],\n",
    "                data=latest_box_domains_sales.to_dict('records'),\n",
    "                style_table={'overflowX': 'auto'},\n",
    "                style_as_list_view=True,\n",
    "                style_header={\n",
    "                    'backgroundColor': 'var(--wcm-color-bg-2)',\n",
    "                    'fontWeight': 'bold',\n",
    "                    'color': 'var(--wcm-color-fg-1)'\n",
    "                },\n",
    "                style_cell={\n",
    "                    'height': 'auto',\n",
    "                    'minWidth': '150px', 'width': '150px', 'maxWidth': '150px',\n",
    "                    'whiteSpace': 'normal',\n",
    "                    'font-family': 'var(--font-primary, \"Inter\")',\n",
    "                    'backgroundColor': 'var(--color-background)',\n",
    "                    'color': 'var(--wcm-color-fg-2)',\n",
    "                    'padding': '10px',\n",
    "                    'border': '1px solid var(--color-border)'\n",
    "                },\n",
    "                style_data={\n",
    "                    'border': '1px solid var(--color-border)',\n",
    "                    'padding': '10px',\n",
    "                }\n",
    "            )\n",
    "        ])\n",
    "    ]),\n",
    "    html.Br(),\n",
    "    html.H3('10 Highest Selling Domains', style={'color': 'var(--wcm-color-fg-1)'}),\n",
    "    html.Div(style={'display': 'flex', 'justify-content': 'center', 'padding': '10px'}, children=[\n",
    "        html.Div(style={'width': '80%', 'max-width': '1000px'}, children=[\n",
    "            dash_table.DataTable(\n",
    "                id='highest_sales',\n",
    "                columns=[{\"name\": i, \"id\": i} for i in highest_selling_domains.columns],\n",
    "                data=highest_selling_domains.to_dict('records'),\n",
    "                style_table={'overflowX': 'auto'},\n",
    "                style_as_list_view=True,\n",
    "                style_header={\n",
    "                    'backgroundColor': 'var(--wcm-color-bg-2)',\n",
    "                    'fontWeight': 'bold',\n",
    "                    'color': 'var(--wcm-color-fg-1)'\n",
    "                },\n",
    "                style_cell={\n",
    "                    'height': 'auto',\n",
    "                    'minWidth': '150px', 'width': '150px', 'maxWidth': '150px',\n",
    "                    'whiteSpace': 'normal',\n",
    "                    'font-family': 'var(--font-primary, \"Inter\")',\n",
    "                    'backgroundColor': 'var(--color-background)',\n",
    "                    'color': 'var(--wcm-color-fg-2)',\n",
    "                    'padding': '10px',\n",
    "                    'border': '1px solid var(--color-border)'\n",
    "                },\n",
    "                style_data={\n",
    "                    'border': '1px solid var(--color-border)',\n",
    "                    'padding': '10px',\n",
    "                }\n",
    "            )\n",
    "        ])\n",
    "    ]),\n",
    "    html.Br(),\n",
    "    html.H2('Listings', style={'color': 'var(--wcm-color-fg-1)'}),\n",
    "    html.Div(className='metrics-container', children=[\n",
    "        html.Div(className='metric', children=[\n",
    "            html.Span(metric[\"label\"], className='label'),\n",
    "            html.Span(f\"{metric['value']}{metric['unit']}\", className='value')\n",
    "        ]) for metric in listings_metrics\n",
    "    ]),\n",
    "    html.Br(),\n",
    "    dcc.Graph(id='monthly listings growth', figure=listings_growth_rate_fig),\n",
    "    html.H3('Historical Listings to Sales', style={'color': 'var(--wcm-color-fg-1)'}),\n",
    "    html.Div(style={'display': 'flex', 'justify-content': 'center', 'padding': '10px'}, children=[\n",
    "        html.Div(style={'width': '80%', 'max-width': '1000px'}, children=[\n",
    "            dash_table.DataTable(\n",
    "                id='listings_to_sales',\n",
    "                columns=[{\"name\": i, \"id\": i} for i in historical_listing_to_sales.columns],\n",
    "                data=historical_listing_to_sales.to_dict('records'),\n",
    "                style_table={'overflowX': 'auto'},\n",
    "                style_as_list_view=True,\n",
    "                style_header={\n",
    "                    'backgroundColor': 'var(--wcm-color-bg-2)',\n",
    "                    'fontWeight': 'bold',\n",
    "                    'color': 'var(--wcm-color-fg-1)'\n",
    "                },\n",
    "                style_cell={\n",
    "                    'height': 'auto',\n",
    "                    'minWidth': '150px', 'width': '150px', 'maxWidth': '150px',\n",
    "                    'whiteSpace': 'normal',\n",
    "                    'font-family': 'var(--font-primary, \"Inter\")',\n",
    "                    'backgroundColor': 'var(--color-background)',\n",
    "                    'color': 'var(--wcm-color-fg-2)',\n",
    "                    'padding': '10px',\n",
    "                    'border': '1px solid var(--color-border)'\n",
    "                },\n",
    "                style_data={\n",
    "                    'border': '1px solid var(--color-border)',\n",
    "                    'padding': '10px',\n",
    "                }\n",
    "            )\n",
    "        ])\n",
    "    ]),\n",
    "    html.H3('10 Latest Listings', style={'color': 'var(--wcm-color-fg-1)'}),\n",
    "    html.Div(style={'display': 'flex', 'justify-content': 'center', 'padding': '10px'}, children=[\n",
    "        html.Div(style={'width': '80%', 'max-width': '1000px'}, children=[\n",
    "            dash_table.DataTable(\n",
    "                id='latest_listings',\n",
    "                columns=[{\"name\": i, \"id\": i} for i in latest_box_listings.columns],\n",
    "                data=latest_box_listings.to_dict('records'),\n",
    "                style_table={'overflowX': 'auto'},\n",
    "                style_as_list_view=True,\n",
    "                style_header={\n",
    "                    'backgroundColor': 'var(--wcm-color-bg-2)',\n",
    "                    'fontWeight': 'bold',\n",
    "                    'color': 'var(--wcm-color-fg-1)'\n",
    "                },\n",
    "                style_cell={\n",
    "                    'height': 'auto',\n",
    "                    'minWidth': '150px', 'width': '150px', 'maxWidth': '150px',\n",
    "                    'whiteSpace': 'normal',\n",
    "                    'font-family': 'var(--font-primary, \"Inter\")',\n",
    "                    'backgroundColor': 'var(--color-background)',\n",
    "                    'color': 'var(--wcm-color-fg-2)',\n",
    "                    'padding': '10px',\n",
    "                    'border': '1px solid var(--color-border)'\n",
    "                },\n",
    "                style_data={\n",
    "                    'border': '1px solid var(--color-border)',\n",
    "                    'padding': '10px',\n",
    "                }\n",
    "            )\n",
    "        ])\n",
    "    ]),\n",
    "\n",
    "    html.H2('Mints', style={'color': 'var(--wcm-color-fg-1)'}),\n",
    "    html.Div(className='metrics-container', children=[\n",
    "        html.Div(className='metric', children=[\n",
    "            html.Span(metric[\"label\"], className='label'),\n",
    "            html.Span(f\"{metric['value']}{metric['unit']}\", className='value')\n",
    "        ]) for metric in mints_metrics\n",
    "    ]),\n",
    "    html.Br(),\n",
    "    dcc.Graph(id='daily_mints', figure=daily_mint_metrics_fig),\n",
    "    html.Br(),\n",
    "    html.H3('10 Latest Mints', style={'color': 'var(--wcm-color-fg-1)'}),\n",
    "    html.Div(style={'display': 'flex', 'justify-content': 'center', 'padding': '10px'}, children=[\n",
    "        html.Div(style={'width': '80%', 'max-width': '1000px'}, children=[\n",
    "            dash_table.DataTable(\n",
    "                id='latest_mints',\n",
    "                columns=[{\"name\": i, \"id\": i} for i in latest_box_domains_mints.columns],\n",
    "                data=latest_box_domains_mints.to_dict('records'),\n",
    "                style_table={'overflowX': 'auto'},\n",
    "                style_as_list_view=True,\n",
    "                style_header={\n",
    "                    'backgroundColor': 'var(--wcm-color-bg-2)',\n",
    "                    'fontWeight': 'bold',\n",
    "                    'color': 'var(--wcm-color-fg-1)'\n",
    "                },\n",
    "                style_cell={\n",
    "                    'height': 'auto',\n",
    "                    'minWidth': '150px', 'width': '150px', 'maxWidth': '150px',\n",
    "                    'whiteSpace': 'normal',\n",
    "                    'font-family': 'var(--font-primary, \"Inter\")',\n",
    "                    'backgroundColor': 'var(--color-background)',\n",
    "                    'color': 'var(--wcm-color-fg-2)',\n",
    "                    'padding': '10px',\n",
    "                    'border': '1px solid var(--color-border)'\n",
    "                },\n",
    "                style_data={\n",
    "                    'border': '1px solid var(--color-border)',\n",
    "                    'padding': '10px',\n",
    "                }\n",
    "            )\n",
    "        ])\n",
    "    ]),\n",
    "])\n",
    "\n",
    "# Define the callback\n",
    "@callback(\n",
    "    Output(component_id='valuator-output', component_property='children'),\n",
    "    Input(component_id='submit-button', component_property='n_clicks'),\n",
    "    State(component_id='valuator-input', component_property='value')\n",
    ")\n",
    "def update_output_div(n_clicks, domain_prefix):\n",
    "    if n_clicks == 0:\n",
    "        return \"Please enter a domain prefix and click Submit.\"\n",
    "    \n",
    "    if not domain_prefix:\n",
    "        return \"Please enter a domain prefix.\"\n",
    "    \n",
    "    if '.' in domain_prefix:\n",
    "        return \"Invalid input. Please enter a valid domain prefix without a '.' character.\"\n",
    "    \n",
    "    domain = f\"{domain_prefix}.box\"\n",
    "    domain_df = pd.DataFrame({'domain': [domain]})\n",
    "    domain_processed = model_prep(domain_df)\n",
    "    domain_value = value_domain(domain_processed)\n",
    "    return html.Div([\n",
    "        html.Div(f'Domain: {domain}', style={'font-weight': 'bold'}),\n",
    "        html.Div(f'Estimated Value: ${round(domain_value, 2):,.2f}')\n",
    "    ])\n",
    "\n",
    "# Run the app\n",
    "if __name__ == '__main__':\n",
    "    app.run_server(debug=True)\n"
   ]
  },
  {
   "cell_type": "code",
   "execution_count": null,
   "metadata": {},
   "outputs": [],
   "source": []
  }
 ],
 "metadata": {
  "kernelspec": {
   "display_name": "box app",
   "language": "python",
   "name": "box_app"
  },
  "language_info": {
   "codemirror_mode": {
    "name": "ipython",
    "version": 3
   },
   "file_extension": ".py",
   "mimetype": "text/x-python",
   "name": "python",
   "nbconvert_exporter": "python",
   "pygments_lexer": "ipython3",
   "version": "3.11.9"
  }
 },
 "nbformat": 4,
 "nbformat_minor": 4
}
