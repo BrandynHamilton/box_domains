{
 "cells": [
  {
   "cell_type": "markdown",
   "metadata": {},
   "source": [
    "***Can only retrieve up to 1000 data points from Flipside API***"
   ]
  },
  {
   "cell_type": "code",
   "execution_count": 1,
   "metadata": {},
   "outputs": [],
   "source": [
    "import pandas as pd\n",
    "import numpy as np \n",
    "import requests\n",
    "import json\n",
    "import time\n",
    "from flipside import Flipside\n",
    "import os\n",
    "import traceback\n",
    "from dotenv import load_dotenv\n",
    "import datetime as dt\n",
    "import plotly.express as px\n",
    "from sklearn.model_selection import train_test_split, GridSearchCV\n",
    "from sklearn.linear_model import Ridge\n",
    "from sklearn.metrics import mean_absolute_error, mean_squared_error, r2_score\n",
    "from sklearn.preprocessing import OneHotEncoder, StandardScaler\n",
    "from sklearn.compose import ColumnTransformer\n",
    "from sklearn.pipeline import Pipeline\n",
    "from sklearn.ensemble import RandomForestRegressor\n",
    "from sklearn.impute import SimpleImputer\n",
    "#from prophet import Prophet\n",
    "from dash import Dash, html, dcc, Input, Output, State, callback\n",
    "from plotly.subplots import make_subplots\n",
    "import plotly.graph_objects as go\n",
    "from dash import dash_table\n",
    "\n",
    "\n",
    "\n",
    "from sql.sql_scripts import mints_query, sales_query, eth_price_query"
   ]
  },
  {
   "cell_type": "code",
   "execution_count": 2,
   "metadata": {},
   "outputs": [
    {
     "data": {
      "text/plain": [
       "True"
      ]
     },
     "execution_count": 2,
     "metadata": {},
     "output_type": "execute_result"
    }
   ],
   "source": [
    "load_dotenv()"
   ]
  },
  {
   "cell_type": "code",
   "execution_count": 3,
   "metadata": {},
   "outputs": [],
   "source": [
    "pd.options.display.float_format = '{:,.2f}'.format\n"
   ]
  },
  {
   "cell_type": "code",
   "execution_count": 4,
   "metadata": {},
   "outputs": [],
   "source": [
    "opensea_api_key = os.getenv('opensea_api_key')"
   ]
  },
  {
   "cell_type": "markdown",
   "metadata": {},
   "source": [
    "***Listing Data***"
   ]
  },
  {
   "cell_type": "code",
   "execution_count": 5,
   "metadata": {},
   "outputs": [],
   "source": [
    "def fetch_listings(api_key, delay_between_requests=1):\n",
    "    base_url = \"https://api.opensea.io/api/v2/listings/collection/3dns-powered-domains/all\"\n",
    "    headers = {\n",
    "        \"accept\": \"application/json\",\n",
    "        \"x-api-key\": api_key\n",
    "    }\n",
    "    params = {\"limit\": 100} \n",
    "\n",
    "    listings = []\n",
    "    page_count = 0\n",
    "\n",
    "    while True:\n",
    "        response = requests.get(base_url, headers=headers, params=params)\n",
    "        if response.status_code == 200:\n",
    "            data = response.json()\n",
    "            fetched_listings = data.get(\"listings\", [])\n",
    "            listings.extend(fetched_listings)\n",
    "            page_count += 1\n",
    "            \n",
    "            # Extract and print the cursor\n",
    "            next_cursor = data.get(\"next\")\n",
    "            print(f\"Page {page_count}, Cursor: {next_cursor}, Listings Fetched: {len(fetched_listings)}\")\n",
    "            \n",
    "            if next_cursor:\n",
    "                params['next'] = next_cursor  # Update the 'next' parameter for the next request\n",
    "            else:\n",
    "                break  # No more pages to fetch\n",
    "                \n",
    "            # Implementing delay\n",
    "            time.sleep(delay_between_requests)\n",
    "            \n",
    "        else:\n",
    "            print(f\"Failed to fetch data: {response.status_code}\")\n",
    "            break\n",
    "\n",
    "    print(f\"Total pages fetched: {page_count}\")\n",
    "    print(f\"Total listings fetched: {len(listings)}\")\n",
    "    \n",
    "    df = pd.DataFrame(listings)\n",
    "    return df"
   ]
  },
  {
   "cell_type": "markdown",
   "metadata": {},
   "source": [
    "***Descriptions***"
   ]
  },
  {
   "cell_type": "code",
   "execution_count": 6,
   "metadata": {},
   "outputs": [],
   "source": [
    "def save_last_identifier(identifier):\n",
    "    with open(\"last_identifier.txt\", \"w\") as file:\n",
    "        file.write(identifier)\n",
    "\n",
    "def load_last_identifier():\n",
    "    try:\n",
    "        with open(\"last_identifier.txt\", \"r\") as file:\n",
    "            return file.read().strip()\n",
    "    except FileNotFoundError:\n",
    "        return None"
   ]
  },
  {
   "cell_type": "code",
   "execution_count": 7,
   "metadata": {},
   "outputs": [],
   "source": [
    "def fetch_all_descriptions(api_key, delay_between_requests=1):\n",
    "    base_url = \"https://api.opensea.io/api/v2/collection/3dns-powered-domains/nfts\"\n",
    "    headers = {\n",
    "        \"accept\": \"application/json\",\n",
    "        \"x-api-key\": api_key\n",
    "    }\n",
    "    params = {\"limit\": 100}\n",
    "\n",
    "    all_descriptions = []\n",
    "\n",
    "    page_count = 0\n",
    "    last_identifier = load_last_identifier()\n",
    "\n",
    "    while True:\n",
    "        if last_identifier:\n",
    "            params['last_identifier'] = last_identifier\n",
    "\n",
    "        response = requests.get(base_url, headers=headers, params=params)\n",
    "        if response.status_code == 200:\n",
    "            data = response.json()\n",
    "            fetched_descriptions = data.get(\"nfts\", [])\n",
    "            \n",
    "            if not fetched_descriptions:\n",
    "                break\n",
    "\n",
    "            # Process only name and identifier for each description\n",
    "            for description in fetched_descriptions:\n",
    "                processed_description = {\n",
    "                    \"name\": description.get('name'),\n",
    "                    \"identifier\": description.get('identifier')\n",
    "                }\n",
    "                all_descriptions.append(processed_description)\n",
    "            \n",
    "            # Update the last_identifier to the latest one fetched\n",
    "            last_identifier = fetched_descriptions[-1].get('identifier')\n",
    "            save_last_identifier(last_identifier)\n",
    "            \n",
    "            page_count += 1\n",
    "            next_cursor = data.get(\"next\")\n",
    "            print(f\"Page {page_count}, Cursor: {next_cursor} Descriptions Fetched: {len(fetched_descriptions)}, total fetched: {len(all_descriptions)}\")\n",
    "            \n",
    "            if next_cursor:\n",
    "                params['next'] = next_cursor\n",
    "            else:\n",
    "                break  # No more pages to fetch\n",
    "\n",
    "            time.sleep(delay_between_requests)\n",
    "        else:\n",
    "            print(f\"Failed to fetch data: {response.status_code}\")\n",
    "            break\n",
    "\n",
    "    print(f\"Total pages fetched: {page_count}, Total descriptions fetched: {len(all_descriptions)}\")\n",
    "    \n",
    "    # Save the processed descriptions to a file\n",
    "    df = pd.DataFrame(all_descriptions)\n",
    "    return df"
   ]
  },
  {
   "cell_type": "markdown",
   "metadata": {},
   "source": [
    "***Events***"
   ]
  },
  {
   "cell_type": "code",
   "execution_count": 8,
   "metadata": {},
   "outputs": [],
   "source": [
    "import json\n",
    "import os\n",
    "\n",
    "def save_last_timestamp(event_type, timestamp):\n",
    "    data = {}\n",
    "    if os.path.exists(\"last_timestamps.json\"):\n",
    "        with open(\"last_timestamps.json\", \"r\") as file:\n",
    "            data = json.load(file)\n",
    "    data[event_type] = timestamp\n",
    "    with open(\"last_timestamps.json\", \"w\") as file:\n",
    "        json.dump(data, file)\n",
    "\n",
    "def load_last_timestamp(event_type):\n",
    "    if os.path.exists(\"last_timestamps.json\"):\n",
    "        with open(\"last_timestamps.json\", \"r\") as file:\n",
    "            data = json.load(file)\n",
    "        return data.get(event_type, None)\n",
    "    return None"
   ]
  },
  {
   "cell_type": "code",
   "execution_count": 9,
   "metadata": {},
   "outputs": [],
   "source": [
    "def fetch_event_type(api_key, event_type, all_events, params, headers):\n",
    "    base_url = f\"https://api.opensea.io/api/v2/events/collection/3dns-powered-domains\"\n",
    "    params['event_type'] = event_type\n",
    "    \n",
    "    # Load the last timestamp/identifier\n",
    "    last_timestamp = load_last_timestamp(event_type)\n",
    "    if last_timestamp:\n",
    "        params['occurred_after'] = last_timestamp\n",
    "    \n",
    "    page_count = 0\n",
    "    while True:\n",
    "        response = requests.get(base_url, headers=headers, params=params)\n",
    "        if response.status_code == 200:\n",
    "            data = response.json()\n",
    "            fetched_events = data.get(\"asset_events\", [])\n",
    "            all_events.extend(fetched_events)\n",
    "            \n",
    "            if fetched_events:\n",
    "                # Update the last timestamp/identifier to the latest one fetched\n",
    "                last_event_time = fetched_events[-1].get(\"created_date\")\n",
    "                save_last_timestamp(event_type, last_event_time)\n",
    "            \n",
    "            page_count += 1\n",
    "            next_cursor = data.get(\"next\")\n",
    "            print(f\"Fetching {event_type}: Page {page_count}, Events Fetched: {len(fetched_events)}, Total Events: {len(all_events)}, next cursor: {next_cursor}\")\n",
    "            \n",
    "            if next_cursor:\n",
    "                params['next'] = next_cursor\n",
    "            else:\n",
    "                break  # No more pages to fetch\n",
    "\n",
    "            time.sleep(1)  # Delay between requests\n",
    "        else:\n",
    "            print(f\"Failed to fetch {event_type} data: HTTP {response.status_code}, Response: {response.text}\")\n",
    "            break\n",
    "\n",
    "def fetch_all_events(api_key):\n",
    "    headers = {\n",
    "        \"accept\": \"application/json\",\n",
    "        \"x-api-key\": api_key\n",
    "    }\n",
    "    params = {\n",
    "        \"limit\": 50  # Adjust the limit as needed\n",
    "    }\n",
    "\n",
    "    all_events = []\n",
    "\n",
    "    # Fetch listings\n",
    "    fetch_event_type(api_key, \"listing\", all_events, params.copy(), headers)\n",
    "\n",
    "    # Fetch sales\n",
    "    fetch_event_type(api_key, \"sale\", all_events, params.copy(), headers)\n",
    "\n",
    "    # Save the fetched events to a DataFrame\n",
    "    print(f\"Total events fetched: {len(all_events)}\")\n",
    "    df = pd.DataFrame(all_events)\n",
    "    return df "
   ]
  },
  {
   "cell_type": "markdown",
   "metadata": {},
   "source": [
    "***Flipside Data***"
   ]
  },
  {
   "cell_type": "code",
   "execution_count": 10,
   "metadata": {},
   "outputs": [],
   "source": [
    "flipside_api_key = os.getenv(\"FLIPSIDE_API_KEY\")\n",
    "flipside = Flipside(flipside_api_key, \"https://api-v2.flipsidecrypto.xyz\")"
   ]
  },
  {
   "cell_type": "code",
   "execution_count": 11,
   "metadata": {},
   "outputs": [],
   "source": [
    "def flipside_api_results(query):\n",
    "  query_result_set = flipside.query(query)\n",
    "  # what page are we starting on?\n",
    "  current_page_number = 1\n",
    "\n",
    "  # How many records do we want to return in the page?\n",
    "  page_size = 1000\n",
    "\n",
    "  # set total pages to 1 higher than the `current_page_number` until\n",
    "  # we receive the total pages from `get_query_results` given the \n",
    "  # provided `page_size` (total_pages is dynamically determined by the API \n",
    "  # based on the `page_size` you provide)\n",
    "\n",
    "  total_pages = 2\n",
    "\n",
    "\n",
    "  # we'll store all the page results in `all_rows`\n",
    "  all_rows = []\n",
    "\n",
    "  while current_page_number <= total_pages:\n",
    "    results = flipside.get_query_results(\n",
    "      query_result_set.query_id,\n",
    "      page_number=current_page_number,\n",
    "      page_size=page_size\n",
    "    )\n",
    "\n",
    "    total_pages = results.page.totalPages\n",
    "    if results.records:\n",
    "        all_rows = all_rows + results.records\n",
    "    \n",
    "    current_page_number += 1\n",
    "\n",
    "  return pd.DataFrame(all_rows)"
   ]
  },
  {
   "cell_type": "markdown",
   "metadata": {},
   "source": [
    "***Data Retrieval/Processing***"
   ]
  },
  {
   "cell_type": "code",
   "execution_count": 12,
   "metadata": {},
   "outputs": [],
   "source": [
    "mint_df = flipside_api_results(mints_query)\n",
    "mint_df.to_csv('data/mint_data.csv')"
   ]
  },
  {
   "cell_type": "markdown",
   "metadata": {},
   "source": [
    "mint_df = pd.read_csv('data/mint_data.csv')\n",
    "mint_df"
   ]
  },
  {
   "cell_type": "code",
   "execution_count": 13,
   "metadata": {},
   "outputs": [],
   "source": [
    "sales_df = flipside_api_results(sales_query)\n",
    "sales_df.to_csv('data/sales_data.csv')\n"
   ]
  },
  {
   "cell_type": "markdown",
   "metadata": {},
   "source": [
    "sales_df = pd.read_csv('data/sales_data.csv')\n",
    "sales_df"
   ]
  },
  {
   "cell_type": "code",
   "execution_count": 14,
   "metadata": {},
   "outputs": [],
   "source": [
    "eth_usd_df = flipside_api_results(eth_price_query)\n",
    "eth_usd_df.to_csv('data/eth_usd.csv')\n"
   ]
  },
  {
   "cell_type": "markdown",
   "metadata": {},
   "source": [
    "eth_usd_df = pd.read_csv('data/eth_usd.csv')\n",
    "eth_usd_df"
   ]
  },
  {
   "cell_type": "markdown",
   "metadata": {},
   "source": [
    "events_df = fetch_all_events(api_key= opensea_api_key)\n",
    "events_df.to_json('data/events_data.json', orient='records', date_format='iso')\n"
   ]
  },
  {
   "cell_type": "code",
   "execution_count": 15,
   "metadata": {},
   "outputs": [
    {
     "data": {
      "text/html": [
       "<div>\n",
       "<style scoped>\n",
       "    .dataframe tbody tr th:only-of-type {\n",
       "        vertical-align: middle;\n",
       "    }\n",
       "\n",
       "    .dataframe tbody tr th {\n",
       "        vertical-align: top;\n",
       "    }\n",
       "\n",
       "    .dataframe thead th {\n",
       "        text-align: right;\n",
       "    }\n",
       "</style>\n",
       "<table border=\"1\" class=\"dataframe\">\n",
       "  <thead>\n",
       "    <tr style=\"text-align: right;\">\n",
       "      <th></th>\n",
       "      <th>event_type</th>\n",
       "      <th>order_hash</th>\n",
       "      <th>order_type</th>\n",
       "      <th>chain</th>\n",
       "      <th>protocol_address</th>\n",
       "      <th>start_date</th>\n",
       "      <th>expiration_date</th>\n",
       "      <th>asset</th>\n",
       "      <th>quantity</th>\n",
       "      <th>maker</th>\n",
       "      <th>taker</th>\n",
       "      <th>payment</th>\n",
       "      <th>criteria</th>\n",
       "      <th>event_timestamp</th>\n",
       "      <th>is_private_listing</th>\n",
       "      <th>closing_date</th>\n",
       "      <th>nft</th>\n",
       "      <th>seller</th>\n",
       "      <th>buyer</th>\n",
       "      <th>transaction</th>\n",
       "    </tr>\n",
       "  </thead>\n",
       "  <tbody>\n",
       "    <tr>\n",
       "      <th>0</th>\n",
       "      <td>order</td>\n",
       "      <td>0x46f734ffea0b7f6054b72927c9df96e6692045e8fe39...</td>\n",
       "      <td>listing</td>\n",
       "      <td>optimism</td>\n",
       "      <td>0x0000000000000068f116a894984e2db1123eb395</td>\n",
       "      <td>1,720,648,237.00</td>\n",
       "      <td>1,723,326,637.00</td>\n",
       "      <td>{'identifier': '105524492317869377796516137615...</td>\n",
       "      <td>1</td>\n",
       "      <td>0x1ec410d35b81369d5c0d8fcadb340fdecce5c250</td>\n",
       "      <td></td>\n",
       "      <td>{'quantity': '50000000000000000000', 'token_ad...</td>\n",
       "      <td>{}</td>\n",
       "      <td>1720648284</td>\n",
       "      <td>0.00</td>\n",
       "      <td>NaN</td>\n",
       "      <td>None</td>\n",
       "      <td>None</td>\n",
       "      <td>None</td>\n",
       "      <td>None</td>\n",
       "    </tr>\n",
       "    <tr>\n",
       "      <th>1</th>\n",
       "      <td>order</td>\n",
       "      <td>0xc2c81d45617f524e0b38a8828484e8fc14129d65ecff...</td>\n",
       "      <td>listing</td>\n",
       "      <td>optimism</td>\n",
       "      <td>0x0000000000000068f116a894984e2db1123eb395</td>\n",
       "      <td>1,720,647,918.00</td>\n",
       "      <td>1,723,326,318.00</td>\n",
       "      <td>{'identifier': '932502001321155872797741020477...</td>\n",
       "      <td>1</td>\n",
       "      <td>0x1ec410d35b81369d5c0d8fcadb340fdecce5c250</td>\n",
       "      <td></td>\n",
       "      <td>{'quantity': '50000000000000000000', 'token_ad...</td>\n",
       "      <td>{}</td>\n",
       "      <td>1720648171</td>\n",
       "      <td>0.00</td>\n",
       "      <td>NaN</td>\n",
       "      <td>None</td>\n",
       "      <td>None</td>\n",
       "      <td>None</td>\n",
       "      <td>None</td>\n",
       "    </tr>\n",
       "    <tr>\n",
       "      <th>2</th>\n",
       "      <td>order</td>\n",
       "      <td>0x20707ea7356cbee5f71943f71c95e15c23ac05b7bf58...</td>\n",
       "      <td>listing</td>\n",
       "      <td>optimism</td>\n",
       "      <td>0x0000000000000068f116a894984e2db1123eb395</td>\n",
       "      <td>1,720,647,759.00</td>\n",
       "      <td>1,721,252,536.00</td>\n",
       "      <td>{'identifier': '493513286051206672797082654485...</td>\n",
       "      <td>1</td>\n",
       "      <td>0x0d3f5a7a1ee78e743e25c18e66942fcbcd84ccad</td>\n",
       "      <td></td>\n",
       "      <td>{'quantity': '770000000000000000', 'token_addr...</td>\n",
       "      <td>{}</td>\n",
       "      <td>1720648122</td>\n",
       "      <td>0.00</td>\n",
       "      <td>NaN</td>\n",
       "      <td>None</td>\n",
       "      <td>None</td>\n",
       "      <td>None</td>\n",
       "      <td>None</td>\n",
       "    </tr>\n",
       "    <tr>\n",
       "      <th>3</th>\n",
       "      <td>order</td>\n",
       "      <td>0x49729029191017c544a3f67f03968dd12bf16c69e1dd...</td>\n",
       "      <td>listing</td>\n",
       "      <td>optimism</td>\n",
       "      <td>0x0000000000000068f116a894984e2db1123eb395</td>\n",
       "      <td>1,720,562,975.00</td>\n",
       "      <td>1,736,460,564.00</td>\n",
       "      <td>{'identifier': '106968891900401063741132344938...</td>\n",
       "      <td>1</td>\n",
       "      <td>0x386ae4d6db89e0bbd41ef8cba13460edcf867420</td>\n",
       "      <td></td>\n",
       "      <td>{'quantity': '33000000000000000000', 'token_ad...</td>\n",
       "      <td>{}</td>\n",
       "      <td>1720563049</td>\n",
       "      <td>0.00</td>\n",
       "      <td>NaN</td>\n",
       "      <td>None</td>\n",
       "      <td>None</td>\n",
       "      <td>None</td>\n",
       "      <td>None</td>\n",
       "    </tr>\n",
       "    <tr>\n",
       "      <th>4</th>\n",
       "      <td>order</td>\n",
       "      <td>0xaedefdd5ee2c58433e4135132b5b8454653725d40859...</td>\n",
       "      <td>listing</td>\n",
       "      <td>optimism</td>\n",
       "      <td>0x0000000000000068f116a894984e2db1123eb395</td>\n",
       "      <td>1,720,561,057.00</td>\n",
       "      <td>1,721,165,912.00</td>\n",
       "      <td>{'identifier': '283604669650136775214415072033...</td>\n",
       "      <td>1</td>\n",
       "      <td>0x9a93ae4f408a1e7d178650ca9f7ab2135c512eda</td>\n",
       "      <td></td>\n",
       "      <td>{'quantity': '1000000000000000000', 'token_add...</td>\n",
       "      <td>{}</td>\n",
       "      <td>1720561062</td>\n",
       "      <td>0.00</td>\n",
       "      <td>NaN</td>\n",
       "      <td>None</td>\n",
       "      <td>None</td>\n",
       "      <td>None</td>\n",
       "      <td>None</td>\n",
       "    </tr>\n",
       "    <tr>\n",
       "      <th>...</th>\n",
       "      <td>...</td>\n",
       "      <td>...</td>\n",
       "      <td>...</td>\n",
       "      <td>...</td>\n",
       "      <td>...</td>\n",
       "      <td>...</td>\n",
       "      <td>...</td>\n",
       "      <td>...</td>\n",
       "      <td>...</td>\n",
       "      <td>...</td>\n",
       "      <td>...</td>\n",
       "      <td>...</td>\n",
       "      <td>...</td>\n",
       "      <td>...</td>\n",
       "      <td>...</td>\n",
       "      <td>...</td>\n",
       "      <td>...</td>\n",
       "      <td>...</td>\n",
       "      <td>...</td>\n",
       "      <td>...</td>\n",
       "    </tr>\n",
       "    <tr>\n",
       "      <th>2996</th>\n",
       "      <td>sale</td>\n",
       "      <td>0x8bde44f2d46537cf8d025cc498eaf7bdeadce3631f15...</td>\n",
       "      <td>None</td>\n",
       "      <td>optimism</td>\n",
       "      <td>0x00000000000000adc04c56bf30ac9d3c0aaf14dc</td>\n",
       "      <td>NaN</td>\n",
       "      <td>NaN</td>\n",
       "      <td>None</td>\n",
       "      <td>1</td>\n",
       "      <td>None</td>\n",
       "      <td>None</td>\n",
       "      <td>{'quantity': '1000000000000000', 'token_addres...</td>\n",
       "      <td>None</td>\n",
       "      <td>1706970257</td>\n",
       "      <td>NaN</td>\n",
       "      <td>1,706,970,257.00</td>\n",
       "      <td>{'identifier': '260923785748676206958654735781...</td>\n",
       "      <td>0xcc0e0b9ebd4ce352f5a50b3ae77ea01202c284ee</td>\n",
       "      <td>0xc48a8ac51df7b71e500a5580b89e47ab26ca1472</td>\n",
       "      <td>0x60e952a8e0fa8d052791b2e4a22fd52eb3c759511e62...</td>\n",
       "    </tr>\n",
       "    <tr>\n",
       "      <th>2997</th>\n",
       "      <td>sale</td>\n",
       "      <td>0xc0547b5b8d575e3ba16b529ee2530a35c437bc75fa93...</td>\n",
       "      <td>None</td>\n",
       "      <td>optimism</td>\n",
       "      <td>0x00000000000000adc04c56bf30ac9d3c0aaf14dc</td>\n",
       "      <td>NaN</td>\n",
       "      <td>NaN</td>\n",
       "      <td>None</td>\n",
       "      <td>1</td>\n",
       "      <td>None</td>\n",
       "      <td>None</td>\n",
       "      <td>{'quantity': '110000000000000000', 'token_addr...</td>\n",
       "      <td>None</td>\n",
       "      <td>1706653465</td>\n",
       "      <td>NaN</td>\n",
       "      <td>1,706,653,465.00</td>\n",
       "      <td>{'identifier': '566479911085778512201556021651...</td>\n",
       "      <td>0x240ad467a71210629d71d4de22ebde27951c83fc</td>\n",
       "      <td>0x82eb45562f991329ed2867f43fc60f0ba52c3dab</td>\n",
       "      <td>0x6672189deb7829838aabba20ddeb66a3cb5fee5b55a2...</td>\n",
       "    </tr>\n",
       "    <tr>\n",
       "      <th>2998</th>\n",
       "      <td>sale</td>\n",
       "      <td>0xff4b9bdd3f140f8211864ef34e0a07ea0a92eaf98f7d...</td>\n",
       "      <td>None</td>\n",
       "      <td>optimism</td>\n",
       "      <td>0x00000000000000adc04c56bf30ac9d3c0aaf14dc</td>\n",
       "      <td>NaN</td>\n",
       "      <td>NaN</td>\n",
       "      <td>None</td>\n",
       "      <td>1</td>\n",
       "      <td>None</td>\n",
       "      <td>None</td>\n",
       "      <td>{'quantity': '10000000000000000', 'token_addre...</td>\n",
       "      <td>None</td>\n",
       "      <td>1706203283</td>\n",
       "      <td>NaN</td>\n",
       "      <td>1,706,203,283.00</td>\n",
       "      <td>{'identifier': '364706086468987072255605061503...</td>\n",
       "      <td>0x7b363822d744143d51c69b0757165c987a6e4ef4</td>\n",
       "      <td>0xe68e8cc7ff772b026c062b9cc28246676d044947</td>\n",
       "      <td>0xd8e71f4d52c43fa770b9aa7ad7d5cfb073f04c7495e0...</td>\n",
       "    </tr>\n",
       "    <tr>\n",
       "      <th>2999</th>\n",
       "      <td>sale</td>\n",
       "      <td>0x03188e15aaf9596307117e30355f6b2ac79665fbd1c2...</td>\n",
       "      <td>None</td>\n",
       "      <td>optimism</td>\n",
       "      <td>0x00000000000000adc04c56bf30ac9d3c0aaf14dc</td>\n",
       "      <td>NaN</td>\n",
       "      <td>NaN</td>\n",
       "      <td>None</td>\n",
       "      <td>1</td>\n",
       "      <td>None</td>\n",
       "      <td>None</td>\n",
       "      <td>{'quantity': '150000000000000000', 'token_addr...</td>\n",
       "      <td>None</td>\n",
       "      <td>1704080589</td>\n",
       "      <td>NaN</td>\n",
       "      <td>1,704,080,589.00</td>\n",
       "      <td>{'identifier': '992340878683635895851755157396...</td>\n",
       "      <td>0x31b32020fb1bdf0228c58b80590f07b235f2b0ce</td>\n",
       "      <td>0x64233eaa064ef0d54ff1a963933d0d2d46ab5829</td>\n",
       "      <td>0x186d1ceacf620bab710d11cf928b79e5dd46790ff1d5...</td>\n",
       "    </tr>\n",
       "    <tr>\n",
       "      <th>3000</th>\n",
       "      <td>sale</td>\n",
       "      <td>0x3cd7cfda4dd935529af2c4f882476b40cc37340ae2a6...</td>\n",
       "      <td>None</td>\n",
       "      <td>optimism</td>\n",
       "      <td>0x00000000000000adc04c56bf30ac9d3c0aaf14dc</td>\n",
       "      <td>NaN</td>\n",
       "      <td>NaN</td>\n",
       "      <td>None</td>\n",
       "      <td>1</td>\n",
       "      <td>None</td>\n",
       "      <td>None</td>\n",
       "      <td>{'quantity': '22000000000000000', 'token_addre...</td>\n",
       "      <td>None</td>\n",
       "      <td>1703624873</td>\n",
       "      <td>NaN</td>\n",
       "      <td>1,703,624,873.00</td>\n",
       "      <td>{'identifier': '686186082504474765846111255346...</td>\n",
       "      <td>0xff3d39f7766ebb57a4175b6d919937409f6d6fee</td>\n",
       "      <td>0x46f09888867c8cd9042b943099663e856e43de46</td>\n",
       "      <td>0x1c7ed62756b60a73470fa39ea6546510ad426e261d14...</td>\n",
       "    </tr>\n",
       "  </tbody>\n",
       "</table>\n",
       "<p>3001 rows × 20 columns</p>\n",
       "</div>"
      ],
      "text/plain": [
       "     event_type                                         order_hash order_type  \\\n",
       "0         order  0x46f734ffea0b7f6054b72927c9df96e6692045e8fe39...    listing   \n",
       "1         order  0xc2c81d45617f524e0b38a8828484e8fc14129d65ecff...    listing   \n",
       "2         order  0x20707ea7356cbee5f71943f71c95e15c23ac05b7bf58...    listing   \n",
       "3         order  0x49729029191017c544a3f67f03968dd12bf16c69e1dd...    listing   \n",
       "4         order  0xaedefdd5ee2c58433e4135132b5b8454653725d40859...    listing   \n",
       "...         ...                                                ...        ...   \n",
       "2996       sale  0x8bde44f2d46537cf8d025cc498eaf7bdeadce3631f15...       None   \n",
       "2997       sale  0xc0547b5b8d575e3ba16b529ee2530a35c437bc75fa93...       None   \n",
       "2998       sale  0xff4b9bdd3f140f8211864ef34e0a07ea0a92eaf98f7d...       None   \n",
       "2999       sale  0x03188e15aaf9596307117e30355f6b2ac79665fbd1c2...       None   \n",
       "3000       sale  0x3cd7cfda4dd935529af2c4f882476b40cc37340ae2a6...       None   \n",
       "\n",
       "         chain                            protocol_address       start_date  \\\n",
       "0     optimism  0x0000000000000068f116a894984e2db1123eb395 1,720,648,237.00   \n",
       "1     optimism  0x0000000000000068f116a894984e2db1123eb395 1,720,647,918.00   \n",
       "2     optimism  0x0000000000000068f116a894984e2db1123eb395 1,720,647,759.00   \n",
       "3     optimism  0x0000000000000068f116a894984e2db1123eb395 1,720,562,975.00   \n",
       "4     optimism  0x0000000000000068f116a894984e2db1123eb395 1,720,561,057.00   \n",
       "...        ...                                         ...              ...   \n",
       "2996  optimism  0x00000000000000adc04c56bf30ac9d3c0aaf14dc              NaN   \n",
       "2997  optimism  0x00000000000000adc04c56bf30ac9d3c0aaf14dc              NaN   \n",
       "2998  optimism  0x00000000000000adc04c56bf30ac9d3c0aaf14dc              NaN   \n",
       "2999  optimism  0x00000000000000adc04c56bf30ac9d3c0aaf14dc              NaN   \n",
       "3000  optimism  0x00000000000000adc04c56bf30ac9d3c0aaf14dc              NaN   \n",
       "\n",
       "      expiration_date                                              asset  \\\n",
       "0    1,723,326,637.00  {'identifier': '105524492317869377796516137615...   \n",
       "1    1,723,326,318.00  {'identifier': '932502001321155872797741020477...   \n",
       "2    1,721,252,536.00  {'identifier': '493513286051206672797082654485...   \n",
       "3    1,736,460,564.00  {'identifier': '106968891900401063741132344938...   \n",
       "4    1,721,165,912.00  {'identifier': '283604669650136775214415072033...   \n",
       "...               ...                                                ...   \n",
       "2996              NaN                                               None   \n",
       "2997              NaN                                               None   \n",
       "2998              NaN                                               None   \n",
       "2999              NaN                                               None   \n",
       "3000              NaN                                               None   \n",
       "\n",
       "      quantity                                       maker taker  \\\n",
       "0            1  0x1ec410d35b81369d5c0d8fcadb340fdecce5c250         \n",
       "1            1  0x1ec410d35b81369d5c0d8fcadb340fdecce5c250         \n",
       "2            1  0x0d3f5a7a1ee78e743e25c18e66942fcbcd84ccad         \n",
       "3            1  0x386ae4d6db89e0bbd41ef8cba13460edcf867420         \n",
       "4            1  0x9a93ae4f408a1e7d178650ca9f7ab2135c512eda         \n",
       "...        ...                                         ...   ...   \n",
       "2996         1                                        None  None   \n",
       "2997         1                                        None  None   \n",
       "2998         1                                        None  None   \n",
       "2999         1                                        None  None   \n",
       "3000         1                                        None  None   \n",
       "\n",
       "                                                payment criteria  \\\n",
       "0     {'quantity': '50000000000000000000', 'token_ad...       {}   \n",
       "1     {'quantity': '50000000000000000000', 'token_ad...       {}   \n",
       "2     {'quantity': '770000000000000000', 'token_addr...       {}   \n",
       "3     {'quantity': '33000000000000000000', 'token_ad...       {}   \n",
       "4     {'quantity': '1000000000000000000', 'token_add...       {}   \n",
       "...                                                 ...      ...   \n",
       "2996  {'quantity': '1000000000000000', 'token_addres...     None   \n",
       "2997  {'quantity': '110000000000000000', 'token_addr...     None   \n",
       "2998  {'quantity': '10000000000000000', 'token_addre...     None   \n",
       "2999  {'quantity': '150000000000000000', 'token_addr...     None   \n",
       "3000  {'quantity': '22000000000000000', 'token_addre...     None   \n",
       "\n",
       "      event_timestamp  is_private_listing     closing_date  \\\n",
       "0          1720648284                0.00              NaN   \n",
       "1          1720648171                0.00              NaN   \n",
       "2          1720648122                0.00              NaN   \n",
       "3          1720563049                0.00              NaN   \n",
       "4          1720561062                0.00              NaN   \n",
       "...               ...                 ...              ...   \n",
       "2996       1706970257                 NaN 1,706,970,257.00   \n",
       "2997       1706653465                 NaN 1,706,653,465.00   \n",
       "2998       1706203283                 NaN 1,706,203,283.00   \n",
       "2999       1704080589                 NaN 1,704,080,589.00   \n",
       "3000       1703624873                 NaN 1,703,624,873.00   \n",
       "\n",
       "                                                    nft  \\\n",
       "0                                                  None   \n",
       "1                                                  None   \n",
       "2                                                  None   \n",
       "3                                                  None   \n",
       "4                                                  None   \n",
       "...                                                 ...   \n",
       "2996  {'identifier': '260923785748676206958654735781...   \n",
       "2997  {'identifier': '566479911085778512201556021651...   \n",
       "2998  {'identifier': '364706086468987072255605061503...   \n",
       "2999  {'identifier': '992340878683635895851755157396...   \n",
       "3000  {'identifier': '686186082504474765846111255346...   \n",
       "\n",
       "                                          seller  \\\n",
       "0                                           None   \n",
       "1                                           None   \n",
       "2                                           None   \n",
       "3                                           None   \n",
       "4                                           None   \n",
       "...                                          ...   \n",
       "2996  0xcc0e0b9ebd4ce352f5a50b3ae77ea01202c284ee   \n",
       "2997  0x240ad467a71210629d71d4de22ebde27951c83fc   \n",
       "2998  0x7b363822d744143d51c69b0757165c987a6e4ef4   \n",
       "2999  0x31b32020fb1bdf0228c58b80590f07b235f2b0ce   \n",
       "3000  0xff3d39f7766ebb57a4175b6d919937409f6d6fee   \n",
       "\n",
       "                                           buyer  \\\n",
       "0                                           None   \n",
       "1                                           None   \n",
       "2                                           None   \n",
       "3                                           None   \n",
       "4                                           None   \n",
       "...                                          ...   \n",
       "2996  0xc48a8ac51df7b71e500a5580b89e47ab26ca1472   \n",
       "2997  0x82eb45562f991329ed2867f43fc60f0ba52c3dab   \n",
       "2998  0xe68e8cc7ff772b026c062b9cc28246676d044947   \n",
       "2999  0x64233eaa064ef0d54ff1a963933d0d2d46ab5829   \n",
       "3000  0x46f09888867c8cd9042b943099663e856e43de46   \n",
       "\n",
       "                                            transaction  \n",
       "0                                                  None  \n",
       "1                                                  None  \n",
       "2                                                  None  \n",
       "3                                                  None  \n",
       "4                                                  None  \n",
       "...                                                 ...  \n",
       "2996  0x60e952a8e0fa8d052791b2e4a22fd52eb3c759511e62...  \n",
       "2997  0x6672189deb7829838aabba20ddeb66a3cb5fee5b55a2...  \n",
       "2998  0xd8e71f4d52c43fa770b9aa7ad7d5cfb073f04c7495e0...  \n",
       "2999  0x186d1ceacf620bab710d11cf928b79e5dd46790ff1d5...  \n",
       "3000  0x1c7ed62756b60a73470fa39ea6546510ad426e261d14...  \n",
       "\n",
       "[3001 rows x 20 columns]"
      ]
     },
     "execution_count": 15,
     "metadata": {},
     "output_type": "execute_result"
    }
   ],
   "source": [
    "events_df = pd.read_json('data/events_data.json', orient='records')\n",
    "events_df"
   ]
  },
  {
   "cell_type": "markdown",
   "metadata": {},
   "source": [
    "descriptions_df = fetch_all_descriptions(api_key= opensea_api_key)\n",
    "descriptions_df.to_json('data/descriptions_data.json', orient='records', date_format='iso')"
   ]
  },
  {
   "cell_type": "code",
   "execution_count": 16,
   "metadata": {},
   "outputs": [
    {
     "data": {
      "text/plain": [
       "16399     tokentroopers.xyz\n",
       "16400            mudbox.xyz\n",
       "16401     beallclothing.com\n",
       "16402          brandley.xyz\n",
       "16403        tameimpala.xyz\n",
       "16404          efferium.org\n",
       "16405           wizkika.com\n",
       "16406    onchaindomains.org\n",
       "16407              3dns.box\n",
       "16408                   box\n",
       "16409               finance\n",
       "16410                   inc\n",
       "16411                  link\n",
       "16412                   wtf\n",
       "16413                   xyz\n",
       "16414                  tech\n",
       "16415                    io\n",
       "16416                   org\n",
       "16417                   net\n",
       "16418                   com\n",
       "Name: name, dtype: object"
      ]
     },
     "execution_count": 16,
     "metadata": {},
     "output_type": "execute_result"
    }
   ],
   "source": [
    "descriptions_df = pd.read_json('data/descriptions_data.json', orient='records')\n",
    "descriptions_df['name'].tail(20)"
   ]
  },
  {
   "cell_type": "markdown",
   "metadata": {},
   "source": [
    "listings_df = fetch_listings(api_key= opensea_api_key, delay_between_requests=1)\n",
    "listings_df.to_json('data/listings_data.json', orient='records', date_format='iso')"
   ]
  },
  {
   "cell_type": "code",
   "execution_count": 17,
   "metadata": {},
   "outputs": [
    {
     "data": {
      "text/html": [
       "<div>\n",
       "<style scoped>\n",
       "    .dataframe tbody tr th:only-of-type {\n",
       "        vertical-align: middle;\n",
       "    }\n",
       "\n",
       "    .dataframe tbody tr th {\n",
       "        vertical-align: top;\n",
       "    }\n",
       "\n",
       "    .dataframe thead th {\n",
       "        text-align: right;\n",
       "    }\n",
       "</style>\n",
       "<table border=\"1\" class=\"dataframe\">\n",
       "  <thead>\n",
       "    <tr style=\"text-align: right;\">\n",
       "      <th></th>\n",
       "      <th>order_hash</th>\n",
       "      <th>chain</th>\n",
       "      <th>type</th>\n",
       "      <th>price</th>\n",
       "      <th>protocol_data</th>\n",
       "      <th>protocol_address</th>\n",
       "    </tr>\n",
       "  </thead>\n",
       "  <tbody>\n",
       "    <tr>\n",
       "      <th>0</th>\n",
       "      <td>0x902ff72f57b579d6a2fac92a0714ca5274172ccdeb51...</td>\n",
       "      <td>optimism</td>\n",
       "      <td>basic</td>\n",
       "      <td>{'current': {'currency': 'ETH', 'decimals': 18...</td>\n",
       "      <td>{'parameters': {'offerer': '0x64233eaa064ef0d5...</td>\n",
       "      <td>0x00000000000000adc04c56bf30ac9d3c0aaf14dc</td>\n",
       "    </tr>\n",
       "    <tr>\n",
       "      <th>1</th>\n",
       "      <td>0x472882ed6ef6df3e646a968fe399a794cb2d80783c0d...</td>\n",
       "      <td>optimism</td>\n",
       "      <td>basic</td>\n",
       "      <td>{'current': {'currency': 'ETH', 'decimals': 18...</td>\n",
       "      <td>{'parameters': {'offerer': '0x47baba9b83c7cd48...</td>\n",
       "      <td>0x00000000000000adc04c56bf30ac9d3c0aaf14dc</td>\n",
       "    </tr>\n",
       "    <tr>\n",
       "      <th>2</th>\n",
       "      <td>0x3040ad3f37193e684cb2baa0811d21cd345108df5a2a...</td>\n",
       "      <td>optimism</td>\n",
       "      <td>basic</td>\n",
       "      <td>{'current': {'currency': 'ETH', 'decimals': 18...</td>\n",
       "      <td>{'parameters': {'offerer': '0x97f6f6c5503b9fe3...</td>\n",
       "      <td>0x00000000000000adc04c56bf30ac9d3c0aaf14dc</td>\n",
       "    </tr>\n",
       "    <tr>\n",
       "      <th>3</th>\n",
       "      <td>0xb62518c46df32c07046a53f3df61112cc4460bc648ac...</td>\n",
       "      <td>optimism</td>\n",
       "      <td>basic</td>\n",
       "      <td>{'current': {'currency': 'ETH', 'decimals': 18...</td>\n",
       "      <td>{'parameters': {'offerer': '0x97f6f6c5503b9fe3...</td>\n",
       "      <td>0x00000000000000adc04c56bf30ac9d3c0aaf14dc</td>\n",
       "    </tr>\n",
       "    <tr>\n",
       "      <th>4</th>\n",
       "      <td>0xe4c2e069a35f4b943e449d8e510f952ff3cb2fc133d3...</td>\n",
       "      <td>optimism</td>\n",
       "      <td>basic</td>\n",
       "      <td>{'current': {'currency': 'ETH', 'decimals': 18...</td>\n",
       "      <td>{'parameters': {'offerer': '0x99d104c7a9d51953...</td>\n",
       "      <td>0x00000000000000adc04c56bf30ac9d3c0aaf14dc</td>\n",
       "    </tr>\n",
       "    <tr>\n",
       "      <th>...</th>\n",
       "      <td>...</td>\n",
       "      <td>...</td>\n",
       "      <td>...</td>\n",
       "      <td>...</td>\n",
       "      <td>...</td>\n",
       "      <td>...</td>\n",
       "    </tr>\n",
       "    <tr>\n",
       "      <th>707</th>\n",
       "      <td>0xaedefdd5ee2c58433e4135132b5b8454653725d40859...</td>\n",
       "      <td>optimism</td>\n",
       "      <td>basic</td>\n",
       "      <td>{'current': {'currency': 'ETH', 'decimals': 18...</td>\n",
       "      <td>{'parameters': {'offerer': '0x9a93ae4f408a1e7d...</td>\n",
       "      <td>0x0000000000000068f116a894984e2db1123eb395</td>\n",
       "    </tr>\n",
       "    <tr>\n",
       "      <th>708</th>\n",
       "      <td>0x49729029191017c544a3f67f03968dd12bf16c69e1dd...</td>\n",
       "      <td>optimism</td>\n",
       "      <td>basic</td>\n",
       "      <td>{'current': {'currency': 'ETH', 'decimals': 18...</td>\n",
       "      <td>{'parameters': {'offerer': '0x386ae4d6db89e0bb...</td>\n",
       "      <td>0x0000000000000068f116a894984e2db1123eb395</td>\n",
       "    </tr>\n",
       "    <tr>\n",
       "      <th>709</th>\n",
       "      <td>0x20707ea7356cbee5f71943f71c95e15c23ac05b7bf58...</td>\n",
       "      <td>optimism</td>\n",
       "      <td>basic</td>\n",
       "      <td>{'current': {'currency': 'ETH', 'decimals': 18...</td>\n",
       "      <td>{'parameters': {'offerer': '0x0d3f5a7a1ee78e74...</td>\n",
       "      <td>0x0000000000000068f116a894984e2db1123eb395</td>\n",
       "    </tr>\n",
       "    <tr>\n",
       "      <th>710</th>\n",
       "      <td>0xc2c81d45617f524e0b38a8828484e8fc14129d65ecff...</td>\n",
       "      <td>optimism</td>\n",
       "      <td>basic</td>\n",
       "      <td>{'current': {'currency': 'ETH', 'decimals': 18...</td>\n",
       "      <td>{'parameters': {'offerer': '0x1ec410d35b81369d...</td>\n",
       "      <td>0x0000000000000068f116a894984e2db1123eb395</td>\n",
       "    </tr>\n",
       "    <tr>\n",
       "      <th>711</th>\n",
       "      <td>0x46f734ffea0b7f6054b72927c9df96e6692045e8fe39...</td>\n",
       "      <td>optimism</td>\n",
       "      <td>basic</td>\n",
       "      <td>{'current': {'currency': 'ETH', 'decimals': 18...</td>\n",
       "      <td>{'parameters': {'offerer': '0x1ec410d35b81369d...</td>\n",
       "      <td>0x0000000000000068f116a894984e2db1123eb395</td>\n",
       "    </tr>\n",
       "  </tbody>\n",
       "</table>\n",
       "<p>712 rows × 6 columns</p>\n",
       "</div>"
      ],
      "text/plain": [
       "                                            order_hash     chain   type  \\\n",
       "0    0x902ff72f57b579d6a2fac92a0714ca5274172ccdeb51...  optimism  basic   \n",
       "1    0x472882ed6ef6df3e646a968fe399a794cb2d80783c0d...  optimism  basic   \n",
       "2    0x3040ad3f37193e684cb2baa0811d21cd345108df5a2a...  optimism  basic   \n",
       "3    0xb62518c46df32c07046a53f3df61112cc4460bc648ac...  optimism  basic   \n",
       "4    0xe4c2e069a35f4b943e449d8e510f952ff3cb2fc133d3...  optimism  basic   \n",
       "..                                                 ...       ...    ...   \n",
       "707  0xaedefdd5ee2c58433e4135132b5b8454653725d40859...  optimism  basic   \n",
       "708  0x49729029191017c544a3f67f03968dd12bf16c69e1dd...  optimism  basic   \n",
       "709  0x20707ea7356cbee5f71943f71c95e15c23ac05b7bf58...  optimism  basic   \n",
       "710  0xc2c81d45617f524e0b38a8828484e8fc14129d65ecff...  optimism  basic   \n",
       "711  0x46f734ffea0b7f6054b72927c9df96e6692045e8fe39...  optimism  basic   \n",
       "\n",
       "                                                 price  \\\n",
       "0    {'current': {'currency': 'ETH', 'decimals': 18...   \n",
       "1    {'current': {'currency': 'ETH', 'decimals': 18...   \n",
       "2    {'current': {'currency': 'ETH', 'decimals': 18...   \n",
       "3    {'current': {'currency': 'ETH', 'decimals': 18...   \n",
       "4    {'current': {'currency': 'ETH', 'decimals': 18...   \n",
       "..                                                 ...   \n",
       "707  {'current': {'currency': 'ETH', 'decimals': 18...   \n",
       "708  {'current': {'currency': 'ETH', 'decimals': 18...   \n",
       "709  {'current': {'currency': 'ETH', 'decimals': 18...   \n",
       "710  {'current': {'currency': 'ETH', 'decimals': 18...   \n",
       "711  {'current': {'currency': 'ETH', 'decimals': 18...   \n",
       "\n",
       "                                         protocol_data  \\\n",
       "0    {'parameters': {'offerer': '0x64233eaa064ef0d5...   \n",
       "1    {'parameters': {'offerer': '0x47baba9b83c7cd48...   \n",
       "2    {'parameters': {'offerer': '0x97f6f6c5503b9fe3...   \n",
       "3    {'parameters': {'offerer': '0x97f6f6c5503b9fe3...   \n",
       "4    {'parameters': {'offerer': '0x99d104c7a9d51953...   \n",
       "..                                                 ...   \n",
       "707  {'parameters': {'offerer': '0x9a93ae4f408a1e7d...   \n",
       "708  {'parameters': {'offerer': '0x386ae4d6db89e0bb...   \n",
       "709  {'parameters': {'offerer': '0x0d3f5a7a1ee78e74...   \n",
       "710  {'parameters': {'offerer': '0x1ec410d35b81369d...   \n",
       "711  {'parameters': {'offerer': '0x1ec410d35b81369d...   \n",
       "\n",
       "                               protocol_address  \n",
       "0    0x00000000000000adc04c56bf30ac9d3c0aaf14dc  \n",
       "1    0x00000000000000adc04c56bf30ac9d3c0aaf14dc  \n",
       "2    0x00000000000000adc04c56bf30ac9d3c0aaf14dc  \n",
       "3    0x00000000000000adc04c56bf30ac9d3c0aaf14dc  \n",
       "4    0x00000000000000adc04c56bf30ac9d3c0aaf14dc  \n",
       "..                                          ...  \n",
       "707  0x0000000000000068f116a894984e2db1123eb395  \n",
       "708  0x0000000000000068f116a894984e2db1123eb395  \n",
       "709  0x0000000000000068f116a894984e2db1123eb395  \n",
       "710  0x0000000000000068f116a894984e2db1123eb395  \n",
       "711  0x0000000000000068f116a894984e2db1123eb395  \n",
       "\n",
       "[712 rows x 6 columns]"
      ]
     },
     "execution_count": 17,
     "metadata": {},
     "output_type": "execute_result"
    }
   ],
   "source": [
    "listings_df = pd.read_json('data/listings_data.json', orient='records')\n",
    "listings_df"
   ]
  },
  {
   "cell_type": "code",
   "execution_count": 18,
   "metadata": {},
   "outputs": [],
   "source": [
    "def unpack_protocol_data(row):\n",
    "    protocol_data = row['protocol_data']\n",
    "    parameters = protocol_data.get('parameters', {})\n",
    "    consideration = parameters.get('consideration', [{}])\n",
    "    offer = parameters.get('offer', [{}])\n",
    "    price = row['price']['current']\n",
    "    \n",
    "    chain = row['chain']\n",
    "    order_hash = row['order_hash']\n",
    "    currency = price.get('currency')\n",
    "    price_string = price.get('value')\n",
    "    price_in_eth = float(price_string) / (10 ** price.get('decimals', 18))\n",
    "    primary_recipient = consideration[0].get('recipient') if consideration else None\n",
    "    identifier_or_criteria = offer[0].get('identifierOrCriteria') if offer else None\n",
    "    start_time = parameters.get('startTime')\n",
    "    end_time = parameters.get('endTime')\n",
    "    \n",
    "    return pd.Series([\n",
    "        chain, order_hash, currency, price_string, price_in_eth, \n",
    "        primary_recipient, identifier_or_criteria, start_time, end_time\n",
    "    ])"
   ]
  },
  {
   "cell_type": "code",
   "execution_count": 19,
   "metadata": {},
   "outputs": [],
   "source": [
    "unpacked_columns = listings_df.apply(unpack_protocol_data, axis=1)\n",
    "unpacked_columns.columns = [\n",
    "    'chain', 'order_hash', 'currency', 'price_string', 'price_in_eth', \n",
    "    'primary_recipient', 'identifier_or_criteria', 'start_time', 'end_time'\n",
    "]\n",
    "listings_df = pd.concat([listings_df, unpacked_columns], axis=1)\n",
    "listings_df = listings_df.drop(columns=['protocol_data'])\n"
   ]
  },
  {
   "cell_type": "code",
   "execution_count": 20,
   "metadata": {},
   "outputs": [],
   "source": [
    "listings_df['identifier_or_criteria'] = listings_df['identifier_or_criteria'].astype(float)\n",
    "listings_df.rename(columns={'identifier_or_criteria':'tokenid'}, inplace=True)"
   ]
  },
  {
   "cell_type": "code",
   "execution_count": 21,
   "metadata": {},
   "outputs": [],
   "source": [
    "listings_df.drop(columns=['price_string','currency','primary_recipient','chain','price','protocol_address','type'], inplace=True)"
   ]
  },
  {
   "cell_type": "code",
   "execution_count": 22,
   "metadata": {},
   "outputs": [],
   "source": [
    "descriptions_df.rename(columns={'identifier':'tokenid'}, inplace=True)"
   ]
  },
  {
   "cell_type": "code",
   "execution_count": 23,
   "metadata": {},
   "outputs": [],
   "source": [
    "descriptions_df['tokenid'] = descriptions_df['tokenid'].astype(float)"
   ]
  },
  {
   "cell_type": "code",
   "execution_count": 24,
   "metadata": {},
   "outputs": [
    {
     "data": {
      "text/html": [
       "<div>\n",
       "<style scoped>\n",
       "    .dataframe tbody tr th:only-of-type {\n",
       "        vertical-align: middle;\n",
       "    }\n",
       "\n",
       "    .dataframe tbody tr th {\n",
       "        vertical-align: top;\n",
       "    }\n",
       "\n",
       "    .dataframe thead th {\n",
       "        text-align: right;\n",
       "    }\n",
       "</style>\n",
       "<table border=\"1\" class=\"dataframe\">\n",
       "  <thead>\n",
       "    <tr style=\"text-align: right;\">\n",
       "      <th></th>\n",
       "      <th>order_hash</th>\n",
       "      <th>order_hash</th>\n",
       "      <th>price_in_eth</th>\n",
       "      <th>tokenid</th>\n",
       "      <th>start_time</th>\n",
       "      <th>end_time</th>\n",
       "      <th>name</th>\n",
       "    </tr>\n",
       "  </thead>\n",
       "  <tbody>\n",
       "    <tr>\n",
       "      <th>0</th>\n",
       "      <td>0x902ff72f57b579d6a2fac92a0714ca5274172ccdeb51...</td>\n",
       "      <td>0x902ff72f57b579d6a2fac92a0714ca5274172ccdeb51...</td>\n",
       "      <td>5.00</td>\n",
       "      <td>24,976,820,562,208,875,018,004,955,422,466,815,...</td>\n",
       "      <td>1705460459</td>\n",
       "      <td>1721181652</td>\n",
       "      <td>eth.attorney</td>\n",
       "    </tr>\n",
       "    <tr>\n",
       "      <th>1</th>\n",
       "      <td>0x472882ed6ef6df3e646a968fe399a794cb2d80783c0d...</td>\n",
       "      <td>0x472882ed6ef6df3e646a968fe399a794cb2d80783c0d...</td>\n",
       "      <td>8.00</td>\n",
       "      <td>103,348,240,472,784,936,049,086,084,648,101,639...</td>\n",
       "      <td>1705973310</td>\n",
       "      <td>1721694506</td>\n",
       "      <td>open.box</td>\n",
       "    </tr>\n",
       "    <tr>\n",
       "      <th>2</th>\n",
       "      <td>0x3040ad3f37193e684cb2baa0811d21cd345108df5a2a...</td>\n",
       "      <td>0x3040ad3f37193e684cb2baa0811d21cd345108df5a2a...</td>\n",
       "      <td>3.00</td>\n",
       "      <td>102,295,845,026,135,496,883,892,522,779,159,999...</td>\n",
       "      <td>1706042993</td>\n",
       "      <td>1721767789</td>\n",
       "      <td>jewelry.box</td>\n",
       "    </tr>\n",
       "    <tr>\n",
       "      <th>3</th>\n",
       "      <td>0xb62518c46df32c07046a53f3df61112cc4460bc648ac...</td>\n",
       "      <td>0xb62518c46df32c07046a53f3df61112cc4460bc648ac...</td>\n",
       "      <td>3.00</td>\n",
       "      <td>75,270,179,101,124,303,647,088,469,843,731,665,...</td>\n",
       "      <td>1706043120</td>\n",
       "      <td>1721767916</td>\n",
       "      <td>gay.box</td>\n",
       "    </tr>\n",
       "    <tr>\n",
       "      <th>4</th>\n",
       "      <td>0xe4c2e069a35f4b943e449d8e510f952ff3cb2fc133d3...</td>\n",
       "      <td>0xe4c2e069a35f4b943e449d8e510f952ff3cb2fc133d3...</td>\n",
       "      <td>8.00</td>\n",
       "      <td>15,351,911,394,148,160,117,736,899,619,150,406,...</td>\n",
       "      <td>1706069852</td>\n",
       "      <td>1721791047</td>\n",
       "      <td>power.box</td>\n",
       "    </tr>\n",
       "    <tr>\n",
       "      <th>...</th>\n",
       "      <td>...</td>\n",
       "      <td>...</td>\n",
       "      <td>...</td>\n",
       "      <td>...</td>\n",
       "      <td>...</td>\n",
       "      <td>...</td>\n",
       "      <td>...</td>\n",
       "    </tr>\n",
       "    <tr>\n",
       "      <th>707</th>\n",
       "      <td>0xaedefdd5ee2c58433e4135132b5b8454653725d40859...</td>\n",
       "      <td>0xaedefdd5ee2c58433e4135132b5b8454653725d40859...</td>\n",
       "      <td>1.00</td>\n",
       "      <td>28,360,466,965,013,677,414,172,494,359,945,146,...</td>\n",
       "      <td>1720561057</td>\n",
       "      <td>1721165912</td>\n",
       "      <td>cypherpunk.box</td>\n",
       "    </tr>\n",
       "    <tr>\n",
       "      <th>708</th>\n",
       "      <td>0x49729029191017c544a3f67f03968dd12bf16c69e1dd...</td>\n",
       "      <td>0x49729029191017c544a3f67f03968dd12bf16c69e1dd...</td>\n",
       "      <td>33.00</td>\n",
       "      <td>106,968,891,900,401,057,912,681,673,593,283,028...</td>\n",
       "      <td>1720562975</td>\n",
       "      <td>1736460564</td>\n",
       "      <td>blum.box</td>\n",
       "    </tr>\n",
       "    <tr>\n",
       "      <th>709</th>\n",
       "      <td>0x20707ea7356cbee5f71943f71c95e15c23ac05b7bf58...</td>\n",
       "      <td>0x20707ea7356cbee5f71943f71c95e15c23ac05b7bf58...</td>\n",
       "      <td>0.77</td>\n",
       "      <td>49,351,328,605,120,670,449,409,649,496,819,358,...</td>\n",
       "      <td>1720647759</td>\n",
       "      <td>1721252536</td>\n",
       "      <td>onchainbot.ai</td>\n",
       "    </tr>\n",
       "    <tr>\n",
       "      <th>710</th>\n",
       "      <td>0xc2c81d45617f524e0b38a8828484e8fc14129d65ecff...</td>\n",
       "      <td>0xc2c81d45617f524e0b38a8828484e8fc14129d65ecff...</td>\n",
       "      <td>50.00</td>\n",
       "      <td>93,250,200,132,115,581,735,009,190,879,184,742,...</td>\n",
       "      <td>1720647918</td>\n",
       "      <td>1723326318</td>\n",
       "      <td>pharmacy.box</td>\n",
       "    </tr>\n",
       "    <tr>\n",
       "      <th>711</th>\n",
       "      <td>0x46f734ffea0b7f6054b72927c9df96e6692045e8fe39...</td>\n",
       "      <td>0x46f734ffea0b7f6054b72927c9df96e6692045e8fe39...</td>\n",
       "      <td>50.00</td>\n",
       "      <td>105,524,492,317,869,381,078,152,749,075,908,174...</td>\n",
       "      <td>1720648237</td>\n",
       "      <td>1723326637</td>\n",
       "      <td>university.box</td>\n",
       "    </tr>\n",
       "  </tbody>\n",
       "</table>\n",
       "<p>712 rows × 7 columns</p>\n",
       "</div>"
      ],
      "text/plain": [
       "                                            order_hash  \\\n",
       "0    0x902ff72f57b579d6a2fac92a0714ca5274172ccdeb51...   \n",
       "1    0x472882ed6ef6df3e646a968fe399a794cb2d80783c0d...   \n",
       "2    0x3040ad3f37193e684cb2baa0811d21cd345108df5a2a...   \n",
       "3    0xb62518c46df32c07046a53f3df61112cc4460bc648ac...   \n",
       "4    0xe4c2e069a35f4b943e449d8e510f952ff3cb2fc133d3...   \n",
       "..                                                 ...   \n",
       "707  0xaedefdd5ee2c58433e4135132b5b8454653725d40859...   \n",
       "708  0x49729029191017c544a3f67f03968dd12bf16c69e1dd...   \n",
       "709  0x20707ea7356cbee5f71943f71c95e15c23ac05b7bf58...   \n",
       "710  0xc2c81d45617f524e0b38a8828484e8fc14129d65ecff...   \n",
       "711  0x46f734ffea0b7f6054b72927c9df96e6692045e8fe39...   \n",
       "\n",
       "                                            order_hash  price_in_eth  \\\n",
       "0    0x902ff72f57b579d6a2fac92a0714ca5274172ccdeb51...          5.00   \n",
       "1    0x472882ed6ef6df3e646a968fe399a794cb2d80783c0d...          8.00   \n",
       "2    0x3040ad3f37193e684cb2baa0811d21cd345108df5a2a...          3.00   \n",
       "3    0xb62518c46df32c07046a53f3df61112cc4460bc648ac...          3.00   \n",
       "4    0xe4c2e069a35f4b943e449d8e510f952ff3cb2fc133d3...          8.00   \n",
       "..                                                 ...           ...   \n",
       "707  0xaedefdd5ee2c58433e4135132b5b8454653725d40859...          1.00   \n",
       "708  0x49729029191017c544a3f67f03968dd12bf16c69e1dd...         33.00   \n",
       "709  0x20707ea7356cbee5f71943f71c95e15c23ac05b7bf58...          0.77   \n",
       "710  0xc2c81d45617f524e0b38a8828484e8fc14129d65ecff...         50.00   \n",
       "711  0x46f734ffea0b7f6054b72927c9df96e6692045e8fe39...         50.00   \n",
       "\n",
       "                                               tokenid  start_time  \\\n",
       "0   24,976,820,562,208,875,018,004,955,422,466,815,...  1705460459   \n",
       "1   103,348,240,472,784,936,049,086,084,648,101,639...  1705973310   \n",
       "2   102,295,845,026,135,496,883,892,522,779,159,999...  1706042993   \n",
       "3   75,270,179,101,124,303,647,088,469,843,731,665,...  1706043120   \n",
       "4   15,351,911,394,148,160,117,736,899,619,150,406,...  1706069852   \n",
       "..                                                 ...         ...   \n",
       "707 28,360,466,965,013,677,414,172,494,359,945,146,...  1720561057   \n",
       "708 106,968,891,900,401,057,912,681,673,593,283,028...  1720562975   \n",
       "709 49,351,328,605,120,670,449,409,649,496,819,358,...  1720647759   \n",
       "710 93,250,200,132,115,581,735,009,190,879,184,742,...  1720647918   \n",
       "711 105,524,492,317,869,381,078,152,749,075,908,174...  1720648237   \n",
       "\n",
       "       end_time            name  \n",
       "0    1721181652    eth.attorney  \n",
       "1    1721694506        open.box  \n",
       "2    1721767789     jewelry.box  \n",
       "3    1721767916         gay.box  \n",
       "4    1721791047       power.box  \n",
       "..          ...             ...  \n",
       "707  1721165912  cypherpunk.box  \n",
       "708  1736460564        blum.box  \n",
       "709  1721252536   onchainbot.ai  \n",
       "710  1723326318    pharmacy.box  \n",
       "711  1723326637  university.box  \n",
       "\n",
       "[712 rows x 7 columns]"
      ]
     },
     "execution_count": 24,
     "metadata": {},
     "output_type": "execute_result"
    }
   ],
   "source": [
    "listings_with_names = listings_df.merge(descriptions_df, how='left', on='tokenid')\n",
    "listings_with_names"
   ]
  },
  {
   "cell_type": "code",
   "execution_count": 25,
   "metadata": {},
   "outputs": [
    {
     "data": {
      "text/html": [
       "<div>\n",
       "<style scoped>\n",
       "    .dataframe tbody tr th:only-of-type {\n",
       "        vertical-align: middle;\n",
       "    }\n",
       "\n",
       "    .dataframe tbody tr th {\n",
       "        vertical-align: top;\n",
       "    }\n",
       "\n",
       "    .dataframe thead th {\n",
       "        text-align: right;\n",
       "    }\n",
       "</style>\n",
       "<table border=\"1\" class=\"dataframe\">\n",
       "  <thead>\n",
       "    <tr style=\"text-align: right;\">\n",
       "      <th></th>\n",
       "      <th>order_hash</th>\n",
       "      <th>order_hash</th>\n",
       "      <th>price_in_eth</th>\n",
       "      <th>tokenid</th>\n",
       "      <th>start_time</th>\n",
       "      <th>end_time</th>\n",
       "      <th>name</th>\n",
       "    </tr>\n",
       "  </thead>\n",
       "  <tbody>\n",
       "    <tr>\n",
       "      <th>1</th>\n",
       "      <td>0x472882ed6ef6df3e646a968fe399a794cb2d80783c0d...</td>\n",
       "      <td>0x472882ed6ef6df3e646a968fe399a794cb2d80783c0d...</td>\n",
       "      <td>8.00</td>\n",
       "      <td>103,348,240,472,784,936,049,086,084,648,101,639...</td>\n",
       "      <td>1705973310</td>\n",
       "      <td>1721694506</td>\n",
       "      <td>open.box</td>\n",
       "    </tr>\n",
       "    <tr>\n",
       "      <th>2</th>\n",
       "      <td>0x3040ad3f37193e684cb2baa0811d21cd345108df5a2a...</td>\n",
       "      <td>0x3040ad3f37193e684cb2baa0811d21cd345108df5a2a...</td>\n",
       "      <td>3.00</td>\n",
       "      <td>102,295,845,026,135,496,883,892,522,779,159,999...</td>\n",
       "      <td>1706042993</td>\n",
       "      <td>1721767789</td>\n",
       "      <td>jewelry.box</td>\n",
       "    </tr>\n",
       "    <tr>\n",
       "      <th>3</th>\n",
       "      <td>0xb62518c46df32c07046a53f3df61112cc4460bc648ac...</td>\n",
       "      <td>0xb62518c46df32c07046a53f3df61112cc4460bc648ac...</td>\n",
       "      <td>3.00</td>\n",
       "      <td>75,270,179,101,124,303,647,088,469,843,731,665,...</td>\n",
       "      <td>1706043120</td>\n",
       "      <td>1721767916</td>\n",
       "      <td>gay.box</td>\n",
       "    </tr>\n",
       "    <tr>\n",
       "      <th>4</th>\n",
       "      <td>0xe4c2e069a35f4b943e449d8e510f952ff3cb2fc133d3...</td>\n",
       "      <td>0xe4c2e069a35f4b943e449d8e510f952ff3cb2fc133d3...</td>\n",
       "      <td>8.00</td>\n",
       "      <td>15,351,911,394,148,160,117,736,899,619,150,406,...</td>\n",
       "      <td>1706069852</td>\n",
       "      <td>1721791047</td>\n",
       "      <td>power.box</td>\n",
       "    </tr>\n",
       "    <tr>\n",
       "      <th>5</th>\n",
       "      <td>0x8bc67ab0f6355d8c78a317dee43dd93aad665ffa66d0...</td>\n",
       "      <td>0x8bc67ab0f6355d8c78a317dee43dd93aad665ffa66d0...</td>\n",
       "      <td>69.00</td>\n",
       "      <td>92,045,738,473,223,622,079,151,157,139,670,821,...</td>\n",
       "      <td>1706083009</td>\n",
       "      <td>1721804202</td>\n",
       "      <td>dan.box</td>\n",
       "    </tr>\n",
       "    <tr>\n",
       "      <th>...</th>\n",
       "      <td>...</td>\n",
       "      <td>...</td>\n",
       "      <td>...</td>\n",
       "      <td>...</td>\n",
       "      <td>...</td>\n",
       "      <td>...</td>\n",
       "      <td>...</td>\n",
       "    </tr>\n",
       "    <tr>\n",
       "      <th>706</th>\n",
       "      <td>0x3682a15b341d33dd93f859a3029596e346769720a6ea...</td>\n",
       "      <td>0x3682a15b341d33dd93f859a3029596e346769720a6ea...</td>\n",
       "      <td>1.69</td>\n",
       "      <td>27,770,965,087,809,130,203,304,471,643,289,691,...</td>\n",
       "      <td>1720527777</td>\n",
       "      <td>1720786974</td>\n",
       "      <td>ia.box</td>\n",
       "    </tr>\n",
       "    <tr>\n",
       "      <th>707</th>\n",
       "      <td>0xaedefdd5ee2c58433e4135132b5b8454653725d40859...</td>\n",
       "      <td>0xaedefdd5ee2c58433e4135132b5b8454653725d40859...</td>\n",
       "      <td>1.00</td>\n",
       "      <td>28,360,466,965,013,677,414,172,494,359,945,146,...</td>\n",
       "      <td>1720561057</td>\n",
       "      <td>1721165912</td>\n",
       "      <td>cypherpunk.box</td>\n",
       "    </tr>\n",
       "    <tr>\n",
       "      <th>708</th>\n",
       "      <td>0x49729029191017c544a3f67f03968dd12bf16c69e1dd...</td>\n",
       "      <td>0x49729029191017c544a3f67f03968dd12bf16c69e1dd...</td>\n",
       "      <td>33.00</td>\n",
       "      <td>106,968,891,900,401,057,912,681,673,593,283,028...</td>\n",
       "      <td>1720562975</td>\n",
       "      <td>1736460564</td>\n",
       "      <td>blum.box</td>\n",
       "    </tr>\n",
       "    <tr>\n",
       "      <th>710</th>\n",
       "      <td>0xc2c81d45617f524e0b38a8828484e8fc14129d65ecff...</td>\n",
       "      <td>0xc2c81d45617f524e0b38a8828484e8fc14129d65ecff...</td>\n",
       "      <td>50.00</td>\n",
       "      <td>93,250,200,132,115,581,735,009,190,879,184,742,...</td>\n",
       "      <td>1720647918</td>\n",
       "      <td>1723326318</td>\n",
       "      <td>pharmacy.box</td>\n",
       "    </tr>\n",
       "    <tr>\n",
       "      <th>711</th>\n",
       "      <td>0x46f734ffea0b7f6054b72927c9df96e6692045e8fe39...</td>\n",
       "      <td>0x46f734ffea0b7f6054b72927c9df96e6692045e8fe39...</td>\n",
       "      <td>50.00</td>\n",
       "      <td>105,524,492,317,869,381,078,152,749,075,908,174...</td>\n",
       "      <td>1720648237</td>\n",
       "      <td>1723326637</td>\n",
       "      <td>university.box</td>\n",
       "    </tr>\n",
       "  </tbody>\n",
       "</table>\n",
       "<p>531 rows × 7 columns</p>\n",
       "</div>"
      ],
      "text/plain": [
       "                                            order_hash  \\\n",
       "1    0x472882ed6ef6df3e646a968fe399a794cb2d80783c0d...   \n",
       "2    0x3040ad3f37193e684cb2baa0811d21cd345108df5a2a...   \n",
       "3    0xb62518c46df32c07046a53f3df61112cc4460bc648ac...   \n",
       "4    0xe4c2e069a35f4b943e449d8e510f952ff3cb2fc133d3...   \n",
       "5    0x8bc67ab0f6355d8c78a317dee43dd93aad665ffa66d0...   \n",
       "..                                                 ...   \n",
       "706  0x3682a15b341d33dd93f859a3029596e346769720a6ea...   \n",
       "707  0xaedefdd5ee2c58433e4135132b5b8454653725d40859...   \n",
       "708  0x49729029191017c544a3f67f03968dd12bf16c69e1dd...   \n",
       "710  0xc2c81d45617f524e0b38a8828484e8fc14129d65ecff...   \n",
       "711  0x46f734ffea0b7f6054b72927c9df96e6692045e8fe39...   \n",
       "\n",
       "                                            order_hash  price_in_eth  \\\n",
       "1    0x472882ed6ef6df3e646a968fe399a794cb2d80783c0d...          8.00   \n",
       "2    0x3040ad3f37193e684cb2baa0811d21cd345108df5a2a...          3.00   \n",
       "3    0xb62518c46df32c07046a53f3df61112cc4460bc648ac...          3.00   \n",
       "4    0xe4c2e069a35f4b943e449d8e510f952ff3cb2fc133d3...          8.00   \n",
       "5    0x8bc67ab0f6355d8c78a317dee43dd93aad665ffa66d0...         69.00   \n",
       "..                                                 ...           ...   \n",
       "706  0x3682a15b341d33dd93f859a3029596e346769720a6ea...          1.69   \n",
       "707  0xaedefdd5ee2c58433e4135132b5b8454653725d40859...          1.00   \n",
       "708  0x49729029191017c544a3f67f03968dd12bf16c69e1dd...         33.00   \n",
       "710  0xc2c81d45617f524e0b38a8828484e8fc14129d65ecff...         50.00   \n",
       "711  0x46f734ffea0b7f6054b72927c9df96e6692045e8fe39...         50.00   \n",
       "\n",
       "                                               tokenid  start_time  \\\n",
       "1   103,348,240,472,784,936,049,086,084,648,101,639...  1705973310   \n",
       "2   102,295,845,026,135,496,883,892,522,779,159,999...  1706042993   \n",
       "3   75,270,179,101,124,303,647,088,469,843,731,665,...  1706043120   \n",
       "4   15,351,911,394,148,160,117,736,899,619,150,406,...  1706069852   \n",
       "5   92,045,738,473,223,622,079,151,157,139,670,821,...  1706083009   \n",
       "..                                                 ...         ...   \n",
       "706 27,770,965,087,809,130,203,304,471,643,289,691,...  1720527777   \n",
       "707 28,360,466,965,013,677,414,172,494,359,945,146,...  1720561057   \n",
       "708 106,968,891,900,401,057,912,681,673,593,283,028...  1720562975   \n",
       "710 93,250,200,132,115,581,735,009,190,879,184,742,...  1720647918   \n",
       "711 105,524,492,317,869,381,078,152,749,075,908,174...  1720648237   \n",
       "\n",
       "       end_time            name  \n",
       "1    1721694506        open.box  \n",
       "2    1721767789     jewelry.box  \n",
       "3    1721767916         gay.box  \n",
       "4    1721791047       power.box  \n",
       "5    1721804202         dan.box  \n",
       "..          ...             ...  \n",
       "706  1720786974          ia.box  \n",
       "707  1721165912  cypherpunk.box  \n",
       "708  1736460564        blum.box  \n",
       "710  1723326318    pharmacy.box  \n",
       "711  1723326637  university.box  \n",
       "\n",
       "[531 rows x 7 columns]"
      ]
     },
     "execution_count": 25,
     "metadata": {},
     "output_type": "execute_result"
    }
   ],
   "source": [
    "box_listings = listings_with_names[listings_with_names['name'].str.endswith('.box')]\n",
    "box_listings"
   ]
  },
  {
   "cell_type": "code",
   "execution_count": 26,
   "metadata": {},
   "outputs": [
    {
     "data": {
      "text/html": [
       "<div>\n",
       "<style scoped>\n",
       "    .dataframe tbody tr th:only-of-type {\n",
       "        vertical-align: middle;\n",
       "    }\n",
       "\n",
       "    .dataframe tbody tr th {\n",
       "        vertical-align: top;\n",
       "    }\n",
       "\n",
       "    .dataframe thead th {\n",
       "        text-align: right;\n",
       "    }\n",
       "</style>\n",
       "<table border=\"1\" class=\"dataframe\">\n",
       "  <thead>\n",
       "    <tr style=\"text-align: right;\">\n",
       "      <th></th>\n",
       "      <th>event_type</th>\n",
       "      <th>order_hash</th>\n",
       "      <th>order_type</th>\n",
       "      <th>chain</th>\n",
       "      <th>protocol_address</th>\n",
       "      <th>start_date</th>\n",
       "      <th>expiration_date</th>\n",
       "      <th>asset</th>\n",
       "      <th>quantity</th>\n",
       "      <th>maker</th>\n",
       "      <th>taker</th>\n",
       "      <th>payment</th>\n",
       "      <th>criteria</th>\n",
       "      <th>event_timestamp</th>\n",
       "      <th>is_private_listing</th>\n",
       "      <th>closing_date</th>\n",
       "      <th>nft</th>\n",
       "      <th>seller</th>\n",
       "      <th>buyer</th>\n",
       "      <th>transaction</th>\n",
       "    </tr>\n",
       "  </thead>\n",
       "  <tbody>\n",
       "    <tr>\n",
       "      <th>0</th>\n",
       "      <td>order</td>\n",
       "      <td>0x46f734ffea0b7f6054b72927c9df96e6692045e8fe39...</td>\n",
       "      <td>listing</td>\n",
       "      <td>optimism</td>\n",
       "      <td>0x0000000000000068f116a894984e2db1123eb395</td>\n",
       "      <td>1,720,648,237.00</td>\n",
       "      <td>1,723,326,637.00</td>\n",
       "      <td>{'identifier': '105524492317869377796516137615...</td>\n",
       "      <td>1</td>\n",
       "      <td>0x1ec410d35b81369d5c0d8fcadb340fdecce5c250</td>\n",
       "      <td></td>\n",
       "      <td>{'quantity': '50000000000000000000', 'token_ad...</td>\n",
       "      <td>{}</td>\n",
       "      <td>1720648284</td>\n",
       "      <td>0.00</td>\n",
       "      <td>NaN</td>\n",
       "      <td>None</td>\n",
       "      <td>None</td>\n",
       "      <td>None</td>\n",
       "      <td>None</td>\n",
       "    </tr>\n",
       "    <tr>\n",
       "      <th>1</th>\n",
       "      <td>order</td>\n",
       "      <td>0xc2c81d45617f524e0b38a8828484e8fc14129d65ecff...</td>\n",
       "      <td>listing</td>\n",
       "      <td>optimism</td>\n",
       "      <td>0x0000000000000068f116a894984e2db1123eb395</td>\n",
       "      <td>1,720,647,918.00</td>\n",
       "      <td>1,723,326,318.00</td>\n",
       "      <td>{'identifier': '932502001321155872797741020477...</td>\n",
       "      <td>1</td>\n",
       "      <td>0x1ec410d35b81369d5c0d8fcadb340fdecce5c250</td>\n",
       "      <td></td>\n",
       "      <td>{'quantity': '50000000000000000000', 'token_ad...</td>\n",
       "      <td>{}</td>\n",
       "      <td>1720648171</td>\n",
       "      <td>0.00</td>\n",
       "      <td>NaN</td>\n",
       "      <td>None</td>\n",
       "      <td>None</td>\n",
       "      <td>None</td>\n",
       "      <td>None</td>\n",
       "    </tr>\n",
       "    <tr>\n",
       "      <th>2</th>\n",
       "      <td>order</td>\n",
       "      <td>0x20707ea7356cbee5f71943f71c95e15c23ac05b7bf58...</td>\n",
       "      <td>listing</td>\n",
       "      <td>optimism</td>\n",
       "      <td>0x0000000000000068f116a894984e2db1123eb395</td>\n",
       "      <td>1,720,647,759.00</td>\n",
       "      <td>1,721,252,536.00</td>\n",
       "      <td>{'identifier': '493513286051206672797082654485...</td>\n",
       "      <td>1</td>\n",
       "      <td>0x0d3f5a7a1ee78e743e25c18e66942fcbcd84ccad</td>\n",
       "      <td></td>\n",
       "      <td>{'quantity': '770000000000000000', 'token_addr...</td>\n",
       "      <td>{}</td>\n",
       "      <td>1720648122</td>\n",
       "      <td>0.00</td>\n",
       "      <td>NaN</td>\n",
       "      <td>None</td>\n",
       "      <td>None</td>\n",
       "      <td>None</td>\n",
       "      <td>None</td>\n",
       "    </tr>\n",
       "    <tr>\n",
       "      <th>3</th>\n",
       "      <td>order</td>\n",
       "      <td>0x49729029191017c544a3f67f03968dd12bf16c69e1dd...</td>\n",
       "      <td>listing</td>\n",
       "      <td>optimism</td>\n",
       "      <td>0x0000000000000068f116a894984e2db1123eb395</td>\n",
       "      <td>1,720,562,975.00</td>\n",
       "      <td>1,736,460,564.00</td>\n",
       "      <td>{'identifier': '106968891900401063741132344938...</td>\n",
       "      <td>1</td>\n",
       "      <td>0x386ae4d6db89e0bbd41ef8cba13460edcf867420</td>\n",
       "      <td></td>\n",
       "      <td>{'quantity': '33000000000000000000', 'token_ad...</td>\n",
       "      <td>{}</td>\n",
       "      <td>1720563049</td>\n",
       "      <td>0.00</td>\n",
       "      <td>NaN</td>\n",
       "      <td>None</td>\n",
       "      <td>None</td>\n",
       "      <td>None</td>\n",
       "      <td>None</td>\n",
       "    </tr>\n",
       "    <tr>\n",
       "      <th>4</th>\n",
       "      <td>order</td>\n",
       "      <td>0xaedefdd5ee2c58433e4135132b5b8454653725d40859...</td>\n",
       "      <td>listing</td>\n",
       "      <td>optimism</td>\n",
       "      <td>0x0000000000000068f116a894984e2db1123eb395</td>\n",
       "      <td>1,720,561,057.00</td>\n",
       "      <td>1,721,165,912.00</td>\n",
       "      <td>{'identifier': '283604669650136775214415072033...</td>\n",
       "      <td>1</td>\n",
       "      <td>0x9a93ae4f408a1e7d178650ca9f7ab2135c512eda</td>\n",
       "      <td></td>\n",
       "      <td>{'quantity': '1000000000000000000', 'token_add...</td>\n",
       "      <td>{}</td>\n",
       "      <td>1720561062</td>\n",
       "      <td>0.00</td>\n",
       "      <td>NaN</td>\n",
       "      <td>None</td>\n",
       "      <td>None</td>\n",
       "      <td>None</td>\n",
       "      <td>None</td>\n",
       "    </tr>\n",
       "    <tr>\n",
       "      <th>...</th>\n",
       "      <td>...</td>\n",
       "      <td>...</td>\n",
       "      <td>...</td>\n",
       "      <td>...</td>\n",
       "      <td>...</td>\n",
       "      <td>...</td>\n",
       "      <td>...</td>\n",
       "      <td>...</td>\n",
       "      <td>...</td>\n",
       "      <td>...</td>\n",
       "      <td>...</td>\n",
       "      <td>...</td>\n",
       "      <td>...</td>\n",
       "      <td>...</td>\n",
       "      <td>...</td>\n",
       "      <td>...</td>\n",
       "      <td>...</td>\n",
       "      <td>...</td>\n",
       "      <td>...</td>\n",
       "      <td>...</td>\n",
       "    </tr>\n",
       "    <tr>\n",
       "      <th>2996</th>\n",
       "      <td>sale</td>\n",
       "      <td>0x8bde44f2d46537cf8d025cc498eaf7bdeadce3631f15...</td>\n",
       "      <td>None</td>\n",
       "      <td>optimism</td>\n",
       "      <td>0x00000000000000adc04c56bf30ac9d3c0aaf14dc</td>\n",
       "      <td>NaN</td>\n",
       "      <td>NaN</td>\n",
       "      <td>None</td>\n",
       "      <td>1</td>\n",
       "      <td>None</td>\n",
       "      <td>None</td>\n",
       "      <td>{'quantity': '1000000000000000', 'token_addres...</td>\n",
       "      <td>None</td>\n",
       "      <td>1706970257</td>\n",
       "      <td>NaN</td>\n",
       "      <td>1,706,970,257.00</td>\n",
       "      <td>{'identifier': '260923785748676206958654735781...</td>\n",
       "      <td>0xcc0e0b9ebd4ce352f5a50b3ae77ea01202c284ee</td>\n",
       "      <td>0xc48a8ac51df7b71e500a5580b89e47ab26ca1472</td>\n",
       "      <td>0x60e952a8e0fa8d052791b2e4a22fd52eb3c759511e62...</td>\n",
       "    </tr>\n",
       "    <tr>\n",
       "      <th>2997</th>\n",
       "      <td>sale</td>\n",
       "      <td>0xc0547b5b8d575e3ba16b529ee2530a35c437bc75fa93...</td>\n",
       "      <td>None</td>\n",
       "      <td>optimism</td>\n",
       "      <td>0x00000000000000adc04c56bf30ac9d3c0aaf14dc</td>\n",
       "      <td>NaN</td>\n",
       "      <td>NaN</td>\n",
       "      <td>None</td>\n",
       "      <td>1</td>\n",
       "      <td>None</td>\n",
       "      <td>None</td>\n",
       "      <td>{'quantity': '110000000000000000', 'token_addr...</td>\n",
       "      <td>None</td>\n",
       "      <td>1706653465</td>\n",
       "      <td>NaN</td>\n",
       "      <td>1,706,653,465.00</td>\n",
       "      <td>{'identifier': '566479911085778512201556021651...</td>\n",
       "      <td>0x240ad467a71210629d71d4de22ebde27951c83fc</td>\n",
       "      <td>0x82eb45562f991329ed2867f43fc60f0ba52c3dab</td>\n",
       "      <td>0x6672189deb7829838aabba20ddeb66a3cb5fee5b55a2...</td>\n",
       "    </tr>\n",
       "    <tr>\n",
       "      <th>2998</th>\n",
       "      <td>sale</td>\n",
       "      <td>0xff4b9bdd3f140f8211864ef34e0a07ea0a92eaf98f7d...</td>\n",
       "      <td>None</td>\n",
       "      <td>optimism</td>\n",
       "      <td>0x00000000000000adc04c56bf30ac9d3c0aaf14dc</td>\n",
       "      <td>NaN</td>\n",
       "      <td>NaN</td>\n",
       "      <td>None</td>\n",
       "      <td>1</td>\n",
       "      <td>None</td>\n",
       "      <td>None</td>\n",
       "      <td>{'quantity': '10000000000000000', 'token_addre...</td>\n",
       "      <td>None</td>\n",
       "      <td>1706203283</td>\n",
       "      <td>NaN</td>\n",
       "      <td>1,706,203,283.00</td>\n",
       "      <td>{'identifier': '364706086468987072255605061503...</td>\n",
       "      <td>0x7b363822d744143d51c69b0757165c987a6e4ef4</td>\n",
       "      <td>0xe68e8cc7ff772b026c062b9cc28246676d044947</td>\n",
       "      <td>0xd8e71f4d52c43fa770b9aa7ad7d5cfb073f04c7495e0...</td>\n",
       "    </tr>\n",
       "    <tr>\n",
       "      <th>2999</th>\n",
       "      <td>sale</td>\n",
       "      <td>0x03188e15aaf9596307117e30355f6b2ac79665fbd1c2...</td>\n",
       "      <td>None</td>\n",
       "      <td>optimism</td>\n",
       "      <td>0x00000000000000adc04c56bf30ac9d3c0aaf14dc</td>\n",
       "      <td>NaN</td>\n",
       "      <td>NaN</td>\n",
       "      <td>None</td>\n",
       "      <td>1</td>\n",
       "      <td>None</td>\n",
       "      <td>None</td>\n",
       "      <td>{'quantity': '150000000000000000', 'token_addr...</td>\n",
       "      <td>None</td>\n",
       "      <td>1704080589</td>\n",
       "      <td>NaN</td>\n",
       "      <td>1,704,080,589.00</td>\n",
       "      <td>{'identifier': '992340878683635895851755157396...</td>\n",
       "      <td>0x31b32020fb1bdf0228c58b80590f07b235f2b0ce</td>\n",
       "      <td>0x64233eaa064ef0d54ff1a963933d0d2d46ab5829</td>\n",
       "      <td>0x186d1ceacf620bab710d11cf928b79e5dd46790ff1d5...</td>\n",
       "    </tr>\n",
       "    <tr>\n",
       "      <th>3000</th>\n",
       "      <td>sale</td>\n",
       "      <td>0x3cd7cfda4dd935529af2c4f882476b40cc37340ae2a6...</td>\n",
       "      <td>None</td>\n",
       "      <td>optimism</td>\n",
       "      <td>0x00000000000000adc04c56bf30ac9d3c0aaf14dc</td>\n",
       "      <td>NaN</td>\n",
       "      <td>NaN</td>\n",
       "      <td>None</td>\n",
       "      <td>1</td>\n",
       "      <td>None</td>\n",
       "      <td>None</td>\n",
       "      <td>{'quantity': '22000000000000000', 'token_addre...</td>\n",
       "      <td>None</td>\n",
       "      <td>1703624873</td>\n",
       "      <td>NaN</td>\n",
       "      <td>1,703,624,873.00</td>\n",
       "      <td>{'identifier': '686186082504474765846111255346...</td>\n",
       "      <td>0xff3d39f7766ebb57a4175b6d919937409f6d6fee</td>\n",
       "      <td>0x46f09888867c8cd9042b943099663e856e43de46</td>\n",
       "      <td>0x1c7ed62756b60a73470fa39ea6546510ad426e261d14...</td>\n",
       "    </tr>\n",
       "  </tbody>\n",
       "</table>\n",
       "<p>3001 rows × 20 columns</p>\n",
       "</div>"
      ],
      "text/plain": [
       "     event_type                                         order_hash order_type  \\\n",
       "0         order  0x46f734ffea0b7f6054b72927c9df96e6692045e8fe39...    listing   \n",
       "1         order  0xc2c81d45617f524e0b38a8828484e8fc14129d65ecff...    listing   \n",
       "2         order  0x20707ea7356cbee5f71943f71c95e15c23ac05b7bf58...    listing   \n",
       "3         order  0x49729029191017c544a3f67f03968dd12bf16c69e1dd...    listing   \n",
       "4         order  0xaedefdd5ee2c58433e4135132b5b8454653725d40859...    listing   \n",
       "...         ...                                                ...        ...   \n",
       "2996       sale  0x8bde44f2d46537cf8d025cc498eaf7bdeadce3631f15...       None   \n",
       "2997       sale  0xc0547b5b8d575e3ba16b529ee2530a35c437bc75fa93...       None   \n",
       "2998       sale  0xff4b9bdd3f140f8211864ef34e0a07ea0a92eaf98f7d...       None   \n",
       "2999       sale  0x03188e15aaf9596307117e30355f6b2ac79665fbd1c2...       None   \n",
       "3000       sale  0x3cd7cfda4dd935529af2c4f882476b40cc37340ae2a6...       None   \n",
       "\n",
       "         chain                            protocol_address       start_date  \\\n",
       "0     optimism  0x0000000000000068f116a894984e2db1123eb395 1,720,648,237.00   \n",
       "1     optimism  0x0000000000000068f116a894984e2db1123eb395 1,720,647,918.00   \n",
       "2     optimism  0x0000000000000068f116a894984e2db1123eb395 1,720,647,759.00   \n",
       "3     optimism  0x0000000000000068f116a894984e2db1123eb395 1,720,562,975.00   \n",
       "4     optimism  0x0000000000000068f116a894984e2db1123eb395 1,720,561,057.00   \n",
       "...        ...                                         ...              ...   \n",
       "2996  optimism  0x00000000000000adc04c56bf30ac9d3c0aaf14dc              NaN   \n",
       "2997  optimism  0x00000000000000adc04c56bf30ac9d3c0aaf14dc              NaN   \n",
       "2998  optimism  0x00000000000000adc04c56bf30ac9d3c0aaf14dc              NaN   \n",
       "2999  optimism  0x00000000000000adc04c56bf30ac9d3c0aaf14dc              NaN   \n",
       "3000  optimism  0x00000000000000adc04c56bf30ac9d3c0aaf14dc              NaN   \n",
       "\n",
       "      expiration_date                                              asset  \\\n",
       "0    1,723,326,637.00  {'identifier': '105524492317869377796516137615...   \n",
       "1    1,723,326,318.00  {'identifier': '932502001321155872797741020477...   \n",
       "2    1,721,252,536.00  {'identifier': '493513286051206672797082654485...   \n",
       "3    1,736,460,564.00  {'identifier': '106968891900401063741132344938...   \n",
       "4    1,721,165,912.00  {'identifier': '283604669650136775214415072033...   \n",
       "...               ...                                                ...   \n",
       "2996              NaN                                               None   \n",
       "2997              NaN                                               None   \n",
       "2998              NaN                                               None   \n",
       "2999              NaN                                               None   \n",
       "3000              NaN                                               None   \n",
       "\n",
       "      quantity                                       maker taker  \\\n",
       "0            1  0x1ec410d35b81369d5c0d8fcadb340fdecce5c250         \n",
       "1            1  0x1ec410d35b81369d5c0d8fcadb340fdecce5c250         \n",
       "2            1  0x0d3f5a7a1ee78e743e25c18e66942fcbcd84ccad         \n",
       "3            1  0x386ae4d6db89e0bbd41ef8cba13460edcf867420         \n",
       "4            1  0x9a93ae4f408a1e7d178650ca9f7ab2135c512eda         \n",
       "...        ...                                         ...   ...   \n",
       "2996         1                                        None  None   \n",
       "2997         1                                        None  None   \n",
       "2998         1                                        None  None   \n",
       "2999         1                                        None  None   \n",
       "3000         1                                        None  None   \n",
       "\n",
       "                                                payment criteria  \\\n",
       "0     {'quantity': '50000000000000000000', 'token_ad...       {}   \n",
       "1     {'quantity': '50000000000000000000', 'token_ad...       {}   \n",
       "2     {'quantity': '770000000000000000', 'token_addr...       {}   \n",
       "3     {'quantity': '33000000000000000000', 'token_ad...       {}   \n",
       "4     {'quantity': '1000000000000000000', 'token_add...       {}   \n",
       "...                                                 ...      ...   \n",
       "2996  {'quantity': '1000000000000000', 'token_addres...     None   \n",
       "2997  {'quantity': '110000000000000000', 'token_addr...     None   \n",
       "2998  {'quantity': '10000000000000000', 'token_addre...     None   \n",
       "2999  {'quantity': '150000000000000000', 'token_addr...     None   \n",
       "3000  {'quantity': '22000000000000000', 'token_addre...     None   \n",
       "\n",
       "      event_timestamp  is_private_listing     closing_date  \\\n",
       "0          1720648284                0.00              NaN   \n",
       "1          1720648171                0.00              NaN   \n",
       "2          1720648122                0.00              NaN   \n",
       "3          1720563049                0.00              NaN   \n",
       "4          1720561062                0.00              NaN   \n",
       "...               ...                 ...              ...   \n",
       "2996       1706970257                 NaN 1,706,970,257.00   \n",
       "2997       1706653465                 NaN 1,706,653,465.00   \n",
       "2998       1706203283                 NaN 1,706,203,283.00   \n",
       "2999       1704080589                 NaN 1,704,080,589.00   \n",
       "3000       1703624873                 NaN 1,703,624,873.00   \n",
       "\n",
       "                                                    nft  \\\n",
       "0                                                  None   \n",
       "1                                                  None   \n",
       "2                                                  None   \n",
       "3                                                  None   \n",
       "4                                                  None   \n",
       "...                                                 ...   \n",
       "2996  {'identifier': '260923785748676206958654735781...   \n",
       "2997  {'identifier': '566479911085778512201556021651...   \n",
       "2998  {'identifier': '364706086468987072255605061503...   \n",
       "2999  {'identifier': '992340878683635895851755157396...   \n",
       "3000  {'identifier': '686186082504474765846111255346...   \n",
       "\n",
       "                                          seller  \\\n",
       "0                                           None   \n",
       "1                                           None   \n",
       "2                                           None   \n",
       "3                                           None   \n",
       "4                                           None   \n",
       "...                                          ...   \n",
       "2996  0xcc0e0b9ebd4ce352f5a50b3ae77ea01202c284ee   \n",
       "2997  0x240ad467a71210629d71d4de22ebde27951c83fc   \n",
       "2998  0x7b363822d744143d51c69b0757165c987a6e4ef4   \n",
       "2999  0x31b32020fb1bdf0228c58b80590f07b235f2b0ce   \n",
       "3000  0xff3d39f7766ebb57a4175b6d919937409f6d6fee   \n",
       "\n",
       "                                           buyer  \\\n",
       "0                                           None   \n",
       "1                                           None   \n",
       "2                                           None   \n",
       "3                                           None   \n",
       "4                                           None   \n",
       "...                                          ...   \n",
       "2996  0xc48a8ac51df7b71e500a5580b89e47ab26ca1472   \n",
       "2997  0x82eb45562f991329ed2867f43fc60f0ba52c3dab   \n",
       "2998  0xe68e8cc7ff772b026c062b9cc28246676d044947   \n",
       "2999  0x64233eaa064ef0d54ff1a963933d0d2d46ab5829   \n",
       "3000  0x46f09888867c8cd9042b943099663e856e43de46   \n",
       "\n",
       "                                            transaction  \n",
       "0                                                  None  \n",
       "1                                                  None  \n",
       "2                                                  None  \n",
       "3                                                  None  \n",
       "4                                                  None  \n",
       "...                                                 ...  \n",
       "2996  0x60e952a8e0fa8d052791b2e4a22fd52eb3c759511e62...  \n",
       "2997  0x6672189deb7829838aabba20ddeb66a3cb5fee5b55a2...  \n",
       "2998  0xd8e71f4d52c43fa770b9aa7ad7d5cfb073f04c7495e0...  \n",
       "2999  0x186d1ceacf620bab710d11cf928b79e5dd46790ff1d5...  \n",
       "3000  0x1c7ed62756b60a73470fa39ea6546510ad426e261d14...  \n",
       "\n",
       "[3001 rows x 20 columns]"
      ]
     },
     "execution_count": 26,
     "metadata": {},
     "output_type": "execute_result"
    }
   ],
   "source": [
    "events_df_copy = events_df.copy()\n",
    "events_df_copy"
   ]
  },
  {
   "cell_type": "code",
   "execution_count": 27,
   "metadata": {},
   "outputs": [
    {
     "data": {
      "text/html": [
       "<div>\n",
       "<style scoped>\n",
       "    .dataframe tbody tr th:only-of-type {\n",
       "        vertical-align: middle;\n",
       "    }\n",
       "\n",
       "    .dataframe tbody tr th {\n",
       "        vertical-align: top;\n",
       "    }\n",
       "\n",
       "    .dataframe thead th {\n",
       "        text-align: right;\n",
       "    }\n",
       "</style>\n",
       "<table border=\"1\" class=\"dataframe\">\n",
       "  <thead>\n",
       "    <tr style=\"text-align: right;\">\n",
       "      <th></th>\n",
       "      <th>event_type</th>\n",
       "      <th>order_hash</th>\n",
       "      <th>order_type</th>\n",
       "      <th>chain</th>\n",
       "      <th>protocol_address</th>\n",
       "      <th>start_date</th>\n",
       "      <th>expiration_date</th>\n",
       "      <th>asset</th>\n",
       "      <th>quantity</th>\n",
       "      <th>maker</th>\n",
       "      <th>taker</th>\n",
       "      <th>payment</th>\n",
       "      <th>criteria</th>\n",
       "      <th>event_timestamp</th>\n",
       "      <th>is_private_listing</th>\n",
       "      <th>closing_date</th>\n",
       "      <th>nft</th>\n",
       "      <th>seller</th>\n",
       "      <th>buyer</th>\n",
       "      <th>transaction</th>\n",
       "    </tr>\n",
       "  </thead>\n",
       "  <tbody>\n",
       "    <tr>\n",
       "      <th>0</th>\n",
       "      <td>order</td>\n",
       "      <td>0x46f734ffea0b7f6054b72927c9df96e6692045e8fe39...</td>\n",
       "      <td>listing</td>\n",
       "      <td>optimism</td>\n",
       "      <td>0x0000000000000068f116a894984e2db1123eb395</td>\n",
       "      <td>1,720,648,237.00</td>\n",
       "      <td>1,723,326,637.00</td>\n",
       "      <td>{'identifier': '105524492317869377796516137615...</td>\n",
       "      <td>1</td>\n",
       "      <td>0x1ec410d35b81369d5c0d8fcadb340fdecce5c250</td>\n",
       "      <td></td>\n",
       "      <td>{'quantity': '50000000000000000000', 'token_ad...</td>\n",
       "      <td>{}</td>\n",
       "      <td>1720648284</td>\n",
       "      <td>0.00</td>\n",
       "      <td>NaN</td>\n",
       "      <td>None</td>\n",
       "      <td>None</td>\n",
       "      <td>None</td>\n",
       "      <td>None</td>\n",
       "    </tr>\n",
       "    <tr>\n",
       "      <th>1</th>\n",
       "      <td>order</td>\n",
       "      <td>0xc2c81d45617f524e0b38a8828484e8fc14129d65ecff...</td>\n",
       "      <td>listing</td>\n",
       "      <td>optimism</td>\n",
       "      <td>0x0000000000000068f116a894984e2db1123eb395</td>\n",
       "      <td>1,720,647,918.00</td>\n",
       "      <td>1,723,326,318.00</td>\n",
       "      <td>{'identifier': '932502001321155872797741020477...</td>\n",
       "      <td>1</td>\n",
       "      <td>0x1ec410d35b81369d5c0d8fcadb340fdecce5c250</td>\n",
       "      <td></td>\n",
       "      <td>{'quantity': '50000000000000000000', 'token_ad...</td>\n",
       "      <td>{}</td>\n",
       "      <td>1720648171</td>\n",
       "      <td>0.00</td>\n",
       "      <td>NaN</td>\n",
       "      <td>None</td>\n",
       "      <td>None</td>\n",
       "      <td>None</td>\n",
       "      <td>None</td>\n",
       "    </tr>\n",
       "    <tr>\n",
       "      <th>2</th>\n",
       "      <td>order</td>\n",
       "      <td>0x20707ea7356cbee5f71943f71c95e15c23ac05b7bf58...</td>\n",
       "      <td>listing</td>\n",
       "      <td>optimism</td>\n",
       "      <td>0x0000000000000068f116a894984e2db1123eb395</td>\n",
       "      <td>1,720,647,759.00</td>\n",
       "      <td>1,721,252,536.00</td>\n",
       "      <td>{'identifier': '493513286051206672797082654485...</td>\n",
       "      <td>1</td>\n",
       "      <td>0x0d3f5a7a1ee78e743e25c18e66942fcbcd84ccad</td>\n",
       "      <td></td>\n",
       "      <td>{'quantity': '770000000000000000', 'token_addr...</td>\n",
       "      <td>{}</td>\n",
       "      <td>1720648122</td>\n",
       "      <td>0.00</td>\n",
       "      <td>NaN</td>\n",
       "      <td>None</td>\n",
       "      <td>None</td>\n",
       "      <td>None</td>\n",
       "      <td>None</td>\n",
       "    </tr>\n",
       "    <tr>\n",
       "      <th>3</th>\n",
       "      <td>order</td>\n",
       "      <td>0x49729029191017c544a3f67f03968dd12bf16c69e1dd...</td>\n",
       "      <td>listing</td>\n",
       "      <td>optimism</td>\n",
       "      <td>0x0000000000000068f116a894984e2db1123eb395</td>\n",
       "      <td>1,720,562,975.00</td>\n",
       "      <td>1,736,460,564.00</td>\n",
       "      <td>{'identifier': '106968891900401063741132344938...</td>\n",
       "      <td>1</td>\n",
       "      <td>0x386ae4d6db89e0bbd41ef8cba13460edcf867420</td>\n",
       "      <td></td>\n",
       "      <td>{'quantity': '33000000000000000000', 'token_ad...</td>\n",
       "      <td>{}</td>\n",
       "      <td>1720563049</td>\n",
       "      <td>0.00</td>\n",
       "      <td>NaN</td>\n",
       "      <td>None</td>\n",
       "      <td>None</td>\n",
       "      <td>None</td>\n",
       "      <td>None</td>\n",
       "    </tr>\n",
       "    <tr>\n",
       "      <th>4</th>\n",
       "      <td>order</td>\n",
       "      <td>0xaedefdd5ee2c58433e4135132b5b8454653725d40859...</td>\n",
       "      <td>listing</td>\n",
       "      <td>optimism</td>\n",
       "      <td>0x0000000000000068f116a894984e2db1123eb395</td>\n",
       "      <td>1,720,561,057.00</td>\n",
       "      <td>1,721,165,912.00</td>\n",
       "      <td>{'identifier': '283604669650136775214415072033...</td>\n",
       "      <td>1</td>\n",
       "      <td>0x9a93ae4f408a1e7d178650ca9f7ab2135c512eda</td>\n",
       "      <td></td>\n",
       "      <td>{'quantity': '1000000000000000000', 'token_add...</td>\n",
       "      <td>{}</td>\n",
       "      <td>1720561062</td>\n",
       "      <td>0.00</td>\n",
       "      <td>NaN</td>\n",
       "      <td>None</td>\n",
       "      <td>None</td>\n",
       "      <td>None</td>\n",
       "      <td>None</td>\n",
       "    </tr>\n",
       "    <tr>\n",
       "      <th>...</th>\n",
       "      <td>...</td>\n",
       "      <td>...</td>\n",
       "      <td>...</td>\n",
       "      <td>...</td>\n",
       "      <td>...</td>\n",
       "      <td>...</td>\n",
       "      <td>...</td>\n",
       "      <td>...</td>\n",
       "      <td>...</td>\n",
       "      <td>...</td>\n",
       "      <td>...</td>\n",
       "      <td>...</td>\n",
       "      <td>...</td>\n",
       "      <td>...</td>\n",
       "      <td>...</td>\n",
       "      <td>...</td>\n",
       "      <td>...</td>\n",
       "      <td>...</td>\n",
       "      <td>...</td>\n",
       "      <td>...</td>\n",
       "    </tr>\n",
       "    <tr>\n",
       "      <th>2902</th>\n",
       "      <td>order</td>\n",
       "      <td>0x3bbb21c5a1766b47ea91b2dafd73e7cb28198b41b3c6...</td>\n",
       "      <td>listing</td>\n",
       "      <td>optimism</td>\n",
       "      <td>0x00000000000000adc04c56bf30ac9d3c0aaf14dc</td>\n",
       "      <td>1,703,615,460.00</td>\n",
       "      <td>1,706,293,860.00</td>\n",
       "      <td>{'identifier': '596691372334868032834900148779...</td>\n",
       "      <td>1</td>\n",
       "      <td>0xec00481d13a4028e0b76b031cf5c863604cb2d4b</td>\n",
       "      <td></td>\n",
       "      <td>{'quantity': '3000000000000000000', 'token_add...</td>\n",
       "      <td>{}</td>\n",
       "      <td>1703615466</td>\n",
       "      <td>0.00</td>\n",
       "      <td>NaN</td>\n",
       "      <td>None</td>\n",
       "      <td>None</td>\n",
       "      <td>None</td>\n",
       "      <td>None</td>\n",
       "    </tr>\n",
       "    <tr>\n",
       "      <th>2903</th>\n",
       "      <td>order</td>\n",
       "      <td>0xa2931b385c3bd5c237a44cc39a452e9f12499ba6cafd...</td>\n",
       "      <td>listing</td>\n",
       "      <td>optimism</td>\n",
       "      <td>0x00000000000000adc04c56bf30ac9d3c0aaf14dc</td>\n",
       "      <td>1,703,615,375.00</td>\n",
       "      <td>1,706,293,775.00</td>\n",
       "      <td>{'identifier': '178657174778441322562715723560...</td>\n",
       "      <td>1</td>\n",
       "      <td>0xec00481d13a4028e0b76b031cf5c863604cb2d4b</td>\n",
       "      <td></td>\n",
       "      <td>{'quantity': '3000000000000000000', 'token_add...</td>\n",
       "      <td>{}</td>\n",
       "      <td>1703615382</td>\n",
       "      <td>0.00</td>\n",
       "      <td>NaN</td>\n",
       "      <td>None</td>\n",
       "      <td>None</td>\n",
       "      <td>None</td>\n",
       "      <td>None</td>\n",
       "    </tr>\n",
       "    <tr>\n",
       "      <th>2904</th>\n",
       "      <td>order</td>\n",
       "      <td>0x0fff804500518519b60164f5a10ef76e63da9ee77775...</td>\n",
       "      <td>listing</td>\n",
       "      <td>optimism</td>\n",
       "      <td>0x00000000000000adc04c56bf30ac9d3c0aaf14dc</td>\n",
       "      <td>1,703,615,237.00</td>\n",
       "      <td>1,706,293,637.00</td>\n",
       "      <td>{'identifier': '887409359338823895470224549460...</td>\n",
       "      <td>1</td>\n",
       "      <td>0x64233eaa064ef0d54ff1a963933d0d2d46ab5829</td>\n",
       "      <td></td>\n",
       "      <td>{'quantity': '3000000000000000000', 'token_add...</td>\n",
       "      <td>{}</td>\n",
       "      <td>1703615249</td>\n",
       "      <td>0.00</td>\n",
       "      <td>NaN</td>\n",
       "      <td>None</td>\n",
       "      <td>None</td>\n",
       "      <td>None</td>\n",
       "      <td>None</td>\n",
       "    </tr>\n",
       "    <tr>\n",
       "      <th>2905</th>\n",
       "      <td>order</td>\n",
       "      <td>0x3e6ab1b4b98dd45a1cd97fc141659077293095161497...</td>\n",
       "      <td>listing</td>\n",
       "      <td>optimism</td>\n",
       "      <td>0x00000000000000adc04c56bf30ac9d3c0aaf14dc</td>\n",
       "      <td>1,703,607,296.00</td>\n",
       "      <td>1,704,212,091.00</td>\n",
       "      <td>{'identifier': '117315147600270829665702926801...</td>\n",
       "      <td>1</td>\n",
       "      <td>0x7af4ca674c86ac74d15ae668ae7ffbe4f7ddafbf</td>\n",
       "      <td></td>\n",
       "      <td>{'quantity': '1000000000000000000', 'token_add...</td>\n",
       "      <td>{}</td>\n",
       "      <td>1703607304</td>\n",
       "      <td>0.00</td>\n",
       "      <td>NaN</td>\n",
       "      <td>None</td>\n",
       "      <td>None</td>\n",
       "      <td>None</td>\n",
       "      <td>None</td>\n",
       "    </tr>\n",
       "    <tr>\n",
       "      <th>2906</th>\n",
       "      <td>order</td>\n",
       "      <td>0xfa1fc15cc75af15d1eef31d3d9a5e597180c37d8c3d4...</td>\n",
       "      <td>listing</td>\n",
       "      <td>optimism</td>\n",
       "      <td>0x00000000000000adc04c56bf30ac9d3c0aaf14dc</td>\n",
       "      <td>1,703,292,558.00</td>\n",
       "      <td>1,703,296,155.00</td>\n",
       "      <td>{'identifier': '657195321914502421721219856086...</td>\n",
       "      <td>1</td>\n",
       "      <td>0x7af4ca674c86ac74d15ae668ae7ffbe4f7ddafbf</td>\n",
       "      <td></td>\n",
       "      <td>{'quantity': '1000000000000000000', 'token_add...</td>\n",
       "      <td>{}</td>\n",
       "      <td>1703292579</td>\n",
       "      <td>0.00</td>\n",
       "      <td>NaN</td>\n",
       "      <td>None</td>\n",
       "      <td>None</td>\n",
       "      <td>None</td>\n",
       "      <td>None</td>\n",
       "    </tr>\n",
       "  </tbody>\n",
       "</table>\n",
       "<p>2907 rows × 20 columns</p>\n",
       "</div>"
      ],
      "text/plain": [
       "     event_type                                         order_hash order_type  \\\n",
       "0         order  0x46f734ffea0b7f6054b72927c9df96e6692045e8fe39...    listing   \n",
       "1         order  0xc2c81d45617f524e0b38a8828484e8fc14129d65ecff...    listing   \n",
       "2         order  0x20707ea7356cbee5f71943f71c95e15c23ac05b7bf58...    listing   \n",
       "3         order  0x49729029191017c544a3f67f03968dd12bf16c69e1dd...    listing   \n",
       "4         order  0xaedefdd5ee2c58433e4135132b5b8454653725d40859...    listing   \n",
       "...         ...                                                ...        ...   \n",
       "2902      order  0x3bbb21c5a1766b47ea91b2dafd73e7cb28198b41b3c6...    listing   \n",
       "2903      order  0xa2931b385c3bd5c237a44cc39a452e9f12499ba6cafd...    listing   \n",
       "2904      order  0x0fff804500518519b60164f5a10ef76e63da9ee77775...    listing   \n",
       "2905      order  0x3e6ab1b4b98dd45a1cd97fc141659077293095161497...    listing   \n",
       "2906      order  0xfa1fc15cc75af15d1eef31d3d9a5e597180c37d8c3d4...    listing   \n",
       "\n",
       "         chain                            protocol_address       start_date  \\\n",
       "0     optimism  0x0000000000000068f116a894984e2db1123eb395 1,720,648,237.00   \n",
       "1     optimism  0x0000000000000068f116a894984e2db1123eb395 1,720,647,918.00   \n",
       "2     optimism  0x0000000000000068f116a894984e2db1123eb395 1,720,647,759.00   \n",
       "3     optimism  0x0000000000000068f116a894984e2db1123eb395 1,720,562,975.00   \n",
       "4     optimism  0x0000000000000068f116a894984e2db1123eb395 1,720,561,057.00   \n",
       "...        ...                                         ...              ...   \n",
       "2902  optimism  0x00000000000000adc04c56bf30ac9d3c0aaf14dc 1,703,615,460.00   \n",
       "2903  optimism  0x00000000000000adc04c56bf30ac9d3c0aaf14dc 1,703,615,375.00   \n",
       "2904  optimism  0x00000000000000adc04c56bf30ac9d3c0aaf14dc 1,703,615,237.00   \n",
       "2905  optimism  0x00000000000000adc04c56bf30ac9d3c0aaf14dc 1,703,607,296.00   \n",
       "2906  optimism  0x00000000000000adc04c56bf30ac9d3c0aaf14dc 1,703,292,558.00   \n",
       "\n",
       "      expiration_date                                              asset  \\\n",
       "0    1,723,326,637.00  {'identifier': '105524492317869377796516137615...   \n",
       "1    1,723,326,318.00  {'identifier': '932502001321155872797741020477...   \n",
       "2    1,721,252,536.00  {'identifier': '493513286051206672797082654485...   \n",
       "3    1,736,460,564.00  {'identifier': '106968891900401063741132344938...   \n",
       "4    1,721,165,912.00  {'identifier': '283604669650136775214415072033...   \n",
       "...               ...                                                ...   \n",
       "2902 1,706,293,860.00  {'identifier': '596691372334868032834900148779...   \n",
       "2903 1,706,293,775.00  {'identifier': '178657174778441322562715723560...   \n",
       "2904 1,706,293,637.00  {'identifier': '887409359338823895470224549460...   \n",
       "2905 1,704,212,091.00  {'identifier': '117315147600270829665702926801...   \n",
       "2906 1,703,296,155.00  {'identifier': '657195321914502421721219856086...   \n",
       "\n",
       "      quantity                                       maker taker  \\\n",
       "0            1  0x1ec410d35b81369d5c0d8fcadb340fdecce5c250         \n",
       "1            1  0x1ec410d35b81369d5c0d8fcadb340fdecce5c250         \n",
       "2            1  0x0d3f5a7a1ee78e743e25c18e66942fcbcd84ccad         \n",
       "3            1  0x386ae4d6db89e0bbd41ef8cba13460edcf867420         \n",
       "4            1  0x9a93ae4f408a1e7d178650ca9f7ab2135c512eda         \n",
       "...        ...                                         ...   ...   \n",
       "2902         1  0xec00481d13a4028e0b76b031cf5c863604cb2d4b         \n",
       "2903         1  0xec00481d13a4028e0b76b031cf5c863604cb2d4b         \n",
       "2904         1  0x64233eaa064ef0d54ff1a963933d0d2d46ab5829         \n",
       "2905         1  0x7af4ca674c86ac74d15ae668ae7ffbe4f7ddafbf         \n",
       "2906         1  0x7af4ca674c86ac74d15ae668ae7ffbe4f7ddafbf         \n",
       "\n",
       "                                                payment criteria  \\\n",
       "0     {'quantity': '50000000000000000000', 'token_ad...       {}   \n",
       "1     {'quantity': '50000000000000000000', 'token_ad...       {}   \n",
       "2     {'quantity': '770000000000000000', 'token_addr...       {}   \n",
       "3     {'quantity': '33000000000000000000', 'token_ad...       {}   \n",
       "4     {'quantity': '1000000000000000000', 'token_add...       {}   \n",
       "...                                                 ...      ...   \n",
       "2902  {'quantity': '3000000000000000000', 'token_add...       {}   \n",
       "2903  {'quantity': '3000000000000000000', 'token_add...       {}   \n",
       "2904  {'quantity': '3000000000000000000', 'token_add...       {}   \n",
       "2905  {'quantity': '1000000000000000000', 'token_add...       {}   \n",
       "2906  {'quantity': '1000000000000000000', 'token_add...       {}   \n",
       "\n",
       "      event_timestamp  is_private_listing  closing_date   nft seller buyer  \\\n",
       "0          1720648284                0.00           NaN  None   None  None   \n",
       "1          1720648171                0.00           NaN  None   None  None   \n",
       "2          1720648122                0.00           NaN  None   None  None   \n",
       "3          1720563049                0.00           NaN  None   None  None   \n",
       "4          1720561062                0.00           NaN  None   None  None   \n",
       "...               ...                 ...           ...   ...    ...   ...   \n",
       "2902       1703615466                0.00           NaN  None   None  None   \n",
       "2903       1703615382                0.00           NaN  None   None  None   \n",
       "2904       1703615249                0.00           NaN  None   None  None   \n",
       "2905       1703607304                0.00           NaN  None   None  None   \n",
       "2906       1703292579                0.00           NaN  None   None  None   \n",
       "\n",
       "     transaction  \n",
       "0           None  \n",
       "1           None  \n",
       "2           None  \n",
       "3           None  \n",
       "4           None  \n",
       "...          ...  \n",
       "2902        None  \n",
       "2903        None  \n",
       "2904        None  \n",
       "2905        None  \n",
       "2906        None  \n",
       "\n",
       "[2907 rows x 20 columns]"
      ]
     },
     "execution_count": 27,
     "metadata": {},
     "output_type": "execute_result"
    }
   ],
   "source": [
    "bids = events_df_copy[events_df_copy['event_type'] == 'order']\n",
    "sales = events_df_copy[events_df_copy['event_type'] == 'sale']\n",
    "\n",
    "bids"
   ]
  },
  {
   "cell_type": "code",
   "execution_count": 28,
   "metadata": {},
   "outputs": [
    {
     "name": "stderr",
     "output_type": "stream",
     "text": [
      "C:\\Users\\brandyns pc\\AppData\\Local\\Temp\\ipykernel_61036\\2668839905.py:1: SettingWithCopyWarning: \n",
      "A value is trying to be set on a copy of a slice from a DataFrame.\n",
      "Try using .loc[row_indexer,col_indexer] = value instead\n",
      "\n",
      "See the caveats in the documentation: https://pandas.pydata.org/pandas-docs/stable/user_guide/indexing.html#returning-a-view-versus-a-copy\n",
      "  bids['identifier'] = bids['asset'].apply(lambda x: x.get('identifier') if isinstance(x, dict) else None)\n",
      "C:\\Users\\brandyns pc\\AppData\\Local\\Temp\\ipykernel_61036\\2668839905.py:2: SettingWithCopyWarning: \n",
      "A value is trying to be set on a copy of a slice from a DataFrame.\n",
      "Try using .loc[row_indexer,col_indexer] = value instead\n",
      "\n",
      "See the caveats in the documentation: https://pandas.pydata.org/pandas-docs/stable/user_guide/indexing.html#returning-a-view-versus-a-copy\n",
      "  sales['identifier'] = sales['nft'].apply(lambda x: x.get('identifier') if isinstance(x, dict) else None)\n"
     ]
    }
   ],
   "source": [
    "bids['identifier'] = bids['asset'].apply(lambda x: x.get('identifier') if isinstance(x, dict) else None)\n",
    "sales['identifier'] = sales['nft'].apply(lambda x: x.get('identifier') if isinstance(x, dict) else None)"
   ]
  },
  {
   "cell_type": "code",
   "execution_count": 29,
   "metadata": {},
   "outputs": [
    {
     "name": "stderr",
     "output_type": "stream",
     "text": [
      "C:\\Users\\brandyns pc\\AppData\\Local\\Temp\\ipykernel_61036\\46667634.py:1: SettingWithCopyWarning: \n",
      "A value is trying to be set on a copy of a slice from a DataFrame.\n",
      "Try using .loc[row_indexer,col_indexer] = value instead\n",
      "\n",
      "See the caveats in the documentation: https://pandas.pydata.org/pandas-docs/stable/user_guide/indexing.html#returning-a-view-versus-a-copy\n",
      "  bids['identifier'] = bids['identifier'].astype(float)\n",
      "C:\\Users\\brandyns pc\\AppData\\Local\\Temp\\ipykernel_61036\\46667634.py:2: SettingWithCopyWarning: \n",
      "A value is trying to be set on a copy of a slice from a DataFrame\n",
      "\n",
      "See the caveats in the documentation: https://pandas.pydata.org/pandas-docs/stable/user_guide/indexing.html#returning-a-view-versus-a-copy\n",
      "  bids.rename(columns={'identifier':'tokenid'}, inplace=True)\n"
     ]
    }
   ],
   "source": [
    "bids['identifier'] = bids['identifier'].astype(float)\n",
    "bids.rename(columns={'identifier':'tokenid'}, inplace=True) \n"
   ]
  },
  {
   "cell_type": "code",
   "execution_count": 30,
   "metadata": {},
   "outputs": [],
   "source": [
    "bids = bids.merge(descriptions_df, how='left', on='tokenid')"
   ]
  },
  {
   "cell_type": "code",
   "execution_count": 31,
   "metadata": {},
   "outputs": [
    {
     "data": {
      "text/plain": [
       "Index(['event_type', 'order_hash', 'order_type', 'chain', 'protocol_address',\n",
       "       'start_date', 'expiration_date', 'asset', 'quantity', 'maker', 'taker',\n",
       "       'payment', 'criteria', 'event_timestamp', 'is_private_listing',\n",
       "       'closing_date', 'nft', 'seller', 'buyer', 'transaction', 'tokenid',\n",
       "       'name'],\n",
       "      dtype='object')"
      ]
     },
     "execution_count": 31,
     "metadata": {},
     "output_type": "execute_result"
    }
   ],
   "source": [
    "bids.columns"
   ]
  },
  {
   "cell_type": "code",
   "execution_count": 32,
   "metadata": {},
   "outputs": [],
   "source": [
    "bids.drop(columns=['protocol_address','chain','maker','criteria','is_private_listing','closing_date','nft','seller','buyer'], inplace=True)"
   ]
  },
  {
   "cell_type": "code",
   "execution_count": 33,
   "metadata": {},
   "outputs": [
    {
     "name": "stderr",
     "output_type": "stream",
     "text": [
      "C:\\Users\\brandyns pc\\AppData\\Local\\Temp\\ipykernel_61036\\3642358893.py:1: SettingWithCopyWarning: \n",
      "A value is trying to be set on a copy of a slice from a DataFrame.\n",
      "Try using .loc[row_indexer,col_indexer] = value instead\n",
      "\n",
      "See the caveats in the documentation: https://pandas.pydata.org/pandas-docs/stable/user_guide/indexing.html#returning-a-view-versus-a-copy\n",
      "  sales['identifier'] = sales['identifier'].astype(float)\n",
      "C:\\Users\\brandyns pc\\AppData\\Local\\Temp\\ipykernel_61036\\3642358893.py:2: SettingWithCopyWarning: \n",
      "A value is trying to be set on a copy of a slice from a DataFrame\n",
      "\n",
      "See the caveats in the documentation: https://pandas.pydata.org/pandas-docs/stable/user_guide/indexing.html#returning-a-view-versus-a-copy\n",
      "  sales.rename(columns={'identifier':'tokenid'}, inplace=True)\n"
     ]
    }
   ],
   "source": [
    "sales['identifier'] = sales['identifier'].astype(float)\n",
    "sales.rename(columns={'identifier':'tokenid'}, inplace=True)\n"
   ]
  },
  {
   "cell_type": "code",
   "execution_count": 34,
   "metadata": {},
   "outputs": [],
   "source": [
    "sales = sales.merge(descriptions_df, how='left', on='tokenid')\n",
    "sales.drop(columns=['order_type', 'chain','start_date','expiration_date','asset','maker','is_private_listing','protocol_address','criteria'], inplace=True)"
   ]
  },
  {
   "cell_type": "code",
   "execution_count": 35,
   "metadata": {},
   "outputs": [],
   "source": [
    "box_sales_os = sales[sales['name'].str.endswith('.box')]\n",
    "box_bids_os = bids[bids['name'].str.endswith('.box')] "
   ]
  },
  {
   "cell_type": "code",
   "execution_count": 36,
   "metadata": {},
   "outputs": [],
   "source": [
    "box_bids_os.columns = [f'bid_{col}' if col != 'name' else col for col in box_bids_os.columns]"
   ]
  },
  {
   "cell_type": "code",
   "execution_count": 37,
   "metadata": {},
   "outputs": [],
   "source": [
    "box_sales_os.columns = [f'sale_{col}' if col != 'name' else col for col in box_sales_os.columns]"
   ]
  },
  {
   "cell_type": "code",
   "execution_count": 38,
   "metadata": {},
   "outputs": [],
   "source": [
    "box_listings_and_sales = pd.merge(box_bids_os, box_sales_os, how='inner', on='name')\n",
    "box_listings_and_sales['bid_event_timestamp'] = pd.to_datetime(box_listings_and_sales['bid_event_timestamp'], unit='s')\n",
    "box_listings_and_sales['sale_event_timestamp'] = pd.to_datetime(box_listings_and_sales['sale_event_timestamp'], unit='s')\n"
   ]
  },
  {
   "cell_type": "code",
   "execution_count": 39,
   "metadata": {},
   "outputs": [
    {
     "name": "stderr",
     "output_type": "stream",
     "text": [
      "C:\\Users\\brandyns pc\\AppData\\Local\\Temp\\ipykernel_61036\\2210088090.py:2: SettingWithCopyWarning: \n",
      "A value is trying to be set on a copy of a slice from a DataFrame.\n",
      "Try using .loc[row_indexer,col_indexer] = value instead\n",
      "\n",
      "See the caveats in the documentation: https://pandas.pydata.org/pandas-docs/stable/user_guide/indexing.html#returning-a-view-versus-a-copy\n",
      "  filtered_box_listings_and_sales['time_diff'] = filtered_box_listings_and_sales['sale_event_timestamp'] - filtered_box_listings_and_sales['bid_event_timestamp']\n"
     ]
    }
   ],
   "source": [
    "filtered_box_listings_and_sales = box_listings_and_sales[box_listings_and_sales['sale_event_timestamp'] > box_listings_and_sales['bid_event_timestamp']]\n",
    "filtered_box_listings_and_sales['time_diff'] = filtered_box_listings_and_sales['sale_event_timestamp'] - filtered_box_listings_and_sales['bid_event_timestamp']\n"
   ]
  },
  {
   "cell_type": "code",
   "execution_count": 40,
   "metadata": {},
   "outputs": [
    {
     "name": "stdout",
     "output_type": "stream",
     "text": [
      "19 days 11:19:25.506097561\n"
     ]
    }
   ],
   "source": [
    "avg_time_to_sell = filtered_box_listings_and_sales['time_diff'].mean()\n",
    "print(avg_time_to_sell)"
   ]
  },
  {
   "cell_type": "code",
   "execution_count": 41,
   "metadata": {},
   "outputs": [],
   "source": [
    "closest_listings = filtered_box_listings_and_sales.loc[filtered_box_listings_and_sales.groupby(['name', 'sale_event_timestamp'])['time_diff'].idxmin()]\n"
   ]
  },
  {
   "cell_type": "code",
   "execution_count": 42,
   "metadata": {},
   "outputs": [],
   "source": [
    "closest_listings['sale_quantity'] = closest_listings['sale_payment'].apply(lambda x: int(x['quantity']) / 10**18)\n",
    "closest_listings['listing_quantity'] = closest_listings['bid_payment'].apply(lambda x: int(x['quantity']) / 10**18)\n"
   ]
  },
  {
   "cell_type": "code",
   "execution_count": 43,
   "metadata": {},
   "outputs": [
    {
     "data": {
      "text/html": [
       "<div>\n",
       "<style scoped>\n",
       "    .dataframe tbody tr th:only-of-type {\n",
       "        vertical-align: middle;\n",
       "    }\n",
       "\n",
       "    .dataframe tbody tr th {\n",
       "        vertical-align: top;\n",
       "    }\n",
       "\n",
       "    .dataframe thead th {\n",
       "        text-align: right;\n",
       "    }\n",
       "</style>\n",
       "<table border=\"1\" class=\"dataframe\">\n",
       "  <thead>\n",
       "    <tr style=\"text-align: right;\">\n",
       "      <th></th>\n",
       "      <th>bid_event_timestamp</th>\n",
       "      <th>listing_quantity</th>\n",
       "    </tr>\n",
       "  </thead>\n",
       "  <tbody>\n",
       "    <tr>\n",
       "      <th>33</th>\n",
       "      <td>2024-04-23 10:22:52</td>\n",
       "      <td>0.03</td>\n",
       "    </tr>\n",
       "    <tr>\n",
       "      <th>68</th>\n",
       "      <td>2024-02-12 18:32:17</td>\n",
       "      <td>0.04</td>\n",
       "    </tr>\n",
       "    <tr>\n",
       "      <th>51</th>\n",
       "      <td>2024-02-24 06:41:03</td>\n",
       "      <td>0.04</td>\n",
       "    </tr>\n",
       "    <tr>\n",
       "      <th>64</th>\n",
       "      <td>2024-02-19 23:52:15</td>\n",
       "      <td>0.04</td>\n",
       "    </tr>\n",
       "    <tr>\n",
       "      <th>56</th>\n",
       "      <td>2024-02-23 04:00:29</td>\n",
       "      <td>0.10</td>\n",
       "    </tr>\n",
       "  </tbody>\n",
       "</table>\n",
       "</div>"
      ],
      "text/plain": [
       "   bid_event_timestamp  listing_quantity\n",
       "33 2024-04-23 10:22:52              0.03\n",
       "68 2024-02-12 18:32:17              0.04\n",
       "51 2024-02-24 06:41:03              0.04\n",
       "64 2024-02-19 23:52:15              0.04\n",
       "56 2024-02-23 04:00:29              0.10"
      ]
     },
     "execution_count": 43,
     "metadata": {},
     "output_type": "execute_result"
    }
   ],
   "source": [
    "closest_listings[['bid_event_timestamp','listing_quantity']].head()"
   ]
  },
  {
   "cell_type": "code",
   "execution_count": 44,
   "metadata": {},
   "outputs": [],
   "source": [
    "closest_listings['bid_event_timestamp'] = closest_listings['bid_event_timestamp'].dt.strftime('%Y-%m-%d %H:00:00')\n"
   ]
  },
  {
   "cell_type": "code",
   "execution_count": 45,
   "metadata": {},
   "outputs": [],
   "source": [
    "closest_listings['sale_event_timestamp'] = closest_listings['sale_event_timestamp'].dt.strftime('%Y-%m-%d %H:00:00')"
   ]
  },
  {
   "cell_type": "code",
   "execution_count": 46,
   "metadata": {},
   "outputs": [],
   "source": [
    "mint_df['tokenid'] = mint_df['tokenid'].astype(float)"
   ]
  },
  {
   "cell_type": "code",
   "execution_count": 47,
   "metadata": {},
   "outputs": [],
   "source": [
    "mints_with_names = pd.merge(mint_df, descriptions_df, how='left', on='tokenid')"
   ]
  },
  {
   "cell_type": "code",
   "execution_count": 48,
   "metadata": {},
   "outputs": [
    {
     "name": "stdout",
     "output_type": "stream",
     "text": [
      "['0xf3fe57b0418d3f6b3f95dc94585f7c1d3af0a8c1e94574df32d48ac2e12bf151', '0xf3fe57b0418d3f6b3f95dc94585f7c1d3af0a8c1e94574df32d48ac2e12bf151', '0x254894247bb1b37bd563e29b61e60c183bfdfc33b13251a88b5e3fd976f7a525', '0x254894247bb1b37bd563e29b61e60c183bfdfc33b13251a88b5e3fd976f7a525', '0xc834fc6ce827bec875439feec0fcc9bc698c2c74ba0e02a47ada863181eea465', '0xc834fc6ce827bec875439feec0fcc9bc698c2c74ba0e02a47ada863181eea465', '0xee71ed978fa78ebfe902f8800d344fe2a8ee91ce840b786932ef4b917712b592', '0xee71ed978fa78ebfe902f8800d344fe2a8ee91ce840b786932ef4b917712b592', '0xeff0647a1457a41fd483c5a807985d5bfb3d4d74fa214b9bad20377e0a5017e8', '0xeff0647a1457a41fd483c5a807985d5bfb3d4d74fa214b9bad20377e0a5017e8', '0x797479e07d791a0f79d0433a514dbb4fcd196e57a047c701e768d61f4d6fc7c8', '0x797479e07d791a0f79d0433a514dbb4fcd196e57a047c701e768d61f4d6fc7c8', '0x4b19b2871109c40c80ae709a599edea386639794904ec26638a365efaf245965', '0x4b19b2871109c40c80ae709a599edea386639794904ec26638a365efaf245965', '0xb40404c76df837b074485f6a7e3f616f9554311199b769dbad5b0cb6efb1e6c8', '0xb40404c76df837b074485f6a7e3f616f9554311199b769dbad5b0cb6efb1e6c8', '0xaa9ce395c195046b86250dac7043d5a4e30170635d20c823de30ebc8625539b6', '0xaa9ce395c195046b86250dac7043d5a4e30170635d20c823de30ebc8625539b6', '0x38ae6b03b797a2e03b0ad126e3f1416996c406b2e1a50aa03c1ff4c19c25f1f2', '0x38ae6b03b797a2e03b0ad126e3f1416996c406b2e1a50aa03c1ff4c19c25f1f2', '0x90c71cda6d5b63fc80ac3acef0af808e86e44b3eaedf9a8daf8284428aa1a52a', '0x90c71cda6d5b63fc80ac3acef0af808e86e44b3eaedf9a8daf8284428aa1a52a', '0xb20eed88548ccb6f3d34f5fa128b42459b265a094a1b5a9b9d06d2c85acc96b4', '0xb20eed88548ccb6f3d34f5fa128b42459b265a094a1b5a9b9d06d2c85acc96b4', '0xd37960cf65fefc3d18be836278f001f3933bb97acaed0099f57352d1a41ff7e1', '0xd37960cf65fefc3d18be836278f001f3933bb97acaed0099f57352d1a41ff7e1', '0x8454f6e704a584cac44bda4b93144c52e08dc84df3bc8e01d40149e2e2390dd5', '0x8454f6e704a584cac44bda4b93144c52e08dc84df3bc8e01d40149e2e2390dd5', '0x6d7610d41162f54335f92f2f3304c0208b65cd4a56b90db16c24d657d3355d31', '0x6d7610d41162f54335f92f2f3304c0208b65cd4a56b90db16c24d657d3355d31', '0x50e33a96d7b9b57d8819db5038e8b26f65a8914055f9f308d18219290e4c3d27', '0x50e33a96d7b9b57d8819db5038e8b26f65a8914055f9f308d18219290e4c3d27', '0xb9040545bc9b5476ebc5558f61d4ba4d11a345e591a85e116e753c8ba433cf96', '0xb9040545bc9b5476ebc5558f61d4ba4d11a345e591a85e116e753c8ba433cf96', '0x3df64947186629092c43e407aae97c575a044dc753f870120c70d20d5cda3303', '0x3df64947186629092c43e407aae97c575a044dc753f870120c70d20d5cda3303', '0xacacdca1584a7ec454af5b327ddea5d4a9ca9e3b984d6c289346882e3113b041', '0xacacdca1584a7ec454af5b327ddea5d4a9ca9e3b984d6c289346882e3113b041', '0x44400369efafa9f8629f44beb161d5886d9a7cfbd327276c3d0e50555c814db0', '0x44400369efafa9f8629f44beb161d5886d9a7cfbd327276c3d0e50555c814db0', '0xaffbf99887155b2925e31f701a746b848f6b7498be7d7191b8ffd56a9fac330c', '0xaffbf99887155b2925e31f701a746b848f6b7498be7d7191b8ffd56a9fac330c', '0xba7e6f07449688712403b38b4fb4d7efe4fcb26e521f4880228b5dabc13c7e9a', '0xba7e6f07449688712403b38b4fb4d7efe4fcb26e521f4880228b5dabc13c7e9a', '0x70c1589ea00649116bb6ed022eca6d878f51b311b906a74794c960fe652bf462', '0x70c1589ea00649116bb6ed022eca6d878f51b311b906a74794c960fe652bf462', '0xb47db1490ab537cbbd227388a32567952c2bf27d5e55864a9415110f2af63ca7', '0xb47db1490ab537cbbd227388a32567952c2bf27d5e55864a9415110f2af63ca7', '0x62f6283e6459d7e2a19c818e515927d159daa57d08ff5b55c79141b7f28b94a3', '0x62f6283e6459d7e2a19c818e515927d159daa57d08ff5b55c79141b7f28b94a3', '0x1f172942f03578e445dfe20e5104a799c87a88a108d4cf095d96c8e841dc8a99', '0x1f172942f03578e445dfe20e5104a799c87a88a108d4cf095d96c8e841dc8a99']\n"
     ]
    }
   ],
   "source": [
    "mints_with_names_null = mints_with_names[mints_with_names.isnull().any(axis=1)]\n",
    "print(list(mints_with_names_null['tx_hash']))"
   ]
  },
  {
   "cell_type": "code",
   "execution_count": 49,
   "metadata": {},
   "outputs": [],
   "source": [
    "mints_with_names.drop_duplicates('tokenid', inplace=True)"
   ]
  },
  {
   "cell_type": "code",
   "execution_count": 50,
   "metadata": {},
   "outputs": [],
   "source": [
    "mints_with_names.drop(columns=['__row_index','tx_hash','tokenid'], inplace=True)"
   ]
  },
  {
   "cell_type": "code",
   "execution_count": 51,
   "metadata": {},
   "outputs": [],
   "source": [
    "mints_with_names.set_index('day', inplace=True)"
   ]
  },
  {
   "cell_type": "code",
   "execution_count": 52,
   "metadata": {},
   "outputs": [],
   "source": [
    "mints_with_names.index = pd.to_datetime(mints_with_names.index)\n",
    "mints_with_names.dropna(inplace=True)"
   ]
  },
  {
   "cell_type": "code",
   "execution_count": 53,
   "metadata": {},
   "outputs": [],
   "source": [
    "box_domains_mints = mints_with_names[mints_with_names['name'].str.endswith('.box')]\n"
   ]
  },
  {
   "cell_type": "code",
   "execution_count": 54,
   "metadata": {},
   "outputs": [],
   "source": [
    "daily_box_mints = box_domains_mints.resample('D').count()"
   ]
  },
  {
   "cell_type": "code",
   "execution_count": 55,
   "metadata": {},
   "outputs": [],
   "source": [
    "daily_box_mints.rename(columns={'name':'mints'}, inplace=True)\n",
    "daily_box_mints_fig = px.bar(daily_box_mints, x=daily_box_mints.index, y='mints', title='Daily Mints')\n",
    "# daily_box_mints_fig.show()"
   ]
  },
  {
   "cell_type": "code",
   "execution_count": 56,
   "metadata": {},
   "outputs": [
    {
     "data": {
      "text/plain": [
       "np.int64(3614)"
      ]
     },
     "execution_count": 56,
     "metadata": {},
     "output_type": "execute_result"
    }
   ],
   "source": [
    "total_box_mints = box_domains_mints.count().iloc[0]\n",
    "total_box_mints"
   ]
  },
  {
   "cell_type": "code",
   "execution_count": 57,
   "metadata": {},
   "outputs": [],
   "source": [
    "sales_with_names = pd.merge(sales_df, descriptions_df, how='left', on='tokenid')"
   ]
  },
  {
   "cell_type": "code",
   "execution_count": 58,
   "metadata": {},
   "outputs": [],
   "source": [
    "sales_with_names.drop_duplicates('tokenid', inplace=True)\n",
    "sales_with_names.drop(columns=['__row_index','tx_hash','tokenid'], inplace=True)\n",
    "sales_with_names.set_index('day', inplace=True)\n",
    "sales_with_names.index = pd.to_datetime(sales_with_names.index)"
   ]
  },
  {
   "cell_type": "code",
   "execution_count": 59,
   "metadata": {},
   "outputs": [
    {
     "data": {
      "text/html": [
       "<div>\n",
       "<style scoped>\n",
       "    .dataframe tbody tr th:only-of-type {\n",
       "        vertical-align: middle;\n",
       "    }\n",
       "\n",
       "    .dataframe tbody tr th {\n",
       "        vertical-align: top;\n",
       "    }\n",
       "\n",
       "    .dataframe thead th {\n",
       "        text-align: right;\n",
       "    }\n",
       "</style>\n",
       "<table border=\"1\" class=\"dataframe\">\n",
       "  <thead>\n",
       "    <tr style=\"text-align: right;\">\n",
       "      <th></th>\n",
       "      <th>price</th>\n",
       "      <th>name</th>\n",
       "    </tr>\n",
       "    <tr>\n",
       "      <th>day</th>\n",
       "      <th></th>\n",
       "      <th></th>\n",
       "    </tr>\n",
       "  </thead>\n",
       "  <tbody>\n",
       "    <tr>\n",
       "      <th>2024-03-27 14:00:00+00:00</th>\n",
       "      <td>0.00</td>\n",
       "      <td>justgivemethestuffplease.bio</td>\n",
       "    </tr>\n",
       "    <tr>\n",
       "      <th>2024-04-03 01:00:00+00:00</th>\n",
       "      <td>0.00</td>\n",
       "      <td>champathedevourergroup.xyz</td>\n",
       "    </tr>\n",
       "    <tr>\n",
       "      <th>2024-04-17 18:00:00+00:00</th>\n",
       "      <td>0.01</td>\n",
       "      <td>mewtwo.box</td>\n",
       "    </tr>\n",
       "    <tr>\n",
       "      <th>2024-04-24 01:00:00+00:00</th>\n",
       "      <td>0.00</td>\n",
       "      <td>cryptoapp.one</td>\n",
       "    </tr>\n",
       "    <tr>\n",
       "      <th>2024-04-24 04:00:00+00:00</th>\n",
       "      <td>0.03</td>\n",
       "      <td>0000.box</td>\n",
       "    </tr>\n",
       "    <tr>\n",
       "      <th>2024-04-24 01:00:00+00:00</th>\n",
       "      <td>0.00</td>\n",
       "      <td>stazidoghairartists.pro</td>\n",
       "    </tr>\n",
       "    <tr>\n",
       "      <th>2024-04-25 21:00:00+00:00</th>\n",
       "      <td>0.10</td>\n",
       "      <td>express.box</td>\n",
       "    </tr>\n",
       "    <tr>\n",
       "      <th>2024-04-27 16:00:00+00:00</th>\n",
       "      <td>10.00</td>\n",
       "      <td>vm.box</td>\n",
       "    </tr>\n",
       "    <tr>\n",
       "      <th>2024-04-27 00:00:00+00:00</th>\n",
       "      <td>0.37</td>\n",
       "      <td>jane.box</td>\n",
       "    </tr>\n",
       "    <tr>\n",
       "      <th>2024-04-28 07:00:00+00:00</th>\n",
       "      <td>0.10</td>\n",
       "      <td>good.box</td>\n",
       "    </tr>\n",
       "    <tr>\n",
       "      <th>2024-04-28 01:00:00+00:00</th>\n",
       "      <td>0.07</td>\n",
       "      <td>man.box</td>\n",
       "    </tr>\n",
       "    <tr>\n",
       "      <th>2024-05-07 22:00:00+00:00</th>\n",
       "      <td>0.06</td>\n",
       "      <td>onyx.box</td>\n",
       "    </tr>\n",
       "    <tr>\n",
       "      <th>2024-05-08 08:00:00+00:00</th>\n",
       "      <td>0.00</td>\n",
       "      <td>vandalproductions.com</td>\n",
       "    </tr>\n",
       "    <tr>\n",
       "      <th>2024-05-08 08:00:00+00:00</th>\n",
       "      <td>0.00</td>\n",
       "      <td>alps.blog</td>\n",
       "    </tr>\n",
       "    <tr>\n",
       "      <th>2024-05-16 11:00:00+00:00</th>\n",
       "      <td>0.00</td>\n",
       "      <td>hgghjonline.xyz</td>\n",
       "    </tr>\n",
       "    <tr>\n",
       "      <th>2024-06-01 12:00:00+00:00</th>\n",
       "      <td>0.00</td>\n",
       "      <td>infringe.one</td>\n",
       "    </tr>\n",
       "    <tr>\n",
       "      <th>2024-07-02 01:00:00+00:00</th>\n",
       "      <td>0.00</td>\n",
       "      <td>kickinthenutsfactory.com</td>\n",
       "    </tr>\n",
       "    <tr>\n",
       "      <th>2024-07-05 05:00:00+00:00</th>\n",
       "      <td>0.00</td>\n",
       "      <td>eyeofthepanda.xyz</td>\n",
       "    </tr>\n",
       "    <tr>\n",
       "      <th>2024-07-06 14:00:00+00:00</th>\n",
       "      <td>0.00</td>\n",
       "      <td>pyokonin.quest</td>\n",
       "    </tr>\n",
       "    <tr>\n",
       "      <th>2024-07-06 14:00:00+00:00</th>\n",
       "      <td>0.00</td>\n",
       "      <td>terryfashion.xyz</td>\n",
       "    </tr>\n",
       "    <tr>\n",
       "      <th>2024-07-09 00:00:00+00:00</th>\n",
       "      <td>0.00</td>\n",
       "      <td>bitcoindata.xyz</td>\n",
       "    </tr>\n",
       "    <tr>\n",
       "      <th>2024-07-09 19:00:00+00:00</th>\n",
       "      <td>0.00</td>\n",
       "      <td>hezouckapickakrasnaonline.xyz</td>\n",
       "    </tr>\n",
       "    <tr>\n",
       "      <th>2024-06-13 19:00:00+00:00</th>\n",
       "      <td>0.00</td>\n",
       "      <td>geusa.xyz</td>\n",
       "    </tr>\n",
       "    <tr>\n",
       "      <th>2024-06-13 19:00:00+00:00</th>\n",
       "      <td>0.00</td>\n",
       "      <td>remzelicious.xyz</td>\n",
       "    </tr>\n",
       "    <tr>\n",
       "      <th>2024-06-19 01:00:00+00:00</th>\n",
       "      <td>0.00</td>\n",
       "      <td>enormopten.xyz</td>\n",
       "    </tr>\n",
       "    <tr>\n",
       "      <th>2024-06-07 03:00:00+00:00</th>\n",
       "      <td>0.00</td>\n",
       "      <td>zfk.buzz</td>\n",
       "    </tr>\n",
       "    <tr>\n",
       "      <th>2024-06-28 16:00:00+00:00</th>\n",
       "      <td>0.00</td>\n",
       "      <td>mrjameslillard.pro</td>\n",
       "    </tr>\n",
       "    <tr>\n",
       "      <th>2024-06-28 01:00:00+00:00</th>\n",
       "      <td>0.00</td>\n",
       "      <td>purpledott.xyz</td>\n",
       "    </tr>\n",
       "    <tr>\n",
       "      <th>2024-06-28 17:00:00+00:00</th>\n",
       "      <td>0.00</td>\n",
       "      <td>iloveonchaindomains.bio</td>\n",
       "    </tr>\n",
       "    <tr>\n",
       "      <th>2023-12-26 21:00:00+00:00</th>\n",
       "      <td>0.02</td>\n",
       "      <td>topdomains.finance</td>\n",
       "    </tr>\n",
       "    <tr>\n",
       "      <th>2024-01-01 03:00:00+00:00</th>\n",
       "      <td>0.15</td>\n",
       "      <td>2024.finance</td>\n",
       "    </tr>\n",
       "    <tr>\n",
       "      <th>2024-01-25 17:00:00+00:00</th>\n",
       "      <td>0.01</td>\n",
       "      <td>08000.xyz</td>\n",
       "    </tr>\n",
       "    <tr>\n",
       "      <th>2024-02-03 22:00:00+00:00</th>\n",
       "      <td>0.01</td>\n",
       "      <td>696.box</td>\n",
       "    </tr>\n",
       "    <tr>\n",
       "      <th>2024-02-05 17:00:00+00:00</th>\n",
       "      <td>0.01</td>\n",
       "      <td>jotaquest.buzz</td>\n",
       "    </tr>\n",
       "    <tr>\n",
       "      <th>2024-02-05 04:00:00+00:00</th>\n",
       "      <td>0.02</td>\n",
       "      <td>song.box</td>\n",
       "    </tr>\n",
       "    <tr>\n",
       "      <th>2024-02-06 05:00:00+00:00</th>\n",
       "      <td>0.01</td>\n",
       "      <td>07777.xyz</td>\n",
       "    </tr>\n",
       "    <tr>\n",
       "      <th>2024-02-10 19:00:00+00:00</th>\n",
       "      <td>0.04</td>\n",
       "      <td>to.box</td>\n",
       "    </tr>\n",
       "    <tr>\n",
       "      <th>2024-02-18 10:00:00+00:00</th>\n",
       "      <td>0.00</td>\n",
       "      <td>testnet.one</td>\n",
       "    </tr>\n",
       "    <tr>\n",
       "      <th>2024-02-20 12:00:00+00:00</th>\n",
       "      <td>0.07</td>\n",
       "      <td>uae.box</td>\n",
       "    </tr>\n",
       "    <tr>\n",
       "      <th>2024-02-22 04:00:00+00:00</th>\n",
       "      <td>0.04</td>\n",
       "      <td>08.box</td>\n",
       "    </tr>\n",
       "    <tr>\n",
       "      <th>2024-02-24 04:00:00+00:00</th>\n",
       "      <td>0.07</td>\n",
       "      <td>404.box</td>\n",
       "    </tr>\n",
       "    <tr>\n",
       "      <th>2024-02-25 07:00:00+00:00</th>\n",
       "      <td>0.10</td>\n",
       "      <td>38.box</td>\n",
       "    </tr>\n",
       "    <tr>\n",
       "      <th>2024-02-25 02:00:00+00:00</th>\n",
       "      <td>0.04</td>\n",
       "      <td>010.box</td>\n",
       "    </tr>\n",
       "    <tr>\n",
       "      <th>2024-02-25 03:00:00+00:00</th>\n",
       "      <td>0.04</td>\n",
       "      <td>ap.box</td>\n",
       "    </tr>\n",
       "    <tr>\n",
       "      <th>2024-02-25 03:00:00+00:00</th>\n",
       "      <td>0.07</td>\n",
       "      <td>40.box</td>\n",
       "    </tr>\n",
       "    <tr>\n",
       "      <th>2024-02-25 03:00:00+00:00</th>\n",
       "      <td>0.09</td>\n",
       "      <td>70.box</td>\n",
       "    </tr>\n",
       "    <tr>\n",
       "      <th>2024-02-25 03:00:00+00:00</th>\n",
       "      <td>0.04</td>\n",
       "      <td>015.box</td>\n",
       "    </tr>\n",
       "    <tr>\n",
       "      <th>2024-02-25 03:00:00+00:00</th>\n",
       "      <td>0.09</td>\n",
       "      <td>75.box</td>\n",
       "    </tr>\n",
       "    <tr>\n",
       "      <th>2024-03-03 06:00:00+00:00</th>\n",
       "      <td>0.00</td>\n",
       "      <td>farcaster.bio</td>\n",
       "    </tr>\n",
       "    <tr>\n",
       "      <th>2024-03-06 21:00:00+00:00</th>\n",
       "      <td>0.00</td>\n",
       "      <td>consulta.quest</td>\n",
       "    </tr>\n",
       "    <tr>\n",
       "      <th>2024-03-08 09:00:00+00:00</th>\n",
       "      <td>0.00</td>\n",
       "      <td>atechnologies.one</td>\n",
       "    </tr>\n",
       "    <tr>\n",
       "      <th>2024-03-16 19:00:00+00:00</th>\n",
       "      <td>0.01</td>\n",
       "      <td>soait.org</td>\n",
       "    </tr>\n",
       "    <tr>\n",
       "      <th>2024-03-18 08:00:00+00:00</th>\n",
       "      <td>0.00</td>\n",
       "      <td>whatwhois.com</td>\n",
       "    </tr>\n",
       "    <tr>\n",
       "      <th>2024-03-18 11:00:00+00:00</th>\n",
       "      <td>0.00</td>\n",
       "      <td>matic.wtf</td>\n",
       "    </tr>\n",
       "    <tr>\n",
       "      <th>2024-03-21 14:00:00+00:00</th>\n",
       "      <td>0.00</td>\n",
       "      <td>ballerz.wtf</td>\n",
       "    </tr>\n",
       "  </tbody>\n",
       "</table>\n",
       "</div>"
      ],
      "text/plain": [
       "                           price                           name\n",
       "day                                                            \n",
       "2024-03-27 14:00:00+00:00   0.00   justgivemethestuffplease.bio\n",
       "2024-04-03 01:00:00+00:00   0.00     champathedevourergroup.xyz\n",
       "2024-04-17 18:00:00+00:00   0.01                     mewtwo.box\n",
       "2024-04-24 01:00:00+00:00   0.00                  cryptoapp.one\n",
       "2024-04-24 04:00:00+00:00   0.03                       0000.box\n",
       "2024-04-24 01:00:00+00:00   0.00        stazidoghairartists.pro\n",
       "2024-04-25 21:00:00+00:00   0.10                    express.box\n",
       "2024-04-27 16:00:00+00:00  10.00                         vm.box\n",
       "2024-04-27 00:00:00+00:00   0.37                       jane.box\n",
       "2024-04-28 07:00:00+00:00   0.10                       good.box\n",
       "2024-04-28 01:00:00+00:00   0.07                        man.box\n",
       "2024-05-07 22:00:00+00:00   0.06                       onyx.box\n",
       "2024-05-08 08:00:00+00:00   0.00          vandalproductions.com\n",
       "2024-05-08 08:00:00+00:00   0.00                      alps.blog\n",
       "2024-05-16 11:00:00+00:00   0.00                hgghjonline.xyz\n",
       "2024-06-01 12:00:00+00:00   0.00                   infringe.one\n",
       "2024-07-02 01:00:00+00:00   0.00       kickinthenutsfactory.com\n",
       "2024-07-05 05:00:00+00:00   0.00              eyeofthepanda.xyz\n",
       "2024-07-06 14:00:00+00:00   0.00                 pyokonin.quest\n",
       "2024-07-06 14:00:00+00:00   0.00               terryfashion.xyz\n",
       "2024-07-09 00:00:00+00:00   0.00                bitcoindata.xyz\n",
       "2024-07-09 19:00:00+00:00   0.00  hezouckapickakrasnaonline.xyz\n",
       "2024-06-13 19:00:00+00:00   0.00                      geusa.xyz\n",
       "2024-06-13 19:00:00+00:00   0.00               remzelicious.xyz\n",
       "2024-06-19 01:00:00+00:00   0.00                 enormopten.xyz\n",
       "2024-06-07 03:00:00+00:00   0.00                       zfk.buzz\n",
       "2024-06-28 16:00:00+00:00   0.00             mrjameslillard.pro\n",
       "2024-06-28 01:00:00+00:00   0.00                 purpledott.xyz\n",
       "2024-06-28 17:00:00+00:00   0.00        iloveonchaindomains.bio\n",
       "2023-12-26 21:00:00+00:00   0.02             topdomains.finance\n",
       "2024-01-01 03:00:00+00:00   0.15                   2024.finance\n",
       "2024-01-25 17:00:00+00:00   0.01                      08000.xyz\n",
       "2024-02-03 22:00:00+00:00   0.01                        696.box\n",
       "2024-02-05 17:00:00+00:00   0.01                 jotaquest.buzz\n",
       "2024-02-05 04:00:00+00:00   0.02                       song.box\n",
       "2024-02-06 05:00:00+00:00   0.01                      07777.xyz\n",
       "2024-02-10 19:00:00+00:00   0.04                         to.box\n",
       "2024-02-18 10:00:00+00:00   0.00                    testnet.one\n",
       "2024-02-20 12:00:00+00:00   0.07                        uae.box\n",
       "2024-02-22 04:00:00+00:00   0.04                         08.box\n",
       "2024-02-24 04:00:00+00:00   0.07                        404.box\n",
       "2024-02-25 07:00:00+00:00   0.10                         38.box\n",
       "2024-02-25 02:00:00+00:00   0.04                        010.box\n",
       "2024-02-25 03:00:00+00:00   0.04                         ap.box\n",
       "2024-02-25 03:00:00+00:00   0.07                         40.box\n",
       "2024-02-25 03:00:00+00:00   0.09                         70.box\n",
       "2024-02-25 03:00:00+00:00   0.04                        015.box\n",
       "2024-02-25 03:00:00+00:00   0.09                         75.box\n",
       "2024-03-03 06:00:00+00:00   0.00                  farcaster.bio\n",
       "2024-03-06 21:00:00+00:00   0.00                 consulta.quest\n",
       "2024-03-08 09:00:00+00:00   0.00              atechnologies.one\n",
       "2024-03-16 19:00:00+00:00   0.01                      soait.org\n",
       "2024-03-18 08:00:00+00:00   0.00                  whatwhois.com\n",
       "2024-03-18 11:00:00+00:00   0.00                      matic.wtf\n",
       "2024-03-21 14:00:00+00:00   0.00                    ballerz.wtf"
      ]
     },
     "execution_count": 59,
     "metadata": {},
     "output_type": "execute_result"
    }
   ],
   "source": [
    "sales_with_names"
   ]
  },
  {
   "cell_type": "markdown",
   "metadata": {},
   "source": [
    "sales_with_names.dropna(inplace=True)"
   ]
  },
  {
   "cell_type": "code",
   "execution_count": 60,
   "metadata": {},
   "outputs": [
    {
     "data": {
      "text/html": [
       "<div>\n",
       "<style scoped>\n",
       "    .dataframe tbody tr th:only-of-type {\n",
       "        vertical-align: middle;\n",
       "    }\n",
       "\n",
       "    .dataframe tbody tr th {\n",
       "        vertical-align: top;\n",
       "    }\n",
       "\n",
       "    .dataframe thead th {\n",
       "        text-align: right;\n",
       "    }\n",
       "</style>\n",
       "<table border=\"1\" class=\"dataframe\">\n",
       "  <thead>\n",
       "    <tr style=\"text-align: right;\">\n",
       "      <th></th>\n",
       "      <th>price</th>\n",
       "      <th>name</th>\n",
       "    </tr>\n",
       "    <tr>\n",
       "      <th>day</th>\n",
       "      <th></th>\n",
       "      <th></th>\n",
       "    </tr>\n",
       "  </thead>\n",
       "  <tbody>\n",
       "    <tr>\n",
       "      <th>2024-04-17 18:00:00+00:00</th>\n",
       "      <td>0.01</td>\n",
       "      <td>mewtwo.box</td>\n",
       "    </tr>\n",
       "    <tr>\n",
       "      <th>2024-04-24 04:00:00+00:00</th>\n",
       "      <td>0.03</td>\n",
       "      <td>0000.box</td>\n",
       "    </tr>\n",
       "    <tr>\n",
       "      <th>2024-04-25 21:00:00+00:00</th>\n",
       "      <td>0.10</td>\n",
       "      <td>express.box</td>\n",
       "    </tr>\n",
       "    <tr>\n",
       "      <th>2024-04-27 16:00:00+00:00</th>\n",
       "      <td>10.00</td>\n",
       "      <td>vm.box</td>\n",
       "    </tr>\n",
       "    <tr>\n",
       "      <th>2024-04-27 00:00:00+00:00</th>\n",
       "      <td>0.37</td>\n",
       "      <td>jane.box</td>\n",
       "    </tr>\n",
       "    <tr>\n",
       "      <th>2024-04-28 07:00:00+00:00</th>\n",
       "      <td>0.10</td>\n",
       "      <td>good.box</td>\n",
       "    </tr>\n",
       "    <tr>\n",
       "      <th>2024-04-28 01:00:00+00:00</th>\n",
       "      <td>0.07</td>\n",
       "      <td>man.box</td>\n",
       "    </tr>\n",
       "    <tr>\n",
       "      <th>2024-05-07 22:00:00+00:00</th>\n",
       "      <td>0.06</td>\n",
       "      <td>onyx.box</td>\n",
       "    </tr>\n",
       "    <tr>\n",
       "      <th>2024-02-03 22:00:00+00:00</th>\n",
       "      <td>0.01</td>\n",
       "      <td>696.box</td>\n",
       "    </tr>\n",
       "    <tr>\n",
       "      <th>2024-02-05 04:00:00+00:00</th>\n",
       "      <td>0.02</td>\n",
       "      <td>song.box</td>\n",
       "    </tr>\n",
       "    <tr>\n",
       "      <th>2024-02-10 19:00:00+00:00</th>\n",
       "      <td>0.04</td>\n",
       "      <td>to.box</td>\n",
       "    </tr>\n",
       "    <tr>\n",
       "      <th>2024-02-20 12:00:00+00:00</th>\n",
       "      <td>0.07</td>\n",
       "      <td>uae.box</td>\n",
       "    </tr>\n",
       "    <tr>\n",
       "      <th>2024-02-22 04:00:00+00:00</th>\n",
       "      <td>0.04</td>\n",
       "      <td>08.box</td>\n",
       "    </tr>\n",
       "    <tr>\n",
       "      <th>2024-02-24 04:00:00+00:00</th>\n",
       "      <td>0.07</td>\n",
       "      <td>404.box</td>\n",
       "    </tr>\n",
       "    <tr>\n",
       "      <th>2024-02-25 07:00:00+00:00</th>\n",
       "      <td>0.10</td>\n",
       "      <td>38.box</td>\n",
       "    </tr>\n",
       "    <tr>\n",
       "      <th>2024-02-25 02:00:00+00:00</th>\n",
       "      <td>0.04</td>\n",
       "      <td>010.box</td>\n",
       "    </tr>\n",
       "    <tr>\n",
       "      <th>2024-02-25 03:00:00+00:00</th>\n",
       "      <td>0.04</td>\n",
       "      <td>ap.box</td>\n",
       "    </tr>\n",
       "    <tr>\n",
       "      <th>2024-02-25 03:00:00+00:00</th>\n",
       "      <td>0.07</td>\n",
       "      <td>40.box</td>\n",
       "    </tr>\n",
       "    <tr>\n",
       "      <th>2024-02-25 03:00:00+00:00</th>\n",
       "      <td>0.09</td>\n",
       "      <td>70.box</td>\n",
       "    </tr>\n",
       "    <tr>\n",
       "      <th>2024-02-25 03:00:00+00:00</th>\n",
       "      <td>0.04</td>\n",
       "      <td>015.box</td>\n",
       "    </tr>\n",
       "    <tr>\n",
       "      <th>2024-02-25 03:00:00+00:00</th>\n",
       "      <td>0.09</td>\n",
       "      <td>75.box</td>\n",
       "    </tr>\n",
       "  </tbody>\n",
       "</table>\n",
       "</div>"
      ],
      "text/plain": [
       "                           price         name\n",
       "day                                          \n",
       "2024-04-17 18:00:00+00:00   0.01   mewtwo.box\n",
       "2024-04-24 04:00:00+00:00   0.03     0000.box\n",
       "2024-04-25 21:00:00+00:00   0.10  express.box\n",
       "2024-04-27 16:00:00+00:00  10.00       vm.box\n",
       "2024-04-27 00:00:00+00:00   0.37     jane.box\n",
       "2024-04-28 07:00:00+00:00   0.10     good.box\n",
       "2024-04-28 01:00:00+00:00   0.07      man.box\n",
       "2024-05-07 22:00:00+00:00   0.06     onyx.box\n",
       "2024-02-03 22:00:00+00:00   0.01      696.box\n",
       "2024-02-05 04:00:00+00:00   0.02     song.box\n",
       "2024-02-10 19:00:00+00:00   0.04       to.box\n",
       "2024-02-20 12:00:00+00:00   0.07      uae.box\n",
       "2024-02-22 04:00:00+00:00   0.04       08.box\n",
       "2024-02-24 04:00:00+00:00   0.07      404.box\n",
       "2024-02-25 07:00:00+00:00   0.10       38.box\n",
       "2024-02-25 02:00:00+00:00   0.04      010.box\n",
       "2024-02-25 03:00:00+00:00   0.04       ap.box\n",
       "2024-02-25 03:00:00+00:00   0.07       40.box\n",
       "2024-02-25 03:00:00+00:00   0.09       70.box\n",
       "2024-02-25 03:00:00+00:00   0.04      015.box\n",
       "2024-02-25 03:00:00+00:00   0.09       75.box"
      ]
     },
     "execution_count": 60,
     "metadata": {},
     "output_type": "execute_result"
    }
   ],
   "source": [
    "box_domains_sales = sales_with_names[sales_with_names['name'].str.endswith('.box')]\n",
    "box_domains_sales"
   ]
  },
  {
   "cell_type": "code",
   "execution_count": 61,
   "metadata": {},
   "outputs": [],
   "source": [
    "eth_usd_df.set_index('day', inplace=True)\n",
    "eth_usd_df.index = pd.to_datetime(eth_usd_df.index)\n",
    "eth_usd_df.drop(columns=['__row_index'], inplace=True)"
   ]
  },
  {
   "cell_type": "code",
   "execution_count": 62,
   "metadata": {},
   "outputs": [],
   "source": [
    "eth_usd_df.rename(columns={'price':'eth_usd'}, inplace=True)"
   ]
  },
  {
   "cell_type": "code",
   "execution_count": 63,
   "metadata": {},
   "outputs": [
    {
     "name": "stderr",
     "output_type": "stream",
     "text": [
      "C:\\Users\\brandyns pc\\AppData\\Local\\Temp\\ipykernel_61036\\1480011625.py:1: FutureWarning:\n",
      "\n",
      "The behavior of 'to_datetime' with 'unit' when parsing strings is deprecated. In a future version, strings will be parsed as datetime strings, matching the behavior without a 'unit'. To retain the old behavior, explicitly cast ints or floats to numeric type before calling to_datetime.\n",
      "\n",
      "C:\\Users\\brandyns pc\\AppData\\Local\\Temp\\ipykernel_61036\\1480011625.py:1: SettingWithCopyWarning:\n",
      "\n",
      "\n",
      "A value is trying to be set on a copy of a slice from a DataFrame.\n",
      "Try using .loc[row_indexer,col_indexer] = value instead\n",
      "\n",
      "See the caveats in the documentation: https://pandas.pydata.org/pandas-docs/stable/user_guide/indexing.html#returning-a-view-versus-a-copy\n",
      "\n",
      "C:\\Users\\brandyns pc\\AppData\\Local\\Temp\\ipykernel_61036\\1480011625.py:2: FutureWarning:\n",
      "\n",
      "The behavior of 'to_datetime' with 'unit' when parsing strings is deprecated. In a future version, strings will be parsed as datetime strings, matching the behavior without a 'unit'. To retain the old behavior, explicitly cast ints or floats to numeric type before calling to_datetime.\n",
      "\n",
      "C:\\Users\\brandyns pc\\AppData\\Local\\Temp\\ipykernel_61036\\1480011625.py:2: SettingWithCopyWarning:\n",
      "\n",
      "\n",
      "A value is trying to be set on a copy of a slice from a DataFrame.\n",
      "Try using .loc[row_indexer,col_indexer] = value instead\n",
      "\n",
      "See the caveats in the documentation: https://pandas.pydata.org/pandas-docs/stable/user_guide/indexing.html#returning-a-view-versus-a-copy\n",
      "\n"
     ]
    }
   ],
   "source": [
    "box_listings['start_time'] = pd.to_datetime(box_listings['start_time'], unit='s').dt.strftime('%Y-%m-%d %H:00:00')\n",
    "box_listings['end_time'] = pd.to_datetime(box_listings['end_time'], unit='s').dt.strftime('%Y-%m-%d %H:00:00')"
   ]
  },
  {
   "cell_type": "code",
   "execution_count": 64,
   "metadata": {},
   "outputs": [],
   "source": [
    "eth_usd_df_copy = eth_usd_df.reset_index().copy()\n",
    "eth_usd_df_copy.rename(columns={'day':'start_time'}, inplace=True)"
   ]
  },
  {
   "cell_type": "code",
   "execution_count": 65,
   "metadata": {},
   "outputs": [],
   "source": [
    "eth_usd_df_copy['start_time'] = pd.to_datetime(eth_usd_df_copy['start_time']).dt.tz_localize(None)"
   ]
  },
  {
   "cell_type": "code",
   "execution_count": 66,
   "metadata": {},
   "outputs": [
    {
     "name": "stderr",
     "output_type": "stream",
     "text": [
      "C:\\Users\\brandyns pc\\AppData\\Local\\Temp\\ipykernel_61036\\1939952577.py:1: SettingWithCopyWarning:\n",
      "\n",
      "\n",
      "A value is trying to be set on a copy of a slice from a DataFrame.\n",
      "Try using .loc[row_indexer,col_indexer] = value instead\n",
      "\n",
      "See the caveats in the documentation: https://pandas.pydata.org/pandas-docs/stable/user_guide/indexing.html#returning-a-view-versus-a-copy\n",
      "\n"
     ]
    }
   ],
   "source": [
    "box_listings['start_time'] = pd.to_datetime(box_listings['start_time']) "
   ]
  },
  {
   "cell_type": "code",
   "execution_count": 67,
   "metadata": {},
   "outputs": [],
   "source": [
    "eth_usd_df_copy_2 = eth_usd_df_copy.copy()\n",
    "eth_usd_df_copy_2.rename(columns={'start_time':'bid_event_timestamp', 'eth_usd':'eth_usd_bid'}, inplace=True)"
   ]
  },
  {
   "cell_type": "code",
   "execution_count": 68,
   "metadata": {},
   "outputs": [],
   "source": [
    "eth_usd_df_copy_3 = eth_usd_df_copy.copy()\n",
    "eth_usd_df_copy_3.rename(columns={'start_time':'sale_event_timestamp', 'eth_usd':'eth_usd_sale'}, inplace=True)"
   ]
  },
  {
   "cell_type": "code",
   "execution_count": 69,
   "metadata": {},
   "outputs": [],
   "source": [
    "closest_listings['bid_event_timestamp'] = pd.to_datetime(closest_listings['bid_event_timestamp'])\n",
    "closest_listings['sale_event_timestamp'] = pd.to_datetime(closest_listings['sale_event_timestamp'])"
   ]
  },
  {
   "cell_type": "code",
   "execution_count": 70,
   "metadata": {},
   "outputs": [],
   "source": [
    "closest_listings = closest_listings.merge(eth_usd_df_copy_2, how='left', on='bid_event_timestamp')"
   ]
  },
  {
   "cell_type": "code",
   "execution_count": 71,
   "metadata": {},
   "outputs": [],
   "source": [
    "closest_listings = closest_listings.merge(eth_usd_df_copy_3, how='left', on='sale_event_timestamp')"
   ]
  },
  {
   "cell_type": "code",
   "execution_count": 72,
   "metadata": {},
   "outputs": [],
   "source": [
    "closest_listings['sale_usd'] = closest_listings['sale_quantity'] * closest_listings['eth_usd_sale']\n",
    "closest_listings['list_usd'] = closest_listings['listing_quantity'] * closest_listings['eth_usd_bid']"
   ]
  },
  {
   "cell_type": "code",
   "execution_count": 73,
   "metadata": {},
   "outputs": [],
   "source": [
    "closest_listings['percent_change'] = (closest_listings['sale_usd'] - closest_listings['list_usd']) / closest_listings['list_usd'] * 100"
   ]
  },
  {
   "cell_type": "code",
   "execution_count": 74,
   "metadata": {},
   "outputs": [
    {
     "name": "stdout",
     "output_type": "stream",
     "text": [
      "-14.673687659116787\n"
     ]
    }
   ],
   "source": [
    "listing_price_to_sale_avg_pct_change = closest_listings['percent_change'].mean()\n",
    "print(listing_price_to_sale_avg_pct_change)"
   ]
  },
  {
   "cell_type": "code",
   "execution_count": 75,
   "metadata": {},
   "outputs": [],
   "source": [
    "\n",
    "box_listings = box_listings.merge(eth_usd_df_copy, how='left', on='start_time') "
   ]
  },
  {
   "cell_type": "code",
   "execution_count": 76,
   "metadata": {},
   "outputs": [],
   "source": [
    "box_listings.drop(columns=['order_hash'], inplace=True)"
   ]
  },
  {
   "cell_type": "code",
   "execution_count": 77,
   "metadata": {},
   "outputs": [],
   "source": [
    "box_listings['price_in_usd_start_time'] = box_listings['price_in_eth'] * box_listings['eth_usd']"
   ]
  },
  {
   "cell_type": "code",
   "execution_count": 78,
   "metadata": {},
   "outputs": [],
   "source": [
    "box_listings.set_index('start_time', inplace=True)\n",
    "box_listings_max_daily = box_listings['price_in_usd_start_time'].resample('D').max()"
   ]
  },
  {
   "cell_type": "code",
   "execution_count": 79,
   "metadata": {},
   "outputs": [
    {
     "data": {
      "text/plain": [
       "np.int64(531)"
      ]
     },
     "execution_count": 79,
     "metadata": {},
     "output_type": "execute_result"
    }
   ],
   "source": [
    "box_listings_num_daily = box_listings['name'].resample('D').count()\n",
    "total_box_listings = box_listings_num_daily.sum()\n",
    "total_box_listings"
   ]
  },
  {
   "cell_type": "code",
   "execution_count": 80,
   "metadata": {},
   "outputs": [],
   "source": [
    "box_listings_min_daily = box_listings['price_in_usd_start_time'].resample('D').min()\n",
    "box_listings_avg_daily = box_listings['price_in_usd_start_time'].resample('D').mean()"
   ]
  },
  {
   "cell_type": "code",
   "execution_count": 81,
   "metadata": {},
   "outputs": [],
   "source": [
    "box_listings_max_daily.fillna(0, inplace=True)\n",
    "box_listings_min_daily.fillna(0, inplace=True)\n",
    "box_listings_avg_daily.fillna(0, inplace=True)"
   ]
  },
  {
   "cell_type": "code",
   "execution_count": 82,
   "metadata": {},
   "outputs": [],
   "source": [
    "box_listing_data = pd.merge(box_listings_num_daily.to_frame('listings'), box_listings_max_daily.to_frame('max_price'), left_index=True,\n",
    "                            right_index=True, how='inner')"
   ]
  },
  {
   "cell_type": "code",
   "execution_count": 83,
   "metadata": {},
   "outputs": [],
   "source": [
    "box_listing_data = box_listing_data.merge(box_listings_min_daily.to_frame('min_price'), left_index=True,\n",
    "                                          right_index=True, how='inner')\n",
    "\n",
    "box_listing_data = box_listing_data.merge(box_listings_avg_daily.to_frame('avg_price'), left_index=True,\n",
    "                                          right_index=True, how='inner')"
   ]
  },
  {
   "cell_type": "code",
   "execution_count": 84,
   "metadata": {},
   "outputs": [
    {
     "name": "stderr",
     "output_type": "stream",
     "text": [
      "C:\\Users\\brandyns pc\\AppData\\Local\\Temp\\ipykernel_61036\\1847853540.py:1: FutureWarning:\n",
      "\n",
      "'M' is deprecated and will be removed in a future version, please use 'ME' instead.\n",
      "\n"
     ]
    },
    {
     "data": {
      "text/plain": [
       "start_time\n",
       "2024-01-31     36\n",
       "2024-02-29     17\n",
       "2024-03-31     11\n",
       "2024-04-30     93\n",
       "2024-05-31    144\n",
       "2024-06-30    173\n",
       "2024-07-31     57\n",
       "Freq: ME, Name: name, dtype: int64"
      ]
     },
     "execution_count": 84,
     "metadata": {},
     "output_type": "execute_result"
    }
   ],
   "source": [
    "monthly_listings = box_listings['name'].resample('M').count()\n",
    "monthly_listings"
   ]
  },
  {
   "cell_type": "code",
   "execution_count": 85,
   "metadata": {},
   "outputs": [],
   "source": [
    "def monthly_listings_growth_rate(listings):\n",
    "    previous_month = listings.shift(1)\n",
    "    growth_rate = ((listings - previous_month) / previous_month) * 100\n",
    "    return growth_rate"
   ]
  },
  {
   "cell_type": "code",
   "execution_count": 86,
   "metadata": {},
   "outputs": [],
   "source": [
    "listings_growth_rate = monthly_listings_growth_rate(monthly_listings)\n"
   ]
  },
  {
   "cell_type": "code",
   "execution_count": 87,
   "metadata": {},
   "outputs": [
    {
     "data": {
      "text/plain": [
       "start_time\n",
       "2024-02-29   -52.78\n",
       "2024-03-31   -35.29\n",
       "2024-04-30   745.45\n",
       "2024-05-31    54.84\n",
       "2024-06-30    20.14\n",
       "2024-07-31   -67.05\n",
       "Freq: ME, Name: name, dtype: float64"
      ]
     },
     "execution_count": 87,
     "metadata": {},
     "output_type": "execute_result"
    }
   ],
   "source": [
    "listings_growth_rate.dropna(inplace=True)\n",
    "listings_growth_rate"
   ]
  },
  {
   "cell_type": "code",
   "execution_count": 88,
   "metadata": {},
   "outputs": [],
   "source": [
    "box_domains_sales = box_domains_sales.merge(eth_usd_df, left_index=True, right_index=True, how='left')"
   ]
  },
  {
   "cell_type": "code",
   "execution_count": 89,
   "metadata": {},
   "outputs": [],
   "source": [
    "box_domains_sales['price_usd'] = box_domains_sales['price'] * box_domains_sales['eth_usd']\n",
    "box_domains_sales.rename(columns={'price':'price_eth'}, inplace=True)"
   ]
  },
  {
   "cell_type": "code",
   "execution_count": 90,
   "metadata": {},
   "outputs": [],
   "source": [
    "box_domains_sales.drop(columns=['eth_usd'], inplace=True)\n"
   ]
  },
  {
   "cell_type": "code",
   "execution_count": 91,
   "metadata": {},
   "outputs": [
    {
     "name": "stderr",
     "output_type": "stream",
     "text": [
      "C:\\Users\\brandyns pc\\AppData\\Local\\Temp\\ipykernel_61036\\3245620862.py:2: SettingWithCopyWarning:\n",
      "\n",
      "\n",
      "A value is trying to be set on a copy of a slice from a DataFrame\n",
      "\n",
      "See the caveats in the documentation: https://pandas.pydata.org/pandas-docs/stable/user_guide/indexing.html#returning-a-view-versus-a-copy\n",
      "\n"
     ]
    }
   ],
   "source": [
    "box_domains_sales.sort_index(inplace=True)\n",
    "box_domains_mints.sort_index(inplace=True)"
   ]
  },
  {
   "cell_type": "code",
   "execution_count": 92,
   "metadata": {},
   "outputs": [],
   "source": [
    "box_domains_sales = box_domains_sales[['name', 'price_usd','price_eth']]\n"
   ]
  },
  {
   "cell_type": "code",
   "execution_count": 93,
   "metadata": {},
   "outputs": [
    {
     "name": "stdout",
     "output_type": "stream",
     "text": [
      "Maximum sale: \n",
      " name           vm.box\n",
      "price_usd   31,481.47\n",
      "price_eth       10.00\n",
      "Name: 2024-04-27 16:00:00+00:00, dtype: object\n"
     ]
    }
   ],
   "source": [
    "max_eth_sale = box_domains_sales['price_eth'].max()\n",
    "max_usd_sale = box_domains_sales['price_usd'].max()\n",
    "\n",
    "# Retrieve the corresponding timestamps\n",
    "max_eth_sale_row = box_domains_sales.loc[box_domains_sales['price_eth'].idxmax()]\n",
    "max_usd_sale_row = box_domains_sales.loc[box_domains_sales['price_usd'].idxmax()]\n",
    "\n",
    "# Display the results\n",
    "print(f\"Maximum sale: \\n {max_eth_sale_row}\")\n"
   ]
  },
  {
   "cell_type": "code",
   "execution_count": 94,
   "metadata": {},
   "outputs": [
    {
     "name": "stdout",
     "output_type": "stream",
     "text": [
      "total .box domain sales as of 2024-07-10 19:48:47.497738 : 21\n"
     ]
    }
   ],
   "source": [
    "total_box_sales = box_domains_sales['name'].count()\n",
    "print(f'total .box domain sales as of {dt.datetime.today()} : {total_box_sales}')"
   ]
  },
  {
   "cell_type": "code",
   "execution_count": 95,
   "metadata": {},
   "outputs": [
    {
     "data": {
      "text/plain": [
       "day\n",
       "2024-02-03 00:00:00+00:00    1\n",
       "2024-02-04 00:00:00+00:00    0\n",
       "2024-02-05 00:00:00+00:00    1\n",
       "2024-02-06 00:00:00+00:00    0\n",
       "2024-02-07 00:00:00+00:00    0\n",
       "                            ..\n",
       "2024-05-03 00:00:00+00:00    0\n",
       "2024-05-04 00:00:00+00:00    0\n",
       "2024-05-05 00:00:00+00:00    0\n",
       "2024-05-06 00:00:00+00:00    0\n",
       "2024-05-07 00:00:00+00:00    1\n",
       "Freq: D, Name: name, Length: 95, dtype: int64"
      ]
     },
     "execution_count": 95,
     "metadata": {},
     "output_type": "execute_result"
    }
   ],
   "source": [
    "daily_box_sales = box_domains_sales['name'].resample('D').count()\n",
    "daily_box_sales"
   ]
  },
  {
   "cell_type": "code",
   "execution_count": 96,
   "metadata": {},
   "outputs": [
    {
     "data": {
      "text/plain": [
       "day\n",
       "2024-02-03 00:00:00+00:00       33.09\n",
       "2024-02-04 00:00:00+00:00       33.09\n",
       "2024-02-05 00:00:00+00:00       78.69\n",
       "2024-02-06 00:00:00+00:00       78.69\n",
       "2024-02-07 00:00:00+00:00       78.69\n",
       "                               ...   \n",
       "2024-05-03 00:00:00+00:00   35,720.31\n",
       "2024-05-04 00:00:00+00:00   35,720.31\n",
       "2024-05-05 00:00:00+00:00   35,720.31\n",
       "2024-05-06 00:00:00+00:00   35,720.31\n",
       "2024-05-07 00:00:00+00:00   35,888.14\n",
       "Freq: D, Name: price_usd, Length: 95, dtype: float64"
      ]
     },
     "execution_count": 96,
     "metadata": {},
     "output_type": "execute_result"
    }
   ],
   "source": [
    "daily_box_vol = box_domains_sales['price_usd'].resample('D').sum()\n",
    "cumulative_box_vol = daily_box_vol.cumsum()\n",
    "cumulative_box_vol"
   ]
  },
  {
   "cell_type": "code",
   "execution_count": 97,
   "metadata": {},
   "outputs": [],
   "source": [
    "daily_box_sales_fig = px.bar(daily_box_sales.to_frame('sales'), x=daily_box_sales.index, y='sales', title='Daily Sales')\n",
    "# daily_box_sales_fig.show()"
   ]
  },
  {
   "cell_type": "code",
   "execution_count": 98,
   "metadata": {},
   "outputs": [
    {
     "data": {
      "text/html": [
       "<div>\n",
       "<style scoped>\n",
       "    .dataframe tbody tr th:only-of-type {\n",
       "        vertical-align: middle;\n",
       "    }\n",
       "\n",
       "    .dataframe tbody tr th {\n",
       "        vertical-align: top;\n",
       "    }\n",
       "\n",
       "    .dataframe thead th {\n",
       "        text-align: right;\n",
       "    }\n",
       "</style>\n",
       "<table border=\"1\" class=\"dataframe\">\n",
       "  <thead>\n",
       "    <tr style=\"text-align: right;\">\n",
       "      <th></th>\n",
       "      <th>name</th>\n",
       "      <th>price_usd</th>\n",
       "      <th>price_eth</th>\n",
       "    </tr>\n",
       "    <tr>\n",
       "      <th>day</th>\n",
       "      <th></th>\n",
       "      <th></th>\n",
       "      <th></th>\n",
       "    </tr>\n",
       "  </thead>\n",
       "  <tbody>\n",
       "    <tr>\n",
       "      <th>2024-02-25 03:00:00+00:00</th>\n",
       "      <td>015.box</td>\n",
       "      <td>104.68</td>\n",
       "      <td>0.04</td>\n",
       "    </tr>\n",
       "    <tr>\n",
       "      <th>2024-02-25 07:00:00+00:00</th>\n",
       "      <td>38.box</td>\n",
       "      <td>301.73</td>\n",
       "      <td>0.10</td>\n",
       "    </tr>\n",
       "    <tr>\n",
       "      <th>2024-04-17 18:00:00+00:00</th>\n",
       "      <td>mewtwo.box</td>\n",
       "      <td>29.61</td>\n",
       "      <td>0.01</td>\n",
       "    </tr>\n",
       "    <tr>\n",
       "      <th>2024-04-24 04:00:00+00:00</th>\n",
       "      <td>0000.box</td>\n",
       "      <td>93.92</td>\n",
       "      <td>0.03</td>\n",
       "    </tr>\n",
       "    <tr>\n",
       "      <th>2024-04-25 21:00:00+00:00</th>\n",
       "      <td>express.box</td>\n",
       "      <td>317.33</td>\n",
       "      <td>0.10</td>\n",
       "    </tr>\n",
       "    <tr>\n",
       "      <th>2024-04-27 00:00:00+00:00</th>\n",
       "      <td>jane.box</td>\n",
       "      <td>1,151.71</td>\n",
       "      <td>0.37</td>\n",
       "    </tr>\n",
       "    <tr>\n",
       "      <th>2024-04-27 16:00:00+00:00</th>\n",
       "      <td>vm.box</td>\n",
       "      <td>31,481.47</td>\n",
       "      <td>10.00</td>\n",
       "    </tr>\n",
       "    <tr>\n",
       "      <th>2024-04-28 01:00:00+00:00</th>\n",
       "      <td>man.box</td>\n",
       "      <td>224.60</td>\n",
       "      <td>0.07</td>\n",
       "    </tr>\n",
       "    <tr>\n",
       "      <th>2024-04-28 07:00:00+00:00</th>\n",
       "      <td>good.box</td>\n",
       "      <td>314.61</td>\n",
       "      <td>0.10</td>\n",
       "    </tr>\n",
       "    <tr>\n",
       "      <th>2024-05-07 22:00:00+00:00</th>\n",
       "      <td>onyx.box</td>\n",
       "      <td>167.83</td>\n",
       "      <td>0.06</td>\n",
       "    </tr>\n",
       "  </tbody>\n",
       "</table>\n",
       "</div>"
      ],
      "text/plain": [
       "                                  name  price_usd  price_eth\n",
       "day                                                         \n",
       "2024-02-25 03:00:00+00:00      015.box     104.68       0.04\n",
       "2024-02-25 07:00:00+00:00       38.box     301.73       0.10\n",
       "2024-04-17 18:00:00+00:00   mewtwo.box      29.61       0.01\n",
       "2024-04-24 04:00:00+00:00     0000.box      93.92       0.03\n",
       "2024-04-25 21:00:00+00:00  express.box     317.33       0.10\n",
       "2024-04-27 00:00:00+00:00     jane.box   1,151.71       0.37\n",
       "2024-04-27 16:00:00+00:00       vm.box  31,481.47      10.00\n",
       "2024-04-28 01:00:00+00:00      man.box     224.60       0.07\n",
       "2024-04-28 07:00:00+00:00     good.box     314.61       0.10\n",
       "2024-05-07 22:00:00+00:00     onyx.box     167.83       0.06"
      ]
     },
     "execution_count": 98,
     "metadata": {},
     "output_type": "execute_result"
    }
   ],
   "source": [
    "latest_box_domains_sales = box_domains_sales.iloc[-10:] \n",
    "latest_box_domains_sales"
   ]
  },
  {
   "cell_type": "code",
   "execution_count": 99,
   "metadata": {},
   "outputs": [],
   "source": [
    "latest_box_domains_mints = box_domains_mints.iloc[-10:]\n",
    "# latest_box_domains_mints"
   ]
  },
  {
   "cell_type": "code",
   "execution_count": 100,
   "metadata": {},
   "outputs": [],
   "source": [
    "cumulative_box_mints = daily_box_mints.cumsum()\n",
    "cumulative_box_mints.rename(columns={'mints':'cumulative mints'}, inplace=True)"
   ]
  },
  {
   "cell_type": "code",
   "execution_count": 101,
   "metadata": {},
   "outputs": [],
   "source": [
    "daily_mint_metrics = daily_box_mints.merge(cumulative_box_mints, left_index=True, right_index=True, how='inner')\n",
    "# daily_mint_metrics"
   ]
  },
  {
   "cell_type": "code",
   "execution_count": 102,
   "metadata": {},
   "outputs": [
    {
     "data": {
      "application/vnd.plotly.v1+json": {
       "config": {
        "plotlyServerURL": "https://plot.ly"
       },
       "data": [
        {
         "name": "Mints",
         "type": "bar",
         "x": [
          "2023-10-04T00:00:00+00:00",
          "2023-10-05T00:00:00+00:00",
          "2023-10-06T00:00:00+00:00",
          "2023-10-07T00:00:00+00:00",
          "2023-10-08T00:00:00+00:00",
          "2023-10-09T00:00:00+00:00",
          "2023-10-10T00:00:00+00:00",
          "2023-10-11T00:00:00+00:00",
          "2023-10-12T00:00:00+00:00",
          "2023-10-13T00:00:00+00:00",
          "2023-10-14T00:00:00+00:00",
          "2023-10-15T00:00:00+00:00",
          "2023-10-16T00:00:00+00:00",
          "2023-10-17T00:00:00+00:00",
          "2023-10-18T00:00:00+00:00",
          "2023-10-19T00:00:00+00:00",
          "2023-10-20T00:00:00+00:00",
          "2023-10-21T00:00:00+00:00",
          "2023-10-22T00:00:00+00:00",
          "2023-10-23T00:00:00+00:00",
          "2023-10-24T00:00:00+00:00",
          "2023-10-25T00:00:00+00:00",
          "2023-10-26T00:00:00+00:00",
          "2023-10-27T00:00:00+00:00",
          "2023-10-28T00:00:00+00:00",
          "2023-10-29T00:00:00+00:00",
          "2023-10-30T00:00:00+00:00",
          "2023-10-31T00:00:00+00:00",
          "2023-11-01T00:00:00+00:00",
          "2023-11-02T00:00:00+00:00",
          "2023-11-03T00:00:00+00:00",
          "2023-11-04T00:00:00+00:00",
          "2023-11-05T00:00:00+00:00",
          "2023-11-06T00:00:00+00:00",
          "2023-11-07T00:00:00+00:00",
          "2023-11-08T00:00:00+00:00",
          "2023-11-09T00:00:00+00:00",
          "2023-11-10T00:00:00+00:00",
          "2023-11-11T00:00:00+00:00",
          "2023-11-12T00:00:00+00:00",
          "2023-11-13T00:00:00+00:00",
          "2023-11-14T00:00:00+00:00",
          "2023-11-15T00:00:00+00:00",
          "2023-11-16T00:00:00+00:00",
          "2023-11-17T00:00:00+00:00",
          "2023-11-18T00:00:00+00:00",
          "2023-11-19T00:00:00+00:00",
          "2023-11-20T00:00:00+00:00",
          "2023-11-21T00:00:00+00:00",
          "2023-11-22T00:00:00+00:00",
          "2023-11-23T00:00:00+00:00",
          "2023-11-24T00:00:00+00:00",
          "2023-11-25T00:00:00+00:00",
          "2023-11-26T00:00:00+00:00",
          "2023-11-27T00:00:00+00:00",
          "2023-11-28T00:00:00+00:00",
          "2023-11-29T00:00:00+00:00",
          "2023-11-30T00:00:00+00:00",
          "2023-12-01T00:00:00+00:00",
          "2023-12-02T00:00:00+00:00",
          "2023-12-03T00:00:00+00:00",
          "2023-12-04T00:00:00+00:00",
          "2023-12-05T00:00:00+00:00",
          "2023-12-06T00:00:00+00:00",
          "2023-12-07T00:00:00+00:00",
          "2023-12-08T00:00:00+00:00",
          "2023-12-09T00:00:00+00:00",
          "2023-12-10T00:00:00+00:00",
          "2023-12-11T00:00:00+00:00",
          "2023-12-12T00:00:00+00:00",
          "2023-12-13T00:00:00+00:00",
          "2023-12-14T00:00:00+00:00",
          "2023-12-15T00:00:00+00:00",
          "2023-12-16T00:00:00+00:00",
          "2023-12-17T00:00:00+00:00",
          "2023-12-18T00:00:00+00:00",
          "2023-12-19T00:00:00+00:00",
          "2023-12-20T00:00:00+00:00",
          "2023-12-21T00:00:00+00:00",
          "2023-12-22T00:00:00+00:00",
          "2023-12-23T00:00:00+00:00",
          "2023-12-24T00:00:00+00:00",
          "2023-12-25T00:00:00+00:00",
          "2023-12-26T00:00:00+00:00",
          "2023-12-27T00:00:00+00:00",
          "2023-12-28T00:00:00+00:00",
          "2023-12-29T00:00:00+00:00",
          "2023-12-30T00:00:00+00:00",
          "2023-12-31T00:00:00+00:00",
          "2024-01-01T00:00:00+00:00",
          "2024-01-02T00:00:00+00:00",
          "2024-01-03T00:00:00+00:00",
          "2024-01-04T00:00:00+00:00",
          "2024-01-05T00:00:00+00:00",
          "2024-01-06T00:00:00+00:00",
          "2024-01-07T00:00:00+00:00",
          "2024-01-08T00:00:00+00:00",
          "2024-01-09T00:00:00+00:00",
          "2024-01-10T00:00:00+00:00",
          "2024-01-11T00:00:00+00:00",
          "2024-01-12T00:00:00+00:00",
          "2024-01-13T00:00:00+00:00",
          "2024-01-14T00:00:00+00:00",
          "2024-01-15T00:00:00+00:00",
          "2024-01-16T00:00:00+00:00",
          "2024-01-17T00:00:00+00:00",
          "2024-01-18T00:00:00+00:00",
          "2024-01-19T00:00:00+00:00",
          "2024-01-20T00:00:00+00:00",
          "2024-01-21T00:00:00+00:00",
          "2024-01-22T00:00:00+00:00",
          "2024-01-23T00:00:00+00:00",
          "2024-01-24T00:00:00+00:00",
          "2024-01-25T00:00:00+00:00",
          "2024-01-26T00:00:00+00:00",
          "2024-01-27T00:00:00+00:00",
          "2024-01-28T00:00:00+00:00",
          "2024-01-29T00:00:00+00:00",
          "2024-01-30T00:00:00+00:00",
          "2024-01-31T00:00:00+00:00",
          "2024-02-01T00:00:00+00:00",
          "2024-02-02T00:00:00+00:00",
          "2024-02-03T00:00:00+00:00",
          "2024-02-04T00:00:00+00:00",
          "2024-02-05T00:00:00+00:00",
          "2024-02-06T00:00:00+00:00",
          "2024-02-07T00:00:00+00:00",
          "2024-02-08T00:00:00+00:00",
          "2024-02-09T00:00:00+00:00",
          "2024-02-10T00:00:00+00:00",
          "2024-02-11T00:00:00+00:00",
          "2024-02-12T00:00:00+00:00",
          "2024-02-13T00:00:00+00:00",
          "2024-02-14T00:00:00+00:00",
          "2024-02-15T00:00:00+00:00",
          "2024-02-16T00:00:00+00:00",
          "2024-02-17T00:00:00+00:00",
          "2024-02-18T00:00:00+00:00",
          "2024-02-19T00:00:00+00:00",
          "2024-02-20T00:00:00+00:00",
          "2024-02-21T00:00:00+00:00",
          "2024-02-22T00:00:00+00:00",
          "2024-02-23T00:00:00+00:00",
          "2024-02-24T00:00:00+00:00",
          "2024-02-25T00:00:00+00:00",
          "2024-02-26T00:00:00+00:00",
          "2024-02-27T00:00:00+00:00",
          "2024-02-28T00:00:00+00:00",
          "2024-02-29T00:00:00+00:00",
          "2024-03-01T00:00:00+00:00",
          "2024-03-02T00:00:00+00:00",
          "2024-03-03T00:00:00+00:00",
          "2024-03-04T00:00:00+00:00",
          "2024-03-05T00:00:00+00:00",
          "2024-03-06T00:00:00+00:00",
          "2024-03-07T00:00:00+00:00",
          "2024-03-08T00:00:00+00:00",
          "2024-03-09T00:00:00+00:00",
          "2024-03-10T00:00:00+00:00",
          "2024-03-11T00:00:00+00:00",
          "2024-03-12T00:00:00+00:00",
          "2024-03-13T00:00:00+00:00",
          "2024-03-14T00:00:00+00:00",
          "2024-03-15T00:00:00+00:00",
          "2024-03-16T00:00:00+00:00",
          "2024-03-17T00:00:00+00:00",
          "2024-03-18T00:00:00+00:00",
          "2024-03-19T00:00:00+00:00",
          "2024-03-20T00:00:00+00:00",
          "2024-03-21T00:00:00+00:00",
          "2024-03-22T00:00:00+00:00",
          "2024-03-23T00:00:00+00:00",
          "2024-03-24T00:00:00+00:00",
          "2024-03-25T00:00:00+00:00",
          "2024-03-26T00:00:00+00:00",
          "2024-03-27T00:00:00+00:00",
          "2024-03-28T00:00:00+00:00",
          "2024-03-29T00:00:00+00:00",
          "2024-03-30T00:00:00+00:00",
          "2024-03-31T00:00:00+00:00",
          "2024-04-01T00:00:00+00:00",
          "2024-04-02T00:00:00+00:00",
          "2024-04-03T00:00:00+00:00",
          "2024-04-04T00:00:00+00:00",
          "2024-04-05T00:00:00+00:00",
          "2024-04-06T00:00:00+00:00",
          "2024-04-07T00:00:00+00:00",
          "2024-04-08T00:00:00+00:00",
          "2024-04-09T00:00:00+00:00",
          "2024-04-10T00:00:00+00:00",
          "2024-04-11T00:00:00+00:00",
          "2024-04-12T00:00:00+00:00",
          "2024-04-13T00:00:00+00:00",
          "2024-04-14T00:00:00+00:00",
          "2024-04-15T00:00:00+00:00",
          "2024-04-16T00:00:00+00:00",
          "2024-04-17T00:00:00+00:00",
          "2024-04-18T00:00:00+00:00",
          "2024-04-19T00:00:00+00:00",
          "2024-04-20T00:00:00+00:00",
          "2024-04-21T00:00:00+00:00",
          "2024-04-22T00:00:00+00:00",
          "2024-04-23T00:00:00+00:00",
          "2024-04-24T00:00:00+00:00",
          "2024-04-25T00:00:00+00:00",
          "2024-04-26T00:00:00+00:00",
          "2024-04-27T00:00:00+00:00",
          "2024-04-28T00:00:00+00:00",
          "2024-04-29T00:00:00+00:00",
          "2024-04-30T00:00:00+00:00",
          "2024-05-01T00:00:00+00:00",
          "2024-05-02T00:00:00+00:00",
          "2024-05-03T00:00:00+00:00",
          "2024-05-04T00:00:00+00:00",
          "2024-05-05T00:00:00+00:00",
          "2024-05-06T00:00:00+00:00",
          "2024-05-07T00:00:00+00:00",
          "2024-05-08T00:00:00+00:00",
          "2024-05-09T00:00:00+00:00",
          "2024-05-10T00:00:00+00:00",
          "2024-05-11T00:00:00+00:00",
          "2024-05-12T00:00:00+00:00",
          "2024-05-13T00:00:00+00:00",
          "2024-05-14T00:00:00+00:00",
          "2024-05-15T00:00:00+00:00",
          "2024-05-16T00:00:00+00:00",
          "2024-05-17T00:00:00+00:00",
          "2024-05-18T00:00:00+00:00",
          "2024-05-19T00:00:00+00:00",
          "2024-05-20T00:00:00+00:00",
          "2024-05-21T00:00:00+00:00",
          "2024-05-22T00:00:00+00:00",
          "2024-05-23T00:00:00+00:00",
          "2024-05-24T00:00:00+00:00",
          "2024-05-25T00:00:00+00:00",
          "2024-05-26T00:00:00+00:00",
          "2024-05-27T00:00:00+00:00",
          "2024-05-28T00:00:00+00:00",
          "2024-05-29T00:00:00+00:00",
          "2024-05-30T00:00:00+00:00",
          "2024-05-31T00:00:00+00:00",
          "2024-06-01T00:00:00+00:00",
          "2024-06-02T00:00:00+00:00",
          "2024-06-03T00:00:00+00:00",
          "2024-06-04T00:00:00+00:00",
          "2024-06-05T00:00:00+00:00",
          "2024-06-06T00:00:00+00:00",
          "2024-06-07T00:00:00+00:00",
          "2024-06-08T00:00:00+00:00",
          "2024-06-09T00:00:00+00:00",
          "2024-06-10T00:00:00+00:00",
          "2024-06-11T00:00:00+00:00",
          "2024-06-12T00:00:00+00:00",
          "2024-06-13T00:00:00+00:00",
          "2024-06-14T00:00:00+00:00",
          "2024-06-15T00:00:00+00:00",
          "2024-06-16T00:00:00+00:00",
          "2024-06-17T00:00:00+00:00",
          "2024-06-18T00:00:00+00:00",
          "2024-06-19T00:00:00+00:00",
          "2024-06-20T00:00:00+00:00",
          "2024-06-21T00:00:00+00:00",
          "2024-06-22T00:00:00+00:00",
          "2024-06-23T00:00:00+00:00",
          "2024-06-24T00:00:00+00:00",
          "2024-06-25T00:00:00+00:00",
          "2024-06-26T00:00:00+00:00",
          "2024-06-27T00:00:00+00:00",
          "2024-06-28T00:00:00+00:00",
          "2024-06-29T00:00:00+00:00",
          "2024-06-30T00:00:00+00:00",
          "2024-07-01T00:00:00+00:00",
          "2024-07-02T00:00:00+00:00",
          "2024-07-03T00:00:00+00:00",
          "2024-07-04T00:00:00+00:00",
          "2024-07-05T00:00:00+00:00",
          "2024-07-06T00:00:00+00:00",
          "2024-07-07T00:00:00+00:00",
          "2024-07-08T00:00:00+00:00",
          "2024-07-09T00:00:00+00:00",
          "2024-07-10T00:00:00+00:00"
         ],
         "xaxis": "x",
         "y": [
          1,
          0,
          0,
          0,
          0,
          0,
          0,
          0,
          0,
          0,
          0,
          0,
          0,
          0,
          0,
          0,
          0,
          0,
          0,
          0,
          2,
          0,
          1,
          0,
          0,
          0,
          0,
          1,
          1,
          0,
          0,
          0,
          0,
          1,
          0,
          0,
          0,
          0,
          0,
          0,
          0,
          0,
          0,
          0,
          0,
          0,
          0,
          0,
          0,
          0,
          0,
          0,
          0,
          0,
          0,
          0,
          0,
          0,
          0,
          0,
          0,
          0,
          0,
          0,
          0,
          0,
          0,
          0,
          0,
          0,
          0,
          1,
          2,
          0,
          0,
          1,
          3,
          15,
          0,
          0,
          1,
          0,
          0,
          0,
          0,
          0,
          0,
          0,
          0,
          0,
          0,
          0,
          0,
          0,
          0,
          0,
          2,
          2,
          1,
          1,
          0,
          0,
          0,
          0,
          2,
          1,
          3,
          1,
          1,
          22,
          38,
          90,
          455,
          683,
          198,
          142,
          41,
          15,
          13,
          34,
          32,
          29,
          22,
          24,
          8,
          7,
          7,
          8,
          7,
          2,
          3,
          1,
          2,
          2,
          4,
          3,
          1,
          2,
          5,
          0,
          2,
          5,
          10,
          2,
          45,
          27,
          45,
          21,
          23,
          9,
          5,
          2,
          1,
          5,
          4,
          39,
          6,
          0,
          17,
          3,
          4,
          2,
          1,
          16,
          5,
          1,
          3,
          12,
          1,
          1,
          8,
          0,
          1,
          0,
          3,
          5,
          2,
          4,
          1,
          1,
          3,
          2,
          3,
          7,
          4,
          3,
          1,
          4,
          2,
          1,
          6,
          2,
          2,
          1,
          2,
          2,
          2,
          5,
          5,
          1,
          1,
          2,
          100,
          185,
          57,
          39,
          81,
          45,
          43,
          25,
          21,
          22,
          4,
          34,
          10,
          24,
          20,
          34,
          22,
          62,
          10,
          9,
          6,
          7,
          5,
          11,
          6,
          0,
          6,
          5,
          8,
          7,
          4,
          14,
          9,
          6,
          2,
          7,
          24,
          10,
          5,
          14,
          9,
          15,
          19,
          9,
          7,
          6,
          1,
          3,
          3,
          28,
          12,
          17,
          13,
          4,
          4,
          4,
          5,
          3,
          6,
          7,
          2,
          4,
          2,
          5,
          7,
          2,
          1,
          1,
          8,
          6,
          20,
          7,
          4,
          5,
          3,
          6,
          1,
          4,
          1
         ],
         "yaxis": "y"
        },
        {
         "mode": "lines",
         "name": "Cumulative Mints",
         "type": "scatter",
         "x": [
          "2023-10-04T00:00:00+00:00",
          "2023-10-05T00:00:00+00:00",
          "2023-10-06T00:00:00+00:00",
          "2023-10-07T00:00:00+00:00",
          "2023-10-08T00:00:00+00:00",
          "2023-10-09T00:00:00+00:00",
          "2023-10-10T00:00:00+00:00",
          "2023-10-11T00:00:00+00:00",
          "2023-10-12T00:00:00+00:00",
          "2023-10-13T00:00:00+00:00",
          "2023-10-14T00:00:00+00:00",
          "2023-10-15T00:00:00+00:00",
          "2023-10-16T00:00:00+00:00",
          "2023-10-17T00:00:00+00:00",
          "2023-10-18T00:00:00+00:00",
          "2023-10-19T00:00:00+00:00",
          "2023-10-20T00:00:00+00:00",
          "2023-10-21T00:00:00+00:00",
          "2023-10-22T00:00:00+00:00",
          "2023-10-23T00:00:00+00:00",
          "2023-10-24T00:00:00+00:00",
          "2023-10-25T00:00:00+00:00",
          "2023-10-26T00:00:00+00:00",
          "2023-10-27T00:00:00+00:00",
          "2023-10-28T00:00:00+00:00",
          "2023-10-29T00:00:00+00:00",
          "2023-10-30T00:00:00+00:00",
          "2023-10-31T00:00:00+00:00",
          "2023-11-01T00:00:00+00:00",
          "2023-11-02T00:00:00+00:00",
          "2023-11-03T00:00:00+00:00",
          "2023-11-04T00:00:00+00:00",
          "2023-11-05T00:00:00+00:00",
          "2023-11-06T00:00:00+00:00",
          "2023-11-07T00:00:00+00:00",
          "2023-11-08T00:00:00+00:00",
          "2023-11-09T00:00:00+00:00",
          "2023-11-10T00:00:00+00:00",
          "2023-11-11T00:00:00+00:00",
          "2023-11-12T00:00:00+00:00",
          "2023-11-13T00:00:00+00:00",
          "2023-11-14T00:00:00+00:00",
          "2023-11-15T00:00:00+00:00",
          "2023-11-16T00:00:00+00:00",
          "2023-11-17T00:00:00+00:00",
          "2023-11-18T00:00:00+00:00",
          "2023-11-19T00:00:00+00:00",
          "2023-11-20T00:00:00+00:00",
          "2023-11-21T00:00:00+00:00",
          "2023-11-22T00:00:00+00:00",
          "2023-11-23T00:00:00+00:00",
          "2023-11-24T00:00:00+00:00",
          "2023-11-25T00:00:00+00:00",
          "2023-11-26T00:00:00+00:00",
          "2023-11-27T00:00:00+00:00",
          "2023-11-28T00:00:00+00:00",
          "2023-11-29T00:00:00+00:00",
          "2023-11-30T00:00:00+00:00",
          "2023-12-01T00:00:00+00:00",
          "2023-12-02T00:00:00+00:00",
          "2023-12-03T00:00:00+00:00",
          "2023-12-04T00:00:00+00:00",
          "2023-12-05T00:00:00+00:00",
          "2023-12-06T00:00:00+00:00",
          "2023-12-07T00:00:00+00:00",
          "2023-12-08T00:00:00+00:00",
          "2023-12-09T00:00:00+00:00",
          "2023-12-10T00:00:00+00:00",
          "2023-12-11T00:00:00+00:00",
          "2023-12-12T00:00:00+00:00",
          "2023-12-13T00:00:00+00:00",
          "2023-12-14T00:00:00+00:00",
          "2023-12-15T00:00:00+00:00",
          "2023-12-16T00:00:00+00:00",
          "2023-12-17T00:00:00+00:00",
          "2023-12-18T00:00:00+00:00",
          "2023-12-19T00:00:00+00:00",
          "2023-12-20T00:00:00+00:00",
          "2023-12-21T00:00:00+00:00",
          "2023-12-22T00:00:00+00:00",
          "2023-12-23T00:00:00+00:00",
          "2023-12-24T00:00:00+00:00",
          "2023-12-25T00:00:00+00:00",
          "2023-12-26T00:00:00+00:00",
          "2023-12-27T00:00:00+00:00",
          "2023-12-28T00:00:00+00:00",
          "2023-12-29T00:00:00+00:00",
          "2023-12-30T00:00:00+00:00",
          "2023-12-31T00:00:00+00:00",
          "2024-01-01T00:00:00+00:00",
          "2024-01-02T00:00:00+00:00",
          "2024-01-03T00:00:00+00:00",
          "2024-01-04T00:00:00+00:00",
          "2024-01-05T00:00:00+00:00",
          "2024-01-06T00:00:00+00:00",
          "2024-01-07T00:00:00+00:00",
          "2024-01-08T00:00:00+00:00",
          "2024-01-09T00:00:00+00:00",
          "2024-01-10T00:00:00+00:00",
          "2024-01-11T00:00:00+00:00",
          "2024-01-12T00:00:00+00:00",
          "2024-01-13T00:00:00+00:00",
          "2024-01-14T00:00:00+00:00",
          "2024-01-15T00:00:00+00:00",
          "2024-01-16T00:00:00+00:00",
          "2024-01-17T00:00:00+00:00",
          "2024-01-18T00:00:00+00:00",
          "2024-01-19T00:00:00+00:00",
          "2024-01-20T00:00:00+00:00",
          "2024-01-21T00:00:00+00:00",
          "2024-01-22T00:00:00+00:00",
          "2024-01-23T00:00:00+00:00",
          "2024-01-24T00:00:00+00:00",
          "2024-01-25T00:00:00+00:00",
          "2024-01-26T00:00:00+00:00",
          "2024-01-27T00:00:00+00:00",
          "2024-01-28T00:00:00+00:00",
          "2024-01-29T00:00:00+00:00",
          "2024-01-30T00:00:00+00:00",
          "2024-01-31T00:00:00+00:00",
          "2024-02-01T00:00:00+00:00",
          "2024-02-02T00:00:00+00:00",
          "2024-02-03T00:00:00+00:00",
          "2024-02-04T00:00:00+00:00",
          "2024-02-05T00:00:00+00:00",
          "2024-02-06T00:00:00+00:00",
          "2024-02-07T00:00:00+00:00",
          "2024-02-08T00:00:00+00:00",
          "2024-02-09T00:00:00+00:00",
          "2024-02-10T00:00:00+00:00",
          "2024-02-11T00:00:00+00:00",
          "2024-02-12T00:00:00+00:00",
          "2024-02-13T00:00:00+00:00",
          "2024-02-14T00:00:00+00:00",
          "2024-02-15T00:00:00+00:00",
          "2024-02-16T00:00:00+00:00",
          "2024-02-17T00:00:00+00:00",
          "2024-02-18T00:00:00+00:00",
          "2024-02-19T00:00:00+00:00",
          "2024-02-20T00:00:00+00:00",
          "2024-02-21T00:00:00+00:00",
          "2024-02-22T00:00:00+00:00",
          "2024-02-23T00:00:00+00:00",
          "2024-02-24T00:00:00+00:00",
          "2024-02-25T00:00:00+00:00",
          "2024-02-26T00:00:00+00:00",
          "2024-02-27T00:00:00+00:00",
          "2024-02-28T00:00:00+00:00",
          "2024-02-29T00:00:00+00:00",
          "2024-03-01T00:00:00+00:00",
          "2024-03-02T00:00:00+00:00",
          "2024-03-03T00:00:00+00:00",
          "2024-03-04T00:00:00+00:00",
          "2024-03-05T00:00:00+00:00",
          "2024-03-06T00:00:00+00:00",
          "2024-03-07T00:00:00+00:00",
          "2024-03-08T00:00:00+00:00",
          "2024-03-09T00:00:00+00:00",
          "2024-03-10T00:00:00+00:00",
          "2024-03-11T00:00:00+00:00",
          "2024-03-12T00:00:00+00:00",
          "2024-03-13T00:00:00+00:00",
          "2024-03-14T00:00:00+00:00",
          "2024-03-15T00:00:00+00:00",
          "2024-03-16T00:00:00+00:00",
          "2024-03-17T00:00:00+00:00",
          "2024-03-18T00:00:00+00:00",
          "2024-03-19T00:00:00+00:00",
          "2024-03-20T00:00:00+00:00",
          "2024-03-21T00:00:00+00:00",
          "2024-03-22T00:00:00+00:00",
          "2024-03-23T00:00:00+00:00",
          "2024-03-24T00:00:00+00:00",
          "2024-03-25T00:00:00+00:00",
          "2024-03-26T00:00:00+00:00",
          "2024-03-27T00:00:00+00:00",
          "2024-03-28T00:00:00+00:00",
          "2024-03-29T00:00:00+00:00",
          "2024-03-30T00:00:00+00:00",
          "2024-03-31T00:00:00+00:00",
          "2024-04-01T00:00:00+00:00",
          "2024-04-02T00:00:00+00:00",
          "2024-04-03T00:00:00+00:00",
          "2024-04-04T00:00:00+00:00",
          "2024-04-05T00:00:00+00:00",
          "2024-04-06T00:00:00+00:00",
          "2024-04-07T00:00:00+00:00",
          "2024-04-08T00:00:00+00:00",
          "2024-04-09T00:00:00+00:00",
          "2024-04-10T00:00:00+00:00",
          "2024-04-11T00:00:00+00:00",
          "2024-04-12T00:00:00+00:00",
          "2024-04-13T00:00:00+00:00",
          "2024-04-14T00:00:00+00:00",
          "2024-04-15T00:00:00+00:00",
          "2024-04-16T00:00:00+00:00",
          "2024-04-17T00:00:00+00:00",
          "2024-04-18T00:00:00+00:00",
          "2024-04-19T00:00:00+00:00",
          "2024-04-20T00:00:00+00:00",
          "2024-04-21T00:00:00+00:00",
          "2024-04-22T00:00:00+00:00",
          "2024-04-23T00:00:00+00:00",
          "2024-04-24T00:00:00+00:00",
          "2024-04-25T00:00:00+00:00",
          "2024-04-26T00:00:00+00:00",
          "2024-04-27T00:00:00+00:00",
          "2024-04-28T00:00:00+00:00",
          "2024-04-29T00:00:00+00:00",
          "2024-04-30T00:00:00+00:00",
          "2024-05-01T00:00:00+00:00",
          "2024-05-02T00:00:00+00:00",
          "2024-05-03T00:00:00+00:00",
          "2024-05-04T00:00:00+00:00",
          "2024-05-05T00:00:00+00:00",
          "2024-05-06T00:00:00+00:00",
          "2024-05-07T00:00:00+00:00",
          "2024-05-08T00:00:00+00:00",
          "2024-05-09T00:00:00+00:00",
          "2024-05-10T00:00:00+00:00",
          "2024-05-11T00:00:00+00:00",
          "2024-05-12T00:00:00+00:00",
          "2024-05-13T00:00:00+00:00",
          "2024-05-14T00:00:00+00:00",
          "2024-05-15T00:00:00+00:00",
          "2024-05-16T00:00:00+00:00",
          "2024-05-17T00:00:00+00:00",
          "2024-05-18T00:00:00+00:00",
          "2024-05-19T00:00:00+00:00",
          "2024-05-20T00:00:00+00:00",
          "2024-05-21T00:00:00+00:00",
          "2024-05-22T00:00:00+00:00",
          "2024-05-23T00:00:00+00:00",
          "2024-05-24T00:00:00+00:00",
          "2024-05-25T00:00:00+00:00",
          "2024-05-26T00:00:00+00:00",
          "2024-05-27T00:00:00+00:00",
          "2024-05-28T00:00:00+00:00",
          "2024-05-29T00:00:00+00:00",
          "2024-05-30T00:00:00+00:00",
          "2024-05-31T00:00:00+00:00",
          "2024-06-01T00:00:00+00:00",
          "2024-06-02T00:00:00+00:00",
          "2024-06-03T00:00:00+00:00",
          "2024-06-04T00:00:00+00:00",
          "2024-06-05T00:00:00+00:00",
          "2024-06-06T00:00:00+00:00",
          "2024-06-07T00:00:00+00:00",
          "2024-06-08T00:00:00+00:00",
          "2024-06-09T00:00:00+00:00",
          "2024-06-10T00:00:00+00:00",
          "2024-06-11T00:00:00+00:00",
          "2024-06-12T00:00:00+00:00",
          "2024-06-13T00:00:00+00:00",
          "2024-06-14T00:00:00+00:00",
          "2024-06-15T00:00:00+00:00",
          "2024-06-16T00:00:00+00:00",
          "2024-06-17T00:00:00+00:00",
          "2024-06-18T00:00:00+00:00",
          "2024-06-19T00:00:00+00:00",
          "2024-06-20T00:00:00+00:00",
          "2024-06-21T00:00:00+00:00",
          "2024-06-22T00:00:00+00:00",
          "2024-06-23T00:00:00+00:00",
          "2024-06-24T00:00:00+00:00",
          "2024-06-25T00:00:00+00:00",
          "2024-06-26T00:00:00+00:00",
          "2024-06-27T00:00:00+00:00",
          "2024-06-28T00:00:00+00:00",
          "2024-06-29T00:00:00+00:00",
          "2024-06-30T00:00:00+00:00",
          "2024-07-01T00:00:00+00:00",
          "2024-07-02T00:00:00+00:00",
          "2024-07-03T00:00:00+00:00",
          "2024-07-04T00:00:00+00:00",
          "2024-07-05T00:00:00+00:00",
          "2024-07-06T00:00:00+00:00",
          "2024-07-07T00:00:00+00:00",
          "2024-07-08T00:00:00+00:00",
          "2024-07-09T00:00:00+00:00",
          "2024-07-10T00:00:00+00:00"
         ],
         "xaxis": "x",
         "y": [
          1,
          1,
          1,
          1,
          1,
          1,
          1,
          1,
          1,
          1,
          1,
          1,
          1,
          1,
          1,
          1,
          1,
          1,
          1,
          1,
          3,
          3,
          4,
          4,
          4,
          4,
          4,
          5,
          6,
          6,
          6,
          6,
          6,
          7,
          7,
          7,
          7,
          7,
          7,
          7,
          7,
          7,
          7,
          7,
          7,
          7,
          7,
          7,
          7,
          7,
          7,
          7,
          7,
          7,
          7,
          7,
          7,
          7,
          7,
          7,
          7,
          7,
          7,
          7,
          7,
          7,
          7,
          7,
          7,
          7,
          7,
          8,
          10,
          10,
          10,
          11,
          14,
          29,
          29,
          29,
          30,
          30,
          30,
          30,
          30,
          30,
          30,
          30,
          30,
          30,
          30,
          30,
          30,
          30,
          30,
          30,
          32,
          34,
          35,
          36,
          36,
          36,
          36,
          36,
          38,
          39,
          42,
          43,
          44,
          66,
          104,
          194,
          649,
          1332,
          1530,
          1672,
          1713,
          1728,
          1741,
          1775,
          1807,
          1836,
          1858,
          1882,
          1890,
          1897,
          1904,
          1912,
          1919,
          1921,
          1924,
          1925,
          1927,
          1929,
          1933,
          1936,
          1937,
          1939,
          1944,
          1944,
          1946,
          1951,
          1961,
          1963,
          2008,
          2035,
          2080,
          2101,
          2124,
          2133,
          2138,
          2140,
          2141,
          2146,
          2150,
          2189,
          2195,
          2195,
          2212,
          2215,
          2219,
          2221,
          2222,
          2238,
          2243,
          2244,
          2247,
          2259,
          2260,
          2261,
          2269,
          2269,
          2270,
          2270,
          2273,
          2278,
          2280,
          2284,
          2285,
          2286,
          2289,
          2291,
          2294,
          2301,
          2305,
          2308,
          2309,
          2313,
          2315,
          2316,
          2322,
          2324,
          2326,
          2327,
          2329,
          2331,
          2333,
          2338,
          2343,
          2344,
          2345,
          2347,
          2447,
          2632,
          2689,
          2728,
          2809,
          2854,
          2897,
          2922,
          2943,
          2965,
          2969,
          3003,
          3013,
          3037,
          3057,
          3091,
          3113,
          3175,
          3185,
          3194,
          3200,
          3207,
          3212,
          3223,
          3229,
          3229,
          3235,
          3240,
          3248,
          3255,
          3259,
          3273,
          3282,
          3288,
          3290,
          3297,
          3321,
          3331,
          3336,
          3350,
          3359,
          3374,
          3393,
          3402,
          3409,
          3415,
          3416,
          3419,
          3422,
          3450,
          3462,
          3479,
          3492,
          3496,
          3500,
          3504,
          3509,
          3512,
          3518,
          3525,
          3527,
          3531,
          3533,
          3538,
          3545,
          3547,
          3548,
          3549,
          3557,
          3563,
          3583,
          3590,
          3594,
          3599,
          3602,
          3608,
          3609,
          3613,
          3614
         ],
         "yaxis": "y2"
        }
       ],
       "layout": {
        "template": {
         "data": {
          "bar": [
           {
            "error_x": {
             "color": "#2a3f5f"
            },
            "error_y": {
             "color": "#2a3f5f"
            },
            "marker": {
             "line": {
              "color": "#E5ECF6",
              "width": 0.5
             },
             "pattern": {
              "fillmode": "overlay",
              "size": 10,
              "solidity": 0.2
             }
            },
            "type": "bar"
           }
          ],
          "barpolar": [
           {
            "marker": {
             "line": {
              "color": "#E5ECF6",
              "width": 0.5
             },
             "pattern": {
              "fillmode": "overlay",
              "size": 10,
              "solidity": 0.2
             }
            },
            "type": "barpolar"
           }
          ],
          "carpet": [
           {
            "aaxis": {
             "endlinecolor": "#2a3f5f",
             "gridcolor": "white",
             "linecolor": "white",
             "minorgridcolor": "white",
             "startlinecolor": "#2a3f5f"
            },
            "baxis": {
             "endlinecolor": "#2a3f5f",
             "gridcolor": "white",
             "linecolor": "white",
             "minorgridcolor": "white",
             "startlinecolor": "#2a3f5f"
            },
            "type": "carpet"
           }
          ],
          "choropleth": [
           {
            "colorbar": {
             "outlinewidth": 0,
             "ticks": ""
            },
            "type": "choropleth"
           }
          ],
          "contour": [
           {
            "colorbar": {
             "outlinewidth": 0,
             "ticks": ""
            },
            "colorscale": [
             [
              0,
              "#0d0887"
             ],
             [
              0.1111111111111111,
              "#46039f"
             ],
             [
              0.2222222222222222,
              "#7201a8"
             ],
             [
              0.3333333333333333,
              "#9c179e"
             ],
             [
              0.4444444444444444,
              "#bd3786"
             ],
             [
              0.5555555555555556,
              "#d8576b"
             ],
             [
              0.6666666666666666,
              "#ed7953"
             ],
             [
              0.7777777777777778,
              "#fb9f3a"
             ],
             [
              0.8888888888888888,
              "#fdca26"
             ],
             [
              1,
              "#f0f921"
             ]
            ],
            "type": "contour"
           }
          ],
          "contourcarpet": [
           {
            "colorbar": {
             "outlinewidth": 0,
             "ticks": ""
            },
            "type": "contourcarpet"
           }
          ],
          "heatmap": [
           {
            "colorbar": {
             "outlinewidth": 0,
             "ticks": ""
            },
            "colorscale": [
             [
              0,
              "#0d0887"
             ],
             [
              0.1111111111111111,
              "#46039f"
             ],
             [
              0.2222222222222222,
              "#7201a8"
             ],
             [
              0.3333333333333333,
              "#9c179e"
             ],
             [
              0.4444444444444444,
              "#bd3786"
             ],
             [
              0.5555555555555556,
              "#d8576b"
             ],
             [
              0.6666666666666666,
              "#ed7953"
             ],
             [
              0.7777777777777778,
              "#fb9f3a"
             ],
             [
              0.8888888888888888,
              "#fdca26"
             ],
             [
              1,
              "#f0f921"
             ]
            ],
            "type": "heatmap"
           }
          ],
          "heatmapgl": [
           {
            "colorbar": {
             "outlinewidth": 0,
             "ticks": ""
            },
            "colorscale": [
             [
              0,
              "#0d0887"
             ],
             [
              0.1111111111111111,
              "#46039f"
             ],
             [
              0.2222222222222222,
              "#7201a8"
             ],
             [
              0.3333333333333333,
              "#9c179e"
             ],
             [
              0.4444444444444444,
              "#bd3786"
             ],
             [
              0.5555555555555556,
              "#d8576b"
             ],
             [
              0.6666666666666666,
              "#ed7953"
             ],
             [
              0.7777777777777778,
              "#fb9f3a"
             ],
             [
              0.8888888888888888,
              "#fdca26"
             ],
             [
              1,
              "#f0f921"
             ]
            ],
            "type": "heatmapgl"
           }
          ],
          "histogram": [
           {
            "marker": {
             "pattern": {
              "fillmode": "overlay",
              "size": 10,
              "solidity": 0.2
             }
            },
            "type": "histogram"
           }
          ],
          "histogram2d": [
           {
            "colorbar": {
             "outlinewidth": 0,
             "ticks": ""
            },
            "colorscale": [
             [
              0,
              "#0d0887"
             ],
             [
              0.1111111111111111,
              "#46039f"
             ],
             [
              0.2222222222222222,
              "#7201a8"
             ],
             [
              0.3333333333333333,
              "#9c179e"
             ],
             [
              0.4444444444444444,
              "#bd3786"
             ],
             [
              0.5555555555555556,
              "#d8576b"
             ],
             [
              0.6666666666666666,
              "#ed7953"
             ],
             [
              0.7777777777777778,
              "#fb9f3a"
             ],
             [
              0.8888888888888888,
              "#fdca26"
             ],
             [
              1,
              "#f0f921"
             ]
            ],
            "type": "histogram2d"
           }
          ],
          "histogram2dcontour": [
           {
            "colorbar": {
             "outlinewidth": 0,
             "ticks": ""
            },
            "colorscale": [
             [
              0,
              "#0d0887"
             ],
             [
              0.1111111111111111,
              "#46039f"
             ],
             [
              0.2222222222222222,
              "#7201a8"
             ],
             [
              0.3333333333333333,
              "#9c179e"
             ],
             [
              0.4444444444444444,
              "#bd3786"
             ],
             [
              0.5555555555555556,
              "#d8576b"
             ],
             [
              0.6666666666666666,
              "#ed7953"
             ],
             [
              0.7777777777777778,
              "#fb9f3a"
             ],
             [
              0.8888888888888888,
              "#fdca26"
             ],
             [
              1,
              "#f0f921"
             ]
            ],
            "type": "histogram2dcontour"
           }
          ],
          "mesh3d": [
           {
            "colorbar": {
             "outlinewidth": 0,
             "ticks": ""
            },
            "type": "mesh3d"
           }
          ],
          "parcoords": [
           {
            "line": {
             "colorbar": {
              "outlinewidth": 0,
              "ticks": ""
             }
            },
            "type": "parcoords"
           }
          ],
          "pie": [
           {
            "automargin": true,
            "type": "pie"
           }
          ],
          "scatter": [
           {
            "fillpattern": {
             "fillmode": "overlay",
             "size": 10,
             "solidity": 0.2
            },
            "type": "scatter"
           }
          ],
          "scatter3d": [
           {
            "line": {
             "colorbar": {
              "outlinewidth": 0,
              "ticks": ""
             }
            },
            "marker": {
             "colorbar": {
              "outlinewidth": 0,
              "ticks": ""
             }
            },
            "type": "scatter3d"
           }
          ],
          "scattercarpet": [
           {
            "marker": {
             "colorbar": {
              "outlinewidth": 0,
              "ticks": ""
             }
            },
            "type": "scattercarpet"
           }
          ],
          "scattergeo": [
           {
            "marker": {
             "colorbar": {
              "outlinewidth": 0,
              "ticks": ""
             }
            },
            "type": "scattergeo"
           }
          ],
          "scattergl": [
           {
            "marker": {
             "colorbar": {
              "outlinewidth": 0,
              "ticks": ""
             }
            },
            "type": "scattergl"
           }
          ],
          "scattermapbox": [
           {
            "marker": {
             "colorbar": {
              "outlinewidth": 0,
              "ticks": ""
             }
            },
            "type": "scattermapbox"
           }
          ],
          "scatterpolar": [
           {
            "marker": {
             "colorbar": {
              "outlinewidth": 0,
              "ticks": ""
             }
            },
            "type": "scatterpolar"
           }
          ],
          "scatterpolargl": [
           {
            "marker": {
             "colorbar": {
              "outlinewidth": 0,
              "ticks": ""
             }
            },
            "type": "scatterpolargl"
           }
          ],
          "scatterternary": [
           {
            "marker": {
             "colorbar": {
              "outlinewidth": 0,
              "ticks": ""
             }
            },
            "type": "scatterternary"
           }
          ],
          "surface": [
           {
            "colorbar": {
             "outlinewidth": 0,
             "ticks": ""
            },
            "colorscale": [
             [
              0,
              "#0d0887"
             ],
             [
              0.1111111111111111,
              "#46039f"
             ],
             [
              0.2222222222222222,
              "#7201a8"
             ],
             [
              0.3333333333333333,
              "#9c179e"
             ],
             [
              0.4444444444444444,
              "#bd3786"
             ],
             [
              0.5555555555555556,
              "#d8576b"
             ],
             [
              0.6666666666666666,
              "#ed7953"
             ],
             [
              0.7777777777777778,
              "#fb9f3a"
             ],
             [
              0.8888888888888888,
              "#fdca26"
             ],
             [
              1,
              "#f0f921"
             ]
            ],
            "type": "surface"
           }
          ],
          "table": [
           {
            "cells": {
             "fill": {
              "color": "#EBF0F8"
             },
             "line": {
              "color": "white"
             }
            },
            "header": {
             "fill": {
              "color": "#C8D4E3"
             },
             "line": {
              "color": "white"
             }
            },
            "type": "table"
           }
          ]
         },
         "layout": {
          "annotationdefaults": {
           "arrowcolor": "#2a3f5f",
           "arrowhead": 0,
           "arrowwidth": 1
          },
          "autotypenumbers": "strict",
          "coloraxis": {
           "colorbar": {
            "outlinewidth": 0,
            "ticks": ""
           }
          },
          "colorscale": {
           "diverging": [
            [
             0,
             "#8e0152"
            ],
            [
             0.1,
             "#c51b7d"
            ],
            [
             0.2,
             "#de77ae"
            ],
            [
             0.3,
             "#f1b6da"
            ],
            [
             0.4,
             "#fde0ef"
            ],
            [
             0.5,
             "#f7f7f7"
            ],
            [
             0.6,
             "#e6f5d0"
            ],
            [
             0.7,
             "#b8e186"
            ],
            [
             0.8,
             "#7fbc41"
            ],
            [
             0.9,
             "#4d9221"
            ],
            [
             1,
             "#276419"
            ]
           ],
           "sequential": [
            [
             0,
             "#0d0887"
            ],
            [
             0.1111111111111111,
             "#46039f"
            ],
            [
             0.2222222222222222,
             "#7201a8"
            ],
            [
             0.3333333333333333,
             "#9c179e"
            ],
            [
             0.4444444444444444,
             "#bd3786"
            ],
            [
             0.5555555555555556,
             "#d8576b"
            ],
            [
             0.6666666666666666,
             "#ed7953"
            ],
            [
             0.7777777777777778,
             "#fb9f3a"
            ],
            [
             0.8888888888888888,
             "#fdca26"
            ],
            [
             1,
             "#f0f921"
            ]
           ],
           "sequentialminus": [
            [
             0,
             "#0d0887"
            ],
            [
             0.1111111111111111,
             "#46039f"
            ],
            [
             0.2222222222222222,
             "#7201a8"
            ],
            [
             0.3333333333333333,
             "#9c179e"
            ],
            [
             0.4444444444444444,
             "#bd3786"
            ],
            [
             0.5555555555555556,
             "#d8576b"
            ],
            [
             0.6666666666666666,
             "#ed7953"
            ],
            [
             0.7777777777777778,
             "#fb9f3a"
            ],
            [
             0.8888888888888888,
             "#fdca26"
            ],
            [
             1,
             "#f0f921"
            ]
           ]
          },
          "colorway": [
           "#636efa",
           "#EF553B",
           "#00cc96",
           "#ab63fa",
           "#FFA15A",
           "#19d3f3",
           "#FF6692",
           "#B6E880",
           "#FF97FF",
           "#FECB52"
          ],
          "font": {
           "color": "#2a3f5f"
          },
          "geo": {
           "bgcolor": "white",
           "lakecolor": "white",
           "landcolor": "#E5ECF6",
           "showlakes": true,
           "showland": true,
           "subunitcolor": "white"
          },
          "hoverlabel": {
           "align": "left"
          },
          "hovermode": "closest",
          "mapbox": {
           "style": "light"
          },
          "paper_bgcolor": "white",
          "plot_bgcolor": "#E5ECF6",
          "polar": {
           "angularaxis": {
            "gridcolor": "white",
            "linecolor": "white",
            "ticks": ""
           },
           "bgcolor": "#E5ECF6",
           "radialaxis": {
            "gridcolor": "white",
            "linecolor": "white",
            "ticks": ""
           }
          },
          "scene": {
           "xaxis": {
            "backgroundcolor": "#E5ECF6",
            "gridcolor": "white",
            "gridwidth": 2,
            "linecolor": "white",
            "showbackground": true,
            "ticks": "",
            "zerolinecolor": "white"
           },
           "yaxis": {
            "backgroundcolor": "#E5ECF6",
            "gridcolor": "white",
            "gridwidth": 2,
            "linecolor": "white",
            "showbackground": true,
            "ticks": "",
            "zerolinecolor": "white"
           },
           "zaxis": {
            "backgroundcolor": "#E5ECF6",
            "gridcolor": "white",
            "gridwidth": 2,
            "linecolor": "white",
            "showbackground": true,
            "ticks": "",
            "zerolinecolor": "white"
           }
          },
          "shapedefaults": {
           "line": {
            "color": "#2a3f5f"
           }
          },
          "ternary": {
           "aaxis": {
            "gridcolor": "white",
            "linecolor": "white",
            "ticks": ""
           },
           "baxis": {
            "gridcolor": "white",
            "linecolor": "white",
            "ticks": ""
           },
           "bgcolor": "#E5ECF6",
           "caxis": {
            "gridcolor": "white",
            "linecolor": "white",
            "ticks": ""
           }
          },
          "title": {
           "x": 0.05
          },
          "xaxis": {
           "automargin": true,
           "gridcolor": "white",
           "linecolor": "white",
           "ticks": "",
           "title": {
            "standoff": 15
           },
           "zerolinecolor": "white",
           "zerolinewidth": 2
          },
          "yaxis": {
           "automargin": true,
           "gridcolor": "white",
           "linecolor": "white",
           "ticks": "",
           "title": {
            "standoff": 15
           },
           "zerolinecolor": "white",
           "zerolinewidth": 2
          }
         }
        },
        "xaxis": {
         "anchor": "y",
         "domain": [
          0,
          0.94
         ],
         "title": {
          "text": "Date"
         }
        },
        "yaxis": {
         "anchor": "x",
         "domain": [
          0,
          1
         ]
        },
        "yaxis2": {
         "anchor": "x",
         "overlaying": "y",
         "side": "right"
        }
       }
      }
     },
     "metadata": {},
     "output_type": "display_data"
    }
   ],
   "source": [
    "daily_mint_metrics_fig = make_subplots(specs=[[{\"secondary_y\": True}]])\n",
    "\n",
    "daily_mint_metrics_fig.add_trace(\n",
    "    go.Bar(\n",
    "        x=daily_mint_metrics.index,\n",
    "        y=daily_mint_metrics['mints'],\n",
    "        name='Mints'\n",
    "    ),\n",
    "    secondary_y=False\n",
    ")\n",
    "\n",
    "daily_mint_metrics_fig.add_trace(\n",
    "    go.Scatter(\n",
    "        x=daily_mint_metrics.index,\n",
    "        y=daily_mint_metrics['cumulative mints'],\n",
    "        name='Cumulative Mints',\n",
    "        mode='lines'\n",
    "    ),\n",
    "    secondary_y=True\n",
    ")\n",
    "\n",
    "daily_mint_metrics_fig.update_xaxes(title_text=\"Date\")\n",
    "\n",
    "# daily_mint_metrics_fig.show()\n"
   ]
  },
  {
   "cell_type": "code",
   "execution_count": 103,
   "metadata": {},
   "outputs": [
    {
     "data": {
      "text/plain": [
       "start_time\n",
       "2024-02-29   -52.78\n",
       "2024-03-31   -35.29\n",
       "2024-04-30   745.45\n",
       "2024-05-31    54.84\n",
       "2024-06-30    20.14\n",
       "2024-07-31   -67.05\n",
       "Freq: ME, Name: name, dtype: float64"
      ]
     },
     "execution_count": 103,
     "metadata": {},
     "output_type": "execute_result"
    }
   ],
   "source": [
    "listings_growth_rate"
   ]
  },
  {
   "cell_type": "code",
   "execution_count": 104,
   "metadata": {},
   "outputs": [],
   "source": [
    "listings_growth_rate_fig = px.bar(listings_growth_rate.to_frame('Monthly Listings Growth Rate'), x=listings_growth_rate.index,\n",
    "                                   y='Monthly Listings Growth Rate', title='Monthly Listings Growth Rate')\n",
    "\n",
    "# listings_growth_rate_fig.show()"
   ]
  },
  {
   "cell_type": "code",
   "execution_count": 105,
   "metadata": {},
   "outputs": [],
   "source": [
    "cumulative_box_sales = daily_box_sales.cumsum()\n"
   ]
  },
  {
   "cell_type": "code",
   "execution_count": 106,
   "metadata": {},
   "outputs": [
    {
     "name": "stderr",
     "output_type": "stream",
     "text": [
      "C:\\Users\\brandyns pc\\AppData\\Local\\Temp\\ipykernel_61036\\3455025639.py:1: FutureWarning:\n",
      "\n",
      "'M' is deprecated and will be removed in a future version, please use 'ME' instead.\n",
      "\n",
      "C:\\Users\\brandyns pc\\AppData\\Local\\Temp\\ipykernel_61036\\3455025639.py:2: FutureWarning:\n",
      "\n",
      "'M' is deprecated and will be removed in a future version, please use 'ME' instead.\n",
      "\n",
      "C:\\Users\\brandyns pc\\AppData\\Local\\Temp\\ipykernel_61036\\3455025639.py:3: FutureWarning:\n",
      "\n",
      "'M' is deprecated and will be removed in a future version, please use 'ME' instead.\n",
      "\n",
      "C:\\Users\\brandyns pc\\AppData\\Local\\Temp\\ipykernel_61036\\3455025639.py:4: FutureWarning:\n",
      "\n",
      "'M' is deprecated and will be removed in a future version, please use 'ME' instead.\n",
      "\n",
      "C:\\Users\\brandyns pc\\AppData\\Local\\Temp\\ipykernel_61036\\3455025639.py:5: FutureWarning:\n",
      "\n",
      "'M' is deprecated and will be removed in a future version, please use 'ME' instead.\n",
      "\n"
     ]
    }
   ],
   "source": [
    "monthly_max_sold = box_domains_sales['price_usd'].resample('M').max()\n",
    "monthly_min_sold = box_domains_sales['price_usd'].resample('M').min()\n",
    "monthly_avg_sold = box_domains_sales['price_usd'].resample('M').mean()\n",
    "monthly_volume_usd = box_domains_sales['price_usd'].resample('M').sum()\n",
    "monthly_num_sold = box_domains_sales['name'].resample('M').count()"
   ]
  },
  {
   "cell_type": "code",
   "execution_count": 107,
   "metadata": {},
   "outputs": [],
   "source": [
    "monthly_max_sold.fillna(0, inplace=True)\n",
    "monthly_min_sold.fillna(0, inplace=True)\n",
    "monthly_avg_sold.fillna(0, inplace=True)\n",
    "monthly_volume_usd.fillna(0, inplace=True)\n",
    "monthly_num_sold.fillna(0, inplace=True)"
   ]
  },
  {
   "cell_type": "code",
   "execution_count": 108,
   "metadata": {},
   "outputs": [],
   "source": [
    "monthly_box_sales_metrics = pd.merge(monthly_max_sold.to_frame('max_price'), monthly_min_sold.to_frame('min_price'), left_index=True, right_index=True, how='inner')"
   ]
  },
  {
   "cell_type": "code",
   "execution_count": 109,
   "metadata": {},
   "outputs": [],
   "source": [
    "monthly_box_sales_metrics = monthly_box_sales_metrics.merge(monthly_avg_sold.to_frame('avg_price'), left_index=True, right_index=True, how='inner')"
   ]
  },
  {
   "cell_type": "code",
   "execution_count": 110,
   "metadata": {},
   "outputs": [],
   "source": [
    "monthly_box_sales_metrics = monthly_box_sales_metrics.merge(monthly_volume_usd.to_frame('volume_usd'), left_index=True, right_index=True, how='inner')"
   ]
  },
  {
   "cell_type": "code",
   "execution_count": 111,
   "metadata": {},
   "outputs": [
    {
     "data": {
      "text/plain": [
       "day\n",
       "2024-02-29 00:00:00+00:00    13\n",
       "2024-03-31 00:00:00+00:00     0\n",
       "2024-04-30 00:00:00+00:00     7\n",
       "2024-05-31 00:00:00+00:00     1\n",
       "Freq: ME, Name: name, dtype: int64"
      ]
     },
     "execution_count": 111,
     "metadata": {},
     "output_type": "execute_result"
    }
   ],
   "source": [
    "monthly_num_sold"
   ]
  },
  {
   "cell_type": "code",
   "execution_count": 112,
   "metadata": {},
   "outputs": [],
   "source": [
    "monthly_box_sales_metrics = monthly_box_sales_metrics.merge(monthly_num_sold.to_frame('domains sold'), left_index=True, right_index=True, how='inner')"
   ]
  },
  {
   "cell_type": "code",
   "execution_count": 113,
   "metadata": {},
   "outputs": [
    {
     "data": {
      "text/html": [
       "<div>\n",
       "<style scoped>\n",
       "    .dataframe tbody tr th:only-of-type {\n",
       "        vertical-align: middle;\n",
       "    }\n",
       "\n",
       "    .dataframe tbody tr th {\n",
       "        vertical-align: top;\n",
       "    }\n",
       "\n",
       "    .dataframe thead th {\n",
       "        text-align: right;\n",
       "    }\n",
       "</style>\n",
       "<table border=\"1\" class=\"dataframe\">\n",
       "  <thead>\n",
       "    <tr style=\"text-align: right;\">\n",
       "      <th></th>\n",
       "      <th>max_price</th>\n",
       "      <th>min_price</th>\n",
       "      <th>avg_price</th>\n",
       "      <th>volume_usd</th>\n",
       "      <th>domains sold</th>\n",
       "    </tr>\n",
       "    <tr>\n",
       "      <th>day</th>\n",
       "      <th></th>\n",
       "      <th></th>\n",
       "      <th></th>\n",
       "      <th></th>\n",
       "      <th></th>\n",
       "    </tr>\n",
       "  </thead>\n",
       "  <tbody>\n",
       "    <tr>\n",
       "      <th>2024-02-29 00:00:00+00:00</th>\n",
       "      <td>301.73</td>\n",
       "      <td>33.09</td>\n",
       "      <td>162.08</td>\n",
       "      <td>2,107.05</td>\n",
       "      <td>13</td>\n",
       "    </tr>\n",
       "    <tr>\n",
       "      <th>2024-03-31 00:00:00+00:00</th>\n",
       "      <td>0.00</td>\n",
       "      <td>0.00</td>\n",
       "      <td>0.00</td>\n",
       "      <td>0.00</td>\n",
       "      <td>0</td>\n",
       "    </tr>\n",
       "    <tr>\n",
       "      <th>2024-04-30 00:00:00+00:00</th>\n",
       "      <td>31,481.47</td>\n",
       "      <td>29.61</td>\n",
       "      <td>4,801.89</td>\n",
       "      <td>33,613.26</td>\n",
       "      <td>7</td>\n",
       "    </tr>\n",
       "    <tr>\n",
       "      <th>2024-05-31 00:00:00+00:00</th>\n",
       "      <td>167.83</td>\n",
       "      <td>167.83</td>\n",
       "      <td>167.83</td>\n",
       "      <td>167.83</td>\n",
       "      <td>1</td>\n",
       "    </tr>\n",
       "  </tbody>\n",
       "</table>\n",
       "</div>"
      ],
      "text/plain": [
       "                           max_price  min_price  avg_price  volume_usd  \\\n",
       "day                                                                      \n",
       "2024-02-29 00:00:00+00:00     301.73      33.09     162.08    2,107.05   \n",
       "2024-03-31 00:00:00+00:00       0.00       0.00       0.00        0.00   \n",
       "2024-04-30 00:00:00+00:00  31,481.47      29.61   4,801.89   33,613.26   \n",
       "2024-05-31 00:00:00+00:00     167.83     167.83     167.83      167.83   \n",
       "\n",
       "                           domains sold  \n",
       "day                                      \n",
       "2024-02-29 00:00:00+00:00            13  \n",
       "2024-03-31 00:00:00+00:00             0  \n",
       "2024-04-30 00:00:00+00:00             7  \n",
       "2024-05-31 00:00:00+00:00             1  "
      ]
     },
     "execution_count": 113,
     "metadata": {},
     "output_type": "execute_result"
    }
   ],
   "source": [
    "monthly_box_sales_metrics"
   ]
  },
  {
   "cell_type": "code",
   "execution_count": 114,
   "metadata": {},
   "outputs": [],
   "source": [
    "daily_sales_metrics = pd.merge(cumulative_box_sales.to_frame('cumulative_sales'), daily_box_sales.to_frame('daily_sales'), \n",
    "                               left_index=True, right_index=True, how='left')"
   ]
  },
  {
   "cell_type": "code",
   "execution_count": 115,
   "metadata": {},
   "outputs": [],
   "source": [
    "daily_sales_metrics = daily_sales_metrics.merge(daily_box_vol.to_frame('vol_usd'), left_index=True, right_index=True, how='inner')\n",
    "daily_sales_metrics = daily_sales_metrics.merge(cumulative_box_vol.to_frame('cumulative_vol'), left_index=True, right_index=True, how='inner')"
   ]
  },
  {
   "cell_type": "code",
   "execution_count": 116,
   "metadata": {},
   "outputs": [
    {
     "data": {
      "text/html": [
       "<div>\n",
       "<style scoped>\n",
       "    .dataframe tbody tr th:only-of-type {\n",
       "        vertical-align: middle;\n",
       "    }\n",
       "\n",
       "    .dataframe tbody tr th {\n",
       "        vertical-align: top;\n",
       "    }\n",
       "\n",
       "    .dataframe thead th {\n",
       "        text-align: right;\n",
       "    }\n",
       "</style>\n",
       "<table border=\"1\" class=\"dataframe\">\n",
       "  <thead>\n",
       "    <tr style=\"text-align: right;\">\n",
       "      <th></th>\n",
       "      <th>cumulative_sales</th>\n",
       "      <th>daily_sales</th>\n",
       "      <th>vol_usd</th>\n",
       "      <th>cumulative_vol</th>\n",
       "    </tr>\n",
       "    <tr>\n",
       "      <th>day</th>\n",
       "      <th></th>\n",
       "      <th></th>\n",
       "      <th></th>\n",
       "      <th></th>\n",
       "    </tr>\n",
       "  </thead>\n",
       "  <tbody>\n",
       "    <tr>\n",
       "      <th>2024-02-03 00:00:00+00:00</th>\n",
       "      <td>1</td>\n",
       "      <td>1</td>\n",
       "      <td>33.09</td>\n",
       "      <td>33.09</td>\n",
       "    </tr>\n",
       "    <tr>\n",
       "      <th>2024-02-04 00:00:00+00:00</th>\n",
       "      <td>1</td>\n",
       "      <td>0</td>\n",
       "      <td>0.00</td>\n",
       "      <td>33.09</td>\n",
       "    </tr>\n",
       "    <tr>\n",
       "      <th>2024-02-05 00:00:00+00:00</th>\n",
       "      <td>2</td>\n",
       "      <td>1</td>\n",
       "      <td>45.60</td>\n",
       "      <td>78.69</td>\n",
       "    </tr>\n",
       "    <tr>\n",
       "      <th>2024-02-06 00:00:00+00:00</th>\n",
       "      <td>2</td>\n",
       "      <td>0</td>\n",
       "      <td>0.00</td>\n",
       "      <td>78.69</td>\n",
       "    </tr>\n",
       "    <tr>\n",
       "      <th>2024-02-07 00:00:00+00:00</th>\n",
       "      <td>2</td>\n",
       "      <td>0</td>\n",
       "      <td>0.00</td>\n",
       "      <td>78.69</td>\n",
       "    </tr>\n",
       "    <tr>\n",
       "      <th>...</th>\n",
       "      <td>...</td>\n",
       "      <td>...</td>\n",
       "      <td>...</td>\n",
       "      <td>...</td>\n",
       "    </tr>\n",
       "    <tr>\n",
       "      <th>2024-05-03 00:00:00+00:00</th>\n",
       "      <td>20</td>\n",
       "      <td>0</td>\n",
       "      <td>0.00</td>\n",
       "      <td>35,720.31</td>\n",
       "    </tr>\n",
       "    <tr>\n",
       "      <th>2024-05-04 00:00:00+00:00</th>\n",
       "      <td>20</td>\n",
       "      <td>0</td>\n",
       "      <td>0.00</td>\n",
       "      <td>35,720.31</td>\n",
       "    </tr>\n",
       "    <tr>\n",
       "      <th>2024-05-05 00:00:00+00:00</th>\n",
       "      <td>20</td>\n",
       "      <td>0</td>\n",
       "      <td>0.00</td>\n",
       "      <td>35,720.31</td>\n",
       "    </tr>\n",
       "    <tr>\n",
       "      <th>2024-05-06 00:00:00+00:00</th>\n",
       "      <td>20</td>\n",
       "      <td>0</td>\n",
       "      <td>0.00</td>\n",
       "      <td>35,720.31</td>\n",
       "    </tr>\n",
       "    <tr>\n",
       "      <th>2024-05-07 00:00:00+00:00</th>\n",
       "      <td>21</td>\n",
       "      <td>1</td>\n",
       "      <td>167.83</td>\n",
       "      <td>35,888.14</td>\n",
       "    </tr>\n",
       "  </tbody>\n",
       "</table>\n",
       "<p>95 rows × 4 columns</p>\n",
       "</div>"
      ],
      "text/plain": [
       "                           cumulative_sales  daily_sales  vol_usd  \\\n",
       "day                                                                 \n",
       "2024-02-03 00:00:00+00:00                 1            1    33.09   \n",
       "2024-02-04 00:00:00+00:00                 1            0     0.00   \n",
       "2024-02-05 00:00:00+00:00                 2            1    45.60   \n",
       "2024-02-06 00:00:00+00:00                 2            0     0.00   \n",
       "2024-02-07 00:00:00+00:00                 2            0     0.00   \n",
       "...                                     ...          ...      ...   \n",
       "2024-05-03 00:00:00+00:00                20            0     0.00   \n",
       "2024-05-04 00:00:00+00:00                20            0     0.00   \n",
       "2024-05-05 00:00:00+00:00                20            0     0.00   \n",
       "2024-05-06 00:00:00+00:00                20            0     0.00   \n",
       "2024-05-07 00:00:00+00:00                21            1   167.83   \n",
       "\n",
       "                           cumulative_vol  \n",
       "day                                        \n",
       "2024-02-03 00:00:00+00:00           33.09  \n",
       "2024-02-04 00:00:00+00:00           33.09  \n",
       "2024-02-05 00:00:00+00:00           78.69  \n",
       "2024-02-06 00:00:00+00:00           78.69  \n",
       "2024-02-07 00:00:00+00:00           78.69  \n",
       "...                                   ...  \n",
       "2024-05-03 00:00:00+00:00       35,720.31  \n",
       "2024-05-04 00:00:00+00:00       35,720.31  \n",
       "2024-05-05 00:00:00+00:00       35,720.31  \n",
       "2024-05-06 00:00:00+00:00       35,720.31  \n",
       "2024-05-07 00:00:00+00:00       35,888.14  \n",
       "\n",
       "[95 rows x 4 columns]"
      ]
     },
     "execution_count": 116,
     "metadata": {},
     "output_type": "execute_result"
    }
   ],
   "source": [
    "daily_sales_metrics"
   ]
  },
  {
   "cell_type": "code",
   "execution_count": 117,
   "metadata": {},
   "outputs": [
    {
     "data": {
      "application/vnd.plotly.v1+json": {
       "config": {
        "plotlyServerURL": "https://plot.ly"
       },
       "data": [
        {
         "name": "Sales Volume",
         "type": "bar",
         "x": [
          "2024-02-03T00:00:00+00:00",
          "2024-02-04T00:00:00+00:00",
          "2024-02-05T00:00:00+00:00",
          "2024-02-06T00:00:00+00:00",
          "2024-02-07T00:00:00+00:00",
          "2024-02-08T00:00:00+00:00",
          "2024-02-09T00:00:00+00:00",
          "2024-02-10T00:00:00+00:00",
          "2024-02-11T00:00:00+00:00",
          "2024-02-12T00:00:00+00:00",
          "2024-02-13T00:00:00+00:00",
          "2024-02-14T00:00:00+00:00",
          "2024-02-15T00:00:00+00:00",
          "2024-02-16T00:00:00+00:00",
          "2024-02-17T00:00:00+00:00",
          "2024-02-18T00:00:00+00:00",
          "2024-02-19T00:00:00+00:00",
          "2024-02-20T00:00:00+00:00",
          "2024-02-21T00:00:00+00:00",
          "2024-02-22T00:00:00+00:00",
          "2024-02-23T00:00:00+00:00",
          "2024-02-24T00:00:00+00:00",
          "2024-02-25T00:00:00+00:00",
          "2024-02-26T00:00:00+00:00",
          "2024-02-27T00:00:00+00:00",
          "2024-02-28T00:00:00+00:00",
          "2024-02-29T00:00:00+00:00",
          "2024-03-01T00:00:00+00:00",
          "2024-03-02T00:00:00+00:00",
          "2024-03-03T00:00:00+00:00",
          "2024-03-04T00:00:00+00:00",
          "2024-03-05T00:00:00+00:00",
          "2024-03-06T00:00:00+00:00",
          "2024-03-07T00:00:00+00:00",
          "2024-03-08T00:00:00+00:00",
          "2024-03-09T00:00:00+00:00",
          "2024-03-10T00:00:00+00:00",
          "2024-03-11T00:00:00+00:00",
          "2024-03-12T00:00:00+00:00",
          "2024-03-13T00:00:00+00:00",
          "2024-03-14T00:00:00+00:00",
          "2024-03-15T00:00:00+00:00",
          "2024-03-16T00:00:00+00:00",
          "2024-03-17T00:00:00+00:00",
          "2024-03-18T00:00:00+00:00",
          "2024-03-19T00:00:00+00:00",
          "2024-03-20T00:00:00+00:00",
          "2024-03-21T00:00:00+00:00",
          "2024-03-22T00:00:00+00:00",
          "2024-03-23T00:00:00+00:00",
          "2024-03-24T00:00:00+00:00",
          "2024-03-25T00:00:00+00:00",
          "2024-03-26T00:00:00+00:00",
          "2024-03-27T00:00:00+00:00",
          "2024-03-28T00:00:00+00:00",
          "2024-03-29T00:00:00+00:00",
          "2024-03-30T00:00:00+00:00",
          "2024-03-31T00:00:00+00:00",
          "2024-04-01T00:00:00+00:00",
          "2024-04-02T00:00:00+00:00",
          "2024-04-03T00:00:00+00:00",
          "2024-04-04T00:00:00+00:00",
          "2024-04-05T00:00:00+00:00",
          "2024-04-06T00:00:00+00:00",
          "2024-04-07T00:00:00+00:00",
          "2024-04-08T00:00:00+00:00",
          "2024-04-09T00:00:00+00:00",
          "2024-04-10T00:00:00+00:00",
          "2024-04-11T00:00:00+00:00",
          "2024-04-12T00:00:00+00:00",
          "2024-04-13T00:00:00+00:00",
          "2024-04-14T00:00:00+00:00",
          "2024-04-15T00:00:00+00:00",
          "2024-04-16T00:00:00+00:00",
          "2024-04-17T00:00:00+00:00",
          "2024-04-18T00:00:00+00:00",
          "2024-04-19T00:00:00+00:00",
          "2024-04-20T00:00:00+00:00",
          "2024-04-21T00:00:00+00:00",
          "2024-04-22T00:00:00+00:00",
          "2024-04-23T00:00:00+00:00",
          "2024-04-24T00:00:00+00:00",
          "2024-04-25T00:00:00+00:00",
          "2024-04-26T00:00:00+00:00",
          "2024-04-27T00:00:00+00:00",
          "2024-04-28T00:00:00+00:00",
          "2024-04-29T00:00:00+00:00",
          "2024-04-30T00:00:00+00:00",
          "2024-05-01T00:00:00+00:00",
          "2024-05-02T00:00:00+00:00",
          "2024-05-03T00:00:00+00:00",
          "2024-05-04T00:00:00+00:00",
          "2024-05-05T00:00:00+00:00",
          "2024-05-06T00:00:00+00:00",
          "2024-05-07T00:00:00+00:00"
         ],
         "xaxis": "x",
         "y": [
          33.0888864340656,
          0,
          45.60114997014001,
          0,
          0,
          0,
          0,
          96.97419001362302,
          0,
          0,
          0,
          0,
          0,
          0,
          0,
          0,
          0,
          203.18958598911001,
          0,
          116.73960233328,
          0,
          203.68114234888,
          1407.78011403854,
          0,
          0,
          0,
          0,
          0,
          0,
          0,
          0,
          0,
          0,
          0,
          0,
          0,
          0,
          0,
          0,
          0,
          0,
          0,
          0,
          0,
          0,
          0,
          0,
          0,
          0,
          0,
          0,
          0,
          0,
          0,
          0,
          0,
          0,
          0,
          0,
          0,
          0,
          0,
          0,
          0,
          0,
          0,
          0,
          0,
          0,
          0,
          0,
          0,
          0,
          0,
          29.61098097526,
          0,
          0,
          0,
          0,
          0,
          0,
          93.92336590291701,
          317.32758139960004,
          0,
          32633.182050176263,
          539.212776791123,
          0,
          0,
          0,
          0,
          0,
          0,
          0,
          0,
          167.83344872107
         ],
         "yaxis": "y"
        },
        {
         "mode": "lines",
         "name": "Cumulative Sales Volume",
         "type": "scatter",
         "x": [
          "2024-02-03T00:00:00+00:00",
          "2024-02-04T00:00:00+00:00",
          "2024-02-05T00:00:00+00:00",
          "2024-02-06T00:00:00+00:00",
          "2024-02-07T00:00:00+00:00",
          "2024-02-08T00:00:00+00:00",
          "2024-02-09T00:00:00+00:00",
          "2024-02-10T00:00:00+00:00",
          "2024-02-11T00:00:00+00:00",
          "2024-02-12T00:00:00+00:00",
          "2024-02-13T00:00:00+00:00",
          "2024-02-14T00:00:00+00:00",
          "2024-02-15T00:00:00+00:00",
          "2024-02-16T00:00:00+00:00",
          "2024-02-17T00:00:00+00:00",
          "2024-02-18T00:00:00+00:00",
          "2024-02-19T00:00:00+00:00",
          "2024-02-20T00:00:00+00:00",
          "2024-02-21T00:00:00+00:00",
          "2024-02-22T00:00:00+00:00",
          "2024-02-23T00:00:00+00:00",
          "2024-02-24T00:00:00+00:00",
          "2024-02-25T00:00:00+00:00",
          "2024-02-26T00:00:00+00:00",
          "2024-02-27T00:00:00+00:00",
          "2024-02-28T00:00:00+00:00",
          "2024-02-29T00:00:00+00:00",
          "2024-03-01T00:00:00+00:00",
          "2024-03-02T00:00:00+00:00",
          "2024-03-03T00:00:00+00:00",
          "2024-03-04T00:00:00+00:00",
          "2024-03-05T00:00:00+00:00",
          "2024-03-06T00:00:00+00:00",
          "2024-03-07T00:00:00+00:00",
          "2024-03-08T00:00:00+00:00",
          "2024-03-09T00:00:00+00:00",
          "2024-03-10T00:00:00+00:00",
          "2024-03-11T00:00:00+00:00",
          "2024-03-12T00:00:00+00:00",
          "2024-03-13T00:00:00+00:00",
          "2024-03-14T00:00:00+00:00",
          "2024-03-15T00:00:00+00:00",
          "2024-03-16T00:00:00+00:00",
          "2024-03-17T00:00:00+00:00",
          "2024-03-18T00:00:00+00:00",
          "2024-03-19T00:00:00+00:00",
          "2024-03-20T00:00:00+00:00",
          "2024-03-21T00:00:00+00:00",
          "2024-03-22T00:00:00+00:00",
          "2024-03-23T00:00:00+00:00",
          "2024-03-24T00:00:00+00:00",
          "2024-03-25T00:00:00+00:00",
          "2024-03-26T00:00:00+00:00",
          "2024-03-27T00:00:00+00:00",
          "2024-03-28T00:00:00+00:00",
          "2024-03-29T00:00:00+00:00",
          "2024-03-30T00:00:00+00:00",
          "2024-03-31T00:00:00+00:00",
          "2024-04-01T00:00:00+00:00",
          "2024-04-02T00:00:00+00:00",
          "2024-04-03T00:00:00+00:00",
          "2024-04-04T00:00:00+00:00",
          "2024-04-05T00:00:00+00:00",
          "2024-04-06T00:00:00+00:00",
          "2024-04-07T00:00:00+00:00",
          "2024-04-08T00:00:00+00:00",
          "2024-04-09T00:00:00+00:00",
          "2024-04-10T00:00:00+00:00",
          "2024-04-11T00:00:00+00:00",
          "2024-04-12T00:00:00+00:00",
          "2024-04-13T00:00:00+00:00",
          "2024-04-14T00:00:00+00:00",
          "2024-04-15T00:00:00+00:00",
          "2024-04-16T00:00:00+00:00",
          "2024-04-17T00:00:00+00:00",
          "2024-04-18T00:00:00+00:00",
          "2024-04-19T00:00:00+00:00",
          "2024-04-20T00:00:00+00:00",
          "2024-04-21T00:00:00+00:00",
          "2024-04-22T00:00:00+00:00",
          "2024-04-23T00:00:00+00:00",
          "2024-04-24T00:00:00+00:00",
          "2024-04-25T00:00:00+00:00",
          "2024-04-26T00:00:00+00:00",
          "2024-04-27T00:00:00+00:00",
          "2024-04-28T00:00:00+00:00",
          "2024-04-29T00:00:00+00:00",
          "2024-04-30T00:00:00+00:00",
          "2024-05-01T00:00:00+00:00",
          "2024-05-02T00:00:00+00:00",
          "2024-05-03T00:00:00+00:00",
          "2024-05-04T00:00:00+00:00",
          "2024-05-05T00:00:00+00:00",
          "2024-05-06T00:00:00+00:00",
          "2024-05-07T00:00:00+00:00"
         ],
         "xaxis": "x",
         "y": [
          33.0888864340656,
          33.0888864340656,
          78.69003640420561,
          78.69003640420561,
          78.69003640420561,
          78.69003640420561,
          78.69003640420561,
          175.66422641782862,
          175.66422641782862,
          175.66422641782862,
          175.66422641782862,
          175.66422641782862,
          175.66422641782862,
          175.66422641782862,
          175.66422641782862,
          175.66422641782862,
          175.66422641782862,
          378.85381240693863,
          378.85381240693863,
          495.59341474021863,
          495.59341474021863,
          699.2745570890986,
          2107.0546711276384,
          2107.0546711276384,
          2107.0546711276384,
          2107.0546711276384,
          2107.0546711276384,
          2107.0546711276384,
          2107.0546711276384,
          2107.0546711276384,
          2107.0546711276384,
          2107.0546711276384,
          2107.0546711276384,
          2107.0546711276384,
          2107.0546711276384,
          2107.0546711276384,
          2107.0546711276384,
          2107.0546711276384,
          2107.0546711276384,
          2107.0546711276384,
          2107.0546711276384,
          2107.0546711276384,
          2107.0546711276384,
          2107.0546711276384,
          2107.0546711276384,
          2107.0546711276384,
          2107.0546711276384,
          2107.0546711276384,
          2107.0546711276384,
          2107.0546711276384,
          2107.0546711276384,
          2107.0546711276384,
          2107.0546711276384,
          2107.0546711276384,
          2107.0546711276384,
          2107.0546711276384,
          2107.0546711276384,
          2107.0546711276384,
          2107.0546711276384,
          2107.0546711276384,
          2107.0546711276384,
          2107.0546711276384,
          2107.0546711276384,
          2107.0546711276384,
          2107.0546711276384,
          2107.0546711276384,
          2107.0546711276384,
          2107.0546711276384,
          2107.0546711276384,
          2107.0546711276384,
          2107.0546711276384,
          2107.0546711276384,
          2107.0546711276384,
          2107.0546711276384,
          2136.6656521028985,
          2136.6656521028985,
          2136.6656521028985,
          2136.6656521028985,
          2136.6656521028985,
          2136.6656521028985,
          2136.6656521028985,
          2230.5890180058154,
          2547.9165994054156,
          2547.9165994054156,
          35181.098649581676,
          35720.3114263728,
          35720.3114263728,
          35720.3114263728,
          35720.3114263728,
          35720.3114263728,
          35720.3114263728,
          35720.3114263728,
          35720.3114263728,
          35720.3114263728,
          35888.144875093865
         ],
         "yaxis": "y2"
        }
       ],
       "layout": {
        "template": {
         "data": {
          "bar": [
           {
            "error_x": {
             "color": "#2a3f5f"
            },
            "error_y": {
             "color": "#2a3f5f"
            },
            "marker": {
             "line": {
              "color": "#E5ECF6",
              "width": 0.5
             },
             "pattern": {
              "fillmode": "overlay",
              "size": 10,
              "solidity": 0.2
             }
            },
            "type": "bar"
           }
          ],
          "barpolar": [
           {
            "marker": {
             "line": {
              "color": "#E5ECF6",
              "width": 0.5
             },
             "pattern": {
              "fillmode": "overlay",
              "size": 10,
              "solidity": 0.2
             }
            },
            "type": "barpolar"
           }
          ],
          "carpet": [
           {
            "aaxis": {
             "endlinecolor": "#2a3f5f",
             "gridcolor": "white",
             "linecolor": "white",
             "minorgridcolor": "white",
             "startlinecolor": "#2a3f5f"
            },
            "baxis": {
             "endlinecolor": "#2a3f5f",
             "gridcolor": "white",
             "linecolor": "white",
             "minorgridcolor": "white",
             "startlinecolor": "#2a3f5f"
            },
            "type": "carpet"
           }
          ],
          "choropleth": [
           {
            "colorbar": {
             "outlinewidth": 0,
             "ticks": ""
            },
            "type": "choropleth"
           }
          ],
          "contour": [
           {
            "colorbar": {
             "outlinewidth": 0,
             "ticks": ""
            },
            "colorscale": [
             [
              0,
              "#0d0887"
             ],
             [
              0.1111111111111111,
              "#46039f"
             ],
             [
              0.2222222222222222,
              "#7201a8"
             ],
             [
              0.3333333333333333,
              "#9c179e"
             ],
             [
              0.4444444444444444,
              "#bd3786"
             ],
             [
              0.5555555555555556,
              "#d8576b"
             ],
             [
              0.6666666666666666,
              "#ed7953"
             ],
             [
              0.7777777777777778,
              "#fb9f3a"
             ],
             [
              0.8888888888888888,
              "#fdca26"
             ],
             [
              1,
              "#f0f921"
             ]
            ],
            "type": "contour"
           }
          ],
          "contourcarpet": [
           {
            "colorbar": {
             "outlinewidth": 0,
             "ticks": ""
            },
            "type": "contourcarpet"
           }
          ],
          "heatmap": [
           {
            "colorbar": {
             "outlinewidth": 0,
             "ticks": ""
            },
            "colorscale": [
             [
              0,
              "#0d0887"
             ],
             [
              0.1111111111111111,
              "#46039f"
             ],
             [
              0.2222222222222222,
              "#7201a8"
             ],
             [
              0.3333333333333333,
              "#9c179e"
             ],
             [
              0.4444444444444444,
              "#bd3786"
             ],
             [
              0.5555555555555556,
              "#d8576b"
             ],
             [
              0.6666666666666666,
              "#ed7953"
             ],
             [
              0.7777777777777778,
              "#fb9f3a"
             ],
             [
              0.8888888888888888,
              "#fdca26"
             ],
             [
              1,
              "#f0f921"
             ]
            ],
            "type": "heatmap"
           }
          ],
          "heatmapgl": [
           {
            "colorbar": {
             "outlinewidth": 0,
             "ticks": ""
            },
            "colorscale": [
             [
              0,
              "#0d0887"
             ],
             [
              0.1111111111111111,
              "#46039f"
             ],
             [
              0.2222222222222222,
              "#7201a8"
             ],
             [
              0.3333333333333333,
              "#9c179e"
             ],
             [
              0.4444444444444444,
              "#bd3786"
             ],
             [
              0.5555555555555556,
              "#d8576b"
             ],
             [
              0.6666666666666666,
              "#ed7953"
             ],
             [
              0.7777777777777778,
              "#fb9f3a"
             ],
             [
              0.8888888888888888,
              "#fdca26"
             ],
             [
              1,
              "#f0f921"
             ]
            ],
            "type": "heatmapgl"
           }
          ],
          "histogram": [
           {
            "marker": {
             "pattern": {
              "fillmode": "overlay",
              "size": 10,
              "solidity": 0.2
             }
            },
            "type": "histogram"
           }
          ],
          "histogram2d": [
           {
            "colorbar": {
             "outlinewidth": 0,
             "ticks": ""
            },
            "colorscale": [
             [
              0,
              "#0d0887"
             ],
             [
              0.1111111111111111,
              "#46039f"
             ],
             [
              0.2222222222222222,
              "#7201a8"
             ],
             [
              0.3333333333333333,
              "#9c179e"
             ],
             [
              0.4444444444444444,
              "#bd3786"
             ],
             [
              0.5555555555555556,
              "#d8576b"
             ],
             [
              0.6666666666666666,
              "#ed7953"
             ],
             [
              0.7777777777777778,
              "#fb9f3a"
             ],
             [
              0.8888888888888888,
              "#fdca26"
             ],
             [
              1,
              "#f0f921"
             ]
            ],
            "type": "histogram2d"
           }
          ],
          "histogram2dcontour": [
           {
            "colorbar": {
             "outlinewidth": 0,
             "ticks": ""
            },
            "colorscale": [
             [
              0,
              "#0d0887"
             ],
             [
              0.1111111111111111,
              "#46039f"
             ],
             [
              0.2222222222222222,
              "#7201a8"
             ],
             [
              0.3333333333333333,
              "#9c179e"
             ],
             [
              0.4444444444444444,
              "#bd3786"
             ],
             [
              0.5555555555555556,
              "#d8576b"
             ],
             [
              0.6666666666666666,
              "#ed7953"
             ],
             [
              0.7777777777777778,
              "#fb9f3a"
             ],
             [
              0.8888888888888888,
              "#fdca26"
             ],
             [
              1,
              "#f0f921"
             ]
            ],
            "type": "histogram2dcontour"
           }
          ],
          "mesh3d": [
           {
            "colorbar": {
             "outlinewidth": 0,
             "ticks": ""
            },
            "type": "mesh3d"
           }
          ],
          "parcoords": [
           {
            "line": {
             "colorbar": {
              "outlinewidth": 0,
              "ticks": ""
             }
            },
            "type": "parcoords"
           }
          ],
          "pie": [
           {
            "automargin": true,
            "type": "pie"
           }
          ],
          "scatter": [
           {
            "fillpattern": {
             "fillmode": "overlay",
             "size": 10,
             "solidity": 0.2
            },
            "type": "scatter"
           }
          ],
          "scatter3d": [
           {
            "line": {
             "colorbar": {
              "outlinewidth": 0,
              "ticks": ""
             }
            },
            "marker": {
             "colorbar": {
              "outlinewidth": 0,
              "ticks": ""
             }
            },
            "type": "scatter3d"
           }
          ],
          "scattercarpet": [
           {
            "marker": {
             "colorbar": {
              "outlinewidth": 0,
              "ticks": ""
             }
            },
            "type": "scattercarpet"
           }
          ],
          "scattergeo": [
           {
            "marker": {
             "colorbar": {
              "outlinewidth": 0,
              "ticks": ""
             }
            },
            "type": "scattergeo"
           }
          ],
          "scattergl": [
           {
            "marker": {
             "colorbar": {
              "outlinewidth": 0,
              "ticks": ""
             }
            },
            "type": "scattergl"
           }
          ],
          "scattermapbox": [
           {
            "marker": {
             "colorbar": {
              "outlinewidth": 0,
              "ticks": ""
             }
            },
            "type": "scattermapbox"
           }
          ],
          "scatterpolar": [
           {
            "marker": {
             "colorbar": {
              "outlinewidth": 0,
              "ticks": ""
             }
            },
            "type": "scatterpolar"
           }
          ],
          "scatterpolargl": [
           {
            "marker": {
             "colorbar": {
              "outlinewidth": 0,
              "ticks": ""
             }
            },
            "type": "scatterpolargl"
           }
          ],
          "scatterternary": [
           {
            "marker": {
             "colorbar": {
              "outlinewidth": 0,
              "ticks": ""
             }
            },
            "type": "scatterternary"
           }
          ],
          "surface": [
           {
            "colorbar": {
             "outlinewidth": 0,
             "ticks": ""
            },
            "colorscale": [
             [
              0,
              "#0d0887"
             ],
             [
              0.1111111111111111,
              "#46039f"
             ],
             [
              0.2222222222222222,
              "#7201a8"
             ],
             [
              0.3333333333333333,
              "#9c179e"
             ],
             [
              0.4444444444444444,
              "#bd3786"
             ],
             [
              0.5555555555555556,
              "#d8576b"
             ],
             [
              0.6666666666666666,
              "#ed7953"
             ],
             [
              0.7777777777777778,
              "#fb9f3a"
             ],
             [
              0.8888888888888888,
              "#fdca26"
             ],
             [
              1,
              "#f0f921"
             ]
            ],
            "type": "surface"
           }
          ],
          "table": [
           {
            "cells": {
             "fill": {
              "color": "#EBF0F8"
             },
             "line": {
              "color": "white"
             }
            },
            "header": {
             "fill": {
              "color": "#C8D4E3"
             },
             "line": {
              "color": "white"
             }
            },
            "type": "table"
           }
          ]
         },
         "layout": {
          "annotationdefaults": {
           "arrowcolor": "#2a3f5f",
           "arrowhead": 0,
           "arrowwidth": 1
          },
          "autotypenumbers": "strict",
          "coloraxis": {
           "colorbar": {
            "outlinewidth": 0,
            "ticks": ""
           }
          },
          "colorscale": {
           "diverging": [
            [
             0,
             "#8e0152"
            ],
            [
             0.1,
             "#c51b7d"
            ],
            [
             0.2,
             "#de77ae"
            ],
            [
             0.3,
             "#f1b6da"
            ],
            [
             0.4,
             "#fde0ef"
            ],
            [
             0.5,
             "#f7f7f7"
            ],
            [
             0.6,
             "#e6f5d0"
            ],
            [
             0.7,
             "#b8e186"
            ],
            [
             0.8,
             "#7fbc41"
            ],
            [
             0.9,
             "#4d9221"
            ],
            [
             1,
             "#276419"
            ]
           ],
           "sequential": [
            [
             0,
             "#0d0887"
            ],
            [
             0.1111111111111111,
             "#46039f"
            ],
            [
             0.2222222222222222,
             "#7201a8"
            ],
            [
             0.3333333333333333,
             "#9c179e"
            ],
            [
             0.4444444444444444,
             "#bd3786"
            ],
            [
             0.5555555555555556,
             "#d8576b"
            ],
            [
             0.6666666666666666,
             "#ed7953"
            ],
            [
             0.7777777777777778,
             "#fb9f3a"
            ],
            [
             0.8888888888888888,
             "#fdca26"
            ],
            [
             1,
             "#f0f921"
            ]
           ],
           "sequentialminus": [
            [
             0,
             "#0d0887"
            ],
            [
             0.1111111111111111,
             "#46039f"
            ],
            [
             0.2222222222222222,
             "#7201a8"
            ],
            [
             0.3333333333333333,
             "#9c179e"
            ],
            [
             0.4444444444444444,
             "#bd3786"
            ],
            [
             0.5555555555555556,
             "#d8576b"
            ],
            [
             0.6666666666666666,
             "#ed7953"
            ],
            [
             0.7777777777777778,
             "#fb9f3a"
            ],
            [
             0.8888888888888888,
             "#fdca26"
            ],
            [
             1,
             "#f0f921"
            ]
           ]
          },
          "colorway": [
           "#636efa",
           "#EF553B",
           "#00cc96",
           "#ab63fa",
           "#FFA15A",
           "#19d3f3",
           "#FF6692",
           "#B6E880",
           "#FF97FF",
           "#FECB52"
          ],
          "font": {
           "color": "#2a3f5f"
          },
          "geo": {
           "bgcolor": "white",
           "lakecolor": "white",
           "landcolor": "#E5ECF6",
           "showlakes": true,
           "showland": true,
           "subunitcolor": "white"
          },
          "hoverlabel": {
           "align": "left"
          },
          "hovermode": "closest",
          "mapbox": {
           "style": "light"
          },
          "paper_bgcolor": "white",
          "plot_bgcolor": "#E5ECF6",
          "polar": {
           "angularaxis": {
            "gridcolor": "white",
            "linecolor": "white",
            "ticks": ""
           },
           "bgcolor": "#E5ECF6",
           "radialaxis": {
            "gridcolor": "white",
            "linecolor": "white",
            "ticks": ""
           }
          },
          "scene": {
           "xaxis": {
            "backgroundcolor": "#E5ECF6",
            "gridcolor": "white",
            "gridwidth": 2,
            "linecolor": "white",
            "showbackground": true,
            "ticks": "",
            "zerolinecolor": "white"
           },
           "yaxis": {
            "backgroundcolor": "#E5ECF6",
            "gridcolor": "white",
            "gridwidth": 2,
            "linecolor": "white",
            "showbackground": true,
            "ticks": "",
            "zerolinecolor": "white"
           },
           "zaxis": {
            "backgroundcolor": "#E5ECF6",
            "gridcolor": "white",
            "gridwidth": 2,
            "linecolor": "white",
            "showbackground": true,
            "ticks": "",
            "zerolinecolor": "white"
           }
          },
          "shapedefaults": {
           "line": {
            "color": "#2a3f5f"
           }
          },
          "ternary": {
           "aaxis": {
            "gridcolor": "white",
            "linecolor": "white",
            "ticks": ""
           },
           "baxis": {
            "gridcolor": "white",
            "linecolor": "white",
            "ticks": ""
           },
           "bgcolor": "#E5ECF6",
           "caxis": {
            "gridcolor": "white",
            "linecolor": "white",
            "ticks": ""
           }
          },
          "title": {
           "x": 0.05
          },
          "xaxis": {
           "automargin": true,
           "gridcolor": "white",
           "linecolor": "white",
           "ticks": "",
           "title": {
            "standoff": 15
           },
           "zerolinecolor": "white",
           "zerolinewidth": 2
          },
          "yaxis": {
           "automargin": true,
           "gridcolor": "white",
           "linecolor": "white",
           "ticks": "",
           "title": {
            "standoff": 15
           },
           "zerolinecolor": "white",
           "zerolinewidth": 2
          }
         }
        },
        "xaxis": {
         "anchor": "y",
         "domain": [
          0,
          0.94
         ],
         "title": {
          "text": "Date"
         }
        },
        "yaxis": {
         "anchor": "x",
         "domain": [
          0,
          1
         ]
        },
        "yaxis2": {
         "anchor": "x",
         "overlaying": "y",
         "side": "right"
        }
       }
      }
     },
     "metadata": {},
     "output_type": "display_data"
    }
   ],
   "source": [
    "daily_vol_fig = make_subplots(specs=[[{\"secondary_y\": True}]])\n",
    "\n",
    "daily_vol_fig.add_trace(\n",
    "    go.Bar(\n",
    "        x=daily_sales_metrics.index,\n",
    "        y=daily_sales_metrics['vol_usd'],\n",
    "        name='Sales Volume'\n",
    "    ),\n",
    "    secondary_y=False\n",
    ")\n",
    "\n",
    "daily_vol_fig.add_trace(\n",
    "    go.Scatter(\n",
    "        x=daily_sales_metrics.index,\n",
    "        y=daily_sales_metrics['cumulative_vol'],\n",
    "        name='Cumulative Sales Volume',\n",
    "        mode='lines'\n",
    "    ),\n",
    "    secondary_y=True\n",
    ")\n",
    "\n",
    "daily_vol_fig.update_xaxes(title_text=\"Date\")\n",
    "\n",
    "# daily_vol_fig.show()\n"
   ]
  },
  {
   "cell_type": "code",
   "execution_count": 118,
   "metadata": {},
   "outputs": [
    {
     "data": {
      "application/vnd.plotly.v1+json": {
       "config": {
        "plotlyServerURL": "https://plot.ly"
       },
       "data": [
        {
         "name": "Sales",
         "type": "bar",
         "x": [
          "2024-02-03T00:00:00+00:00",
          "2024-02-04T00:00:00+00:00",
          "2024-02-05T00:00:00+00:00",
          "2024-02-06T00:00:00+00:00",
          "2024-02-07T00:00:00+00:00",
          "2024-02-08T00:00:00+00:00",
          "2024-02-09T00:00:00+00:00",
          "2024-02-10T00:00:00+00:00",
          "2024-02-11T00:00:00+00:00",
          "2024-02-12T00:00:00+00:00",
          "2024-02-13T00:00:00+00:00",
          "2024-02-14T00:00:00+00:00",
          "2024-02-15T00:00:00+00:00",
          "2024-02-16T00:00:00+00:00",
          "2024-02-17T00:00:00+00:00",
          "2024-02-18T00:00:00+00:00",
          "2024-02-19T00:00:00+00:00",
          "2024-02-20T00:00:00+00:00",
          "2024-02-21T00:00:00+00:00",
          "2024-02-22T00:00:00+00:00",
          "2024-02-23T00:00:00+00:00",
          "2024-02-24T00:00:00+00:00",
          "2024-02-25T00:00:00+00:00",
          "2024-02-26T00:00:00+00:00",
          "2024-02-27T00:00:00+00:00",
          "2024-02-28T00:00:00+00:00",
          "2024-02-29T00:00:00+00:00",
          "2024-03-01T00:00:00+00:00",
          "2024-03-02T00:00:00+00:00",
          "2024-03-03T00:00:00+00:00",
          "2024-03-04T00:00:00+00:00",
          "2024-03-05T00:00:00+00:00",
          "2024-03-06T00:00:00+00:00",
          "2024-03-07T00:00:00+00:00",
          "2024-03-08T00:00:00+00:00",
          "2024-03-09T00:00:00+00:00",
          "2024-03-10T00:00:00+00:00",
          "2024-03-11T00:00:00+00:00",
          "2024-03-12T00:00:00+00:00",
          "2024-03-13T00:00:00+00:00",
          "2024-03-14T00:00:00+00:00",
          "2024-03-15T00:00:00+00:00",
          "2024-03-16T00:00:00+00:00",
          "2024-03-17T00:00:00+00:00",
          "2024-03-18T00:00:00+00:00",
          "2024-03-19T00:00:00+00:00",
          "2024-03-20T00:00:00+00:00",
          "2024-03-21T00:00:00+00:00",
          "2024-03-22T00:00:00+00:00",
          "2024-03-23T00:00:00+00:00",
          "2024-03-24T00:00:00+00:00",
          "2024-03-25T00:00:00+00:00",
          "2024-03-26T00:00:00+00:00",
          "2024-03-27T00:00:00+00:00",
          "2024-03-28T00:00:00+00:00",
          "2024-03-29T00:00:00+00:00",
          "2024-03-30T00:00:00+00:00",
          "2024-03-31T00:00:00+00:00",
          "2024-04-01T00:00:00+00:00",
          "2024-04-02T00:00:00+00:00",
          "2024-04-03T00:00:00+00:00",
          "2024-04-04T00:00:00+00:00",
          "2024-04-05T00:00:00+00:00",
          "2024-04-06T00:00:00+00:00",
          "2024-04-07T00:00:00+00:00",
          "2024-04-08T00:00:00+00:00",
          "2024-04-09T00:00:00+00:00",
          "2024-04-10T00:00:00+00:00",
          "2024-04-11T00:00:00+00:00",
          "2024-04-12T00:00:00+00:00",
          "2024-04-13T00:00:00+00:00",
          "2024-04-14T00:00:00+00:00",
          "2024-04-15T00:00:00+00:00",
          "2024-04-16T00:00:00+00:00",
          "2024-04-17T00:00:00+00:00",
          "2024-04-18T00:00:00+00:00",
          "2024-04-19T00:00:00+00:00",
          "2024-04-20T00:00:00+00:00",
          "2024-04-21T00:00:00+00:00",
          "2024-04-22T00:00:00+00:00",
          "2024-04-23T00:00:00+00:00",
          "2024-04-24T00:00:00+00:00",
          "2024-04-25T00:00:00+00:00",
          "2024-04-26T00:00:00+00:00",
          "2024-04-27T00:00:00+00:00",
          "2024-04-28T00:00:00+00:00",
          "2024-04-29T00:00:00+00:00",
          "2024-04-30T00:00:00+00:00",
          "2024-05-01T00:00:00+00:00",
          "2024-05-02T00:00:00+00:00",
          "2024-05-03T00:00:00+00:00",
          "2024-05-04T00:00:00+00:00",
          "2024-05-05T00:00:00+00:00",
          "2024-05-06T00:00:00+00:00",
          "2024-05-07T00:00:00+00:00"
         ],
         "xaxis": "x",
         "y": [
          1,
          0,
          1,
          0,
          0,
          0,
          0,
          1,
          0,
          0,
          0,
          0,
          0,
          0,
          0,
          0,
          0,
          1,
          0,
          1,
          0,
          1,
          7,
          0,
          0,
          0,
          0,
          0,
          0,
          0,
          0,
          0,
          0,
          0,
          0,
          0,
          0,
          0,
          0,
          0,
          0,
          0,
          0,
          0,
          0,
          0,
          0,
          0,
          0,
          0,
          0,
          0,
          0,
          0,
          0,
          0,
          0,
          0,
          0,
          0,
          0,
          0,
          0,
          0,
          0,
          0,
          0,
          0,
          0,
          0,
          0,
          0,
          0,
          0,
          1,
          0,
          0,
          0,
          0,
          0,
          0,
          1,
          1,
          0,
          2,
          2,
          0,
          0,
          0,
          0,
          0,
          0,
          0,
          0,
          1
         ],
         "yaxis": "y"
        },
        {
         "mode": "lines",
         "name": "Cumulative Sales",
         "type": "scatter",
         "x": [
          "2024-02-03T00:00:00+00:00",
          "2024-02-04T00:00:00+00:00",
          "2024-02-05T00:00:00+00:00",
          "2024-02-06T00:00:00+00:00",
          "2024-02-07T00:00:00+00:00",
          "2024-02-08T00:00:00+00:00",
          "2024-02-09T00:00:00+00:00",
          "2024-02-10T00:00:00+00:00",
          "2024-02-11T00:00:00+00:00",
          "2024-02-12T00:00:00+00:00",
          "2024-02-13T00:00:00+00:00",
          "2024-02-14T00:00:00+00:00",
          "2024-02-15T00:00:00+00:00",
          "2024-02-16T00:00:00+00:00",
          "2024-02-17T00:00:00+00:00",
          "2024-02-18T00:00:00+00:00",
          "2024-02-19T00:00:00+00:00",
          "2024-02-20T00:00:00+00:00",
          "2024-02-21T00:00:00+00:00",
          "2024-02-22T00:00:00+00:00",
          "2024-02-23T00:00:00+00:00",
          "2024-02-24T00:00:00+00:00",
          "2024-02-25T00:00:00+00:00",
          "2024-02-26T00:00:00+00:00",
          "2024-02-27T00:00:00+00:00",
          "2024-02-28T00:00:00+00:00",
          "2024-02-29T00:00:00+00:00",
          "2024-03-01T00:00:00+00:00",
          "2024-03-02T00:00:00+00:00",
          "2024-03-03T00:00:00+00:00",
          "2024-03-04T00:00:00+00:00",
          "2024-03-05T00:00:00+00:00",
          "2024-03-06T00:00:00+00:00",
          "2024-03-07T00:00:00+00:00",
          "2024-03-08T00:00:00+00:00",
          "2024-03-09T00:00:00+00:00",
          "2024-03-10T00:00:00+00:00",
          "2024-03-11T00:00:00+00:00",
          "2024-03-12T00:00:00+00:00",
          "2024-03-13T00:00:00+00:00",
          "2024-03-14T00:00:00+00:00",
          "2024-03-15T00:00:00+00:00",
          "2024-03-16T00:00:00+00:00",
          "2024-03-17T00:00:00+00:00",
          "2024-03-18T00:00:00+00:00",
          "2024-03-19T00:00:00+00:00",
          "2024-03-20T00:00:00+00:00",
          "2024-03-21T00:00:00+00:00",
          "2024-03-22T00:00:00+00:00",
          "2024-03-23T00:00:00+00:00",
          "2024-03-24T00:00:00+00:00",
          "2024-03-25T00:00:00+00:00",
          "2024-03-26T00:00:00+00:00",
          "2024-03-27T00:00:00+00:00",
          "2024-03-28T00:00:00+00:00",
          "2024-03-29T00:00:00+00:00",
          "2024-03-30T00:00:00+00:00",
          "2024-03-31T00:00:00+00:00",
          "2024-04-01T00:00:00+00:00",
          "2024-04-02T00:00:00+00:00",
          "2024-04-03T00:00:00+00:00",
          "2024-04-04T00:00:00+00:00",
          "2024-04-05T00:00:00+00:00",
          "2024-04-06T00:00:00+00:00",
          "2024-04-07T00:00:00+00:00",
          "2024-04-08T00:00:00+00:00",
          "2024-04-09T00:00:00+00:00",
          "2024-04-10T00:00:00+00:00",
          "2024-04-11T00:00:00+00:00",
          "2024-04-12T00:00:00+00:00",
          "2024-04-13T00:00:00+00:00",
          "2024-04-14T00:00:00+00:00",
          "2024-04-15T00:00:00+00:00",
          "2024-04-16T00:00:00+00:00",
          "2024-04-17T00:00:00+00:00",
          "2024-04-18T00:00:00+00:00",
          "2024-04-19T00:00:00+00:00",
          "2024-04-20T00:00:00+00:00",
          "2024-04-21T00:00:00+00:00",
          "2024-04-22T00:00:00+00:00",
          "2024-04-23T00:00:00+00:00",
          "2024-04-24T00:00:00+00:00",
          "2024-04-25T00:00:00+00:00",
          "2024-04-26T00:00:00+00:00",
          "2024-04-27T00:00:00+00:00",
          "2024-04-28T00:00:00+00:00",
          "2024-04-29T00:00:00+00:00",
          "2024-04-30T00:00:00+00:00",
          "2024-05-01T00:00:00+00:00",
          "2024-05-02T00:00:00+00:00",
          "2024-05-03T00:00:00+00:00",
          "2024-05-04T00:00:00+00:00",
          "2024-05-05T00:00:00+00:00",
          "2024-05-06T00:00:00+00:00",
          "2024-05-07T00:00:00+00:00"
         ],
         "xaxis": "x",
         "y": [
          1,
          1,
          2,
          2,
          2,
          2,
          2,
          3,
          3,
          3,
          3,
          3,
          3,
          3,
          3,
          3,
          3,
          4,
          4,
          5,
          5,
          6,
          13,
          13,
          13,
          13,
          13,
          13,
          13,
          13,
          13,
          13,
          13,
          13,
          13,
          13,
          13,
          13,
          13,
          13,
          13,
          13,
          13,
          13,
          13,
          13,
          13,
          13,
          13,
          13,
          13,
          13,
          13,
          13,
          13,
          13,
          13,
          13,
          13,
          13,
          13,
          13,
          13,
          13,
          13,
          13,
          13,
          13,
          13,
          13,
          13,
          13,
          13,
          13,
          14,
          14,
          14,
          14,
          14,
          14,
          14,
          15,
          16,
          16,
          18,
          20,
          20,
          20,
          20,
          20,
          20,
          20,
          20,
          20,
          21
         ],
         "yaxis": "y2"
        }
       ],
       "layout": {
        "template": {
         "data": {
          "bar": [
           {
            "error_x": {
             "color": "#2a3f5f"
            },
            "error_y": {
             "color": "#2a3f5f"
            },
            "marker": {
             "line": {
              "color": "#E5ECF6",
              "width": 0.5
             },
             "pattern": {
              "fillmode": "overlay",
              "size": 10,
              "solidity": 0.2
             }
            },
            "type": "bar"
           }
          ],
          "barpolar": [
           {
            "marker": {
             "line": {
              "color": "#E5ECF6",
              "width": 0.5
             },
             "pattern": {
              "fillmode": "overlay",
              "size": 10,
              "solidity": 0.2
             }
            },
            "type": "barpolar"
           }
          ],
          "carpet": [
           {
            "aaxis": {
             "endlinecolor": "#2a3f5f",
             "gridcolor": "white",
             "linecolor": "white",
             "minorgridcolor": "white",
             "startlinecolor": "#2a3f5f"
            },
            "baxis": {
             "endlinecolor": "#2a3f5f",
             "gridcolor": "white",
             "linecolor": "white",
             "minorgridcolor": "white",
             "startlinecolor": "#2a3f5f"
            },
            "type": "carpet"
           }
          ],
          "choropleth": [
           {
            "colorbar": {
             "outlinewidth": 0,
             "ticks": ""
            },
            "type": "choropleth"
           }
          ],
          "contour": [
           {
            "colorbar": {
             "outlinewidth": 0,
             "ticks": ""
            },
            "colorscale": [
             [
              0,
              "#0d0887"
             ],
             [
              0.1111111111111111,
              "#46039f"
             ],
             [
              0.2222222222222222,
              "#7201a8"
             ],
             [
              0.3333333333333333,
              "#9c179e"
             ],
             [
              0.4444444444444444,
              "#bd3786"
             ],
             [
              0.5555555555555556,
              "#d8576b"
             ],
             [
              0.6666666666666666,
              "#ed7953"
             ],
             [
              0.7777777777777778,
              "#fb9f3a"
             ],
             [
              0.8888888888888888,
              "#fdca26"
             ],
             [
              1,
              "#f0f921"
             ]
            ],
            "type": "contour"
           }
          ],
          "contourcarpet": [
           {
            "colorbar": {
             "outlinewidth": 0,
             "ticks": ""
            },
            "type": "contourcarpet"
           }
          ],
          "heatmap": [
           {
            "colorbar": {
             "outlinewidth": 0,
             "ticks": ""
            },
            "colorscale": [
             [
              0,
              "#0d0887"
             ],
             [
              0.1111111111111111,
              "#46039f"
             ],
             [
              0.2222222222222222,
              "#7201a8"
             ],
             [
              0.3333333333333333,
              "#9c179e"
             ],
             [
              0.4444444444444444,
              "#bd3786"
             ],
             [
              0.5555555555555556,
              "#d8576b"
             ],
             [
              0.6666666666666666,
              "#ed7953"
             ],
             [
              0.7777777777777778,
              "#fb9f3a"
             ],
             [
              0.8888888888888888,
              "#fdca26"
             ],
             [
              1,
              "#f0f921"
             ]
            ],
            "type": "heatmap"
           }
          ],
          "heatmapgl": [
           {
            "colorbar": {
             "outlinewidth": 0,
             "ticks": ""
            },
            "colorscale": [
             [
              0,
              "#0d0887"
             ],
             [
              0.1111111111111111,
              "#46039f"
             ],
             [
              0.2222222222222222,
              "#7201a8"
             ],
             [
              0.3333333333333333,
              "#9c179e"
             ],
             [
              0.4444444444444444,
              "#bd3786"
             ],
             [
              0.5555555555555556,
              "#d8576b"
             ],
             [
              0.6666666666666666,
              "#ed7953"
             ],
             [
              0.7777777777777778,
              "#fb9f3a"
             ],
             [
              0.8888888888888888,
              "#fdca26"
             ],
             [
              1,
              "#f0f921"
             ]
            ],
            "type": "heatmapgl"
           }
          ],
          "histogram": [
           {
            "marker": {
             "pattern": {
              "fillmode": "overlay",
              "size": 10,
              "solidity": 0.2
             }
            },
            "type": "histogram"
           }
          ],
          "histogram2d": [
           {
            "colorbar": {
             "outlinewidth": 0,
             "ticks": ""
            },
            "colorscale": [
             [
              0,
              "#0d0887"
             ],
             [
              0.1111111111111111,
              "#46039f"
             ],
             [
              0.2222222222222222,
              "#7201a8"
             ],
             [
              0.3333333333333333,
              "#9c179e"
             ],
             [
              0.4444444444444444,
              "#bd3786"
             ],
             [
              0.5555555555555556,
              "#d8576b"
             ],
             [
              0.6666666666666666,
              "#ed7953"
             ],
             [
              0.7777777777777778,
              "#fb9f3a"
             ],
             [
              0.8888888888888888,
              "#fdca26"
             ],
             [
              1,
              "#f0f921"
             ]
            ],
            "type": "histogram2d"
           }
          ],
          "histogram2dcontour": [
           {
            "colorbar": {
             "outlinewidth": 0,
             "ticks": ""
            },
            "colorscale": [
             [
              0,
              "#0d0887"
             ],
             [
              0.1111111111111111,
              "#46039f"
             ],
             [
              0.2222222222222222,
              "#7201a8"
             ],
             [
              0.3333333333333333,
              "#9c179e"
             ],
             [
              0.4444444444444444,
              "#bd3786"
             ],
             [
              0.5555555555555556,
              "#d8576b"
             ],
             [
              0.6666666666666666,
              "#ed7953"
             ],
             [
              0.7777777777777778,
              "#fb9f3a"
             ],
             [
              0.8888888888888888,
              "#fdca26"
             ],
             [
              1,
              "#f0f921"
             ]
            ],
            "type": "histogram2dcontour"
           }
          ],
          "mesh3d": [
           {
            "colorbar": {
             "outlinewidth": 0,
             "ticks": ""
            },
            "type": "mesh3d"
           }
          ],
          "parcoords": [
           {
            "line": {
             "colorbar": {
              "outlinewidth": 0,
              "ticks": ""
             }
            },
            "type": "parcoords"
           }
          ],
          "pie": [
           {
            "automargin": true,
            "type": "pie"
           }
          ],
          "scatter": [
           {
            "fillpattern": {
             "fillmode": "overlay",
             "size": 10,
             "solidity": 0.2
            },
            "type": "scatter"
           }
          ],
          "scatter3d": [
           {
            "line": {
             "colorbar": {
              "outlinewidth": 0,
              "ticks": ""
             }
            },
            "marker": {
             "colorbar": {
              "outlinewidth": 0,
              "ticks": ""
             }
            },
            "type": "scatter3d"
           }
          ],
          "scattercarpet": [
           {
            "marker": {
             "colorbar": {
              "outlinewidth": 0,
              "ticks": ""
             }
            },
            "type": "scattercarpet"
           }
          ],
          "scattergeo": [
           {
            "marker": {
             "colorbar": {
              "outlinewidth": 0,
              "ticks": ""
             }
            },
            "type": "scattergeo"
           }
          ],
          "scattergl": [
           {
            "marker": {
             "colorbar": {
              "outlinewidth": 0,
              "ticks": ""
             }
            },
            "type": "scattergl"
           }
          ],
          "scattermapbox": [
           {
            "marker": {
             "colorbar": {
              "outlinewidth": 0,
              "ticks": ""
             }
            },
            "type": "scattermapbox"
           }
          ],
          "scatterpolar": [
           {
            "marker": {
             "colorbar": {
              "outlinewidth": 0,
              "ticks": ""
             }
            },
            "type": "scatterpolar"
           }
          ],
          "scatterpolargl": [
           {
            "marker": {
             "colorbar": {
              "outlinewidth": 0,
              "ticks": ""
             }
            },
            "type": "scatterpolargl"
           }
          ],
          "scatterternary": [
           {
            "marker": {
             "colorbar": {
              "outlinewidth": 0,
              "ticks": ""
             }
            },
            "type": "scatterternary"
           }
          ],
          "surface": [
           {
            "colorbar": {
             "outlinewidth": 0,
             "ticks": ""
            },
            "colorscale": [
             [
              0,
              "#0d0887"
             ],
             [
              0.1111111111111111,
              "#46039f"
             ],
             [
              0.2222222222222222,
              "#7201a8"
             ],
             [
              0.3333333333333333,
              "#9c179e"
             ],
             [
              0.4444444444444444,
              "#bd3786"
             ],
             [
              0.5555555555555556,
              "#d8576b"
             ],
             [
              0.6666666666666666,
              "#ed7953"
             ],
             [
              0.7777777777777778,
              "#fb9f3a"
             ],
             [
              0.8888888888888888,
              "#fdca26"
             ],
             [
              1,
              "#f0f921"
             ]
            ],
            "type": "surface"
           }
          ],
          "table": [
           {
            "cells": {
             "fill": {
              "color": "#EBF0F8"
             },
             "line": {
              "color": "white"
             }
            },
            "header": {
             "fill": {
              "color": "#C8D4E3"
             },
             "line": {
              "color": "white"
             }
            },
            "type": "table"
           }
          ]
         },
         "layout": {
          "annotationdefaults": {
           "arrowcolor": "#2a3f5f",
           "arrowhead": 0,
           "arrowwidth": 1
          },
          "autotypenumbers": "strict",
          "coloraxis": {
           "colorbar": {
            "outlinewidth": 0,
            "ticks": ""
           }
          },
          "colorscale": {
           "diverging": [
            [
             0,
             "#8e0152"
            ],
            [
             0.1,
             "#c51b7d"
            ],
            [
             0.2,
             "#de77ae"
            ],
            [
             0.3,
             "#f1b6da"
            ],
            [
             0.4,
             "#fde0ef"
            ],
            [
             0.5,
             "#f7f7f7"
            ],
            [
             0.6,
             "#e6f5d0"
            ],
            [
             0.7,
             "#b8e186"
            ],
            [
             0.8,
             "#7fbc41"
            ],
            [
             0.9,
             "#4d9221"
            ],
            [
             1,
             "#276419"
            ]
           ],
           "sequential": [
            [
             0,
             "#0d0887"
            ],
            [
             0.1111111111111111,
             "#46039f"
            ],
            [
             0.2222222222222222,
             "#7201a8"
            ],
            [
             0.3333333333333333,
             "#9c179e"
            ],
            [
             0.4444444444444444,
             "#bd3786"
            ],
            [
             0.5555555555555556,
             "#d8576b"
            ],
            [
             0.6666666666666666,
             "#ed7953"
            ],
            [
             0.7777777777777778,
             "#fb9f3a"
            ],
            [
             0.8888888888888888,
             "#fdca26"
            ],
            [
             1,
             "#f0f921"
            ]
           ],
           "sequentialminus": [
            [
             0,
             "#0d0887"
            ],
            [
             0.1111111111111111,
             "#46039f"
            ],
            [
             0.2222222222222222,
             "#7201a8"
            ],
            [
             0.3333333333333333,
             "#9c179e"
            ],
            [
             0.4444444444444444,
             "#bd3786"
            ],
            [
             0.5555555555555556,
             "#d8576b"
            ],
            [
             0.6666666666666666,
             "#ed7953"
            ],
            [
             0.7777777777777778,
             "#fb9f3a"
            ],
            [
             0.8888888888888888,
             "#fdca26"
            ],
            [
             1,
             "#f0f921"
            ]
           ]
          },
          "colorway": [
           "#636efa",
           "#EF553B",
           "#00cc96",
           "#ab63fa",
           "#FFA15A",
           "#19d3f3",
           "#FF6692",
           "#B6E880",
           "#FF97FF",
           "#FECB52"
          ],
          "font": {
           "color": "#2a3f5f"
          },
          "geo": {
           "bgcolor": "white",
           "lakecolor": "white",
           "landcolor": "#E5ECF6",
           "showlakes": true,
           "showland": true,
           "subunitcolor": "white"
          },
          "hoverlabel": {
           "align": "left"
          },
          "hovermode": "closest",
          "mapbox": {
           "style": "light"
          },
          "paper_bgcolor": "white",
          "plot_bgcolor": "#E5ECF6",
          "polar": {
           "angularaxis": {
            "gridcolor": "white",
            "linecolor": "white",
            "ticks": ""
           },
           "bgcolor": "#E5ECF6",
           "radialaxis": {
            "gridcolor": "white",
            "linecolor": "white",
            "ticks": ""
           }
          },
          "scene": {
           "xaxis": {
            "backgroundcolor": "#E5ECF6",
            "gridcolor": "white",
            "gridwidth": 2,
            "linecolor": "white",
            "showbackground": true,
            "ticks": "",
            "zerolinecolor": "white"
           },
           "yaxis": {
            "backgroundcolor": "#E5ECF6",
            "gridcolor": "white",
            "gridwidth": 2,
            "linecolor": "white",
            "showbackground": true,
            "ticks": "",
            "zerolinecolor": "white"
           },
           "zaxis": {
            "backgroundcolor": "#E5ECF6",
            "gridcolor": "white",
            "gridwidth": 2,
            "linecolor": "white",
            "showbackground": true,
            "ticks": "",
            "zerolinecolor": "white"
           }
          },
          "shapedefaults": {
           "line": {
            "color": "#2a3f5f"
           }
          },
          "ternary": {
           "aaxis": {
            "gridcolor": "white",
            "linecolor": "white",
            "ticks": ""
           },
           "baxis": {
            "gridcolor": "white",
            "linecolor": "white",
            "ticks": ""
           },
           "bgcolor": "#E5ECF6",
           "caxis": {
            "gridcolor": "white",
            "linecolor": "white",
            "ticks": ""
           }
          },
          "title": {
           "x": 0.05
          },
          "xaxis": {
           "automargin": true,
           "gridcolor": "white",
           "linecolor": "white",
           "ticks": "",
           "title": {
            "standoff": 15
           },
           "zerolinecolor": "white",
           "zerolinewidth": 2
          },
          "yaxis": {
           "automargin": true,
           "gridcolor": "white",
           "linecolor": "white",
           "ticks": "",
           "title": {
            "standoff": 15
           },
           "zerolinecolor": "white",
           "zerolinewidth": 2
          }
         }
        },
        "xaxis": {
         "anchor": "y",
         "domain": [
          0,
          0.94
         ],
         "title": {
          "text": "Date"
         }
        },
        "yaxis": {
         "anchor": "x",
         "domain": [
          0,
          1
         ]
        },
        "yaxis2": {
         "anchor": "x",
         "overlaying": "y",
         "side": "right"
        }
       }
      }
     },
     "metadata": {},
     "output_type": "display_data"
    }
   ],
   "source": [
    "daily_sales_fig = make_subplots(specs=[[{\"secondary_y\": True}]])\n",
    "\n",
    "daily_sales_fig.add_trace(\n",
    "    go.Bar(\n",
    "        x=daily_sales_metrics.index,\n",
    "        y=daily_sales_metrics['daily_sales'],\n",
    "        name='Sales'\n",
    "    ),\n",
    "    secondary_y=False\n",
    ")\n",
    "\n",
    "daily_sales_fig.add_trace(\n",
    "    go.Scatter(\n",
    "        x=daily_sales_metrics.index,\n",
    "        y=daily_sales_metrics['cumulative_sales'],\n",
    "        name='Cumulative Sales',\n",
    "        mode='lines'\n",
    "    ),\n",
    "    secondary_y=True\n",
    ")\n",
    "\n",
    "daily_sales_fig.update_xaxes(title_text=\"Date\")\n",
    "\n",
    "# daily_sales_fig.show()\n"
   ]
  },
  {
   "cell_type": "code",
   "execution_count": 119,
   "metadata": {},
   "outputs": [],
   "source": [
    "monthly_listings = monthly_listings.to_frame('listings')\n"
   ]
  },
  {
   "cell_type": "code",
   "execution_count": 120,
   "metadata": {},
   "outputs": [
    {
     "name": "stderr",
     "output_type": "stream",
     "text": [
      "C:\\Users\\brandyns pc\\AppData\\Local\\Temp\\ipykernel_61036\\2388482189.py:1: FutureWarning:\n",
      "\n",
      "'M' is deprecated and will be removed in a future version, please use 'ME' instead.\n",
      "\n"
     ]
    }
   ],
   "source": [
    "monthly_sales = box_domains_sales['name'].resample('M').count()\n",
    "monthly_sales = monthly_sales.reset_index()\n",
    "monthly_sales['day'] = pd.to_datetime(monthly_sales['day']).dt.strftime('%Y-%m-%d')\n",
    "monthly_sales.set_index('day', inplace=True)"
   ]
  },
  {
   "cell_type": "code",
   "execution_count": 121,
   "metadata": {},
   "outputs": [
    {
     "data": {
      "text/html": [
       "<div>\n",
       "<style scoped>\n",
       "    .dataframe tbody tr th:only-of-type {\n",
       "        vertical-align: middle;\n",
       "    }\n",
       "\n",
       "    .dataframe tbody tr th {\n",
       "        vertical-align: top;\n",
       "    }\n",
       "\n",
       "    .dataframe thead th {\n",
       "        text-align: right;\n",
       "    }\n",
       "</style>\n",
       "<table border=\"1\" class=\"dataframe\">\n",
       "  <thead>\n",
       "    <tr style=\"text-align: right;\">\n",
       "      <th></th>\n",
       "      <th>name</th>\n",
       "    </tr>\n",
       "    <tr>\n",
       "      <th>day</th>\n",
       "      <th></th>\n",
       "    </tr>\n",
       "  </thead>\n",
       "  <tbody>\n",
       "    <tr>\n",
       "      <th>2024-02-29</th>\n",
       "      <td>13</td>\n",
       "    </tr>\n",
       "    <tr>\n",
       "      <th>2024-03-31</th>\n",
       "      <td>0</td>\n",
       "    </tr>\n",
       "    <tr>\n",
       "      <th>2024-04-30</th>\n",
       "      <td>7</td>\n",
       "    </tr>\n",
       "    <tr>\n",
       "      <th>2024-05-31</th>\n",
       "      <td>1</td>\n",
       "    </tr>\n",
       "  </tbody>\n",
       "</table>\n",
       "</div>"
      ],
      "text/plain": [
       "            name\n",
       "day             \n",
       "2024-02-29    13\n",
       "2024-03-31     0\n",
       "2024-04-30     7\n",
       "2024-05-31     1"
      ]
     },
     "execution_count": 121,
     "metadata": {},
     "output_type": "execute_result"
    }
   ],
   "source": [
    "monthly_sales"
   ]
  },
  {
   "cell_type": "code",
   "execution_count": 122,
   "metadata": {},
   "outputs": [
    {
     "data": {
      "text/plain": [
       "DatetimeIndex(['2024-01-31', '2024-02-29', '2024-03-31', '2024-04-30',\n",
       "               '2024-05-31', '2024-06-30', '2024-07-31'],\n",
       "              dtype='datetime64[ns]', name='start_time', freq='ME')"
      ]
     },
     "execution_count": 122,
     "metadata": {},
     "output_type": "execute_result"
    }
   ],
   "source": [
    "monthly_listings.index"
   ]
  },
  {
   "cell_type": "code",
   "execution_count": 123,
   "metadata": {},
   "outputs": [],
   "source": [
    "monthly_sales.index = pd.to_datetime(monthly_sales.index)"
   ]
  },
  {
   "cell_type": "code",
   "execution_count": 124,
   "metadata": {},
   "outputs": [
    {
     "data": {
      "text/html": [
       "<div>\n",
       "<style scoped>\n",
       "    .dataframe tbody tr th:only-of-type {\n",
       "        vertical-align: middle;\n",
       "    }\n",
       "\n",
       "    .dataframe tbody tr th {\n",
       "        vertical-align: top;\n",
       "    }\n",
       "\n",
       "    .dataframe thead th {\n",
       "        text-align: right;\n",
       "    }\n",
       "</style>\n",
       "<table border=\"1\" class=\"dataframe\">\n",
       "  <thead>\n",
       "    <tr style=\"text-align: right;\">\n",
       "      <th></th>\n",
       "      <th>name</th>\n",
       "    </tr>\n",
       "    <tr>\n",
       "      <th>start_time</th>\n",
       "      <th></th>\n",
       "    </tr>\n",
       "  </thead>\n",
       "  <tbody>\n",
       "    <tr>\n",
       "      <th>2024-01-31</th>\n",
       "      <td>0.00</td>\n",
       "    </tr>\n",
       "    <tr>\n",
       "      <th>2024-02-29</th>\n",
       "      <td>13.00</td>\n",
       "    </tr>\n",
       "    <tr>\n",
       "      <th>2024-03-31</th>\n",
       "      <td>0.00</td>\n",
       "    </tr>\n",
       "    <tr>\n",
       "      <th>2024-04-30</th>\n",
       "      <td>7.00</td>\n",
       "    </tr>\n",
       "    <tr>\n",
       "      <th>2024-05-31</th>\n",
       "      <td>1.00</td>\n",
       "    </tr>\n",
       "    <tr>\n",
       "      <th>2024-06-30</th>\n",
       "      <td>0.00</td>\n",
       "    </tr>\n",
       "    <tr>\n",
       "      <th>2024-07-31</th>\n",
       "      <td>0.00</td>\n",
       "    </tr>\n",
       "  </tbody>\n",
       "</table>\n",
       "</div>"
      ],
      "text/plain": [
       "            name\n",
       "start_time      \n",
       "2024-01-31  0.00\n",
       "2024-02-29 13.00\n",
       "2024-03-31  0.00\n",
       "2024-04-30  7.00\n",
       "2024-05-31  1.00\n",
       "2024-06-30  0.00\n",
       "2024-07-31  0.00"
      ]
     },
     "execution_count": 124,
     "metadata": {},
     "output_type": "execute_result"
    }
   ],
   "source": [
    "monthly_sales_reindexed = monthly_sales.reindex(monthly_listings.index).fillna(0)\n",
    "monthly_sales_reindexed\n"
   ]
  },
  {
   "cell_type": "code",
   "execution_count": 125,
   "metadata": {},
   "outputs": [],
   "source": [
    "monthly_listings['sales'] = monthly_sales_reindexed['name']"
   ]
  },
  {
   "cell_type": "code",
   "execution_count": 126,
   "metadata": {},
   "outputs": [
    {
     "data": {
      "text/html": [
       "<div>\n",
       "<style scoped>\n",
       "    .dataframe tbody tr th:only-of-type {\n",
       "        vertical-align: middle;\n",
       "    }\n",
       "\n",
       "    .dataframe tbody tr th {\n",
       "        vertical-align: top;\n",
       "    }\n",
       "\n",
       "    .dataframe thead th {\n",
       "        text-align: right;\n",
       "    }\n",
       "</style>\n",
       "<table border=\"1\" class=\"dataframe\">\n",
       "  <thead>\n",
       "    <tr style=\"text-align: right;\">\n",
       "      <th></th>\n",
       "      <th>listings</th>\n",
       "      <th>sales</th>\n",
       "    </tr>\n",
       "    <tr>\n",
       "      <th>start_time</th>\n",
       "      <th></th>\n",
       "      <th></th>\n",
       "    </tr>\n",
       "  </thead>\n",
       "  <tbody>\n",
       "    <tr>\n",
       "      <th>2024-01-31</th>\n",
       "      <td>36</td>\n",
       "      <td>0.00</td>\n",
       "    </tr>\n",
       "    <tr>\n",
       "      <th>2024-02-29</th>\n",
       "      <td>17</td>\n",
       "      <td>13.00</td>\n",
       "    </tr>\n",
       "    <tr>\n",
       "      <th>2024-03-31</th>\n",
       "      <td>11</td>\n",
       "      <td>0.00</td>\n",
       "    </tr>\n",
       "    <tr>\n",
       "      <th>2024-04-30</th>\n",
       "      <td>93</td>\n",
       "      <td>7.00</td>\n",
       "    </tr>\n",
       "    <tr>\n",
       "      <th>2024-05-31</th>\n",
       "      <td>144</td>\n",
       "      <td>1.00</td>\n",
       "    </tr>\n",
       "    <tr>\n",
       "      <th>2024-06-30</th>\n",
       "      <td>173</td>\n",
       "      <td>0.00</td>\n",
       "    </tr>\n",
       "    <tr>\n",
       "      <th>2024-07-31</th>\n",
       "      <td>57</td>\n",
       "      <td>0.00</td>\n",
       "    </tr>\n",
       "  </tbody>\n",
       "</table>\n",
       "</div>"
      ],
      "text/plain": [
       "            listings  sales\n",
       "start_time                 \n",
       "2024-01-31        36   0.00\n",
       "2024-02-29        17  13.00\n",
       "2024-03-31        11   0.00\n",
       "2024-04-30        93   7.00\n",
       "2024-05-31       144   1.00\n",
       "2024-06-30       173   0.00\n",
       "2024-07-31        57   0.00"
      ]
     },
     "execution_count": 126,
     "metadata": {},
     "output_type": "execute_result"
    }
   ],
   "source": [
    "monthly_listings"
   ]
  },
  {
   "cell_type": "code",
   "execution_count": 127,
   "metadata": {},
   "outputs": [
    {
     "name": "stderr",
     "output_type": "stream",
     "text": [
      "C:\\Users\\brandyns pc\\AppData\\Local\\Temp\\ipykernel_61036\\3641184892.py:2: FutureWarning:\n",
      "\n",
      "A value is trying to be set on a copy of a DataFrame or Series through chained assignment using an inplace method.\n",
      "The behavior will change in pandas 3.0. This inplace method will never work because the intermediate object on which we are setting values always behaves as a copy.\n",
      "\n",
      "For example, when doing 'df[col].method(value, inplace=True)', try using 'df.method({col: value}, inplace=True)' or df[col] = df[col].method(value) instead, to perform the operation inplace on the original object.\n",
      "\n",
      "\n",
      "\n"
     ]
    },
    {
     "data": {
      "text/html": [
       "<div>\n",
       "<style scoped>\n",
       "    .dataframe tbody tr th:only-of-type {\n",
       "        vertical-align: middle;\n",
       "    }\n",
       "\n",
       "    .dataframe tbody tr th {\n",
       "        vertical-align: top;\n",
       "    }\n",
       "\n",
       "    .dataframe thead th {\n",
       "        text-align: right;\n",
       "    }\n",
       "</style>\n",
       "<table border=\"1\" class=\"dataframe\">\n",
       "  <thead>\n",
       "    <tr style=\"text-align: right;\">\n",
       "      <th></th>\n",
       "      <th>listings</th>\n",
       "      <th>sales</th>\n",
       "      <th>listings_to_sales_ratio</th>\n",
       "    </tr>\n",
       "    <tr>\n",
       "      <th>start_time</th>\n",
       "      <th></th>\n",
       "      <th></th>\n",
       "      <th></th>\n",
       "    </tr>\n",
       "  </thead>\n",
       "  <tbody>\n",
       "    <tr>\n",
       "      <th>2024-01-31</th>\n",
       "      <td>36</td>\n",
       "      <td>0.00</td>\n",
       "      <td>0.00</td>\n",
       "    </tr>\n",
       "    <tr>\n",
       "      <th>2024-02-29</th>\n",
       "      <td>17</td>\n",
       "      <td>13.00</td>\n",
       "      <td>1.31</td>\n",
       "    </tr>\n",
       "    <tr>\n",
       "      <th>2024-03-31</th>\n",
       "      <td>11</td>\n",
       "      <td>0.00</td>\n",
       "      <td>0.00</td>\n",
       "    </tr>\n",
       "    <tr>\n",
       "      <th>2024-04-30</th>\n",
       "      <td>93</td>\n",
       "      <td>7.00</td>\n",
       "      <td>13.29</td>\n",
       "    </tr>\n",
       "    <tr>\n",
       "      <th>2024-05-31</th>\n",
       "      <td>144</td>\n",
       "      <td>1.00</td>\n",
       "      <td>144.00</td>\n",
       "    </tr>\n",
       "    <tr>\n",
       "      <th>2024-06-30</th>\n",
       "      <td>173</td>\n",
       "      <td>0.00</td>\n",
       "      <td>0.00</td>\n",
       "    </tr>\n",
       "    <tr>\n",
       "      <th>2024-07-31</th>\n",
       "      <td>57</td>\n",
       "      <td>0.00</td>\n",
       "      <td>0.00</td>\n",
       "    </tr>\n",
       "  </tbody>\n",
       "</table>\n",
       "</div>"
      ],
      "text/plain": [
       "            listings  sales  listings_to_sales_ratio\n",
       "start_time                                          \n",
       "2024-01-31        36   0.00                     0.00\n",
       "2024-02-29        17  13.00                     1.31\n",
       "2024-03-31        11   0.00                     0.00\n",
       "2024-04-30        93   7.00                    13.29\n",
       "2024-05-31       144   1.00                   144.00\n",
       "2024-06-30       173   0.00                     0.00\n",
       "2024-07-31        57   0.00                     0.00"
      ]
     },
     "execution_count": 127,
     "metadata": {},
     "output_type": "execute_result"
    }
   ],
   "source": [
    "monthly_listings['listings_to_sales_ratio'] = monthly_listings['listings'] / monthly_listings['sales']\n",
    "monthly_listings['listings_to_sales_ratio'].replace([float('inf'), -float('inf')], 0, inplace=True)\n",
    "\n",
    "monthly_listings"
   ]
  },
  {
   "cell_type": "code",
   "execution_count": 128,
   "metadata": {},
   "outputs": [
    {
     "data": {
      "application/vnd.plotly.v1+json": {
       "config": {
        "plotlyServerURL": "https://plot.ly"
       },
       "data": [
        {
         "name": "Sales",
         "type": "bar",
         "x": [
          "2024-01-31T00:00:00",
          "2024-02-29T00:00:00",
          "2024-03-31T00:00:00",
          "2024-04-30T00:00:00",
          "2024-05-31T00:00:00",
          "2024-06-30T00:00:00",
          "2024-07-31T00:00:00"
         ],
         "xaxis": "x",
         "y": [
          0,
          13,
          0,
          7,
          1,
          0,
          0
         ],
         "yaxis": "y"
        },
        {
         "name": "Listings",
         "type": "bar",
         "x": [
          "2024-01-31T00:00:00",
          "2024-02-29T00:00:00",
          "2024-03-31T00:00:00",
          "2024-04-30T00:00:00",
          "2024-05-31T00:00:00",
          "2024-06-30T00:00:00",
          "2024-07-31T00:00:00"
         ],
         "xaxis": "x",
         "y": [
          36,
          17,
          11,
          93,
          144,
          173,
          57
         ],
         "yaxis": "y"
        },
        {
         "mode": "lines",
         "name": "Listings to Sales Ratio",
         "type": "scatter",
         "x": [
          "2024-01-31T00:00:00",
          "2024-02-29T00:00:00",
          "2024-03-31T00:00:00",
          "2024-04-30T00:00:00",
          "2024-05-31T00:00:00",
          "2024-06-30T00:00:00",
          "2024-07-31T00:00:00"
         ],
         "xaxis": "x",
         "y": [
          0,
          1.3076923076923077,
          0,
          13.285714285714286,
          144,
          0,
          0
         ],
         "yaxis": "y2"
        }
       ],
       "layout": {
        "template": {
         "data": {
          "bar": [
           {
            "error_x": {
             "color": "#2a3f5f"
            },
            "error_y": {
             "color": "#2a3f5f"
            },
            "marker": {
             "line": {
              "color": "#E5ECF6",
              "width": 0.5
             },
             "pattern": {
              "fillmode": "overlay",
              "size": 10,
              "solidity": 0.2
             }
            },
            "type": "bar"
           }
          ],
          "barpolar": [
           {
            "marker": {
             "line": {
              "color": "#E5ECF6",
              "width": 0.5
             },
             "pattern": {
              "fillmode": "overlay",
              "size": 10,
              "solidity": 0.2
             }
            },
            "type": "barpolar"
           }
          ],
          "carpet": [
           {
            "aaxis": {
             "endlinecolor": "#2a3f5f",
             "gridcolor": "white",
             "linecolor": "white",
             "minorgridcolor": "white",
             "startlinecolor": "#2a3f5f"
            },
            "baxis": {
             "endlinecolor": "#2a3f5f",
             "gridcolor": "white",
             "linecolor": "white",
             "minorgridcolor": "white",
             "startlinecolor": "#2a3f5f"
            },
            "type": "carpet"
           }
          ],
          "choropleth": [
           {
            "colorbar": {
             "outlinewidth": 0,
             "ticks": ""
            },
            "type": "choropleth"
           }
          ],
          "contour": [
           {
            "colorbar": {
             "outlinewidth": 0,
             "ticks": ""
            },
            "colorscale": [
             [
              0,
              "#0d0887"
             ],
             [
              0.1111111111111111,
              "#46039f"
             ],
             [
              0.2222222222222222,
              "#7201a8"
             ],
             [
              0.3333333333333333,
              "#9c179e"
             ],
             [
              0.4444444444444444,
              "#bd3786"
             ],
             [
              0.5555555555555556,
              "#d8576b"
             ],
             [
              0.6666666666666666,
              "#ed7953"
             ],
             [
              0.7777777777777778,
              "#fb9f3a"
             ],
             [
              0.8888888888888888,
              "#fdca26"
             ],
             [
              1,
              "#f0f921"
             ]
            ],
            "type": "contour"
           }
          ],
          "contourcarpet": [
           {
            "colorbar": {
             "outlinewidth": 0,
             "ticks": ""
            },
            "type": "contourcarpet"
           }
          ],
          "heatmap": [
           {
            "colorbar": {
             "outlinewidth": 0,
             "ticks": ""
            },
            "colorscale": [
             [
              0,
              "#0d0887"
             ],
             [
              0.1111111111111111,
              "#46039f"
             ],
             [
              0.2222222222222222,
              "#7201a8"
             ],
             [
              0.3333333333333333,
              "#9c179e"
             ],
             [
              0.4444444444444444,
              "#bd3786"
             ],
             [
              0.5555555555555556,
              "#d8576b"
             ],
             [
              0.6666666666666666,
              "#ed7953"
             ],
             [
              0.7777777777777778,
              "#fb9f3a"
             ],
             [
              0.8888888888888888,
              "#fdca26"
             ],
             [
              1,
              "#f0f921"
             ]
            ],
            "type": "heatmap"
           }
          ],
          "heatmapgl": [
           {
            "colorbar": {
             "outlinewidth": 0,
             "ticks": ""
            },
            "colorscale": [
             [
              0,
              "#0d0887"
             ],
             [
              0.1111111111111111,
              "#46039f"
             ],
             [
              0.2222222222222222,
              "#7201a8"
             ],
             [
              0.3333333333333333,
              "#9c179e"
             ],
             [
              0.4444444444444444,
              "#bd3786"
             ],
             [
              0.5555555555555556,
              "#d8576b"
             ],
             [
              0.6666666666666666,
              "#ed7953"
             ],
             [
              0.7777777777777778,
              "#fb9f3a"
             ],
             [
              0.8888888888888888,
              "#fdca26"
             ],
             [
              1,
              "#f0f921"
             ]
            ],
            "type": "heatmapgl"
           }
          ],
          "histogram": [
           {
            "marker": {
             "pattern": {
              "fillmode": "overlay",
              "size": 10,
              "solidity": 0.2
             }
            },
            "type": "histogram"
           }
          ],
          "histogram2d": [
           {
            "colorbar": {
             "outlinewidth": 0,
             "ticks": ""
            },
            "colorscale": [
             [
              0,
              "#0d0887"
             ],
             [
              0.1111111111111111,
              "#46039f"
             ],
             [
              0.2222222222222222,
              "#7201a8"
             ],
             [
              0.3333333333333333,
              "#9c179e"
             ],
             [
              0.4444444444444444,
              "#bd3786"
             ],
             [
              0.5555555555555556,
              "#d8576b"
             ],
             [
              0.6666666666666666,
              "#ed7953"
             ],
             [
              0.7777777777777778,
              "#fb9f3a"
             ],
             [
              0.8888888888888888,
              "#fdca26"
             ],
             [
              1,
              "#f0f921"
             ]
            ],
            "type": "histogram2d"
           }
          ],
          "histogram2dcontour": [
           {
            "colorbar": {
             "outlinewidth": 0,
             "ticks": ""
            },
            "colorscale": [
             [
              0,
              "#0d0887"
             ],
             [
              0.1111111111111111,
              "#46039f"
             ],
             [
              0.2222222222222222,
              "#7201a8"
             ],
             [
              0.3333333333333333,
              "#9c179e"
             ],
             [
              0.4444444444444444,
              "#bd3786"
             ],
             [
              0.5555555555555556,
              "#d8576b"
             ],
             [
              0.6666666666666666,
              "#ed7953"
             ],
             [
              0.7777777777777778,
              "#fb9f3a"
             ],
             [
              0.8888888888888888,
              "#fdca26"
             ],
             [
              1,
              "#f0f921"
             ]
            ],
            "type": "histogram2dcontour"
           }
          ],
          "mesh3d": [
           {
            "colorbar": {
             "outlinewidth": 0,
             "ticks": ""
            },
            "type": "mesh3d"
           }
          ],
          "parcoords": [
           {
            "line": {
             "colorbar": {
              "outlinewidth": 0,
              "ticks": ""
             }
            },
            "type": "parcoords"
           }
          ],
          "pie": [
           {
            "automargin": true,
            "type": "pie"
           }
          ],
          "scatter": [
           {
            "fillpattern": {
             "fillmode": "overlay",
             "size": 10,
             "solidity": 0.2
            },
            "type": "scatter"
           }
          ],
          "scatter3d": [
           {
            "line": {
             "colorbar": {
              "outlinewidth": 0,
              "ticks": ""
             }
            },
            "marker": {
             "colorbar": {
              "outlinewidth": 0,
              "ticks": ""
             }
            },
            "type": "scatter3d"
           }
          ],
          "scattercarpet": [
           {
            "marker": {
             "colorbar": {
              "outlinewidth": 0,
              "ticks": ""
             }
            },
            "type": "scattercarpet"
           }
          ],
          "scattergeo": [
           {
            "marker": {
             "colorbar": {
              "outlinewidth": 0,
              "ticks": ""
             }
            },
            "type": "scattergeo"
           }
          ],
          "scattergl": [
           {
            "marker": {
             "colorbar": {
              "outlinewidth": 0,
              "ticks": ""
             }
            },
            "type": "scattergl"
           }
          ],
          "scattermapbox": [
           {
            "marker": {
             "colorbar": {
              "outlinewidth": 0,
              "ticks": ""
             }
            },
            "type": "scattermapbox"
           }
          ],
          "scatterpolar": [
           {
            "marker": {
             "colorbar": {
              "outlinewidth": 0,
              "ticks": ""
             }
            },
            "type": "scatterpolar"
           }
          ],
          "scatterpolargl": [
           {
            "marker": {
             "colorbar": {
              "outlinewidth": 0,
              "ticks": ""
             }
            },
            "type": "scatterpolargl"
           }
          ],
          "scatterternary": [
           {
            "marker": {
             "colorbar": {
              "outlinewidth": 0,
              "ticks": ""
             }
            },
            "type": "scatterternary"
           }
          ],
          "surface": [
           {
            "colorbar": {
             "outlinewidth": 0,
             "ticks": ""
            },
            "colorscale": [
             [
              0,
              "#0d0887"
             ],
             [
              0.1111111111111111,
              "#46039f"
             ],
             [
              0.2222222222222222,
              "#7201a8"
             ],
             [
              0.3333333333333333,
              "#9c179e"
             ],
             [
              0.4444444444444444,
              "#bd3786"
             ],
             [
              0.5555555555555556,
              "#d8576b"
             ],
             [
              0.6666666666666666,
              "#ed7953"
             ],
             [
              0.7777777777777778,
              "#fb9f3a"
             ],
             [
              0.8888888888888888,
              "#fdca26"
             ],
             [
              1,
              "#f0f921"
             ]
            ],
            "type": "surface"
           }
          ],
          "table": [
           {
            "cells": {
             "fill": {
              "color": "#EBF0F8"
             },
             "line": {
              "color": "white"
             }
            },
            "header": {
             "fill": {
              "color": "#C8D4E3"
             },
             "line": {
              "color": "white"
             }
            },
            "type": "table"
           }
          ]
         },
         "layout": {
          "annotationdefaults": {
           "arrowcolor": "#2a3f5f",
           "arrowhead": 0,
           "arrowwidth": 1
          },
          "autotypenumbers": "strict",
          "coloraxis": {
           "colorbar": {
            "outlinewidth": 0,
            "ticks": ""
           }
          },
          "colorscale": {
           "diverging": [
            [
             0,
             "#8e0152"
            ],
            [
             0.1,
             "#c51b7d"
            ],
            [
             0.2,
             "#de77ae"
            ],
            [
             0.3,
             "#f1b6da"
            ],
            [
             0.4,
             "#fde0ef"
            ],
            [
             0.5,
             "#f7f7f7"
            ],
            [
             0.6,
             "#e6f5d0"
            ],
            [
             0.7,
             "#b8e186"
            ],
            [
             0.8,
             "#7fbc41"
            ],
            [
             0.9,
             "#4d9221"
            ],
            [
             1,
             "#276419"
            ]
           ],
           "sequential": [
            [
             0,
             "#0d0887"
            ],
            [
             0.1111111111111111,
             "#46039f"
            ],
            [
             0.2222222222222222,
             "#7201a8"
            ],
            [
             0.3333333333333333,
             "#9c179e"
            ],
            [
             0.4444444444444444,
             "#bd3786"
            ],
            [
             0.5555555555555556,
             "#d8576b"
            ],
            [
             0.6666666666666666,
             "#ed7953"
            ],
            [
             0.7777777777777778,
             "#fb9f3a"
            ],
            [
             0.8888888888888888,
             "#fdca26"
            ],
            [
             1,
             "#f0f921"
            ]
           ],
           "sequentialminus": [
            [
             0,
             "#0d0887"
            ],
            [
             0.1111111111111111,
             "#46039f"
            ],
            [
             0.2222222222222222,
             "#7201a8"
            ],
            [
             0.3333333333333333,
             "#9c179e"
            ],
            [
             0.4444444444444444,
             "#bd3786"
            ],
            [
             0.5555555555555556,
             "#d8576b"
            ],
            [
             0.6666666666666666,
             "#ed7953"
            ],
            [
             0.7777777777777778,
             "#fb9f3a"
            ],
            [
             0.8888888888888888,
             "#fdca26"
            ],
            [
             1,
             "#f0f921"
            ]
           ]
          },
          "colorway": [
           "#636efa",
           "#EF553B",
           "#00cc96",
           "#ab63fa",
           "#FFA15A",
           "#19d3f3",
           "#FF6692",
           "#B6E880",
           "#FF97FF",
           "#FECB52"
          ],
          "font": {
           "color": "#2a3f5f"
          },
          "geo": {
           "bgcolor": "white",
           "lakecolor": "white",
           "landcolor": "#E5ECF6",
           "showlakes": true,
           "showland": true,
           "subunitcolor": "white"
          },
          "hoverlabel": {
           "align": "left"
          },
          "hovermode": "closest",
          "mapbox": {
           "style": "light"
          },
          "paper_bgcolor": "white",
          "plot_bgcolor": "#E5ECF6",
          "polar": {
           "angularaxis": {
            "gridcolor": "white",
            "linecolor": "white",
            "ticks": ""
           },
           "bgcolor": "#E5ECF6",
           "radialaxis": {
            "gridcolor": "white",
            "linecolor": "white",
            "ticks": ""
           }
          },
          "scene": {
           "xaxis": {
            "backgroundcolor": "#E5ECF6",
            "gridcolor": "white",
            "gridwidth": 2,
            "linecolor": "white",
            "showbackground": true,
            "ticks": "",
            "zerolinecolor": "white"
           },
           "yaxis": {
            "backgroundcolor": "#E5ECF6",
            "gridcolor": "white",
            "gridwidth": 2,
            "linecolor": "white",
            "showbackground": true,
            "ticks": "",
            "zerolinecolor": "white"
           },
           "zaxis": {
            "backgroundcolor": "#E5ECF6",
            "gridcolor": "white",
            "gridwidth": 2,
            "linecolor": "white",
            "showbackground": true,
            "ticks": "",
            "zerolinecolor": "white"
           }
          },
          "shapedefaults": {
           "line": {
            "color": "#2a3f5f"
           }
          },
          "ternary": {
           "aaxis": {
            "gridcolor": "white",
            "linecolor": "white",
            "ticks": ""
           },
           "baxis": {
            "gridcolor": "white",
            "linecolor": "white",
            "ticks": ""
           },
           "bgcolor": "#E5ECF6",
           "caxis": {
            "gridcolor": "white",
            "linecolor": "white",
            "ticks": ""
           }
          },
          "title": {
           "x": 0.05
          },
          "xaxis": {
           "automargin": true,
           "gridcolor": "white",
           "linecolor": "white",
           "ticks": "",
           "title": {
            "standoff": 15
           },
           "zerolinecolor": "white",
           "zerolinewidth": 2
          },
          "yaxis": {
           "automargin": true,
           "gridcolor": "white",
           "linecolor": "white",
           "ticks": "",
           "title": {
            "standoff": 15
           },
           "zerolinecolor": "white",
           "zerolinewidth": 2
          }
         }
        },
        "xaxis": {
         "anchor": "y",
         "domain": [
          0,
          0.94
         ]
        },
        "yaxis": {
         "anchor": "x",
         "domain": [
          0,
          1
         ]
        },
        "yaxis2": {
         "anchor": "x",
         "overlaying": "y",
         "side": "right"
        }
       }
      }
     },
     "metadata": {},
     "output_type": "display_data"
    }
   ],
   "source": [
    "listing_to_sales_fig = make_subplots(specs=[[{\"secondary_y\": True}]])\n",
    "\n",
    "# Add bar chart for sales\n",
    "listing_to_sales_fig.add_trace(\n",
    "    go.Bar(\n",
    "        x=monthly_listings.index,\n",
    "        y=monthly_listings['sales'],\n",
    "        name='Sales'\n",
    "    ),\n",
    "    secondary_y=False\n",
    ")\n",
    "\n",
    "listing_to_sales_fig.add_trace(\n",
    "    go.Bar(\n",
    "        x=monthly_listings.index,\n",
    "        y=monthly_listings['listings'],\n",
    "        name='Listings'\n",
    "    ),\n",
    "    secondary_y=False\n",
    ")\n",
    "\n",
    "# Add line chart for cumulative sales\n",
    "listing_to_sales_fig.add_trace(\n",
    "    go.Scatter(\n",
    "        x=monthly_listings.index,\n",
    "        y=monthly_listings['listings_to_sales_ratio'],\n",
    "        name='Listings to Sales Ratio',\n",
    "        mode='lines'\n",
    "    ),\n",
    "    secondary_y=True\n",
    ")\n",
    "\n",
    "# listing_to_sales_fig.show()\n"
   ]
  },
  {
   "cell_type": "code",
   "execution_count": 129,
   "metadata": {},
   "outputs": [
    {
     "name": "stdout",
     "output_type": "stream",
     "text": [
      "          day  name\n",
      "0  2023-10-31     5\n",
      "1  2023-11-30     2\n",
      "2  2023-12-31    23\n",
      "3  2024-01-31  1745\n",
      "4  2024-02-29   349\n",
      "5  2024-03-31   162\n",
      "6  2024-04-30   636\n",
      "7  2024-05-31   414\n",
      "8  2024-06-30   221\n",
      "9  2024-07-31    57\n"
     ]
    },
    {
     "name": "stderr",
     "output_type": "stream",
     "text": [
      "C:\\Users\\brandyns pc\\AppData\\Local\\Temp\\ipykernel_61036\\2186263740.py:1: FutureWarning:\n",
      "\n",
      "'M' is deprecated and will be removed in a future version, please use 'ME' instead.\n",
      "\n"
     ]
    }
   ],
   "source": [
    "monthly_mints = box_domains_mints.resample('M').count()\n",
    "monthly_mints.reset_index(inplace=True)\n",
    "monthly_mints['day'] = pd.to_datetime(monthly_mints['day']).dt.strftime('%Y-%m-%d') \n",
    "print(monthly_mints)"
   ]
  },
  {
   "cell_type": "code",
   "execution_count": 130,
   "metadata": {},
   "outputs": [],
   "source": [
    "monthly_mints.set_index('day', inplace=True)\n"
   ]
  },
  {
   "cell_type": "code",
   "execution_count": 131,
   "metadata": {},
   "outputs": [
    {
     "data": {
      "text/plain": [
       "DatetimeIndex(['2023-10-31', '2023-11-30', '2023-12-31', '2024-01-31',\n",
       "               '2024-02-29', '2024-03-31', '2024-04-30', '2024-05-31',\n",
       "               '2024-06-30', '2024-07-31'],\n",
       "              dtype='datetime64[ns]', name='day', freq=None)"
      ]
     },
     "execution_count": 131,
     "metadata": {},
     "output_type": "execute_result"
    }
   ],
   "source": [
    "monthly_mints.index = pd.to_datetime(monthly_mints.index) \n",
    "monthly_mints.index"
   ]
  },
  {
   "cell_type": "code",
   "execution_count": 132,
   "metadata": {},
   "outputs": [
    {
     "data": {
      "text/plain": [
       "DatetimeIndex(['2024-01-31', '2024-02-29', '2024-03-31', '2024-04-30',\n",
       "               '2024-05-31', '2024-06-30', '2024-07-31'],\n",
       "              dtype='datetime64[ns]', name='start_time', freq='ME')"
      ]
     },
     "execution_count": 132,
     "metadata": {},
     "output_type": "execute_result"
    }
   ],
   "source": [
    "monthly_sales_reindexed.index"
   ]
  },
  {
   "cell_type": "code",
   "execution_count": 133,
   "metadata": {},
   "outputs": [
    {
     "name": "stderr",
     "output_type": "stream",
     "text": [
      "C:\\Users\\brandyns pc\\AppData\\Local\\Temp\\ipykernel_61036\\760772224.py:4: FutureWarning:\n",
      "\n",
      "A value is trying to be set on a copy of a DataFrame or Series through chained assignment using an inplace method.\n",
      "The behavior will change in pandas 3.0. This inplace method will never work because the intermediate object on which we are setting values always behaves as a copy.\n",
      "\n",
      "For example, when doing 'df[col].method(value, inplace=True)', try using 'df.method({col: value}, inplace=True)' or df[col] = df[col].method(value) instead, to perform the operation inplace on the original object.\n",
      "\n",
      "\n",
      "\n"
     ]
    }
   ],
   "source": [
    "monthly_mints['sales'] = monthly_sales_reindexed['name'] \n",
    "monthly_mints.fillna(0, inplace=True)\n",
    "monthly_mints['mint_to_sales_ratio'] = monthly_mints['name'] / monthly_mints['sales'] \n",
    "monthly_mints['mint_to_sales_ratio'].replace([float('inf'), -float('inf')], 0, inplace=True)\n",
    "monthly_mints.rename(columns={'name':'mints'}, inplace=True)\n"
   ]
  },
  {
   "cell_type": "code",
   "execution_count": 134,
   "metadata": {},
   "outputs": [
    {
     "data": {
      "text/html": [
       "<div>\n",
       "<style scoped>\n",
       "    .dataframe tbody tr th:only-of-type {\n",
       "        vertical-align: middle;\n",
       "    }\n",
       "\n",
       "    .dataframe tbody tr th {\n",
       "        vertical-align: top;\n",
       "    }\n",
       "\n",
       "    .dataframe thead th {\n",
       "        text-align: right;\n",
       "    }\n",
       "</style>\n",
       "<table border=\"1\" class=\"dataframe\">\n",
       "  <thead>\n",
       "    <tr style=\"text-align: right;\">\n",
       "      <th></th>\n",
       "      <th>mints</th>\n",
       "      <th>sales</th>\n",
       "      <th>mint_to_sales_ratio</th>\n",
       "    </tr>\n",
       "    <tr>\n",
       "      <th>day</th>\n",
       "      <th></th>\n",
       "      <th></th>\n",
       "      <th></th>\n",
       "    </tr>\n",
       "  </thead>\n",
       "  <tbody>\n",
       "    <tr>\n",
       "      <th>2023-10-31</th>\n",
       "      <td>5</td>\n",
       "      <td>0.00</td>\n",
       "      <td>0.00</td>\n",
       "    </tr>\n",
       "    <tr>\n",
       "      <th>2023-11-30</th>\n",
       "      <td>2</td>\n",
       "      <td>0.00</td>\n",
       "      <td>0.00</td>\n",
       "    </tr>\n",
       "    <tr>\n",
       "      <th>2023-12-31</th>\n",
       "      <td>23</td>\n",
       "      <td>0.00</td>\n",
       "      <td>0.00</td>\n",
       "    </tr>\n",
       "    <tr>\n",
       "      <th>2024-01-31</th>\n",
       "      <td>1745</td>\n",
       "      <td>0.00</td>\n",
       "      <td>0.00</td>\n",
       "    </tr>\n",
       "    <tr>\n",
       "      <th>2024-02-29</th>\n",
       "      <td>349</td>\n",
       "      <td>13.00</td>\n",
       "      <td>26.85</td>\n",
       "    </tr>\n",
       "    <tr>\n",
       "      <th>2024-03-31</th>\n",
       "      <td>162</td>\n",
       "      <td>0.00</td>\n",
       "      <td>0.00</td>\n",
       "    </tr>\n",
       "    <tr>\n",
       "      <th>2024-04-30</th>\n",
       "      <td>636</td>\n",
       "      <td>7.00</td>\n",
       "      <td>90.86</td>\n",
       "    </tr>\n",
       "    <tr>\n",
       "      <th>2024-05-31</th>\n",
       "      <td>414</td>\n",
       "      <td>1.00</td>\n",
       "      <td>414.00</td>\n",
       "    </tr>\n",
       "    <tr>\n",
       "      <th>2024-06-30</th>\n",
       "      <td>221</td>\n",
       "      <td>0.00</td>\n",
       "      <td>0.00</td>\n",
       "    </tr>\n",
       "    <tr>\n",
       "      <th>2024-07-31</th>\n",
       "      <td>57</td>\n",
       "      <td>0.00</td>\n",
       "      <td>0.00</td>\n",
       "    </tr>\n",
       "  </tbody>\n",
       "</table>\n",
       "</div>"
      ],
      "text/plain": [
       "            mints  sales  mint_to_sales_ratio\n",
       "day                                          \n",
       "2023-10-31      5   0.00                 0.00\n",
       "2023-11-30      2   0.00                 0.00\n",
       "2023-12-31     23   0.00                 0.00\n",
       "2024-01-31   1745   0.00                 0.00\n",
       "2024-02-29    349  13.00                26.85\n",
       "2024-03-31    162   0.00                 0.00\n",
       "2024-04-30    636   7.00                90.86\n",
       "2024-05-31    414   1.00               414.00\n",
       "2024-06-30    221   0.00                 0.00\n",
       "2024-07-31     57   0.00                 0.00"
      ]
     },
     "execution_count": 134,
     "metadata": {},
     "output_type": "execute_result"
    }
   ],
   "source": [
    "monthly_mints"
   ]
  },
  {
   "cell_type": "code",
   "execution_count": 135,
   "metadata": {},
   "outputs": [
    {
     "data": {
      "application/vnd.plotly.v1+json": {
       "config": {
        "plotlyServerURL": "https://plot.ly"
       },
       "data": [
        {
         "name": "Sales",
         "type": "bar",
         "x": [
          "2023-10-31T00:00:00",
          "2023-11-30T00:00:00",
          "2023-12-31T00:00:00",
          "2024-01-31T00:00:00",
          "2024-02-29T00:00:00",
          "2024-03-31T00:00:00",
          "2024-04-30T00:00:00",
          "2024-05-31T00:00:00",
          "2024-06-30T00:00:00",
          "2024-07-31T00:00:00"
         ],
         "xaxis": "x",
         "y": [
          0,
          0,
          0,
          0,
          13,
          0,
          7,
          1,
          0,
          0
         ],
         "yaxis": "y"
        },
        {
         "name": "Mints",
         "type": "bar",
         "x": [
          "2023-10-31T00:00:00",
          "2023-11-30T00:00:00",
          "2023-12-31T00:00:00",
          "2024-01-31T00:00:00",
          "2024-02-29T00:00:00",
          "2024-03-31T00:00:00",
          "2024-04-30T00:00:00",
          "2024-05-31T00:00:00",
          "2024-06-30T00:00:00",
          "2024-07-31T00:00:00"
         ],
         "xaxis": "x",
         "y": [
          5,
          2,
          23,
          1745,
          349,
          162,
          636,
          414,
          221,
          57
         ],
         "yaxis": "y"
        },
        {
         "mode": "lines",
         "name": "Mints to Sales Ratio",
         "type": "scatter",
         "x": [
          "2023-10-31T00:00:00",
          "2023-11-30T00:00:00",
          "2023-12-31T00:00:00",
          "2024-01-31T00:00:00",
          "2024-02-29T00:00:00",
          "2024-03-31T00:00:00",
          "2024-04-30T00:00:00",
          "2024-05-31T00:00:00",
          "2024-06-30T00:00:00",
          "2024-07-31T00:00:00"
         ],
         "xaxis": "x",
         "y": [
          0,
          0,
          0,
          0,
          26.846153846153847,
          0,
          90.85714285714286,
          414,
          0,
          0
         ],
         "yaxis": "y2"
        }
       ],
       "layout": {
        "template": {
         "data": {
          "bar": [
           {
            "error_x": {
             "color": "#2a3f5f"
            },
            "error_y": {
             "color": "#2a3f5f"
            },
            "marker": {
             "line": {
              "color": "#E5ECF6",
              "width": 0.5
             },
             "pattern": {
              "fillmode": "overlay",
              "size": 10,
              "solidity": 0.2
             }
            },
            "type": "bar"
           }
          ],
          "barpolar": [
           {
            "marker": {
             "line": {
              "color": "#E5ECF6",
              "width": 0.5
             },
             "pattern": {
              "fillmode": "overlay",
              "size": 10,
              "solidity": 0.2
             }
            },
            "type": "barpolar"
           }
          ],
          "carpet": [
           {
            "aaxis": {
             "endlinecolor": "#2a3f5f",
             "gridcolor": "white",
             "linecolor": "white",
             "minorgridcolor": "white",
             "startlinecolor": "#2a3f5f"
            },
            "baxis": {
             "endlinecolor": "#2a3f5f",
             "gridcolor": "white",
             "linecolor": "white",
             "minorgridcolor": "white",
             "startlinecolor": "#2a3f5f"
            },
            "type": "carpet"
           }
          ],
          "choropleth": [
           {
            "colorbar": {
             "outlinewidth": 0,
             "ticks": ""
            },
            "type": "choropleth"
           }
          ],
          "contour": [
           {
            "colorbar": {
             "outlinewidth": 0,
             "ticks": ""
            },
            "colorscale": [
             [
              0,
              "#0d0887"
             ],
             [
              0.1111111111111111,
              "#46039f"
             ],
             [
              0.2222222222222222,
              "#7201a8"
             ],
             [
              0.3333333333333333,
              "#9c179e"
             ],
             [
              0.4444444444444444,
              "#bd3786"
             ],
             [
              0.5555555555555556,
              "#d8576b"
             ],
             [
              0.6666666666666666,
              "#ed7953"
             ],
             [
              0.7777777777777778,
              "#fb9f3a"
             ],
             [
              0.8888888888888888,
              "#fdca26"
             ],
             [
              1,
              "#f0f921"
             ]
            ],
            "type": "contour"
           }
          ],
          "contourcarpet": [
           {
            "colorbar": {
             "outlinewidth": 0,
             "ticks": ""
            },
            "type": "contourcarpet"
           }
          ],
          "heatmap": [
           {
            "colorbar": {
             "outlinewidth": 0,
             "ticks": ""
            },
            "colorscale": [
             [
              0,
              "#0d0887"
             ],
             [
              0.1111111111111111,
              "#46039f"
             ],
             [
              0.2222222222222222,
              "#7201a8"
             ],
             [
              0.3333333333333333,
              "#9c179e"
             ],
             [
              0.4444444444444444,
              "#bd3786"
             ],
             [
              0.5555555555555556,
              "#d8576b"
             ],
             [
              0.6666666666666666,
              "#ed7953"
             ],
             [
              0.7777777777777778,
              "#fb9f3a"
             ],
             [
              0.8888888888888888,
              "#fdca26"
             ],
             [
              1,
              "#f0f921"
             ]
            ],
            "type": "heatmap"
           }
          ],
          "heatmapgl": [
           {
            "colorbar": {
             "outlinewidth": 0,
             "ticks": ""
            },
            "colorscale": [
             [
              0,
              "#0d0887"
             ],
             [
              0.1111111111111111,
              "#46039f"
             ],
             [
              0.2222222222222222,
              "#7201a8"
             ],
             [
              0.3333333333333333,
              "#9c179e"
             ],
             [
              0.4444444444444444,
              "#bd3786"
             ],
             [
              0.5555555555555556,
              "#d8576b"
             ],
             [
              0.6666666666666666,
              "#ed7953"
             ],
             [
              0.7777777777777778,
              "#fb9f3a"
             ],
             [
              0.8888888888888888,
              "#fdca26"
             ],
             [
              1,
              "#f0f921"
             ]
            ],
            "type": "heatmapgl"
           }
          ],
          "histogram": [
           {
            "marker": {
             "pattern": {
              "fillmode": "overlay",
              "size": 10,
              "solidity": 0.2
             }
            },
            "type": "histogram"
           }
          ],
          "histogram2d": [
           {
            "colorbar": {
             "outlinewidth": 0,
             "ticks": ""
            },
            "colorscale": [
             [
              0,
              "#0d0887"
             ],
             [
              0.1111111111111111,
              "#46039f"
             ],
             [
              0.2222222222222222,
              "#7201a8"
             ],
             [
              0.3333333333333333,
              "#9c179e"
             ],
             [
              0.4444444444444444,
              "#bd3786"
             ],
             [
              0.5555555555555556,
              "#d8576b"
             ],
             [
              0.6666666666666666,
              "#ed7953"
             ],
             [
              0.7777777777777778,
              "#fb9f3a"
             ],
             [
              0.8888888888888888,
              "#fdca26"
             ],
             [
              1,
              "#f0f921"
             ]
            ],
            "type": "histogram2d"
           }
          ],
          "histogram2dcontour": [
           {
            "colorbar": {
             "outlinewidth": 0,
             "ticks": ""
            },
            "colorscale": [
             [
              0,
              "#0d0887"
             ],
             [
              0.1111111111111111,
              "#46039f"
             ],
             [
              0.2222222222222222,
              "#7201a8"
             ],
             [
              0.3333333333333333,
              "#9c179e"
             ],
             [
              0.4444444444444444,
              "#bd3786"
             ],
             [
              0.5555555555555556,
              "#d8576b"
             ],
             [
              0.6666666666666666,
              "#ed7953"
             ],
             [
              0.7777777777777778,
              "#fb9f3a"
             ],
             [
              0.8888888888888888,
              "#fdca26"
             ],
             [
              1,
              "#f0f921"
             ]
            ],
            "type": "histogram2dcontour"
           }
          ],
          "mesh3d": [
           {
            "colorbar": {
             "outlinewidth": 0,
             "ticks": ""
            },
            "type": "mesh3d"
           }
          ],
          "parcoords": [
           {
            "line": {
             "colorbar": {
              "outlinewidth": 0,
              "ticks": ""
             }
            },
            "type": "parcoords"
           }
          ],
          "pie": [
           {
            "automargin": true,
            "type": "pie"
           }
          ],
          "scatter": [
           {
            "fillpattern": {
             "fillmode": "overlay",
             "size": 10,
             "solidity": 0.2
            },
            "type": "scatter"
           }
          ],
          "scatter3d": [
           {
            "line": {
             "colorbar": {
              "outlinewidth": 0,
              "ticks": ""
             }
            },
            "marker": {
             "colorbar": {
              "outlinewidth": 0,
              "ticks": ""
             }
            },
            "type": "scatter3d"
           }
          ],
          "scattercarpet": [
           {
            "marker": {
             "colorbar": {
              "outlinewidth": 0,
              "ticks": ""
             }
            },
            "type": "scattercarpet"
           }
          ],
          "scattergeo": [
           {
            "marker": {
             "colorbar": {
              "outlinewidth": 0,
              "ticks": ""
             }
            },
            "type": "scattergeo"
           }
          ],
          "scattergl": [
           {
            "marker": {
             "colorbar": {
              "outlinewidth": 0,
              "ticks": ""
             }
            },
            "type": "scattergl"
           }
          ],
          "scattermapbox": [
           {
            "marker": {
             "colorbar": {
              "outlinewidth": 0,
              "ticks": ""
             }
            },
            "type": "scattermapbox"
           }
          ],
          "scatterpolar": [
           {
            "marker": {
             "colorbar": {
              "outlinewidth": 0,
              "ticks": ""
             }
            },
            "type": "scatterpolar"
           }
          ],
          "scatterpolargl": [
           {
            "marker": {
             "colorbar": {
              "outlinewidth": 0,
              "ticks": ""
             }
            },
            "type": "scatterpolargl"
           }
          ],
          "scatterternary": [
           {
            "marker": {
             "colorbar": {
              "outlinewidth": 0,
              "ticks": ""
             }
            },
            "type": "scatterternary"
           }
          ],
          "surface": [
           {
            "colorbar": {
             "outlinewidth": 0,
             "ticks": ""
            },
            "colorscale": [
             [
              0,
              "#0d0887"
             ],
             [
              0.1111111111111111,
              "#46039f"
             ],
             [
              0.2222222222222222,
              "#7201a8"
             ],
             [
              0.3333333333333333,
              "#9c179e"
             ],
             [
              0.4444444444444444,
              "#bd3786"
             ],
             [
              0.5555555555555556,
              "#d8576b"
             ],
             [
              0.6666666666666666,
              "#ed7953"
             ],
             [
              0.7777777777777778,
              "#fb9f3a"
             ],
             [
              0.8888888888888888,
              "#fdca26"
             ],
             [
              1,
              "#f0f921"
             ]
            ],
            "type": "surface"
           }
          ],
          "table": [
           {
            "cells": {
             "fill": {
              "color": "#EBF0F8"
             },
             "line": {
              "color": "white"
             }
            },
            "header": {
             "fill": {
              "color": "#C8D4E3"
             },
             "line": {
              "color": "white"
             }
            },
            "type": "table"
           }
          ]
         },
         "layout": {
          "annotationdefaults": {
           "arrowcolor": "#2a3f5f",
           "arrowhead": 0,
           "arrowwidth": 1
          },
          "autotypenumbers": "strict",
          "coloraxis": {
           "colorbar": {
            "outlinewidth": 0,
            "ticks": ""
           }
          },
          "colorscale": {
           "diverging": [
            [
             0,
             "#8e0152"
            ],
            [
             0.1,
             "#c51b7d"
            ],
            [
             0.2,
             "#de77ae"
            ],
            [
             0.3,
             "#f1b6da"
            ],
            [
             0.4,
             "#fde0ef"
            ],
            [
             0.5,
             "#f7f7f7"
            ],
            [
             0.6,
             "#e6f5d0"
            ],
            [
             0.7,
             "#b8e186"
            ],
            [
             0.8,
             "#7fbc41"
            ],
            [
             0.9,
             "#4d9221"
            ],
            [
             1,
             "#276419"
            ]
           ],
           "sequential": [
            [
             0,
             "#0d0887"
            ],
            [
             0.1111111111111111,
             "#46039f"
            ],
            [
             0.2222222222222222,
             "#7201a8"
            ],
            [
             0.3333333333333333,
             "#9c179e"
            ],
            [
             0.4444444444444444,
             "#bd3786"
            ],
            [
             0.5555555555555556,
             "#d8576b"
            ],
            [
             0.6666666666666666,
             "#ed7953"
            ],
            [
             0.7777777777777778,
             "#fb9f3a"
            ],
            [
             0.8888888888888888,
             "#fdca26"
            ],
            [
             1,
             "#f0f921"
            ]
           ],
           "sequentialminus": [
            [
             0,
             "#0d0887"
            ],
            [
             0.1111111111111111,
             "#46039f"
            ],
            [
             0.2222222222222222,
             "#7201a8"
            ],
            [
             0.3333333333333333,
             "#9c179e"
            ],
            [
             0.4444444444444444,
             "#bd3786"
            ],
            [
             0.5555555555555556,
             "#d8576b"
            ],
            [
             0.6666666666666666,
             "#ed7953"
            ],
            [
             0.7777777777777778,
             "#fb9f3a"
            ],
            [
             0.8888888888888888,
             "#fdca26"
            ],
            [
             1,
             "#f0f921"
            ]
           ]
          },
          "colorway": [
           "#636efa",
           "#EF553B",
           "#00cc96",
           "#ab63fa",
           "#FFA15A",
           "#19d3f3",
           "#FF6692",
           "#B6E880",
           "#FF97FF",
           "#FECB52"
          ],
          "font": {
           "color": "#2a3f5f"
          },
          "geo": {
           "bgcolor": "white",
           "lakecolor": "white",
           "landcolor": "#E5ECF6",
           "showlakes": true,
           "showland": true,
           "subunitcolor": "white"
          },
          "hoverlabel": {
           "align": "left"
          },
          "hovermode": "closest",
          "mapbox": {
           "style": "light"
          },
          "paper_bgcolor": "white",
          "plot_bgcolor": "#E5ECF6",
          "polar": {
           "angularaxis": {
            "gridcolor": "white",
            "linecolor": "white",
            "ticks": ""
           },
           "bgcolor": "#E5ECF6",
           "radialaxis": {
            "gridcolor": "white",
            "linecolor": "white",
            "ticks": ""
           }
          },
          "scene": {
           "xaxis": {
            "backgroundcolor": "#E5ECF6",
            "gridcolor": "white",
            "gridwidth": 2,
            "linecolor": "white",
            "showbackground": true,
            "ticks": "",
            "zerolinecolor": "white"
           },
           "yaxis": {
            "backgroundcolor": "#E5ECF6",
            "gridcolor": "white",
            "gridwidth": 2,
            "linecolor": "white",
            "showbackground": true,
            "ticks": "",
            "zerolinecolor": "white"
           },
           "zaxis": {
            "backgroundcolor": "#E5ECF6",
            "gridcolor": "white",
            "gridwidth": 2,
            "linecolor": "white",
            "showbackground": true,
            "ticks": "",
            "zerolinecolor": "white"
           }
          },
          "shapedefaults": {
           "line": {
            "color": "#2a3f5f"
           }
          },
          "ternary": {
           "aaxis": {
            "gridcolor": "white",
            "linecolor": "white",
            "ticks": ""
           },
           "baxis": {
            "gridcolor": "white",
            "linecolor": "white",
            "ticks": ""
           },
           "bgcolor": "#E5ECF6",
           "caxis": {
            "gridcolor": "white",
            "linecolor": "white",
            "ticks": ""
           }
          },
          "title": {
           "x": 0.05
          },
          "xaxis": {
           "automargin": true,
           "gridcolor": "white",
           "linecolor": "white",
           "ticks": "",
           "title": {
            "standoff": 15
           },
           "zerolinecolor": "white",
           "zerolinewidth": 2
          },
          "yaxis": {
           "automargin": true,
           "gridcolor": "white",
           "linecolor": "white",
           "ticks": "",
           "title": {
            "standoff": 15
           },
           "zerolinecolor": "white",
           "zerolinewidth": 2
          }
         }
        },
        "xaxis": {
         "anchor": "y",
         "domain": [
          0,
          0.94
         ]
        },
        "yaxis": {
         "anchor": "x",
         "domain": [
          0,
          1
         ]
        },
        "yaxis2": {
         "anchor": "x",
         "overlaying": "y",
         "side": "right"
        }
       }
      }
     },
     "metadata": {},
     "output_type": "display_data"
    }
   ],
   "source": [
    "mint_to_sales_fig = make_subplots(specs=[[{\"secondary_y\": True}]])\n",
    "\n",
    "# Add bar chart for sales\n",
    "mint_to_sales_fig.add_trace(\n",
    "    go.Bar(\n",
    "        x=monthly_mints.index,\n",
    "        y=monthly_mints['sales'],\n",
    "        name='Sales'\n",
    "    ),\n",
    "    secondary_y=False\n",
    ")\n",
    "\n",
    "mint_to_sales_fig.add_trace(\n",
    "    go.Bar(\n",
    "        x=monthly_mints.index,\n",
    "        y=monthly_mints['mints'],\n",
    "        name='Mints'\n",
    "    ),\n",
    "    secondary_y=False\n",
    ")\n",
    "\n",
    "# Add line chart for cumulative sales\n",
    "mint_to_sales_fig.add_trace(\n",
    "    go.Scatter(\n",
    "        x=monthly_mints.index,\n",
    "        y=monthly_mints['mint_to_sales_ratio'],\n",
    "        name='Mints to Sales Ratio',\n",
    "        mode='lines'\n",
    "    ),\n",
    "    secondary_y=True\n",
    ")\n",
    "\n",
    "# mint_to_sales_fig.show()\n"
   ]
  },
  {
   "cell_type": "code",
   "execution_count": 136,
   "metadata": {},
   "outputs": [
    {
     "name": "stdout",
     "output_type": "stream",
     "text": [
      "25.285714285714285\n"
     ]
    }
   ],
   "source": [
    "cumulative_listings_to_sales = total_box_listings / total_box_sales\n",
    "print(cumulative_listings_to_sales)"
   ]
  },
  {
   "cell_type": "code",
   "execution_count": 137,
   "metadata": {},
   "outputs": [
    {
     "name": "stdout",
     "output_type": "stream",
     "text": [
      "172.0952380952381\n"
     ]
    }
   ],
   "source": [
    "cumulative_mint_to_sales = total_box_mints / total_box_sales\n",
    "print(cumulative_mint_to_sales)"
   ]
  },
  {
   "cell_type": "code",
   "execution_count": 138,
   "metadata": {},
   "outputs": [
    {
     "name": "stdout",
     "output_type": "stream",
     "text": [
      "e:\\Projects\\box_app\n"
     ]
    }
   ],
   "source": [
    "import os\n",
    "print(os.getcwd())\n"
   ]
  },
  {
   "cell_type": "markdown",
   "metadata": {},
   "source": [
    "***Box Domains Valuation Model***"
   ]
  },
  {
   "cell_type": "markdown",
   "metadata": {},
   "source": [
    "**Data Processing**"
   ]
  },
  {
   "cell_type": "markdown",
   "metadata": {},
   "source": [
    "domain_path = 'E:/Projects/box_app/data/domain-name-sales.tsv'  \n",
    "domain_data = pd.read_csv(domain_path, delimiter='\\t')"
   ]
  },
  {
   "cell_type": "code",
   "execution_count": 139,
   "metadata": {},
   "outputs": [],
   "source": [
    "domain_path = 'data/domain-name-sales.tsv'  \n",
    "domain_data = pd.read_csv(domain_path, delimiter='\\t')\n"
   ]
  },
  {
   "cell_type": "code",
   "execution_count": 140,
   "metadata": {},
   "outputs": [],
   "source": [
    "domain_data.set_index('date', inplace=True)\n",
    "domain_data = domain_data.drop(columns=['venue'])\n",
    "domain_data.sort_index(inplace=True)"
   ]
  },
  {
   "cell_type": "code",
   "execution_count": 141,
   "metadata": {},
   "outputs": [
    {
     "data": {
      "text/html": [
       "<div>\n",
       "<style scoped>\n",
       "    .dataframe tbody tr th:only-of-type {\n",
       "        vertical-align: middle;\n",
       "    }\n",
       "\n",
       "    .dataframe tbody tr th {\n",
       "        vertical-align: top;\n",
       "    }\n",
       "\n",
       "    .dataframe thead th {\n",
       "        text-align: right;\n",
       "    }\n",
       "</style>\n",
       "<table border=\"1\" class=\"dataframe\">\n",
       "  <thead>\n",
       "    <tr style=\"text-align: right;\">\n",
       "      <th></th>\n",
       "      <th>domain</th>\n",
       "      <th>price</th>\n",
       "    </tr>\n",
       "    <tr>\n",
       "      <th>date</th>\n",
       "      <th></th>\n",
       "      <th></th>\n",
       "    </tr>\n",
       "  </thead>\n",
       "  <tbody>\n",
       "    <tr>\n",
       "      <th>1999-04-01</th>\n",
       "      <td>altavista.com</td>\n",
       "      <td>3250000</td>\n",
       "    </tr>\n",
       "    <tr>\n",
       "      <th>1999-04-01</th>\n",
       "      <td>bingo.com</td>\n",
       "      <td>1100000</td>\n",
       "    </tr>\n",
       "    <tr>\n",
       "      <th>1999-11-01</th>\n",
       "      <td>fly.com</td>\n",
       "      <td>1500000</td>\n",
       "    </tr>\n",
       "    <tr>\n",
       "      <th>1999-12-01</th>\n",
       "      <td>autos.com</td>\n",
       "      <td>2200000</td>\n",
       "    </tr>\n",
       "    <tr>\n",
       "      <th>1999-12-01</th>\n",
       "      <td>england.com</td>\n",
       "      <td>2000000</td>\n",
       "    </tr>\n",
       "    <tr>\n",
       "      <th>...</th>\n",
       "      <td>...</td>\n",
       "      <td>...</td>\n",
       "    </tr>\n",
       "    <tr>\n",
       "      <th>2021-01-01</th>\n",
       "      <td>yes.movie</td>\n",
       "      <td>253</td>\n",
       "    </tr>\n",
       "    <tr>\n",
       "      <th>2021-01-01</th>\n",
       "      <td>yopal.com</td>\n",
       "      <td>405</td>\n",
       "    </tr>\n",
       "    <tr>\n",
       "      <th>2021-01-01</th>\n",
       "      <td>yougraph.com</td>\n",
       "      <td>1161</td>\n",
       "    </tr>\n",
       "    <tr>\n",
       "      <th>2021-01-01</th>\n",
       "      <td>zenvie.com</td>\n",
       "      <td>349</td>\n",
       "    </tr>\n",
       "    <tr>\n",
       "      <th>2021-01-01</th>\n",
       "      <td>ziggieslivemusic.com</td>\n",
       "      <td>105</td>\n",
       "    </tr>\n",
       "  </tbody>\n",
       "</table>\n",
       "<p>348236 rows × 2 columns</p>\n",
       "</div>"
      ],
      "text/plain": [
       "                          domain    price\n",
       "date                                     \n",
       "1999-04-01         altavista.com  3250000\n",
       "1999-04-01             bingo.com  1100000\n",
       "1999-11-01               fly.com  1500000\n",
       "1999-12-01             autos.com  2200000\n",
       "1999-12-01           england.com  2000000\n",
       "...                          ...      ...\n",
       "2021-01-01             yes.movie      253\n",
       "2021-01-01             yopal.com      405\n",
       "2021-01-01          yougraph.com     1161\n",
       "2021-01-01            zenvie.com      349\n",
       "2021-01-01  ziggieslivemusic.com      105\n",
       "\n",
       "[348236 rows x 2 columns]"
      ]
     },
     "execution_count": 141,
     "metadata": {},
     "output_type": "execute_result"
    }
   ],
   "source": [
    "domain_data.index = pd.to_datetime(domain_data.index)\n",
    "domain_data"
   ]
  },
  {
   "cell_type": "code",
   "execution_count": 142,
   "metadata": {},
   "outputs": [],
   "source": [
    "domain_data['domain_length'] = domain_data['domain'].apply(len)\n",
    "domain_data['num_vowels'] = domain_data['domain'].apply(lambda x: sum([1 for char in x if char in 'aeiou']))\n",
    "domain_data['num_consonants'] = domain_data['domain'].apply(lambda x: sum([1 for char in x if char.isalpha() and char not in 'aeiou']))\n",
    "domain_data['tld'] = domain_data['domain'].apply(lambda x: x.split('.')[-1])  # Extract TLD\n"
   ]
  },
  {
   "cell_type": "code",
   "execution_count": 143,
   "metadata": {},
   "outputs": [
    {
     "data": {
      "text/html": [
       "<div>\n",
       "<style scoped>\n",
       "    .dataframe tbody tr th:only-of-type {\n",
       "        vertical-align: middle;\n",
       "    }\n",
       "\n",
       "    .dataframe tbody tr th {\n",
       "        vertical-align: top;\n",
       "    }\n",
       "\n",
       "    .dataframe thead th {\n",
       "        text-align: right;\n",
       "    }\n",
       "</style>\n",
       "<table border=\"1\" class=\"dataframe\">\n",
       "  <thead>\n",
       "    <tr style=\"text-align: right;\">\n",
       "      <th></th>\n",
       "      <th>domain</th>\n",
       "      <th>price</th>\n",
       "      <th>domain_length</th>\n",
       "      <th>num_vowels</th>\n",
       "      <th>num_consonants</th>\n",
       "      <th>tld</th>\n",
       "    </tr>\n",
       "    <tr>\n",
       "      <th>date</th>\n",
       "      <th></th>\n",
       "      <th></th>\n",
       "      <th></th>\n",
       "      <th></th>\n",
       "      <th></th>\n",
       "      <th></th>\n",
       "    </tr>\n",
       "  </thead>\n",
       "  <tbody>\n",
       "    <tr>\n",
       "      <th>1999-04-01</th>\n",
       "      <td>altavista.com</td>\n",
       "      <td>3250000</td>\n",
       "      <td>13</td>\n",
       "      <td>5</td>\n",
       "      <td>7</td>\n",
       "      <td>com</td>\n",
       "    </tr>\n",
       "    <tr>\n",
       "      <th>1999-04-01</th>\n",
       "      <td>bingo.com</td>\n",
       "      <td>1100000</td>\n",
       "      <td>9</td>\n",
       "      <td>3</td>\n",
       "      <td>5</td>\n",
       "      <td>com</td>\n",
       "    </tr>\n",
       "    <tr>\n",
       "      <th>1999-11-01</th>\n",
       "      <td>fly.com</td>\n",
       "      <td>1500000</td>\n",
       "      <td>7</td>\n",
       "      <td>1</td>\n",
       "      <td>5</td>\n",
       "      <td>com</td>\n",
       "    </tr>\n",
       "    <tr>\n",
       "      <th>1999-12-01</th>\n",
       "      <td>autos.com</td>\n",
       "      <td>2200000</td>\n",
       "      <td>9</td>\n",
       "      <td>4</td>\n",
       "      <td>4</td>\n",
       "      <td>com</td>\n",
       "    </tr>\n",
       "    <tr>\n",
       "      <th>1999-12-01</th>\n",
       "      <td>england.com</td>\n",
       "      <td>2000000</td>\n",
       "      <td>11</td>\n",
       "      <td>3</td>\n",
       "      <td>7</td>\n",
       "      <td>com</td>\n",
       "    </tr>\n",
       "    <tr>\n",
       "      <th>...</th>\n",
       "      <td>...</td>\n",
       "      <td>...</td>\n",
       "      <td>...</td>\n",
       "      <td>...</td>\n",
       "      <td>...</td>\n",
       "      <td>...</td>\n",
       "    </tr>\n",
       "    <tr>\n",
       "      <th>2021-01-01</th>\n",
       "      <td>yes.movie</td>\n",
       "      <td>253</td>\n",
       "      <td>9</td>\n",
       "      <td>4</td>\n",
       "      <td>4</td>\n",
       "      <td>movie</td>\n",
       "    </tr>\n",
       "    <tr>\n",
       "      <th>2021-01-01</th>\n",
       "      <td>yopal.com</td>\n",
       "      <td>405</td>\n",
       "      <td>9</td>\n",
       "      <td>3</td>\n",
       "      <td>5</td>\n",
       "      <td>com</td>\n",
       "    </tr>\n",
       "    <tr>\n",
       "      <th>2021-01-01</th>\n",
       "      <td>yougraph.com</td>\n",
       "      <td>1161</td>\n",
       "      <td>12</td>\n",
       "      <td>4</td>\n",
       "      <td>7</td>\n",
       "      <td>com</td>\n",
       "    </tr>\n",
       "    <tr>\n",
       "      <th>2021-01-01</th>\n",
       "      <td>zenvie.com</td>\n",
       "      <td>349</td>\n",
       "      <td>10</td>\n",
       "      <td>4</td>\n",
       "      <td>5</td>\n",
       "      <td>com</td>\n",
       "    </tr>\n",
       "    <tr>\n",
       "      <th>2021-01-01</th>\n",
       "      <td>ziggieslivemusic.com</td>\n",
       "      <td>105</td>\n",
       "      <td>20</td>\n",
       "      <td>8</td>\n",
       "      <td>11</td>\n",
       "      <td>com</td>\n",
       "    </tr>\n",
       "  </tbody>\n",
       "</table>\n",
       "<p>348236 rows × 6 columns</p>\n",
       "</div>"
      ],
      "text/plain": [
       "                          domain    price  domain_length  num_vowels  \\\n",
       "date                                                                   \n",
       "1999-04-01         altavista.com  3250000             13           5   \n",
       "1999-04-01             bingo.com  1100000              9           3   \n",
       "1999-11-01               fly.com  1500000              7           1   \n",
       "1999-12-01             autos.com  2200000              9           4   \n",
       "1999-12-01           england.com  2000000             11           3   \n",
       "...                          ...      ...            ...         ...   \n",
       "2021-01-01             yes.movie      253              9           4   \n",
       "2021-01-01             yopal.com      405              9           3   \n",
       "2021-01-01          yougraph.com     1161             12           4   \n",
       "2021-01-01            zenvie.com      349             10           4   \n",
       "2021-01-01  ziggieslivemusic.com      105             20           8   \n",
       "\n",
       "            num_consonants    tld  \n",
       "date                               \n",
       "1999-04-01               7    com  \n",
       "1999-04-01               5    com  \n",
       "1999-11-01               5    com  \n",
       "1999-12-01               4    com  \n",
       "1999-12-01               7    com  \n",
       "...                    ...    ...  \n",
       "2021-01-01               4  movie  \n",
       "2021-01-01               5    com  \n",
       "2021-01-01               7    com  \n",
       "2021-01-01               5    com  \n",
       "2021-01-01              11    com  \n",
       "\n",
       "[348236 rows x 6 columns]"
      ]
     },
     "execution_count": 143,
     "metadata": {},
     "output_type": "execute_result"
    }
   ],
   "source": [
    "domain_data"
   ]
  },
  {
   "cell_type": "code",
   "execution_count": 144,
   "metadata": {},
   "outputs": [
    {
     "data": {
      "text/plain": [
       "Index(['name', 'price_usd', 'price_eth'], dtype='object')"
      ]
     },
     "execution_count": 144,
     "metadata": {},
     "output_type": "execute_result"
    }
   ],
   "source": [
    "box_domains_sales.columns"
   ]
  },
  {
   "cell_type": "code",
   "execution_count": 145,
   "metadata": {},
   "outputs": [],
   "source": [
    "filtered_box = box_domains_sales.drop(columns=['price_eth'])\n",
    "filtered_box.rename(columns={'name':'domain', 'price_usd':'price'}, inplace=True)\n"
   ]
  },
  {
   "cell_type": "code",
   "execution_count": 146,
   "metadata": {},
   "outputs": [],
   "source": [
    "filtered_box['domain_length'] = filtered_box['domain'].apply(len)\n",
    "filtered_box['num_vowels'] = filtered_box['domain'].apply(lambda x: sum([1 for char in x if char in 'aeiou']))\n",
    "filtered_box['num_consonants'] = filtered_box['domain'].apply(lambda x: sum([1 for char in x if char.isalpha() and char not in 'aeiou']))\n",
    "filtered_box['tld'] = filtered_box['domain'].apply(lambda x: x.split('.')[-1])  # Extract TLD\n"
   ]
  },
  {
   "cell_type": "code",
   "execution_count": 147,
   "metadata": {},
   "outputs": [],
   "source": [
    "filtered_box.index = filtered_box.index.strftime('%Y-%m-%d')"
   ]
  },
  {
   "cell_type": "code",
   "execution_count": 148,
   "metadata": {},
   "outputs": [
    {
     "data": {
      "text/html": [
       "<div>\n",
       "<style scoped>\n",
       "    .dataframe tbody tr th:only-of-type {\n",
       "        vertical-align: middle;\n",
       "    }\n",
       "\n",
       "    .dataframe tbody tr th {\n",
       "        vertical-align: top;\n",
       "    }\n",
       "\n",
       "    .dataframe thead th {\n",
       "        text-align: right;\n",
       "    }\n",
       "</style>\n",
       "<table border=\"1\" class=\"dataframe\">\n",
       "  <thead>\n",
       "    <tr style=\"text-align: right;\">\n",
       "      <th></th>\n",
       "      <th>domain</th>\n",
       "      <th>price</th>\n",
       "      <th>domain_length</th>\n",
       "      <th>num_vowels</th>\n",
       "      <th>num_consonants</th>\n",
       "      <th>tld</th>\n",
       "    </tr>\n",
       "    <tr>\n",
       "      <th>day</th>\n",
       "      <th></th>\n",
       "      <th></th>\n",
       "      <th></th>\n",
       "      <th></th>\n",
       "      <th></th>\n",
       "      <th></th>\n",
       "    </tr>\n",
       "  </thead>\n",
       "  <tbody>\n",
       "    <tr>\n",
       "      <th>2024-02-03</th>\n",
       "      <td>696.box</td>\n",
       "      <td>33.09</td>\n",
       "      <td>7</td>\n",
       "      <td>1</td>\n",
       "      <td>2</td>\n",
       "      <td>box</td>\n",
       "    </tr>\n",
       "    <tr>\n",
       "      <th>2024-02-05</th>\n",
       "      <td>song.box</td>\n",
       "      <td>45.60</td>\n",
       "      <td>8</td>\n",
       "      <td>2</td>\n",
       "      <td>5</td>\n",
       "      <td>box</td>\n",
       "    </tr>\n",
       "    <tr>\n",
       "      <th>2024-02-10</th>\n",
       "      <td>to.box</td>\n",
       "      <td>96.97</td>\n",
       "      <td>6</td>\n",
       "      <td>2</td>\n",
       "      <td>3</td>\n",
       "      <td>box</td>\n",
       "    </tr>\n",
       "    <tr>\n",
       "      <th>2024-02-20</th>\n",
       "      <td>uae.box</td>\n",
       "      <td>203.19</td>\n",
       "      <td>7</td>\n",
       "      <td>4</td>\n",
       "      <td>2</td>\n",
       "      <td>box</td>\n",
       "    </tr>\n",
       "    <tr>\n",
       "      <th>2024-02-22</th>\n",
       "      <td>08.box</td>\n",
       "      <td>116.74</td>\n",
       "      <td>6</td>\n",
       "      <td>1</td>\n",
       "      <td>2</td>\n",
       "      <td>box</td>\n",
       "    </tr>\n",
       "    <tr>\n",
       "      <th>2024-02-24</th>\n",
       "      <td>404.box</td>\n",
       "      <td>203.68</td>\n",
       "      <td>7</td>\n",
       "      <td>1</td>\n",
       "      <td>2</td>\n",
       "      <td>box</td>\n",
       "    </tr>\n",
       "    <tr>\n",
       "      <th>2024-02-25</th>\n",
       "      <td>010.box</td>\n",
       "      <td>119.08</td>\n",
       "      <td>7</td>\n",
       "      <td>1</td>\n",
       "      <td>2</td>\n",
       "      <td>box</td>\n",
       "    </tr>\n",
       "    <tr>\n",
       "      <th>2024-02-25</th>\n",
       "      <td>70.box</td>\n",
       "      <td>269.17</td>\n",
       "      <td>6</td>\n",
       "      <td>1</td>\n",
       "      <td>2</td>\n",
       "      <td>box</td>\n",
       "    </tr>\n",
       "    <tr>\n",
       "      <th>2024-02-25</th>\n",
       "      <td>40.box</td>\n",
       "      <td>209.36</td>\n",
       "      <td>6</td>\n",
       "      <td>1</td>\n",
       "      <td>2</td>\n",
       "      <td>box</td>\n",
       "    </tr>\n",
       "    <tr>\n",
       "      <th>2024-02-25</th>\n",
       "      <td>ap.box</td>\n",
       "      <td>134.59</td>\n",
       "      <td>6</td>\n",
       "      <td>2</td>\n",
       "      <td>3</td>\n",
       "      <td>box</td>\n",
       "    </tr>\n",
       "    <tr>\n",
       "      <th>2024-02-25</th>\n",
       "      <td>75.box</td>\n",
       "      <td>269.17</td>\n",
       "      <td>6</td>\n",
       "      <td>1</td>\n",
       "      <td>2</td>\n",
       "      <td>box</td>\n",
       "    </tr>\n",
       "    <tr>\n",
       "      <th>2024-02-25</th>\n",
       "      <td>015.box</td>\n",
       "      <td>104.68</td>\n",
       "      <td>7</td>\n",
       "      <td>1</td>\n",
       "      <td>2</td>\n",
       "      <td>box</td>\n",
       "    </tr>\n",
       "    <tr>\n",
       "      <th>2024-02-25</th>\n",
       "      <td>38.box</td>\n",
       "      <td>301.73</td>\n",
       "      <td>6</td>\n",
       "      <td>1</td>\n",
       "      <td>2</td>\n",
       "      <td>box</td>\n",
       "    </tr>\n",
       "    <tr>\n",
       "      <th>2024-04-17</th>\n",
       "      <td>mewtwo.box</td>\n",
       "      <td>29.61</td>\n",
       "      <td>10</td>\n",
       "      <td>3</td>\n",
       "      <td>6</td>\n",
       "      <td>box</td>\n",
       "    </tr>\n",
       "    <tr>\n",
       "      <th>2024-04-24</th>\n",
       "      <td>0000.box</td>\n",
       "      <td>93.92</td>\n",
       "      <td>8</td>\n",
       "      <td>1</td>\n",
       "      <td>2</td>\n",
       "      <td>box</td>\n",
       "    </tr>\n",
       "    <tr>\n",
       "      <th>2024-04-25</th>\n",
       "      <td>express.box</td>\n",
       "      <td>317.33</td>\n",
       "      <td>11</td>\n",
       "      <td>3</td>\n",
       "      <td>7</td>\n",
       "      <td>box</td>\n",
       "    </tr>\n",
       "    <tr>\n",
       "      <th>2024-04-27</th>\n",
       "      <td>jane.box</td>\n",
       "      <td>1,151.71</td>\n",
       "      <td>8</td>\n",
       "      <td>3</td>\n",
       "      <td>4</td>\n",
       "      <td>box</td>\n",
       "    </tr>\n",
       "    <tr>\n",
       "      <th>2024-04-27</th>\n",
       "      <td>vm.box</td>\n",
       "      <td>31,481.47</td>\n",
       "      <td>6</td>\n",
       "      <td>1</td>\n",
       "      <td>4</td>\n",
       "      <td>box</td>\n",
       "    </tr>\n",
       "    <tr>\n",
       "      <th>2024-04-28</th>\n",
       "      <td>man.box</td>\n",
       "      <td>224.60</td>\n",
       "      <td>7</td>\n",
       "      <td>2</td>\n",
       "      <td>4</td>\n",
       "      <td>box</td>\n",
       "    </tr>\n",
       "    <tr>\n",
       "      <th>2024-04-28</th>\n",
       "      <td>good.box</td>\n",
       "      <td>314.61</td>\n",
       "      <td>8</td>\n",
       "      <td>3</td>\n",
       "      <td>4</td>\n",
       "      <td>box</td>\n",
       "    </tr>\n",
       "    <tr>\n",
       "      <th>2024-05-07</th>\n",
       "      <td>onyx.box</td>\n",
       "      <td>167.83</td>\n",
       "      <td>8</td>\n",
       "      <td>2</td>\n",
       "      <td>5</td>\n",
       "      <td>box</td>\n",
       "    </tr>\n",
       "  </tbody>\n",
       "</table>\n",
       "</div>"
      ],
      "text/plain": [
       "                 domain     price  domain_length  num_vowels  num_consonants  \\\n",
       "day                                                                            \n",
       "2024-02-03      696.box     33.09              7           1               2   \n",
       "2024-02-05     song.box     45.60              8           2               5   \n",
       "2024-02-10       to.box     96.97              6           2               3   \n",
       "2024-02-20      uae.box    203.19              7           4               2   \n",
       "2024-02-22       08.box    116.74              6           1               2   \n",
       "2024-02-24      404.box    203.68              7           1               2   \n",
       "2024-02-25      010.box    119.08              7           1               2   \n",
       "2024-02-25       70.box    269.17              6           1               2   \n",
       "2024-02-25       40.box    209.36              6           1               2   \n",
       "2024-02-25       ap.box    134.59              6           2               3   \n",
       "2024-02-25       75.box    269.17              6           1               2   \n",
       "2024-02-25      015.box    104.68              7           1               2   \n",
       "2024-02-25       38.box    301.73              6           1               2   \n",
       "2024-04-17   mewtwo.box     29.61             10           3               6   \n",
       "2024-04-24     0000.box     93.92              8           1               2   \n",
       "2024-04-25  express.box    317.33             11           3               7   \n",
       "2024-04-27     jane.box  1,151.71              8           3               4   \n",
       "2024-04-27       vm.box 31,481.47              6           1               4   \n",
       "2024-04-28      man.box    224.60              7           2               4   \n",
       "2024-04-28     good.box    314.61              8           3               4   \n",
       "2024-05-07     onyx.box    167.83              8           2               5   \n",
       "\n",
       "            tld  \n",
       "day              \n",
       "2024-02-03  box  \n",
       "2024-02-05  box  \n",
       "2024-02-10  box  \n",
       "2024-02-20  box  \n",
       "2024-02-22  box  \n",
       "2024-02-24  box  \n",
       "2024-02-25  box  \n",
       "2024-02-25  box  \n",
       "2024-02-25  box  \n",
       "2024-02-25  box  \n",
       "2024-02-25  box  \n",
       "2024-02-25  box  \n",
       "2024-02-25  box  \n",
       "2024-04-17  box  \n",
       "2024-04-24  box  \n",
       "2024-04-25  box  \n",
       "2024-04-27  box  \n",
       "2024-04-27  box  \n",
       "2024-04-28  box  \n",
       "2024-04-28  box  \n",
       "2024-05-07  box  "
      ]
     },
     "execution_count": 148,
     "metadata": {},
     "output_type": "execute_result"
    }
   ],
   "source": [
    "filtered_box"
   ]
  },
  {
   "cell_type": "code",
   "execution_count": 149,
   "metadata": {},
   "outputs": [],
   "source": [
    "features = ['domain_length', 'num_vowels', 'num_consonants', 'tld']\n",
    "X = domain_data[features]\n",
    "y = domain_data['price']"
   ]
  },
  {
   "cell_type": "code",
   "execution_count": 150,
   "metadata": {},
   "outputs": [],
   "source": [
    "# Preprocess categorical data (TLD) and handle missing values\n",
    "preprocessor = ColumnTransformer(\n",
    "    transformers=[\n",
    "        ('num', Pipeline(steps=[\n",
    "            ('imputer', SimpleImputer(strategy='median')),\n",
    "            ('scaler', StandardScaler())\n",
    "        ]), ['domain_length', 'num_vowels', 'num_consonants']),\n",
    "        ('cat', Pipeline(steps=[\n",
    "            ('imputer', SimpleImputer(strategy='most_frequent')),\n",
    "            ('onehot', OneHotEncoder(handle_unknown='ignore'))\n",
    "        ]), ['tld'])\n",
    "    ]\n",
    ")\n",
    "\n",
    "# Create a pipeline with Ridge regression\n",
    "pipeline = Pipeline(steps=[\n",
    "    ('preprocessor', preprocessor),\n",
    "    ('regressor', Ridge())\n",
    "])\n",
    "\n",
    "# Define the parameter grid for hyperparameter tuning\n",
    "param_grid = {\n",
    "    'regressor__alpha': [0.1, 1.0, 10.0, 100.0, 1000.0]\n",
    "}"
   ]
  },
  {
   "cell_type": "code",
   "execution_count": 151,
   "metadata": {},
   "outputs": [],
   "source": [
    "X_train, X_test, y_train, y_test = train_test_split(X, y, test_size=0.2, random_state=42)\n"
   ]
  },
  {
   "cell_type": "markdown",
   "metadata": {},
   "source": [
    "**Ridge Regression**"
   ]
  },
  {
   "cell_type": "code",
   "execution_count": 152,
   "metadata": {},
   "outputs": [
    {
     "name": "stdout",
     "output_type": "stream",
     "text": [
      "Best Alpha: 1000.0\n",
      "MAE: 2705.0255351946857\n",
      "MSE: 2852191402.3463864\n",
      "R²: 0.0003925999206353392\n"
     ]
    }
   ],
   "source": [
    "grid_search = GridSearchCV(pipeline, param_grid, cv=5, scoring='r2')\n",
    "grid_search.fit(X_train, y_train)\n",
    "\n",
    "# Best model from grid search\n",
    "best_model = grid_search.best_estimator_\n",
    "\n",
    "# Predict and evaluate\n",
    "y_pred = best_model.predict(X_test)\n",
    "mae = mean_absolute_error(y_test, y_pred)\n",
    "mse = mean_squared_error(y_test, y_pred)\n",
    "r2 = r2_score(y_test, y_pred)\n",
    "\n",
    "print(f'Best Alpha: {grid_search.best_params_[\"regressor__alpha\"]}')\n",
    "print(f'MAE: {mae}')\n",
    "print(f'MSE: {mse}')\n",
    "print(f'R²: {r2}')"
   ]
  },
  {
   "cell_type": "markdown",
   "metadata": {},
   "source": [
    "**Random Forest Regressor**"
   ]
  },
  {
   "cell_type": "markdown",
   "metadata": {},
   "source": [
    "pipeline = Pipeline(steps=[\n",
    "    ('preprocessor', preprocessor),\n",
    "    ('regressor', RandomForestRegressor(n_estimators=200, max_depth=20, min_samples_split=5, random_state=42))\n",
    "])\n",
    "\n",
    "# Fit the model\n",
    "pipeline.fit(X_train, y_train)\n",
    "\n",
    "# Predict and evaluate\n",
    "y_pred = pipeline.predict(X_test)\n",
    "mae = mean_absolute_error(y_test, y_pred)\n",
    "mse = mean_squared_error(y_test, y_pred)\n",
    "r2 = r2_score(y_test, y_pred)\n",
    "\n",
    "print(f'MAE: {mae}')\n",
    "print(f'MSE: {mse}')\n",
    "print(f'R²: {r2}')"
   ]
  },
  {
   "cell_type": "markdown",
   "metadata": {},
   "source": [
    "**XGBoost**"
   ]
  },
  {
   "cell_type": "markdown",
   "metadata": {},
   "source": [
    "pipeline = Pipeline(steps=[\n",
    "    ('preprocessor', preprocessor),\n",
    "    ('regressor', XGBRegressor(n_estimators=200, max_depth=5, learning_rate=0.1, random_state=42))\n",
    "])\n",
    "\n",
    "# Fit the model\n",
    "pipeline.fit(X_train, y_train)\n",
    "\n",
    "# Predict and evaluate\n",
    "y_pred = pipeline.predict(X_test)\n",
    "mae = mean_absolute_error(y_test, y_pred)\n",
    "mse = mean_squared_error(y_test, y_pred)\n",
    "r2 = r2_score(y_test, y_pred)\n",
    "\n",
    "print(f'MAE: {mae}')\n",
    "print(f'MSE: {mse}')\n",
    "print(f'R²: {r2}')"
   ]
  },
  {
   "cell_type": "markdown",
   "metadata": {},
   "source": [
    "**LightGBM**"
   ]
  },
  {
   "cell_type": "markdown",
   "metadata": {},
   "source": [
    "pipeline = Pipeline(steps=[\n",
    "    ('preprocessor', preprocessor),\n",
    "    ('regressor', LGBMRegressor(n_estimators=200, max_depth=5, learning_rate=0.1, random_state=42))\n",
    "])\n",
    "\n",
    "# Fit the model\n",
    "pipeline.fit(X_train, y_train)\n",
    "\n",
    "# Predict and evaluate\n",
    "y_pred = pipeline.predict(X_test)\n",
    "mae = mean_absolute_error(y_test, y_pred)\n",
    "mse = mean_squared_error(y_test, y_pred)\n",
    "r2 = r2_score(y_test, y_pred)\n",
    "\n",
    "print(f'MAE: {mae}')\n",
    "print(f'MSE: {mse}')\n",
    "print(f'R²: {r2}')"
   ]
  },
  {
   "cell_type": "markdown",
   "metadata": {},
   "source": [
    "**Cat Boost**"
   ]
  },
  {
   "cell_type": "markdown",
   "metadata": {},
   "source": [
    "pipeline = Pipeline(steps=[\n",
    "    ('preprocessor', preprocessor),\n",
    "    ('regressor', CatBoostRegressor(iterations=200, depth=5, learning_rate=0.1, random_state=42, verbose=0))\n",
    "])\n",
    "\n",
    "# Fit the model\n",
    "pipeline.fit(X_train, y_train)\n",
    "\n",
    "# Predict and evaluate\n",
    "y_pred = pipeline.predict(X_test)\n",
    "mae = mean_absolute_error(y_test, y_pred)\n",
    "mse = mean_squared_error(y_test, y_pred)\n",
    "r2 = r2_score(y_test, y_pred)\n",
    "\n",
    "print(f'MAE: {mae}')\n",
    "print(f'MSE: {mse}')\n",
    "print(f'R²: {r2}')"
   ]
  },
  {
   "cell_type": "markdown",
   "metadata": {},
   "source": [
    "**Prophet**"
   ]
  },
  {
   "cell_type": "markdown",
   "metadata": {},
   "source": [
    "from sklearn.base import BaseEstimator, TransformerMixin\n",
    "\n",
    "class ProphetRegressor(BaseEstimator, TransformerMixin):\n",
    "    def __init__(self):\n",
    "        self.model = Prophet()\n",
    "        self.fitted_model = None\n",
    "\n",
    "    def fit(self, X, y=None):\n",
    "        df = pd.DataFrame({'ds': X.squeeze(), 'y': y})\n",
    "        self.fitted_model = self.model.fit(df)\n",
    "        return self\n",
    "\n",
    "    def predict(self, X):\n",
    "        future = pd.DataFrame({'ds': X.squeeze()})\n",
    "        forecast = self.fitted_model.predict(future)\n",
    "        return forecast['yhat'].values"
   ]
  },
  {
   "cell_type": "markdown",
   "metadata": {},
   "source": [
    "pipeline = Pipeline(steps=[\n",
    "    ('preprocessor', preprocessor),\n",
    "    ('regressor', ProphetRegressor())\n",
    "])"
   ]
  },
  {
   "cell_type": "markdown",
   "metadata": {},
   "source": [
    "X_train, X_test, y_train, y_test = train_test_split(X, y, test_size=0.2, random_state=42)\n",
    "\n"
   ]
  },
  {
   "cell_type": "markdown",
   "metadata": {},
   "source": [
    "**Best Model**"
   ]
  },
  {
   "cell_type": "code",
   "execution_count": 153,
   "metadata": {},
   "outputs": [],
   "source": [
    "pipeline = Pipeline(steps=[\n",
    "    ('preprocessor', preprocessor),\n",
    "    ('regressor', Ridge(alpha=1000.0))  # Set the best alpha value from grid search\n",
    "])"
   ]
  },
  {
   "cell_type": "code",
   "execution_count": 154,
   "metadata": {},
   "outputs": [
    {
     "name": "stdout",
     "output_type": "stream",
     "text": [
      "MAE: 2705.0255351946857\n",
      "MSE: 2852191402.3463864\n",
      "R²: 0.0003925999206353392\n"
     ]
    }
   ],
   "source": [
    "X_train, X_test, y_train, y_test = train_test_split(X, y, test_size=0.2, random_state=42)\n",
    "pipeline.fit(X_train, y_train)\n",
    "y_pred = pipeline.predict(X_test)\n",
    "mae = mean_absolute_error(y_test, y_pred)\n",
    "mse = mean_squared_error(y_test, y_pred)\n",
    "r2 = r2_score(y_test, y_pred)\n",
    "\n",
    "print(f'MAE: {mae}')\n",
    "print(f'MSE: {mse}')\n",
    "print(f'R²: {r2}')"
   ]
  },
  {
   "cell_type": "code",
   "execution_count": 155,
   "metadata": {},
   "outputs": [
    {
     "data": {
      "text/html": [
       "<div>\n",
       "<style scoped>\n",
       "    .dataframe tbody tr th:only-of-type {\n",
       "        vertical-align: middle;\n",
       "    }\n",
       "\n",
       "    .dataframe tbody tr th {\n",
       "        vertical-align: top;\n",
       "    }\n",
       "\n",
       "    .dataframe thead th {\n",
       "        text-align: right;\n",
       "    }\n",
       "</style>\n",
       "<table border=\"1\" class=\"dataframe\">\n",
       "  <thead>\n",
       "    <tr style=\"text-align: right;\">\n",
       "      <th></th>\n",
       "      <th>domain</th>\n",
       "      <th>price</th>\n",
       "      <th>domain_length</th>\n",
       "      <th>num_vowels</th>\n",
       "      <th>num_consonants</th>\n",
       "      <th>tld</th>\n",
       "    </tr>\n",
       "    <tr>\n",
       "      <th>day</th>\n",
       "      <th></th>\n",
       "      <th></th>\n",
       "      <th></th>\n",
       "      <th></th>\n",
       "      <th></th>\n",
       "      <th></th>\n",
       "    </tr>\n",
       "  </thead>\n",
       "  <tbody>\n",
       "    <tr>\n",
       "      <th>2024-02-03</th>\n",
       "      <td>696.box</td>\n",
       "      <td>33.09</td>\n",
       "      <td>7</td>\n",
       "      <td>1</td>\n",
       "      <td>2</td>\n",
       "      <td>box</td>\n",
       "    </tr>\n",
       "    <tr>\n",
       "      <th>2024-02-05</th>\n",
       "      <td>song.box</td>\n",
       "      <td>45.60</td>\n",
       "      <td>8</td>\n",
       "      <td>2</td>\n",
       "      <td>5</td>\n",
       "      <td>box</td>\n",
       "    </tr>\n",
       "    <tr>\n",
       "      <th>2024-02-10</th>\n",
       "      <td>to.box</td>\n",
       "      <td>96.97</td>\n",
       "      <td>6</td>\n",
       "      <td>2</td>\n",
       "      <td>3</td>\n",
       "      <td>box</td>\n",
       "    </tr>\n",
       "    <tr>\n",
       "      <th>2024-02-20</th>\n",
       "      <td>uae.box</td>\n",
       "      <td>203.19</td>\n",
       "      <td>7</td>\n",
       "      <td>4</td>\n",
       "      <td>2</td>\n",
       "      <td>box</td>\n",
       "    </tr>\n",
       "    <tr>\n",
       "      <th>2024-02-22</th>\n",
       "      <td>08.box</td>\n",
       "      <td>116.74</td>\n",
       "      <td>6</td>\n",
       "      <td>1</td>\n",
       "      <td>2</td>\n",
       "      <td>box</td>\n",
       "    </tr>\n",
       "    <tr>\n",
       "      <th>2024-02-24</th>\n",
       "      <td>404.box</td>\n",
       "      <td>203.68</td>\n",
       "      <td>7</td>\n",
       "      <td>1</td>\n",
       "      <td>2</td>\n",
       "      <td>box</td>\n",
       "    </tr>\n",
       "    <tr>\n",
       "      <th>2024-02-25</th>\n",
       "      <td>010.box</td>\n",
       "      <td>119.08</td>\n",
       "      <td>7</td>\n",
       "      <td>1</td>\n",
       "      <td>2</td>\n",
       "      <td>box</td>\n",
       "    </tr>\n",
       "    <tr>\n",
       "      <th>2024-02-25</th>\n",
       "      <td>70.box</td>\n",
       "      <td>269.17</td>\n",
       "      <td>6</td>\n",
       "      <td>1</td>\n",
       "      <td>2</td>\n",
       "      <td>box</td>\n",
       "    </tr>\n",
       "    <tr>\n",
       "      <th>2024-02-25</th>\n",
       "      <td>40.box</td>\n",
       "      <td>209.36</td>\n",
       "      <td>6</td>\n",
       "      <td>1</td>\n",
       "      <td>2</td>\n",
       "      <td>box</td>\n",
       "    </tr>\n",
       "    <tr>\n",
       "      <th>2024-02-25</th>\n",
       "      <td>ap.box</td>\n",
       "      <td>134.59</td>\n",
       "      <td>6</td>\n",
       "      <td>2</td>\n",
       "      <td>3</td>\n",
       "      <td>box</td>\n",
       "    </tr>\n",
       "    <tr>\n",
       "      <th>2024-02-25</th>\n",
       "      <td>75.box</td>\n",
       "      <td>269.17</td>\n",
       "      <td>6</td>\n",
       "      <td>1</td>\n",
       "      <td>2</td>\n",
       "      <td>box</td>\n",
       "    </tr>\n",
       "    <tr>\n",
       "      <th>2024-02-25</th>\n",
       "      <td>015.box</td>\n",
       "      <td>104.68</td>\n",
       "      <td>7</td>\n",
       "      <td>1</td>\n",
       "      <td>2</td>\n",
       "      <td>box</td>\n",
       "    </tr>\n",
       "    <tr>\n",
       "      <th>2024-02-25</th>\n",
       "      <td>38.box</td>\n",
       "      <td>301.73</td>\n",
       "      <td>6</td>\n",
       "      <td>1</td>\n",
       "      <td>2</td>\n",
       "      <td>box</td>\n",
       "    </tr>\n",
       "    <tr>\n",
       "      <th>2024-04-17</th>\n",
       "      <td>mewtwo.box</td>\n",
       "      <td>29.61</td>\n",
       "      <td>10</td>\n",
       "      <td>3</td>\n",
       "      <td>6</td>\n",
       "      <td>box</td>\n",
       "    </tr>\n",
       "    <tr>\n",
       "      <th>2024-04-24</th>\n",
       "      <td>0000.box</td>\n",
       "      <td>93.92</td>\n",
       "      <td>8</td>\n",
       "      <td>1</td>\n",
       "      <td>2</td>\n",
       "      <td>box</td>\n",
       "    </tr>\n",
       "    <tr>\n",
       "      <th>2024-04-25</th>\n",
       "      <td>express.box</td>\n",
       "      <td>317.33</td>\n",
       "      <td>11</td>\n",
       "      <td>3</td>\n",
       "      <td>7</td>\n",
       "      <td>box</td>\n",
       "    </tr>\n",
       "    <tr>\n",
       "      <th>2024-04-27</th>\n",
       "      <td>jane.box</td>\n",
       "      <td>1,151.71</td>\n",
       "      <td>8</td>\n",
       "      <td>3</td>\n",
       "      <td>4</td>\n",
       "      <td>box</td>\n",
       "    </tr>\n",
       "    <tr>\n",
       "      <th>2024-04-27</th>\n",
       "      <td>vm.box</td>\n",
       "      <td>31,481.47</td>\n",
       "      <td>6</td>\n",
       "      <td>1</td>\n",
       "      <td>4</td>\n",
       "      <td>box</td>\n",
       "    </tr>\n",
       "    <tr>\n",
       "      <th>2024-04-28</th>\n",
       "      <td>man.box</td>\n",
       "      <td>224.60</td>\n",
       "      <td>7</td>\n",
       "      <td>2</td>\n",
       "      <td>4</td>\n",
       "      <td>box</td>\n",
       "    </tr>\n",
       "    <tr>\n",
       "      <th>2024-04-28</th>\n",
       "      <td>good.box</td>\n",
       "      <td>314.61</td>\n",
       "      <td>8</td>\n",
       "      <td>3</td>\n",
       "      <td>4</td>\n",
       "      <td>box</td>\n",
       "    </tr>\n",
       "    <tr>\n",
       "      <th>2024-05-07</th>\n",
       "      <td>onyx.box</td>\n",
       "      <td>167.83</td>\n",
       "      <td>8</td>\n",
       "      <td>2</td>\n",
       "      <td>5</td>\n",
       "      <td>box</td>\n",
       "    </tr>\n",
       "  </tbody>\n",
       "</table>\n",
       "</div>"
      ],
      "text/plain": [
       "                 domain     price  domain_length  num_vowels  num_consonants  \\\n",
       "day                                                                            \n",
       "2024-02-03      696.box     33.09              7           1               2   \n",
       "2024-02-05     song.box     45.60              8           2               5   \n",
       "2024-02-10       to.box     96.97              6           2               3   \n",
       "2024-02-20      uae.box    203.19              7           4               2   \n",
       "2024-02-22       08.box    116.74              6           1               2   \n",
       "2024-02-24      404.box    203.68              7           1               2   \n",
       "2024-02-25      010.box    119.08              7           1               2   \n",
       "2024-02-25       70.box    269.17              6           1               2   \n",
       "2024-02-25       40.box    209.36              6           1               2   \n",
       "2024-02-25       ap.box    134.59              6           2               3   \n",
       "2024-02-25       75.box    269.17              6           1               2   \n",
       "2024-02-25      015.box    104.68              7           1               2   \n",
       "2024-02-25       38.box    301.73              6           1               2   \n",
       "2024-04-17   mewtwo.box     29.61             10           3               6   \n",
       "2024-04-24     0000.box     93.92              8           1               2   \n",
       "2024-04-25  express.box    317.33             11           3               7   \n",
       "2024-04-27     jane.box  1,151.71              8           3               4   \n",
       "2024-04-27       vm.box 31,481.47              6           1               4   \n",
       "2024-04-28      man.box    224.60              7           2               4   \n",
       "2024-04-28     good.box    314.61              8           3               4   \n",
       "2024-05-07     onyx.box    167.83              8           2               5   \n",
       "\n",
       "            tld  \n",
       "day              \n",
       "2024-02-03  box  \n",
       "2024-02-05  box  \n",
       "2024-02-10  box  \n",
       "2024-02-20  box  \n",
       "2024-02-22  box  \n",
       "2024-02-24  box  \n",
       "2024-02-25  box  \n",
       "2024-02-25  box  \n",
       "2024-02-25  box  \n",
       "2024-02-25  box  \n",
       "2024-02-25  box  \n",
       "2024-02-25  box  \n",
       "2024-02-25  box  \n",
       "2024-04-17  box  \n",
       "2024-04-24  box  \n",
       "2024-04-25  box  \n",
       "2024-04-27  box  \n",
       "2024-04-27  box  \n",
       "2024-04-28  box  \n",
       "2024-04-28  box  \n",
       "2024-05-07  box  "
      ]
     },
     "execution_count": 155,
     "metadata": {},
     "output_type": "execute_result"
    }
   ],
   "source": [
    "filtered_box"
   ]
  },
  {
   "cell_type": "code",
   "execution_count": 156,
   "metadata": {},
   "outputs": [
    {
     "name": "stdout",
     "output_type": "stream",
     "text": [
      "                 domain  predicted_price\n",
      "day                                     \n",
      "2024-02-03      696.box         1,168.93\n",
      "2024-02-05     song.box         2,173.63\n",
      "2024-02-10       to.box         3,066.39\n",
      "2024-02-20      uae.box         3,180.12\n",
      "2024-02-22       08.box         2,005.65\n",
      "2024-02-24      404.box         1,168.93\n",
      "2024-02-25      010.box         1,168.93\n",
      "2024-02-25       70.box         2,005.65\n",
      "2024-02-25       40.box         2,005.65\n",
      "2024-02-25       ap.box         3,066.39\n",
      "2024-02-25       75.box         2,005.65\n",
      "2024-02-25      015.box         1,168.93\n",
      "2024-02-25       38.box         2,005.65\n",
      "2024-04-17   mewtwo.box         1,560.93\n",
      "2024-04-24     0000.box           332.21\n",
      "2024-04-25  express.box         1,114.55\n",
      "2024-04-27     jane.box         2,453.69\n",
      "2024-04-27       vm.box         2,786.34\n",
      "2024-04-28      man.box         2,620.01\n",
      "2024-04-28     good.box         2,453.69\n",
      "2024-05-07     onyx.box         2,173.63\n"
     ]
    }
   ],
   "source": [
    "box_X = filtered_box[features]\n",
    "\n",
    "# Predict prices for .box domains using the best model\n",
    "filtered_box['predicted_price'] = pipeline.predict(box_X)\n",
    "\n",
    "print(filtered_box[['domain', 'predicted_price']])"
   ]
  },
  {
   "cell_type": "code",
   "execution_count": 157,
   "metadata": {},
   "outputs": [
    {
     "name": "stdout",
     "output_type": "stream",
     "text": [
      "r2 0.0411345241547072\n"
     ]
    }
   ],
   "source": [
    "r2 = r2_score(filtered_box['price'], filtered_box['predicted_price'])\n",
    "print(f'r2 {r2}')"
   ]
  },
  {
   "cell_type": "markdown",
   "metadata": {},
   "source": [
    "**.Box Domain Valuator**"
   ]
  },
  {
   "cell_type": "code",
   "execution_count": 158,
   "metadata": {},
   "outputs": [
    {
     "data": {
      "text/html": [
       "<div>\n",
       "<style scoped>\n",
       "    .dataframe tbody tr th:only-of-type {\n",
       "        vertical-align: middle;\n",
       "    }\n",
       "\n",
       "    .dataframe tbody tr th {\n",
       "        vertical-align: top;\n",
       "    }\n",
       "\n",
       "    .dataframe thead th {\n",
       "        text-align: right;\n",
       "    }\n",
       "</style>\n",
       "<table border=\"1\" class=\"dataframe\">\n",
       "  <thead>\n",
       "    <tr style=\"text-align: right;\">\n",
       "      <th></th>\n",
       "      <th>domain</th>\n",
       "      <th>price</th>\n",
       "      <th>domain_length</th>\n",
       "      <th>num_vowels</th>\n",
       "      <th>num_consonants</th>\n",
       "      <th>tld</th>\n",
       "    </tr>\n",
       "    <tr>\n",
       "      <th>day</th>\n",
       "      <th></th>\n",
       "      <th></th>\n",
       "      <th></th>\n",
       "      <th></th>\n",
       "      <th></th>\n",
       "      <th></th>\n",
       "    </tr>\n",
       "  </thead>\n",
       "  <tbody>\n",
       "    <tr>\n",
       "      <th>2024-02-03</th>\n",
       "      <td>696.box</td>\n",
       "      <td>33.09</td>\n",
       "      <td>7</td>\n",
       "      <td>1</td>\n",
       "      <td>2</td>\n",
       "      <td>box</td>\n",
       "    </tr>\n",
       "    <tr>\n",
       "      <th>2024-02-05</th>\n",
       "      <td>song.box</td>\n",
       "      <td>45.60</td>\n",
       "      <td>8</td>\n",
       "      <td>2</td>\n",
       "      <td>5</td>\n",
       "      <td>box</td>\n",
       "    </tr>\n",
       "    <tr>\n",
       "      <th>2024-02-10</th>\n",
       "      <td>to.box</td>\n",
       "      <td>96.97</td>\n",
       "      <td>6</td>\n",
       "      <td>2</td>\n",
       "      <td>3</td>\n",
       "      <td>box</td>\n",
       "    </tr>\n",
       "    <tr>\n",
       "      <th>2024-02-20</th>\n",
       "      <td>uae.box</td>\n",
       "      <td>203.19</td>\n",
       "      <td>7</td>\n",
       "      <td>4</td>\n",
       "      <td>2</td>\n",
       "      <td>box</td>\n",
       "    </tr>\n",
       "    <tr>\n",
       "      <th>2024-02-22</th>\n",
       "      <td>08.box</td>\n",
       "      <td>116.74</td>\n",
       "      <td>6</td>\n",
       "      <td>1</td>\n",
       "      <td>2</td>\n",
       "      <td>box</td>\n",
       "    </tr>\n",
       "    <tr>\n",
       "      <th>2024-02-24</th>\n",
       "      <td>404.box</td>\n",
       "      <td>203.68</td>\n",
       "      <td>7</td>\n",
       "      <td>1</td>\n",
       "      <td>2</td>\n",
       "      <td>box</td>\n",
       "    </tr>\n",
       "    <tr>\n",
       "      <th>2024-02-25</th>\n",
       "      <td>010.box</td>\n",
       "      <td>119.08</td>\n",
       "      <td>7</td>\n",
       "      <td>1</td>\n",
       "      <td>2</td>\n",
       "      <td>box</td>\n",
       "    </tr>\n",
       "    <tr>\n",
       "      <th>2024-02-25</th>\n",
       "      <td>70.box</td>\n",
       "      <td>269.17</td>\n",
       "      <td>6</td>\n",
       "      <td>1</td>\n",
       "      <td>2</td>\n",
       "      <td>box</td>\n",
       "    </tr>\n",
       "    <tr>\n",
       "      <th>2024-02-25</th>\n",
       "      <td>40.box</td>\n",
       "      <td>209.36</td>\n",
       "      <td>6</td>\n",
       "      <td>1</td>\n",
       "      <td>2</td>\n",
       "      <td>box</td>\n",
       "    </tr>\n",
       "    <tr>\n",
       "      <th>2024-02-25</th>\n",
       "      <td>ap.box</td>\n",
       "      <td>134.59</td>\n",
       "      <td>6</td>\n",
       "      <td>2</td>\n",
       "      <td>3</td>\n",
       "      <td>box</td>\n",
       "    </tr>\n",
       "    <tr>\n",
       "      <th>2024-02-25</th>\n",
       "      <td>75.box</td>\n",
       "      <td>269.17</td>\n",
       "      <td>6</td>\n",
       "      <td>1</td>\n",
       "      <td>2</td>\n",
       "      <td>box</td>\n",
       "    </tr>\n",
       "    <tr>\n",
       "      <th>2024-02-25</th>\n",
       "      <td>015.box</td>\n",
       "      <td>104.68</td>\n",
       "      <td>7</td>\n",
       "      <td>1</td>\n",
       "      <td>2</td>\n",
       "      <td>box</td>\n",
       "    </tr>\n",
       "    <tr>\n",
       "      <th>2024-02-25</th>\n",
       "      <td>38.box</td>\n",
       "      <td>301.73</td>\n",
       "      <td>6</td>\n",
       "      <td>1</td>\n",
       "      <td>2</td>\n",
       "      <td>box</td>\n",
       "    </tr>\n",
       "    <tr>\n",
       "      <th>2024-04-17</th>\n",
       "      <td>mewtwo.box</td>\n",
       "      <td>29.61</td>\n",
       "      <td>10</td>\n",
       "      <td>3</td>\n",
       "      <td>6</td>\n",
       "      <td>box</td>\n",
       "    </tr>\n",
       "    <tr>\n",
       "      <th>2024-04-24</th>\n",
       "      <td>0000.box</td>\n",
       "      <td>93.92</td>\n",
       "      <td>8</td>\n",
       "      <td>1</td>\n",
       "      <td>2</td>\n",
       "      <td>box</td>\n",
       "    </tr>\n",
       "    <tr>\n",
       "      <th>2024-04-25</th>\n",
       "      <td>express.box</td>\n",
       "      <td>317.33</td>\n",
       "      <td>11</td>\n",
       "      <td>3</td>\n",
       "      <td>7</td>\n",
       "      <td>box</td>\n",
       "    </tr>\n",
       "    <tr>\n",
       "      <th>2024-04-27</th>\n",
       "      <td>jane.box</td>\n",
       "      <td>1,151.71</td>\n",
       "      <td>8</td>\n",
       "      <td>3</td>\n",
       "      <td>4</td>\n",
       "      <td>box</td>\n",
       "    </tr>\n",
       "    <tr>\n",
       "      <th>2024-04-27</th>\n",
       "      <td>vm.box</td>\n",
       "      <td>31,481.47</td>\n",
       "      <td>6</td>\n",
       "      <td>1</td>\n",
       "      <td>4</td>\n",
       "      <td>box</td>\n",
       "    </tr>\n",
       "    <tr>\n",
       "      <th>2024-04-28</th>\n",
       "      <td>man.box</td>\n",
       "      <td>224.60</td>\n",
       "      <td>7</td>\n",
       "      <td>2</td>\n",
       "      <td>4</td>\n",
       "      <td>box</td>\n",
       "    </tr>\n",
       "    <tr>\n",
       "      <th>2024-04-28</th>\n",
       "      <td>good.box</td>\n",
       "      <td>314.61</td>\n",
       "      <td>8</td>\n",
       "      <td>3</td>\n",
       "      <td>4</td>\n",
       "      <td>box</td>\n",
       "    </tr>\n",
       "    <tr>\n",
       "      <th>2024-05-07</th>\n",
       "      <td>onyx.box</td>\n",
       "      <td>167.83</td>\n",
       "      <td>8</td>\n",
       "      <td>2</td>\n",
       "      <td>5</td>\n",
       "      <td>box</td>\n",
       "    </tr>\n",
       "  </tbody>\n",
       "</table>\n",
       "</div>"
      ],
      "text/plain": [
       "                 domain     price  domain_length  num_vowels  num_consonants  \\\n",
       "day                                                                            \n",
       "2024-02-03      696.box     33.09              7           1               2   \n",
       "2024-02-05     song.box     45.60              8           2               5   \n",
       "2024-02-10       to.box     96.97              6           2               3   \n",
       "2024-02-20      uae.box    203.19              7           4               2   \n",
       "2024-02-22       08.box    116.74              6           1               2   \n",
       "2024-02-24      404.box    203.68              7           1               2   \n",
       "2024-02-25      010.box    119.08              7           1               2   \n",
       "2024-02-25       70.box    269.17              6           1               2   \n",
       "2024-02-25       40.box    209.36              6           1               2   \n",
       "2024-02-25       ap.box    134.59              6           2               3   \n",
       "2024-02-25       75.box    269.17              6           1               2   \n",
       "2024-02-25      015.box    104.68              7           1               2   \n",
       "2024-02-25       38.box    301.73              6           1               2   \n",
       "2024-04-17   mewtwo.box     29.61             10           3               6   \n",
       "2024-04-24     0000.box     93.92              8           1               2   \n",
       "2024-04-25  express.box    317.33             11           3               7   \n",
       "2024-04-27     jane.box  1,151.71              8           3               4   \n",
       "2024-04-27       vm.box 31,481.47              6           1               4   \n",
       "2024-04-28      man.box    224.60              7           2               4   \n",
       "2024-04-28     good.box    314.61              8           3               4   \n",
       "2024-05-07     onyx.box    167.83              8           2               5   \n",
       "\n",
       "            tld  \n",
       "day              \n",
       "2024-02-03  box  \n",
       "2024-02-05  box  \n",
       "2024-02-10  box  \n",
       "2024-02-20  box  \n",
       "2024-02-22  box  \n",
       "2024-02-24  box  \n",
       "2024-02-25  box  \n",
       "2024-02-25  box  \n",
       "2024-02-25  box  \n",
       "2024-02-25  box  \n",
       "2024-02-25  box  \n",
       "2024-02-25  box  \n",
       "2024-02-25  box  \n",
       "2024-04-17  box  \n",
       "2024-04-24  box  \n",
       "2024-04-25  box  \n",
       "2024-04-27  box  \n",
       "2024-04-27  box  \n",
       "2024-04-28  box  \n",
       "2024-04-28  box  \n",
       "2024-05-07  box  "
      ]
     },
     "execution_count": 158,
     "metadata": {},
     "output_type": "execute_result"
    }
   ],
   "source": [
    "filtered_box_2 = filtered_box.drop(columns=['predicted_price'])\n",
    "filtered_box_2"
   ]
  },
  {
   "cell_type": "code",
   "execution_count": 159,
   "metadata": {},
   "outputs": [],
   "source": [
    "combined_data = pd.concat([domain_data, filtered_box_2], ignore_index=True)"
   ]
  },
  {
   "cell_type": "code",
   "execution_count": 160,
   "metadata": {},
   "outputs": [
    {
     "data": {
      "text/html": [
       "<div>\n",
       "<style scoped>\n",
       "    .dataframe tbody tr th:only-of-type {\n",
       "        vertical-align: middle;\n",
       "    }\n",
       "\n",
       "    .dataframe tbody tr th {\n",
       "        vertical-align: top;\n",
       "    }\n",
       "\n",
       "    .dataframe thead th {\n",
       "        text-align: right;\n",
       "    }\n",
       "</style>\n",
       "<table border=\"1\" class=\"dataframe\">\n",
       "  <thead>\n",
       "    <tr style=\"text-align: right;\">\n",
       "      <th></th>\n",
       "      <th>domain</th>\n",
       "      <th>price</th>\n",
       "      <th>domain_length</th>\n",
       "      <th>num_vowels</th>\n",
       "      <th>num_consonants</th>\n",
       "      <th>tld</th>\n",
       "    </tr>\n",
       "  </thead>\n",
       "  <tbody>\n",
       "    <tr>\n",
       "      <th>0</th>\n",
       "      <td>altavista.com</td>\n",
       "      <td>3,250,000.00</td>\n",
       "      <td>13</td>\n",
       "      <td>5</td>\n",
       "      <td>7</td>\n",
       "      <td>com</td>\n",
       "    </tr>\n",
       "    <tr>\n",
       "      <th>1</th>\n",
       "      <td>bingo.com</td>\n",
       "      <td>1,100,000.00</td>\n",
       "      <td>9</td>\n",
       "      <td>3</td>\n",
       "      <td>5</td>\n",
       "      <td>com</td>\n",
       "    </tr>\n",
       "    <tr>\n",
       "      <th>2</th>\n",
       "      <td>fly.com</td>\n",
       "      <td>1,500,000.00</td>\n",
       "      <td>7</td>\n",
       "      <td>1</td>\n",
       "      <td>5</td>\n",
       "      <td>com</td>\n",
       "    </tr>\n",
       "    <tr>\n",
       "      <th>3</th>\n",
       "      <td>autos.com</td>\n",
       "      <td>2,200,000.00</td>\n",
       "      <td>9</td>\n",
       "      <td>4</td>\n",
       "      <td>4</td>\n",
       "      <td>com</td>\n",
       "    </tr>\n",
       "    <tr>\n",
       "      <th>4</th>\n",
       "      <td>england.com</td>\n",
       "      <td>2,000,000.00</td>\n",
       "      <td>11</td>\n",
       "      <td>3</td>\n",
       "      <td>7</td>\n",
       "      <td>com</td>\n",
       "    </tr>\n",
       "    <tr>\n",
       "      <th>...</th>\n",
       "      <td>...</td>\n",
       "      <td>...</td>\n",
       "      <td>...</td>\n",
       "      <td>...</td>\n",
       "      <td>...</td>\n",
       "      <td>...</td>\n",
       "    </tr>\n",
       "    <tr>\n",
       "      <th>348252</th>\n",
       "      <td>jane.box</td>\n",
       "      <td>1,151.71</td>\n",
       "      <td>8</td>\n",
       "      <td>3</td>\n",
       "      <td>4</td>\n",
       "      <td>box</td>\n",
       "    </tr>\n",
       "    <tr>\n",
       "      <th>348253</th>\n",
       "      <td>vm.box</td>\n",
       "      <td>31,481.47</td>\n",
       "      <td>6</td>\n",
       "      <td>1</td>\n",
       "      <td>4</td>\n",
       "      <td>box</td>\n",
       "    </tr>\n",
       "    <tr>\n",
       "      <th>348254</th>\n",
       "      <td>man.box</td>\n",
       "      <td>224.60</td>\n",
       "      <td>7</td>\n",
       "      <td>2</td>\n",
       "      <td>4</td>\n",
       "      <td>box</td>\n",
       "    </tr>\n",
       "    <tr>\n",
       "      <th>348255</th>\n",
       "      <td>good.box</td>\n",
       "      <td>314.61</td>\n",
       "      <td>8</td>\n",
       "      <td>3</td>\n",
       "      <td>4</td>\n",
       "      <td>box</td>\n",
       "    </tr>\n",
       "    <tr>\n",
       "      <th>348256</th>\n",
       "      <td>onyx.box</td>\n",
       "      <td>167.83</td>\n",
       "      <td>8</td>\n",
       "      <td>2</td>\n",
       "      <td>5</td>\n",
       "      <td>box</td>\n",
       "    </tr>\n",
       "  </tbody>\n",
       "</table>\n",
       "<p>348257 rows × 6 columns</p>\n",
       "</div>"
      ],
      "text/plain": [
       "               domain        price  domain_length  num_vowels  num_consonants  \\\n",
       "0       altavista.com 3,250,000.00             13           5               7   \n",
       "1           bingo.com 1,100,000.00              9           3               5   \n",
       "2             fly.com 1,500,000.00              7           1               5   \n",
       "3           autos.com 2,200,000.00              9           4               4   \n",
       "4         england.com 2,000,000.00             11           3               7   \n",
       "...               ...          ...            ...         ...             ...   \n",
       "348252       jane.box     1,151.71              8           3               4   \n",
       "348253         vm.box    31,481.47              6           1               4   \n",
       "348254        man.box       224.60              7           2               4   \n",
       "348255       good.box       314.61              8           3               4   \n",
       "348256       onyx.box       167.83              8           2               5   \n",
       "\n",
       "        tld  \n",
       "0       com  \n",
       "1       com  \n",
       "2       com  \n",
       "3       com  \n",
       "4       com  \n",
       "...     ...  \n",
       "348252  box  \n",
       "348253  box  \n",
       "348254  box  \n",
       "348255  box  \n",
       "348256  box  \n",
       "\n",
       "[348257 rows x 6 columns]"
      ]
     },
     "execution_count": 160,
     "metadata": {},
     "output_type": "execute_result"
    }
   ],
   "source": [
    "combined_data"
   ]
  },
  {
   "cell_type": "code",
   "execution_count": 161,
   "metadata": {},
   "outputs": [
    {
     "name": "stdout",
     "output_type": "stream",
     "text": [
      "MAE: 2708.9834718161696\n",
      "MSE: 2845754262.6555114\n",
      "R²: 0.0004163141819931715\n"
     ]
    }
   ],
   "source": [
    "X = combined_data[features]\n",
    "y = combined_data['price']\n",
    "\n",
    "X_train, X_test, y_train, y_test = train_test_split(X, y, test_size=0.2, random_state=42)\n",
    "\n",
    "pipeline.fit(X_train, y_train)\n",
    "\n",
    "y_pred = pipeline.predict(X_test)\n",
    "mae = mean_absolute_error(y_test, y_pred)\n",
    "mse = mean_squared_error(y_test, y_pred)\n",
    "r2 = r2_score(y_test, y_pred)\n",
    "\n",
    "print(f'MAE: {mae}')\n",
    "print(f'MSE: {mse}')\n",
    "print(f'R²: {r2}')\n"
   ]
  },
  {
   "cell_type": "code",
   "execution_count": 162,
   "metadata": {},
   "outputs": [],
   "source": [
    "def model_prep(data):\n",
    "    data['domain_length'] = data['domain'].apply(len)\n",
    "    data['num_vowels'] = data['domain'].apply(lambda x: sum([1 for char in x if char in 'aeiou']))\n",
    "    data['num_consonants'] = data['domain'].apply(lambda x: sum([1 for char in x if char.isalpha() and char not in 'aeiou']))\n",
    "    data['tld'] = data['domain'].apply(lambda x: x.split('.')[-1]) \n",
    "    return data"
   ]
  },
  {
   "cell_type": "code",
   "execution_count": 163,
   "metadata": {},
   "outputs": [],
   "source": [
    "def value_domain(domain):\n",
    "    domain_x = domain[features]\n",
    "    value = pipeline.predict(domain_x)\n",
    "    print(f'predicted value: {value[0]}')\n",
    "    return value[0] "
   ]
  },
  {
   "cell_type": "code",
   "execution_count": 164,
   "metadata": {},
   "outputs": [
    {
     "name": "stdout",
     "output_type": "stream",
     "text": [
      "predicted value: 2560.052986420118\n"
     ]
    }
   ],
   "source": [
    "test_domain = 'eth.box' ## for model, just have the person input before .box, have it automatically add .box\n",
    "test_domain_df = pd.DataFrame({'domain': [test_domain]})\n",
    "test_domain_processed = model_prep(test_domain_df)\n",
    "test_domain_value = value_domain(test_domain_processed)"
   ]
  },
  {
   "cell_type": "code",
   "execution_count": 165,
   "metadata": {},
   "outputs": [
    {
     "data": {
      "text/plain": [
       "np.float64(2560.052986420118)"
      ]
     },
     "execution_count": 165,
     "metadata": {},
     "output_type": "execute_result"
    }
   ],
   "source": [
    "test_domain_value"
   ]
  },
  {
   "cell_type": "markdown",
   "metadata": {},
   "source": [
    "***Dash App***"
   ]
  },
  {
   "cell_type": "markdown",
   "metadata": {},
   "source": [
    "Domain valuator would be callback"
   ]
  },
  {
   "cell_type": "code",
   "execution_count": 166,
   "metadata": {},
   "outputs": [],
   "source": [
    "latest_box_domains_sales.reset_index(inplace=True)"
   ]
  },
  {
   "cell_type": "code",
   "execution_count": 167,
   "metadata": {},
   "outputs": [
    {
     "name": "stderr",
     "output_type": "stream",
     "text": [
      "C:\\Users\\brandyns pc\\AppData\\Local\\Temp\\ipykernel_61036\\3336277017.py:1: SettingWithCopyWarning:\n",
      "\n",
      "\n",
      "A value is trying to be set on a copy of a slice from a DataFrame\n",
      "\n",
      "See the caveats in the documentation: https://pandas.pydata.org/pandas-docs/stable/user_guide/indexing.html#returning-a-view-versus-a-copy\n",
      "\n"
     ]
    }
   ],
   "source": [
    "latest_box_domains_sales.sort_values(by='day', ascending=False, inplace=True)"
   ]
  },
  {
   "cell_type": "code",
   "execution_count": 168,
   "metadata": {},
   "outputs": [],
   "source": [
    "latest_box_domains_mints.reset_index(inplace=True)"
   ]
  },
  {
   "cell_type": "code",
   "execution_count": 169,
   "metadata": {},
   "outputs": [
    {
     "name": "stderr",
     "output_type": "stream",
     "text": [
      "C:\\Users\\brandyns pc\\AppData\\Local\\Temp\\ipykernel_61036\\4287417152.py:1: SettingWithCopyWarning:\n",
      "\n",
      "\n",
      "A value is trying to be set on a copy of a slice from a DataFrame\n",
      "\n",
      "See the caveats in the documentation: https://pandas.pydata.org/pandas-docs/stable/user_guide/indexing.html#returning-a-view-versus-a-copy\n",
      "\n"
     ]
    }
   ],
   "source": [
    "latest_box_domains_mints.sort_values(by='day', ascending=False, inplace=True)"
   ]
  },
  {
   "cell_type": "code",
   "execution_count": 170,
   "metadata": {},
   "outputs": [],
   "source": [
    "avg_box_sale = box_domains_sales['price_usd'].mean()"
   ]
  },
  {
   "cell_type": "code",
   "execution_count": 171,
   "metadata": {},
   "outputs": [
    {
     "data": {
      "text/html": [
       "<div>\n",
       "<style scoped>\n",
       "    .dataframe tbody tr th:only-of-type {\n",
       "        vertical-align: middle;\n",
       "    }\n",
       "\n",
       "    .dataframe tbody tr th {\n",
       "        vertical-align: top;\n",
       "    }\n",
       "\n",
       "    .dataframe thead th {\n",
       "        text-align: right;\n",
       "    }\n",
       "</style>\n",
       "<table border=\"1\" class=\"dataframe\">\n",
       "  <thead>\n",
       "    <tr style=\"text-align: right;\">\n",
       "      <th></th>\n",
       "      <th>name</th>\n",
       "      <th>price_usd</th>\n",
       "      <th>price_eth</th>\n",
       "    </tr>\n",
       "    <tr>\n",
       "      <th>day</th>\n",
       "      <th></th>\n",
       "      <th></th>\n",
       "      <th></th>\n",
       "    </tr>\n",
       "  </thead>\n",
       "  <tbody>\n",
       "    <tr>\n",
       "      <th>2024-04-27 16:00:00+00:00</th>\n",
       "      <td>vm.box</td>\n",
       "      <td>31,481.47</td>\n",
       "      <td>10.00</td>\n",
       "    </tr>\n",
       "    <tr>\n",
       "      <th>2024-04-27 00:00:00+00:00</th>\n",
       "      <td>jane.box</td>\n",
       "      <td>1,151.71</td>\n",
       "      <td>0.37</td>\n",
       "    </tr>\n",
       "    <tr>\n",
       "      <th>2024-04-25 21:00:00+00:00</th>\n",
       "      <td>express.box</td>\n",
       "      <td>317.33</td>\n",
       "      <td>0.10</td>\n",
       "    </tr>\n",
       "    <tr>\n",
       "      <th>2024-04-28 07:00:00+00:00</th>\n",
       "      <td>good.box</td>\n",
       "      <td>314.61</td>\n",
       "      <td>0.10</td>\n",
       "    </tr>\n",
       "    <tr>\n",
       "      <th>2024-02-25 07:00:00+00:00</th>\n",
       "      <td>38.box</td>\n",
       "      <td>301.73</td>\n",
       "      <td>0.10</td>\n",
       "    </tr>\n",
       "    <tr>\n",
       "      <th>2024-02-25 03:00:00+00:00</th>\n",
       "      <td>75.box</td>\n",
       "      <td>269.17</td>\n",
       "      <td>0.09</td>\n",
       "    </tr>\n",
       "    <tr>\n",
       "      <th>2024-02-25 03:00:00+00:00</th>\n",
       "      <td>70.box</td>\n",
       "      <td>269.17</td>\n",
       "      <td>0.09</td>\n",
       "    </tr>\n",
       "    <tr>\n",
       "      <th>2024-04-28 01:00:00+00:00</th>\n",
       "      <td>man.box</td>\n",
       "      <td>224.60</td>\n",
       "      <td>0.07</td>\n",
       "    </tr>\n",
       "    <tr>\n",
       "      <th>2024-02-25 03:00:00+00:00</th>\n",
       "      <td>40.box</td>\n",
       "      <td>209.36</td>\n",
       "      <td>0.07</td>\n",
       "    </tr>\n",
       "    <tr>\n",
       "      <th>2024-02-24 04:00:00+00:00</th>\n",
       "      <td>404.box</td>\n",
       "      <td>203.68</td>\n",
       "      <td>0.07</td>\n",
       "    </tr>\n",
       "  </tbody>\n",
       "</table>\n",
       "</div>"
      ],
      "text/plain": [
       "                                  name  price_usd  price_eth\n",
       "day                                                         \n",
       "2024-04-27 16:00:00+00:00       vm.box  31,481.47      10.00\n",
       "2024-04-27 00:00:00+00:00     jane.box   1,151.71       0.37\n",
       "2024-04-25 21:00:00+00:00  express.box     317.33       0.10\n",
       "2024-04-28 07:00:00+00:00     good.box     314.61       0.10\n",
       "2024-02-25 07:00:00+00:00       38.box     301.73       0.10\n",
       "2024-02-25 03:00:00+00:00       75.box     269.17       0.09\n",
       "2024-02-25 03:00:00+00:00       70.box     269.17       0.09\n",
       "2024-04-28 01:00:00+00:00      man.box     224.60       0.07\n",
       "2024-02-25 03:00:00+00:00       40.box     209.36       0.07\n",
       "2024-02-24 04:00:00+00:00      404.box     203.68       0.07"
      ]
     },
     "execution_count": 171,
     "metadata": {},
     "output_type": "execute_result"
    }
   ],
   "source": [
    "highest_selling_domains = box_domains_sales[['name','price_usd','price_eth']].sort_values(by='price_usd', ascending=False)\n",
    "highest_selling_domains = highest_selling_domains.head(10)\n",
    "highest_selling_domains"
   ]
  },
  {
   "cell_type": "code",
   "execution_count": 172,
   "metadata": {},
   "outputs": [],
   "source": [
    "monthly_box_sales_metrics['cumulative_volume'] = monthly_box_sales_metrics['volume_usd'].cumsum()\n",
    "monthly_box_sales_metrics.reset_index(inplace=True) \n",
    "monthly_box_sales_metrics.sort_values(by='day', ascending=False, inplace=True)"
   ]
  },
  {
   "cell_type": "code",
   "execution_count": 173,
   "metadata": {},
   "outputs": [],
   "source": [
    "monthly_box_sales_metrics['cumulative domains sold'] = monthly_box_sales_metrics['domains sold'].cumsum()"
   ]
  },
  {
   "cell_type": "code",
   "execution_count": 174,
   "metadata": {},
   "outputs": [
    {
     "name": "stderr",
     "output_type": "stream",
     "text": [
      "C:\\Users\\brandyns pc\\AppData\\Local\\Temp\\ipykernel_61036\\2820302304.py:3: SettingWithCopyWarning:\n",
      "\n",
      "\n",
      "A value is trying to be set on a copy of a slice from a DataFrame\n",
      "\n",
      "See the caveats in the documentation: https://pandas.pydata.org/pandas-docs/stable/user_guide/indexing.html#returning-a-view-versus-a-copy\n",
      "\n"
     ]
    },
    {
     "data": {
      "text/html": [
       "<div>\n",
       "<style scoped>\n",
       "    .dataframe tbody tr th:only-of-type {\n",
       "        vertical-align: middle;\n",
       "    }\n",
       "\n",
       "    .dataframe tbody tr th {\n",
       "        vertical-align: top;\n",
       "    }\n",
       "\n",
       "    .dataframe thead th {\n",
       "        text-align: right;\n",
       "    }\n",
       "</style>\n",
       "<table border=\"1\" class=\"dataframe\">\n",
       "  <thead>\n",
       "    <tr style=\"text-align: right;\">\n",
       "      <th></th>\n",
       "      <th>name</th>\n",
       "      <th>bid_event_timestamp</th>\n",
       "      <th>sale_event_timestamp</th>\n",
       "      <th>list_usd</th>\n",
       "      <th>sale_usd</th>\n",
       "      <th>percent_change</th>\n",
       "    </tr>\n",
       "  </thead>\n",
       "  <tbody>\n",
       "    <tr>\n",
       "      <th>23</th>\n",
       "      <td>r.box</td>\n",
       "      <td>2024-06-30 23:00:00</td>\n",
       "      <td>2024-07-06 05:00:00</td>\n",
       "      <td>3,493.13</td>\n",
       "      <td>2,003.80</td>\n",
       "      <td>-42.64</td>\n",
       "    </tr>\n",
       "    <tr>\n",
       "      <th>21</th>\n",
       "      <td>onyx.box</td>\n",
       "      <td>2024-05-07 20:00:00</td>\n",
       "      <td>2024-05-07 22:00:00</td>\n",
       "      <td>167.68</td>\n",
       "      <td>167.83</td>\n",
       "      <td>0.09</td>\n",
       "    </tr>\n",
       "    <tr>\n",
       "      <th>29</th>\n",
       "      <td>watch.box</td>\n",
       "      <td>2024-05-03 13:00:00</td>\n",
       "      <td>2024-05-06 15:00:00</td>\n",
       "      <td>74,414.36</td>\n",
       "      <td>73,634.98</td>\n",
       "      <td>-1.05</td>\n",
       "    </tr>\n",
       "    <tr>\n",
       "      <th>17</th>\n",
       "      <td>good.box</td>\n",
       "      <td>2024-04-28 07:00:00</td>\n",
       "      <td>2024-04-28 07:00:00</td>\n",
       "      <td>314.61</td>\n",
       "      <td>314.61</td>\n",
       "      <td>0.00</td>\n",
       "    </tr>\n",
       "    <tr>\n",
       "      <th>18</th>\n",
       "      <td>jane.box</td>\n",
       "      <td>2024-04-26 22:00:00</td>\n",
       "      <td>2024-04-27 00:00:00</td>\n",
       "      <td>1,155.72</td>\n",
       "      <td>1,151.71</td>\n",
       "      <td>-0.35</td>\n",
       "    </tr>\n",
       "    <tr>\n",
       "      <th>0</th>\n",
       "      <td>0000.box</td>\n",
       "      <td>2024-04-23 10:00:00</td>\n",
       "      <td>2024-04-24 04:00:00</td>\n",
       "      <td>91.95</td>\n",
       "      <td>93.92</td>\n",
       "      <td>2.15</td>\n",
       "    </tr>\n",
       "    <tr>\n",
       "      <th>19</th>\n",
       "      <td>man.box</td>\n",
       "      <td>2024-04-16 07:00:00</td>\n",
       "      <td>2024-04-28 01:00:00</td>\n",
       "      <td>211.40</td>\n",
       "      <td>224.60</td>\n",
       "      <td>6.25</td>\n",
       "    </tr>\n",
       "    <tr>\n",
       "      <th>16</th>\n",
       "      <td>express.box</td>\n",
       "      <td>2024-04-06 22:00:00</td>\n",
       "      <td>2024-04-25 21:00:00</td>\n",
       "      <td>336.25</td>\n",
       "      <td>317.33</td>\n",
       "      <td>-5.63</td>\n",
       "    </tr>\n",
       "    <tr>\n",
       "      <th>20</th>\n",
       "      <td>mewtwo.box</td>\n",
       "      <td>2024-03-28 23:00:00</td>\n",
       "      <td>2024-04-17 18:00:00</td>\n",
       "      <td>35.53</td>\n",
       "      <td>29.61</td>\n",
       "      <td>-16.66</td>\n",
       "    </tr>\n",
       "    <tr>\n",
       "      <th>2</th>\n",
       "      <td>015.box</td>\n",
       "      <td>2024-02-24 06:00:00</td>\n",
       "      <td>2024-02-25 03:00:00</td>\n",
       "      <td>102.37</td>\n",
       "      <td>104.68</td>\n",
       "      <td>2.26</td>\n",
       "    </tr>\n",
       "    <tr>\n",
       "      <th>11</th>\n",
       "      <td>ap.box</td>\n",
       "      <td>2024-02-24 06:00:00</td>\n",
       "      <td>2024-02-25 03:00:00</td>\n",
       "      <td>131.62</td>\n",
       "      <td>134.59</td>\n",
       "      <td>2.26</td>\n",
       "    </tr>\n",
       "    <tr>\n",
       "      <th>6</th>\n",
       "      <td>404.box</td>\n",
       "      <td>2024-02-24 03:00:00</td>\n",
       "      <td>2024-02-24 04:00:00</td>\n",
       "      <td>204.53</td>\n",
       "      <td>203.68</td>\n",
       "      <td>-0.41</td>\n",
       "    </tr>\n",
       "    <tr>\n",
       "      <th>5</th>\n",
       "      <td>40.box</td>\n",
       "      <td>2024-02-24 03:00:00</td>\n",
       "      <td>2024-02-25 03:00:00</td>\n",
       "      <td>204.53</td>\n",
       "      <td>209.36</td>\n",
       "      <td>2.36</td>\n",
       "    </tr>\n",
       "    <tr>\n",
       "      <th>4</th>\n",
       "      <td>38.box</td>\n",
       "      <td>2024-02-23 04:00:00</td>\n",
       "      <td>2024-02-25 07:00:00</td>\n",
       "      <td>298.74</td>\n",
       "      <td>301.73</td>\n",
       "      <td>1.00</td>\n",
       "    </tr>\n",
       "    <tr>\n",
       "      <th>10</th>\n",
       "      <td>75.box</td>\n",
       "      <td>2024-02-23 03:00:00</td>\n",
       "      <td>2024-02-25 03:00:00</td>\n",
       "      <td>268.70</td>\n",
       "      <td>269.17</td>\n",
       "      <td>0.18</td>\n",
       "    </tr>\n",
       "    <tr>\n",
       "      <th>9</th>\n",
       "      <td>70.box</td>\n",
       "      <td>2024-02-23 03:00:00</td>\n",
       "      <td>2024-02-25 03:00:00</td>\n",
       "      <td>268.70</td>\n",
       "      <td>269.17</td>\n",
       "      <td>0.18</td>\n",
       "    </tr>\n",
       "    <tr>\n",
       "      <th>3</th>\n",
       "      <td>08.box</td>\n",
       "      <td>2024-02-19 23:00:00</td>\n",
       "      <td>2024-02-22 04:00:00</td>\n",
       "      <td>117.31</td>\n",
       "      <td>116.74</td>\n",
       "      <td>-0.49</td>\n",
       "    </tr>\n",
       "    <tr>\n",
       "      <th>26</th>\n",
       "      <td>uae.box</td>\n",
       "      <td>2024-02-19 23:00:00</td>\n",
       "      <td>2024-02-20 12:00:00</td>\n",
       "      <td>205.29</td>\n",
       "      <td>203.19</td>\n",
       "      <td>-1.03</td>\n",
       "    </tr>\n",
       "    <tr>\n",
       "      <th>1</th>\n",
       "      <td>010.box</td>\n",
       "      <td>2024-02-12 18:00:00</td>\n",
       "      <td>2024-02-25 02:00:00</td>\n",
       "      <td>101.66</td>\n",
       "      <td>119.08</td>\n",
       "      <td>17.14</td>\n",
       "    </tr>\n",
       "    <tr>\n",
       "      <th>25</th>\n",
       "      <td>to.box</td>\n",
       "      <td>2024-02-10 14:00:00</td>\n",
       "      <td>2024-02-10 19:00:00</td>\n",
       "      <td>96.82</td>\n",
       "      <td>96.97</td>\n",
       "      <td>0.16</td>\n",
       "    </tr>\n",
       "    <tr>\n",
       "      <th>14</th>\n",
       "      <td>dick.box</td>\n",
       "      <td>2024-02-06 17:00:00</td>\n",
       "      <td>2024-02-06 18:00:00</td>\n",
       "      <td>46.82</td>\n",
       "      <td>23.47</td>\n",
       "      <td>-49.88</td>\n",
       "    </tr>\n",
       "    <tr>\n",
       "      <th>15</th>\n",
       "      <td>dox.box</td>\n",
       "      <td>2024-02-06 08:00:00</td>\n",
       "      <td>2024-02-06 12:00:00</td>\n",
       "      <td>46.22</td>\n",
       "      <td>23.21</td>\n",
       "      <td>-49.79</td>\n",
       "    </tr>\n",
       "    <tr>\n",
       "      <th>27</th>\n",
       "      <td>uber.box</td>\n",
       "      <td>2024-02-04 21:00:00</td>\n",
       "      <td>2024-02-06 08:00:00</td>\n",
       "      <td>45.84</td>\n",
       "      <td>23.11</td>\n",
       "      <td>-49.58</td>\n",
       "    </tr>\n",
       "    <tr>\n",
       "      <th>24</th>\n",
       "      <td>song.box</td>\n",
       "      <td>2024-02-03 16:00:00</td>\n",
       "      <td>2024-02-05 04:00:00</td>\n",
       "      <td>45.97</td>\n",
       "      <td>45.60</td>\n",
       "      <td>-0.80</td>\n",
       "    </tr>\n",
       "    <tr>\n",
       "      <th>8</th>\n",
       "      <td>696.box</td>\n",
       "      <td>2024-02-03 14:00:00</td>\n",
       "      <td>2024-02-03 22:00:00</td>\n",
       "      <td>33.21</td>\n",
       "      <td>33.09</td>\n",
       "      <td>-0.36</td>\n",
       "    </tr>\n",
       "    <tr>\n",
       "      <th>12</th>\n",
       "      <td>bare.box</td>\n",
       "      <td>2024-02-02 13:00:00</td>\n",
       "      <td>2024-02-06 08:00:00</td>\n",
       "      <td>69.29</td>\n",
       "      <td>23.11</td>\n",
       "      <td>-66.65</td>\n",
       "    </tr>\n",
       "    <tr>\n",
       "      <th>13</th>\n",
       "      <td>bento.box</td>\n",
       "      <td>2024-02-01 03:00:00</td>\n",
       "      <td>2024-04-30 23:00:00</td>\n",
       "      <td>67,430.80</td>\n",
       "      <td>8,962.55</td>\n",
       "      <td>-86.71</td>\n",
       "    </tr>\n",
       "    <tr>\n",
       "      <th>22</th>\n",
       "      <td>opensea.box</td>\n",
       "      <td>2024-01-30 10:00:00</td>\n",
       "      <td>2024-01-30 22:00:00</td>\n",
       "      <td>460.99</td>\n",
       "      <td>260.93</td>\n",
       "      <td>-43.40</td>\n",
       "    </tr>\n",
       "    <tr>\n",
       "      <th>7</th>\n",
       "      <td>696.box</td>\n",
       "      <td>2024-01-25 21:00:00</td>\n",
       "      <td>2024-02-03 14:00:00</td>\n",
       "      <td>309.64</td>\n",
       "      <td>2.31</td>\n",
       "      <td>-99.26</td>\n",
       "    </tr>\n",
       "    <tr>\n",
       "      <th>28</th>\n",
       "      <td>vm.box</td>\n",
       "      <td>2024-01-24 13:00:00</td>\n",
       "      <td>2024-04-27 16:00:00</td>\n",
       "      <td>22,416.10</td>\n",
       "      <td>31,481.47</td>\n",
       "      <td>40.44</td>\n",
       "    </tr>\n",
       "  </tbody>\n",
       "</table>\n",
       "</div>"
      ],
      "text/plain": [
       "           name bid_event_timestamp sale_event_timestamp  list_usd  sale_usd  \\\n",
       "23        r.box 2024-06-30 23:00:00  2024-07-06 05:00:00  3,493.13  2,003.80   \n",
       "21     onyx.box 2024-05-07 20:00:00  2024-05-07 22:00:00    167.68    167.83   \n",
       "29    watch.box 2024-05-03 13:00:00  2024-05-06 15:00:00 74,414.36 73,634.98   \n",
       "17     good.box 2024-04-28 07:00:00  2024-04-28 07:00:00    314.61    314.61   \n",
       "18     jane.box 2024-04-26 22:00:00  2024-04-27 00:00:00  1,155.72  1,151.71   \n",
       "0      0000.box 2024-04-23 10:00:00  2024-04-24 04:00:00     91.95     93.92   \n",
       "19      man.box 2024-04-16 07:00:00  2024-04-28 01:00:00    211.40    224.60   \n",
       "16  express.box 2024-04-06 22:00:00  2024-04-25 21:00:00    336.25    317.33   \n",
       "20   mewtwo.box 2024-03-28 23:00:00  2024-04-17 18:00:00     35.53     29.61   \n",
       "2       015.box 2024-02-24 06:00:00  2024-02-25 03:00:00    102.37    104.68   \n",
       "11       ap.box 2024-02-24 06:00:00  2024-02-25 03:00:00    131.62    134.59   \n",
       "6       404.box 2024-02-24 03:00:00  2024-02-24 04:00:00    204.53    203.68   \n",
       "5        40.box 2024-02-24 03:00:00  2024-02-25 03:00:00    204.53    209.36   \n",
       "4        38.box 2024-02-23 04:00:00  2024-02-25 07:00:00    298.74    301.73   \n",
       "10       75.box 2024-02-23 03:00:00  2024-02-25 03:00:00    268.70    269.17   \n",
       "9        70.box 2024-02-23 03:00:00  2024-02-25 03:00:00    268.70    269.17   \n",
       "3        08.box 2024-02-19 23:00:00  2024-02-22 04:00:00    117.31    116.74   \n",
       "26      uae.box 2024-02-19 23:00:00  2024-02-20 12:00:00    205.29    203.19   \n",
       "1       010.box 2024-02-12 18:00:00  2024-02-25 02:00:00    101.66    119.08   \n",
       "25       to.box 2024-02-10 14:00:00  2024-02-10 19:00:00     96.82     96.97   \n",
       "14     dick.box 2024-02-06 17:00:00  2024-02-06 18:00:00     46.82     23.47   \n",
       "15      dox.box 2024-02-06 08:00:00  2024-02-06 12:00:00     46.22     23.21   \n",
       "27     uber.box 2024-02-04 21:00:00  2024-02-06 08:00:00     45.84     23.11   \n",
       "24     song.box 2024-02-03 16:00:00  2024-02-05 04:00:00     45.97     45.60   \n",
       "8       696.box 2024-02-03 14:00:00  2024-02-03 22:00:00     33.21     33.09   \n",
       "12     bare.box 2024-02-02 13:00:00  2024-02-06 08:00:00     69.29     23.11   \n",
       "13    bento.box 2024-02-01 03:00:00  2024-04-30 23:00:00 67,430.80  8,962.55   \n",
       "22  opensea.box 2024-01-30 10:00:00  2024-01-30 22:00:00    460.99    260.93   \n",
       "7       696.box 2024-01-25 21:00:00  2024-02-03 14:00:00    309.64      2.31   \n",
       "28       vm.box 2024-01-24 13:00:00  2024-04-27 16:00:00 22,416.10 31,481.47   \n",
       "\n",
       "    percent_change  \n",
       "23          -42.64  \n",
       "21            0.09  \n",
       "29           -1.05  \n",
       "17            0.00  \n",
       "18           -0.35  \n",
       "0             2.15  \n",
       "19            6.25  \n",
       "16           -5.63  \n",
       "20          -16.66  \n",
       "2             2.26  \n",
       "11            2.26  \n",
       "6            -0.41  \n",
       "5             2.36  \n",
       "4             1.00  \n",
       "10            0.18  \n",
       "9             0.18  \n",
       "3            -0.49  \n",
       "26           -1.03  \n",
       "1            17.14  \n",
       "25            0.16  \n",
       "14          -49.88  \n",
       "15          -49.79  \n",
       "27          -49.58  \n",
       "24           -0.80  \n",
       "8            -0.36  \n",
       "12          -66.65  \n",
       "13          -86.71  \n",
       "22          -43.40  \n",
       "7           -99.26  \n",
       "28           40.44  "
      ]
     },
     "execution_count": 174,
     "metadata": {},
     "output_type": "execute_result"
    }
   ],
   "source": [
    "historical_listing_to_sales = closest_listings[['name','bid_event_timestamp','sale_event_timestamp',\n",
    "                                                'list_usd','sale_usd','percent_change']]\n",
    "historical_listing_to_sales.sort_values(by='bid_event_timestamp', ascending=False, inplace=True)\n",
    "historical_listing_to_sales"
   ]
  },
  {
   "cell_type": "code",
   "execution_count": 175,
   "metadata": {},
   "outputs": [
    {
     "data": {
      "text/plain": [
       "Index(['listings', 'max_price', 'min_price', 'avg_price'], dtype='object')"
      ]
     },
     "execution_count": 175,
     "metadata": {},
     "output_type": "execute_result"
    }
   ],
   "source": [
    "box_listing_data.columns"
   ]
  },
  {
   "cell_type": "code",
   "execution_count": 176,
   "metadata": {},
   "outputs": [
    {
     "data": {
      "text/html": [
       "<div>\n",
       "<style scoped>\n",
       "    .dataframe tbody tr th:only-of-type {\n",
       "        vertical-align: middle;\n",
       "    }\n",
       "\n",
       "    .dataframe tbody tr th {\n",
       "        vertical-align: top;\n",
       "    }\n",
       "\n",
       "    .dataframe thead th {\n",
       "        text-align: right;\n",
       "    }\n",
       "</style>\n",
       "<table border=\"1\" class=\"dataframe\">\n",
       "  <thead>\n",
       "    <tr style=\"text-align: right;\">\n",
       "      <th></th>\n",
       "      <th>listings</th>\n",
       "      <th>max_price</th>\n",
       "      <th>min_price</th>\n",
       "      <th>avg_price</th>\n",
       "    </tr>\n",
       "    <tr>\n",
       "      <th>start_time</th>\n",
       "      <th></th>\n",
       "      <th></th>\n",
       "      <th></th>\n",
       "      <th></th>\n",
       "    </tr>\n",
       "  </thead>\n",
       "  <tbody>\n",
       "    <tr>\n",
       "      <th>2024-06-21</th>\n",
       "      <td>1</td>\n",
       "      <td>175.09</td>\n",
       "      <td>175.09</td>\n",
       "      <td>175.09</td>\n",
       "    </tr>\n",
       "    <tr>\n",
       "      <th>2024-06-22</th>\n",
       "      <td>66</td>\n",
       "      <td>20,952.36</td>\n",
       "      <td>523.49</td>\n",
       "      <td>2,267.91</td>\n",
       "    </tr>\n",
       "    <tr>\n",
       "      <th>2024-06-23</th>\n",
       "      <td>0</td>\n",
       "      <td>0.00</td>\n",
       "      <td>0.00</td>\n",
       "      <td>0.00</td>\n",
       "    </tr>\n",
       "    <tr>\n",
       "      <th>2024-06-24</th>\n",
       "      <td>23</td>\n",
       "      <td>246,537.00</td>\n",
       "      <td>22,375.39</td>\n",
       "      <td>42,584.38</td>\n",
       "    </tr>\n",
       "    <tr>\n",
       "      <th>2024-06-25</th>\n",
       "      <td>1</td>\n",
       "      <td>16,982.50</td>\n",
       "      <td>16,982.50</td>\n",
       "      <td>16,982.50</td>\n",
       "    </tr>\n",
       "    <tr>\n",
       "      <th>2024-06-26</th>\n",
       "      <td>0</td>\n",
       "      <td>0.00</td>\n",
       "      <td>0.00</td>\n",
       "      <td>0.00</td>\n",
       "    </tr>\n",
       "    <tr>\n",
       "      <th>2024-06-27</th>\n",
       "      <td>4</td>\n",
       "      <td>1,692,400.00</td>\n",
       "      <td>611.53</td>\n",
       "      <td>424,348.94</td>\n",
       "    </tr>\n",
       "    <tr>\n",
       "      <th>2024-06-28</th>\n",
       "      <td>3</td>\n",
       "      <td>3,430.99</td>\n",
       "      <td>341.54</td>\n",
       "      <td>1,659.49</td>\n",
       "    </tr>\n",
       "    <tr>\n",
       "      <th>2024-06-29</th>\n",
       "      <td>0</td>\n",
       "      <td>0.00</td>\n",
       "      <td>0.00</td>\n",
       "      <td>0.00</td>\n",
       "    </tr>\n",
       "    <tr>\n",
       "      <th>2024-06-30</th>\n",
       "      <td>0</td>\n",
       "      <td>0.00</td>\n",
       "      <td>0.00</td>\n",
       "      <td>0.00</td>\n",
       "    </tr>\n",
       "    <tr>\n",
       "      <th>2024-07-01</th>\n",
       "      <td>0</td>\n",
       "      <td>0.00</td>\n",
       "      <td>0.00</td>\n",
       "      <td>0.00</td>\n",
       "    </tr>\n",
       "    <tr>\n",
       "      <th>2024-07-02</th>\n",
       "      <td>5</td>\n",
       "      <td>119,676.90</td>\n",
       "      <td>3,541.23</td>\n",
       "      <td>68,411.18</td>\n",
       "    </tr>\n",
       "    <tr>\n",
       "      <th>2024-07-03</th>\n",
       "      <td>0</td>\n",
       "      <td>0.00</td>\n",
       "      <td>0.00</td>\n",
       "      <td>0.00</td>\n",
       "    </tr>\n",
       "    <tr>\n",
       "      <th>2024-07-04</th>\n",
       "      <td>8</td>\n",
       "      <td>19,408.38</td>\n",
       "      <td>960.69</td>\n",
       "      <td>4,183.43</td>\n",
       "    </tr>\n",
       "    <tr>\n",
       "      <th>2024-07-05</th>\n",
       "      <td>1</td>\n",
       "      <td>8,581.74</td>\n",
       "      <td>8,581.74</td>\n",
       "      <td>8,581.74</td>\n",
       "    </tr>\n",
       "    <tr>\n",
       "      <th>2024-07-06</th>\n",
       "      <td>7</td>\n",
       "      <td>30,690.04</td>\n",
       "      <td>23,780.08</td>\n",
       "      <td>25,754.35</td>\n",
       "    </tr>\n",
       "    <tr>\n",
       "      <th>2024-07-07</th>\n",
       "      <td>2</td>\n",
       "      <td>39,241.41</td>\n",
       "      <td>9,010.05</td>\n",
       "      <td>24,125.73</td>\n",
       "    </tr>\n",
       "    <tr>\n",
       "      <th>2024-07-08</th>\n",
       "      <td>23</td>\n",
       "      <td>8,984.76</td>\n",
       "      <td>305.61</td>\n",
       "      <td>8,539.42</td>\n",
       "    </tr>\n",
       "    <tr>\n",
       "      <th>2024-07-09</th>\n",
       "      <td>9</td>\n",
       "      <td>101,282.94</td>\n",
       "      <td>2,127.33</td>\n",
       "      <td>21,520.16</td>\n",
       "    </tr>\n",
       "    <tr>\n",
       "      <th>2024-07-10</th>\n",
       "      <td>2</td>\n",
       "      <td>155,186.00</td>\n",
       "      <td>155,186.00</td>\n",
       "      <td>155,186.00</td>\n",
       "    </tr>\n",
       "  </tbody>\n",
       "</table>\n",
       "</div>"
      ],
      "text/plain": [
       "            listings    max_price  min_price  avg_price\n",
       "start_time                                             \n",
       "2024-06-21         1       175.09     175.09     175.09\n",
       "2024-06-22        66    20,952.36     523.49   2,267.91\n",
       "2024-06-23         0         0.00       0.00       0.00\n",
       "2024-06-24        23   246,537.00  22,375.39  42,584.38\n",
       "2024-06-25         1    16,982.50  16,982.50  16,982.50\n",
       "2024-06-26         0         0.00       0.00       0.00\n",
       "2024-06-27         4 1,692,400.00     611.53 424,348.94\n",
       "2024-06-28         3     3,430.99     341.54   1,659.49\n",
       "2024-06-29         0         0.00       0.00       0.00\n",
       "2024-06-30         0         0.00       0.00       0.00\n",
       "2024-07-01         0         0.00       0.00       0.00\n",
       "2024-07-02         5   119,676.90   3,541.23  68,411.18\n",
       "2024-07-03         0         0.00       0.00       0.00\n",
       "2024-07-04         8    19,408.38     960.69   4,183.43\n",
       "2024-07-05         1     8,581.74   8,581.74   8,581.74\n",
       "2024-07-06         7    30,690.04  23,780.08  25,754.35\n",
       "2024-07-07         2    39,241.41   9,010.05  24,125.73\n",
       "2024-07-08        23     8,984.76     305.61   8,539.42\n",
       "2024-07-09         9   101,282.94   2,127.33  21,520.16\n",
       "2024-07-10         2   155,186.00 155,186.00 155,186.00"
      ]
     },
     "execution_count": 176,
     "metadata": {},
     "output_type": "execute_result"
    }
   ],
   "source": [
    "box_listing_data.tail(20)"
   ]
  },
  {
   "cell_type": "code",
   "execution_count": 177,
   "metadata": {},
   "outputs": [
    {
     "data": {
      "text/html": [
       "<div>\n",
       "<style scoped>\n",
       "    .dataframe tbody tr th:only-of-type {\n",
       "        vertical-align: middle;\n",
       "    }\n",
       "\n",
       "    .dataframe tbody tr th {\n",
       "        vertical-align: top;\n",
       "    }\n",
       "\n",
       "    .dataframe thead th {\n",
       "        text-align: right;\n",
       "    }\n",
       "</style>\n",
       "<table border=\"1\" class=\"dataframe\">\n",
       "  <thead>\n",
       "    <tr style=\"text-align: right;\">\n",
       "      <th></th>\n",
       "      <th>name</th>\n",
       "      <th>price_usd</th>\n",
       "      <th>price_eth</th>\n",
       "    </tr>\n",
       "    <tr>\n",
       "      <th>day</th>\n",
       "      <th></th>\n",
       "      <th></th>\n",
       "      <th></th>\n",
       "    </tr>\n",
       "  </thead>\n",
       "  <tbody>\n",
       "    <tr>\n",
       "      <th>2024-04-27 16:00:00+00:00</th>\n",
       "      <td>vm.box</td>\n",
       "      <td>31,481.47</td>\n",
       "      <td>10.00</td>\n",
       "    </tr>\n",
       "    <tr>\n",
       "      <th>2024-04-27 00:00:00+00:00</th>\n",
       "      <td>jane.box</td>\n",
       "      <td>1,151.71</td>\n",
       "      <td>0.37</td>\n",
       "    </tr>\n",
       "    <tr>\n",
       "      <th>2024-04-25 21:00:00+00:00</th>\n",
       "      <td>express.box</td>\n",
       "      <td>317.33</td>\n",
       "      <td>0.10</td>\n",
       "    </tr>\n",
       "    <tr>\n",
       "      <th>2024-04-28 07:00:00+00:00</th>\n",
       "      <td>good.box</td>\n",
       "      <td>314.61</td>\n",
       "      <td>0.10</td>\n",
       "    </tr>\n",
       "    <tr>\n",
       "      <th>2024-02-25 07:00:00+00:00</th>\n",
       "      <td>38.box</td>\n",
       "      <td>301.73</td>\n",
       "      <td>0.10</td>\n",
       "    </tr>\n",
       "    <tr>\n",
       "      <th>2024-02-25 03:00:00+00:00</th>\n",
       "      <td>75.box</td>\n",
       "      <td>269.17</td>\n",
       "      <td>0.09</td>\n",
       "    </tr>\n",
       "    <tr>\n",
       "      <th>2024-02-25 03:00:00+00:00</th>\n",
       "      <td>70.box</td>\n",
       "      <td>269.17</td>\n",
       "      <td>0.09</td>\n",
       "    </tr>\n",
       "    <tr>\n",
       "      <th>2024-04-28 01:00:00+00:00</th>\n",
       "      <td>man.box</td>\n",
       "      <td>224.60</td>\n",
       "      <td>0.07</td>\n",
       "    </tr>\n",
       "    <tr>\n",
       "      <th>2024-02-25 03:00:00+00:00</th>\n",
       "      <td>40.box</td>\n",
       "      <td>209.36</td>\n",
       "      <td>0.07</td>\n",
       "    </tr>\n",
       "    <tr>\n",
       "      <th>2024-02-24 04:00:00+00:00</th>\n",
       "      <td>404.box</td>\n",
       "      <td>203.68</td>\n",
       "      <td>0.07</td>\n",
       "    </tr>\n",
       "  </tbody>\n",
       "</table>\n",
       "</div>"
      ],
      "text/plain": [
       "                                  name  price_usd  price_eth\n",
       "day                                                         \n",
       "2024-04-27 16:00:00+00:00       vm.box  31,481.47      10.00\n",
       "2024-04-27 00:00:00+00:00     jane.box   1,151.71       0.37\n",
       "2024-04-25 21:00:00+00:00  express.box     317.33       0.10\n",
       "2024-04-28 07:00:00+00:00     good.box     314.61       0.10\n",
       "2024-02-25 07:00:00+00:00       38.box     301.73       0.10\n",
       "2024-02-25 03:00:00+00:00       75.box     269.17       0.09\n",
       "2024-02-25 03:00:00+00:00       70.box     269.17       0.09\n",
       "2024-04-28 01:00:00+00:00      man.box     224.60       0.07\n",
       "2024-02-25 03:00:00+00:00       40.box     209.36       0.07\n",
       "2024-02-24 04:00:00+00:00      404.box     203.68       0.07"
      ]
     },
     "execution_count": 177,
     "metadata": {},
     "output_type": "execute_result"
    }
   ],
   "source": [
    "highest_selling_domains"
   ]
  },
  {
   "cell_type": "code",
   "execution_count": 178,
   "metadata": {},
   "outputs": [],
   "source": [
    "highest_selling_domains_fig = px.bar(highest_selling_domains, x=highest_selling_domains['name'], y=highest_selling_domains['price_usd'],\n",
    "                                     title='10 Highest Selling Domains')\n",
    "# highest_selling_domains_fig.show()"
   ]
  },
  {
   "cell_type": "code",
   "execution_count": 179,
   "metadata": {},
   "outputs": [
    {
     "data": {
      "application/vnd.plotly.v1+json": {
       "config": {
        "plotlyServerURL": "https://plot.ly"
       },
       "data": [
        {
         "name": "Avg Price",
         "type": "bar",
         "x": [
          "2024-01-23T00:00:00",
          "2024-01-24T00:00:00",
          "2024-01-25T00:00:00",
          "2024-01-26T00:00:00",
          "2024-01-27T00:00:00",
          "2024-01-28T00:00:00",
          "2024-01-29T00:00:00",
          "2024-01-30T00:00:00",
          "2024-01-31T00:00:00",
          "2024-02-01T00:00:00",
          "2024-02-02T00:00:00",
          "2024-02-03T00:00:00",
          "2024-02-04T00:00:00",
          "2024-02-05T00:00:00",
          "2024-02-06T00:00:00",
          "2024-02-07T00:00:00",
          "2024-02-08T00:00:00",
          "2024-02-09T00:00:00",
          "2024-02-10T00:00:00",
          "2024-02-11T00:00:00",
          "2024-02-12T00:00:00",
          "2024-02-13T00:00:00",
          "2024-02-14T00:00:00",
          "2024-02-15T00:00:00",
          "2024-02-16T00:00:00",
          "2024-02-17T00:00:00",
          "2024-02-18T00:00:00",
          "2024-02-19T00:00:00",
          "2024-02-20T00:00:00",
          "2024-02-21T00:00:00",
          "2024-02-22T00:00:00",
          "2024-02-23T00:00:00",
          "2024-02-24T00:00:00",
          "2024-02-25T00:00:00",
          "2024-02-26T00:00:00",
          "2024-02-27T00:00:00",
          "2024-02-28T00:00:00",
          "2024-02-29T00:00:00",
          "2024-03-01T00:00:00",
          "2024-03-02T00:00:00",
          "2024-03-03T00:00:00",
          "2024-03-04T00:00:00",
          "2024-03-05T00:00:00",
          "2024-03-06T00:00:00",
          "2024-03-07T00:00:00",
          "2024-03-08T00:00:00",
          "2024-03-09T00:00:00",
          "2024-03-10T00:00:00",
          "2024-03-11T00:00:00",
          "2024-03-12T00:00:00",
          "2024-03-13T00:00:00",
          "2024-03-14T00:00:00",
          "2024-03-15T00:00:00",
          "2024-03-16T00:00:00",
          "2024-03-17T00:00:00",
          "2024-03-18T00:00:00",
          "2024-03-19T00:00:00",
          "2024-03-20T00:00:00",
          "2024-03-21T00:00:00",
          "2024-03-22T00:00:00",
          "2024-03-23T00:00:00",
          "2024-03-24T00:00:00",
          "2024-03-25T00:00:00",
          "2024-03-26T00:00:00",
          "2024-03-27T00:00:00",
          "2024-03-28T00:00:00",
          "2024-03-29T00:00:00",
          "2024-03-30T00:00:00",
          "2024-03-31T00:00:00",
          "2024-04-01T00:00:00",
          "2024-04-02T00:00:00",
          "2024-04-03T00:00:00",
          "2024-04-04T00:00:00",
          "2024-04-05T00:00:00",
          "2024-04-06T00:00:00",
          "2024-04-07T00:00:00",
          "2024-04-08T00:00:00",
          "2024-04-09T00:00:00",
          "2024-04-10T00:00:00",
          "2024-04-11T00:00:00",
          "2024-04-12T00:00:00",
          "2024-04-13T00:00:00",
          "2024-04-14T00:00:00",
          "2024-04-15T00:00:00",
          "2024-04-16T00:00:00",
          "2024-04-17T00:00:00",
          "2024-04-18T00:00:00",
          "2024-04-19T00:00:00",
          "2024-04-20T00:00:00",
          "2024-04-21T00:00:00",
          "2024-04-22T00:00:00",
          "2024-04-23T00:00:00",
          "2024-04-24T00:00:00",
          "2024-04-25T00:00:00",
          "2024-04-26T00:00:00",
          "2024-04-27T00:00:00",
          "2024-04-28T00:00:00",
          "2024-04-29T00:00:00",
          "2024-04-30T00:00:00",
          "2024-05-01T00:00:00",
          "2024-05-02T00:00:00",
          "2024-05-03T00:00:00",
          "2024-05-04T00:00:00",
          "2024-05-05T00:00:00",
          "2024-05-06T00:00:00",
          "2024-05-07T00:00:00",
          "2024-05-08T00:00:00",
          "2024-05-09T00:00:00",
          "2024-05-10T00:00:00",
          "2024-05-11T00:00:00",
          "2024-05-12T00:00:00",
          "2024-05-13T00:00:00",
          "2024-05-14T00:00:00",
          "2024-05-15T00:00:00",
          "2024-05-16T00:00:00",
          "2024-05-17T00:00:00",
          "2024-05-18T00:00:00",
          "2024-05-19T00:00:00",
          "2024-05-20T00:00:00",
          "2024-05-21T00:00:00",
          "2024-05-22T00:00:00",
          "2024-05-23T00:00:00",
          "2024-05-24T00:00:00",
          "2024-05-25T00:00:00",
          "2024-05-26T00:00:00",
          "2024-05-27T00:00:00",
          "2024-05-28T00:00:00",
          "2024-05-29T00:00:00",
          "2024-05-30T00:00:00",
          "2024-05-31T00:00:00",
          "2024-06-01T00:00:00",
          "2024-06-02T00:00:00",
          "2024-06-03T00:00:00",
          "2024-06-04T00:00:00",
          "2024-06-05T00:00:00",
          "2024-06-06T00:00:00",
          "2024-06-07T00:00:00",
          "2024-06-08T00:00:00",
          "2024-06-09T00:00:00",
          "2024-06-10T00:00:00",
          "2024-06-11T00:00:00",
          "2024-06-12T00:00:00",
          "2024-06-13T00:00:00",
          "2024-06-14T00:00:00",
          "2024-06-15T00:00:00",
          "2024-06-16T00:00:00",
          "2024-06-17T00:00:00",
          "2024-06-18T00:00:00",
          "2024-06-19T00:00:00",
          "2024-06-20T00:00:00",
          "2024-06-21T00:00:00",
          "2024-06-22T00:00:00",
          "2024-06-23T00:00:00",
          "2024-06-24T00:00:00",
          "2024-06-25T00:00:00",
          "2024-06-26T00:00:00",
          "2024-06-27T00:00:00",
          "2024-06-28T00:00:00",
          "2024-06-29T00:00:00",
          "2024-06-30T00:00:00",
          "2024-07-01T00:00:00",
          "2024-07-02T00:00:00",
          "2024-07-03T00:00:00",
          "2024-07-04T00:00:00",
          "2024-07-05T00:00:00",
          "2024-07-06T00:00:00",
          "2024-07-07T00:00:00",
          "2024-07-08T00:00:00",
          "2024-07-09T00:00:00",
          "2024-07-10T00:00:00"
         ],
         "xaxis": "x",
         "y": [
          10557.635950216001,
          160128.3228177327,
          882610.9007359877,
          162767.73536034432,
          946259.9485388196,
          114328.1420421,
          0,
          0,
          0,
          0,
          230.47635511509998,
          0,
          0,
          0,
          29985.2532175518,
          1180.0049337085,
          0,
          0,
          0,
          0,
          0,
          0,
          8289.924936996,
          0,
          0,
          0,
          0,
          0,
          0,
          0,
          29451.17276825,
          296015.201409411,
          0,
          158741.88054851603,
          933.6231770375999,
          0,
          84481.40961280001,
          0,
          0,
          0,
          3133.207507539345,
          0,
          0,
          237288.67888013265,
          0,
          0,
          35757.6281347194,
          0,
          0,
          0,
          404211.5482487,
          0,
          0,
          733.9907488092,
          0,
          0,
          0,
          0,
          0,
          69672.507999825,
          0,
          26578.445800432,
          3450.405180283,
          0,
          0,
          0,
          0,
          0,
          0,
          0,
          0,
          0,
          6648.55987803,
          0,
          0,
          0,
          25442.987855194002,
          0,
          347828.165132085,
          0,
          0,
          3210.196042665,
          0,
          0,
          0,
          0,
          0,
          115954.25721801701,
          0,
          0,
          0,
          19785.373984091624,
          1087425.2576275668,
          9146776.505856493,
          2623.2092438888803,
          56681.15074243528,
          111570.38901226783,
          247329.38985306435,
          275917.24629768473,
          20983.3083233196,
          66514.60718882037,
          26373.108338761253,
          20984.47716551811,
          39249.6436151475,
          64564.61703305139,
          34542.7950182575,
          50328.5539551821,
          20284.23166183614,
          35715.651645013204,
          0,
          143996.68023636402,
          2028196.37886339,
          0,
          15030.6784,
          1225283.6366666667,
          53971.037,
          0,
          85662.92,
          12389.87,
          59364.97666666666,
          0,
          9177.25263,
          2754.4875,
          11289.936249999999,
          0,
          67135.02826666668,
          52657.111475,
          1003576.0447714286,
          13146.1725,
          0,
          158530.26,
          67816.62,
          64586.52651428572,
          37537.8738,
          27292.76394,
          0,
          7219.011673076923,
          4047.1090000000004,
          18388.800000000003,
          0,
          51940.354,
          139698.4,
          14007.782142857144,
          0,
          52297.227914285715,
          0,
          21092.34,
          2447.928888888889,
          160.02555,
          3044.5408399999997,
          175.0945,
          2267.9101818181816,
          0,
          42584.375695652176,
          16982.5,
          0,
          424348.93523,
          1659.4878733333335,
          0,
          0,
          0,
          68411.1783,
          0,
          4183.429934375,
          8581.74,
          25754.35357142857,
          24125.730000000003,
          8539.422869565216,
          21520.163466666665,
          155186
         ],
         "yaxis": "y"
        },
        {
         "mode": "lines",
         "name": "Listings",
         "type": "scatter",
         "x": [
          "2024-01-23T00:00:00",
          "2024-01-24T00:00:00",
          "2024-01-25T00:00:00",
          "2024-01-26T00:00:00",
          "2024-01-27T00:00:00",
          "2024-01-28T00:00:00",
          "2024-01-29T00:00:00",
          "2024-01-30T00:00:00",
          "2024-01-31T00:00:00",
          "2024-02-01T00:00:00",
          "2024-02-02T00:00:00",
          "2024-02-03T00:00:00",
          "2024-02-04T00:00:00",
          "2024-02-05T00:00:00",
          "2024-02-06T00:00:00",
          "2024-02-07T00:00:00",
          "2024-02-08T00:00:00",
          "2024-02-09T00:00:00",
          "2024-02-10T00:00:00",
          "2024-02-11T00:00:00",
          "2024-02-12T00:00:00",
          "2024-02-13T00:00:00",
          "2024-02-14T00:00:00",
          "2024-02-15T00:00:00",
          "2024-02-16T00:00:00",
          "2024-02-17T00:00:00",
          "2024-02-18T00:00:00",
          "2024-02-19T00:00:00",
          "2024-02-20T00:00:00",
          "2024-02-21T00:00:00",
          "2024-02-22T00:00:00",
          "2024-02-23T00:00:00",
          "2024-02-24T00:00:00",
          "2024-02-25T00:00:00",
          "2024-02-26T00:00:00",
          "2024-02-27T00:00:00",
          "2024-02-28T00:00:00",
          "2024-02-29T00:00:00",
          "2024-03-01T00:00:00",
          "2024-03-02T00:00:00",
          "2024-03-03T00:00:00",
          "2024-03-04T00:00:00",
          "2024-03-05T00:00:00",
          "2024-03-06T00:00:00",
          "2024-03-07T00:00:00",
          "2024-03-08T00:00:00",
          "2024-03-09T00:00:00",
          "2024-03-10T00:00:00",
          "2024-03-11T00:00:00",
          "2024-03-12T00:00:00",
          "2024-03-13T00:00:00",
          "2024-03-14T00:00:00",
          "2024-03-15T00:00:00",
          "2024-03-16T00:00:00",
          "2024-03-17T00:00:00",
          "2024-03-18T00:00:00",
          "2024-03-19T00:00:00",
          "2024-03-20T00:00:00",
          "2024-03-21T00:00:00",
          "2024-03-22T00:00:00",
          "2024-03-23T00:00:00",
          "2024-03-24T00:00:00",
          "2024-03-25T00:00:00",
          "2024-03-26T00:00:00",
          "2024-03-27T00:00:00",
          "2024-03-28T00:00:00",
          "2024-03-29T00:00:00",
          "2024-03-30T00:00:00",
          "2024-03-31T00:00:00",
          "2024-04-01T00:00:00",
          "2024-04-02T00:00:00",
          "2024-04-03T00:00:00",
          "2024-04-04T00:00:00",
          "2024-04-05T00:00:00",
          "2024-04-06T00:00:00",
          "2024-04-07T00:00:00",
          "2024-04-08T00:00:00",
          "2024-04-09T00:00:00",
          "2024-04-10T00:00:00",
          "2024-04-11T00:00:00",
          "2024-04-12T00:00:00",
          "2024-04-13T00:00:00",
          "2024-04-14T00:00:00",
          "2024-04-15T00:00:00",
          "2024-04-16T00:00:00",
          "2024-04-17T00:00:00",
          "2024-04-18T00:00:00",
          "2024-04-19T00:00:00",
          "2024-04-20T00:00:00",
          "2024-04-21T00:00:00",
          "2024-04-22T00:00:00",
          "2024-04-23T00:00:00",
          "2024-04-24T00:00:00",
          "2024-04-25T00:00:00",
          "2024-04-26T00:00:00",
          "2024-04-27T00:00:00",
          "2024-04-28T00:00:00",
          "2024-04-29T00:00:00",
          "2024-04-30T00:00:00",
          "2024-05-01T00:00:00",
          "2024-05-02T00:00:00",
          "2024-05-03T00:00:00",
          "2024-05-04T00:00:00",
          "2024-05-05T00:00:00",
          "2024-05-06T00:00:00",
          "2024-05-07T00:00:00",
          "2024-05-08T00:00:00",
          "2024-05-09T00:00:00",
          "2024-05-10T00:00:00",
          "2024-05-11T00:00:00",
          "2024-05-12T00:00:00",
          "2024-05-13T00:00:00",
          "2024-05-14T00:00:00",
          "2024-05-15T00:00:00",
          "2024-05-16T00:00:00",
          "2024-05-17T00:00:00",
          "2024-05-18T00:00:00",
          "2024-05-19T00:00:00",
          "2024-05-20T00:00:00",
          "2024-05-21T00:00:00",
          "2024-05-22T00:00:00",
          "2024-05-23T00:00:00",
          "2024-05-24T00:00:00",
          "2024-05-25T00:00:00",
          "2024-05-26T00:00:00",
          "2024-05-27T00:00:00",
          "2024-05-28T00:00:00",
          "2024-05-29T00:00:00",
          "2024-05-30T00:00:00",
          "2024-05-31T00:00:00",
          "2024-06-01T00:00:00",
          "2024-06-02T00:00:00",
          "2024-06-03T00:00:00",
          "2024-06-04T00:00:00",
          "2024-06-05T00:00:00",
          "2024-06-06T00:00:00",
          "2024-06-07T00:00:00",
          "2024-06-08T00:00:00",
          "2024-06-09T00:00:00",
          "2024-06-10T00:00:00",
          "2024-06-11T00:00:00",
          "2024-06-12T00:00:00",
          "2024-06-13T00:00:00",
          "2024-06-14T00:00:00",
          "2024-06-15T00:00:00",
          "2024-06-16T00:00:00",
          "2024-06-17T00:00:00",
          "2024-06-18T00:00:00",
          "2024-06-19T00:00:00",
          "2024-06-20T00:00:00",
          "2024-06-21T00:00:00",
          "2024-06-22T00:00:00",
          "2024-06-23T00:00:00",
          "2024-06-24T00:00:00",
          "2024-06-25T00:00:00",
          "2024-06-26T00:00:00",
          "2024-06-27T00:00:00",
          "2024-06-28T00:00:00",
          "2024-06-29T00:00:00",
          "2024-06-30T00:00:00",
          "2024-07-01T00:00:00",
          "2024-07-02T00:00:00",
          "2024-07-03T00:00:00",
          "2024-07-04T00:00:00",
          "2024-07-05T00:00:00",
          "2024-07-06T00:00:00",
          "2024-07-07T00:00:00",
          "2024-07-08T00:00:00",
          "2024-07-09T00:00:00",
          "2024-07-10T00:00:00"
         ],
         "xaxis": "x",
         "y": [
          3,
          11,
          11,
          6,
          4,
          1,
          0,
          0,
          0,
          0,
          1,
          0,
          0,
          0,
          5,
          2,
          0,
          0,
          0,
          0,
          0,
          0,
          1,
          0,
          0,
          0,
          0,
          0,
          0,
          0,
          1,
          1,
          0,
          2,
          1,
          0,
          3,
          0,
          0,
          0,
          1,
          0,
          0,
          3,
          0,
          0,
          1,
          0,
          0,
          0,
          1,
          0,
          0,
          1,
          0,
          0,
          0,
          0,
          0,
          2,
          0,
          1,
          1,
          0,
          0,
          0,
          0,
          0,
          0,
          0,
          0,
          0,
          6,
          0,
          0,
          0,
          1,
          0,
          1,
          0,
          0,
          1,
          0,
          0,
          0,
          0,
          0,
          2,
          0,
          0,
          0,
          4,
          4,
          10,
          5,
          8,
          26,
          7,
          18,
          15,
          10,
          4,
          27,
          2,
          25,
          4,
          5,
          5,
          3,
          0,
          4,
          1,
          0,
          1,
          3,
          2,
          0,
          1,
          2,
          3,
          0,
          2,
          2,
          3,
          0,
          3,
          4,
          7,
          6,
          0,
          1,
          1,
          7,
          1,
          8,
          0,
          13,
          1,
          2,
          0,
          10,
          1,
          7,
          0,
          7,
          0,
          3,
          9,
          2,
          2,
          1,
          66,
          0,
          23,
          1,
          0,
          4,
          3,
          0,
          0,
          0,
          5,
          0,
          8,
          1,
          7,
          2,
          23,
          9,
          2
         ],
         "yaxis": "y2"
        }
       ],
       "layout": {
        "template": {
         "data": {
          "bar": [
           {
            "error_x": {
             "color": "#2a3f5f"
            },
            "error_y": {
             "color": "#2a3f5f"
            },
            "marker": {
             "line": {
              "color": "#E5ECF6",
              "width": 0.5
             },
             "pattern": {
              "fillmode": "overlay",
              "size": 10,
              "solidity": 0.2
             }
            },
            "type": "bar"
           }
          ],
          "barpolar": [
           {
            "marker": {
             "line": {
              "color": "#E5ECF6",
              "width": 0.5
             },
             "pattern": {
              "fillmode": "overlay",
              "size": 10,
              "solidity": 0.2
             }
            },
            "type": "barpolar"
           }
          ],
          "carpet": [
           {
            "aaxis": {
             "endlinecolor": "#2a3f5f",
             "gridcolor": "white",
             "linecolor": "white",
             "minorgridcolor": "white",
             "startlinecolor": "#2a3f5f"
            },
            "baxis": {
             "endlinecolor": "#2a3f5f",
             "gridcolor": "white",
             "linecolor": "white",
             "minorgridcolor": "white",
             "startlinecolor": "#2a3f5f"
            },
            "type": "carpet"
           }
          ],
          "choropleth": [
           {
            "colorbar": {
             "outlinewidth": 0,
             "ticks": ""
            },
            "type": "choropleth"
           }
          ],
          "contour": [
           {
            "colorbar": {
             "outlinewidth": 0,
             "ticks": ""
            },
            "colorscale": [
             [
              0,
              "#0d0887"
             ],
             [
              0.1111111111111111,
              "#46039f"
             ],
             [
              0.2222222222222222,
              "#7201a8"
             ],
             [
              0.3333333333333333,
              "#9c179e"
             ],
             [
              0.4444444444444444,
              "#bd3786"
             ],
             [
              0.5555555555555556,
              "#d8576b"
             ],
             [
              0.6666666666666666,
              "#ed7953"
             ],
             [
              0.7777777777777778,
              "#fb9f3a"
             ],
             [
              0.8888888888888888,
              "#fdca26"
             ],
             [
              1,
              "#f0f921"
             ]
            ],
            "type": "contour"
           }
          ],
          "contourcarpet": [
           {
            "colorbar": {
             "outlinewidth": 0,
             "ticks": ""
            },
            "type": "contourcarpet"
           }
          ],
          "heatmap": [
           {
            "colorbar": {
             "outlinewidth": 0,
             "ticks": ""
            },
            "colorscale": [
             [
              0,
              "#0d0887"
             ],
             [
              0.1111111111111111,
              "#46039f"
             ],
             [
              0.2222222222222222,
              "#7201a8"
             ],
             [
              0.3333333333333333,
              "#9c179e"
             ],
             [
              0.4444444444444444,
              "#bd3786"
             ],
             [
              0.5555555555555556,
              "#d8576b"
             ],
             [
              0.6666666666666666,
              "#ed7953"
             ],
             [
              0.7777777777777778,
              "#fb9f3a"
             ],
             [
              0.8888888888888888,
              "#fdca26"
             ],
             [
              1,
              "#f0f921"
             ]
            ],
            "type": "heatmap"
           }
          ],
          "heatmapgl": [
           {
            "colorbar": {
             "outlinewidth": 0,
             "ticks": ""
            },
            "colorscale": [
             [
              0,
              "#0d0887"
             ],
             [
              0.1111111111111111,
              "#46039f"
             ],
             [
              0.2222222222222222,
              "#7201a8"
             ],
             [
              0.3333333333333333,
              "#9c179e"
             ],
             [
              0.4444444444444444,
              "#bd3786"
             ],
             [
              0.5555555555555556,
              "#d8576b"
             ],
             [
              0.6666666666666666,
              "#ed7953"
             ],
             [
              0.7777777777777778,
              "#fb9f3a"
             ],
             [
              0.8888888888888888,
              "#fdca26"
             ],
             [
              1,
              "#f0f921"
             ]
            ],
            "type": "heatmapgl"
           }
          ],
          "histogram": [
           {
            "marker": {
             "pattern": {
              "fillmode": "overlay",
              "size": 10,
              "solidity": 0.2
             }
            },
            "type": "histogram"
           }
          ],
          "histogram2d": [
           {
            "colorbar": {
             "outlinewidth": 0,
             "ticks": ""
            },
            "colorscale": [
             [
              0,
              "#0d0887"
             ],
             [
              0.1111111111111111,
              "#46039f"
             ],
             [
              0.2222222222222222,
              "#7201a8"
             ],
             [
              0.3333333333333333,
              "#9c179e"
             ],
             [
              0.4444444444444444,
              "#bd3786"
             ],
             [
              0.5555555555555556,
              "#d8576b"
             ],
             [
              0.6666666666666666,
              "#ed7953"
             ],
             [
              0.7777777777777778,
              "#fb9f3a"
             ],
             [
              0.8888888888888888,
              "#fdca26"
             ],
             [
              1,
              "#f0f921"
             ]
            ],
            "type": "histogram2d"
           }
          ],
          "histogram2dcontour": [
           {
            "colorbar": {
             "outlinewidth": 0,
             "ticks": ""
            },
            "colorscale": [
             [
              0,
              "#0d0887"
             ],
             [
              0.1111111111111111,
              "#46039f"
             ],
             [
              0.2222222222222222,
              "#7201a8"
             ],
             [
              0.3333333333333333,
              "#9c179e"
             ],
             [
              0.4444444444444444,
              "#bd3786"
             ],
             [
              0.5555555555555556,
              "#d8576b"
             ],
             [
              0.6666666666666666,
              "#ed7953"
             ],
             [
              0.7777777777777778,
              "#fb9f3a"
             ],
             [
              0.8888888888888888,
              "#fdca26"
             ],
             [
              1,
              "#f0f921"
             ]
            ],
            "type": "histogram2dcontour"
           }
          ],
          "mesh3d": [
           {
            "colorbar": {
             "outlinewidth": 0,
             "ticks": ""
            },
            "type": "mesh3d"
           }
          ],
          "parcoords": [
           {
            "line": {
             "colorbar": {
              "outlinewidth": 0,
              "ticks": ""
             }
            },
            "type": "parcoords"
           }
          ],
          "pie": [
           {
            "automargin": true,
            "type": "pie"
           }
          ],
          "scatter": [
           {
            "fillpattern": {
             "fillmode": "overlay",
             "size": 10,
             "solidity": 0.2
            },
            "type": "scatter"
           }
          ],
          "scatter3d": [
           {
            "line": {
             "colorbar": {
              "outlinewidth": 0,
              "ticks": ""
             }
            },
            "marker": {
             "colorbar": {
              "outlinewidth": 0,
              "ticks": ""
             }
            },
            "type": "scatter3d"
           }
          ],
          "scattercarpet": [
           {
            "marker": {
             "colorbar": {
              "outlinewidth": 0,
              "ticks": ""
             }
            },
            "type": "scattercarpet"
           }
          ],
          "scattergeo": [
           {
            "marker": {
             "colorbar": {
              "outlinewidth": 0,
              "ticks": ""
             }
            },
            "type": "scattergeo"
           }
          ],
          "scattergl": [
           {
            "marker": {
             "colorbar": {
              "outlinewidth": 0,
              "ticks": ""
             }
            },
            "type": "scattergl"
           }
          ],
          "scattermapbox": [
           {
            "marker": {
             "colorbar": {
              "outlinewidth": 0,
              "ticks": ""
             }
            },
            "type": "scattermapbox"
           }
          ],
          "scatterpolar": [
           {
            "marker": {
             "colorbar": {
              "outlinewidth": 0,
              "ticks": ""
             }
            },
            "type": "scatterpolar"
           }
          ],
          "scatterpolargl": [
           {
            "marker": {
             "colorbar": {
              "outlinewidth": 0,
              "ticks": ""
             }
            },
            "type": "scatterpolargl"
           }
          ],
          "scatterternary": [
           {
            "marker": {
             "colorbar": {
              "outlinewidth": 0,
              "ticks": ""
             }
            },
            "type": "scatterternary"
           }
          ],
          "surface": [
           {
            "colorbar": {
             "outlinewidth": 0,
             "ticks": ""
            },
            "colorscale": [
             [
              0,
              "#0d0887"
             ],
             [
              0.1111111111111111,
              "#46039f"
             ],
             [
              0.2222222222222222,
              "#7201a8"
             ],
             [
              0.3333333333333333,
              "#9c179e"
             ],
             [
              0.4444444444444444,
              "#bd3786"
             ],
             [
              0.5555555555555556,
              "#d8576b"
             ],
             [
              0.6666666666666666,
              "#ed7953"
             ],
             [
              0.7777777777777778,
              "#fb9f3a"
             ],
             [
              0.8888888888888888,
              "#fdca26"
             ],
             [
              1,
              "#f0f921"
             ]
            ],
            "type": "surface"
           }
          ],
          "table": [
           {
            "cells": {
             "fill": {
              "color": "#EBF0F8"
             },
             "line": {
              "color": "white"
             }
            },
            "header": {
             "fill": {
              "color": "#C8D4E3"
             },
             "line": {
              "color": "white"
             }
            },
            "type": "table"
           }
          ]
         },
         "layout": {
          "annotationdefaults": {
           "arrowcolor": "#2a3f5f",
           "arrowhead": 0,
           "arrowwidth": 1
          },
          "autotypenumbers": "strict",
          "coloraxis": {
           "colorbar": {
            "outlinewidth": 0,
            "ticks": ""
           }
          },
          "colorscale": {
           "diverging": [
            [
             0,
             "#8e0152"
            ],
            [
             0.1,
             "#c51b7d"
            ],
            [
             0.2,
             "#de77ae"
            ],
            [
             0.3,
             "#f1b6da"
            ],
            [
             0.4,
             "#fde0ef"
            ],
            [
             0.5,
             "#f7f7f7"
            ],
            [
             0.6,
             "#e6f5d0"
            ],
            [
             0.7,
             "#b8e186"
            ],
            [
             0.8,
             "#7fbc41"
            ],
            [
             0.9,
             "#4d9221"
            ],
            [
             1,
             "#276419"
            ]
           ],
           "sequential": [
            [
             0,
             "#0d0887"
            ],
            [
             0.1111111111111111,
             "#46039f"
            ],
            [
             0.2222222222222222,
             "#7201a8"
            ],
            [
             0.3333333333333333,
             "#9c179e"
            ],
            [
             0.4444444444444444,
             "#bd3786"
            ],
            [
             0.5555555555555556,
             "#d8576b"
            ],
            [
             0.6666666666666666,
             "#ed7953"
            ],
            [
             0.7777777777777778,
             "#fb9f3a"
            ],
            [
             0.8888888888888888,
             "#fdca26"
            ],
            [
             1,
             "#f0f921"
            ]
           ],
           "sequentialminus": [
            [
             0,
             "#0d0887"
            ],
            [
             0.1111111111111111,
             "#46039f"
            ],
            [
             0.2222222222222222,
             "#7201a8"
            ],
            [
             0.3333333333333333,
             "#9c179e"
            ],
            [
             0.4444444444444444,
             "#bd3786"
            ],
            [
             0.5555555555555556,
             "#d8576b"
            ],
            [
             0.6666666666666666,
             "#ed7953"
            ],
            [
             0.7777777777777778,
             "#fb9f3a"
            ],
            [
             0.8888888888888888,
             "#fdca26"
            ],
            [
             1,
             "#f0f921"
            ]
           ]
          },
          "colorway": [
           "#636efa",
           "#EF553B",
           "#00cc96",
           "#ab63fa",
           "#FFA15A",
           "#19d3f3",
           "#FF6692",
           "#B6E880",
           "#FF97FF",
           "#FECB52"
          ],
          "font": {
           "color": "#2a3f5f"
          },
          "geo": {
           "bgcolor": "white",
           "lakecolor": "white",
           "landcolor": "#E5ECF6",
           "showlakes": true,
           "showland": true,
           "subunitcolor": "white"
          },
          "hoverlabel": {
           "align": "left"
          },
          "hovermode": "closest",
          "mapbox": {
           "style": "light"
          },
          "paper_bgcolor": "white",
          "plot_bgcolor": "#E5ECF6",
          "polar": {
           "angularaxis": {
            "gridcolor": "white",
            "linecolor": "white",
            "ticks": ""
           },
           "bgcolor": "#E5ECF6",
           "radialaxis": {
            "gridcolor": "white",
            "linecolor": "white",
            "ticks": ""
           }
          },
          "scene": {
           "xaxis": {
            "backgroundcolor": "#E5ECF6",
            "gridcolor": "white",
            "gridwidth": 2,
            "linecolor": "white",
            "showbackground": true,
            "ticks": "",
            "zerolinecolor": "white"
           },
           "yaxis": {
            "backgroundcolor": "#E5ECF6",
            "gridcolor": "white",
            "gridwidth": 2,
            "linecolor": "white",
            "showbackground": true,
            "ticks": "",
            "zerolinecolor": "white"
           },
           "zaxis": {
            "backgroundcolor": "#E5ECF6",
            "gridcolor": "white",
            "gridwidth": 2,
            "linecolor": "white",
            "showbackground": true,
            "ticks": "",
            "zerolinecolor": "white"
           }
          },
          "shapedefaults": {
           "line": {
            "color": "#2a3f5f"
           }
          },
          "ternary": {
           "aaxis": {
            "gridcolor": "white",
            "linecolor": "white",
            "ticks": ""
           },
           "baxis": {
            "gridcolor": "white",
            "linecolor": "white",
            "ticks": ""
           },
           "bgcolor": "#E5ECF6",
           "caxis": {
            "gridcolor": "white",
            "linecolor": "white",
            "ticks": ""
           }
          },
          "title": {
           "x": 0.05
          },
          "xaxis": {
           "automargin": true,
           "gridcolor": "white",
           "linecolor": "white",
           "ticks": "",
           "title": {
            "standoff": 15
           },
           "zerolinecolor": "white",
           "zerolinewidth": 2
          },
          "yaxis": {
           "automargin": true,
           "gridcolor": "white",
           "linecolor": "white",
           "ticks": "",
           "title": {
            "standoff": 15
           },
           "zerolinecolor": "white",
           "zerolinewidth": 2
          }
         }
        },
        "xaxis": {
         "anchor": "y",
         "domain": [
          0,
          0.94
         ]
        },
        "yaxis": {
         "anchor": "x",
         "domain": [
          0,
          1
         ]
        },
        "yaxis2": {
         "anchor": "x",
         "overlaying": "y",
         "side": "right"
        }
       }
      }
     },
     "metadata": {},
     "output_type": "display_data"
    }
   ],
   "source": [
    "\n",
    "\n",
    "box_listing_data_fig = make_subplots(specs=[[{\"secondary_y\": True}]])\n",
    "\n",
    "# Add bar chart for sales\n",
    "# box_listing_data_fig.add_trace(\n",
    "#     go.Bar(\n",
    "#         x=box_listing_data.index,\n",
    "#         y=box_listing_data['max_price'],\n",
    "#         name='Max Price'\n",
    "#     ),\n",
    "#     secondary_y=False\n",
    "# )\n",
    "\n",
    "# box_listing_data_fig.add_trace(\n",
    "#     go.Bar(\n",
    "#         x=box_listing_data.index,\n",
    "#         y=box_listing_data['min_price'],\n",
    "#         name='Min Price'\n",
    "#     ),\n",
    "#     secondary_y=False\n",
    "# )\n",
    "\n",
    "# Add line chart for cumulative sales\n",
    "box_listing_data_fig.add_trace(\n",
    "    go.Bar(\n",
    "        x=box_listing_data.index,\n",
    "        y=box_listing_data['avg_price'],\n",
    "        name='Avg Price',\n",
    "    ),\n",
    "    secondary_y=False\n",
    ")\n",
    "\n",
    "box_listing_data_fig.add_trace(\n",
    "    go.Scatter(\n",
    "        x=box_listing_data.index,\n",
    "        y=box_listing_data['listings'],\n",
    "        name='Listings',\n",
    "        mode='lines'\n",
    "    ),\n",
    "    secondary_y=True\n",
    ")\n",
    "\n",
    "# box_listing_data_fig.show()\n"
   ]
  },
  {
   "cell_type": "code",
   "execution_count": 180,
   "metadata": {},
   "outputs": [],
   "source": [
    "box_listings.drop(columns=['tokenid','eth_usd'], inplace=True)\n"
   ]
  },
  {
   "cell_type": "code",
   "execution_count": 181,
   "metadata": {},
   "outputs": [],
   "source": [
    "latest_box_listings = box_listings.sort_index(ascending=False)\n",
    "latest_box_listings = latest_box_listings.head(10)\n",
    "latest_box_listings.reset_index(inplace=True)"
   ]
  },
  {
   "cell_type": "code",
   "execution_count": 182,
   "metadata": {
    "collapsed": true,
    "jupyter": {
     "outputs_hidden": true
    },
    "tags": []
   },
   "outputs": [
    {
     "data": {
      "application/vnd.plotly.v1+json": {
       "config": {
        "plotlyServerURL": "https://plot.ly"
       },
       "data": [
        {
         "alignmentgroup": "True",
         "hovertemplate": "name=%{x}<br>price_usd=%{y}<extra></extra>",
         "legendgroup": "",
         "marker": {
          "color": "#636efa",
          "pattern": {
           "shape": ""
          }
         },
         "name": "",
         "offsetgroup": "",
         "orientation": "v",
         "showlegend": false,
         "textposition": "auto",
         "type": "bar",
         "x": [
          "vm.box",
          "jane.box",
          "express.box",
          "good.box",
          "38.box",
          "75.box",
          "70.box",
          "man.box",
          "40.box",
          "404.box"
         ],
         "xaxis": "x",
         "y": [
          31481.468012639998,
          1151.7140375362649,
          317.32758139960004,
          314.608157469935,
          301.7316911204,
          269.1720167967,
          269.1720167967,
          224.604619321188,
          209.35601306410004,
          203.68114234888
         ],
         "yaxis": "y"
        }
       ],
       "layout": {
        "barmode": "relative",
        "legend": {
         "tracegroupgap": 0
        },
        "paper_bgcolor": "#fafafa",
        "plot_bgcolor": "#fafafa",
        "template": {
         "data": {
          "bar": [
           {
            "error_x": {
             "color": "#2a3f5f"
            },
            "error_y": {
             "color": "#2a3f5f"
            },
            "marker": {
             "line": {
              "color": "#E5ECF6",
              "width": 0.5
             },
             "pattern": {
              "fillmode": "overlay",
              "size": 10,
              "solidity": 0.2
             }
            },
            "type": "bar"
           }
          ],
          "barpolar": [
           {
            "marker": {
             "line": {
              "color": "#E5ECF6",
              "width": 0.5
             },
             "pattern": {
              "fillmode": "overlay",
              "size": 10,
              "solidity": 0.2
             }
            },
            "type": "barpolar"
           }
          ],
          "carpet": [
           {
            "aaxis": {
             "endlinecolor": "#2a3f5f",
             "gridcolor": "white",
             "linecolor": "white",
             "minorgridcolor": "white",
             "startlinecolor": "#2a3f5f"
            },
            "baxis": {
             "endlinecolor": "#2a3f5f",
             "gridcolor": "white",
             "linecolor": "white",
             "minorgridcolor": "white",
             "startlinecolor": "#2a3f5f"
            },
            "type": "carpet"
           }
          ],
          "choropleth": [
           {
            "colorbar": {
             "outlinewidth": 0,
             "ticks": ""
            },
            "type": "choropleth"
           }
          ],
          "contour": [
           {
            "colorbar": {
             "outlinewidth": 0,
             "ticks": ""
            },
            "colorscale": [
             [
              0,
              "#0d0887"
             ],
             [
              0.1111111111111111,
              "#46039f"
             ],
             [
              0.2222222222222222,
              "#7201a8"
             ],
             [
              0.3333333333333333,
              "#9c179e"
             ],
             [
              0.4444444444444444,
              "#bd3786"
             ],
             [
              0.5555555555555556,
              "#d8576b"
             ],
             [
              0.6666666666666666,
              "#ed7953"
             ],
             [
              0.7777777777777778,
              "#fb9f3a"
             ],
             [
              0.8888888888888888,
              "#fdca26"
             ],
             [
              1,
              "#f0f921"
             ]
            ],
            "type": "contour"
           }
          ],
          "contourcarpet": [
           {
            "colorbar": {
             "outlinewidth": 0,
             "ticks": ""
            },
            "type": "contourcarpet"
           }
          ],
          "heatmap": [
           {
            "colorbar": {
             "outlinewidth": 0,
             "ticks": ""
            },
            "colorscale": [
             [
              0,
              "#0d0887"
             ],
             [
              0.1111111111111111,
              "#46039f"
             ],
             [
              0.2222222222222222,
              "#7201a8"
             ],
             [
              0.3333333333333333,
              "#9c179e"
             ],
             [
              0.4444444444444444,
              "#bd3786"
             ],
             [
              0.5555555555555556,
              "#d8576b"
             ],
             [
              0.6666666666666666,
              "#ed7953"
             ],
             [
              0.7777777777777778,
              "#fb9f3a"
             ],
             [
              0.8888888888888888,
              "#fdca26"
             ],
             [
              1,
              "#f0f921"
             ]
            ],
            "type": "heatmap"
           }
          ],
          "heatmapgl": [
           {
            "colorbar": {
             "outlinewidth": 0,
             "ticks": ""
            },
            "colorscale": [
             [
              0,
              "#0d0887"
             ],
             [
              0.1111111111111111,
              "#46039f"
             ],
             [
              0.2222222222222222,
              "#7201a8"
             ],
             [
              0.3333333333333333,
              "#9c179e"
             ],
             [
              0.4444444444444444,
              "#bd3786"
             ],
             [
              0.5555555555555556,
              "#d8576b"
             ],
             [
              0.6666666666666666,
              "#ed7953"
             ],
             [
              0.7777777777777778,
              "#fb9f3a"
             ],
             [
              0.8888888888888888,
              "#fdca26"
             ],
             [
              1,
              "#f0f921"
             ]
            ],
            "type": "heatmapgl"
           }
          ],
          "histogram": [
           {
            "marker": {
             "pattern": {
              "fillmode": "overlay",
              "size": 10,
              "solidity": 0.2
             }
            },
            "type": "histogram"
           }
          ],
          "histogram2d": [
           {
            "colorbar": {
             "outlinewidth": 0,
             "ticks": ""
            },
            "colorscale": [
             [
              0,
              "#0d0887"
             ],
             [
              0.1111111111111111,
              "#46039f"
             ],
             [
              0.2222222222222222,
              "#7201a8"
             ],
             [
              0.3333333333333333,
              "#9c179e"
             ],
             [
              0.4444444444444444,
              "#bd3786"
             ],
             [
              0.5555555555555556,
              "#d8576b"
             ],
             [
              0.6666666666666666,
              "#ed7953"
             ],
             [
              0.7777777777777778,
              "#fb9f3a"
             ],
             [
              0.8888888888888888,
              "#fdca26"
             ],
             [
              1,
              "#f0f921"
             ]
            ],
            "type": "histogram2d"
           }
          ],
          "histogram2dcontour": [
           {
            "colorbar": {
             "outlinewidth": 0,
             "ticks": ""
            },
            "colorscale": [
             [
              0,
              "#0d0887"
             ],
             [
              0.1111111111111111,
              "#46039f"
             ],
             [
              0.2222222222222222,
              "#7201a8"
             ],
             [
              0.3333333333333333,
              "#9c179e"
             ],
             [
              0.4444444444444444,
              "#bd3786"
             ],
             [
              0.5555555555555556,
              "#d8576b"
             ],
             [
              0.6666666666666666,
              "#ed7953"
             ],
             [
              0.7777777777777778,
              "#fb9f3a"
             ],
             [
              0.8888888888888888,
              "#fdca26"
             ],
             [
              1,
              "#f0f921"
             ]
            ],
            "type": "histogram2dcontour"
           }
          ],
          "mesh3d": [
           {
            "colorbar": {
             "outlinewidth": 0,
             "ticks": ""
            },
            "type": "mesh3d"
           }
          ],
          "parcoords": [
           {
            "line": {
             "colorbar": {
              "outlinewidth": 0,
              "ticks": ""
             }
            },
            "type": "parcoords"
           }
          ],
          "pie": [
           {
            "automargin": true,
            "type": "pie"
           }
          ],
          "scatter": [
           {
            "fillpattern": {
             "fillmode": "overlay",
             "size": 10,
             "solidity": 0.2
            },
            "type": "scatter"
           }
          ],
          "scatter3d": [
           {
            "line": {
             "colorbar": {
              "outlinewidth": 0,
              "ticks": ""
             }
            },
            "marker": {
             "colorbar": {
              "outlinewidth": 0,
              "ticks": ""
             }
            },
            "type": "scatter3d"
           }
          ],
          "scattercarpet": [
           {
            "marker": {
             "colorbar": {
              "outlinewidth": 0,
              "ticks": ""
             }
            },
            "type": "scattercarpet"
           }
          ],
          "scattergeo": [
           {
            "marker": {
             "colorbar": {
              "outlinewidth": 0,
              "ticks": ""
             }
            },
            "type": "scattergeo"
           }
          ],
          "scattergl": [
           {
            "marker": {
             "colorbar": {
              "outlinewidth": 0,
              "ticks": ""
             }
            },
            "type": "scattergl"
           }
          ],
          "scattermapbox": [
           {
            "marker": {
             "colorbar": {
              "outlinewidth": 0,
              "ticks": ""
             }
            },
            "type": "scattermapbox"
           }
          ],
          "scatterpolar": [
           {
            "marker": {
             "colorbar": {
              "outlinewidth": 0,
              "ticks": ""
             }
            },
            "type": "scatterpolar"
           }
          ],
          "scatterpolargl": [
           {
            "marker": {
             "colorbar": {
              "outlinewidth": 0,
              "ticks": ""
             }
            },
            "type": "scatterpolargl"
           }
          ],
          "scatterternary": [
           {
            "marker": {
             "colorbar": {
              "outlinewidth": 0,
              "ticks": ""
             }
            },
            "type": "scatterternary"
           }
          ],
          "surface": [
           {
            "colorbar": {
             "outlinewidth": 0,
             "ticks": ""
            },
            "colorscale": [
             [
              0,
              "#0d0887"
             ],
             [
              0.1111111111111111,
              "#46039f"
             ],
             [
              0.2222222222222222,
              "#7201a8"
             ],
             [
              0.3333333333333333,
              "#9c179e"
             ],
             [
              0.4444444444444444,
              "#bd3786"
             ],
             [
              0.5555555555555556,
              "#d8576b"
             ],
             [
              0.6666666666666666,
              "#ed7953"
             ],
             [
              0.7777777777777778,
              "#fb9f3a"
             ],
             [
              0.8888888888888888,
              "#fdca26"
             ],
             [
              1,
              "#f0f921"
             ]
            ],
            "type": "surface"
           }
          ],
          "table": [
           {
            "cells": {
             "fill": {
              "color": "#EBF0F8"
             },
             "line": {
              "color": "white"
             }
            },
            "header": {
             "fill": {
              "color": "#C8D4E3"
             },
             "line": {
              "color": "white"
             }
            },
            "type": "table"
           }
          ]
         },
         "layout": {
          "annotationdefaults": {
           "arrowcolor": "#2a3f5f",
           "arrowhead": 0,
           "arrowwidth": 1
          },
          "autotypenumbers": "strict",
          "coloraxis": {
           "colorbar": {
            "outlinewidth": 0,
            "ticks": ""
           }
          },
          "colorscale": {
           "diverging": [
            [
             0,
             "#8e0152"
            ],
            [
             0.1,
             "#c51b7d"
            ],
            [
             0.2,
             "#de77ae"
            ],
            [
             0.3,
             "#f1b6da"
            ],
            [
             0.4,
             "#fde0ef"
            ],
            [
             0.5,
             "#f7f7f7"
            ],
            [
             0.6,
             "#e6f5d0"
            ],
            [
             0.7,
             "#b8e186"
            ],
            [
             0.8,
             "#7fbc41"
            ],
            [
             0.9,
             "#4d9221"
            ],
            [
             1,
             "#276419"
            ]
           ],
           "sequential": [
            [
             0,
             "#0d0887"
            ],
            [
             0.1111111111111111,
             "#46039f"
            ],
            [
             0.2222222222222222,
             "#7201a8"
            ],
            [
             0.3333333333333333,
             "#9c179e"
            ],
            [
             0.4444444444444444,
             "#bd3786"
            ],
            [
             0.5555555555555556,
             "#d8576b"
            ],
            [
             0.6666666666666666,
             "#ed7953"
            ],
            [
             0.7777777777777778,
             "#fb9f3a"
            ],
            [
             0.8888888888888888,
             "#fdca26"
            ],
            [
             1,
             "#f0f921"
            ]
           ],
           "sequentialminus": [
            [
             0,
             "#0d0887"
            ],
            [
             0.1111111111111111,
             "#46039f"
            ],
            [
             0.2222222222222222,
             "#7201a8"
            ],
            [
             0.3333333333333333,
             "#9c179e"
            ],
            [
             0.4444444444444444,
             "#bd3786"
            ],
            [
             0.5555555555555556,
             "#d8576b"
            ],
            [
             0.6666666666666666,
             "#ed7953"
            ],
            [
             0.7777777777777778,
             "#fb9f3a"
            ],
            [
             0.8888888888888888,
             "#fdca26"
            ],
            [
             1,
             "#f0f921"
            ]
           ]
          },
          "colorway": [
           "#636efa",
           "#EF553B",
           "#00cc96",
           "#ab63fa",
           "#FFA15A",
           "#19d3f3",
           "#FF6692",
           "#B6E880",
           "#FF97FF",
           "#FECB52"
          ],
          "font": {
           "color": "#2a3f5f"
          },
          "geo": {
           "bgcolor": "white",
           "lakecolor": "white",
           "landcolor": "#E5ECF6",
           "showlakes": true,
           "showland": true,
           "subunitcolor": "white"
          },
          "hoverlabel": {
           "align": "left"
          },
          "hovermode": "closest",
          "mapbox": {
           "style": "light"
          },
          "paper_bgcolor": "white",
          "plot_bgcolor": "#E5ECF6",
          "polar": {
           "angularaxis": {
            "gridcolor": "white",
            "linecolor": "white",
            "ticks": ""
           },
           "bgcolor": "#E5ECF6",
           "radialaxis": {
            "gridcolor": "white",
            "linecolor": "white",
            "ticks": ""
           }
          },
          "scene": {
           "xaxis": {
            "backgroundcolor": "#E5ECF6",
            "gridcolor": "white",
            "gridwidth": 2,
            "linecolor": "white",
            "showbackground": true,
            "ticks": "",
            "zerolinecolor": "white"
           },
           "yaxis": {
            "backgroundcolor": "#E5ECF6",
            "gridcolor": "white",
            "gridwidth": 2,
            "linecolor": "white",
            "showbackground": true,
            "ticks": "",
            "zerolinecolor": "white"
           },
           "zaxis": {
            "backgroundcolor": "#E5ECF6",
            "gridcolor": "white",
            "gridwidth": 2,
            "linecolor": "white",
            "showbackground": true,
            "ticks": "",
            "zerolinecolor": "white"
           }
          },
          "shapedefaults": {
           "line": {
            "color": "#2a3f5f"
           }
          },
          "ternary": {
           "aaxis": {
            "gridcolor": "white",
            "linecolor": "white",
            "ticks": ""
           },
           "baxis": {
            "gridcolor": "white",
            "linecolor": "white",
            "ticks": ""
           },
           "bgcolor": "#E5ECF6",
           "caxis": {
            "gridcolor": "white",
            "linecolor": "white",
            "ticks": ""
           }
          },
          "title": {
           "x": 0.05
          },
          "xaxis": {
           "automargin": true,
           "gridcolor": "white",
           "linecolor": "white",
           "ticks": "",
           "title": {
            "standoff": 15
           },
           "zerolinecolor": "white",
           "zerolinewidth": 2
          },
          "yaxis": {
           "automargin": true,
           "gridcolor": "white",
           "linecolor": "white",
           "ticks": "",
           "title": {
            "standoff": 15
           },
           "zerolinecolor": "white",
           "zerolinewidth": 2
          }
         }
        },
        "title": {
         "text": "10 Highest Selling Domains"
        },
        "xaxis": {
         "anchor": "y",
         "domain": [
          0,
          1
         ],
         "title": {
          "text": "name"
         }
        },
        "yaxis": {
         "anchor": "x",
         "domain": [
          0,
          1
         ],
         "title": {
          "text": "price_usd"
         }
        }
       }
      }
     },
     "metadata": {},
     "output_type": "display_data"
    }
   ],
   "source": [
    "mint_to_sales_fig.update_layout(\n",
    "    plot_bgcolor='#fafafa',\n",
    "    paper_bgcolor='#fafafa',\n",
    "    title=\"Mints to Sales Metrics\"\n",
    ")\n",
    "\n",
    "listing_to_sales_fig.update_layout(\n",
    "    plot_bgcolor='#fafafa',\n",
    "    paper_bgcolor='#fafafa',\n",
    "    title=\"Listings to Sales Metrics\"\n",
    ")\n",
    "\n",
    "daily_box_mints_fig.update_layout(\n",
    "    plot_bgcolor='#fafafa',\n",
    "    paper_bgcolor='#fafafa',\n",
    "    title=\"Daily Mints\"\n",
    ")\n",
    "\n",
    "daily_box_sales_fig.update_layout(\n",
    "    plot_bgcolor='#fafafa',\n",
    "    paper_bgcolor='#fafafa',\n",
    "    title=\"Daily Sales\"\n",
    ")\n",
    "\n",
    "daily_vol_fig.update_layout(\n",
    "    plot_bgcolor='#fafafa',\n",
    "    paper_bgcolor='#fafafa',\n",
    "    title=\"Daily Volume\"\n",
    ")\n",
    "\n",
    "daily_sales_fig.update_layout(\n",
    "    plot_bgcolor='#fafafa',\n",
    "    paper_bgcolor='#fafafa',\n",
    "    title=\"Daily Sales Metrics\"\n",
    ")\n",
    "\n",
    "daily_mint_metrics_fig.update_layout(\n",
    "    plot_bgcolor='#fafafa',\n",
    "    paper_bgcolor='#fafafa',\n",
    "    title=\"Daily Mints Metrics\"\n",
    ")\n",
    "\n",
    "listings_growth_rate_fig.update_layout(\n",
    "    plot_bgcolor='#fafafa',\n",
    "    paper_bgcolor='#fafafa',\n",
    "    title=\"Listings Growth Rate\"\n",
    ")\n",
    "\n",
    "highest_selling_domains_fig.update_layout(\n",
    "    plot_bgcolor='#fafafa',\n",
    "    paper_bgcolor='#fafafa',\n",
    ")\n",
    "\n"
   ]
  },
  {
   "cell_type": "markdown",
   "metadata": {},
   "source": [
    "Average Time to Sell a .box Domain: 19 days 11:19:25.506097561\n",
    "\n",
    "Average Listing Price to Sale Price Change -14.673687659116787\n",
    "\n",
    "Cumulative Listings to Sales Ratio: 25:1\n",
    "\n",
    "Cumulative Mints to Sales Ratio: 171:1\n",
    "\n",
    "Monthly Listings Growth Rate: -70.2247191011236"
   ]
  },
  {
   "cell_type": "code",
   "execution_count": 183,
   "metadata": {},
   "outputs": [
    {
     "data": {
      "text/plain": [
       "Timedelta('19 days 11:19:25.506097561')"
      ]
     },
     "execution_count": 183,
     "metadata": {},
     "output_type": "execute_result"
    }
   ],
   "source": [
    "avg_time_to_sell"
   ]
  },
  {
   "cell_type": "code",
   "execution_count": 184,
   "metadata": {},
   "outputs": [],
   "source": [
    "key_metrics = [\n",
    "    {\"label\": \"Average Listing Price to Sale Price Change\", \"value\": f\"{round(int(listing_price_to_sale_avg_pct_change),0)}\", \"unit\": \"%\"},\n",
    "    {\"label\": \"Average Days on Market\", \"value\": str(avg_time_to_sell.days), \"unit\": \" days\"},\n",
    "    {\"label\": \"Cumulative Listings to Sales Ratio\", \"value\": f\"{round(int(cumulative_listings_to_sales), 0)}\", \"unit\": \":1\"},\n",
    "    {\"label\": \"Cumulative Mints to Sales Ratio\", \"value\": f\"{round(int(cumulative_mint_to_sales),0)}\", \"unit\": \":1\"},\n",
    "    {\"label\": \"Monthly Listings Growth Rate\", \"value\": f\"{listings_growth_rate.iloc[-1]:.2f}\", \"unit\": \"%\"}\n",
    "]\n"
   ]
  },
  {
   "cell_type": "code",
   "execution_count": 185,
   "metadata": {},
   "outputs": [
    {
     "data": {
      "text/plain": [
       "name           vm.box\n",
       "price_usd   31,481.47\n",
       "price_eth       10.00\n",
       "Name: 2024-04-27 16:00:00+00:00, dtype: object"
      ]
     },
     "execution_count": 185,
     "metadata": {},
     "output_type": "execute_result"
    }
   ],
   "source": [
    "max_eth_sale_row"
   ]
  },
  {
   "cell_type": "code",
   "execution_count": 186,
   "metadata": {},
   "outputs": [],
   "source": [
    "max_eth_sale_details = {\n",
    "    \"name\": max_eth_sale_row[\"name\"],\n",
    "    \"price_usd\": max_eth_sale_row[\"price_usd\"],\n",
    "    \"price_eth\": max_eth_sale_row[\"price_eth\"],\n",
    "    \"date\": max_eth_sale_row.name  # This is the index (timestamp)\n",
    "}\n",
    "\n",
    "highest_sold_domain_str = f\"\"\"\n",
    "Name: {max_eth_sale_details['name']}\n",
    "Price (USD): ${max_eth_sale_details['price_usd']:.2f}\n",
    "Price (ETH): {max_eth_sale_details['price_eth']}\n",
    "Date: {max_eth_sale_details['date'].strftime('%Y-%m-%d')}\n",
    "\"\"\""
   ]
  },
  {
   "cell_type": "code",
   "execution_count": 187,
   "metadata": {},
   "outputs": [
    {
     "data": {
      "text/plain": [
       "'\\nName: vm.box\\nPrice (USD): $31481.47\\nPrice (ETH): 10.0\\nDate: 2024-04-27\\n'"
      ]
     },
     "execution_count": 187,
     "metadata": {},
     "output_type": "execute_result"
    }
   ],
   "source": [
    "highest_sold_domain_str"
   ]
  },
  {
   "cell_type": "code",
   "execution_count": 188,
   "metadata": {},
   "outputs": [],
   "source": [
    "sales_metrics = [\n",
    "    {\"label\": \"Total Sales Volume \", \"value\":f\"${cumulative_box_vol.iloc[-1]:,.2f}\", \"unit\": \"\"},\n",
    "    {\"label\": \"Highest Sold Domain\", \"value\": highest_sold_domain_str, \"unit\": \"\"},\n",
    "    {\"label\": \"Average Sales Price \", \"value\":f\"${avg_box_sale:,.2f}\", \"unit\": \"\"}\n",
    "    \n",
    "]"
   ]
  },
  {
   "cell_type": "code",
   "execution_count": 189,
   "metadata": {},
   "outputs": [],
   "source": [
    "listings_metrics = [\n",
    "\n",
    "    {\"label\":\"Total .box Listings on Opensea \", \"value\": str(total_box_listings), \"unit\": \"\"}\n",
    "]"
   ]
  },
  {
   "cell_type": "code",
   "execution_count": 190,
   "metadata": {},
   "outputs": [],
   "source": [
    "mints_metrics = [\n",
    "    {\"label\":\"Total .box Mints \", \"value\":str(total_box_mints), \"unit\": \"\"}\n",
    "]"
   ]
  },
  {
   "cell_type": "code",
   "execution_count": 191,
   "metadata": {},
   "outputs": [],
   "source": [
    "def generate_table(dataframe, max_rows=11):\n",
    "    return html.Table([\n",
    "        html.Thead(\n",
    "            html.Tr([html.Th(col) for col in dataframe.columns])\n",
    "        ),\n",
    "        html.Tbody([\n",
    "            html.Tr([\n",
    "                html.Td(dataframe.iloc[i][col]) for col in dataframe.columns\n",
    "            ]) for i in range(min(len(dataframe), max_rows))\n",
    "        ])\n",
    "    ])"
   ]
  },
  {
   "cell_type": "code",
   "execution_count": 192,
   "metadata": {},
   "outputs": [
    {
     "data": {
      "text/html": [
       "<div>\n",
       "<style scoped>\n",
       "    .dataframe tbody tr th:only-of-type {\n",
       "        vertical-align: middle;\n",
       "    }\n",
       "\n",
       "    .dataframe tbody tr th {\n",
       "        vertical-align: top;\n",
       "    }\n",
       "\n",
       "    .dataframe thead th {\n",
       "        text-align: right;\n",
       "    }\n",
       "</style>\n",
       "<table border=\"1\" class=\"dataframe\">\n",
       "  <thead>\n",
       "    <tr style=\"text-align: right;\">\n",
       "      <th></th>\n",
       "      <th>start_time</th>\n",
       "      <th>price_in_eth</th>\n",
       "      <th>end_time</th>\n",
       "      <th>name</th>\n",
       "      <th>price_in_usd_start_time</th>\n",
       "    </tr>\n",
       "  </thead>\n",
       "  <tbody>\n",
       "    <tr>\n",
       "      <th>0</th>\n",
       "      <td>2024-07-10 21:00:00</td>\n",
       "      <td>50.00</td>\n",
       "      <td>2024-08-10 21:00:00</td>\n",
       "      <td>university.box</td>\n",
       "      <td>155,186.00</td>\n",
       "    </tr>\n",
       "    <tr>\n",
       "      <th>1</th>\n",
       "      <td>2024-07-10 21:00:00</td>\n",
       "      <td>50.00</td>\n",
       "      <td>2024-08-10 21:00:00</td>\n",
       "      <td>pharmacy.box</td>\n",
       "      <td>155,186.00</td>\n",
       "    </tr>\n",
       "    <tr>\n",
       "      <th>2</th>\n",
       "      <td>2024-07-09 22:00:00</td>\n",
       "      <td>33.00</td>\n",
       "      <td>2025-01-09 22:00:00</td>\n",
       "      <td>blum.box</td>\n",
       "      <td>101,282.94</td>\n",
       "    </tr>\n",
       "    <tr>\n",
       "      <th>3</th>\n",
       "      <td>2024-07-09 21:00:00</td>\n",
       "      <td>1.00</td>\n",
       "      <td>2024-07-16 21:00:00</td>\n",
       "      <td>cypherpunk.box</td>\n",
       "      <td>3,061.28</td>\n",
       "    </tr>\n",
       "    <tr>\n",
       "      <th>4</th>\n",
       "      <td>2024-07-09 12:00:00</td>\n",
       "      <td>1.69</td>\n",
       "      <td>2024-07-12 12:00:00</td>\n",
       "      <td>ia.box</td>\n",
       "      <td>5,210.41</td>\n",
       "    </tr>\n",
       "    <tr>\n",
       "      <th>5</th>\n",
       "      <td>2024-07-09 12:00:00</td>\n",
       "      <td>0.96</td>\n",
       "      <td>2024-08-09 12:00:00</td>\n",
       "      <td>girl.box</td>\n",
       "      <td>2,959.76</td>\n",
       "    </tr>\n",
       "    <tr>\n",
       "      <th>6</th>\n",
       "      <td>2024-07-09 12:00:00</td>\n",
       "      <td>1.00</td>\n",
       "      <td>2024-08-09 12:00:00</td>\n",
       "      <td>demon.box</td>\n",
       "      <td>3,083.08</td>\n",
       "    </tr>\n",
       "    <tr>\n",
       "      <th>7</th>\n",
       "      <td>2024-07-09 12:00:00</td>\n",
       "      <td>0.69</td>\n",
       "      <td>2024-08-09 12:00:00</td>\n",
       "      <td>ensvision.box</td>\n",
       "      <td>2,127.33</td>\n",
       "    </tr>\n",
       "    <tr>\n",
       "      <th>8</th>\n",
       "      <td>2024-07-09 12:00:00</td>\n",
       "      <td>1.80</td>\n",
       "      <td>2024-08-09 12:00:00</td>\n",
       "      <td>ia.box</td>\n",
       "      <td>5,549.54</td>\n",
       "    </tr>\n",
       "    <tr>\n",
       "      <th>9</th>\n",
       "      <td>2024-07-09 06:00:00</td>\n",
       "      <td>18.00</td>\n",
       "      <td>2024-10-30 05:00:00</td>\n",
       "      <td>coca-cola.box</td>\n",
       "      <td>55,198.44</td>\n",
       "    </tr>\n",
       "  </tbody>\n",
       "</table>\n",
       "</div>"
      ],
      "text/plain": [
       "           start_time  price_in_eth             end_time            name  \\\n",
       "0 2024-07-10 21:00:00         50.00  2024-08-10 21:00:00  university.box   \n",
       "1 2024-07-10 21:00:00         50.00  2024-08-10 21:00:00    pharmacy.box   \n",
       "2 2024-07-09 22:00:00         33.00  2025-01-09 22:00:00        blum.box   \n",
       "3 2024-07-09 21:00:00          1.00  2024-07-16 21:00:00  cypherpunk.box   \n",
       "4 2024-07-09 12:00:00          1.69  2024-07-12 12:00:00          ia.box   \n",
       "5 2024-07-09 12:00:00          0.96  2024-08-09 12:00:00        girl.box   \n",
       "6 2024-07-09 12:00:00          1.00  2024-08-09 12:00:00       demon.box   \n",
       "7 2024-07-09 12:00:00          0.69  2024-08-09 12:00:00   ensvision.box   \n",
       "8 2024-07-09 12:00:00          1.80  2024-08-09 12:00:00          ia.box   \n",
       "9 2024-07-09 06:00:00         18.00  2024-10-30 05:00:00   coca-cola.box   \n",
       "\n",
       "   price_in_usd_start_time  \n",
       "0               155,186.00  \n",
       "1               155,186.00  \n",
       "2               101,282.94  \n",
       "3                 3,061.28  \n",
       "4                 5,210.41  \n",
       "5                 2,959.76  \n",
       "6                 3,083.08  \n",
       "7                 2,127.33  \n",
       "8                 5,549.54  \n",
       "9                55,198.44  "
      ]
     },
     "execution_count": 192,
     "metadata": {},
     "output_type": "execute_result"
    }
   ],
   "source": [
    "latest_box_listings"
   ]
  },
  {
   "cell_type": "markdown",
   "metadata": {},
   "source": [
    "external_stylesheets = [\n",
    "    'https://cdnjs.cloudflare.com/ajax/libs/normalize/8.0.1/normalize.min.css', \n",
    "    '/assets/styles.css'\n",
    "]\n",
    "\n",
    "app = Dash(__name__, external_stylesheets=external_stylesheets)\n",
    "\n",
    "tts_markdown = f\"\"\"\n",
    "Average Time to Sell a .box Domain: {avg_time_to_sell}\n",
    "\"\"\"\n",
    "\n",
    "listing_to_sale_mk = f\"\"\"Average Listing Price to Sale Price Change {listing_price_to_sale_avg_pct_change} \"\"\"\n",
    "\n",
    "cumulative_lts_mk = f\"\"\"Cumulative Listings to Sales Ratio: {round(int(cumulative_listings_to_sales), 0)}:1\"\"\"\n",
    "cumulative_mts_mk = f\"\"\"Cumulative Mints to Sales Ratio: {round(int(cumulative_mint_to_sales),0)}:1\"\"\"\n",
    "cum_sale_latest_mk = f\"\"\"Total Sales Volume: {cumulative_box_vol.iloc[-1]} \"\"\"\n",
    "max_sale_mk = f\"\"\"Highest Sold Domain: {max_eth_sale_row} \"\"\"\n",
    "total_mints_mk = f\"\"\"Total .box Mints: {total_box_mints} \"\"\"\n",
    "total_listings_mk = f\"\"\"Total .box Listings on Opensea {total_box_listings} \"\"\"\n",
    "latest_listings_growth_mk = f\"\"\"Monthly Listings Growth Rate: {listings_growth_rate.iloc[-1]} \"\"\"\n",
    "avg_sold_mk = f\"\"\"Average Sales Price: {avg_box_sale} \"\"\"\n",
    "\n",
    "\n",
    "\n",
    "\n",
    "\n",
    "# Define the layout of the app\n",
    "app.layout = html.Div(style={'backgroundColor': 'var(--color-background)'}, children=[\n",
    "    html.H1(children='.box Domains Dashboard', style={'textAlign': 'center', 'color': 'var(--wcm-color-fg-1)'}),\n",
    "    html.Br(),\n",
    "    html.H2('.box Domain Valuator', style={'color': 'var(--wcm-color-fg-2)'}),\n",
    "    html.Div([\n",
    "        \"Input Domain Name: \",\n",
    "        dcc.Input(id='valuator-input', value='example.box', type='text'),\n",
    "        html.Button('Submit', id='submit-button', n_clicks=0)\n",
    "    ], style={'color': 'var(--wcm-color-fg-1)'}),\n",
    "    html.Br(),\n",
    "    html.Div(id='valuator-output', style={'color': 'var(--wcm-color-fg-1)'}),\n",
    "    html.Br(),\n",
    "    html.H2('Key Metrics'),\n",
    "    html.Div(className='metrics-container', style={\n",
    "        'display': 'grid',\n",
    "        'gridTemplateColumns': 'repeat(3, 1fr)',  # Adjust based on the number of metrics\n",
    "        'gap': '20px',\n",
    "        'padding': '20px',\n",
    "        'backgroundColor': 'var(--wcm-color-bg-1)',\n",
    "        'borderRadius': 'var(--wcm-container-border-radius)',\n",
    "        'boxShadow': '0 4px 8px var(--wcm-color-overlay)'\n",
    "    }, children=[\n",
    "        html.Div(className='metric', style={\n",
    "            'padding': '15px',\n",
    "            'backgroundColor': 'var(--wcm-color-bg-2)',\n",
    "            'borderRadius': 'var(--wcm-button-border-radius)',\n",
    "            'textAlign': 'center',\n",
    "            'color': 'var(--wcm-color-fg-1)'\n",
    "        }, children=[\n",
    "            html.Span(metric[\"label\"], style={'color': 'var(--wcm-color-fg-2)'}),\n",
    "            html.Span(f\"{metric['value']}{metric['unit']}\", style={'color': 'var(--wcm-accent-color)'})\n",
    "        ]) for metric in key_metrics\n",
    "    ]),\n",
    "    dcc.Graph(id='mint to sales', figure=mint_to_sales_fig),\n",
    "    dcc.Graph(id='listings to sales', figure=listing_to_sales_fig),\n",
    "    \n",
    "    html.H2('Sales'),\n",
    "    html.Div(className='metrics-container', style={\n",
    "        'display': 'grid',\n",
    "        'gridTemplateColumns': 'repeat(3, 1fr)',  # Adjust based on the number of metrics\n",
    "        'gap': '20px',\n",
    "        'padding': '20px',\n",
    "        'backgroundColor': 'var(--wcm-color-bg-1)',\n",
    "        'borderRadius': 'var(--wcm-container-border-radius)',\n",
    "        'boxShadow': '0 4px 8px var(--wcm-color-overlay)'\n",
    "    }, children=[\n",
    "        html.Div(className='metric', style={\n",
    "            'padding': '15px',\n",
    "            'backgroundColor': 'var(--wcm-color-bg-2)',\n",
    "            'borderRadius': 'var(--wcm-button-border-radius)',\n",
    "            'textAlign': 'center',\n",
    "            'color': 'var(--wcm-color-fg-1)'\n",
    "        }, children=[\n",
    "            html.Span(metric[\"label\"], style={'color': 'var(--wcm-color-fg-2)'}),\n",
    "            html.Span(f\"{metric['value']}{metric['unit']}\", style={'color': 'var(--wcm-accent-color)'})\n",
    "        ]) for metric in sales_metrics\n",
    "    ]),\n",
    "    dcc.Graph(id='daily_sales_count', figure=daily_sales_fig),\n",
    "    dcc.Graph(id='daily_sales_vol', figure=daily_vol_fig),\n",
    "    dcc.Graph(id='highest selling', figure=highest_selling_domains_fig),\n",
    "    html.Br(),\n",
    "    html.H3('Monthly Sales Metrics'),\n",
    "    # generate_table(monthly_box_sales_metrics),\n",
    "    dash_table.DataTable(\n",
    "        id='monthly_sales_metrics',\n",
    "        columns=[{\"name\": i, \"id\": i} for i in monthly_box_sales_metrics.columns],\n",
    "        data=monthly_box_sales_metrics.to_dict('records'),\n",
    "        style_table={'overflowX': 'auto'},\n",
    "        style_cell={\n",
    "            'height': 'auto',\n",
    "            'minWidth': '150px', 'width': '150px', 'maxWidth': '150px',\n",
    "            'whiteSpace': 'normal',\n",
    "            'font-family': 'var(--font-primary, \"Inter\")',\n",
    "            'backgroundColor': 'var(--color-background)',\n",
    "            'color': 'var(--wcm-color-fg-2)'\n",
    "        }\n",
    "    ),\n",
    "\n",
    "    html.H3('10 Latest Sales'),\n",
    "    dash_table.DataTable(\n",
    "        id='latest_sales',\n",
    "        columns=[{\"name\": i, \"id\": i} for i in latest_box_domains_sales.columns],\n",
    "        data=latest_box_domains_sales.to_dict('records'),\n",
    "        style_table={'overflowX': 'auto'},\n",
    "        style_cell={\n",
    "            'height': 'auto',\n",
    "            'minWidth': '150px', 'width': '150px', 'maxWidth': '150px',\n",
    "            'whiteSpace': 'normal',\n",
    "            'font-family': 'var(--font-primary, \"Inter\")',\n",
    "            'backgroundColor': 'var(--color-background)',\n",
    "            'color': 'var(--wcm-color-fg-2)'\n",
    "        }\n",
    "    ),\n",
    "    html.Br(),\n",
    "    html.H3('10 Highest Selling Domains'),\n",
    "    dash_table.DataTable(\n",
    "        id='highest_sales',\n",
    "        columns=[{\"name\": i, \"id\": i} for i in highest_selling_domains.columns],\n",
    "        data=highest_selling_domains.to_dict('records'),\n",
    "        style_table={'overflowX': 'auto'},\n",
    "        style_cell={\n",
    "            'height': 'auto',\n",
    "            'minWidth': '150px', 'width': '150px', 'maxWidth': '150px',\n",
    "            'whiteSpace': 'normal',\n",
    "            'font-family': 'var(--font-primary, \"Inter\")',\n",
    "            'backgroundColor': 'var(--color-background)',\n",
    "            'color': 'var(--wcm-color-fg-2)'\n",
    "        }\n",
    "    ),\n",
    "    \n",
    "    html.Br(),\n",
    "    html.H2('Listings'),\n",
    "    html.Div(className='metrics-container', style={\n",
    "        'display': 'grid',\n",
    "        'gridTemplateColumns': 'repeat(1, 1fr)',  # Adjust based on the number of metrics\n",
    "        'gap': '20px',\n",
    "        'padding': '20px',\n",
    "        'backgroundColor': 'var(--wcm-color-bg-1)',\n",
    "        'borderRadius': 'var(--wcm-container-border-radius)',\n",
    "        'boxShadow': '0 4px 8px var(--wcm-color-overlay)'\n",
    "    }, children=[\n",
    "        html.Div(className='metric', style={\n",
    "            'padding': '15px',\n",
    "            'backgroundColor': 'var(--wcm-color-bg-2)',\n",
    "            'borderRadius': 'var(--wcm-button-border-radius)',\n",
    "            'textAlign': 'center',\n",
    "            'color': 'var(--wcm-color-fg-1)'\n",
    "        }, children=[\n",
    "            html.Span(metric[\"label\"], style={'color': 'var(--wcm-color-fg-2)'}),\n",
    "            html.Span(f\"{metric['value']}{metric['unit']}\", style={'color': 'var(--wcm-accent-color)'})\n",
    "        ]) for metric in listings_metrics\n",
    "    ]),\n",
    "    dcc.Graph(id='monthly listings growth', figure=listings_growth_rate_fig),\n",
    "    html.H3('Historical Listings to Sales'),\n",
    "    dash_table.DataTable(\n",
    "        id='listings_to_sales',\n",
    "        columns=[{\"name\": i, \"id\": i} for i in historical_listing_to_sales.columns],\n",
    "        data=historical_listing_to_sales.to_dict('records'),\n",
    "        style_table={'overflowX': 'auto'},\n",
    "        style_cell={\n",
    "            'height': 'auto',\n",
    "            'minWidth': '150px', 'width': '150px', 'maxWidth': '150px',\n",
    "            'whiteSpace': 'normal',\n",
    "            'font-family': 'var(--font-primary, \"Inter\")',\n",
    "            'backgroundColor': 'var(--color-background)',\n",
    "            'color': 'var(--wcm-color-fg-2)'\n",
    "        }\n",
    "    ),\n",
    "    html.H3('10 Latest Listings'),\n",
    "    dash_table.DataTable(\n",
    "        id='latest_listings',\n",
    "        columns=[{\"name\": i, \"id\": i} for i in latest_box_listings.columns],\n",
    "        data=latest_box_listings.to_dict('records'),\n",
    "        style_table={'overflowX': 'auto'},\n",
    "        style_cell={\n",
    "            'height': 'auto',\n",
    "            'minWidth': '150px', 'width': '150px', 'maxWidth': '150px',\n",
    "            'whiteSpace': 'normal',\n",
    "            'font-family': 'var(--font-primary, \"Inter\")',\n",
    "            'backgroundColor': 'var(--color-background)',\n",
    "            'color': 'var(--wcm-color-fg-2)'\n",
    "        }\n",
    "    ),\n",
    "\n",
    "\n",
    "\n",
    "    html.H2('Mints'),\n",
    "    html.Div(className='metrics-container', style={\n",
    "        'display': 'grid',\n",
    "        'gridTemplateColumns': 'repeat(1, 1fr)',  # Adjust based on the number of metrics\n",
    "        'gap': '20px',\n",
    "        'padding': '20px',\n",
    "        'backgroundColor': 'var(--wcm-color-bg-1)',\n",
    "        'borderRadius': 'var(--wcm-container-border-radius)',\n",
    "        'boxShadow': '0 4px 8px var(--wcm-color-overlay)'\n",
    "    }, children=[\n",
    "        html.Div(className='metric', style={\n",
    "            'padding': '15px',\n",
    "            'backgroundColor': 'var(--wcm-color-bg-2)',\n",
    "            'borderRadius': 'var(--wcm-button-border-radius)',\n",
    "            'textAlign': 'center',\n",
    "            'color': 'var(--wcm-color-fg-1)'\n",
    "        }, children=[\n",
    "            html.Span(metric[\"label\"], style={'color': 'var(--wcm-color-fg-2)'}),\n",
    "            html.Span(f\"{metric['value']}{metric['unit']}\", style={'color': 'var(--wcm-accent-color)'})\n",
    "        ]) for metric in mints_metrics\n",
    "    ]),\n",
    "    dcc.Graph(id='daily_mints', figure=daily_mint_metrics_fig),\n",
    "    html.Br(),\n",
    "    html.H3('10 Latest Mints'),\n",
    "    dash_table.DataTable(\n",
    "        id='latest_mints',\n",
    "        columns=[{\"name\": i, \"id\": i} for i in latest_box_domains_mints.columns],\n",
    "        data=latest_box_domains_mints.to_dict('records'),\n",
    "        style_table={'overflowX': 'auto'},\n",
    "        style_cell={\n",
    "            'height': 'auto',\n",
    "            'minWidth': '150px', 'width': '150px', 'maxWidth': '150px',\n",
    "            'whiteSpace': 'normal',\n",
    "            'font-family': 'var(--font-primary, \"Inter\")',\n",
    "            'backgroundColor': 'var(--color-background)',\n",
    "            'color': 'var(--wcm-color-fg-2)'\n",
    "        }\n",
    "    ),\n",
    "    \n",
    "    \n",
    "])\n",
    "\n",
    "# Define the callback\n",
    "@callback(\n",
    "    Output(component_id='valuator-output', component_property='children'),\n",
    "    Input(component_id='submit-button', component_property='n_clicks'),\n",
    "    State(component_id='valuator-input', component_property='value')\n",
    ")\n",
    "def update_output_div(n_clicks, domain):\n",
    "    if n_clicks == 0:\n",
    "        return \"Please enter a domain name and click Submit.\"\n",
    "    \n",
    "    if not domain:\n",
    "        return \"Please enter a domain name.\"\n",
    "    \n",
    "    domain_df = pd.DataFrame({'domain': [domain]})\n",
    "    domain_processed = model_prep(domain_df)\n",
    "    domain_value = value_domain(domain_processed)\n",
    "    return f'Estimated Value: ${round(domain_value,2):,.2f}'\n",
    "\n",
    "# Run the app\n",
    "if __name__ == '__main__':\n",
    "    app.run_server(debug=True)"
   ]
  },
  {
   "cell_type": "code",
   "execution_count": 193,
   "metadata": {},
   "outputs": [
    {
     "data": {
      "text/html": [
       "\n",
       "        <iframe\n",
       "            width=\"100%\"\n",
       "            height=\"650\"\n",
       "            src=\"http://127.0.0.1:8050/\"\n",
       "            frameborder=\"0\"\n",
       "            allowfullscreen\n",
       "            \n",
       "        ></iframe>\n",
       "        "
      ],
      "text/plain": [
       "<IPython.lib.display.IFrame at 0x1f0f5a80950>"
      ]
     },
     "metadata": {},
     "output_type": "display_data"
    },
    {
     "name": "stdout",
     "output_type": "stream",
     "text": [
      "predicted value: 1337.918250592203\n",
      "predicted value: 1337.918250592203\n",
      "predicted value: 2560.052986420118\n",
      "predicted value: 2560.052986420118\n",
      "predicted value: 2560.052986420118\n",
      "predicted value: 3005.042974408911\n",
      "predicted value: 2560.052986420118\n",
      "predicted value: 2560.052986420118\n",
      "predicted value: 2838.9655944837464\n",
      "predicted value: 1948.9856185061603\n",
      "predicted value: 2726.1303663452823\n",
      "predicted value: 1337.918250592203\n",
      "predicted value: 2560.052986420118\n",
      "predicted value: 2560.052986420118\n",
      "predicted value: 2726.1303663452823\n",
      "predicted value: 2281.1403783564892\n",
      "predicted value: 1948.9856185061603\n",
      "predicted value: 1782.9082385809966\n",
      "predicted value: 1337.918250592203\n",
      "predicted value: 2560.052986420118\n",
      "predicted value: 1337.918250592203\n",
      "predicted value: 1337.918250592203\n",
      "predicted value: 1337.918250592203\n"
     ]
    }
   ],
   "source": [
    "external_stylesheets = [\n",
    "    'https://cdnjs.cloudflare.com/ajax/libs/normalize/8.0.1/normalize.min.css', \n",
    "    '/assets/styles.css'\n",
    "]\n",
    "\n",
    "app = Dash(__name__, external_stylesheets=external_stylesheets)\n",
    "\n",
    "app.layout = html.Div(style={'backgroundColor': 'var(--color-background)'}, children=[\n",
    "    html.H1(\n",
    "        children='.box Domains Dashboard',\n",
    "        style={\n",
    "            'textAlign': 'center',\n",
    "            'color': 'var(--wcm-color-fg-1)',\n",
    "            'fontSize': '36px',\n",
    "            'fontWeight': 'bold',\n",
    "            'marginBottom': '20px'\n",
    "        }\n",
    "    ),\n",
    "    html.Br(),\n",
    "    html.H2('.box Domain Valuator', style={\n",
    "        'color': 'var(--wcm-color-fg-2)', \n",
    "        'textAlign': 'center', \n",
    "        'marginBottom': '20px'\n",
    "    }),\n",
    "    html.Div([\n",
    "        html.Label(\"Input Domain Name:\", style={\n",
    "            'color': 'var(--wcm-color-fg-1)', \n",
    "            'marginRight': '10px',\n",
    "            'fontWeight': 'bold'\n",
    "        }),\n",
    "        dcc.Input(\n",
    "            id='valuator-input',\n",
    "            value='example',\n",
    "            type='text',\n",
    "            style={\n",
    "                'padding': '10px',\n",
    "                'borderRadius': 'var(--wcm-input-border-radius)',\n",
    "                'border': '1px solid var(--color-border)',\n",
    "                'marginRight': '10px'\n",
    "            },\n",
    "            pattern='[^.]*'  # Regex pattern to disallow '.' character\n",
    "        ),\n",
    "        html.Button('Submit', id='submit-button', n_clicks=0, style={\n",
    "            'padding': '10px 20px', \n",
    "            'borderRadius': 'var(--wcm-button-border-radius)', \n",
    "            'backgroundColor': 'var(--wcm-accent-color)', \n",
    "            'color': 'var(--wcm-accent-fill-color)',\n",
    "            'border': 'none',\n",
    "            'cursor': 'pointer'\n",
    "        })\n",
    "    ], style={\n",
    "        'display': 'flex', \n",
    "        'alignItems': 'center', \n",
    "        'justifyContent': 'center', \n",
    "        'marginBottom': '20px'\n",
    "    }),\n",
    "    html.Br(),\n",
    "    html.Div(id='valuator-output', style={\n",
    "        'color': 'var(--wcm-color-fg-1)', \n",
    "        'textAlign': 'center', \n",
    "        'marginTop': '20px'\n",
    "    }),\n",
    "    html.Br(),\n",
    "    html.H2('Key Metrics', style={'color': 'var(--wcm-color-fg-1)'}),\n",
    "    html.Div(className='metrics-container', children=[\n",
    "        html.Div(className='metric', children=[\n",
    "            html.Span(metric[\"label\"], className='label'),\n",
    "            html.Span(f\"{metric['value']}{metric['unit']}\", className='value')\n",
    "        ]) for metric in key_metrics\n",
    "    ]),\n",
    "    html.Br(),\n",
    "    dcc.Graph(id='mint to sales', figure=mint_to_sales_fig),\n",
    "    dcc.Graph(id='listings to sales', figure=listing_to_sales_fig),\n",
    "    \n",
    "    html.H2('Sales', style={'color': 'var(--wcm-color-fg-1)'}),\n",
    "    html.Div(className='metrics-container', children=[\n",
    "        html.Div(className='metric', children=[\n",
    "            html.Span(metric[\"label\"], className='label'),\n",
    "            html.Span(f\"{metric['value']}{metric['unit']}\", className='value')\n",
    "        ]) for metric in sales_metrics\n",
    "    ]),\n",
    "    html.Br(),\n",
    "    dcc.Graph(id='daily_sales_count', figure=daily_sales_fig),\n",
    "    dcc.Graph(id='daily_sales_vol', figure=daily_vol_fig),\n",
    "    dcc.Graph(id='highest selling', figure=highest_selling_domains_fig),\n",
    "    html.Br(),\n",
    "    html.H3('Monthly Sales Metrics', style={'color': 'var(--wcm-color-fg-1)'}),\n",
    "    html.Div(style={'display': 'flex', 'justify-content': 'center', 'padding': '10px'}, children=[\n",
    "        html.Div(style={'width': '80%', 'max-width': '1000px'}, children=[\n",
    "            dash_table.DataTable(\n",
    "                id='monthly_sales_metrics',\n",
    "                columns=[{\"name\": i, \"id\": i} for i in monthly_box_sales_metrics.columns],\n",
    "                data=monthly_box_sales_metrics.to_dict('records'),\n",
    "                style_table={'overflowX': 'auto'},\n",
    "                style_as_list_view=True,\n",
    "                style_header={\n",
    "                    'backgroundColor': 'var(--wcm-color-bg-2)',\n",
    "                    'fontWeight': 'bold',\n",
    "                    'color': 'var(--wcm-color-fg-1)'\n",
    "                },\n",
    "                style_cell={\n",
    "                    'height': 'auto',\n",
    "                    'minWidth': '150px', 'width': '150px', 'maxWidth': '150px',\n",
    "                    'whiteSpace': 'normal',\n",
    "                    'font-family': 'var(--font-primary, \"Inter\")',\n",
    "                    'backgroundColor': 'var(--color-background)',\n",
    "                    'color': 'var(--wcm-color-fg-2)',\n",
    "                    'padding': '10px',\n",
    "                    'border': '1px solid var(--color-border)'\n",
    "                },\n",
    "                style_data={\n",
    "                    'border': '1px solid var(--color-border)',\n",
    "                    'padding': '10px',\n",
    "                }\n",
    "            )\n",
    "        ])\n",
    "    ]),\n",
    "    html.Br(),\n",
    "    html.H3('10 Latest Sales', style={'color': 'var(--wcm-color-fg-1)'}),\n",
    "    html.Div(style={'display': 'flex', 'justify-content': 'center', 'padding': '10px'}, children=[\n",
    "        html.Div(style={'width': '80%', 'max-width': '1000px'}, children=[\n",
    "            dash_table.DataTable(\n",
    "                id='latest_sales',\n",
    "                columns=[{\"name\": i, \"id\": i} for i in latest_box_domains_sales.columns],\n",
    "                data=latest_box_domains_sales.to_dict('records'),\n",
    "                style_table={'overflowX': 'auto'},\n",
    "                style_as_list_view=True,\n",
    "                style_header={\n",
    "                    'backgroundColor': 'var(--wcm-color-bg-2)',\n",
    "                    'fontWeight': 'bold',\n",
    "                    'color': 'var(--wcm-color-fg-1)'\n",
    "                },\n",
    "                style_cell={\n",
    "                    'height': 'auto',\n",
    "                    'minWidth': '150px', 'width': '150px', 'maxWidth': '150px',\n",
    "                    'whiteSpace': 'normal',\n",
    "                    'font-family': 'var(--font-primary, \"Inter\")',\n",
    "                    'backgroundColor': 'var(--color-background)',\n",
    "                    'color': 'var(--wcm-color-fg-2)',\n",
    "                    'padding': '10px',\n",
    "                    'border': '1px solid var(--color-border)'\n",
    "                },\n",
    "                style_data={\n",
    "                    'border': '1px solid var(--color-border)',\n",
    "                    'padding': '10px',\n",
    "                }\n",
    "            )\n",
    "        ])\n",
    "    ]),\n",
    "    html.Br(),\n",
    "    html.H3('10 Highest Selling Domains', style={'color': 'var(--wcm-color-fg-1)'}),\n",
    "    html.Div(style={'display': 'flex', 'justify-content': 'center', 'padding': '10px'}, children=[\n",
    "        html.Div(style={'width': '80%', 'max-width': '1000px'}, children=[\n",
    "            dash_table.DataTable(\n",
    "                id='highest_sales',\n",
    "                columns=[{\"name\": i, \"id\": i} for i in highest_selling_domains.columns],\n",
    "                data=highest_selling_domains.to_dict('records'),\n",
    "                style_table={'overflowX': 'auto'},\n",
    "                style_as_list_view=True,\n",
    "                style_header={\n",
    "                    'backgroundColor': 'var(--wcm-color-bg-2)',\n",
    "                    'fontWeight': 'bold',\n",
    "                    'color': 'var(--wcm-color-fg-1)'\n",
    "                },\n",
    "                style_cell={\n",
    "                    'height': 'auto',\n",
    "                    'minWidth': '150px', 'width': '150px', 'maxWidth': '150px',\n",
    "                    'whiteSpace': 'normal',\n",
    "                    'font-family': 'var(--font-primary, \"Inter\")',\n",
    "                    'backgroundColor': 'var(--color-background)',\n",
    "                    'color': 'var(--wcm-color-fg-2)',\n",
    "                    'padding': '10px',\n",
    "                    'border': '1px solid var(--color-border)'\n",
    "                },\n",
    "                style_data={\n",
    "                    'border': '1px solid var(--color-border)',\n",
    "                    'padding': '10px',\n",
    "                }\n",
    "            )\n",
    "        ])\n",
    "    ]),\n",
    "    html.Br(),\n",
    "    html.H2('Listings', style={'color': 'var(--wcm-color-fg-1)'}),\n",
    "    html.Div(className='metrics-container', children=[\n",
    "        html.Div(className='metric', children=[\n",
    "            html.Span(metric[\"label\"], className='label'),\n",
    "            html.Span(f\"{metric['value']}{metric['unit']}\", className='value')\n",
    "        ]) for metric in listings_metrics\n",
    "    ]),\n",
    "    html.Br(),\n",
    "    dcc.Graph(id='monthly listings growth', figure=listings_growth_rate_fig),\n",
    "    html.H3('Historical Listings to Sales', style={'color': 'var(--wcm-color-fg-1)'}),\n",
    "    html.Div(style={'display': 'flex', 'justify-content': 'center', 'padding': '10px'}, children=[\n",
    "        html.Div(style={'width': '80%', 'max-width': '1000px'}, children=[\n",
    "            dash_table.DataTable(\n",
    "                id='listings_to_sales',\n",
    "                columns=[{\"name\": i, \"id\": i} for i in historical_listing_to_sales.columns],\n",
    "                data=historical_listing_to_sales.to_dict('records'),\n",
    "                style_table={'overflowX': 'auto'},\n",
    "                style_as_list_view=True,\n",
    "                style_header={\n",
    "                    'backgroundColor': 'var(--wcm-color-bg-2)',\n",
    "                    'fontWeight': 'bold',\n",
    "                    'color': 'var(--wcm-color-fg-1)'\n",
    "                },\n",
    "                style_cell={\n",
    "                    'height': 'auto',\n",
    "                    'minWidth': '150px', 'width': '150px', 'maxWidth': '150px',\n",
    "                    'whiteSpace': 'normal',\n",
    "                    'font-family': 'var(--font-primary, \"Inter\")',\n",
    "                    'backgroundColor': 'var(--color-background)',\n",
    "                    'color': 'var(--wcm-color-fg-2)',\n",
    "                    'padding': '10px',\n",
    "                    'border': '1px solid var(--color-border)'\n",
    "                },\n",
    "                style_data={\n",
    "                    'border': '1px solid var(--color-border)',\n",
    "                    'padding': '10px',\n",
    "                }\n",
    "            )\n",
    "        ])\n",
    "    ]),\n",
    "    html.H3('10 Latest Listings', style={'color': 'var(--wcm-color-fg-1)'}),\n",
    "    html.Div(style={'display': 'flex', 'justify-content': 'center', 'padding': '10px'}, children=[\n",
    "        html.Div(style={'width': '80%', 'max-width': '1000px'}, children=[\n",
    "            dash_table.DataTable(\n",
    "                id='latest_listings',\n",
    "                columns=[{\"name\": i, \"id\": i} for i in latest_box_listings.columns],\n",
    "                data=latest_box_listings.to_dict('records'),\n",
    "                style_table={'overflowX': 'auto'},\n",
    "                style_as_list_view=True,\n",
    "                style_header={\n",
    "                    'backgroundColor': 'var(--wcm-color-bg-2)',\n",
    "                    'fontWeight': 'bold',\n",
    "                    'color': 'var(--wcm-color-fg-1)'\n",
    "                },\n",
    "                style_cell={\n",
    "                    'height': 'auto',\n",
    "                    'minWidth': '150px', 'width': '150px', 'maxWidth': '150px',\n",
    "                    'whiteSpace': 'normal',\n",
    "                    'font-family': 'var(--font-primary, \"Inter\")',\n",
    "                    'backgroundColor': 'var(--color-background)',\n",
    "                    'color': 'var(--wcm-color-fg-2)',\n",
    "                    'padding': '10px',\n",
    "                    'border': '1px solid var(--color-border)'\n",
    "                },\n",
    "                style_data={\n",
    "                    'border': '1px solid var(--color-border)',\n",
    "                    'padding': '10px',\n",
    "                }\n",
    "            )\n",
    "        ])\n",
    "    ]),\n",
    "\n",
    "    html.H2('Mints', style={'color': 'var(--wcm-color-fg-1)'}),\n",
    "    html.Div(className='metrics-container', children=[\n",
    "        html.Div(className='metric', children=[\n",
    "            html.Span(metric[\"label\"], className='label'),\n",
    "            html.Span(f\"{metric['value']}{metric['unit']}\", className='value')\n",
    "        ]) for metric in mints_metrics\n",
    "    ]),\n",
    "    html.Br(),\n",
    "    dcc.Graph(id='daily_mints', figure=daily_mint_metrics_fig),\n",
    "    html.Br(),\n",
    "    html.H3('10 Latest Mints', style={'color': 'var(--wcm-color-fg-1)'}),\n",
    "    html.Div(style={'display': 'flex', 'justify-content': 'center', 'padding': '10px'}, children=[\n",
    "        html.Div(style={'width': '80%', 'max-width': '1000px'}, children=[\n",
    "            dash_table.DataTable(\n",
    "                id='latest_mints',\n",
    "                columns=[{\"name\": i, \"id\": i} for i in latest_box_domains_mints.columns],\n",
    "                data=latest_box_domains_mints.to_dict('records'),\n",
    "                style_table={'overflowX': 'auto'},\n",
    "                style_as_list_view=True,\n",
    "                style_header={\n",
    "                    'backgroundColor': 'var(--wcm-color-bg-2)',\n",
    "                    'fontWeight': 'bold',\n",
    "                    'color': 'var(--wcm-color-fg-1)'\n",
    "                },\n",
    "                style_cell={\n",
    "                    'height': 'auto',\n",
    "                    'minWidth': '150px', 'width': '150px', 'maxWidth': '150px',\n",
    "                    'whiteSpace': 'normal',\n",
    "                    'font-family': 'var(--font-primary, \"Inter\")',\n",
    "                    'backgroundColor': 'var(--color-background)',\n",
    "                    'color': 'var(--wcm-color-fg-2)',\n",
    "                    'padding': '10px',\n",
    "                    'border': '1px solid var(--color-border)'\n",
    "                },\n",
    "                style_data={\n",
    "                    'border': '1px solid var(--color-border)',\n",
    "                    'padding': '10px',\n",
    "                }\n",
    "            )\n",
    "        ])\n",
    "    ]),\n",
    "])\n",
    "\n",
    "# Define the callback\n",
    "@callback(\n",
    "    Output(component_id='valuator-output', component_property='children'),\n",
    "    Input(component_id='submit-button', component_property='n_clicks'),\n",
    "    State(component_id='valuator-input', component_property='value')\n",
    ")\n",
    "def update_output_div(n_clicks, domain_prefix):\n",
    "    if n_clicks == 0:\n",
    "        return \"Please enter a domain prefix and click Submit.\"\n",
    "    \n",
    "    if not domain_prefix:\n",
    "        return \"Please enter a domain prefix.\"\n",
    "    \n",
    "    if '.' in domain_prefix:\n",
    "        return \"Invalid input. Please enter a valid domain prefix without a '.' character.\"\n",
    "    \n",
    "    domain = f\"{domain_prefix}.box\"\n",
    "    domain_df = pd.DataFrame({'domain': [domain]})\n",
    "    domain_processed = model_prep(domain_df)\n",
    "    domain_value = value_domain(domain_processed)\n",
    "    return html.Div([\n",
    "        html.Div(f'Domain: {domain}', style={'font-weight': 'bold'}),\n",
    "        html.Div(f'Estimated Value: ${round(domain_value, 2):,.2f}')\n",
    "    ])\n",
    "\n",
    "# Run the app\n",
    "if __name__ == '__main__':\n",
    "    app.run_server(debug=True)\n"
   ]
  },
  {
   "cell_type": "code",
   "execution_count": null,
   "metadata": {},
   "outputs": [],
   "source": []
  }
 ],
 "metadata": {
  "kernelspec": {
   "display_name": "box app",
   "language": "python",
   "name": "box_app"
  },
  "language_info": {
   "codemirror_mode": {
    "name": "ipython",
    "version": 3
   },
   "file_extension": ".py",
   "mimetype": "text/x-python",
   "name": "python",
   "nbconvert_exporter": "python",
   "pygments_lexer": "ipython3",
   "version": "3.11.9"
  }
 },
 "nbformat": 4,
 "nbformat_minor": 4
}
