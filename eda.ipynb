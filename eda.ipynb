{
 "cells": [
  {
   "cell_type": "markdown",
   "metadata": {},
   "source": [
    "***Can only retrieve up to 1000 data points from Flipside API***"
   ]
  },
  {
   "cell_type": "code",
   "execution_count": 201,
   "metadata": {},
   "outputs": [],
   "source": [
    "import pandas as pd\n",
    "import numpy as np \n",
    "import requests\n",
    "import json\n",
    "import time\n",
    "from flipside import Flipside\n",
    "import os\n",
    "import traceback\n",
    "from dotenv import load_dotenv\n",
    "import datetime as dt\n",
    "import plotly.express as px\n",
    "from sklearn.model_selection import train_test_split, GridSearchCV\n",
    "from sklearn.linear_model import Ridge\n",
    "from sklearn.metrics import mean_absolute_error, mean_squared_error, r2_score\n",
    "from sklearn.preprocessing import OneHotEncoder, StandardScaler\n",
    "from sklearn.compose import ColumnTransformer\n",
    "from sklearn.pipeline import Pipeline\n",
    "from sklearn.ensemble import RandomForestRegressor\n",
    "from sklearn.impute import SimpleImputer\n",
    "from xgboost import XGBRegressor\n",
    "from lightgbm import LGBMRegressor\n",
    "from catboost import CatBoostRegressor\n",
    "\n",
    "\n",
    "\n",
    "from sql.sql_scripts import mints, sales, eth_price"
   ]
  },
  {
   "cell_type": "code",
   "execution_count": 13,
   "metadata": {},
   "outputs": [
    {
     "data": {
      "text/plain": [
       "True"
      ]
     },
     "execution_count": 13,
     "metadata": {},
     "output_type": "execute_result"
    }
   ],
   "source": [
    "load_dotenv()"
   ]
  },
  {
   "cell_type": "code",
   "execution_count": 318,
   "metadata": {},
   "outputs": [],
   "source": [
    "pd.options.display.float_format = '{:,.2f}'.format\n"
   ]
  },
  {
   "cell_type": "code",
   "execution_count": 14,
   "metadata": {},
   "outputs": [
    {
     "name": "stdout",
     "output_type": "stream",
     "text": [
      "c0c9ef9df89042059cee12e5ca9197e9\n"
     ]
    }
   ],
   "source": [
    "opensea_api_key = os.getenv('opensea_api_key')\n",
    "print(opensea_api_key)"
   ]
  },
  {
   "cell_type": "markdown",
   "metadata": {},
   "source": [
    "***Listing Data***"
   ]
  },
  {
   "cell_type": "code",
   "execution_count": 15,
   "metadata": {},
   "outputs": [],
   "source": [
    "def fetch_listings(api_key, delay_between_requests=1):\n",
    "    base_url = \"https://api.opensea.io/api/v2/listings/collection/3dns-powered-domains/all\"\n",
    "    headers = {\n",
    "        \"accept\": \"application/json\",\n",
    "        \"x-api-key\": api_key\n",
    "    }\n",
    "    params = {\"limit\": 100} \n",
    "\n",
    "    listings = []\n",
    "    page_count = 0\n",
    "\n",
    "    while True:\n",
    "        response = requests.get(base_url, headers=headers, params=params)\n",
    "        if response.status_code == 200:\n",
    "            data = response.json()\n",
    "            fetched_listings = data.get(\"listings\", [])\n",
    "            listings.extend(fetched_listings)\n",
    "            page_count += 1\n",
    "            \n",
    "            # Extract and print the cursor\n",
    "            next_cursor = data.get(\"next\")\n",
    "            print(f\"Page {page_count}, Cursor: {next_cursor}, Listings Fetched: {len(fetched_listings)}\")\n",
    "            \n",
    "            if next_cursor:\n",
    "                params['next'] = next_cursor  # Update the 'next' parameter for the next request\n",
    "            else:\n",
    "                break  # No more pages to fetch\n",
    "                \n",
    "            # Implementing delay\n",
    "            time.sleep(delay_between_requests)\n",
    "            \n",
    "        else:\n",
    "            print(f\"Failed to fetch data: {response.status_code}\")\n",
    "            break\n",
    "\n",
    "    print(f\"Total pages fetched: {page_count}\")\n",
    "    print(f\"Total listings fetched: {len(listings)}\")\n",
    "    \n",
    "    df = pd.DataFrame(listings)\n",
    "    return df"
   ]
  },
  {
   "cell_type": "markdown",
   "metadata": {},
   "source": [
    "***Descriptions***"
   ]
  },
  {
   "cell_type": "code",
   "execution_count": 16,
   "metadata": {},
   "outputs": [],
   "source": [
    "def save_last_identifier(identifier):\n",
    "    with open(\"last_identifier.txt\", \"w\") as file:\n",
    "        file.write(identifier)\n",
    "\n",
    "def load_last_identifier():\n",
    "    try:\n",
    "        with open(\"last_identifier.txt\", \"r\") as file:\n",
    "            return file.read().strip()\n",
    "    except FileNotFoundError:\n",
    "        return None"
   ]
  },
  {
   "cell_type": "code",
   "execution_count": 17,
   "metadata": {},
   "outputs": [],
   "source": [
    "def fetch_all_descriptions(api_key, delay_between_requests=1):\n",
    "    base_url = \"https://api.opensea.io/api/v2/collection/3dns-powered-domains/nfts\"\n",
    "    headers = {\n",
    "        \"accept\": \"application/json\",\n",
    "        \"x-api-key\": api_key\n",
    "    }\n",
    "    params = {\"limit\": 100}\n",
    "\n",
    "    all_descriptions = []\n",
    "\n",
    "    page_count = 0\n",
    "    last_identifier = load_last_identifier()\n",
    "\n",
    "    while True:\n",
    "        if last_identifier:\n",
    "            params['last_identifier'] = last_identifier\n",
    "\n",
    "        response = requests.get(base_url, headers=headers, params=params)\n",
    "        if response.status_code == 200:\n",
    "            data = response.json()\n",
    "            fetched_descriptions = data.get(\"nfts\", [])\n",
    "            \n",
    "            if not fetched_descriptions:\n",
    "                break\n",
    "\n",
    "            # Process only name and identifier for each description\n",
    "            for description in fetched_descriptions:\n",
    "                processed_description = {\n",
    "                    \"name\": description.get('name'),\n",
    "                    \"identifier\": description.get('identifier')\n",
    "                }\n",
    "                all_descriptions.append(processed_description)\n",
    "            \n",
    "            # Update the last_identifier to the latest one fetched\n",
    "            last_identifier = fetched_descriptions[-1].get('identifier')\n",
    "            save_last_identifier(last_identifier)\n",
    "            \n",
    "            page_count += 1\n",
    "            next_cursor = data.get(\"next\")\n",
    "            print(f\"Page {page_count}, Cursor: {next_cursor} Descriptions Fetched: {len(fetched_descriptions)}, total fetched: {len(all_descriptions)}\")\n",
    "            \n",
    "            if next_cursor:\n",
    "                params['next'] = next_cursor\n",
    "            else:\n",
    "                break  # No more pages to fetch\n",
    "\n",
    "            time.sleep(delay_between_requests)\n",
    "        else:\n",
    "            print(f\"Failed to fetch data: {response.status_code}\")\n",
    "            break\n",
    "\n",
    "    print(f\"Total pages fetched: {page_count}, Total descriptions fetched: {len(all_descriptions)}\")\n",
    "    \n",
    "    # Save the processed descriptions to a file\n",
    "    df = pd.DataFrame(all_descriptions)\n",
    "    return df"
   ]
  },
  {
   "cell_type": "markdown",
   "metadata": {},
   "source": [
    "***Events***"
   ]
  },
  {
   "cell_type": "code",
   "execution_count": 18,
   "metadata": {},
   "outputs": [],
   "source": [
    "import json\n",
    "import os\n",
    "\n",
    "def save_last_timestamp(event_type, timestamp):\n",
    "    data = {}\n",
    "    if os.path.exists(\"last_timestamps.json\"):\n",
    "        with open(\"last_timestamps.json\", \"r\") as file:\n",
    "            data = json.load(file)\n",
    "    data[event_type] = timestamp\n",
    "    with open(\"last_timestamps.json\", \"w\") as file:\n",
    "        json.dump(data, file)\n",
    "\n",
    "def load_last_timestamp(event_type):\n",
    "    if os.path.exists(\"last_timestamps.json\"):\n",
    "        with open(\"last_timestamps.json\", \"r\") as file:\n",
    "            data = json.load(file)\n",
    "        return data.get(event_type, None)\n",
    "    return None"
   ]
  },
  {
   "cell_type": "code",
   "execution_count": 19,
   "metadata": {},
   "outputs": [],
   "source": [
    "def fetch_event_type(api_key, event_type, all_events, params, headers):\n",
    "    base_url = f\"https://api.opensea.io/api/v2/events/collection/3dns-powered-domains\"\n",
    "    params['event_type'] = event_type\n",
    "    \n",
    "    # Load the last timestamp/identifier\n",
    "    last_timestamp = load_last_timestamp(event_type)\n",
    "    if last_timestamp:\n",
    "        params['occurred_after'] = last_timestamp\n",
    "    \n",
    "    page_count = 0\n",
    "    while True:\n",
    "        response = requests.get(base_url, headers=headers, params=params)\n",
    "        if response.status_code == 200:\n",
    "            data = response.json()\n",
    "            fetched_events = data.get(\"asset_events\", [])\n",
    "            all_events.extend(fetched_events)\n",
    "            \n",
    "            if fetched_events:\n",
    "                # Update the last timestamp/identifier to the latest one fetched\n",
    "                last_event_time = fetched_events[-1].get(\"created_date\")\n",
    "                save_last_timestamp(event_type, last_event_time)\n",
    "            \n",
    "            page_count += 1\n",
    "            next_cursor = data.get(\"next\")\n",
    "            print(f\"Fetching {event_type}: Page {page_count}, Events Fetched: {len(fetched_events)}, Total Events: {len(all_events)}, next cursor: {next_cursor}\")\n",
    "            \n",
    "            if next_cursor:\n",
    "                params['next'] = next_cursor\n",
    "            else:\n",
    "                break  # No more pages to fetch\n",
    "\n",
    "            time.sleep(1)  # Delay between requests\n",
    "        else:\n",
    "            print(f\"Failed to fetch {event_type} data: HTTP {response.status_code}, Response: {response.text}\")\n",
    "            break\n",
    "\n",
    "def fetch_all_events(api_key):\n",
    "    headers = {\n",
    "        \"accept\": \"application/json\",\n",
    "        \"x-api-key\": api_key\n",
    "    }\n",
    "    params = {\n",
    "        \"limit\": 50  # Adjust the limit as needed\n",
    "    }\n",
    "\n",
    "    all_events = []\n",
    "\n",
    "    # Fetch listings\n",
    "    fetch_event_type(api_key, \"listing\", all_events, params.copy(), headers)\n",
    "\n",
    "    # Fetch sales\n",
    "    fetch_event_type(api_key, \"sale\", all_events, params.copy(), headers)\n",
    "\n",
    "    # Save the fetched events to a DataFrame\n",
    "    print(f\"Total events fetched: {len(all_events)}\")\n",
    "    df = pd.DataFrame(all_events)\n",
    "    return df "
   ]
  },
  {
   "cell_type": "markdown",
   "metadata": {},
   "source": [
    "***Flipside Data***"
   ]
  },
  {
   "cell_type": "code",
   "execution_count": 20,
   "metadata": {},
   "outputs": [],
   "source": [
    "flipside_api_key = os.getenv(\"FLIPSIDE_API_KEY\")\n",
    "flipside = Flipside(flipside_api_key, \"https://api-v2.flipsidecrypto.xyz\")"
   ]
  },
  {
   "cell_type": "code",
   "execution_count": 21,
   "metadata": {},
   "outputs": [],
   "source": [
    "def flipside_api_results(query):\n",
    "  query_result_set = flipside.query(query)\n",
    "  # what page are we starting on?\n",
    "  current_page_number = 1\n",
    "\n",
    "  # How many records do we want to return in the page?\n",
    "  page_size = 1000\n",
    "\n",
    "  # set total pages to 1 higher than the `current_page_number` until\n",
    "  # we receive the total pages from `get_query_results` given the \n",
    "  # provided `page_size` (total_pages is dynamically determined by the API \n",
    "  # based on the `page_size` you provide)\n",
    "\n",
    "  total_pages = 2\n",
    "\n",
    "\n",
    "  # we'll store all the page results in `all_rows`\n",
    "  all_rows = []\n",
    "\n",
    "  while current_page_number <= total_pages:\n",
    "    results = flipside.get_query_results(\n",
    "      query_result_set.query_id,\n",
    "      page_number=current_page_number,\n",
    "      page_size=page_size\n",
    "    )\n",
    "\n",
    "    total_pages = results.page.totalPages\n",
    "    if results.records:\n",
    "        all_rows = all_rows + results.records\n",
    "    \n",
    "    current_page_number += 1\n",
    "\n",
    "  return pd.DataFrame(all_rows)"
   ]
  },
  {
   "cell_type": "markdown",
   "metadata": {},
   "source": [
    "query_result_set = flipside.query(sales)"
   ]
  },
  {
   "cell_type": "markdown",
   "metadata": {},
   "source": [
    "# what page are we starting on?\n",
    "current_page_number = 1\n",
    "\n",
    "# How many records do we want to return in the page?\n",
    "page_size = 1000\n",
    "\n",
    "# set total pages to 1 higher than the `current_page_number` until\n",
    "# we receive the total pages from `get_query_results` given the \n",
    "# provided `page_size` (total_pages is dynamically determined by the API \n",
    "# based on the `page_size` you provide)\n",
    "total_pages = 2\n",
    "\n",
    "# we'll store all the page results in `all_rows`\n",
    "all_rows = []\n",
    "\n",
    "while current_page_number <= total_pages:\n",
    "  results = flipside.get_query_results(\n",
    "    query_result_set.query_id,\n",
    "    page_number=current_page_number,\n",
    "    page_size=page_size\n",
    "  )\n",
    "\n",
    "  total_pages = results.page.totalPages\n",
    "  if results.records:\n",
    "      all_rows = all_rows + results.records\n",
    "  \n",
    "  current_page_number += 1"
   ]
  },
  {
   "cell_type": "markdown",
   "metadata": {},
   "source": [
    "mints_df = pd.DataFrame(all_rows)"
   ]
  },
  {
   "cell_type": "markdown",
   "metadata": {},
   "source": [
    "\n",
    "\n",
    "def createQueryRun(sql):\n",
    "    url = \"https://api-v2.flipsidecrypto.xyz/json-rpc\"\n",
    "    payload = json.dumps({\n",
    "        \"jsonrpc\": \"2.0\",\n",
    "        \"method\": \"createQueryRun\",\n",
    "        \"params\": [{\n",
    "            \"resultTTLHours\": 1,\n",
    "            \"maxAgeMinutes\": 0,\n",
    "            \"sql\": sql,\n",
    "            \"tags\": {\"source\": \"streamlit-demo\", \"env\": \"test\"},\n",
    "            \"dataSource\": \"snowflake-default\",\n",
    "            \"dataProvider\": \"flipside\"\n",
    "        }],\n",
    "        \"id\": 1\n",
    "    })\n",
    "    headers = {'Content-Type': 'application/json', 'x-api-key': flipside_api_key}\n",
    "    response = requests.post(url, headers=headers, data=payload)\n",
    "    response_data = response.json()\n",
    "\n",
    "    # Check for errors in the response\n",
    "    if 'error' in response_data:\n",
    "        error_message = response_data['error'].get('message', 'No error message provided')\n",
    "        print(\"Full response data for debugging:\", response_data)\n",
    "        raise Exception(f\"Error: {error_message}\")\n",
    "\n",
    "    if 'result' not in response_data or 'queryRun' not in response_data['result'] or 'id' not in response_data['result']['queryRun']:\n",
    "        print(\"Unexpected response structure:\", response_data)\n",
    "        raise Exception(\"Unexpected response structure\")\n",
    "\n",
    "    query_run_id = response_data['result']['queryRun']['id']\n",
    "    return response_data, query_run_id\n",
    "\n",
    "#@st.cache_data(ttl='15m')\n",
    "def getQueryResults(query_run_id, attempts=10, delay=30):\n",
    "    url = \"https://api-v2.flipsidecrypto.xyz/json-rpc\"\n",
    "    payload = json.dumps({\n",
    "        \"jsonrpc\": \"2.0\",\n",
    "        \"method\": \"getQueryRunResults\",\n",
    "        \"params\": [{\"queryRunId\": query_run_id, \"format\": \"json\", \"page\": {\"number\": 1, \"size\": 10000}}],\n",
    "        \"id\": 1\n",
    "    })\n",
    "    headers = {'Content-Type': 'application/json', 'x-api-key': flipside_api_key}\n",
    "\n",
    "    for attempt in range(attempts):\n",
    "        response = requests.post(url, headers=headers, data=payload)\n",
    "        resp_json = response.json()\n",
    "        if 'result' in resp_json:\n",
    "            return resp_json  # Data is ready\n",
    "        elif 'error' in resp_json and 'message' in resp_json['error'] and 'not yet completed' in resp_json['error']['message']:\n",
    "            time.sleep(delay)  # Wait for a bit before retrying\n",
    "        else:\n",
    "            print(\"Unexpected response or error:\", resp_json)\n",
    "            break  # Break on unexpected error\n",
    "    return None  # Return None if data isn't ready after all attempts\n"
   ]
  },
  {
   "cell_type": "markdown",
   "metadata": {},
   "source": [
    "def retrieve_flipside_data(query):\n",
    "    try:\n",
    "        response_data, q_id = createQueryRun(query)\n",
    "        if q_id:\n",
    "            df_json = getQueryResults(q_id)\n",
    "            if df_json:\n",
    "                df = pd.DataFrame(df_json['result']['rows'])\n",
    "                print(f\"data fetched: {df.head()}\")\n",
    "                return df\n",
    "            else:\n",
    "                print('Failed to get results')\n",
    "        else:\n",
    "            print('Failed to create query run')\n",
    "    except Exception as e:\n",
    "        print(f\"Error in fetching data: {e}\")\n",
    "        traceback.print_exc()\n",
    "    "
   ]
  },
  {
   "cell_type": "markdown",
   "metadata": {},
   "source": [
    "***Data Retrieval/Processing***"
   ]
  },
  {
   "cell_type": "code",
   "execution_count": 22,
   "metadata": {},
   "outputs": [],
   "source": [
    "mint_df = flipside_api_results(mints)"
   ]
  },
  {
   "cell_type": "code",
   "execution_count": 23,
   "metadata": {},
   "outputs": [
    {
     "data": {
      "text/html": [
       "<div>\n",
       "<style scoped>\n",
       "    .dataframe tbody tr th:only-of-type {\n",
       "        vertical-align: middle;\n",
       "    }\n",
       "\n",
       "    .dataframe tbody tr th {\n",
       "        vertical-align: top;\n",
       "    }\n",
       "\n",
       "    .dataframe thead th {\n",
       "        text-align: right;\n",
       "    }\n",
       "</style>\n",
       "<table border=\"1\" class=\"dataframe\">\n",
       "  <thead>\n",
       "    <tr style=\"text-align: right;\">\n",
       "      <th></th>\n",
       "      <th>day</th>\n",
       "      <th>tokenid</th>\n",
       "      <th>tx_hash</th>\n",
       "      <th>__row_index</th>\n",
       "    </tr>\n",
       "  </thead>\n",
       "  <tbody>\n",
       "    <tr>\n",
       "      <th>0</th>\n",
       "      <td>2024-07-05T20:00:00.000Z</td>\n",
       "      <td>8.985197e+76</td>\n",
       "      <td>0x23a609ddf25089081798088ca8c5714be7b76d58ebf5...</td>\n",
       "      <td>0</td>\n",
       "    </tr>\n",
       "    <tr>\n",
       "      <th>1</th>\n",
       "      <td>2024-07-05T20:00:00.000Z</td>\n",
       "      <td>8.985197e+76</td>\n",
       "      <td>0x23a609ddf25089081798088ca8c5714be7b76d58ebf5...</td>\n",
       "      <td>1</td>\n",
       "    </tr>\n",
       "    <tr>\n",
       "      <th>2</th>\n",
       "      <td>2024-07-05T20:00:00.000Z</td>\n",
       "      <td>6.778101e+76</td>\n",
       "      <td>0xe8c87f0320802853e22ead69cef537c3fa80d5b9370c...</td>\n",
       "      <td>2</td>\n",
       "    </tr>\n",
       "    <tr>\n",
       "      <th>3</th>\n",
       "      <td>2024-07-05T20:00:00.000Z</td>\n",
       "      <td>6.778101e+76</td>\n",
       "      <td>0xe8c87f0320802853e22ead69cef537c3fa80d5b9370c...</td>\n",
       "      <td>3</td>\n",
       "    </tr>\n",
       "    <tr>\n",
       "      <th>4</th>\n",
       "      <td>2024-07-05T16:00:00.000Z</td>\n",
       "      <td>1.013928e+77</td>\n",
       "      <td>0x388ad6ef8ededcf3b310ddbf8c84ccaa2e835afd4b7a...</td>\n",
       "      <td>4</td>\n",
       "    </tr>\n",
       "    <tr>\n",
       "      <th>...</th>\n",
       "      <td>...</td>\n",
       "      <td>...</td>\n",
       "      <td>...</td>\n",
       "      <td>...</td>\n",
       "    </tr>\n",
       "    <tr>\n",
       "      <th>32667</th>\n",
       "      <td>2023-10-04T02:00:00.000Z</td>\n",
       "      <td>7.307980e+76</td>\n",
       "      <td>0x981dd9c93e0419a227128b7ee95c620e7dbc88fe92e8...</td>\n",
       "      <td>32667</td>\n",
       "    </tr>\n",
       "    <tr>\n",
       "      <th>32668</th>\n",
       "      <td>2023-10-04T02:00:00.000Z</td>\n",
       "      <td>9.704968e+76</td>\n",
       "      <td>0xd7ece008b97cad61f02396def394751c3fa9a4c2844a...</td>\n",
       "      <td>32668</td>\n",
       "    </tr>\n",
       "    <tr>\n",
       "      <th>32669</th>\n",
       "      <td>2023-10-04T02:00:00.000Z</td>\n",
       "      <td>9.704968e+76</td>\n",
       "      <td>0xd7ece008b97cad61f02396def394751c3fa9a4c2844a...</td>\n",
       "      <td>32669</td>\n",
       "    </tr>\n",
       "    <tr>\n",
       "      <th>32670</th>\n",
       "      <td>2023-10-04T02:00:00.000Z</td>\n",
       "      <td>7.787567e+76</td>\n",
       "      <td>0x64f70f46174e15001ff109ce325f9d0e0d7a571a22ed...</td>\n",
       "      <td>32670</td>\n",
       "    </tr>\n",
       "    <tr>\n",
       "      <th>32671</th>\n",
       "      <td>2023-10-04T02:00:00.000Z</td>\n",
       "      <td>7.787567e+76</td>\n",
       "      <td>0x64f70f46174e15001ff109ce325f9d0e0d7a571a22ed...</td>\n",
       "      <td>32671</td>\n",
       "    </tr>\n",
       "  </tbody>\n",
       "</table>\n",
       "<p>32672 rows × 4 columns</p>\n",
       "</div>"
      ],
      "text/plain": [
       "                            day       tokenid  \\\n",
       "0      2024-07-05T20:00:00.000Z  8.985197e+76   \n",
       "1      2024-07-05T20:00:00.000Z  8.985197e+76   \n",
       "2      2024-07-05T20:00:00.000Z  6.778101e+76   \n",
       "3      2024-07-05T20:00:00.000Z  6.778101e+76   \n",
       "4      2024-07-05T16:00:00.000Z  1.013928e+77   \n",
       "...                         ...           ...   \n",
       "32667  2023-10-04T02:00:00.000Z  7.307980e+76   \n",
       "32668  2023-10-04T02:00:00.000Z  9.704968e+76   \n",
       "32669  2023-10-04T02:00:00.000Z  9.704968e+76   \n",
       "32670  2023-10-04T02:00:00.000Z  7.787567e+76   \n",
       "32671  2023-10-04T02:00:00.000Z  7.787567e+76   \n",
       "\n",
       "                                                 tx_hash  __row_index  \n",
       "0      0x23a609ddf25089081798088ca8c5714be7b76d58ebf5...            0  \n",
       "1      0x23a609ddf25089081798088ca8c5714be7b76d58ebf5...            1  \n",
       "2      0xe8c87f0320802853e22ead69cef537c3fa80d5b9370c...            2  \n",
       "3      0xe8c87f0320802853e22ead69cef537c3fa80d5b9370c...            3  \n",
       "4      0x388ad6ef8ededcf3b310ddbf8c84ccaa2e835afd4b7a...            4  \n",
       "...                                                  ...          ...  \n",
       "32667  0x981dd9c93e0419a227128b7ee95c620e7dbc88fe92e8...        32667  \n",
       "32668  0xd7ece008b97cad61f02396def394751c3fa9a4c2844a...        32668  \n",
       "32669  0xd7ece008b97cad61f02396def394751c3fa9a4c2844a...        32669  \n",
       "32670  0x64f70f46174e15001ff109ce325f9d0e0d7a571a22ed...        32670  \n",
       "32671  0x64f70f46174e15001ff109ce325f9d0e0d7a571a22ed...        32671  \n",
       "\n",
       "[32672 rows x 4 columns]"
      ]
     },
     "execution_count": 23,
     "metadata": {},
     "output_type": "execute_result"
    }
   ],
   "source": [
    "mint_df"
   ]
  },
  {
   "cell_type": "code",
   "execution_count": 24,
   "metadata": {},
   "outputs": [],
   "source": [
    "sales_df = flipside_api_results(sales)"
   ]
  },
  {
   "cell_type": "code",
   "execution_count": 25,
   "metadata": {},
   "outputs": [],
   "source": [
    "eth_usd_df = flipside_api_results(eth_price)"
   ]
  },
  {
   "cell_type": "code",
   "execution_count": 422,
   "metadata": {},
   "outputs": [
    {
     "name": "stdout",
     "output_type": "stream",
     "text": [
      "Fetching listing: Page 1, Events Fetched: 50, Total Events: 50, next cursor: LWV2ZW50X3RpbWVzdGFtcD0yMDI0LTA2LTI5KzIxJTNBMzQlM0ExNi43MTU4OTMmLWV2ZW50X3R5cGU9Y3JlYXRlZCYtcGs9MjM4OTI3NTUxNjk=\n",
      "Fetching listing: Page 2, Events Fetched: 50, Total Events: 100, next cursor: LWV2ZW50X3RpbWVzdGFtcD0yMDI0LTA2LTI0KzIzJTNBNTElM0E0OC4yNTk5NzQmLWV2ZW50X3R5cGU9Y3JlYXRlZCYtcGs9MjM3NTc0NjYwNDY=\n",
      "Fetching listing: Page 3, Events Fetched: 50, Total Events: 150, next cursor: LWV2ZW50X3RpbWVzdGFtcD0yMDI0LTA2LTIyKzE0JTNBNTklM0EzNy43NjU0MDkmLWV2ZW50X3R5cGU9Y3JlYXRlZCYtcGs9MjM2ODkwMzU4MTA=\n",
      "Fetching listing: Page 4, Events Fetched: 50, Total Events: 200, next cursor: LWV2ZW50X3RpbWVzdGFtcD0yMDI0LTA2LTIyKzEyJTNBNTklM0EyNS4zODMxNjAmLWV2ZW50X3R5cGU9Y3JlYXRlZCYtcGs9MjM2ODY2ODk4OTA=\n",
      "Fetching listing: Page 5, Events Fetched: 50, Total Events: 250, next cursor: LWV2ZW50X3RpbWVzdGFtcD0yMDI0LTA2LTE4KzE2JTNBNDUlM0EyNS40MzcxMTUmLWV2ZW50X3R5cGU9Y3JlYXRlZCYtcGs9MjM1ODU4MTMwMTk=\n",
      "Fetching listing: Page 6, Events Fetched: 50, Total Events: 300, next cursor: LWV2ZW50X3RpbWVzdGFtcD0yMDI0LTA2LTE0KzEwJTNBNDMlM0EwNS4wMTUyNjcmLWV2ZW50X3R5cGU9Y3JlYXRlZCYtcGs9MjM0NjAwMzEwOTE=\n",
      "Fetching listing: Page 7, Events Fetched: 50, Total Events: 350, next cursor: LWV2ZW50X3RpbWVzdGFtcD0yMDI0LTA2LTExKzAzJTNBMDklM0EyMi40MjU3NjYmLWV2ZW50X3R5cGU9Y3JlYXRlZCYtcGs9MjMzNjE0MTM0MTY=\n",
      "Fetching listing: Page 8, Events Fetched: 50, Total Events: 400, next cursor: LWV2ZW50X3RpbWVzdGFtcD0yMDI0LTA2LTA3KzE2JTNBMDMlM0EwOS41OTYxNDEmLWV2ZW50X3R5cGU9Y3JlYXRlZCYtcGs9MjMyNTYwNDgxMzU=\n",
      "Fetching listing: Page 9, Events Fetched: 50, Total Events: 450, next cursor: LWV2ZW50X3RpbWVzdGFtcD0yMDI0LTA2LTAzKzEzJTNBMjclM0E0My4zNjk1NDgmLWV2ZW50X3R5cGU9Y3JlYXRlZCYtcGs9MjMxMjg0MjcwMjA=\n",
      "Fetching listing: Page 10, Events Fetched: 50, Total Events: 500, next cursor: LWV2ZW50X3RpbWVzdGFtcD0yMDI0LTA1LTI5KzEyJTNBMjclM0EwNi41NjU1NDgmLWV2ZW50X3R5cGU9Y3JlYXRlZCYtcGs9MjI5OTc1ODgwNjA=\n",
      "Fetching listing: Page 11, Events Fetched: 50, Total Events: 550, next cursor: LWV2ZW50X3RpbWVzdGFtcD0yMDI0LTA1LTI4KzA2JTNBMjUlM0ExMC45MjE4MjkmLWV2ZW50X3R5cGU9Y3JlYXRlZCYtcGs9MjI5NjQ4MjAyNjU=\n",
      "Fetching listing: Page 12, Events Fetched: 50, Total Events: 600, next cursor: LWV2ZW50X3RpbWVzdGFtcD0yMDI0LTA1LTI0KzAyJTNBNDglM0ExOS42NTUxMDImLWV2ZW50X3R5cGU9Y3JlYXRlZCYtcGs9MjI4NTU5NTY4NDk=\n",
      "Fetching listing: Page 13, Events Fetched: 50, Total Events: 650, next cursor: LWV2ZW50X3RpbWVzdGFtcD0yMDI0LTA1LTIxKzIyJTNBNDIlM0EwNC42NDI3NTUmLWV2ZW50X3R5cGU9Y3JlYXRlZCYtcGs9MjI3OTkwMzQ3MDA=\n",
      "Fetching listing: Page 14, Events Fetched: 50, Total Events: 700, next cursor: LWV2ZW50X3RpbWVzdGFtcD0yMDI0LTA1LTE3KzE5JTNBNTclM0E1OS43NDgzNTUmLWV2ZW50X3R5cGU9Y3JlYXRlZCYtcGs9MjI2Nzk1NTY0Nzk=\n",
      "Fetching listing: Page 15, Events Fetched: 50, Total Events: 750, next cursor: LWV2ZW50X3RpbWVzdGFtcD0yMDI0LTA1LTE1KzEwJTNBMTElM0EzMC44Mzc5NTMmLWV2ZW50X3R5cGU9Y3JlYXRlZCYtcGs9MjI2MTMwNTk3NjQ=\n",
      "Fetching listing: Page 16, Events Fetched: 50, Total Events: 800, next cursor: LWV2ZW50X3RpbWVzdGFtcD0yMDI0LTA1LTEyKzEwJTNBMzglM0EwMy4yNzY0NDcmLWV2ZW50X3R5cGU9Y3JlYXRlZCYtcGs9MjI1MzA5MzQyNTA=\n",
      "Fetching listing: Page 17, Events Fetched: 50, Total Events: 850, next cursor: LWV2ZW50X3RpbWVzdGFtcD0yMDI0LTA1LTExKzE3JTNBMzAlM0E1MS42NjgzMDUmLWV2ZW50X3R5cGU9Y3JlYXRlZCYtcGs9MjI1MDk1NDk3NzI=\n",
      "Fetching listing: Page 18, Events Fetched: 50, Total Events: 900, next cursor: LWV2ZW50X3RpbWVzdGFtcD0yMDI0LTA1LTA5KzE5JTNBMDMlM0ExMi4xNTYxNjgmLWV2ZW50X3R5cGU9Y3JlYXRlZCYtcGs9MjI0NDkyNjk4MDk=\n",
      "Fetching listing: Page 19, Events Fetched: 50, Total Events: 950, next cursor: LWV2ZW50X3RpbWVzdGFtcD0yMDI0LTA1LTA3KzE3JTNBNTglM0E0NS43NTc3NzMmLWV2ZW50X3R5cGU9Y3JlYXRlZCYtcGs9MjIzODY2Mjc0MjI=\n",
      "Fetching listing: Page 20, Events Fetched: 50, Total Events: 1000, next cursor: LWV2ZW50X3RpbWVzdGFtcD0yMDI0LTA1LTA2KzE5JTNBMTAlM0EzMS4zODAxMDEmLWV2ZW50X3R5cGU9Y3JlYXRlZCYtcGs9MjIzNTc3NjkwNDk=\n",
      "Fetching listing: Page 21, Events Fetched: 50, Total Events: 1050, next cursor: LWV2ZW50X3RpbWVzdGFtcD0yMDI0LTA1LTA2KzAyJTNBNDIlM0E0Mi4yOTI1NjMmLWV2ZW50X3R5cGU9Y3JlYXRlZCYtcGs9MjIzMzY4Mzk2OTA=\n",
      "Fetching listing: Page 22, Events Fetched: 50, Total Events: 1100, next cursor: LWV2ZW50X3RpbWVzdGFtcD0yMDI0LTA1LTAzKzIxJTNBNTIlM0E1NC42MDIxMjQmLWV2ZW50X3R5cGU9Y3JlYXRlZCYtcGs9MjIyNjY0OTMwMzA=\n",
      "Fetching listing: Page 23, Events Fetched: 50, Total Events: 1150, next cursor: LWV2ZW50X3RpbWVzdGFtcD0yMDI0LTA1LTAyKzE4JTNBNDclM0E0OS43ODM0OTgmLWV2ZW50X3R5cGU9Y3JlYXRlZCYtcGs9MjIyMzI4NDkwMjk=\n",
      "Fetching listing: Page 24, Events Fetched: 50, Total Events: 1200, next cursor: LWV2ZW50X3RpbWVzdGFtcD0yMDI0LTA1LTAxKzE3JTNBNDAlM0E0Ny42MDIyOTQmLWV2ZW50X3R5cGU9Y3JlYXRlZCYtcGs9MjIyMDI1NjcyMzE=\n",
      "Fetching listing: Page 25, Events Fetched: 50, Total Events: 1250, next cursor: LWV2ZW50X3RpbWVzdGFtcD0yMDI0LTA0LTMwKzEzJTNBNDAlM0E1OS4wMTUyMzMmLWV2ZW50X3R5cGU9Y3JlYXRlZCYtcGs9MjIxNjcwMDQ0OTY=\n",
      "Fetching listing: Page 26, Events Fetched: 50, Total Events: 1300, next cursor: LWV2ZW50X3RpbWVzdGFtcD0yMDI0LTA0LTI5KzA5JTNBMTYlM0E1MC4yOTQ0MzYmLWV2ZW50X3R5cGU9Y3JlYXRlZCYtcGs9MjIxMzMxMDE2ODQ=\n",
      "Fetching listing: Page 27, Events Fetched: 50, Total Events: 1350, next cursor: LWV2ZW50X3RpbWVzdGFtcD0yMDI0LTA0LTI4KzEyJTNBMjIlM0ExNy4yNjgyMjgmLWV2ZW50X3R5cGU9Y3JlYXRlZCYtcGs9MjIxMDc4MDA1NDk=\n",
      "Fetching listing: Page 28, Events Fetched: 50, Total Events: 1400, next cursor: LWV2ZW50X3RpbWVzdGFtcD0yMDI0LTA0LTI4KzA4JTNBMzQlM0EzNi42MDQ1ODQmLWV2ZW50X3R5cGU9Y3JlYXRlZCYtcGs9MjIxMDI5MDY4ODY=\n",
      "Fetching listing: Page 29, Events Fetched: 50, Total Events: 1450, next cursor: LWV2ZW50X3RpbWVzdGFtcD0yMDI0LTA0LTI3KzIyJTNBMjElM0EzNy4yODA4NzkmLWV2ZW50X3R5cGU9Y3JlYXRlZCYtcGs9MjIwODk2MjI4NjU=\n",
      "Fetching listing: Page 30, Events Fetched: 50, Total Events: 1500, next cursor: LWV2ZW50X3RpbWVzdGFtcD0yMDI0LTA0LTI2KzE2JTNBNTQlM0EyNy4yMzE2MTUmLWV2ZW50X3R5cGU9Y3JlYXRlZCYtcGs9MjIwNTMxODY3MzI=\n",
      "Fetching listing: Page 31, Events Fetched: 50, Total Events: 1550, next cursor: LWV2ZW50X3RpbWVzdGFtcD0yMDI0LTA0LTI0KzA4JTNBMjYlM0E1MC4zMDA1MzImLWV2ZW50X3R5cGU9Y3JlYXRlZCYtcGs9MjE5ODg4NTM1MzM=\n",
      "Fetching listing: Page 32, Events Fetched: 50, Total Events: 1600, next cursor: LWV2ZW50X3RpbWVzdGFtcD0yMDI0LTA0LTE3KzAzJTNBNTclM0EyOC44NzcxODMmLWV2ZW50X3R5cGU9Y3JlYXRlZCYtcGs9MjE3NzY2NDE3NDA=\n",
      "Fetching listing: Page 33, Events Fetched: 50, Total Events: 1650, next cursor: LWV2ZW50X3RpbWVzdGFtcD0yMDI0LTA0LTA5KzA5JTNBMzAlM0EwMi41NDM0OTUmLWV2ZW50X3R5cGU9Y3JlYXRlZCYtcGs9MjE1NjM2MjQ5NjY=\n",
      "Fetching listing: Page 34, Events Fetched: 50, Total Events: 1700, next cursor: LWV2ZW50X3RpbWVzdGFtcD0yMDI0LTA0LTAzKzAyJTNBMTMlM0ExNC4wMTUxMjkmLWV2ZW50X3R5cGU9Y3JlYXRlZCYtcGs9MjEzODc5NDkzODM=\n",
      "Fetching listing: Page 35, Events Fetched: 50, Total Events: 1750, next cursor: LWV2ZW50X3RpbWVzdGFtcD0yMDI0LTAzLTI1KzE4JTNBMzAlM0E1MC40MDAwNjImLWV2ZW50X3R5cGU9Y3JlYXRlZCYtcGs9MjExNzcwNjczNTY=\n",
      "Fetching listing: Page 36, Events Fetched: 50, Total Events: 1800, next cursor: LWV2ZW50X3RpbWVzdGFtcD0yMDI0LTAzLTE3KzA1JTNBMzclM0E0MC42MzY0NzYmLWV2ZW50X3R5cGU9Y3JlYXRlZCYtcGs9MjA5NzQxMTA5MDA=\n",
      "Fetching listing: Page 37, Events Fetched: 50, Total Events: 1850, next cursor: LWV2ZW50X3RpbWVzdGFtcD0yMDI0LTAzLTEwKzIxJTNBMTYlM0E0OC40NzQ4MzImLWV2ZW50X3R5cGU9Y3JlYXRlZCYtcGs9MjA4MzY2MTgwMTM=\n",
      "Fetching listing: Page 38, Events Fetched: 50, Total Events: 1900, next cursor: LWV2ZW50X3RpbWVzdGFtcD0yMDI0LTAzLTA1KzE1JTNBMjglM0E0Mi44MTYxMTYmLWV2ZW50X3R5cGU9Y3JlYXRlZCYtcGs9MjA3MjEzOTI1MzU=\n",
      "Fetching listing: Page 39, Events Fetched: 50, Total Events: 1950, next cursor: LWV2ZW50X3RpbWVzdGFtcD0yMDI0LTAyLTI4KzE5JTNBMTElM0E1Mi40MDg0MDkmLWV2ZW50X3R5cGU9Y3JlYXRlZCYtcGs9MjA1ODIyNTI5NzM=\n",
      "Fetching listing: Page 40, Events Fetched: 50, Total Events: 2000, next cursor: LWV2ZW50X3RpbWVzdGFtcD0yMDI0LTAyLTI1KzA5JTNBMTElM0EyMi44MDk0MDAmLWV2ZW50X3R5cGU9Y3JlYXRlZCYtcGs9MjA0ODk4MDYzOTA=\n",
      "Fetching listing: Page 41, Events Fetched: 50, Total Events: 2050, next cursor: LWV2ZW50X3RpbWVzdGFtcD0yMDI0LTAyLTIyKzE2JTNBMzElM0E1NS4yMzk5NjAmLWV2ZW50X3R5cGU9Y3JlYXRlZCYtcGs9MjA0MzUwNzEzMTQ=\n",
      "Fetching listing: Page 42, Events Fetched: 50, Total Events: 2100, next cursor: LWV2ZW50X3RpbWVzdGFtcD0yMDI0LTAyLTE3KzE2JTNBMjQlM0EzNS43MTExMjImLWV2ZW50X3R5cGU9Y3JlYXRlZCYtcGs9MjAyOTIwMjk5NzE=\n",
      "Fetching listing: Page 43, Events Fetched: 50, Total Events: 2150, next cursor: LWV2ZW50X3RpbWVzdGFtcD0yMDI0LTAyLTE0KzExJTNBNTYlM0EwOS4wMDY2MDEmLWV2ZW50X3R5cGU9Y3JlYXRlZCYtcGs9MjAxODUxMzM0ODk=\n",
      "Fetching listing: Page 44, Events Fetched: 50, Total Events: 2200, next cursor: LWV2ZW50X3RpbWVzdGFtcD0yMDI0LTAyLTEyKzEzJTNBNDclM0EyNi4zNDA0NjAmLWV2ZW50X3R5cGU9Y3JlYXRlZCYtcGs9MjAxMjIzMTg3NTU=\n",
      "Fetching listing: Page 45, Events Fetched: 50, Total Events: 2250, next cursor: LWV2ZW50X3RpbWVzdGFtcD0yMDI0LTAyLTEwKzEyJTNBMTklM0EzOS4wMDc4OTEmLWV2ZW50X3R5cGU9Y3JlYXRlZCYtcGs9MjAwNTUzNjU4MDM=\n",
      "Fetching listing: Page 46, Events Fetched: 50, Total Events: 2300, next cursor: LWV2ZW50X3RpbWVzdGFtcD0yMDI0LTAyLTA4KzEwJTNBMDUlM0ExOS4yNjcxOTImLWV2ZW50X3R5cGU9Y3JlYXRlZCYtcGs9MTk5ODUwNTMwMzI=\n",
      "Fetching listing: Page 47, Events Fetched: 50, Total Events: 2350, next cursor: LWV2ZW50X3RpbWVzdGFtcD0yMDI0LTAyLTA3KzA1JTNBMjElM0EwMy4xODA2NDgmLWV2ZW50X3R5cGU9Y3JlYXRlZCYtcGs9MTk5NDE4ODYxNDM=\n",
      "Fetching listing: Page 48, Events Fetched: 50, Total Events: 2400, next cursor: LWV2ZW50X3RpbWVzdGFtcD0yMDI0LTAyLTA2KzA5JTNBNTclM0E0NS4zNzYwOTgmLWV2ZW50X3R5cGU9Y3JlYXRlZCYtcGs9MTk5MTI4NzIzMDQ=\n",
      "Fetching listing: Page 49, Events Fetched: 50, Total Events: 2450, next cursor: LWV2ZW50X3RpbWVzdGFtcD0yMDI0LTAyLTA0KzIwJTNBMTElM0EwMi4yMjc3ODcmLWV2ZW50X3R5cGU9Y3JlYXRlZCYtcGs9MTk4NTgzOTQ4MTg=\n",
      "Fetching listing: Page 50, Events Fetched: 50, Total Events: 2500, next cursor: LWV2ZW50X3RpbWVzdGFtcD0yMDI0LTAyLTAxKzA2JTNBNDUlM0ExMC4xMjMyMDMmLWV2ZW50X3R5cGU9Y3JlYXRlZCYtcGs9MTk3MzczOTEwNzE=\n",
      "Fetching listing: Page 51, Events Fetched: 50, Total Events: 2550, next cursor: LWV2ZW50X3RpbWVzdGFtcD0yMDI0LTAxLTMwKzA1JTNBMjUlM0E1NS44MzY1NjcmLWV2ZW50X3R5cGU9Y3JlYXRlZCYtcGs9MTk2NjY4ODA3ODc=\n",
      "Fetching listing: Page 52, Events Fetched: 50, Total Events: 2600, next cursor: LWV2ZW50X3RpbWVzdGFtcD0yMDI0LTAxLTI3KzA3JTNBMDMlM0EyMS43OTgwNjcmLWV2ZW50X3R5cGU9Y3JlYXRlZCYtcGs9MTk1NTcyNjQ0NzA=\n",
      "Fetching listing: Page 53, Events Fetched: 50, Total Events: 2650, next cursor: LWV2ZW50X3RpbWVzdGFtcD0yMDI0LTAxLTI2KzAxJTNBMTMlM0ExNC42OTY5MzQmLWV2ZW50X3R5cGU9Y3JlYXRlZCYtcGs9MTk1MTM4ODI5NjQ=\n",
      "Fetching listing: Page 54, Events Fetched: 50, Total Events: 2700, next cursor: LWV2ZW50X3RpbWVzdGFtcD0yMDI0LTAxLTI1KzA3JTNBNTglM0E1NC43MDYyNTcmLWV2ZW50X3R5cGU9Y3JlYXRlZCYtcGs9MTk0ODg1NDY0NTE=\n",
      "Fetching listing: Page 55, Events Fetched: 50, Total Events: 2750, next cursor: LWV2ZW50X3RpbWVzdGFtcD0yMDI0LTAxLTI0KzE5JTNBMjMlM0ExMi41NDU5NzImLWV2ZW50X3R5cGU9Y3JlYXRlZCYtcGs9MTk0Njk5NTMxNDg=\n",
      "Fetching listing: Page 56, Events Fetched: 50, Total Events: 2800, next cursor: LWV2ZW50X3RpbWVzdGFtcD0yMDI0LTAxLTIyKzE2JTNBNDMlM0ExMi44NTgwNzMmLWV2ZW50X3R5cGU9Y3JlYXRlZCYtcGs9MTkzOTU2ODg0NTY=\n",
      "Fetching listing: Page 57, Events Fetched: 39, Total Events: 2839, next cursor: \n",
      "Fetching sale: Page 1, Events Fetched: 50, Total Events: 2889, next cursor: LWV2ZW50X3RpbWVzdGFtcD0yMDI0LTAzLTE4KzA4JTNBMzclM0EzNyYtZXZlbnRfdHlwZT1zdWNjZXNzZnVsJi1waz0yMDk5NjU2MzI1Nw==\n",
      "Fetching sale: Page 2, Events Fetched: 39, Total Events: 2928, next cursor: \n",
      "Total events fetched: 2928\n"
     ]
    }
   ],
   "source": [
    "events_df = fetch_all_events(api_key= opensea_api_key)"
   ]
  },
  {
   "cell_type": "code",
   "execution_count": 27,
   "metadata": {},
   "outputs": [
    {
     "name": "stdout",
     "output_type": "stream",
     "text": [
      "Page 1, Cursor: LXBrPTE4OTc4MTE2ODE= Descriptions Fetched: 100, total fetched: 100\n",
      "Page 2, Cursor: LXBrPTE4ODczNDUxNjg= Descriptions Fetched: 100, total fetched: 200\n",
      "Page 3, Cursor: LXBrPTE4NzgxNDU2MzE= Descriptions Fetched: 100, total fetched: 300\n",
      "Page 4, Cursor: LXBrPTE4NjkzMDk1ODA= Descriptions Fetched: 100, total fetched: 400\n",
      "Page 5, Cursor: LXBrPTE4NjIzMTEwNDg= Descriptions Fetched: 100, total fetched: 500\n",
      "Page 6, Cursor: LXBrPTE4NTA5MDM1ODA= Descriptions Fetched: 100, total fetched: 600\n",
      "Page 7, Cursor: LXBrPTE4NDA5MzA5NTQ= Descriptions Fetched: 100, total fetched: 700\n",
      "Page 8, Cursor: LXBrPTE4MzcwMTczNzA= Descriptions Fetched: 100, total fetched: 800\n",
      "Page 9, Cursor: LXBrPTE4MzQzODYyMDI= Descriptions Fetched: 100, total fetched: 900\n",
      "Page 10, Cursor: LXBrPTE4MzA4MDQwNjA= Descriptions Fetched: 100, total fetched: 1000\n",
      "Page 11, Cursor: LXBrPTE4Mjc3NTEwMDU= Descriptions Fetched: 100, total fetched: 1100\n",
      "Page 12, Cursor: LXBrPTE4MjQ4NzY3ODA= Descriptions Fetched: 100, total fetched: 1200\n",
      "Page 13, Cursor: LXBrPTE4MjIwMDA5NDM= Descriptions Fetched: 100, total fetched: 1300\n",
      "Page 14, Cursor: LXBrPTE4MTk0MjYzMDY= Descriptions Fetched: 100, total fetched: 1400\n",
      "Page 15, Cursor: LXBrPTE4MTgyMzgzODA= Descriptions Fetched: 100, total fetched: 1500\n",
      "Page 16, Cursor: LXBrPTE4MTY5OTI3NDI= Descriptions Fetched: 100, total fetched: 1600\n",
      "Page 17, Cursor: LXBrPTE4MTU3MzkwMDQ= Descriptions Fetched: 100, total fetched: 1700\n",
      "Page 18, Cursor: LXBrPTE4MTUyNjE4Mzg= Descriptions Fetched: 100, total fetched: 1800\n",
      "Page 19, Cursor: LXBrPTE4MTQyMDY4OTU= Descriptions Fetched: 100, total fetched: 1900\n",
      "Page 20, Cursor: LXBrPTE4MTI0MTU5MjM= Descriptions Fetched: 100, total fetched: 2000\n",
      "Page 21, Cursor: LXBrPTE4MTA3NjQxOTI= Descriptions Fetched: 100, total fetched: 2100\n",
      "Page 22, Cursor: LXBrPTE4MTAxNDEyNjM= Descriptions Fetched: 100, total fetched: 2200\n",
      "Page 23, Cursor: LXBrPTE4MDkyNDc1MjU= Descriptions Fetched: 100, total fetched: 2300\n",
      "Page 24, Cursor: LXBrPTE4MDc5Mzc4NjI= Descriptions Fetched: 100, total fetched: 2400\n",
      "Page 25, Cursor: LXBrPTE4MDcwNTM3MzA= Descriptions Fetched: 100, total fetched: 2500\n",
      "Page 26, Cursor: LXBrPTE4MDU0NjcyNzA= Descriptions Fetched: 100, total fetched: 2600\n",
      "Page 27, Cursor: LXBrPTE4MDQ1Nzc5OTA= Descriptions Fetched: 100, total fetched: 2700\n",
      "Page 28, Cursor: LXBrPTE4MDM2NjMzOTE= Descriptions Fetched: 100, total fetched: 2800\n",
      "Page 29, Cursor: LXBrPTE4MDIzMjY2NjM= Descriptions Fetched: 100, total fetched: 2900\n",
      "Page 30, Cursor: LXBrPTE4MDE2Mjk5Njk= Descriptions Fetched: 100, total fetched: 3000\n",
      "Page 31, Cursor: LXBrPTE4MDA5NDM0MzQ= Descriptions Fetched: 100, total fetched: 3100\n",
      "Page 32, Cursor: LXBrPTE3OTk5ODIzOTI= Descriptions Fetched: 100, total fetched: 3200\n",
      "Page 33, Cursor: LXBrPTE3OTkyMzQwMzM= Descriptions Fetched: 100, total fetched: 3300\n",
      "Page 34, Cursor: LXBrPTE3OTkwMzk0Nzg= Descriptions Fetched: 100, total fetched: 3400\n",
      "Page 35, Cursor: LXBrPTE3OTg0NDQ0ODA= Descriptions Fetched: 100, total fetched: 3500\n",
      "Page 36, Cursor: LXBrPTE3OTc0OTU1NzI= Descriptions Fetched: 100, total fetched: 3600\n",
      "Page 37, Cursor: LXBrPTE3OTczNTU4ODc= Descriptions Fetched: 100, total fetched: 3700\n",
      "Page 38, Cursor: LXBrPTE3OTY5ODE3MTg= Descriptions Fetched: 100, total fetched: 3800\n",
      "Page 39, Cursor: LXBrPTE3OTYxNTc3MDM= Descriptions Fetched: 100, total fetched: 3900\n",
      "Page 40, Cursor: LXBrPTE3OTU4NjEzNDA= Descriptions Fetched: 100, total fetched: 4000\n",
      "Page 41, Cursor: LXBrPTE3OTU1NjE4MTU= Descriptions Fetched: 100, total fetched: 4100\n",
      "Page 42, Cursor: LXBrPTE3OTQwMjk5OTE= Descriptions Fetched: 100, total fetched: 4200\n",
      "Page 43, Cursor: LXBrPTE3OTE5MDY2MTg= Descriptions Fetched: 100, total fetched: 4300\n",
      "Page 44, Cursor: LXBrPTE3ODk5ODEwODg= Descriptions Fetched: 100, total fetched: 4400\n",
      "Page 45, Cursor: LXBrPTE3ODg1NzUxMzY= Descriptions Fetched: 100, total fetched: 4500\n",
      "Page 46, Cursor: LXBrPTE3ODYyMzM4NjI= Descriptions Fetched: 100, total fetched: 4600\n",
      "Page 47, Cursor: LXBrPTE3ODMwNjQyNjU= Descriptions Fetched: 100, total fetched: 4700\n",
      "Page 48, Cursor: LXBrPTE3ODE2NTAxNDU= Descriptions Fetched: 100, total fetched: 4800\n",
      "Page 49, Cursor: LXBrPTE3Nzk1MDE4NjQ= Descriptions Fetched: 100, total fetched: 4900\n",
      "Page 50, Cursor: LXBrPTE3NzgzNzI0MTM= Descriptions Fetched: 100, total fetched: 5000\n",
      "Page 51, Cursor: LXBrPTE3NzcxMDUyODA= Descriptions Fetched: 100, total fetched: 5100\n",
      "Page 52, Cursor: LXBrPTE3NzU5NTc2MzA= Descriptions Fetched: 100, total fetched: 5200\n",
      "Page 53, Cursor: LXBrPTE3NzQ1MTk3Mzk= Descriptions Fetched: 100, total fetched: 5300\n",
      "Page 54, Cursor: LXBrPTE3NzM1MjkwMTc= Descriptions Fetched: 100, total fetched: 5400\n",
      "Page 55, Cursor: LXBrPTE3NzMzMTM5NTc= Descriptions Fetched: 100, total fetched: 5500\n",
      "Page 56, Cursor: LXBrPTE3NzI5MTk1NDk= Descriptions Fetched: 100, total fetched: 5600\n",
      "Page 57, Cursor: LXBrPTE3NzA0OTYwOTU= Descriptions Fetched: 100, total fetched: 5700\n",
      "Page 58, Cursor: LXBrPTE3Njg2MTM1MDQ= Descriptions Fetched: 100, total fetched: 5800\n",
      "Page 59, Cursor: LXBrPTE3NjYxMTQ3MDg= Descriptions Fetched: 100, total fetched: 5900\n",
      "Page 60, Cursor: LXBrPTE3NjM4NjE3MTg= Descriptions Fetched: 100, total fetched: 6000\n",
      "Page 61, Cursor: LXBrPTE3NjAxMzcyNjQ= Descriptions Fetched: 100, total fetched: 6100\n",
      "Page 62, Cursor: LXBrPTE3NTUzMTY0MzA= Descriptions Fetched: 100, total fetched: 6200\n",
      "Page 63, Cursor: LXBrPTE3NTIxNTE2Nzk= Descriptions Fetched: 100, total fetched: 6300\n",
      "Page 64, Cursor: LXBrPTE3NDg5NTI5MDI= Descriptions Fetched: 100, total fetched: 6400\n",
      "Page 65, Cursor: LXBrPTE3Mzc4NzMyMjA= Descriptions Fetched: 100, total fetched: 6500\n",
      "Page 66, Cursor: LXBrPTE3MjY1MzMwNzk= Descriptions Fetched: 100, total fetched: 6600\n",
      "Page 67, Cursor: LXBrPTE3MTk3MzQ1MzI= Descriptions Fetched: 100, total fetched: 6700\n",
      "Page 68, Cursor: LXBrPTE3MTI5NTk0OTA= Descriptions Fetched: 100, total fetched: 6800\n",
      "Page 69, Cursor: LXBrPTE3MDg3Njc4NjU= Descriptions Fetched: 100, total fetched: 6900\n",
      "Page 70, Cursor: LXBrPTE3MDQ2MDM3NzU= Descriptions Fetched: 100, total fetched: 7000\n",
      "Page 71, Cursor: LXBrPTE3MDA4NTcwMjU= Descriptions Fetched: 100, total fetched: 7100\n",
      "Page 72, Cursor: LXBrPTE2OTcxMjcyNzc= Descriptions Fetched: 100, total fetched: 7200\n",
      "Page 73, Cursor: LXBrPTE2OTQyNzEzNzE= Descriptions Fetched: 100, total fetched: 7300\n",
      "Page 74, Cursor: LXBrPTE2OTE2MzM2Mzk= Descriptions Fetched: 100, total fetched: 7400\n",
      "Page 75, Cursor: LXBrPTE2ODg4NjI2Njg= Descriptions Fetched: 100, total fetched: 7500\n",
      "Page 76, Cursor: LXBrPTE2ODgwNzE2MTA= Descriptions Fetched: 100, total fetched: 7600\n",
      "Page 77, Cursor: LXBrPTE2ODcxMjcxNDM= Descriptions Fetched: 100, total fetched: 7700\n",
      "Page 78, Cursor: LXBrPTE2ODY0MzYyNDc= Descriptions Fetched: 100, total fetched: 7800\n",
      "Page 79, Cursor: LXBrPTE2ODU5Mjk4MzI= Descriptions Fetched: 100, total fetched: 7900\n",
      "Page 80, Cursor: LXBrPTE2ODQ5MjU1Mzc= Descriptions Fetched: 100, total fetched: 8000\n",
      "Page 81, Cursor: LXBrPTE2ODQyNDk4MzQ= Descriptions Fetched: 100, total fetched: 8100\n",
      "Page 82, Cursor: LXBrPTE2ODM3ODU5OTM= Descriptions Fetched: 100, total fetched: 8200\n",
      "Page 83, Cursor: LXBrPTE2ODMyMjEzMjI= Descriptions Fetched: 100, total fetched: 8300\n",
      "Page 84, Cursor: LXBrPTE2ODI4MDg1MDA= Descriptions Fetched: 100, total fetched: 8400\n",
      "Page 85, Cursor: LXBrPTE2ODI0ODAwNTE= Descriptions Fetched: 100, total fetched: 8500\n",
      "Page 86, Cursor: LXBrPTE2ODIwOTQzOTY= Descriptions Fetched: 100, total fetched: 8600\n",
      "Page 87, Cursor: LXBrPTE2ODE0Mzg5NTQ= Descriptions Fetched: 100, total fetched: 8700\n",
      "Page 88, Cursor: LXBrPTE2ODA2NDY4ODQ= Descriptions Fetched: 100, total fetched: 8800\n",
      "Page 89, Cursor: LXBrPTE2ODAwMDI3NDE= Descriptions Fetched: 100, total fetched: 8900\n",
      "Page 90, Cursor: LXBrPTE2NzkzNzgzNTM= Descriptions Fetched: 100, total fetched: 9000\n",
      "Page 91, Cursor: LXBrPTE2Nzg2NzY5MjE= Descriptions Fetched: 100, total fetched: 9100\n",
      "Page 92, Cursor: LXBrPTE2NzgyMTIyMDA= Descriptions Fetched: 100, total fetched: 9200\n",
      "Page 93, Cursor: LXBrPTE2Nzc1OTk4NjA= Descriptions Fetched: 100, total fetched: 9300\n",
      "Page 94, Cursor: LXBrPTE2NzY4ODMwMjc= Descriptions Fetched: 100, total fetched: 9400\n",
      "Page 95, Cursor: LXBrPTE2NzYwNjY3MjI= Descriptions Fetched: 100, total fetched: 9500\n",
      "Page 96, Cursor: LXBrPTE2NzU2MjEwNDg= Descriptions Fetched: 100, total fetched: 9600\n",
      "Page 97, Cursor: LXBrPTE2NzQ4MDcwMDE= Descriptions Fetched: 100, total fetched: 9700\n",
      "Page 98, Cursor: LXBrPTE2NzQxODM2MjE= Descriptions Fetched: 100, total fetched: 9800\n",
      "Page 99, Cursor: LXBrPTE2NzM3MzcyMjM= Descriptions Fetched: 100, total fetched: 9900\n",
      "Page 100, Cursor: LXBrPTE2NzMxMjc2Mjk= Descriptions Fetched: 100, total fetched: 10000\n",
      "Page 101, Cursor: LXBrPTE2NzI3NDk2ODQ= Descriptions Fetched: 100, total fetched: 10100\n",
      "Page 102, Cursor: LXBrPTE2NzEwOTYyNjM= Descriptions Fetched: 100, total fetched: 10200\n",
      "Page 103, Cursor: LXBrPTE2NzA0NjA3ODY= Descriptions Fetched: 100, total fetched: 10300\n",
      "Page 104, Cursor: LXBrPTE2NjkyODM0NjM= Descriptions Fetched: 100, total fetched: 10400\n",
      "Page 105, Cursor: LXBrPTE2Njg2ODIzOTk= Descriptions Fetched: 100, total fetched: 10500\n",
      "Page 106, Cursor: LXBrPTE2Njc5ODYzNTg= Descriptions Fetched: 100, total fetched: 10600\n",
      "Page 107, Cursor: LXBrPTE2Njc0NzMzNzQ= Descriptions Fetched: 100, total fetched: 10700\n",
      "Page 108, Cursor: LXBrPTE2NjcwNTMzMzA= Descriptions Fetched: 100, total fetched: 10800\n",
      "Page 109, Cursor: LXBrPTE2NjYzMjk0MzM= Descriptions Fetched: 100, total fetched: 10900\n",
      "Page 110, Cursor: LXBrPTE2NjU2NDg1MTU= Descriptions Fetched: 100, total fetched: 11000\n",
      "Page 111, Cursor: LXBrPTE2NjQ5MjM3NTA= Descriptions Fetched: 100, total fetched: 11100\n",
      "Page 112, Cursor: LXBrPTE2NjMyNzg1MzY= Descriptions Fetched: 100, total fetched: 11200\n",
      "Page 113, Cursor: LXBrPTE2NjI2ODUxODI= Descriptions Fetched: 100, total fetched: 11300\n",
      "Page 114, Cursor: LXBrPTE2NjIxMTU5MDg= Descriptions Fetched: 100, total fetched: 11400\n",
      "Page 115, Cursor: LXBrPTE2NjE4MDU4MTc= Descriptions Fetched: 100, total fetched: 11500\n",
      "Page 116, Cursor: LXBrPTE2NjE0NjMyNDA= Descriptions Fetched: 100, total fetched: 11600\n",
      "Page 117, Cursor: LXBrPTE2NjEwNTI5NzI= Descriptions Fetched: 100, total fetched: 11700\n",
      "Page 118, Cursor: LXBrPTE2NjA2NzcxNzc= Descriptions Fetched: 100, total fetched: 11800\n",
      "Page 119, Cursor: LXBrPTE2NjAwNTEyNTY= Descriptions Fetched: 100, total fetched: 11900\n",
      "Page 120, Cursor: LXBrPTE2NTk2MDAxOTA= Descriptions Fetched: 100, total fetched: 12000\n",
      "Page 121, Cursor: LXBrPTE2NTkyODk4NjI= Descriptions Fetched: 100, total fetched: 12100\n",
      "Page 122, Cursor: LXBrPTE2NTkxMTc2Mzg= Descriptions Fetched: 100, total fetched: 12200\n",
      "Page 123, Cursor: LXBrPTE2NTg3MDk0NDU= Descriptions Fetched: 100, total fetched: 12300\n",
      "Page 124, Cursor: LXBrPTE2NTgyMDkyODI= Descriptions Fetched: 100, total fetched: 12400\n",
      "Page 125, Cursor: LXBrPTE2NTc5MDQ3MDQ= Descriptions Fetched: 100, total fetched: 12500\n",
      "Page 126, Cursor: LXBrPTE2NTc3NTE3NDg= Descriptions Fetched: 100, total fetched: 12600\n",
      "Page 127, Cursor: LXBrPTE2NTc0Mzc5MTM= Descriptions Fetched: 100, total fetched: 12700\n",
      "Page 128, Cursor: LXBrPTE2NTcxNzc2MDg= Descriptions Fetched: 100, total fetched: 12800\n",
      "Page 129, Cursor: LXBrPTE2NTcwMTcwNzA= Descriptions Fetched: 100, total fetched: 12900\n",
      "Page 130, Cursor: LXBrPTE2NTY4MTU5MzA= Descriptions Fetched: 100, total fetched: 13000\n",
      "Page 131, Cursor: LXBrPTE2NTY2NTYwODI= Descriptions Fetched: 100, total fetched: 13100\n",
      "Page 132, Cursor: LXBrPTE2NTY0OTc3NDk= Descriptions Fetched: 100, total fetched: 13200\n",
      "Page 133, Cursor: LXBrPTE2NTYxODEwMTE= Descriptions Fetched: 100, total fetched: 13300\n",
      "Page 134, Cursor: LXBrPTE2NTUyODIwMzA= Descriptions Fetched: 100, total fetched: 13400\n",
      "Page 135, Cursor: LXBrPTE2NTQ3OTIwNzQ= Descriptions Fetched: 100, total fetched: 13500\n",
      "Page 136, Cursor: LXBrPTE2NTM5MDEwNDQ= Descriptions Fetched: 100, total fetched: 13600\n",
      "Page 137, Cursor: LXBrPTE2NTMwNjUxMTg= Descriptions Fetched: 100, total fetched: 13700\n",
      "Page 138, Cursor: LXBrPTE2NTIzMzI0Mjc= Descriptions Fetched: 100, total fetched: 13800\n",
      "Page 139, Cursor: LXBrPTE2NTEzMDU0NDM= Descriptions Fetched: 100, total fetched: 13900\n",
      "Page 140, Cursor: LXBrPTE2NDg5MTcwNTk= Descriptions Fetched: 100, total fetched: 14000\n",
      "Page 141, Cursor: LXBrPTE2NDYyMDgzOTI= Descriptions Fetched: 100, total fetched: 14100\n",
      "Page 142, Cursor: LXBrPTE2NDUzMzE4MDg= Descriptions Fetched: 100, total fetched: 14200\n",
      "Page 143, Cursor: LXBrPTE2NDQ2NzAxMjU= Descriptions Fetched: 100, total fetched: 14300\n",
      "Page 144, Cursor: LXBrPTE2NDQzMDYzMDg= Descriptions Fetched: 100, total fetched: 14400\n",
      "Page 145, Cursor: LXBrPTE2NDM4ODk3NzE= Descriptions Fetched: 100, total fetched: 14500\n",
      "Page 146, Cursor: LXBrPTE2NDM1NDcyMTA= Descriptions Fetched: 100, total fetched: 14600\n",
      "Page 147, Cursor: LXBrPTE2NDM0Mzk0NDQ= Descriptions Fetched: 100, total fetched: 14700\n",
      "Page 148, Cursor: LXBrPTE2NDM0MTkzMDE= Descriptions Fetched: 100, total fetched: 14800\n",
      "Page 149, Cursor: LXBrPTE2NDMzNjk0ODY= Descriptions Fetched: 100, total fetched: 14900\n",
      "Page 150, Cursor: LXBrPTE2NDMyNjAyMjA= Descriptions Fetched: 100, total fetched: 15000\n",
      "Page 151, Cursor: LXBrPTE2NDMxMTA0OTg= Descriptions Fetched: 100, total fetched: 15100\n",
      "Page 152, Cursor: LXBrPTE2NDI3MTAxMTY= Descriptions Fetched: 100, total fetched: 15200\n",
      "Page 153, Cursor: LXBrPTE2NDI0OTQxMjQ= Descriptions Fetched: 100, total fetched: 15300\n",
      "Page 154, Cursor: LXBrPTE2NDIzMzY5OTk= Descriptions Fetched: 100, total fetched: 15400\n",
      "Page 155, Cursor: LXBrPTE2NDE4NzYzMjA= Descriptions Fetched: 100, total fetched: 15500\n",
      "Page 156, Cursor: LXBrPTE2NDAwOTc2MjU= Descriptions Fetched: 100, total fetched: 15600\n",
      "Page 157, Cursor: LXBrPTE2Mzc3NjgyOTA= Descriptions Fetched: 100, total fetched: 15700\n",
      "Page 158, Cursor: LXBrPTE2MTYyMDgyMjk= Descriptions Fetched: 100, total fetched: 15800\n",
      "Page 159, Cursor: LXBrPTE2MDI5NjI5ODg= Descriptions Fetched: 100, total fetched: 15900\n",
      "Page 160, Cursor: LXBrPTE2MDI5NjI3OTA= Descriptions Fetched: 100, total fetched: 16000\n",
      "Page 161, Cursor: LXBrPTE2MDI5NjI1OTQ= Descriptions Fetched: 100, total fetched: 16100\n",
      "Page 162, Cursor: LXBrPTE1ODYyODYzNzg= Descriptions Fetched: 100, total fetched: 16200\n",
      "Page 163, Cursor: LXBrPTE1MzAyODU0MTI= Descriptions Fetched: 100, total fetched: 16300\n",
      "Page 164, Cursor: None Descriptions Fetched: 35, total fetched: 16335\n",
      "Total pages fetched: 164, Total descriptions fetched: 16335\n"
     ]
    }
   ],
   "source": [
    "descriptions_df = fetch_all_descriptions(api_key= opensea_api_key)"
   ]
  },
  {
   "cell_type": "code",
   "execution_count": 28,
   "metadata": {},
   "outputs": [
    {
     "name": "stdout",
     "output_type": "stream",
     "text": [
      "Page 1, Cursor: cGs9MTc0ODI3MTAyMDYmY3JlYXRlZF9kYXRlPTIwMjQtMDMtMDYrMDMlM0E1MiUzQTMyLjU4ODA4Nw==, Listings Fetched: 100\n",
      "Page 2, Cursor: cGs9MTg2NDAxMDQxODMmY3JlYXRlZF9kYXRlPTIwMjQtMDQtMjgrMDklM0E1MiUzQTAxLjAwNzE2MQ==, Listings Fetched: 100\n",
      "Page 3, Cursor: cGs9MTg3OTI1MTI0NjEmY3JlYXRlZF9kYXRlPTIwMjQtMDUtMDQrMTUlM0E1NyUzQTA4LjEzMjQ4Nw==, Listings Fetched: 100\n",
      "Page 4, Cursor: cGs9MTkzMDU3ODA5MzAmY3JlYXRlZF9kYXRlPTIwMjQtMDUtMjUrMjMlM0E0MCUzQTU2LjI4MzYzNA==, Listings Fetched: 100\n",
      "Page 5, Cursor: cGs9MTk3MjA5NDcxMDgmY3JlYXRlZF9kYXRlPTIwMjQtMDYtMTMrMDYlM0E1OSUzQTE4LjE4NjQ0MQ==, Listings Fetched: 100\n",
      "Page 6, Cursor: cGs9MTk5MzMwODgxNTImY3JlYXRlZF9kYXRlPTIwMjQtMDYtMjIrMTUlM0EwNSUzQTA4LjIzMDk0OA==, Listings Fetched: 100\n",
      "Page 7, Cursor: cGs9MjAyMTc2ODEyNzUmY3JlYXRlZF9kYXRlPTIwMjQtMDctMDQrMTUlM0E0MiUzQTMwLjM1NzA1Nw==, Listings Fetched: 100\n",
      "Page 8, Cursor: None, Listings Fetched: 4\n",
      "Total pages fetched: 8\n",
      "Total listings fetched: 704\n"
     ]
    }
   ],
   "source": [
    "listings_df = fetch_listings(api_key= opensea_api_key, delay_between_requests=1)"
   ]
  },
  {
   "cell_type": "code",
   "execution_count": 29,
   "metadata": {},
   "outputs": [],
   "source": [
    "def unpack_protocol_data(row):\n",
    "    protocol_data = row['protocol_data']\n",
    "    parameters = protocol_data.get('parameters', {})\n",
    "    consideration = parameters.get('consideration', [{}])\n",
    "    offer = parameters.get('offer', [{}])\n",
    "    price = row['price']['current']\n",
    "    \n",
    "    chain = row['chain']\n",
    "    order_hash = row['order_hash']\n",
    "    currency = price.get('currency')\n",
    "    price_string = price.get('value')\n",
    "    price_in_eth = float(price_string) / (10 ** price.get('decimals', 18))\n",
    "    primary_recipient = consideration[0].get('recipient') if consideration else None\n",
    "    identifier_or_criteria = offer[0].get('identifierOrCriteria') if offer else None\n",
    "    start_time = parameters.get('startTime')\n",
    "    end_time = parameters.get('endTime')\n",
    "    \n",
    "    return pd.Series([\n",
    "        chain, order_hash, currency, price_string, price_in_eth, \n",
    "        primary_recipient, identifier_or_criteria, start_time, end_time\n",
    "    ])"
   ]
  },
  {
   "cell_type": "code",
   "execution_count": 30,
   "metadata": {},
   "outputs": [],
   "source": [
    "unpacked_columns = listings_df.apply(unpack_protocol_data, axis=1)\n",
    "unpacked_columns.columns = [\n",
    "    'chain', 'order_hash', 'currency', 'price_string', 'price_in_eth', \n",
    "    'primary_recipient', 'identifier_or_criteria', 'start_time', 'end_time'\n",
    "]\n",
    "listings_df = pd.concat([listings_df, unpacked_columns], axis=1)\n",
    "listings_df = listings_df.drop(columns=['protocol_data'])\n"
   ]
  },
  {
   "cell_type": "code",
   "execution_count": 31,
   "metadata": {},
   "outputs": [],
   "source": [
    "listings_df['identifier_or_criteria'] = listings_df['identifier_or_criteria'].astype(float)\n",
    "listings_df.rename(columns={'identifier_or_criteria':'tokenid'}, inplace=True)"
   ]
  },
  {
   "cell_type": "code",
   "execution_count": 262,
   "metadata": {},
   "outputs": [],
   "source": [
    "listings_df.drop(columns=['price_string','currency','primary_recipient','chain','price','protocol_address','type'], inplace=True)"
   ]
  },
  {
   "cell_type": "code",
   "execution_count": 263,
   "metadata": {},
   "outputs": [
    {
     "data": {
      "text/html": [
       "<div>\n",
       "<style scoped>\n",
       "    .dataframe tbody tr th:only-of-type {\n",
       "        vertical-align: middle;\n",
       "    }\n",
       "\n",
       "    .dataframe tbody tr th {\n",
       "        vertical-align: top;\n",
       "    }\n",
       "\n",
       "    .dataframe thead th {\n",
       "        text-align: right;\n",
       "    }\n",
       "</style>\n",
       "<table border=\"1\" class=\"dataframe\">\n",
       "  <thead>\n",
       "    <tr style=\"text-align: right;\">\n",
       "      <th></th>\n",
       "      <th>order_hash</th>\n",
       "      <th>order_hash</th>\n",
       "      <th>price_in_eth</th>\n",
       "      <th>tokenid</th>\n",
       "      <th>start_time</th>\n",
       "      <th>end_time</th>\n",
       "    </tr>\n",
       "  </thead>\n",
       "  <tbody>\n",
       "    <tr>\n",
       "      <th>0</th>\n",
       "      <td>0x902ff72f57b579d6a2fac92a0714ca5274172ccdeb51...</td>\n",
       "      <td>0x902ff72f57b579d6a2fac92a0714ca5274172ccdeb51...</td>\n",
       "      <td>5.0000</td>\n",
       "      <td>2.497682e+76</td>\n",
       "      <td>1705460459</td>\n",
       "      <td>1721181652</td>\n",
       "    </tr>\n",
       "    <tr>\n",
       "      <th>1</th>\n",
       "      <td>0x472882ed6ef6df3e646a968fe399a794cb2d80783c0d...</td>\n",
       "      <td>0x472882ed6ef6df3e646a968fe399a794cb2d80783c0d...</td>\n",
       "      <td>8.0000</td>\n",
       "      <td>1.033482e+77</td>\n",
       "      <td>1705973310</td>\n",
       "      <td>1721694506</td>\n",
       "    </tr>\n",
       "    <tr>\n",
       "      <th>2</th>\n",
       "      <td>0x3040ad3f37193e684cb2baa0811d21cd345108df5a2a...</td>\n",
       "      <td>0x3040ad3f37193e684cb2baa0811d21cd345108df5a2a...</td>\n",
       "      <td>3.0000</td>\n",
       "      <td>1.022958e+77</td>\n",
       "      <td>1706042993</td>\n",
       "      <td>1721767789</td>\n",
       "    </tr>\n",
       "    <tr>\n",
       "      <th>3</th>\n",
       "      <td>0xb62518c46df32c07046a53f3df61112cc4460bc648ac...</td>\n",
       "      <td>0xb62518c46df32c07046a53f3df61112cc4460bc648ac...</td>\n",
       "      <td>3.0000</td>\n",
       "      <td>7.527018e+76</td>\n",
       "      <td>1706043120</td>\n",
       "      <td>1721767916</td>\n",
       "    </tr>\n",
       "    <tr>\n",
       "      <th>4</th>\n",
       "      <td>0xe4c2e069a35f4b943e449d8e510f952ff3cb2fc133d3...</td>\n",
       "      <td>0xe4c2e069a35f4b943e449d8e510f952ff3cb2fc133d3...</td>\n",
       "      <td>8.0000</td>\n",
       "      <td>1.535191e+76</td>\n",
       "      <td>1706069852</td>\n",
       "      <td>1721791047</td>\n",
       "    </tr>\n",
       "    <tr>\n",
       "      <th>...</th>\n",
       "      <td>...</td>\n",
       "      <td>...</td>\n",
       "      <td>...</td>\n",
       "      <td>...</td>\n",
       "      <td>...</td>\n",
       "      <td>...</td>\n",
       "    </tr>\n",
       "    <tr>\n",
       "      <th>699</th>\n",
       "      <td>0x76a6ca76dd9bdc10d146fffadcb276220828ab704e06...</td>\n",
       "      <td>0x76a6ca76dd9bdc10d146fffadcb276220828ab704e06...</td>\n",
       "      <td>0.7175</td>\n",
       "      <td>5.585128e+76</td>\n",
       "      <td>1720107680</td>\n",
       "      <td>1735659732</td>\n",
       "    </tr>\n",
       "    <tr>\n",
       "      <th>700</th>\n",
       "      <td>0xe88ff918367aad4e2bca9ed8ae1d6e6ca91f11ad6c21...</td>\n",
       "      <td>0xe88ff918367aad4e2bca9ed8ae1d6e6ca91f11ad6c21...</td>\n",
       "      <td>3.0000</td>\n",
       "      <td>4.753433e+76</td>\n",
       "      <td>1720176067</td>\n",
       "      <td>1728124852</td>\n",
       "    </tr>\n",
       "    <tr>\n",
       "      <th>701</th>\n",
       "      <td>0x8a76980edeb088fa648230cf0fcbd36ea9beedb2c924...</td>\n",
       "      <td>0x8a76980edeb088fa648230cf0fcbd36ea9beedb2c924...</td>\n",
       "      <td>5.0000</td>\n",
       "      <td>2.836047e+76</td>\n",
       "      <td>1720184000</td>\n",
       "      <td>1720443248</td>\n",
       "    </tr>\n",
       "    <tr>\n",
       "      <th>702</th>\n",
       "      <td>0xc18fc47b36024151d34e664da343db1238ce525e6b63...</td>\n",
       "      <td>0xc18fc47b36024151d34e664da343db1238ce525e6b63...</td>\n",
       "      <td>15.0000</td>\n",
       "      <td>1.315335e+76</td>\n",
       "      <td>1720197367</td>\n",
       "      <td>1736094964</td>\n",
       "    </tr>\n",
       "    <tr>\n",
       "      <th>703</th>\n",
       "      <td>0x9f368778b2c57cd2d85b80338c2fd16bc29630ab8eb6...</td>\n",
       "      <td>0x9f368778b2c57cd2d85b80338c2fd16bc29630ab8eb6...</td>\n",
       "      <td>0.5125</td>\n",
       "      <td>1.127700e+77</td>\n",
       "      <td>1720207840</td>\n",
       "      <td>1735759893</td>\n",
       "    </tr>\n",
       "  </tbody>\n",
       "</table>\n",
       "<p>704 rows × 6 columns</p>\n",
       "</div>"
      ],
      "text/plain": [
       "                                            order_hash  \\\n",
       "0    0x902ff72f57b579d6a2fac92a0714ca5274172ccdeb51...   \n",
       "1    0x472882ed6ef6df3e646a968fe399a794cb2d80783c0d...   \n",
       "2    0x3040ad3f37193e684cb2baa0811d21cd345108df5a2a...   \n",
       "3    0xb62518c46df32c07046a53f3df61112cc4460bc648ac...   \n",
       "4    0xe4c2e069a35f4b943e449d8e510f952ff3cb2fc133d3...   \n",
       "..                                                 ...   \n",
       "699  0x76a6ca76dd9bdc10d146fffadcb276220828ab704e06...   \n",
       "700  0xe88ff918367aad4e2bca9ed8ae1d6e6ca91f11ad6c21...   \n",
       "701  0x8a76980edeb088fa648230cf0fcbd36ea9beedb2c924...   \n",
       "702  0xc18fc47b36024151d34e664da343db1238ce525e6b63...   \n",
       "703  0x9f368778b2c57cd2d85b80338c2fd16bc29630ab8eb6...   \n",
       "\n",
       "                                            order_hash  price_in_eth  \\\n",
       "0    0x902ff72f57b579d6a2fac92a0714ca5274172ccdeb51...        5.0000   \n",
       "1    0x472882ed6ef6df3e646a968fe399a794cb2d80783c0d...        8.0000   \n",
       "2    0x3040ad3f37193e684cb2baa0811d21cd345108df5a2a...        3.0000   \n",
       "3    0xb62518c46df32c07046a53f3df61112cc4460bc648ac...        3.0000   \n",
       "4    0xe4c2e069a35f4b943e449d8e510f952ff3cb2fc133d3...        8.0000   \n",
       "..                                                 ...           ...   \n",
       "699  0x76a6ca76dd9bdc10d146fffadcb276220828ab704e06...        0.7175   \n",
       "700  0xe88ff918367aad4e2bca9ed8ae1d6e6ca91f11ad6c21...        3.0000   \n",
       "701  0x8a76980edeb088fa648230cf0fcbd36ea9beedb2c924...        5.0000   \n",
       "702  0xc18fc47b36024151d34e664da343db1238ce525e6b63...       15.0000   \n",
       "703  0x9f368778b2c57cd2d85b80338c2fd16bc29630ab8eb6...        0.5125   \n",
       "\n",
       "          tokenid  start_time    end_time  \n",
       "0    2.497682e+76  1705460459  1721181652  \n",
       "1    1.033482e+77  1705973310  1721694506  \n",
       "2    1.022958e+77  1706042993  1721767789  \n",
       "3    7.527018e+76  1706043120  1721767916  \n",
       "4    1.535191e+76  1706069852  1721791047  \n",
       "..            ...         ...         ...  \n",
       "699  5.585128e+76  1720107680  1735659732  \n",
       "700  4.753433e+76  1720176067  1728124852  \n",
       "701  2.836047e+76  1720184000  1720443248  \n",
       "702  1.315335e+76  1720197367  1736094964  \n",
       "703  1.127700e+77  1720207840  1735759893  \n",
       "\n",
       "[704 rows x 6 columns]"
      ]
     },
     "execution_count": 263,
     "metadata": {},
     "output_type": "execute_result"
    }
   ],
   "source": []
  },
  {
   "cell_type": "code",
   "execution_count": 32,
   "metadata": {},
   "outputs": [],
   "source": [
    "descriptions_df.rename(columns={'identifier':'tokenid'}, inplace=True)"
   ]
  },
  {
   "cell_type": "code",
   "execution_count": 33,
   "metadata": {},
   "outputs": [],
   "source": [
    "descriptions_df['tokenid'] = descriptions_df['tokenid'].astype(float)"
   ]
  },
  {
   "cell_type": "code",
   "execution_count": 277,
   "metadata": {},
   "outputs": [
    {
     "data": {
      "text/html": [
       "<div>\n",
       "<style scoped>\n",
       "    .dataframe tbody tr th:only-of-type {\n",
       "        vertical-align: middle;\n",
       "    }\n",
       "\n",
       "    .dataframe tbody tr th {\n",
       "        vertical-align: top;\n",
       "    }\n",
       "\n",
       "    .dataframe thead th {\n",
       "        text-align: right;\n",
       "    }\n",
       "</style>\n",
       "<table border=\"1\" class=\"dataframe\">\n",
       "  <thead>\n",
       "    <tr style=\"text-align: right;\">\n",
       "      <th></th>\n",
       "      <th>order_hash</th>\n",
       "      <th>order_hash</th>\n",
       "      <th>price_in_eth</th>\n",
       "      <th>tokenid</th>\n",
       "      <th>start_time</th>\n",
       "      <th>end_time</th>\n",
       "      <th>name</th>\n",
       "    </tr>\n",
       "  </thead>\n",
       "  <tbody>\n",
       "    <tr>\n",
       "      <th>1</th>\n",
       "      <td>0x472882ed6ef6df3e646a968fe399a794cb2d80783c0d...</td>\n",
       "      <td>0x472882ed6ef6df3e646a968fe399a794cb2d80783c0d...</td>\n",
       "      <td>8.0000</td>\n",
       "      <td>1.033482e+77</td>\n",
       "      <td>1705973310</td>\n",
       "      <td>1721694506</td>\n",
       "      <td>open.box</td>\n",
       "    </tr>\n",
       "    <tr>\n",
       "      <th>2</th>\n",
       "      <td>0x3040ad3f37193e684cb2baa0811d21cd345108df5a2a...</td>\n",
       "      <td>0x3040ad3f37193e684cb2baa0811d21cd345108df5a2a...</td>\n",
       "      <td>3.0000</td>\n",
       "      <td>1.022958e+77</td>\n",
       "      <td>1706042993</td>\n",
       "      <td>1721767789</td>\n",
       "      <td>jewelry.box</td>\n",
       "    </tr>\n",
       "    <tr>\n",
       "      <th>3</th>\n",
       "      <td>0xb62518c46df32c07046a53f3df61112cc4460bc648ac...</td>\n",
       "      <td>0xb62518c46df32c07046a53f3df61112cc4460bc648ac...</td>\n",
       "      <td>3.0000</td>\n",
       "      <td>7.527018e+76</td>\n",
       "      <td>1706043120</td>\n",
       "      <td>1721767916</td>\n",
       "      <td>gay.box</td>\n",
       "    </tr>\n",
       "    <tr>\n",
       "      <th>4</th>\n",
       "      <td>0xe4c2e069a35f4b943e449d8e510f952ff3cb2fc133d3...</td>\n",
       "      <td>0xe4c2e069a35f4b943e449d8e510f952ff3cb2fc133d3...</td>\n",
       "      <td>8.0000</td>\n",
       "      <td>1.535191e+76</td>\n",
       "      <td>1706069852</td>\n",
       "      <td>1721791047</td>\n",
       "      <td>power.box</td>\n",
       "    </tr>\n",
       "    <tr>\n",
       "      <th>5</th>\n",
       "      <td>0x8bc67ab0f6355d8c78a317dee43dd93aad665ffa66d0...</td>\n",
       "      <td>0x8bc67ab0f6355d8c78a317dee43dd93aad665ffa66d0...</td>\n",
       "      <td>69.0000</td>\n",
       "      <td>9.204574e+76</td>\n",
       "      <td>1706083009</td>\n",
       "      <td>1721804202</td>\n",
       "      <td>dan.box</td>\n",
       "    </tr>\n",
       "    <tr>\n",
       "      <th>...</th>\n",
       "      <td>...</td>\n",
       "      <td>...</td>\n",
       "      <td>...</td>\n",
       "      <td>...</td>\n",
       "      <td>...</td>\n",
       "      <td>...</td>\n",
       "      <td>...</td>\n",
       "    </tr>\n",
       "    <tr>\n",
       "      <th>697</th>\n",
       "      <td>0x3cd4aa6db0fee75df48765a474f0473a9c7b4f9bcc70...</td>\n",
       "      <td>0x3cd4aa6db0fee75df48765a474f0473a9c7b4f9bcc70...</td>\n",
       "      <td>0.6150</td>\n",
       "      <td>4.113206e+76</td>\n",
       "      <td>1720107680</td>\n",
       "      <td>1735659732</td>\n",
       "      <td>83.box</td>\n",
       "    </tr>\n",
       "    <tr>\n",
       "      <th>698</th>\n",
       "      <td>0x8d159ceea17ebc82b9396ed64daae18ca1c74b859339...</td>\n",
       "      <td>0x8d159ceea17ebc82b9396ed64daae18ca1c74b859339...</td>\n",
       "      <td>0.8200</td>\n",
       "      <td>4.124373e+76</td>\n",
       "      <td>1720107680</td>\n",
       "      <td>1735659732</td>\n",
       "      <td>84.box</td>\n",
       "    </tr>\n",
       "    <tr>\n",
       "      <th>699</th>\n",
       "      <td>0x76a6ca76dd9bdc10d146fffadcb276220828ab704e06...</td>\n",
       "      <td>0x76a6ca76dd9bdc10d146fffadcb276220828ab704e06...</td>\n",
       "      <td>0.7175</td>\n",
       "      <td>5.585128e+76</td>\n",
       "      <td>1720107680</td>\n",
       "      <td>1735659732</td>\n",
       "      <td>29.box</td>\n",
       "    </tr>\n",
       "    <tr>\n",
       "      <th>700</th>\n",
       "      <td>0xe88ff918367aad4e2bca9ed8ae1d6e6ca91f11ad6c21...</td>\n",
       "      <td>0xe88ff918367aad4e2bca9ed8ae1d6e6ca91f11ad6c21...</td>\n",
       "      <td>3.0000</td>\n",
       "      <td>4.753433e+76</td>\n",
       "      <td>1720176067</td>\n",
       "      <td>1728124852</td>\n",
       "      <td>zksync.box</td>\n",
       "    </tr>\n",
       "    <tr>\n",
       "      <th>701</th>\n",
       "      <td>0x8a76980edeb088fa648230cf0fcbd36ea9beedb2c924...</td>\n",
       "      <td>0x8a76980edeb088fa648230cf0fcbd36ea9beedb2c924...</td>\n",
       "      <td>5.0000</td>\n",
       "      <td>2.836047e+76</td>\n",
       "      <td>1720184000</td>\n",
       "      <td>1720443248</td>\n",
       "      <td>cypherpunk.box</td>\n",
       "    </tr>\n",
       "  </tbody>\n",
       "</table>\n",
       "<p>519 rows × 7 columns</p>\n",
       "</div>"
      ],
      "text/plain": [
       "                                            order_hash  \\\n",
       "1    0x472882ed6ef6df3e646a968fe399a794cb2d80783c0d...   \n",
       "2    0x3040ad3f37193e684cb2baa0811d21cd345108df5a2a...   \n",
       "3    0xb62518c46df32c07046a53f3df61112cc4460bc648ac...   \n",
       "4    0xe4c2e069a35f4b943e449d8e510f952ff3cb2fc133d3...   \n",
       "5    0x8bc67ab0f6355d8c78a317dee43dd93aad665ffa66d0...   \n",
       "..                                                 ...   \n",
       "697  0x3cd4aa6db0fee75df48765a474f0473a9c7b4f9bcc70...   \n",
       "698  0x8d159ceea17ebc82b9396ed64daae18ca1c74b859339...   \n",
       "699  0x76a6ca76dd9bdc10d146fffadcb276220828ab704e06...   \n",
       "700  0xe88ff918367aad4e2bca9ed8ae1d6e6ca91f11ad6c21...   \n",
       "701  0x8a76980edeb088fa648230cf0fcbd36ea9beedb2c924...   \n",
       "\n",
       "                                            order_hash  price_in_eth  \\\n",
       "1    0x472882ed6ef6df3e646a968fe399a794cb2d80783c0d...        8.0000   \n",
       "2    0x3040ad3f37193e684cb2baa0811d21cd345108df5a2a...        3.0000   \n",
       "3    0xb62518c46df32c07046a53f3df61112cc4460bc648ac...        3.0000   \n",
       "4    0xe4c2e069a35f4b943e449d8e510f952ff3cb2fc133d3...        8.0000   \n",
       "5    0x8bc67ab0f6355d8c78a317dee43dd93aad665ffa66d0...       69.0000   \n",
       "..                                                 ...           ...   \n",
       "697  0x3cd4aa6db0fee75df48765a474f0473a9c7b4f9bcc70...        0.6150   \n",
       "698  0x8d159ceea17ebc82b9396ed64daae18ca1c74b859339...        0.8200   \n",
       "699  0x76a6ca76dd9bdc10d146fffadcb276220828ab704e06...        0.7175   \n",
       "700  0xe88ff918367aad4e2bca9ed8ae1d6e6ca91f11ad6c21...        3.0000   \n",
       "701  0x8a76980edeb088fa648230cf0fcbd36ea9beedb2c924...        5.0000   \n",
       "\n",
       "          tokenid  start_time    end_time            name  \n",
       "1    1.033482e+77  1705973310  1721694506        open.box  \n",
       "2    1.022958e+77  1706042993  1721767789     jewelry.box  \n",
       "3    7.527018e+76  1706043120  1721767916         gay.box  \n",
       "4    1.535191e+76  1706069852  1721791047       power.box  \n",
       "5    9.204574e+76  1706083009  1721804202         dan.box  \n",
       "..            ...         ...         ...             ...  \n",
       "697  4.113206e+76  1720107680  1735659732          83.box  \n",
       "698  4.124373e+76  1720107680  1735659732          84.box  \n",
       "699  5.585128e+76  1720107680  1735659732          29.box  \n",
       "700  4.753433e+76  1720176067  1728124852      zksync.box  \n",
       "701  2.836047e+76  1720184000  1720443248  cypherpunk.box  \n",
       "\n",
       "[519 rows x 7 columns]"
      ]
     },
     "execution_count": 277,
     "metadata": {},
     "output_type": "execute_result"
    }
   ],
   "source": [
    "listings_with_names = listings_df.merge(descriptions_df, how='left', on='tokenid')\n",
    "box_listings = listings_with_names[listings_with_names['name'].str.endswith('.box')]\n",
    "box_listings"
   ]
  },
  {
   "cell_type": "code",
   "execution_count": 440,
   "metadata": {},
   "outputs": [
    {
     "data": {
      "text/html": [
       "<div>\n",
       "<style scoped>\n",
       "    .dataframe tbody tr th:only-of-type {\n",
       "        vertical-align: middle;\n",
       "    }\n",
       "\n",
       "    .dataframe tbody tr th {\n",
       "        vertical-align: top;\n",
       "    }\n",
       "\n",
       "    .dataframe thead th {\n",
       "        text-align: right;\n",
       "    }\n",
       "</style>\n",
       "<table border=\"1\" class=\"dataframe\">\n",
       "  <thead>\n",
       "    <tr style=\"text-align: right;\">\n",
       "      <th></th>\n",
       "      <th>event_type</th>\n",
       "      <th>order_hash</th>\n",
       "      <th>order_type</th>\n",
       "      <th>chain</th>\n",
       "      <th>protocol_address</th>\n",
       "      <th>start_date</th>\n",
       "      <th>expiration_date</th>\n",
       "      <th>asset</th>\n",
       "      <th>quantity</th>\n",
       "      <th>maker</th>\n",
       "      <th>taker</th>\n",
       "      <th>payment</th>\n",
       "      <th>criteria</th>\n",
       "      <th>event_timestamp</th>\n",
       "      <th>is_private_listing</th>\n",
       "      <th>closing_date</th>\n",
       "      <th>nft</th>\n",
       "      <th>seller</th>\n",
       "      <th>buyer</th>\n",
       "      <th>transaction</th>\n",
       "    </tr>\n",
       "  </thead>\n",
       "  <tbody>\n",
       "    <tr>\n",
       "      <th>0</th>\n",
       "      <td>order</td>\n",
       "      <td>0x983e688bda44a880edfa1cb92a339c986fff7d1d8a89...</td>\n",
       "      <td>listing</td>\n",
       "      <td>optimism</td>\n",
       "      <td>0x0000000000000068f116a894984e2db1123eb395</td>\n",
       "      <td>1,720,237,423.00</td>\n",
       "      <td>1,722,915,815.00</td>\n",
       "      <td>{'identifier': '123558974577682993811495050087...</td>\n",
       "      <td>1</td>\n",
       "      <td>0x5e7e26fabb9b813e2faa24234e4ff7a8c7bf9cad</td>\n",
       "      <td></td>\n",
       "      <td>{'quantity': '3800000000000000', 'token_addres...</td>\n",
       "      <td>{}</td>\n",
       "      <td>1720237438</td>\n",
       "      <td>False</td>\n",
       "      <td>NaN</td>\n",
       "      <td>NaN</td>\n",
       "      <td>NaN</td>\n",
       "      <td>NaN</td>\n",
       "      <td>NaN</td>\n",
       "    </tr>\n",
       "    <tr>\n",
       "      <th>1</th>\n",
       "      <td>order</td>\n",
       "      <td>0xb52bcae9f69517283444522735fc9cd0dcdd2df7e90d...</td>\n",
       "      <td>listing</td>\n",
       "      <td>optimism</td>\n",
       "      <td>0x0000000000000068f116a894984e2db1123eb395</td>\n",
       "      <td>1,720,237,231.00</td>\n",
       "      <td>1,722,915,586.00</td>\n",
       "      <td>{'identifier': '360118525401874510073463955038...</td>\n",
       "      <td>1</td>\n",
       "      <td>0x5e7e26fabb9b813e2faa24234e4ff7a8c7bf9cad</td>\n",
       "      <td></td>\n",
       "      <td>{'quantity': '4100000000000000', 'token_addres...</td>\n",
       "      <td>{}</td>\n",
       "      <td>1720237244</td>\n",
       "      <td>False</td>\n",
       "      <td>NaN</td>\n",
       "      <td>NaN</td>\n",
       "      <td>NaN</td>\n",
       "      <td>NaN</td>\n",
       "      <td>NaN</td>\n",
       "    </tr>\n",
       "    <tr>\n",
       "      <th>2</th>\n",
       "      <td>order</td>\n",
       "      <td>0x3bf6f73f8456237ca2aac3cc5f7a2f9f22b8a1b4ce9a...</td>\n",
       "      <td>listing</td>\n",
       "      <td>optimism</td>\n",
       "      <td>0x0000000000000068f116a894984e2db1123eb395</td>\n",
       "      <td>1,720,234,176.00</td>\n",
       "      <td>1,735,786,228.00</td>\n",
       "      <td>{'identifier': '102926579013154103204029678028...</td>\n",
       "      <td>1</td>\n",
       "      <td>0x22739f9bbc10cf6412a67a3f135cd89e3e9e35f7</td>\n",
       "      <td></td>\n",
       "      <td>{'quantity': '10250000000000000000', 'token_ad...</td>\n",
       "      <td>{}</td>\n",
       "      <td>1720234240</td>\n",
       "      <td>False</td>\n",
       "      <td>NaN</td>\n",
       "      <td>NaN</td>\n",
       "      <td>NaN</td>\n",
       "      <td>NaN</td>\n",
       "      <td>NaN</td>\n",
       "    </tr>\n",
       "    <tr>\n",
       "      <th>3</th>\n",
       "      <td>order</td>\n",
       "      <td>0x2017a8bc278f9ed47ae209d6f643e6555e042752b0fc...</td>\n",
       "      <td>listing</td>\n",
       "      <td>optimism</td>\n",
       "      <td>0x0000000000000068f116a894984e2db1123eb395</td>\n",
       "      <td>1,720,234,176.00</td>\n",
       "      <td>1,735,786,228.00</td>\n",
       "      <td>{'identifier': '984146680085041125667580852961...</td>\n",
       "      <td>1</td>\n",
       "      <td>0x22739f9bbc10cf6412a67a3f135cd89e3e9e35f7</td>\n",
       "      <td></td>\n",
       "      <td>{'quantity': '10250000000000000000', 'token_ad...</td>\n",
       "      <td>{}</td>\n",
       "      <td>1720234240</td>\n",
       "      <td>False</td>\n",
       "      <td>NaN</td>\n",
       "      <td>NaN</td>\n",
       "      <td>NaN</td>\n",
       "      <td>NaN</td>\n",
       "      <td>NaN</td>\n",
       "    </tr>\n",
       "    <tr>\n",
       "      <th>4</th>\n",
       "      <td>order</td>\n",
       "      <td>0xb67bca48b982ea3330efbcbf0a5fc9de922d42c1b9a7...</td>\n",
       "      <td>listing</td>\n",
       "      <td>optimism</td>\n",
       "      <td>0x0000000000000068f116a894984e2db1123eb395</td>\n",
       "      <td>1,720,234,002.00</td>\n",
       "      <td>1,720,237,555.00</td>\n",
       "      <td>{'identifier': '412437292300569613373968868435...</td>\n",
       "      <td>1</td>\n",
       "      <td>0x22739f9bbc10cf6412a67a3f135cd89e3e9e35f7</td>\n",
       "      <td></td>\n",
       "      <td>{'quantity': '410000000000000000', 'token_addr...</td>\n",
       "      <td>{}</td>\n",
       "      <td>1720234067</td>\n",
       "      <td>False</td>\n",
       "      <td>NaN</td>\n",
       "      <td>NaN</td>\n",
       "      <td>NaN</td>\n",
       "      <td>NaN</td>\n",
       "      <td>NaN</td>\n",
       "    </tr>\n",
       "    <tr>\n",
       "      <th>...</th>\n",
       "      <td>...</td>\n",
       "      <td>...</td>\n",
       "      <td>...</td>\n",
       "      <td>...</td>\n",
       "      <td>...</td>\n",
       "      <td>...</td>\n",
       "      <td>...</td>\n",
       "      <td>...</td>\n",
       "      <td>...</td>\n",
       "      <td>...</td>\n",
       "      <td>...</td>\n",
       "      <td>...</td>\n",
       "      <td>...</td>\n",
       "      <td>...</td>\n",
       "      <td>...</td>\n",
       "      <td>...</td>\n",
       "      <td>...</td>\n",
       "      <td>...</td>\n",
       "      <td>...</td>\n",
       "      <td>...</td>\n",
       "    </tr>\n",
       "    <tr>\n",
       "      <th>2923</th>\n",
       "      <td>sale</td>\n",
       "      <td>0x8bde44f2d46537cf8d025cc498eaf7bdeadce3631f15...</td>\n",
       "      <td>NaN</td>\n",
       "      <td>optimism</td>\n",
       "      <td>0x00000000000000adc04c56bf30ac9d3c0aaf14dc</td>\n",
       "      <td>NaN</td>\n",
       "      <td>NaN</td>\n",
       "      <td>NaN</td>\n",
       "      <td>1</td>\n",
       "      <td>NaN</td>\n",
       "      <td>NaN</td>\n",
       "      <td>{'quantity': '1000000000000000', 'token_addres...</td>\n",
       "      <td>NaN</td>\n",
       "      <td>1706970257</td>\n",
       "      <td>NaN</td>\n",
       "      <td>1,706,970,257.00</td>\n",
       "      <td>{'identifier': '260923785748676206958654735781...</td>\n",
       "      <td>0xcc0e0b9ebd4ce352f5a50b3ae77ea01202c284ee</td>\n",
       "      <td>0xc48a8ac51df7b71e500a5580b89e47ab26ca1472</td>\n",
       "      <td>0x60e952a8e0fa8d052791b2e4a22fd52eb3c759511e62...</td>\n",
       "    </tr>\n",
       "    <tr>\n",
       "      <th>2924</th>\n",
       "      <td>sale</td>\n",
       "      <td>0xc0547b5b8d575e3ba16b529ee2530a35c437bc75fa93...</td>\n",
       "      <td>NaN</td>\n",
       "      <td>optimism</td>\n",
       "      <td>0x00000000000000adc04c56bf30ac9d3c0aaf14dc</td>\n",
       "      <td>NaN</td>\n",
       "      <td>NaN</td>\n",
       "      <td>NaN</td>\n",
       "      <td>1</td>\n",
       "      <td>NaN</td>\n",
       "      <td>NaN</td>\n",
       "      <td>{'quantity': '110000000000000000', 'token_addr...</td>\n",
       "      <td>NaN</td>\n",
       "      <td>1706653465</td>\n",
       "      <td>NaN</td>\n",
       "      <td>1,706,653,465.00</td>\n",
       "      <td>{'identifier': '566479911085778512201556021651...</td>\n",
       "      <td>0x240ad467a71210629d71d4de22ebde27951c83fc</td>\n",
       "      <td>0x82eb45562f991329ed2867f43fc60f0ba52c3dab</td>\n",
       "      <td>0x6672189deb7829838aabba20ddeb66a3cb5fee5b55a2...</td>\n",
       "    </tr>\n",
       "    <tr>\n",
       "      <th>2925</th>\n",
       "      <td>sale</td>\n",
       "      <td>0xff4b9bdd3f140f8211864ef34e0a07ea0a92eaf98f7d...</td>\n",
       "      <td>NaN</td>\n",
       "      <td>optimism</td>\n",
       "      <td>0x00000000000000adc04c56bf30ac9d3c0aaf14dc</td>\n",
       "      <td>NaN</td>\n",
       "      <td>NaN</td>\n",
       "      <td>NaN</td>\n",
       "      <td>1</td>\n",
       "      <td>NaN</td>\n",
       "      <td>NaN</td>\n",
       "      <td>{'quantity': '10000000000000000', 'token_addre...</td>\n",
       "      <td>NaN</td>\n",
       "      <td>1706203283</td>\n",
       "      <td>NaN</td>\n",
       "      <td>1,706,203,283.00</td>\n",
       "      <td>{'identifier': '364706086468987072255605061503...</td>\n",
       "      <td>0x7b363822d744143d51c69b0757165c987a6e4ef4</td>\n",
       "      <td>0xe68e8cc7ff772b026c062b9cc28246676d044947</td>\n",
       "      <td>0xd8e71f4d52c43fa770b9aa7ad7d5cfb073f04c7495e0...</td>\n",
       "    </tr>\n",
       "    <tr>\n",
       "      <th>2926</th>\n",
       "      <td>sale</td>\n",
       "      <td>0x03188e15aaf9596307117e30355f6b2ac79665fbd1c2...</td>\n",
       "      <td>NaN</td>\n",
       "      <td>optimism</td>\n",
       "      <td>0x00000000000000adc04c56bf30ac9d3c0aaf14dc</td>\n",
       "      <td>NaN</td>\n",
       "      <td>NaN</td>\n",
       "      <td>NaN</td>\n",
       "      <td>1</td>\n",
       "      <td>NaN</td>\n",
       "      <td>NaN</td>\n",
       "      <td>{'quantity': '150000000000000000', 'token_addr...</td>\n",
       "      <td>NaN</td>\n",
       "      <td>1704080589</td>\n",
       "      <td>NaN</td>\n",
       "      <td>1,704,080,589.00</td>\n",
       "      <td>{'identifier': '992340878683635895851755157396...</td>\n",
       "      <td>0x31b32020fb1bdf0228c58b80590f07b235f2b0ce</td>\n",
       "      <td>0x64233eaa064ef0d54ff1a963933d0d2d46ab5829</td>\n",
       "      <td>0x186d1ceacf620bab710d11cf928b79e5dd46790ff1d5...</td>\n",
       "    </tr>\n",
       "    <tr>\n",
       "      <th>2927</th>\n",
       "      <td>sale</td>\n",
       "      <td>0x3cd7cfda4dd935529af2c4f882476b40cc37340ae2a6...</td>\n",
       "      <td>NaN</td>\n",
       "      <td>optimism</td>\n",
       "      <td>0x00000000000000adc04c56bf30ac9d3c0aaf14dc</td>\n",
       "      <td>NaN</td>\n",
       "      <td>NaN</td>\n",
       "      <td>NaN</td>\n",
       "      <td>1</td>\n",
       "      <td>NaN</td>\n",
       "      <td>NaN</td>\n",
       "      <td>{'quantity': '22000000000000000', 'token_addre...</td>\n",
       "      <td>NaN</td>\n",
       "      <td>1703624873</td>\n",
       "      <td>NaN</td>\n",
       "      <td>1,703,624,873.00</td>\n",
       "      <td>{'identifier': '686186082504474765846111255346...</td>\n",
       "      <td>0xff3d39f7766ebb57a4175b6d919937409f6d6fee</td>\n",
       "      <td>0x46f09888867c8cd9042b943099663e856e43de46</td>\n",
       "      <td>0x1c7ed62756b60a73470fa39ea6546510ad426e261d14...</td>\n",
       "    </tr>\n",
       "  </tbody>\n",
       "</table>\n",
       "<p>2928 rows × 20 columns</p>\n",
       "</div>"
      ],
      "text/plain": [
       "     event_type                                         order_hash order_type  \\\n",
       "0         order  0x983e688bda44a880edfa1cb92a339c986fff7d1d8a89...    listing   \n",
       "1         order  0xb52bcae9f69517283444522735fc9cd0dcdd2df7e90d...    listing   \n",
       "2         order  0x3bf6f73f8456237ca2aac3cc5f7a2f9f22b8a1b4ce9a...    listing   \n",
       "3         order  0x2017a8bc278f9ed47ae209d6f643e6555e042752b0fc...    listing   \n",
       "4         order  0xb67bca48b982ea3330efbcbf0a5fc9de922d42c1b9a7...    listing   \n",
       "...         ...                                                ...        ...   \n",
       "2923       sale  0x8bde44f2d46537cf8d025cc498eaf7bdeadce3631f15...        NaN   \n",
       "2924       sale  0xc0547b5b8d575e3ba16b529ee2530a35c437bc75fa93...        NaN   \n",
       "2925       sale  0xff4b9bdd3f140f8211864ef34e0a07ea0a92eaf98f7d...        NaN   \n",
       "2926       sale  0x03188e15aaf9596307117e30355f6b2ac79665fbd1c2...        NaN   \n",
       "2927       sale  0x3cd7cfda4dd935529af2c4f882476b40cc37340ae2a6...        NaN   \n",
       "\n",
       "         chain                            protocol_address       start_date  \\\n",
       "0     optimism  0x0000000000000068f116a894984e2db1123eb395 1,720,237,423.00   \n",
       "1     optimism  0x0000000000000068f116a894984e2db1123eb395 1,720,237,231.00   \n",
       "2     optimism  0x0000000000000068f116a894984e2db1123eb395 1,720,234,176.00   \n",
       "3     optimism  0x0000000000000068f116a894984e2db1123eb395 1,720,234,176.00   \n",
       "4     optimism  0x0000000000000068f116a894984e2db1123eb395 1,720,234,002.00   \n",
       "...        ...                                         ...              ...   \n",
       "2923  optimism  0x00000000000000adc04c56bf30ac9d3c0aaf14dc              NaN   \n",
       "2924  optimism  0x00000000000000adc04c56bf30ac9d3c0aaf14dc              NaN   \n",
       "2925  optimism  0x00000000000000adc04c56bf30ac9d3c0aaf14dc              NaN   \n",
       "2926  optimism  0x00000000000000adc04c56bf30ac9d3c0aaf14dc              NaN   \n",
       "2927  optimism  0x00000000000000adc04c56bf30ac9d3c0aaf14dc              NaN   \n",
       "\n",
       "      expiration_date                                              asset  \\\n",
       "0    1,722,915,815.00  {'identifier': '123558974577682993811495050087...   \n",
       "1    1,722,915,586.00  {'identifier': '360118525401874510073463955038...   \n",
       "2    1,735,786,228.00  {'identifier': '102926579013154103204029678028...   \n",
       "3    1,735,786,228.00  {'identifier': '984146680085041125667580852961...   \n",
       "4    1,720,237,555.00  {'identifier': '412437292300569613373968868435...   \n",
       "...               ...                                                ...   \n",
       "2923              NaN                                                NaN   \n",
       "2924              NaN                                                NaN   \n",
       "2925              NaN                                                NaN   \n",
       "2926              NaN                                                NaN   \n",
       "2927              NaN                                                NaN   \n",
       "\n",
       "      quantity                                       maker taker  \\\n",
       "0            1  0x5e7e26fabb9b813e2faa24234e4ff7a8c7bf9cad         \n",
       "1            1  0x5e7e26fabb9b813e2faa24234e4ff7a8c7bf9cad         \n",
       "2            1  0x22739f9bbc10cf6412a67a3f135cd89e3e9e35f7         \n",
       "3            1  0x22739f9bbc10cf6412a67a3f135cd89e3e9e35f7         \n",
       "4            1  0x22739f9bbc10cf6412a67a3f135cd89e3e9e35f7         \n",
       "...        ...                                         ...   ...   \n",
       "2923         1                                         NaN   NaN   \n",
       "2924         1                                         NaN   NaN   \n",
       "2925         1                                         NaN   NaN   \n",
       "2926         1                                         NaN   NaN   \n",
       "2927         1                                         NaN   NaN   \n",
       "\n",
       "                                                payment criteria  \\\n",
       "0     {'quantity': '3800000000000000', 'token_addres...       {}   \n",
       "1     {'quantity': '4100000000000000', 'token_addres...       {}   \n",
       "2     {'quantity': '10250000000000000000', 'token_ad...       {}   \n",
       "3     {'quantity': '10250000000000000000', 'token_ad...       {}   \n",
       "4     {'quantity': '410000000000000000', 'token_addr...       {}   \n",
       "...                                                 ...      ...   \n",
       "2923  {'quantity': '1000000000000000', 'token_addres...      NaN   \n",
       "2924  {'quantity': '110000000000000000', 'token_addr...      NaN   \n",
       "2925  {'quantity': '10000000000000000', 'token_addre...      NaN   \n",
       "2926  {'quantity': '150000000000000000', 'token_addr...      NaN   \n",
       "2927  {'quantity': '22000000000000000', 'token_addre...      NaN   \n",
       "\n",
       "      event_timestamp is_private_listing     closing_date  \\\n",
       "0          1720237438              False              NaN   \n",
       "1          1720237244              False              NaN   \n",
       "2          1720234240              False              NaN   \n",
       "3          1720234240              False              NaN   \n",
       "4          1720234067              False              NaN   \n",
       "...               ...                ...              ...   \n",
       "2923       1706970257                NaN 1,706,970,257.00   \n",
       "2924       1706653465                NaN 1,706,653,465.00   \n",
       "2925       1706203283                NaN 1,706,203,283.00   \n",
       "2926       1704080589                NaN 1,704,080,589.00   \n",
       "2927       1703624873                NaN 1,703,624,873.00   \n",
       "\n",
       "                                                    nft  \\\n",
       "0                                                   NaN   \n",
       "1                                                   NaN   \n",
       "2                                                   NaN   \n",
       "3                                                   NaN   \n",
       "4                                                   NaN   \n",
       "...                                                 ...   \n",
       "2923  {'identifier': '260923785748676206958654735781...   \n",
       "2924  {'identifier': '566479911085778512201556021651...   \n",
       "2925  {'identifier': '364706086468987072255605061503...   \n",
       "2926  {'identifier': '992340878683635895851755157396...   \n",
       "2927  {'identifier': '686186082504474765846111255346...   \n",
       "\n",
       "                                          seller  \\\n",
       "0                                            NaN   \n",
       "1                                            NaN   \n",
       "2                                            NaN   \n",
       "3                                            NaN   \n",
       "4                                            NaN   \n",
       "...                                          ...   \n",
       "2923  0xcc0e0b9ebd4ce352f5a50b3ae77ea01202c284ee   \n",
       "2924  0x240ad467a71210629d71d4de22ebde27951c83fc   \n",
       "2925  0x7b363822d744143d51c69b0757165c987a6e4ef4   \n",
       "2926  0x31b32020fb1bdf0228c58b80590f07b235f2b0ce   \n",
       "2927  0xff3d39f7766ebb57a4175b6d919937409f6d6fee   \n",
       "\n",
       "                                           buyer  \\\n",
       "0                                            NaN   \n",
       "1                                            NaN   \n",
       "2                                            NaN   \n",
       "3                                            NaN   \n",
       "4                                            NaN   \n",
       "...                                          ...   \n",
       "2923  0xc48a8ac51df7b71e500a5580b89e47ab26ca1472   \n",
       "2924  0x82eb45562f991329ed2867f43fc60f0ba52c3dab   \n",
       "2925  0xe68e8cc7ff772b026c062b9cc28246676d044947   \n",
       "2926  0x64233eaa064ef0d54ff1a963933d0d2d46ab5829   \n",
       "2927  0x46f09888867c8cd9042b943099663e856e43de46   \n",
       "\n",
       "                                            transaction  \n",
       "0                                                   NaN  \n",
       "1                                                   NaN  \n",
       "2                                                   NaN  \n",
       "3                                                   NaN  \n",
       "4                                                   NaN  \n",
       "...                                                 ...  \n",
       "2923  0x60e952a8e0fa8d052791b2e4a22fd52eb3c759511e62...  \n",
       "2924  0x6672189deb7829838aabba20ddeb66a3cb5fee5b55a2...  \n",
       "2925  0xd8e71f4d52c43fa770b9aa7ad7d5cfb073f04c7495e0...  \n",
       "2926  0x186d1ceacf620bab710d11cf928b79e5dd46790ff1d5...  \n",
       "2927  0x1c7ed62756b60a73470fa39ea6546510ad426e261d14...  \n",
       "\n",
       "[2928 rows x 20 columns]"
      ]
     },
     "execution_count": 440,
     "metadata": {},
     "output_type": "execute_result"
    }
   ],
   "source": [
    "events_df_copy = events_df.copy()\n",
    "events_df_copy"
   ]
  },
  {
   "cell_type": "code",
   "execution_count": 454,
   "metadata": {},
   "outputs": [
    {
     "data": {
      "text/html": [
       "<div>\n",
       "<style scoped>\n",
       "    .dataframe tbody tr th:only-of-type {\n",
       "        vertical-align: middle;\n",
       "    }\n",
       "\n",
       "    .dataframe tbody tr th {\n",
       "        vertical-align: top;\n",
       "    }\n",
       "\n",
       "    .dataframe thead th {\n",
       "        text-align: right;\n",
       "    }\n",
       "</style>\n",
       "<table border=\"1\" class=\"dataframe\">\n",
       "  <thead>\n",
       "    <tr style=\"text-align: right;\">\n",
       "      <th></th>\n",
       "      <th>event_type</th>\n",
       "      <th>order_hash</th>\n",
       "      <th>order_type</th>\n",
       "      <th>chain</th>\n",
       "      <th>protocol_address</th>\n",
       "      <th>start_date</th>\n",
       "      <th>expiration_date</th>\n",
       "      <th>asset</th>\n",
       "      <th>quantity</th>\n",
       "      <th>maker</th>\n",
       "      <th>taker</th>\n",
       "      <th>payment</th>\n",
       "      <th>criteria</th>\n",
       "      <th>event_timestamp</th>\n",
       "      <th>is_private_listing</th>\n",
       "      <th>closing_date</th>\n",
       "      <th>nft</th>\n",
       "      <th>seller</th>\n",
       "      <th>buyer</th>\n",
       "      <th>transaction</th>\n",
       "    </tr>\n",
       "  </thead>\n",
       "  <tbody>\n",
       "    <tr>\n",
       "      <th>0</th>\n",
       "      <td>order</td>\n",
       "      <td>0x983e688bda44a880edfa1cb92a339c986fff7d1d8a89...</td>\n",
       "      <td>listing</td>\n",
       "      <td>optimism</td>\n",
       "      <td>0x0000000000000068f116a894984e2db1123eb395</td>\n",
       "      <td>1,720,237,423.00</td>\n",
       "      <td>1,722,915,815.00</td>\n",
       "      <td>{'identifier': '123558974577682993811495050087...</td>\n",
       "      <td>1</td>\n",
       "      <td>0x5e7e26fabb9b813e2faa24234e4ff7a8c7bf9cad</td>\n",
       "      <td></td>\n",
       "      <td>{'quantity': '3800000000000000', 'token_addres...</td>\n",
       "      <td>{}</td>\n",
       "      <td>1720237438</td>\n",
       "      <td>False</td>\n",
       "      <td>NaN</td>\n",
       "      <td>NaN</td>\n",
       "      <td>NaN</td>\n",
       "      <td>NaN</td>\n",
       "      <td>NaN</td>\n",
       "    </tr>\n",
       "    <tr>\n",
       "      <th>1</th>\n",
       "      <td>order</td>\n",
       "      <td>0xb52bcae9f69517283444522735fc9cd0dcdd2df7e90d...</td>\n",
       "      <td>listing</td>\n",
       "      <td>optimism</td>\n",
       "      <td>0x0000000000000068f116a894984e2db1123eb395</td>\n",
       "      <td>1,720,237,231.00</td>\n",
       "      <td>1,722,915,586.00</td>\n",
       "      <td>{'identifier': '360118525401874510073463955038...</td>\n",
       "      <td>1</td>\n",
       "      <td>0x5e7e26fabb9b813e2faa24234e4ff7a8c7bf9cad</td>\n",
       "      <td></td>\n",
       "      <td>{'quantity': '4100000000000000', 'token_addres...</td>\n",
       "      <td>{}</td>\n",
       "      <td>1720237244</td>\n",
       "      <td>False</td>\n",
       "      <td>NaN</td>\n",
       "      <td>NaN</td>\n",
       "      <td>NaN</td>\n",
       "      <td>NaN</td>\n",
       "      <td>NaN</td>\n",
       "    </tr>\n",
       "    <tr>\n",
       "      <th>2</th>\n",
       "      <td>order</td>\n",
       "      <td>0x3bf6f73f8456237ca2aac3cc5f7a2f9f22b8a1b4ce9a...</td>\n",
       "      <td>listing</td>\n",
       "      <td>optimism</td>\n",
       "      <td>0x0000000000000068f116a894984e2db1123eb395</td>\n",
       "      <td>1,720,234,176.00</td>\n",
       "      <td>1,735,786,228.00</td>\n",
       "      <td>{'identifier': '102926579013154103204029678028...</td>\n",
       "      <td>1</td>\n",
       "      <td>0x22739f9bbc10cf6412a67a3f135cd89e3e9e35f7</td>\n",
       "      <td></td>\n",
       "      <td>{'quantity': '10250000000000000000', 'token_ad...</td>\n",
       "      <td>{}</td>\n",
       "      <td>1720234240</td>\n",
       "      <td>False</td>\n",
       "      <td>NaN</td>\n",
       "      <td>NaN</td>\n",
       "      <td>NaN</td>\n",
       "      <td>NaN</td>\n",
       "      <td>NaN</td>\n",
       "    </tr>\n",
       "    <tr>\n",
       "      <th>3</th>\n",
       "      <td>order</td>\n",
       "      <td>0x2017a8bc278f9ed47ae209d6f643e6555e042752b0fc...</td>\n",
       "      <td>listing</td>\n",
       "      <td>optimism</td>\n",
       "      <td>0x0000000000000068f116a894984e2db1123eb395</td>\n",
       "      <td>1,720,234,176.00</td>\n",
       "      <td>1,735,786,228.00</td>\n",
       "      <td>{'identifier': '984146680085041125667580852961...</td>\n",
       "      <td>1</td>\n",
       "      <td>0x22739f9bbc10cf6412a67a3f135cd89e3e9e35f7</td>\n",
       "      <td></td>\n",
       "      <td>{'quantity': '10250000000000000000', 'token_ad...</td>\n",
       "      <td>{}</td>\n",
       "      <td>1720234240</td>\n",
       "      <td>False</td>\n",
       "      <td>NaN</td>\n",
       "      <td>NaN</td>\n",
       "      <td>NaN</td>\n",
       "      <td>NaN</td>\n",
       "      <td>NaN</td>\n",
       "    </tr>\n",
       "    <tr>\n",
       "      <th>4</th>\n",
       "      <td>order</td>\n",
       "      <td>0xb67bca48b982ea3330efbcbf0a5fc9de922d42c1b9a7...</td>\n",
       "      <td>listing</td>\n",
       "      <td>optimism</td>\n",
       "      <td>0x0000000000000068f116a894984e2db1123eb395</td>\n",
       "      <td>1,720,234,002.00</td>\n",
       "      <td>1,720,237,555.00</td>\n",
       "      <td>{'identifier': '412437292300569613373968868435...</td>\n",
       "      <td>1</td>\n",
       "      <td>0x22739f9bbc10cf6412a67a3f135cd89e3e9e35f7</td>\n",
       "      <td></td>\n",
       "      <td>{'quantity': '410000000000000000', 'token_addr...</td>\n",
       "      <td>{}</td>\n",
       "      <td>1720234067</td>\n",
       "      <td>False</td>\n",
       "      <td>NaN</td>\n",
       "      <td>NaN</td>\n",
       "      <td>NaN</td>\n",
       "      <td>NaN</td>\n",
       "      <td>NaN</td>\n",
       "    </tr>\n",
       "    <tr>\n",
       "      <th>...</th>\n",
       "      <td>...</td>\n",
       "      <td>...</td>\n",
       "      <td>...</td>\n",
       "      <td>...</td>\n",
       "      <td>...</td>\n",
       "      <td>...</td>\n",
       "      <td>...</td>\n",
       "      <td>...</td>\n",
       "      <td>...</td>\n",
       "      <td>...</td>\n",
       "      <td>...</td>\n",
       "      <td>...</td>\n",
       "      <td>...</td>\n",
       "      <td>...</td>\n",
       "      <td>...</td>\n",
       "      <td>...</td>\n",
       "      <td>...</td>\n",
       "      <td>...</td>\n",
       "      <td>...</td>\n",
       "      <td>...</td>\n",
       "    </tr>\n",
       "    <tr>\n",
       "      <th>2834</th>\n",
       "      <td>order</td>\n",
       "      <td>0x3bbb21c5a1766b47ea91b2dafd73e7cb28198b41b3c6...</td>\n",
       "      <td>listing</td>\n",
       "      <td>optimism</td>\n",
       "      <td>0x00000000000000adc04c56bf30ac9d3c0aaf14dc</td>\n",
       "      <td>1,703,615,460.00</td>\n",
       "      <td>1,706,293,860.00</td>\n",
       "      <td>{'identifier': '596691372334868032834900148779...</td>\n",
       "      <td>1</td>\n",
       "      <td>0xec00481d13a4028e0b76b031cf5c863604cb2d4b</td>\n",
       "      <td></td>\n",
       "      <td>{'quantity': '3000000000000000000', 'token_add...</td>\n",
       "      <td>{}</td>\n",
       "      <td>1703615466</td>\n",
       "      <td>False</td>\n",
       "      <td>NaN</td>\n",
       "      <td>NaN</td>\n",
       "      <td>NaN</td>\n",
       "      <td>NaN</td>\n",
       "      <td>NaN</td>\n",
       "    </tr>\n",
       "    <tr>\n",
       "      <th>2835</th>\n",
       "      <td>order</td>\n",
       "      <td>0xa2931b385c3bd5c237a44cc39a452e9f12499ba6cafd...</td>\n",
       "      <td>listing</td>\n",
       "      <td>optimism</td>\n",
       "      <td>0x00000000000000adc04c56bf30ac9d3c0aaf14dc</td>\n",
       "      <td>1,703,615,375.00</td>\n",
       "      <td>1,706,293,775.00</td>\n",
       "      <td>{'identifier': '178657174778441322562715723560...</td>\n",
       "      <td>1</td>\n",
       "      <td>0xec00481d13a4028e0b76b031cf5c863604cb2d4b</td>\n",
       "      <td></td>\n",
       "      <td>{'quantity': '3000000000000000000', 'token_add...</td>\n",
       "      <td>{}</td>\n",
       "      <td>1703615382</td>\n",
       "      <td>False</td>\n",
       "      <td>NaN</td>\n",
       "      <td>NaN</td>\n",
       "      <td>NaN</td>\n",
       "      <td>NaN</td>\n",
       "      <td>NaN</td>\n",
       "    </tr>\n",
       "    <tr>\n",
       "      <th>2836</th>\n",
       "      <td>order</td>\n",
       "      <td>0x0fff804500518519b60164f5a10ef76e63da9ee77775...</td>\n",
       "      <td>listing</td>\n",
       "      <td>optimism</td>\n",
       "      <td>0x00000000000000adc04c56bf30ac9d3c0aaf14dc</td>\n",
       "      <td>1,703,615,237.00</td>\n",
       "      <td>1,706,293,637.00</td>\n",
       "      <td>{'identifier': '887409359338823895470224549460...</td>\n",
       "      <td>1</td>\n",
       "      <td>0x64233eaa064ef0d54ff1a963933d0d2d46ab5829</td>\n",
       "      <td></td>\n",
       "      <td>{'quantity': '3000000000000000000', 'token_add...</td>\n",
       "      <td>{}</td>\n",
       "      <td>1703615249</td>\n",
       "      <td>False</td>\n",
       "      <td>NaN</td>\n",
       "      <td>NaN</td>\n",
       "      <td>NaN</td>\n",
       "      <td>NaN</td>\n",
       "      <td>NaN</td>\n",
       "    </tr>\n",
       "    <tr>\n",
       "      <th>2837</th>\n",
       "      <td>order</td>\n",
       "      <td>0x3e6ab1b4b98dd45a1cd97fc141659077293095161497...</td>\n",
       "      <td>listing</td>\n",
       "      <td>optimism</td>\n",
       "      <td>0x00000000000000adc04c56bf30ac9d3c0aaf14dc</td>\n",
       "      <td>1,703,607,296.00</td>\n",
       "      <td>1,704,212,091.00</td>\n",
       "      <td>{'identifier': '117315147600270829665702926801...</td>\n",
       "      <td>1</td>\n",
       "      <td>0x7af4ca674c86ac74d15ae668ae7ffbe4f7ddafbf</td>\n",
       "      <td></td>\n",
       "      <td>{'quantity': '1000000000000000000', 'token_add...</td>\n",
       "      <td>{}</td>\n",
       "      <td>1703607304</td>\n",
       "      <td>False</td>\n",
       "      <td>NaN</td>\n",
       "      <td>NaN</td>\n",
       "      <td>NaN</td>\n",
       "      <td>NaN</td>\n",
       "      <td>NaN</td>\n",
       "    </tr>\n",
       "    <tr>\n",
       "      <th>2838</th>\n",
       "      <td>order</td>\n",
       "      <td>0xfa1fc15cc75af15d1eef31d3d9a5e597180c37d8c3d4...</td>\n",
       "      <td>listing</td>\n",
       "      <td>optimism</td>\n",
       "      <td>0x00000000000000adc04c56bf30ac9d3c0aaf14dc</td>\n",
       "      <td>1,703,292,558.00</td>\n",
       "      <td>1,703,296,155.00</td>\n",
       "      <td>{'identifier': '657195321914502421721219856086...</td>\n",
       "      <td>1</td>\n",
       "      <td>0x7af4ca674c86ac74d15ae668ae7ffbe4f7ddafbf</td>\n",
       "      <td></td>\n",
       "      <td>{'quantity': '1000000000000000000', 'token_add...</td>\n",
       "      <td>{}</td>\n",
       "      <td>1703292579</td>\n",
       "      <td>False</td>\n",
       "      <td>NaN</td>\n",
       "      <td>NaN</td>\n",
       "      <td>NaN</td>\n",
       "      <td>NaN</td>\n",
       "      <td>NaN</td>\n",
       "    </tr>\n",
       "  </tbody>\n",
       "</table>\n",
       "<p>2839 rows × 20 columns</p>\n",
       "</div>"
      ],
      "text/plain": [
       "     event_type                                         order_hash order_type  \\\n",
       "0         order  0x983e688bda44a880edfa1cb92a339c986fff7d1d8a89...    listing   \n",
       "1         order  0xb52bcae9f69517283444522735fc9cd0dcdd2df7e90d...    listing   \n",
       "2         order  0x3bf6f73f8456237ca2aac3cc5f7a2f9f22b8a1b4ce9a...    listing   \n",
       "3         order  0x2017a8bc278f9ed47ae209d6f643e6555e042752b0fc...    listing   \n",
       "4         order  0xb67bca48b982ea3330efbcbf0a5fc9de922d42c1b9a7...    listing   \n",
       "...         ...                                                ...        ...   \n",
       "2834      order  0x3bbb21c5a1766b47ea91b2dafd73e7cb28198b41b3c6...    listing   \n",
       "2835      order  0xa2931b385c3bd5c237a44cc39a452e9f12499ba6cafd...    listing   \n",
       "2836      order  0x0fff804500518519b60164f5a10ef76e63da9ee77775...    listing   \n",
       "2837      order  0x3e6ab1b4b98dd45a1cd97fc141659077293095161497...    listing   \n",
       "2838      order  0xfa1fc15cc75af15d1eef31d3d9a5e597180c37d8c3d4...    listing   \n",
       "\n",
       "         chain                            protocol_address       start_date  \\\n",
       "0     optimism  0x0000000000000068f116a894984e2db1123eb395 1,720,237,423.00   \n",
       "1     optimism  0x0000000000000068f116a894984e2db1123eb395 1,720,237,231.00   \n",
       "2     optimism  0x0000000000000068f116a894984e2db1123eb395 1,720,234,176.00   \n",
       "3     optimism  0x0000000000000068f116a894984e2db1123eb395 1,720,234,176.00   \n",
       "4     optimism  0x0000000000000068f116a894984e2db1123eb395 1,720,234,002.00   \n",
       "...        ...                                         ...              ...   \n",
       "2834  optimism  0x00000000000000adc04c56bf30ac9d3c0aaf14dc 1,703,615,460.00   \n",
       "2835  optimism  0x00000000000000adc04c56bf30ac9d3c0aaf14dc 1,703,615,375.00   \n",
       "2836  optimism  0x00000000000000adc04c56bf30ac9d3c0aaf14dc 1,703,615,237.00   \n",
       "2837  optimism  0x00000000000000adc04c56bf30ac9d3c0aaf14dc 1,703,607,296.00   \n",
       "2838  optimism  0x00000000000000adc04c56bf30ac9d3c0aaf14dc 1,703,292,558.00   \n",
       "\n",
       "      expiration_date                                              asset  \\\n",
       "0    1,722,915,815.00  {'identifier': '123558974577682993811495050087...   \n",
       "1    1,722,915,586.00  {'identifier': '360118525401874510073463955038...   \n",
       "2    1,735,786,228.00  {'identifier': '102926579013154103204029678028...   \n",
       "3    1,735,786,228.00  {'identifier': '984146680085041125667580852961...   \n",
       "4    1,720,237,555.00  {'identifier': '412437292300569613373968868435...   \n",
       "...               ...                                                ...   \n",
       "2834 1,706,293,860.00  {'identifier': '596691372334868032834900148779...   \n",
       "2835 1,706,293,775.00  {'identifier': '178657174778441322562715723560...   \n",
       "2836 1,706,293,637.00  {'identifier': '887409359338823895470224549460...   \n",
       "2837 1,704,212,091.00  {'identifier': '117315147600270829665702926801...   \n",
       "2838 1,703,296,155.00  {'identifier': '657195321914502421721219856086...   \n",
       "\n",
       "      quantity                                       maker taker  \\\n",
       "0            1  0x5e7e26fabb9b813e2faa24234e4ff7a8c7bf9cad         \n",
       "1            1  0x5e7e26fabb9b813e2faa24234e4ff7a8c7bf9cad         \n",
       "2            1  0x22739f9bbc10cf6412a67a3f135cd89e3e9e35f7         \n",
       "3            1  0x22739f9bbc10cf6412a67a3f135cd89e3e9e35f7         \n",
       "4            1  0x22739f9bbc10cf6412a67a3f135cd89e3e9e35f7         \n",
       "...        ...                                         ...   ...   \n",
       "2834         1  0xec00481d13a4028e0b76b031cf5c863604cb2d4b         \n",
       "2835         1  0xec00481d13a4028e0b76b031cf5c863604cb2d4b         \n",
       "2836         1  0x64233eaa064ef0d54ff1a963933d0d2d46ab5829         \n",
       "2837         1  0x7af4ca674c86ac74d15ae668ae7ffbe4f7ddafbf         \n",
       "2838         1  0x7af4ca674c86ac74d15ae668ae7ffbe4f7ddafbf         \n",
       "\n",
       "                                                payment criteria  \\\n",
       "0     {'quantity': '3800000000000000', 'token_addres...       {}   \n",
       "1     {'quantity': '4100000000000000', 'token_addres...       {}   \n",
       "2     {'quantity': '10250000000000000000', 'token_ad...       {}   \n",
       "3     {'quantity': '10250000000000000000', 'token_ad...       {}   \n",
       "4     {'quantity': '410000000000000000', 'token_addr...       {}   \n",
       "...                                                 ...      ...   \n",
       "2834  {'quantity': '3000000000000000000', 'token_add...       {}   \n",
       "2835  {'quantity': '3000000000000000000', 'token_add...       {}   \n",
       "2836  {'quantity': '3000000000000000000', 'token_add...       {}   \n",
       "2837  {'quantity': '1000000000000000000', 'token_add...       {}   \n",
       "2838  {'quantity': '1000000000000000000', 'token_add...       {}   \n",
       "\n",
       "      event_timestamp is_private_listing  closing_date  nft seller buyer  \\\n",
       "0          1720237438              False           NaN  NaN    NaN   NaN   \n",
       "1          1720237244              False           NaN  NaN    NaN   NaN   \n",
       "2          1720234240              False           NaN  NaN    NaN   NaN   \n",
       "3          1720234240              False           NaN  NaN    NaN   NaN   \n",
       "4          1720234067              False           NaN  NaN    NaN   NaN   \n",
       "...               ...                ...           ...  ...    ...   ...   \n",
       "2834       1703615466              False           NaN  NaN    NaN   NaN   \n",
       "2835       1703615382              False           NaN  NaN    NaN   NaN   \n",
       "2836       1703615249              False           NaN  NaN    NaN   NaN   \n",
       "2837       1703607304              False           NaN  NaN    NaN   NaN   \n",
       "2838       1703292579              False           NaN  NaN    NaN   NaN   \n",
       "\n",
       "     transaction  \n",
       "0            NaN  \n",
       "1            NaN  \n",
       "2            NaN  \n",
       "3            NaN  \n",
       "4            NaN  \n",
       "...          ...  \n",
       "2834         NaN  \n",
       "2835         NaN  \n",
       "2836         NaN  \n",
       "2837         NaN  \n",
       "2838         NaN  \n",
       "\n",
       "[2839 rows x 20 columns]"
      ]
     },
     "execution_count": 454,
     "metadata": {},
     "output_type": "execute_result"
    }
   ],
   "source": [
    "bids = events_df_copy[events_df_copy['event_type'] == 'order']\n",
    "sales = events_df_copy[events_df_copy['event_type'] == 'sale']\n",
    "\n",
    "bids"
   ]
  },
  {
   "cell_type": "code",
   "execution_count": 455,
   "metadata": {},
   "outputs": [
    {
     "name": "stderr",
     "output_type": "stream",
     "text": [
      "C:\\Users\\brandyns pc\\AppData\\Local\\Temp\\ipykernel_12140\\2668839905.py:1: SettingWithCopyWarning:\n",
      "\n",
      "\n",
      "A value is trying to be set on a copy of a slice from a DataFrame.\n",
      "Try using .loc[row_indexer,col_indexer] = value instead\n",
      "\n",
      "See the caveats in the documentation: https://pandas.pydata.org/pandas-docs/stable/user_guide/indexing.html#returning-a-view-versus-a-copy\n",
      "\n",
      "C:\\Users\\brandyns pc\\AppData\\Local\\Temp\\ipykernel_12140\\2668839905.py:2: SettingWithCopyWarning:\n",
      "\n",
      "\n",
      "A value is trying to be set on a copy of a slice from a DataFrame.\n",
      "Try using .loc[row_indexer,col_indexer] = value instead\n",
      "\n",
      "See the caveats in the documentation: https://pandas.pydata.org/pandas-docs/stable/user_guide/indexing.html#returning-a-view-versus-a-copy\n",
      "\n"
     ]
    }
   ],
   "source": [
    "bids['identifier'] = bids['asset'].apply(lambda x: x.get('identifier') if isinstance(x, dict) else None)\n",
    "sales['identifier'] = sales['nft'].apply(lambda x: x.get('identifier') if isinstance(x, dict) else None)"
   ]
  },
  {
   "cell_type": "code",
   "execution_count": 456,
   "metadata": {},
   "outputs": [
    {
     "name": "stderr",
     "output_type": "stream",
     "text": [
      "C:\\Users\\brandyns pc\\AppData\\Local\\Temp\\ipykernel_12140\\46667634.py:1: SettingWithCopyWarning:\n",
      "\n",
      "\n",
      "A value is trying to be set on a copy of a slice from a DataFrame.\n",
      "Try using .loc[row_indexer,col_indexer] = value instead\n",
      "\n",
      "See the caveats in the documentation: https://pandas.pydata.org/pandas-docs/stable/user_guide/indexing.html#returning-a-view-versus-a-copy\n",
      "\n",
      "C:\\Users\\brandyns pc\\AppData\\Local\\Temp\\ipykernel_12140\\46667634.py:2: SettingWithCopyWarning:\n",
      "\n",
      "\n",
      "A value is trying to be set on a copy of a slice from a DataFrame\n",
      "\n",
      "See the caveats in the documentation: https://pandas.pydata.org/pandas-docs/stable/user_guide/indexing.html#returning-a-view-versus-a-copy\n",
      "\n"
     ]
    }
   ],
   "source": [
    "bids['identifier'] = bids['identifier'].astype(float)\n",
    "bids.rename(columns={'identifier':'tokenid'}, inplace=True) \n"
   ]
  },
  {
   "cell_type": "code",
   "execution_count": 457,
   "metadata": {},
   "outputs": [],
   "source": [
    "bids = bids.merge(descriptions_df, how='left', on='tokenid')"
   ]
  },
  {
   "cell_type": "code",
   "execution_count": 458,
   "metadata": {},
   "outputs": [
    {
     "data": {
      "text/plain": [
       "Index(['event_type', 'order_hash', 'order_type', 'chain', 'protocol_address',\n",
       "       'start_date', 'expiration_date', 'asset', 'quantity', 'maker', 'taker',\n",
       "       'payment', 'criteria', 'event_timestamp', 'is_private_listing',\n",
       "       'closing_date', 'nft', 'seller', 'buyer', 'transaction', 'tokenid',\n",
       "       'name'],\n",
       "      dtype='object')"
      ]
     },
     "execution_count": 458,
     "metadata": {},
     "output_type": "execute_result"
    }
   ],
   "source": [
    "bids.columns"
   ]
  },
  {
   "cell_type": "code",
   "execution_count": 459,
   "metadata": {},
   "outputs": [],
   "source": [
    "bids.drop(columns=['protocol_address','chain','maker','criteria','is_private_listing','closing_date','nft','seller','buyer'], inplace=True)"
   ]
  },
  {
   "cell_type": "code",
   "execution_count": null,
   "metadata": {},
   "outputs": [],
   "source": []
  },
  {
   "cell_type": "code",
   "execution_count": 460,
   "metadata": {},
   "outputs": [
    {
     "name": "stderr",
     "output_type": "stream",
     "text": [
      "C:\\Users\\brandyns pc\\AppData\\Local\\Temp\\ipykernel_12140\\3642358893.py:1: SettingWithCopyWarning:\n",
      "\n",
      "\n",
      "A value is trying to be set on a copy of a slice from a DataFrame.\n",
      "Try using .loc[row_indexer,col_indexer] = value instead\n",
      "\n",
      "See the caveats in the documentation: https://pandas.pydata.org/pandas-docs/stable/user_guide/indexing.html#returning-a-view-versus-a-copy\n",
      "\n",
      "C:\\Users\\brandyns pc\\AppData\\Local\\Temp\\ipykernel_12140\\3642358893.py:2: SettingWithCopyWarning:\n",
      "\n",
      "\n",
      "A value is trying to be set on a copy of a slice from a DataFrame\n",
      "\n",
      "See the caveats in the documentation: https://pandas.pydata.org/pandas-docs/stable/user_guide/indexing.html#returning-a-view-versus-a-copy\n",
      "\n"
     ]
    }
   ],
   "source": [
    "sales['identifier'] = sales['identifier'].astype(float)\n",
    "sales.rename(columns={'identifier':'tokenid'}, inplace=True)\n"
   ]
  },
  {
   "cell_type": "code",
   "execution_count": 461,
   "metadata": {},
   "outputs": [],
   "source": [
    "sales = sales.merge(descriptions_df, how='left', on='tokenid')\n",
    "sales.drop(columns=['order_type', 'chain','start_date','expiration_date','asset','maker','is_private_listing','protocol_address','criteria'], inplace=True)"
   ]
  },
  {
   "cell_type": "code",
   "execution_count": 462,
   "metadata": {},
   "outputs": [
    {
     "data": {
      "text/html": [
       "<div>\n",
       "<style scoped>\n",
       "    .dataframe tbody tr th:only-of-type {\n",
       "        vertical-align: middle;\n",
       "    }\n",
       "\n",
       "    .dataframe tbody tr th {\n",
       "        vertical-align: top;\n",
       "    }\n",
       "\n",
       "    .dataframe thead th {\n",
       "        text-align: right;\n",
       "    }\n",
       "</style>\n",
       "<table border=\"1\" class=\"dataframe\">\n",
       "  <thead>\n",
       "    <tr style=\"text-align: right;\">\n",
       "      <th></th>\n",
       "      <th>event_type</th>\n",
       "      <th>order_hash</th>\n",
       "      <th>order_type</th>\n",
       "      <th>start_date</th>\n",
       "      <th>expiration_date</th>\n",
       "      <th>asset</th>\n",
       "      <th>quantity</th>\n",
       "      <th>taker</th>\n",
       "      <th>payment</th>\n",
       "      <th>event_timestamp</th>\n",
       "      <th>transaction</th>\n",
       "      <th>tokenid</th>\n",
       "      <th>name</th>\n",
       "    </tr>\n",
       "  </thead>\n",
       "  <tbody>\n",
       "    <tr>\n",
       "      <th>0</th>\n",
       "      <td>order</td>\n",
       "      <td>0x983e688bda44a880edfa1cb92a339c986fff7d1d8a89...</td>\n",
       "      <td>listing</td>\n",
       "      <td>1,720,237,423.00</td>\n",
       "      <td>1,722,915,815.00</td>\n",
       "      <td>{'identifier': '123558974577682993811495050087...</td>\n",
       "      <td>1</td>\n",
       "      <td></td>\n",
       "      <td>{'quantity': '3800000000000000', 'token_addres...</td>\n",
       "      <td>1720237438</td>\n",
       "      <td>NaN</td>\n",
       "      <td>12,355,897,457,768,299,701,688,231,177,476,341,...</td>\n",
       "      <td>art-if-icialgaming.xyz</td>\n",
       "    </tr>\n",
       "    <tr>\n",
       "      <th>1</th>\n",
       "      <td>order</td>\n",
       "      <td>0xb52bcae9f69517283444522735fc9cd0dcdd2df7e90d...</td>\n",
       "      <td>listing</td>\n",
       "      <td>1,720,237,231.00</td>\n",
       "      <td>1,722,915,586.00</td>\n",
       "      <td>{'identifier': '360118525401874510073463955038...</td>\n",
       "      <td>1</td>\n",
       "      <td></td>\n",
       "      <td>{'quantity': '4100000000000000', 'token_addres...</td>\n",
       "      <td>1720237244</td>\n",
       "      <td>NaN</td>\n",
       "      <td>36,011,852,540,187,452,254,927,620,002,392,477,...</td>\n",
       "      <td>wwwdigital.quest</td>\n",
       "    </tr>\n",
       "    <tr>\n",
       "      <th>2</th>\n",
       "      <td>order</td>\n",
       "      <td>0x3bf6f73f8456237ca2aac3cc5f7a2f9f22b8a1b4ce9a...</td>\n",
       "      <td>listing</td>\n",
       "      <td>1,720,234,176.00</td>\n",
       "      <td>1,735,786,228.00</td>\n",
       "      <td>{'identifier': '102926579013154103204029678028...</td>\n",
       "      <td>1</td>\n",
       "      <td></td>\n",
       "      <td>{'quantity': '10250000000000000000', 'token_ad...</td>\n",
       "      <td>1720234240</td>\n",
       "      <td>NaN</td>\n",
       "      <td>102,926,579,013,154,100,286,505,544,828,164,204...</td>\n",
       "      <td>dollar.box</td>\n",
       "    </tr>\n",
       "    <tr>\n",
       "      <th>3</th>\n",
       "      <td>order</td>\n",
       "      <td>0x2017a8bc278f9ed47ae209d6f643e6555e042752b0fc...</td>\n",
       "      <td>listing</td>\n",
       "      <td>1,720,234,176.00</td>\n",
       "      <td>1,735,786,228.00</td>\n",
       "      <td>{'identifier': '984146680085041125667580852961...</td>\n",
       "      <td>1</td>\n",
       "      <td></td>\n",
       "      <td>{'quantity': '10250000000000000000', 'token_ad...</td>\n",
       "      <td>1720234240</td>\n",
       "      <td>NaN</td>\n",
       "      <td>98,414,668,008,504,107,161,480,855,001,558,634,...</td>\n",
       "      <td>ok.box</td>\n",
       "    </tr>\n",
       "    <tr>\n",
       "      <th>4</th>\n",
       "      <td>order</td>\n",
       "      <td>0xb67bca48b982ea3330efbcbf0a5fc9de922d42c1b9a7...</td>\n",
       "      <td>listing</td>\n",
       "      <td>1,720,234,002.00</td>\n",
       "      <td>1,720,237,555.00</td>\n",
       "      <td>{'identifier': '412437292300569613373968868435...</td>\n",
       "      <td>1</td>\n",
       "      <td></td>\n",
       "      <td>{'quantity': '410000000000000000', 'token_addr...</td>\n",
       "      <td>1720234067</td>\n",
       "      <td>NaN</td>\n",
       "      <td>41,243,729,230,056,959,187,156,630,795,533,044,...</td>\n",
       "      <td>84.box</td>\n",
       "    </tr>\n",
       "    <tr>\n",
       "      <th>...</th>\n",
       "      <td>...</td>\n",
       "      <td>...</td>\n",
       "      <td>...</td>\n",
       "      <td>...</td>\n",
       "      <td>...</td>\n",
       "      <td>...</td>\n",
       "      <td>...</td>\n",
       "      <td>...</td>\n",
       "      <td>...</td>\n",
       "      <td>...</td>\n",
       "      <td>...</td>\n",
       "      <td>...</td>\n",
       "      <td>...</td>\n",
       "    </tr>\n",
       "    <tr>\n",
       "      <th>2834</th>\n",
       "      <td>order</td>\n",
       "      <td>0x3bbb21c5a1766b47ea91b2dafd73e7cb28198b41b3c6...</td>\n",
       "      <td>listing</td>\n",
       "      <td>1,703,615,460.00</td>\n",
       "      <td>1,706,293,860.00</td>\n",
       "      <td>{'identifier': '596691372334868032834900148779...</td>\n",
       "      <td>1</td>\n",
       "      <td></td>\n",
       "      <td>{'quantity': '3000000000000000000', 'token_add...</td>\n",
       "      <td>1703615466</td>\n",
       "      <td>NaN</td>\n",
       "      <td>59,669,137,233,486,797,576,913,893,823,506,075,...</td>\n",
       "      <td>mintdomains.io</td>\n",
       "    </tr>\n",
       "    <tr>\n",
       "      <th>2835</th>\n",
       "      <td>order</td>\n",
       "      <td>0xa2931b385c3bd5c237a44cc39a452e9f12499ba6cafd...</td>\n",
       "      <td>listing</td>\n",
       "      <td>1,703,615,375.00</td>\n",
       "      <td>1,706,293,775.00</td>\n",
       "      <td>{'identifier': '178657174778441322562715723560...</td>\n",
       "      <td>1</td>\n",
       "      <td></td>\n",
       "      <td>{'quantity': '3000000000000000000', 'token_add...</td>\n",
       "      <td>1703615382</td>\n",
       "      <td>NaN</td>\n",
       "      <td>17,865,717,477,844,132,496,699,921,146,330,333,...</td>\n",
       "      <td>dnsloans.com</td>\n",
       "    </tr>\n",
       "    <tr>\n",
       "      <th>2836</th>\n",
       "      <td>order</td>\n",
       "      <td>0x0fff804500518519b60164f5a10ef76e63da9ee77775...</td>\n",
       "      <td>listing</td>\n",
       "      <td>1,703,615,237.00</td>\n",
       "      <td>1,706,293,637.00</td>\n",
       "      <td>{'identifier': '887409359338823895470224549460...</td>\n",
       "      <td>1</td>\n",
       "      <td></td>\n",
       "      <td>{'quantity': '3000000000000000000', 'token_add...</td>\n",
       "      <td>1703615249</td>\n",
       "      <td>NaN</td>\n",
       "      <td>8,874,093,593,388,239,065,001,647,753,652,567,1...</td>\n",
       "      <td>0ooo0ooo0.ooo</td>\n",
       "    </tr>\n",
       "    <tr>\n",
       "      <th>2837</th>\n",
       "      <td>order</td>\n",
       "      <td>0x3e6ab1b4b98dd45a1cd97fc141659077293095161497...</td>\n",
       "      <td>listing</td>\n",
       "      <td>1,703,607,296.00</td>\n",
       "      <td>1,704,212,091.00</td>\n",
       "      <td>{'identifier': '117315147600270829665702926801...</td>\n",
       "      <td>1</td>\n",
       "      <td></td>\n",
       "      <td>{'quantity': '1000000000000000000', 'token_add...</td>\n",
       "      <td>1703607304</td>\n",
       "      <td>NaN</td>\n",
       "      <td>11,731,514,760,027,082,503,362,540,473,080,970,...</td>\n",
       "      <td>tokentroopers.xyz</td>\n",
       "    </tr>\n",
       "    <tr>\n",
       "      <th>2838</th>\n",
       "      <td>order</td>\n",
       "      <td>0xfa1fc15cc75af15d1eef31d3d9a5e597180c37d8c3d4...</td>\n",
       "      <td>listing</td>\n",
       "      <td>1,703,292,558.00</td>\n",
       "      <td>1,703,296,155.00</td>\n",
       "      <td>{'identifier': '657195321914502421721219856086...</td>\n",
       "      <td>1</td>\n",
       "      <td></td>\n",
       "      <td>{'quantity': '1000000000000000000', 'token_add...</td>\n",
       "      <td>1703292579</td>\n",
       "      <td>NaN</td>\n",
       "      <td>65,719,532,191,450,246,034,153,398,416,049,793,...</td>\n",
       "      <td>paulio.org</td>\n",
       "    </tr>\n",
       "  </tbody>\n",
       "</table>\n",
       "<p>2839 rows × 13 columns</p>\n",
       "</div>"
      ],
      "text/plain": [
       "     event_type                                         order_hash order_type  \\\n",
       "0         order  0x983e688bda44a880edfa1cb92a339c986fff7d1d8a89...    listing   \n",
       "1         order  0xb52bcae9f69517283444522735fc9cd0dcdd2df7e90d...    listing   \n",
       "2         order  0x3bf6f73f8456237ca2aac3cc5f7a2f9f22b8a1b4ce9a...    listing   \n",
       "3         order  0x2017a8bc278f9ed47ae209d6f643e6555e042752b0fc...    listing   \n",
       "4         order  0xb67bca48b982ea3330efbcbf0a5fc9de922d42c1b9a7...    listing   \n",
       "...         ...                                                ...        ...   \n",
       "2834      order  0x3bbb21c5a1766b47ea91b2dafd73e7cb28198b41b3c6...    listing   \n",
       "2835      order  0xa2931b385c3bd5c237a44cc39a452e9f12499ba6cafd...    listing   \n",
       "2836      order  0x0fff804500518519b60164f5a10ef76e63da9ee77775...    listing   \n",
       "2837      order  0x3e6ab1b4b98dd45a1cd97fc141659077293095161497...    listing   \n",
       "2838      order  0xfa1fc15cc75af15d1eef31d3d9a5e597180c37d8c3d4...    listing   \n",
       "\n",
       "           start_date  expiration_date  \\\n",
       "0    1,720,237,423.00 1,722,915,815.00   \n",
       "1    1,720,237,231.00 1,722,915,586.00   \n",
       "2    1,720,234,176.00 1,735,786,228.00   \n",
       "3    1,720,234,176.00 1,735,786,228.00   \n",
       "4    1,720,234,002.00 1,720,237,555.00   \n",
       "...               ...              ...   \n",
       "2834 1,703,615,460.00 1,706,293,860.00   \n",
       "2835 1,703,615,375.00 1,706,293,775.00   \n",
       "2836 1,703,615,237.00 1,706,293,637.00   \n",
       "2837 1,703,607,296.00 1,704,212,091.00   \n",
       "2838 1,703,292,558.00 1,703,296,155.00   \n",
       "\n",
       "                                                  asset  quantity taker  \\\n",
       "0     {'identifier': '123558974577682993811495050087...         1         \n",
       "1     {'identifier': '360118525401874510073463955038...         1         \n",
       "2     {'identifier': '102926579013154103204029678028...         1         \n",
       "3     {'identifier': '984146680085041125667580852961...         1         \n",
       "4     {'identifier': '412437292300569613373968868435...         1         \n",
       "...                                                 ...       ...   ...   \n",
       "2834  {'identifier': '596691372334868032834900148779...         1         \n",
       "2835  {'identifier': '178657174778441322562715723560...         1         \n",
       "2836  {'identifier': '887409359338823895470224549460...         1         \n",
       "2837  {'identifier': '117315147600270829665702926801...         1         \n",
       "2838  {'identifier': '657195321914502421721219856086...         1         \n",
       "\n",
       "                                                payment  event_timestamp  \\\n",
       "0     {'quantity': '3800000000000000', 'token_addres...       1720237438   \n",
       "1     {'quantity': '4100000000000000', 'token_addres...       1720237244   \n",
       "2     {'quantity': '10250000000000000000', 'token_ad...       1720234240   \n",
       "3     {'quantity': '10250000000000000000', 'token_ad...       1720234240   \n",
       "4     {'quantity': '410000000000000000', 'token_addr...       1720234067   \n",
       "...                                                 ...              ...   \n",
       "2834  {'quantity': '3000000000000000000', 'token_add...       1703615466   \n",
       "2835  {'quantity': '3000000000000000000', 'token_add...       1703615382   \n",
       "2836  {'quantity': '3000000000000000000', 'token_add...       1703615249   \n",
       "2837  {'quantity': '1000000000000000000', 'token_add...       1703607304   \n",
       "2838  {'quantity': '1000000000000000000', 'token_add...       1703292579   \n",
       "\n",
       "     transaction                                            tokenid  \\\n",
       "0            NaN 12,355,897,457,768,299,701,688,231,177,476,341,...   \n",
       "1            NaN 36,011,852,540,187,452,254,927,620,002,392,477,...   \n",
       "2            NaN 102,926,579,013,154,100,286,505,544,828,164,204...   \n",
       "3            NaN 98,414,668,008,504,107,161,480,855,001,558,634,...   \n",
       "4            NaN 41,243,729,230,056,959,187,156,630,795,533,044,...   \n",
       "...          ...                                                ...   \n",
       "2834         NaN 59,669,137,233,486,797,576,913,893,823,506,075,...   \n",
       "2835         NaN 17,865,717,477,844,132,496,699,921,146,330,333,...   \n",
       "2836         NaN 8,874,093,593,388,239,065,001,647,753,652,567,1...   \n",
       "2837         NaN 11,731,514,760,027,082,503,362,540,473,080,970,...   \n",
       "2838         NaN 65,719,532,191,450,246,034,153,398,416,049,793,...   \n",
       "\n",
       "                        name  \n",
       "0     art-if-icialgaming.xyz  \n",
       "1           wwwdigital.quest  \n",
       "2                 dollar.box  \n",
       "3                     ok.box  \n",
       "4                     84.box  \n",
       "...                      ...  \n",
       "2834          mintdomains.io  \n",
       "2835            dnsloans.com  \n",
       "2836           0ooo0ooo0.ooo  \n",
       "2837       tokentroopers.xyz  \n",
       "2838              paulio.org  \n",
       "\n",
       "[2839 rows x 13 columns]"
      ]
     },
     "execution_count": 462,
     "metadata": {},
     "output_type": "execute_result"
    }
   ],
   "source": [
    "bids"
   ]
  },
  {
   "cell_type": "code",
   "execution_count": 472,
   "metadata": {},
   "outputs": [],
   "source": [
    "box_sales_os = sales[sales['name'].str.endswith('.box')]\n",
    "box_bids_os = bids[bids['name'].str.endswith('.box')] "
   ]
  },
  {
   "cell_type": "code",
   "execution_count": 473,
   "metadata": {},
   "outputs": [],
   "source": [
    "\n",
    "box_bids_os.columns = [f'bid_{col}' if col != 'name' else col for col in box_bids_os.columns]"
   ]
  },
  {
   "cell_type": "code",
   "execution_count": 475,
   "metadata": {},
   "outputs": [],
   "source": [
    "box_sales_os.columns = [f'sale_{col}' if col != 'name' else col for col in box_sales_os.columns]"
   ]
  },
  {
   "cell_type": "code",
   "execution_count": 476,
   "metadata": {},
   "outputs": [],
   "source": [
    "box_listings_and_sales = pd.merge(box_bids_os, box_sales_os, how='inner', on='name')"
   ]
  },
  {
   "cell_type": "code",
   "execution_count": 478,
   "metadata": {},
   "outputs": [
    {
     "data": {
      "text/plain": [
       "0          dox.box\n",
       "1            r.box\n",
       "2            r.box\n",
       "3            r.box\n",
       "4            r.box\n",
       "          ...     \n",
       "184       dick.box\n",
       "185       uber.box\n",
       "186       uber.box\n",
       "187    opensea.box\n",
       "188         vm.box\n",
       "Name: name, Length: 189, dtype: object"
      ]
     },
     "execution_count": 478,
     "metadata": {},
     "output_type": "execute_result"
    }
   ],
   "source": [
    "box_listings_and_sales['name']"
   ]
  },
  {
   "cell_type": "code",
   "execution_count": 34,
   "metadata": {},
   "outputs": [],
   "source": [
    "mint_df['tokenid'] = mint_df['tokenid'].astype(float)"
   ]
  },
  {
   "cell_type": "code",
   "execution_count": 35,
   "metadata": {},
   "outputs": [],
   "source": [
    "mints_with_names = pd.merge(mint_df, descriptions_df, how='left', on='tokenid')"
   ]
  },
  {
   "cell_type": "code",
   "execution_count": 36,
   "metadata": {},
   "outputs": [
    {
     "data": {
      "text/html": [
       "<div>\n",
       "<style scoped>\n",
       "    .dataframe tbody tr th:only-of-type {\n",
       "        vertical-align: middle;\n",
       "    }\n",
       "\n",
       "    .dataframe tbody tr th {\n",
       "        vertical-align: top;\n",
       "    }\n",
       "\n",
       "    .dataframe thead th {\n",
       "        text-align: right;\n",
       "    }\n",
       "</style>\n",
       "<table border=\"1\" class=\"dataframe\">\n",
       "  <thead>\n",
       "    <tr style=\"text-align: right;\">\n",
       "      <th></th>\n",
       "      <th>day</th>\n",
       "      <th>tokenid</th>\n",
       "      <th>tx_hash</th>\n",
       "      <th>__row_index</th>\n",
       "      <th>name</th>\n",
       "    </tr>\n",
       "  </thead>\n",
       "  <tbody>\n",
       "    <tr>\n",
       "      <th>0</th>\n",
       "      <td>2024-07-05T20:00:00.000Z</td>\n",
       "      <td>8.985197e+76</td>\n",
       "      <td>0x23a609ddf25089081798088ca8c5714be7b76d58ebf5...</td>\n",
       "      <td>0</td>\n",
       "      <td>cryptocreator.tech</td>\n",
       "    </tr>\n",
       "    <tr>\n",
       "      <th>1</th>\n",
       "      <td>2024-07-05T20:00:00.000Z</td>\n",
       "      <td>8.985197e+76</td>\n",
       "      <td>0x23a609ddf25089081798088ca8c5714be7b76d58ebf5...</td>\n",
       "      <td>1</td>\n",
       "      <td>cryptocreator.tech</td>\n",
       "    </tr>\n",
       "    <tr>\n",
       "      <th>2</th>\n",
       "      <td>2024-07-05T20:00:00.000Z</td>\n",
       "      <td>6.778101e+76</td>\n",
       "      <td>0xe8c87f0320802853e22ead69cef537c3fa80d5b9370c...</td>\n",
       "      <td>2</td>\n",
       "      <td>kawaii.box</td>\n",
       "    </tr>\n",
       "    <tr>\n",
       "      <th>3</th>\n",
       "      <td>2024-07-05T20:00:00.000Z</td>\n",
       "      <td>6.778101e+76</td>\n",
       "      <td>0xe8c87f0320802853e22ead69cef537c3fa80d5b9370c...</td>\n",
       "      <td>3</td>\n",
       "      <td>kawaii.box</td>\n",
       "    </tr>\n",
       "    <tr>\n",
       "      <th>4</th>\n",
       "      <td>2024-07-05T16:00:00.000Z</td>\n",
       "      <td>1.013928e+77</td>\n",
       "      <td>0x388ad6ef8ededcf3b310ddbf8c84ccaa2e835afd4b7a...</td>\n",
       "      <td>4</td>\n",
       "      <td>seismic.box</td>\n",
       "    </tr>\n",
       "    <tr>\n",
       "      <th>...</th>\n",
       "      <td>...</td>\n",
       "      <td>...</td>\n",
       "      <td>...</td>\n",
       "      <td>...</td>\n",
       "      <td>...</td>\n",
       "    </tr>\n",
       "    <tr>\n",
       "      <th>32667</th>\n",
       "      <td>2023-10-04T02:00:00.000Z</td>\n",
       "      <td>7.307980e+76</td>\n",
       "      <td>0x981dd9c93e0419a227128b7ee95c620e7dbc88fe92e8...</td>\n",
       "      <td>32667</td>\n",
       "      <td>org</td>\n",
       "    </tr>\n",
       "    <tr>\n",
       "      <th>32668</th>\n",
       "      <td>2023-10-04T02:00:00.000Z</td>\n",
       "      <td>9.704968e+76</td>\n",
       "      <td>0xd7ece008b97cad61f02396def394751c3fa9a4c2844a...</td>\n",
       "      <td>32668</td>\n",
       "      <td>net</td>\n",
       "    </tr>\n",
       "    <tr>\n",
       "      <th>32669</th>\n",
       "      <td>2023-10-04T02:00:00.000Z</td>\n",
       "      <td>9.704968e+76</td>\n",
       "      <td>0xd7ece008b97cad61f02396def394751c3fa9a4c2844a...</td>\n",
       "      <td>32669</td>\n",
       "      <td>net</td>\n",
       "    </tr>\n",
       "    <tr>\n",
       "      <th>32670</th>\n",
       "      <td>2023-10-04T02:00:00.000Z</td>\n",
       "      <td>7.787567e+76</td>\n",
       "      <td>0x64f70f46174e15001ff109ce325f9d0e0d7a571a22ed...</td>\n",
       "      <td>32670</td>\n",
       "      <td>com</td>\n",
       "    </tr>\n",
       "    <tr>\n",
       "      <th>32671</th>\n",
       "      <td>2023-10-04T02:00:00.000Z</td>\n",
       "      <td>7.787567e+76</td>\n",
       "      <td>0x64f70f46174e15001ff109ce325f9d0e0d7a571a22ed...</td>\n",
       "      <td>32671</td>\n",
       "      <td>com</td>\n",
       "    </tr>\n",
       "  </tbody>\n",
       "</table>\n",
       "<p>32672 rows × 5 columns</p>\n",
       "</div>"
      ],
      "text/plain": [
       "                            day       tokenid  \\\n",
       "0      2024-07-05T20:00:00.000Z  8.985197e+76   \n",
       "1      2024-07-05T20:00:00.000Z  8.985197e+76   \n",
       "2      2024-07-05T20:00:00.000Z  6.778101e+76   \n",
       "3      2024-07-05T20:00:00.000Z  6.778101e+76   \n",
       "4      2024-07-05T16:00:00.000Z  1.013928e+77   \n",
       "...                         ...           ...   \n",
       "32667  2023-10-04T02:00:00.000Z  7.307980e+76   \n",
       "32668  2023-10-04T02:00:00.000Z  9.704968e+76   \n",
       "32669  2023-10-04T02:00:00.000Z  9.704968e+76   \n",
       "32670  2023-10-04T02:00:00.000Z  7.787567e+76   \n",
       "32671  2023-10-04T02:00:00.000Z  7.787567e+76   \n",
       "\n",
       "                                                 tx_hash  __row_index  \\\n",
       "0      0x23a609ddf25089081798088ca8c5714be7b76d58ebf5...            0   \n",
       "1      0x23a609ddf25089081798088ca8c5714be7b76d58ebf5...            1   \n",
       "2      0xe8c87f0320802853e22ead69cef537c3fa80d5b9370c...            2   \n",
       "3      0xe8c87f0320802853e22ead69cef537c3fa80d5b9370c...            3   \n",
       "4      0x388ad6ef8ededcf3b310ddbf8c84ccaa2e835afd4b7a...            4   \n",
       "...                                                  ...          ...   \n",
       "32667  0x981dd9c93e0419a227128b7ee95c620e7dbc88fe92e8...        32667   \n",
       "32668  0xd7ece008b97cad61f02396def394751c3fa9a4c2844a...        32668   \n",
       "32669  0xd7ece008b97cad61f02396def394751c3fa9a4c2844a...        32669   \n",
       "32670  0x64f70f46174e15001ff109ce325f9d0e0d7a571a22ed...        32670   \n",
       "32671  0x64f70f46174e15001ff109ce325f9d0e0d7a571a22ed...        32671   \n",
       "\n",
       "                     name  \n",
       "0      cryptocreator.tech  \n",
       "1      cryptocreator.tech  \n",
       "2              kawaii.box  \n",
       "3              kawaii.box  \n",
       "4             seismic.box  \n",
       "...                   ...  \n",
       "32667                 org  \n",
       "32668                 net  \n",
       "32669                 net  \n",
       "32670                 com  \n",
       "32671                 com  \n",
       "\n",
       "[32672 rows x 5 columns]"
      ]
     },
     "execution_count": 36,
     "metadata": {},
     "output_type": "execute_result"
    }
   ],
   "source": [
    "mints_with_names"
   ]
  },
  {
   "cell_type": "code",
   "execution_count": 37,
   "metadata": {},
   "outputs": [
    {
     "name": "stdout",
     "output_type": "stream",
     "text": [
      "['0xb47db1490ab537cbbd227388a32567952c2bf27d5e55864a9415110f2af63ca7', '0xb47db1490ab537cbbd227388a32567952c2bf27d5e55864a9415110f2af63ca7', '0x62f6283e6459d7e2a19c818e515927d159daa57d08ff5b55c79141b7f28b94a3', '0x62f6283e6459d7e2a19c818e515927d159daa57d08ff5b55c79141b7f28b94a3', '0x1f172942f03578e445dfe20e5104a799c87a88a108d4cf095d96c8e841dc8a99', '0x1f172942f03578e445dfe20e5104a799c87a88a108d4cf095d96c8e841dc8a99']\n"
     ]
    }
   ],
   "source": [
    "mints_with_names_null = mints_with_names[mints_with_names.isnull().any(axis=1)]\n",
    "print(list(mints_with_names_null['tx_hash']))"
   ]
  },
  {
   "cell_type": "code",
   "execution_count": 38,
   "metadata": {},
   "outputs": [],
   "source": [
    "mints_with_names.drop_duplicates('tokenid', inplace=True)"
   ]
  },
  {
   "cell_type": "code",
   "execution_count": 39,
   "metadata": {},
   "outputs": [],
   "source": [
    "mints_with_names.drop(columns=['__row_index','tx_hash','tokenid'], inplace=True)"
   ]
  },
  {
   "cell_type": "code",
   "execution_count": 40,
   "metadata": {},
   "outputs": [],
   "source": [
    "mints_with_names.set_index('day', inplace=True)"
   ]
  },
  {
   "cell_type": "code",
   "execution_count": 41,
   "metadata": {},
   "outputs": [],
   "source": [
    "mints_with_names.index = pd.to_datetime(mints_with_names.index)\n",
    "mints_with_names.dropna(inplace=True)"
   ]
  },
  {
   "cell_type": "code",
   "execution_count": 42,
   "metadata": {},
   "outputs": [],
   "source": [
    "box_domains_mints = mints_with_names[mints_with_names['name'].str.endswith('.box')]\n"
   ]
  },
  {
   "cell_type": "code",
   "execution_count": 43,
   "metadata": {},
   "outputs": [
    {
     "data": {
      "text/html": [
       "<div>\n",
       "<style scoped>\n",
       "    .dataframe tbody tr th:only-of-type {\n",
       "        vertical-align: middle;\n",
       "    }\n",
       "\n",
       "    .dataframe tbody tr th {\n",
       "        vertical-align: top;\n",
       "    }\n",
       "\n",
       "    .dataframe thead th {\n",
       "        text-align: right;\n",
       "    }\n",
       "</style>\n",
       "<table border=\"1\" class=\"dataframe\">\n",
       "  <thead>\n",
       "    <tr style=\"text-align: right;\">\n",
       "      <th></th>\n",
       "      <th>name</th>\n",
       "    </tr>\n",
       "    <tr>\n",
       "      <th>day</th>\n",
       "      <th></th>\n",
       "    </tr>\n",
       "  </thead>\n",
       "  <tbody>\n",
       "    <tr>\n",
       "      <th>2024-07-05 20:00:00+00:00</th>\n",
       "      <td>kawaii.box</td>\n",
       "    </tr>\n",
       "    <tr>\n",
       "      <th>2024-07-05 16:00:00+00:00</th>\n",
       "      <td>seismic.box</td>\n",
       "    </tr>\n",
       "    <tr>\n",
       "      <th>2024-07-05 16:00:00+00:00</th>\n",
       "      <td>location.box</td>\n",
       "    </tr>\n",
       "    <tr>\n",
       "      <th>2024-07-05 15:00:00+00:00</th>\n",
       "      <td>sprinter.box</td>\n",
       "    </tr>\n",
       "    <tr>\n",
       "      <th>2024-07-05 15:00:00+00:00</th>\n",
       "      <td>certificate.box</td>\n",
       "    </tr>\n",
       "    <tr>\n",
       "      <th>...</th>\n",
       "      <td>...</td>\n",
       "    </tr>\n",
       "    <tr>\n",
       "      <th>2023-10-31 17:00:00+00:00</th>\n",
       "      <td>duncan.box</td>\n",
       "    </tr>\n",
       "    <tr>\n",
       "      <th>2023-10-26 14:00:00+00:00</th>\n",
       "      <td>intercap-dev.box</td>\n",
       "    </tr>\n",
       "    <tr>\n",
       "      <th>2023-10-24 19:00:00+00:00</th>\n",
       "      <td>s.box</td>\n",
       "    </tr>\n",
       "    <tr>\n",
       "      <th>2023-10-24 18:00:00+00:00</th>\n",
       "      <td>josh.box</td>\n",
       "    </tr>\n",
       "    <tr>\n",
       "      <th>2023-10-04 03:00:00+00:00</th>\n",
       "      <td>3dns.box</td>\n",
       "    </tr>\n",
       "  </tbody>\n",
       "</table>\n",
       "<p>3599 rows × 1 columns</p>\n",
       "</div>"
      ],
      "text/plain": [
       "                                       name\n",
       "day                                        \n",
       "2024-07-05 20:00:00+00:00        kawaii.box\n",
       "2024-07-05 16:00:00+00:00       seismic.box\n",
       "2024-07-05 16:00:00+00:00      location.box\n",
       "2024-07-05 15:00:00+00:00      sprinter.box\n",
       "2024-07-05 15:00:00+00:00   certificate.box\n",
       "...                                     ...\n",
       "2023-10-31 17:00:00+00:00        duncan.box\n",
       "2023-10-26 14:00:00+00:00  intercap-dev.box\n",
       "2023-10-24 19:00:00+00:00             s.box\n",
       "2023-10-24 18:00:00+00:00          josh.box\n",
       "2023-10-04 03:00:00+00:00          3dns.box\n",
       "\n",
       "[3599 rows x 1 columns]"
      ]
     },
     "execution_count": 43,
     "metadata": {},
     "output_type": "execute_result"
    }
   ],
   "source": [
    "box_domains_mints"
   ]
  },
  {
   "cell_type": "code",
   "execution_count": 44,
   "metadata": {},
   "outputs": [],
   "source": [
    "daily_box_mints = box_domains_mints.resample('D').count()"
   ]
  },
  {
   "cell_type": "code",
   "execution_count": 106,
   "metadata": {},
   "outputs": [
    {
     "data": {
      "application/vnd.plotly.v1+json": {
       "config": {
        "plotlyServerURL": "https://plot.ly"
       },
       "data": [
        {
         "alignmentgroup": "True",
         "hovertemplate": "day=%{x}<br>mints=%{y}<extra></extra>",
         "legendgroup": "",
         "marker": {
          "color": "#636efa",
          "pattern": {
           "shape": ""
          }
         },
         "name": "",
         "offsetgroup": "",
         "orientation": "v",
         "showlegend": false,
         "textposition": "auto",
         "type": "bar",
         "x": [
          "2023-10-04T00:00:00+00:00",
          "2023-10-05T00:00:00+00:00",
          "2023-10-06T00:00:00+00:00",
          "2023-10-07T00:00:00+00:00",
          "2023-10-08T00:00:00+00:00",
          "2023-10-09T00:00:00+00:00",
          "2023-10-10T00:00:00+00:00",
          "2023-10-11T00:00:00+00:00",
          "2023-10-12T00:00:00+00:00",
          "2023-10-13T00:00:00+00:00",
          "2023-10-14T00:00:00+00:00",
          "2023-10-15T00:00:00+00:00",
          "2023-10-16T00:00:00+00:00",
          "2023-10-17T00:00:00+00:00",
          "2023-10-18T00:00:00+00:00",
          "2023-10-19T00:00:00+00:00",
          "2023-10-20T00:00:00+00:00",
          "2023-10-21T00:00:00+00:00",
          "2023-10-22T00:00:00+00:00",
          "2023-10-23T00:00:00+00:00",
          "2023-10-24T00:00:00+00:00",
          "2023-10-25T00:00:00+00:00",
          "2023-10-26T00:00:00+00:00",
          "2023-10-27T00:00:00+00:00",
          "2023-10-28T00:00:00+00:00",
          "2023-10-29T00:00:00+00:00",
          "2023-10-30T00:00:00+00:00",
          "2023-10-31T00:00:00+00:00",
          "2023-11-01T00:00:00+00:00",
          "2023-11-02T00:00:00+00:00",
          "2023-11-03T00:00:00+00:00",
          "2023-11-04T00:00:00+00:00",
          "2023-11-05T00:00:00+00:00",
          "2023-11-06T00:00:00+00:00",
          "2023-11-07T00:00:00+00:00",
          "2023-11-08T00:00:00+00:00",
          "2023-11-09T00:00:00+00:00",
          "2023-11-10T00:00:00+00:00",
          "2023-11-11T00:00:00+00:00",
          "2023-11-12T00:00:00+00:00",
          "2023-11-13T00:00:00+00:00",
          "2023-11-14T00:00:00+00:00",
          "2023-11-15T00:00:00+00:00",
          "2023-11-16T00:00:00+00:00",
          "2023-11-17T00:00:00+00:00",
          "2023-11-18T00:00:00+00:00",
          "2023-11-19T00:00:00+00:00",
          "2023-11-20T00:00:00+00:00",
          "2023-11-21T00:00:00+00:00",
          "2023-11-22T00:00:00+00:00",
          "2023-11-23T00:00:00+00:00",
          "2023-11-24T00:00:00+00:00",
          "2023-11-25T00:00:00+00:00",
          "2023-11-26T00:00:00+00:00",
          "2023-11-27T00:00:00+00:00",
          "2023-11-28T00:00:00+00:00",
          "2023-11-29T00:00:00+00:00",
          "2023-11-30T00:00:00+00:00",
          "2023-12-01T00:00:00+00:00",
          "2023-12-02T00:00:00+00:00",
          "2023-12-03T00:00:00+00:00",
          "2023-12-04T00:00:00+00:00",
          "2023-12-05T00:00:00+00:00",
          "2023-12-06T00:00:00+00:00",
          "2023-12-07T00:00:00+00:00",
          "2023-12-08T00:00:00+00:00",
          "2023-12-09T00:00:00+00:00",
          "2023-12-10T00:00:00+00:00",
          "2023-12-11T00:00:00+00:00",
          "2023-12-12T00:00:00+00:00",
          "2023-12-13T00:00:00+00:00",
          "2023-12-14T00:00:00+00:00",
          "2023-12-15T00:00:00+00:00",
          "2023-12-16T00:00:00+00:00",
          "2023-12-17T00:00:00+00:00",
          "2023-12-18T00:00:00+00:00",
          "2023-12-19T00:00:00+00:00",
          "2023-12-20T00:00:00+00:00",
          "2023-12-21T00:00:00+00:00",
          "2023-12-22T00:00:00+00:00",
          "2023-12-23T00:00:00+00:00",
          "2023-12-24T00:00:00+00:00",
          "2023-12-25T00:00:00+00:00",
          "2023-12-26T00:00:00+00:00",
          "2023-12-27T00:00:00+00:00",
          "2023-12-28T00:00:00+00:00",
          "2023-12-29T00:00:00+00:00",
          "2023-12-30T00:00:00+00:00",
          "2023-12-31T00:00:00+00:00",
          "2024-01-01T00:00:00+00:00",
          "2024-01-02T00:00:00+00:00",
          "2024-01-03T00:00:00+00:00",
          "2024-01-04T00:00:00+00:00",
          "2024-01-05T00:00:00+00:00",
          "2024-01-06T00:00:00+00:00",
          "2024-01-07T00:00:00+00:00",
          "2024-01-08T00:00:00+00:00",
          "2024-01-09T00:00:00+00:00",
          "2024-01-10T00:00:00+00:00",
          "2024-01-11T00:00:00+00:00",
          "2024-01-12T00:00:00+00:00",
          "2024-01-13T00:00:00+00:00",
          "2024-01-14T00:00:00+00:00",
          "2024-01-15T00:00:00+00:00",
          "2024-01-16T00:00:00+00:00",
          "2024-01-17T00:00:00+00:00",
          "2024-01-18T00:00:00+00:00",
          "2024-01-19T00:00:00+00:00",
          "2024-01-20T00:00:00+00:00",
          "2024-01-21T00:00:00+00:00",
          "2024-01-22T00:00:00+00:00",
          "2024-01-23T00:00:00+00:00",
          "2024-01-24T00:00:00+00:00",
          "2024-01-25T00:00:00+00:00",
          "2024-01-26T00:00:00+00:00",
          "2024-01-27T00:00:00+00:00",
          "2024-01-28T00:00:00+00:00",
          "2024-01-29T00:00:00+00:00",
          "2024-01-30T00:00:00+00:00",
          "2024-01-31T00:00:00+00:00",
          "2024-02-01T00:00:00+00:00",
          "2024-02-02T00:00:00+00:00",
          "2024-02-03T00:00:00+00:00",
          "2024-02-04T00:00:00+00:00",
          "2024-02-05T00:00:00+00:00",
          "2024-02-06T00:00:00+00:00",
          "2024-02-07T00:00:00+00:00",
          "2024-02-08T00:00:00+00:00",
          "2024-02-09T00:00:00+00:00",
          "2024-02-10T00:00:00+00:00",
          "2024-02-11T00:00:00+00:00",
          "2024-02-12T00:00:00+00:00",
          "2024-02-13T00:00:00+00:00",
          "2024-02-14T00:00:00+00:00",
          "2024-02-15T00:00:00+00:00",
          "2024-02-16T00:00:00+00:00",
          "2024-02-17T00:00:00+00:00",
          "2024-02-18T00:00:00+00:00",
          "2024-02-19T00:00:00+00:00",
          "2024-02-20T00:00:00+00:00",
          "2024-02-21T00:00:00+00:00",
          "2024-02-22T00:00:00+00:00",
          "2024-02-23T00:00:00+00:00",
          "2024-02-24T00:00:00+00:00",
          "2024-02-25T00:00:00+00:00",
          "2024-02-26T00:00:00+00:00",
          "2024-02-27T00:00:00+00:00",
          "2024-02-28T00:00:00+00:00",
          "2024-02-29T00:00:00+00:00",
          "2024-03-01T00:00:00+00:00",
          "2024-03-02T00:00:00+00:00",
          "2024-03-03T00:00:00+00:00",
          "2024-03-04T00:00:00+00:00",
          "2024-03-05T00:00:00+00:00",
          "2024-03-06T00:00:00+00:00",
          "2024-03-07T00:00:00+00:00",
          "2024-03-08T00:00:00+00:00",
          "2024-03-09T00:00:00+00:00",
          "2024-03-10T00:00:00+00:00",
          "2024-03-11T00:00:00+00:00",
          "2024-03-12T00:00:00+00:00",
          "2024-03-13T00:00:00+00:00",
          "2024-03-14T00:00:00+00:00",
          "2024-03-15T00:00:00+00:00",
          "2024-03-16T00:00:00+00:00",
          "2024-03-17T00:00:00+00:00",
          "2024-03-18T00:00:00+00:00",
          "2024-03-19T00:00:00+00:00",
          "2024-03-20T00:00:00+00:00",
          "2024-03-21T00:00:00+00:00",
          "2024-03-22T00:00:00+00:00",
          "2024-03-23T00:00:00+00:00",
          "2024-03-24T00:00:00+00:00",
          "2024-03-25T00:00:00+00:00",
          "2024-03-26T00:00:00+00:00",
          "2024-03-27T00:00:00+00:00",
          "2024-03-28T00:00:00+00:00",
          "2024-03-29T00:00:00+00:00",
          "2024-03-30T00:00:00+00:00",
          "2024-03-31T00:00:00+00:00",
          "2024-04-01T00:00:00+00:00",
          "2024-04-02T00:00:00+00:00",
          "2024-04-03T00:00:00+00:00",
          "2024-04-04T00:00:00+00:00",
          "2024-04-05T00:00:00+00:00",
          "2024-04-06T00:00:00+00:00",
          "2024-04-07T00:00:00+00:00",
          "2024-04-08T00:00:00+00:00",
          "2024-04-09T00:00:00+00:00",
          "2024-04-10T00:00:00+00:00",
          "2024-04-11T00:00:00+00:00",
          "2024-04-12T00:00:00+00:00",
          "2024-04-13T00:00:00+00:00",
          "2024-04-14T00:00:00+00:00",
          "2024-04-15T00:00:00+00:00",
          "2024-04-16T00:00:00+00:00",
          "2024-04-17T00:00:00+00:00",
          "2024-04-18T00:00:00+00:00",
          "2024-04-19T00:00:00+00:00",
          "2024-04-20T00:00:00+00:00",
          "2024-04-21T00:00:00+00:00",
          "2024-04-22T00:00:00+00:00",
          "2024-04-23T00:00:00+00:00",
          "2024-04-24T00:00:00+00:00",
          "2024-04-25T00:00:00+00:00",
          "2024-04-26T00:00:00+00:00",
          "2024-04-27T00:00:00+00:00",
          "2024-04-28T00:00:00+00:00",
          "2024-04-29T00:00:00+00:00",
          "2024-04-30T00:00:00+00:00",
          "2024-05-01T00:00:00+00:00",
          "2024-05-02T00:00:00+00:00",
          "2024-05-03T00:00:00+00:00",
          "2024-05-04T00:00:00+00:00",
          "2024-05-05T00:00:00+00:00",
          "2024-05-06T00:00:00+00:00",
          "2024-05-07T00:00:00+00:00",
          "2024-05-08T00:00:00+00:00",
          "2024-05-09T00:00:00+00:00",
          "2024-05-10T00:00:00+00:00",
          "2024-05-11T00:00:00+00:00",
          "2024-05-12T00:00:00+00:00",
          "2024-05-13T00:00:00+00:00",
          "2024-05-14T00:00:00+00:00",
          "2024-05-15T00:00:00+00:00",
          "2024-05-16T00:00:00+00:00",
          "2024-05-17T00:00:00+00:00",
          "2024-05-18T00:00:00+00:00",
          "2024-05-19T00:00:00+00:00",
          "2024-05-20T00:00:00+00:00",
          "2024-05-21T00:00:00+00:00",
          "2024-05-22T00:00:00+00:00",
          "2024-05-23T00:00:00+00:00",
          "2024-05-24T00:00:00+00:00",
          "2024-05-25T00:00:00+00:00",
          "2024-05-26T00:00:00+00:00",
          "2024-05-27T00:00:00+00:00",
          "2024-05-28T00:00:00+00:00",
          "2024-05-29T00:00:00+00:00",
          "2024-05-30T00:00:00+00:00",
          "2024-05-31T00:00:00+00:00",
          "2024-06-01T00:00:00+00:00",
          "2024-06-02T00:00:00+00:00",
          "2024-06-03T00:00:00+00:00",
          "2024-06-04T00:00:00+00:00",
          "2024-06-05T00:00:00+00:00",
          "2024-06-06T00:00:00+00:00",
          "2024-06-07T00:00:00+00:00",
          "2024-06-08T00:00:00+00:00",
          "2024-06-09T00:00:00+00:00",
          "2024-06-10T00:00:00+00:00",
          "2024-06-11T00:00:00+00:00",
          "2024-06-12T00:00:00+00:00",
          "2024-06-13T00:00:00+00:00",
          "2024-06-14T00:00:00+00:00",
          "2024-06-15T00:00:00+00:00",
          "2024-06-16T00:00:00+00:00",
          "2024-06-17T00:00:00+00:00",
          "2024-06-18T00:00:00+00:00",
          "2024-06-19T00:00:00+00:00",
          "2024-06-20T00:00:00+00:00",
          "2024-06-21T00:00:00+00:00",
          "2024-06-22T00:00:00+00:00",
          "2024-06-23T00:00:00+00:00",
          "2024-06-24T00:00:00+00:00",
          "2024-06-25T00:00:00+00:00",
          "2024-06-26T00:00:00+00:00",
          "2024-06-27T00:00:00+00:00",
          "2024-06-28T00:00:00+00:00",
          "2024-06-29T00:00:00+00:00",
          "2024-06-30T00:00:00+00:00",
          "2024-07-01T00:00:00+00:00",
          "2024-07-02T00:00:00+00:00",
          "2024-07-03T00:00:00+00:00",
          "2024-07-04T00:00:00+00:00",
          "2024-07-05T00:00:00+00:00"
         ],
         "xaxis": "x",
         "y": [
          1,
          0,
          0,
          0,
          0,
          0,
          0,
          0,
          0,
          0,
          0,
          0,
          0,
          0,
          0,
          0,
          0,
          0,
          0,
          0,
          2,
          0,
          1,
          0,
          0,
          0,
          0,
          1,
          1,
          0,
          0,
          0,
          0,
          1,
          0,
          0,
          0,
          0,
          0,
          0,
          0,
          0,
          0,
          0,
          0,
          0,
          0,
          0,
          0,
          0,
          0,
          0,
          0,
          0,
          0,
          0,
          0,
          0,
          0,
          0,
          0,
          0,
          0,
          0,
          0,
          0,
          0,
          0,
          0,
          0,
          0,
          1,
          2,
          0,
          0,
          1,
          3,
          15,
          0,
          0,
          1,
          0,
          0,
          0,
          0,
          0,
          0,
          0,
          0,
          0,
          0,
          0,
          0,
          0,
          0,
          0,
          2,
          2,
          1,
          1,
          0,
          0,
          0,
          0,
          2,
          1,
          3,
          1,
          1,
          22,
          38,
          90,
          455,
          683,
          198,
          142,
          41,
          15,
          13,
          34,
          32,
          29,
          22,
          24,
          8,
          7,
          7,
          8,
          7,
          2,
          3,
          1,
          2,
          2,
          4,
          3,
          1,
          2,
          5,
          0,
          2,
          5,
          10,
          2,
          45,
          27,
          45,
          21,
          23,
          9,
          5,
          2,
          1,
          5,
          4,
          39,
          6,
          0,
          17,
          3,
          4,
          2,
          1,
          16,
          5,
          1,
          3,
          12,
          1,
          1,
          8,
          0,
          1,
          0,
          3,
          5,
          2,
          4,
          1,
          1,
          3,
          2,
          3,
          7,
          4,
          3,
          1,
          4,
          2,
          1,
          6,
          2,
          2,
          1,
          2,
          2,
          2,
          5,
          5,
          1,
          1,
          2,
          100,
          185,
          57,
          39,
          81,
          45,
          43,
          25,
          21,
          22,
          4,
          34,
          10,
          24,
          20,
          34,
          22,
          62,
          10,
          9,
          6,
          7,
          5,
          11,
          6,
          0,
          6,
          5,
          8,
          7,
          4,
          14,
          9,
          6,
          2,
          7,
          24,
          10,
          5,
          14,
          9,
          15,
          19,
          9,
          7,
          6,
          1,
          3,
          3,
          28,
          12,
          17,
          13,
          4,
          4,
          4,
          5,
          3,
          6,
          7,
          2,
          4,
          2,
          5,
          7,
          2,
          1,
          1,
          8,
          6,
          20,
          7,
          4,
          5
         ],
         "yaxis": "y"
        }
       ],
       "layout": {
        "barmode": "relative",
        "legend": {
         "tracegroupgap": 0
        },
        "template": {
         "data": {
          "bar": [
           {
            "error_x": {
             "color": "#2a3f5f"
            },
            "error_y": {
             "color": "#2a3f5f"
            },
            "marker": {
             "line": {
              "color": "#E5ECF6",
              "width": 0.5
             },
             "pattern": {
              "fillmode": "overlay",
              "size": 10,
              "solidity": 0.2
             }
            },
            "type": "bar"
           }
          ],
          "barpolar": [
           {
            "marker": {
             "line": {
              "color": "#E5ECF6",
              "width": 0.5
             },
             "pattern": {
              "fillmode": "overlay",
              "size": 10,
              "solidity": 0.2
             }
            },
            "type": "barpolar"
           }
          ],
          "carpet": [
           {
            "aaxis": {
             "endlinecolor": "#2a3f5f",
             "gridcolor": "white",
             "linecolor": "white",
             "minorgridcolor": "white",
             "startlinecolor": "#2a3f5f"
            },
            "baxis": {
             "endlinecolor": "#2a3f5f",
             "gridcolor": "white",
             "linecolor": "white",
             "minorgridcolor": "white",
             "startlinecolor": "#2a3f5f"
            },
            "type": "carpet"
           }
          ],
          "choropleth": [
           {
            "colorbar": {
             "outlinewidth": 0,
             "ticks": ""
            },
            "type": "choropleth"
           }
          ],
          "contour": [
           {
            "colorbar": {
             "outlinewidth": 0,
             "ticks": ""
            },
            "colorscale": [
             [
              0,
              "#0d0887"
             ],
             [
              0.1111111111111111,
              "#46039f"
             ],
             [
              0.2222222222222222,
              "#7201a8"
             ],
             [
              0.3333333333333333,
              "#9c179e"
             ],
             [
              0.4444444444444444,
              "#bd3786"
             ],
             [
              0.5555555555555556,
              "#d8576b"
             ],
             [
              0.6666666666666666,
              "#ed7953"
             ],
             [
              0.7777777777777778,
              "#fb9f3a"
             ],
             [
              0.8888888888888888,
              "#fdca26"
             ],
             [
              1,
              "#f0f921"
             ]
            ],
            "type": "contour"
           }
          ],
          "contourcarpet": [
           {
            "colorbar": {
             "outlinewidth": 0,
             "ticks": ""
            },
            "type": "contourcarpet"
           }
          ],
          "heatmap": [
           {
            "colorbar": {
             "outlinewidth": 0,
             "ticks": ""
            },
            "colorscale": [
             [
              0,
              "#0d0887"
             ],
             [
              0.1111111111111111,
              "#46039f"
             ],
             [
              0.2222222222222222,
              "#7201a8"
             ],
             [
              0.3333333333333333,
              "#9c179e"
             ],
             [
              0.4444444444444444,
              "#bd3786"
             ],
             [
              0.5555555555555556,
              "#d8576b"
             ],
             [
              0.6666666666666666,
              "#ed7953"
             ],
             [
              0.7777777777777778,
              "#fb9f3a"
             ],
             [
              0.8888888888888888,
              "#fdca26"
             ],
             [
              1,
              "#f0f921"
             ]
            ],
            "type": "heatmap"
           }
          ],
          "heatmapgl": [
           {
            "colorbar": {
             "outlinewidth": 0,
             "ticks": ""
            },
            "colorscale": [
             [
              0,
              "#0d0887"
             ],
             [
              0.1111111111111111,
              "#46039f"
             ],
             [
              0.2222222222222222,
              "#7201a8"
             ],
             [
              0.3333333333333333,
              "#9c179e"
             ],
             [
              0.4444444444444444,
              "#bd3786"
             ],
             [
              0.5555555555555556,
              "#d8576b"
             ],
             [
              0.6666666666666666,
              "#ed7953"
             ],
             [
              0.7777777777777778,
              "#fb9f3a"
             ],
             [
              0.8888888888888888,
              "#fdca26"
             ],
             [
              1,
              "#f0f921"
             ]
            ],
            "type": "heatmapgl"
           }
          ],
          "histogram": [
           {
            "marker": {
             "pattern": {
              "fillmode": "overlay",
              "size": 10,
              "solidity": 0.2
             }
            },
            "type": "histogram"
           }
          ],
          "histogram2d": [
           {
            "colorbar": {
             "outlinewidth": 0,
             "ticks": ""
            },
            "colorscale": [
             [
              0,
              "#0d0887"
             ],
             [
              0.1111111111111111,
              "#46039f"
             ],
             [
              0.2222222222222222,
              "#7201a8"
             ],
             [
              0.3333333333333333,
              "#9c179e"
             ],
             [
              0.4444444444444444,
              "#bd3786"
             ],
             [
              0.5555555555555556,
              "#d8576b"
             ],
             [
              0.6666666666666666,
              "#ed7953"
             ],
             [
              0.7777777777777778,
              "#fb9f3a"
             ],
             [
              0.8888888888888888,
              "#fdca26"
             ],
             [
              1,
              "#f0f921"
             ]
            ],
            "type": "histogram2d"
           }
          ],
          "histogram2dcontour": [
           {
            "colorbar": {
             "outlinewidth": 0,
             "ticks": ""
            },
            "colorscale": [
             [
              0,
              "#0d0887"
             ],
             [
              0.1111111111111111,
              "#46039f"
             ],
             [
              0.2222222222222222,
              "#7201a8"
             ],
             [
              0.3333333333333333,
              "#9c179e"
             ],
             [
              0.4444444444444444,
              "#bd3786"
             ],
             [
              0.5555555555555556,
              "#d8576b"
             ],
             [
              0.6666666666666666,
              "#ed7953"
             ],
             [
              0.7777777777777778,
              "#fb9f3a"
             ],
             [
              0.8888888888888888,
              "#fdca26"
             ],
             [
              1,
              "#f0f921"
             ]
            ],
            "type": "histogram2dcontour"
           }
          ],
          "mesh3d": [
           {
            "colorbar": {
             "outlinewidth": 0,
             "ticks": ""
            },
            "type": "mesh3d"
           }
          ],
          "parcoords": [
           {
            "line": {
             "colorbar": {
              "outlinewidth": 0,
              "ticks": ""
             }
            },
            "type": "parcoords"
           }
          ],
          "pie": [
           {
            "automargin": true,
            "type": "pie"
           }
          ],
          "scatter": [
           {
            "fillpattern": {
             "fillmode": "overlay",
             "size": 10,
             "solidity": 0.2
            },
            "type": "scatter"
           }
          ],
          "scatter3d": [
           {
            "line": {
             "colorbar": {
              "outlinewidth": 0,
              "ticks": ""
             }
            },
            "marker": {
             "colorbar": {
              "outlinewidth": 0,
              "ticks": ""
             }
            },
            "type": "scatter3d"
           }
          ],
          "scattercarpet": [
           {
            "marker": {
             "colorbar": {
              "outlinewidth": 0,
              "ticks": ""
             }
            },
            "type": "scattercarpet"
           }
          ],
          "scattergeo": [
           {
            "marker": {
             "colorbar": {
              "outlinewidth": 0,
              "ticks": ""
             }
            },
            "type": "scattergeo"
           }
          ],
          "scattergl": [
           {
            "marker": {
             "colorbar": {
              "outlinewidth": 0,
              "ticks": ""
             }
            },
            "type": "scattergl"
           }
          ],
          "scattermapbox": [
           {
            "marker": {
             "colorbar": {
              "outlinewidth": 0,
              "ticks": ""
             }
            },
            "type": "scattermapbox"
           }
          ],
          "scatterpolar": [
           {
            "marker": {
             "colorbar": {
              "outlinewidth": 0,
              "ticks": ""
             }
            },
            "type": "scatterpolar"
           }
          ],
          "scatterpolargl": [
           {
            "marker": {
             "colorbar": {
              "outlinewidth": 0,
              "ticks": ""
             }
            },
            "type": "scatterpolargl"
           }
          ],
          "scatterternary": [
           {
            "marker": {
             "colorbar": {
              "outlinewidth": 0,
              "ticks": ""
             }
            },
            "type": "scatterternary"
           }
          ],
          "surface": [
           {
            "colorbar": {
             "outlinewidth": 0,
             "ticks": ""
            },
            "colorscale": [
             [
              0,
              "#0d0887"
             ],
             [
              0.1111111111111111,
              "#46039f"
             ],
             [
              0.2222222222222222,
              "#7201a8"
             ],
             [
              0.3333333333333333,
              "#9c179e"
             ],
             [
              0.4444444444444444,
              "#bd3786"
             ],
             [
              0.5555555555555556,
              "#d8576b"
             ],
             [
              0.6666666666666666,
              "#ed7953"
             ],
             [
              0.7777777777777778,
              "#fb9f3a"
             ],
             [
              0.8888888888888888,
              "#fdca26"
             ],
             [
              1,
              "#f0f921"
             ]
            ],
            "type": "surface"
           }
          ],
          "table": [
           {
            "cells": {
             "fill": {
              "color": "#EBF0F8"
             },
             "line": {
              "color": "white"
             }
            },
            "header": {
             "fill": {
              "color": "#C8D4E3"
             },
             "line": {
              "color": "white"
             }
            },
            "type": "table"
           }
          ]
         },
         "layout": {
          "annotationdefaults": {
           "arrowcolor": "#2a3f5f",
           "arrowhead": 0,
           "arrowwidth": 1
          },
          "autotypenumbers": "strict",
          "coloraxis": {
           "colorbar": {
            "outlinewidth": 0,
            "ticks": ""
           }
          },
          "colorscale": {
           "diverging": [
            [
             0,
             "#8e0152"
            ],
            [
             0.1,
             "#c51b7d"
            ],
            [
             0.2,
             "#de77ae"
            ],
            [
             0.3,
             "#f1b6da"
            ],
            [
             0.4,
             "#fde0ef"
            ],
            [
             0.5,
             "#f7f7f7"
            ],
            [
             0.6,
             "#e6f5d0"
            ],
            [
             0.7,
             "#b8e186"
            ],
            [
             0.8,
             "#7fbc41"
            ],
            [
             0.9,
             "#4d9221"
            ],
            [
             1,
             "#276419"
            ]
           ],
           "sequential": [
            [
             0,
             "#0d0887"
            ],
            [
             0.1111111111111111,
             "#46039f"
            ],
            [
             0.2222222222222222,
             "#7201a8"
            ],
            [
             0.3333333333333333,
             "#9c179e"
            ],
            [
             0.4444444444444444,
             "#bd3786"
            ],
            [
             0.5555555555555556,
             "#d8576b"
            ],
            [
             0.6666666666666666,
             "#ed7953"
            ],
            [
             0.7777777777777778,
             "#fb9f3a"
            ],
            [
             0.8888888888888888,
             "#fdca26"
            ],
            [
             1,
             "#f0f921"
            ]
           ],
           "sequentialminus": [
            [
             0,
             "#0d0887"
            ],
            [
             0.1111111111111111,
             "#46039f"
            ],
            [
             0.2222222222222222,
             "#7201a8"
            ],
            [
             0.3333333333333333,
             "#9c179e"
            ],
            [
             0.4444444444444444,
             "#bd3786"
            ],
            [
             0.5555555555555556,
             "#d8576b"
            ],
            [
             0.6666666666666666,
             "#ed7953"
            ],
            [
             0.7777777777777778,
             "#fb9f3a"
            ],
            [
             0.8888888888888888,
             "#fdca26"
            ],
            [
             1,
             "#f0f921"
            ]
           ]
          },
          "colorway": [
           "#636efa",
           "#EF553B",
           "#00cc96",
           "#ab63fa",
           "#FFA15A",
           "#19d3f3",
           "#FF6692",
           "#B6E880",
           "#FF97FF",
           "#FECB52"
          ],
          "font": {
           "color": "#2a3f5f"
          },
          "geo": {
           "bgcolor": "white",
           "lakecolor": "white",
           "landcolor": "#E5ECF6",
           "showlakes": true,
           "showland": true,
           "subunitcolor": "white"
          },
          "hoverlabel": {
           "align": "left"
          },
          "hovermode": "closest",
          "mapbox": {
           "style": "light"
          },
          "paper_bgcolor": "white",
          "plot_bgcolor": "#E5ECF6",
          "polar": {
           "angularaxis": {
            "gridcolor": "white",
            "linecolor": "white",
            "ticks": ""
           },
           "bgcolor": "#E5ECF6",
           "radialaxis": {
            "gridcolor": "white",
            "linecolor": "white",
            "ticks": ""
           }
          },
          "scene": {
           "xaxis": {
            "backgroundcolor": "#E5ECF6",
            "gridcolor": "white",
            "gridwidth": 2,
            "linecolor": "white",
            "showbackground": true,
            "ticks": "",
            "zerolinecolor": "white"
           },
           "yaxis": {
            "backgroundcolor": "#E5ECF6",
            "gridcolor": "white",
            "gridwidth": 2,
            "linecolor": "white",
            "showbackground": true,
            "ticks": "",
            "zerolinecolor": "white"
           },
           "zaxis": {
            "backgroundcolor": "#E5ECF6",
            "gridcolor": "white",
            "gridwidth": 2,
            "linecolor": "white",
            "showbackground": true,
            "ticks": "",
            "zerolinecolor": "white"
           }
          },
          "shapedefaults": {
           "line": {
            "color": "#2a3f5f"
           }
          },
          "ternary": {
           "aaxis": {
            "gridcolor": "white",
            "linecolor": "white",
            "ticks": ""
           },
           "baxis": {
            "gridcolor": "white",
            "linecolor": "white",
            "ticks": ""
           },
           "bgcolor": "#E5ECF6",
           "caxis": {
            "gridcolor": "white",
            "linecolor": "white",
            "ticks": ""
           }
          },
          "title": {
           "x": 0.05
          },
          "xaxis": {
           "automargin": true,
           "gridcolor": "white",
           "linecolor": "white",
           "ticks": "",
           "title": {
            "standoff": 15
           },
           "zerolinecolor": "white",
           "zerolinewidth": 2
          },
          "yaxis": {
           "automargin": true,
           "gridcolor": "white",
           "linecolor": "white",
           "ticks": "",
           "title": {
            "standoff": 15
           },
           "zerolinecolor": "white",
           "zerolinewidth": 2
          }
         }
        },
        "title": {
         "text": "Daily Mints"
        },
        "xaxis": {
         "anchor": "y",
         "domain": [
          0,
          1
         ],
         "title": {
          "text": "day"
         }
        },
        "yaxis": {
         "anchor": "x",
         "domain": [
          0,
          1
         ],
         "title": {
          "text": "mints"
         }
        }
       }
      }
     },
     "metadata": {},
     "output_type": "display_data"
    }
   ],
   "source": [
    "daily_box_mints.rename(columns={'name':'mints'}, inplace=True)\n",
    "daily_box_mints_fig = px.bar(daily_box_mints, x=daily_box_mints.index, y='mints', title='Daily Mints')\n",
    "daily_box_mints_fig.show()"
   ]
  },
  {
   "cell_type": "code",
   "execution_count": 46,
   "metadata": {},
   "outputs": [
    {
     "data": {
      "text/plain": [
       "3599"
      ]
     },
     "execution_count": 46,
     "metadata": {},
     "output_type": "execute_result"
    }
   ],
   "source": [
    "total_box_mints = box_domains_mints.count().iloc[0]\n",
    "total_box_mints"
   ]
  },
  {
   "cell_type": "code",
   "execution_count": 47,
   "metadata": {},
   "outputs": [],
   "source": [
    "sales_with_names = pd.merge(sales_df, descriptions_df, how='left', on='tokenid')"
   ]
  },
  {
   "cell_type": "code",
   "execution_count": 48,
   "metadata": {},
   "outputs": [],
   "source": [
    "sales_with_names.drop_duplicates('tokenid', inplace=True)\n",
    "sales_with_names.drop(columns=['__row_index','tx_hash','tokenid'], inplace=True)\n",
    "sales_with_names.set_index('day', inplace=True)\n",
    "sales_with_names.index = pd.to_datetime(sales_with_names.index)"
   ]
  },
  {
   "cell_type": "code",
   "execution_count": 56,
   "metadata": {},
   "outputs": [],
   "source": [
    "box_domains_sales = sales_with_names[sales_with_names['name'].str.endswith('.box')]"
   ]
  },
  {
   "cell_type": "code",
   "execution_count": 52,
   "metadata": {},
   "outputs": [],
   "source": [
    "eth_usd_df.set_index('day', inplace=True)\n",
    "eth_usd_df.index = pd.to_datetime(eth_usd_df.index)\n",
    "eth_usd_df.drop(columns=['__row_index'], inplace=True)"
   ]
  },
  {
   "cell_type": "code",
   "execution_count": 55,
   "metadata": {},
   "outputs": [],
   "source": [
    "eth_usd_df.rename(columns={'price':'eth_usd'}, inplace=True)"
   ]
  },
  {
   "cell_type": "code",
   "execution_count": 278,
   "metadata": {},
   "outputs": [
    {
     "name": "stderr",
     "output_type": "stream",
     "text": [
      "C:\\Users\\brandyns pc\\AppData\\Local\\Temp\\ipykernel_12140\\1480011625.py:1: FutureWarning:\n",
      "\n",
      "The behavior of 'to_datetime' with 'unit' when parsing strings is deprecated. In a future version, strings will be parsed as datetime strings, matching the behavior without a 'unit'. To retain the old behavior, explicitly cast ints or floats to numeric type before calling to_datetime.\n",
      "\n",
      "C:\\Users\\brandyns pc\\AppData\\Local\\Temp\\ipykernel_12140\\1480011625.py:1: SettingWithCopyWarning:\n",
      "\n",
      "\n",
      "A value is trying to be set on a copy of a slice from a DataFrame.\n",
      "Try using .loc[row_indexer,col_indexer] = value instead\n",
      "\n",
      "See the caveats in the documentation: https://pandas.pydata.org/pandas-docs/stable/user_guide/indexing.html#returning-a-view-versus-a-copy\n",
      "\n",
      "C:\\Users\\brandyns pc\\AppData\\Local\\Temp\\ipykernel_12140\\1480011625.py:2: FutureWarning:\n",
      "\n",
      "The behavior of 'to_datetime' with 'unit' when parsing strings is deprecated. In a future version, strings will be parsed as datetime strings, matching the behavior without a 'unit'. To retain the old behavior, explicitly cast ints or floats to numeric type before calling to_datetime.\n",
      "\n",
      "C:\\Users\\brandyns pc\\AppData\\Local\\Temp\\ipykernel_12140\\1480011625.py:2: SettingWithCopyWarning:\n",
      "\n",
      "\n",
      "A value is trying to be set on a copy of a slice from a DataFrame.\n",
      "Try using .loc[row_indexer,col_indexer] = value instead\n",
      "\n",
      "See the caveats in the documentation: https://pandas.pydata.org/pandas-docs/stable/user_guide/indexing.html#returning-a-view-versus-a-copy\n",
      "\n"
     ]
    }
   ],
   "source": [
    "box_listings['start_time'] = pd.to_datetime(box_listings['start_time'], unit='s').dt.strftime('%Y-%m-%d %H:00:00')\n",
    "box_listings['end_time'] = pd.to_datetime(box_listings['end_time'], unit='s').dt.strftime('%Y-%m-%d %H:00:00')"
   ]
  },
  {
   "cell_type": "code",
   "execution_count": 283,
   "metadata": {},
   "outputs": [],
   "source": [
    "eth_usd_df_copy = eth_usd_df.reset_index().copy()\n",
    "eth_usd_df_copy.rename(columns={'day':'start_time'}, inplace=True)"
   ]
  },
  {
   "cell_type": "code",
   "execution_count": 291,
   "metadata": {},
   "outputs": [],
   "source": [
    "eth_usd_df_copy['start_time'] = pd.to_datetime(eth_usd_df_copy['start_time']).dt.tz_localize(None)"
   ]
  },
  {
   "cell_type": "code",
   "execution_count": 289,
   "metadata": {},
   "outputs": [
    {
     "name": "stderr",
     "output_type": "stream",
     "text": [
      "C:\\Users\\brandyns pc\\AppData\\Local\\Temp\\ipykernel_12140\\1939952577.py:1: SettingWithCopyWarning:\n",
      "\n",
      "\n",
      "A value is trying to be set on a copy of a slice from a DataFrame.\n",
      "Try using .loc[row_indexer,col_indexer] = value instead\n",
      "\n",
      "See the caveats in the documentation: https://pandas.pydata.org/pandas-docs/stable/user_guide/indexing.html#returning-a-view-versus-a-copy\n",
      "\n"
     ]
    }
   ],
   "source": [
    "box_listings['start_time'] = pd.to_datetime(box_listings['start_time']) "
   ]
  },
  {
   "cell_type": "code",
   "execution_count": 293,
   "metadata": {},
   "outputs": [],
   "source": [
    "\n",
    "box_listings = box_listings.merge(eth_usd_df_copy, how='left', on='start_time') "
   ]
  },
  {
   "cell_type": "code",
   "execution_count": 295,
   "metadata": {},
   "outputs": [],
   "source": [
    "box_listings.drop(columns=['order_hash'], inplace=True)"
   ]
  },
  {
   "cell_type": "code",
   "execution_count": 297,
   "metadata": {},
   "outputs": [],
   "source": [
    "box_listings['price_in_usd_start_time'] = box_listings['price_in_eth'] * box_listings['eth_usd']"
   ]
  },
  {
   "cell_type": "code",
   "execution_count": 299,
   "metadata": {},
   "outputs": [],
   "source": [
    "box_listings.set_index('start_time', inplace=True)\n",
    "box_listings_max_daily = box_listings['price_in_usd_start_time'].resample('D').max()"
   ]
  },
  {
   "cell_type": "code",
   "execution_count": 306,
   "metadata": {},
   "outputs": [
    {
     "data": {
      "text/plain": [
       "519"
      ]
     },
     "execution_count": 306,
     "metadata": {},
     "output_type": "execute_result"
    }
   ],
   "source": [
    "box_listings_num_daily = box_listings['name'].resample('D').count()\n",
    "total_box_listings = box_listings_num_daily.sum()\n",
    "total_box_listings"
   ]
  },
  {
   "cell_type": "code",
   "execution_count": 307,
   "metadata": {},
   "outputs": [
    {
     "data": {
      "text/plain": [
       "start_time\n",
       "2024-01-23     3\n",
       "2024-01-24    11\n",
       "2024-01-25    11\n",
       "2024-01-26     6\n",
       "2024-01-27     4\n",
       "              ..\n",
       "2024-07-01     0\n",
       "2024-07-02     5\n",
       "2024-07-03     0\n",
       "2024-07-04     8\n",
       "2024-07-05     2\n",
       "Freq: D, Name: name, Length: 165, dtype: int64"
      ]
     },
     "execution_count": 307,
     "metadata": {},
     "output_type": "execute_result"
    }
   ],
   "source": [
    "box_listings_num_daily"
   ]
  },
  {
   "cell_type": "code",
   "execution_count": 304,
   "metadata": {},
   "outputs": [],
   "source": [
    "box_listings_min_daily = box_listings['price_in_usd_start_time'].resample('D').min()\n",
    "box_listings_avg_daily = box_listings['price_in_usd_start_time'].resample('D').mean()"
   ]
  },
  {
   "cell_type": "code",
   "execution_count": 313,
   "metadata": {},
   "outputs": [],
   "source": [
    "box_listings_max_daily.fillna(0, inplace=True)\n",
    "box_listings_min_daily.fillna(0, inplace=True)\n",
    "box_listings_avg_daily.fillna(0, inplace=True)"
   ]
  },
  {
   "cell_type": "code",
   "execution_count": 314,
   "metadata": {},
   "outputs": [],
   "source": [
    "box_listing_data = pd.merge(box_listings_num_daily.to_frame('listings'), box_listings_max_daily.to_frame('max_price'), left_index=True,\n",
    "                            right_index=True, how='inner')"
   ]
  },
  {
   "cell_type": "code",
   "execution_count": 316,
   "metadata": {},
   "outputs": [],
   "source": [
    "box_listing_data = box_listing_data.merge(box_listings_min_daily.to_frame('min_price'), left_index=True,\n",
    "                                          right_index=True, how='inner')\n",
    "\n",
    "box_listing_data = box_listing_data.merge(box_listings_avg_daily.to_frame('avg_price'), left_index=True,\n",
    "                                          right_index=True, how='inner')"
   ]
  },
  {
   "cell_type": "code",
   "execution_count": 319,
   "metadata": {},
   "outputs": [
    {
     "data": {
      "text/html": [
       "<div>\n",
       "<style scoped>\n",
       "    .dataframe tbody tr th:only-of-type {\n",
       "        vertical-align: middle;\n",
       "    }\n",
       "\n",
       "    .dataframe tbody tr th {\n",
       "        vertical-align: top;\n",
       "    }\n",
       "\n",
       "    .dataframe thead th {\n",
       "        text-align: right;\n",
       "    }\n",
       "</style>\n",
       "<table border=\"1\" class=\"dataframe\">\n",
       "  <thead>\n",
       "    <tr style=\"text-align: right;\">\n",
       "      <th></th>\n",
       "      <th>listings</th>\n",
       "      <th>max_price</th>\n",
       "      <th>min_price</th>\n",
       "      <th>avg_price</th>\n",
       "    </tr>\n",
       "    <tr>\n",
       "      <th>start_time</th>\n",
       "      <th></th>\n",
       "      <th></th>\n",
       "      <th></th>\n",
       "      <th></th>\n",
       "    </tr>\n",
       "  </thead>\n",
       "  <tbody>\n",
       "    <tr>\n",
       "      <th>2024-01-23</th>\n",
       "      <td>3</td>\n",
       "      <td>18,508.01</td>\n",
       "      <td>6,582.45</td>\n",
       "      <td>10,557.64</td>\n",
       "    </tr>\n",
       "    <tr>\n",
       "      <th>2024-01-24</th>\n",
       "      <td>11</td>\n",
       "      <td>931,166.04</td>\n",
       "      <td>3,349.20</td>\n",
       "      <td>160,128.32</td>\n",
       "    </tr>\n",
       "    <tr>\n",
       "      <th>2024-01-25</th>\n",
       "      <td>11</td>\n",
       "      <td>2,206,503.58</td>\n",
       "      <td>660.15</td>\n",
       "      <td>882,610.90</td>\n",
       "    </tr>\n",
       "    <tr>\n",
       "      <th>2024-01-26</th>\n",
       "      <td>6</td>\n",
       "      <td>665,376.23</td>\n",
       "      <td>4,478.13</td>\n",
       "      <td>162,767.74</td>\n",
       "    </tr>\n",
       "    <tr>\n",
       "      <th>2024-01-27</th>\n",
       "      <td>4</td>\n",
       "      <td>1,590,895.35</td>\n",
       "      <td>680,521.15</td>\n",
       "      <td>946,259.95</td>\n",
       "    </tr>\n",
       "    <tr>\n",
       "      <th>...</th>\n",
       "      <td>...</td>\n",
       "      <td>...</td>\n",
       "      <td>...</td>\n",
       "      <td>...</td>\n",
       "    </tr>\n",
       "    <tr>\n",
       "      <th>2024-07-01</th>\n",
       "      <td>0</td>\n",
       "      <td>0.00</td>\n",
       "      <td>0.00</td>\n",
       "      <td>0.00</td>\n",
       "    </tr>\n",
       "    <tr>\n",
       "      <th>2024-07-02</th>\n",
       "      <td>5</td>\n",
       "      <td>119,676.90</td>\n",
       "      <td>3,541.23</td>\n",
       "      <td>68,411.18</td>\n",
       "    </tr>\n",
       "    <tr>\n",
       "      <th>2024-07-03</th>\n",
       "      <td>0</td>\n",
       "      <td>0.00</td>\n",
       "      <td>0.00</td>\n",
       "      <td>0.00</td>\n",
       "    </tr>\n",
       "    <tr>\n",
       "      <th>2024-07-04</th>\n",
       "      <td>8</td>\n",
       "      <td>19,408.38</td>\n",
       "      <td>960.69</td>\n",
       "      <td>4,183.43</td>\n",
       "    </tr>\n",
       "    <tr>\n",
       "      <th>2024-07-05</th>\n",
       "      <td>2</td>\n",
       "      <td>14,571.00</td>\n",
       "      <td>8,581.74</td>\n",
       "      <td>11,576.37</td>\n",
       "    </tr>\n",
       "  </tbody>\n",
       "</table>\n",
       "<p>165 rows × 4 columns</p>\n",
       "</div>"
      ],
      "text/plain": [
       "            listings    max_price  min_price  avg_price\n",
       "start_time                                             \n",
       "2024-01-23         3    18,508.01   6,582.45  10,557.64\n",
       "2024-01-24        11   931,166.04   3,349.20 160,128.32\n",
       "2024-01-25        11 2,206,503.58     660.15 882,610.90\n",
       "2024-01-26         6   665,376.23   4,478.13 162,767.74\n",
       "2024-01-27         4 1,590,895.35 680,521.15 946,259.95\n",
       "...              ...          ...        ...        ...\n",
       "2024-07-01         0         0.00       0.00       0.00\n",
       "2024-07-02         5   119,676.90   3,541.23  68,411.18\n",
       "2024-07-03         0         0.00       0.00       0.00\n",
       "2024-07-04         8    19,408.38     960.69   4,183.43\n",
       "2024-07-05         2    14,571.00   8,581.74  11,576.37\n",
       "\n",
       "[165 rows x 4 columns]"
      ]
     },
     "execution_count": 319,
     "metadata": {},
     "output_type": "execute_result"
    }
   ],
   "source": [
    "box_listing_data"
   ]
  },
  {
   "cell_type": "code",
   "execution_count": 381,
   "metadata": {},
   "outputs": [
    {
     "name": "stderr",
     "output_type": "stream",
     "text": [
      "C:\\Users\\brandyns pc\\AppData\\Local\\Temp\\ipykernel_12140\\1847853540.py:1: FutureWarning:\n",
      "\n",
      "'M' is deprecated and will be removed in a future version, please use 'ME' instead.\n",
      "\n"
     ]
    },
    {
     "data": {
      "text/plain": [
       "start_time\n",
       "2024-01-31     36\n",
       "2024-02-29     17\n",
       "2024-03-31     11\n",
       "2024-04-30     94\n",
       "2024-05-31    145\n",
       "2024-06-30    201\n",
       "2024-07-31     15\n",
       "Freq: ME, Name: name, dtype: int64"
      ]
     },
     "execution_count": 381,
     "metadata": {},
     "output_type": "execute_result"
    }
   ],
   "source": [
    "monthly_listings = box_listings['name'].resample('M').count()\n",
    "monthly_listings"
   ]
  },
  {
   "cell_type": "code",
   "execution_count": 382,
   "metadata": {},
   "outputs": [],
   "source": [
    "def monthly_listings_growth_rate(listings):\n",
    "    previous_month = listings.shift(1)\n",
    "    growth_rate = ((listings - previous_month) / previous_month) * 100\n",
    "    return growth_rate"
   ]
  },
  {
   "cell_type": "code",
   "execution_count": 383,
   "metadata": {},
   "outputs": [],
   "source": [
    "listings_growth_rate = monthly_listings_growth_rate(monthly_listings)\n"
   ]
  },
  {
   "cell_type": "code",
   "execution_count": 384,
   "metadata": {},
   "outputs": [
    {
     "data": {
      "text/plain": [
       "start_time\n",
       "2024-02-29   -52.78\n",
       "2024-03-31   -35.29\n",
       "2024-04-30   754.55\n",
       "2024-05-31    54.26\n",
       "2024-06-30    38.62\n",
       "2024-07-31   -92.54\n",
       "Freq: ME, Name: name, dtype: float64"
      ]
     },
     "execution_count": 384,
     "metadata": {},
     "output_type": "execute_result"
    }
   ],
   "source": [
    "listings_growth_rate.dropna(inplace=True)\n",
    "listings_growth_rate"
   ]
  },
  {
   "cell_type": "code",
   "execution_count": 57,
   "metadata": {},
   "outputs": [],
   "source": [
    "box_domains_sales = box_domains_sales.merge(eth_usd_df, left_index=True, right_index=True, how='left')"
   ]
  },
  {
   "cell_type": "code",
   "execution_count": 59,
   "metadata": {},
   "outputs": [],
   "source": [
    "box_domains_sales['price_usd'] = box_domains_sales['price'] * box_domains_sales['eth_usd']\n",
    "box_domains_sales.rename(columns={'price':'price_eth'}, inplace=True)"
   ]
  },
  {
   "cell_type": "code",
   "execution_count": 61,
   "metadata": {},
   "outputs": [
    {
     "data": {
      "text/html": [
       "<div>\n",
       "<style scoped>\n",
       "    .dataframe tbody tr th:only-of-type {\n",
       "        vertical-align: middle;\n",
       "    }\n",
       "\n",
       "    .dataframe tbody tr th {\n",
       "        vertical-align: top;\n",
       "    }\n",
       "\n",
       "    .dataframe thead th {\n",
       "        text-align: right;\n",
       "    }\n",
       "</style>\n",
       "<table border=\"1\" class=\"dataframe\">\n",
       "  <thead>\n",
       "    <tr style=\"text-align: right;\">\n",
       "      <th></th>\n",
       "      <th>price_eth</th>\n",
       "      <th>name</th>\n",
       "      <th>price_usd</th>\n",
       "    </tr>\n",
       "    <tr>\n",
       "      <th>day</th>\n",
       "      <th></th>\n",
       "      <th></th>\n",
       "      <th></th>\n",
       "    </tr>\n",
       "  </thead>\n",
       "  <tbody>\n",
       "    <tr>\n",
       "      <th>2024-04-17 18:00:00+00:00</th>\n",
       "      <td>0.0100</td>\n",
       "      <td>mewtwo.box</td>\n",
       "      <td>29.610981</td>\n",
       "    </tr>\n",
       "    <tr>\n",
       "      <th>2024-04-24 04:00:00+00:00</th>\n",
       "      <td>0.0290</td>\n",
       "      <td>0000.box</td>\n",
       "      <td>93.923366</td>\n",
       "    </tr>\n",
       "    <tr>\n",
       "      <th>2024-04-25 21:00:00+00:00</th>\n",
       "      <td>0.1000</td>\n",
       "      <td>express.box</td>\n",
       "      <td>317.327581</td>\n",
       "    </tr>\n",
       "    <tr>\n",
       "      <th>2024-04-27 16:00:00+00:00</th>\n",
       "      <td>10.0000</td>\n",
       "      <td>vm.box</td>\n",
       "      <td>31481.468013</td>\n",
       "    </tr>\n",
       "    <tr>\n",
       "      <th>2024-04-27 00:00:00+00:00</th>\n",
       "      <td>0.3675</td>\n",
       "      <td>jane.box</td>\n",
       "      <td>1151.714038</td>\n",
       "    </tr>\n",
       "    <tr>\n",
       "      <th>2024-04-28 07:00:00+00:00</th>\n",
       "      <td>0.0950</td>\n",
       "      <td>good.box</td>\n",
       "      <td>314.608157</td>\n",
       "    </tr>\n",
       "    <tr>\n",
       "      <th>2024-04-28 01:00:00+00:00</th>\n",
       "      <td>0.0690</td>\n",
       "      <td>man.box</td>\n",
       "      <td>224.604619</td>\n",
       "    </tr>\n",
       "    <tr>\n",
       "      <th>2024-05-07 22:00:00+00:00</th>\n",
       "      <td>0.0550</td>\n",
       "      <td>onyx.box</td>\n",
       "      <td>167.833449</td>\n",
       "    </tr>\n",
       "    <tr>\n",
       "      <th>2024-02-03 22:00:00+00:00</th>\n",
       "      <td>0.0144</td>\n",
       "      <td>696.box</td>\n",
       "      <td>33.088886</td>\n",
       "    </tr>\n",
       "    <tr>\n",
       "      <th>2024-02-05 04:00:00+00:00</th>\n",
       "      <td>0.0200</td>\n",
       "      <td>song.box</td>\n",
       "      <td>45.601150</td>\n",
       "    </tr>\n",
       "    <tr>\n",
       "      <th>2024-02-10 19:00:00+00:00</th>\n",
       "      <td>0.0390</td>\n",
       "      <td>to.box</td>\n",
       "      <td>96.974190</td>\n",
       "    </tr>\n",
       "    <tr>\n",
       "      <th>2024-02-20 12:00:00+00:00</th>\n",
       "      <td>0.0700</td>\n",
       "      <td>uae.box</td>\n",
       "      <td>203.189586</td>\n",
       "    </tr>\n",
       "    <tr>\n",
       "      <th>2024-02-22 04:00:00+00:00</th>\n",
       "      <td>0.0400</td>\n",
       "      <td>08.box</td>\n",
       "      <td>116.739602</td>\n",
       "    </tr>\n",
       "    <tr>\n",
       "      <th>2024-02-24 04:00:00+00:00</th>\n",
       "      <td>0.0700</td>\n",
       "      <td>404.box</td>\n",
       "      <td>203.681142</td>\n",
       "    </tr>\n",
       "    <tr>\n",
       "      <th>2024-02-25 07:00:00+00:00</th>\n",
       "      <td>0.1000</td>\n",
       "      <td>38.box</td>\n",
       "      <td>301.731691</td>\n",
       "    </tr>\n",
       "    <tr>\n",
       "      <th>2024-02-25 02:00:00+00:00</th>\n",
       "      <td>0.0400</td>\n",
       "      <td>010.box</td>\n",
       "      <td>119.084361</td>\n",
       "    </tr>\n",
       "    <tr>\n",
       "      <th>2024-02-25 03:00:00+00:00</th>\n",
       "      <td>0.0450</td>\n",
       "      <td>ap.box</td>\n",
       "      <td>134.586008</td>\n",
       "    </tr>\n",
       "    <tr>\n",
       "      <th>2024-02-25 03:00:00+00:00</th>\n",
       "      <td>0.0700</td>\n",
       "      <td>40.box</td>\n",
       "      <td>209.356013</td>\n",
       "    </tr>\n",
       "    <tr>\n",
       "      <th>2024-02-25 03:00:00+00:00</th>\n",
       "      <td>0.0900</td>\n",
       "      <td>70.box</td>\n",
       "      <td>269.172017</td>\n",
       "    </tr>\n",
       "    <tr>\n",
       "      <th>2024-02-25 03:00:00+00:00</th>\n",
       "      <td>0.0350</td>\n",
       "      <td>015.box</td>\n",
       "      <td>104.678007</td>\n",
       "    </tr>\n",
       "    <tr>\n",
       "      <th>2024-02-25 03:00:00+00:00</th>\n",
       "      <td>0.0900</td>\n",
       "      <td>75.box</td>\n",
       "      <td>269.172017</td>\n",
       "    </tr>\n",
       "  </tbody>\n",
       "</table>\n",
       "</div>"
      ],
      "text/plain": [
       "                           price_eth         name     price_usd\n",
       "day                                                            \n",
       "2024-04-17 18:00:00+00:00     0.0100   mewtwo.box     29.610981\n",
       "2024-04-24 04:00:00+00:00     0.0290     0000.box     93.923366\n",
       "2024-04-25 21:00:00+00:00     0.1000  express.box    317.327581\n",
       "2024-04-27 16:00:00+00:00    10.0000       vm.box  31481.468013\n",
       "2024-04-27 00:00:00+00:00     0.3675     jane.box   1151.714038\n",
       "2024-04-28 07:00:00+00:00     0.0950     good.box    314.608157\n",
       "2024-04-28 01:00:00+00:00     0.0690      man.box    224.604619\n",
       "2024-05-07 22:00:00+00:00     0.0550     onyx.box    167.833449\n",
       "2024-02-03 22:00:00+00:00     0.0144      696.box     33.088886\n",
       "2024-02-05 04:00:00+00:00     0.0200     song.box     45.601150\n",
       "2024-02-10 19:00:00+00:00     0.0390       to.box     96.974190\n",
       "2024-02-20 12:00:00+00:00     0.0700      uae.box    203.189586\n",
       "2024-02-22 04:00:00+00:00     0.0400       08.box    116.739602\n",
       "2024-02-24 04:00:00+00:00     0.0700      404.box    203.681142\n",
       "2024-02-25 07:00:00+00:00     0.1000       38.box    301.731691\n",
       "2024-02-25 02:00:00+00:00     0.0400      010.box    119.084361\n",
       "2024-02-25 03:00:00+00:00     0.0450       ap.box    134.586008\n",
       "2024-02-25 03:00:00+00:00     0.0700       40.box    209.356013\n",
       "2024-02-25 03:00:00+00:00     0.0900       70.box    269.172017\n",
       "2024-02-25 03:00:00+00:00     0.0350      015.box    104.678007\n",
       "2024-02-25 03:00:00+00:00     0.0900       75.box    269.172017"
      ]
     },
     "execution_count": 61,
     "metadata": {},
     "output_type": "execute_result"
    }
   ],
   "source": [
    "box_domains_sales.drop(columns=['eth_usd'], inplace=True)\n"
   ]
  },
  {
   "cell_type": "code",
   "execution_count": 113,
   "metadata": {},
   "outputs": [
    {
     "name": "stderr",
     "output_type": "stream",
     "text": [
      "C:\\Users\\brandyns pc\\AppData\\Local\\Temp\\ipykernel_12140\\3245620862.py:2: SettingWithCopyWarning:\n",
      "\n",
      "\n",
      "A value is trying to be set on a copy of a slice from a DataFrame\n",
      "\n",
      "See the caveats in the documentation: https://pandas.pydata.org/pandas-docs/stable/user_guide/indexing.html#returning-a-view-versus-a-copy\n",
      "\n"
     ]
    }
   ],
   "source": [
    "box_domains_sales.sort_index(inplace=True)\n",
    "box_domains_mints.sort_index(inplace=True)"
   ]
  },
  {
   "cell_type": "code",
   "execution_count": 81,
   "metadata": {},
   "outputs": [],
   "source": [
    "box_domains_sales = box_domains_sales[['name', 'price_usd','price_eth']]\n"
   ]
  },
  {
   "cell_type": "code",
   "execution_count": 158,
   "metadata": {},
   "outputs": [
    {
     "data": {
      "text/html": [
       "<div>\n",
       "<style scoped>\n",
       "    .dataframe tbody tr th:only-of-type {\n",
       "        vertical-align: middle;\n",
       "    }\n",
       "\n",
       "    .dataframe tbody tr th {\n",
       "        vertical-align: top;\n",
       "    }\n",
       "\n",
       "    .dataframe thead th {\n",
       "        text-align: right;\n",
       "    }\n",
       "</style>\n",
       "<table border=\"1\" class=\"dataframe\">\n",
       "  <thead>\n",
       "    <tr style=\"text-align: right;\">\n",
       "      <th></th>\n",
       "      <th>name</th>\n",
       "      <th>price_usd</th>\n",
       "      <th>price_eth</th>\n",
       "    </tr>\n",
       "    <tr>\n",
       "      <th>day</th>\n",
       "      <th></th>\n",
       "      <th></th>\n",
       "      <th></th>\n",
       "    </tr>\n",
       "  </thead>\n",
       "  <tbody>\n",
       "    <tr>\n",
       "      <th>2024-02-03 22:00:00+00:00</th>\n",
       "      <td>696.box</td>\n",
       "      <td>33.088886</td>\n",
       "      <td>0.0144</td>\n",
       "    </tr>\n",
       "    <tr>\n",
       "      <th>2024-02-05 04:00:00+00:00</th>\n",
       "      <td>song.box</td>\n",
       "      <td>45.601150</td>\n",
       "      <td>0.0200</td>\n",
       "    </tr>\n",
       "    <tr>\n",
       "      <th>2024-02-10 19:00:00+00:00</th>\n",
       "      <td>to.box</td>\n",
       "      <td>96.974190</td>\n",
       "      <td>0.0390</td>\n",
       "    </tr>\n",
       "    <tr>\n",
       "      <th>2024-02-20 12:00:00+00:00</th>\n",
       "      <td>uae.box</td>\n",
       "      <td>203.189586</td>\n",
       "      <td>0.0700</td>\n",
       "    </tr>\n",
       "    <tr>\n",
       "      <th>2024-02-22 04:00:00+00:00</th>\n",
       "      <td>08.box</td>\n",
       "      <td>116.739602</td>\n",
       "      <td>0.0400</td>\n",
       "    </tr>\n",
       "    <tr>\n",
       "      <th>2024-02-24 04:00:00+00:00</th>\n",
       "      <td>404.box</td>\n",
       "      <td>203.681142</td>\n",
       "      <td>0.0700</td>\n",
       "    </tr>\n",
       "    <tr>\n",
       "      <th>2024-02-25 02:00:00+00:00</th>\n",
       "      <td>010.box</td>\n",
       "      <td>119.084361</td>\n",
       "      <td>0.0400</td>\n",
       "    </tr>\n",
       "    <tr>\n",
       "      <th>2024-02-25 03:00:00+00:00</th>\n",
       "      <td>70.box</td>\n",
       "      <td>269.172017</td>\n",
       "      <td>0.0900</td>\n",
       "    </tr>\n",
       "    <tr>\n",
       "      <th>2024-02-25 03:00:00+00:00</th>\n",
       "      <td>40.box</td>\n",
       "      <td>209.356013</td>\n",
       "      <td>0.0700</td>\n",
       "    </tr>\n",
       "    <tr>\n",
       "      <th>2024-02-25 03:00:00+00:00</th>\n",
       "      <td>ap.box</td>\n",
       "      <td>134.586008</td>\n",
       "      <td>0.0450</td>\n",
       "    </tr>\n",
       "    <tr>\n",
       "      <th>2024-02-25 03:00:00+00:00</th>\n",
       "      <td>75.box</td>\n",
       "      <td>269.172017</td>\n",
       "      <td>0.0900</td>\n",
       "    </tr>\n",
       "    <tr>\n",
       "      <th>2024-02-25 03:00:00+00:00</th>\n",
       "      <td>015.box</td>\n",
       "      <td>104.678007</td>\n",
       "      <td>0.0350</td>\n",
       "    </tr>\n",
       "    <tr>\n",
       "      <th>2024-02-25 07:00:00+00:00</th>\n",
       "      <td>38.box</td>\n",
       "      <td>301.731691</td>\n",
       "      <td>0.1000</td>\n",
       "    </tr>\n",
       "    <tr>\n",
       "      <th>2024-04-17 18:00:00+00:00</th>\n",
       "      <td>mewtwo.box</td>\n",
       "      <td>29.610981</td>\n",
       "      <td>0.0100</td>\n",
       "    </tr>\n",
       "    <tr>\n",
       "      <th>2024-04-24 04:00:00+00:00</th>\n",
       "      <td>0000.box</td>\n",
       "      <td>93.923366</td>\n",
       "      <td>0.0290</td>\n",
       "    </tr>\n",
       "    <tr>\n",
       "      <th>2024-04-25 21:00:00+00:00</th>\n",
       "      <td>express.box</td>\n",
       "      <td>317.327581</td>\n",
       "      <td>0.1000</td>\n",
       "    </tr>\n",
       "    <tr>\n",
       "      <th>2024-04-27 00:00:00+00:00</th>\n",
       "      <td>jane.box</td>\n",
       "      <td>1151.714038</td>\n",
       "      <td>0.3675</td>\n",
       "    </tr>\n",
       "    <tr>\n",
       "      <th>2024-04-27 16:00:00+00:00</th>\n",
       "      <td>vm.box</td>\n",
       "      <td>31481.468013</td>\n",
       "      <td>10.0000</td>\n",
       "    </tr>\n",
       "    <tr>\n",
       "      <th>2024-04-28 01:00:00+00:00</th>\n",
       "      <td>man.box</td>\n",
       "      <td>224.604619</td>\n",
       "      <td>0.0690</td>\n",
       "    </tr>\n",
       "    <tr>\n",
       "      <th>2024-04-28 07:00:00+00:00</th>\n",
       "      <td>good.box</td>\n",
       "      <td>314.608157</td>\n",
       "      <td>0.0950</td>\n",
       "    </tr>\n",
       "    <tr>\n",
       "      <th>2024-05-07 22:00:00+00:00</th>\n",
       "      <td>onyx.box</td>\n",
       "      <td>167.833449</td>\n",
       "      <td>0.0550</td>\n",
       "    </tr>\n",
       "  </tbody>\n",
       "</table>\n",
       "</div>"
      ],
      "text/plain": [
       "                                  name     price_usd  price_eth\n",
       "day                                                            \n",
       "2024-02-03 22:00:00+00:00      696.box     33.088886     0.0144\n",
       "2024-02-05 04:00:00+00:00     song.box     45.601150     0.0200\n",
       "2024-02-10 19:00:00+00:00       to.box     96.974190     0.0390\n",
       "2024-02-20 12:00:00+00:00      uae.box    203.189586     0.0700\n",
       "2024-02-22 04:00:00+00:00       08.box    116.739602     0.0400\n",
       "2024-02-24 04:00:00+00:00      404.box    203.681142     0.0700\n",
       "2024-02-25 02:00:00+00:00      010.box    119.084361     0.0400\n",
       "2024-02-25 03:00:00+00:00       70.box    269.172017     0.0900\n",
       "2024-02-25 03:00:00+00:00       40.box    209.356013     0.0700\n",
       "2024-02-25 03:00:00+00:00       ap.box    134.586008     0.0450\n",
       "2024-02-25 03:00:00+00:00       75.box    269.172017     0.0900\n",
       "2024-02-25 03:00:00+00:00      015.box    104.678007     0.0350\n",
       "2024-02-25 07:00:00+00:00       38.box    301.731691     0.1000\n",
       "2024-04-17 18:00:00+00:00   mewtwo.box     29.610981     0.0100\n",
       "2024-04-24 04:00:00+00:00     0000.box     93.923366     0.0290\n",
       "2024-04-25 21:00:00+00:00  express.box    317.327581     0.1000\n",
       "2024-04-27 00:00:00+00:00     jane.box   1151.714038     0.3675\n",
       "2024-04-27 16:00:00+00:00       vm.box  31481.468013    10.0000\n",
       "2024-04-28 01:00:00+00:00      man.box    224.604619     0.0690\n",
       "2024-04-28 07:00:00+00:00     good.box    314.608157     0.0950\n",
       "2024-05-07 22:00:00+00:00     onyx.box    167.833449     0.0550"
      ]
     },
     "execution_count": 158,
     "metadata": {},
     "output_type": "execute_result"
    }
   ],
   "source": [
    "box_domains_sales"
   ]
  },
  {
   "cell_type": "code",
   "execution_count": 82,
   "metadata": {},
   "outputs": [
    {
     "name": "stdout",
     "output_type": "stream",
     "text": [
      "Maximum sale: \n",
      " name               vm.box\n",
      "price_usd    31481.468013\n",
      "price_eth            10.0\n",
      "Name: 2024-04-27 16:00:00+00:00, dtype: object\n"
     ]
    }
   ],
   "source": [
    "max_eth_sale = box_domains_sales['price_eth'].max()\n",
    "max_usd_sale = box_domains_sales['price_usd'].max()\n",
    "\n",
    "# Retrieve the corresponding timestamps\n",
    "max_eth_sale_row = box_domains_sales.loc[box_domains_sales['price_eth'].idxmax()]\n",
    "max_usd_sale_row = box_domains_sales.loc[box_domains_sales['price_usd'].idxmax()]\n",
    "\n",
    "# Display the results\n",
    "print(f\"Maximum sale: \\n {max_eth_sale_row}\")\n"
   ]
  },
  {
   "cell_type": "code",
   "execution_count": 310,
   "metadata": {},
   "outputs": [
    {
     "name": "stdout",
     "output_type": "stream",
     "text": [
      "total .box domain sales as of 2024-07-05 22:56:22.861562 : 21\n"
     ]
    }
   ],
   "source": [
    "total_box_sales = box_domains_sales['name'].count()\n",
    "print(f'total .box domain sales as of {dt.datetime.today()} : {total_box_sales}')"
   ]
  },
  {
   "cell_type": "code",
   "execution_count": 96,
   "metadata": {},
   "outputs": [
    {
     "data": {
      "text/plain": [
       "day\n",
       "2024-02-03 00:00:00+00:00    1\n",
       "2024-02-04 00:00:00+00:00    0\n",
       "2024-02-05 00:00:00+00:00    1\n",
       "2024-02-06 00:00:00+00:00    0\n",
       "2024-02-07 00:00:00+00:00    0\n",
       "                            ..\n",
       "2024-05-03 00:00:00+00:00    0\n",
       "2024-05-04 00:00:00+00:00    0\n",
       "2024-05-05 00:00:00+00:00    0\n",
       "2024-05-06 00:00:00+00:00    0\n",
       "2024-05-07 00:00:00+00:00    1\n",
       "Freq: D, Name: name, Length: 95, dtype: int64"
      ]
     },
     "execution_count": 96,
     "metadata": {},
     "output_type": "execute_result"
    }
   ],
   "source": [
    "daily_box_sales = box_domains_sales['name'].resample('D').count()\n",
    "daily_box_sales"
   ]
  },
  {
   "cell_type": "code",
   "execution_count": 255,
   "metadata": {},
   "outputs": [],
   "source": [
    "daily_box_vol = box_domains_sales['price_usd'].resample('D').sum()\n",
    "cumulative_box_vol = daily_box_vol.cumsum()"
   ]
  },
  {
   "cell_type": "code",
   "execution_count": 107,
   "metadata": {},
   "outputs": [
    {
     "data": {
      "application/vnd.plotly.v1+json": {
       "config": {
        "plotlyServerURL": "https://plot.ly"
       },
       "data": [
        {
         "alignmentgroup": "True",
         "hovertemplate": "day=%{x}<br>sales=%{y}<extra></extra>",
         "legendgroup": "",
         "marker": {
          "color": "#636efa",
          "pattern": {
           "shape": ""
          }
         },
         "name": "",
         "offsetgroup": "",
         "orientation": "v",
         "showlegend": false,
         "textposition": "auto",
         "type": "bar",
         "x": [
          "2024-02-03T00:00:00+00:00",
          "2024-02-04T00:00:00+00:00",
          "2024-02-05T00:00:00+00:00",
          "2024-02-06T00:00:00+00:00",
          "2024-02-07T00:00:00+00:00",
          "2024-02-08T00:00:00+00:00",
          "2024-02-09T00:00:00+00:00",
          "2024-02-10T00:00:00+00:00",
          "2024-02-11T00:00:00+00:00",
          "2024-02-12T00:00:00+00:00",
          "2024-02-13T00:00:00+00:00",
          "2024-02-14T00:00:00+00:00",
          "2024-02-15T00:00:00+00:00",
          "2024-02-16T00:00:00+00:00",
          "2024-02-17T00:00:00+00:00",
          "2024-02-18T00:00:00+00:00",
          "2024-02-19T00:00:00+00:00",
          "2024-02-20T00:00:00+00:00",
          "2024-02-21T00:00:00+00:00",
          "2024-02-22T00:00:00+00:00",
          "2024-02-23T00:00:00+00:00",
          "2024-02-24T00:00:00+00:00",
          "2024-02-25T00:00:00+00:00",
          "2024-02-26T00:00:00+00:00",
          "2024-02-27T00:00:00+00:00",
          "2024-02-28T00:00:00+00:00",
          "2024-02-29T00:00:00+00:00",
          "2024-03-01T00:00:00+00:00",
          "2024-03-02T00:00:00+00:00",
          "2024-03-03T00:00:00+00:00",
          "2024-03-04T00:00:00+00:00",
          "2024-03-05T00:00:00+00:00",
          "2024-03-06T00:00:00+00:00",
          "2024-03-07T00:00:00+00:00",
          "2024-03-08T00:00:00+00:00",
          "2024-03-09T00:00:00+00:00",
          "2024-03-10T00:00:00+00:00",
          "2024-03-11T00:00:00+00:00",
          "2024-03-12T00:00:00+00:00",
          "2024-03-13T00:00:00+00:00",
          "2024-03-14T00:00:00+00:00",
          "2024-03-15T00:00:00+00:00",
          "2024-03-16T00:00:00+00:00",
          "2024-03-17T00:00:00+00:00",
          "2024-03-18T00:00:00+00:00",
          "2024-03-19T00:00:00+00:00",
          "2024-03-20T00:00:00+00:00",
          "2024-03-21T00:00:00+00:00",
          "2024-03-22T00:00:00+00:00",
          "2024-03-23T00:00:00+00:00",
          "2024-03-24T00:00:00+00:00",
          "2024-03-25T00:00:00+00:00",
          "2024-03-26T00:00:00+00:00",
          "2024-03-27T00:00:00+00:00",
          "2024-03-28T00:00:00+00:00",
          "2024-03-29T00:00:00+00:00",
          "2024-03-30T00:00:00+00:00",
          "2024-03-31T00:00:00+00:00",
          "2024-04-01T00:00:00+00:00",
          "2024-04-02T00:00:00+00:00",
          "2024-04-03T00:00:00+00:00",
          "2024-04-04T00:00:00+00:00",
          "2024-04-05T00:00:00+00:00",
          "2024-04-06T00:00:00+00:00",
          "2024-04-07T00:00:00+00:00",
          "2024-04-08T00:00:00+00:00",
          "2024-04-09T00:00:00+00:00",
          "2024-04-10T00:00:00+00:00",
          "2024-04-11T00:00:00+00:00",
          "2024-04-12T00:00:00+00:00",
          "2024-04-13T00:00:00+00:00",
          "2024-04-14T00:00:00+00:00",
          "2024-04-15T00:00:00+00:00",
          "2024-04-16T00:00:00+00:00",
          "2024-04-17T00:00:00+00:00",
          "2024-04-18T00:00:00+00:00",
          "2024-04-19T00:00:00+00:00",
          "2024-04-20T00:00:00+00:00",
          "2024-04-21T00:00:00+00:00",
          "2024-04-22T00:00:00+00:00",
          "2024-04-23T00:00:00+00:00",
          "2024-04-24T00:00:00+00:00",
          "2024-04-25T00:00:00+00:00",
          "2024-04-26T00:00:00+00:00",
          "2024-04-27T00:00:00+00:00",
          "2024-04-28T00:00:00+00:00",
          "2024-04-29T00:00:00+00:00",
          "2024-04-30T00:00:00+00:00",
          "2024-05-01T00:00:00+00:00",
          "2024-05-02T00:00:00+00:00",
          "2024-05-03T00:00:00+00:00",
          "2024-05-04T00:00:00+00:00",
          "2024-05-05T00:00:00+00:00",
          "2024-05-06T00:00:00+00:00",
          "2024-05-07T00:00:00+00:00"
         ],
         "xaxis": "x",
         "y": [
          1,
          0,
          1,
          0,
          0,
          0,
          0,
          1,
          0,
          0,
          0,
          0,
          0,
          0,
          0,
          0,
          0,
          1,
          0,
          1,
          0,
          1,
          7,
          0,
          0,
          0,
          0,
          0,
          0,
          0,
          0,
          0,
          0,
          0,
          0,
          0,
          0,
          0,
          0,
          0,
          0,
          0,
          0,
          0,
          0,
          0,
          0,
          0,
          0,
          0,
          0,
          0,
          0,
          0,
          0,
          0,
          0,
          0,
          0,
          0,
          0,
          0,
          0,
          0,
          0,
          0,
          0,
          0,
          0,
          0,
          0,
          0,
          0,
          0,
          1,
          0,
          0,
          0,
          0,
          0,
          0,
          1,
          1,
          0,
          2,
          2,
          0,
          0,
          0,
          0,
          0,
          0,
          0,
          0,
          1
         ],
         "yaxis": "y"
        }
       ],
       "layout": {
        "barmode": "relative",
        "legend": {
         "tracegroupgap": 0
        },
        "template": {
         "data": {
          "bar": [
           {
            "error_x": {
             "color": "#2a3f5f"
            },
            "error_y": {
             "color": "#2a3f5f"
            },
            "marker": {
             "line": {
              "color": "#E5ECF6",
              "width": 0.5
             },
             "pattern": {
              "fillmode": "overlay",
              "size": 10,
              "solidity": 0.2
             }
            },
            "type": "bar"
           }
          ],
          "barpolar": [
           {
            "marker": {
             "line": {
              "color": "#E5ECF6",
              "width": 0.5
             },
             "pattern": {
              "fillmode": "overlay",
              "size": 10,
              "solidity": 0.2
             }
            },
            "type": "barpolar"
           }
          ],
          "carpet": [
           {
            "aaxis": {
             "endlinecolor": "#2a3f5f",
             "gridcolor": "white",
             "linecolor": "white",
             "minorgridcolor": "white",
             "startlinecolor": "#2a3f5f"
            },
            "baxis": {
             "endlinecolor": "#2a3f5f",
             "gridcolor": "white",
             "linecolor": "white",
             "minorgridcolor": "white",
             "startlinecolor": "#2a3f5f"
            },
            "type": "carpet"
           }
          ],
          "choropleth": [
           {
            "colorbar": {
             "outlinewidth": 0,
             "ticks": ""
            },
            "type": "choropleth"
           }
          ],
          "contour": [
           {
            "colorbar": {
             "outlinewidth": 0,
             "ticks": ""
            },
            "colorscale": [
             [
              0,
              "#0d0887"
             ],
             [
              0.1111111111111111,
              "#46039f"
             ],
             [
              0.2222222222222222,
              "#7201a8"
             ],
             [
              0.3333333333333333,
              "#9c179e"
             ],
             [
              0.4444444444444444,
              "#bd3786"
             ],
             [
              0.5555555555555556,
              "#d8576b"
             ],
             [
              0.6666666666666666,
              "#ed7953"
             ],
             [
              0.7777777777777778,
              "#fb9f3a"
             ],
             [
              0.8888888888888888,
              "#fdca26"
             ],
             [
              1,
              "#f0f921"
             ]
            ],
            "type": "contour"
           }
          ],
          "contourcarpet": [
           {
            "colorbar": {
             "outlinewidth": 0,
             "ticks": ""
            },
            "type": "contourcarpet"
           }
          ],
          "heatmap": [
           {
            "colorbar": {
             "outlinewidth": 0,
             "ticks": ""
            },
            "colorscale": [
             [
              0,
              "#0d0887"
             ],
             [
              0.1111111111111111,
              "#46039f"
             ],
             [
              0.2222222222222222,
              "#7201a8"
             ],
             [
              0.3333333333333333,
              "#9c179e"
             ],
             [
              0.4444444444444444,
              "#bd3786"
             ],
             [
              0.5555555555555556,
              "#d8576b"
             ],
             [
              0.6666666666666666,
              "#ed7953"
             ],
             [
              0.7777777777777778,
              "#fb9f3a"
             ],
             [
              0.8888888888888888,
              "#fdca26"
             ],
             [
              1,
              "#f0f921"
             ]
            ],
            "type": "heatmap"
           }
          ],
          "heatmapgl": [
           {
            "colorbar": {
             "outlinewidth": 0,
             "ticks": ""
            },
            "colorscale": [
             [
              0,
              "#0d0887"
             ],
             [
              0.1111111111111111,
              "#46039f"
             ],
             [
              0.2222222222222222,
              "#7201a8"
             ],
             [
              0.3333333333333333,
              "#9c179e"
             ],
             [
              0.4444444444444444,
              "#bd3786"
             ],
             [
              0.5555555555555556,
              "#d8576b"
             ],
             [
              0.6666666666666666,
              "#ed7953"
             ],
             [
              0.7777777777777778,
              "#fb9f3a"
             ],
             [
              0.8888888888888888,
              "#fdca26"
             ],
             [
              1,
              "#f0f921"
             ]
            ],
            "type": "heatmapgl"
           }
          ],
          "histogram": [
           {
            "marker": {
             "pattern": {
              "fillmode": "overlay",
              "size": 10,
              "solidity": 0.2
             }
            },
            "type": "histogram"
           }
          ],
          "histogram2d": [
           {
            "colorbar": {
             "outlinewidth": 0,
             "ticks": ""
            },
            "colorscale": [
             [
              0,
              "#0d0887"
             ],
             [
              0.1111111111111111,
              "#46039f"
             ],
             [
              0.2222222222222222,
              "#7201a8"
             ],
             [
              0.3333333333333333,
              "#9c179e"
             ],
             [
              0.4444444444444444,
              "#bd3786"
             ],
             [
              0.5555555555555556,
              "#d8576b"
             ],
             [
              0.6666666666666666,
              "#ed7953"
             ],
             [
              0.7777777777777778,
              "#fb9f3a"
             ],
             [
              0.8888888888888888,
              "#fdca26"
             ],
             [
              1,
              "#f0f921"
             ]
            ],
            "type": "histogram2d"
           }
          ],
          "histogram2dcontour": [
           {
            "colorbar": {
             "outlinewidth": 0,
             "ticks": ""
            },
            "colorscale": [
             [
              0,
              "#0d0887"
             ],
             [
              0.1111111111111111,
              "#46039f"
             ],
             [
              0.2222222222222222,
              "#7201a8"
             ],
             [
              0.3333333333333333,
              "#9c179e"
             ],
             [
              0.4444444444444444,
              "#bd3786"
             ],
             [
              0.5555555555555556,
              "#d8576b"
             ],
             [
              0.6666666666666666,
              "#ed7953"
             ],
             [
              0.7777777777777778,
              "#fb9f3a"
             ],
             [
              0.8888888888888888,
              "#fdca26"
             ],
             [
              1,
              "#f0f921"
             ]
            ],
            "type": "histogram2dcontour"
           }
          ],
          "mesh3d": [
           {
            "colorbar": {
             "outlinewidth": 0,
             "ticks": ""
            },
            "type": "mesh3d"
           }
          ],
          "parcoords": [
           {
            "line": {
             "colorbar": {
              "outlinewidth": 0,
              "ticks": ""
             }
            },
            "type": "parcoords"
           }
          ],
          "pie": [
           {
            "automargin": true,
            "type": "pie"
           }
          ],
          "scatter": [
           {
            "fillpattern": {
             "fillmode": "overlay",
             "size": 10,
             "solidity": 0.2
            },
            "type": "scatter"
           }
          ],
          "scatter3d": [
           {
            "line": {
             "colorbar": {
              "outlinewidth": 0,
              "ticks": ""
             }
            },
            "marker": {
             "colorbar": {
              "outlinewidth": 0,
              "ticks": ""
             }
            },
            "type": "scatter3d"
           }
          ],
          "scattercarpet": [
           {
            "marker": {
             "colorbar": {
              "outlinewidth": 0,
              "ticks": ""
             }
            },
            "type": "scattercarpet"
           }
          ],
          "scattergeo": [
           {
            "marker": {
             "colorbar": {
              "outlinewidth": 0,
              "ticks": ""
             }
            },
            "type": "scattergeo"
           }
          ],
          "scattergl": [
           {
            "marker": {
             "colorbar": {
              "outlinewidth": 0,
              "ticks": ""
             }
            },
            "type": "scattergl"
           }
          ],
          "scattermapbox": [
           {
            "marker": {
             "colorbar": {
              "outlinewidth": 0,
              "ticks": ""
             }
            },
            "type": "scattermapbox"
           }
          ],
          "scatterpolar": [
           {
            "marker": {
             "colorbar": {
              "outlinewidth": 0,
              "ticks": ""
             }
            },
            "type": "scatterpolar"
           }
          ],
          "scatterpolargl": [
           {
            "marker": {
             "colorbar": {
              "outlinewidth": 0,
              "ticks": ""
             }
            },
            "type": "scatterpolargl"
           }
          ],
          "scatterternary": [
           {
            "marker": {
             "colorbar": {
              "outlinewidth": 0,
              "ticks": ""
             }
            },
            "type": "scatterternary"
           }
          ],
          "surface": [
           {
            "colorbar": {
             "outlinewidth": 0,
             "ticks": ""
            },
            "colorscale": [
             [
              0,
              "#0d0887"
             ],
             [
              0.1111111111111111,
              "#46039f"
             ],
             [
              0.2222222222222222,
              "#7201a8"
             ],
             [
              0.3333333333333333,
              "#9c179e"
             ],
             [
              0.4444444444444444,
              "#bd3786"
             ],
             [
              0.5555555555555556,
              "#d8576b"
             ],
             [
              0.6666666666666666,
              "#ed7953"
             ],
             [
              0.7777777777777778,
              "#fb9f3a"
             ],
             [
              0.8888888888888888,
              "#fdca26"
             ],
             [
              1,
              "#f0f921"
             ]
            ],
            "type": "surface"
           }
          ],
          "table": [
           {
            "cells": {
             "fill": {
              "color": "#EBF0F8"
             },
             "line": {
              "color": "white"
             }
            },
            "header": {
             "fill": {
              "color": "#C8D4E3"
             },
             "line": {
              "color": "white"
             }
            },
            "type": "table"
           }
          ]
         },
         "layout": {
          "annotationdefaults": {
           "arrowcolor": "#2a3f5f",
           "arrowhead": 0,
           "arrowwidth": 1
          },
          "autotypenumbers": "strict",
          "coloraxis": {
           "colorbar": {
            "outlinewidth": 0,
            "ticks": ""
           }
          },
          "colorscale": {
           "diverging": [
            [
             0,
             "#8e0152"
            ],
            [
             0.1,
             "#c51b7d"
            ],
            [
             0.2,
             "#de77ae"
            ],
            [
             0.3,
             "#f1b6da"
            ],
            [
             0.4,
             "#fde0ef"
            ],
            [
             0.5,
             "#f7f7f7"
            ],
            [
             0.6,
             "#e6f5d0"
            ],
            [
             0.7,
             "#b8e186"
            ],
            [
             0.8,
             "#7fbc41"
            ],
            [
             0.9,
             "#4d9221"
            ],
            [
             1,
             "#276419"
            ]
           ],
           "sequential": [
            [
             0,
             "#0d0887"
            ],
            [
             0.1111111111111111,
             "#46039f"
            ],
            [
             0.2222222222222222,
             "#7201a8"
            ],
            [
             0.3333333333333333,
             "#9c179e"
            ],
            [
             0.4444444444444444,
             "#bd3786"
            ],
            [
             0.5555555555555556,
             "#d8576b"
            ],
            [
             0.6666666666666666,
             "#ed7953"
            ],
            [
             0.7777777777777778,
             "#fb9f3a"
            ],
            [
             0.8888888888888888,
             "#fdca26"
            ],
            [
             1,
             "#f0f921"
            ]
           ],
           "sequentialminus": [
            [
             0,
             "#0d0887"
            ],
            [
             0.1111111111111111,
             "#46039f"
            ],
            [
             0.2222222222222222,
             "#7201a8"
            ],
            [
             0.3333333333333333,
             "#9c179e"
            ],
            [
             0.4444444444444444,
             "#bd3786"
            ],
            [
             0.5555555555555556,
             "#d8576b"
            ],
            [
             0.6666666666666666,
             "#ed7953"
            ],
            [
             0.7777777777777778,
             "#fb9f3a"
            ],
            [
             0.8888888888888888,
             "#fdca26"
            ],
            [
             1,
             "#f0f921"
            ]
           ]
          },
          "colorway": [
           "#636efa",
           "#EF553B",
           "#00cc96",
           "#ab63fa",
           "#FFA15A",
           "#19d3f3",
           "#FF6692",
           "#B6E880",
           "#FF97FF",
           "#FECB52"
          ],
          "font": {
           "color": "#2a3f5f"
          },
          "geo": {
           "bgcolor": "white",
           "lakecolor": "white",
           "landcolor": "#E5ECF6",
           "showlakes": true,
           "showland": true,
           "subunitcolor": "white"
          },
          "hoverlabel": {
           "align": "left"
          },
          "hovermode": "closest",
          "mapbox": {
           "style": "light"
          },
          "paper_bgcolor": "white",
          "plot_bgcolor": "#E5ECF6",
          "polar": {
           "angularaxis": {
            "gridcolor": "white",
            "linecolor": "white",
            "ticks": ""
           },
           "bgcolor": "#E5ECF6",
           "radialaxis": {
            "gridcolor": "white",
            "linecolor": "white",
            "ticks": ""
           }
          },
          "scene": {
           "xaxis": {
            "backgroundcolor": "#E5ECF6",
            "gridcolor": "white",
            "gridwidth": 2,
            "linecolor": "white",
            "showbackground": true,
            "ticks": "",
            "zerolinecolor": "white"
           },
           "yaxis": {
            "backgroundcolor": "#E5ECF6",
            "gridcolor": "white",
            "gridwidth": 2,
            "linecolor": "white",
            "showbackground": true,
            "ticks": "",
            "zerolinecolor": "white"
           },
           "zaxis": {
            "backgroundcolor": "#E5ECF6",
            "gridcolor": "white",
            "gridwidth": 2,
            "linecolor": "white",
            "showbackground": true,
            "ticks": "",
            "zerolinecolor": "white"
           }
          },
          "shapedefaults": {
           "line": {
            "color": "#2a3f5f"
           }
          },
          "ternary": {
           "aaxis": {
            "gridcolor": "white",
            "linecolor": "white",
            "ticks": ""
           },
           "baxis": {
            "gridcolor": "white",
            "linecolor": "white",
            "ticks": ""
           },
           "bgcolor": "#E5ECF6",
           "caxis": {
            "gridcolor": "white",
            "linecolor": "white",
            "ticks": ""
           }
          },
          "title": {
           "x": 0.05
          },
          "xaxis": {
           "automargin": true,
           "gridcolor": "white",
           "linecolor": "white",
           "ticks": "",
           "title": {
            "standoff": 15
           },
           "zerolinecolor": "white",
           "zerolinewidth": 2
          },
          "yaxis": {
           "automargin": true,
           "gridcolor": "white",
           "linecolor": "white",
           "ticks": "",
           "title": {
            "standoff": 15
           },
           "zerolinecolor": "white",
           "zerolinewidth": 2
          }
         }
        },
        "title": {
         "text": "Daily Sales"
        },
        "xaxis": {
         "anchor": "y",
         "domain": [
          0,
          1
         ],
         "title": {
          "text": "day"
         }
        },
        "yaxis": {
         "anchor": "x",
         "domain": [
          0,
          1
         ],
         "title": {
          "text": "sales"
         }
        }
       }
      }
     },
     "metadata": {},
     "output_type": "display_data"
    }
   ],
   "source": [
    "daily_box_sales_fig = px.bar(daily_box_sales.to_frame('sales'), x=daily_box_sales.index, y='sales', title='Daily Sales')\n",
    "daily_box_sales_fig.show()"
   ]
  },
  {
   "cell_type": "code",
   "execution_count": 111,
   "metadata": {},
   "outputs": [
    {
     "data": {
      "text/html": [
       "<div>\n",
       "<style scoped>\n",
       "    .dataframe tbody tr th:only-of-type {\n",
       "        vertical-align: middle;\n",
       "    }\n",
       "\n",
       "    .dataframe tbody tr th {\n",
       "        vertical-align: top;\n",
       "    }\n",
       "\n",
       "    .dataframe thead th {\n",
       "        text-align: right;\n",
       "    }\n",
       "</style>\n",
       "<table border=\"1\" class=\"dataframe\">\n",
       "  <thead>\n",
       "    <tr style=\"text-align: right;\">\n",
       "      <th></th>\n",
       "      <th>name</th>\n",
       "      <th>price_usd</th>\n",
       "      <th>price_eth</th>\n",
       "    </tr>\n",
       "    <tr>\n",
       "      <th>day</th>\n",
       "      <th></th>\n",
       "      <th></th>\n",
       "      <th></th>\n",
       "    </tr>\n",
       "  </thead>\n",
       "  <tbody>\n",
       "    <tr>\n",
       "      <th>2024-02-25 03:00:00+00:00</th>\n",
       "      <td>015.box</td>\n",
       "      <td>104.678007</td>\n",
       "      <td>0.0350</td>\n",
       "    </tr>\n",
       "    <tr>\n",
       "      <th>2024-02-25 07:00:00+00:00</th>\n",
       "      <td>38.box</td>\n",
       "      <td>301.731691</td>\n",
       "      <td>0.1000</td>\n",
       "    </tr>\n",
       "    <tr>\n",
       "      <th>2024-04-17 18:00:00+00:00</th>\n",
       "      <td>mewtwo.box</td>\n",
       "      <td>29.610981</td>\n",
       "      <td>0.0100</td>\n",
       "    </tr>\n",
       "    <tr>\n",
       "      <th>2024-04-24 04:00:00+00:00</th>\n",
       "      <td>0000.box</td>\n",
       "      <td>93.923366</td>\n",
       "      <td>0.0290</td>\n",
       "    </tr>\n",
       "    <tr>\n",
       "      <th>2024-04-25 21:00:00+00:00</th>\n",
       "      <td>express.box</td>\n",
       "      <td>317.327581</td>\n",
       "      <td>0.1000</td>\n",
       "    </tr>\n",
       "    <tr>\n",
       "      <th>2024-04-27 00:00:00+00:00</th>\n",
       "      <td>jane.box</td>\n",
       "      <td>1151.714038</td>\n",
       "      <td>0.3675</td>\n",
       "    </tr>\n",
       "    <tr>\n",
       "      <th>2024-04-27 16:00:00+00:00</th>\n",
       "      <td>vm.box</td>\n",
       "      <td>31481.468013</td>\n",
       "      <td>10.0000</td>\n",
       "    </tr>\n",
       "    <tr>\n",
       "      <th>2024-04-28 01:00:00+00:00</th>\n",
       "      <td>man.box</td>\n",
       "      <td>224.604619</td>\n",
       "      <td>0.0690</td>\n",
       "    </tr>\n",
       "    <tr>\n",
       "      <th>2024-04-28 07:00:00+00:00</th>\n",
       "      <td>good.box</td>\n",
       "      <td>314.608157</td>\n",
       "      <td>0.0950</td>\n",
       "    </tr>\n",
       "    <tr>\n",
       "      <th>2024-05-07 22:00:00+00:00</th>\n",
       "      <td>onyx.box</td>\n",
       "      <td>167.833449</td>\n",
       "      <td>0.0550</td>\n",
       "    </tr>\n",
       "  </tbody>\n",
       "</table>\n",
       "</div>"
      ],
      "text/plain": [
       "                                  name     price_usd  price_eth\n",
       "day                                                            \n",
       "2024-02-25 03:00:00+00:00      015.box    104.678007     0.0350\n",
       "2024-02-25 07:00:00+00:00       38.box    301.731691     0.1000\n",
       "2024-04-17 18:00:00+00:00   mewtwo.box     29.610981     0.0100\n",
       "2024-04-24 04:00:00+00:00     0000.box     93.923366     0.0290\n",
       "2024-04-25 21:00:00+00:00  express.box    317.327581     0.1000\n",
       "2024-04-27 00:00:00+00:00     jane.box   1151.714038     0.3675\n",
       "2024-04-27 16:00:00+00:00       vm.box  31481.468013    10.0000\n",
       "2024-04-28 01:00:00+00:00      man.box    224.604619     0.0690\n",
       "2024-04-28 07:00:00+00:00     good.box    314.608157     0.0950\n",
       "2024-05-07 22:00:00+00:00     onyx.box    167.833449     0.0550"
      ]
     },
     "execution_count": 111,
     "metadata": {},
     "output_type": "execute_result"
    }
   ],
   "source": [
    "latest_box_domains_sales = box_domains_sales.iloc[-10:] \n",
    "latest_box_domains_sales"
   ]
  },
  {
   "cell_type": "code",
   "execution_count": 259,
   "metadata": {},
   "outputs": [
    {
     "data": {
      "text/html": [
       "<div>\n",
       "<style scoped>\n",
       "    .dataframe tbody tr th:only-of-type {\n",
       "        vertical-align: middle;\n",
       "    }\n",
       "\n",
       "    .dataframe tbody tr th {\n",
       "        vertical-align: top;\n",
       "    }\n",
       "\n",
       "    .dataframe thead th {\n",
       "        text-align: right;\n",
       "    }\n",
       "</style>\n",
       "<table border=\"1\" class=\"dataframe\">\n",
       "  <thead>\n",
       "    <tr style=\"text-align: right;\">\n",
       "      <th></th>\n",
       "      <th>name</th>\n",
       "    </tr>\n",
       "    <tr>\n",
       "      <th>day</th>\n",
       "      <th></th>\n",
       "    </tr>\n",
       "  </thead>\n",
       "  <tbody>\n",
       "    <tr>\n",
       "      <th>2024-07-03 21:00:00+00:00</th>\n",
       "      <td>dogematic.box</td>\n",
       "    </tr>\n",
       "    <tr>\n",
       "      <th>2024-07-04 00:00:00+00:00</th>\n",
       "      <td>engineer.box</td>\n",
       "    </tr>\n",
       "    <tr>\n",
       "      <th>2024-07-04 01:00:00+00:00</th>\n",
       "      <td>loudpunx.box</td>\n",
       "    </tr>\n",
       "    <tr>\n",
       "      <th>2024-07-04 08:00:00+00:00</th>\n",
       "      <td>trader.box</td>\n",
       "    </tr>\n",
       "    <tr>\n",
       "      <th>2024-07-04 18:00:00+00:00</th>\n",
       "      <td>fork.box</td>\n",
       "    </tr>\n",
       "    <tr>\n",
       "      <th>2024-07-05 15:00:00+00:00</th>\n",
       "      <td>certificate.box</td>\n",
       "    </tr>\n",
       "    <tr>\n",
       "      <th>2024-07-05 15:00:00+00:00</th>\n",
       "      <td>sprinter.box</td>\n",
       "    </tr>\n",
       "    <tr>\n",
       "      <th>2024-07-05 16:00:00+00:00</th>\n",
       "      <td>location.box</td>\n",
       "    </tr>\n",
       "    <tr>\n",
       "      <th>2024-07-05 16:00:00+00:00</th>\n",
       "      <td>seismic.box</td>\n",
       "    </tr>\n",
       "    <tr>\n",
       "      <th>2024-07-05 20:00:00+00:00</th>\n",
       "      <td>kawaii.box</td>\n",
       "    </tr>\n",
       "  </tbody>\n",
       "</table>\n",
       "</div>"
      ],
      "text/plain": [
       "                                      name\n",
       "day                                       \n",
       "2024-07-03 21:00:00+00:00    dogematic.box\n",
       "2024-07-04 00:00:00+00:00     engineer.box\n",
       "2024-07-04 01:00:00+00:00     loudpunx.box\n",
       "2024-07-04 08:00:00+00:00       trader.box\n",
       "2024-07-04 18:00:00+00:00         fork.box\n",
       "2024-07-05 15:00:00+00:00  certificate.box\n",
       "2024-07-05 15:00:00+00:00     sprinter.box\n",
       "2024-07-05 16:00:00+00:00     location.box\n",
       "2024-07-05 16:00:00+00:00      seismic.box\n",
       "2024-07-05 20:00:00+00:00       kawaii.box"
      ]
     },
     "execution_count": 259,
     "metadata": {},
     "output_type": "execute_result"
    }
   ],
   "source": [
    "latest_box_domains_mints = box_domains_mints.iloc[-10:]\n",
    "latest_box_domains_mints"
   ]
  },
  {
   "cell_type": "code",
   "execution_count": 260,
   "metadata": {},
   "outputs": [
    {
     "data": {
      "text/html": [
       "<div>\n",
       "<style scoped>\n",
       "    .dataframe tbody tr th:only-of-type {\n",
       "        vertical-align: middle;\n",
       "    }\n",
       "\n",
       "    .dataframe tbody tr th {\n",
       "        vertical-align: top;\n",
       "    }\n",
       "\n",
       "    .dataframe thead th {\n",
       "        text-align: right;\n",
       "    }\n",
       "</style>\n",
       "<table border=\"1\" class=\"dataframe\">\n",
       "  <thead>\n",
       "    <tr style=\"text-align: right;\">\n",
       "      <th></th>\n",
       "      <th>mints</th>\n",
       "    </tr>\n",
       "    <tr>\n",
       "      <th>day</th>\n",
       "      <th></th>\n",
       "    </tr>\n",
       "  </thead>\n",
       "  <tbody>\n",
       "    <tr>\n",
       "      <th>2023-10-04 00:00:00+00:00</th>\n",
       "      <td>1</td>\n",
       "    </tr>\n",
       "    <tr>\n",
       "      <th>2023-10-05 00:00:00+00:00</th>\n",
       "      <td>1</td>\n",
       "    </tr>\n",
       "    <tr>\n",
       "      <th>2023-10-06 00:00:00+00:00</th>\n",
       "      <td>1</td>\n",
       "    </tr>\n",
       "    <tr>\n",
       "      <th>2023-10-07 00:00:00+00:00</th>\n",
       "      <td>1</td>\n",
       "    </tr>\n",
       "    <tr>\n",
       "      <th>2023-10-08 00:00:00+00:00</th>\n",
       "      <td>1</td>\n",
       "    </tr>\n",
       "    <tr>\n",
       "      <th>...</th>\n",
       "      <td>...</td>\n",
       "    </tr>\n",
       "    <tr>\n",
       "      <th>2024-07-01 00:00:00+00:00</th>\n",
       "      <td>3563</td>\n",
       "    </tr>\n",
       "    <tr>\n",
       "      <th>2024-07-02 00:00:00+00:00</th>\n",
       "      <td>3583</td>\n",
       "    </tr>\n",
       "    <tr>\n",
       "      <th>2024-07-03 00:00:00+00:00</th>\n",
       "      <td>3590</td>\n",
       "    </tr>\n",
       "    <tr>\n",
       "      <th>2024-07-04 00:00:00+00:00</th>\n",
       "      <td>3594</td>\n",
       "    </tr>\n",
       "    <tr>\n",
       "      <th>2024-07-05 00:00:00+00:00</th>\n",
       "      <td>3599</td>\n",
       "    </tr>\n",
       "  </tbody>\n",
       "</table>\n",
       "<p>276 rows × 1 columns</p>\n",
       "</div>"
      ],
      "text/plain": [
       "                           mints\n",
       "day                             \n",
       "2023-10-04 00:00:00+00:00      1\n",
       "2023-10-05 00:00:00+00:00      1\n",
       "2023-10-06 00:00:00+00:00      1\n",
       "2023-10-07 00:00:00+00:00      1\n",
       "2023-10-08 00:00:00+00:00      1\n",
       "...                          ...\n",
       "2024-07-01 00:00:00+00:00   3563\n",
       "2024-07-02 00:00:00+00:00   3583\n",
       "2024-07-03 00:00:00+00:00   3590\n",
       "2024-07-04 00:00:00+00:00   3594\n",
       "2024-07-05 00:00:00+00:00   3599\n",
       "\n",
       "[276 rows x 1 columns]"
      ]
     },
     "execution_count": 260,
     "metadata": {},
     "output_type": "execute_result"
    }
   ],
   "source": [
    "cumulative_box_mints = daily_box_mints.cumsum()\n",
    "cumulative_box_mints"
   ]
  },
  {
   "cell_type": "code",
   "execution_count": 117,
   "metadata": {},
   "outputs": [
    {
     "data": {
      "text/plain": [
       "day\n",
       "2024-02-03 00:00:00+00:00     1\n",
       "2024-02-04 00:00:00+00:00     1\n",
       "2024-02-05 00:00:00+00:00     2\n",
       "2024-02-06 00:00:00+00:00     2\n",
       "2024-02-07 00:00:00+00:00     2\n",
       "                             ..\n",
       "2024-05-03 00:00:00+00:00    20\n",
       "2024-05-04 00:00:00+00:00    20\n",
       "2024-05-05 00:00:00+00:00    20\n",
       "2024-05-06 00:00:00+00:00    20\n",
       "2024-05-07 00:00:00+00:00    21\n",
       "Freq: D, Name: name, Length: 95, dtype: int64"
      ]
     },
     "execution_count": 117,
     "metadata": {},
     "output_type": "execute_result"
    }
   ],
   "source": [
    "cumulative_box_sales = daily_box_sales.cumsum()\n",
    "cumulative_box_sales"
   ]
  },
  {
   "cell_type": "code",
   "execution_count": 248,
   "metadata": {},
   "outputs": [
    {
     "name": "stderr",
     "output_type": "stream",
     "text": [
      "C:\\Users\\brandyns pc\\AppData\\Local\\Temp\\ipykernel_12140\\547997385.py:1: FutureWarning:\n",
      "\n",
      "'M' is deprecated and will be removed in a future version, please use 'ME' instead.\n",
      "\n",
      "C:\\Users\\brandyns pc\\AppData\\Local\\Temp\\ipykernel_12140\\547997385.py:2: FutureWarning:\n",
      "\n",
      "'M' is deprecated and will be removed in a future version, please use 'ME' instead.\n",
      "\n",
      "C:\\Users\\brandyns pc\\AppData\\Local\\Temp\\ipykernel_12140\\547997385.py:3: FutureWarning:\n",
      "\n",
      "'M' is deprecated and will be removed in a future version, please use 'ME' instead.\n",
      "\n",
      "C:\\Users\\brandyns pc\\AppData\\Local\\Temp\\ipykernel_12140\\547997385.py:4: FutureWarning:\n",
      "\n",
      "'M' is deprecated and will be removed in a future version, please use 'ME' instead.\n",
      "\n"
     ]
    }
   ],
   "source": [
    "monthly_max_sold = box_domains_sales['price_usd'].resample('M').max()\n",
    "monthly_min_sold = box_domains_sales['price_usd'].resample('M').min()\n",
    "monthly_avg_sold = box_domains_sales['price_usd'].resample('M').mean()\n",
    "monthly_volume_usd = box_domains_sales['price_usd'].resample('M').sum()"
   ]
  },
  {
   "cell_type": "code",
   "execution_count": 249,
   "metadata": {},
   "outputs": [],
   "source": [
    "monthly_max_sold.fillna(0, inplace=True)\n",
    "monthly_min_sold.fillna(0, inplace=True)\n",
    "monthly_avg_sold.fillna(0, inplace=True)\n",
    "monthly_volume_usd.fillna(0, inplace=True)"
   ]
  },
  {
   "cell_type": "code",
   "execution_count": 250,
   "metadata": {},
   "outputs": [],
   "source": [
    "monthly_box_sales_metrics = pd.merge(monthly_max_sold.to_frame('max_price'), monthly_min_sold.to_frame('min_price'), left_index=True, right_index=True, how='inner')"
   ]
  },
  {
   "cell_type": "code",
   "execution_count": 251,
   "metadata": {},
   "outputs": [
    {
     "data": {
      "text/html": [
       "<div>\n",
       "<style scoped>\n",
       "    .dataframe tbody tr th:only-of-type {\n",
       "        vertical-align: middle;\n",
       "    }\n",
       "\n",
       "    .dataframe tbody tr th {\n",
       "        vertical-align: top;\n",
       "    }\n",
       "\n",
       "    .dataframe thead th {\n",
       "        text-align: right;\n",
       "    }\n",
       "</style>\n",
       "<table border=\"1\" class=\"dataframe\">\n",
       "  <thead>\n",
       "    <tr style=\"text-align: right;\">\n",
       "      <th></th>\n",
       "      <th>max_price</th>\n",
       "      <th>min_price</th>\n",
       "      <th>avg_price</th>\n",
       "    </tr>\n",
       "    <tr>\n",
       "      <th>day</th>\n",
       "      <th></th>\n",
       "      <th></th>\n",
       "      <th></th>\n",
       "    </tr>\n",
       "  </thead>\n",
       "  <tbody>\n",
       "    <tr>\n",
       "      <th>2024-02-29 00:00:00+00:00</th>\n",
       "      <td>301.731691</td>\n",
       "      <td>33.088886</td>\n",
       "      <td>162.081129</td>\n",
       "    </tr>\n",
       "    <tr>\n",
       "      <th>2024-03-31 00:00:00+00:00</th>\n",
       "      <td>0.000000</td>\n",
       "      <td>0.000000</td>\n",
       "      <td>0.000000</td>\n",
       "    </tr>\n",
       "    <tr>\n",
       "      <th>2024-04-30 00:00:00+00:00</th>\n",
       "      <td>31481.468013</td>\n",
       "      <td>29.610981</td>\n",
       "      <td>4801.893822</td>\n",
       "    </tr>\n",
       "    <tr>\n",
       "      <th>2024-05-31 00:00:00+00:00</th>\n",
       "      <td>167.833449</td>\n",
       "      <td>167.833449</td>\n",
       "      <td>167.833449</td>\n",
       "    </tr>\n",
       "  </tbody>\n",
       "</table>\n",
       "</div>"
      ],
      "text/plain": [
       "                              max_price   min_price    avg_price\n",
       "day                                                             \n",
       "2024-02-29 00:00:00+00:00    301.731691   33.088886   162.081129\n",
       "2024-03-31 00:00:00+00:00      0.000000    0.000000     0.000000\n",
       "2024-04-30 00:00:00+00:00  31481.468013   29.610981  4801.893822\n",
       "2024-05-31 00:00:00+00:00    167.833449  167.833449   167.833449"
      ]
     },
     "execution_count": 251,
     "metadata": {},
     "output_type": "execute_result"
    }
   ],
   "source": [
    "monthly_box_sales_metrics.merge(monthly_avg_sold.to_frame('avg_price'), left_index=True, right_index=True, how='inner')"
   ]
  },
  {
   "cell_type": "code",
   "execution_count": 252,
   "metadata": {},
   "outputs": [
    {
     "data": {
      "text/html": [
       "<div>\n",
       "<style scoped>\n",
       "    .dataframe tbody tr th:only-of-type {\n",
       "        vertical-align: middle;\n",
       "    }\n",
       "\n",
       "    .dataframe tbody tr th {\n",
       "        vertical-align: top;\n",
       "    }\n",
       "\n",
       "    .dataframe thead th {\n",
       "        text-align: right;\n",
       "    }\n",
       "</style>\n",
       "<table border=\"1\" class=\"dataframe\">\n",
       "  <thead>\n",
       "    <tr style=\"text-align: right;\">\n",
       "      <th></th>\n",
       "      <th>max_price</th>\n",
       "      <th>min_price</th>\n",
       "      <th>volume_usd</th>\n",
       "    </tr>\n",
       "    <tr>\n",
       "      <th>day</th>\n",
       "      <th></th>\n",
       "      <th></th>\n",
       "      <th></th>\n",
       "    </tr>\n",
       "  </thead>\n",
       "  <tbody>\n",
       "    <tr>\n",
       "      <th>2024-02-29 00:00:00+00:00</th>\n",
       "      <td>301.731691</td>\n",
       "      <td>33.088886</td>\n",
       "      <td>2107.054671</td>\n",
       "    </tr>\n",
       "    <tr>\n",
       "      <th>2024-03-31 00:00:00+00:00</th>\n",
       "      <td>0.000000</td>\n",
       "      <td>0.000000</td>\n",
       "      <td>0.000000</td>\n",
       "    </tr>\n",
       "    <tr>\n",
       "      <th>2024-04-30 00:00:00+00:00</th>\n",
       "      <td>31481.468013</td>\n",
       "      <td>29.610981</td>\n",
       "      <td>33613.256755</td>\n",
       "    </tr>\n",
       "    <tr>\n",
       "      <th>2024-05-31 00:00:00+00:00</th>\n",
       "      <td>167.833449</td>\n",
       "      <td>167.833449</td>\n",
       "      <td>167.833449</td>\n",
       "    </tr>\n",
       "  </tbody>\n",
       "</table>\n",
       "</div>"
      ],
      "text/plain": [
       "                              max_price   min_price    volume_usd\n",
       "day                                                              \n",
       "2024-02-29 00:00:00+00:00    301.731691   33.088886   2107.054671\n",
       "2024-03-31 00:00:00+00:00      0.000000    0.000000      0.000000\n",
       "2024-04-30 00:00:00+00:00  31481.468013   29.610981  33613.256755\n",
       "2024-05-31 00:00:00+00:00    167.833449  167.833449    167.833449"
      ]
     },
     "execution_count": 252,
     "metadata": {},
     "output_type": "execute_result"
    }
   ],
   "source": [
    "monthly_box_sales_metrics.merge(monthly_volume_usd.to_frame('volume_usd'), left_index=True, right_index=True, how='inner')"
   ]
  },
  {
   "cell_type": "code",
   "execution_count": 139,
   "metadata": {},
   "outputs": [],
   "source": [
    "daily_sales_metrics = pd.merge(cumulative_box_sales.to_frame('cumulative_sales'), daily_box_sales.to_frame('daily_sales'), \n",
    "                               left_index=True, right_index=True, how='left')"
   ]
  },
  {
   "cell_type": "code",
   "execution_count": 257,
   "metadata": {},
   "outputs": [],
   "source": [
    "daily_sales_metrics = daily_sales_metrics.merge(daily_box_vol.to_frame('vol_usd'), left_index=True, right_index=True, how='inner')\n",
    "daily_sales_metrics = daily_sales_metrics.merge(cumulative_box_vol.to_frame('cumulative_vol'), left_index=True, right_index=True, how='inner')"
   ]
  },
  {
   "cell_type": "code",
   "execution_count": 258,
   "metadata": {},
   "outputs": [
    {
     "data": {
      "text/html": [
       "<div>\n",
       "<style scoped>\n",
       "    .dataframe tbody tr th:only-of-type {\n",
       "        vertical-align: middle;\n",
       "    }\n",
       "\n",
       "    .dataframe tbody tr th {\n",
       "        vertical-align: top;\n",
       "    }\n",
       "\n",
       "    .dataframe thead th {\n",
       "        text-align: right;\n",
       "    }\n",
       "</style>\n",
       "<table border=\"1\" class=\"dataframe\">\n",
       "  <thead>\n",
       "    <tr style=\"text-align: right;\">\n",
       "      <th></th>\n",
       "      <th>cumulative_sales</th>\n",
       "      <th>daily_sales</th>\n",
       "      <th>vol_usd</th>\n",
       "      <th>cumulative_vol</th>\n",
       "    </tr>\n",
       "    <tr>\n",
       "      <th>day</th>\n",
       "      <th></th>\n",
       "      <th></th>\n",
       "      <th></th>\n",
       "      <th></th>\n",
       "    </tr>\n",
       "  </thead>\n",
       "  <tbody>\n",
       "    <tr>\n",
       "      <th>2024-02-03 00:00:00+00:00</th>\n",
       "      <td>1</td>\n",
       "      <td>1</td>\n",
       "      <td>33.088886</td>\n",
       "      <td>33.088886</td>\n",
       "    </tr>\n",
       "    <tr>\n",
       "      <th>2024-02-04 00:00:00+00:00</th>\n",
       "      <td>1</td>\n",
       "      <td>0</td>\n",
       "      <td>0.000000</td>\n",
       "      <td>33.088886</td>\n",
       "    </tr>\n",
       "    <tr>\n",
       "      <th>2024-02-05 00:00:00+00:00</th>\n",
       "      <td>2</td>\n",
       "      <td>1</td>\n",
       "      <td>45.601150</td>\n",
       "      <td>78.690036</td>\n",
       "    </tr>\n",
       "    <tr>\n",
       "      <th>2024-02-06 00:00:00+00:00</th>\n",
       "      <td>2</td>\n",
       "      <td>0</td>\n",
       "      <td>0.000000</td>\n",
       "      <td>78.690036</td>\n",
       "    </tr>\n",
       "    <tr>\n",
       "      <th>2024-02-07 00:00:00+00:00</th>\n",
       "      <td>2</td>\n",
       "      <td>0</td>\n",
       "      <td>0.000000</td>\n",
       "      <td>78.690036</td>\n",
       "    </tr>\n",
       "    <tr>\n",
       "      <th>...</th>\n",
       "      <td>...</td>\n",
       "      <td>...</td>\n",
       "      <td>...</td>\n",
       "      <td>...</td>\n",
       "    </tr>\n",
       "    <tr>\n",
       "      <th>2024-05-03 00:00:00+00:00</th>\n",
       "      <td>20</td>\n",
       "      <td>0</td>\n",
       "      <td>0.000000</td>\n",
       "      <td>35720.311426</td>\n",
       "    </tr>\n",
       "    <tr>\n",
       "      <th>2024-05-04 00:00:00+00:00</th>\n",
       "      <td>20</td>\n",
       "      <td>0</td>\n",
       "      <td>0.000000</td>\n",
       "      <td>35720.311426</td>\n",
       "    </tr>\n",
       "    <tr>\n",
       "      <th>2024-05-05 00:00:00+00:00</th>\n",
       "      <td>20</td>\n",
       "      <td>0</td>\n",
       "      <td>0.000000</td>\n",
       "      <td>35720.311426</td>\n",
       "    </tr>\n",
       "    <tr>\n",
       "      <th>2024-05-06 00:00:00+00:00</th>\n",
       "      <td>20</td>\n",
       "      <td>0</td>\n",
       "      <td>0.000000</td>\n",
       "      <td>35720.311426</td>\n",
       "    </tr>\n",
       "    <tr>\n",
       "      <th>2024-05-07 00:00:00+00:00</th>\n",
       "      <td>21</td>\n",
       "      <td>1</td>\n",
       "      <td>167.833449</td>\n",
       "      <td>35888.144875</td>\n",
       "    </tr>\n",
       "  </tbody>\n",
       "</table>\n",
       "<p>95 rows × 4 columns</p>\n",
       "</div>"
      ],
      "text/plain": [
       "                           cumulative_sales  daily_sales     vol_usd  \\\n",
       "day                                                                    \n",
       "2024-02-03 00:00:00+00:00                 1            1   33.088886   \n",
       "2024-02-04 00:00:00+00:00                 1            0    0.000000   \n",
       "2024-02-05 00:00:00+00:00                 2            1   45.601150   \n",
       "2024-02-06 00:00:00+00:00                 2            0    0.000000   \n",
       "2024-02-07 00:00:00+00:00                 2            0    0.000000   \n",
       "...                                     ...          ...         ...   \n",
       "2024-05-03 00:00:00+00:00                20            0    0.000000   \n",
       "2024-05-04 00:00:00+00:00                20            0    0.000000   \n",
       "2024-05-05 00:00:00+00:00                20            0    0.000000   \n",
       "2024-05-06 00:00:00+00:00                20            0    0.000000   \n",
       "2024-05-07 00:00:00+00:00                21            1  167.833449   \n",
       "\n",
       "                           cumulative_vol  \n",
       "day                                        \n",
       "2024-02-03 00:00:00+00:00       33.088886  \n",
       "2024-02-04 00:00:00+00:00       33.088886  \n",
       "2024-02-05 00:00:00+00:00       78.690036  \n",
       "2024-02-06 00:00:00+00:00       78.690036  \n",
       "2024-02-07 00:00:00+00:00       78.690036  \n",
       "...                                   ...  \n",
       "2024-05-03 00:00:00+00:00    35720.311426  \n",
       "2024-05-04 00:00:00+00:00    35720.311426  \n",
       "2024-05-05 00:00:00+00:00    35720.311426  \n",
       "2024-05-06 00:00:00+00:00    35720.311426  \n",
       "2024-05-07 00:00:00+00:00    35888.144875  \n",
       "\n",
       "[95 rows x 4 columns]"
      ]
     },
     "execution_count": 258,
     "metadata": {},
     "output_type": "execute_result"
    }
   ],
   "source": [
    "daily_sales_metrics"
   ]
  },
  {
   "cell_type": "code",
   "execution_count": 385,
   "metadata": {},
   "outputs": [],
   "source": [
    "monthly_listings = monthly_listings.to_frame('listings')\n"
   ]
  },
  {
   "cell_type": "code",
   "execution_count": 386,
   "metadata": {},
   "outputs": [
    {
     "data": {
      "text/html": [
       "<div>\n",
       "<style scoped>\n",
       "    .dataframe tbody tr th:only-of-type {\n",
       "        vertical-align: middle;\n",
       "    }\n",
       "\n",
       "    .dataframe tbody tr th {\n",
       "        vertical-align: top;\n",
       "    }\n",
       "\n",
       "    .dataframe thead th {\n",
       "        text-align: right;\n",
       "    }\n",
       "</style>\n",
       "<table border=\"1\" class=\"dataframe\">\n",
       "  <thead>\n",
       "    <tr style=\"text-align: right;\">\n",
       "      <th></th>\n",
       "      <th>listings</th>\n",
       "    </tr>\n",
       "    <tr>\n",
       "      <th>start_time</th>\n",
       "      <th></th>\n",
       "    </tr>\n",
       "  </thead>\n",
       "  <tbody>\n",
       "    <tr>\n",
       "      <th>2024-01-31</th>\n",
       "      <td>36</td>\n",
       "    </tr>\n",
       "    <tr>\n",
       "      <th>2024-02-29</th>\n",
       "      <td>17</td>\n",
       "    </tr>\n",
       "    <tr>\n",
       "      <th>2024-03-31</th>\n",
       "      <td>11</td>\n",
       "    </tr>\n",
       "    <tr>\n",
       "      <th>2024-04-30</th>\n",
       "      <td>94</td>\n",
       "    </tr>\n",
       "    <tr>\n",
       "      <th>2024-05-31</th>\n",
       "      <td>145</td>\n",
       "    </tr>\n",
       "    <tr>\n",
       "      <th>2024-06-30</th>\n",
       "      <td>201</td>\n",
       "    </tr>\n",
       "    <tr>\n",
       "      <th>2024-07-31</th>\n",
       "      <td>15</td>\n",
       "    </tr>\n",
       "  </tbody>\n",
       "</table>\n",
       "</div>"
      ],
      "text/plain": [
       "            listings\n",
       "start_time          \n",
       "2024-01-31        36\n",
       "2024-02-29        17\n",
       "2024-03-31        11\n",
       "2024-04-30        94\n",
       "2024-05-31       145\n",
       "2024-06-30       201\n",
       "2024-07-31        15"
      ]
     },
     "execution_count": 386,
     "metadata": {},
     "output_type": "execute_result"
    }
   ],
   "source": [
    "monthly_listings"
   ]
  },
  {
   "cell_type": "code",
   "execution_count": 387,
   "metadata": {},
   "outputs": [
    {
     "name": "stderr",
     "output_type": "stream",
     "text": [
      "C:\\Users\\brandyns pc\\AppData\\Local\\Temp\\ipykernel_12140\\2388482189.py:1: FutureWarning:\n",
      "\n",
      "'M' is deprecated and will be removed in a future version, please use 'ME' instead.\n",
      "\n"
     ]
    }
   ],
   "source": [
    "monthly_sales = box_domains_sales['name'].resample('M').count()\n",
    "monthly_sales = monthly_sales.reset_index()\n",
    "monthly_sales['day'] = pd.to_datetime(monthly_sales['day']).dt.strftime('%Y-%m-%d')\n",
    "monthly_sales.set_index('day', inplace=True)"
   ]
  },
  {
   "cell_type": "code",
   "execution_count": 388,
   "metadata": {},
   "outputs": [
    {
     "data": {
      "text/html": [
       "<div>\n",
       "<style scoped>\n",
       "    .dataframe tbody tr th:only-of-type {\n",
       "        vertical-align: middle;\n",
       "    }\n",
       "\n",
       "    .dataframe tbody tr th {\n",
       "        vertical-align: top;\n",
       "    }\n",
       "\n",
       "    .dataframe thead th {\n",
       "        text-align: right;\n",
       "    }\n",
       "</style>\n",
       "<table border=\"1\" class=\"dataframe\">\n",
       "  <thead>\n",
       "    <tr style=\"text-align: right;\">\n",
       "      <th></th>\n",
       "      <th>name</th>\n",
       "    </tr>\n",
       "    <tr>\n",
       "      <th>day</th>\n",
       "      <th></th>\n",
       "    </tr>\n",
       "  </thead>\n",
       "  <tbody>\n",
       "    <tr>\n",
       "      <th>2024-02-29</th>\n",
       "      <td>13</td>\n",
       "    </tr>\n",
       "    <tr>\n",
       "      <th>2024-03-31</th>\n",
       "      <td>0</td>\n",
       "    </tr>\n",
       "    <tr>\n",
       "      <th>2024-04-30</th>\n",
       "      <td>7</td>\n",
       "    </tr>\n",
       "    <tr>\n",
       "      <th>2024-05-31</th>\n",
       "      <td>1</td>\n",
       "    </tr>\n",
       "  </tbody>\n",
       "</table>\n",
       "</div>"
      ],
      "text/plain": [
       "            name\n",
       "day             \n",
       "2024-02-29    13\n",
       "2024-03-31     0\n",
       "2024-04-30     7\n",
       "2024-05-31     1"
      ]
     },
     "execution_count": 388,
     "metadata": {},
     "output_type": "execute_result"
    }
   ],
   "source": [
    "monthly_sales"
   ]
  },
  {
   "cell_type": "code",
   "execution_count": 391,
   "metadata": {},
   "outputs": [
    {
     "data": {
      "text/plain": [
       "DatetimeIndex(['2024-01-31', '2024-02-29', '2024-03-31', '2024-04-30',\n",
       "               '2024-05-31', '2024-06-30', '2024-07-31'],\n",
       "              dtype='datetime64[ns]', name='start_time', freq='ME')"
      ]
     },
     "execution_count": 391,
     "metadata": {},
     "output_type": "execute_result"
    }
   ],
   "source": [
    "monthly_listings.index"
   ]
  },
  {
   "cell_type": "code",
   "execution_count": 394,
   "metadata": {},
   "outputs": [],
   "source": [
    "monthly_sales.index = pd.to_datetime(monthly_sales.index)"
   ]
  },
  {
   "cell_type": "code",
   "execution_count": 395,
   "metadata": {},
   "outputs": [
    {
     "data": {
      "text/html": [
       "<div>\n",
       "<style scoped>\n",
       "    .dataframe tbody tr th:only-of-type {\n",
       "        vertical-align: middle;\n",
       "    }\n",
       "\n",
       "    .dataframe tbody tr th {\n",
       "        vertical-align: top;\n",
       "    }\n",
       "\n",
       "    .dataframe thead th {\n",
       "        text-align: right;\n",
       "    }\n",
       "</style>\n",
       "<table border=\"1\" class=\"dataframe\">\n",
       "  <thead>\n",
       "    <tr style=\"text-align: right;\">\n",
       "      <th></th>\n",
       "      <th>name</th>\n",
       "    </tr>\n",
       "    <tr>\n",
       "      <th>start_time</th>\n",
       "      <th></th>\n",
       "    </tr>\n",
       "  </thead>\n",
       "  <tbody>\n",
       "    <tr>\n",
       "      <th>2024-01-31</th>\n",
       "      <td>0.00</td>\n",
       "    </tr>\n",
       "    <tr>\n",
       "      <th>2024-02-29</th>\n",
       "      <td>13.00</td>\n",
       "    </tr>\n",
       "    <tr>\n",
       "      <th>2024-03-31</th>\n",
       "      <td>0.00</td>\n",
       "    </tr>\n",
       "    <tr>\n",
       "      <th>2024-04-30</th>\n",
       "      <td>7.00</td>\n",
       "    </tr>\n",
       "    <tr>\n",
       "      <th>2024-05-31</th>\n",
       "      <td>1.00</td>\n",
       "    </tr>\n",
       "    <tr>\n",
       "      <th>2024-06-30</th>\n",
       "      <td>0.00</td>\n",
       "    </tr>\n",
       "    <tr>\n",
       "      <th>2024-07-31</th>\n",
       "      <td>0.00</td>\n",
       "    </tr>\n",
       "  </tbody>\n",
       "</table>\n",
       "</div>"
      ],
      "text/plain": [
       "            name\n",
       "start_time      \n",
       "2024-01-31  0.00\n",
       "2024-02-29 13.00\n",
       "2024-03-31  0.00\n",
       "2024-04-30  7.00\n",
       "2024-05-31  1.00\n",
       "2024-06-30  0.00\n",
       "2024-07-31  0.00"
      ]
     },
     "execution_count": 395,
     "metadata": {},
     "output_type": "execute_result"
    }
   ],
   "source": [
    "monthly_sales_reindexed = monthly_sales.reindex(monthly_listings.index).fillna(0)\n",
    "monthly_sales_reindexed\n"
   ]
  },
  {
   "cell_type": "code",
   "execution_count": 396,
   "metadata": {},
   "outputs": [],
   "source": [
    "monthly_listings['sales'] = monthly_sales_reindexed['name']"
   ]
  },
  {
   "cell_type": "code",
   "execution_count": 397,
   "metadata": {},
   "outputs": [
    {
     "data": {
      "text/html": [
       "<div>\n",
       "<style scoped>\n",
       "    .dataframe tbody tr th:only-of-type {\n",
       "        vertical-align: middle;\n",
       "    }\n",
       "\n",
       "    .dataframe tbody tr th {\n",
       "        vertical-align: top;\n",
       "    }\n",
       "\n",
       "    .dataframe thead th {\n",
       "        text-align: right;\n",
       "    }\n",
       "</style>\n",
       "<table border=\"1\" class=\"dataframe\">\n",
       "  <thead>\n",
       "    <tr style=\"text-align: right;\">\n",
       "      <th></th>\n",
       "      <th>listings</th>\n",
       "      <th>sales</th>\n",
       "    </tr>\n",
       "    <tr>\n",
       "      <th>start_time</th>\n",
       "      <th></th>\n",
       "      <th></th>\n",
       "    </tr>\n",
       "  </thead>\n",
       "  <tbody>\n",
       "    <tr>\n",
       "      <th>2024-01-31</th>\n",
       "      <td>36</td>\n",
       "      <td>0.00</td>\n",
       "    </tr>\n",
       "    <tr>\n",
       "      <th>2024-02-29</th>\n",
       "      <td>17</td>\n",
       "      <td>13.00</td>\n",
       "    </tr>\n",
       "    <tr>\n",
       "      <th>2024-03-31</th>\n",
       "      <td>11</td>\n",
       "      <td>0.00</td>\n",
       "    </tr>\n",
       "    <tr>\n",
       "      <th>2024-04-30</th>\n",
       "      <td>94</td>\n",
       "      <td>7.00</td>\n",
       "    </tr>\n",
       "    <tr>\n",
       "      <th>2024-05-31</th>\n",
       "      <td>145</td>\n",
       "      <td>1.00</td>\n",
       "    </tr>\n",
       "    <tr>\n",
       "      <th>2024-06-30</th>\n",
       "      <td>201</td>\n",
       "      <td>0.00</td>\n",
       "    </tr>\n",
       "    <tr>\n",
       "      <th>2024-07-31</th>\n",
       "      <td>15</td>\n",
       "      <td>0.00</td>\n",
       "    </tr>\n",
       "  </tbody>\n",
       "</table>\n",
       "</div>"
      ],
      "text/plain": [
       "            listings  sales\n",
       "start_time                 \n",
       "2024-01-31        36   0.00\n",
       "2024-02-29        17  13.00\n",
       "2024-03-31        11   0.00\n",
       "2024-04-30        94   7.00\n",
       "2024-05-31       145   1.00\n",
       "2024-06-30       201   0.00\n",
       "2024-07-31        15   0.00"
      ]
     },
     "execution_count": 397,
     "metadata": {},
     "output_type": "execute_result"
    }
   ],
   "source": [
    "monthly_listings"
   ]
  },
  {
   "cell_type": "code",
   "execution_count": 399,
   "metadata": {},
   "outputs": [
    {
     "name": "stderr",
     "output_type": "stream",
     "text": [
      "C:\\Users\\brandyns pc\\AppData\\Local\\Temp\\ipykernel_12140\\3641184892.py:2: FutureWarning:\n",
      "\n",
      "A value is trying to be set on a copy of a DataFrame or Series through chained assignment using an inplace method.\n",
      "The behavior will change in pandas 3.0. This inplace method will never work because the intermediate object on which we are setting values always behaves as a copy.\n",
      "\n",
      "For example, when doing 'df[col].method(value, inplace=True)', try using 'df.method({col: value}, inplace=True)' or df[col] = df[col].method(value) instead, to perform the operation inplace on the original object.\n",
      "\n",
      "\n",
      "\n"
     ]
    },
    {
     "data": {
      "text/html": [
       "<div>\n",
       "<style scoped>\n",
       "    .dataframe tbody tr th:only-of-type {\n",
       "        vertical-align: middle;\n",
       "    }\n",
       "\n",
       "    .dataframe tbody tr th {\n",
       "        vertical-align: top;\n",
       "    }\n",
       "\n",
       "    .dataframe thead th {\n",
       "        text-align: right;\n",
       "    }\n",
       "</style>\n",
       "<table border=\"1\" class=\"dataframe\">\n",
       "  <thead>\n",
       "    <tr style=\"text-align: right;\">\n",
       "      <th></th>\n",
       "      <th>listings</th>\n",
       "      <th>sales</th>\n",
       "      <th>listings_to_sales_ratio</th>\n",
       "    </tr>\n",
       "    <tr>\n",
       "      <th>start_time</th>\n",
       "      <th></th>\n",
       "      <th></th>\n",
       "      <th></th>\n",
       "    </tr>\n",
       "  </thead>\n",
       "  <tbody>\n",
       "    <tr>\n",
       "      <th>2024-01-31</th>\n",
       "      <td>36</td>\n",
       "      <td>0.00</td>\n",
       "      <td>0.00</td>\n",
       "    </tr>\n",
       "    <tr>\n",
       "      <th>2024-02-29</th>\n",
       "      <td>17</td>\n",
       "      <td>13.00</td>\n",
       "      <td>1.31</td>\n",
       "    </tr>\n",
       "    <tr>\n",
       "      <th>2024-03-31</th>\n",
       "      <td>11</td>\n",
       "      <td>0.00</td>\n",
       "      <td>0.00</td>\n",
       "    </tr>\n",
       "    <tr>\n",
       "      <th>2024-04-30</th>\n",
       "      <td>94</td>\n",
       "      <td>7.00</td>\n",
       "      <td>13.43</td>\n",
       "    </tr>\n",
       "    <tr>\n",
       "      <th>2024-05-31</th>\n",
       "      <td>145</td>\n",
       "      <td>1.00</td>\n",
       "      <td>145.00</td>\n",
       "    </tr>\n",
       "    <tr>\n",
       "      <th>2024-06-30</th>\n",
       "      <td>201</td>\n",
       "      <td>0.00</td>\n",
       "      <td>0.00</td>\n",
       "    </tr>\n",
       "    <tr>\n",
       "      <th>2024-07-31</th>\n",
       "      <td>15</td>\n",
       "      <td>0.00</td>\n",
       "      <td>0.00</td>\n",
       "    </tr>\n",
       "  </tbody>\n",
       "</table>\n",
       "</div>"
      ],
      "text/plain": [
       "            listings  sales  listings_to_sales_ratio\n",
       "start_time                                          \n",
       "2024-01-31        36   0.00                     0.00\n",
       "2024-02-29        17  13.00                     1.31\n",
       "2024-03-31        11   0.00                     0.00\n",
       "2024-04-30        94   7.00                    13.43\n",
       "2024-05-31       145   1.00                   145.00\n",
       "2024-06-30       201   0.00                     0.00\n",
       "2024-07-31        15   0.00                     0.00"
      ]
     },
     "execution_count": 399,
     "metadata": {},
     "output_type": "execute_result"
    }
   ],
   "source": [
    "monthly_listings['listings_to_sales_ratio'] = monthly_listings['listings'] / monthly_listings['sales']\n",
    "monthly_listings['listings_to_sales_ratio'].replace([float('inf'), -float('inf')], 0, inplace=True)\n",
    "\n",
    "monthly_listings"
   ]
  },
  {
   "cell_type": "code",
   "execution_count": 402,
   "metadata": {},
   "outputs": [
    {
     "name": "stdout",
     "output_type": "stream",
     "text": [
      "          day  name\n",
      "0  2023-10-31     5\n",
      "1  2023-11-30     2\n",
      "2  2023-12-31    23\n",
      "3  2024-01-31  1745\n",
      "4  2024-02-29   349\n",
      "5  2024-03-31   162\n",
      "6  2024-04-30   636\n",
      "7  2024-05-31   414\n",
      "8  2024-06-30   221\n",
      "9  2024-07-31    42\n"
     ]
    },
    {
     "name": "stderr",
     "output_type": "stream",
     "text": [
      "C:\\Users\\brandyns pc\\AppData\\Local\\Temp\\ipykernel_12140\\2186263740.py:1: FutureWarning:\n",
      "\n",
      "'M' is deprecated and will be removed in a future version, please use 'ME' instead.\n",
      "\n"
     ]
    }
   ],
   "source": [
    "monthly_mints = box_domains_mints.resample('M').count()\n",
    "monthly_mints.reset_index(inplace=True)\n",
    "monthly_mints['day'] = pd.to_datetime(monthly_mints['day']).dt.strftime('%Y-%m-%d') \n",
    "print(monthly_mints)"
   ]
  },
  {
   "cell_type": "code",
   "execution_count": 407,
   "metadata": {},
   "outputs": [
    {
     "ename": "KeyError",
     "evalue": "\"None of ['day'] are in the columns\"",
     "output_type": "error",
     "traceback": [
      "\u001b[1;31m---------------------------------------------------------------------------\u001b[0m",
      "\u001b[1;31mKeyError\u001b[0m                                  Traceback (most recent call last)",
      "\u001b[1;32m~\\AppData\\Local\\Temp\\ipykernel_12140\\648056944.py\u001b[0m in \u001b[0;36m?\u001b[1;34m()\u001b[0m\n\u001b[1;32m----> 1\u001b[1;33m \u001b[0mmonthly_mints\u001b[0m\u001b[1;33m.\u001b[0m\u001b[0mset_index\u001b[0m\u001b[1;33m(\u001b[0m\u001b[1;34m'day'\u001b[0m\u001b[1;33m,\u001b[0m \u001b[0minplace\u001b[0m\u001b[1;33m=\u001b[0m\u001b[1;32mTrue\u001b[0m\u001b[1;33m)\u001b[0m\u001b[1;33m\u001b[0m\u001b[1;33m\u001b[0m\u001b[0m\n\u001b[0m\u001b[0;32m      2\u001b[0m \u001b[0mmonthly_mints\u001b[0m\u001b[1;33m.\u001b[0m\u001b[0mindex\u001b[0m \u001b[1;33m=\u001b[0m \u001b[0mpd\u001b[0m\u001b[1;33m.\u001b[0m\u001b[0mto_datetime\u001b[0m\u001b[1;33m(\u001b[0m\u001b[0mmonthly_mints\u001b[0m\u001b[1;33m.\u001b[0m\u001b[0mindex\u001b[0m\u001b[1;33m)\u001b[0m\u001b[1;33m\u001b[0m\u001b[1;33m\u001b[0m\u001b[0m\n",
      "\u001b[1;32me:\\Projects\\steth_optimizer\\steth_optimizer\\Lib\\site-packages\\pandas\\core\\frame.py\u001b[0m in \u001b[0;36m?\u001b[1;34m(self, keys, drop, append, inplace, verify_integrity)\u001b[0m\n\u001b[0;32m   6118\u001b[0m                     \u001b[1;32mif\u001b[0m \u001b[1;32mnot\u001b[0m \u001b[0mfound\u001b[0m\u001b[1;33m:\u001b[0m\u001b[1;33m\u001b[0m\u001b[1;33m\u001b[0m\u001b[0m\n\u001b[0;32m   6119\u001b[0m                         \u001b[0mmissing\u001b[0m\u001b[1;33m.\u001b[0m\u001b[0mappend\u001b[0m\u001b[1;33m(\u001b[0m\u001b[0mcol\u001b[0m\u001b[1;33m)\u001b[0m\u001b[1;33m\u001b[0m\u001b[1;33m\u001b[0m\u001b[0m\n\u001b[0;32m   6120\u001b[0m \u001b[1;33m\u001b[0m\u001b[0m\n\u001b[0;32m   6121\u001b[0m         \u001b[1;32mif\u001b[0m \u001b[0mmissing\u001b[0m\u001b[1;33m:\u001b[0m\u001b[1;33m\u001b[0m\u001b[1;33m\u001b[0m\u001b[0m\n\u001b[1;32m-> 6122\u001b[1;33m             \u001b[1;32mraise\u001b[0m \u001b[0mKeyError\u001b[0m\u001b[1;33m(\u001b[0m\u001b[1;34mf\"None of {missing} are in the columns\"\u001b[0m\u001b[1;33m)\u001b[0m\u001b[1;33m\u001b[0m\u001b[1;33m\u001b[0m\u001b[0m\n\u001b[0m\u001b[0;32m   6123\u001b[0m \u001b[1;33m\u001b[0m\u001b[0m\n\u001b[0;32m   6124\u001b[0m         \u001b[1;32mif\u001b[0m \u001b[0minplace\u001b[0m\u001b[1;33m:\u001b[0m\u001b[1;33m\u001b[0m\u001b[1;33m\u001b[0m\u001b[0m\n\u001b[0;32m   6125\u001b[0m             \u001b[0mframe\u001b[0m \u001b[1;33m=\u001b[0m \u001b[0mself\u001b[0m\u001b[1;33m\u001b[0m\u001b[1;33m\u001b[0m\u001b[0m\n",
      "\u001b[1;31mKeyError\u001b[0m: \"None of ['day'] are in the columns\""
     ]
    }
   ],
   "source": [
    "monthly_mints.set_index('day', inplace=True)\n"
   ]
  },
  {
   "cell_type": "code",
   "execution_count": 409,
   "metadata": {},
   "outputs": [
    {
     "data": {
      "text/plain": [
       "DatetimeIndex(['2023-10-31', '2023-11-30', '2023-12-31', '2024-01-31',\n",
       "               '2024-02-29', '2024-03-31', '2024-04-30', '2024-05-31',\n",
       "               '2024-06-30', '2024-07-31'],\n",
       "              dtype='datetime64[ns]', name='day', freq=None)"
      ]
     },
     "execution_count": 409,
     "metadata": {},
     "output_type": "execute_result"
    }
   ],
   "source": [
    "monthly_mints.index = pd.to_datetime(monthly_mints.index) \n",
    "monthly_mints.index"
   ]
  },
  {
   "cell_type": "code",
   "execution_count": 405,
   "metadata": {},
   "outputs": [
    {
     "data": {
      "text/plain": [
       "DatetimeIndex(['2024-01-31', '2024-02-29', '2024-03-31', '2024-04-30',\n",
       "               '2024-05-31', '2024-06-30', '2024-07-31'],\n",
       "              dtype='datetime64[ns]', name='start_time', freq='ME')"
      ]
     },
     "execution_count": 405,
     "metadata": {},
     "output_type": "execute_result"
    }
   ],
   "source": [
    "monthly_sales_reindexed.index"
   ]
  },
  {
   "cell_type": "code",
   "execution_count": 414,
   "metadata": {},
   "outputs": [
    {
     "name": "stderr",
     "output_type": "stream",
     "text": [
      "C:\\Users\\brandyns pc\\AppData\\Local\\Temp\\ipykernel_12140\\760772224.py:4: FutureWarning:\n",
      "\n",
      "A value is trying to be set on a copy of a DataFrame or Series through chained assignment using an inplace method.\n",
      "The behavior will change in pandas 3.0. This inplace method will never work because the intermediate object on which we are setting values always behaves as a copy.\n",
      "\n",
      "For example, when doing 'df[col].method(value, inplace=True)', try using 'df.method({col: value}, inplace=True)' or df[col] = df[col].method(value) instead, to perform the operation inplace on the original object.\n",
      "\n",
      "\n",
      "\n"
     ]
    }
   ],
   "source": [
    "monthly_mints['sales'] = monthly_sales_reindexed['name'] \n",
    "monthly_mints.fillna(0, inplace=True)\n",
    "monthly_mints['mint_to_sales_ratio'] = monthly_mints['name'] / monthly_mints['sales'] \n",
    "monthly_mints['mint_to_sales_ratio'].replace([float('inf'), -float('inf')], 0, inplace=True)\n",
    "monthly_mints.rename(columns={'name':'mints'}, inplace=True)\n"
   ]
  },
  {
   "cell_type": "code",
   "execution_count": 415,
   "metadata": {},
   "outputs": [
    {
     "data": {
      "text/html": [
       "<div>\n",
       "<style scoped>\n",
       "    .dataframe tbody tr th:only-of-type {\n",
       "        vertical-align: middle;\n",
       "    }\n",
       "\n",
       "    .dataframe tbody tr th {\n",
       "        vertical-align: top;\n",
       "    }\n",
       "\n",
       "    .dataframe thead th {\n",
       "        text-align: right;\n",
       "    }\n",
       "</style>\n",
       "<table border=\"1\" class=\"dataframe\">\n",
       "  <thead>\n",
       "    <tr style=\"text-align: right;\">\n",
       "      <th></th>\n",
       "      <th>mints</th>\n",
       "      <th>sales</th>\n",
       "      <th>mint_to_sales_ratio</th>\n",
       "    </tr>\n",
       "    <tr>\n",
       "      <th>day</th>\n",
       "      <th></th>\n",
       "      <th></th>\n",
       "      <th></th>\n",
       "    </tr>\n",
       "  </thead>\n",
       "  <tbody>\n",
       "    <tr>\n",
       "      <th>2023-10-31</th>\n",
       "      <td>5</td>\n",
       "      <td>0.00</td>\n",
       "      <td>0.00</td>\n",
       "    </tr>\n",
       "    <tr>\n",
       "      <th>2023-11-30</th>\n",
       "      <td>2</td>\n",
       "      <td>0.00</td>\n",
       "      <td>0.00</td>\n",
       "    </tr>\n",
       "    <tr>\n",
       "      <th>2023-12-31</th>\n",
       "      <td>23</td>\n",
       "      <td>0.00</td>\n",
       "      <td>0.00</td>\n",
       "    </tr>\n",
       "    <tr>\n",
       "      <th>2024-01-31</th>\n",
       "      <td>1745</td>\n",
       "      <td>0.00</td>\n",
       "      <td>0.00</td>\n",
       "    </tr>\n",
       "    <tr>\n",
       "      <th>2024-02-29</th>\n",
       "      <td>349</td>\n",
       "      <td>13.00</td>\n",
       "      <td>26.85</td>\n",
       "    </tr>\n",
       "    <tr>\n",
       "      <th>2024-03-31</th>\n",
       "      <td>162</td>\n",
       "      <td>0.00</td>\n",
       "      <td>0.00</td>\n",
       "    </tr>\n",
       "    <tr>\n",
       "      <th>2024-04-30</th>\n",
       "      <td>636</td>\n",
       "      <td>7.00</td>\n",
       "      <td>90.86</td>\n",
       "    </tr>\n",
       "    <tr>\n",
       "      <th>2024-05-31</th>\n",
       "      <td>414</td>\n",
       "      <td>1.00</td>\n",
       "      <td>414.00</td>\n",
       "    </tr>\n",
       "    <tr>\n",
       "      <th>2024-06-30</th>\n",
       "      <td>221</td>\n",
       "      <td>0.00</td>\n",
       "      <td>0.00</td>\n",
       "    </tr>\n",
       "    <tr>\n",
       "      <th>2024-07-31</th>\n",
       "      <td>42</td>\n",
       "      <td>0.00</td>\n",
       "      <td>0.00</td>\n",
       "    </tr>\n",
       "  </tbody>\n",
       "</table>\n",
       "</div>"
      ],
      "text/plain": [
       "            mints  sales  mint_to_sales_ratio\n",
       "day                                          \n",
       "2023-10-31      5   0.00                 0.00\n",
       "2023-11-30      2   0.00                 0.00\n",
       "2023-12-31     23   0.00                 0.00\n",
       "2024-01-31   1745   0.00                 0.00\n",
       "2024-02-29    349  13.00                26.85\n",
       "2024-03-31    162   0.00                 0.00\n",
       "2024-04-30    636   7.00                90.86\n",
       "2024-05-31    414   1.00               414.00\n",
       "2024-06-30    221   0.00                 0.00\n",
       "2024-07-31     42   0.00                 0.00"
      ]
     },
     "execution_count": 415,
     "metadata": {},
     "output_type": "execute_result"
    }
   ],
   "source": [
    "monthly_mints"
   ]
  },
  {
   "cell_type": "code",
   "execution_count": 416,
   "metadata": {},
   "outputs": [
    {
     "name": "stdout",
     "output_type": "stream",
     "text": [
      "24.714285714285715\n"
     ]
    }
   ],
   "source": [
    "cumulative_listings_to_sales = total_box_listings / total_box_sales\n",
    "print(cumulative_listings_to_sales)"
   ]
  },
  {
   "cell_type": "code",
   "execution_count": 417,
   "metadata": {},
   "outputs": [
    {
     "name": "stdout",
     "output_type": "stream",
     "text": [
      "171.38095238095238\n"
     ]
    }
   ],
   "source": [
    "cumulative_mint_to_sales = total_box_mints / total_box_sales\n",
    "print(cumulative_mint_to_sales)"
   ]
  },
  {
   "cell_type": "code",
   "execution_count": null,
   "metadata": {},
   "outputs": [],
   "source": []
  },
  {
   "cell_type": "markdown",
   "metadata": {},
   "source": [
    "***Box Domains Valuation Model***"
   ]
  },
  {
   "cell_type": "markdown",
   "metadata": {},
   "source": [
    "**Data Processing**"
   ]
  },
  {
   "cell_type": "code",
   "execution_count": 247,
   "metadata": {},
   "outputs": [],
   "source": [
    "domain_path = 'E:/Projects/box_app/data/domain-name-sales.tsv'  \n",
    "domain_data = pd.read_csv(domain_path, delimiter='\\t')\n"
   ]
  },
  {
   "cell_type": "code",
   "execution_count": 156,
   "metadata": {},
   "outputs": [],
   "source": [
    "domain_data.set_index('date', inplace=True)\n",
    "domain_data = domain_data.drop(columns=['venue'])\n",
    "domain_data.sort_index(inplace=True)"
   ]
  },
  {
   "cell_type": "code",
   "execution_count": 161,
   "metadata": {},
   "outputs": [
    {
     "data": {
      "text/html": [
       "<div>\n",
       "<style scoped>\n",
       "    .dataframe tbody tr th:only-of-type {\n",
       "        vertical-align: middle;\n",
       "    }\n",
       "\n",
       "    .dataframe tbody tr th {\n",
       "        vertical-align: top;\n",
       "    }\n",
       "\n",
       "    .dataframe thead th {\n",
       "        text-align: right;\n",
       "    }\n",
       "</style>\n",
       "<table border=\"1\" class=\"dataframe\">\n",
       "  <thead>\n",
       "    <tr style=\"text-align: right;\">\n",
       "      <th></th>\n",
       "      <th>domain</th>\n",
       "      <th>price</th>\n",
       "    </tr>\n",
       "    <tr>\n",
       "      <th>date</th>\n",
       "      <th></th>\n",
       "      <th></th>\n",
       "    </tr>\n",
       "  </thead>\n",
       "  <tbody>\n",
       "    <tr>\n",
       "      <th>1999-04-01</th>\n",
       "      <td>altavista.com</td>\n",
       "      <td>3250000</td>\n",
       "    </tr>\n",
       "    <tr>\n",
       "      <th>1999-04-01</th>\n",
       "      <td>bingo.com</td>\n",
       "      <td>1100000</td>\n",
       "    </tr>\n",
       "    <tr>\n",
       "      <th>1999-11-01</th>\n",
       "      <td>fly.com</td>\n",
       "      <td>1500000</td>\n",
       "    </tr>\n",
       "    <tr>\n",
       "      <th>1999-12-01</th>\n",
       "      <td>autos.com</td>\n",
       "      <td>2200000</td>\n",
       "    </tr>\n",
       "    <tr>\n",
       "      <th>1999-12-01</th>\n",
       "      <td>england.com</td>\n",
       "      <td>2000000</td>\n",
       "    </tr>\n",
       "    <tr>\n",
       "      <th>...</th>\n",
       "      <td>...</td>\n",
       "      <td>...</td>\n",
       "    </tr>\n",
       "    <tr>\n",
       "      <th>2021-01-01</th>\n",
       "      <td>yes.movie</td>\n",
       "      <td>253</td>\n",
       "    </tr>\n",
       "    <tr>\n",
       "      <th>2021-01-01</th>\n",
       "      <td>yopal.com</td>\n",
       "      <td>405</td>\n",
       "    </tr>\n",
       "    <tr>\n",
       "      <th>2021-01-01</th>\n",
       "      <td>yougraph.com</td>\n",
       "      <td>1161</td>\n",
       "    </tr>\n",
       "    <tr>\n",
       "      <th>2021-01-01</th>\n",
       "      <td>zenvie.com</td>\n",
       "      <td>349</td>\n",
       "    </tr>\n",
       "    <tr>\n",
       "      <th>2021-01-01</th>\n",
       "      <td>ziggieslivemusic.com</td>\n",
       "      <td>105</td>\n",
       "    </tr>\n",
       "  </tbody>\n",
       "</table>\n",
       "<p>348236 rows × 2 columns</p>\n",
       "</div>"
      ],
      "text/plain": [
       "                          domain    price\n",
       "date                                     \n",
       "1999-04-01         altavista.com  3250000\n",
       "1999-04-01             bingo.com  1100000\n",
       "1999-11-01               fly.com  1500000\n",
       "1999-12-01             autos.com  2200000\n",
       "1999-12-01           england.com  2000000\n",
       "...                          ...      ...\n",
       "2021-01-01             yes.movie      253\n",
       "2021-01-01             yopal.com      405\n",
       "2021-01-01          yougraph.com     1161\n",
       "2021-01-01            zenvie.com      349\n",
       "2021-01-01  ziggieslivemusic.com      105\n",
       "\n",
       "[348236 rows x 2 columns]"
      ]
     },
     "execution_count": 161,
     "metadata": {},
     "output_type": "execute_result"
    }
   ],
   "source": [
    "domain_data.index = pd.to_datetime(domain_data.index)\n",
    "domain_data"
   ]
  },
  {
   "cell_type": "code",
   "execution_count": 180,
   "metadata": {},
   "outputs": [],
   "source": [
    "domain_data['domain_length'] = domain_data['domain'].apply(len)\n",
    "domain_data['num_vowels'] = domain_data['domain'].apply(lambda x: sum([1 for char in x if char in 'aeiou']))\n",
    "domain_data['num_consonants'] = domain_data['domain'].apply(lambda x: sum([1 for char in x if char.isalpha() and char not in 'aeiou']))\n",
    "domain_data['tld'] = domain_data['domain'].apply(lambda x: x.split('.')[-1])  # Extract TLD\n"
   ]
  },
  {
   "cell_type": "code",
   "execution_count": 181,
   "metadata": {},
   "outputs": [
    {
     "data": {
      "text/html": [
       "<div>\n",
       "<style scoped>\n",
       "    .dataframe tbody tr th:only-of-type {\n",
       "        vertical-align: middle;\n",
       "    }\n",
       "\n",
       "    .dataframe tbody tr th {\n",
       "        vertical-align: top;\n",
       "    }\n",
       "\n",
       "    .dataframe thead th {\n",
       "        text-align: right;\n",
       "    }\n",
       "</style>\n",
       "<table border=\"1\" class=\"dataframe\">\n",
       "  <thead>\n",
       "    <tr style=\"text-align: right;\">\n",
       "      <th></th>\n",
       "      <th>domain</th>\n",
       "      <th>price</th>\n",
       "      <th>domain_length</th>\n",
       "      <th>num_vowels</th>\n",
       "      <th>num_consonants</th>\n",
       "      <th>tld</th>\n",
       "    </tr>\n",
       "    <tr>\n",
       "      <th>date</th>\n",
       "      <th></th>\n",
       "      <th></th>\n",
       "      <th></th>\n",
       "      <th></th>\n",
       "      <th></th>\n",
       "      <th></th>\n",
       "    </tr>\n",
       "  </thead>\n",
       "  <tbody>\n",
       "    <tr>\n",
       "      <th>1999-04-01</th>\n",
       "      <td>altavista.com</td>\n",
       "      <td>3250000</td>\n",
       "      <td>13</td>\n",
       "      <td>5</td>\n",
       "      <td>7</td>\n",
       "      <td>com</td>\n",
       "    </tr>\n",
       "    <tr>\n",
       "      <th>1999-04-01</th>\n",
       "      <td>bingo.com</td>\n",
       "      <td>1100000</td>\n",
       "      <td>9</td>\n",
       "      <td>3</td>\n",
       "      <td>5</td>\n",
       "      <td>com</td>\n",
       "    </tr>\n",
       "    <tr>\n",
       "      <th>1999-11-01</th>\n",
       "      <td>fly.com</td>\n",
       "      <td>1500000</td>\n",
       "      <td>7</td>\n",
       "      <td>1</td>\n",
       "      <td>5</td>\n",
       "      <td>com</td>\n",
       "    </tr>\n",
       "    <tr>\n",
       "      <th>1999-12-01</th>\n",
       "      <td>autos.com</td>\n",
       "      <td>2200000</td>\n",
       "      <td>9</td>\n",
       "      <td>4</td>\n",
       "      <td>4</td>\n",
       "      <td>com</td>\n",
       "    </tr>\n",
       "    <tr>\n",
       "      <th>1999-12-01</th>\n",
       "      <td>england.com</td>\n",
       "      <td>2000000</td>\n",
       "      <td>11</td>\n",
       "      <td>3</td>\n",
       "      <td>7</td>\n",
       "      <td>com</td>\n",
       "    </tr>\n",
       "    <tr>\n",
       "      <th>...</th>\n",
       "      <td>...</td>\n",
       "      <td>...</td>\n",
       "      <td>...</td>\n",
       "      <td>...</td>\n",
       "      <td>...</td>\n",
       "      <td>...</td>\n",
       "    </tr>\n",
       "    <tr>\n",
       "      <th>2021-01-01</th>\n",
       "      <td>yes.movie</td>\n",
       "      <td>253</td>\n",
       "      <td>9</td>\n",
       "      <td>4</td>\n",
       "      <td>4</td>\n",
       "      <td>movie</td>\n",
       "    </tr>\n",
       "    <tr>\n",
       "      <th>2021-01-01</th>\n",
       "      <td>yopal.com</td>\n",
       "      <td>405</td>\n",
       "      <td>9</td>\n",
       "      <td>3</td>\n",
       "      <td>5</td>\n",
       "      <td>com</td>\n",
       "    </tr>\n",
       "    <tr>\n",
       "      <th>2021-01-01</th>\n",
       "      <td>yougraph.com</td>\n",
       "      <td>1161</td>\n",
       "      <td>12</td>\n",
       "      <td>4</td>\n",
       "      <td>7</td>\n",
       "      <td>com</td>\n",
       "    </tr>\n",
       "    <tr>\n",
       "      <th>2021-01-01</th>\n",
       "      <td>zenvie.com</td>\n",
       "      <td>349</td>\n",
       "      <td>10</td>\n",
       "      <td>4</td>\n",
       "      <td>5</td>\n",
       "      <td>com</td>\n",
       "    </tr>\n",
       "    <tr>\n",
       "      <th>2021-01-01</th>\n",
       "      <td>ziggieslivemusic.com</td>\n",
       "      <td>105</td>\n",
       "      <td>20</td>\n",
       "      <td>8</td>\n",
       "      <td>11</td>\n",
       "      <td>com</td>\n",
       "    </tr>\n",
       "  </tbody>\n",
       "</table>\n",
       "<p>348236 rows × 6 columns</p>\n",
       "</div>"
      ],
      "text/plain": [
       "                          domain    price  domain_length  num_vowels  \\\n",
       "date                                                                   \n",
       "1999-04-01         altavista.com  3250000             13           5   \n",
       "1999-04-01             bingo.com  1100000              9           3   \n",
       "1999-11-01               fly.com  1500000              7           1   \n",
       "1999-12-01             autos.com  2200000              9           4   \n",
       "1999-12-01           england.com  2000000             11           3   \n",
       "...                          ...      ...            ...         ...   \n",
       "2021-01-01             yes.movie      253              9           4   \n",
       "2021-01-01             yopal.com      405              9           3   \n",
       "2021-01-01          yougraph.com     1161             12           4   \n",
       "2021-01-01            zenvie.com      349             10           4   \n",
       "2021-01-01  ziggieslivemusic.com      105             20           8   \n",
       "\n",
       "            num_consonants    tld  \n",
       "date                               \n",
       "1999-04-01               7    com  \n",
       "1999-04-01               5    com  \n",
       "1999-11-01               5    com  \n",
       "1999-12-01               4    com  \n",
       "1999-12-01               7    com  \n",
       "...                    ...    ...  \n",
       "2021-01-01               4  movie  \n",
       "2021-01-01               5    com  \n",
       "2021-01-01               7    com  \n",
       "2021-01-01               5    com  \n",
       "2021-01-01              11    com  \n",
       "\n",
       "[348236 rows x 6 columns]"
      ]
     },
     "execution_count": 181,
     "metadata": {},
     "output_type": "execute_result"
    }
   ],
   "source": [
    "domain_data"
   ]
  },
  {
   "cell_type": "code",
   "execution_count": 160,
   "metadata": {},
   "outputs": [
    {
     "data": {
      "text/plain": [
       "Index(['name', 'price_usd', 'price_eth'], dtype='object')"
      ]
     },
     "execution_count": 160,
     "metadata": {},
     "output_type": "execute_result"
    }
   ],
   "source": [
    "box_domains_sales.columns"
   ]
  },
  {
   "cell_type": "code",
   "execution_count": 162,
   "metadata": {},
   "outputs": [],
   "source": [
    "filtered_box = box_domains_sales.drop(columns=['price_eth'])\n",
    "filtered_box.rename(columns={'name':'domain', 'price_usd':'price'}, inplace=True)\n"
   ]
  },
  {
   "cell_type": "code",
   "execution_count": 182,
   "metadata": {},
   "outputs": [],
   "source": [
    "filtered_box['domain_length'] = filtered_box['domain'].apply(len)\n",
    "filtered_box['num_vowels'] = filtered_box['domain'].apply(lambda x: sum([1 for char in x if char in 'aeiou']))\n",
    "filtered_box['num_consonants'] = filtered_box['domain'].apply(lambda x: sum([1 for char in x if char.isalpha() and char not in 'aeiou']))\n",
    "filtered_box['tld'] = filtered_box['domain'].apply(lambda x: x.split('.')[-1])  # Extract TLD\n"
   ]
  },
  {
   "cell_type": "code",
   "execution_count": 165,
   "metadata": {},
   "outputs": [
    {
     "ename": "AttributeError",
     "evalue": "'Index' object has no attribute 'strftime'",
     "output_type": "error",
     "traceback": [
      "\u001b[1;31m---------------------------------------------------------------------------\u001b[0m",
      "\u001b[1;31mAttributeError\u001b[0m                            Traceback (most recent call last)",
      "Cell \u001b[1;32mIn[165], line 1\u001b[0m\n\u001b[1;32m----> 1\u001b[0m filtered_box\u001b[38;5;241m.\u001b[39mindex \u001b[38;5;241m=\u001b[39m \u001b[43mfiltered_box\u001b[49m\u001b[38;5;241;43m.\u001b[39;49m\u001b[43mindex\u001b[49m\u001b[38;5;241;43m.\u001b[39;49m\u001b[43mstrftime\u001b[49m(\u001b[38;5;124m'\u001b[39m\u001b[38;5;124m%\u001b[39m\u001b[38;5;124mY-\u001b[39m\u001b[38;5;124m%\u001b[39m\u001b[38;5;124mm-\u001b[39m\u001b[38;5;132;01m%d\u001b[39;00m\u001b[38;5;124m'\u001b[39m)\n\u001b[0;32m      2\u001b[0m filtered_box\n",
      "\u001b[1;31mAttributeError\u001b[0m: 'Index' object has no attribute 'strftime'"
     ]
    }
   ],
   "source": [
    "filtered_box.index = filtered_box.index.strftime('%Y-%m-%d')"
   ]
  },
  {
   "cell_type": "code",
   "execution_count": 189,
   "metadata": {},
   "outputs": [
    {
     "data": {
      "text/html": [
       "<div>\n",
       "<style scoped>\n",
       "    .dataframe tbody tr th:only-of-type {\n",
       "        vertical-align: middle;\n",
       "    }\n",
       "\n",
       "    .dataframe tbody tr th {\n",
       "        vertical-align: top;\n",
       "    }\n",
       "\n",
       "    .dataframe thead th {\n",
       "        text-align: right;\n",
       "    }\n",
       "</style>\n",
       "<table border=\"1\" class=\"dataframe\">\n",
       "  <thead>\n",
       "    <tr style=\"text-align: right;\">\n",
       "      <th></th>\n",
       "      <th>domain</th>\n",
       "      <th>price</th>\n",
       "      <th>domain_length</th>\n",
       "      <th>num_vowels</th>\n",
       "      <th>num_consonants</th>\n",
       "      <th>tld</th>\n",
       "    </tr>\n",
       "    <tr>\n",
       "      <th>day</th>\n",
       "      <th></th>\n",
       "      <th></th>\n",
       "      <th></th>\n",
       "      <th></th>\n",
       "      <th></th>\n",
       "      <th></th>\n",
       "    </tr>\n",
       "  </thead>\n",
       "  <tbody>\n",
       "    <tr>\n",
       "      <th>2024-02-03</th>\n",
       "      <td>696.box</td>\n",
       "      <td>33.088886</td>\n",
       "      <td>7</td>\n",
       "      <td>1</td>\n",
       "      <td>2</td>\n",
       "      <td>box</td>\n",
       "    </tr>\n",
       "    <tr>\n",
       "      <th>2024-02-05</th>\n",
       "      <td>song.box</td>\n",
       "      <td>45.601150</td>\n",
       "      <td>8</td>\n",
       "      <td>2</td>\n",
       "      <td>5</td>\n",
       "      <td>box</td>\n",
       "    </tr>\n",
       "    <tr>\n",
       "      <th>2024-02-10</th>\n",
       "      <td>to.box</td>\n",
       "      <td>96.974190</td>\n",
       "      <td>6</td>\n",
       "      <td>2</td>\n",
       "      <td>3</td>\n",
       "      <td>box</td>\n",
       "    </tr>\n",
       "    <tr>\n",
       "      <th>2024-02-20</th>\n",
       "      <td>uae.box</td>\n",
       "      <td>203.189586</td>\n",
       "      <td>7</td>\n",
       "      <td>4</td>\n",
       "      <td>2</td>\n",
       "      <td>box</td>\n",
       "    </tr>\n",
       "    <tr>\n",
       "      <th>2024-02-22</th>\n",
       "      <td>08.box</td>\n",
       "      <td>116.739602</td>\n",
       "      <td>6</td>\n",
       "      <td>1</td>\n",
       "      <td>2</td>\n",
       "      <td>box</td>\n",
       "    </tr>\n",
       "    <tr>\n",
       "      <th>2024-02-24</th>\n",
       "      <td>404.box</td>\n",
       "      <td>203.681142</td>\n",
       "      <td>7</td>\n",
       "      <td>1</td>\n",
       "      <td>2</td>\n",
       "      <td>box</td>\n",
       "    </tr>\n",
       "    <tr>\n",
       "      <th>2024-02-25</th>\n",
       "      <td>010.box</td>\n",
       "      <td>119.084361</td>\n",
       "      <td>7</td>\n",
       "      <td>1</td>\n",
       "      <td>2</td>\n",
       "      <td>box</td>\n",
       "    </tr>\n",
       "    <tr>\n",
       "      <th>2024-02-25</th>\n",
       "      <td>70.box</td>\n",
       "      <td>269.172017</td>\n",
       "      <td>6</td>\n",
       "      <td>1</td>\n",
       "      <td>2</td>\n",
       "      <td>box</td>\n",
       "    </tr>\n",
       "    <tr>\n",
       "      <th>2024-02-25</th>\n",
       "      <td>40.box</td>\n",
       "      <td>209.356013</td>\n",
       "      <td>6</td>\n",
       "      <td>1</td>\n",
       "      <td>2</td>\n",
       "      <td>box</td>\n",
       "    </tr>\n",
       "    <tr>\n",
       "      <th>2024-02-25</th>\n",
       "      <td>ap.box</td>\n",
       "      <td>134.586008</td>\n",
       "      <td>6</td>\n",
       "      <td>2</td>\n",
       "      <td>3</td>\n",
       "      <td>box</td>\n",
       "    </tr>\n",
       "    <tr>\n",
       "      <th>2024-02-25</th>\n",
       "      <td>75.box</td>\n",
       "      <td>269.172017</td>\n",
       "      <td>6</td>\n",
       "      <td>1</td>\n",
       "      <td>2</td>\n",
       "      <td>box</td>\n",
       "    </tr>\n",
       "    <tr>\n",
       "      <th>2024-02-25</th>\n",
       "      <td>015.box</td>\n",
       "      <td>104.678007</td>\n",
       "      <td>7</td>\n",
       "      <td>1</td>\n",
       "      <td>2</td>\n",
       "      <td>box</td>\n",
       "    </tr>\n",
       "    <tr>\n",
       "      <th>2024-02-25</th>\n",
       "      <td>38.box</td>\n",
       "      <td>301.731691</td>\n",
       "      <td>6</td>\n",
       "      <td>1</td>\n",
       "      <td>2</td>\n",
       "      <td>box</td>\n",
       "    </tr>\n",
       "    <tr>\n",
       "      <th>2024-04-17</th>\n",
       "      <td>mewtwo.box</td>\n",
       "      <td>29.610981</td>\n",
       "      <td>10</td>\n",
       "      <td>3</td>\n",
       "      <td>6</td>\n",
       "      <td>box</td>\n",
       "    </tr>\n",
       "    <tr>\n",
       "      <th>2024-04-24</th>\n",
       "      <td>0000.box</td>\n",
       "      <td>93.923366</td>\n",
       "      <td>8</td>\n",
       "      <td>1</td>\n",
       "      <td>2</td>\n",
       "      <td>box</td>\n",
       "    </tr>\n",
       "    <tr>\n",
       "      <th>2024-04-25</th>\n",
       "      <td>express.box</td>\n",
       "      <td>317.327581</td>\n",
       "      <td>11</td>\n",
       "      <td>3</td>\n",
       "      <td>7</td>\n",
       "      <td>box</td>\n",
       "    </tr>\n",
       "    <tr>\n",
       "      <th>2024-04-27</th>\n",
       "      <td>jane.box</td>\n",
       "      <td>1151.714038</td>\n",
       "      <td>8</td>\n",
       "      <td>3</td>\n",
       "      <td>4</td>\n",
       "      <td>box</td>\n",
       "    </tr>\n",
       "    <tr>\n",
       "      <th>2024-04-27</th>\n",
       "      <td>vm.box</td>\n",
       "      <td>31481.468013</td>\n",
       "      <td>6</td>\n",
       "      <td>1</td>\n",
       "      <td>4</td>\n",
       "      <td>box</td>\n",
       "    </tr>\n",
       "    <tr>\n",
       "      <th>2024-04-28</th>\n",
       "      <td>man.box</td>\n",
       "      <td>224.604619</td>\n",
       "      <td>7</td>\n",
       "      <td>2</td>\n",
       "      <td>4</td>\n",
       "      <td>box</td>\n",
       "    </tr>\n",
       "    <tr>\n",
       "      <th>2024-04-28</th>\n",
       "      <td>good.box</td>\n",
       "      <td>314.608157</td>\n",
       "      <td>8</td>\n",
       "      <td>3</td>\n",
       "      <td>4</td>\n",
       "      <td>box</td>\n",
       "    </tr>\n",
       "    <tr>\n",
       "      <th>2024-05-07</th>\n",
       "      <td>onyx.box</td>\n",
       "      <td>167.833449</td>\n",
       "      <td>8</td>\n",
       "      <td>2</td>\n",
       "      <td>5</td>\n",
       "      <td>box</td>\n",
       "    </tr>\n",
       "  </tbody>\n",
       "</table>\n",
       "</div>"
      ],
      "text/plain": [
       "                 domain         price  domain_length  num_vowels  \\\n",
       "day                                                                \n",
       "2024-02-03      696.box     33.088886              7           1   \n",
       "2024-02-05     song.box     45.601150              8           2   \n",
       "2024-02-10       to.box     96.974190              6           2   \n",
       "2024-02-20      uae.box    203.189586              7           4   \n",
       "2024-02-22       08.box    116.739602              6           1   \n",
       "2024-02-24      404.box    203.681142              7           1   \n",
       "2024-02-25      010.box    119.084361              7           1   \n",
       "2024-02-25       70.box    269.172017              6           1   \n",
       "2024-02-25       40.box    209.356013              6           1   \n",
       "2024-02-25       ap.box    134.586008              6           2   \n",
       "2024-02-25       75.box    269.172017              6           1   \n",
       "2024-02-25      015.box    104.678007              7           1   \n",
       "2024-02-25       38.box    301.731691              6           1   \n",
       "2024-04-17   mewtwo.box     29.610981             10           3   \n",
       "2024-04-24     0000.box     93.923366              8           1   \n",
       "2024-04-25  express.box    317.327581             11           3   \n",
       "2024-04-27     jane.box   1151.714038              8           3   \n",
       "2024-04-27       vm.box  31481.468013              6           1   \n",
       "2024-04-28      man.box    224.604619              7           2   \n",
       "2024-04-28     good.box    314.608157              8           3   \n",
       "2024-05-07     onyx.box    167.833449              8           2   \n",
       "\n",
       "            num_consonants  tld  \n",
       "day                              \n",
       "2024-02-03               2  box  \n",
       "2024-02-05               5  box  \n",
       "2024-02-10               3  box  \n",
       "2024-02-20               2  box  \n",
       "2024-02-22               2  box  \n",
       "2024-02-24               2  box  \n",
       "2024-02-25               2  box  \n",
       "2024-02-25               2  box  \n",
       "2024-02-25               2  box  \n",
       "2024-02-25               3  box  \n",
       "2024-02-25               2  box  \n",
       "2024-02-25               2  box  \n",
       "2024-02-25               2  box  \n",
       "2024-04-17               6  box  \n",
       "2024-04-24               2  box  \n",
       "2024-04-25               7  box  \n",
       "2024-04-27               4  box  \n",
       "2024-04-27               4  box  \n",
       "2024-04-28               4  box  \n",
       "2024-04-28               4  box  \n",
       "2024-05-07               5  box  "
      ]
     },
     "execution_count": 189,
     "metadata": {},
     "output_type": "execute_result"
    }
   ],
   "source": [
    "filtered_box"
   ]
  },
  {
   "cell_type": "code",
   "execution_count": 186,
   "metadata": {},
   "outputs": [],
   "source": [
    "features = ['domain_length', 'num_vowels', 'num_consonants', 'tld']\n",
    "X = domain_data[features]\n",
    "y = domain_data['price']"
   ]
  },
  {
   "cell_type": "code",
   "execution_count": 196,
   "metadata": {},
   "outputs": [],
   "source": [
    "# Preprocess categorical data (TLD) and handle missing values\n",
    "preprocessor = ColumnTransformer(\n",
    "    transformers=[\n",
    "        ('num', Pipeline(steps=[\n",
    "            ('imputer', SimpleImputer(strategy='median')),\n",
    "            ('scaler', StandardScaler())\n",
    "        ]), ['domain_length', 'num_vowels', 'num_consonants']),\n",
    "        ('cat', Pipeline(steps=[\n",
    "            ('imputer', SimpleImputer(strategy='most_frequent')),\n",
    "            ('onehot', OneHotEncoder(handle_unknown='ignore'))\n",
    "        ]), ['tld'])\n",
    "    ]\n",
    ")\n",
    "\n",
    "# Create a pipeline with Ridge regression\n",
    "pipeline = Pipeline(steps=[\n",
    "    ('preprocessor', preprocessor),\n",
    "    ('regressor', Ridge())\n",
    "])\n",
    "\n",
    "# Define the parameter grid for hyperparameter tuning\n",
    "param_grid = {\n",
    "    'regressor__alpha': [0.1, 1.0, 10.0, 100.0, 1000.0]\n",
    "}"
   ]
  },
  {
   "cell_type": "code",
   "execution_count": 197,
   "metadata": {},
   "outputs": [],
   "source": [
    "X_train, X_test, y_train, y_test = train_test_split(X, y, test_size=0.2, random_state=42)\n"
   ]
  },
  {
   "cell_type": "markdown",
   "metadata": {},
   "source": [
    "**Ridge Regression**"
   ]
  },
  {
   "cell_type": "code",
   "execution_count": 198,
   "metadata": {},
   "outputs": [
    {
     "name": "stdout",
     "output_type": "stream",
     "text": [
      "Best Alpha: 1000.0\n",
      "MAE: 2705.0255351946857\n",
      "MSE: 2852191402.3463864\n",
      "R²: 0.0003925999206353392\n"
     ]
    }
   ],
   "source": [
    "grid_search = GridSearchCV(pipeline, param_grid, cv=5, scoring='r2')\n",
    "grid_search.fit(X_train, y_train)\n",
    "\n",
    "# Best model from grid search\n",
    "best_model = grid_search.best_estimator_\n",
    "\n",
    "# Predict and evaluate\n",
    "y_pred = best_model.predict(X_test)\n",
    "mae = mean_absolute_error(y_test, y_pred)\n",
    "mse = mean_squared_error(y_test, y_pred)\n",
    "r2 = r2_score(y_test, y_pred)\n",
    "\n",
    "print(f'Best Alpha: {grid_search.best_params_[\"regressor__alpha\"]}')\n",
    "print(f'MAE: {mae}')\n",
    "print(f'MSE: {mse}')\n",
    "print(f'R²: {r2}')"
   ]
  },
  {
   "cell_type": "markdown",
   "metadata": {},
   "source": [
    "**Random Forest Regressor**"
   ]
  },
  {
   "cell_type": "markdown",
   "metadata": {},
   "source": [
    "pipeline = Pipeline(steps=[\n",
    "    ('preprocessor', preprocessor),\n",
    "    ('regressor', RandomForestRegressor(n_estimators=200, max_depth=20, min_samples_split=5, random_state=42))\n",
    "])\n",
    "\n",
    "# Fit the model\n",
    "pipeline.fit(X_train, y_train)\n",
    "\n",
    "# Predict and evaluate\n",
    "y_pred = pipeline.predict(X_test)\n",
    "mae = mean_absolute_error(y_test, y_pred)\n",
    "mse = mean_squared_error(y_test, y_pred)\n",
    "r2 = r2_score(y_test, y_pred)\n",
    "\n",
    "print(f'MAE: {mae}')\n",
    "print(f'MSE: {mse}')\n",
    "print(f'R²: {r2}')"
   ]
  },
  {
   "cell_type": "markdown",
   "metadata": {},
   "source": [
    "**XGBoost**"
   ]
  },
  {
   "cell_type": "markdown",
   "metadata": {},
   "source": [
    "pipeline = Pipeline(steps=[\n",
    "    ('preprocessor', preprocessor),\n",
    "    ('regressor', XGBRegressor(n_estimators=200, max_depth=5, learning_rate=0.1, random_state=42))\n",
    "])\n",
    "\n",
    "# Fit the model\n",
    "pipeline.fit(X_train, y_train)\n",
    "\n",
    "# Predict and evaluate\n",
    "y_pred = pipeline.predict(X_test)\n",
    "mae = mean_absolute_error(y_test, y_pred)\n",
    "mse = mean_squared_error(y_test, y_pred)\n",
    "r2 = r2_score(y_test, y_pred)\n",
    "\n",
    "print(f'MAE: {mae}')\n",
    "print(f'MSE: {mse}')\n",
    "print(f'R²: {r2}')"
   ]
  },
  {
   "cell_type": "markdown",
   "metadata": {},
   "source": [
    "**LightGBM**"
   ]
  },
  {
   "cell_type": "markdown",
   "metadata": {},
   "source": [
    "pipeline = Pipeline(steps=[\n",
    "    ('preprocessor', preprocessor),\n",
    "    ('regressor', LGBMRegressor(n_estimators=200, max_depth=5, learning_rate=0.1, random_state=42))\n",
    "])\n",
    "\n",
    "# Fit the model\n",
    "pipeline.fit(X_train, y_train)\n",
    "\n",
    "# Predict and evaluate\n",
    "y_pred = pipeline.predict(X_test)\n",
    "mae = mean_absolute_error(y_test, y_pred)\n",
    "mse = mean_squared_error(y_test, y_pred)\n",
    "r2 = r2_score(y_test, y_pred)\n",
    "\n",
    "print(f'MAE: {mae}')\n",
    "print(f'MSE: {mse}')\n",
    "print(f'R²: {r2}')"
   ]
  },
  {
   "cell_type": "markdown",
   "metadata": {},
   "source": [
    "**Cat Boost**"
   ]
  },
  {
   "cell_type": "markdown",
   "metadata": {},
   "source": [
    "pipeline = Pipeline(steps=[\n",
    "    ('preprocessor', preprocessor),\n",
    "    ('regressor', CatBoostRegressor(iterations=200, depth=5, learning_rate=0.1, random_state=42, verbose=0))\n",
    "])\n",
    "\n",
    "# Fit the model\n",
    "pipeline.fit(X_train, y_train)\n",
    "\n",
    "# Predict and evaluate\n",
    "y_pred = pipeline.predict(X_test)\n",
    "mae = mean_absolute_error(y_test, y_pred)\n",
    "mse = mean_squared_error(y_test, y_pred)\n",
    "r2 = r2_score(y_test, y_pred)\n",
    "\n",
    "print(f'MAE: {mae}')\n",
    "print(f'MSE: {mse}')\n",
    "print(f'R²: {r2}')"
   ]
  },
  {
   "cell_type": "markdown",
   "metadata": {},
   "source": [
    "**Best Model**"
   ]
  },
  {
   "cell_type": "code",
   "execution_count": 205,
   "metadata": {},
   "outputs": [],
   "source": [
    "pipeline = Pipeline(steps=[\n",
    "    ('preprocessor', preprocessor),\n",
    "    ('regressor', Ridge(alpha=1000.0))  # Set the best alpha value from grid search\n",
    "])"
   ]
  },
  {
   "cell_type": "code",
   "execution_count": 206,
   "metadata": {},
   "outputs": [
    {
     "name": "stdout",
     "output_type": "stream",
     "text": [
      "MAE: 2705.0255351946857\n",
      "MSE: 2852191402.3463864\n",
      "R²: 0.0003925999206353392\n"
     ]
    }
   ],
   "source": [
    "X_train, X_test, y_train, y_test = train_test_split(X, y, test_size=0.2, random_state=42)\n",
    "pipeline.fit(X_train, y_train)\n",
    "y_pred = pipeline.predict(X_test)\n",
    "mae = mean_absolute_error(y_test, y_pred)\n",
    "mse = mean_squared_error(y_test, y_pred)\n",
    "r2 = r2_score(y_test, y_pred)\n",
    "\n",
    "print(f'MAE: {mae}')\n",
    "print(f'MSE: {mse}')\n",
    "print(f'R²: {r2}')"
   ]
  },
  {
   "cell_type": "code",
   "execution_count": 209,
   "metadata": {},
   "outputs": [
    {
     "data": {
      "text/html": [
       "<div>\n",
       "<style scoped>\n",
       "    .dataframe tbody tr th:only-of-type {\n",
       "        vertical-align: middle;\n",
       "    }\n",
       "\n",
       "    .dataframe tbody tr th {\n",
       "        vertical-align: top;\n",
       "    }\n",
       "\n",
       "    .dataframe thead th {\n",
       "        text-align: right;\n",
       "    }\n",
       "</style>\n",
       "<table border=\"1\" class=\"dataframe\">\n",
       "  <thead>\n",
       "    <tr style=\"text-align: right;\">\n",
       "      <th></th>\n",
       "      <th>domain</th>\n",
       "      <th>price</th>\n",
       "      <th>domain_length</th>\n",
       "      <th>num_vowels</th>\n",
       "      <th>num_consonants</th>\n",
       "      <th>tld</th>\n",
       "      <th>predicted_price</th>\n",
       "    </tr>\n",
       "    <tr>\n",
       "      <th>day</th>\n",
       "      <th></th>\n",
       "      <th></th>\n",
       "      <th></th>\n",
       "      <th></th>\n",
       "      <th></th>\n",
       "      <th></th>\n",
       "      <th></th>\n",
       "    </tr>\n",
       "  </thead>\n",
       "  <tbody>\n",
       "    <tr>\n",
       "      <th>2024-02-03</th>\n",
       "      <td>696.box</td>\n",
       "      <td>33.088886</td>\n",
       "      <td>7</td>\n",
       "      <td>1</td>\n",
       "      <td>2</td>\n",
       "      <td>box</td>\n",
       "      <td>1168.932145</td>\n",
       "    </tr>\n",
       "    <tr>\n",
       "      <th>2024-02-05</th>\n",
       "      <td>song.box</td>\n",
       "      <td>45.601150</td>\n",
       "      <td>8</td>\n",
       "      <td>2</td>\n",
       "      <td>5</td>\n",
       "      <td>box</td>\n",
       "      <td>2173.632242</td>\n",
       "    </tr>\n",
       "    <tr>\n",
       "      <th>2024-02-10</th>\n",
       "      <td>to.box</td>\n",
       "      <td>96.974190</td>\n",
       "      <td>6</td>\n",
       "      <td>2</td>\n",
       "      <td>3</td>\n",
       "      <td>box</td>\n",
       "      <td>3066.390943</td>\n",
       "    </tr>\n",
       "    <tr>\n",
       "      <th>2024-02-20</th>\n",
       "      <td>uae.box</td>\n",
       "      <td>203.189586</td>\n",
       "      <td>7</td>\n",
       "      <td>4</td>\n",
       "      <td>2</td>\n",
       "      <td>box</td>\n",
       "      <td>3180.120862</td>\n",
       "    </tr>\n",
       "    <tr>\n",
       "      <th>2024-02-22</th>\n",
       "      <td>08.box</td>\n",
       "      <td>116.739602</td>\n",
       "      <td>6</td>\n",
       "      <td>1</td>\n",
       "      <td>2</td>\n",
       "      <td>box</td>\n",
       "      <td>2005.653100</td>\n",
       "    </tr>\n",
       "    <tr>\n",
       "      <th>2024-02-24</th>\n",
       "      <td>404.box</td>\n",
       "      <td>203.681142</td>\n",
       "      <td>7</td>\n",
       "      <td>1</td>\n",
       "      <td>2</td>\n",
       "      <td>box</td>\n",
       "      <td>1168.932145</td>\n",
       "    </tr>\n",
       "    <tr>\n",
       "      <th>2024-02-25</th>\n",
       "      <td>010.box</td>\n",
       "      <td>119.084361</td>\n",
       "      <td>7</td>\n",
       "      <td>1</td>\n",
       "      <td>2</td>\n",
       "      <td>box</td>\n",
       "      <td>1168.932145</td>\n",
       "    </tr>\n",
       "    <tr>\n",
       "      <th>2024-02-25</th>\n",
       "      <td>70.box</td>\n",
       "      <td>269.172017</td>\n",
       "      <td>6</td>\n",
       "      <td>1</td>\n",
       "      <td>2</td>\n",
       "      <td>box</td>\n",
       "      <td>2005.653100</td>\n",
       "    </tr>\n",
       "    <tr>\n",
       "      <th>2024-02-25</th>\n",
       "      <td>40.box</td>\n",
       "      <td>209.356013</td>\n",
       "      <td>6</td>\n",
       "      <td>1</td>\n",
       "      <td>2</td>\n",
       "      <td>box</td>\n",
       "      <td>2005.653100</td>\n",
       "    </tr>\n",
       "    <tr>\n",
       "      <th>2024-02-25</th>\n",
       "      <td>ap.box</td>\n",
       "      <td>134.586008</td>\n",
       "      <td>6</td>\n",
       "      <td>2</td>\n",
       "      <td>3</td>\n",
       "      <td>box</td>\n",
       "      <td>3066.390943</td>\n",
       "    </tr>\n",
       "    <tr>\n",
       "      <th>2024-02-25</th>\n",
       "      <td>75.box</td>\n",
       "      <td>269.172017</td>\n",
       "      <td>6</td>\n",
       "      <td>1</td>\n",
       "      <td>2</td>\n",
       "      <td>box</td>\n",
       "      <td>2005.653100</td>\n",
       "    </tr>\n",
       "    <tr>\n",
       "      <th>2024-02-25</th>\n",
       "      <td>015.box</td>\n",
       "      <td>104.678007</td>\n",
       "      <td>7</td>\n",
       "      <td>1</td>\n",
       "      <td>2</td>\n",
       "      <td>box</td>\n",
       "      <td>1168.932145</td>\n",
       "    </tr>\n",
       "    <tr>\n",
       "      <th>2024-02-25</th>\n",
       "      <td>38.box</td>\n",
       "      <td>301.731691</td>\n",
       "      <td>6</td>\n",
       "      <td>1</td>\n",
       "      <td>2</td>\n",
       "      <td>box</td>\n",
       "      <td>2005.653100</td>\n",
       "    </tr>\n",
       "    <tr>\n",
       "      <th>2024-04-17</th>\n",
       "      <td>mewtwo.box</td>\n",
       "      <td>29.610981</td>\n",
       "      <td>10</td>\n",
       "      <td>3</td>\n",
       "      <td>6</td>\n",
       "      <td>box</td>\n",
       "      <td>1560.928176</td>\n",
       "    </tr>\n",
       "    <tr>\n",
       "      <th>2024-04-24</th>\n",
       "      <td>0000.box</td>\n",
       "      <td>93.923366</td>\n",
       "      <td>8</td>\n",
       "      <td>1</td>\n",
       "      <td>2</td>\n",
       "      <td>box</td>\n",
       "      <td>332.211191</td>\n",
       "    </tr>\n",
       "    <tr>\n",
       "      <th>2024-04-25</th>\n",
       "      <td>express.box</td>\n",
       "      <td>317.327581</td>\n",
       "      <td>11</td>\n",
       "      <td>3</td>\n",
       "      <td>7</td>\n",
       "      <td>box</td>\n",
       "      <td>1114.548825</td>\n",
       "    </tr>\n",
       "    <tr>\n",
       "      <th>2024-04-27</th>\n",
       "      <td>jane.box</td>\n",
       "      <td>1151.714038</td>\n",
       "      <td>8</td>\n",
       "      <td>3</td>\n",
       "      <td>4</td>\n",
       "      <td>box</td>\n",
       "      <td>2453.686877</td>\n",
       "    </tr>\n",
       "    <tr>\n",
       "      <th>2024-04-27</th>\n",
       "      <td>vm.box</td>\n",
       "      <td>31481.468013</td>\n",
       "      <td>6</td>\n",
       "      <td>1</td>\n",
       "      <td>4</td>\n",
       "      <td>box</td>\n",
       "      <td>2786.336308</td>\n",
       "    </tr>\n",
       "    <tr>\n",
       "      <th>2024-04-28</th>\n",
       "      <td>man.box</td>\n",
       "      <td>224.604619</td>\n",
       "      <td>7</td>\n",
       "      <td>2</td>\n",
       "      <td>4</td>\n",
       "      <td>box</td>\n",
       "      <td>2620.011592</td>\n",
       "    </tr>\n",
       "    <tr>\n",
       "      <th>2024-04-28</th>\n",
       "      <td>good.box</td>\n",
       "      <td>314.608157</td>\n",
       "      <td>8</td>\n",
       "      <td>3</td>\n",
       "      <td>4</td>\n",
       "      <td>box</td>\n",
       "      <td>2453.686877</td>\n",
       "    </tr>\n",
       "    <tr>\n",
       "      <th>2024-05-07</th>\n",
       "      <td>onyx.box</td>\n",
       "      <td>167.833449</td>\n",
       "      <td>8</td>\n",
       "      <td>2</td>\n",
       "      <td>5</td>\n",
       "      <td>box</td>\n",
       "      <td>2173.632242</td>\n",
       "    </tr>\n",
       "  </tbody>\n",
       "</table>\n",
       "</div>"
      ],
      "text/plain": [
       "                 domain         price  domain_length  num_vowels  \\\n",
       "day                                                                \n",
       "2024-02-03      696.box     33.088886              7           1   \n",
       "2024-02-05     song.box     45.601150              8           2   \n",
       "2024-02-10       to.box     96.974190              6           2   \n",
       "2024-02-20      uae.box    203.189586              7           4   \n",
       "2024-02-22       08.box    116.739602              6           1   \n",
       "2024-02-24      404.box    203.681142              7           1   \n",
       "2024-02-25      010.box    119.084361              7           1   \n",
       "2024-02-25       70.box    269.172017              6           1   \n",
       "2024-02-25       40.box    209.356013              6           1   \n",
       "2024-02-25       ap.box    134.586008              6           2   \n",
       "2024-02-25       75.box    269.172017              6           1   \n",
       "2024-02-25      015.box    104.678007              7           1   \n",
       "2024-02-25       38.box    301.731691              6           1   \n",
       "2024-04-17   mewtwo.box     29.610981             10           3   \n",
       "2024-04-24     0000.box     93.923366              8           1   \n",
       "2024-04-25  express.box    317.327581             11           3   \n",
       "2024-04-27     jane.box   1151.714038              8           3   \n",
       "2024-04-27       vm.box  31481.468013              6           1   \n",
       "2024-04-28      man.box    224.604619              7           2   \n",
       "2024-04-28     good.box    314.608157              8           3   \n",
       "2024-05-07     onyx.box    167.833449              8           2   \n",
       "\n",
       "            num_consonants  tld  predicted_price  \n",
       "day                                               \n",
       "2024-02-03               2  box      1168.932145  \n",
       "2024-02-05               5  box      2173.632242  \n",
       "2024-02-10               3  box      3066.390943  \n",
       "2024-02-20               2  box      3180.120862  \n",
       "2024-02-22               2  box      2005.653100  \n",
       "2024-02-24               2  box      1168.932145  \n",
       "2024-02-25               2  box      1168.932145  \n",
       "2024-02-25               2  box      2005.653100  \n",
       "2024-02-25               2  box      2005.653100  \n",
       "2024-02-25               3  box      3066.390943  \n",
       "2024-02-25               2  box      2005.653100  \n",
       "2024-02-25               2  box      1168.932145  \n",
       "2024-02-25               2  box      2005.653100  \n",
       "2024-04-17               6  box      1560.928176  \n",
       "2024-04-24               2  box       332.211191  \n",
       "2024-04-25               7  box      1114.548825  \n",
       "2024-04-27               4  box      2453.686877  \n",
       "2024-04-27               4  box      2786.336308  \n",
       "2024-04-28               4  box      2620.011592  \n",
       "2024-04-28               4  box      2453.686877  \n",
       "2024-05-07               5  box      2173.632242  "
      ]
     },
     "execution_count": 209,
     "metadata": {},
     "output_type": "execute_result"
    }
   ],
   "source": [
    "filtered_box"
   ]
  },
  {
   "cell_type": "code",
   "execution_count": 208,
   "metadata": {},
   "outputs": [
    {
     "name": "stdout",
     "output_type": "stream",
     "text": [
      "                 domain  predicted_price\n",
      "day                                     \n",
      "2024-02-03      696.box      1168.932145\n",
      "2024-02-05     song.box      2173.632242\n",
      "2024-02-10       to.box      3066.390943\n",
      "2024-02-20      uae.box      3180.120862\n",
      "2024-02-22       08.box      2005.653100\n",
      "2024-02-24      404.box      1168.932145\n",
      "2024-02-25      010.box      1168.932145\n",
      "2024-02-25       70.box      2005.653100\n",
      "2024-02-25       40.box      2005.653100\n",
      "2024-02-25       ap.box      3066.390943\n",
      "2024-02-25       75.box      2005.653100\n",
      "2024-02-25      015.box      1168.932145\n",
      "2024-02-25       38.box      2005.653100\n",
      "2024-04-17   mewtwo.box      1560.928176\n",
      "2024-04-24     0000.box       332.211191\n",
      "2024-04-25  express.box      1114.548825\n",
      "2024-04-27     jane.box      2453.686877\n",
      "2024-04-27       vm.box      2786.336308\n",
      "2024-04-28      man.box      2620.011592\n",
      "2024-04-28     good.box      2453.686877\n",
      "2024-05-07     onyx.box      2173.632242\n"
     ]
    }
   ],
   "source": [
    "box_X = filtered_box[features]\n",
    "\n",
    "# Predict prices for .box domains using the best model\n",
    "filtered_box['predicted_price'] = pipeline.predict(box_X)\n",
    "\n",
    "print(filtered_box[['domain', 'predicted_price']])"
   ]
  },
  {
   "cell_type": "code",
   "execution_count": 210,
   "metadata": {},
   "outputs": [
    {
     "name": "stdout",
     "output_type": "stream",
     "text": [
      "r2 0.0411345241547072\n"
     ]
    }
   ],
   "source": [
    "r2 = r2_score(filtered_box['price'], filtered_box['predicted_price'])\n",
    "print(f'r2 {r2}')"
   ]
  },
  {
   "cell_type": "markdown",
   "metadata": {},
   "source": [
    "**.Box Domain Valuator**"
   ]
  },
  {
   "cell_type": "code",
   "execution_count": 211,
   "metadata": {},
   "outputs": [
    {
     "data": {
      "text/html": [
       "<div>\n",
       "<style scoped>\n",
       "    .dataframe tbody tr th:only-of-type {\n",
       "        vertical-align: middle;\n",
       "    }\n",
       "\n",
       "    .dataframe tbody tr th {\n",
       "        vertical-align: top;\n",
       "    }\n",
       "\n",
       "    .dataframe thead th {\n",
       "        text-align: right;\n",
       "    }\n",
       "</style>\n",
       "<table border=\"1\" class=\"dataframe\">\n",
       "  <thead>\n",
       "    <tr style=\"text-align: right;\">\n",
       "      <th></th>\n",
       "      <th>domain</th>\n",
       "      <th>price</th>\n",
       "      <th>domain_length</th>\n",
       "      <th>num_vowels</th>\n",
       "      <th>num_consonants</th>\n",
       "      <th>tld</th>\n",
       "    </tr>\n",
       "    <tr>\n",
       "      <th>day</th>\n",
       "      <th></th>\n",
       "      <th></th>\n",
       "      <th></th>\n",
       "      <th></th>\n",
       "      <th></th>\n",
       "      <th></th>\n",
       "    </tr>\n",
       "  </thead>\n",
       "  <tbody>\n",
       "    <tr>\n",
       "      <th>2024-02-03</th>\n",
       "      <td>696.box</td>\n",
       "      <td>33.088886</td>\n",
       "      <td>7</td>\n",
       "      <td>1</td>\n",
       "      <td>2</td>\n",
       "      <td>box</td>\n",
       "    </tr>\n",
       "    <tr>\n",
       "      <th>2024-02-05</th>\n",
       "      <td>song.box</td>\n",
       "      <td>45.601150</td>\n",
       "      <td>8</td>\n",
       "      <td>2</td>\n",
       "      <td>5</td>\n",
       "      <td>box</td>\n",
       "    </tr>\n",
       "    <tr>\n",
       "      <th>2024-02-10</th>\n",
       "      <td>to.box</td>\n",
       "      <td>96.974190</td>\n",
       "      <td>6</td>\n",
       "      <td>2</td>\n",
       "      <td>3</td>\n",
       "      <td>box</td>\n",
       "    </tr>\n",
       "    <tr>\n",
       "      <th>2024-02-20</th>\n",
       "      <td>uae.box</td>\n",
       "      <td>203.189586</td>\n",
       "      <td>7</td>\n",
       "      <td>4</td>\n",
       "      <td>2</td>\n",
       "      <td>box</td>\n",
       "    </tr>\n",
       "    <tr>\n",
       "      <th>2024-02-22</th>\n",
       "      <td>08.box</td>\n",
       "      <td>116.739602</td>\n",
       "      <td>6</td>\n",
       "      <td>1</td>\n",
       "      <td>2</td>\n",
       "      <td>box</td>\n",
       "    </tr>\n",
       "    <tr>\n",
       "      <th>2024-02-24</th>\n",
       "      <td>404.box</td>\n",
       "      <td>203.681142</td>\n",
       "      <td>7</td>\n",
       "      <td>1</td>\n",
       "      <td>2</td>\n",
       "      <td>box</td>\n",
       "    </tr>\n",
       "    <tr>\n",
       "      <th>2024-02-25</th>\n",
       "      <td>010.box</td>\n",
       "      <td>119.084361</td>\n",
       "      <td>7</td>\n",
       "      <td>1</td>\n",
       "      <td>2</td>\n",
       "      <td>box</td>\n",
       "    </tr>\n",
       "    <tr>\n",
       "      <th>2024-02-25</th>\n",
       "      <td>70.box</td>\n",
       "      <td>269.172017</td>\n",
       "      <td>6</td>\n",
       "      <td>1</td>\n",
       "      <td>2</td>\n",
       "      <td>box</td>\n",
       "    </tr>\n",
       "    <tr>\n",
       "      <th>2024-02-25</th>\n",
       "      <td>40.box</td>\n",
       "      <td>209.356013</td>\n",
       "      <td>6</td>\n",
       "      <td>1</td>\n",
       "      <td>2</td>\n",
       "      <td>box</td>\n",
       "    </tr>\n",
       "    <tr>\n",
       "      <th>2024-02-25</th>\n",
       "      <td>ap.box</td>\n",
       "      <td>134.586008</td>\n",
       "      <td>6</td>\n",
       "      <td>2</td>\n",
       "      <td>3</td>\n",
       "      <td>box</td>\n",
       "    </tr>\n",
       "    <tr>\n",
       "      <th>2024-02-25</th>\n",
       "      <td>75.box</td>\n",
       "      <td>269.172017</td>\n",
       "      <td>6</td>\n",
       "      <td>1</td>\n",
       "      <td>2</td>\n",
       "      <td>box</td>\n",
       "    </tr>\n",
       "    <tr>\n",
       "      <th>2024-02-25</th>\n",
       "      <td>015.box</td>\n",
       "      <td>104.678007</td>\n",
       "      <td>7</td>\n",
       "      <td>1</td>\n",
       "      <td>2</td>\n",
       "      <td>box</td>\n",
       "    </tr>\n",
       "    <tr>\n",
       "      <th>2024-02-25</th>\n",
       "      <td>38.box</td>\n",
       "      <td>301.731691</td>\n",
       "      <td>6</td>\n",
       "      <td>1</td>\n",
       "      <td>2</td>\n",
       "      <td>box</td>\n",
       "    </tr>\n",
       "    <tr>\n",
       "      <th>2024-04-17</th>\n",
       "      <td>mewtwo.box</td>\n",
       "      <td>29.610981</td>\n",
       "      <td>10</td>\n",
       "      <td>3</td>\n",
       "      <td>6</td>\n",
       "      <td>box</td>\n",
       "    </tr>\n",
       "    <tr>\n",
       "      <th>2024-04-24</th>\n",
       "      <td>0000.box</td>\n",
       "      <td>93.923366</td>\n",
       "      <td>8</td>\n",
       "      <td>1</td>\n",
       "      <td>2</td>\n",
       "      <td>box</td>\n",
       "    </tr>\n",
       "    <tr>\n",
       "      <th>2024-04-25</th>\n",
       "      <td>express.box</td>\n",
       "      <td>317.327581</td>\n",
       "      <td>11</td>\n",
       "      <td>3</td>\n",
       "      <td>7</td>\n",
       "      <td>box</td>\n",
       "    </tr>\n",
       "    <tr>\n",
       "      <th>2024-04-27</th>\n",
       "      <td>jane.box</td>\n",
       "      <td>1151.714038</td>\n",
       "      <td>8</td>\n",
       "      <td>3</td>\n",
       "      <td>4</td>\n",
       "      <td>box</td>\n",
       "    </tr>\n",
       "    <tr>\n",
       "      <th>2024-04-27</th>\n",
       "      <td>vm.box</td>\n",
       "      <td>31481.468013</td>\n",
       "      <td>6</td>\n",
       "      <td>1</td>\n",
       "      <td>4</td>\n",
       "      <td>box</td>\n",
       "    </tr>\n",
       "    <tr>\n",
       "      <th>2024-04-28</th>\n",
       "      <td>man.box</td>\n",
       "      <td>224.604619</td>\n",
       "      <td>7</td>\n",
       "      <td>2</td>\n",
       "      <td>4</td>\n",
       "      <td>box</td>\n",
       "    </tr>\n",
       "    <tr>\n",
       "      <th>2024-04-28</th>\n",
       "      <td>good.box</td>\n",
       "      <td>314.608157</td>\n",
       "      <td>8</td>\n",
       "      <td>3</td>\n",
       "      <td>4</td>\n",
       "      <td>box</td>\n",
       "    </tr>\n",
       "    <tr>\n",
       "      <th>2024-05-07</th>\n",
       "      <td>onyx.box</td>\n",
       "      <td>167.833449</td>\n",
       "      <td>8</td>\n",
       "      <td>2</td>\n",
       "      <td>5</td>\n",
       "      <td>box</td>\n",
       "    </tr>\n",
       "  </tbody>\n",
       "</table>\n",
       "</div>"
      ],
      "text/plain": [
       "                 domain         price  domain_length  num_vowels  \\\n",
       "day                                                                \n",
       "2024-02-03      696.box     33.088886              7           1   \n",
       "2024-02-05     song.box     45.601150              8           2   \n",
       "2024-02-10       to.box     96.974190              6           2   \n",
       "2024-02-20      uae.box    203.189586              7           4   \n",
       "2024-02-22       08.box    116.739602              6           1   \n",
       "2024-02-24      404.box    203.681142              7           1   \n",
       "2024-02-25      010.box    119.084361              7           1   \n",
       "2024-02-25       70.box    269.172017              6           1   \n",
       "2024-02-25       40.box    209.356013              6           1   \n",
       "2024-02-25       ap.box    134.586008              6           2   \n",
       "2024-02-25       75.box    269.172017              6           1   \n",
       "2024-02-25      015.box    104.678007              7           1   \n",
       "2024-02-25       38.box    301.731691              6           1   \n",
       "2024-04-17   mewtwo.box     29.610981             10           3   \n",
       "2024-04-24     0000.box     93.923366              8           1   \n",
       "2024-04-25  express.box    317.327581             11           3   \n",
       "2024-04-27     jane.box   1151.714038              8           3   \n",
       "2024-04-27       vm.box  31481.468013              6           1   \n",
       "2024-04-28      man.box    224.604619              7           2   \n",
       "2024-04-28     good.box    314.608157              8           3   \n",
       "2024-05-07     onyx.box    167.833449              8           2   \n",
       "\n",
       "            num_consonants  tld  \n",
       "day                              \n",
       "2024-02-03               2  box  \n",
       "2024-02-05               5  box  \n",
       "2024-02-10               3  box  \n",
       "2024-02-20               2  box  \n",
       "2024-02-22               2  box  \n",
       "2024-02-24               2  box  \n",
       "2024-02-25               2  box  \n",
       "2024-02-25               2  box  \n",
       "2024-02-25               2  box  \n",
       "2024-02-25               3  box  \n",
       "2024-02-25               2  box  \n",
       "2024-02-25               2  box  \n",
       "2024-02-25               2  box  \n",
       "2024-04-17               6  box  \n",
       "2024-04-24               2  box  \n",
       "2024-04-25               7  box  \n",
       "2024-04-27               4  box  \n",
       "2024-04-27               4  box  \n",
       "2024-04-28               4  box  \n",
       "2024-04-28               4  box  \n",
       "2024-05-07               5  box  "
      ]
     },
     "execution_count": 211,
     "metadata": {},
     "output_type": "execute_result"
    }
   ],
   "source": [
    "filtered_box_2 = filtered_box.drop(columns=['predicted_price'])\n",
    "filtered_box_2"
   ]
  },
  {
   "cell_type": "code",
   "execution_count": 212,
   "metadata": {},
   "outputs": [],
   "source": [
    "combined_data = pd.concat([domain_data, filtered_box_2], ignore_index=True)"
   ]
  },
  {
   "cell_type": "code",
   "execution_count": 213,
   "metadata": {},
   "outputs": [
    {
     "data": {
      "text/html": [
       "<div>\n",
       "<style scoped>\n",
       "    .dataframe tbody tr th:only-of-type {\n",
       "        vertical-align: middle;\n",
       "    }\n",
       "\n",
       "    .dataframe tbody tr th {\n",
       "        vertical-align: top;\n",
       "    }\n",
       "\n",
       "    .dataframe thead th {\n",
       "        text-align: right;\n",
       "    }\n",
       "</style>\n",
       "<table border=\"1\" class=\"dataframe\">\n",
       "  <thead>\n",
       "    <tr style=\"text-align: right;\">\n",
       "      <th></th>\n",
       "      <th>domain</th>\n",
       "      <th>price</th>\n",
       "      <th>domain_length</th>\n",
       "      <th>num_vowels</th>\n",
       "      <th>num_consonants</th>\n",
       "      <th>tld</th>\n",
       "    </tr>\n",
       "  </thead>\n",
       "  <tbody>\n",
       "    <tr>\n",
       "      <th>0</th>\n",
       "      <td>altavista.com</td>\n",
       "      <td>3.250000e+06</td>\n",
       "      <td>13</td>\n",
       "      <td>5</td>\n",
       "      <td>7</td>\n",
       "      <td>com</td>\n",
       "    </tr>\n",
       "    <tr>\n",
       "      <th>1</th>\n",
       "      <td>bingo.com</td>\n",
       "      <td>1.100000e+06</td>\n",
       "      <td>9</td>\n",
       "      <td>3</td>\n",
       "      <td>5</td>\n",
       "      <td>com</td>\n",
       "    </tr>\n",
       "    <tr>\n",
       "      <th>2</th>\n",
       "      <td>fly.com</td>\n",
       "      <td>1.500000e+06</td>\n",
       "      <td>7</td>\n",
       "      <td>1</td>\n",
       "      <td>5</td>\n",
       "      <td>com</td>\n",
       "    </tr>\n",
       "    <tr>\n",
       "      <th>3</th>\n",
       "      <td>autos.com</td>\n",
       "      <td>2.200000e+06</td>\n",
       "      <td>9</td>\n",
       "      <td>4</td>\n",
       "      <td>4</td>\n",
       "      <td>com</td>\n",
       "    </tr>\n",
       "    <tr>\n",
       "      <th>4</th>\n",
       "      <td>england.com</td>\n",
       "      <td>2.000000e+06</td>\n",
       "      <td>11</td>\n",
       "      <td>3</td>\n",
       "      <td>7</td>\n",
       "      <td>com</td>\n",
       "    </tr>\n",
       "    <tr>\n",
       "      <th>...</th>\n",
       "      <td>...</td>\n",
       "      <td>...</td>\n",
       "      <td>...</td>\n",
       "      <td>...</td>\n",
       "      <td>...</td>\n",
       "      <td>...</td>\n",
       "    </tr>\n",
       "    <tr>\n",
       "      <th>348252</th>\n",
       "      <td>jane.box</td>\n",
       "      <td>1.151714e+03</td>\n",
       "      <td>8</td>\n",
       "      <td>3</td>\n",
       "      <td>4</td>\n",
       "      <td>box</td>\n",
       "    </tr>\n",
       "    <tr>\n",
       "      <th>348253</th>\n",
       "      <td>vm.box</td>\n",
       "      <td>3.148147e+04</td>\n",
       "      <td>6</td>\n",
       "      <td>1</td>\n",
       "      <td>4</td>\n",
       "      <td>box</td>\n",
       "    </tr>\n",
       "    <tr>\n",
       "      <th>348254</th>\n",
       "      <td>man.box</td>\n",
       "      <td>2.246046e+02</td>\n",
       "      <td>7</td>\n",
       "      <td>2</td>\n",
       "      <td>4</td>\n",
       "      <td>box</td>\n",
       "    </tr>\n",
       "    <tr>\n",
       "      <th>348255</th>\n",
       "      <td>good.box</td>\n",
       "      <td>3.146082e+02</td>\n",
       "      <td>8</td>\n",
       "      <td>3</td>\n",
       "      <td>4</td>\n",
       "      <td>box</td>\n",
       "    </tr>\n",
       "    <tr>\n",
       "      <th>348256</th>\n",
       "      <td>onyx.box</td>\n",
       "      <td>1.678334e+02</td>\n",
       "      <td>8</td>\n",
       "      <td>2</td>\n",
       "      <td>5</td>\n",
       "      <td>box</td>\n",
       "    </tr>\n",
       "  </tbody>\n",
       "</table>\n",
       "<p>348257 rows × 6 columns</p>\n",
       "</div>"
      ],
      "text/plain": [
       "               domain         price  domain_length  num_vowels  \\\n",
       "0       altavista.com  3.250000e+06             13           5   \n",
       "1           bingo.com  1.100000e+06              9           3   \n",
       "2             fly.com  1.500000e+06              7           1   \n",
       "3           autos.com  2.200000e+06              9           4   \n",
       "4         england.com  2.000000e+06             11           3   \n",
       "...               ...           ...            ...         ...   \n",
       "348252       jane.box  1.151714e+03              8           3   \n",
       "348253         vm.box  3.148147e+04              6           1   \n",
       "348254        man.box  2.246046e+02              7           2   \n",
       "348255       good.box  3.146082e+02              8           3   \n",
       "348256       onyx.box  1.678334e+02              8           2   \n",
       "\n",
       "        num_consonants  tld  \n",
       "0                    7  com  \n",
       "1                    5  com  \n",
       "2                    5  com  \n",
       "3                    4  com  \n",
       "4                    7  com  \n",
       "...                ...  ...  \n",
       "348252               4  box  \n",
       "348253               4  box  \n",
       "348254               4  box  \n",
       "348255               4  box  \n",
       "348256               5  box  \n",
       "\n",
       "[348257 rows x 6 columns]"
      ]
     },
     "execution_count": 213,
     "metadata": {},
     "output_type": "execute_result"
    }
   ],
   "source": [
    "combined_data"
   ]
  },
  {
   "cell_type": "code",
   "execution_count": 214,
   "metadata": {},
   "outputs": [
    {
     "name": "stdout",
     "output_type": "stream",
     "text": [
      "MAE: 2708.9834718161696\n",
      "MSE: 2845754262.6555114\n",
      "R²: 0.0004163141819931715\n"
     ]
    }
   ],
   "source": [
    "X = combined_data[features]\n",
    "y = combined_data['price']\n",
    "\n",
    "X_train, X_test, y_train, y_test = train_test_split(X, y, test_size=0.2, random_state=42)\n",
    "\n",
    "pipeline.fit(X_train, y_train)\n",
    "\n",
    "y_pred = pipeline.predict(X_test)\n",
    "mae = mean_absolute_error(y_test, y_pred)\n",
    "mse = mean_squared_error(y_test, y_pred)\n",
    "r2 = r2_score(y_test, y_pred)\n",
    "\n",
    "print(f'MAE: {mae}')\n",
    "print(f'MSE: {mse}')\n",
    "print(f'R²: {r2}')\n"
   ]
  },
  {
   "cell_type": "code",
   "execution_count": 234,
   "metadata": {},
   "outputs": [],
   "source": [
    "def model_prep(data):\n",
    "    data['domain_length'] = data['domain'].apply(len)\n",
    "    data['num_vowels'] = data['domain'].apply(lambda x: sum([1 for char in x if char in 'aeiou']))\n",
    "    data['num_consonants'] = data['domain'].apply(lambda x: sum([1 for char in x if char.isalpha() and char not in 'aeiou']))\n",
    "    data['tld'] = data['domain'].apply(lambda x: x.split('.')[-1]) \n",
    "    return data"
   ]
  },
  {
   "cell_type": "code",
   "execution_count": 235,
   "metadata": {},
   "outputs": [],
   "source": [
    "def value_domain(domain):\n",
    "    domain_x = domain[features]\n",
    "    value = pipeline.predict(domain_x)\n",
    "    print(f'predicted value: {value[0]}')\n",
    "    return value[0] "
   ]
  },
  {
   "cell_type": "code",
   "execution_count": 244,
   "metadata": {},
   "outputs": [
    {
     "name": "stdout",
     "output_type": "stream",
     "text": [
      "predicted value: 2560.052986420118\n"
     ]
    }
   ],
   "source": [
    "test_domain = 'eth.box' ## for model, just have the person input before .box, have it automatically add .box\n",
    "test_domain_df = pd.DataFrame({'domain': [test_domain]})\n",
    "test_domain_processed = model_prep(test_domain_df)\n",
    "test_domain_value = value_domain(test_domain_processed)"
   ]
  },
  {
   "cell_type": "code",
   "execution_count": 239,
   "metadata": {},
   "outputs": [
    {
     "data": {
      "text/plain": [
       "2560.052986420118"
      ]
     },
     "execution_count": 239,
     "metadata": {},
     "output_type": "execute_result"
    }
   ],
   "source": [
    "test_domain_value"
   ]
  },
  {
   "cell_type": "code",
   "execution_count": null,
   "metadata": {},
   "outputs": [],
   "source": []
  }
 ],
 "metadata": {
  "kernelspec": {
   "display_name": "steth_optimizer",
   "language": "python",
   "name": "steth_optimizer"
  },
  "language_info": {
   "codemirror_mode": {
    "name": "ipython",
    "version": 3
   },
   "file_extension": ".py",
   "mimetype": "text/x-python",
   "name": "python",
   "nbconvert_exporter": "python",
   "pygments_lexer": "ipython3",
   "version": "3.11.9"
  }
 },
 "nbformat": 4,
 "nbformat_minor": 2
}
